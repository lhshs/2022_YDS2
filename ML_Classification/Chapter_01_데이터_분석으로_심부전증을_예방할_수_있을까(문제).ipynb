{
  "cells": [
    {
      "cell_type": "markdown",
      "metadata": {
        "id": "NqqLNJZjfi8U"
      },
      "source": [
        "# 주제 : 데이터 분석으로 심부전증을 예방할 수 있을까?\n",
        "----------\n",
        "\n",
        "## 실습 가이드\n",
        "    1. 데이터를 다운로드하여 Colab에 불러옵니다.\n",
        "    2. 필요한 라이브러리는 모두 코드로 작성되어 있습니다.\n",
        "    3. 코드는 위에서부터 아래로 순서대로 실행합니다.\n",
        "    \n",
        "    \n",
        "## 데이터 소개\n",
        "    - 이번 주제는 Heart Failure Prediction 데이터셋을 사용합니다.\n",
        "    \n",
        "    - 다음 1개의 csv 파일을 사용합니다.\n",
        "    heart_failure_clinical_records_dataset.csv\n",
        "    \n",
        "    - 각 파일의 컬럼은 아래와 같습니다.\n",
        "    age: 환자의 나이\n",
        "    anaemia: 환자의 빈혈증 여부 (0: 정상, 1: 빈혈)\n",
        "    creatinine_phosphokinase: 크레아틴키나제 검사 결과\n",
        "    diabetes: 당뇨병 여부 (0: 정상, 1: 당뇨)\n",
        "    ejection_fraction: 박출계수 (%)\n",
        "    high_blood_pressure: 고혈압 여부 (0: 정상, 1: 고혈압)\n",
        "    platelets: 혈소판 수 (kiloplatelets/mL)\n",
        "    serum_creatinine: 혈중 크레아틴 레벨 (mg/dL)\n",
        "    serum_sodium: 혈중 나트륨 레벨 (mEq/L)\n",
        "    sex: 성별 (0: 여성, 1: 남성)\n",
        "    smoking: 흡연 여부 (0: 비흡연, 1: 흡연)\n",
        "    time: 관찰 기간 (일)\n",
        "    DEATH_EVENT: 사망 여부 (0: 생존, 1: 사망)\n",
        "    \n",
        "    \n",
        "    \n",
        "- 데이터 출처: https://www.kaggle.com/andrewmvd/heart-failure-clinical-data\n",
        "\n",
        "\n",
        "## 최종 목표\n",
        "    - 의료 데이터와 그 분석에 대한 이해\n",
        "    - Colab 및 Pandas 라이브러리 사용법 이해\n",
        "    - 데이터 시각화를 통한 인사이트 습득 방법의 이해\n",
        "    - Scikit-learn 기반의 모델 학습 방법 습득\n",
        "    - Classification 모델의 학습과 평가 방법 이해\n",
        "\n",
        "- 출제자 : 신제용 강사\n",
        "---"
      ]
    },
    {
      "cell_type": "markdown",
      "metadata": {
        "id": "ODJVmYvIP3x-"
      },
      "source": [
        "## Step 0. 의료 데이터셋에 대하여"
      ]
    },
    {
      "cell_type": "markdown",
      "metadata": {
        "id": "c0iKTnLNsraM"
      },
      "source": [
        "### 의료 데이터의 수집\n"
      ]
    },
    {
      "cell_type": "markdown",
      "metadata": {
        "id": "cxZwPnfms0-9"
      },
      "source": [
        "### 의료 데이터 분석의 현재\n"
      ]
    },
    {
      "cell_type": "markdown",
      "metadata": {
        "id": "XEcB6i1os0y_"
      },
      "source": [
        "### Accuracy, Precision, 그리고 Recall"
      ]
    },
    {
      "cell_type": "markdown",
      "metadata": {
        "id": "IRssoNrgP7So"
      },
      "source": [
        "## Step 1. 데이터셋 준비하기"
      ]
    },
    {
      "cell_type": "code",
      "execution_count": null,
      "metadata": {
        "id": "g49RuFGrBvt7"
      },
      "outputs": [],
      "source": [
        "import pandas as pd\n",
        "import numpy as np\n",
        "import matplotlib.pyplot as plt\n",
        "import seaborn as sns"
      ]
    },
    {
      "cell_type": "markdown",
      "metadata": {
        "id": "paInbv8Ys-Qy"
      },
      "source": [
        "### 문제 1. Colab Notebook에 Kaggle API 세팅하기\n"
      ]
    },
    {
      "cell_type": "code",
      "execution_count": null,
      "metadata": {
        "id": "RRXGYV60B7FX"
      },
      "outputs": [],
      "source": [
        "import os"
      ]
    },
    {
      "cell_type": "code",
      "execution_count": null,
      "metadata": {
        "id": "mMKFOC0OBtHO"
      },
      "outputs": [],
      "source": [
        "# os.environ을 이용하여 Kaggle API Username, Key 세팅하기\n",
        "\n",
        "os.environ['KAGGLE_USERNAME'] = 'lhsssss'\n",
        "os.environ['KAGGLE_KEY'] = 'de4ef1184faf567a891bc8e75c755641'\n"
      ]
    },
    {
      "cell_type": "markdown",
      "metadata": {
        "id": "zvbeoB_WtBi-"
      },
      "source": [
        "### 문제 2. 데이터 다운로드 및 압축 해제하기\n"
      ]
    },
    {
      "cell_type": "code",
      "execution_count": null,
      "metadata": {
        "colab": {
          "background_save": true,
          "base_uri": "https://localhost:8080/"
        },
        "id": "JSblp2NsCGbh",
        "outputId": "4752380d-2859-488d-a7f7-adec92f59947"
      },
      "outputs": [
        {
          "name": "stdout",
          "output_type": "stream",
          "text": [
            "heart-failure-clinical-data.zip: Skipping, found more recently modified local copy (use --force to force download)\n",
            "Archive:  heart-failure-clinical-data.zip\n",
            "replace heart_failure_clinical_records_dataset.csv? [y]es, [n]o, [A]ll, [N]one, [r]ename: "
          ]
        }
      ],
      "source": [
        "# Linux 명령어로 Kaggle API를 이용하여 데이터셋 다운로드하기 (!kaggle ~)\n",
        "# Linux 명령어로 압축 해제하기\n",
        "\n",
        "!kaggle datasets download -d andrewmvd/heart-failure-clinical-data\n",
        "!unzip '*.zip'"
      ]
    },
    {
      "cell_type": "code",
      "execution_count": null,
      "metadata": {
        "colab": {
          "base_uri": "https://localhost:8080/"
        },
        "id": "WB3RH4KVk8ab",
        "outputId": "d0a4fb88-a192-4b43-94cc-9067c4d47d9f"
      },
      "outputs": [
        {
          "name": "stdout",
          "output_type": "stream",
          "text": [
            "heart-failure-clinical-data.zip\t\t    sample_data\n",
            "heart_failure_clinical_records_dataset.csv\n"
          ]
        }
      ],
      "source": [
        "!ls"
      ]
    },
    {
      "cell_type": "markdown",
      "metadata": {
        "id": "aJ34SovLtFI8"
      },
      "source": [
        "### 문제 3. Pandas 라이브러리로 csv파일 읽어들이기\n"
      ]
    },
    {
      "cell_type": "code",
      "execution_count": null,
      "metadata": {
        "id": "RnJv-4YwCMSx"
      },
      "outputs": [],
      "source": [
        "# pd.read_csv()로 csv파일 읽어들이기\n",
        "df = pd.read_csv('/content/heart_failure_clinical_records_dataset.csv')"
      ]
    },
    {
      "cell_type": "markdown",
      "metadata": {
        "id": "9L3BNVM7tHN5"
      },
      "source": [
        "## Step 2. EDA 및 데이터 기초 통계 분석\n"
      ]
    },
    {
      "cell_type": "markdown",
      "metadata": {
        "id": "HyFm33tNtVn7"
      },
      "source": [
        "### 문제 4. 데이터프레임의 각 컬럼 분석하기\n"
      ]
    },
    {
      "cell_type": "code",
      "execution_count": null,
      "metadata": {
        "id": "YcR9BX23DIFW"
      },
      "outputs": [],
      "source": [
        "# DataFrame에서 제공하는 메소드를 이용하여 컬럼 분석하기 (head(), info(), describe())\n",
        "\n",
        "# df.head()\n",
        "# df.info()\n",
        "# df.describe()\n",
        "df"
      ]
    },
    {
      "cell_type": "markdown",
      "metadata": {
        "id": "mVZ1T2w1K5tj"
      },
      "source": [
        "age - 나이\n",
        "</br> anaemia - 빈혈\n",
        "</br> creatinine_phosphokinase - 크레아틴 인산화효소\n",
        "</br> diabetes - 당뇨\n",
        "</br> ejection_fraction - 박출계수\n",
        "</br> high_blood_pressure - 고혈압\n",
        "</br> platelets - 혈소판\n",
        "</br> serum_creatinine - 혈청 크레아티닌 (검사 결과 볼 때 필요한 것)\n",
        "</br> serum_sodium - 혈청 소듐, 소듐 = 나트륨\n",
        "</br> sex - 성별\n",
        "</br> smoking - 흡연 여부\n",
        "</br> time - 시간?\n",
        "</br> DEATH_EVENT - 죽었니 살았니\n"
      ]
    },
    {
      "cell_type": "markdown",
      "metadata": {
        "id": "HGHvPwkNtXgj"
      },
      "source": [
        "### 문제 5. 수치형 데이터의 히스토그램 그리기\n"
      ]
    },
    {
      "cell_type": "code",
      "execution_count": null,
      "metadata": {
        "id": "GZXSBFPyDh6R"
      },
      "outputs": [],
      "source": [
        "# seaborn의 histplot, jointplot, pairplot을 이용해 히스토그램 그리기\n",
        "\n",
        "\n",
        "sns.histplot(data=df, x = 'anaemia')\n",
        "# sns.jointplot(data=df)\n",
        "# sns.pairplot(data=df)"
      ]
    },
    {
      "cell_type": "markdown",
      "metadata": {
        "id": "KywGh9sjtYl9"
      },
      "source": [
        "### 문제 6. Boxplot 계열을 이용하여 범주별 통계 확인하기\n"
      ]
    },
    {
      "cell_type": "code",
      "execution_count": null,
      "metadata": {
        "id": "TqXkwW8JDxhH"
      },
      "outputs": [],
      "source": [
        "# seaborn의 Boxplot 계열(boxplot(), violinplot(), swarmplot())을 사용\n",
        "# Hint) hue 키워드를 사용하여 범주 세분화 가능\n",
        "\n",
        "sns.boxplot(data=df, hue='sex')\n",
        "\n"
      ]
    },
    {
      "cell_type": "markdown",
      "metadata": {
        "id": "GD18QuastZy8"
      },
      "source": [
        "## Step 3. 모델 학습을 위한 데이터 전처리\n"
      ]
    },
    {
      "cell_type": "markdown",
      "metadata": {
        "id": "Dev2yLeMta85"
      },
      "source": [
        "### 문제 7. StandardScaler를 이용하여 데이터 전처리하기\n"
      ]
    },
    {
      "cell_type": "code",
      "execution_count": null,
      "metadata": {
        "id": "8P7qVd6yEk3v"
      },
      "outputs": [],
      "source": [
        "from sklearn.preprocessing import StandardScaler"
      ]
    },
    {
      "cell_type": "code",
      "execution_count": null,
      "metadata": {
        "id": "wZUdkt0lEndT"
      },
      "outputs": [],
      "source": [
        "# 수치형 입력 데이터, 범주형 입력 데이터, 출력 데이터로 구분하기\n",
        "X_num = \n",
        "X_cat = \n",
        "y = "
      ]
    },
    {
      "cell_type": "code",
      "execution_count": null,
      "metadata": {
        "id": "W3EO22NCE3wG"
      },
      "outputs": [],
      "source": [
        "# 수치형 입력 데이터를 전처리하고 입력 데이터 통합하기\n",
        "scaler =\n",
        "X = "
      ]
    },
    {
      "cell_type": "markdown",
      "metadata": {
        "id": "x93Tb6lptcA2"
      },
      "source": [
        "### 문제 8. 학습데이터와 테스트데이터 분리하기\n"
      ]
    },
    {
      "cell_type": "code",
      "execution_count": null,
      "metadata": {
        "id": "C9kMQI8SEche"
      },
      "outputs": [],
      "source": [
        "from sklearn.model_selection import train_test_split"
      ]
    },
    {
      "cell_type": "code",
      "execution_count": null,
      "metadata": {
        "id": "F07QjOFwFNEw"
      },
      "outputs": [],
      "source": [
        "# train_test_split() 함수로 학습 데이터와 테스트 데이터 분리하기\n",
        "X_train, X_test, y_train, y_test = "
      ]
    },
    {
      "cell_type": "markdown",
      "metadata": {
        "id": "DTqb-HqPtc4I"
      },
      "source": [
        "## Step 4. Classification 모델 학습하기\n"
      ]
    },
    {
      "cell_type": "markdown",
      "metadata": {
        "id": "Ckexl202tmZI"
      },
      "source": [
        "### 문제 9. Logistic Regression 모델 생성/학습하기\n"
      ]
    },
    {
      "cell_type": "code",
      "execution_count": null,
      "metadata": {
        "id": "2Wt_0AdNFfbN"
      },
      "outputs": [],
      "source": [
        "from sklearn.linear_model import LogisticRegression"
      ]
    },
    {
      "cell_type": "code",
      "execution_count": null,
      "metadata": {
        "id": "1lM57a_8Fdbh"
      },
      "outputs": [],
      "source": [
        "# LogisticRegression 모델 생성/학습\n",
        "model_lr = \n",
        "\n",
        "\n"
      ]
    },
    {
      "cell_type": "markdown",
      "metadata": {
        "id": "APOI7Hc9tnvr"
      },
      "source": [
        "### 문제 10. 모델 학습 결과 평가하기\n"
      ]
    },
    {
      "cell_type": "code",
      "execution_count": null,
      "metadata": {
        "id": "2lIoyMjFFrif"
      },
      "outputs": [],
      "source": [
        "from sklearn.metrics import classification_report"
      ]
    },
    {
      "cell_type": "code",
      "execution_count": null,
      "metadata": {
        "id": "1dD9JnN-FnpC"
      },
      "outputs": [],
      "source": [
        "# Predict를 수행하고 classification_report() 결과 출력하기\n",
        "pred = \n",
        "\n",
        "\n"
      ]
    },
    {
      "cell_type": "markdown",
      "metadata": {
        "id": "xTRTOLTNto3h"
      },
      "source": [
        "### 문제 11. XGBoost 모델 생성/학습하기\n"
      ]
    },
    {
      "cell_type": "code",
      "execution_count": null,
      "metadata": {
        "id": "ow28ZRL4F7D5"
      },
      "outputs": [],
      "source": [
        "from xgboost import XGBClassifier"
      ]
    },
    {
      "cell_type": "code",
      "execution_count": null,
      "metadata": {
        "id": "LSSNqFUrGM6R"
      },
      "outputs": [],
      "source": [
        "# XGBClassifier 모델 생성/학습\n",
        "model_xgb = \n",
        "\n",
        "\n"
      ]
    },
    {
      "cell_type": "markdown",
      "metadata": {
        "id": "kAisZoSEtp35"
      },
      "source": [
        "### 문제 12. 모델 학습 결과 평가하기\n"
      ]
    },
    {
      "cell_type": "code",
      "execution_count": null,
      "metadata": {
        "id": "WLnyYNJwGRgd"
      },
      "outputs": [],
      "source": [
        "# Predict를 수행하고 classification_report() 결과 출력하기\n",
        "pred = \n",
        "\n",
        "\n"
      ]
    },
    {
      "cell_type": "markdown",
      "metadata": {
        "id": "3A7Ghq67tqsM"
      },
      "source": [
        "### 문제 13. 특징의 중요도 확인하기\n"
      ]
    },
    {
      "cell_type": "code",
      "execution_count": null,
      "metadata": {
        "id": "1Fo6x7b7GU1W"
      },
      "outputs": [],
      "source": [
        "# XGBClassifier 모델의 feature_importances_를 이용하여 중요도 plot\n",
        "\n",
        "\n",
        "\n"
      ]
    },
    {
      "cell_type": "markdown",
      "metadata": {
        "id": "7icVVlSwtr53"
      },
      "source": [
        "## Step5 모델 학습 결과 심화 분석하기\n"
      ]
    },
    {
      "cell_type": "markdown",
      "metadata": {
        "id": "LmaEIOOItvJa"
      },
      "source": [
        "### 문제 14. Precision-Recall 커브 확인하기"
      ]
    },
    {
      "cell_type": "code",
      "execution_count": null,
      "metadata": {
        "id": "nmgLWL84Gji6"
      },
      "outputs": [],
      "source": [
        "from sklearn.metrics import plot_precision_recall_curve"
      ]
    },
    {
      "cell_type": "code",
      "execution_count": null,
      "metadata": {
        "id": "BUIXk9RNGnRa"
      },
      "outputs": [],
      "source": [
        "# 두 모델의 Precision-Recall 커브를 한번에 그리기 (힌트: fig.gca()로 ax를 반환받아 사용)\n",
        "\n",
        "\n",
        "\n"
      ]
    },
    {
      "cell_type": "markdown",
      "metadata": {
        "id": "5yIbQKjktuwg"
      },
      "source": [
        "### 문제 15. ROC 커브 확인하기"
      ]
    },
    {
      "cell_type": "code",
      "execution_count": null,
      "metadata": {
        "id": "kZKXWpKOGmXf"
      },
      "outputs": [],
      "source": [
        "from sklearn.metrics import plot_roc_curve"
      ]
    },
    {
      "cell_type": "code",
      "execution_count": null,
      "metadata": {
        "id": "3bY4SZZ4HBdN"
      },
      "outputs": [],
      "source": [
        "# 두 모델의 ROC 커브를 한번에 그리기 (힌트: fig.gca()로 ax를 반환받아 사용)\n",
        "\n",
        "\n",
        "\n"
      ]
    }
  ],
  "metadata": {
    "colab": {
      "collapsed_sections": [
        "cxZwPnfms0-9"
      ],
      "provenance": []
    },
    "kernelspec": {
      "display_name": "Python 3",
      "language": "python",
      "name": "python3"
    },
    "language_info": {
      "codemirror_mode": {
        "name": "ipython",
        "version": 3
      },
      "file_extension": ".py",
      "mimetype": "text/x-python",
      "name": "python",
      "nbconvert_exporter": "python",
      "pygments_lexer": "ipython3",
      "version": "3.7.7"
    }
  },
  "nbformat": 4,
  "nbformat_minor": 0
}