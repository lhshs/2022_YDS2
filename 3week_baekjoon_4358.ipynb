{
 "cells": [
  {
   "cell_type": "markdown",
   "id": "1b958582",
   "metadata": {},
   "source": [
    "## 나의 풀이"
   ]
  },
  {
   "cell_type": "markdown",
   "id": "51e62502",
   "metadata": {},
   "source": [
    "- 사전순 출력이면 sorted, sort 관련 메소드를 활용할 것 같다\n",
    "- 백분율 4째자리 반올림이면, format 함수? %f 그거 사용하면 될 것 같다\n",
    "- 전체 나무 중에 해당 나무의 비율을 구하라"
   ]
  },
  {
   "cell_type": "code",
   "execution_count": 39,
   "id": "87fa9666",
   "metadata": {
    "ExecuteTime": {
     "end_time": "2022-08-19T08:08:17.756583Z",
     "start_time": "2022-08-19T08:08:17.733968Z"
    }
   },
   "outputs": [],
   "source": [
    "import sys, io\n",
    "file = open(\"inputs.txt\", 'w')\n",
    "# 다음 데이터에 그대로 여러 데이터를 복사붙여넣기 하면 됨\n",
    "data = \"\"\"Red Alder\n",
    "Ash\n",
    "Aspen\n",
    "Basswood\n",
    "Ash\n",
    "Beech\n",
    "Yellow Birch\n",
    "Ash\n",
    "Cherry\n",
    "Cottonwood\n",
    "Ash\n",
    "Cypress\n",
    "Red Elm\n",
    "Gum\n",
    "Hackberry\n",
    "White Oak\n",
    "Hickory\n",
    "Pecan\n",
    "Hard Maple\n",
    "White Oak\n",
    "Soft Maple\n",
    "Red Oak\n",
    "Red Oak\n",
    "White Oak\n",
    "Poplan\n",
    "Sassafras\n",
    "Sycamore\n",
    "Black Walnut\n",
    "Willow\n",
    "\"\"\"\n",
    "file.write(data)\n",
    "file.close()\n",
    "input_file = open(\"inputs.txt\", \"r\") \n",
    "sys.stdin = io.StringIO(input_file.read())"
   ]
  },
  {
   "cell_type": "markdown",
   "id": "2e3ea1cc",
   "metadata": {},
   "source": [
    "리스트의 빈도수를 구하기 위해 구글링을 해보니 counter라는 모듈이 있다 (공부 했던것 같기도..) 내장 모듈인듯 한데 사용해도 되는건가..?"
   ]
  },
  {
   "cell_type": "markdown",
   "id": "1285939f",
   "metadata": {},
   "source": [
    "counter를 활용해서 나온 value값 / len(all_tree) 하면 될 것 같은데.."
   ]
  },
  {
   "cell_type": "markdown",
   "id": "53bc800d",
   "metadata": {},
   "source": [
    "counter dict를 활용해서 해당 input 값의 value에 접근"
   ]
  },
  {
   "cell_type": "code",
   "execution_count": null,
   "id": "e356eb81",
   "metadata": {},
   "outputs": [],
   "source": [
    "import sys\n",
    "from collections import Counter\n",
    "input = sys.stdin.readline\n",
    "\n",
    "all_tree = collections.Counter(input())\n",
    "\n",
    "print(all_tree all_tree[input().strip()] / len(input())\n",
    "\n",
    "print(all_tree.sorted)\n",
    "\n"
   ]
  },
  {
   "cell_type": "code",
   "execution_count": 4,
   "id": "d3bb20ba",
   "metadata": {
    "ExecuteTime": {
     "end_time": "2022-08-19T08:40:42.530057Z",
     "start_time": "2022-08-19T08:40:42.517126Z"
    }
   },
   "outputs": [
    {
     "data": {
      "text/plain": [
       "5"
      ]
     },
     "execution_count": 4,
     "metadata": {},
     "output_type": "execute_result"
    }
   ],
   "source": [
    "import collections\n",
    "ex_list = ['kim', 'kim', 'park', 'choi', 'kim', 'kim', 'kim', 'choi', 'park', 'choi']\n",
    "ex_counter = collections.Counter(ex_list)\n",
    "ex_counter['kim']"
   ]
  },
  {
   "cell_type": "markdown",
   "id": "ea231f74",
   "metadata": {},
   "source": [
    "## 풀이"
   ]
  },
  {
   "cell_type": "code",
   "execution_count": null,
   "id": "ab89f02b",
   "metadata": {},
   "outputs": [],
   "source": [
    "import sys\n",
    "from collections import defaultdict\n",
    "input = sys.stdin.readline\n",
    " \n",
    "tree = defaultdict(int)\n",
    "cnt = 0\n",
    "while True:\n",
    "    name = input().rstrip()\n",
    "    if name == \"\":\n",
    "        break\n",
    "    tree[name] += 1\n",
    "    cnt += 1\n",
    "tname = list(tree.keys())\n",
    "tname.sort()\n",
    " \n",
    "for n in tname:\n",
    "    print(\"%s %.4f\" % (n, tree[n]*100/cnt))\n"
   ]
  },
  {
   "cell_type": "markdown",
   "id": "7a720d53",
   "metadata": {},
   "source": [
    "처음? 보는 defaultdict 등장.."
   ]
  },
  {
   "cell_type": "code",
   "execution_count": null,
   "id": "c8dff637",
   "metadata": {},
   "outputs": [],
   "source": []
  }
 ],
 "metadata": {
  "kernelspec": {
   "display_name": "Python 3 (ipykernel)",
   "language": "python",
   "name": "python3"
  },
  "language_info": {
   "codemirror_mode": {
    "name": "ipython",
    "version": 3
   },
   "file_extension": ".py",
   "mimetype": "text/x-python",
   "name": "python",
   "nbconvert_exporter": "python",
   "pygments_lexer": "ipython3",
   "version": "3.8.13"
  }
 },
 "nbformat": 4,
 "nbformat_minor": 5
}
