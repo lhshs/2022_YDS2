{
 "cells": [
  {
   "cell_type": "code",
   "execution_count": 1,
   "id": "bf964671",
   "metadata": {
    "ExecuteTime": {
     "end_time": "2022-08-04T05:49:05.699025Z",
     "start_time": "2022-08-04T05:49:03.678574Z"
    },
    "executionInfo": {
     "elapsed": 3282,
     "status": "ok",
     "timestamp": 1659581892793,
     "user": {
      "displayName": "hs L",
      "userId": "04521576200392151172"
     },
     "user_tz": -540
    },
    "id": "bf964671"
   },
   "outputs": [],
   "source": [
    "import pandas as pd\n",
    "import numpy as np\n",
    "import matplotlib.pyplot as plt\n",
    "import re\n",
    "import urllib.request\n",
    "from konlpy.tag import Okt\n",
    "from tqdm import tqdm\n",
    "from tensorflow.keras.preprocessing.text import Tokenizer\n",
    "from tensorflow.keras.preprocessing.sequence import pad_sequences\n",
    "\n",
    "from sklearn.model_selection import train_test_split\n",
    "\n",
    "import pickle"
   ]
  },
  {
   "cell_type": "code",
   "execution_count": 2,
   "id": "wZoMc8Wmi0UB",
   "metadata": {
    "ExecuteTime": {
     "end_time": "2022-08-04T05:49:05.701579Z",
     "start_time": "2022-08-04T05:49:05.700209Z"
    },
    "executionInfo": {
     "elapsed": 19,
     "status": "ok",
     "timestamp": 1659581892793,
     "user": {
      "displayName": "hs L",
      "userId": "04521576200392151172"
     },
     "user_tz": -540
    },
    "id": "wZoMc8Wmi0UB"
   },
   "outputs": [],
   "source": [
    "# !pip install pickle"
   ]
  },
  {
   "cell_type": "markdown",
   "id": "3de1a59c",
   "metadata": {
    "id": "3de1a59c"
   },
   "source": [
    "# 1. 데이터 이해 및 전처리"
   ]
  },
  {
   "cell_type": "code",
   "execution_count": 3,
   "id": "8e571d43",
   "metadata": {
    "ExecuteTime": {
     "end_time": "2022-08-04T05:49:12.189843Z",
     "start_time": "2022-08-04T05:49:05.702349Z"
    },
    "executionInfo": {
     "elapsed": 24557,
     "status": "ok",
     "timestamp": 1659581917332,
     "user": {
      "displayName": "hs L",
      "userId": "04521576200392151172"
     },
     "user_tz": -540
    },
    "id": "8e571d43"
   },
   "outputs": [],
   "source": [
    "df = pd.read_csv('df_labeled.csv', index_col = 0).drop_duplicates()"
   ]
  },
  {
   "cell_type": "code",
   "execution_count": 4,
   "id": "95702b9f",
   "metadata": {
    "ExecuteTime": {
     "end_time": "2022-08-04T05:49:12.199043Z",
     "start_time": "2022-08-04T05:49:12.191343Z"
    },
    "colab": {
     "base_uri": "https://localhost:8080/",
     "height": 424
    },
    "executionInfo": {
     "elapsed": 17,
     "status": "ok",
     "timestamp": 1659581917333,
     "user": {
      "displayName": "hs L",
      "userId": "04521576200392151172"
     },
     "user_tz": -540
    },
    "id": "95702b9f",
    "outputId": "65b9f06d-8044-4e45-de65-f34ce4b616c6"
   },
   "outputs": [
    {
     "data": {
      "text/html": [
       "<div>\n",
       "<style scoped>\n",
       "    .dataframe tbody tr th:only-of-type {\n",
       "        vertical-align: middle;\n",
       "    }\n",
       "\n",
       "    .dataframe tbody tr th {\n",
       "        vertical-align: top;\n",
       "    }\n",
       "\n",
       "    .dataframe thead th {\n",
       "        text-align: right;\n",
       "    }\n",
       "</style>\n",
       "<table border=\"1\" class=\"dataframe\">\n",
       "  <thead>\n",
       "    <tr style=\"text-align: right;\">\n",
       "      <th></th>\n",
       "      <th>Press</th>\n",
       "      <th>Date</th>\n",
       "      <th>Title</th>\n",
       "      <th>Change</th>\n",
       "    </tr>\n",
       "  </thead>\n",
       "  <tbody>\n",
       "    <tr>\n",
       "      <th>0</th>\n",
       "      <td>연합뉴스</td>\n",
       "      <td>1998-05-20</td>\n",
       "      <td>주가 사흘째 상승세</td>\n",
       "      <td>0</td>\n",
       "    </tr>\n",
       "    <tr>\n",
       "      <th>1</th>\n",
       "      <td>연합뉴스</td>\n",
       "      <td>1998-05-20</td>\n",
       "      <td>아남텔레콤, PDA 데이터 전송서비스 개시</td>\n",
       "      <td>0</td>\n",
       "    </tr>\n",
       "    <tr>\n",
       "      <th>2</th>\n",
       "      <td>연합뉴스</td>\n",
       "      <td>1998-05-20</td>\n",
       "      <td>&lt;회전목마&gt; 삼성전자, 사이버 사외보 제작</td>\n",
       "      <td>0</td>\n",
       "    </tr>\n",
       "    <tr>\n",
       "      <th>3</th>\n",
       "      <td>연합뉴스</td>\n",
       "      <td>1998-05-20</td>\n",
       "      <td>&lt;주식시황&gt; 사흘째 상승, 3백70선 다가서</td>\n",
       "      <td>0</td>\n",
       "    </tr>\n",
       "    <tr>\n",
       "      <th>4</th>\n",
       "      <td>연합뉴스</td>\n",
       "      <td>1998-05-20</td>\n",
       "      <td>-춘계승마- 신창무,싼졸쥬마장마술 우승</td>\n",
       "      <td>0</td>\n",
       "    </tr>\n",
       "    <tr>\n",
       "      <th>...</th>\n",
       "      <td>...</td>\n",
       "      <td>...</td>\n",
       "      <td>...</td>\n",
       "      <td>...</td>\n",
       "    </tr>\n",
       "    <tr>\n",
       "      <th>3851965</th>\n",
       "      <td>한국경제</td>\n",
       "      <td>2022-07-21</td>\n",
       "      <td>디지털이미지뱅크, 한투등 3개사서 20억원 투자 유치</td>\n",
       "      <td>1</td>\n",
       "    </tr>\n",
       "    <tr>\n",
       "      <th>3851966</th>\n",
       "      <td>한국경제</td>\n",
       "      <td>2022-07-21</td>\n",
       "      <td>[코스닥공시] 세보기계</td>\n",
       "      <td>1</td>\n",
       "    </tr>\n",
       "    <tr>\n",
       "      <th>3851967</th>\n",
       "      <td>한국경제</td>\n",
       "      <td>2022-07-21</td>\n",
       "      <td>전자.통신업체 신용등급도 급상승세</td>\n",
       "      <td>1</td>\n",
       "    </tr>\n",
       "    <tr>\n",
       "      <th>3851968</th>\n",
       "      <td>한국경제</td>\n",
       "      <td>2022-07-21</td>\n",
       "      <td>종합주가 폭락세, 916.01(-37.21) 전장마감</td>\n",
       "      <td>1</td>\n",
       "    </tr>\n",
       "    <tr>\n",
       "      <th>3851969</th>\n",
       "      <td>한국경제</td>\n",
       "      <td>2022-07-21</td>\n",
       "      <td>산자부, 수치제어장치 산.학.연 공동연구 개발에 성공</td>\n",
       "      <td>1</td>\n",
       "    </tr>\n",
       "  </tbody>\n",
       "</table>\n",
       "<p>3675955 rows × 4 columns</p>\n",
       "</div>"
      ],
      "text/plain": [
       "        Press        Date                           Title  Change\n",
       "0        연합뉴스  1998-05-20                     주가 사흘째 상승세        0\n",
       "1        연합뉴스  1998-05-20        아남텔레콤, PDA 데이터 전송서비스 개시        0\n",
       "2        연합뉴스  1998-05-20        <회전목마> 삼성전자, 사이버 사외보 제작        0\n",
       "3        연합뉴스  1998-05-20       <주식시황> 사흘째 상승, 3백70선 다가서        0\n",
       "4        연합뉴스  1998-05-20          -춘계승마- 신창무,싼졸쥬마장마술 우승        0\n",
       "...       ...         ...                             ...     ...\n",
       "3851965  한국경제  2022-07-21  디지털이미지뱅크, 한투등 3개사서 20억원 투자 유치        1\n",
       "3851966  한국경제  2022-07-21                   [코스닥공시] 세보기계        1\n",
       "3851967  한국경제  2022-07-21             전자.통신업체 신용등급도 급상승세        1\n",
       "3851968  한국경제  2022-07-21  종합주가 폭락세, 916.01(-37.21) 전장마감        1\n",
       "3851969  한국경제  2022-07-21  산자부, 수치제어장치 산.학.연 공동연구 개발에 성공        1\n",
       "\n",
       "[3675955 rows x 4 columns]"
      ]
     },
     "execution_count": 4,
     "metadata": {},
     "output_type": "execute_result"
    }
   ],
   "source": [
    "df # = df.groupby(['Date', 'Press'])['Title', 'Change'].mean()"
   ]
  },
  {
   "cell_type": "code",
   "execution_count": 5,
   "id": "94qbcryyx_QN",
   "metadata": {
    "ExecuteTime": {
     "end_time": "2022-08-04T05:49:13.562902Z",
     "start_time": "2022-08-04T05:49:12.199891Z"
    },
    "executionInfo": {
     "elapsed": 3779,
     "status": "ok",
     "timestamp": 1659581960095,
     "user": {
      "displayName": "hs L",
      "userId": "04521576200392151172"
     },
     "user_tz": -540
    },
    "id": "94qbcryyx_QN"
   },
   "outputs": [
    {
     "data": {
      "text/html": [
       "<div>\n",
       "<style scoped>\n",
       "    .dataframe tbody tr th:only-of-type {\n",
       "        vertical-align: middle;\n",
       "    }\n",
       "\n",
       "    .dataframe tbody tr th {\n",
       "        vertical-align: top;\n",
       "    }\n",
       "\n",
       "    .dataframe thead th {\n",
       "        text-align: right;\n",
       "    }\n",
       "</style>\n",
       "<table border=\"1\" class=\"dataframe\">\n",
       "  <thead>\n",
       "    <tr style=\"text-align: right;\">\n",
       "      <th></th>\n",
       "      <th>Press</th>\n",
       "      <th>Date</th>\n",
       "      <th>Title</th>\n",
       "      <th>Change</th>\n",
       "    </tr>\n",
       "  </thead>\n",
       "  <tbody>\n",
       "    <tr>\n",
       "      <th>0</th>\n",
       "      <td>연합뉴스</td>\n",
       "      <td>1998-05-20</td>\n",
       "      <td>주가 사흘째 상승세</td>\n",
       "      <td>0</td>\n",
       "    </tr>\n",
       "    <tr>\n",
       "      <th>1</th>\n",
       "      <td>연합뉴스</td>\n",
       "      <td>1998-05-20</td>\n",
       "      <td>아남텔레콤, PDA 데이터 전송서비스 개시</td>\n",
       "      <td>0</td>\n",
       "    </tr>\n",
       "    <tr>\n",
       "      <th>2</th>\n",
       "      <td>연합뉴스</td>\n",
       "      <td>1998-05-20</td>\n",
       "      <td>&lt;회전목마&gt; 삼성전자, 사이버 사외보 제작</td>\n",
       "      <td>0</td>\n",
       "    </tr>\n",
       "    <tr>\n",
       "      <th>3</th>\n",
       "      <td>연합뉴스</td>\n",
       "      <td>1998-05-20</td>\n",
       "      <td>&lt;주식시황&gt; 사흘째 상승, 3백70선 다가서</td>\n",
       "      <td>0</td>\n",
       "    </tr>\n",
       "    <tr>\n",
       "      <th>4</th>\n",
       "      <td>연합뉴스</td>\n",
       "      <td>1998-05-20</td>\n",
       "      <td>-춘계승마- 신창무,싼졸쥬마장마술 우승</td>\n",
       "      <td>0</td>\n",
       "    </tr>\n",
       "    <tr>\n",
       "      <th>...</th>\n",
       "      <td>...</td>\n",
       "      <td>...</td>\n",
       "      <td>...</td>\n",
       "      <td>...</td>\n",
       "    </tr>\n",
       "    <tr>\n",
       "      <th>3849112</th>\n",
       "      <td>연합뉴스</td>\n",
       "      <td>2022-07-19</td>\n",
       "      <td>상장법인 지적재산권 보유규모 2천7백66억원</td>\n",
       "      <td>-1</td>\n",
       "    </tr>\n",
       "    <tr>\n",
       "      <th>3849114</th>\n",
       "      <td>연합뉴스</td>\n",
       "      <td>2022-07-19</td>\n",
       "      <td>&lt;비망록&gt; 박세리 특집방송 방영한 삼성</td>\n",
       "      <td>-1</td>\n",
       "    </tr>\n",
       "    <tr>\n",
       "      <th>3849115</th>\n",
       "      <td>연합뉴스</td>\n",
       "      <td>2022-07-19</td>\n",
       "      <td>&lt;확대경&gt; 업계,`16'이용 마케팅 활발</td>\n",
       "      <td>-1</td>\n",
       "    </tr>\n",
       "    <tr>\n",
       "      <th>3849117</th>\n",
       "      <td>연합뉴스</td>\n",
       "      <td>2022-07-19</td>\n",
       "      <td>주요 대기업 상반기 공채 부분재개할 듯</td>\n",
       "      <td>-1</td>\n",
       "    </tr>\n",
       "    <tr>\n",
       "      <th>3849118</th>\n",
       "      <td>연합뉴스</td>\n",
       "      <td>2022-07-19</td>\n",
       "      <td>&lt;체육&gt; 삼성전자, 아시안게임 후원업체 선정</td>\n",
       "      <td>-1</td>\n",
       "    </tr>\n",
       "  </tbody>\n",
       "</table>\n",
       "<p>2875888 rows × 4 columns</p>\n",
       "</div>"
      ],
      "text/plain": [
       "        Press        Date                      Title  Change\n",
       "0        연합뉴스  1998-05-20                주가 사흘째 상승세        0\n",
       "1        연합뉴스  1998-05-20   아남텔레콤, PDA 데이터 전송서비스 개시        0\n",
       "2        연합뉴스  1998-05-20   <회전목마> 삼성전자, 사이버 사외보 제작        0\n",
       "3        연합뉴스  1998-05-20  <주식시황> 사흘째 상승, 3백70선 다가서        0\n",
       "4        연합뉴스  1998-05-20     -춘계승마- 신창무,싼졸쥬마장마술 우승        0\n",
       "...       ...         ...                        ...     ...\n",
       "3849112  연합뉴스  2022-07-19  상장법인 지적재산권 보유규모 2천7백66억원       -1\n",
       "3849114  연합뉴스  2022-07-19     <비망록> 박세리 특집방송 방영한 삼성       -1\n",
       "3849115  연합뉴스  2022-07-19    <확대경> 업계,`16'이용 마케팅 활발       -1\n",
       "3849117  연합뉴스  2022-07-19     주요 대기업 상반기 공채 부분재개할 듯       -1\n",
       "3849118  연합뉴스  2022-07-19  <체육> 삼성전자, 아시안게임 후원업체 선정       -1\n",
       "\n",
       "[2875888 rows x 4 columns]"
      ]
     },
     "execution_count": 5,
     "metadata": {},
     "output_type": "execute_result"
    }
   ],
   "source": [
    "df = df.drop_duplicates(['Title'])\n",
    "df"
   ]
  },
  {
   "cell_type": "code",
   "execution_count": 6,
   "id": "6ad8f335",
   "metadata": {
    "ExecuteTime": {
     "end_time": "2022-08-04T05:49:13.611946Z",
     "start_time": "2022-08-04T05:49:13.563894Z"
    },
    "executionInfo": {
     "elapsed": 1,
     "status": "ok",
     "timestamp": 1659582006631,
     "user": {
      "displayName": "hs L",
      "userId": "04521576200392151172"
     },
     "user_tz": -540
    },
    "id": "6ad8f335"
   },
   "outputs": [],
   "source": [
    "df = df.drop(columns=['Press'])"
   ]
  },
  {
   "cell_type": "code",
   "execution_count": 7,
   "id": "2eacad08",
   "metadata": {
    "ExecuteTime": {
     "end_time": "2022-08-04T05:49:14.470468Z",
     "start_time": "2022-08-04T05:49:13.612944Z"
    },
    "executionInfo": {
     "elapsed": 1439,
     "status": "ok",
     "timestamp": 1659581982816,
     "user": {
      "displayName": "hs L",
      "userId": "04521576200392151172"
     },
     "user_tz": -540
    },
    "id": "2eacad08"
   },
   "outputs": [],
   "source": [
    "df = df.replace({'Change',-1}, 0)"
   ]
  },
  {
   "cell_type": "code",
   "execution_count": 8,
   "id": "fd77f7ee",
   "metadata": {
    "ExecuteTime": {
     "end_time": "2022-08-04T05:49:16.556627Z",
     "start_time": "2022-08-04T05:49:14.471432Z"
    },
    "executionInfo": {
     "elapsed": 3,
     "status": "ok",
     "timestamp": 1659582009910,
     "user": {
      "displayName": "hs L",
      "userId": "04521576200392151172"
     },
     "user_tz": -540
    },
    "id": "fd77f7ee"
   },
   "outputs": [],
   "source": [
    "df = df.groupby(['Date','Change']).sum()"
   ]
  },
  {
   "cell_type": "code",
   "execution_count": 9,
   "id": "IiyjC0A2kxGC",
   "metadata": {
    "ExecuteTime": {
     "end_time": "2022-08-04T05:49:16.562382Z",
     "start_time": "2022-08-04T05:49:16.557480Z"
    },
    "colab": {
     "base_uri": "https://localhost:8080/",
     "height": 455
    },
    "executionInfo": {
     "elapsed": 4,
     "status": "ok",
     "timestamp": 1659582011300,
     "user": {
      "displayName": "hs L",
      "userId": "04521576200392151172"
     },
     "user_tz": -540
    },
    "id": "IiyjC0A2kxGC",
    "outputId": "bdf373ef-ff2b-4333-921a-570adf6250c0"
   },
   "outputs": [
    {
     "data": {
      "text/html": [
       "<div>\n",
       "<style scoped>\n",
       "    .dataframe tbody tr th:only-of-type {\n",
       "        vertical-align: middle;\n",
       "    }\n",
       "\n",
       "    .dataframe tbody tr th {\n",
       "        vertical-align: top;\n",
       "    }\n",
       "\n",
       "    .dataframe thead th {\n",
       "        text-align: right;\n",
       "    }\n",
       "</style>\n",
       "<table border=\"1\" class=\"dataframe\">\n",
       "  <thead>\n",
       "    <tr style=\"text-align: right;\">\n",
       "      <th></th>\n",
       "      <th></th>\n",
       "      <th>Title</th>\n",
       "    </tr>\n",
       "    <tr>\n",
       "      <th>Date</th>\n",
       "      <th>Change</th>\n",
       "      <th></th>\n",
       "    </tr>\n",
       "  </thead>\n",
       "  <tbody>\n",
       "    <tr>\n",
       "      <th>1998-05-20</th>\n",
       "      <th>0</th>\n",
       "      <td>주가 사흘째 상승세 아남텔레콤, PDA 데이터 전송서비스 개시 &lt;회전목마&gt; 삼성전자...</td>\n",
       "    </tr>\n",
       "    <tr>\n",
       "      <th>1998-05-21</th>\n",
       "      <th>0</th>\n",
       "      <td>주가 3백70선 회복 `반도체업체는 여전히 안정된 직장' 휴대형 입체영상 모니터 국...</td>\n",
       "    </tr>\n",
       "    <tr>\n",
       "      <th>1998-05-22</th>\n",
       "      <th>0</th>\n",
       "      <td>삼성디자인연구원, 전통유산 디자인 CD-롬 제작 주가 3백50대로 밀려 &lt;확대경&gt; ...</td>\n",
       "    </tr>\n",
       "    <tr>\n",
       "      <th>1998-05-23</th>\n",
       "      <th>0</th>\n",
       "      <td>주가 소폭 반등 전자업계, 컨테이너 운송비용 인상에 반발 &lt;주식시황&gt; 주가 사흘만에...</td>\n",
       "    </tr>\n",
       "    <tr>\n",
       "      <th>1998-05-25</th>\n",
       "      <th>0</th>\n",
       "      <td>한도폐지 첫날 주가 하락세 주가, 11년만에 최저치로 폭락</td>\n",
       "    </tr>\n",
       "    <tr>\n",
       "      <th>...</th>\n",
       "      <th>...</th>\n",
       "      <td>...</td>\n",
       "    </tr>\n",
       "    <tr>\n",
       "      <th>2022-07-15</th>\n",
       "      <th>1</th>\n",
       "      <td>발명의 날 기념 행사 개최 朴통산장관,무역수지 개선위한 업계 간담회 최우수 상장기업...</td>\n",
       "    </tr>\n",
       "    <tr>\n",
       "      <th>2022-07-16</th>\n",
       "      <th>1</th>\n",
       "      <td>회사채 수익률 다시 상승 12월결산법인 올해 순익 56%이상 감소 추정 삼성전자, ...</td>\n",
       "    </tr>\n",
       "    <tr>\n",
       "      <th>2022-07-17</th>\n",
       "      <th>1</th>\n",
       "      <td>安통산장관, 무역업계와 간담회 삼성전자, 인력재배치 작업 본격화 삼성전자,2백40만...</td>\n",
       "    </tr>\n",
       "    <tr>\n",
       "      <th>2022-07-18</th>\n",
       "      <th>1</th>\n",
       "      <td>불경기에도 자동차.화장품 광고는 활발 &lt;주식시황&gt; 주가, 큰 폭 상승 삼성전자 정보...</td>\n",
       "    </tr>\n",
       "    <tr>\n",
       "      <th>2022-07-19</th>\n",
       "      <th>0</th>\n",
       "      <td>반도체 업체들, 보따리장사로 골머리 주가 이틀째 급상승 三星電子, 세계 최경량 PC...</td>\n",
       "    </tr>\n",
       "  </tbody>\n",
       "</table>\n",
       "<p>8328 rows × 1 columns</p>\n",
       "</div>"
      ],
      "text/plain": [
       "                                                               Title\n",
       "Date       Change                                                   \n",
       "1998-05-20 0       주가 사흘째 상승세 아남텔레콤, PDA 데이터 전송서비스 개시 <회전목마> 삼성전자...\n",
       "1998-05-21 0       주가 3백70선 회복 `반도체업체는 여전히 안정된 직장' 휴대형 입체영상 모니터 국...\n",
       "1998-05-22 0       삼성디자인연구원, 전통유산 디자인 CD-롬 제작 주가 3백50대로 밀려 <확대경> ...\n",
       "1998-05-23 0       주가 소폭 반등 전자업계, 컨테이너 운송비용 인상에 반발 <주식시황> 주가 사흘만에...\n",
       "1998-05-25 0                       한도폐지 첫날 주가 하락세 주가, 11년만에 최저치로 폭락 \n",
       "...                                                              ...\n",
       "2022-07-15 1       발명의 날 기념 행사 개최 朴통산장관,무역수지 개선위한 업계 간담회 최우수 상장기업...\n",
       "2022-07-16 1       회사채 수익률 다시 상승 12월결산법인 올해 순익 56%이상 감소 추정 삼성전자, ...\n",
       "2022-07-17 1       安통산장관, 무역업계와 간담회 삼성전자, 인력재배치 작업 본격화 삼성전자,2백40만...\n",
       "2022-07-18 1       불경기에도 자동차.화장품 광고는 활발 <주식시황> 주가, 큰 폭 상승 삼성전자 정보...\n",
       "2022-07-19 0       반도체 업체들, 보따리장사로 골머리 주가 이틀째 급상승 三星電子, 세계 최경량 PC...\n",
       "\n",
       "[8328 rows x 1 columns]"
      ]
     },
     "execution_count": 9,
     "metadata": {},
     "output_type": "execute_result"
    }
   ],
   "source": [
    "df"
   ]
  },
  {
   "cell_type": "markdown",
   "id": "0cb9eb29",
   "metadata": {
    "id": "0cb9eb29"
   },
   "source": [
    "날짜와 변동을 기준으로 groupby"
   ]
  },
  {
   "cell_type": "code",
   "execution_count": 10,
   "id": "805d00c0",
   "metadata": {
    "ExecuteTime": {
     "end_time": "2022-08-04T05:49:16.566421Z",
     "start_time": "2022-08-04T05:49:16.564262Z"
    },
    "executionInfo": {
     "elapsed": 680,
     "status": "ok",
     "timestamp": 1659582023178,
     "user": {
      "displayName": "hs L",
      "userId": "04521576200392151172"
     },
     "user_tz": -540
    },
    "id": "805d00c0"
   },
   "outputs": [],
   "source": [
    "df=df.iloc[7:,:]    # '1995-05.28'일자부터 설정"
   ]
  },
  {
   "cell_type": "code",
   "execution_count": 11,
   "id": "509505d3",
   "metadata": {
    "ExecuteTime": {
     "end_time": "2022-08-04T05:49:16.573243Z",
     "start_time": "2022-08-04T05:49:16.567696Z"
    },
    "colab": {
     "base_uri": "https://localhost:8080/",
     "height": 424
    },
    "executionInfo": {
     "elapsed": 4,
     "status": "ok",
     "timestamp": 1659582023826,
     "user": {
      "displayName": "hs L",
      "userId": "04521576200392151172"
     },
     "user_tz": -540
    },
    "id": "509505d3",
    "outputId": "4b89e9a6-6d1f-41b0-9141-751d55a8bb10"
   },
   "outputs": [
    {
     "data": {
      "text/html": [
       "<div>\n",
       "<style scoped>\n",
       "    .dataframe tbody tr th:only-of-type {\n",
       "        vertical-align: middle;\n",
       "    }\n",
       "\n",
       "    .dataframe tbody tr th {\n",
       "        vertical-align: top;\n",
       "    }\n",
       "\n",
       "    .dataframe thead th {\n",
       "        text-align: right;\n",
       "    }\n",
       "</style>\n",
       "<table border=\"1\" class=\"dataframe\">\n",
       "  <thead>\n",
       "    <tr style=\"text-align: right;\">\n",
       "      <th></th>\n",
       "      <th>Date</th>\n",
       "      <th>Change</th>\n",
       "      <th>Title</th>\n",
       "    </tr>\n",
       "  </thead>\n",
       "  <tbody>\n",
       "    <tr>\n",
       "      <th>0</th>\n",
       "      <td>1998-05-28</td>\n",
       "      <td>1</td>\n",
       "      <td>주가 상승세 삼성전자, 하나더 판촉 확대실시 &lt;주식시황&gt; 주가 상승 3백20선 회복...</td>\n",
       "    </tr>\n",
       "    <tr>\n",
       "      <th>1</th>\n",
       "      <td>1998-05-29</td>\n",
       "      <td>1</td>\n",
       "      <td>&lt; 6.4선거 이후의 과제 &gt; ...(下) 대기업그룹별 현안 전자업계 수출드라이브,...</td>\n",
       "    </tr>\n",
       "    <tr>\n",
       "      <th>2</th>\n",
       "      <td>1998-05-30</td>\n",
       "      <td>0</td>\n",
       "      <td>정보통신업계, `실직자를 잡아라' 주가 하락세 반전 삼성전자, 세계 공용 DVD 개...</td>\n",
       "    </tr>\n",
       "    <tr>\n",
       "      <th>3</th>\n",
       "      <td>1998-06-01</td>\n",
       "      <td>0</td>\n",
       "      <td>&lt;회전목마&gt; 삼성전자, 인터넷잡지 창간 지난해 상장기업 수출 28.8% 증가 현대전...</td>\n",
       "    </tr>\n",
       "    <tr>\n",
       "      <th>4</th>\n",
       "      <td>1998-06-02</td>\n",
       "      <td>0</td>\n",
       "      <td>공장도價 과다 책정...소비자불신 초래 &lt;약수터&gt; 환경부 고위공직자 근무지이탈 말썽...</td>\n",
       "    </tr>\n",
       "    <tr>\n",
       "      <th>...</th>\n",
       "      <td>...</td>\n",
       "      <td>...</td>\n",
       "      <td>...</td>\n",
       "    </tr>\n",
       "    <tr>\n",
       "      <th>8316</th>\n",
       "      <td>2022-07-15</td>\n",
       "      <td>1</td>\n",
       "      <td>발명의 날 기념 행사 개최 朴통산장관,무역수지 개선위한 업계 간담회 최우수 상장기업...</td>\n",
       "    </tr>\n",
       "    <tr>\n",
       "      <th>8317</th>\n",
       "      <td>2022-07-16</td>\n",
       "      <td>1</td>\n",
       "      <td>회사채 수익률 다시 상승 12월결산법인 올해 순익 56%이상 감소 추정 삼성전자, ...</td>\n",
       "    </tr>\n",
       "    <tr>\n",
       "      <th>8318</th>\n",
       "      <td>2022-07-17</td>\n",
       "      <td>1</td>\n",
       "      <td>安통산장관, 무역업계와 간담회 삼성전자, 인력재배치 작업 본격화 삼성전자,2백40만...</td>\n",
       "    </tr>\n",
       "    <tr>\n",
       "      <th>8319</th>\n",
       "      <td>2022-07-18</td>\n",
       "      <td>1</td>\n",
       "      <td>불경기에도 자동차.화장품 광고는 활발 &lt;주식시황&gt; 주가, 큰 폭 상승 삼성전자 정보...</td>\n",
       "    </tr>\n",
       "    <tr>\n",
       "      <th>8320</th>\n",
       "      <td>2022-07-19</td>\n",
       "      <td>0</td>\n",
       "      <td>반도체 업체들, 보따리장사로 골머리 주가 이틀째 급상승 三星電子, 세계 최경량 PC...</td>\n",
       "    </tr>\n",
       "  </tbody>\n",
       "</table>\n",
       "<p>8321 rows × 3 columns</p>\n",
       "</div>"
      ],
      "text/plain": [
       "            Date  Change                                              Title\n",
       "0     1998-05-28       1  주가 상승세 삼성전자, 하나더 판촉 확대실시 <주식시황> 주가 상승 3백20선 회복...\n",
       "1     1998-05-29       1  < 6.4선거 이후의 과제 > ...(下) 대기업그룹별 현안 전자업계 수출드라이브,...\n",
       "2     1998-05-30       0  정보통신업계, `실직자를 잡아라' 주가 하락세 반전 삼성전자, 세계 공용 DVD 개...\n",
       "3     1998-06-01       0  <회전목마> 삼성전자, 인터넷잡지 창간 지난해 상장기업 수출 28.8% 증가 현대전...\n",
       "4     1998-06-02       0  공장도價 과다 책정...소비자불신 초래 <약수터> 환경부 고위공직자 근무지이탈 말썽...\n",
       "...          ...     ...                                                ...\n",
       "8316  2022-07-15       1  발명의 날 기념 행사 개최 朴통산장관,무역수지 개선위한 업계 간담회 최우수 상장기업...\n",
       "8317  2022-07-16       1  회사채 수익률 다시 상승 12월결산법인 올해 순익 56%이상 감소 추정 삼성전자, ...\n",
       "8318  2022-07-17       1  安통산장관, 무역업계와 간담회 삼성전자, 인력재배치 작업 본격화 삼성전자,2백40만...\n",
       "8319  2022-07-18       1  불경기에도 자동차.화장품 광고는 활발 <주식시황> 주가, 큰 폭 상승 삼성전자 정보...\n",
       "8320  2022-07-19       0  반도체 업체들, 보따리장사로 골머리 주가 이틀째 급상승 三星電子, 세계 최경량 PC...\n",
       "\n",
       "[8321 rows x 3 columns]"
      ]
     },
     "execution_count": 11,
     "metadata": {},
     "output_type": "execute_result"
    }
   ],
   "source": [
    "df = df.reset_index()#.drop(columns=['index'])\n",
    "df"
   ]
  },
  {
   "cell_type": "code",
   "execution_count": 13,
   "id": "b06250a6",
   "metadata": {
    "ExecuteTime": {
     "end_time": "2022-08-04T05:49:51.082255Z",
     "start_time": "2022-08-04T05:49:51.073589Z"
    }
   },
   "outputs": [],
   "source": [
    "# data shuffling & data split\n",
    "# data = df['Title']\n",
    "# target = df['Change']\n",
    "\n",
    "x_train, x_test = train_test_split(df, test_size=0.2, shuffle=True, random_state=42)\n"
   ]
  },
  {
   "cell_type": "code",
   "execution_count": 14,
   "id": "92be2d26",
   "metadata": {
    "ExecuteTime": {
     "end_time": "2022-08-04T05:49:54.024211Z",
     "start_time": "2022-08-04T05:49:54.012172Z"
    }
   },
   "outputs": [
    {
     "data": {
      "text/html": [
       "<div>\n",
       "<style scoped>\n",
       "    .dataframe tbody tr th:only-of-type {\n",
       "        vertical-align: middle;\n",
       "    }\n",
       "\n",
       "    .dataframe tbody tr th {\n",
       "        vertical-align: top;\n",
       "    }\n",
       "\n",
       "    .dataframe thead th {\n",
       "        text-align: right;\n",
       "    }\n",
       "</style>\n",
       "<table border=\"1\" class=\"dataframe\">\n",
       "  <thead>\n",
       "    <tr style=\"text-align: right;\">\n",
       "      <th></th>\n",
       "      <th>Date</th>\n",
       "      <th>Change</th>\n",
       "      <th>Title</th>\n",
       "    </tr>\n",
       "  </thead>\n",
       "  <tbody>\n",
       "    <tr>\n",
       "      <th>7223</th>\n",
       "      <td>2019-05-07</td>\n",
       "      <td>0</td>\n",
       "      <td>[더벨]힘 있는 'OB'에도 쏠리는 눈길 신한카드, ‘신한페이판 매장결제’ 서비스 ...</td>\n",
       "    </tr>\n",
       "    <tr>\n",
       "      <th>5694</th>\n",
       "      <td>2014-09-24</td>\n",
       "      <td>0</td>\n",
       "      <td>대구 엑스코서 '대·중소기업 구매상담회'</td>\n",
       "    </tr>\n",
       "    <tr>\n",
       "      <th>6213</th>\n",
       "      <td>2016-04-21</td>\n",
       "      <td>0</td>\n",
       "      <td>삼성전자, 올 하반기 10나노 공정 시스템반도체 생산 제일기획 1분기 영업익 224...</td>\n",
       "    </tr>\n",
       "    <tr>\n",
       "      <th>7707</th>\n",
       "      <td>2020-09-29</td>\n",
       "      <td>0</td>\n",
       "      <td>㈜아이델, 끊임없는 혁신…방음·방탄 등 신소재 최고 도전 아모레 장녀·보광 장남의 ...</td>\n",
       "    </tr>\n",
       "    <tr>\n",
       "      <th>7089</th>\n",
       "      <td>2018-12-15</td>\n",
       "      <td>1</td>\n",
       "      <td>“반도체 100%부터 스마트폰 25%까지”···삼성전자, 보너스 차등 지급 코스피,...</td>\n",
       "    </tr>\n",
       "    <tr>\n",
       "      <th>...</th>\n",
       "      <td>...</td>\n",
       "      <td>...</td>\n",
       "      <td>...</td>\n",
       "    </tr>\n",
       "    <tr>\n",
       "      <th>5734</th>\n",
       "      <td>2014-11-08</td>\n",
       "      <td>1</td>\n",
       "      <td>저격수 또 나선 박영선 \"삼성SDS 사채 불법이익 환수\" 맥 휘트먼 HP CEO 방...</td>\n",
       "    </tr>\n",
       "    <tr>\n",
       "      <th>5191</th>\n",
       "      <td>2013-03-28</td>\n",
       "      <td>1</td>\n",
       "      <td>삼성전자, 에어컨 광고서 ‘국내 1위’ 문구 뺀다 '그들'의 이유있는 매수…삼성전기...</td>\n",
       "    </tr>\n",
       "    <tr>\n",
       "      <th>5390</th>\n",
       "      <td>2013-10-18</td>\n",
       "      <td>1</td>\n",
       "      <td>대정부질문 사흘째, 여야 '경제' 정책 공방 실 사례로 접근한 ‘EMC 이펙트데이 ...</td>\n",
       "    </tr>\n",
       "    <tr>\n",
       "      <th>860</th>\n",
       "      <td>2001-02-13</td>\n",
       "      <td>1</td>\n",
       "      <td>외국인 '사자' 주가 3P 상승...코스닥도 2.3P 올라 올 대출금리 1%P 떨어...</td>\n",
       "    </tr>\n",
       "    <tr>\n",
       "      <th>7270</th>\n",
       "      <td>2019-06-23</td>\n",
       "      <td>0</td>\n",
       "      <td>이춘석 의원, 국회 기재위원장 선출 '뜨거운 여름을 부탁해'...6말 7초, 성수기...</td>\n",
       "    </tr>\n",
       "  </tbody>\n",
       "</table>\n",
       "<p>6656 rows × 3 columns</p>\n",
       "</div>"
      ],
      "text/plain": [
       "            Date  Change                                              Title\n",
       "7223  2019-05-07       0  [더벨]힘 있는 'OB'에도 쏠리는 눈길 신한카드, ‘신한페이판 매장결제’ 서비스 ...\n",
       "5694  2014-09-24       0                            대구 엑스코서 '대·중소기업 구매상담회' \n",
       "6213  2016-04-21       0  삼성전자, 올 하반기 10나노 공정 시스템반도체 생산 제일기획 1분기 영업익 224...\n",
       "7707  2020-09-29       0  ㈜아이델, 끊임없는 혁신…방음·방탄 등 신소재 최고 도전 아모레 장녀·보광 장남의 ...\n",
       "7089  2018-12-15       1  “반도체 100%부터 스마트폰 25%까지”···삼성전자, 보너스 차등 지급 코스피,...\n",
       "...          ...     ...                                                ...\n",
       "5734  2014-11-08       1  저격수 또 나선 박영선 \"삼성SDS 사채 불법이익 환수\" 맥 휘트먼 HP CEO 방...\n",
       "5191  2013-03-28       1  삼성전자, 에어컨 광고서 ‘국내 1위’ 문구 뺀다 '그들'의 이유있는 매수…삼성전기...\n",
       "5390  2013-10-18       1  대정부질문 사흘째, 여야 '경제' 정책 공방 실 사례로 접근한 ‘EMC 이펙트데이 ...\n",
       "860   2001-02-13       1  외국인 '사자' 주가 3P 상승...코스닥도 2.3P 올라 올 대출금리 1%P 떨어...\n",
       "7270  2019-06-23       0  이춘석 의원, 국회 기재위원장 선출 '뜨거운 여름을 부탁해'...6말 7초, 성수기...\n",
       "\n",
       "[6656 rows x 3 columns]"
      ]
     },
     "execution_count": 14,
     "metadata": {},
     "output_type": "execute_result"
    }
   ],
   "source": [
    "x_train"
   ]
  },
  {
   "cell_type": "code",
   "execution_count": 15,
   "id": "5ebd72b1",
   "metadata": {
    "ExecuteTime": {
     "end_time": "2022-08-04T05:49:58.777864Z",
     "start_time": "2022-08-04T05:49:58.761889Z"
    }
   },
   "outputs": [
    {
     "data": {
      "text/html": [
       "<div>\n",
       "<style scoped>\n",
       "    .dataframe tbody tr th:only-of-type {\n",
       "        vertical-align: middle;\n",
       "    }\n",
       "\n",
       "    .dataframe tbody tr th {\n",
       "        vertical-align: top;\n",
       "    }\n",
       "\n",
       "    .dataframe thead th {\n",
       "        text-align: right;\n",
       "    }\n",
       "</style>\n",
       "<table border=\"1\" class=\"dataframe\">\n",
       "  <thead>\n",
       "    <tr style=\"text-align: right;\">\n",
       "      <th></th>\n",
       "      <th>Date</th>\n",
       "      <th>Change</th>\n",
       "      <th>Title</th>\n",
       "    </tr>\n",
       "  </thead>\n",
       "  <tbody>\n",
       "    <tr>\n",
       "      <th>4169</th>\n",
       "      <td>2010-03-09</td>\n",
       "      <td>0</td>\n",
       "      <td>국내 반도체 업체들 기지개 “주가낮은 지금이 투자의 봄” 19만~85만원짜리 디지털...</td>\n",
       "    </tr>\n",
       "    <tr>\n",
       "      <th>7565</th>\n",
       "      <td>2020-05-04</td>\n",
       "      <td>0</td>\n",
       "      <td>이재용 대국민 사과에 삼성 그룹주 동반 급등 이재용, 10분 간 반성문 낭독…90도...</td>\n",
       "    </tr>\n",
       "    <tr>\n",
       "      <th>6974</th>\n",
       "      <td>2018-08-12</td>\n",
       "      <td>0</td>\n",
       "      <td>'40년 지기' 박근혜-최순실, 같은 날 2심 선고 최강 스펙 갤노트9 vs 신형 ...</td>\n",
       "    </tr>\n",
       "    <tr>\n",
       "      <th>2465</th>\n",
       "      <td>2005-07-08</td>\n",
       "      <td>0</td>\n",
       "      <td>[유럽DR]현대차 우선주 7.52%↑ [유럽DR] 런던 테러속 등락 엇갈려 어,봉투...</td>\n",
       "    </tr>\n",
       "    <tr>\n",
       "      <th>3378</th>\n",
       "      <td>2008-01-08</td>\n",
       "      <td>0</td>\n",
       "      <td>에어컨 시장 벌써 ‘바람전쟁’ [공직 인맥 열전] (23) 정보통신부 삼성, SSD...</td>\n",
       "    </tr>\n",
       "    <tr>\n",
       "      <th>...</th>\n",
       "      <td>...</td>\n",
       "      <td>...</td>\n",
       "      <td>...</td>\n",
       "    </tr>\n",
       "    <tr>\n",
       "      <th>4789</th>\n",
       "      <td>2012-01-13</td>\n",
       "      <td>1</td>\n",
       "      <td>삼성-LG-팬택, MS에 내는 로열티는 얼마? SMD, AM OLED 공급선 확대 ...</td>\n",
       "    </tr>\n",
       "    <tr>\n",
       "      <th>4686</th>\n",
       "      <td>2011-08-31</td>\n",
       "      <td>1</td>\n",
       "      <td>삼성전자, 세계 최대 `메모리 16라인` 가동 삼성전자, 세계 첫 20나노급 D램 ...</td>\n",
       "    </tr>\n",
       "    <tr>\n",
       "      <th>7864</th>\n",
       "      <td>2021-03-19</td>\n",
       "      <td>0</td>\n",
       "      <td>프리미엄 무선청소기, 삼성 ‘비스포크 제트’ “삼성 주가만 왜”...속끓는 개미들 ...</td>\n",
       "    </tr>\n",
       "    <tr>\n",
       "      <th>3781</th>\n",
       "      <td>2009-02-14</td>\n",
       "      <td>0</td>\n",
       "      <td>삼성·LG 연구인력 수도권 이동 지역 정치권 강력대응 삼성·LG 연구개발 인력 대거...</td>\n",
       "    </tr>\n",
       "    <tr>\n",
       "      <th>4901</th>\n",
       "      <td>2012-05-04</td>\n",
       "      <td>0</td>\n",
       "      <td>코스피 뒷심..1800선 다시 회복 무심코 버린 헌옷, 이제는 이웃사랑의 씨앗 투신...</td>\n",
       "    </tr>\n",
       "  </tbody>\n",
       "</table>\n",
       "<p>1665 rows × 3 columns</p>\n",
       "</div>"
      ],
      "text/plain": [
       "            Date  Change                                              Title\n",
       "4169  2010-03-09       0  국내 반도체 업체들 기지개 “주가낮은 지금이 투자의 봄” 19만~85만원짜리 디지털...\n",
       "7565  2020-05-04       0  이재용 대국민 사과에 삼성 그룹주 동반 급등 이재용, 10분 간 반성문 낭독…90도...\n",
       "6974  2018-08-12       0  '40년 지기' 박근혜-최순실, 같은 날 2심 선고 최강 스펙 갤노트9 vs 신형 ...\n",
       "2465  2005-07-08       0  [유럽DR]현대차 우선주 7.52%↑ [유럽DR] 런던 테러속 등락 엇갈려 어,봉투...\n",
       "3378  2008-01-08       0  에어컨 시장 벌써 ‘바람전쟁’ [공직 인맥 열전] (23) 정보통신부 삼성, SSD...\n",
       "...          ...     ...                                                ...\n",
       "4789  2012-01-13       1  삼성-LG-팬택, MS에 내는 로열티는 얼마? SMD, AM OLED 공급선 확대 ...\n",
       "4686  2011-08-31       1  삼성전자, 세계 최대 `메모리 16라인` 가동 삼성전자, 세계 첫 20나노급 D램 ...\n",
       "7864  2021-03-19       0  프리미엄 무선청소기, 삼성 ‘비스포크 제트’ “삼성 주가만 왜”...속끓는 개미들 ...\n",
       "3781  2009-02-14       0  삼성·LG 연구인력 수도권 이동 지역 정치권 강력대응 삼성·LG 연구개발 인력 대거...\n",
       "4901  2012-05-04       0  코스피 뒷심..1800선 다시 회복 무심코 버린 헌옷, 이제는 이웃사랑의 씨앗 투신...\n",
       "\n",
       "[1665 rows x 3 columns]"
      ]
     },
     "execution_count": 15,
     "metadata": {},
     "output_type": "execute_result"
    }
   ],
   "source": [
    "x_test"
   ]
  },
  {
   "cell_type": "code",
   "execution_count": null,
   "id": "0f4149d0",
   "metadata": {
    "ExecuteTime": {
     "end_time": "2022-08-04T05:38:01.625967Z",
     "start_time": "2022-08-04T05:38:01.622574Z"
    },
    "colab": {
     "base_uri": "https://localhost:8080/"
    },
    "executionInfo": {
     "elapsed": 637,
     "status": "ok",
     "timestamp": 1659582028131,
     "user": {
      "displayName": "hs L",
      "userId": "04521576200392151172"
     },
     "user_tz": -540
    },
    "id": "0f4149d0",
    "outputId": "6d1780f1-9f9e-48b3-9e4e-854cf4345546"
   },
   "outputs": [],
   "source": [
    "'''\n",
    "train_ratio = 0.8\n",
    "train_range = int(len(df) * train_ratio)\n",
    "train_range\n",
    "\n",
    "train_data = df[:train_range]\n",
    "test_data = df[train_range:]\n",
    "\n",
    "print(len(train_data), len(test_data))\n",
    "'''"
   ]
  },
  {
   "cell_type": "code",
   "execution_count": 26,
   "id": "628f0508",
   "metadata": {
    "ExecuteTime": {
     "end_time": "2022-08-04T06:16:42.388035Z",
     "start_time": "2022-08-04T06:16:42.386125Z"
    }
   },
   "outputs": [
    {
     "name": "stdout",
     "output_type": "stream",
     "text": [
      "6656 1664\n"
     ]
    }
   ],
   "source": [
    "print(len(x_train), len(x_test))"
   ]
  },
  {
   "cell_type": "markdown",
   "id": "021ae708",
   "metadata": {
    "id": "021ae708"
   },
   "source": [
    "## 데이터 정제하기"
   ]
  },
  {
   "cell_type": "code",
   "execution_count": 16,
   "id": "e0f1ce38",
   "metadata": {
    "ExecuteTime": {
     "end_time": "2022-08-04T05:50:30.674011Z",
     "start_time": "2022-08-04T05:50:30.578648Z"
    },
    "colab": {
     "base_uri": "https://localhost:8080/",
     "height": 280
    },
    "executionInfo": {
     "elapsed": 7,
     "status": "ok",
     "timestamp": 1659580782136,
     "user": {
      "displayName": "hs L",
      "userId": "04521576200392151172"
     },
     "user_tz": -540
    },
    "id": "e0f1ce38",
    "outputId": "4a2063f0-0cc0-49ef-c33a-f2a087d05c8c"
   },
   "outputs": [
    {
     "data": {
      "text/plain": [
       "<AxesSubplot:>"
      ]
     },
     "execution_count": 16,
     "metadata": {},
     "output_type": "execute_result"
    },
    {
     "data": {
      "image/png": "[encoded data removed]",
      "text/plain": [
       "<Figure size 432x288 with 1 Axes>"
      ]
     },
     "metadata": {
      "needs_background": "light"
     },
     "output_type": "display_data"
    }
   ],
   "source": [
    "df.Change.value_counts().plot(kind = 'bar')"
   ]
  },
  {
   "cell_type": "code",
   "execution_count": null,
   "id": "3f8f5b5e",
   "metadata": {
    "ExecuteTime": {
     "end_time": "2022-08-04T05:38:01.679487Z",
     "start_time": "2022-08-04T05:38:01.673953Z"
    },
    "colab": {
     "base_uri": "https://localhost:8080/"
    },
    "executionInfo": {
     "elapsed": 6,
     "status": "ok",
     "timestamp": 1659580782136,
     "user": {
      "displayName": "hs L",
      "userId": "04521576200392151172"
     },
     "user_tz": -540
    },
    "id": "3f8f5b5e",
    "outputId": "75ceaa5b-2579-4219-bcac-f3bdd43f7694"
   },
   "outputs": [],
   "source": [
    "# Null값 확인\n",
    "df.isnull().sum()"
   ]
  },
  {
   "cell_type": "code",
   "execution_count": 17,
   "id": "1c6a2745",
   "metadata": {
    "ExecuteTime": {
     "end_time": "2022-08-04T05:51:18.367985Z",
     "start_time": "2022-08-04T05:51:16.668402Z"
    },
    "colab": {
     "base_uri": "https://localhost:8080/",
     "height": 349
    },
    "executionInfo": {
     "elapsed": 2943,
     "status": "ok",
     "timestamp": 1659580785074,
     "user": {
      "displayName": "hs L",
      "userId": "04521576200392151172"
     },
     "user_tz": -540
    },
    "id": "1c6a2745",
    "outputId": "8f0017e2-1a50-46d1-8748-8eb8903f6999"
   },
   "outputs": [
    {
     "name": "stderr",
     "output_type": "stream",
     "text": [
      "/var/folders/1d/lfkpl6ps02xgh0rdprtbmgvw0000gn/T/ipykernel_4736/3316481079.py:2: FutureWarning: The default value of regex will change from True to False in a future version.\n",
      "  x_train['Title'] = x_train['Title'].str.replace(\"[^ㄱ-ㅎㅏ-ㅣ가-힣 ]\",\"\")\n"
     ]
    },
    {
     "data": {
      "text/html": [
       "<div>\n",
       "<style scoped>\n",
       "    .dataframe tbody tr th:only-of-type {\n",
       "        vertical-align: middle;\n",
       "    }\n",
       "\n",
       "    .dataframe tbody tr th {\n",
       "        vertical-align: top;\n",
       "    }\n",
       "\n",
       "    .dataframe thead th {\n",
       "        text-align: right;\n",
       "    }\n",
       "</style>\n",
       "<table border=\"1\" class=\"dataframe\">\n",
       "  <thead>\n",
       "    <tr style=\"text-align: right;\">\n",
       "      <th></th>\n",
       "      <th>Date</th>\n",
       "      <th>Change</th>\n",
       "      <th>Title</th>\n",
       "    </tr>\n",
       "  </thead>\n",
       "  <tbody>\n",
       "    <tr>\n",
       "      <th>7223</th>\n",
       "      <td>2019-05-07</td>\n",
       "      <td>0</td>\n",
       "      <td>더벨힘 있는 에도 쏠리는 눈길 신한카드 신한페이판 매장결제 서비스 선봬 년 월 일 ...</td>\n",
       "    </tr>\n",
       "    <tr>\n",
       "      <th>5694</th>\n",
       "      <td>2014-09-24</td>\n",
       "      <td>0</td>\n",
       "      <td>대구 엑스코서 대중소기업 구매상담회</td>\n",
       "    </tr>\n",
       "    <tr>\n",
       "      <th>6213</th>\n",
       "      <td>2016-04-21</td>\n",
       "      <td>0</td>\n",
       "      <td>삼성전자 올 하반기 나노 공정 시스템반도체 생산 제일기획 분기 영업익 억작년보다 종...</td>\n",
       "    </tr>\n",
       "    <tr>\n",
       "      <th>7707</th>\n",
       "      <td>2020-09-29</td>\n",
       "      <td>0</td>\n",
       "      <td>아이델 끊임없는 혁신방음방탄 등 신소재 최고 도전 아모레 장녀보광 장남의 약혼식보다...</td>\n",
       "    </tr>\n",
       "    <tr>\n",
       "      <th>7089</th>\n",
       "      <td>2018-12-15</td>\n",
       "      <td>1</td>\n",
       "      <td>반도체 부터 스마트폰 까지삼성전자 보너스 차등 지급 코스피 보합권 등락 거듭코스닥 ...</td>\n",
       "    </tr>\n",
       "  </tbody>\n",
       "</table>\n",
       "</div>"
      ],
      "text/plain": [
       "            Date  Change                                              Title\n",
       "7223  2019-05-07       0  더벨힘 있는 에도 쏠리는 눈길 신한카드 신한페이판 매장결제 서비스 선봬 년 월 일 ...\n",
       "5694  2014-09-24       0                               대구 엑스코서 대중소기업 구매상담회 \n",
       "6213  2016-04-21       0  삼성전자 올 하반기 나노 공정 시스템반도체 생산 제일기획 분기 영업익 억작년보다 종...\n",
       "7707  2020-09-29       0  아이델 끊임없는 혁신방음방탄 등 신소재 최고 도전 아모레 장녀보광 장남의 약혼식보다...\n",
       "7089  2018-12-15       1  반도체 부터 스마트폰 까지삼성전자 보너스 차등 지급 코스피 보합권 등락 거듭코스닥 ..."
      ]
     },
     "execution_count": 17,
     "metadata": {},
     "output_type": "execute_result"
    }
   ],
   "source": [
    "# 한글과 공백을 제외하고 모두 제거\n",
    "x_train['Title'] = x_train['Title'].str.replace(\"[^ㄱ-ㅎㅏ-ㅣ가-힣 ]\",\"\")\n",
    "x_train[:5]"
   ]
  },
  {
   "cell_type": "code",
   "execution_count": 18,
   "id": "c7ae278e",
   "metadata": {
    "ExecuteTime": {
     "end_time": "2022-08-04T05:51:18.642986Z",
     "start_time": "2022-08-04T05:51:18.369030Z"
    },
    "colab": {
     "base_uri": "https://localhost:8080/"
    },
    "executionInfo": {
     "elapsed": 934,
     "status": "ok",
     "timestamp": 1659580786003,
     "user": {
      "displayName": "hs L",
      "userId": "04521576200392151172"
     },
     "user_tz": -540
    },
    "id": "c7ae278e",
    "outputId": "b2731a80-86a2-4f9a-e8a9-d161ac266093"
   },
   "outputs": [
    {
     "name": "stderr",
     "output_type": "stream",
     "text": [
      "/var/folders/1d/lfkpl6ps02xgh0rdprtbmgvw0000gn/T/ipykernel_4736/2262570851.py:2: FutureWarning: The default value of regex will change from True to False in a future version.\n",
      "  x_train['Title'] = x_train['Title'].str.replace('^ +', \"\") # white space 데이터를 empty value로 변경\n"
     ]
    },
    {
     "name": "stdout",
     "output_type": "stream",
     "text": [
      "Date      0\n",
      "Change    0\n",
      "Title     0\n",
      "dtype: int64\n"
     ]
    }
   ],
   "source": [
    "# 한글이 없던 제목은 빈값이 됐을 것, Null로 변경\n",
    "x_train['Title'] = x_train['Title'].str.replace('^ +', \"\") # white space 데이터를 empty value로 변경\n",
    "x_train['Title'].replace('', np.nan, inplace=True)\n",
    "print(df.isnull().sum())\n",
    "\n",
    "# Null값 없음\n",
    "# test_data = test_data.dropna(how='any') # Null 값 제거\n"
   ]
  },
  {
   "cell_type": "code",
   "execution_count": 20,
   "id": "c00c2e1b",
   "metadata": {
    "ExecuteTime": {
     "end_time": "2022-08-04T05:52:02.067763Z",
     "start_time": "2022-08-04T05:52:01.778186Z"
    },
    "colab": {
     "base_uri": "https://localhost:8080/"
    },
    "executionInfo": {
     "elapsed": 5330,
     "status": "ok",
     "timestamp": 1659580791332,
     "user": {
      "displayName": "hs L",
      "userId": "04521576200392151172"
     },
     "user_tz": -540
    },
    "id": "c00c2e1b",
    "outputId": "d4f9b6e1-12cb-4a24-8461-fc238412c72c"
   },
   "outputs": [
    {
     "name": "stdout",
     "output_type": "stream",
     "text": [
      "전처리 후 테스트용 샘플의 개수 : 1664\n"
     ]
    },
    {
     "name": "stderr",
     "output_type": "stream",
     "text": [
      "/var/folders/1d/lfkpl6ps02xgh0rdprtbmgvw0000gn/T/ipykernel_4736/178386575.py:4: FutureWarning: The default value of regex will change from True to False in a future version.\n",
      "  x_test['Title'] = x_test['Title'].str.replace(\"[^ㄱ-ㅎㅏ-ㅣ가-힣 ]\",\"\") # 정규 표현식 수행\n",
      "/var/folders/1d/lfkpl6ps02xgh0rdprtbmgvw0000gn/T/ipykernel_4736/178386575.py:5: FutureWarning: The default value of regex will change from True to False in a future version.\n",
      "  x_test['Title'] = x_test['Title'].str.replace('^ +', \"\") # 공백은 empty 값으로 변경\n"
     ]
    }
   ],
   "source": [
    "\n",
    "# 테스트 데이터도 같은 방식으로 전처리\n",
    "\n",
    "x_test.drop_duplicates(subset = ['Title'], inplace=True) # document 열에서 중복인 내용이 있다면 중복 제거\n",
    "x_test['Title'] = x_test['Title'].str.replace(\"[^ㄱ-ㅎㅏ-ㅣ가-힣 ]\",\"\") # 정규 표현식 수행\n",
    "x_test['Title'] = x_test['Title'].str.replace('^ +', \"\") # 공백은 empty 값으로 변경\n",
    "x_test['Title'].replace('', np.nan, inplace=True) # 공백은 Null 값으로 변경\n",
    "x_test = x_test.dropna(how='any') # Null 값 제거\n",
    "print('전처리 후 테스트용 샘플의 개수 :',len(x_test))\n"
   ]
  },
  {
   "cell_type": "code",
   "execution_count": 22,
   "id": "0319012f",
   "metadata": {
    "ExecuteTime": {
     "end_time": "2022-08-04T05:52:07.621921Z",
     "start_time": "2022-08-04T05:52:07.606958Z"
    }
   },
   "outputs": [
    {
     "data": {
      "text/html": [
       "<div>\n",
       "<style scoped>\n",
       "    .dataframe tbody tr th:only-of-type {\n",
       "        vertical-align: middle;\n",
       "    }\n",
       "\n",
       "    .dataframe tbody tr th {\n",
       "        vertical-align: top;\n",
       "    }\n",
       "\n",
       "    .dataframe thead th {\n",
       "        text-align: right;\n",
       "    }\n",
       "</style>\n",
       "<table border=\"1\" class=\"dataframe\">\n",
       "  <thead>\n",
       "    <tr style=\"text-align: right;\">\n",
       "      <th></th>\n",
       "      <th>Date</th>\n",
       "      <th>Change</th>\n",
       "      <th>Title</th>\n",
       "    </tr>\n",
       "  </thead>\n",
       "  <tbody>\n",
       "    <tr>\n",
       "      <th>4169</th>\n",
       "      <td>2010-03-09</td>\n",
       "      <td>0</td>\n",
       "      <td>국내 반도체 업체들 기지개 주가낮은 지금이 투자의 봄 만만원짜리 디지털  나온다 만...</td>\n",
       "    </tr>\n",
       "    <tr>\n",
       "      <th>7565</th>\n",
       "      <td>2020-05-04</td>\n",
       "      <td>0</td>\n",
       "      <td>이재용 대국민 사과에 삼성 그룹주 동반 급등 이재용 분 간 반성문 낭독도 허리 숙여...</td>\n",
       "    </tr>\n",
       "    <tr>\n",
       "      <th>6974</th>\n",
       "      <td>2018-08-12</td>\n",
       "      <td>0</td>\n",
       "      <td>년 지기 박근혜최순실 같은 날 심 선고 최강 스펙 갤노트  신형 아이폰 플래그십끼리...</td>\n",
       "    </tr>\n",
       "    <tr>\n",
       "      <th>2465</th>\n",
       "      <td>2005-07-08</td>\n",
       "      <td>0</td>\n",
       "      <td>유럽현대차 우선주  유럽 런던 테러속 등락 엇갈려 어봉투가 얇아졌네삼성 상반기 실적...</td>\n",
       "    </tr>\n",
       "    <tr>\n",
       "      <th>3378</th>\n",
       "      <td>2008-01-08</td>\n",
       "      <td>0</td>\n",
       "      <td>에어컨 시장 벌써 바람전쟁 공직 인맥 열전  정보통신부 삼성  영토 확장 나선다 삼...</td>\n",
       "    </tr>\n",
       "    <tr>\n",
       "      <th>...</th>\n",
       "      <td>...</td>\n",
       "      <td>...</td>\n",
       "      <td>...</td>\n",
       "    </tr>\n",
       "    <tr>\n",
       "      <th>4789</th>\n",
       "      <td>2012-01-13</td>\n",
       "      <td>1</td>\n",
       "      <td>삼성팬택 에 내는 로열티는 얼마    공급선 확대 본격화올 외판 비중  달할 듯 대...</td>\n",
       "    </tr>\n",
       "    <tr>\n",
       "      <th>4686</th>\n",
       "      <td>2011-08-31</td>\n",
       "      <td>1</td>\n",
       "      <td>삼성전자 세계 최대 메모리 라인 가동 삼성전자 세계 첫 나노급 램 양산 돌입 인터플...</td>\n",
       "    </tr>\n",
       "    <tr>\n",
       "      <th>7864</th>\n",
       "      <td>2021-03-19</td>\n",
       "      <td>0</td>\n",
       "      <td>프리미엄 무선청소기 삼성 비스포크 제트 삼성 주가만 왜속끓는 개미들 국내 주식 비중...</td>\n",
       "    </tr>\n",
       "    <tr>\n",
       "      <th>3781</th>\n",
       "      <td>2009-02-14</td>\n",
       "      <td>0</td>\n",
       "      <td>삼성 연구인력 수도권 이동 지역 정치권 강력대응 삼성 연구개발 인력 대거 수도권 이...</td>\n",
       "    </tr>\n",
       "    <tr>\n",
       "      <th>4901</th>\n",
       "      <td>2012-05-04</td>\n",
       "      <td>0</td>\n",
       "      <td>코스피 뒷심선 다시 회복 무심코 버린 헌옷 이제는 이웃사랑의 씨앗 투신 삼성 빠질 ...</td>\n",
       "    </tr>\n",
       "  </tbody>\n",
       "</table>\n",
       "<p>1664 rows × 3 columns</p>\n",
       "</div>"
      ],
      "text/plain": [
       "            Date  Change                                              Title\n",
       "4169  2010-03-09       0  국내 반도체 업체들 기지개 주가낮은 지금이 투자의 봄 만만원짜리 디지털  나온다 만...\n",
       "7565  2020-05-04       0  이재용 대국민 사과에 삼성 그룹주 동반 급등 이재용 분 간 반성문 낭독도 허리 숙여...\n",
       "6974  2018-08-12       0  년 지기 박근혜최순실 같은 날 심 선고 최강 스펙 갤노트  신형 아이폰 플래그십끼리...\n",
       "2465  2005-07-08       0  유럽현대차 우선주  유럽 런던 테러속 등락 엇갈려 어봉투가 얇아졌네삼성 상반기 실적...\n",
       "3378  2008-01-08       0  에어컨 시장 벌써 바람전쟁 공직 인맥 열전  정보통신부 삼성  영토 확장 나선다 삼...\n",
       "...          ...     ...                                                ...\n",
       "4789  2012-01-13       1  삼성팬택 에 내는 로열티는 얼마    공급선 확대 본격화올 외판 비중  달할 듯 대...\n",
       "4686  2011-08-31       1  삼성전자 세계 최대 메모리 라인 가동 삼성전자 세계 첫 나노급 램 양산 돌입 인터플...\n",
       "7864  2021-03-19       0  프리미엄 무선청소기 삼성 비스포크 제트 삼성 주가만 왜속끓는 개미들 국내 주식 비중...\n",
       "3781  2009-02-14       0  삼성 연구인력 수도권 이동 지역 정치권 강력대응 삼성 연구개발 인력 대거 수도권 이...\n",
       "4901  2012-05-04       0  코스피 뒷심선 다시 회복 무심코 버린 헌옷 이제는 이웃사랑의 씨앗 투신 삼성 빠질 ...\n",
       "\n",
       "[1664 rows x 3 columns]"
      ]
     },
     "execution_count": 22,
     "metadata": {},
     "output_type": "execute_result"
    }
   ],
   "source": [
    "x_test"
   ]
  },
  {
   "cell_type": "markdown",
   "id": "fa420dd6",
   "metadata": {
    "id": "fa420dd6"
   },
   "source": [
    "## 토큰화"
   ]
  },
  {
   "cell_type": "code",
   "execution_count": 23,
   "id": "6e6f56f1",
   "metadata": {
    "ExecuteTime": {
     "end_time": "2022-08-04T05:52:57.604674Z",
     "start_time": "2022-08-04T05:52:57.600735Z"
    },
    "executionInfo": {
     "elapsed": 6,
     "status": "ok",
     "timestamp": 1659580791335,
     "user": {
      "displayName": "hs L",
      "userId": "04521576200392151172"
     },
     "user_tz": -540
    },
    "id": "6e6f56f1"
   },
   "outputs": [],
   "source": [
    "# 불용어 설정\n",
    "stopwords = ['의','가','이','은','들','는','좀','잘','걍','과','도','를','으로','자','에','와','한','하다']\n"
   ]
  },
  {
   "cell_type": "code",
   "execution_count": 24,
   "id": "5b97fe05",
   "metadata": {
    "ExecuteTime": {
     "end_time": "2022-08-04T05:52:58.326450Z",
     "start_time": "2022-08-04T05:52:57.821589Z"
    },
    "executionInfo": {
     "elapsed": 1474,
     "status": "ok",
     "timestamp": 1659580792803,
     "user": {
      "displayName": "hs L",
      "userId": "04521576200392151172"
     },
     "user_tz": -540
    },
    "id": "5b97fe05"
   },
   "outputs": [],
   "source": [
    "okt = Okt()"
   ]
  },
  {
   "cell_type": "code",
   "execution_count": 25,
   "id": "19ab6c7b",
   "metadata": {
    "ExecuteTime": {
     "end_time": "2022-08-04T06:16:42.384851Z",
     "start_time": "2022-08-04T05:55:28.165036Z"
    },
    "colab": {
     "base_uri": "https://localhost:8080/",
     "height": 54
    },
    "executionInfo": {
     "elapsed": 9,
     "status": "ok",
     "timestamp": 1659580792803,
     "user": {
      "displayName": "hs L",
      "userId": "04521576200392151172"
     },
     "user_tz": -540
    },
    "id": "19ab6c7b",
    "outputId": "f8668ea9-f061-43c1-cccd-f280877be60f"
   },
   "outputs": [
    {
     "name": "stderr",
     "output_type": "stream",
     "text": [
      "100%|███████████████████████████████████████| 6656/6656 [21:14<00:00,  5.22it/s]\n"
     ]
    }
   ],
   "source": [
    "# 토큰화를 위한 형태소 분석기, KoNLPy의 OKt 사용\n",
    "\n",
    "X_train3 = []\n",
    "for sentence in tqdm(x_train['Title']):\n",
    "    tokenized_sentence = okt.morphs(sentence, stem=True) # 토큰화\n",
    "    stopwords_removed_sentence = [word for word in tokenized_sentence if not word in stopwords] # 불용어 제거\n",
    "    X_train3.append(stopwords_removed_sentence)\n"
   ]
  },
  {
   "cell_type": "code",
   "execution_count": null,
   "id": "bckZtDkxmpBT",
   "metadata": {
    "ExecuteTime": {
     "end_time": "2022-08-04T00:58:56.610555Z",
     "start_time": "2022-08-04T00:58:56.601312Z"
    },
    "colab": {
     "base_uri": "https://localhost:8080/",
     "height": 54
    },
    "executionInfo": {
     "elapsed": 8,
     "status": "ok",
     "timestamp": 1659580792804,
     "user": {
      "displayName": "hs L",
      "userId": "04521576200392151172"
     },
     "user_tz": -540
    },
    "id": "bckZtDkxmpBT",
    "outputId": "2f16c214-39fc-46a3-ea25-2a8df9d6b6bc"
   },
   "outputs": [],
   "source": [
    "# 테스트 데이터에 대해서도 동일하게 토큰화\n",
    "'''\n",
    "X_test = []\n",
    "for sentence in tqdm(test_data['Title']):\n",
    "    tokenized_sentence = okt.morphs(sentence, stem=True) # 토큰화\n",
    "    stopwords_removed_sentence = [word for word in tokenized_sentence if not word in stopwords] # 불용어 제거\n",
    "    X_test.append(stopwords_removed_sentence)\n",
    "'''"
   ]
  },
  {
   "cell_type": "code",
   "execution_count": 27,
   "id": "a48f0544",
   "metadata": {
    "ExecuteTime": {
     "end_time": "2022-08-04T06:19:23.001970Z",
     "start_time": "2022-08-04T06:19:17.610785Z"
    },
    "colab": {
     "base_uri": "https://localhost:8080/",
     "height": 36
    },
    "executionInfo": {
     "elapsed": 8,
     "status": "ok",
     "timestamp": 1659580792804,
     "user": {
      "displayName": "hs L",
      "userId": "04521576200392151172"
     },
     "user_tz": -540
    },
    "id": "a48f0544",
    "outputId": "ba4247cc-185a-4194-e890-a233e55a3fb3"
   },
   "outputs": [],
   "source": [
    "# tokenizer 정보 저장\n",
    "\n",
    "with open('X_train3.pickle','wb') as handle:\n",
    "    pickle.dump(X_train3, handle, protocol=pickle.HIGHEST_PROTOCOL)\n"
   ]
  },
  {
   "cell_type": "code",
   "execution_count": null,
   "id": "282d7439",
   "metadata": {
    "ExecuteTime": {
     "end_time": "2022-08-04T04:21:17.390469Z",
     "start_time": "2022-08-04T04:21:15.269767Z"
    },
    "executionInfo": {
     "elapsed": 11543,
     "status": "ok",
     "timestamp": 1659580804340,
     "user": {
      "displayName": "hs L",
      "userId": "04521576200392151172"
     },
     "user_tz": -540
    },
    "id": "282d7439"
   },
   "outputs": [],
   "source": [
    "# tokenizer 저장 정보 불러오기\n",
    "\n",
    "with open('X_train2.pickle', 'rb') as handle:\n",
    "    X_train2 = pickle.load(handle)\n"
   ]
  },
  {
   "cell_type": "code",
   "execution_count": null,
   "id": "mVw-um8blTbN",
   "metadata": {
    "ExecuteTime": {
     "end_time": "2022-08-04T04:21:20.242853Z",
     "start_time": "2022-08-04T04:21:18.006160Z"
    },
    "executionInfo": {
     "elapsed": 4274,
     "status": "ok",
     "timestamp": 1659580808610,
     "user": {
      "displayName": "hs L",
      "userId": "04521576200392151172"
     },
     "user_tz": -540
    },
    "id": "mVw-um8blTbN"
   },
   "outputs": [],
   "source": [
    "#tokenizer 저장 정보 불러오기\n",
    "\n",
    "with open('X_test2.pickle', 'rb') as handle:\n",
    "    X_test2 = pickle.load(handle)\n"
   ]
  },
  {
   "cell_type": "code",
   "execution_count": null,
   "id": "f28c821a",
   "metadata": {
    "ExecuteTime": {
     "end_time": "2022-08-04T04:21:20.248031Z",
     "start_time": "2022-08-04T04:21:20.244303Z"
    },
    "colab": {
     "base_uri": "https://localhost:8080/"
    },
    "executionInfo": {
     "elapsed": 32,
     "status": "ok",
     "timestamp": 1659580808610,
     "user": {
      "displayName": "hs L",
      "userId": "04521576200392151172"
     },
     "user_tz": -540
    },
    "id": "f28c821a",
    "outputId": "cf3613cc-b94d-4cf5-b08f-55f6036e8d49"
   },
   "outputs": [],
   "source": [
    "# 상위 3개 데이터 보기\n",
    "print(X_train2[:3])\n",
    "print(X_test2[:3])"
   ]
  },
  {
   "cell_type": "markdown",
   "id": "J185iZY6nCIl",
   "metadata": {
    "id": "J185iZY6nCIl"
   },
   "source": [
    "## 정수 인코딩"
   ]
  },
  {
   "cell_type": "code",
   "execution_count": null,
   "id": "3988454d",
   "metadata": {
    "ExecuteTime": {
     "end_time": "2022-08-04T04:21:31.758256Z",
     "start_time": "2022-08-04T04:21:27.601370Z"
    },
    "executionInfo": {
     "elapsed": 13854,
     "status": "ok",
     "timestamp": 1659580822452,
     "user": {
      "displayName": "hs L",
      "userId": "04521576200392151172"
     },
     "user_tz": -540
    },
    "id": "3988454d"
   },
   "outputs": [],
   "source": [
    "tokenizer = Tokenizer()\n",
    "tokenizer.fit_on_texts(X_train2)"
   ]
  },
  {
   "cell_type": "code",
   "execution_count": null,
   "id": "35b70b21",
   "metadata": {
    "ExecuteTime": {
     "end_time": "2022-08-04T04:21:31.774768Z",
     "start_time": "2022-08-04T04:21:31.759364Z"
    },
    "colab": {
     "base_uri": "https://localhost:8080/"
    },
    "executionInfo": {
     "elapsed": 719,
     "status": "ok",
     "timestamp": 1659580822453,
     "user": {
      "displayName": "hs L",
      "userId": "04521576200392151172"
     },
     "user_tz": -540
    },
    "id": "35b70b21",
    "outputId": "fc1be5cf-e256-413a-9324-620e206b5543"
   },
   "outputs": [],
   "source": [
    "# 단어 집합 생성과 함께 고유한 정수가 부여됨 / 등장 빈도수가 높은 순서대로 부여됨\n",
    "print(tokenizer.word_index)"
   ]
  },
  {
   "cell_type": "markdown",
   "id": "Xs_jKDPsops5",
   "metadata": {
    "id": "Xs_jKDPsops5"
   },
   "source": [
    "- 높은 점수 = 등장 빈도수 낮음"
   ]
  },
  {
   "cell_type": "code",
   "execution_count": null,
   "id": "I1gdPzEIoi7X",
   "metadata": {
    "ExecuteTime": {
     "end_time": "2022-08-04T04:21:35.902339Z",
     "start_time": "2022-08-04T04:21:35.856878Z"
    },
    "colab": {
     "base_uri": "https://localhost:8080/"
    },
    "executionInfo": {
     "elapsed": 635,
     "status": "ok",
     "timestamp": 1659580822453,
     "user": {
      "displayName": "hs L",
      "userId": "04521576200392151172"
     },
     "user_tz": -540
    },
    "id": "I1gdPzEIoi7X",
    "outputId": "0f720494-90c0-49ed-9a1a-0953f97d7c19"
   },
   "outputs": [],
   "source": [
    "# 등장 빈도수가 3회 미만인 단어들의 비중을 확인해보자\n",
    "\n",
    "threshold = 3\n",
    "total_cnt = len(tokenizer.word_index) # 단어의 수\n",
    "rare_cnt = 0 # 등장 빈도수가 threshold보다 작은 단어의 개수를 카운트\n",
    "total_freq = 0 # 훈련 데이터의 전체 단어 빈도수 총 합\n",
    "rare_freq = 0 # 등장 빈도수가 threshold보다 작은 단어의 등장 빈도수의 총 합\n",
    "\n",
    "# 단어와 빈도수의 쌍(pair)을 key와 value로 받는다.\n",
    "for key, value in tokenizer.word_counts.items():\n",
    "    total_freq = total_freq + value\n",
    "\n",
    "    # 단어의 등장 빈도수가 threshold보다 작으면\n",
    "    if(value < threshold):\n",
    "        rare_cnt = rare_cnt + 1\n",
    "        rare_freq = rare_freq + value\n",
    "\n",
    "print('단어 집합(vocabulary)의 크기 :',total_cnt)\n",
    "print('등장 빈도가 %s번 이하인 희귀 단어의 수: %s'%(threshold - 1, rare_cnt))\n",
    "print(\"단어 집합에서 희귀 단어의 비율:\", (rare_cnt / total_cnt)*100)\n",
    "print(\"전체 등장 빈도에서 희귀 단어 등장 빈도 비율:\", (rare_freq / total_freq)*100)"
   ]
  },
  {
   "cell_type": "code",
   "execution_count": null,
   "id": "hErOWgzjvLCN",
   "metadata": {
    "ExecuteTime": {
     "end_time": "2022-08-04T04:21:37.769666Z",
     "start_time": "2022-08-04T04:21:37.765490Z"
    },
    "colab": {
     "base_uri": "https://localhost:8080/"
    },
    "executionInfo": {
     "elapsed": 10,
     "status": "ok",
     "timestamp": 1659580822453,
     "user": {
      "displayName": "hs L",
      "userId": "04521576200392151172"
     },
     "user_tz": -540
    },
    "id": "hErOWgzjvLCN",
    "outputId": "4ad769a2-c28a-4396-db36-8fbfee75aee2"
   },
   "outputs": [],
   "source": [
    "# 전체 단어 개수 중 빈도수 2이하인 단어는 제거.\n",
    "# 0번 패딩 토큰을 고려하여 + 1\n",
    "vocab_size = total_cnt  - rare_cnt + 1\n",
    "print('단어 집합의 크기 :',vocab_size)"
   ]
  },
  {
   "cell_type": "code",
   "execution_count": null,
   "id": "KRUUGngcvK4T",
   "metadata": {
    "ExecuteTime": {
     "end_time": "2022-08-04T04:22:06.498699Z",
     "start_time": "2022-08-04T04:21:56.864967Z"
    },
    "executionInfo": {
     "elapsed": 21011,
     "status": "ok",
     "timestamp": 1659580843455,
     "user": {
      "displayName": "hs L",
      "userId": "04521576200392151172"
     },
     "user_tz": -540
    },
    "id": "KRUUGngcvK4T"
   },
   "outputs": [],
   "source": [
    "tokenizer = Tokenizer(vocab_size) \n",
    "tokenizer.fit_on_texts(X_train2)\n",
    "X_train2 = tokenizer.texts_to_sequences(X_train2)\n",
    "X_test2 = tokenizer.texts_to_sequences(X_test2)"
   ]
  },
  {
   "cell_type": "markdown",
   "id": "AmMjaVS8vW5D",
   "metadata": {
    "id": "AmMjaVS8vW5D"
   },
   "source": [
    "- 정수 인코딩 잘 됐는지 확인"
   ]
  },
  {
   "cell_type": "code",
   "execution_count": null,
   "id": "ccsGShItvKvM",
   "metadata": {
    "ExecuteTime": {
     "end_time": "2022-08-04T04:22:10.074767Z",
     "start_time": "2022-08-04T04:22:10.069205Z"
    },
    "colab": {
     "base_uri": "https://localhost:8080/"
    },
    "executionInfo": {
     "elapsed": 13,
     "status": "ok",
     "timestamp": 1659580843456,
     "user": {
      "displayName": "hs L",
      "userId": "04521576200392151172"
     },
     "user_tz": -540
    },
    "id": "ccsGShItvKvM",
    "outputId": "a319be8e-d7af-4856-ecb9-384b6174351a"
   },
   "outputs": [],
   "source": [
    "print(X_train2[:3])"
   ]
  },
  {
   "cell_type": "code",
   "execution_count": null,
   "id": "wwAOmuIGvT-W",
   "metadata": {
    "ExecuteTime": {
     "end_time": "2022-08-04T04:22:11.369325Z",
     "start_time": "2022-08-04T04:22:11.365363Z"
    },
    "executionInfo": {
     "elapsed": 11,
     "status": "ok",
     "timestamp": 1659580843456,
     "user": {
      "displayName": "hs L",
      "userId": "04521576200392151172"
     },
     "user_tz": -540
    },
    "id": "wwAOmuIGvT-W"
   },
   "outputs": [],
   "source": [
    "y_train2 = np.array(train_data['Change'])\n",
    "y_test2 = np.array(test_data['Change'])"
   ]
  },
  {
   "cell_type": "markdown",
   "id": "AELOgQlVrvbe",
   "metadata": {
    "id": "AELOgQlVrvbe"
   },
   "source": [
    "## 빈 샘플 제거"
   ]
  },
  {
   "cell_type": "code",
   "execution_count": null,
   "id": "hsqZhn47r1TN",
   "metadata": {
    "ExecuteTime": {
     "end_time": "2022-08-04T04:22:21.979577Z",
     "start_time": "2022-08-04T04:22:21.972069Z"
    },
    "executionInfo": {
     "elapsed": 11,
     "status": "ok",
     "timestamp": 1659580843456,
     "user": {
      "displayName": "hs L",
      "userId": "04521576200392151172"
     },
     "user_tz": -540
    },
    "id": "hsqZhn47r1TN"
   },
   "outputs": [],
   "source": [
    "drop_train2 = [index for index, sentence in enumerate(X_train2) if len(sentence) < 1]"
   ]
  },
  {
   "cell_type": "code",
   "execution_count": null,
   "id": "tHfNKTtOr3D_",
   "metadata": {
    "ExecuteTime": {
     "end_time": "2022-08-04T04:22:35.747699Z",
     "start_time": "2022-08-04T04:22:35.742471Z"
    },
    "colab": {
     "base_uri": "https://localhost:8080/"
    },
    "executionInfo": {
     "elapsed": 12,
     "status": "ok",
     "timestamp": 1659580843457,
     "user": {
      "displayName": "hs L",
      "userId": "04521576200392151172"
     },
     "user_tz": -540
    },
    "id": "tHfNKTtOr3D_",
    "outputId": "cfc73ed3-7100-40cd-fd4b-7c5998ff04ff"
   },
   "outputs": [],
   "source": [
    "# 빈 샘플들을 제거\n",
    "X_train2 = np.delete(X_train2, drop_train2, axis=0)\n",
    "y_train2 = np.delete(y_train2, drop_train2, axis=0)\n",
    "print(len(X_train2))\n",
    "print(len(y_train2))"
   ]
  },
  {
   "cell_type": "markdown",
   "id": "6U8lZe36rvLU",
   "metadata": {
    "id": "6U8lZe36rvLU"
   },
   "source": [
    "## 패딩"
   ]
  },
  {
   "cell_type": "code",
   "execution_count": null,
   "id": "ULAZNPjgojMR",
   "metadata": {
    "ExecuteTime": {
     "end_time": "2022-08-04T04:22:49.450128Z",
     "start_time": "2022-08-04T04:22:49.298191Z"
    },
    "colab": {
     "base_uri": "https://localhost:8080/",
     "height": 315
    },
    "executionInfo": {
     "elapsed": 9,
     "status": "ok",
     "timestamp": 1659580843457,
     "user": {
      "displayName": "hs L",
      "userId": "04521576200392151172"
     },
     "user_tz": -540
    },
    "id": "ULAZNPjgojMR",
    "outputId": "0c1aa277-6172-42c3-cb8f-e8df1653c2d0"
   },
   "outputs": [],
   "source": [
    "print('Title의 최대 길이 :',max(len(review) for review in X_train2))\n",
    "print('Title의 평균 길이 :',sum(map(len, X_train2))/len(X_train2))\n",
    "plt.hist([len(review) for review in X_train2], bins=50)\n",
    "plt.xlabel('length of samples')\n",
    "plt.ylabel('number of samples')\n",
    "plt.show()"
   ]
  },
  {
   "cell_type": "code",
   "execution_count": null,
   "id": "CDfovQDXojbZ",
   "metadata": {
    "ExecuteTime": {
     "end_time": "2022-08-04T04:22:56.551039Z",
     "start_time": "2022-08-04T04:22:56.545405Z"
    },
    "executionInfo": {
     "elapsed": 1073,
     "status": "ok",
     "timestamp": 1659580852945,
     "user": {
      "displayName": "hs L",
      "userId": "04521576200392151172"
     },
     "user_tz": -540
    },
    "id": "CDfovQDXojbZ"
   },
   "outputs": [],
   "source": [
    "def below_threshold_len(max_len, nested_list):\n",
    "    count = 0\n",
    "    for sentence in nested_list:\n",
    "        if(len(sentence) <= max_len):\n",
    "            count = count + 1\n",
    "    print('전체 샘플 중 길이가 %s 이하인 샘플의 비율: %s'%(max_len, (count / len(nested_list))*100))\n",
    "        "
   ]
  },
  {
   "cell_type": "code",
   "execution_count": null,
   "id": "T65uubk6ojrj",
   "metadata": {
    "ExecuteTime": {
     "end_time": "2022-08-04T04:23:00.499569Z",
     "start_time": "2022-08-04T04:23:00.494396Z"
    },
    "colab": {
     "base_uri": "https://localhost:8080/"
    },
    "executionInfo": {
     "elapsed": 1285,
     "status": "ok",
     "timestamp": 1659580869295,
     "user": {
      "displayName": "hs L",
      "userId": "04521576200392151172"
     },
     "user_tz": -540
    },
    "id": "T65uubk6ojrj",
    "outputId": "44d04a10-334b-4fbb-fb08-be74de9f1131"
   },
   "outputs": [],
   "source": [
    "max_len = 8000\n",
    "below_threshold_len(max_len, X_train2)"
   ]
  },
  {
   "cell_type": "code",
   "execution_count": null,
   "id": "thldAOt6sFeH",
   "metadata": {
    "ExecuteTime": {
     "end_time": "2022-08-04T04:23:13.627873Z",
     "start_time": "2022-08-04T04:23:12.992528Z"
    },
    "executionInfo": {
     "elapsed": 2203,
     "status": "ok",
     "timestamp": 1659580875122,
     "user": {
      "displayName": "hs L",
      "userId": "04521576200392151172"
     },
     "user_tz": -540
    },
    "id": "thldAOt6sFeH"
   },
   "outputs": [],
   "source": [
    "X_train2 = pad_sequences(X_train2, maxlen=max_len)\n",
    "X_test2 = pad_sequences(X_test2, maxlen=max_len)"
   ]
  },
  {
   "cell_type": "code",
   "execution_count": null,
   "id": "N1hzg3FXs8D5",
   "metadata": {
    "ExecuteTime": {
     "end_time": "2022-08-04T04:23:15.035448Z",
     "start_time": "2022-08-04T04:23:15.030058Z"
    },
    "colab": {
     "base_uri": "https://localhost:8080/"
    },
    "executionInfo": {
     "elapsed": 1072,
     "status": "ok",
     "timestamp": 1659580438230,
     "user": {
      "displayName": "hs L",
      "userId": "04521576200392151172"
     },
     "user_tz": -540
    },
    "id": "N1hzg3FXs8D5",
    "outputId": "df55bfef-86a6-4998-a69e-a0864ad3bcac"
   },
   "outputs": [],
   "source": [
    "X_train2\n"
   ]
  },
  {
   "cell_type": "markdown",
   "id": "V7UAcCpTpUv3",
   "metadata": {
    "id": "V7UAcCpTpUv3"
   },
   "source": [
    "# LSTM 활용"
   ]
  },
  {
   "cell_type": "code",
   "execution_count": null,
   "id": "5RZlyu6RqK8T",
   "metadata": {
    "ExecuteTime": {
     "end_time": "2022-08-04T04:23:41.392475Z",
     "start_time": "2022-08-04T04:23:30.442056Z"
    },
    "colab": {
     "base_uri": "https://localhost:8080/"
    },
    "executionInfo": {
     "elapsed": 216568,
     "status": "ok",
     "timestamp": 1659581098247,
     "user": {
      "displayName": "hs L",
      "userId": "04521576200392151172"
     },
     "user_tz": -540
    },
    "id": "5RZlyu6RqK8T",
    "outputId": "9918b52a-fffa-4d02-9838-b22c64eec796",
    "scrolled": true
   },
   "outputs": [],
   "source": [
    "from tensorflow.keras.layers import Embedding, Dense, LSTM\n",
    "from tensorflow.keras.models import Sequential\n",
    "from tensorflow.keras.models import load_model\n",
    "from tensorflow.keras.callbacks import EarlyStopping, ModelCheckpoint\n",
    "\n",
    "embedding_dim = 100\n",
    "hidden_units = 128\n",
    "\n",
    "model = Sequential()\n",
    "model.add(Embedding(vocab_size, embedding_dim))\n",
    "model.add(LSTM(hidden_units))\n",
    "model.add(Dense(1, activation='sigmoid')) # 만약 다중분류면 softmax 함수에, 3을 써줘야 한다\n",
    "\n",
    "es = EarlyStopping(monitor='val_loss', mode='min', verbose=1, patience=4)\n",
    "mc = ModelCheckpoint('best_model.h5', monitor='val_acc', mode='max', verbose=1, save_best_only=True)\n",
    "\n",
    "model.compile(optimizer='SGD', loss='binary_crossentropy', metrics=['acc']) # categorical_crossentropy\n",
    "history = model.fit(X_train2, y_train2, epochs=30, callbacks=[es, mc], batch_size=64, validation_split=0.2)"
   ]
  },
  {
   "cell_type": "code",
   "execution_count": null,
   "id": "M_XTsDP3qTX3",
   "metadata": {
    "ExecuteTime": {
     "end_time": "2022-08-03T13:32:11.741469Z",
     "start_time": "2022-08-03T13:32:11.741469Z"
    },
    "colab": {
     "base_uri": "https://localhost:8080/"
    },
    "executionInfo": {
     "elapsed": 8721,
     "status": "ok",
     "timestamp": 1659581130453,
     "user": {
      "displayName": "hs L",
      "userId": "04521576200392151172"
     },
     "user_tz": -540
    },
    "id": "M_XTsDP3qTX3",
    "outputId": "31e15bc3-caa0-415b-f1da-cfc476971e0a"
   },
   "outputs": [],
   "source": [
    "loaded_model = load_model('best_model.h5')\n",
    "print(\"\\n 테스트 정확도: %.4f\" % (loaded_model.evaluate(X_test, y_test)[1]))"
   ]
  },
  {
   "cell_type": "markdown",
   "id": "DVcVtkf9pVIV",
   "metadata": {
    "id": "DVcVtkf9pVIV"
   },
   "source": [
    "# 예측"
   ]
  },
  {
   "cell_type": "markdown",
   "id": "GfOVU4LFplA_",
   "metadata": {
    "id": "GfOVU4LFplA_"
   },
   "source": [
    "- 현재 학습한 model에, 새로운 입력에 대해서 예측값을 얻는 것은 model.predict()를 사용한다 \n",
    "- model.fit()을 할 때와 마찬가지로 새로운 입력에 대해서도 동일한 전처리를 수행 후에 model.predict()를 사용해야 한다"
   ]
  },
  {
   "cell_type": "code",
   "execution_count": null,
   "id": "Iqe5HDZNpbEf",
   "metadata": {
    "id": "Iqe5HDZNpbEf"
   },
   "outputs": [],
   "source": [
    "def sentiment_predict(new_sentence):\n",
    "      new_sentence = re.sub(r'[^ㄱ-ㅎㅏ-ㅣ가-힣 ]','', new_sentence)\n",
    "      new_sentence = okt.morphs(new_sentence, stem=True) # 토큰화\n",
    "      new_sentence = [word for word in new_sentence if not word in stopwords] # 불용어 제거\n",
    "      encoded = tokenizer.texts_to_sequences([new_sentence]) # 정수 인코딩\n",
    "      pad_new = pad_sequences(encoded, maxlen = max_len) # 패딩\n",
    "      score = float(loaded_model.predict(pad_new)) # 예측\n",
    "      if(score > 0.5):\n",
    "        print(\"{:.2f}% 확률로 긍정 리뷰입니다.\\n\".format(score * 100))\n",
    "      else:\n",
    "        print(\"{:.2f}% 확률로 부정 리뷰입니다.\\n\".format((1 - score) * 100))"
   ]
  }
 ],
 "metadata": {
  "accelerator": "GPU",
  "colab": {
   "collapsed_sections": [],
   "name": "NewsAnalysis_colab.ipynb",
   "provenance": []
  },
  "gpuClass": "standard",
  "kernelspec": {
   "display_name": "Python 3 (ipykernel)",
   "language": "python",
   "name": "python3"
  },
  "language_info": {
   "codemirror_mode": {
    "name": "ipython",
    "version": 3
   },
   "file_extension": ".py",
   "mimetype": "text/x-python",
   "name": "python",
   "nbconvert_exporter": "python",
   "pygments_lexer": "ipython3",
   "version": "3.8.13"
  },
  "toc": {
   "base_numbering": 1,
   "nav_menu": {},
   "number_sections": false,
   "sideBar": true,
   "skip_h1_title": false,
   "title_cell": "Table of Contents",
   "title_sidebar": "Contents",
   "toc_cell": false,
   "toc_position": {
    "height": "calc(100% - 180px)",
    "left": "10px",
    "top": "150px",
    "width": "224px"
   },
   "toc_section_display": true,
   "toc_window_display": true
  }
 },
 "nbformat": 4,
 "nbformat_minor": 5
}
