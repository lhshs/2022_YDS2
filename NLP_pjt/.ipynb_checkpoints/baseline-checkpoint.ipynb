{
 "cells": [
  {
   "cell_type": "code",
   "execution_count": 1,
   "id": "c34e2ed8",
   "metadata": {},
   "outputs": [],
   "source": [
    "import pandas as pd\n",
    "import numpy as np\n",
    "import matplotlib.pyplot as plt\n",
    "import re\n",
    "import urllib.request\n",
    "from konlpy.tag import Okt\n",
    "from tqdm import tqdm\n",
    "from tensorflow.keras.preprocessing.text import Tokenizer\n",
    "from tensorflow.keras.preprocessing.sequence import pad_sequences\n",
    "\n",
    "import json\n",
    "import os"
   ]
  },
  {
   "cell_type": "markdown",
   "id": "ccdf9af2",
   "metadata": {},
   "source": [
    "## 데이터 로드하기 1\n",
    "train_label\n",
    " - TL_span_extraction\n",
    " - TL_span_inference\n",
    " - TL_text_entailment\n",
    " - TL_unanswerable\n",
    " \n",
    "train_raw\n",
    " - TS_span_extraction\n",
    " - TS_span_inference\n",
    " - TS_text_entailment\n",
    " - TS_unanswerable"
   ]
  },
  {
   "cell_type": "markdown",
   "id": "c9b58aee",
   "metadata": {},
   "source": [
    "### train"
   ]
  },
  {
   "cell_type": "code",
   "execution_count": 2,
   "id": "9ccc638d",
   "metadata": {
    "scrolled": true
   },
   "outputs": [
    {
     "data": {
      "text/html": [
       "<div>\n",
       "<style scoped>\n",
       "    .dataframe tbody tr th:only-of-type {\n",
       "        vertical-align: middle;\n",
       "    }\n",
       "\n",
       "    .dataframe tbody tr th {\n",
       "        vertical-align: top;\n",
       "    }\n",
       "\n",
       "    .dataframe thead th {\n",
       "        text-align: right;\n",
       "    }\n",
       "</style>\n",
       "<table border=\"1\" class=\"dataframe\">\n",
       "  <thead>\n",
       "    <tr style=\"text-align: right;\">\n",
       "      <th></th>\n",
       "      <th>Dataset</th>\n",
       "      <th>data</th>\n",
       "    </tr>\n",
       "  </thead>\n",
       "  <tbody>\n",
       "    <tr>\n",
       "      <th>0</th>\n",
       "      <td>{'Identifier': 'TEXT_QnA_News_01', 'name': '뉴스...</td>\n",
       "      <td>[{'doc_id': '01601101.20210325201932006', 'doc...</td>\n",
       "    </tr>\n",
       "  </tbody>\n",
       "</table>\n",
       "</div>"
      ],
      "text/plain": [
       "                                             Dataset  \\\n",
       "0  {'Identifier': 'TEXT_QnA_News_01', 'name': '뉴스...   \n",
       "\n",
       "                                                data  \n",
       "0  [{'doc_id': '01601101.20210325201932006', 'doc...  "
      ]
     },
     "execution_count": 2,
     "metadata": {},
     "output_type": "execute_result"
    }
   ],
   "source": [
    "with open('/Users/lhs/Desktop/GitHub/NLP_pjt/data/train/label/TL_span_extraction_.json', 'r', encoding='utf-8') as tl_jsonfile1:\n",
    "    data = json.load(tl_jsonfile1, strict=False)\n",
    "df_tl1 = pd.DataFrame([data])\n",
    "df_tl1.head()"
   ]
  },
  {
   "cell_type": "code",
   "execution_count": 3,
   "id": "0bf95e2b",
   "metadata": {
    "scrolled": true
   },
   "outputs": [
    {
     "data": {
      "text/html": [
       "<div>\n",
       "<style scoped>\n",
       "    .dataframe tbody tr th:only-of-type {\n",
       "        vertical-align: middle;\n",
       "    }\n",
       "\n",
       "    .dataframe tbody tr th {\n",
       "        vertical-align: top;\n",
       "    }\n",
       "\n",
       "    .dataframe thead th {\n",
       "        text-align: right;\n",
       "    }\n",
       "</style>\n",
       "<table border=\"1\" class=\"dataframe\">\n",
       "  <thead>\n",
       "    <tr style=\"text-align: right;\">\n",
       "      <th></th>\n",
       "      <th>Dataset</th>\n",
       "      <th>data</th>\n",
       "    </tr>\n",
       "  </thead>\n",
       "  <tbody>\n",
       "    <tr>\n",
       "      <th>0</th>\n",
       "      <td>{'Identifier': 'TEXT_QnA_News_01', 'name': '뉴스...</td>\n",
       "      <td>[{'doc_id': '01400601.20210325223148001', 'doc...</td>\n",
       "    </tr>\n",
       "  </tbody>\n",
       "</table>\n",
       "</div>"
      ],
      "text/plain": [
       "                                             Dataset  \\\n",
       "0  {'Identifier': 'TEXT_QnA_News_01', 'name': '뉴스...   \n",
       "\n",
       "                                                data  \n",
       "0  [{'doc_id': '01400601.20210325223148001', 'doc...  "
      ]
     },
     "execution_count": 3,
     "metadata": {},
     "output_type": "execute_result"
    }
   ],
   "source": [
    "with open('/Users/lhs/Desktop/GitHub/NLP_pjt/data/train/label/TL_span_inference_.json', 'r', encoding='utf-8') as tl_jsonfile2:\n",
    "    data = json.load(tl_jsonfile2, strict=False)\n",
    "df_tl2 = pd.DataFrame([data])\n",
    "df_tl2.head()"
   ]
  },
  {
   "cell_type": "code",
   "execution_count": 4,
   "id": "4f4bff7c",
   "metadata": {},
   "outputs": [
    {
     "data": {
      "text/html": [
       "<div>\n",
       "<style scoped>\n",
       "    .dataframe tbody tr th:only-of-type {\n",
       "        vertical-align: middle;\n",
       "    }\n",
       "\n",
       "    .dataframe tbody tr th {\n",
       "        vertical-align: top;\n",
       "    }\n",
       "\n",
       "    .dataframe thead th {\n",
       "        text-align: right;\n",
       "    }\n",
       "</style>\n",
       "<table border=\"1\" class=\"dataframe\">\n",
       "  <thead>\n",
       "    <tr style=\"text-align: right;\">\n",
       "      <th></th>\n",
       "      <th>Dataset</th>\n",
       "      <th>data</th>\n",
       "    </tr>\n",
       "  </thead>\n",
       "  <tbody>\n",
       "    <tr>\n",
       "      <th>0</th>\n",
       "      <td>{'Identifier': 'TEXT_QnA_News_01', 'name': '뉴스...</td>\n",
       "      <td>[{'doc_id': '01100201.20210502175653001', 'doc...</td>\n",
       "    </tr>\n",
       "  </tbody>\n",
       "</table>\n",
       "</div>"
      ],
      "text/plain": [
       "                                             Dataset  \\\n",
       "0  {'Identifier': 'TEXT_QnA_News_01', 'name': '뉴스...   \n",
       "\n",
       "                                                data  \n",
       "0  [{'doc_id': '01100201.20210502175653001', 'doc...  "
      ]
     },
     "execution_count": 4,
     "metadata": {},
     "output_type": "execute_result"
    }
   ],
   "source": [
    "with open('/Users/lhs/Desktop/GitHub/NLP_pjt/data/train/label/TL_text_entailment.json', 'r', encoding='utf-8') as tl_jsonfile3:\n",
    "    data = json.load(tl_jsonfile3)\n",
    "df_tl3 = pd.DataFrame([data])\n",
    "df_tl3.head()"
   ]
  },
  {
   "cell_type": "code",
   "execution_count": 5,
   "id": "dc58c7ba",
   "metadata": {},
   "outputs": [
    {
     "data": {
      "text/html": [
       "<div>\n",
       "<style scoped>\n",
       "    .dataframe tbody tr th:only-of-type {\n",
       "        vertical-align: middle;\n",
       "    }\n",
       "\n",
       "    .dataframe tbody tr th {\n",
       "        vertical-align: top;\n",
       "    }\n",
       "\n",
       "    .dataframe thead th {\n",
       "        text-align: right;\n",
       "    }\n",
       "</style>\n",
       "<table border=\"1\" class=\"dataframe\">\n",
       "  <thead>\n",
       "    <tr style=\"text-align: right;\">\n",
       "      <th></th>\n",
       "      <th>Dataset</th>\n",
       "      <th>data</th>\n",
       "    </tr>\n",
       "  </thead>\n",
       "  <tbody>\n",
       "    <tr>\n",
       "      <th>0</th>\n",
       "      <td>{'Identifier': 'TEXT_QnA_News_01', 'name': '뉴스...</td>\n",
       "      <td>[{'doc_id': '01100201.20210225173715002', 'doc...</td>\n",
       "    </tr>\n",
       "  </tbody>\n",
       "</table>\n",
       "</div>"
      ],
      "text/plain": [
       "                                             Dataset  \\\n",
       "0  {'Identifier': 'TEXT_QnA_News_01', 'name': '뉴스...   \n",
       "\n",
       "                                                data  \n",
       "0  [{'doc_id': '01100201.20210225173715002', 'doc...  "
      ]
     },
     "execution_count": 5,
     "metadata": {},
     "output_type": "execute_result"
    }
   ],
   "source": [
    "with open('/Users/lhs/Desktop/GitHub/NLP_pjt/data/train/label/TL_unanswerable.json', 'r', encoding='utf-8') as tl_jsonfile4:\n",
    "    data = json.load(tl_jsonfile4)\n",
    "df_tl4 = pd.DataFrame([data])\n",
    "df_tl4.head()"
   ]
  },
  {
   "cell_type": "markdown",
   "id": "9517a619",
   "metadata": {},
   "source": [
    "### raw"
   ]
  },
  {
   "cell_type": "code",
   "execution_count": 6,
   "id": "ecf8e023",
   "metadata": {},
   "outputs": [
    {
     "data": {
      "text/html": [
       "<div>\n",
       "<style scoped>\n",
       "    .dataframe tbody tr th:only-of-type {\n",
       "        vertical-align: middle;\n",
       "    }\n",
       "\n",
       "    .dataframe tbody tr th {\n",
       "        vertical-align: top;\n",
       "    }\n",
       "\n",
       "    .dataframe thead th {\n",
       "        text-align: right;\n",
       "    }\n",
       "</style>\n",
       "<table border=\"1\" class=\"dataframe\">\n",
       "  <thead>\n",
       "    <tr style=\"text-align: right;\">\n",
       "      <th></th>\n",
       "      <th>Dataset</th>\n",
       "      <th>data</th>\n",
       "    </tr>\n",
       "  </thead>\n",
       "  <tbody>\n",
       "    <tr>\n",
       "      <th>0</th>\n",
       "      <td>{'Identifier': 'TEXT_QnA_News_01', 'name': '뉴스...</td>\n",
       "      <td>[{'doc_id': '01100201.20210225173715002', 'doc...</td>\n",
       "    </tr>\n",
       "  </tbody>\n",
       "</table>\n",
       "</div>"
      ],
      "text/plain": [
       "                                             Dataset  \\\n",
       "0  {'Identifier': 'TEXT_QnA_News_01', 'name': '뉴스...   \n",
       "\n",
       "                                                data  \n",
       "0  [{'doc_id': '01100201.20210225173715002', 'doc...  "
      ]
     },
     "execution_count": 6,
     "metadata": {},
     "output_type": "execute_result"
    }
   ],
   "source": [
    "with open('/Users/lhs/Desktop/GitHub/NLP_pjt/data/train/label/TL_unanswerable.json', 'r', encoding='utf-8') as ts_jsonfile1:\n",
    "    data = json.load(ts_jsonfile1)\n",
    "df_ts1 = pd.DataFrame([data])\n",
    "df_ts1.head()"
   ]
  },
  {
   "cell_type": "code",
   "execution_count": 7,
   "id": "628a97a3",
   "metadata": {},
   "outputs": [
    {
     "data": {
      "text/html": [
       "<div>\n",
       "<style scoped>\n",
       "    .dataframe tbody tr th:only-of-type {\n",
       "        vertical-align: middle;\n",
       "    }\n",
       "\n",
       "    .dataframe tbody tr th {\n",
       "        vertical-align: top;\n",
       "    }\n",
       "\n",
       "    .dataframe thead th {\n",
       "        text-align: right;\n",
       "    }\n",
       "</style>\n",
       "<table border=\"1\" class=\"dataframe\">\n",
       "  <thead>\n",
       "    <tr style=\"text-align: right;\">\n",
       "      <th></th>\n",
       "      <th>Dataset</th>\n",
       "      <th>data</th>\n",
       "    </tr>\n",
       "  </thead>\n",
       "  <tbody>\n",
       "    <tr>\n",
       "      <th>0</th>\n",
       "      <td>{'Identifier': 'TEXT_QnA_News_01', 'name': '뉴스...</td>\n",
       "      <td>[{'doc_id': '01100201.20210225173715002', 'doc...</td>\n",
       "    </tr>\n",
       "  </tbody>\n",
       "</table>\n",
       "</div>"
      ],
      "text/plain": [
       "                                             Dataset  \\\n",
       "0  {'Identifier': 'TEXT_QnA_News_01', 'name': '뉴스...   \n",
       "\n",
       "                                                data  \n",
       "0  [{'doc_id': '01100201.20210225173715002', 'doc...  "
      ]
     },
     "execution_count": 7,
     "metadata": {},
     "output_type": "execute_result"
    }
   ],
   "source": [
    "with open('/Users/lhs/Desktop/GitHub/NLP_pjt/data/train/label/TL_unanswerable.json', 'r', encoding='utf-8') as ts_jsonfile2:\n",
    "    data = json.load(ts_jsonfile2)\n",
    "df_ts2 = pd.DataFrame([data])\n",
    "df_ts2.head()"
   ]
  },
  {
   "cell_type": "code",
   "execution_count": 8,
   "id": "bc4aba9d",
   "metadata": {},
   "outputs": [
    {
     "data": {
      "text/html": [
       "<div>\n",
       "<style scoped>\n",
       "    .dataframe tbody tr th:only-of-type {\n",
       "        vertical-align: middle;\n",
       "    }\n",
       "\n",
       "    .dataframe tbody tr th {\n",
       "        vertical-align: top;\n",
       "    }\n",
       "\n",
       "    .dataframe thead th {\n",
       "        text-align: right;\n",
       "    }\n",
       "</style>\n",
       "<table border=\"1\" class=\"dataframe\">\n",
       "  <thead>\n",
       "    <tr style=\"text-align: right;\">\n",
       "      <th></th>\n",
       "      <th>Dataset</th>\n",
       "      <th>data</th>\n",
       "    </tr>\n",
       "  </thead>\n",
       "  <tbody>\n",
       "    <tr>\n",
       "      <th>0</th>\n",
       "      <td>{'Identifier': 'TEXT_QnA_News_01', 'name': '뉴스...</td>\n",
       "      <td>[{'doc_id': '01100201.20210225173715002', 'doc...</td>\n",
       "    </tr>\n",
       "  </tbody>\n",
       "</table>\n",
       "</div>"
      ],
      "text/plain": [
       "                                             Dataset  \\\n",
       "0  {'Identifier': 'TEXT_QnA_News_01', 'name': '뉴스...   \n",
       "\n",
       "                                                data  \n",
       "0  [{'doc_id': '01100201.20210225173715002', 'doc...  "
      ]
     },
     "execution_count": 8,
     "metadata": {},
     "output_type": "execute_result"
    }
   ],
   "source": [
    "with open('/Users/lhs/Desktop/GitHub/NLP_pjt/data/train/label/TL_unanswerable.json', 'r', encoding='utf-8') as ts_jsonfile3:\n",
    "    data = json.load(ts_jsonfile3)\n",
    "df_ts3 = pd.DataFrame([data])\n",
    "df_ts3.head()"
   ]
  },
  {
   "cell_type": "code",
   "execution_count": 9,
   "id": "12b1edd0",
   "metadata": {},
   "outputs": [
    {
     "data": {
      "text/html": [
       "<div>\n",
       "<style scoped>\n",
       "    .dataframe tbody tr th:only-of-type {\n",
       "        vertical-align: middle;\n",
       "    }\n",
       "\n",
       "    .dataframe tbody tr th {\n",
       "        vertical-align: top;\n",
       "    }\n",
       "\n",
       "    .dataframe thead th {\n",
       "        text-align: right;\n",
       "    }\n",
       "</style>\n",
       "<table border=\"1\" class=\"dataframe\">\n",
       "  <thead>\n",
       "    <tr style=\"text-align: right;\">\n",
       "      <th></th>\n",
       "      <th>Dataset</th>\n",
       "      <th>data</th>\n",
       "    </tr>\n",
       "  </thead>\n",
       "  <tbody>\n",
       "    <tr>\n",
       "      <th>0</th>\n",
       "      <td>{'Identifier': 'TEXT_QnA_News_01', 'name': '뉴스...</td>\n",
       "      <td>[{'doc_id': '01100201.20210225173715002', 'doc...</td>\n",
       "    </tr>\n",
       "  </tbody>\n",
       "</table>\n",
       "</div>"
      ],
      "text/plain": [
       "                                             Dataset  \\\n",
       "0  {'Identifier': 'TEXT_QnA_News_01', 'name': '뉴스...   \n",
       "\n",
       "                                                data  \n",
       "0  [{'doc_id': '01100201.20210225173715002', 'doc...  "
      ]
     },
     "execution_count": 9,
     "metadata": {},
     "output_type": "execute_result"
    }
   ],
   "source": [
    "with open('/Users/lhs/Desktop/GitHub/NLP_pjt/data/train/label/TL_unanswerable.json', 'r', encoding='utf-8') as ts_jsonfile4:\n",
    "    data = json.load(ts_jsonfile4)\n",
    "df_ts4 = pd.DataFrame([data])\n",
    "df_ts4.head()"
   ]
  },
  {
   "cell_type": "markdown",
   "id": "a413bc31",
   "metadata": {},
   "source": [
    "## 데이터 로드하기 2\n",
    "val_label\n",
    " - VL_span_extraction\n",
    " - VL_span_inference\n",
    " - VL_text_entailment\n",
    " - VL_unanswerable\n",
    " \n",
    "val_raw\n",
    " - VS_span_extraction\n",
    " - VS_span_inference\n",
    " - VS_text_entailment\n",
    " - VS_unanswerable"
   ]
  },
  {
   "cell_type": "markdown",
   "id": "8967645a",
   "metadata": {},
   "source": [
    "### label"
   ]
  },
  {
   "cell_type": "code",
   "execution_count": 10,
   "id": "7240efd5",
   "metadata": {},
   "outputs": [
    {
     "data": {
      "text/html": [
       "<div>\n",
       "<style scoped>\n",
       "    .dataframe tbody tr th:only-of-type {\n",
       "        vertical-align: middle;\n",
       "    }\n",
       "\n",
       "    .dataframe tbody tr th {\n",
       "        vertical-align: top;\n",
       "    }\n",
       "\n",
       "    .dataframe thead th {\n",
       "        text-align: right;\n",
       "    }\n",
       "</style>\n",
       "<table border=\"1\" class=\"dataframe\">\n",
       "  <thead>\n",
       "    <tr style=\"text-align: right;\">\n",
       "      <th></th>\n",
       "      <th>Dataset</th>\n",
       "      <th>data</th>\n",
       "    </tr>\n",
       "  </thead>\n",
       "  <tbody>\n",
       "    <tr>\n",
       "      <th>0</th>\n",
       "      <td>{'Identifier': 'TEXT_QnA_News_01', 'name': '뉴스...</td>\n",
       "      <td>[{'doc_id': '01100201.20210225173715002', 'doc...</td>\n",
       "    </tr>\n",
       "  </tbody>\n",
       "</table>\n",
       "</div>"
      ],
      "text/plain": [
       "                                             Dataset  \\\n",
       "0  {'Identifier': 'TEXT_QnA_News_01', 'name': '뉴스...   \n",
       "\n",
       "                                                data  \n",
       "0  [{'doc_id': '01100201.20210225173715002', 'doc...  "
      ]
     },
     "execution_count": 10,
     "metadata": {},
     "output_type": "execute_result"
    }
   ],
   "source": [
    "with open('/Users/lhs/Desktop/GitHub/NLP_pjt/data/train/label/TL_unanswerable.json', 'r', encoding='utf-8') as vl_jsonfile1:\n",
    "    data = json.load(vl_jsonfile1)\n",
    "df_vl1 = pd.DataFrame([data])\n",
    "df_vl1.head()"
   ]
  },
  {
   "cell_type": "code",
   "execution_count": 11,
   "id": "cd5b46f7",
   "metadata": {},
   "outputs": [
    {
     "data": {
      "text/html": [
       "<div>\n",
       "<style scoped>\n",
       "    .dataframe tbody tr th:only-of-type {\n",
       "        vertical-align: middle;\n",
       "    }\n",
       "\n",
       "    .dataframe tbody tr th {\n",
       "        vertical-align: top;\n",
       "    }\n",
       "\n",
       "    .dataframe thead th {\n",
       "        text-align: right;\n",
       "    }\n",
       "</style>\n",
       "<table border=\"1\" class=\"dataframe\">\n",
       "  <thead>\n",
       "    <tr style=\"text-align: right;\">\n",
       "      <th></th>\n",
       "      <th>Dataset</th>\n",
       "      <th>data</th>\n",
       "    </tr>\n",
       "  </thead>\n",
       "  <tbody>\n",
       "    <tr>\n",
       "      <th>0</th>\n",
       "      <td>{'Identifier': 'TEXT_QnA_News_01', 'name': '뉴스...</td>\n",
       "      <td>[{'doc_id': '01100201.20210225173715002', 'doc...</td>\n",
       "    </tr>\n",
       "  </tbody>\n",
       "</table>\n",
       "</div>"
      ],
      "text/plain": [
       "                                             Dataset  \\\n",
       "0  {'Identifier': 'TEXT_QnA_News_01', 'name': '뉴스...   \n",
       "\n",
       "                                                data  \n",
       "0  [{'doc_id': '01100201.20210225173715002', 'doc...  "
      ]
     },
     "execution_count": 11,
     "metadata": {},
     "output_type": "execute_result"
    }
   ],
   "source": [
    "with open('/Users/lhs/Desktop/GitHub/NLP_pjt/data/train/label/TL_unanswerable.json', 'r', encoding='utf-8') as vl_jsonfile2:\n",
    "    data = json.load(vl_jsonfile2)\n",
    "df_vl2 = pd.DataFrame([data])\n",
    "df_vl2.head()"
   ]
  },
  {
   "cell_type": "code",
   "execution_count": 12,
   "id": "b4ec8639",
   "metadata": {},
   "outputs": [
    {
     "data": {
      "text/html": [
       "<div>\n",
       "<style scoped>\n",
       "    .dataframe tbody tr th:only-of-type {\n",
       "        vertical-align: middle;\n",
       "    }\n",
       "\n",
       "    .dataframe tbody tr th {\n",
       "        vertical-align: top;\n",
       "    }\n",
       "\n",
       "    .dataframe thead th {\n",
       "        text-align: right;\n",
       "    }\n",
       "</style>\n",
       "<table border=\"1\" class=\"dataframe\">\n",
       "  <thead>\n",
       "    <tr style=\"text-align: right;\">\n",
       "      <th></th>\n",
       "      <th>Dataset</th>\n",
       "      <th>data</th>\n",
       "    </tr>\n",
       "  </thead>\n",
       "  <tbody>\n",
       "    <tr>\n",
       "      <th>0</th>\n",
       "      <td>{'Identifier': 'TEXT_QnA_News_01', 'name': '뉴스...</td>\n",
       "      <td>[{'doc_id': '01100201.20210225173715002', 'doc...</td>\n",
       "    </tr>\n",
       "  </tbody>\n",
       "</table>\n",
       "</div>"
      ],
      "text/plain": [
       "                                             Dataset  \\\n",
       "0  {'Identifier': 'TEXT_QnA_News_01', 'name': '뉴스...   \n",
       "\n",
       "                                                data  \n",
       "0  [{'doc_id': '01100201.20210225173715002', 'doc...  "
      ]
     },
     "execution_count": 12,
     "metadata": {},
     "output_type": "execute_result"
    }
   ],
   "source": [
    "with open('/Users/lhs/Desktop/GitHub/NLP_pjt/data/train/label/TL_unanswerable.json', 'r', encoding='utf-8') as vl_jsonfile3:\n",
    "    data = json.load(vl_jsonfile3)\n",
    "df_vl3 = pd.DataFrame([data])\n",
    "df_vl3.head()"
   ]
  },
  {
   "cell_type": "code",
   "execution_count": 13,
   "id": "b8ee0f7a",
   "metadata": {},
   "outputs": [
    {
     "data": {
      "text/html": [
       "<div>\n",
       "<style scoped>\n",
       "    .dataframe tbody tr th:only-of-type {\n",
       "        vertical-align: middle;\n",
       "    }\n",
       "\n",
       "    .dataframe tbody tr th {\n",
       "        vertical-align: top;\n",
       "    }\n",
       "\n",
       "    .dataframe thead th {\n",
       "        text-align: right;\n",
       "    }\n",
       "</style>\n",
       "<table border=\"1\" class=\"dataframe\">\n",
       "  <thead>\n",
       "    <tr style=\"text-align: right;\">\n",
       "      <th></th>\n",
       "      <th>Dataset</th>\n",
       "      <th>data</th>\n",
       "    </tr>\n",
       "  </thead>\n",
       "  <tbody>\n",
       "    <tr>\n",
       "      <th>0</th>\n",
       "      <td>{'Identifier': 'TEXT_QnA_News_01', 'name': '뉴스...</td>\n",
       "      <td>[{'doc_id': '01100201.20210225173715002', 'doc...</td>\n",
       "    </tr>\n",
       "  </tbody>\n",
       "</table>\n",
       "</div>"
      ],
      "text/plain": [
       "                                             Dataset  \\\n",
       "0  {'Identifier': 'TEXT_QnA_News_01', 'name': '뉴스...   \n",
       "\n",
       "                                                data  \n",
       "0  [{'doc_id': '01100201.20210225173715002', 'doc...  "
      ]
     },
     "execution_count": 13,
     "metadata": {},
     "output_type": "execute_result"
    }
   ],
   "source": [
    "with open('/Users/lhs/Desktop/GitHub/NLP_pjt/data/train/label/TL_unanswerable.json', 'r', encoding='utf-8') as vl_jsonfile4:\n",
    "    data = json.load(vl_jsonfile4)\n",
    "df_vl4 = pd.DataFrame([data])\n",
    "df_vl4.head()"
   ]
  },
  {
   "cell_type": "markdown",
   "id": "de94c5af",
   "metadata": {},
   "source": [
    "### raw"
   ]
  },
  {
   "cell_type": "code",
   "execution_count": 14,
   "id": "85764bb0",
   "metadata": {},
   "outputs": [
    {
     "data": {
      "text/html": [
       "<div>\n",
       "<style scoped>\n",
       "    .dataframe tbody tr th:only-of-type {\n",
       "        vertical-align: middle;\n",
       "    }\n",
       "\n",
       "    .dataframe tbody tr th {\n",
       "        vertical-align: top;\n",
       "    }\n",
       "\n",
       "    .dataframe thead th {\n",
       "        text-align: right;\n",
       "    }\n",
       "</style>\n",
       "<table border=\"1\" class=\"dataframe\">\n",
       "  <thead>\n",
       "    <tr style=\"text-align: right;\">\n",
       "      <th></th>\n",
       "      <th>Dataset</th>\n",
       "      <th>data</th>\n",
       "    </tr>\n",
       "  </thead>\n",
       "  <tbody>\n",
       "    <tr>\n",
       "      <th>0</th>\n",
       "      <td>{'Identifier': 'TEXT_QnA_News_01', 'name': '뉴스...</td>\n",
       "      <td>[{'doc_id': '01100201.20210225173715002', 'doc...</td>\n",
       "    </tr>\n",
       "  </tbody>\n",
       "</table>\n",
       "</div>"
      ],
      "text/plain": [
       "                                             Dataset  \\\n",
       "0  {'Identifier': 'TEXT_QnA_News_01', 'name': '뉴스...   \n",
       "\n",
       "                                                data  \n",
       "0  [{'doc_id': '01100201.20210225173715002', 'doc...  "
      ]
     },
     "execution_count": 14,
     "metadata": {},
     "output_type": "execute_result"
    }
   ],
   "source": [
    "with open('/Users/lhs/Desktop/GitHub/NLP_pjt/data/train/label/TL_unanswerable.json', 'r', encoding='utf-8') as vs_jsonfile1:\n",
    "    data = json.load(vs_jsonfile1)\n",
    "df_vs1 = pd.DataFrame([data])\n",
    "df_vs1.head()"
   ]
  },
  {
   "cell_type": "code",
   "execution_count": 15,
   "id": "b904e8e5",
   "metadata": {},
   "outputs": [
    {
     "data": {
      "text/html": [
       "<div>\n",
       "<style scoped>\n",
       "    .dataframe tbody tr th:only-of-type {\n",
       "        vertical-align: middle;\n",
       "    }\n",
       "\n",
       "    .dataframe tbody tr th {\n",
       "        vertical-align: top;\n",
       "    }\n",
       "\n",
       "    .dataframe thead th {\n",
       "        text-align: right;\n",
       "    }\n",
       "</style>\n",
       "<table border=\"1\" class=\"dataframe\">\n",
       "  <thead>\n",
       "    <tr style=\"text-align: right;\">\n",
       "      <th></th>\n",
       "      <th>Dataset</th>\n",
       "      <th>data</th>\n",
       "    </tr>\n",
       "  </thead>\n",
       "  <tbody>\n",
       "    <tr>\n",
       "      <th>0</th>\n",
       "      <td>{'Identifier': 'TEXT_QnA_News_01', 'name': '뉴스...</td>\n",
       "      <td>[{'doc_id': '01100201.20210225173715002', 'doc...</td>\n",
       "    </tr>\n",
       "  </tbody>\n",
       "</table>\n",
       "</div>"
      ],
      "text/plain": [
       "                                             Dataset  \\\n",
       "0  {'Identifier': 'TEXT_QnA_News_01', 'name': '뉴스...   \n",
       "\n",
       "                                                data  \n",
       "0  [{'doc_id': '01100201.20210225173715002', 'doc...  "
      ]
     },
     "execution_count": 15,
     "metadata": {},
     "output_type": "execute_result"
    }
   ],
   "source": [
    "with open('/Users/lhs/Desktop/GitHub/NLP_pjt/data/train/label/TL_unanswerable.json', 'r', encoding='utf-8') as vs_jsonfile2:\n",
    "    data = json.load(vs_jsonfile2)\n",
    "df_vs2 = pd.DataFrame([data])\n",
    "df_vs2.head()"
   ]
  },
  {
   "cell_type": "code",
   "execution_count": 16,
   "id": "7a608543",
   "metadata": {},
   "outputs": [
    {
     "data": {
      "text/html": [
       "<div>\n",
       "<style scoped>\n",
       "    .dataframe tbody tr th:only-of-type {\n",
       "        vertical-align: middle;\n",
       "    }\n",
       "\n",
       "    .dataframe tbody tr th {\n",
       "        vertical-align: top;\n",
       "    }\n",
       "\n",
       "    .dataframe thead th {\n",
       "        text-align: right;\n",
       "    }\n",
       "</style>\n",
       "<table border=\"1\" class=\"dataframe\">\n",
       "  <thead>\n",
       "    <tr style=\"text-align: right;\">\n",
       "      <th></th>\n",
       "      <th>Dataset</th>\n",
       "      <th>data</th>\n",
       "    </tr>\n",
       "  </thead>\n",
       "  <tbody>\n",
       "    <tr>\n",
       "      <th>0</th>\n",
       "      <td>{'Identifier': 'TEXT_QnA_News_01', 'name': '뉴스...</td>\n",
       "      <td>[{'doc_id': '01100201.20210225173715002', 'doc...</td>\n",
       "    </tr>\n",
       "  </tbody>\n",
       "</table>\n",
       "</div>"
      ],
      "text/plain": [
       "                                             Dataset  \\\n",
       "0  {'Identifier': 'TEXT_QnA_News_01', 'name': '뉴스...   \n",
       "\n",
       "                                                data  \n",
       "0  [{'doc_id': '01100201.20210225173715002', 'doc...  "
      ]
     },
     "execution_count": 16,
     "metadata": {},
     "output_type": "execute_result"
    }
   ],
   "source": [
    "with open('/Users/lhs/Desktop/GitHub/NLP_pjt/data/train/label/TL_unanswerable.json', 'r', encoding='utf-8') as vs_jsonfile3:\n",
    "    data = json.load(vs_jsonfile3)\n",
    "df_vs3 = pd.DataFrame([data])\n",
    "df_vs3.head()"
   ]
  },
  {
   "cell_type": "code",
   "execution_count": 17,
   "id": "f242beb6",
   "metadata": {},
   "outputs": [
    {
     "data": {
      "text/html": [
       "<div>\n",
       "<style scoped>\n",
       "    .dataframe tbody tr th:only-of-type {\n",
       "        vertical-align: middle;\n",
       "    }\n",
       "\n",
       "    .dataframe tbody tr th {\n",
       "        vertical-align: top;\n",
       "    }\n",
       "\n",
       "    .dataframe thead th {\n",
       "        text-align: right;\n",
       "    }\n",
       "</style>\n",
       "<table border=\"1\" class=\"dataframe\">\n",
       "  <thead>\n",
       "    <tr style=\"text-align: right;\">\n",
       "      <th></th>\n",
       "      <th>Dataset</th>\n",
       "      <th>data</th>\n",
       "    </tr>\n",
       "  </thead>\n",
       "  <tbody>\n",
       "    <tr>\n",
       "      <th>0</th>\n",
       "      <td>{'Identifier': 'TEXT_QnA_News_01', 'name': '뉴스...</td>\n",
       "      <td>[{'doc_id': '01100201.20210225173715002', 'doc...</td>\n",
       "    </tr>\n",
       "  </tbody>\n",
       "</table>\n",
       "</div>"
      ],
      "text/plain": [
       "                                             Dataset  \\\n",
       "0  {'Identifier': 'TEXT_QnA_News_01', 'name': '뉴스...   \n",
       "\n",
       "                                                data  \n",
       "0  [{'doc_id': '01100201.20210225173715002', 'doc...  "
      ]
     },
     "execution_count": 17,
     "metadata": {},
     "output_type": "execute_result"
    }
   ],
   "source": [
    "with open('/Users/lhs/Desktop/GitHub/NLP_pjt/data/train/label/TL_unanswerable.json', 'r', encoding='utf-8') as vs_jsonfile4:\n",
    "    data = json.load(vs_jsonfile4)\n",
    "df_vs4 = pd.DataFrame([data])\n",
    "df_vs4.head()"
   ]
  },
  {
   "cell_type": "markdown",
   "id": "8ed925a7",
   "metadata": {},
   "source": [
    "## train label data 2개의 오류는 json 파일에서 직접 수정해 주었다"
   ]
  },
  {
   "cell_type": "code",
   "execution_count": 28,
   "id": "31814b11",
   "metadata": {
    "scrolled": true
   },
   "outputs": [
    {
     "data": {
      "text/html": [
       "<div>\n",
       "<style scoped>\n",
       "    .dataframe tbody tr th:only-of-type {\n",
       "        vertical-align: middle;\n",
       "    }\n",
       "\n",
       "    .dataframe tbody tr th {\n",
       "        vertical-align: top;\n",
       "    }\n",
       "\n",
       "    .dataframe thead th {\n",
       "        text-align: right;\n",
       "    }\n",
       "</style>\n",
       "<table border=\"1\" class=\"dataframe\">\n",
       "  <thead>\n",
       "    <tr style=\"text-align: right;\">\n",
       "      <th></th>\n",
       "      <th>Identifier</th>\n",
       "      <th>name</th>\n",
       "      <th>src_path</th>\n",
       "      <th>label_path</th>\n",
       "      <th>category</th>\n",
       "      <th>type</th>\n",
       "    </tr>\n",
       "  </thead>\n",
       "  <tbody>\n",
       "    <tr>\n",
       "      <th>0</th>\n",
       "      <td>TEXT_QnA_News_01</td>\n",
       "      <td>뉴스기사 대상 기계독해 데이터</td>\n",
       "      <td>/dataSet/text/</td>\n",
       "      <td>/dataSet/text/</td>\n",
       "      <td>2</td>\n",
       "      <td>0</td>\n",
       "    </tr>\n",
       "  </tbody>\n",
       "</table>\n",
       "</div>"
      ],
      "text/plain": [
       "         Identifier              name        src_path      label_path  \\\n",
       "0  TEXT_QnA_News_01  뉴스기사 대상 기계독해 데이터  /dataSet/text/  /dataSet/text/   \n",
       "\n",
       "   category  type  \n",
       "0         2     0  "
      ]
     },
     "execution_count": 28,
     "metadata": {},
     "output_type": "execute_result"
    }
   ],
   "source": [
    "from pandas import json_normalize\n",
    "\n",
    "json_normalize(df_tl1['Dataset'])"
   ]
  },
  {
   "cell_type": "code",
   "execution_count": 30,
   "id": "cf9883e6",
   "metadata": {},
   "outputs": [
    {
     "data": {
      "text/html": [
       "<div>\n",
       "<style scoped>\n",
       "    .dataframe tbody tr th:only-of-type {\n",
       "        vertical-align: middle;\n",
       "    }\n",
       "\n",
       "    .dataframe tbody tr th {\n",
       "        vertical-align: top;\n",
       "    }\n",
       "\n",
       "    .dataframe thead th {\n",
       "        text-align: right;\n",
       "    }\n",
       "</style>\n",
       "<table border=\"1\" class=\"dataframe\">\n",
       "  <thead>\n",
       "    <tr style=\"text-align: right;\">\n",
       "      <th></th>\n",
       "      <th>doc_id</th>\n",
       "      <th>doc_title</th>\n",
       "      <th>doc_source</th>\n",
       "      <th>doc_published</th>\n",
       "      <th>created</th>\n",
       "      <th>paragraphs</th>\n",
       "      <th>doc_class.class</th>\n",
       "      <th>doc_class.code</th>\n",
       "    </tr>\n",
       "  </thead>\n",
       "  <tbody>\n",
       "    <tr>\n",
       "      <th>0</th>\n",
       "      <td>01601101.20210325201932006</td>\n",
       "      <td>익산 서부권역 다목적 체육관, 다음달 개관</td>\n",
       "      <td>전북일보</td>\n",
       "      <td>20210325</td>\n",
       "      <td>20211217142431</td>\n",
       "      <td>[{'context': '익산시 서부권역 다목적 체육관이 내달 개관을 앞두고 막바지...</td>\n",
       "      <td>한국언론진흥재단 빅카인즈 뉴스기사</td>\n",
       "      <td>스포츠</td>\n",
       "    </tr>\n",
       "    <tr>\n",
       "      <th>1</th>\n",
       "      <td>01601101.20210325201933005</td>\n",
       "      <td>무주군건강가정·다문화가족지원센터, '아빠하고 나하고' 프로그램 운영</td>\n",
       "      <td>전북일보</td>\n",
       "      <td>20210325</td>\n",
       "      <td>20211217142431</td>\n",
       "      <td>[{'context': '무주군건강가정ㆍ다문화가족지원센터(센터장 장진원)가 아버지와...</td>\n",
       "      <td>한국언론진흥재단 빅카인즈 뉴스기사</td>\n",
       "      <td>지역</td>\n",
       "    </tr>\n",
       "    <tr>\n",
       "      <th>2</th>\n",
       "      <td>01601101.20210325201936001</td>\n",
       "      <td>양희은의 '뜻밖의 만남'</td>\n",
       "      <td>전북일보</td>\n",
       "      <td>20210325</td>\n",
       "      <td>20211217142431</td>\n",
       "      <td>[{'context': '양희은의 노래 &lt;엄마가 딸에게&gt;는 엄마와 딸이 차마 말하지...</td>\n",
       "      <td>한국언론진흥재단 빅카인즈 뉴스기사</td>\n",
       "      <td>문화</td>\n",
       "    </tr>\n",
       "    <tr>\n",
       "      <th>3</th>\n",
       "      <td>01601101.20210325201935006</td>\n",
       "      <td>전북 산업단지 대개조 지역경제 도약 기회로</td>\n",
       "      <td>전북일보</td>\n",
       "      <td>20210325</td>\n",
       "      <td>20211217142431</td>\n",
       "      <td>[{'context': '군산ㆍ익산ㆍ완주지역의 노후 산업단지에 내년부터 3년간 국비...</td>\n",
       "      <td>한국언론진흥재단 빅카인즈 뉴스기사</td>\n",
       "      <td>IT과학</td>\n",
       "    </tr>\n",
       "    <tr>\n",
       "      <th>4</th>\n",
       "      <td>01601101.20210325201941001</td>\n",
       "      <td>익산 함라면 야산서 불… 신원 미상 남성 시신 1구 발견</td>\n",
       "      <td>전북일보</td>\n",
       "      <td>20210325</td>\n",
       "      <td>20211217142431</td>\n",
       "      <td>[{'context': '25일 오전 11시 35분께 익산시 함라면의 한 야산에서 ...</td>\n",
       "      <td>한국언론진흥재단 빅카인즈 뉴스기사</td>\n",
       "      <td>사회</td>\n",
       "    </tr>\n",
       "    <tr>\n",
       "      <th>...</th>\n",
       "      <td>...</td>\n",
       "      <td>...</td>\n",
       "      <td>...</td>\n",
       "      <td>...</td>\n",
       "      <td>...</td>\n",
       "      <td>...</td>\n",
       "      <td>...</td>\n",
       "      <td>...</td>\n",
       "    </tr>\n",
       "    <tr>\n",
       "      <th>111962</th>\n",
       "      <td>01600801.20210610172709001</td>\n",
       "      <td>화물연대 전남지부 출하운송 중단…광양지역 업체들 '발동동'</td>\n",
       "      <td>전남일보</td>\n",
       "      <td>20210610</td>\n",
       "      <td>20211217143553</td>\n",
       "      <td>[{'context': '화물연대 전남지부가 광양지역 운송사의 하치장을 봉쇄하는 등...</td>\n",
       "      <td>한국언론진흥재단 빅카인즈 뉴스기사</td>\n",
       "      <td>기타</td>\n",
       "    </tr>\n",
       "    <tr>\n",
       "      <th>111963</th>\n",
       "      <td>01600801.20210610182253001</td>\n",
       "      <td>광주전남 첫 델타 변이 확진자 …방역 구멍</td>\n",
       "      <td>전남일보</td>\n",
       "      <td>20210609</td>\n",
       "      <td>20211217143553</td>\n",
       "      <td>[{'context': '광주 ·전남지역에서 처음으로 델타 변이 바이러스 감염자가 ...</td>\n",
       "      <td>한국언론진흥재단 빅카인즈 뉴스기사</td>\n",
       "      <td>기타</td>\n",
       "    </tr>\n",
       "    <tr>\n",
       "      <th>111964</th>\n",
       "      <td>01600801.20210610162738001</td>\n",
       "      <td>여수시, 자산공원·선원동 현충탑 통합 건립 추진</td>\n",
       "      <td>전남일보</td>\n",
       "      <td>20210610</td>\n",
       "      <td>20211217143553</td>\n",
       "      <td>[{'context': '권오봉 여수시장이 지난 6일 자산공원 현충탑에서 개최된 제...</td>\n",
       "      <td>한국언론진흥재단 빅카인즈 뉴스기사</td>\n",
       "      <td>기타</td>\n",
       "    </tr>\n",
       "    <tr>\n",
       "      <th>111965</th>\n",
       "      <td>01600801.20210610161625001</td>\n",
       "      <td>'한국화 대가' 하철경 화백, 진도에 작품 150점 기증</td>\n",
       "      <td>전남일보</td>\n",
       "      <td>20210610</td>\n",
       "      <td>20211217143553</td>\n",
       "      <td>[{'context': '임농 하철경 화백(61)은 한국화를 현대적 점묘화법 형태로...</td>\n",
       "      <td>한국언론진흥재단 빅카인즈 뉴스기사</td>\n",
       "      <td>기타</td>\n",
       "    </tr>\n",
       "    <tr>\n",
       "      <th>111966</th>\n",
       "      <td>01600801.20210610140606002</td>\n",
       "      <td>광주대 장기근속자·스승의날 유공 장관 표창 전수식</td>\n",
       "      <td>전남일보</td>\n",
       "      <td>20210610</td>\n",
       "      <td>20211217143553</td>\n",
       "      <td>[{'context': '광주대학교(총장 김혁종)는 지난 9일 학교 행정관 회의실에...</td>\n",
       "      <td>한국언론진흥재단 빅카인즈 뉴스기사</td>\n",
       "      <td>기타</td>\n",
       "    </tr>\n",
       "  </tbody>\n",
       "</table>\n",
       "<p>111967 rows × 8 columns</p>\n",
       "</div>"
      ],
      "text/plain": [
       "                            doc_id                              doc_title  \\\n",
       "0       01601101.20210325201932006                익산 서부권역 다목적 체육관, 다음달 개관   \n",
       "1       01601101.20210325201933005  무주군건강가정·다문화가족지원센터, '아빠하고 나하고' 프로그램 운영   \n",
       "2       01601101.20210325201936001                          양희은의 '뜻밖의 만남'   \n",
       "3       01601101.20210325201935006                전북 산업단지 대개조 지역경제 도약 기회로   \n",
       "4       01601101.20210325201941001        익산 함라면 야산서 불… 신원 미상 남성 시신 1구 발견   \n",
       "...                            ...                                    ...   \n",
       "111962  01600801.20210610172709001       화물연대 전남지부 출하운송 중단…광양지역 업체들 '발동동'   \n",
       "111963  01600801.20210610182253001                광주전남 첫 델타 변이 확진자 …방역 구멍   \n",
       "111964  01600801.20210610162738001             여수시, 자산공원·선원동 현충탑 통합 건립 추진   \n",
       "111965  01600801.20210610161625001        '한국화 대가' 하철경 화백, 진도에 작품 150점 기증   \n",
       "111966  01600801.20210610140606002            광주대 장기근속자·스승의날 유공 장관 표창 전수식   \n",
       "\n",
       "       doc_source  doc_published         created  \\\n",
       "0            전북일보       20210325  20211217142431   \n",
       "1            전북일보       20210325  20211217142431   \n",
       "2            전북일보       20210325  20211217142431   \n",
       "3            전북일보       20210325  20211217142431   \n",
       "4            전북일보       20210325  20211217142431   \n",
       "...           ...            ...             ...   \n",
       "111962       전남일보       20210610  20211217143553   \n",
       "111963       전남일보       20210609  20211217143553   \n",
       "111964       전남일보       20210610  20211217143553   \n",
       "111965       전남일보       20210610  20211217143553   \n",
       "111966       전남일보       20210610  20211217143553   \n",
       "\n",
       "                                               paragraphs     doc_class.class  \\\n",
       "0       [{'context': '익산시 서부권역 다목적 체육관이 내달 개관을 앞두고 막바지...  한국언론진흥재단 빅카인즈 뉴스기사   \n",
       "1       [{'context': '무주군건강가정ㆍ다문화가족지원센터(센터장 장진원)가 아버지와...  한국언론진흥재단 빅카인즈 뉴스기사   \n",
       "2       [{'context': '양희은의 노래 <엄마가 딸에게>는 엄마와 딸이 차마 말하지...  한국언론진흥재단 빅카인즈 뉴스기사   \n",
       "3       [{'context': '군산ㆍ익산ㆍ완주지역의 노후 산업단지에 내년부터 3년간 국비...  한국언론진흥재단 빅카인즈 뉴스기사   \n",
       "4       [{'context': '25일 오전 11시 35분께 익산시 함라면의 한 야산에서 ...  한국언론진흥재단 빅카인즈 뉴스기사   \n",
       "...                                                   ...                 ...   \n",
       "111962  [{'context': '화물연대 전남지부가 광양지역 운송사의 하치장을 봉쇄하는 등...  한국언론진흥재단 빅카인즈 뉴스기사   \n",
       "111963  [{'context': '광주 ·전남지역에서 처음으로 델타 변이 바이러스 감염자가 ...  한국언론진흥재단 빅카인즈 뉴스기사   \n",
       "111964  [{'context': '권오봉 여수시장이 지난 6일 자산공원 현충탑에서 개최된 제...  한국언론진흥재단 빅카인즈 뉴스기사   \n",
       "111965  [{'context': '임농 하철경 화백(61)은 한국화를 현대적 점묘화법 형태로...  한국언론진흥재단 빅카인즈 뉴스기사   \n",
       "111966  [{'context': '광주대학교(총장 김혁종)는 지난 9일 학교 행정관 회의실에...  한국언론진흥재단 빅카인즈 뉴스기사   \n",
       "\n",
       "       doc_class.code  \n",
       "0                 스포츠  \n",
       "1                  지역  \n",
       "2                  문화  \n",
       "3                IT과학  \n",
       "4                  사회  \n",
       "...               ...  \n",
       "111962             기타  \n",
       "111963             기타  \n",
       "111964             기타  \n",
       "111965             기타  \n",
       "111966             기타  \n",
       "\n",
       "[111967 rows x 8 columns]"
      ]
     },
     "execution_count": 30,
     "metadata": {},
     "output_type": "execute_result"
    }
   ],
   "source": [
    "json_normalize(df_tl1['data'][0])"
   ]
  },
  {
   "cell_type": "code",
   "execution_count": null,
   "id": "3dad6bf0",
   "metadata": {},
   "outputs": [],
   "source": [
    "json_normalize(df['Dataset'])"
   ]
  },
  {
   "cell_type": "code",
   "execution_count": null,
   "id": "096e99f1",
   "metadata": {},
   "outputs": [],
   "source": [
    "json_normalize(df_s.data[0])"
   ]
  },
  {
   "cell_type": "code",
   "execution_count": null,
   "id": "330202bc",
   "metadata": {},
   "outputs": [],
   "source": [
    "json_normalize(df.data[0])"
   ]
  },
  {
   "cell_type": "code",
   "execution_count": null,
   "id": "fb0f3fa1",
   "metadata": {},
   "outputs": [],
   "source": []
  }
 ],
 "metadata": {
  "kernelspec": {
   "display_name": "Python 3 (ipykernel)",
   "language": "python",
   "name": "python3"
  },
  "language_info": {
   "codemirror_mode": {
    "name": "ipython",
    "version": 3
   },
   "file_extension": ".py",
   "mimetype": "text/x-python",
   "name": "python",
   "nbconvert_exporter": "python",
   "pygments_lexer": "ipython3",
   "version": "3.8.13"
  }
 },
 "nbformat": 4,
 "nbformat_minor": 5
}
