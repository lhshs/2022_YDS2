{
 "cells": [
  {
   "cell_type": "code",
   "execution_count": 1,
   "id": "26b4cfdc",
   "metadata": {
    "ExecuteTime": {
     "end_time": "2022-07-29T08:53:00.376064Z",
     "start_time": "2022-07-29T08:53:00.139041Z"
    }
   },
   "outputs": [],
   "source": [
    "import pandas as pd\n",
    "import numpy as np"
   ]
  },
  {
   "cell_type": "code",
   "execution_count": 2,
   "id": "f1a31af8",
   "metadata": {
    "ExecuteTime": {
     "end_time": "2022-07-29T08:56:47.374191Z",
     "start_time": "2022-07-29T08:56:42.833890Z"
    }
   },
   "outputs": [],
   "source": [
    "df = pd.read_csv('df_final.csv', index_col = 0).reset_index().drop(columns='index')"
   ]
  },
  {
   "cell_type": "code",
   "execution_count": 3,
   "id": "8f921382",
   "metadata": {
    "ExecuteTime": {
     "end_time": "2022-07-29T08:56:48.180452Z",
     "start_time": "2022-07-29T08:56:48.157837Z"
    }
   },
   "outputs": [
    {
     "data": {
      "text/html": [
       "<div>\n",
       "<style scoped>\n",
       "    .dataframe tbody tr th:only-of-type {\n",
       "        vertical-align: middle;\n",
       "    }\n",
       "\n",
       "    .dataframe tbody tr th {\n",
       "        vertical-align: top;\n",
       "    }\n",
       "\n",
       "    .dataframe thead th {\n",
       "        text-align: right;\n",
       "    }\n",
       "</style>\n",
       "<table border=\"1\" class=\"dataframe\">\n",
       "  <thead>\n",
       "    <tr style=\"text-align: right;\">\n",
       "      <th></th>\n",
       "      <th>언론사</th>\n",
       "      <th>날짜</th>\n",
       "      <th>제목</th>\n",
       "    </tr>\n",
       "  </thead>\n",
       "  <tbody>\n",
       "    <tr>\n",
       "      <th>0</th>\n",
       "      <td>연합뉴스</td>\n",
       "      <td>1998.05.20.</td>\n",
       "      <td>주가 사흘째 상승세</td>\n",
       "    </tr>\n",
       "    <tr>\n",
       "      <th>1</th>\n",
       "      <td>연합뉴스</td>\n",
       "      <td>1998.05.20.</td>\n",
       "      <td>아남텔레콤, PDA 데이터 전송서비스 개시</td>\n",
       "    </tr>\n",
       "    <tr>\n",
       "      <th>2</th>\n",
       "      <td>연합뉴스</td>\n",
       "      <td>1998.05.20.</td>\n",
       "      <td>&lt;회전목마&gt; 삼성전자, 사이버 사외보 제작</td>\n",
       "    </tr>\n",
       "    <tr>\n",
       "      <th>3</th>\n",
       "      <td>연합뉴스</td>\n",
       "      <td>1998.05.20.</td>\n",
       "      <td>&lt;주식시황&gt; 사흘째 상승, 3백70선 다가서</td>\n",
       "    </tr>\n",
       "    <tr>\n",
       "      <th>4</th>\n",
       "      <td>연합뉴스</td>\n",
       "      <td>1998.05.20.</td>\n",
       "      <td>-춘계승마- 신창무,싼졸쥬마장마술 우승</td>\n",
       "    </tr>\n",
       "    <tr>\n",
       "      <th>...</th>\n",
       "      <td>...</td>\n",
       "      <td>...</td>\n",
       "      <td>...</td>\n",
       "    </tr>\n",
       "    <tr>\n",
       "      <th>3851965</th>\n",
       "      <td>한국경제</td>\n",
       "      <td>2022.07.21.</td>\n",
       "      <td>디지털이미지뱅크, 한투등 3개사서 20억원 투자 유치</td>\n",
       "    </tr>\n",
       "    <tr>\n",
       "      <th>3851966</th>\n",
       "      <td>한국경제</td>\n",
       "      <td>2022.07.21.</td>\n",
       "      <td>[코스닥공시] 세보기계</td>\n",
       "    </tr>\n",
       "    <tr>\n",
       "      <th>3851967</th>\n",
       "      <td>한국경제</td>\n",
       "      <td>2022.07.21.</td>\n",
       "      <td>전자.통신업체 신용등급도 급상승세</td>\n",
       "    </tr>\n",
       "    <tr>\n",
       "      <th>3851968</th>\n",
       "      <td>한국경제</td>\n",
       "      <td>2022.07.21.</td>\n",
       "      <td>종합주가 폭락세, 916.01(-37.21) 전장마감</td>\n",
       "    </tr>\n",
       "    <tr>\n",
       "      <th>3851969</th>\n",
       "      <td>한국경제</td>\n",
       "      <td>2022.07.21.</td>\n",
       "      <td>산자부, 수치제어장치 산.학.연 공동연구 개발에 성공</td>\n",
       "    </tr>\n",
       "  </tbody>\n",
       "</table>\n",
       "<p>3851970 rows × 3 columns</p>\n",
       "</div>"
      ],
      "text/plain": [
       "          언론사           날짜                             제목\n",
       "0        연합뉴스  1998.05.20.                     주가 사흘째 상승세\n",
       "1        연합뉴스  1998.05.20.        아남텔레콤, PDA 데이터 전송서비스 개시\n",
       "2        연합뉴스  1998.05.20.        <회전목마> 삼성전자, 사이버 사외보 제작\n",
       "3        연합뉴스  1998.05.20.       <주식시황> 사흘째 상승, 3백70선 다가서\n",
       "4        연합뉴스  1998.05.20.          -춘계승마- 신창무,싼졸쥬마장마술 우승\n",
       "...       ...          ...                            ...\n",
       "3851965  한국경제  2022.07.21.  디지털이미지뱅크, 한투등 3개사서 20억원 투자 유치\n",
       "3851966  한국경제  2022.07.21.                   [코스닥공시] 세보기계\n",
       "3851967  한국경제  2022.07.21.             전자.통신업체 신용등급도 급상승세\n",
       "3851968  한국경제  2022.07.21.  종합주가 폭락세, 916.01(-37.21) 전장마감\n",
       "3851969  한국경제  2022.07.21.  산자부, 수치제어장치 산.학.연 공동연구 개발에 성공\n",
       "\n",
       "[3851970 rows x 3 columns]"
      ]
     },
     "execution_count": 3,
     "metadata": {},
     "output_type": "execute_result"
    }
   ],
   "source": [
    "df"
   ]
  },
  {
   "cell_type": "code",
   "execution_count": 5,
   "id": "d041e87a",
   "metadata": {
    "ExecuteTime": {
     "end_time": "2022-07-29T08:57:27.241208Z",
     "start_time": "2022-07-29T08:57:26.220368Z"
    }
   },
   "outputs": [
    {
     "data": {
      "text/html": [
       "<div>\n",
       "<style scoped>\n",
       "    .dataframe tbody tr th:only-of-type {\n",
       "        vertical-align: middle;\n",
       "    }\n",
       "\n",
       "    .dataframe tbody tr th {\n",
       "        vertical-align: top;\n",
       "    }\n",
       "\n",
       "    .dataframe thead th {\n",
       "        text-align: right;\n",
       "    }\n",
       "</style>\n",
       "<table border=\"1\" class=\"dataframe\">\n",
       "  <thead>\n",
       "    <tr style=\"text-align: right;\">\n",
       "      <th></th>\n",
       "      <th>언론사</th>\n",
       "      <th>날짜</th>\n",
       "      <th>제목</th>\n",
       "    </tr>\n",
       "  </thead>\n",
       "  <tbody>\n",
       "    <tr>\n",
       "      <th>0</th>\n",
       "      <td>연합뉴스</td>\n",
       "      <td>1998.05.20.</td>\n",
       "      <td>주가 사흘째 상승세</td>\n",
       "    </tr>\n",
       "    <tr>\n",
       "      <th>1</th>\n",
       "      <td>연합뉴스</td>\n",
       "      <td>1998.05.20.</td>\n",
       "      <td>아남텔레콤, PDA 데이터 전송서비스 개시</td>\n",
       "    </tr>\n",
       "    <tr>\n",
       "      <th>2</th>\n",
       "      <td>연합뉴스</td>\n",
       "      <td>1998.05.20.</td>\n",
       "      <td>&lt;회전목마&gt; 삼성전자, 사이버 사외보 제작</td>\n",
       "    </tr>\n",
       "    <tr>\n",
       "      <th>3</th>\n",
       "      <td>연합뉴스</td>\n",
       "      <td>1998.05.20.</td>\n",
       "      <td>&lt;주식시황&gt; 사흘째 상승, 3백70선 다가서</td>\n",
       "    </tr>\n",
       "    <tr>\n",
       "      <th>4</th>\n",
       "      <td>연합뉴스</td>\n",
       "      <td>1998.05.20.</td>\n",
       "      <td>-춘계승마- 신창무,싼졸쥬마장마술 우승</td>\n",
       "    </tr>\n",
       "    <tr>\n",
       "      <th>...</th>\n",
       "      <td>...</td>\n",
       "      <td>...</td>\n",
       "      <td>...</td>\n",
       "    </tr>\n",
       "    <tr>\n",
       "      <th>3851965</th>\n",
       "      <td>한국경제</td>\n",
       "      <td>2022.07.21.</td>\n",
       "      <td>디지털이미지뱅크, 한투등 3개사서 20억원 투자 유치</td>\n",
       "    </tr>\n",
       "    <tr>\n",
       "      <th>3851966</th>\n",
       "      <td>한국경제</td>\n",
       "      <td>2022.07.21.</td>\n",
       "      <td>[코스닥공시] 세보기계</td>\n",
       "    </tr>\n",
       "    <tr>\n",
       "      <th>3851967</th>\n",
       "      <td>한국경제</td>\n",
       "      <td>2022.07.21.</td>\n",
       "      <td>전자.통신업체 신용등급도 급상승세</td>\n",
       "    </tr>\n",
       "    <tr>\n",
       "      <th>3851968</th>\n",
       "      <td>한국경제</td>\n",
       "      <td>2022.07.21.</td>\n",
       "      <td>종합주가 폭락세, 916.01(-37.21) 전장마감</td>\n",
       "    </tr>\n",
       "    <tr>\n",
       "      <th>3851969</th>\n",
       "      <td>한국경제</td>\n",
       "      <td>2022.07.21.</td>\n",
       "      <td>산자부, 수치제어장치 산.학.연 공동연구 개발에 성공</td>\n",
       "    </tr>\n",
       "  </tbody>\n",
       "</table>\n",
       "<p>3851970 rows × 3 columns</p>\n",
       "</div>"
      ],
      "text/plain": [
       "          언론사           날짜                             제목\n",
       "0        연합뉴스  1998.05.20.                     주가 사흘째 상승세\n",
       "1        연합뉴스  1998.05.20.        아남텔레콤, PDA 데이터 전송서비스 개시\n",
       "2        연합뉴스  1998.05.20.        <회전목마> 삼성전자, 사이버 사외보 제작\n",
       "3        연합뉴스  1998.05.20.       <주식시황> 사흘째 상승, 3백70선 다가서\n",
       "4        연합뉴스  1998.05.20.          -춘계승마- 신창무,싼졸쥬마장마술 우승\n",
       "...       ...          ...                            ...\n",
       "3851965  한국경제  2022.07.21.  디지털이미지뱅크, 한투등 3개사서 20억원 투자 유치\n",
       "3851966  한국경제  2022.07.21.                   [코스닥공시] 세보기계\n",
       "3851967  한국경제  2022.07.21.             전자.통신업체 신용등급도 급상승세\n",
       "3851968  한국경제  2022.07.21.  종합주가 폭락세, 916.01(-37.21) 전장마감\n",
       "3851969  한국경제  2022.07.21.  산자부, 수치제어장치 산.학.연 공동연구 개발에 성공\n",
       "\n",
       "[3851970 rows x 3 columns]"
      ]
     },
     "execution_count": 5,
     "metadata": {},
     "output_type": "execute_result"
    }
   ],
   "source": [
    "# 199, 200, 201, 202 를 포함하지 않는 날짜값들 NaN 처리\n",
    "\n",
    "df.loc[df[\"날짜\"].str.contains('199|200|201|202')==False, '날짜'] = np.nan\n",
    "df"
   ]
  },
  {
   "cell_type": "code",
   "execution_count": 7,
   "id": "d5758f14",
   "metadata": {
    "ExecuteTime": {
     "end_time": "2022-07-29T08:57:51.018954Z",
     "start_time": "2022-07-29T08:57:50.220633Z"
    }
   },
   "outputs": [
    {
     "name": "stderr",
     "output_type": "stream",
     "text": [
      "/var/folders/62/p7jd9w0n1n3d19j8s3z7k3lw0000gp/T/ipykernel_5448/1982639406.py:1: FutureWarning: null_counts is deprecated. Use show_counts instead\n",
      "  df.info(null_counts=True)\n"
     ]
    },
    {
     "name": "stdout",
     "output_type": "stream",
     "text": [
      "<class 'pandas.core.frame.DataFrame'>\n",
      "RangeIndex: 3851970 entries, 0 to 3851969\n",
      "Data columns (total 3 columns):\n",
      " #   Column  Non-Null Count    Dtype \n",
      "---  ------  --------------    ----- \n",
      " 0   언론사     3851970 non-null  object\n",
      " 1   날짜      3560705 non-null  object\n",
      " 2   제목      3851970 non-null  object\n",
      "dtypes: object(3)\n",
      "memory usage: 88.2+ MB\n"
     ]
    }
   ],
   "source": [
    "df.info(null_counts=True)"
   ]
  },
  {
   "cell_type": "code",
   "execution_count": 8,
   "id": "8ff562c9",
   "metadata": {
    "ExecuteTime": {
     "end_time": "2022-07-29T08:58:42.693211Z",
     "start_time": "2022-07-29T08:58:41.857267Z"
    }
   },
   "outputs": [
    {
     "data": {
      "text/html": [
       "<div>\n",
       "<style scoped>\n",
       "    .dataframe tbody tr th:only-of-type {\n",
       "        vertical-align: middle;\n",
       "    }\n",
       "\n",
       "    .dataframe tbody tr th {\n",
       "        vertical-align: top;\n",
       "    }\n",
       "\n",
       "    .dataframe thead th {\n",
       "        text-align: right;\n",
       "    }\n",
       "</style>\n",
       "<table border=\"1\" class=\"dataframe\">\n",
       "  <thead>\n",
       "    <tr style=\"text-align: right;\">\n",
       "      <th></th>\n",
       "      <th>언론사</th>\n",
       "      <th>날짜</th>\n",
       "      <th>제목</th>\n",
       "    </tr>\n",
       "  </thead>\n",
       "  <tbody>\n",
       "    <tr>\n",
       "      <th>0</th>\n",
       "      <td>연합뉴스</td>\n",
       "      <td>1998.05.20.</td>\n",
       "      <td>주가 사흘째 상승세</td>\n",
       "    </tr>\n",
       "    <tr>\n",
       "      <th>1</th>\n",
       "      <td>연합뉴스</td>\n",
       "      <td>1998.05.20.</td>\n",
       "      <td>아남텔레콤, PDA 데이터 전송서비스 개시</td>\n",
       "    </tr>\n",
       "    <tr>\n",
       "      <th>2</th>\n",
       "      <td>연합뉴스</td>\n",
       "      <td>1998.05.20.</td>\n",
       "      <td>&lt;회전목마&gt; 삼성전자, 사이버 사외보 제작</td>\n",
       "    </tr>\n",
       "    <tr>\n",
       "      <th>3</th>\n",
       "      <td>연합뉴스</td>\n",
       "      <td>1998.05.20.</td>\n",
       "      <td>&lt;주식시황&gt; 사흘째 상승, 3백70선 다가서</td>\n",
       "    </tr>\n",
       "    <tr>\n",
       "      <th>4</th>\n",
       "      <td>연합뉴스</td>\n",
       "      <td>1998.05.20.</td>\n",
       "      <td>-춘계승마- 신창무,싼졸쥬마장마술 우승</td>\n",
       "    </tr>\n",
       "    <tr>\n",
       "      <th>...</th>\n",
       "      <td>...</td>\n",
       "      <td>...</td>\n",
       "      <td>...</td>\n",
       "    </tr>\n",
       "    <tr>\n",
       "      <th>3851965</th>\n",
       "      <td>한국경제</td>\n",
       "      <td>2022.07.21.</td>\n",
       "      <td>디지털이미지뱅크, 한투등 3개사서 20억원 투자 유치</td>\n",
       "    </tr>\n",
       "    <tr>\n",
       "      <th>3851966</th>\n",
       "      <td>한국경제</td>\n",
       "      <td>2022.07.21.</td>\n",
       "      <td>[코스닥공시] 세보기계</td>\n",
       "    </tr>\n",
       "    <tr>\n",
       "      <th>3851967</th>\n",
       "      <td>한국경제</td>\n",
       "      <td>2022.07.21.</td>\n",
       "      <td>전자.통신업체 신용등급도 급상승세</td>\n",
       "    </tr>\n",
       "    <tr>\n",
       "      <th>3851968</th>\n",
       "      <td>한국경제</td>\n",
       "      <td>2022.07.21.</td>\n",
       "      <td>종합주가 폭락세, 916.01(-37.21) 전장마감</td>\n",
       "    </tr>\n",
       "    <tr>\n",
       "      <th>3851969</th>\n",
       "      <td>한국경제</td>\n",
       "      <td>2022.07.21.</td>\n",
       "      <td>산자부, 수치제어장치 산.학.연 공동연구 개발에 성공</td>\n",
       "    </tr>\n",
       "  </tbody>\n",
       "</table>\n",
       "<p>3851970 rows × 3 columns</p>\n",
       "</div>"
      ],
      "text/plain": [
       "          언론사           날짜                             제목\n",
       "0        연합뉴스  1998.05.20.                     주가 사흘째 상승세\n",
       "1        연합뉴스  1998.05.20.        아남텔레콤, PDA 데이터 전송서비스 개시\n",
       "2        연합뉴스  1998.05.20.        <회전목마> 삼성전자, 사이버 사외보 제작\n",
       "3        연합뉴스  1998.05.20.       <주식시황> 사흘째 상승, 3백70선 다가서\n",
       "4        연합뉴스  1998.05.20.          -춘계승마- 신창무,싼졸쥬마장마술 우승\n",
       "...       ...          ...                            ...\n",
       "3851965  한국경제  2022.07.21.  디지털이미지뱅크, 한투등 3개사서 20억원 투자 유치\n",
       "3851966  한국경제  2022.07.21.                   [코스닥공시] 세보기계\n",
       "3851967  한국경제  2022.07.21.             전자.통신업체 신용등급도 급상승세\n",
       "3851968  한국경제  2022.07.21.  종합주가 폭락세, 916.01(-37.21) 전장마감\n",
       "3851969  한국경제  2022.07.21.  산자부, 수치제어장치 산.학.연 공동연구 개발에 성공\n",
       "\n",
       "[3851970 rows x 3 columns]"
      ]
     },
     "execution_count": 8,
     "metadata": {},
     "output_type": "execute_result"
    }
   ],
   "source": [
    "# NaN값 앞 데이터로 채우기\n",
    "df.fillna(method='ffill', inplace=True)\n",
    "df"
   ]
  },
  {
   "cell_type": "code",
   "execution_count": 9,
   "id": "719e90ca",
   "metadata": {
    "ExecuteTime": {
     "end_time": "2022-07-29T08:58:52.750812Z",
     "start_time": "2022-07-29T08:58:51.955163Z"
    }
   },
   "outputs": [
    {
     "name": "stderr",
     "output_type": "stream",
     "text": [
      "/var/folders/62/p7jd9w0n1n3d19j8s3z7k3lw0000gp/T/ipykernel_5448/1982639406.py:1: FutureWarning: null_counts is deprecated. Use show_counts instead\n",
      "  df.info(null_counts=True)\n"
     ]
    },
    {
     "name": "stdout",
     "output_type": "stream",
     "text": [
      "<class 'pandas.core.frame.DataFrame'>\n",
      "RangeIndex: 3851970 entries, 0 to 3851969\n",
      "Data columns (total 3 columns):\n",
      " #   Column  Non-Null Count    Dtype \n",
      "---  ------  --------------    ----- \n",
      " 0   언론사     3851970 non-null  object\n",
      " 1   날짜      3851970 non-null  object\n",
      " 2   제목      3851970 non-null  object\n",
      "dtypes: object(3)\n",
      "memory usage: 88.2+ MB\n"
     ]
    }
   ],
   "source": [
    "df.info(null_counts=True)"
   ]
  },
  {
   "cell_type": "code",
   "execution_count": 10,
   "id": "5428edec",
   "metadata": {
    "ExecuteTime": {
     "end_time": "2022-07-29T09:00:00.626223Z",
     "start_time": "2022-07-29T08:59:59.639315Z"
    }
   },
   "outputs": [
    {
     "name": "stderr",
     "output_type": "stream",
     "text": [
      "/var/folders/62/p7jd9w0n1n3d19j8s3z7k3lw0000gp/T/ipykernel_5448/621175249.py:1: FutureWarning: The default value of regex will change from True to False in a future version. In addition, single character regular expressions will *not* be treated as literal strings when regex=True.\n",
      "  df[\"날짜\"] = df[\"날짜\"].str.replace(\".\", \"\")\n"
     ]
    },
    {
     "data": {
      "text/plain": [
       "0          19980520\n",
       "1          19980520\n",
       "2          19980520\n",
       "3          19980520\n",
       "4          19980520\n",
       "             ...   \n",
       "3851522    20220721\n",
       "3851523    20220721\n",
       "3851524    20220721\n",
       "3851516    20220721\n",
       "3851969    20220721\n",
       "Name: 날짜, Length: 3851970, dtype: int64"
      ]
     },
     "execution_count": 10,
     "metadata": {},
     "output_type": "execute_result"
    }
   ],
   "source": [
    "# 혹시 모를 날짜 형식이 아닌 숫자값 확인\n",
    "\n",
    "df[\"날짜\"] = df[\"날짜\"].str.replace(\".\", \"\") \n",
    "df.날짜.astype(int).sort_values()"
   ]
  },
  {
   "cell_type": "code",
   "execution_count": null,
   "id": "a104e9f1",
   "metadata": {},
   "outputs": [],
   "source": []
  }
 ],
 "metadata": {
  "kernelspec": {
   "display_name": "Python 3 (ipykernel)",
   "language": "python",
   "name": "python3"
  },
  "language_info": {
   "codemirror_mode": {
    "name": "ipython",
    "version": 3
   },
   "file_extension": ".py",
   "mimetype": "text/x-python",
   "name": "python",
   "nbconvert_exporter": "python",
   "pygments_lexer": "ipython3",
   "version": "3.8.13"
  },
  "toc": {
   "base_numbering": 1,
   "nav_menu": {},
   "number_sections": false,
   "sideBar": true,
   "skip_h1_title": false,
   "title_cell": "Table of Contents",
   "title_sidebar": "Contents",
   "toc_cell": false,
   "toc_position": {},
   "toc_section_display": true,
   "toc_window_display": false
  }
 },
 "nbformat": 4,
 "nbformat_minor": 5
}
