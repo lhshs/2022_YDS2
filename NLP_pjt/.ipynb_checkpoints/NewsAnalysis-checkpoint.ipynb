{
 "cells": [
  {
   "cell_type": "code",
   "execution_count": null,
   "id": "bf964671",
   "metadata": {
    "ExecuteTime": {
     "end_time": "2022-08-03T13:32:47.630968Z",
     "start_time": "2022-08-03T13:32:47.626468Z"
    },
    "executionInfo": {
     "elapsed": 2464,
     "status": "ok",
     "timestamp": 1659511506759,
     "user": {
      "displayName": "hs L",
      "userId": "04521576200392151172"
     },
     "user_tz": -540
    },
    "id": "bf964671"
   },
   "outputs": [],
   "source": [
    "import pandas as pd\n",
    "import numpy as np\n",
    "import matplotlib.pyplot as plt\n",
    "import re\n",
    "import urllib.request\n",
    "from konlpy.tag import Okt\n",
    "from tqdm import tqdm\n",
    "from tensorflow.keras.preprocessing.text import Tokenizer\n",
    "from tensorflow.keras.preprocessing.sequence import pad_sequences\n",
    "\n",
    "import pickle"
   ]
  },
  {
   "cell_type": "code",
   "execution_count": null,
   "id": "aa4934f3",
   "metadata": {
    "ExecuteTime": {
     "end_time": "2022-08-03T13:32:47.641467Z",
     "start_time": "2022-08-03T13:32:47.633467Z"
    }
   },
   "outputs": [],
   "source": [
    "# !pip install tensorflow"
   ]
  },
  {
   "cell_type": "markdown",
   "id": "3de1a59c",
   "metadata": {
    "id": "3de1a59c"
   },
   "source": [
    "# 1. 데이터 이해 및 전처리"
   ]
  },
  {
   "cell_type": "code",
   "execution_count": null,
   "id": "8e571d43",
   "metadata": {
    "ExecuteTime": {
     "end_time": "2022-08-03T13:32:59.118965Z",
     "start_time": "2022-08-03T13:32:47.643968Z"
    },
    "executionInfo": {
     "elapsed": 24747,
     "status": "ok",
     "timestamp": 1659511531503,
     "user": {
      "displayName": "hs L",
      "userId": "04521576200392151172"
     },
     "user_tz": -540
    },
    "id": "8e571d43"
   },
   "outputs": [],
   "source": [
    "df = pd.read_csv('df_labeled.csv', index_col = 0).drop_duplicates()\n"
   ]
  },
  {
   "cell_type": "code",
   "execution_count": null,
   "id": "95702b9f",
   "metadata": {
    "ExecuteTime": {
     "end_time": "2022-08-03T13:32:59.147466Z",
     "start_time": "2022-08-03T13:32:59.121467Z"
    },
    "colab": {
     "base_uri": "https://localhost:8080/",
     "height": 424
    },
    "executionInfo": {
     "elapsed": 9,
     "status": "ok",
     "timestamp": 1659511531503,
     "user": {
      "displayName": "hs L",
      "userId": "04521576200392151172"
     },
     "user_tz": -540
    },
    "id": "95702b9f",
    "outputId": "14c6b859-8c13-4623-86cd-dddc797b846a"
   },
   "outputs": [],
   "source": [
    "df # = df.groupby(['Date', 'Press'])['Title', 'Change'].mean()"
   ]
  },
  {
   "cell_type": "code",
   "execution_count": null,
   "id": "7f771e57",
   "metadata": {
    "ExecuteTime": {
     "end_time": "2022-08-03T13:32:59.178968Z",
     "start_time": "2022-08-03T13:32:59.150967Z"
    },
    "colab": {
     "base_uri": "https://localhost:8080/"
    },
    "executionInfo": {
     "elapsed": 8,
     "status": "ok",
     "timestamp": 1659511531504,
     "user": {
      "displayName": "hs L",
      "userId": "04521576200392151172"
     },
     "user_tz": -540
    },
    "id": "7f771e57",
    "outputId": "73d78688-0dbf-411a-e9fb-27a230333879"
   },
   "outputs": [],
   "source": [
    "df.Change.value_counts()"
   ]
  },
  {
   "cell_type": "code",
   "execution_count": null,
   "id": "6ad8f335",
   "metadata": {
    "ExecuteTime": {
     "end_time": "2022-08-03T13:32:59.273478Z",
     "start_time": "2022-08-03T13:32:59.182967Z"
    },
    "executionInfo": {
     "elapsed": 6,
     "status": "ok",
     "timestamp": 1659511531504,
     "user": {
      "displayName": "hs L",
      "userId": "04521576200392151172"
     },
     "user_tz": -540
    },
    "id": "6ad8f335"
   },
   "outputs": [],
   "source": [
    "df = df.drop(columns=['Press'])"
   ]
  },
  {
   "cell_type": "code",
   "execution_count": null,
   "id": "2eacad08",
   "metadata": {
    "ExecuteTime": {
     "end_time": "2022-08-03T13:32:59.288474Z",
     "start_time": "2022-08-03T13:32:59.275968Z"
    },
    "colab": {
     "base_uri": "https://localhost:8080/",
     "height": 424
    },
    "executionInfo": {
     "elapsed": 6,
     "status": "ok",
     "timestamp": 1659511531504,
     "user": {
      "displayName": "hs L",
      "userId": "04521576200392151172"
     },
     "user_tz": -540
    },
    "id": "2eacad08",
    "outputId": "cc30f111-84bb-4cfb-d82b-bc0577dfd5e4"
   },
   "outputs": [],
   "source": [
    "df"
   ]
  },
  {
   "cell_type": "code",
   "execution_count": null,
   "id": "fd77f7ee",
   "metadata": {
    "ExecuteTime": {
     "end_time": "2022-08-03T13:33:05.079965Z",
     "start_time": "2022-08-03T13:32:59.290968Z"
    },
    "executionInfo": {
     "elapsed": 7155,
     "status": "ok",
     "timestamp": 1659511538654,
     "user": {
      "displayName": "hs L",
      "userId": "04521576200392151172"
     },
     "user_tz": -540
    },
    "id": "fd77f7ee"
   },
   "outputs": [],
   "source": [
    "df = df.groupby(['Date','Change']).sum()"
   ]
  },
  {
   "cell_type": "markdown",
   "id": "0cb9eb29",
   "metadata": {
    "id": "0cb9eb29"
   },
   "source": [
    "날짜와 변동을 기준으로 groupby"
   ]
  },
  {
   "cell_type": "code",
   "execution_count": null,
   "id": "805d00c0",
   "metadata": {
    "ExecuteTime": {
     "end_time": "2022-08-03T13:33:05.089967Z",
     "start_time": "2022-08-03T13:33:05.082471Z"
    },
    "executionInfo": {
     "elapsed": 34,
     "status": "ok",
     "timestamp": 1659511538655,
     "user": {
      "displayName": "hs L",
      "userId": "04521576200392151172"
     },
     "user_tz": -540
    },
    "id": "805d00c0"
   },
   "outputs": [],
   "source": [
    "df=df.iloc[7:,:]    # '1995-05.28'일자부터 설정"
   ]
  },
  {
   "cell_type": "code",
   "execution_count": null,
   "id": "509505d3",
   "metadata": {
    "ExecuteTime": {
     "end_time": "2022-08-03T13:33:05.112467Z",
     "start_time": "2022-08-03T13:33:05.093467Z"
    },
    "colab": {
     "base_uri": "https://localhost:8080/",
     "height": 424
    },
    "executionInfo": {
     "elapsed": 32,
     "status": "ok",
     "timestamp": 1659511538655,
     "user": {
      "displayName": "hs L",
      "userId": "04521576200392151172"
     },
     "user_tz": -540
    },
    "id": "509505d3",
    "outputId": "61d13aa0-c6c7-4652-fb06-8d98a7830fd9"
   },
   "outputs": [],
   "source": [
    "df = df.reset_index()#.drop(columns=['index'])\n",
    "df"
   ]
  },
  {
   "cell_type": "code",
   "execution_count": null,
   "id": "0f4149d0",
   "metadata": {
    "ExecuteTime": {
     "end_time": "2022-08-03T14:06:39.892527Z",
     "start_time": "2022-08-03T14:06:39.887050Z"
    },
    "colab": {
     "base_uri": "https://localhost:8080/"
    },
    "executionInfo": {
     "elapsed": 31,
     "status": "ok",
     "timestamp": 1659511538655,
     "user": {
      "displayName": "hs L",
      "userId": "04521576200392151172"
     },
     "user_tz": -540
    },
    "id": "0f4149d0",
    "outputId": "08b6d6cd-2e68-4417-b0d3-1749b656dd78"
   },
   "outputs": [],
   "source": [
    "train_ratio = 0.8\n",
    "train_range = int(len(df) * train_ratio)\n",
    "train_range"
   ]
  },
  {
   "cell_type": "code",
   "execution_count": null,
   "id": "75d78b16",
   "metadata": {
    "ExecuteTime": {
     "end_time": "2022-08-03T14:06:47.768008Z",
     "start_time": "2022-08-03T14:06:47.750508Z"
    },
    "executionInfo": {
     "elapsed": 28,
     "status": "ok",
     "timestamp": 1659511538655,
     "user": {
      "displayName": "hs L",
      "userId": "04521576200392151172"
     },
     "user_tz": -540
    },
    "id": "75d78b16"
   },
   "outputs": [],
   "source": [
    "train_data = df[:train_range]\n",
    "test_data = df[train_range:]"
   ]
  },
  {
   "cell_type": "code",
   "execution_count": null,
   "id": "1e25504f",
   "metadata": {
    "ExecuteTime": {
     "end_time": "2022-08-03T14:06:49.746638Z",
     "start_time": "2022-08-03T14:06:49.742138Z"
    },
    "colab": {
     "base_uri": "https://localhost:8080/"
    },
    "executionInfo": {
     "elapsed": 28,
     "status": "ok",
     "timestamp": 1659511538656,
     "user": {
      "displayName": "hs L",
      "userId": "04521576200392151172"
     },
     "user_tz": -540
    },
    "id": "1e25504f",
    "outputId": "b2d58050-0b2c-4564-ea13-6fb906a014d5"
   },
   "outputs": [],
   "source": [
    "print(len(train_data), len(test_data))"
   ]
  },
  {
   "cell_type": "markdown",
   "id": "021ae708",
   "metadata": {
    "id": "021ae708"
   },
   "source": [
    "## 데이터 정제하기"
   ]
  },
  {
   "cell_type": "code",
   "execution_count": null,
   "id": "e0f1ce38",
   "metadata": {
    "ExecuteTime": {
     "end_time": "2022-08-03T13:33:05.345467Z",
     "start_time": "2022-08-03T13:33:05.149967Z"
    },
    "colab": {
     "base_uri": "https://localhost:8080/",
     "height": 283
    },
    "executionInfo": {
     "elapsed": 26,
     "status": "ok",
     "timestamp": 1659511538656,
     "user": {
      "displayName": "hs L",
      "userId": "04521576200392151172"
     },
     "user_tz": -540
    },
    "id": "e0f1ce38",
    "outputId": "d5566e8f-e1aa-4bb9-f47e-74718f028633"
   },
   "outputs": [],
   "source": [
    "train_data.Change.value_counts().plot(kind = 'bar')"
   ]
  },
  {
   "cell_type": "code",
   "execution_count": null,
   "id": "3f8f5b5e",
   "metadata": {
    "ExecuteTime": {
     "end_time": "2022-08-03T13:33:05.359466Z",
     "start_time": "2022-08-03T13:33:05.348467Z"
    },
    "colab": {
     "base_uri": "https://localhost:8080/"
    },
    "executionInfo": {
     "elapsed": 25,
     "status": "ok",
     "timestamp": 1659511538657,
     "user": {
      "displayName": "hs L",
      "userId": "04521576200392151172"
     },
     "user_tz": -540
    },
    "id": "3f8f5b5e",
    "outputId": "c51e9713-9e1d-4d2d-b1ae-1bb8181adb8f"
   },
   "outputs": [],
   "source": [
    "# Null값 확인\n",
    "train_data.isnull().sum()"
   ]
  },
  {
   "cell_type": "code",
   "execution_count": null,
   "id": "1c6a2745",
   "metadata": {
    "ExecuteTime": {
     "end_time": "2022-08-03T13:33:09.463466Z",
     "start_time": "2022-08-03T13:33:05.361968Z"
    },
    "colab": {
     "base_uri": "https://localhost:8080/",
     "height": 369
    },
    "executionInfo": {
     "elapsed": 2250,
     "status": "ok",
     "timestamp": 1659511540884,
     "user": {
      "displayName": "hs L",
      "userId": "04521576200392151172"
     },
     "user_tz": -540
    },
    "id": "1c6a2745",
    "outputId": "583e4db6-8893-4863-ea2a-684565ff8d2f"
   },
   "outputs": [],
   "source": [
    "# 한글과 공백을 제외하고 모두 제거\n",
    "train_data['Title'] = train_data['Title'].str.replace(\"[^ㄱ-ㅎㅏ-ㅣ가-힣 ]\",\"\")\n",
    "train_data[:5]"
   ]
  },
  {
   "cell_type": "code",
   "execution_count": null,
   "id": "c7ae278e",
   "metadata": {
    "ExecuteTime": {
     "end_time": "2022-08-03T13:33:10.027466Z",
     "start_time": "2022-08-03T13:33:09.466466Z"
    },
    "colab": {
     "base_uri": "https://localhost:8080/"
    },
    "executionInfo": {
     "elapsed": 6,
     "status": "ok",
     "timestamp": 1659511541409,
     "user": {
      "displayName": "hs L",
      "userId": "04521576200392151172"
     },
     "user_tz": -540
    },
    "id": "c7ae278e",
    "outputId": "f801cc49-b762-4657-dc71-2ceec13d9a5f"
   },
   "outputs": [],
   "source": [
    "# 한글이 없던 제목은 빈값이 됐을 것, Null로 변경\n",
    "train_data['Title'] = train_data['Title'].str.replace('^ +', \"\") # white space 데이터를 empty value로 변경\n",
    "train_data['Title'].replace('', np.nan, inplace=True)\n",
    "print(train_data.isnull().sum())\n",
    "\n",
    "# Null값 없음\n",
    "# test_data = test_data.dropna(how='any') # Null 값 제거\n"
   ]
  },
  {
   "cell_type": "code",
   "execution_count": null,
   "id": "c00c2e1b",
   "metadata": {
    "ExecuteTime": {
     "end_time": "2022-08-03T13:33:12.980965Z",
     "start_time": "2022-08-03T13:33:10.029967Z"
    },
    "colab": {
     "base_uri": "https://localhost:8080/"
    },
    "executionInfo": {
     "elapsed": 2660,
     "status": "ok",
     "timestamp": 1659511544065,
     "user": {
      "displayName": "hs L",
      "userId": "04521576200392151172"
     },
     "user_tz": -540
    },
    "id": "c00c2e1b",
    "outputId": "4ec70de9-a0d6-4065-f034-d52a81fa2a16"
   },
   "outputs": [],
   "source": [
    "# 테스트 데이터도 같은 방식으로 전처리\n",
    "\n",
    "test_data.drop_duplicates(subset = ['Title'], inplace=True) # document 열에서 중복인 내용이 있다면 중복 제거\n",
    "test_data['Title'] = test_data['Title'].str.replace(\"[^ㄱ-ㅎㅏ-ㅣ가-힣 ]\",\"\") # 정규 표현식 수행\n",
    "test_data['Title'] = test_data['Title'].str.replace('^ +', \"\") # 공백은 empty 값으로 변경\n",
    "test_data['Title'].replace('', np.nan, inplace=True) # 공백은 Null 값으로 변경\n",
    "test_data = test_data.dropna(how='any') # Null 값 제거\n",
    "print('전처리 후 테스트용 샘플의 개수 :',len(test_data))"
   ]
  },
  {
   "cell_type": "markdown",
   "id": "fa420dd6",
   "metadata": {
    "id": "fa420dd6"
   },
   "source": [
    "## 토큰화"
   ]
  },
  {
   "cell_type": "code",
   "execution_count": null,
   "id": "6e6f56f1",
   "metadata": {
    "ExecuteTime": {
     "end_time": "2022-08-03T13:33:12.988467Z",
     "start_time": "2022-08-03T13:33:12.983466Z"
    },
    "executionInfo": {
     "elapsed": 4,
     "status": "ok",
     "timestamp": 1659511544066,
     "user": {
      "displayName": "hs L",
      "userId": "04521576200392151172"
     },
     "user_tz": -540
    },
    "id": "6e6f56f1"
   },
   "outputs": [],
   "source": [
    "# 불용어 설정\n",
    "stopwords = ['의','가','이','은','들','는','좀','잘','걍','과','도','를','으로','자','에','와','한','하다']\n"
   ]
  },
  {
   "cell_type": "code",
   "execution_count": null,
   "id": "5b97fe05",
   "metadata": {
    "ExecuteTime": {
     "end_time": "2022-08-03T13:33:14.029465Z",
     "start_time": "2022-08-03T13:33:12.991467Z"
    }
   },
   "outputs": [],
   "source": [
    "okt = Okt()"
   ]
  },
  {
   "cell_type": "code",
   "execution_count": null,
   "id": "19ab6c7b",
   "metadata": {
    "ExecuteTime": {
     "end_time": "2022-08-03T12:39:32.443017Z",
     "start_time": "2022-08-03T12:39:30.400017Z"
    },
    "colab": {
     "base_uri": "https://localhost:8080/"
    },
    "executionInfo": {
     "elapsed": 3418076,
     "status": "ok",
     "timestamp": 1659514967303,
     "user": {
      "displayName": "hs L",
      "userId": "04521576200392151172"
     },
     "user_tz": -540
    },
    "id": "19ab6c7b",
    "outputId": "a746a834-6422-4370-f848-883a72794a90"
   },
   "outputs": [],
   "source": [
    "# 토큰화를 위한 형태소 분석기, KoNLPy의 OKt 사용\n",
    "okt = Okt()\n",
    "\n",
    "X_train = []\n",
    "for sentence in tqdm(train_data['Title']):\n",
    "    tokenized_sentence = okt.morphs(sentence, stem=True) # 토큰화\n",
    "    stopwords_removed_sentence = [word for word in tokenized_sentence if not word in stopwords] # 불용어 제거\n",
    "    X_train.append(stopwords_removed_sentence)"
   ]
  },
  {
   "cell_type": "code",
   "execution_count": null,
   "id": "a48f0544",
   "metadata": {
    "ExecuteTime": {
     "end_time": "2022-08-03T14:04:00.688975Z",
     "start_time": "2022-08-03T14:03:56.182468Z"
    }
   },
   "outputs": [],
   "source": [
    "# tokenizer 정보 저장\n",
    "'''\n",
    "with open('X_test.pickle','wb') as handle:\n",
    "    pickle.dump(X_test, handle, protocol=pickle.HIGHEST_PROTOCOL)\n",
    "'''"
   ]
  },
  {
   "cell_type": "code",
   "execution_count": null,
   "id": "282d7439",
   "metadata": {
    "ExecuteTime": {
     "end_time": "2022-08-03T13:34:18.149967Z",
     "start_time": "2022-08-03T13:34:17.736967Z"
    }
   },
   "outputs": [],
   "source": [
    "# tokenizer 저장 정보 불러오기\n",
    "with open('X_test.pickle', 'rb') as handle:\n",
    "    X_test = pickle.load(handle)"
   ]
  },
  {
   "cell_type": "code",
   "execution_count": null,
   "id": "f28c821a",
   "metadata": {
    "ExecuteTime": {
     "end_time": "2022-08-03T13:33:52.288468Z",
     "start_time": "2022-08-03T13:33:52.272466Z"
    },
    "colab": {
     "base_uri": "https://localhost:8080/"
    },
    "executionInfo": {
     "elapsed": 492,
     "status": "ok",
     "timestamp": 1659515031129,
     "user": {
      "displayName": "hs L",
      "userId": "04521576200392151172"
     },
     "user_tz": -540
    },
    "id": "f28c821a",
    "outputId": "49b3dcfe-5ec8-414e-f810-4f8af796bb43"
   },
   "outputs": [],
   "source": [
    "# 상위 3개 데이터 보기\n",
    "print(X_train[:3])"
   ]
  },
  {
   "cell_type": "code",
   "execution_count": null,
   "id": "3173b962",
   "metadata": {
    "ExecuteTime": {
     "end_time": "2022-08-03T14:04:39.354467Z",
     "start_time": "2022-08-03T14:04:37.222967Z"
    },
    "scrolled": true
   },
   "outputs": [],
   "source": [
    "X_train\n"
   ]
  },
  {
   "cell_type": "code",
   "execution_count": null,
   "id": "bckZtDkxmpBT",
   "metadata": {
    "ExecuteTime": {
     "end_time": "2022-08-03T14:03:36.469970Z",
     "start_time": "2022-08-03T13:35:01.574966Z"
    },
    "id": "bckZtDkxmpBT"
   },
   "outputs": [],
   "source": [
    "# 테스트 데이터에 대해서도 동일하게 토큰화\n",
    "X_test = []\n",
    "for sentence in tqdm(test_data['Title']):\n",
    "    tokenized_sentence = okt.morphs(sentence, stem=True) # 토큰화\n",
    "    stopwords_removed_sentence = [word for word in tokenized_sentence if not word in stopwords] # 불용어 제거\n",
    "    X_test.append(stopwords_removed_sentence)"
   ]
  },
  {
   "cell_type": "code",
   "execution_count": null,
   "id": "1680339c",
   "metadata": {
    "ExecuteTime": {
     "end_time": "2022-08-03T14:05:04.361979Z",
     "start_time": "2022-08-03T14:04:52.422466Z"
    }
   },
   "outputs": [],
   "source": [
    "X_test"
   ]
  },
  {
   "cell_type": "markdown",
   "id": "J185iZY6nCIl",
   "metadata": {
    "id": "J185iZY6nCIl"
   },
   "source": [
    "## 정수 인코딩"
   ]
  },
  {
   "cell_type": "code",
   "execution_count": null,
   "id": "3988454d",
   "metadata": {
    "ExecuteTime": {
     "end_time": "2022-08-03T14:05:16.638996Z",
     "start_time": "2022-08-03T14:05:04.365467Z"
    },
    "id": "3988454d"
   },
   "outputs": [],
   "source": [
    "tokenizer = Tokenizer()\n",
    "tokenizer.fit_on_texts(X_train)"
   ]
  },
  {
   "cell_type": "code",
   "execution_count": null,
   "id": "35b70b21",
   "metadata": {
    "ExecuteTime": {
     "end_time": "2022-08-03T14:05:16.674991Z",
     "start_time": "2022-08-03T14:05:16.640966Z"
    },
    "id": "35b70b21"
   },
   "outputs": [],
   "source": [
    "# 단어 집합 생성과 함께 고유한 정수가 부여됨 / 등장 빈도수가 높은 순서대로 부여됨\n",
    "print(tokenizer.word_index)"
   ]
  },
  {
   "cell_type": "markdown",
   "id": "Xs_jKDPsops5",
   "metadata": {
    "id": "Xs_jKDPsops5"
   },
   "source": [
    "- 높은 점수 = 등장 빈도수 낮음"
   ]
  },
  {
   "cell_type": "code",
   "execution_count": null,
   "id": "I1gdPzEIoi7X",
   "metadata": {
    "ExecuteTime": {
     "end_time": "2022-08-03T14:05:39.831921Z",
     "start_time": "2022-08-03T14:05:39.790922Z"
    },
    "id": "I1gdPzEIoi7X"
   },
   "outputs": [],
   "source": [
    "# 등장 빈도수가 3회 미만인 단어들의 비중을 확인해보자\n",
    "\n",
    "threshold = 3\n",
    "total_cnt = len(tokenizer.word_index) # 단어의 수\n",
    "rare_cnt = 0 # 등장 빈도수가 threshold보다 작은 단어의 개수를 카운트\n",
    "total_freq = 0 # 훈련 데이터의 전체 단어 빈도수 총 합\n",
    "rare_freq = 0 # 등장 빈도수가 threshold보다 작은 단어의 등장 빈도수의 총 합\n",
    "\n",
    "# 단어와 빈도수의 쌍(pair)을 key와 value로 받는다.\n",
    "for key, value in tokenizer.word_counts.items():\n",
    "    total_freq = total_freq + value\n",
    "\n",
    "    # 단어의 등장 빈도수가 threshold보다 작으면\n",
    "    if(value < threshold):\n",
    "        rare_cnt = rare_cnt + 1\n",
    "        rare_freq = rare_freq + value\n",
    "\n",
    "print('단어 집합(vocabulary)의 크기 :',total_cnt)\n",
    "print('등장 빈도가 %s번 이하인 희귀 단어의 수: %s'%(threshold - 1, rare_cnt))\n",
    "print(\"단어 집합에서 희귀 단어의 비율:\", (rare_cnt / total_cnt)*100)\n",
    "print(\"전체 등장 빈도에서 희귀 단어 등장 빈도 비율:\", (rare_freq / total_freq)*100)"
   ]
  },
  {
   "cell_type": "code",
   "execution_count": null,
   "id": "hErOWgzjvLCN",
   "metadata": {
    "ExecuteTime": {
     "end_time": "2022-08-03T14:05:43.355441Z",
     "start_time": "2022-08-03T14:05:43.350439Z"
    },
    "id": "hErOWgzjvLCN"
   },
   "outputs": [],
   "source": [
    "# 전체 단어 개수 중 빈도수 2이하인 단어는 제거.\n",
    "# 0번 패딩 토큰을 고려하여 + 1\n",
    "vocab_size = total_cnt  - rare_cnt + 1\n",
    "print('단어 집합의 크기 :',vocab_size)"
   ]
  },
  {
   "cell_type": "code",
   "execution_count": null,
   "id": "KRUUGngcvK4T",
   "metadata": {
    "ExecuteTime": {
     "end_time": "2022-08-03T14:06:13.206808Z",
     "start_time": "2022-08-03T14:05:46.679238Z"
    },
    "id": "KRUUGngcvK4T"
   },
   "outputs": [],
   "source": [
    "tokenizer = Tokenizer(vocab_size) \n",
    "tokenizer.fit_on_texts(X_train)\n",
    "X_train = tokenizer.texts_to_sequences(X_train)\n",
    "X_test = tokenizer.texts_to_sequences(X_test)"
   ]
  },
  {
   "cell_type": "markdown",
   "id": "AmMjaVS8vW5D",
   "metadata": {
    "id": "AmMjaVS8vW5D"
   },
   "source": [
    "- 정수 인코딩 잘 됐는지 확인"
   ]
  },
  {
   "cell_type": "code",
   "execution_count": null,
   "id": "ccsGShItvKvM",
   "metadata": {
    "ExecuteTime": {
     "end_time": "2022-08-03T14:06:13.214237Z",
     "start_time": "2022-08-03T14:06:13.210238Z"
    },
    "id": "ccsGShItvKvM"
   },
   "outputs": [],
   "source": [
    "print(X_train[:3])"
   ]
  },
  {
   "cell_type": "code",
   "execution_count": null,
   "id": "wwAOmuIGvT-W",
   "metadata": {
    "ExecuteTime": {
     "end_time": "2022-08-03T14:06:13.228737Z",
     "start_time": "2022-08-03T14:06:13.216737Z"
    },
    "id": "wwAOmuIGvT-W"
   },
   "outputs": [],
   "source": [
    "y_train = np.array(train_data['Change'])\n",
    "y_test = np.array(test_data['Change'])"
   ]
  },
  {
   "cell_type": "markdown",
   "id": "AELOgQlVrvbe",
   "metadata": {
    "id": "AELOgQlVrvbe"
   },
   "source": [
    "## 빈 샘플 제거"
   ]
  },
  {
   "cell_type": "code",
   "execution_count": null,
   "id": "hsqZhn47r1TN",
   "metadata": {
    "ExecuteTime": {
     "end_time": "2022-08-03T14:06:21.460599Z",
     "start_time": "2022-08-03T14:06:21.455098Z"
    },
    "id": "hsqZhn47r1TN"
   },
   "outputs": [],
   "source": [
    "drop_train = [index for index, sentence in enumerate(X_train) if len(sentence) < 1]"
   ]
  },
  {
   "cell_type": "code",
   "execution_count": null,
   "id": "tHfNKTtOr3D_",
   "metadata": {
    "ExecuteTime": {
     "end_time": "2022-08-03T14:06:22.739089Z",
     "start_time": "2022-08-03T14:06:22.727610Z"
    },
    "id": "tHfNKTtOr3D_"
   },
   "outputs": [],
   "source": [
    "# 빈 샘플들을 제거\n",
    "X_train = np.delete(X_train, drop_train, axis=0)\n",
    "y_train = np.delete(y_train, drop_train, axis=0)\n",
    "print(len(X_train))\n",
    "print(len(y_train))"
   ]
  },
  {
   "cell_type": "code",
   "execution_count": null,
   "id": "GNPmsVB0r4X2",
   "metadata": {
    "id": "GNPmsVB0r4X2"
   },
   "outputs": [],
   "source": []
  },
  {
   "cell_type": "markdown",
   "id": "6U8lZe36rvLU",
   "metadata": {
    "id": "6U8lZe36rvLU"
   },
   "source": [
    "## 패딩"
   ]
  },
  {
   "cell_type": "code",
   "execution_count": null,
   "id": "ULAZNPjgojMR",
   "metadata": {
    "ExecuteTime": {
     "end_time": "2022-08-03T14:07:23.176944Z",
     "start_time": "2022-08-03T14:07:22.950915Z"
    },
    "id": "ULAZNPjgojMR"
   },
   "outputs": [],
   "source": [
    "print('Title의 최대 길이 :',max(len(review) for review in X_train))\n",
    "print('Title의 평균 길이 :',sum(map(len, X_train))/len(X_train))\n",
    "plt.hist([len(review) for review in X_train], bins=50)\n",
    "plt.xlabel('length of samples')\n",
    "plt.ylabel('number of samples')\n",
    "plt.show()"
   ]
  },
  {
   "cell_type": "code",
   "execution_count": null,
   "id": "CDfovQDXojbZ",
   "metadata": {
    "ExecuteTime": {
     "end_time": "2022-08-03T14:07:25.531697Z",
     "start_time": "2022-08-03T14:07:25.527195Z"
    },
    "id": "CDfovQDXojbZ"
   },
   "outputs": [],
   "source": [
    "def below_threshold_len(max_len, nested_list):\n",
    "    count = 0\n",
    "    for sentence in nested_list:\n",
    "        if(len(sentence) <= max_len):\n",
    "            count = count + 1\n",
    "    print('전체 샘플 중 길이가 %s 이하인 샘플의 비율: %s'%(max_len, (count / len(nested_list))*100))\n",
    "        "
   ]
  },
  {
   "cell_type": "code",
   "execution_count": null,
   "id": "T65uubk6ojrj",
   "metadata": {
    "ExecuteTime": {
     "end_time": "2022-08-03T14:07:33.619776Z",
     "start_time": "2022-08-03T14:07:33.614774Z"
    },
    "id": "T65uubk6ojrj"
   },
   "outputs": [],
   "source": [
    "max_len = 10000\n",
    "below_threshold_len(max_len, X_train)"
   ]
  },
  {
   "cell_type": "code",
   "execution_count": null,
   "id": "thldAOt6sFeH",
   "metadata": {
    "ExecuteTime": {
     "end_time": "2022-08-03T14:07:36.460017Z",
     "start_time": "2022-08-03T14:07:35.182916Z"
    },
    "id": "thldAOt6sFeH"
   },
   "outputs": [],
   "source": [
    "X_train = pad_sequences(X_train, maxlen=max_len)\n",
    "X_test = pad_sequences(X_test, maxlen=max_len)"
   ]
  },
  {
   "cell_type": "markdown",
   "id": "V7UAcCpTpUv3",
   "metadata": {
    "id": "V7UAcCpTpUv3"
   },
   "source": [
    "# LSTM 활용"
   ]
  },
  {
   "cell_type": "code",
   "execution_count": null,
   "id": "5RZlyu6RqK8T",
   "metadata": {
    "ExecuteTime": {
     "start_time": "2022-08-03T14:07:37.661Z"
    },
    "id": "5RZlyu6RqK8T",
    "scrolled": true
   },
   "outputs": [],
   "source": [
    "from tensorflow.keras.layers import Embedding, Dense, LSTM\n",
    "from tensorflow.keras.models import Sequential\n",
    "from tensorflow.keras.models import load_model\n",
    "from tensorflow.keras.callbacks import EarlyStopping, ModelCheckpoint\n",
    "\n",
    "embedding_dim = 100\n",
    "hidden_units = 128\n",
    "\n",
    "model = Sequential()\n",
    "model.add(Embedding(vocab_size, embedding_dim))\n",
    "model.add(LSTM(hidden_units))\n",
    "model.add(Dense(1, activation='sigmoid'))\n",
    "\n",
    "es = EarlyStopping(monitor='val_loss', mode='min', verbose=1, patience=4)\n",
    "mc = ModelCheckpoint('best_model.h5', monitor='val_acc', mode='max', verbose=1, save_best_only=True)\n",
    "\n",
    "model.compile(optimizer='rmsprop', loss='binary_crossentropy', metrics=['acc'])\n",
    "history = model.fit(X_train, y_train, epochs=30, callbacks=[es, mc], batch_size=64, validation_split=0.2)"
   ]
  },
  {
   "cell_type": "code",
   "execution_count": null,
   "id": "M_XTsDP3qTX3",
   "metadata": {
    "ExecuteTime": {
     "end_time": "2022-08-03T13:32:11.741469Z",
     "start_time": "2022-08-03T13:32:11.741469Z"
    },
    "id": "M_XTsDP3qTX3"
   },
   "outputs": [],
   "source": [
    "loaded_model = load_model('best_model.h5')\n",
    "print(\"\\n 테스트 정확도: %.4f\" % (loaded_model.evaluate(X_test, y_test)[1]))"
   ]
  },
  {
   "cell_type": "markdown",
   "id": "DVcVtkf9pVIV",
   "metadata": {
    "id": "DVcVtkf9pVIV"
   },
   "source": [
    "# 예측"
   ]
  },
  {
   "cell_type": "markdown",
   "id": "GfOVU4LFplA_",
   "metadata": {
    "id": "GfOVU4LFplA_"
   },
   "source": [
    "- 현재 학습한 model에, 새로운 입력에 대해서 예측값을 얻는 것은 model.predict()를 사용한다 \n",
    "- model.fit()을 할 때와 마찬가지로 새로운 입력에 대해서도 동일한 전처리를 수행 후에 model.predict()를 사용해야 한다"
   ]
  },
  {
   "cell_type": "code",
   "execution_count": null,
   "id": "Iqe5HDZNpbEf",
   "metadata": {
    "id": "Iqe5HDZNpbEf"
   },
   "outputs": [],
   "source": [
    "def sentiment_predict(new_sentence):\n",
    "      new_sentence = re.sub(r'[^ㄱ-ㅎㅏ-ㅣ가-힣 ]','', new_sentence)\n",
    "      new_sentence = okt.morphs(new_sentence, stem=True) # 토큰화\n",
    "      new_sentence = [word for word in new_sentence if not word in stopwords] # 불용어 제거\n",
    "      encoded = tokenizer.texts_to_sequences([new_sentence]) # 정수 인코딩\n",
    "      pad_new = pad_sequences(encoded, maxlen = max_len) # 패딩\n",
    "      score = float(loaded_model.predict(pad_new)) # 예측\n",
    "      if(score > 0.5):\n",
    "        print(\"{:.2f}% 확률로 긍정 리뷰입니다.\\n\".format(score * 100))\n",
    "      else:\n",
    "        print(\"{:.2f}% 확률로 부정 리뷰입니다.\\n\".format((1 - score) * 100))"
   ]
  }
 ],
 "metadata": {
  "accelerator": "GPU",
  "colab": {
   "collapsed_sections": [],
   "name": "NewsAnalysis.ipynb",
   "provenance": []
  },
  "gpuClass": "standard",
  "kernelspec": {
   "display_name": "Python 3 (ipykernel)",
   "language": "python",
   "name": "python3"
  },
  "language_info": {
   "codemirror_mode": {
    "name": "ipython",
    "version": 3
   },
   "file_extension": ".py",
   "mimetype": "text/x-python",
   "name": "python",
   "nbconvert_exporter": "python",
   "pygments_lexer": "ipython3",
   "version": "3.9.12"
  },
  "toc": {
   "base_numbering": 1,
   "nav_menu": {},
   "number_sections": false,
   "sideBar": true,
   "skip_h1_title": false,
   "title_cell": "Table of Contents",
   "title_sidebar": "Contents",
   "toc_cell": false,
   "toc_position": {
    "height": "calc(100% - 180px)",
    "left": "10px",
    "top": "150px",
    "width": "224px"
   },
   "toc_section_display": true,
   "toc_window_display": true
  }
 },
 "nbformat": 4,
 "nbformat_minor": 5
}
