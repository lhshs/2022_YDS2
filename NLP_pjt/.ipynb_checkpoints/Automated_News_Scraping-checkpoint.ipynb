{
 "cells": [
  {
   "cell_type": "code",
   "execution_count": 1,
   "id": "a75c3e83",
   "metadata": {
    "ExecuteTime": {
     "end_time": "2022-07-28T00:44:09.356694Z",
     "start_time": "2022-07-28T00:44:08.746913Z"
    }
   },
   "outputs": [],
   "source": [
    "# 라이브러리 import\n",
    "import os\n",
    "import pandas as pd\n",
    "import numpy as np\n",
    "import math\n",
    "\n",
    "# 셀레늄\n",
    "from selenium.webdriver.common.alert import Alert\n",
    "from selenium import webdriver  # 라이브러리(모듈) 가져오라\n",
    "# pip install chromedriver_autoinstaller\n",
    "from selenium.webdriver.common.keys import Keys\n",
    "from selenium.webdriver import ActionChains as AC\n",
    "\n",
    "from selenium.webdriver.chrome.service import Service as ChromeService\n",
    "from webdriver_manager.chrome import ChromeDriverManager\n",
    "from selenium.webdriver.common.by import By\n",
    "from selenium.webdriver.common.keys import Keys\n",
    "\n",
    "# tqdm : for문 진행상황 체크\n",
    "from tqdm import tqdm, tqdm_notebook\n",
    "from tqdm.notebook import tqdm\n",
    "\n",
    "# 정규표현식(regular expression) : 문자(알파벳,한글), 숫자, 특수기호 정제 및 추출\n",
    "import re\n",
    "from time import sleep\n",
    "import time\n",
    "\n",
    "# 워닝 무시\n",
    "import warnings\n",
    "warnings.filterwarnings('ignore')"
   ]
  },
  {
   "cell_type": "markdown",
   "id": "3780f714",
   "metadata": {},
   "source": [
    "# for문으로 크롤링 "
   ]
  },
  {
   "cell_type": "code",
   "execution_count": 26,
   "id": "c838b67f",
   "metadata": {
    "ExecuteTime": {
     "end_time": "2022-07-28T01:03:41.909203Z",
     "start_time": "2022-07-28T01:03:38.986820Z"
    }
   },
   "outputs": [
    {
     "name": "stdout",
     "output_type": "stream",
     "text": [
      "\n"
     ]
    }
   ],
   "source": [
    "# 검색어 입력\n",
    "search = '삼성전자'\n",
    "\n",
    "# 크롬 옵션\n",
    "options = webdriver.ChromeOptions()\n",
    "\n",
    "# 크롬 윈도우 사이즈 조절\n",
    "options.add_argument(\"--window-size=1000,1200\") # window-size -> 기본 : 1920,1080\n",
    "\n",
    "# import chromedriver_autoinstaller\n",
    "\n",
    "# chrome_path = chromedriver_autoinstaller.install()\n",
    "# driver = webdriver.Chrome(chrome_path, options=options)\n",
    "service = ChromeService(executable_path=ChromeDriverManager().install())\n",
    "driver = webdriver.Chrome(service=service)\n",
    "\n",
    "time.sleep(0.01)\n",
    "driver.get(\"https://www.naver.com\") # -> 네이버 크롬 창이 뜬다.\n",
    "\n",
    "# 네이버 검색어 입력 후 검색\n",
    "element = driver.find_element(\"name\", \"query\") \n",
    "element.clear()  # 혹시 검색창에 존재하는 텍스트 제거\n",
    "\n",
    "element.send_keys(search)  # 검색창에 검색어 전달\n",
    "element.submit()  # 검색 클릭\n",
    "time.sleep(0.01)"
   ]
  },
  {
   "cell_type": "code",
   "execution_count": 27,
   "id": "746a5ad1",
   "metadata": {
    "ExecuteTime": {
     "end_time": "2022-07-28T01:03:42.370090Z",
     "start_time": "2022-07-28T01:03:41.912841Z"
    }
   },
   "outputs": [],
   "source": [
    "# 뉴스 클릭\n",
    "driver.find_element(\"link text\", \"뉴스\").click() \n",
    "time.sleep(0.01)"
   ]
  },
  {
   "cell_type": "code",
   "execution_count": 28,
   "id": "62e6071d",
   "metadata": {
    "ExecuteTime": {
     "end_time": "2022-07-28T01:03:42.602863Z",
     "start_time": "2022-07-28T01:03:42.370993Z"
    }
   },
   "outputs": [],
   "source": [
    "# '오래된 순' 클릭\n",
    "driver.find_element(\"link text\", \"오래된순\").click()  \n",
    "time.sleep(0.01)"
   ]
  },
  {
   "cell_type": "code",
   "execution_count": 70,
   "id": "8ea594f8",
   "metadata": {},
   "outputs": [],
   "source": [
    "# 우선 수기로 옵션 누르고 조회 기간을 설정해줌"
   ]
  },
  {
   "cell_type": "code",
   "execution_count": null,
   "id": "248a9a92",
   "metadata": {
    "ExecuteTime": {
     "start_time": "2022-07-28T01:04:21.297Z"
    },
    "scrolled": true
   },
   "outputs": [],
   "source": [
    "# 뉴스 데이터 수집\n",
    "news_list = []\n",
    "date_list = []\n",
    "title_list = []\n",
    "MAX_ITERATION = 350\n",
    "\n",
    "for _ in range(120):\n",
    "    time.sleep(1)\n",
    "\n",
    "    # 기간 변경해 주기\n",
    "    if len(date_list):\n",
    "        splited_date = date_list[-1].split('.')\n",
    "        year = int(splited_date[0]) - 1990 + 1\n",
    "        month = int(splited_date[1])\n",
    "        day = int(splited_date[2])\n",
    "        \n",
    "\n",
    "        # 기간을 클릭 해서 입력창 활성화  \n",
    "        time.sleep(4)   \n",
    "        driver.find_element(by=By.CSS_SELECTOR, value='#snb > div.api_group_option_sort._search_option_detail_wrap > ul > li.bx.term > div > div.option > a.txt.txt_option._calendar_select_trigger').click()\n",
    "        time.sleep(2)\n",
    "\n",
    "        ## 시작 일자 조정 ##\n",
    "        \n",
    "        # 년도 \n",
    "        # 2016년 CSS_SELECTOR : snb > div.api_group_option_sort._search_option_detail_wrap > ul > li.bx.term > div > div.api_select_option.type_calendar._calendar_select_layer > div.select_wrap._root > div:nth-child(1) > div > div > div > ul > li:nth-child(27)\n",
    "        driver.find_element(by=By.CSS_SELECTOR, value=f'#snb > div.api_group_option_sort._search_option_detail_wrap > ul > li.bx.term > div > div.api_select_option.type_calendar._calendar_select_layer > div.select_wrap._root > div:nth-child(1) > div > div > div > ul > li:nth-child({year})').click()\n",
    "        time.sleep(1)\n",
    "        \n",
    "        # 월\n",
    "        # 1월 CSS_SELECTOR : snb > div.api_group_option_sort._search_option_detail_wrap > ul > li.bx.term > div > div.api_select_option.type_calendar._calendar_select_layer > div.select_wrap._root > div:nth-child(2) > div > div > div > ul > li:nth-child(1)\n",
    "        driver.find_element(by=By.CSS_SELECTOR, value=f'#snb > div.api_group_option_sort._search_option_detail_wrap > ul > li.bx.term > div > div.api_select_option.type_calendar._calendar_select_layer > div.select_wrap._root > div:nth-child(2) > div > div > div > ul > li:nth-child({month})').click()\n",
    "        time.sleep(1)\n",
    "        \n",
    "        # 일\n",
    "        # 1일 CSS_SELECTOR : #snb > div.api_group_option_sort._search_option_detail_wrap > ul > li.bx.term > div > div.api_select_option.type_calendar._calendar_select_layer > div.select_wrap._root > div:nth-child(3) > div > div > div > ul > li:nth-child(1)\n",
    "        driver.find_element(by=By.CSS_SELECTOR, value=f'#snb > div.api_group_option_sort._search_option_detail_wrap > ul > li.bx.term > div > div.api_select_option.type_calendar._calendar_select_layer > div.select_wrap._root > div:nth-child(3) > div > div > div > ul > li:nth-child({day})').click()\n",
    "        time.sleep(1)\n",
    "        \n",
    "        # \"적용\" 버튼 클릭\n",
    "        driver.find_element(by=By.CSS_SELECTOR, value='#snb > div.api_group_option_sort._search_option_detail_wrap > ul > li.bx.term > div > div.api_select_option.type_calendar._calendar_select_layer > div.btn_area > button').click()\n",
    "        time.sleep(2)\n",
    "        \n",
    "    for i in range(MAX_ITERATION):\n",
    "\n",
    "        # 언론사\n",
    "        newses = driver.find_elements('css selector', 'a.info.press')\n",
    "        temp_list = []\n",
    "        for news in newses:\n",
    "            temp_list.append(news.text)\n",
    "            temp_list = [x for x in temp_list ]\n",
    "        news_list = news_list + temp_list \n",
    "        \n",
    "        # 날짜\n",
    "        dates = driver.find_elements('css selector', 'span.info')\n",
    "        temp_list = []\n",
    "        for date in dates:\n",
    "            temp_list.append(date.text)\n",
    "            temp_list = [x for x in temp_list ]\n",
    "        date_list = date_list + temp_list \n",
    "        \n",
    "        # 제목\n",
    "        titles = driver.find_elements('css selector', 'a.news_tit')\n",
    "        temp_list = []\n",
    "        for title in titles:\n",
    "            temp_list.append(title.text)\n",
    "            temp_list = [x for x in temp_list ]\n",
    "        title_list = title_list + temp_list \n",
    "        \n",
    "        # 다음페이지 클릭\n",
    "        driver.find_element('css selector', 'a.btn_next').click()\n",
    "        time.sleep(0.001)"
   ]
  },
  {
   "cell_type": "code",
   "execution_count": 19,
   "id": "951c8833",
   "metadata": {
    "ExecuteTime": {
     "end_time": "2022-07-28T01:01:14.294793Z",
     "start_time": "2022-07-28T01:01:14.290381Z"
    }
   },
   "outputs": [
    {
     "name": "stdout",
     "output_type": "stream",
     "text": [
      "100\n",
      "['연합뉴스', '연합뉴스']\n",
      "['1990.04.23.', '1990.04.23.']\n",
      "['여신관리', '蘇, 北韓에 원유공급량 줄여']\n"
     ]
    }
   ],
   "source": [
    "print(len(title_list))\n",
    "print(news_list[-2:])\n",
    "print(date_list[-2:])\n",
    "print(title_list[-2:])"
   ]
  },
  {
   "cell_type": "code",
   "execution_count": 20,
   "id": "41363e7a",
   "metadata": {
    "ExecuteTime": {
     "end_time": "2022-07-28T01:01:16.393058Z",
     "start_time": "2022-07-28T01:01:16.378175Z"
    }
   },
   "outputs": [
    {
     "data": {
      "text/html": [
       "<div>\n",
       "<style scoped>\n",
       "    .dataframe tbody tr th:only-of-type {\n",
       "        vertical-align: middle;\n",
       "    }\n",
       "\n",
       "    .dataframe tbody tr th {\n",
       "        vertical-align: top;\n",
       "    }\n",
       "\n",
       "    .dataframe thead th {\n",
       "        text-align: right;\n",
       "    }\n",
       "</style>\n",
       "<table border=\"1\" class=\"dataframe\">\n",
       "  <thead>\n",
       "    <tr style=\"text-align: right;\">\n",
       "      <th></th>\n",
       "      <th>언론사</th>\n",
       "      <th>날짜</th>\n",
       "      <th>제목</th>\n",
       "    </tr>\n",
       "  </thead>\n",
       "  <tbody>\n",
       "    <tr>\n",
       "      <th>0</th>\n",
       "      <td>연합뉴스</td>\n",
       "      <td>1990.01.17.</td>\n",
       "      <td>朴守敎-林正明 코트서 벤치 대결로</td>\n",
       "    </tr>\n",
       "    <tr>\n",
       "      <th>1</th>\n",
       "      <td>연합뉴스</td>\n",
       "      <td>1990.01.17.</td>\n",
       "      <td>EC, 한국산 CDP 반덤핑 확정관세 결정</td>\n",
       "    </tr>\n",
       "    <tr>\n",
       "      <th>2</th>\n",
       "      <td>연합뉴스</td>\n",
       "      <td>1990.01.17.</td>\n",
       "      <td>범용 CAD 개발</td>\n",
       "    </tr>\n",
       "    <tr>\n",
       "      <th>3</th>\n",
       "      <td>연합뉴스</td>\n",
       "      <td>1990.01.19.</td>\n",
       "      <td>광고업계,제조업 불황속 호황 누려</td>\n",
       "    </tr>\n",
       "    <tr>\n",
       "      <th>4</th>\n",
       "      <td>연합뉴스</td>\n",
       "      <td>1990.01.21.</td>\n",
       "      <td>-농구대잔치-</td>\n",
       "    </tr>\n",
       "    <tr>\n",
       "      <th>...</th>\n",
       "      <td>...</td>\n",
       "      <td>...</td>\n",
       "      <td>...</td>\n",
       "    </tr>\n",
       "    <tr>\n",
       "      <th>95</th>\n",
       "      <td>연합뉴스</td>\n",
       "      <td>1990.04.20.</td>\n",
       "      <td>과학의 날 기념식 21일 大田에서</td>\n",
       "    </tr>\n",
       "    <tr>\n",
       "      <th>96</th>\n",
       "      <td>연합뉴스</td>\n",
       "      <td>1990.04.21.</td>\n",
       "      <td>官需用 복사기 경쟁입찰 구매 1년 연기</td>\n",
       "    </tr>\n",
       "    <tr>\n",
       "      <th>97</th>\n",
       "      <td>연합뉴스</td>\n",
       "      <td>1990.04.22.</td>\n",
       "      <td>등산하던 20대 회사원 떨어져 숨져</td>\n",
       "    </tr>\n",
       "    <tr>\n",
       "      <th>98</th>\n",
       "      <td>연합뉴스</td>\n",
       "      <td>1990.04.23.</td>\n",
       "      <td>여신관리</td>\n",
       "    </tr>\n",
       "    <tr>\n",
       "      <th>99</th>\n",
       "      <td>연합뉴스</td>\n",
       "      <td>1990.04.23.</td>\n",
       "      <td>蘇, 北韓에 원유공급량 줄여</td>\n",
       "    </tr>\n",
       "  </tbody>\n",
       "</table>\n",
       "<p>100 rows × 3 columns</p>\n",
       "</div>"
      ],
      "text/plain": [
       "     언론사           날짜                       제목\n",
       "0   연합뉴스  1990.01.17.       朴守敎-林正明 코트서 벤치 대결로\n",
       "1   연합뉴스  1990.01.17.  EC, 한국산 CDP 반덤핑 확정관세 결정\n",
       "2   연합뉴스  1990.01.17.                범용 CAD 개발\n",
       "3   연합뉴스  1990.01.19.       광고업계,제조업 불황속 호황 누려\n",
       "4   연합뉴스  1990.01.21.                  -농구대잔치-\n",
       "..   ...          ...                      ...\n",
       "95  연합뉴스  1990.04.20.       과학의 날 기념식 21일 大田에서\n",
       "96  연합뉴스  1990.04.21.    官需用 복사기 경쟁입찰 구매 1년 연기\n",
       "97  연합뉴스  1990.04.22.      등산하던 20대 회사원 떨어져 숨져\n",
       "98  연합뉴스  1990.04.23.                     여신관리\n",
       "99  연합뉴스  1990.04.23.          蘇, 北韓에 원유공급량 줄여\n",
       "\n",
       "[100 rows x 3 columns]"
      ]
     },
     "execution_count": 20,
     "metadata": {},
     "output_type": "execute_result"
    }
   ],
   "source": [
    "# df로 만들기\n",
    "df = pd.DataFrame(list(zip(news_list, date_list, title_list)), columns = ['언론사','날짜', '제목'])\n",
    "df"
   ]
  },
  {
   "cell_type": "code",
   "execution_count": null,
   "id": "c3d2d91c",
   "metadata": {},
   "outputs": [],
   "source": [
    "# csv로 뽑기\n",
    "df.to_csv('2008.csv')"
   ]
  },
  {
   "cell_type": "code",
   "execution_count": 100,
   "id": "2120a655",
   "metadata": {},
   "outputs": [],
   "source": [
    "driver.close()"
   ]
  },
  {
   "cell_type": "code",
   "execution_count": null,
   "id": "abfb8952",
   "metadata": {},
   "outputs": [],
   "source": []
  }
 ],
 "metadata": {
  "kernelspec": {
   "display_name": "Python 3 (ipykernel)",
   "language": "python",
   "name": "python3"
  },
  "language_info": {
   "codemirror_mode": {
    "name": "ipython",
    "version": 3
   },
   "file_extension": ".py",
   "mimetype": "text/x-python",
   "name": "python",
   "nbconvert_exporter": "python",
   "pygments_lexer": "ipython3",
   "version": "3.9.12"
  },
  "toc": {
   "base_numbering": 1,
   "nav_menu": {},
   "number_sections": false,
   "sideBar": true,
   "skip_h1_title": false,
   "title_cell": "Table of Contents",
   "title_sidebar": "Contents",
   "toc_cell": false,
   "toc_position": {
    "height": "895px",
    "left": "69px",
    "top": "111.141px",
    "width": "165px"
   },
   "toc_section_display": true,
   "toc_window_display": false
  },
  "vscode": {
   "interpreter": {
    "hash": "e3584e0094cc606059de00670c8f2673321413961648b189247649573872e648"
   }
  }
 },
 "nbformat": 4,
 "nbformat_minor": 5
}
