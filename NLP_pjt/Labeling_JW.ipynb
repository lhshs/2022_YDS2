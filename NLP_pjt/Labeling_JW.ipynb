{
 "cells": [
  {
   "cell_type": "code",
   "execution_count": null,
   "id": "c3d73fe7",
   "metadata": {
    "ExecuteTime": {
     "end_time": "2022-08-04T02:54:50.329531Z",
     "start_time": "2022-08-04T02:54:50.006250Z"
    }
   },
   "outputs": [],
   "source": [
    "import pandas as pd\n",
    "import numpy as np\n",
    "import datetime\n",
    "import FinanceDataReader as fdr"
   ]
  },
  {
   "cell_type": "code",
   "execution_count": null,
   "id": "9b7caf5f",
   "metadata": {
    "ExecuteTime": {
     "end_time": "2022-08-04T02:54:54.935519Z",
     "start_time": "2022-08-04T02:54:50.352488Z"
    }
   },
   "outputs": [],
   "source": [
    "df = pd.read_csv('df_final_Date_refine_add_blank.csv', index_col = 0).reset_index().drop(columns='index')\n",
    "df = df.rename(columns = {'언론사':'Press', '날짜':'Date', '제목':'Title'})"
   ]
  },
  {
   "cell_type": "code",
   "execution_count": null,
   "id": "1fff776a",
   "metadata": {
    "ExecuteTime": {
     "end_time": "2022-08-04T02:54:54.944592Z",
     "start_time": "2022-08-04T02:54:54.936596Z"
    }
   },
   "outputs": [],
   "source": [
    "df"
   ]
  },
  {
   "cell_type": "code",
   "execution_count": null,
   "id": "905d63fb",
   "metadata": {
    "ExecuteTime": {
     "end_time": "2022-08-04T02:54:57.110492Z",
     "start_time": "2022-08-04T02:54:56.951090Z"
    }
   },
   "outputs": [],
   "source": [
    "stock_df = fdr.DataReader('005930', \"1998-05-20\") # 삼성전자 데이터 가져옴\n",
    "stock_df"
   ]
  },
  {
   "cell_type": "markdown",
   "id": "521bd3a1",
   "metadata": {},
   "source": [
    "### 찾아지면 그 행의 Change > 0 이면 1, < 0 이면 -1 을 df.Change 열에 대입함"
   ]
  },
  {
   "cell_type": "code",
   "execution_count": null,
   "id": "f436e88c",
   "metadata": {
    "ExecuteTime": {
     "end_time": "2022-08-04T02:55:03.069804Z",
     "start_time": "2022-08-04T02:55:03.048251Z"
    }
   },
   "outputs": [],
   "source": [
    "df['Change'] = '5'"
   ]
  },
  {
   "cell_type": "code",
   "execution_count": null,
   "id": "0b55b5bf",
   "metadata": {
    "ExecuteTime": {
     "end_time": "2022-08-04T02:55:04.270842Z",
     "start_time": "2022-08-04T02:55:04.264346Z"
    }
   },
   "outputs": [],
   "source": [
    "# transform 함수를 적용하기 위해 함수를 만듦\n",
    "# df[\"Date\"] 열을 하나씩 입력으로 받아서 df[\"Change\"]의 값을 상승이면 +1 하락이면 -1로 바꾸기로 함\n",
    "\n",
    "def change_to_next_day_of_stock_market(day):\n",
    "    return_change = 5\n",
    "    change = datetime.date.isoformat(datetime.date.fromisoformat(day) + datetime.timedelta(days=1)) # 하루 미룸\n",
    "    while return_change == 5:\n",
    "        try:\n",
    "            if stock_df.loc[day]['Change'] > 0:\n",
    "                return_change = 1 # 찾은 \"Change\" 열의 값이 > 0 이면 상승이니까 + 1을 반환\n",
    "            elif stock_df.loc[day]['Change'] < 0:\n",
    "                return_change = 0 # 찾은 \"Change\" 열의 값이 < 0 이면 하락이니까 - 1을 반환\n",
    "            else:\n",
    "                return_change = 0\n",
    "        except:\n",
    "            day = datetime.date.isoformat(datetime.date.fromisoformat(day) + datetime.timedelta(days=1))\n",
    "            # 삼성전자 데이터에서 날짜가 찾아지질 않으면 하루 더 미룸 while 때문에 찾아질 때까지 뒤로 하루씩 미룸\n",
    "    return return_change\n"
   ]
  },
  {
   "cell_type": "code",
   "execution_count": null,
   "id": "d28675f7",
   "metadata": {
    "ExecuteTime": {
     "start_time": "2022-08-04T02:55:07.409Z"
    }
   },
   "outputs": [],
   "source": [
    "# \"Change\" 열을 바꿈, 입력열은 \"날짜\" 열이고 적용함수는 바로 위 셀에 정의된 change_of_next_day_of_stock_market)\n",
    "# 꽤 오랜 시간이 걸리는 셀이므로 확인은 다음 셀에서 함\n",
    "df[\"Change\"] = df[\"Date\"].transform(change_to_next_day_of_stock_market)\n",
    "\n"
   ]
  },
  {
   "cell_type": "code",
   "execution_count": null,
   "id": "e46e1613",
   "metadata": {
    "ExecuteTime": {
     "end_time": "2022-08-03T06:34:38.282498Z",
     "start_time": "2022-08-03T06:34:38.268675Z"
    },
    "scrolled": false
   },
   "outputs": [],
   "source": [
    "df."
   ]
  },
  {
   "cell_type": "code",
   "execution_count": null,
   "id": "f15ae770",
   "metadata": {
    "ExecuteTime": {
     "end_time": "2022-08-03T06:34:22.972572Z",
     "start_time": "2022-08-03T06:34:22.582542Z"
    }
   },
   "outputs": [],
   "source": [
    "df"
   ]
  },
  {
   "cell_type": "markdown",
   "id": "e68735e2",
   "metadata": {},
   "source": [
    "## 성공!"
   ]
  },
  {
   "cell_type": "code",
   "execution_count": null,
   "id": "4270f18a",
   "metadata": {
    "ExecuteTime": {
     "end_time": "2022-08-03T06:34:51.903281Z",
     "start_time": "2022-08-03T06:34:45.198789Z"
    }
   },
   "outputs": [],
   "source": [
    "df.to_csv(\"df_labeled.csv\")"
   ]
  },
  {
   "cell_type": "code",
   "execution_count": null,
   "id": "88cd8b56",
   "metadata": {},
   "outputs": [],
   "source": []
  }
 ],
 "metadata": {
  "kernelspec": {
   "display_name": "Python 3 (ipykernel)",
   "language": "python",
   "name": "python3"
  },
  "language_info": {
   "codemirror_mode": {
    "name": "ipython",
    "version": 3
   },
   "file_extension": ".py",
   "mimetype": "text/x-python",
   "name": "python",
   "nbconvert_exporter": "python",
   "pygments_lexer": "ipython3",
   "version": "3.8.13"
  },
  "toc": {
   "base_numbering": 1,
   "nav_menu": {},
   "number_sections": false,
   "sideBar": true,
   "skip_h1_title": false,
   "title_cell": "Table of Contents",
   "title_sidebar": "Contents",
   "toc_cell": false,
   "toc_position": {},
   "toc_section_display": true,
   "toc_window_display": false
  }
 },
 "nbformat": 4,
 "nbformat_minor": 5
}
