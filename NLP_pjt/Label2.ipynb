{
 "cells": [
  {
   "cell_type": "code",
   "execution_count": 1,
   "id": "d971654c",
   "metadata": {
    "ExecuteTime": {
     "end_time": "2022-08-02T05:48:26.729145Z",
     "start_time": "2022-08-02T05:48:26.410404Z"
    }
   },
   "outputs": [],
   "source": [
    "import pandas as pd\n",
    "import numpy as np\n",
    "import FinanceDataReader as fdr\n",
    "\n",
    "from tqdm.notebook import tqdm\n",
    "import time\n",
    "\n",
    "from datetime import datetime, timedelta"
   ]
  },
  {
   "cell_type": "markdown",
   "id": "d7c9ba2c",
   "metadata": {},
   "source": [
    "## Data 불러오기"
   ]
  },
  {
   "cell_type": "code",
   "execution_count": 2,
   "id": "f8ee20f6",
   "metadata": {
    "ExecuteTime": {
     "end_time": "2022-08-02T05:48:31.263423Z",
     "start_time": "2022-08-02T05:48:26.730376Z"
    }
   },
   "outputs": [
    {
     "data": {
      "text/html": [
       "<div>\n",
       "<style scoped>\n",
       "    .dataframe tbody tr th:only-of-type {\n",
       "        vertical-align: middle;\n",
       "    }\n",
       "\n",
       "    .dataframe tbody tr th {\n",
       "        vertical-align: top;\n",
       "    }\n",
       "\n",
       "    .dataframe thead th {\n",
       "        text-align: right;\n",
       "    }\n",
       "</style>\n",
       "<table border=\"1\" class=\"dataframe\">\n",
       "  <thead>\n",
       "    <tr style=\"text-align: right;\">\n",
       "      <th></th>\n",
       "      <th>Press</th>\n",
       "      <th>Date</th>\n",
       "      <th>Title</th>\n",
       "    </tr>\n",
       "  </thead>\n",
       "  <tbody>\n",
       "    <tr>\n",
       "      <th>0</th>\n",
       "      <td>연합뉴스</td>\n",
       "      <td>1998-05-20</td>\n",
       "      <td>주가 사흘째 상승세</td>\n",
       "    </tr>\n",
       "    <tr>\n",
       "      <th>1</th>\n",
       "      <td>연합뉴스</td>\n",
       "      <td>1998-05-20</td>\n",
       "      <td>아남텔레콤, PDA 데이터 전송서비스 개시</td>\n",
       "    </tr>\n",
       "    <tr>\n",
       "      <th>2</th>\n",
       "      <td>연합뉴스</td>\n",
       "      <td>1998-05-20</td>\n",
       "      <td>&lt;회전목마&gt; 삼성전자, 사이버 사외보 제작</td>\n",
       "    </tr>\n",
       "    <tr>\n",
       "      <th>3</th>\n",
       "      <td>연합뉴스</td>\n",
       "      <td>1998-05-20</td>\n",
       "      <td>&lt;주식시황&gt; 사흘째 상승, 3백70선 다가서</td>\n",
       "    </tr>\n",
       "    <tr>\n",
       "      <th>4</th>\n",
       "      <td>연합뉴스</td>\n",
       "      <td>1998-05-20</td>\n",
       "      <td>-춘계승마- 신창무,싼졸쥬마장마술 우승</td>\n",
       "    </tr>\n",
       "    <tr>\n",
       "      <th>...</th>\n",
       "      <td>...</td>\n",
       "      <td>...</td>\n",
       "      <td>...</td>\n",
       "    </tr>\n",
       "    <tr>\n",
       "      <th>3851965</th>\n",
       "      <td>한국경제</td>\n",
       "      <td>2022-07-21</td>\n",
       "      <td>디지털이미지뱅크, 한투등 3개사서 20억원 투자 유치</td>\n",
       "    </tr>\n",
       "    <tr>\n",
       "      <th>3851966</th>\n",
       "      <td>한국경제</td>\n",
       "      <td>2022-07-21</td>\n",
       "      <td>[코스닥공시] 세보기계</td>\n",
       "    </tr>\n",
       "    <tr>\n",
       "      <th>3851967</th>\n",
       "      <td>한국경제</td>\n",
       "      <td>2022-07-21</td>\n",
       "      <td>전자.통신업체 신용등급도 급상승세</td>\n",
       "    </tr>\n",
       "    <tr>\n",
       "      <th>3851968</th>\n",
       "      <td>한국경제</td>\n",
       "      <td>2022-07-21</td>\n",
       "      <td>종합주가 폭락세, 916.01(-37.21) 전장마감</td>\n",
       "    </tr>\n",
       "    <tr>\n",
       "      <th>3851969</th>\n",
       "      <td>한국경제</td>\n",
       "      <td>2022-07-21</td>\n",
       "      <td>산자부, 수치제어장치 산.학.연 공동연구 개발에 성공</td>\n",
       "    </tr>\n",
       "  </tbody>\n",
       "</table>\n",
       "<p>3851970 rows × 3 columns</p>\n",
       "</div>"
      ],
      "text/plain": [
       "        Press        Date                           Title\n",
       "0        연합뉴스  1998-05-20                     주가 사흘째 상승세 \n",
       "1        연합뉴스  1998-05-20        아남텔레콤, PDA 데이터 전송서비스 개시 \n",
       "2        연합뉴스  1998-05-20        <회전목마> 삼성전자, 사이버 사외보 제작 \n",
       "3        연합뉴스  1998-05-20       <주식시황> 사흘째 상승, 3백70선 다가서 \n",
       "4        연합뉴스  1998-05-20          -춘계승마- 신창무,싼졸쥬마장마술 우승 \n",
       "...       ...         ...                             ...\n",
       "3851965  한국경제  2022-07-21  디지털이미지뱅크, 한투등 3개사서 20억원 투자 유치 \n",
       "3851966  한국경제  2022-07-21                   [코스닥공시] 세보기계 \n",
       "3851967  한국경제  2022-07-21             전자.통신업체 신용등급도 급상승세 \n",
       "3851968  한국경제  2022-07-21  종합주가 폭락세, 916.01(-37.21) 전장마감 \n",
       "3851969  한국경제  2022-07-21  산자부, 수치제어장치 산.학.연 공동연구 개발에 성공 \n",
       "\n",
       "[3851970 rows x 3 columns]"
      ]
     },
     "execution_count": 2,
     "metadata": {},
     "output_type": "execute_result"
    }
   ],
   "source": [
    "df = pd.read_csv('df_final_Date_refine_add_blank.csv', index_col = 0).reset_index().drop(columns='index')\n",
    "df = df.rename(columns = {'언론사':'Press', '날짜':'Date', '제목':'Title'})\n",
    "df"
   ]
  },
  {
   "cell_type": "code",
   "execution_count": 3,
   "id": "c430ce5d",
   "metadata": {
    "ExecuteTime": {
     "end_time": "2022-08-02T05:48:31.361056Z",
     "start_time": "2022-08-02T05:48:31.264256Z"
    }
   },
   "outputs": [
    {
     "data": {
      "text/html": [
       "<div>\n",
       "<style scoped>\n",
       "    .dataframe tbody tr th:only-of-type {\n",
       "        vertical-align: middle;\n",
       "    }\n",
       "\n",
       "    .dataframe tbody tr th {\n",
       "        vertical-align: top;\n",
       "    }\n",
       "\n",
       "    .dataframe thead th {\n",
       "        text-align: right;\n",
       "    }\n",
       "</style>\n",
       "<table border=\"1\" class=\"dataframe\">\n",
       "  <thead>\n",
       "    <tr style=\"text-align: right;\">\n",
       "      <th></th>\n",
       "      <th>Open</th>\n",
       "      <th>High</th>\n",
       "      <th>Low</th>\n",
       "      <th>Close</th>\n",
       "      <th>Volume</th>\n",
       "      <th>Change</th>\n",
       "    </tr>\n",
       "    <tr>\n",
       "      <th>Date</th>\n",
       "      <th></th>\n",
       "      <th></th>\n",
       "      <th></th>\n",
       "      <th></th>\n",
       "      <th></th>\n",
       "      <th></th>\n",
       "    </tr>\n",
       "  </thead>\n",
       "  <tbody>\n",
       "    <tr>\n",
       "      <th>1998-05-26</th>\n",
       "      <td>875</td>\n",
       "      <td>893</td>\n",
       "      <td>837</td>\n",
       "      <td>847</td>\n",
       "      <td>422200</td>\n",
       "      <td>NaN</td>\n",
       "    </tr>\n",
       "    <tr>\n",
       "      <th>1998-05-27</th>\n",
       "      <td>921</td>\n",
       "      <td>921</td>\n",
       "      <td>822</td>\n",
       "      <td>873</td>\n",
       "      <td>596090</td>\n",
       "      <td>0.030697</td>\n",
       "    </tr>\n",
       "    <tr>\n",
       "      <th>1998-05-28</th>\n",
       "      <td>876</td>\n",
       "      <td>977</td>\n",
       "      <td>875</td>\n",
       "      <td>977</td>\n",
       "      <td>835549</td>\n",
       "      <td>0.119129</td>\n",
       "    </tr>\n",
       "    <tr>\n",
       "      <th>1998-05-29</th>\n",
       "      <td>977</td>\n",
       "      <td>1007</td>\n",
       "      <td>969</td>\n",
       "      <td>996</td>\n",
       "      <td>717510</td>\n",
       "      <td>0.019447</td>\n",
       "    </tr>\n",
       "    <tr>\n",
       "      <th>1998-05-30</th>\n",
       "      <td>986</td>\n",
       "      <td>986</td>\n",
       "      <td>934</td>\n",
       "      <td>936</td>\n",
       "      <td>336920</td>\n",
       "      <td>-0.060241</td>\n",
       "    </tr>\n",
       "    <tr>\n",
       "      <th>...</th>\n",
       "      <td>...</td>\n",
       "      <td>...</td>\n",
       "      <td>...</td>\n",
       "      <td>...</td>\n",
       "      <td>...</td>\n",
       "      <td>...</td>\n",
       "    </tr>\n",
       "    <tr>\n",
       "      <th>2022-07-27</th>\n",
       "      <td>61300</td>\n",
       "      <td>61900</td>\n",
       "      <td>61200</td>\n",
       "      <td>61800</td>\n",
       "      <td>7320997</td>\n",
       "      <td>0.001621</td>\n",
       "    </tr>\n",
       "    <tr>\n",
       "      <th>2022-07-28</th>\n",
       "      <td>62300</td>\n",
       "      <td>62600</td>\n",
       "      <td>61600</td>\n",
       "      <td>61900</td>\n",
       "      <td>10745302</td>\n",
       "      <td>0.001618</td>\n",
       "    </tr>\n",
       "    <tr>\n",
       "      <th>2022-07-29</th>\n",
       "      <td>62400</td>\n",
       "      <td>62600</td>\n",
       "      <td>61300</td>\n",
       "      <td>61400</td>\n",
       "      <td>15093120</td>\n",
       "      <td>-0.008078</td>\n",
       "    </tr>\n",
       "    <tr>\n",
       "      <th>2022-08-01</th>\n",
       "      <td>61000</td>\n",
       "      <td>61700</td>\n",
       "      <td>60300</td>\n",
       "      <td>61300</td>\n",
       "      <td>13154816</td>\n",
       "      <td>-0.001629</td>\n",
       "    </tr>\n",
       "    <tr>\n",
       "      <th>2022-08-02</th>\n",
       "      <td>61200</td>\n",
       "      <td>61900</td>\n",
       "      <td>61000</td>\n",
       "      <td>61700</td>\n",
       "      <td>11354556</td>\n",
       "      <td>0.006525</td>\n",
       "    </tr>\n",
       "  </tbody>\n",
       "</table>\n",
       "<p>6000 rows × 6 columns</p>\n",
       "</div>"
      ],
      "text/plain": [
       "             Open   High    Low  Close    Volume    Change\n",
       "Date                                                      \n",
       "1998-05-26    875    893    837    847    422200       NaN\n",
       "1998-05-27    921    921    822    873    596090  0.030697\n",
       "1998-05-28    876    977    875    977    835549  0.119129\n",
       "1998-05-29    977   1007    969    996    717510  0.019447\n",
       "1998-05-30    986    986    934    936    336920 -0.060241\n",
       "...           ...    ...    ...    ...       ...       ...\n",
       "2022-07-27  61300  61900  61200  61800   7320997  0.001621\n",
       "2022-07-28  62300  62600  61600  61900  10745302  0.001618\n",
       "2022-07-29  62400  62600  61300  61400  15093120 -0.008078\n",
       "2022-08-01  61000  61700  60300  61300  13154816 -0.001629\n",
       "2022-08-02  61200  61900  61000  61700  11354556  0.006525\n",
       "\n",
       "[6000 rows x 6 columns]"
      ]
     },
     "execution_count": 3,
     "metadata": {},
     "output_type": "execute_result"
    }
   ],
   "source": [
    "stock_df = fdr.DataReader('005930')\n",
    "stock_df"
   ]
  },
  {
   "cell_type": "markdown",
   "id": "47433e9a",
   "metadata": {
    "ExecuteTime": {
     "end_time": "2022-08-02T04:14:06.123869Z",
     "start_time": "2022-08-02T04:14:06.118991Z"
    }
   },
   "source": [
    "## stock_df의 첫 번째 값이 NaN이므로 2번째 행부터 가져온다"
   ]
  },
  {
   "cell_type": "markdown",
   "id": "c03a5514",
   "metadata": {},
   "source": [
    "- 가져온 다음 df 범위 설정해주기 (라이브러리의 시작+1 날짜를 뉴스데이터의 시작 날짜로 날짜)"
   ]
  },
  {
   "cell_type": "code",
   "execution_count": 4,
   "id": "652b8c76",
   "metadata": {
    "ExecuteTime": {
     "end_time": "2022-08-02T05:48:31.721590Z",
     "start_time": "2022-08-02T05:48:31.362437Z"
    }
   },
   "outputs": [
    {
     "data": {
      "text/html": [
       "<div>\n",
       "<style scoped>\n",
       "    .dataframe tbody tr th:only-of-type {\n",
       "        vertical-align: middle;\n",
       "    }\n",
       "\n",
       "    .dataframe tbody tr th {\n",
       "        vertical-align: top;\n",
       "    }\n",
       "\n",
       "    .dataframe thead th {\n",
       "        text-align: right;\n",
       "    }\n",
       "</style>\n",
       "<table border=\"1\" class=\"dataframe\">\n",
       "  <thead>\n",
       "    <tr style=\"text-align: right;\">\n",
       "      <th></th>\n",
       "      <th>Press</th>\n",
       "      <th>Date</th>\n",
       "      <th>Title</th>\n",
       "    </tr>\n",
       "  </thead>\n",
       "  <tbody>\n",
       "    <tr>\n",
       "      <th>0</th>\n",
       "      <td>연합뉴스</td>\n",
       "      <td>1998-05-27</td>\n",
       "      <td>삼성전자, 한국HP 지분 45% 전량 매각</td>\n",
       "    </tr>\n",
       "    <tr>\n",
       "      <th>1</th>\n",
       "      <td>연합뉴스</td>\n",
       "      <td>1998-05-27</td>\n",
       "      <td>상장사 10개중 7개는 영업할수록 손해</td>\n",
       "    </tr>\n",
       "    <tr>\n",
       "      <th>2</th>\n",
       "      <td>연합뉴스</td>\n",
       "      <td>1998-05-27</td>\n",
       "      <td>&lt;표&gt; 97년기준 EVA 상위 30사</td>\n",
       "    </tr>\n",
       "    <tr>\n",
       "      <th>3</th>\n",
       "      <td>연합뉴스</td>\n",
       "      <td>1998-05-27</td>\n",
       "      <td>가전사들, 동남아 수출차질 만회 안간힘</td>\n",
       "    </tr>\n",
       "    <tr>\n",
       "      <th>4</th>\n",
       "      <td>연합뉴스</td>\n",
       "      <td>1998-05-27</td>\n",
       "      <td>반도체산업민간협의회 개최</td>\n",
       "    </tr>\n",
       "    <tr>\n",
       "      <th>...</th>\n",
       "      <td>...</td>\n",
       "      <td>...</td>\n",
       "      <td>...</td>\n",
       "    </tr>\n",
       "    <tr>\n",
       "      <th>3851933</th>\n",
       "      <td>한국경제</td>\n",
       "      <td>2022-07-21</td>\n",
       "      <td>디지털이미지뱅크, 한투등 3개사서 20억원 투자 유치</td>\n",
       "    </tr>\n",
       "    <tr>\n",
       "      <th>3851934</th>\n",
       "      <td>한국경제</td>\n",
       "      <td>2022-07-21</td>\n",
       "      <td>[코스닥공시] 세보기계</td>\n",
       "    </tr>\n",
       "    <tr>\n",
       "      <th>3851935</th>\n",
       "      <td>한국경제</td>\n",
       "      <td>2022-07-21</td>\n",
       "      <td>전자.통신업체 신용등급도 급상승세</td>\n",
       "    </tr>\n",
       "    <tr>\n",
       "      <th>3851936</th>\n",
       "      <td>한국경제</td>\n",
       "      <td>2022-07-21</td>\n",
       "      <td>종합주가 폭락세, 916.01(-37.21) 전장마감</td>\n",
       "    </tr>\n",
       "    <tr>\n",
       "      <th>3851937</th>\n",
       "      <td>한국경제</td>\n",
       "      <td>2022-07-21</td>\n",
       "      <td>산자부, 수치제어장치 산.학.연 공동연구 개발에 성공</td>\n",
       "    </tr>\n",
       "  </tbody>\n",
       "</table>\n",
       "<p>3851938 rows × 3 columns</p>\n",
       "</div>"
      ],
      "text/plain": [
       "        Press        Date                           Title\n",
       "0        연합뉴스  1998-05-27        삼성전자, 한국HP 지분 45% 전량 매각 \n",
       "1        연합뉴스  1998-05-27          상장사 10개중 7개는 영업할수록 손해 \n",
       "2        연합뉴스  1998-05-27           <표> 97년기준 EVA 상위 30사 \n",
       "3        연합뉴스  1998-05-27          가전사들, 동남아 수출차질 만회 안간힘 \n",
       "4        연합뉴스  1998-05-27                  반도체산업민간협의회 개최 \n",
       "...       ...         ...                             ...\n",
       "3851933  한국경제  2022-07-21  디지털이미지뱅크, 한투등 3개사서 20억원 투자 유치 \n",
       "3851934  한국경제  2022-07-21                   [코스닥공시] 세보기계 \n",
       "3851935  한국경제  2022-07-21             전자.통신업체 신용등급도 급상승세 \n",
       "3851936  한국경제  2022-07-21  종합주가 폭락세, 916.01(-37.21) 전장마감 \n",
       "3851937  한국경제  2022-07-21  산자부, 수치제어장치 산.학.연 공동연구 개발에 성공 \n",
       "\n",
       "[3851938 rows x 3 columns]"
      ]
     },
     "execution_count": 4,
     "metadata": {},
     "output_type": "execute_result"
    }
   ],
   "source": [
    "df = df[df['Date'] >= str(stock_df.index[1])[:10]].reset_index().drop(columns='index')\n",
    "# stock_df = df[df['Date'] <= str(stock_df.index[-1])[:10]] #, 'level_0')\n",
    "df"
   ]
  },
  {
   "cell_type": "markdown",
   "id": "30d0631d",
   "metadata": {},
   "source": [
    "## 일자별로 데이터 묶기"
   ]
  },
  {
   "cell_type": "code",
   "execution_count": 5,
   "id": "fac6f415",
   "metadata": {
    "ExecuteTime": {
     "end_time": "2022-08-02T05:48:32.634155Z",
     "start_time": "2022-08-02T05:48:31.722463Z"
    }
   },
   "outputs": [
    {
     "data": {
      "text/html": [
       "<div>\n",
       "<style scoped>\n",
       "    .dataframe tbody tr th:only-of-type {\n",
       "        vertical-align: middle;\n",
       "    }\n",
       "\n",
       "    .dataframe tbody tr th {\n",
       "        vertical-align: top;\n",
       "    }\n",
       "\n",
       "    .dataframe thead th {\n",
       "        text-align: right;\n",
       "    }\n",
       "</style>\n",
       "<table border=\"1\" class=\"dataframe\">\n",
       "  <thead>\n",
       "    <tr style=\"text-align: right;\">\n",
       "      <th></th>\n",
       "      <th></th>\n",
       "      <th>Title</th>\n",
       "    </tr>\n",
       "    <tr>\n",
       "      <th>Date</th>\n",
       "      <th>Press</th>\n",
       "      <th></th>\n",
       "    </tr>\n",
       "  </thead>\n",
       "  <tbody>\n",
       "    <tr>\n",
       "      <th>1998-05-27</th>\n",
       "      <th>연합뉴스</th>\n",
       "      <td>삼성전자, 한국HP 지분 45% 전량 매각 상장사 10개중 7개는 영업할수록 손해 ...</td>\n",
       "    </tr>\n",
       "    <tr>\n",
       "      <th>1998-05-28</th>\n",
       "      <th>연합뉴스</th>\n",
       "      <td>주가 상승세 삼성전자, 하나더 판촉 확대실시 &lt;주식시황&gt; 주가 상승 3백20선 회복...</td>\n",
       "    </tr>\n",
       "    <tr>\n",
       "      <th>1998-05-29</th>\n",
       "      <th>연합뉴스</th>\n",
       "      <td>&lt; 6.4선거 이후의 과제 &gt; ...(下) 대기업그룹별 현안 전자업계 수출드라이브,...</td>\n",
       "    </tr>\n",
       "    <tr>\n",
       "      <th>1998-05-30</th>\n",
       "      <th>연합뉴스</th>\n",
       "      <td>정보통신업계, `실직자를 잡아라' 주가 하락세 반전 삼성전자, 세계 공용 DVD 개...</td>\n",
       "    </tr>\n",
       "    <tr>\n",
       "      <th>1998-06-01</th>\n",
       "      <th>연합뉴스</th>\n",
       "      <td>&lt;회전목마&gt; 삼성전자, 인터넷잡지 창간 지난해 상장기업 수출 28.8% 증가 현대전...</td>\n",
       "    </tr>\n",
       "    <tr>\n",
       "      <th>...</th>\n",
       "      <th>...</th>\n",
       "      <td>...</td>\n",
       "    </tr>\n",
       "    <tr>\n",
       "      <th>2022-07-18</th>\n",
       "      <th>연합뉴스</th>\n",
       "      <td>불경기에도 자동차.화장품 광고는 활발 &lt;주식시황&gt; 주가, 큰 폭 상승 삼성전자 정보...</td>\n",
       "    </tr>\n",
       "    <tr>\n",
       "      <th>2022-07-19</th>\n",
       "      <th>연합뉴스</th>\n",
       "      <td>반도체 업체들, 보따리장사로 골머리 주가 이틀째 급상승 三星電子, 세계 최경량 PC...</td>\n",
       "    </tr>\n",
       "    <tr>\n",
       "      <th>2022-07-20</th>\n",
       "      <th>연합뉴스</th>\n",
       "      <td>삼성전자 반도체 전문 서비스센터 개설 삼성전관, `6시그마운동' 설명회 개최 상장사...</td>\n",
       "    </tr>\n",
       "    <tr>\n",
       "      <th rowspan=\"2\" valign=\"top\">2022-07-21</th>\n",
       "      <th>연합뉴스</th>\n",
       "      <td>D램 모듈 내수가격 큰 폭 하락 &lt;표&gt; 기업집단별.회사별 과징금 부과내역 공정위 조...</td>\n",
       "    </tr>\n",
       "    <tr>\n",
       "      <th>한국경제</th>\n",
       "      <td>종합주가 개장초 등락장세 연출...9시30분 928.84(+0.09) 삼성전자 애니...</td>\n",
       "    </tr>\n",
       "  </tbody>\n",
       "</table>\n",
       "<p>702161 rows × 1 columns</p>\n",
       "</div>"
      ],
      "text/plain": [
       "                                                              Title\n",
       "Date       Press                                                   \n",
       "1998-05-27 연합뉴스   삼성전자, 한국HP 지분 45% 전량 매각 상장사 10개중 7개는 영업할수록 손해 ...\n",
       "1998-05-28 연합뉴스   주가 상승세 삼성전자, 하나더 판촉 확대실시 <주식시황> 주가 상승 3백20선 회복...\n",
       "1998-05-29 연합뉴스   < 6.4선거 이후의 과제 > ...(下) 대기업그룹별 현안 전자업계 수출드라이브,...\n",
       "1998-05-30 연합뉴스   정보통신업계, `실직자를 잡아라' 주가 하락세 반전 삼성전자, 세계 공용 DVD 개...\n",
       "1998-06-01 연합뉴스   <회전목마> 삼성전자, 인터넷잡지 창간 지난해 상장기업 수출 28.8% 증가 현대전...\n",
       "...                                                             ...\n",
       "2022-07-18 연합뉴스   불경기에도 자동차.화장품 광고는 활발 <주식시황> 주가, 큰 폭 상승 삼성전자 정보...\n",
       "2022-07-19 연합뉴스   반도체 업체들, 보따리장사로 골머리 주가 이틀째 급상승 三星電子, 세계 최경량 PC...\n",
       "2022-07-20 연합뉴스   삼성전자 반도체 전문 서비스센터 개설 삼성전관, `6시그마운동' 설명회 개최 상장사...\n",
       "2022-07-21 연합뉴스   D램 모듈 내수가격 큰 폭 하락 <표> 기업집단별.회사별 과징금 부과내역 공정위 조...\n",
       "           한국경제   종합주가 개장초 등락장세 연출...9시30분 928.84(+0.09) 삼성전자 애니...\n",
       "\n",
       "[702161 rows x 1 columns]"
      ]
     },
     "execution_count": 5,
     "metadata": {},
     "output_type": "execute_result"
    }
   ],
   "source": [
    "df = df.groupby(['Date', 'Press']).sum()\n",
    "df"
   ]
  },
  {
   "cell_type": "markdown",
   "id": "347b5b8f",
   "metadata": {},
   "source": [
    "## 일자별 Labeling하기"
   ]
  },
  {
   "cell_type": "code",
   "execution_count": 6,
   "id": "ee38baf1",
   "metadata": {
    "ExecuteTime": {
     "end_time": "2022-08-02T05:48:32.641880Z",
     "start_time": "2022-08-02T05:48:32.634943Z"
    }
   },
   "outputs": [
    {
     "data": {
      "text/html": [
       "<div>\n",
       "<style scoped>\n",
       "    .dataframe tbody tr th:only-of-type {\n",
       "        vertical-align: middle;\n",
       "    }\n",
       "\n",
       "    .dataframe tbody tr th {\n",
       "        vertical-align: top;\n",
       "    }\n",
       "\n",
       "    .dataframe thead th {\n",
       "        text-align: right;\n",
       "    }\n",
       "</style>\n",
       "<table border=\"1\" class=\"dataframe\">\n",
       "  <thead>\n",
       "    <tr style=\"text-align: right;\">\n",
       "      <th></th>\n",
       "      <th></th>\n",
       "      <th>Title</th>\n",
       "      <th>Change</th>\n",
       "    </tr>\n",
       "    <tr>\n",
       "      <th>Date</th>\n",
       "      <th>Press</th>\n",
       "      <th></th>\n",
       "      <th></th>\n",
       "    </tr>\n",
       "  </thead>\n",
       "  <tbody>\n",
       "    <tr>\n",
       "      <th>1998-05-27</th>\n",
       "      <th>연합뉴스</th>\n",
       "      <td>삼성전자, 한국HP 지분 45% 전량 매각 상장사 10개중 7개는 영업할수록 손해 ...</td>\n",
       "      <td>x</td>\n",
       "    </tr>\n",
       "    <tr>\n",
       "      <th>1998-05-28</th>\n",
       "      <th>연합뉴스</th>\n",
       "      <td>주가 상승세 삼성전자, 하나더 판촉 확대실시 &lt;주식시황&gt; 주가 상승 3백20선 회복...</td>\n",
       "      <td>x</td>\n",
       "    </tr>\n",
       "    <tr>\n",
       "      <th>1998-05-29</th>\n",
       "      <th>연합뉴스</th>\n",
       "      <td>&lt; 6.4선거 이후의 과제 &gt; ...(下) 대기업그룹별 현안 전자업계 수출드라이브,...</td>\n",
       "      <td>x</td>\n",
       "    </tr>\n",
       "    <tr>\n",
       "      <th>1998-05-30</th>\n",
       "      <th>연합뉴스</th>\n",
       "      <td>정보통신업계, `실직자를 잡아라' 주가 하락세 반전 삼성전자, 세계 공용 DVD 개...</td>\n",
       "      <td>x</td>\n",
       "    </tr>\n",
       "    <tr>\n",
       "      <th>1998-06-01</th>\n",
       "      <th>연합뉴스</th>\n",
       "      <td>&lt;회전목마&gt; 삼성전자, 인터넷잡지 창간 지난해 상장기업 수출 28.8% 증가 현대전...</td>\n",
       "      <td>x</td>\n",
       "    </tr>\n",
       "    <tr>\n",
       "      <th>...</th>\n",
       "      <th>...</th>\n",
       "      <td>...</td>\n",
       "      <td>...</td>\n",
       "    </tr>\n",
       "    <tr>\n",
       "      <th>2022-07-18</th>\n",
       "      <th>연합뉴스</th>\n",
       "      <td>불경기에도 자동차.화장품 광고는 활발 &lt;주식시황&gt; 주가, 큰 폭 상승 삼성전자 정보...</td>\n",
       "      <td>x</td>\n",
       "    </tr>\n",
       "    <tr>\n",
       "      <th>2022-07-19</th>\n",
       "      <th>연합뉴스</th>\n",
       "      <td>반도체 업체들, 보따리장사로 골머리 주가 이틀째 급상승 三星電子, 세계 최경량 PC...</td>\n",
       "      <td>x</td>\n",
       "    </tr>\n",
       "    <tr>\n",
       "      <th>2022-07-20</th>\n",
       "      <th>연합뉴스</th>\n",
       "      <td>삼성전자 반도체 전문 서비스센터 개설 삼성전관, `6시그마운동' 설명회 개최 상장사...</td>\n",
       "      <td>x</td>\n",
       "    </tr>\n",
       "    <tr>\n",
       "      <th rowspan=\"2\" valign=\"top\">2022-07-21</th>\n",
       "      <th>연합뉴스</th>\n",
       "      <td>D램 모듈 내수가격 큰 폭 하락 &lt;표&gt; 기업집단별.회사별 과징금 부과내역 공정위 조...</td>\n",
       "      <td>x</td>\n",
       "    </tr>\n",
       "    <tr>\n",
       "      <th>한국경제</th>\n",
       "      <td>종합주가 개장초 등락장세 연출...9시30분 928.84(+0.09) 삼성전자 애니...</td>\n",
       "      <td>x</td>\n",
       "    </tr>\n",
       "  </tbody>\n",
       "</table>\n",
       "<p>702161 rows × 2 columns</p>\n",
       "</div>"
      ],
      "text/plain": [
       "                                                              Title Change\n",
       "Date       Press                                                          \n",
       "1998-05-27 연합뉴스   삼성전자, 한국HP 지분 45% 전량 매각 상장사 10개중 7개는 영업할수록 손해 ...      x\n",
       "1998-05-28 연합뉴스   주가 상승세 삼성전자, 하나더 판촉 확대실시 <주식시황> 주가 상승 3백20선 회복...      x\n",
       "1998-05-29 연합뉴스   < 6.4선거 이후의 과제 > ...(下) 대기업그룹별 현안 전자업계 수출드라이브,...      x\n",
       "1998-05-30 연합뉴스   정보통신업계, `실직자를 잡아라' 주가 하락세 반전 삼성전자, 세계 공용 DVD 개...      x\n",
       "1998-06-01 연합뉴스   <회전목마> 삼성전자, 인터넷잡지 창간 지난해 상장기업 수출 28.8% 증가 현대전...      x\n",
       "...                                                             ...    ...\n",
       "2022-07-18 연합뉴스   불경기에도 자동차.화장품 광고는 활발 <주식시황> 주가, 큰 폭 상승 삼성전자 정보...      x\n",
       "2022-07-19 연합뉴스   반도체 업체들, 보따리장사로 골머리 주가 이틀째 급상승 三星電子, 세계 최경량 PC...      x\n",
       "2022-07-20 연합뉴스   삼성전자 반도체 전문 서비스센터 개설 삼성전관, `6시그마운동' 설명회 개최 상장사...      x\n",
       "2022-07-21 연합뉴스   D램 모듈 내수가격 큰 폭 하락 <표> 기업집단별.회사별 과징금 부과내역 공정위 조...      x\n",
       "           한국경제   종합주가 개장초 등락장세 연출...9시30분 928.84(+0.09) 삼성전자 애니...      x\n",
       "\n",
       "[702161 rows x 2 columns]"
      ]
     },
     "execution_count": 6,
     "metadata": {},
     "output_type": "execute_result"
    }
   ],
   "source": [
    "df['Change'] = 'x'\n",
    "df"
   ]
  },
  {
   "cell_type": "code",
   "execution_count": 17,
   "id": "58964390",
   "metadata": {
    "ExecuteTime": {
     "end_time": "2022-08-02T06:18:55.101229Z",
     "start_time": "2022-08-02T06:18:55.095203Z"
    }
   },
   "outputs": [
    {
     "data": {
      "text/plain": [
       "MultiIndex([('1998-05-27', '연합뉴스'),\n",
       "            ('1998-05-28', '연합뉴스'),\n",
       "            ('1998-05-29', '연합뉴스'),\n",
       "            ('1998-05-30', '연합뉴스'),\n",
       "            ('1998-06-01', '연합뉴스'),\n",
       "            ('1998-06-02', '연합뉴스'),\n",
       "            ('1998-06-03', '연합뉴스'),\n",
       "            ('1998-06-04', '연합뉴스'),\n",
       "            ('1998-06-05', '연합뉴스'),\n",
       "            ('1998-06-06', '연합뉴스'),\n",
       "            ...\n",
       "            ('2022-07-13', '연합뉴스'),\n",
       "            ('2022-07-14', '연합뉴스'),\n",
       "            ('2022-07-15', '연합뉴스'),\n",
       "            ('2022-07-16', '연합뉴스'),\n",
       "            ('2022-07-17', '연합뉴스'),\n",
       "            ('2022-07-18', '연합뉴스'),\n",
       "            ('2022-07-19', '연합뉴스'),\n",
       "            ('2022-07-20', '연합뉴스'),\n",
       "            ('2022-07-21', '연합뉴스'),\n",
       "            ('2022-07-21', '한국경제')],\n",
       "           names=['Date', 'Press'], length=702161)"
      ]
     },
     "execution_count": 17,
     "metadata": {},
     "output_type": "execute_result"
    }
   ],
   "source": [
    "df.index"
   ]
  },
  {
   "cell_type": "code",
   "execution_count": 14,
   "id": "dfb444dc",
   "metadata": {
    "ExecuteTime": {
     "end_time": "2022-08-02T05:53:01.083132Z",
     "start_time": "2022-08-02T05:53:01.075044Z"
    }
   },
   "outputs": [
    {
     "data": {
      "text/plain": [
       "datetime.datetime(1998, 5, 28, 0, 0)"
      ]
     },
     "execution_count": 14,
     "metadata": {},
     "output_type": "execute_result"
    }
   ],
   "source": [
    "stock = datetime.strptime(str(stock_df.index[1:][8]), \"%Y-%m-%d %H:%M:%S\")\n",
    "stock"
   ]
  },
  {
   "cell_type": "code",
   "execution_count": 13,
   "id": "d8450b55",
   "metadata": {
    "ExecuteTime": {
     "end_time": "2022-08-02T05:52:33.837974Z",
     "start_time": "2022-08-02T05:52:33.833186Z"
    }
   },
   "outputs": [
    {
     "data": {
      "text/plain": [
       "datetime.datetime(1998, 5, 28, 0, 0)"
      ]
     },
     "execution_count": 13,
     "metadata": {},
     "output_type": "execute_result"
    }
   ],
   "source": [
    "news = datetime.strptime(df.index[8[0], \"%Y-%m-%d\")\n",
    "news"
   ]
  },
  {
   "cell_type": "code",
   "execution_count": 9,
   "id": "271b91f0",
   "metadata": {
    "ExecuteTime": {
     "end_time": "2022-08-02T05:48:32.654754Z",
     "start_time": "2022-08-02T05:48:32.652252Z"
    }
   },
   "outputs": [
    {
     "data": {
      "text/plain": [
       "datetime.datetime(1998, 5, 29, 0, 0)"
      ]
     },
     "execution_count": 9,
     "metadata": {},
     "output_type": "execute_result"
    }
   ],
   "source": [
    "news + timedelta(days=1)"
   ]
  },
  {
   "cell_type": "code",
   "execution_count": 11,
   "id": "de732449",
   "metadata": {
    "ExecuteTime": {
     "end_time": "2022-08-02T05:51:26.670992Z",
     "start_time": "2022-08-02T05:51:26.664811Z"
    }
   },
   "outputs": [
    {
     "data": {
      "text/plain": [
       "MultiIndex([('1998-05-27', '연합뉴스'),\n",
       "            ('1998-05-28', '연합뉴스'),\n",
       "            ('1998-05-29', '연합뉴스'),\n",
       "            ('1998-05-30', '연합뉴스'),\n",
       "            ('1998-06-01', '연합뉴스'),\n",
       "            ('1998-06-02', '연합뉴스'),\n",
       "            ('1998-06-03', '연합뉴스'),\n",
       "            ('1998-06-04', '연합뉴스'),\n",
       "            ('1998-06-05', '연합뉴스'),\n",
       "            ('1998-06-06', '연합뉴스'),\n",
       "            ...\n",
       "            ('2022-07-13', '연합뉴스'),\n",
       "            ('2022-07-14', '연합뉴스'),\n",
       "            ('2022-07-15', '연합뉴스'),\n",
       "            ('2022-07-16', '연합뉴스'),\n",
       "            ('2022-07-17', '연합뉴스'),\n",
       "            ('2022-07-18', '연합뉴스'),\n",
       "            ('2022-07-19', '연합뉴스'),\n",
       "            ('2022-07-20', '연합뉴스'),\n",
       "            ('2022-07-21', '연합뉴스'),\n",
       "            ('2022-07-21', '한국경제')],\n",
       "           names=['Date', 'Press'], length=702161)"
      ]
     },
     "execution_count": 11,
     "metadata": {},
     "output_type": "execute_result"
    }
   ],
   "source": [
    "df.index"
   ]
  },
  {
   "cell_type": "code",
   "execution_count": 18,
   "id": "0da0e98c",
   "metadata": {
    "ExecuteTime": {
     "start_time": "2022-08-02T04:28:35.229Z"
    }
   },
   "outputs": [
    {
     "ename": "SyntaxError",
     "evalue": "invalid syntax (2922672926.py, line 16)",
     "output_type": "error",
     "traceback": [
      "\u001b[0;36m  Input \u001b[0;32mIn [18]\u001b[0;36m\u001b[0m\n\u001b[0;31m    print(stock ' / ' news)\u001b[0m\n\u001b[0m                ^\u001b[0m\n\u001b[0;31mSyntaxError\u001b[0m\u001b[0;31m:\u001b[0m invalid syntax\n"
     ]
    }
   ],
   "source": [
    "j = 0\n",
    "i = 1\n",
    "\n",
    "for i in tqdm(stock_df.index[1:]):\n",
    "    j += 1\n",
    "    stock = datetime.strptime(str(i), \"%Y-%m-%d %H:%M:%S\") # + timedelta(days=1) # datetime.datetime(1998, 5, 29, 0, 0) 형태로 변환\n",
    "    news = datetime.strptime(df.index[j-1][0], \"%Y-%m-%d\") # + timedelta(days=1)\n",
    "    print(i)\n",
    "    # print(j)\n",
    "    # print(stock)\n",
    "    # print(news)\n",
    "\n",
    "    while True:\n",
    "        if stock > news:\n",
    "            news = news + timedelta(days=1)\n",
    "            print(stock, ' / ', news)\n",
    "            continue\n",
    "        elif stock < news:\n",
    "            stock = stock + timedelta(days=1)\n",
    "            print(stock, ' / ', news)\n",
    "            continue\n",
    "        elif news == stock:\n",
    "            print(stock, ' / ', news)\n",
    "            break\n",
    "\n",
    "    print(\"----------\")\n"
   ]
  },
  {
   "cell_type": "code",
   "execution_count": null,
   "id": "c7df8b73",
   "metadata": {},
   "outputs": [],
   "source": []
  }
 ],
 "metadata": {
  "kernelspec": {
   "display_name": "Python 3 (ipykernel)",
   "language": "python",
   "name": "python3"
  },
  "language_info": {
   "codemirror_mode": {
    "name": "ipython",
    "version": 3
   },
   "file_extension": ".py",
   "mimetype": "text/x-python",
   "name": "python",
   "nbconvert_exporter": "python",
   "pygments_lexer": "ipython3",
   "version": "3.8.13"
  },
  "toc": {
   "base_numbering": 1,
   "nav_menu": {},
   "number_sections": false,
   "sideBar": true,
   "skip_h1_title": false,
   "title_cell": "Table of Contents",
   "title_sidebar": "Contents",
   "toc_cell": false,
   "toc_position": {},
   "toc_section_display": true,
   "toc_window_display": false
  },
  "vscode": {
   "interpreter": {
    "hash": "fb92ee058462925f1c2b46ec0ce4bc93b4ae93ba050752c77697e386d6fa9f39"
   }
  }
 },
 "nbformat": 4,
 "nbformat_minor": 5
}
