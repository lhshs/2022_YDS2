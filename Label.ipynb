{
 "cells": [
  {
   "cell_type": "code",
   "execution_count": 1,
   "id": "f93c2162",
   "metadata": {
    "ExecuteTime": {
     "end_time": "2022-08-01T09:04:08.447615Z",
     "start_time": "2022-08-01T09:04:08.275233Z"
    }
   },
   "outputs": [],
   "source": [
    "import pandas as pd\n",
    "import numpy as np\n",
    "\n",
    "from tqdm import tqdm\n",
    "import time\n",
    "\n",
    "from datetime import datetime, timedelta"
   ]
  },
  {
   "cell_type": "code",
   "execution_count": 2,
   "id": "0c05eb27",
   "metadata": {
    "ExecuteTime": {
     "end_time": "2022-08-01T09:04:12.784876Z",
     "start_time": "2022-08-01T09:04:08.449099Z"
    }
   },
   "outputs": [],
   "source": [
    "df = pd.read_csv('df_final_Date_refine_add_blank.csv', index_col = 0).reset_index().drop(columns='index')"
   ]
  },
  {
   "cell_type": "code",
   "execution_count": 3,
   "id": "5e9f7b55",
   "metadata": {
    "ExecuteTime": {
     "end_time": "2022-08-01T09:04:12.791218Z",
     "start_time": "2022-08-01T09:04:12.785690Z"
    }
   },
   "outputs": [],
   "source": [
    "label = pd.read_csv('Label/005930_Label.csv').reset_index().drop(columns='index')"
   ]
  },
  {
   "cell_type": "markdown",
   "id": "4346f72f",
   "metadata": {},
   "source": [
    "### 색깔 기능 추가"
   ]
  },
  {
   "cell_type": "code",
   "execution_count": 4,
   "id": "81043cc2",
   "metadata": {
    "ExecuteTime": {
     "end_time": "2022-08-01T09:04:12.793603Z",
     "start_time": "2022-08-01T09:04:12.792020Z"
    }
   },
   "outputs": [],
   "source": [
    "# def color_negative_red(val):\n",
    "#     color = 'blue' if val == 0 else 'red'\n",
    "#     return 'color: %s' % color"
   ]
  },
  {
   "cell_type": "code",
   "execution_count": 5,
   "id": "1ddf6b9c",
   "metadata": {
    "ExecuteTime": {
     "end_time": "2022-08-01T09:04:12.797996Z",
     "start_time": "2022-08-01T09:04:12.796391Z"
    },
    "scrolled": true
   },
   "outputs": [],
   "source": [
    "# label = label.style.applymap(color_negative_red, subset=pd.IndexSlice[:, ['Change']])\n",
    "# label"
   ]
  },
  {
   "cell_type": "code",
   "execution_count": 6,
   "id": "b4ddcc77",
   "metadata": {
    "ExecuteTime": {
     "end_time": "2022-08-01T09:04:12.804095Z",
     "start_time": "2022-08-01T09:04:12.799010Z"
    }
   },
   "outputs": [
    {
     "data": {
      "text/plain": [
       "'주가 사흘째 상승세 '"
      ]
     },
     "execution_count": 6,
     "metadata": {},
     "output_type": "execute_result"
    }
   ],
   "source": [
    "df.제목[0]"
   ]
  },
  {
   "cell_type": "code",
   "execution_count": 7,
   "id": "f57b12cd",
   "metadata": {
    "ExecuteTime": {
     "end_time": "2022-08-01T09:04:13.703210Z",
     "start_time": "2022-08-01T09:04:12.805049Z"
    }
   },
   "outputs": [
    {
     "data": {
      "text/html": [
       "<div>\n",
       "<style scoped>\n",
       "    .dataframe tbody tr th:only-of-type {\n",
       "        vertical-align: middle;\n",
       "    }\n",
       "\n",
       "    .dataframe tbody tr th {\n",
       "        vertical-align: top;\n",
       "    }\n",
       "\n",
       "    .dataframe thead th {\n",
       "        text-align: right;\n",
       "    }\n",
       "</style>\n",
       "<table border=\"1\" class=\"dataframe\">\n",
       "  <thead>\n",
       "    <tr style=\"text-align: right;\">\n",
       "      <th></th>\n",
       "      <th>날짜</th>\n",
       "      <th>언론사</th>\n",
       "      <th>제목</th>\n",
       "    </tr>\n",
       "  </thead>\n",
       "  <tbody>\n",
       "    <tr>\n",
       "      <th>0</th>\n",
       "      <td>1998-05-20</td>\n",
       "      <td>연합뉴스</td>\n",
       "      <td>주가 사흘째 상승세 아남텔레콤, PDA 데이터 전송서비스 개시 &lt;회전목마&gt; 삼성전자...</td>\n",
       "    </tr>\n",
       "    <tr>\n",
       "      <th>1</th>\n",
       "      <td>1998-05-21</td>\n",
       "      <td>연합뉴스</td>\n",
       "      <td>주가 3백70선 회복 `반도체업체는 여전히 안정된 직장' 휴대형 입체영상 모니터 국...</td>\n",
       "    </tr>\n",
       "    <tr>\n",
       "      <th>2</th>\n",
       "      <td>1998-05-22</td>\n",
       "      <td>연합뉴스</td>\n",
       "      <td>삼성디자인연구원, 전통유산 디자인 CD-롬 제작 주가 3백50대로 밀려 &lt;확대경&gt; ...</td>\n",
       "    </tr>\n",
       "    <tr>\n",
       "      <th>3</th>\n",
       "      <td>1998-05-23</td>\n",
       "      <td>연합뉴스</td>\n",
       "      <td>주가 소폭 반등 전자업계, 컨테이너 운송비용 인상에 반발 &lt;주식시황&gt; 주가 사흘만에...</td>\n",
       "    </tr>\n",
       "    <tr>\n",
       "      <th>4</th>\n",
       "      <td>1998-05-25</td>\n",
       "      <td>연합뉴스</td>\n",
       "      <td>한도폐지 첫날 주가 하락세 주가, 11년만에 최저치로 폭락</td>\n",
       "    </tr>\n",
       "    <tr>\n",
       "      <th>...</th>\n",
       "      <td>...</td>\n",
       "      <td>...</td>\n",
       "      <td>...</td>\n",
       "    </tr>\n",
       "    <tr>\n",
       "      <th>702162</th>\n",
       "      <td>2022-07-18</td>\n",
       "      <td>연합뉴스</td>\n",
       "      <td>불경기에도 자동차.화장품 광고는 활발 &lt;주식시황&gt; 주가, 큰 폭 상승 삼성전자 정보...</td>\n",
       "    </tr>\n",
       "    <tr>\n",
       "      <th>702163</th>\n",
       "      <td>2022-07-19</td>\n",
       "      <td>연합뉴스</td>\n",
       "      <td>반도체 업체들, 보따리장사로 골머리 주가 이틀째 급상승 三星電子, 세계 최경량 PC...</td>\n",
       "    </tr>\n",
       "    <tr>\n",
       "      <th>702164</th>\n",
       "      <td>2022-07-20</td>\n",
       "      <td>연합뉴스</td>\n",
       "      <td>삼성전자 반도체 전문 서비스센터 개설 삼성전관, `6시그마운동' 설명회 개최 상장사...</td>\n",
       "    </tr>\n",
       "    <tr>\n",
       "      <th>702165</th>\n",
       "      <td>2022-07-21</td>\n",
       "      <td>연합뉴스</td>\n",
       "      <td>D램 모듈 내수가격 큰 폭 하락 &lt;표&gt; 기업집단별.회사별 과징금 부과내역 공정위 조...</td>\n",
       "    </tr>\n",
       "    <tr>\n",
       "      <th>702166</th>\n",
       "      <td>2022-07-21</td>\n",
       "      <td>한국경제</td>\n",
       "      <td>종합주가 개장초 등락장세 연출...9시30분 928.84(+0.09) 삼성전자 애니...</td>\n",
       "    </tr>\n",
       "  </tbody>\n",
       "</table>\n",
       "<p>702167 rows × 3 columns</p>\n",
       "</div>"
      ],
      "text/plain": [
       "                날짜   언론사                                                 제목\n",
       "0       1998-05-20  연합뉴스  주가 사흘째 상승세 아남텔레콤, PDA 데이터 전송서비스 개시 <회전목마> 삼성전자...\n",
       "1       1998-05-21  연합뉴스  주가 3백70선 회복 `반도체업체는 여전히 안정된 직장' 휴대형 입체영상 모니터 국...\n",
       "2       1998-05-22  연합뉴스  삼성디자인연구원, 전통유산 디자인 CD-롬 제작 주가 3백50대로 밀려 <확대경> ...\n",
       "3       1998-05-23  연합뉴스  주가 소폭 반등 전자업계, 컨테이너 운송비용 인상에 반발 <주식시황> 주가 사흘만에...\n",
       "4       1998-05-25  연합뉴스                  한도폐지 첫날 주가 하락세 주가, 11년만에 최저치로 폭락 \n",
       "...            ...   ...                                                ...\n",
       "702162  2022-07-18  연합뉴스  불경기에도 자동차.화장품 광고는 활발 <주식시황> 주가, 큰 폭 상승 삼성전자 정보...\n",
       "702163  2022-07-19  연합뉴스  반도체 업체들, 보따리장사로 골머리 주가 이틀째 급상승 三星電子, 세계 최경량 PC...\n",
       "702164  2022-07-20  연합뉴스  삼성전자 반도체 전문 서비스센터 개설 삼성전관, `6시그마운동' 설명회 개최 상장사...\n",
       "702165  2022-07-21  연합뉴스  D램 모듈 내수가격 큰 폭 하락 <표> 기업집단별.회사별 과징금 부과내역 공정위 조...\n",
       "702166  2022-07-21  한국경제  종합주가 개장초 등락장세 연출...9시30분 928.84(+0.09) 삼성전자 애니...\n",
       "\n",
       "[702167 rows x 3 columns]"
      ]
     },
     "execution_count": 7,
     "metadata": {},
     "output_type": "execute_result"
    }
   ],
   "source": [
    "df = df.groupby(['날짜', '언론사']).sum().reset_index()\n",
    "df"
   ]
  },
  {
   "cell_type": "code",
   "execution_count": 8,
   "id": "fd3bb767",
   "metadata": {
    "ExecuteTime": {
     "end_time": "2022-08-01T09:04:13.706177Z",
     "start_time": "2022-08-01T09:04:13.704042Z"
    }
   },
   "outputs": [
    {
     "data": {
      "text/plain": [
       "'1998-05-20'"
      ]
     },
     "execution_count": 8,
     "metadata": {},
     "output_type": "execute_result"
    }
   ],
   "source": [
    "df.날짜[0]"
   ]
  },
  {
   "cell_type": "code",
   "execution_count": 9,
   "id": "f3e4bb8f",
   "metadata": {
    "ExecuteTime": {
     "end_time": "2022-08-01T09:04:13.710741Z",
     "start_time": "2022-08-01T09:04:13.706825Z"
    },
    "scrolled": false
   },
   "outputs": [
    {
     "data": {
      "text/html": [
       "<div>\n",
       "<style scoped>\n",
       "    .dataframe tbody tr th:only-of-type {\n",
       "        vertical-align: middle;\n",
       "    }\n",
       "\n",
       "    .dataframe tbody tr th {\n",
       "        vertical-align: top;\n",
       "    }\n",
       "\n",
       "    .dataframe thead th {\n",
       "        text-align: right;\n",
       "    }\n",
       "</style>\n",
       "<table border=\"1\" class=\"dataframe\">\n",
       "  <thead>\n",
       "    <tr style=\"text-align: right;\">\n",
       "      <th></th>\n",
       "      <th>Date</th>\n",
       "      <th>Open</th>\n",
       "      <th>High</th>\n",
       "      <th>Low</th>\n",
       "      <th>Close</th>\n",
       "      <th>Volume</th>\n",
       "      <th>Change</th>\n",
       "    </tr>\n",
       "  </thead>\n",
       "  <tbody>\n",
       "    <tr>\n",
       "      <th>0</th>\n",
       "      <td>1998-05-21</td>\n",
       "      <td>1130</td>\n",
       "      <td>1139</td>\n",
       "      <td>1061</td>\n",
       "      <td>1061</td>\n",
       "      <td>605730</td>\n",
       "      <td>0</td>\n",
       "    </tr>\n",
       "    <tr>\n",
       "      <th>1</th>\n",
       "      <td>1998-05-22</td>\n",
       "      <td>1029</td>\n",
       "      <td>1042</td>\n",
       "      <td>1014</td>\n",
       "      <td>1026</td>\n",
       "      <td>465530</td>\n",
       "      <td>0</td>\n",
       "    </tr>\n",
       "    <tr>\n",
       "      <th>2</th>\n",
       "      <td>1998-05-23</td>\n",
       "      <td>1051</td>\n",
       "      <td>1068</td>\n",
       "      <td>1033</td>\n",
       "      <td>1033</td>\n",
       "      <td>285990</td>\n",
       "      <td>1</td>\n",
       "    </tr>\n",
       "    <tr>\n",
       "      <th>3</th>\n",
       "      <td>1998-05-25</td>\n",
       "      <td>970</td>\n",
       "      <td>1020</td>\n",
       "      <td>912</td>\n",
       "      <td>912</td>\n",
       "      <td>456620</td>\n",
       "      <td>0</td>\n",
       "    </tr>\n",
       "    <tr>\n",
       "      <th>4</th>\n",
       "      <td>1998-05-26</td>\n",
       "      <td>875</td>\n",
       "      <td>893</td>\n",
       "      <td>837</td>\n",
       "      <td>847</td>\n",
       "      <td>422200</td>\n",
       "      <td>0</td>\n",
       "    </tr>\n",
       "    <tr>\n",
       "      <th>...</th>\n",
       "      <td>...</td>\n",
       "      <td>...</td>\n",
       "      <td>...</td>\n",
       "      <td>...</td>\n",
       "      <td>...</td>\n",
       "      <td>...</td>\n",
       "      <td>...</td>\n",
       "    </tr>\n",
       "    <tr>\n",
       "      <th>5995</th>\n",
       "      <td>2022-07-21</td>\n",
       "      <td>61100</td>\n",
       "      <td>61900</td>\n",
       "      <td>60700</td>\n",
       "      <td>61800</td>\n",
       "      <td>12291374</td>\n",
       "      <td>1</td>\n",
       "    </tr>\n",
       "    <tr>\n",
       "      <th>5996</th>\n",
       "      <td>2022-07-22</td>\n",
       "      <td>61800</td>\n",
       "      <td>62200</td>\n",
       "      <td>61200</td>\n",
       "      <td>61300</td>\n",
       "      <td>10261310</td>\n",
       "      <td>0</td>\n",
       "    </tr>\n",
       "    <tr>\n",
       "      <th>5997</th>\n",
       "      <td>2022-07-25</td>\n",
       "      <td>60900</td>\n",
       "      <td>61900</td>\n",
       "      <td>60800</td>\n",
       "      <td>61100</td>\n",
       "      <td>9193681</td>\n",
       "      <td>0</td>\n",
       "    </tr>\n",
       "    <tr>\n",
       "      <th>5998</th>\n",
       "      <td>2022-07-26</td>\n",
       "      <td>60800</td>\n",
       "      <td>61900</td>\n",
       "      <td>60800</td>\n",
       "      <td>61700</td>\n",
       "      <td>6597211</td>\n",
       "      <td>1</td>\n",
       "    </tr>\n",
       "    <tr>\n",
       "      <th>5999</th>\n",
       "      <td>2022-07-27</td>\n",
       "      <td>61300</td>\n",
       "      <td>61900</td>\n",
       "      <td>61300</td>\n",
       "      <td>61300</td>\n",
       "      <td>2685024</td>\n",
       "      <td>0</td>\n",
       "    </tr>\n",
       "  </tbody>\n",
       "</table>\n",
       "<p>6000 rows × 7 columns</p>\n",
       "</div>"
      ],
      "text/plain": [
       "            Date   Open   High    Low  Close    Volume  Change\n",
       "0     1998-05-21   1130   1139   1061   1061    605730       0\n",
       "1     1998-05-22   1029   1042   1014   1026    465530       0\n",
       "2     1998-05-23   1051   1068   1033   1033    285990       1\n",
       "3     1998-05-25    970   1020    912    912    456620       0\n",
       "4     1998-05-26    875    893    837    847    422200       0\n",
       "...          ...    ...    ...    ...    ...       ...     ...\n",
       "5995  2022-07-21  61100  61900  60700  61800  12291374       1\n",
       "5996  2022-07-22  61800  62200  61200  61300  10261310       0\n",
       "5997  2022-07-25  60900  61900  60800  61100   9193681       0\n",
       "5998  2022-07-26  60800  61900  60800  61700   6597211       1\n",
       "5999  2022-07-27  61300  61900  61300  61300   2685024       0\n",
       "\n",
       "[6000 rows x 7 columns]"
      ]
     },
     "execution_count": 9,
     "metadata": {},
     "output_type": "execute_result"
    }
   ],
   "source": [
    "label"
   ]
  },
  {
   "cell_type": "code",
   "execution_count": 10,
   "id": "8a276b9d",
   "metadata": {
    "ExecuteTime": {
     "end_time": "2022-08-01T09:04:13.944609Z",
     "start_time": "2022-08-01T09:04:13.711548Z"
    }
   },
   "outputs": [
    {
     "ename": "NameError",
     "evalue": "name 'x' is not defined",
     "output_type": "error",
     "traceback": [
      "\u001b[0;31m---------------------------------------------------------------------------\u001b[0m",
      "\u001b[0;31mNameError\u001b[0m                                 Traceback (most recent call last)",
      "Input \u001b[0;32mIn [10]\u001b[0m, in \u001b[0;36m<cell line: 1>\u001b[0;34m()\u001b[0m\n\u001b[0;32m----> 1\u001b[0m news \u001b[38;5;241m=\u001b[39m datetime\u001b[38;5;241m.\u001b[39mstrptime(\u001b[43mx\u001b[49m, \u001b[38;5;124m\"\u001b[39m\u001b[38;5;124m%\u001b[39m\u001b[38;5;124mY-\u001b[39m\u001b[38;5;124m%\u001b[39m\u001b[38;5;124mm-\u001b[39m\u001b[38;5;132;01m%d\u001b[39;00m\u001b[38;5;124m\"\u001b[39m) \u001b[38;5;241m+\u001b[39m timedelta(days\u001b[38;5;241m=\u001b[39m\u001b[38;5;241m1\u001b[39m)\n\u001b[1;32m      2\u001b[0m stock \u001b[38;5;241m=\u001b[39m datetime\u001b[38;5;241m.\u001b[39mstrptime(y, \u001b[38;5;124m\"\u001b[39m\u001b[38;5;124m%\u001b[39m\u001b[38;5;124mY-\u001b[39m\u001b[38;5;124m%\u001b[39m\u001b[38;5;124mm-\u001b[39m\u001b[38;5;132;01m%d\u001b[39;00m\u001b[38;5;124m\"\u001b[39m)\n",
      "\u001b[0;31mNameError\u001b[0m: name 'x' is not defined"
     ]
    }
   ],
   "source": [
    "# news = datetime.strptime(x, \"%Y-%m-%d\") + timedelta(days=1)\n",
    "# stock = datetime.strptime(y, \"%Y-%m-%d\")"
   ]
  },
  {
   "cell_type": "code",
   "execution_count": 16,
   "id": "6e17388a",
   "metadata": {
    "ExecuteTime": {
     "end_time": "2022-08-01T09:05:40.486022Z",
     "start_time": "2022-08-01T09:05:40.478366Z"
    }
   },
   "outputs": [],
   "source": [
    "def change_of_next_day_of_stock_market(today):\n",
    "    return_change = 0\n",
    "    today = datetime.date.isoformat(datetime.date.fromisoformat(today) + datetime.timedelta(days=1)) # 하루 미룸\n",
    "    while return_change == 0:\n",
    "        try:\n",
    "            if stock_df.loc[today][\"Change\"] > 0:\n",
    "                return_change = 1 # 찾은 \"Change\" 열의 값이 > 0 이면 상승이니까 + 1을 반환\n",
    "            else:\n",
    "                return_change = -1 # 찾은 \"Change\" 열의 값이 < 0 이면 하락이니까 - 1을 반환\n",
    "        except:\n",
    "            today = datetime.date.isoformat(datetime.date.fromisoformat(today) + datetime.timedelta(days=1))\n",
    "        # 삼성전자 데이터에서 날짜가 찾아지질 않으면 하루 더 미룸 while 때문에 찾아질 때까지 뒤로 하루씩 미룸\n",
    "        return return_change"
   ]
  },
  {
   "cell_type": "code",
   "execution_count": null,
   "id": "96fd5a94",
   "metadata": {
    "ExecuteTime": {
     "end_time": "2022-08-01T08:35:16.922716Z",
     "start_time": "2022-08-01T08:35:16.905812Z"
    }
   },
   "outputs": [],
   "source": [
    "df"
   ]
  },
  {
   "cell_type": "code",
   "execution_count": 17,
   "id": "7e751569",
   "metadata": {
    "ExecuteTime": {
     "end_time": "2022-08-01T09:05:56.556389Z",
     "start_time": "2022-08-01T09:05:56.550067Z"
    }
   },
   "outputs": [
    {
     "data": {
      "text/plain": [
       "\"\\nfor i in tqdm(range(5))\\n    if (label_y = df_y) & (label_m = df_m) & (label_d = df_d):\\n        df['주가'][i] = label['Change'][i]\\n    elif \\n\\ndf_y = df.날짜[0][0:4]\\ndf_m = df.날짜[0][5:7]\\ndf_d = df.날짜[0][8:10]\\n\\nlabel_y = label.Date[0][0:4]\\nlabel_m = label.Date[0][5:7]\\nlabel_d = label.Date[0][8:10]\\n\""
      ]
     },
     "execution_count": 17,
     "metadata": {},
     "output_type": "execute_result"
    }
   ],
   "source": [
    "'''\n",
    "for i in tqdm(range(5))\n",
    "    if (label_y = df_y) & (label_m = df_m) & (label_d = df_d):\n",
    "        df['주가'][i] = label['Change'][i]\n",
    "    elif \n",
    "\n",
    "df_y = df.날짜[0][0:4]\n",
    "df_m = df.날짜[0][5:7]\n",
    "df_d = df.날짜[0][8:10]\n",
    "\n",
    "label_y = label.Date[0][0:4]\n",
    "label_m = label.Date[0][5:7]\n",
    "label_d = label.Date[0][8:10]\n",
    "'''"
   ]
  },
  {
   "cell_type": "code",
   "execution_count": null,
   "id": "58e6f5e8",
   "metadata": {
    "ExecuteTime": {
     "end_time": "2022-08-01T05:52:24.190857Z",
     "start_time": "2022-08-01T05:52:24.186180Z"
    }
   },
   "outputs": [],
   "source": [
    "df_m"
   ]
  },
  {
   "cell_type": "code",
   "execution_count": null,
   "id": "75242b5f",
   "metadata": {
    "ExecuteTime": {
     "end_time": "2022-08-01T05:43:37.973112Z",
     "start_time": "2022-08-01T05:43:37.968714Z"
    }
   },
   "outputs": [],
   "source": [
    "df_date = datetime.now()"
   ]
  },
  {
   "cell_type": "code",
   "execution_count": null,
   "id": "8f8fc479",
   "metadata": {
    "ExecuteTime": {
     "end_time": "2022-08-01T06:18:13.786298Z",
     "start_time": "2022-08-01T06:18:13.778001Z"
    }
   },
   "outputs": [],
   "source": [
    "df.reset_index()"
   ]
  },
  {
   "cell_type": "code",
   "execution_count": null,
   "id": "7d1dfb68",
   "metadata": {},
   "outputs": [],
   "source": []
  }
 ],
 "metadata": {
  "kernelspec": {
   "display_name": "Python 3 (ipykernel)",
   "language": "python",
   "name": "python3"
  },
  "language_info": {
   "codemirror_mode": {
    "name": "ipython",
    "version": 3
   },
   "file_extension": ".py",
   "mimetype": "text/x-python",
   "name": "python",
   "nbconvert_exporter": "python",
   "pygments_lexer": "ipython3",
   "version": "3.9.12"
  },
  "toc": {
   "base_numbering": 1,
   "nav_menu": {},
   "number_sections": false,
   "sideBar": true,
   "skip_h1_title": false,
   "title_cell": "Table of Contents",
   "title_sidebar": "Contents",
   "toc_cell": false,
   "toc_position": {},
   "toc_section_display": true,
   "toc_window_display": false
  }
 },
 "nbformat": 4,
 "nbformat_minor": 5
}
