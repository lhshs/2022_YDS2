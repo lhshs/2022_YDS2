{
 "cells": [
  {
   "cell_type": "markdown",
   "metadata": {},
   "source": [
    "<div class=\"alert alert-block\" style=\"border: 1px solid #455A64;background-color:#ECEFF1;padding:5px;font-size:0.9em;\">\n",
    "본 자료와 관련 영상 컨텐츠는 저작권법 제25조 2항에 의해 보호를 받습니다. <br>본 컨텐츠 및 컨텐츠 일부 문구 등을 외부에 공개하거나, 요약해서 게시하지 말아주세요.<br>\n",
    "    <a href='https://www.fun-coding.org'>잔재미코딩(www.fun-coding.org) Dave Lee</a>\n",
    "</div>"
   ]
  },
  {
   "cell_type": "markdown",
   "metadata": {
    "pycharm": {
     "name": "#%% md\n"
    }
   },
   "source": [
    "### 실전 코딩 테스트 - BFS/DFS 알고리즘"
   ]
  },
  {
   "cell_type": "markdown",
   "metadata": {},
   "source": [
    "### 1. 연습문제: 알파벳 https://www.acmicpc.net/problem/1987"
   ]
  },
  {
   "cell_type": "code",
   "execution_count": 14,
   "metadata": {},
   "outputs": [],
   "source": [
    "import sys, io\n",
    "\n",
    "f = open(\"inputs.txt\", 'w')\n",
    "# 다음 데이터에 그대로 여러 데이터를 복사붙여넣기 하면 됨\n",
    "data = \"\"\"3 6\n",
    "HFDFFB\n",
    "AJHGDH\n",
    "DGAGEH\n",
    "\"\"\"\n",
    "f.write(data)\n",
    "f.close()\n",
    "\n",
    "input_file = open(\"inputs.txt\", \"r\") \n",
    "sys.stdin = io.StringIO(input_file.read())"
   ]
  },
  {
   "cell_type": "code",
   "execution_count": 15,
   "metadata": {},
   "outputs": [
    {
     "name": "stdout",
     "output_type": "stream",
     "text": [
      "6\n"
     ]
    }
   ],
   "source": []
  },
  {
   "cell_type": "markdown",
   "metadata": {
    "pycharm": {
     "name": "#%% md\n"
    }
   },
   "source": [
    "### 2. 연습문제: DFS와 BFS https://www.acmicpc.net/problem/1260\n",
    "> BFS/DFS 문제등 그래프 문제는 기본 난이도가 중급 이상"
   ]
  },
  {
   "cell_type": "code",
   "execution_count": 78,
   "metadata": {},
   "outputs": [],
   "source": [
    "import sys, io\n",
    "\n",
    "f = open(\"inputs.txt\", 'w')\n",
    "# 다음 데이터에 그대로 여러 데이터를 복사붙여넣기 하면 됨\n",
    "data = \"\"\"5 5 3\n",
    "5 4\n",
    "5 2\n",
    "1 2\n",
    "3 4\n",
    "3 1\n",
    "\"\"\"\n",
    "f.write(data)\n",
    "f.close()\n",
    "\n",
    "input_file = open(\"inputs.txt\", \"r\") \n",
    "sys.stdin = io.StringIO(input_file.read())"
   ]
  },
  {
   "cell_type": "code",
   "execution_count": 79,
   "metadata": {},
   "outputs": [
    {
     "name": "stdout",
     "output_type": "stream",
     "text": [
      "3 1 2 5 4\n",
      "[3]\n",
      "[1, 4]\n",
      "[4, 2, 3]\n",
      "[2, 3, 3, 5]\n",
      "[3, 3, 5, 1, 5]\n",
      "[3, 5, 1, 5]\n",
      "[5, 1, 5]\n",
      "[1, 5, 2, 4]\n",
      "[5, 2, 4]\n",
      "[2, 4]\n",
      "[4]\n",
      "3 1 4 2 5\n"
     ]
    }
   ],
   "source": []
  },
  {
   "cell_type": "markdown",
   "metadata": {},
   "source": [
    "<img src=\"https://www.fun-coding.org/00_Images/BFSDFS.png\" width=700>"
   ]
  },
  {
   "cell_type": "markdown",
   "metadata": {},
   "source": [
    "### 3. 연습문제: 전투 https://www.acmicpc.net/problem/1303"
   ]
  },
  {
   "cell_type": "markdown",
   "metadata": {},
   "source": [
    "<div class=\"alert alert-block\" style=\"border: 2px solid #E65100;background-color:#FFF3E0;padding:10px\">\n",
    "<font size=\"4em\" style=\"font-weight:bold;color:#BF360C;\">코딩 테스트 팁</font><br><br>\n",
    "    <font size=\"3em\" style=\"color:#BF360C;\">상하좌우 체크/이동 등</font><br>\n",
    "<div class=\"alert alert-block\" style=\"border: 2px solid #E65100;background-color:#FFF3E0;padding:10px\">\n",
    "dx = [1,-1,0,0] <br>\n",
    "dy = [0,0,1,-1] <br>\n",
    "<br>\n",
    "for index in range(4): # x, y 좌표에 대해 상하좌우는 dx[index], dy[index] 를 for 구문으로 해결 가능 <br>\n",
    "&nbsp;&nbsp;&nbsp;&nbsp;nx, ny = x + dx[index], y + dy[index] <br>\n",
    "</div>\n",
    "</div>"
   ]
  },
  {
   "cell_type": "markdown",
   "metadata": {},
   "source": [
    "<div class=\"alert alert-block\" style=\"border: 2px solid #E65100;background-color:#FFF3E0;padding:10px\">\n",
    "<font size=\"4em\" style=\"font-weight:bold;color:#BF360C;\">코딩 테스트 팁</font><br><br>\n",
    "<font size=\"3em\" style=\"color:#BF360C;\">리스트의 pop(0) 성능 개선 방법</font><br>\n",
    "<font size=\"3em\" style=\"color:#BF360C;\">리스트의 경우 pop()으로 마지막 값을 꺼내는 경우 O(1) 시간이 걸림</font><br>\n",
    "<font size=\"3em\" style=\"color:#BF360C;\">리스트의 경우 pop(0)으로 가장 앞단에 값을 꺼낼 때는, O(n) 시간이 걸림</font><br>\n",
    "<font size=\"3em\" style=\"color:#BF360C;\">collections 라이브러리의 deque 를 사용하고, pop(0) 과 같은 역할을 하는 popleft() 를 사용하면, O(1) 시간이 걸림</font><br>\n",
    "<div class=\"alert alert-block\" style=\"border: 2px solid #E65100;background-color:#FFF3E0;padding:10px\">\n",
    "from collections import deque<br>\n",
    "need_visit = deque()<br>\n",
    "need_visit.popleft()<br>\n",
    "</div>\n",
    "</div>"
   ]
  },
  {
   "cell_type": "code",
   "execution_count": 90,
   "metadata": {},
   "outputs": [],
   "source": [
    "import sys, io\n",
    "\n",
    "f = open(\"inputs.txt\", 'w')\n",
    "# 다음 데이터에 그대로 여러 데이터를 복사붙여넣기 하면 됨\n",
    "data = \"\"\"5 5\n",
    "WBWWW\n",
    "WWWWW\n",
    "BBBBB\n",
    "BBBWW\n",
    "WWWWW\n",
    "\"\"\"\n",
    "f.write(data)\n",
    "f.close()\n",
    "\n",
    "input_file = open(\"inputs.txt\", \"r\") \n",
    "sys.stdin = io.StringIO(input_file.read())\n",
    "input = sys.stdin.readline"
   ]
  },
  {
   "cell_type": "code",
   "execution_count": 91,
   "metadata": {},
   "outputs": [
    {
     "name": "stdout",
     "output_type": "stream",
     "text": [
      "130 65\n"
     ]
    }
   ],
   "source": []
  },
  {
   "cell_type": "markdown",
   "metadata": {},
   "source": [
    "<div class=\"alert alert-block\" style=\"border: 1px solid #455A64;background-color:#ECEFF1;padding:5px;font-size:0.9em;\">\n",
    "본 자료와 관련 영상 컨텐츠는 저작권법 제25조 2항에 의해 보호를 받습니다. <br>본 컨텐츠 및 컨텐츠 일부 문구 등을 외부에 공개하거나, 요약해서 게시하지 말아주세요.<br>\n",
    "    <a href='https://www.fun-coding.org'>잔재미코딩(www.fun-coding.org) Dave Lee</a>\n",
    "</div>"
   ]
  }
 ],
 "metadata": {
  "kernelspec": {
   "display_name": "Python 3 (ipykernel)",
   "language": "python",
   "name": "python3"
  },
  "language_info": {
   "codemirror_mode": {
    "name": "ipython",
    "version": 3
   },
   "file_extension": ".py",
   "mimetype": "text/x-python",
   "name": "python",
   "nbconvert_exporter": "python",
   "pygments_lexer": "ipython3",
   "version": "3.9.12"
  }
 },
 "nbformat": 4,
 "nbformat_minor": 4
}
