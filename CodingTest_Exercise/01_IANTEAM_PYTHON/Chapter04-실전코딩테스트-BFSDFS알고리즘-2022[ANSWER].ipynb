{
 "cells": [
  {
   "cell_type": "markdown",
   "metadata": {},
   "source": [
    "<div class=\"alert alert-block\" style=\"border: 1px solid #455A64;background-color:#ECEFF1;padding:5px;font-size:0.9em;\">\n",
    "본 자료와 관련 영상 컨텐츠는 저작권법 제25조 2항에 의해 보호를 받습니다. <br>본 컨텐츠 및 컨텐츠 일부 문구 등을 외부에 공개하거나, 요약해서 게시하지 말아주세요.<br>\n",
    "    <a href='https://www.fun-coding.org'>잔재미코딩(www.fun-coding.org) Dave Lee</a>\n",
    "</div>"
   ]
  },
  {
   "cell_type": "markdown",
   "metadata": {
    "pycharm": {
     "name": "#%% md\n"
    }
   },
   "source": [
    "### 실전 코딩 테스트 - BFS/DFS 알고리즘"
   ]
  },
  {
   "cell_type": "markdown",
   "metadata": {},
   "source": [
    "### 1. 연습문제: 알파벳 https://www.acmicpc.net/problem/1987"
   ]
  },
  {
   "cell_type": "code",
   "execution_count": 14,
   "metadata": {},
   "outputs": [],
   "source": [
    "import sys, io\n",
    "\n",
    "f = open(\"inputs.txt\", 'w')\n",
    "# 다음 데이터에 그대로 여러 데이터를 복사붙여넣기 하면 됨\n",
    "data = \"\"\"3 6\n",
    "HFDFFB\n",
    "AJHGDH\n",
    "DGAGEH\n",
    "\"\"\"\n",
    "f.write(data)\n",
    "f.close()\n",
    "\n",
    "input_file = open(\"inputs.txt\", \"r\") \n",
    "sys.stdin = io.StringIO(input_file.read())"
   ]
  },
  {
   "cell_type": "code",
   "execution_count": 15,
   "metadata": {},
   "outputs": [
    {
     "name": "stdout",
     "output_type": "stream",
     "text": [
      "6\n"
     ]
    }
   ],
   "source": [
    "import sys\n",
    "input = sys.stdin.readline\n",
    "\n",
    "def bfs():\n",
    "    count = 1\n",
    "    dx = [1, -1, 0, 0]\n",
    "    dy = [0, 0, 1, -1]\n",
    "    queue = set([(0, 0, graph[0][0])]) # 시간 초과를 줄이기 위해 중복되는 곳은 제거\n",
    "\n",
    "    while queue:\n",
    "        x, y, z = queue.pop()\n",
    "        # 말이 지날 수 있는 최대의 칸 초기화\n",
    "        count = max(count, len(z))\n",
    "        # 상/하/좌/우 탐색\n",
    "        for i in range(4):\n",
    "            nx = x + dx[i]\n",
    "            ny = y + dy[i]\n",
    "\n",
    "            # 범위 내에 있고 알파벳이 중복이 안된다면 탐색\n",
    "            if 0 <= nx < R and 0 <= ny < C and graph[nx][ny] not in z:\n",
    "                queue.add((nx, ny, graph[nx][ny] + z))\n",
    "    return count\n",
    "\n",
    "R, C = map(int, input().split())\n",
    "graph = [list(input().rstrip()) for _ in range(R)]\n",
    "print(bfs())"
   ]
  },
  {
   "cell_type": "markdown",
   "metadata": {
    "pycharm": {
     "name": "#%% md\n"
    }
   },
   "source": [
    "### 2. 연습문제: DFS와 BFS https://www.acmicpc.net/problem/1260\n",
    "> BFS/DFS 문제등 그래프 문제는 기본 난이도가 중급 이상"
   ]
  },
  {
   "cell_type": "code",
   "execution_count": 78,
   "metadata": {},
   "outputs": [],
   "source": [
    "import sys, io\n",
    "\n",
    "f = open(\"inputs.txt\", 'w')\n",
    "# 다음 데이터에 그대로 여러 데이터를 복사붙여넣기 하면 됨\n",
    "data = \"\"\"5 5 3\n",
    "5 4\n",
    "5 2\n",
    "1 2\n",
    "3 4\n",
    "3 1\n",
    "\"\"\"\n",
    "f.write(data)\n",
    "f.close()\n",
    "\n",
    "input_file = open(\"inputs.txt\", \"r\") \n",
    "sys.stdin = io.StringIO(input_file.read())"
   ]
  },
  {
   "cell_type": "code",
   "execution_count": 79,
   "metadata": {},
   "outputs": [
    {
     "name": "stdout",
     "output_type": "stream",
     "text": [
      "3 1 2 5 4\n",
      "[3]\n",
      "[1, 4]\n",
      "[4, 2, 3]\n",
      "[2, 3, 3, 5]\n",
      "[3, 3, 5, 1, 5]\n",
      "[3, 5, 1, 5]\n",
      "[5, 1, 5]\n",
      "[1, 5, 2, 4]\n",
      "[5, 2, 4]\n",
      "[2, 4]\n",
      "[4]\n",
      "3 1 4 2 5\n"
     ]
    }
   ],
   "source": [
    "import sys\n",
    "input = sys.stdin.readline\n",
    "\n",
    "from collections import defaultdict\n",
    "\n",
    "N, M, V = map(int, input().split())\n",
    "\n",
    "graph = defaultdict(list)\n",
    "for _ in range(M):\n",
    "    node, edge = map(int, input().split())\n",
    "    graph[node].append(edge)\n",
    "    graph[edge].append(node)\n",
    "\n",
    "# 방문할 수 있는 정점이 여러 개인 경우, 정점 번호가 작은 것을 먼저 방문할 수 있도록, 작은 번호부터 정렬\n",
    "for node in list(graph):\n",
    "    graph[node] = sorted(graph[node])\n",
    "\n",
    "# 방문할 수 있는 정점이 여러 개인 경우, 정점 번호가 작은 것을 먼저 방문할 수 있도록, DFS 코드 변경\n",
    "def recursive_dfs(start_node, visited=list()):\n",
    "    visited.append(start_node)\n",
    "    for w in graph[start_node]:\n",
    "        if w not in visited:\n",
    "            visited = recursive_dfs(w, visited)\n",
    "    return visited\n",
    "\n",
    "def bfs(start_node):\n",
    "    visited, need_visit = list(), list()\n",
    "    need_visit.append(start_node)\n",
    "    while need_visit:\n",
    "        print (need_visit)\n",
    "        node = need_visit.pop(0)\n",
    "        if node not in visited:\n",
    "            visited.append(node)\n",
    "            need_visit.extend(graph[node])\n",
    "    return visited\n",
    "\n",
    "print(' '.join(map(str, recursive_dfs(V))))\n",
    "print(' '.join(map(str, bfs(V))))"
   ]
  },
  {
   "cell_type": "markdown",
   "metadata": {},
   "source": [
    "<img src=\"https://www.fun-coding.org/00_Images/BFSDFS.png\" width=700>"
   ]
  },
  {
   "cell_type": "markdown",
   "metadata": {},
   "source": [
    "### 3. 연습문제: 전투 https://www.acmicpc.net/problem/1303"
   ]
  },
  {
   "cell_type": "markdown",
   "metadata": {},
   "source": [
    "<div class=\"alert alert-block\" style=\"border: 2px solid #E65100;background-color:#FFF3E0;padding:10px\">\n",
    "<font size=\"4em\" style=\"font-weight:bold;color:#BF360C;\">코딩 테스트 팁</font><br><br>\n",
    "    <font size=\"3em\" style=\"color:#BF360C;\">상하좌우 체크/이동 등</font><br>\n",
    "<div class=\"alert alert-block\" style=\"border: 2px solid #E65100;background-color:#FFF3E0;padding:10px\">\n",
    "dx = [1,-1,0,0] <br>\n",
    "dy = [0,0,1,-1] <br>\n",
    "<br>\n",
    "for index in range(4): # x, y 좌표에 대해 상하좌우는 dx[index], dy[index] 를 for 구문으로 해결 가능 <br>\n",
    "&nbsp;&nbsp;&nbsp;&nbsp;nx, ny = x + dx[index], y + dy[index] <br>\n",
    "</div>\n",
    "</div>"
   ]
  },
  {
   "cell_type": "markdown",
   "metadata": {},
   "source": [
    "<div class=\"alert alert-block\" style=\"border: 2px solid #E65100;background-color:#FFF3E0;padding:10px\">\n",
    "<font size=\"4em\" style=\"font-weight:bold;color:#BF360C;\">코딩 테스트 팁</font><br><br>\n",
    "<font size=\"3em\" style=\"color:#BF360C;\">리스트의 pop(0) 성능 개선 방법</font><br>\n",
    "<font size=\"3em\" style=\"color:#BF360C;\">리스트의 경우 pop()으로 마지막 값을 꺼내는 경우 O(1) 시간이 걸림</font><br>\n",
    "<font size=\"3em\" style=\"color:#BF360C;\">리스트의 경우 pop(0)으로 가장 앞단에 값을 꺼낼 때는, O(n) 시간이 걸림</font><br>\n",
    "<font size=\"3em\" style=\"color:#BF360C;\">collections 라이브러리의 deque 를 사용하고, pop(0) 과 같은 역할을 하는 popleft() 를 사용하면, O(1) 시간이 걸림</font><br>\n",
    "<div class=\"alert alert-block\" style=\"border: 2px solid #E65100;background-color:#FFF3E0;padding:10px\">\n",
    "from collections import deque<br>\n",
    "need_visit = deque()<br>\n",
    "need_visit.popleft()<br>\n",
    "</div>\n",
    "</div>"
   ]
  },
  {
   "cell_type": "code",
   "execution_count": 90,
   "metadata": {},
   "outputs": [],
   "source": [
    "import sys, io\n",
    "\n",
    "f = open(\"inputs.txt\", 'w')\n",
    "# 다음 데이터에 그대로 여러 데이터를 복사붙여넣기 하면 됨\n",
    "data = \"\"\"5 5\n",
    "WBWWW\n",
    "WWWWW\n",
    "BBBBB\n",
    "BBBWW\n",
    "WWWWW\n",
    "\"\"\"\n",
    "f.write(data)\n",
    "f.close()\n",
    "\n",
    "input_file = open(\"inputs.txt\", \"r\") \n",
    "sys.stdin = io.StringIO(input_file.read())\n",
    "input = sys.stdin.readline"
   ]
  },
  {
   "cell_type": "code",
   "execution_count": 91,
   "metadata": {},
   "outputs": [
    {
     "name": "stdout",
     "output_type": "stream",
     "text": [
      "130 65\n"
     ]
    }
   ],
   "source": [
    "import sys\n",
    "input = sys.stdin.readline\n",
    "\n",
    "from collections import deque\n",
    "\n",
    "N, M = map(int, input().split())\n",
    "graph = [list(input().strip()) for _ in range(M)]\n",
    "visited = [[0]*N for _ in range(M)]\n",
    "\n",
    "dx = [1,-1,0,0]\n",
    "dy = [0,0,1,-1]\n",
    "W, B = 0, 0 \n",
    "\n",
    "need_visit = deque()\n",
    "\n",
    "def bfs(x, y):\n",
    "    need_visit.append((x, y))\n",
    "    visited[x][y] = 1\n",
    "    count = 1\n",
    "\n",
    "    while need_visit:\n",
    "        x, y = need_visit.popleft()\n",
    "        for index in range(4):\n",
    "            nx, ny = x + dx[index], y + dy[index]\n",
    "            if (0 <= nx < M) and (0 <= ny < N) and (visited[nx][ny]==0) and (graph[x][y] == graph[nx][ny]):\n",
    "                need_visit.append((nx, ny))\n",
    "                visited[nx][ny] = 1\n",
    "                count += 1\n",
    "    return count\n",
    "\n",
    "for i in range(M):\n",
    "    for j in range(N):\n",
    "        if visited[i][j] == 0:\n",
    "            if graph[i][j] == 'W': \n",
    "                W += bfs(i, j) ** 2\n",
    "            else: \n",
    "                B += bfs(i, j) ** 2\n",
    "\n",
    "print(W, B)"
   ]
  },
  {
   "cell_type": "markdown",
   "metadata": {},
   "source": [
    "<div class=\"alert alert-block\" style=\"border: 1px solid #455A64;background-color:#ECEFF1;padding:5px;font-size:0.9em;\">\n",
    "본 자료와 관련 영상 컨텐츠는 저작권법 제25조 2항에 의해 보호를 받습니다. <br>본 컨텐츠 및 컨텐츠 일부 문구 등을 외부에 공개하거나, 요약해서 게시하지 말아주세요.<br>\n",
    "    <a href='https://www.fun-coding.org'>잔재미코딩(www.fun-coding.org) Dave Lee</a>\n",
    "</div>"
   ]
  }
 ],
 "metadata": {
  "kernelspec": {
   "display_name": "Python 3 (ipykernel)",
   "language": "python",
   "name": "python3"
  },
  "language_info": {
   "codemirror_mode": {
    "name": "ipython",
    "version": 3
   },
   "file_extension": ".py",
   "mimetype": "text/x-python",
   "name": "python",
   "nbconvert_exporter": "python",
   "pygments_lexer": "ipython3",
   "version": "3.9.12"
  }
 },
 "nbformat": 4,
 "nbformat_minor": 4
}
