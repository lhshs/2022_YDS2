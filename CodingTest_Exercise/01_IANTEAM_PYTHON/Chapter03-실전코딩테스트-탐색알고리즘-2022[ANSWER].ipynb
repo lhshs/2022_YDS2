{
 "cells": [
  {
   "cell_type": "markdown",
   "metadata": {},
   "source": [
    "<div class=\"alert alert-block\" style=\"border: 1px solid #455A64;background-color:#ECEFF1;padding:5px;font-size:0.9em;\">\n",
    "본 자료와 관련 영상 컨텐츠는 저작권법 제25조 2항에 의해 보호를 받습니다. <br>본 컨텐츠 및 컨텐츠 일부 문구 등을 외부에 공개하거나, 요약해서 게시하지 말아주세요.<br>\n",
    "    <a href='https://www.fun-coding.org'>잔재미코딩(www.fun-coding.org) Dave Lee</a>\n",
    "</div>"
   ]
  },
  {
   "cell_type": "markdown",
   "metadata": {
    "pycharm": {
     "name": "#%% md\n"
    }
   },
   "source": [
    "### 실전 코딩 테스트 - 탐색 알고리즘\n",
    "> 탐색 알고리즘은 완전 탐색(Brute-force) 문제와, 이진 탐색 문제로 세부 유형을 나눌 수 있음\n",
    "\n",
    "- Brute-force: 브루트 포스 라고 부르며, 무식하게 for 구문을 사용해서 푸는 문제 유형을 의미함 (즉 특별한 코딩 패턴은 없음)"
   ]
  },
  {
   "cell_type": "markdown",
   "metadata": {},
   "source": [
    "<div class=\"alert alert-block\" style=\"border: 2px solid #E65100;background-color:#FFF3E0;padding:10px\">\n",
    "    <font size=\"4em\" style=\"color:#BF360C;\"><b>코딩 테스트 팁</b></font><br>\n",
    "<font size=\"4em\" style=\"color:#BF360C;\">문제를 만나면, 제일 먼저 완전 탐색(브루트 포스) 적용을 고려해보세요</font><br>\n",
    "<font size=\"4em\" style=\"color:#BF360C;\">완전 탐색으로는 무리가 있으면, 특정 유형인지를 파악해보고, 유형도 떠오르지 않으면</font><br>\n",
    "<font size=\"4em\" style=\"color:#BF360C;\">동적 계획법, 그리디, 이분 탐색 순으로 풀이법을 고민해보세요!</font><br>\n",
    "</div>"
   ]
  },
  {
   "cell_type": "markdown",
   "metadata": {},
   "source": [
    "### 1. 연습문제: 문서 검색 https://www.acmicpc.net/problem/1543\n",
    "<div class=\"alert alert-block\" style=\"border: 2px solid #E65100;background-color:#FFF3E0;padding:10px\">\n",
    "<font size=\"4em\" style=\"color:#BF360C;\">완전 탐색 (Brute-force) 문제 예</font>\n",
    "</div>"
   ]
  },
  {
   "cell_type": "code",
   "execution_count": 15,
   "metadata": {},
   "outputs": [],
   "source": [
    "import io\n",
    "file = open(\"inputs.txt\", 'w')\n",
    "# 다음 데이터에 그대로 여러 데이터를 복사붙여넣기 하면 됨\n",
    "data = \"\"\"ababababa\n",
    "aba\n",
    "\"\"\"\n",
    "file.write(data)\n",
    "file.close()\n",
    "input_file = open(\"inputs.txt\", \"r\") \n",
    "sys.stdin = io.StringIO(input_file.read())"
   ]
  },
  {
   "cell_type": "code",
   "execution_count": 16,
   "metadata": {},
   "outputs": [
    {
     "name": "stdout",
     "output_type": "stream",
     "text": [
      "9 3\n",
      "aba\n",
      "bab\n",
      "aba\n",
      "2\n"
     ]
    }
   ],
   "source": [
    "import sys\n",
    "input = sys.stdin.readline\n",
    "\n",
    "# strip() 으로 \\n 는 삭제\n",
    "doc = input().strip()\n",
    "word = input().strip()\n",
    "count, start = 0, 0\n",
    "\n",
    "while start <= len(doc) - len(word):\n",
    "    if doc[start:start + len(word)] == word:\n",
    "        count += 1\n",
    "        start += len(word)\n",
    "    else:\n",
    "        start += 1\n",
    "print (count)"
   ]
  },
  {
   "cell_type": "markdown",
   "metadata": {},
   "source": [
    "### 2. 연습문제: 분해합 https://www.acmicpc.net/problem/2231\n",
    "<div class=\"alert alert-block\" style=\"border: 2px solid #E65100;background-color:#FFF3E0;padding:10px\">\n",
    "<font size=\"4em\" style=\"color:#BF360C;\">완전 탐색 (Brute-force) 문제는 특별한 코딩 패턴이 있기보다는, </font><br>\n",
    "<font size=\"4em\" style=\"color:#BF360C;\">문제를 기반으로 단지, 반복문으로 구현을 하는 작업에 가까움</font>\n",
    "</div>"
   ]
  },
  {
   "cell_type": "code",
   "execution_count": 34,
   "metadata": {},
   "outputs": [],
   "source": [
    "import sys, io\n",
    "file = open(\"inputs.txt\", 'w')\n",
    "# 다음 데이터에 그대로 여러 데이터를 복사붙여넣기 하면 됨\n",
    "data = \"\"\"216\n",
    "\"\"\"\n",
    "file.write(data)\n",
    "file.close()\n",
    "input_file = open(\"inputs.txt\", \"r\") \n",
    "sys.stdin = io.StringIO(input_file.read())"
   ]
  },
  {
   "cell_type": "code",
   "execution_count": 35,
   "metadata": {},
   "outputs": [
    {
     "name": "stdout",
     "output_type": "stream",
     "text": [
      "198\n"
     ]
    }
   ],
   "source": [
    "import sys\n",
    "input = sys.stdin.readline\n",
    "\n",
    "N = int(input())\n",
    "\n",
    "for index in range(1, N + 1):\n",
    "    data = list(map(int, str(index)))\n",
    "    result = index + sum(data)\n",
    "    if result == N:\n",
    "        print (index)\n",
    "        break\n",
    "    \n",
    "    if index == N:\n",
    "        print (0)"
   ]
  },
  {
   "cell_type": "markdown",
   "metadata": {
    "pycharm": {
     "name": "#%% md\n"
    }
   },
   "source": [
    "### 3. 연습문제: 수 찾기 https://www.acmicpc.net/problem/1920\n",
    "<div class=\"alert alert-block\" style=\"border: 2px solid #E65100;background-color:#FFF3E0;padding:10px\">\n",
    "<font size=\"4em\" style=\"color:#BF360C;\">이진 탐색 문제 예</font>\n",
    "</div>"
   ]
  },
  {
   "cell_type": "markdown",
   "metadata": {
    "pycharm": {
     "name": "#%% md\n"
    }
   },
   "source": [
    "<div class=\"alert alert-block\" style=\"border: 2px solid #E65100;background-color:#FFF3E0;padding:10px\">\n",
    "<font size=\"4em\" style=\"color:#BF360C;\">완전 탐색 (Brute-force) 로 접근하면 안되는 이유: 시간 초과 (O(n^2)) </font>\n",
    "</div>"
   ]
  },
  {
   "cell_type": "code",
   "execution_count": 29,
   "metadata": {},
   "outputs": [],
   "source": [
    "import sys, io\n",
    "file = open(\"inputs.txt\", 'w')\n",
    "# 다음 데이터에 그대로 여러 데이터를 복사붙여넣기 하면 됨\n",
    "data = \"\"\"5\n",
    "4 1 5 2 3\n",
    "5\n",
    "1 3 7 9 5\n",
    "\"\"\"\n",
    "file.write(data)\n",
    "file.close()\n",
    "input_file = open(\"inputs.txt\", \"r\") \n",
    "sys.stdin = io.StringIO(input_file.read())"
   ]
  },
  {
   "cell_type": "code",
   "execution_count": 28,
   "metadata": {
    "pycharm": {
     "name": "#%%\n"
    }
   },
   "outputs": [
    {
     "name": "stdout",
     "output_type": "stream",
     "text": [
      "1\n",
      "1\n",
      "0\n",
      "0\n",
      "1\n"
     ]
    }
   ],
   "source": [
    "import sys\n",
    "input = sys.stdin.readline\n",
    "\n",
    "N = int(input().strip())\n",
    "digits = list(map(int, input().split()))\n",
    "M = int(input().strip())\n",
    "finds = list(map(int, input().split()))\n",
    "\n",
    "for find in finds:\n",
    "    if find in digits:\n",
    "        print (1)\n",
    "    else:\n",
    "        print (0) "
   ]
  },
  {
   "cell_type": "markdown",
   "metadata": {},
   "source": [
    "<div class=\"alert alert-block\" style=\"border: 2px solid #E65100;background-color:#FFF3E0;padding:10px\">\n",
    "<font size=\"4em\" style=\"color:#BF360C;\">이진 탐색으로 작성해보기</font>\n",
    "</div>"
   ]
  },
  {
   "cell_type": "code",
   "execution_count": 30,
   "metadata": {},
   "outputs": [],
   "source": [
    "import sys, io\n",
    "\n",
    "file = open(\"inputs.txt\", 'w')\n",
    "# 다음 데이터에 그대로 여러 데이터를 복사붙여넣기 하면 됨\n",
    "data = \"\"\"5\n",
    "4 1 5 2 3\n",
    "5\n",
    "1 3 7 9 5\n",
    "\"\"\"\n",
    "file.write(data)\n",
    "file.close()\n",
    "\n",
    "input_file = open(\"inputs.txt\", \"r\") \n",
    "sys.stdin = io.StringIO(input_file.read())"
   ]
  },
  {
   "cell_type": "code",
   "execution_count": 31,
   "metadata": {
    "pycharm": {
     "name": "#%%\n"
    }
   },
   "outputs": [
    {
     "name": "stdout",
     "output_type": "stream",
     "text": [
      "1\n",
      "1\n",
      "0\n",
      "0\n",
      "1\n"
     ]
    }
   ],
   "source": [
    "import sys\n",
    "input = sys.stdin.readline\n",
    "\n",
    "N = int(input().strip())\n",
    "digits = list(map(int, input().split()))\n",
    "M = int(input().strip())\n",
    "finds = list(map(int, input().split()))\n",
    "\n",
    "digits.sort()\n",
    "\n",
    "def binary_search(value, start, end):\n",
    "\n",
    "    if start > end:\n",
    "        return False\n",
    "    \n",
    "    median = (start + end) // 2\n",
    "    if digits[median] > value:\n",
    "        return binary_search(value, start, median - 1)\n",
    "    elif digits[median] < value:\n",
    "        return binary_search(value, median + 1, end)\n",
    "    else:\n",
    "        return True\n",
    "    \n",
    "for find in finds:\n",
    "    if binary_search(find, 0, N - 1):\n",
    "        print (1)\n",
    "    else:\n",
    "        print (0)"
   ]
  },
  {
   "cell_type": "markdown",
   "metadata": {},
   "source": [
    "### 4. 연습문제: 나무 자르기 https://www.acmicpc.net/problem/2805"
   ]
  },
  {
   "cell_type": "markdown",
   "metadata": {},
   "source": [
    "<div class=\"alert alert-block\" style=\"border: 2px solid #E65100;background-color:#FFF3E0;padding:10px\">\n",
    "<font size=\"4em\" style=\"color:#BF360C;\">이진 탐색 문제 예</font>\n",
    "</div>\n",
    "<div class=\"alert alert-block\" style=\"border: 2px solid #E65100;background-color:#FFF3E0;padding:10px\">\n",
    "<font size=\"4em\" style=\"color:#BF360C;\">이진 탐색으로 풀지 않으면 (또한 PyPy3 로 설정해야 함) 시간 초과 </foynt>\n",
    "</div>"
   ]
  },
  {
   "cell_type": "code",
   "execution_count": 17,
   "metadata": {},
   "outputs": [],
   "source": [
    "import sys, io\n",
    "\n",
    "file = open(\"inputs.txt\", 'w')\n",
    "# 다음 데이터에 그대로 여러 데이터를 복사붙여넣기 하면 됨\n",
    "data = \"\"\"5 20\n",
    "4 42 40 26 46\n",
    "\"\"\"\n",
    "file.write(data)\n",
    "file.close()\n",
    "\n",
    "input_file = open(\"inputs.txt\", \"r\") \n",
    "sys.stdin = io.StringIO(input_file.read())"
   ]
  },
  {
   "cell_type": "code",
   "execution_count": 18,
   "metadata": {},
   "outputs": [
    {
     "name": "stdout",
     "output_type": "stream",
     "text": [
      "36\n"
     ]
    }
   ],
   "source": [
    "import sys\n",
    "input = sys.stdin.readline\n",
    "\n",
    "N, M = map(int, input().split())\n",
    "trees = list(map(int, input().split()))\n",
    "start, end, ans = 1, max(trees), 0\n",
    "\n",
    "while start <= end:\n",
    "\n",
    "    mid = (start + end) // 2\n",
    "    log = 0\n",
    "    \n",
    "    for tree in trees:\n",
    "        if tree >= mid:\n",
    "            log += tree - mid\n",
    "\n",
    "    if log >= M:\n",
    "        ans = mid # 현재까지의 최대값을 ans 에 저장함\n",
    "        start = mid + 1\n",
    "    else:\n",
    "        end = mid - 1\n",
    "\n",
    "print (ans)"
   ]
  },
  {
   "cell_type": "markdown",
   "metadata": {},
   "source": [
    "<div class=\"alert alert-block\" style=\"border: 1px solid #455A64;background-color:#ECEFF1;padding:5px;font-size:0.9em;\">\n",
    "본 자료와 관련 영상 컨텐츠는 저작권법 제25조 2항에 의해 보호를 받습니다. <br>본 컨텐츠 및 컨텐츠 일부 문구 등을 외부에 공개하거나, 요약해서 게시하지 말아주세요.<br>\n",
    "    <a href='https://www.fun-coding.org'>잔재미코딩(www.fun-coding.org) Dave Lee</a>\n",
    "</div>"
   ]
  }
 ],
 "metadata": {
  "kernelspec": {
   "display_name": "Python 3 (ipykernel)",
   "language": "python",
   "name": "python3"
  },
  "language_info": {
   "codemirror_mode": {
    "name": "ipython",
    "version": 3
   },
   "file_extension": ".py",
   "mimetype": "text/x-python",
   "name": "python",
   "nbconvert_exporter": "python",
   "pygments_lexer": "ipython3",
   "version": "3.9.12"
  }
 },
 "nbformat": 4,
 "nbformat_minor": 4
}
