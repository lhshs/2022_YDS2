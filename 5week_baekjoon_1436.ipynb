{
 "cells": [
  {
   "cell_type": "markdown",
   "id": "e0d83dc6",
   "metadata": {},
   "source": [
    "1436 영화감독 숌 : https://www.acmicpc.net/problem/1436"
   ]
  },
  {
   "cell_type": "markdown",
   "id": "aa92b38b",
   "metadata": {},
   "source": [
    "# 나의 풀이"
   ]
  },
  {
   "cell_type": "markdown",
   "id": "da340817",
   "metadata": {},
   "source": [
    "- 1 번째 영화 제목 : 666\n",
    "- 2 번째 영화 제목 : 1666\n",
    "- 3 번째 영화 제목 : 2666\n",
    "- 4 번째 영화 제목 : 3666\n",
    "- 5 번째 영화 제목 : 4666\n",
    "<br>...\n",
    "- 187 번째 영화 제목 : 66666\n",
    "<br>...\n",
    "- 500 번째 영화 제목 : 166699"
   ]
  },
  {
   "cell_type": "code",
   "execution_count": 1,
   "id": "50f62e67",
   "metadata": {
    "ExecuteTime": {
     "end_time": "2022-08-22T12:15:37.545432Z",
     "start_time": "2022-08-22T12:15:37.532431Z"
    }
   },
   "outputs": [],
   "source": [
    "import sys, io\n",
    "file = open(\"inputs.txt\", 'w')\n",
    "# 다음 데이터에 그대로 여러 데이터를 복사붙여넣기 하면 됨\n",
    "data = \"\"\"2\n",
    "\"\"\"\n",
    "file.write(data)\n",
    "file.close()\n",
    "input_file = open(\"inputs.txt\", \"r\") \n",
    "sys.stdin = io.StringIO(input_file.read())"
   ]
  },
  {
   "cell_type": "code",
   "execution_count": null,
   "id": "fed05a3f",
   "metadata": {},
   "outputs": [],
   "source": [
    "import sys\n",
    "input = sys.stdin.readline\n",
    "\n",
    "N = input()\n",
    "print((N-1)"
   ]
  },
  {
   "cell_type": "markdown",
   "id": "a99dd018",
   "metadata": {},
   "source": [
    "... 17번째 까지 적어보니.. 16666에서 부터 머리가 돌아가지 않는다..\n",
    "<br> 16667, 16668, 16669.. \n",
    "<br> 일일이 셀 수도 없고.."
   ]
  },
  {
   "cell_type": "markdown",
   "id": "5625a95d",
   "metadata": {},
   "source": [
    "# 풀이"
   ]
  },
  {
   "cell_type": "code",
   "execution_count": 2,
   "id": "605ee348",
   "metadata": {
    "ExecuteTime": {
     "end_time": "2022-08-22T12:15:44.639848Z",
     "start_time": "2022-08-22T12:15:39.943607Z"
    }
   },
   "outputs": [
    {
     "name": "stdout",
     "output_type": "stream",
     "text": [
      "500\n",
      "166699\n"
     ]
    }
   ],
   "source": [
    "n = int(input())\n",
    "cnt = 0\n",
    "six_n = 666\n",
    "while True:\n",
    "    if '666' in str(six_n):\n",
    "        cnt += 1\n",
    "    if cnt == n:\n",
    "        print(six_n)\n",
    "        break\n",
    "    six_n += 1"
   ]
  },
  {
   "cell_type": "markdown",
   "id": "178ab3bc",
   "metadata": {},
   "source": [
    "사람들이 올려놓은 풀이를 보니 굉장히 간단하다..\n",
    "<br> 666을 포함하는 것과 포함하지 않을 때 count를 하는 방식은 전혀 생각지도 못했다..\n",
    "<br> 포함한다면 '몇 번째'에 + 1, 아니면 666에 + 1"
   ]
  },
  {
   "cell_type": "code",
   "execution_count": null,
   "id": "5f8b82ba",
   "metadata": {},
   "outputs": [],
   "source": []
  }
 ],
 "metadata": {
  "kernelspec": {
   "display_name": "Python 3 (ipykernel)",
   "language": "python",
   "name": "python3"
  },
  "language_info": {
   "codemirror_mode": {
    "name": "ipython",
    "version": 3
   },
   "file_extension": ".py",
   "mimetype": "text/x-python",
   "name": "python",
   "nbconvert_exporter": "python",
   "pygments_lexer": "ipython3",
   "version": "3.9.12"
  },
  "toc": {
   "base_numbering": 1,
   "nav_menu": {},
   "number_sections": false,
   "sideBar": true,
   "skip_h1_title": false,
   "title_cell": "Table of Contents",
   "title_sidebar": "Contents",
   "toc_cell": false,
   "toc_position": {},
   "toc_section_display": true,
   "toc_window_display": true
  }
 },
 "nbformat": 4,
 "nbformat_minor": 5
}
