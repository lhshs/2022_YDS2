{
 "cells": [
  {
   "cell_type": "code",
   "execution_count": null,
   "id": "f63a1a0f",
   "metadata": {
    "ExecuteTime": {
     "end_time": "2022-08-02T08:32:54.024276Z",
     "start_time": "2022-08-02T08:32:53.728050Z"
    }
   },
   "outputs": [],
   "source": [
    "import pandas as pd\n",
    "import numpy as np\n",
    "import FinanceDataReader as fdr\n",
    "\n",
    "from tqdm.notebook import tqdm\n",
    "import time\n",
    "\n",
    "from datetime import datetime, timedelta"
   ]
  },
  {
   "cell_type": "code",
   "execution_count": null,
   "id": "35c07fd6",
   "metadata": {
    "ExecuteTime": {
     "end_time": "2022-08-02T08:33:00.104689Z",
     "start_time": "2022-08-02T08:32:54.025622Z"
    }
   },
   "outputs": [],
   "source": [
    "df = pd.read_csv('/Users/lhs2/Desktop/df_final_Date_refine_add_blank.csv', index_col = 0).reset_index().drop(columns='index')\n",
    "df = df.rename(columns = {'언론사':'Press', '날짜':'Date', '제목':'Title'})\n",
    "stock_df = fdr.DataReader('005930')\n",
    "\n",
    "df = df[df['Date'] >= str(stock_df.index[1])[:10]].reset_index().drop(columns='index')\n",
    "df = df.groupby(['Date', 'Press']).sum()\n",
    "\n",
    "df['Change'] = 'x'"
   ]
  },
  {
   "cell_type": "code",
   "execution_count": null,
   "id": "28300d18",
   "metadata": {
    "ExecuteTime": {
     "end_time": "2022-08-02T08:33:00.114615Z",
     "start_time": "2022-08-02T08:33:00.105449Z"
    }
   },
   "outputs": [],
   "source": [
    "df"
   ]
  },
  {
   "cell_type": "code",
   "execution_count": null,
   "id": "000bdb2e",
   "metadata": {
    "ExecuteTime": {
     "end_time": "2022-08-02T08:33:00.119446Z",
     "start_time": "2022-08-02T08:33:00.116172Z"
    }
   },
   "outputs": [],
   "source": [
    "if 1 in [1,2,3,4]:\n",
    "    print('1')"
   ]
  },
  {
   "cell_type": "code",
   "execution_count": null,
   "id": "6b239340",
   "metadata": {
    "ExecuteTime": {
     "end_time": "2022-08-02T08:33:00.123435Z",
     "start_time": "2022-08-02T08:33:00.121158Z"
    }
   },
   "outputs": [],
   "source": [
    "if df.index[-1][0] in stock_df.index:\n",
    "    print('hi')"
   ]
  },
  {
   "cell_type": "code",
   "execution_count": null,
   "id": "cec79386",
   "metadata": {
    "ExecuteTime": {
     "end_time": "2022-08-02T08:33:00.355374Z",
     "start_time": "2022-08-02T08:33:00.124543Z"
    }
   },
   "outputs": [],
   "source": [
    "news - timedelta(days=6)"
   ]
  },
  {
   "cell_type": "code",
   "execution_count": null,
   "id": "6f390dba",
   "metadata": {
    "ExecuteTime": {
     "end_time": "2022-08-02T08:33:00.356109Z",
     "start_time": "2022-08-02T08:33:00.356103Z"
    }
   },
   "outputs": [],
   "source": [
    "tem_list = []\n",
    "\n",
    "for i in range(5):\n",
    "    tem_list.append(i)\n",
    "tem_list"
   ]
  },
  {
   "cell_type": "code",
   "execution_count": null,
   "id": "f22bdac0",
   "metadata": {
    "ExecuteTime": {
     "end_time": "2022-08-02T08:33:00.356620Z",
     "start_time": "2022-08-02T08:33:00.356614Z"
    },
    "scrolled": true
   },
   "outputs": [],
   "source": [
    "j = 0\n",
    "\n",
    "\n",
    "for i in tqdm(stock_df.index[1:50]): \n",
    "    while True:\n",
    "        date_list=[]\n",
    "        j += 1\n",
    "        stock = datetime.strptime(str(i), \"%Y-%m-%d %H:%M:%S\") # + timedelta(days=1) # datetime.datetime(1998, 5, 29, 0, 0) 형태로 변환\n",
    "        news = datetime.strptime(df.index[j-1][0], \"%Y-%m-%d\") # + timedelta(days=1)\n",
    "        print(j)\n",
    "        print(stock)\n",
    "        print(news)\n",
    "        if stock > news:\n",
    "            news = news + timedelta(days=1) # 휴일장, 주식 날짜 이하로 뉴스 모아서 label\n",
    "            temp_list = []\n",
    "            temp_list.append(news)\n",
    "            date_list = temp_list + date_list\n",
    "#             print('**1번 : ',stock, ' / ', news)\n",
    "#             print('휴일장, list로 날짜 모으기')\n",
    "            continue\n",
    "        elif stock < news: # 장은 열렸지만, news는 없을 때\n",
    "            j -= 1 # 보류, 날짜 유지, 뉴스기사 버리지 말아라\n",
    "            stock = stock + timedelta(days=1)\n",
    "#             if df.index[j-1][0] in stock_df.index:\n",
    "#                 news = stock\n",
    "            print('*******', stock, news)\n",
    "            print('news 날짜에 맞는 주가 날짜 찾는 중')\n",
    "            break\n",
    "        elif news == stock:\n",
    "            date_list\n",
    "#             print('같은 경우 : ', stock, ' / ', news)\n",
    "            print('해당 주가 날짜 + 1의 change 데이터로 label')\n",
    "            break\n",
    "\n",
    "    print(\"----------\")"
   ]
  },
  {
   "cell_type": "code",
   "execution_count": null,
   "id": "012a17d8",
   "metadata": {
    "ExecuteTime": {
     "end_time": "2022-08-02T08:33:00.357298Z",
     "start_time": "2022-08-02T08:33:00.357289Z"
    }
   },
   "outputs": [],
   "source": [
    "for i in date_list:\n",
    "    a = str(i)[:10]\n",
    "    print(a)"
   ]
  },
  {
   "cell_type": "code",
   "execution_count": null,
   "id": "7a89346b",
   "metadata": {
    "ExecuteTime": {
     "end_time": "2022-08-02T08:33:00.357724Z",
     "start_time": "2022-08-02T08:33:00.357718Z"
    }
   },
   "outputs": [],
   "source": [
    "df.index[0][0].str.contains('1998')"
   ]
  },
  {
   "cell_type": "code",
   "execution_count": 38,
   "id": "cb96a87a",
   "metadata": {
    "ExecuteTime": {
     "end_time": "2022-08-02T08:41:14.177116Z",
     "start_time": "2022-08-02T08:41:13.985006Z"
    }
   },
   "outputs": [
    {
     "ename": "IndexError",
     "evalue": "only integers, slices (`:`), ellipsis (`...`), numpy.newaxis (`None`) and integer or boolean arrays are valid indices",
     "output_type": "error",
     "traceback": [
      "\u001b[0;31m---------------------------------------------------------------------------\u001b[0m",
      "\u001b[0;31mIndexError\u001b[0m                                Traceback (most recent call last)",
      "Input \u001b[0;32mIn [38]\u001b[0m, in \u001b[0;36m<cell line: 1>\u001b[0;34m()\u001b[0m\n\u001b[0;32m----> 1\u001b[0m \u001b[43mdf\u001b[49m\u001b[38;5;241;43m.\u001b[39;49m\u001b[43mindex\u001b[49m\u001b[38;5;241;43m.\u001b[39;49m\u001b[43mget_level_values\u001b[49m\u001b[43m(\u001b[49m\u001b[38;5;124;43m'\u001b[39;49m\u001b[38;5;124;43mDate\u001b[39;49m\u001b[38;5;124;43m'\u001b[39;49m\u001b[43m)\u001b[49m\u001b[38;5;241;43m.\u001b[39;49m\u001b[43mstr\u001b[49m\u001b[38;5;241;43m.\u001b[39;49m\u001b[43mcontains\u001b[49m\u001b[43m(\u001b[49m\u001b[38;5;124;43m'\u001b[39;49m\u001b[38;5;124;43m1998-07-18\u001b[39;49m\u001b[38;5;124;43m'\u001b[39;49m\u001b[43m,\u001b[49m\u001b[43m \u001b[49m\u001b[43mcase\u001b[49m\u001b[38;5;241;43m=\u001b[39;49m\u001b[38;5;28;43;01mFalse\u001b[39;49;00m\u001b[43m)\u001b[49m\u001b[43m[\u001b[49m\u001b[38;5;124;43m'\u001b[39;49m\u001b[38;5;124;43mChange\u001b[39;49m\u001b[38;5;124;43m'\u001b[39;49m\u001b[43m]\u001b[49m \u001b[38;5;241m=\u001b[39m \u001b[38;5;124m'\u001b[39m\u001b[38;5;124mxxx\u001b[39m\u001b[38;5;124m'\u001b[39m\n",
      "\u001b[0;31mIndexError\u001b[0m: only integers, slices (`:`), ellipsis (`...`), numpy.newaxis (`None`) and integer or boolean arrays are valid indices"
     ]
    }
   ],
   "source": [
    "df.index.get_level_values('Date').str.contains('1998-07-18', case=False)['Change'] = 'xxx'\n",
    "\n"
   ]
  },
  {
   "cell_type": "code",
   "execution_count": 54,
   "id": "919e75af",
   "metadata": {
    "ExecuteTime": {
     "end_time": "2022-08-02T08:48:14.997414Z",
     "start_time": "2022-08-02T08:48:14.820115Z"
    }
   },
   "outputs": [],
   "source": [
    "df.loc[df.index.get_level_values('Date').str.contains('1998-07-18'), 'Change'] = '123'"
   ]
  },
  {
   "cell_type": "code",
   "execution_count": 55,
   "id": "1a3cee41",
   "metadata": {
    "ExecuteTime": {
     "end_time": "2022-08-02T08:48:15.756228Z",
     "start_time": "2022-08-02T08:48:15.580209Z"
    }
   },
   "outputs": [
    {
     "data": {
      "text/html": [
       "<div>\n",
       "<style scoped>\n",
       "    .dataframe tbody tr th:only-of-type {\n",
       "        vertical-align: middle;\n",
       "    }\n",
       "\n",
       "    .dataframe tbody tr th {\n",
       "        vertical-align: top;\n",
       "    }\n",
       "\n",
       "    .dataframe thead th {\n",
       "        text-align: right;\n",
       "    }\n",
       "</style>\n",
       "<table border=\"1\" class=\"dataframe\">\n",
       "  <thead>\n",
       "    <tr style=\"text-align: right;\">\n",
       "      <th></th>\n",
       "      <th></th>\n",
       "      <th>Title</th>\n",
       "      <th>Change</th>\n",
       "    </tr>\n",
       "    <tr>\n",
       "      <th>Date</th>\n",
       "      <th>Press</th>\n",
       "      <th></th>\n",
       "      <th></th>\n",
       "    </tr>\n",
       "  </thead>\n",
       "  <tbody>\n",
       "    <tr>\n",
       "      <th>1998-07-18</th>\n",
       "      <th>연합뉴스</th>\n",
       "      <td>&lt;주식시황&gt; 주가 급등, 3백40선 탈환</td>\n",
       "      <td>123</td>\n",
       "    </tr>\n",
       "  </tbody>\n",
       "</table>\n",
       "</div>"
      ],
      "text/plain": [
       "                                    Title Change\n",
       "Date       Press                                \n",
       "1998-07-18 연합뉴스   <주식시황> 주가 급등, 3백40선 탈환     123"
      ]
     },
     "execution_count": 55,
     "metadata": {},
     "output_type": "execute_result"
    }
   ],
   "source": [
    "df[df.index.get_level_values('Date').str.contains('1998-07-18')]"
   ]
  },
  {
   "cell_type": "code",
   "execution_count": 42,
   "id": "f90a9a14",
   "metadata": {
    "ExecuteTime": {
     "end_time": "2022-08-02T08:43:53.287840Z",
     "start_time": "2022-08-02T08:43:53.251143Z"
    }
   },
   "outputs": [],
   "source": [
    "df['Change'] = 'y'"
   ]
  },
  {
   "cell_type": "code",
   "execution_count": 43,
   "id": "89b950fd",
   "metadata": {
    "ExecuteTime": {
     "end_time": "2022-08-02T08:43:54.076633Z",
     "start_time": "2022-08-02T08:43:54.061137Z"
    }
   },
   "outputs": [
    {
     "data": {
      "text/html": [
       "<div>\n",
       "<style scoped>\n",
       "    .dataframe tbody tr th:only-of-type {\n",
       "        vertical-align: middle;\n",
       "    }\n",
       "\n",
       "    .dataframe tbody tr th {\n",
       "        vertical-align: top;\n",
       "    }\n",
       "\n",
       "    .dataframe thead th {\n",
       "        text-align: right;\n",
       "    }\n",
       "</style>\n",
       "<table border=\"1\" class=\"dataframe\">\n",
       "  <thead>\n",
       "    <tr style=\"text-align: right;\">\n",
       "      <th></th>\n",
       "      <th></th>\n",
       "      <th>Title</th>\n",
       "      <th>Change</th>\n",
       "    </tr>\n",
       "    <tr>\n",
       "      <th>Date</th>\n",
       "      <th>Press</th>\n",
       "      <th></th>\n",
       "      <th></th>\n",
       "    </tr>\n",
       "  </thead>\n",
       "  <tbody>\n",
       "    <tr>\n",
       "      <th>1998-05-27</th>\n",
       "      <th>연합뉴스</th>\n",
       "      <td>삼성전자, 한국HP 지분 45% 전량 매각 상장사 10개중 7개는 영업할수록 손해 ...</td>\n",
       "      <td>y</td>\n",
       "    </tr>\n",
       "    <tr>\n",
       "      <th>1998-05-28</th>\n",
       "      <th>연합뉴스</th>\n",
       "      <td>주가 상승세 삼성전자, 하나더 판촉 확대실시 &lt;주식시황&gt; 주가 상승 3백20선 회복...</td>\n",
       "      <td>y</td>\n",
       "    </tr>\n",
       "    <tr>\n",
       "      <th>1998-05-29</th>\n",
       "      <th>연합뉴스</th>\n",
       "      <td>&lt; 6.4선거 이후의 과제 &gt; ...(下) 대기업그룹별 현안 전자업계 수출드라이브,...</td>\n",
       "      <td>y</td>\n",
       "    </tr>\n",
       "    <tr>\n",
       "      <th>1998-05-30</th>\n",
       "      <th>연합뉴스</th>\n",
       "      <td>정보통신업계, `실직자를 잡아라' 주가 하락세 반전 삼성전자, 세계 공용 DVD 개...</td>\n",
       "      <td>y</td>\n",
       "    </tr>\n",
       "    <tr>\n",
       "      <th>1998-06-01</th>\n",
       "      <th>연합뉴스</th>\n",
       "      <td>&lt;회전목마&gt; 삼성전자, 인터넷잡지 창간 지난해 상장기업 수출 28.8% 증가 현대전...</td>\n",
       "      <td>y</td>\n",
       "    </tr>\n",
       "    <tr>\n",
       "      <th>...</th>\n",
       "      <th>...</th>\n",
       "      <td>...</td>\n",
       "      <td>...</td>\n",
       "    </tr>\n",
       "    <tr>\n",
       "      <th>2022-07-18</th>\n",
       "      <th>연합뉴스</th>\n",
       "      <td>불경기에도 자동차.화장품 광고는 활발 &lt;주식시황&gt; 주가, 큰 폭 상승 삼성전자 정보...</td>\n",
       "      <td>y</td>\n",
       "    </tr>\n",
       "    <tr>\n",
       "      <th>2022-07-19</th>\n",
       "      <th>연합뉴스</th>\n",
       "      <td>반도체 업체들, 보따리장사로 골머리 주가 이틀째 급상승 三星電子, 세계 최경량 PC...</td>\n",
       "      <td>y</td>\n",
       "    </tr>\n",
       "    <tr>\n",
       "      <th>2022-07-20</th>\n",
       "      <th>연합뉴스</th>\n",
       "      <td>삼성전자 반도체 전문 서비스센터 개설 삼성전관, `6시그마운동' 설명회 개최 상장사...</td>\n",
       "      <td>y</td>\n",
       "    </tr>\n",
       "    <tr>\n",
       "      <th rowspan=\"2\" valign=\"top\">2022-07-21</th>\n",
       "      <th>연합뉴스</th>\n",
       "      <td>D램 모듈 내수가격 큰 폭 하락 &lt;표&gt; 기업집단별.회사별 과징금 부과내역 공정위 조...</td>\n",
       "      <td>y</td>\n",
       "    </tr>\n",
       "    <tr>\n",
       "      <th>한국경제</th>\n",
       "      <td>종합주가 개장초 등락장세 연출...9시30분 928.84(+0.09) 삼성전자 애니...</td>\n",
       "      <td>y</td>\n",
       "    </tr>\n",
       "  </tbody>\n",
       "</table>\n",
       "<p>702161 rows × 2 columns</p>\n",
       "</div>"
      ],
      "text/plain": [
       "                                                              Title Change\n",
       "Date       Press                                                          \n",
       "1998-05-27 연합뉴스   삼성전자, 한국HP 지분 45% 전량 매각 상장사 10개중 7개는 영업할수록 손해 ...      y\n",
       "1998-05-28 연합뉴스   주가 상승세 삼성전자, 하나더 판촉 확대실시 <주식시황> 주가 상승 3백20선 회복...      y\n",
       "1998-05-29 연합뉴스   < 6.4선거 이후의 과제 > ...(下) 대기업그룹별 현안 전자업계 수출드라이브,...      y\n",
       "1998-05-30 연합뉴스   정보통신업계, `실직자를 잡아라' 주가 하락세 반전 삼성전자, 세계 공용 DVD 개...      y\n",
       "1998-06-01 연합뉴스   <회전목마> 삼성전자, 인터넷잡지 창간 지난해 상장기업 수출 28.8% 증가 현대전...      y\n",
       "...                                                             ...    ...\n",
       "2022-07-18 연합뉴스   불경기에도 자동차.화장품 광고는 활발 <주식시황> 주가, 큰 폭 상승 삼성전자 정보...      y\n",
       "2022-07-19 연합뉴스   반도체 업체들, 보따리장사로 골머리 주가 이틀째 급상승 三星電子, 세계 최경량 PC...      y\n",
       "2022-07-20 연합뉴스   삼성전자 반도체 전문 서비스센터 개설 삼성전관, `6시그마운동' 설명회 개최 상장사...      y\n",
       "2022-07-21 연합뉴스   D램 모듈 내수가격 큰 폭 하락 <표> 기업집단별.회사별 과징금 부과내역 공정위 조...      y\n",
       "           한국경제   종합주가 개장초 등락장세 연출...9시30분 928.84(+0.09) 삼성전자 애니...      y\n",
       "\n",
       "[702161 rows x 2 columns]"
      ]
     },
     "execution_count": 43,
     "metadata": {},
     "output_type": "execute_result"
    }
   ],
   "source": [
    "df"
   ]
  },
  {
   "cell_type": "code",
   "execution_count": 17,
   "id": "a056bdcc",
   "metadata": {
    "ExecuteTime": {
     "end_time": "2022-08-02T08:37:07.414503Z",
     "start_time": "2022-08-02T08:37:07.351746Z"
    }
   },
   "outputs": [
    {
     "data": {
      "text/html": [
       "<div>\n",
       "<style scoped>\n",
       "    .dataframe tbody tr th:only-of-type {\n",
       "        vertical-align: middle;\n",
       "    }\n",
       "\n",
       "    .dataframe tbody tr th {\n",
       "        vertical-align: top;\n",
       "    }\n",
       "\n",
       "    .dataframe thead th {\n",
       "        text-align: right;\n",
       "    }\n",
       "</style>\n",
       "<table border=\"1\" class=\"dataframe\">\n",
       "  <thead>\n",
       "    <tr style=\"text-align: right;\">\n",
       "      <th></th>\n",
       "      <th></th>\n",
       "      <th>Title</th>\n",
       "      <th>Change</th>\n",
       "    </tr>\n",
       "    <tr>\n",
       "      <th>Date</th>\n",
       "      <th>Press</th>\n",
       "      <th></th>\n",
       "      <th></th>\n",
       "    </tr>\n",
       "  </thead>\n",
       "  <tbody>\n",
       "    <tr>\n",
       "      <th>1998-07-18</th>\n",
       "      <th>연합뉴스</th>\n",
       "      <td>&lt;주식시황&gt; 주가 급등, 3백40선 탈환</td>\n",
       "      <td>x</td>\n",
       "    </tr>\n",
       "  </tbody>\n",
       "</table>\n",
       "</div>"
      ],
      "text/plain": [
       "                                    Title Change\n",
       "Date       Press                                \n",
       "1998-07-18 연합뉴스   <주식시황> 주가 급등, 3백40선 탈환       x"
      ]
     },
     "execution_count": 17,
     "metadata": {},
     "output_type": "execute_result"
    }
   ],
   "source": [
    "df.iloc[df.index.get_level_values('Date') == '1998-07-18']"
   ]
  },
  {
   "cell_type": "code",
   "execution_count": null,
   "id": "270f46c5",
   "metadata": {},
   "outputs": [],
   "source": []
  }
 ],
 "metadata": {
  "kernelspec": {
   "display_name": "Python 3 (ipykernel)",
   "language": "python",
   "name": "python3"
  },
  "language_info": {
   "codemirror_mode": {
    "name": "ipython",
    "version": 3
   },
   "file_extension": ".py",
   "mimetype": "text/x-python",
   "name": "python",
   "nbconvert_exporter": "python",
   "pygments_lexer": "ipython3",
   "version": "3.8.13"
  },
  "toc": {
   "base_numbering": 1,
   "nav_menu": {},
   "number_sections": false,
   "sideBar": true,
   "skip_h1_title": false,
   "title_cell": "Table of Contents",
   "title_sidebar": "Contents",
   "toc_cell": false,
   "toc_position": {},
   "toc_section_display": true,
   "toc_window_display": false
  }
 },
 "nbformat": 4,
 "nbformat_minor": 5
}
