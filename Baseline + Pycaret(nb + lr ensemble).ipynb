{
 "cells": [
  {
   "cell_type": "markdown",
   "id": "01a46fac",
   "metadata": {
    "id": "01a46fac"
   },
   "source": [
    "# Import"
   ]
  },
  {
   "cell_type": "code",
   "execution_count": 1,
   "id": "0a2e8ff9",
   "metadata": {
    "ExecuteTime": {
     "end_time": "2022-07-11T06:41:37.102986Z",
     "start_time": "2022-07-11T06:41:36.382561Z"
    },
    "executionInfo": {
     "elapsed": 4775,
     "status": "ok",
     "timestamp": 1657253346973,
     "user": {
      "displayName": "hs L",
      "userId": "04521576200392151172"
     },
     "user_tz": -540
    },
    "id": "0a2e8ff9"
   },
   "outputs": [],
   "source": [
    "import random\n",
    "import pandas as pd\n",
    "import numpy as np\n",
    "import os\n",
    "import librosa\n",
    "\n",
    "from tqdm.auto import tqdm\n",
    "\n",
    "from sklearn.neural_network import MLPClassifier\n",
    "from sklearn.preprocessing import OneHotEncoder\n",
    "\n",
    "import warnings\n",
    "warnings.filterwarnings(action='ignore') "
   ]
  },
  {
   "cell_type": "code",
   "execution_count": 2,
   "id": "3bae8bdd",
   "metadata": {
    "ExecuteTime": {
     "end_time": "2022-07-11T06:41:37.638447Z",
     "start_time": "2022-07-11T06:41:37.104049Z"
    }
   },
   "outputs": [],
   "source": [
    "import imblearn\n",
    "import xgboost\n",
    "import catboost\n",
    "\n",
    "from sklearn.preprocessing import StandardScaler\n",
    "from sklearn.metrics import f1_score\n",
    "from sklearn.model_selection import train_test_split\n",
    "from pycaret.classification import *"
   ]
  },
  {
   "cell_type": "markdown",
   "id": "7c41aa97",
   "metadata": {
    "id": "7c41aa97"
   },
   "source": [
    "# Hyperparameter Setting"
   ]
  },
  {
   "cell_type": "code",
   "execution_count": 3,
   "id": "45b4f7f0",
   "metadata": {
    "ExecuteTime": {
     "end_time": "2022-07-11T06:41:37.640662Z",
     "start_time": "2022-07-11T06:41:37.639247Z"
    },
    "id": "45b4f7f0"
   },
   "outputs": [],
   "source": [
    "CFG = {\n",
    "    'SR':22050,\n",
    "    'N_MFCC':20, # MFCC 벡터를 추출할 개수\n",
    "    'SEED':123\n",
    "}"
   ]
  },
  {
   "cell_type": "markdown",
   "id": "5c98aabf",
   "metadata": {
    "id": "5c98aabf"
   },
   "source": [
    "# Fixed Random-Seed"
   ]
  },
  {
   "cell_type": "code",
   "execution_count": 4,
   "id": "179a4bb3",
   "metadata": {
    "ExecuteTime": {
     "end_time": "2022-07-11T06:41:37.643329Z",
     "start_time": "2022-07-11T06:41:37.641796Z"
    },
    "id": "179a4bb3"
   },
   "outputs": [],
   "source": [
    "def seed_everything(seed):\n",
    "    random.seed(seed)\n",
    "    os.environ['PYTHONHASHSEED'] = str(seed)\n",
    "    np.random.seed(seed)\n",
    "\n",
    "seed_everything(CFG['SEED']) # Seed 고정"
   ]
  },
  {
   "cell_type": "markdown",
   "id": "0cfbf54c",
   "metadata": {
    "id": "0cfbf54c"
   },
   "source": [
    "# Data Pre-Processing 1"
   ]
  },
  {
   "cell_type": "code",
   "execution_count": 5,
   "id": "3d309551",
   "metadata": {
    "ExecuteTime": {
     "end_time": "2022-07-11T06:41:37.649523Z",
     "start_time": "2022-07-11T06:41:37.643939Z"
    },
    "executionInfo": {
     "elapsed": 1056,
     "status": "ok",
     "timestamp": 1657253440158,
     "user": {
      "displayName": "hs L",
      "userId": "04521576200392151172"
     },
     "user_tz": -540
    },
    "id": "3d309551"
   },
   "outputs": [],
   "source": [
    "train_df = pd.read_csv('./train_data.csv')\n",
    "test_df = pd.read_csv('./test_data.csv')"
   ]
  },
  {
   "cell_type": "code",
   "execution_count": 6,
   "id": "30058f5b",
   "metadata": {
    "ExecuteTime": {
     "end_time": "2022-07-11T06:41:37.653744Z",
     "start_time": "2022-07-11T06:41:37.650339Z"
    },
    "colab": {
     "base_uri": "https://localhost:8080/",
     "height": 105
    },
    "executionInfo": {
     "elapsed": 61,
     "status": "ok",
     "timestamp": 1657214290374,
     "user": {
      "displayName": "hs L",
      "userId": "04521576200392151172"
     },
     "user_tz": -540
    },
    "id": "30058f5b",
    "outputId": "60c1f068-9f49-43a7-a36d-0a65b9056312"
   },
   "outputs": [],
   "source": [
    "def get_mfcc_feature(df, data_type, save_path):\n",
    "    # Data Folder path\n",
    "    root_folder = './wav_dataset'\n",
    "    if os.path.exists(save_path):\n",
    "        print(f'{save_path} is exist.')\n",
    "        return\n",
    "    features = []\n",
    "    for uid in tqdm(df['id']):\n",
    "        root_path = os.path.join(root_folder, data_type)\n",
    "        path = os.path.join(root_path, str(uid).zfill(5)+'.wav')\n",
    "\n",
    "        # librosa패키지를 사용하여 wav 파일 load\n",
    "        y, sr = librosa.load(path, sr=CFG['SR'])\n",
    "        \n",
    "        # librosa패키지를 사용하여 mfcc 추출\n",
    "        mfcc = librosa.feature.mfcc(y=y, sr=sr, n_mfcc=CFG['N_MFCC'])\n",
    "\n",
    "        y_feature = []\n",
    "        # 추출된 MFCC들의 평균을 Feature로 사용\n",
    "        for e in mfcc:\n",
    "            y_feature.append(np.mean(e))\n",
    "        features.append(y_feature)\n",
    "    \n",
    "    # 기존의 자가진단 정보를 담은 데이터프레임에 추출된 오디오 Feature를 추가\n",
    "    mfcc_df = pd.DataFrame(features, columns=['mfcc_'+str(x) for x in range(1,CFG['N_MFCC']+1)])\n",
    "    df = pd.concat([df, mfcc_df], axis=1)\n",
    "    df.to_csv(save_path, index=False)\n",
    "    print('Done.')"
   ]
  },
  {
   "cell_type": "code",
   "execution_count": 7,
   "id": "c6cf5c83",
   "metadata": {
    "ExecuteTime": {
     "end_time": "2022-07-11T06:41:37.656185Z",
     "start_time": "2022-07-11T06:41:37.654481Z"
    },
    "colab": {
     "base_uri": "https://localhost:8080/",
     "height": 36
    },
    "executionInfo": {
     "elapsed": 58,
     "status": "ok",
     "timestamp": 1657214290376,
     "user": {
      "displayName": "hs L",
      "userId": "04521576200392151172"
     },
     "user_tz": -540
    },
    "id": "c6cf5c83",
    "outputId": "14358f18-66ee-42ba-edc1-4273bbd2fa40"
   },
   "outputs": [
    {
     "name": "stdout",
     "output_type": "stream",
     "text": [
      "./train_mfcc_data20_123.csv is exist.\n",
      "./test_mfcc_data20_123.csv is exist.\n"
     ]
    }
   ],
   "source": [
    "get_mfcc_feature(train_df, 'train', './train_mfcc_data20_123.csv')\n",
    "get_mfcc_feature(test_df, 'test', './test_mfcc_data20_123.csv')"
   ]
  },
  {
   "cell_type": "code",
   "execution_count": 8,
   "id": "07ef54c7",
   "metadata": {
    "ExecuteTime": {
     "end_time": "2022-07-11T06:41:37.658444Z",
     "start_time": "2022-07-11T06:41:37.656864Z"
    },
    "id": "07ef54c7"
   },
   "outputs": [],
   "source": [
    "# train_mfcc_data = pd.read_csv('./train_mfcc_data.csv')\n",
    "# test_mfcc_data = pd.read_csv('./test_mfcc_data.csv')\n",
    "# get_mfcc_feature2('unlabeled', './unlabeled_mfcc_data.csv')"
   ]
  },
  {
   "cell_type": "markdown",
   "id": "fb2a0055",
   "metadata": {
    "id": "fb2a0055"
   },
   "source": [
    "# Data Pre-Processing 2"
   ]
  },
  {
   "cell_type": "code",
   "execution_count": 9,
   "id": "8af9c362",
   "metadata": {
    "ExecuteTime": {
     "end_time": "2022-07-11T06:41:37.669185Z",
     "start_time": "2022-07-11T06:41:37.659336Z"
    },
    "id": "8af9c362"
   },
   "outputs": [],
   "source": [
    "# wav 파일의 MFCC Feature와 상태정보를 합친 학습데이터를 불러옵니다.\n",
    "train_df = pd.read_csv('./train_mfcc_data20_123.csv')\n",
    "\n",
    "# 학습데이터를 모델의 input으로 들어갈 x와 label로 사용할 y로 분할\n",
    "train_x = train_df.drop(columns=['id', 'covid19'])\n",
    "train_y = train_df['covid19']"
   ]
  },
  {
   "cell_type": "code",
   "execution_count": 10,
   "id": "232fb037",
   "metadata": {
    "ExecuteTime": {
     "end_time": "2022-07-11T06:41:37.673397Z",
     "start_time": "2022-07-11T06:41:37.670992Z"
    },
    "id": "232fb037"
   },
   "outputs": [],
   "source": [
    "def onehot_encoding(ohe, x):\n",
    "    # 학습데이터로 부터 fit된 one-hot encoder (ohe)를 받아 transform 시켜주는 함수\n",
    "    encoded = ohe.transform(x['gender'].values.reshape(-1,1))\n",
    "    encoded_df = pd.DataFrame(encoded, columns=ohe.categories_[0])\n",
    "    x = pd.concat([x.drop(columns=['gender']), encoded_df], axis=1)\n",
    "    return x"
   ]
  },
  {
   "cell_type": "code",
   "execution_count": 11,
   "id": "79181893",
   "metadata": {
    "ExecuteTime": {
     "end_time": "2022-07-11T06:41:37.677622Z",
     "start_time": "2022-07-11T06:41:37.674104Z"
    },
    "id": "79181893"
   },
   "outputs": [],
   "source": [
    "# 'gender' column의 경우 추가 전처리가 필요 -> OneHotEncoder 적용\n",
    "ohe = OneHotEncoder(sparse=False)\n",
    "ohe.fit(train_df['gender'].values.reshape(-1,1))\n",
    "train_x = onehot_encoding(ohe, train_x)"
   ]
  },
  {
   "cell_type": "code",
   "execution_count": 12,
   "id": "84c3d9de",
   "metadata": {
    "ExecuteTime": {
     "end_time": "2022-07-11T06:41:37.691046Z",
     "start_time": "2022-07-11T06:41:37.678393Z"
    }
   },
   "outputs": [
    {
     "data": {
      "text/html": [
       "<div>\n",
       "<style scoped>\n",
       "    .dataframe tbody tr th:only-of-type {\n",
       "        vertical-align: middle;\n",
       "    }\n",
       "\n",
       "    .dataframe tbody tr th {\n",
       "        vertical-align: top;\n",
       "    }\n",
       "\n",
       "    .dataframe thead th {\n",
       "        text-align: right;\n",
       "    }\n",
       "</style>\n",
       "<table border=\"1\" class=\"dataframe\">\n",
       "  <thead>\n",
       "    <tr style=\"text-align: right;\">\n",
       "      <th></th>\n",
       "      <th>age</th>\n",
       "      <th>respiratory_condition</th>\n",
       "      <th>fever_or_muscle_pain</th>\n",
       "      <th>mfcc_1</th>\n",
       "      <th>mfcc_2</th>\n",
       "      <th>mfcc_3</th>\n",
       "      <th>mfcc_4</th>\n",
       "      <th>mfcc_5</th>\n",
       "      <th>mfcc_6</th>\n",
       "      <th>mfcc_7</th>\n",
       "      <th>mfcc_8</th>\n",
       "      <th>mfcc_9</th>\n",
       "      <th>mfcc_10</th>\n",
       "      <th>mfcc_11</th>\n",
       "      <th>mfcc_12</th>\n",
       "      <th>mfcc_13</th>\n",
       "      <th>mfcc_14</th>\n",
       "      <th>mfcc_15</th>\n",
       "      <th>mfcc_16</th>\n",
       "      <th>mfcc_17</th>\n",
       "      <th>mfcc_18</th>\n",
       "      <th>mfcc_19</th>\n",
       "      <th>mfcc_20</th>\n",
       "      <th>female</th>\n",
       "      <th>male</th>\n",
       "      <th>other</th>\n",
       "    </tr>\n",
       "  </thead>\n",
       "  <tbody>\n",
       "    <tr>\n",
       "      <th>0</th>\n",
       "      <td>24</td>\n",
       "      <td>0</td>\n",
       "      <td>1</td>\n",
       "      <td>-305.59457</td>\n",
       "      <td>51.977142</td>\n",
       "      <td>-33.470818</td>\n",
       "      <td>7.374570</td>\n",
       "      <td>-23.994840</td>\n",
       "      <td>9.758025</td>\n",
       "      <td>-30.245546</td>\n",
       "      <td>-16.384844</td>\n",
       "      <td>-15.226559</td>\n",
       "      <td>1.544100</td>\n",
       "      <td>-0.490239</td>\n",
       "      <td>-6.273493</td>\n",
       "      <td>8.557936</td>\n",
       "      <td>3.087276</td>\n",
       "      <td>6.395567</td>\n",
       "      <td>-5.806313</td>\n",
       "      <td>-1.785880</td>\n",
       "      <td>-4.300522</td>\n",
       "      <td>-3.020053</td>\n",
       "      <td>-2.702223</td>\n",
       "      <td>1.0</td>\n",
       "      <td>0.0</td>\n",
       "      <td>0.0</td>\n",
       "    </tr>\n",
       "    <tr>\n",
       "      <th>1</th>\n",
       "      <td>51</td>\n",
       "      <td>0</td>\n",
       "      <td>0</td>\n",
       "      <td>-337.25710</td>\n",
       "      <td>72.093080</td>\n",
       "      <td>-13.855276</td>\n",
       "      <td>9.463384</td>\n",
       "      <td>-18.600903</td>\n",
       "      <td>24.353014</td>\n",
       "      <td>-25.513569</td>\n",
       "      <td>4.360093</td>\n",
       "      <td>-11.163043</td>\n",
       "      <td>5.821661</td>\n",
       "      <td>2.507646</td>\n",
       "      <td>-6.770346</td>\n",
       "      <td>2.831020</td>\n",
       "      <td>-8.816771</td>\n",
       "      <td>1.718806</td>\n",
       "      <td>-8.076585</td>\n",
       "      <td>-0.251985</td>\n",
       "      <td>-3.758666</td>\n",
       "      <td>-6.999936</td>\n",
       "      <td>-4.127479</td>\n",
       "      <td>0.0</td>\n",
       "      <td>1.0</td>\n",
       "      <td>0.0</td>\n",
       "    </tr>\n",
       "    <tr>\n",
       "      <th>2</th>\n",
       "      <td>22</td>\n",
       "      <td>0</td>\n",
       "      <td>0</td>\n",
       "      <td>-455.41095</td>\n",
       "      <td>54.783130</td>\n",
       "      <td>-23.121520</td>\n",
       "      <td>-1.284064</td>\n",
       "      <td>-12.956191</td>\n",
       "      <td>-2.164156</td>\n",
       "      <td>-3.227035</td>\n",
       "      <td>-7.204677</td>\n",
       "      <td>-9.200953</td>\n",
       "      <td>-4.621264</td>\n",
       "      <td>1.595663</td>\n",
       "      <td>-6.384151</td>\n",
       "      <td>-0.210856</td>\n",
       "      <td>0.250801</td>\n",
       "      <td>-3.175273</td>\n",
       "      <td>-3.116248</td>\n",
       "      <td>-2.673163</td>\n",
       "      <td>-1.772126</td>\n",
       "      <td>-1.548385</td>\n",
       "      <td>-2.584018</td>\n",
       "      <td>0.0</td>\n",
       "      <td>1.0</td>\n",
       "      <td>0.0</td>\n",
       "    </tr>\n",
       "    <tr>\n",
       "      <th>3</th>\n",
       "      <td>29</td>\n",
       "      <td>1</td>\n",
       "      <td>0</td>\n",
       "      <td>-391.82820</td>\n",
       "      <td>58.368170</td>\n",
       "      <td>-15.205889</td>\n",
       "      <td>8.082242</td>\n",
       "      <td>-22.550287</td>\n",
       "      <td>-5.647254</td>\n",
       "      <td>-13.082260</td>\n",
       "      <td>-5.258176</td>\n",
       "      <td>-12.553550</td>\n",
       "      <td>7.121708</td>\n",
       "      <td>-5.109934</td>\n",
       "      <td>-13.964030</td>\n",
       "      <td>3.944809</td>\n",
       "      <td>-5.349287</td>\n",
       "      <td>-1.244205</td>\n",
       "      <td>-2.000374</td>\n",
       "      <td>-0.838888</td>\n",
       "      <td>-5.662015</td>\n",
       "      <td>-3.186864</td>\n",
       "      <td>-1.911061</td>\n",
       "      <td>1.0</td>\n",
       "      <td>0.0</td>\n",
       "      <td>0.0</td>\n",
       "    </tr>\n",
       "    <tr>\n",
       "      <th>4</th>\n",
       "      <td>23</td>\n",
       "      <td>0</td>\n",
       "      <td>0</td>\n",
       "      <td>-546.70090</td>\n",
       "      <td>17.552140</td>\n",
       "      <td>-15.368838</td>\n",
       "      <td>8.755314</td>\n",
       "      <td>-9.293792</td>\n",
       "      <td>3.379225</td>\n",
       "      <td>-7.003066</td>\n",
       "      <td>-0.883937</td>\n",
       "      <td>-2.776162</td>\n",
       "      <td>2.303463</td>\n",
       "      <td>-0.467268</td>\n",
       "      <td>-4.099334</td>\n",
       "      <td>-1.033820</td>\n",
       "      <td>-3.911650</td>\n",
       "      <td>-0.469578</td>\n",
       "      <td>-3.081244</td>\n",
       "      <td>0.149063</td>\n",
       "      <td>-4.029262</td>\n",
       "      <td>-0.077644</td>\n",
       "      <td>-1.582466</td>\n",
       "      <td>0.0</td>\n",
       "      <td>1.0</td>\n",
       "      <td>0.0</td>\n",
       "    </tr>\n",
       "    <tr>\n",
       "      <th>...</th>\n",
       "      <td>...</td>\n",
       "      <td>...</td>\n",
       "      <td>...</td>\n",
       "      <td>...</td>\n",
       "      <td>...</td>\n",
       "      <td>...</td>\n",
       "      <td>...</td>\n",
       "      <td>...</td>\n",
       "      <td>...</td>\n",
       "      <td>...</td>\n",
       "      <td>...</td>\n",
       "      <td>...</td>\n",
       "      <td>...</td>\n",
       "      <td>...</td>\n",
       "      <td>...</td>\n",
       "      <td>...</td>\n",
       "      <td>...</td>\n",
       "      <td>...</td>\n",
       "      <td>...</td>\n",
       "      <td>...</td>\n",
       "      <td>...</td>\n",
       "      <td>...</td>\n",
       "      <td>...</td>\n",
       "      <td>...</td>\n",
       "      <td>...</td>\n",
       "      <td>...</td>\n",
       "    </tr>\n",
       "    <tr>\n",
       "      <th>3800</th>\n",
       "      <td>53</td>\n",
       "      <td>0</td>\n",
       "      <td>0</td>\n",
       "      <td>-351.68085</td>\n",
       "      <td>86.487020</td>\n",
       "      <td>-40.589554</td>\n",
       "      <td>-2.390865</td>\n",
       "      <td>2.895489</td>\n",
       "      <td>-12.300478</td>\n",
       "      <td>-25.822184</td>\n",
       "      <td>-1.451508</td>\n",
       "      <td>-26.655594</td>\n",
       "      <td>-2.371466</td>\n",
       "      <td>-10.900512</td>\n",
       "      <td>-8.453163</td>\n",
       "      <td>1.252489</td>\n",
       "      <td>-16.352022</td>\n",
       "      <td>8.974976</td>\n",
       "      <td>-2.680085</td>\n",
       "      <td>-4.187309</td>\n",
       "      <td>2.467289</td>\n",
       "      <td>4.951514</td>\n",
       "      <td>-2.692058</td>\n",
       "      <td>0.0</td>\n",
       "      <td>1.0</td>\n",
       "      <td>0.0</td>\n",
       "    </tr>\n",
       "    <tr>\n",
       "      <th>3801</th>\n",
       "      <td>25</td>\n",
       "      <td>0</td>\n",
       "      <td>0</td>\n",
       "      <td>-412.60098</td>\n",
       "      <td>93.115520</td>\n",
       "      <td>-21.278133</td>\n",
       "      <td>11.800548</td>\n",
       "      <td>-20.548487</td>\n",
       "      <td>-3.913667</td>\n",
       "      <td>-23.469475</td>\n",
       "      <td>-11.187430</td>\n",
       "      <td>-24.276222</td>\n",
       "      <td>-2.072995</td>\n",
       "      <td>-6.652527</td>\n",
       "      <td>-13.955736</td>\n",
       "      <td>2.214910</td>\n",
       "      <td>-10.965079</td>\n",
       "      <td>2.611229</td>\n",
       "      <td>-6.951846</td>\n",
       "      <td>-5.652804</td>\n",
       "      <td>-4.464256</td>\n",
       "      <td>-4.713693</td>\n",
       "      <td>-4.796800</td>\n",
       "      <td>0.0</td>\n",
       "      <td>1.0</td>\n",
       "      <td>0.0</td>\n",
       "    </tr>\n",
       "    <tr>\n",
       "      <th>3802</th>\n",
       "      <td>26</td>\n",
       "      <td>0</td>\n",
       "      <td>0</td>\n",
       "      <td>-362.44458</td>\n",
       "      <td>62.484260</td>\n",
       "      <td>12.215590</td>\n",
       "      <td>23.770980</td>\n",
       "      <td>22.232940</td>\n",
       "      <td>14.473652</td>\n",
       "      <td>6.543558</td>\n",
       "      <td>6.901525</td>\n",
       "      <td>-2.250514</td>\n",
       "      <td>5.841632</td>\n",
       "      <td>-0.113891</td>\n",
       "      <td>-10.030197</td>\n",
       "      <td>-4.308362</td>\n",
       "      <td>-2.286434</td>\n",
       "      <td>-8.156878</td>\n",
       "      <td>-6.686550</td>\n",
       "      <td>-6.439074</td>\n",
       "      <td>-5.252420</td>\n",
       "      <td>-5.743541</td>\n",
       "      <td>-4.447176</td>\n",
       "      <td>1.0</td>\n",
       "      <td>0.0</td>\n",
       "      <td>0.0</td>\n",
       "    </tr>\n",
       "    <tr>\n",
       "      <th>3803</th>\n",
       "      <td>27</td>\n",
       "      <td>0</td>\n",
       "      <td>0</td>\n",
       "      <td>-216.41720</td>\n",
       "      <td>102.442535</td>\n",
       "      <td>-33.941437</td>\n",
       "      <td>16.964209</td>\n",
       "      <td>-43.680378</td>\n",
       "      <td>11.247188</td>\n",
       "      <td>-17.097466</td>\n",
       "      <td>2.984330</td>\n",
       "      <td>-21.722847</td>\n",
       "      <td>-0.496897</td>\n",
       "      <td>5.125669</td>\n",
       "      <td>-7.906786</td>\n",
       "      <td>2.524000</td>\n",
       "      <td>-13.947393</td>\n",
       "      <td>-2.017673</td>\n",
       "      <td>-3.898373</td>\n",
       "      <td>1.995725</td>\n",
       "      <td>-8.732617</td>\n",
       "      <td>-6.260137</td>\n",
       "      <td>-5.297608</td>\n",
       "      <td>1.0</td>\n",
       "      <td>0.0</td>\n",
       "      <td>0.0</td>\n",
       "    </tr>\n",
       "    <tr>\n",
       "      <th>3804</th>\n",
       "      <td>49</td>\n",
       "      <td>1</td>\n",
       "      <td>1</td>\n",
       "      <td>-333.56784</td>\n",
       "      <td>94.261560</td>\n",
       "      <td>6.821593</td>\n",
       "      <td>19.947964</td>\n",
       "      <td>-12.603511</td>\n",
       "      <td>-17.998558</td>\n",
       "      <td>-26.693540</td>\n",
       "      <td>-27.386076</td>\n",
       "      <td>-32.141933</td>\n",
       "      <td>-20.332556</td>\n",
       "      <td>-10.650173</td>\n",
       "      <td>-9.947092</td>\n",
       "      <td>-4.225645</td>\n",
       "      <td>-3.727690</td>\n",
       "      <td>5.653861</td>\n",
       "      <td>3.158294</td>\n",
       "      <td>-3.474759</td>\n",
       "      <td>-0.232363</td>\n",
       "      <td>3.610160</td>\n",
       "      <td>0.168794</td>\n",
       "      <td>1.0</td>\n",
       "      <td>0.0</td>\n",
       "      <td>0.0</td>\n",
       "    </tr>\n",
       "  </tbody>\n",
       "</table>\n",
       "<p>3805 rows × 26 columns</p>\n",
       "</div>"
      ],
      "text/plain": [
       "      age  respiratory_condition  fever_or_muscle_pain     mfcc_1      mfcc_2  \\\n",
       "0      24                      0                     1 -305.59457   51.977142   \n",
       "1      51                      0                     0 -337.25710   72.093080   \n",
       "2      22                      0                     0 -455.41095   54.783130   \n",
       "3      29                      1                     0 -391.82820   58.368170   \n",
       "4      23                      0                     0 -546.70090   17.552140   \n",
       "...   ...                    ...                   ...        ...         ...   \n",
       "3800   53                      0                     0 -351.68085   86.487020   \n",
       "3801   25                      0                     0 -412.60098   93.115520   \n",
       "3802   26                      0                     0 -362.44458   62.484260   \n",
       "3803   27                      0                     0 -216.41720  102.442535   \n",
       "3804   49                      1                     1 -333.56784   94.261560   \n",
       "\n",
       "         mfcc_3     mfcc_4     mfcc_5     mfcc_6     mfcc_7     mfcc_8  \\\n",
       "0    -33.470818   7.374570 -23.994840   9.758025 -30.245546 -16.384844   \n",
       "1    -13.855276   9.463384 -18.600903  24.353014 -25.513569   4.360093   \n",
       "2    -23.121520  -1.284064 -12.956191  -2.164156  -3.227035  -7.204677   \n",
       "3    -15.205889   8.082242 -22.550287  -5.647254 -13.082260  -5.258176   \n",
       "4    -15.368838   8.755314  -9.293792   3.379225  -7.003066  -0.883937   \n",
       "...         ...        ...        ...        ...        ...        ...   \n",
       "3800 -40.589554  -2.390865   2.895489 -12.300478 -25.822184  -1.451508   \n",
       "3801 -21.278133  11.800548 -20.548487  -3.913667 -23.469475 -11.187430   \n",
       "3802  12.215590  23.770980  22.232940  14.473652   6.543558   6.901525   \n",
       "3803 -33.941437  16.964209 -43.680378  11.247188 -17.097466   2.984330   \n",
       "3804   6.821593  19.947964 -12.603511 -17.998558 -26.693540 -27.386076   \n",
       "\n",
       "         mfcc_9    mfcc_10    mfcc_11    mfcc_12   mfcc_13    mfcc_14  \\\n",
       "0    -15.226559   1.544100  -0.490239  -6.273493  8.557936   3.087276   \n",
       "1    -11.163043   5.821661   2.507646  -6.770346  2.831020  -8.816771   \n",
       "2     -9.200953  -4.621264   1.595663  -6.384151 -0.210856   0.250801   \n",
       "3    -12.553550   7.121708  -5.109934 -13.964030  3.944809  -5.349287   \n",
       "4     -2.776162   2.303463  -0.467268  -4.099334 -1.033820  -3.911650   \n",
       "...         ...        ...        ...        ...       ...        ...   \n",
       "3800 -26.655594  -2.371466 -10.900512  -8.453163  1.252489 -16.352022   \n",
       "3801 -24.276222  -2.072995  -6.652527 -13.955736  2.214910 -10.965079   \n",
       "3802  -2.250514   5.841632  -0.113891 -10.030197 -4.308362  -2.286434   \n",
       "3803 -21.722847  -0.496897   5.125669  -7.906786  2.524000 -13.947393   \n",
       "3804 -32.141933 -20.332556 -10.650173  -9.947092 -4.225645  -3.727690   \n",
       "\n",
       "       mfcc_15   mfcc_16   mfcc_17   mfcc_18   mfcc_19   mfcc_20  female  \\\n",
       "0     6.395567 -5.806313 -1.785880 -4.300522 -3.020053 -2.702223     1.0   \n",
       "1     1.718806 -8.076585 -0.251985 -3.758666 -6.999936 -4.127479     0.0   \n",
       "2    -3.175273 -3.116248 -2.673163 -1.772126 -1.548385 -2.584018     0.0   \n",
       "3    -1.244205 -2.000374 -0.838888 -5.662015 -3.186864 -1.911061     1.0   \n",
       "4    -0.469578 -3.081244  0.149063 -4.029262 -0.077644 -1.582466     0.0   \n",
       "...        ...       ...       ...       ...       ...       ...     ...   \n",
       "3800  8.974976 -2.680085 -4.187309  2.467289  4.951514 -2.692058     0.0   \n",
       "3801  2.611229 -6.951846 -5.652804 -4.464256 -4.713693 -4.796800     0.0   \n",
       "3802 -8.156878 -6.686550 -6.439074 -5.252420 -5.743541 -4.447176     1.0   \n",
       "3803 -2.017673 -3.898373  1.995725 -8.732617 -6.260137 -5.297608     1.0   \n",
       "3804  5.653861  3.158294 -3.474759 -0.232363  3.610160  0.168794     1.0   \n",
       "\n",
       "      male  other  \n",
       "0      0.0    0.0  \n",
       "1      1.0    0.0  \n",
       "2      1.0    0.0  \n",
       "3      0.0    0.0  \n",
       "4      1.0    0.0  \n",
       "...    ...    ...  \n",
       "3800   1.0    0.0  \n",
       "3801   1.0    0.0  \n",
       "3802   0.0    0.0  \n",
       "3803   0.0    0.0  \n",
       "3804   0.0    0.0  \n",
       "\n",
       "[3805 rows x 26 columns]"
      ]
     },
     "execution_count": 12,
     "metadata": {},
     "output_type": "execute_result"
    }
   ],
   "source": [
    "train_x"
   ]
  },
  {
   "cell_type": "markdown",
   "id": "9ea7390e",
   "metadata": {},
   "source": [
    "# Pycaret"
   ]
  },
  {
   "cell_type": "code",
   "execution_count": 13,
   "id": "d1191131",
   "metadata": {
    "ExecuteTime": {
     "end_time": "2022-07-11T06:41:37.694168Z",
     "start_time": "2022-07-11T06:41:37.691839Z"
    }
   },
   "outputs": [
    {
     "data": {
      "text/plain": [
       "(3805, 27)"
      ]
     },
     "execution_count": 13,
     "metadata": {},
     "output_type": "execute_result"
    }
   ],
   "source": [
    "train_x['covid19'] = train_y\n",
    "train_x.shape"
   ]
  },
  {
   "cell_type": "markdown",
   "id": "574ec00a",
   "metadata": {
    "id": "574ec00a"
   },
   "source": [
    "# Train"
   ]
  },
  {
   "cell_type": "code",
   "execution_count": 14,
   "id": "0f79d46e",
   "metadata": {
    "ExecuteTime": {
     "end_time": "2022-07-11T06:41:40.304318Z",
     "start_time": "2022-07-11T06:41:38.993933Z"
    },
    "id": "0f79d46e"
   },
   "outputs": [
    {
     "data": {
      "application/vnd.jupyter.widget-view+json": {
       "model_id": "f663fc59358f4807b8fb5e2251284119",
       "version_major": 2,
       "version_minor": 0
      },
      "text/plain": [
       "IntProgress(value=0, description='Processing: ', max=3)"
      ]
     },
     "metadata": {},
     "output_type": "display_data"
    },
    {
     "data": {
      "text/html": [
       "<div>\n",
       "<style scoped>\n",
       "    .dataframe tbody tr th:only-of-type {\n",
       "        vertical-align: middle;\n",
       "    }\n",
       "\n",
       "    .dataframe tbody tr th {\n",
       "        vertical-align: top;\n",
       "    }\n",
       "\n",
       "    .dataframe thead th {\n",
       "        text-align: right;\n",
       "    }\n",
       "</style>\n",
       "<table border=\"1\" class=\"dataframe\">\n",
       "  <thead>\n",
       "    <tr style=\"text-align: right;\">\n",
       "      <th></th>\n",
       "      <th></th>\n",
       "      <th></th>\n",
       "    </tr>\n",
       "    <tr>\n",
       "      <th></th>\n",
       "      <th></th>\n",
       "      <th></th>\n",
       "    </tr>\n",
       "  </thead>\n",
       "  <tbody>\n",
       "    <tr>\n",
       "      <th>Initiated</th>\n",
       "      <td>. . . . . . . . . . . . . . . . . .</td>\n",
       "      <td>15:41:39</td>\n",
       "    </tr>\n",
       "    <tr>\n",
       "      <th>Status</th>\n",
       "      <td>. . . . . . . . . . . . . . . . . .</td>\n",
       "      <td>Preparing Data for Modeling</td>\n",
       "    </tr>\n",
       "  </tbody>\n",
       "</table>\n",
       "</div>"
      ],
      "text/plain": [
       "                                                                           \n",
       "                                                                           \n",
       "Initiated  . . . . . . . . . . . . . . . . . .                     15:41:39\n",
       "Status     . . . . . . . . . . . . . . . . . .  Preparing Data for Modeling"
      ]
     },
     "metadata": {},
     "output_type": "display_data"
    },
    {
     "ename": "ValueError",
     "evalue": "Setting a random_state has no effect since shuffle is False. You should leave random_state to its default (None), or set shuffle=True.",
     "output_type": "error",
     "traceback": [
      "\u001b[0;31m---------------------------------------------------------------------------\u001b[0m",
      "\u001b[0;31mValueError\u001b[0m                                Traceback (most recent call last)",
      "Input \u001b[0;32mIn [14]\u001b[0m, in \u001b[0;36m<cell line: 1>\u001b[0;34m()\u001b[0m\n\u001b[0;32m----> 1\u001b[0m model \u001b[38;5;241m=\u001b[39m \u001b[43msetup\u001b[49m\u001b[43m(\u001b[49m\u001b[43mdata\u001b[49m\u001b[38;5;241;43m=\u001b[39;49m\u001b[43mtrain_x\u001b[49m\u001b[43m,\u001b[49m\u001b[43m \u001b[49m\u001b[43mtarget\u001b[49m\u001b[38;5;241;43m=\u001b[39;49m\u001b[38;5;124;43m'\u001b[39;49m\u001b[38;5;124;43mcovid19\u001b[39;49m\u001b[38;5;124;43m'\u001b[39;49m\u001b[43m,\u001b[49m\u001b[43m \u001b[49m\u001b[43msession_id\u001b[49m\u001b[38;5;241;43m=\u001b[39;49m\u001b[43mCFG\u001b[49m\u001b[43m[\u001b[49m\u001b[38;5;124;43m'\u001b[39;49m\u001b[38;5;124;43mSEED\u001b[39;49m\u001b[38;5;124;43m'\u001b[39;49m\u001b[43m]\u001b[49m\u001b[43m,\u001b[49m\u001b[43m \u001b[49m\u001b[43mtrain_size\u001b[49m\u001b[38;5;241;43m=\u001b[39;49m\u001b[38;5;241;43m0.8\u001b[39;49m\u001b[43m,\u001b[49m\n\u001b[1;32m      2\u001b[0m \u001b[43m              \u001b[49m\u001b[43mdata_split_stratify\u001b[49m\u001b[38;5;241;43m=\u001b[39;49m\u001b[38;5;28;43;01mTrue\u001b[39;49;00m\u001b[43m,\u001b[49m\u001b[43m \u001b[49m\u001b[43mdata_split_shuffle\u001b[49m\u001b[38;5;241;43m=\u001b[39;49m\u001b[38;5;28;43;01mTrue\u001b[39;49;00m\u001b[43m,\u001b[49m\u001b[43m \u001b[49m\u001b[43mfold_strategy\u001b[49m\u001b[38;5;241;43m=\u001b[39;49m\u001b[38;5;124;43m'\u001b[39;49m\u001b[38;5;124;43mstratifiedkfold\u001b[39;49m\u001b[38;5;124;43m'\u001b[39;49m\u001b[43m,\u001b[49m\n\u001b[1;32m      3\u001b[0m \u001b[43m              \u001b[49m\u001b[43mnormalize\u001b[49m\u001b[38;5;241;43m=\u001b[39;49m\u001b[38;5;28;43;01mTrue\u001b[39;49;00m\u001b[43m,\u001b[49m\u001b[43m \u001b[49m\u001b[43mnormalize_method\u001b[49m\u001b[38;5;241;43m=\u001b[39;49m\u001b[38;5;124;43m'\u001b[39;49m\u001b[38;5;124;43mminmax\u001b[39;49m\u001b[38;5;124;43m'\u001b[39;49m\u001b[43m,\u001b[49m\n\u001b[1;32m      4\u001b[0m \u001b[43m              \u001b[49m\u001b[43mcategorical_features\u001b[49m\u001b[38;5;241;43m=\u001b[39;49m\u001b[43m[\u001b[49m\u001b[38;5;124;43m'\u001b[39;49m\u001b[38;5;124;43mrespiratory_condition\u001b[39;49m\u001b[38;5;124;43m'\u001b[39;49m\u001b[43m,\u001b[49m\u001b[43m \u001b[49m\u001b[38;5;124;43m'\u001b[39;49m\u001b[38;5;124;43mfever_or_muscle_pain\u001b[39;49m\u001b[38;5;124;43m'\u001b[39;49m\u001b[43m,\u001b[49m\u001b[43m \u001b[49m\u001b[38;5;124;43m'\u001b[39;49m\u001b[38;5;124;43mfemale\u001b[39;49m\u001b[38;5;124;43m'\u001b[39;49m\u001b[43m,\u001b[49m\u001b[43m \u001b[49m\u001b[38;5;124;43m'\u001b[39;49m\u001b[38;5;124;43mmale\u001b[39;49m\u001b[38;5;124;43m'\u001b[39;49m\u001b[43m,\u001b[49m\u001b[43m \u001b[49m\u001b[38;5;124;43m'\u001b[39;49m\u001b[38;5;124;43mother\u001b[39;49m\u001b[38;5;124;43m'\u001b[39;49m\u001b[43m]\u001b[49m\u001b[43m)\u001b[49m\n",
      "File \u001b[0;32m~/opt/anaconda3/envs/lhs/lib/python3.8/site-packages/pycaret/classification.py:580\u001b[0m, in \u001b[0;36msetup\u001b[0;34m(data, target, train_size, test_data, preprocess, imputation_type, iterative_imputation_iters, categorical_features, categorical_imputation, categorical_iterative_imputer, ordinal_features, high_cardinality_features, high_cardinality_method, numeric_features, numeric_imputation, numeric_iterative_imputer, date_features, ignore_features, normalize, normalize_method, transformation, transformation_method, handle_unknown_categorical, unknown_categorical_method, pca, pca_method, pca_components, ignore_low_variance, combine_rare_levels, rare_level_threshold, bin_numeric_features, remove_outliers, outliers_threshold, remove_multicollinearity, multicollinearity_threshold, remove_perfect_collinearity, create_clusters, cluster_iter, polynomial_features, polynomial_degree, trigonometry_features, polynomial_threshold, group_features, group_names, feature_selection, feature_selection_threshold, feature_selection_method, feature_interaction, feature_ratio, interaction_threshold, fix_imbalance, fix_imbalance_method, data_split_shuffle, data_split_stratify, fold_strategy, fold, fold_shuffle, fold_groups, n_jobs, use_gpu, custom_pipeline, html, session_id, log_experiment, experiment_name, log_plots, log_profile, log_data, silent, verbose, profile, profile_kwargs)\u001b[0m\n\u001b[1;32m    577\u001b[0m \u001b[38;5;28;01mif\u001b[39;00m log_plots \u001b[38;5;241m==\u001b[39m \u001b[38;5;28;01mTrue\u001b[39;00m:\n\u001b[1;32m    578\u001b[0m     log_plots \u001b[38;5;241m=\u001b[39m [\u001b[38;5;124m\"\u001b[39m\u001b[38;5;124mauc\u001b[39m\u001b[38;5;124m\"\u001b[39m, \u001b[38;5;124m\"\u001b[39m\u001b[38;5;124mconfusion_matrix\u001b[39m\u001b[38;5;124m\"\u001b[39m, \u001b[38;5;124m\"\u001b[39m\u001b[38;5;124mfeature\u001b[39m\u001b[38;5;124m\"\u001b[39m]\n\u001b[0;32m--> 580\u001b[0m \u001b[38;5;28;01mreturn\u001b[39;00m \u001b[43mpycaret\u001b[49m\u001b[38;5;241;43m.\u001b[39;49m\u001b[43minternal\u001b[49m\u001b[38;5;241;43m.\u001b[39;49m\u001b[43mtabular\u001b[49m\u001b[38;5;241;43m.\u001b[39;49m\u001b[43msetup\u001b[49m\u001b[43m(\u001b[49m\n\u001b[1;32m    581\u001b[0m \u001b[43m    \u001b[49m\u001b[43mml_usecase\u001b[49m\u001b[38;5;241;43m=\u001b[39;49m\u001b[38;5;124;43m\"\u001b[39;49m\u001b[38;5;124;43mclassification\u001b[39;49m\u001b[38;5;124;43m\"\u001b[39;49m\u001b[43m,\u001b[49m\n\u001b[1;32m    582\u001b[0m \u001b[43m    \u001b[49m\u001b[43mavailable_plots\u001b[49m\u001b[38;5;241;43m=\u001b[39;49m\u001b[43mavailable_plots\u001b[49m\u001b[43m,\u001b[49m\n\u001b[1;32m    583\u001b[0m \u001b[43m    \u001b[49m\u001b[43mdata\u001b[49m\u001b[38;5;241;43m=\u001b[39;49m\u001b[43mdata\u001b[49m\u001b[43m,\u001b[49m\n\u001b[1;32m    584\u001b[0m \u001b[43m    \u001b[49m\u001b[43mtarget\u001b[49m\u001b[38;5;241;43m=\u001b[39;49m\u001b[43mtarget\u001b[49m\u001b[43m,\u001b[49m\n\u001b[1;32m    585\u001b[0m \u001b[43m    \u001b[49m\u001b[43mtrain_size\u001b[49m\u001b[38;5;241;43m=\u001b[39;49m\u001b[43mtrain_size\u001b[49m\u001b[43m,\u001b[49m\n\u001b[1;32m    586\u001b[0m \u001b[43m    \u001b[49m\u001b[43mtest_data\u001b[49m\u001b[38;5;241;43m=\u001b[39;49m\u001b[43mtest_data\u001b[49m\u001b[43m,\u001b[49m\n\u001b[1;32m    587\u001b[0m \u001b[43m    \u001b[49m\u001b[43mpreprocess\u001b[49m\u001b[38;5;241;43m=\u001b[39;49m\u001b[43mpreprocess\u001b[49m\u001b[43m,\u001b[49m\n\u001b[1;32m    588\u001b[0m \u001b[43m    \u001b[49m\u001b[43mimputation_type\u001b[49m\u001b[38;5;241;43m=\u001b[39;49m\u001b[43mimputation_type\u001b[49m\u001b[43m,\u001b[49m\n\u001b[1;32m    589\u001b[0m \u001b[43m    \u001b[49m\u001b[43miterative_imputation_iters\u001b[49m\u001b[38;5;241;43m=\u001b[39;49m\u001b[43miterative_imputation_iters\u001b[49m\u001b[43m,\u001b[49m\n\u001b[1;32m    590\u001b[0m \u001b[43m    \u001b[49m\u001b[43mcategorical_features\u001b[49m\u001b[38;5;241;43m=\u001b[39;49m\u001b[43mcategorical_features\u001b[49m\u001b[43m,\u001b[49m\n\u001b[1;32m    591\u001b[0m \u001b[43m    \u001b[49m\u001b[43mcategorical_imputation\u001b[49m\u001b[38;5;241;43m=\u001b[39;49m\u001b[43mcategorical_imputation\u001b[49m\u001b[43m,\u001b[49m\n\u001b[1;32m    592\u001b[0m \u001b[43m    \u001b[49m\u001b[43mcategorical_iterative_imputer\u001b[49m\u001b[38;5;241;43m=\u001b[39;49m\u001b[43mcategorical_iterative_imputer\u001b[49m\u001b[43m,\u001b[49m\n\u001b[1;32m    593\u001b[0m \u001b[43m    \u001b[49m\u001b[43mordinal_features\u001b[49m\u001b[38;5;241;43m=\u001b[39;49m\u001b[43mordinal_features\u001b[49m\u001b[43m,\u001b[49m\n\u001b[1;32m    594\u001b[0m \u001b[43m    \u001b[49m\u001b[43mhigh_cardinality_features\u001b[49m\u001b[38;5;241;43m=\u001b[39;49m\u001b[43mhigh_cardinality_features\u001b[49m\u001b[43m,\u001b[49m\n\u001b[1;32m    595\u001b[0m \u001b[43m    \u001b[49m\u001b[43mhigh_cardinality_method\u001b[49m\u001b[38;5;241;43m=\u001b[39;49m\u001b[43mhigh_cardinality_method\u001b[49m\u001b[43m,\u001b[49m\n\u001b[1;32m    596\u001b[0m \u001b[43m    \u001b[49m\u001b[43mnumeric_features\u001b[49m\u001b[38;5;241;43m=\u001b[39;49m\u001b[43mnumeric_features\u001b[49m\u001b[43m,\u001b[49m\n\u001b[1;32m    597\u001b[0m \u001b[43m    \u001b[49m\u001b[43mnumeric_imputation\u001b[49m\u001b[38;5;241;43m=\u001b[39;49m\u001b[43mnumeric_imputation\u001b[49m\u001b[43m,\u001b[49m\n\u001b[1;32m    598\u001b[0m \u001b[43m    \u001b[49m\u001b[43mnumeric_iterative_imputer\u001b[49m\u001b[38;5;241;43m=\u001b[39;49m\u001b[43mnumeric_iterative_imputer\u001b[49m\u001b[43m,\u001b[49m\n\u001b[1;32m    599\u001b[0m \u001b[43m    \u001b[49m\u001b[43mdate_features\u001b[49m\u001b[38;5;241;43m=\u001b[39;49m\u001b[43mdate_features\u001b[49m\u001b[43m,\u001b[49m\n\u001b[1;32m    600\u001b[0m \u001b[43m    \u001b[49m\u001b[43mignore_features\u001b[49m\u001b[38;5;241;43m=\u001b[39;49m\u001b[43mignore_features\u001b[49m\u001b[43m,\u001b[49m\n\u001b[1;32m    601\u001b[0m \u001b[43m    \u001b[49m\u001b[43mnormalize\u001b[49m\u001b[38;5;241;43m=\u001b[39;49m\u001b[43mnormalize\u001b[49m\u001b[43m,\u001b[49m\n\u001b[1;32m    602\u001b[0m \u001b[43m    \u001b[49m\u001b[43mnormalize_method\u001b[49m\u001b[38;5;241;43m=\u001b[39;49m\u001b[43mnormalize_method\u001b[49m\u001b[43m,\u001b[49m\n\u001b[1;32m    603\u001b[0m \u001b[43m    \u001b[49m\u001b[43mtransformation\u001b[49m\u001b[38;5;241;43m=\u001b[39;49m\u001b[43mtransformation\u001b[49m\u001b[43m,\u001b[49m\n\u001b[1;32m    604\u001b[0m \u001b[43m    \u001b[49m\u001b[43mtransformation_method\u001b[49m\u001b[38;5;241;43m=\u001b[39;49m\u001b[43mtransformation_method\u001b[49m\u001b[43m,\u001b[49m\n\u001b[1;32m    605\u001b[0m \u001b[43m    \u001b[49m\u001b[43mhandle_unknown_categorical\u001b[49m\u001b[38;5;241;43m=\u001b[39;49m\u001b[43mhandle_unknown_categorical\u001b[49m\u001b[43m,\u001b[49m\n\u001b[1;32m    606\u001b[0m \u001b[43m    \u001b[49m\u001b[43munknown_categorical_method\u001b[49m\u001b[38;5;241;43m=\u001b[39;49m\u001b[43munknown_categorical_method\u001b[49m\u001b[43m,\u001b[49m\n\u001b[1;32m    607\u001b[0m \u001b[43m    \u001b[49m\u001b[43mpca\u001b[49m\u001b[38;5;241;43m=\u001b[39;49m\u001b[43mpca\u001b[49m\u001b[43m,\u001b[49m\n\u001b[1;32m    608\u001b[0m \u001b[43m    \u001b[49m\u001b[43mpca_method\u001b[49m\u001b[38;5;241;43m=\u001b[39;49m\u001b[43mpca_method\u001b[49m\u001b[43m,\u001b[49m\n\u001b[1;32m    609\u001b[0m \u001b[43m    \u001b[49m\u001b[43mpca_components\u001b[49m\u001b[38;5;241;43m=\u001b[39;49m\u001b[43mpca_components\u001b[49m\u001b[43m,\u001b[49m\n\u001b[1;32m    610\u001b[0m \u001b[43m    \u001b[49m\u001b[43mignore_low_variance\u001b[49m\u001b[38;5;241;43m=\u001b[39;49m\u001b[43mignore_low_variance\u001b[49m\u001b[43m,\u001b[49m\n\u001b[1;32m    611\u001b[0m \u001b[43m    \u001b[49m\u001b[43mcombine_rare_levels\u001b[49m\u001b[38;5;241;43m=\u001b[39;49m\u001b[43mcombine_rare_levels\u001b[49m\u001b[43m,\u001b[49m\n\u001b[1;32m    612\u001b[0m \u001b[43m    \u001b[49m\u001b[43mrare_level_threshold\u001b[49m\u001b[38;5;241;43m=\u001b[39;49m\u001b[43mrare_level_threshold\u001b[49m\u001b[43m,\u001b[49m\n\u001b[1;32m    613\u001b[0m \u001b[43m    \u001b[49m\u001b[43mbin_numeric_features\u001b[49m\u001b[38;5;241;43m=\u001b[39;49m\u001b[43mbin_numeric_features\u001b[49m\u001b[43m,\u001b[49m\n\u001b[1;32m    614\u001b[0m \u001b[43m    \u001b[49m\u001b[43mremove_outliers\u001b[49m\u001b[38;5;241;43m=\u001b[39;49m\u001b[43mremove_outliers\u001b[49m\u001b[43m,\u001b[49m\n\u001b[1;32m    615\u001b[0m \u001b[43m    \u001b[49m\u001b[43moutliers_threshold\u001b[49m\u001b[38;5;241;43m=\u001b[39;49m\u001b[43moutliers_threshold\u001b[49m\u001b[43m,\u001b[49m\n\u001b[1;32m    616\u001b[0m \u001b[43m    \u001b[49m\u001b[43mremove_multicollinearity\u001b[49m\u001b[38;5;241;43m=\u001b[39;49m\u001b[43mremove_multicollinearity\u001b[49m\u001b[43m,\u001b[49m\n\u001b[1;32m    617\u001b[0m \u001b[43m    \u001b[49m\u001b[43mmulticollinearity_threshold\u001b[49m\u001b[38;5;241;43m=\u001b[39;49m\u001b[43mmulticollinearity_threshold\u001b[49m\u001b[43m,\u001b[49m\n\u001b[1;32m    618\u001b[0m \u001b[43m    \u001b[49m\u001b[43mremove_perfect_collinearity\u001b[49m\u001b[38;5;241;43m=\u001b[39;49m\u001b[43mremove_perfect_collinearity\u001b[49m\u001b[43m,\u001b[49m\n\u001b[1;32m    619\u001b[0m \u001b[43m    \u001b[49m\u001b[43mcreate_clusters\u001b[49m\u001b[38;5;241;43m=\u001b[39;49m\u001b[43mcreate_clusters\u001b[49m\u001b[43m,\u001b[49m\n\u001b[1;32m    620\u001b[0m \u001b[43m    \u001b[49m\u001b[43mcluster_iter\u001b[49m\u001b[38;5;241;43m=\u001b[39;49m\u001b[43mcluster_iter\u001b[49m\u001b[43m,\u001b[49m\n\u001b[1;32m    621\u001b[0m \u001b[43m    \u001b[49m\u001b[43mpolynomial_features\u001b[49m\u001b[38;5;241;43m=\u001b[39;49m\u001b[43mpolynomial_features\u001b[49m\u001b[43m,\u001b[49m\n\u001b[1;32m    622\u001b[0m \u001b[43m    \u001b[49m\u001b[43mpolynomial_degree\u001b[49m\u001b[38;5;241;43m=\u001b[39;49m\u001b[43mpolynomial_degree\u001b[49m\u001b[43m,\u001b[49m\n\u001b[1;32m    623\u001b[0m \u001b[43m    \u001b[49m\u001b[43mtrigonometry_features\u001b[49m\u001b[38;5;241;43m=\u001b[39;49m\u001b[43mtrigonometry_features\u001b[49m\u001b[43m,\u001b[49m\n\u001b[1;32m    624\u001b[0m \u001b[43m    \u001b[49m\u001b[43mpolynomial_threshold\u001b[49m\u001b[38;5;241;43m=\u001b[39;49m\u001b[43mpolynomial_threshold\u001b[49m\u001b[43m,\u001b[49m\n\u001b[1;32m    625\u001b[0m \u001b[43m    \u001b[49m\u001b[43mgroup_features\u001b[49m\u001b[38;5;241;43m=\u001b[39;49m\u001b[43mgroup_features\u001b[49m\u001b[43m,\u001b[49m\n\u001b[1;32m    626\u001b[0m \u001b[43m    \u001b[49m\u001b[43mgroup_names\u001b[49m\u001b[38;5;241;43m=\u001b[39;49m\u001b[43mgroup_names\u001b[49m\u001b[43m,\u001b[49m\n\u001b[1;32m    627\u001b[0m \u001b[43m    \u001b[49m\u001b[43mfeature_selection\u001b[49m\u001b[38;5;241;43m=\u001b[39;49m\u001b[43mfeature_selection\u001b[49m\u001b[43m,\u001b[49m\n\u001b[1;32m    628\u001b[0m \u001b[43m    \u001b[49m\u001b[43mfeature_selection_threshold\u001b[49m\u001b[38;5;241;43m=\u001b[39;49m\u001b[43mfeature_selection_threshold\u001b[49m\u001b[43m,\u001b[49m\n\u001b[1;32m    629\u001b[0m \u001b[43m    \u001b[49m\u001b[43mfeature_selection_method\u001b[49m\u001b[38;5;241;43m=\u001b[39;49m\u001b[43mfeature_selection_method\u001b[49m\u001b[43m,\u001b[49m\n\u001b[1;32m    630\u001b[0m \u001b[43m    \u001b[49m\u001b[43mfeature_interaction\u001b[49m\u001b[38;5;241;43m=\u001b[39;49m\u001b[43mfeature_interaction\u001b[49m\u001b[43m,\u001b[49m\n\u001b[1;32m    631\u001b[0m \u001b[43m    \u001b[49m\u001b[43mfeature_ratio\u001b[49m\u001b[38;5;241;43m=\u001b[39;49m\u001b[43mfeature_ratio\u001b[49m\u001b[43m,\u001b[49m\n\u001b[1;32m    632\u001b[0m \u001b[43m    \u001b[49m\u001b[43minteraction_threshold\u001b[49m\u001b[38;5;241;43m=\u001b[39;49m\u001b[43minteraction_threshold\u001b[49m\u001b[43m,\u001b[49m\n\u001b[1;32m    633\u001b[0m \u001b[43m    \u001b[49m\u001b[43mfix_imbalance\u001b[49m\u001b[38;5;241;43m=\u001b[39;49m\u001b[43mfix_imbalance\u001b[49m\u001b[43m,\u001b[49m\n\u001b[1;32m    634\u001b[0m \u001b[43m    \u001b[49m\u001b[43mfix_imbalance_method\u001b[49m\u001b[38;5;241;43m=\u001b[39;49m\u001b[43mfix_imbalance_method\u001b[49m\u001b[43m,\u001b[49m\n\u001b[1;32m    635\u001b[0m \u001b[43m    \u001b[49m\u001b[43mdata_split_shuffle\u001b[49m\u001b[38;5;241;43m=\u001b[39;49m\u001b[43mdata_split_shuffle\u001b[49m\u001b[43m,\u001b[49m\n\u001b[1;32m    636\u001b[0m \u001b[43m    \u001b[49m\u001b[43mdata_split_stratify\u001b[49m\u001b[38;5;241;43m=\u001b[39;49m\u001b[43mdata_split_stratify\u001b[49m\u001b[43m,\u001b[49m\n\u001b[1;32m    637\u001b[0m \u001b[43m    \u001b[49m\u001b[43mfold_strategy\u001b[49m\u001b[38;5;241;43m=\u001b[39;49m\u001b[43mfold_strategy\u001b[49m\u001b[43m,\u001b[49m\n\u001b[1;32m    638\u001b[0m \u001b[43m    \u001b[49m\u001b[43mfold\u001b[49m\u001b[38;5;241;43m=\u001b[39;49m\u001b[43mfold\u001b[49m\u001b[43m,\u001b[49m\n\u001b[1;32m    639\u001b[0m \u001b[43m    \u001b[49m\u001b[43mfold_shuffle\u001b[49m\u001b[38;5;241;43m=\u001b[39;49m\u001b[43mfold_shuffle\u001b[49m\u001b[43m,\u001b[49m\n\u001b[1;32m    640\u001b[0m \u001b[43m    \u001b[49m\u001b[43mfold_groups\u001b[49m\u001b[38;5;241;43m=\u001b[39;49m\u001b[43mfold_groups\u001b[49m\u001b[43m,\u001b[49m\n\u001b[1;32m    641\u001b[0m \u001b[43m    \u001b[49m\u001b[43mn_jobs\u001b[49m\u001b[38;5;241;43m=\u001b[39;49m\u001b[43mn_jobs\u001b[49m\u001b[43m,\u001b[49m\n\u001b[1;32m    642\u001b[0m \u001b[43m    \u001b[49m\u001b[43muse_gpu\u001b[49m\u001b[38;5;241;43m=\u001b[39;49m\u001b[43muse_gpu\u001b[49m\u001b[43m,\u001b[49m\n\u001b[1;32m    643\u001b[0m \u001b[43m    \u001b[49m\u001b[43mcustom_pipeline\u001b[49m\u001b[38;5;241;43m=\u001b[39;49m\u001b[43mcustom_pipeline\u001b[49m\u001b[43m,\u001b[49m\n\u001b[1;32m    644\u001b[0m \u001b[43m    \u001b[49m\u001b[43mhtml\u001b[49m\u001b[38;5;241;43m=\u001b[39;49m\u001b[43mhtml\u001b[49m\u001b[43m,\u001b[49m\n\u001b[1;32m    645\u001b[0m \u001b[43m    \u001b[49m\u001b[43msession_id\u001b[49m\u001b[38;5;241;43m=\u001b[39;49m\u001b[43msession_id\u001b[49m\u001b[43m,\u001b[49m\n\u001b[1;32m    646\u001b[0m \u001b[43m    \u001b[49m\u001b[43mlog_experiment\u001b[49m\u001b[38;5;241;43m=\u001b[39;49m\u001b[43mlog_experiment\u001b[49m\u001b[43m,\u001b[49m\n\u001b[1;32m    647\u001b[0m \u001b[43m    \u001b[49m\u001b[43mexperiment_name\u001b[49m\u001b[38;5;241;43m=\u001b[39;49m\u001b[43mexperiment_name\u001b[49m\u001b[43m,\u001b[49m\n\u001b[1;32m    648\u001b[0m \u001b[43m    \u001b[49m\u001b[43mlog_plots\u001b[49m\u001b[38;5;241;43m=\u001b[39;49m\u001b[43mlog_plots\u001b[49m\u001b[43m,\u001b[49m\n\u001b[1;32m    649\u001b[0m \u001b[43m    \u001b[49m\u001b[43mlog_profile\u001b[49m\u001b[38;5;241;43m=\u001b[39;49m\u001b[43mlog_profile\u001b[49m\u001b[43m,\u001b[49m\n\u001b[1;32m    650\u001b[0m \u001b[43m    \u001b[49m\u001b[43mlog_data\u001b[49m\u001b[38;5;241;43m=\u001b[39;49m\u001b[43mlog_data\u001b[49m\u001b[43m,\u001b[49m\n\u001b[1;32m    651\u001b[0m \u001b[43m    \u001b[49m\u001b[43msilent\u001b[49m\u001b[38;5;241;43m=\u001b[39;49m\u001b[43msilent\u001b[49m\u001b[43m,\u001b[49m\n\u001b[1;32m    652\u001b[0m \u001b[43m    \u001b[49m\u001b[43mverbose\u001b[49m\u001b[38;5;241;43m=\u001b[39;49m\u001b[43mverbose\u001b[49m\u001b[43m,\u001b[49m\n\u001b[1;32m    653\u001b[0m \u001b[43m    \u001b[49m\u001b[43mprofile\u001b[49m\u001b[38;5;241;43m=\u001b[39;49m\u001b[43mprofile\u001b[49m\u001b[43m,\u001b[49m\n\u001b[1;32m    654\u001b[0m \u001b[43m    \u001b[49m\u001b[43mprofile_kwargs\u001b[49m\u001b[38;5;241;43m=\u001b[39;49m\u001b[43mprofile_kwargs\u001b[49m\u001b[43m,\u001b[49m\n\u001b[1;32m    655\u001b[0m \u001b[43m\u001b[49m\u001b[43m)\u001b[49m\n",
      "File \u001b[0;32m~/opt/anaconda3/envs/lhs/lib/python3.8/site-packages/pycaret/internal/tabular.py:1214\u001b[0m, in \u001b[0;36msetup\u001b[0;34m(data, target, ml_usecase, available_plots, train_size, test_data, preprocess, imputation_type, iterative_imputation_iters, categorical_features, categorical_imputation, categorical_iterative_imputer, ordinal_features, high_cardinality_features, high_cardinality_method, numeric_features, numeric_imputation, numeric_iterative_imputer, date_features, ignore_features, normalize, normalize_method, transformation, transformation_method, handle_unknown_categorical, unknown_categorical_method, pca, pca_method, pca_components, ignore_low_variance, combine_rare_levels, rare_level_threshold, bin_numeric_features, remove_outliers, outliers_threshold, remove_multicollinearity, multicollinearity_threshold, remove_perfect_collinearity, create_clusters, cluster_iter, polynomial_features, polynomial_degree, trigonometry_features, polynomial_threshold, group_features, group_names, feature_selection, feature_selection_threshold, feature_selection_method, feature_interaction, feature_ratio, interaction_threshold, fix_imbalance, fix_imbalance_method, transform_target, transform_target_method, data_split_shuffle, data_split_stratify, fold_strategy, fold, fold_shuffle, fold_groups, n_jobs, use_gpu, custom_pipeline, html, session_id, log_experiment, experiment_name, log_plots, log_profile, log_data, silent, verbose, profile, profile_kwargs, display)\u001b[0m\n\u001b[1;32m   1210\u001b[0m     fold_generator \u001b[38;5;241m=\u001b[39m KFold(\n\u001b[1;32m   1211\u001b[0m         fold_param, random_state\u001b[38;5;241m=\u001b[39mseed, shuffle\u001b[38;5;241m=\u001b[39mfold_shuffle_param\n\u001b[1;32m   1212\u001b[0m     )\n\u001b[1;32m   1213\u001b[0m \u001b[38;5;28;01melif\u001b[39;00m fold_strategy \u001b[38;5;241m==\u001b[39m \u001b[38;5;124m\"\u001b[39m\u001b[38;5;124mstratifiedkfold\u001b[39m\u001b[38;5;124m\"\u001b[39m:\n\u001b[0;32m-> 1214\u001b[0m     fold_generator \u001b[38;5;241m=\u001b[39m \u001b[43mStratifiedKFold\u001b[49m\u001b[43m(\u001b[49m\n\u001b[1;32m   1215\u001b[0m \u001b[43m        \u001b[49m\u001b[43mfold_param\u001b[49m\u001b[43m,\u001b[49m\u001b[43m \u001b[49m\u001b[43mrandom_state\u001b[49m\u001b[38;5;241;43m=\u001b[39;49m\u001b[43mseed\u001b[49m\u001b[43m,\u001b[49m\u001b[43m \u001b[49m\u001b[43mshuffle\u001b[49m\u001b[38;5;241;43m=\u001b[39;49m\u001b[43mfold_shuffle_param\u001b[49m\n\u001b[1;32m   1216\u001b[0m \u001b[43m    \u001b[49m\u001b[43m)\u001b[49m\n\u001b[1;32m   1217\u001b[0m \u001b[38;5;28;01melif\u001b[39;00m fold_strategy \u001b[38;5;241m==\u001b[39m \u001b[38;5;124m\"\u001b[39m\u001b[38;5;124mgroupkfold\u001b[39m\u001b[38;5;124m\"\u001b[39m:\n\u001b[1;32m   1218\u001b[0m     fold_generator \u001b[38;5;241m=\u001b[39m GroupKFold(fold_param)\n",
      "File \u001b[0;32m~/opt/anaconda3/envs/lhs/lib/python3.8/site-packages/sklearn/model_selection/_split.py:644\u001b[0m, in \u001b[0;36mStratifiedKFold.__init__\u001b[0;34m(self, n_splits, shuffle, random_state)\u001b[0m\n\u001b[1;32m    643\u001b[0m \u001b[38;5;28;01mdef\u001b[39;00m \u001b[38;5;21m__init__\u001b[39m(\u001b[38;5;28mself\u001b[39m, n_splits\u001b[38;5;241m=\u001b[39m\u001b[38;5;241m5\u001b[39m, \u001b[38;5;241m*\u001b[39m, shuffle\u001b[38;5;241m=\u001b[39m\u001b[38;5;28;01mFalse\u001b[39;00m, random_state\u001b[38;5;241m=\u001b[39m\u001b[38;5;28;01mNone\u001b[39;00m):\n\u001b[0;32m--> 644\u001b[0m     \u001b[38;5;28;43msuper\u001b[39;49m\u001b[43m(\u001b[49m\u001b[43m)\u001b[49m\u001b[38;5;241;43m.\u001b[39;49m\u001b[38;5;21;43m__init__\u001b[39;49m\u001b[43m(\u001b[49m\u001b[43mn_splits\u001b[49m\u001b[38;5;241;43m=\u001b[39;49m\u001b[43mn_splits\u001b[49m\u001b[43m,\u001b[49m\u001b[43m \u001b[49m\u001b[43mshuffle\u001b[49m\u001b[38;5;241;43m=\u001b[39;49m\u001b[43mshuffle\u001b[49m\u001b[43m,\u001b[49m\u001b[43m \u001b[49m\u001b[43mrandom_state\u001b[49m\u001b[38;5;241;43m=\u001b[39;49m\u001b[43mrandom_state\u001b[49m\u001b[43m)\u001b[49m\n",
      "File \u001b[0;32m~/opt/anaconda3/envs/lhs/lib/python3.8/site-packages/sklearn/model_selection/_split.py:296\u001b[0m, in \u001b[0;36m_BaseKFold.__init__\u001b[0;34m(self, n_splits, shuffle, random_state)\u001b[0m\n\u001b[1;32m    293\u001b[0m     \u001b[38;5;28;01mraise\u001b[39;00m \u001b[38;5;167;01mTypeError\u001b[39;00m(\u001b[38;5;124m\"\u001b[39m\u001b[38;5;124mshuffle must be True or False; got \u001b[39m\u001b[38;5;132;01m{0}\u001b[39;00m\u001b[38;5;124m\"\u001b[39m\u001b[38;5;241m.\u001b[39mformat(shuffle))\n\u001b[1;32m    295\u001b[0m \u001b[38;5;28;01mif\u001b[39;00m \u001b[38;5;129;01mnot\u001b[39;00m shuffle \u001b[38;5;129;01mand\u001b[39;00m random_state \u001b[38;5;129;01mis\u001b[39;00m \u001b[38;5;129;01mnot\u001b[39;00m \u001b[38;5;28;01mNone\u001b[39;00m:  \u001b[38;5;66;03m# None is the default\u001b[39;00m\n\u001b[0;32m--> 296\u001b[0m     \u001b[38;5;28;01mraise\u001b[39;00m \u001b[38;5;167;01mValueError\u001b[39;00m(\n\u001b[1;32m    297\u001b[0m         \u001b[38;5;124m\"\u001b[39m\u001b[38;5;124mSetting a random_state has no effect since shuffle is \u001b[39m\u001b[38;5;124m\"\u001b[39m\n\u001b[1;32m    298\u001b[0m         \u001b[38;5;124m\"\u001b[39m\u001b[38;5;124mFalse. You should leave \u001b[39m\u001b[38;5;124m\"\u001b[39m\n\u001b[1;32m    299\u001b[0m         \u001b[38;5;124m\"\u001b[39m\u001b[38;5;124mrandom_state to its default (None), or set shuffle=True.\u001b[39m\u001b[38;5;124m\"\u001b[39m,\n\u001b[1;32m    300\u001b[0m     )\n\u001b[1;32m    302\u001b[0m \u001b[38;5;28mself\u001b[39m\u001b[38;5;241m.\u001b[39mn_splits \u001b[38;5;241m=\u001b[39m n_splits\n\u001b[1;32m    303\u001b[0m \u001b[38;5;28mself\u001b[39m\u001b[38;5;241m.\u001b[39mshuffle \u001b[38;5;241m=\u001b[39m shuffle\n",
      "\u001b[0;31mValueError\u001b[0m: Setting a random_state has no effect since shuffle is False. You should leave random_state to its default (None), or set shuffle=True."
     ]
    }
   ],
   "source": [
    "model = setup(data=train_x, target='covid19', session_id=CFG['SEED'], train_size=0.8,\n",
    "              data_split_stratify=True, data_split_shuffle=True, fold_strategy='stratifiedkfold',\n",
    "              normalize=True, normalize_method='minmax',\n",
    "              categorical_features=['respiratory_condition', 'fever_or_muscle_pain', 'female', 'male', 'other'])\n",
    "\n",
    "# model.fit(train_x, train_y) # Model Train"
   ]
  },
  {
   "cell_type": "markdown",
   "id": "7287b177",
   "metadata": {},
   "source": [
    "# Model"
   ]
  },
  {
   "cell_type": "code",
   "execution_count": null,
   "id": "3e3e2d7f",
   "metadata": {},
   "outputs": [],
   "source": []
  },
  {
   "cell_type": "markdown",
   "id": "27b6a181",
   "metadata": {
    "id": "27b6a181"
   },
   "source": [
    "# Inference"
   ]
  },
  {
   "cell_type": "code",
   "execution_count": null,
   "id": "eb8b8b01",
   "metadata": {
    "ExecuteTime": {
     "end_time": "2022-07-08T06:51:44.477649Z",
     "start_time": "2022-07-08T06:51:44.473802Z"
    },
    "id": "eb8b8b01"
   },
   "outputs": [],
   "source": [
    "# 위의 학습데이터를 전처리한 과정과 동일하게 test data에도 적용\n",
    "# test_x = pd.read_csv('/content/drive/MyDrive/YDS/DACON/COVID19/test_mfcc_data.csv')\n",
    "\n",
    "test_x = test_mfcc_data.drop(columns=['id'])\n",
    "# Data Leakage에 유의하여 train data로만 학습된 ohe를 사용\n",
    "test_x = onehot_encoding(ohe, test_x)"
   ]
  },
  {
   "cell_type": "code",
   "execution_count": null,
   "id": "3c3653a2",
   "metadata": {
    "ExecuteTime": {
     "end_time": "2022-07-08T06:51:44.494941Z",
     "start_time": "2022-07-08T06:51:44.478286Z"
    },
    "id": "3c3653a2"
   },
   "outputs": [],
   "source": [
    "# Model 추론\n",
    "preds = model.predict(test_x)"
   ]
  },
  {
   "cell_type": "code",
   "execution_count": null,
   "id": "c18757b5",
   "metadata": {
    "ExecuteTime": {
     "end_time": "2022-07-08T06:51:52.602465Z",
     "start_time": "2022-07-08T06:51:52.573075Z"
    },
    "id": "c18757b5",
    "scrolled": true
   },
   "outputs": [],
   "source": [
    "# # 정확도\n",
    "\n",
    "print(\"훈련 세트 정확도 : {:.3f}\".format(model.score(train_x, train_y)))\n",
    "print(\"테스트 세트 정확도 : {:.3f}\".format(model.score(test_x, preds)))"
   ]
  },
  {
   "cell_type": "markdown",
   "id": "67433c7c",
   "metadata": {
    "id": "67433c7c"
   },
   "source": [
    "# Submission"
   ]
  },
  {
   "cell_type": "code",
   "execution_count": null,
   "id": "41bf4ffd",
   "metadata": {
    "ExecuteTime": {
     "end_time": "2022-07-08T06:51:44.509167Z",
     "start_time": "2022-07-08T06:51:44.499867Z"
    },
    "id": "41bf4ffd"
   },
   "outputs": [],
   "source": [
    "submission = pd.read_csv('./sample_submission.csv')\n",
    "submission['covid19'] = preds\n",
    "submission.to_csv('./submit.csv', index=False)"
   ]
  },
  {
   "cell_type": "code",
   "execution_count": null,
   "id": "98061cfa",
   "metadata": {
    "id": "98061cfa"
   },
   "outputs": [],
   "source": []
  }
 ],
 "metadata": {
  "colab": {
   "collapsed_sections": [],
   "name": "Baseline.ipynb",
   "provenance": []
  },
  "kernelspec": {
   "display_name": "Python 3 (ipykernel)",
   "language": "python",
   "name": "python3"
  },
  "language_info": {
   "codemirror_mode": {
    "name": "ipython",
    "version": 3
   },
   "file_extension": ".py",
   "mimetype": "text/x-python",
   "name": "python",
   "nbconvert_exporter": "python",
   "pygments_lexer": "ipython3",
   "version": "3.8.13"
  },
  "toc": {
   "base_numbering": 1,
   "nav_menu": {},
   "number_sections": false,
   "sideBar": true,
   "skip_h1_title": false,
   "title_cell": "Table of Contents",
   "title_sidebar": "Contents",
   "toc_cell": false,
   "toc_position": {},
   "toc_section_display": true,
   "toc_window_display": false
  }
 },
 "nbformat": 4,
 "nbformat_minor": 5
}
