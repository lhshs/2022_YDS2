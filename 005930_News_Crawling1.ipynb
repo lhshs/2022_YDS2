{
 "cells": [
  {
   "cell_type": "code",
   "execution_count": 17,
   "id": "a75c3e83",
   "metadata": {
    "ExecuteTime": {
     "end_time": "2022-07-27T07:02:19.302298Z",
     "start_time": "2022-07-27T07:02:19.244170Z"
    }
   },
   "outputs": [],
   "source": [
    "# 라이브러리 import\n",
    "import os\n",
    "import pandas as pd\n",
    "import numpy as np\n",
    "import math \n",
    "\n",
    "# 셀레늄\n",
    "from selenium.webdriver.common.alert import Alert\n",
    "from selenium import webdriver  # 라이브러리(모듈) 가져오라\n",
    "# pip install chromedriver_autoinstaller\n",
    "from webdriver_manager.chrome import ChromeDriverManager\n",
    "from selenium.webdriver.common.keys import Keys\n",
    "from selenium.webdriver import ActionChains as AC\n",
    "\n",
    "from selenium.webdriver.chrome.service import Service as ChromeService\n",
    "\n",
    "# tqdm : for문 진행상황 체크\n",
    "from tqdm import tqdm, tqdm_notebook\n",
    "from tqdm.notebook import tqdm\n",
    "\n",
    "# 정규표현식(regular expression) : 문자(알파벳,한글), 숫자, 특수기호 정제 및 추출\n",
    "import re\n",
    "from time import sleep\n",
    "import time\n",
    "\n",
    "# 워닝 무시\n",
    "import warnings\n",
    "warnings.filterwarnings('ignore')"
   ]
  },
  {
   "cell_type": "markdown",
   "id": "3780f714",
   "metadata": {},
   "source": [
    "# for문으로 크롤링 "
   ]
  },
  {
   "cell_type": "code",
   "execution_count": 5,
   "id": "c838b67f",
   "metadata": {
    "ExecuteTime": {
     "end_time": "2022-07-27T06:58:05.901304Z",
     "start_time": "2022-07-27T06:57:57.973151Z"
    }
   },
   "outputs": [],
   "source": [
    "# 검색어 입력\n",
    "search = '삼성전자'\n",
    "\n",
    "# 크롬 옵션\n",
    "options = webdriver.ChromeOptions()\n",
    "\n",
    "# 크롬 윈도우 사이즈 조절\n",
    "options.add_argument(\"--window-size=1000,1200\") # window-size -> 기본 : 1920,1080\n",
    "\n",
    "import chromedriver_autoinstaller\n",
    "\n",
    "chrome_path = chromedriver_autoinstaller.install()\n",
    "driver = webdriver.Chrome(chrome_path, options=options)\n",
    "time.sleep(0.01)\n",
    "driver.get(\"https://www.naver.com\") # -> 네이버 크롬 창이 뜬다.\n",
    "\n",
    "# 네이버 검색어 입력 후 검색\n",
    "element = driver.find_element(\"name\", \"query\") \n",
    "element.clear()  # 혹시 검색창에 존재하는 텍스트 제거\n",
    "\n",
    "element.send_keys(search)  # 검색창에 검색어 전달\n",
    "element.submit()  # 검색 클릭\n",
    "time.sleep(0.01)"
   ]
  },
  {
   "cell_type": "code",
   "execution_count": 6,
   "id": "746a5ad1",
   "metadata": {
    "ExecuteTime": {
     "end_time": "2022-07-27T06:58:10.160057Z",
     "start_time": "2022-07-27T06:58:05.902780Z"
    }
   },
   "outputs": [],
   "source": [
    "# 뉴스 클릭\n",
    "driver.find_element(\"link text\", \"뉴스\").click() \n",
    "time.sleep(0.01)"
   ]
  },
  {
   "cell_type": "code",
   "execution_count": 7,
   "id": "62e6071d",
   "metadata": {
    "ExecuteTime": {
     "end_time": "2022-07-27T06:58:18.913635Z",
     "start_time": "2022-07-27T06:58:18.125204Z"
    }
   },
   "outputs": [],
   "source": [
    "# '오래된 순' 클릭\n",
    "driver.find_element(\"link text\", \"오래된순\").click()  \n",
    "time.sleep(0.01)"
   ]
  },
  {
   "cell_type": "code",
   "execution_count": 93,
   "id": "21d56b08",
   "metadata": {
    "ExecuteTime": {
     "end_time": "2022-07-27T09:17:29.934090Z",
     "start_time": "2022-07-27T09:17:29.930212Z"
    }
   },
   "outputs": [],
   "source": [
    "BASE_URL = \"https://search.naver.com/search.naver?where=news&sm=tab_pge&query=%EC%82%BC%EC%84%B1%EC%A0%84%EC%9E%90&sort=2&photo=0&field=0&pd=3&\"\n",
    "# https://finance.naver.com/sise/sise_market_sum.naver?&page=1\n",
    "start = '1990.01.01'\n",
    "end = '1990.02.01'\n",
    "search_span= \"ds=\" + start + \"&de=\" + end + \"&a:all&start=\" # 기본값\n"
   ]
  },
  {
   "cell_type": "code",
   "execution_count": 94,
   "id": "248a9a92",
   "metadata": {
    "ExecuteTime": {
     "end_time": "2022-07-27T09:17:33.766295Z",
     "start_time": "2022-07-27T09:17:31.106791Z"
    },
    "scrolled": true
   },
   "outputs": [
    {
     "name": "stdout",
     "output_type": "stream",
     "text": [
      "\n"
     ]
    },
    {
     "ename": "TypeError",
     "evalue": "'<' not supported between instances of 'str' and 'int'",
     "output_type": "error",
     "traceback": [
      "\u001b[0;31m---------------------------------------------------------------------------\u001b[0m",
      "\u001b[0;31mTypeError\u001b[0m                                 Traceback (most recent call last)",
      "Input \u001b[0;32mIn [94]\u001b[0m, in \u001b[0;36m<cell line: 12>\u001b[0;34m()\u001b[0m\n\u001b[1;32m     40\u001b[0m     driver\u001b[38;5;241m.\u001b[39mfind_element(\u001b[38;5;124m'\u001b[39m\u001b[38;5;124mcss selector\u001b[39m\u001b[38;5;124m'\u001b[39m, \u001b[38;5;124m'\u001b[39m\u001b[38;5;124ma.btn_next\u001b[39m\u001b[38;5;124m'\u001b[39m)\u001b[38;5;241m.\u001b[39mclick()\n\u001b[1;32m     41\u001b[0m     \u001b[38;5;28;01mcontinue\u001b[39;00m;\n\u001b[0;32m---> 42\u001b[0m \u001b[38;5;28;01melif\u001b[39;00m (driver\u001b[38;5;241m.\u001b[39mfind_element(\u001b[38;5;124m'\u001b[39m\u001b[38;5;124mcss selector\u001b[39m\u001b[38;5;124m'\u001b[39m, \u001b[38;5;124m'\u001b[39m\u001b[38;5;124ma.btn_next\u001b[39m\u001b[38;5;124m'\u001b[39m)\u001b[38;5;241m.\u001b[39mget_attribute(\u001b[38;5;124m'\u001b[39m\u001b[38;5;124maria-disabled\u001b[39m\u001b[38;5;124m'\u001b[39m) \u001b[38;5;241m==\u001b[39m \u001b[38;5;124m'\u001b[39m\u001b[38;5;124mtrue\u001b[39m\u001b[38;5;124m'\u001b[39m) \u001b[38;5;241m&\u001b[39m (\u001b[43mdriver\u001b[49m\u001b[38;5;241;43m.\u001b[39;49m\u001b[43mfind_element\u001b[49m\u001b[43m(\u001b[49m\u001b[38;5;124;43m'\u001b[39;49m\u001b[38;5;124;43mcss selector\u001b[39;49m\u001b[38;5;124;43m'\u001b[39;49m\u001b[43m,\u001b[49m\u001b[43m \u001b[49m\u001b[38;5;124;43m'\u001b[39;49m\u001b[38;5;124;43ma.btn\u001b[39;49m\u001b[38;5;124;43m'\u001b[39;49m\u001b[43m)\u001b[49m\u001b[38;5;241;43m.\u001b[39;49m\u001b[43mget_attribute\u001b[49m\u001b[43m(\u001b[49m\u001b[38;5;124;43m'\u001b[39;49m\u001b[38;5;124;43mname\u001b[39;49m\u001b[38;5;124;43m'\u001b[39;49m\u001b[43m)\u001b[49m\u001b[43m \u001b[49m\u001b[38;5;241;43m<\u001b[39;49m\u001b[43m \u001b[49m\u001b[38;5;241;43m400\u001b[39;49m) : \u001b[38;5;66;03m# 추출된 페이지 수가 400보다 작으면\u001b[39;00m\n\u001b[1;32m     43\u001b[0m     \u001b[38;5;28;01mbreak\u001b[39;00m;\n\u001b[1;32m     44\u001b[0m \u001b[38;5;28;01melif\u001b[39;00m driver\u001b[38;5;241m.\u001b[39mfind_element(\u001b[38;5;124m'\u001b[39m\u001b[38;5;124mcss selector\u001b[39m\u001b[38;5;124m'\u001b[39m, \u001b[38;5;124m'\u001b[39m\u001b[38;5;124ma.btn_next\u001b[39m\u001b[38;5;124m'\u001b[39m)\u001b[38;5;241m.\u001b[39mget_attribute(\u001b[38;5;124m'\u001b[39m\u001b[38;5;124maria-disabled\u001b[39m\u001b[38;5;124m'\u001b[39m) \u001b[38;5;241m==\u001b[39m \u001b[38;5;124m'\u001b[39m\u001b[38;5;124mtrue\u001b[39m\u001b[38;5;124m'\u001b[39m:\n\u001b[1;32m     45\u001b[0m     \u001b[38;5;66;03m# 날짜를 마지막 뉴스 날짜로 업데이트\u001b[39;00m\n",
      "\u001b[0;31mTypeError\u001b[0m: '<' not supported between instances of 'str' and 'int'"
     ]
    }
   ],
   "source": [
    "# 뉴스 데이터 수집\n",
    "news_list = []\n",
    "date_list = []\n",
    "title_list = []\n",
    "\n",
    "BASE_URL = BASE_URL + search_span\n",
    "\n",
    "service = ChromeService(executable_path=ChromeDriverManager().install())\n",
    "driver = webdriver.Chrome(service=service)\n",
    "driver.get(BASE_URL+\"1\")\n",
    "\n",
    "for i in range(5):  \n",
    "    \n",
    "    # 언론사\n",
    "    newses = driver.find_elements('css selector', 'a.info.press')\n",
    "    temp_list = []\n",
    "    for news in newses:\n",
    "        temp_list.append(news.text)\n",
    "#         temp_list = [x for x in temp_list ]\n",
    "    news_list = news_list + temp_list \n",
    "    \n",
    "    # 날짜\n",
    "    dates = driver.find_elements('css selector', 'span.info')\n",
    "    temp_list = []\n",
    "    for date in dates:\n",
    "        temp_list.append(date.text)\n",
    "#         temp_list = [x for x in temp_list ]\n",
    "    date_list = date_list + temp_list \n",
    "    \n",
    "    # 제목\n",
    "    titles = driver.find_elements('css selector', 'a.news_tit')\n",
    "    temp_list = []\n",
    "    for title in titles:\n",
    "        temp_list.append(title.text)\n",
    "#         temp_list = [x for x in temp_list ]\n",
    "    title_list = title_list + temp_list \n",
    "    \n",
    "    # 다음페이지 클릭, next 비활성화 되면 멈춤\n",
    "    if driver.find_element('css selector', 'a.btn_next').get_attribute('aria-disabled') == 'false':\n",
    "        driver.find_element('css selector', 'a.btn_next').click()\n",
    "        continue;\n",
    "    elif (driver.find_element('css selector', 'a.btn_next').get_attribute('aria-disabled') == 'true') & (driver.find_element('css selector', 'a.btn').get_attribute('name') < 400) : # 추출된 페이지 수가 400보다 작으면\n",
    "        break;\n",
    "    elif driver.find_element('css selector', 'a.btn_next').get_attribute('aria-disabled') == 'true':\n",
    "        # 날짜를 마지막 뉴스 날짜로 업데이트\n",
    "        search_span = \"ds=\" + date_list[-1] + \"&de=\" + end + \"&a:all&start=\" # 시작, 끝 날짜 설정\n",
    "        \n",
    "        BASE_URL = BASE_URL + search_span\n",
    "        service = ChromeService(executable_path=ChromeDriverManager().install())\n",
    "        driver = webdriver.Chrome(service=service)\n",
    "        driver.get(BASE_URL+\"1\")\n",
    "        continue;\n",
    "\n",
    "#     elif driver.find_element('css selector', 'div.not_fount02') # 검색결과 없음 :\n",
    "#         break;\n",
    "        \n",
    "#     driver.find_element('css selector', 'a.btn_next').click()\n",
    "\n",
    "    time.sleep(0.001)\n",
    "    \n",
    "\n",
    "print(len(title_list))\n",
    "# print(news_list)\n",
    "print(date_list)\n",
    "# print(title_list)"
   ]
  },
  {
   "cell_type": "code",
   "execution_count": 67,
   "id": "ca488bbc",
   "metadata": {
    "ExecuteTime": {
     "end_time": "2022-07-27T08:32:03.363536Z",
     "start_time": "2022-07-27T08:32:03.360382Z"
    }
   },
   "outputs": [
    {
     "name": "stdout",
     "output_type": "stream",
     "text": [
      "1990.02.01.\n"
     ]
    }
   ],
   "source": [
    "print(date_list[-1])"
   ]
  },
  {
   "cell_type": "code",
   "execution_count": 71,
   "id": "f2285516",
   "metadata": {
    "ExecuteTime": {
     "end_time": "2022-07-27T08:35:33.925624Z",
     "start_time": "2022-07-27T08:35:33.921210Z"
    }
   },
   "outputs": [
    {
     "data": {
      "text/plain": [
       "'fs'"
      ]
     },
     "execution_count": 71,
     "metadata": {},
     "output_type": "execute_result"
    }
   ],
   "source": [
    "a = 'f'\n",
    "b = 's'\n",
    "a+b"
   ]
  },
  {
   "cell_type": "code",
   "execution_count": 70,
   "id": "592c987d",
   "metadata": {
    "ExecuteTime": {
     "end_time": "2022-07-27T08:32:23.020987Z",
     "start_time": "2022-07-27T08:32:23.015836Z"
    }
   },
   "outputs": [
    {
     "data": {
      "text/plain": [
       "str"
      ]
     },
     "execution_count": 70,
     "metadata": {},
     "output_type": "execute_result"
    }
   ],
   "source": [
    "x = \"ds=\" + date_list[-1] + \"&de=1990.02.01&a:all&start=\"\n",
    "type(x)"
   ]
  },
  {
   "cell_type": "code",
   "execution_count": 59,
   "id": "41363e7a",
   "metadata": {
    "ExecuteTime": {
     "end_time": "2022-07-27T08:19:52.730672Z",
     "start_time": "2022-07-27T08:19:52.717500Z"
    }
   },
   "outputs": [
    {
     "data": {
      "text/html": [
       "<div>\n",
       "<style scoped>\n",
       "    .dataframe tbody tr th:only-of-type {\n",
       "        vertical-align: middle;\n",
       "    }\n",
       "\n",
       "    .dataframe tbody tr th {\n",
       "        vertical-align: top;\n",
       "    }\n",
       "\n",
       "    .dataframe thead th {\n",
       "        text-align: right;\n",
       "    }\n",
       "</style>\n",
       "<table border=\"1\" class=\"dataframe\">\n",
       "  <thead>\n",
       "    <tr style=\"text-align: right;\">\n",
       "      <th></th>\n",
       "      <th>언론사</th>\n",
       "      <th>날짜</th>\n",
       "      <th>제목</th>\n",
       "    </tr>\n",
       "  </thead>\n",
       "  <tbody>\n",
       "    <tr>\n",
       "      <th>0</th>\n",
       "      <td>연합뉴스</td>\n",
       "      <td>1990.01.17.</td>\n",
       "      <td>朴守敎-林正明 코트서 벤치 대결로</td>\n",
       "    </tr>\n",
       "    <tr>\n",
       "      <th>1</th>\n",
       "      <td>연합뉴스</td>\n",
       "      <td>1990.01.17.</td>\n",
       "      <td>EC, 한국산 CDP 반덤핑 확정관세 결정</td>\n",
       "    </tr>\n",
       "    <tr>\n",
       "      <th>2</th>\n",
       "      <td>연합뉴스</td>\n",
       "      <td>1990.01.17.</td>\n",
       "      <td>범용 CAD 개발</td>\n",
       "    </tr>\n",
       "    <tr>\n",
       "      <th>3</th>\n",
       "      <td>연합뉴스</td>\n",
       "      <td>1990.01.19.</td>\n",
       "      <td>광고업계,제조업 불황속 호황 누려</td>\n",
       "    </tr>\n",
       "    <tr>\n",
       "      <th>4</th>\n",
       "      <td>연합뉴스</td>\n",
       "      <td>1990.01.21.</td>\n",
       "      <td>-농구대잔치-</td>\n",
       "    </tr>\n",
       "    <tr>\n",
       "      <th>5</th>\n",
       "      <td>연합뉴스</td>\n",
       "      <td>1990.01.21.</td>\n",
       "      <td>-농구대잔치 2차대회 중간결산-</td>\n",
       "    </tr>\n",
       "    <tr>\n",
       "      <th>6</th>\n",
       "      <td>연합뉴스</td>\n",
       "      <td>1990.01.23.</td>\n",
       "      <td>농구대잔치 남녀 새스타 3명 배출</td>\n",
       "    </tr>\n",
       "    <tr>\n",
       "      <th>7</th>\n",
       "      <td>연합뉴스</td>\n",
       "      <td>1990.01.24.</td>\n",
       "      <td>일부 전기주전자 화재발생 위험</td>\n",
       "    </tr>\n",
       "    <tr>\n",
       "      <th>8</th>\n",
       "      <td>연합뉴스</td>\n",
       "      <td>1990.01.24.</td>\n",
       "      <td>美, 한국산 사설전화교환기 덤핑관세 부과</td>\n",
       "    </tr>\n",
       "    <tr>\n",
       "      <th>9</th>\n",
       "      <td>연합뉴스</td>\n",
       "      <td>1990.01.24.</td>\n",
       "      <td>-농구대잔치-</td>\n",
       "    </tr>\n",
       "    <tr>\n",
       "      <th>10</th>\n",
       "      <td>연합뉴스</td>\n",
       "      <td>1990.01.24.</td>\n",
       "      <td>-89농구대잔치 낙수-</td>\n",
       "    </tr>\n",
       "    <tr>\n",
       "      <th>11</th>\n",
       "      <td>연합뉴스</td>\n",
       "      <td>1990.01.25.</td>\n",
       "      <td>국내 기업 유럽 투자진출 활기</td>\n",
       "    </tr>\n",
       "    <tr>\n",
       "      <th>12</th>\n",
       "      <td>연합뉴스</td>\n",
       "      <td>1990.02.01.</td>\n",
       "      <td>전기통신올림픽 ‘텔레콤91’참가업체 확정</td>\n",
       "    </tr>\n",
       "  </tbody>\n",
       "</table>\n",
       "</div>"
      ],
      "text/plain": [
       "     언론사           날짜                       제목\n",
       "0   연합뉴스  1990.01.17.       朴守敎-林正明 코트서 벤치 대결로\n",
       "1   연합뉴스  1990.01.17.  EC, 한국산 CDP 반덤핑 확정관세 결정\n",
       "2   연합뉴스  1990.01.17.                범용 CAD 개발\n",
       "3   연합뉴스  1990.01.19.       광고업계,제조업 불황속 호황 누려\n",
       "4   연합뉴스  1990.01.21.                  -농구대잔치-\n",
       "5   연합뉴스  1990.01.21.        -농구대잔치 2차대회 중간결산-\n",
       "6   연합뉴스  1990.01.23.       농구대잔치 남녀 새스타 3명 배출\n",
       "7   연합뉴스  1990.01.24.         일부 전기주전자 화재발생 위험\n",
       "8   연합뉴스  1990.01.24.   美, 한국산 사설전화교환기 덤핑관세 부과\n",
       "9   연합뉴스  1990.01.24.                  -농구대잔치-\n",
       "10  연합뉴스  1990.01.24.             -89농구대잔치 낙수-\n",
       "11  연합뉴스  1990.01.25.         국내 기업 유럽 투자진출 활기\n",
       "12  연합뉴스  1990.02.01.   전기통신올림픽 ‘텔레콤91’참가업체 확정"
      ]
     },
     "execution_count": 59,
     "metadata": {},
     "output_type": "execute_result"
    }
   ],
   "source": [
    "# df로 만들기\n",
    "\n",
    "df = pd.DataFrame(list(zip(news_list, date_list, title_list)), columns = ['언론사','날짜', '제목'])\n",
    "\n",
    "df\n",
    "\n",
    "# csv로 뽑기\n",
    "# df.to_csv('.csv')"
   ]
  },
  {
   "cell_type": "code",
   "execution_count": 54,
   "id": "41a118e5",
   "metadata": {
    "ExecuteTime": {
     "end_time": "2022-07-27T07:44:21.629118Z",
     "start_time": "2022-07-27T07:44:21.625715Z"
    }
   },
   "outputs": [
    {
     "name": "stdout",
     "output_type": "stream",
     "text": [
      "0\n",
      "1\n",
      "2\n",
      "3\n",
      "4\n"
     ]
    }
   ],
   "source": [
    "for i in range(5):\n",
    "    print(i)"
   ]
  },
  {
   "cell_type": "code",
   "execution_count": null,
   "id": "a23af776",
   "metadata": {},
   "outputs": [],
   "source": []
  }
 ],
 "metadata": {
  "kernelspec": {
   "display_name": "Python 3 (ipykernel)",
   "language": "python",
   "name": "python3"
  },
  "language_info": {
   "codemirror_mode": {
    "name": "ipython",
    "version": 3
   },
   "file_extension": ".py",
   "mimetype": "text/x-python",
   "name": "python",
   "nbconvert_exporter": "python",
   "pygments_lexer": "ipython3",
   "version": "3.8.13"
  },
  "toc": {
   "base_numbering": 1,
   "nav_menu": {},
   "number_sections": false,
   "sideBar": true,
   "skip_h1_title": false,
   "title_cell": "Table of Contents",
   "title_sidebar": "Contents",
   "toc_cell": false,
   "toc_position": {
    "height": "895px",
    "left": "69px",
    "top": "111.141px",
    "width": "165px"
   },
   "toc_section_display": true,
   "toc_window_display": false
  }
 },
 "nbformat": 4,
 "nbformat_minor": 5
}
