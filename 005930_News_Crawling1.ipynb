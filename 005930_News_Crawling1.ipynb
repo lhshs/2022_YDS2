{
 "cells": [
  {
   "cell_type": "code",
   "execution_count": 15,
   "id": "5b28a394",
   "metadata": {
    "ExecuteTime": {
     "end_time": "2022-07-27T13:30:41.863242Z",
     "start_time": "2022-07-27T13:30:39.697242Z"
    }
   },
   "outputs": [
    {
     "name": "stdout",
     "output_type": "stream",
     "text": [
      "Requirement already satisfied: beautifulsoup4 in c:\\users\\hslio\\miniforge3\\envs\\lhs\\lib\\site-packages (4.11.1)\n",
      "Requirement already satisfied: soupsieve>1.2 in c:\\users\\hslio\\miniforge3\\envs\\lhs\\lib\\site-packages (from beautifulsoup4) (2.3.1)\n"
     ]
    }
   ],
   "source": [
    "# !pip install beautifulsoup4"
   ]
  },
  {
   "cell_type": "code",
   "execution_count": 16,
   "id": "a75c3e83",
   "metadata": {
    "ExecuteTime": {
     "end_time": "2022-07-27T13:31:16.081817Z",
     "start_time": "2022-07-27T13:31:15.977632Z"
    }
   },
   "outputs": [],
   "source": [
    "# 라이브러리 import\n",
    "import os\n",
    "import pandas as pd\n",
    "import numpy as np\n",
    "import math \n",
    "\n",
    "# 셀레늄\n",
    "from selenium.webdriver.common.alert import Alert\n",
    "from selenium import webdriver  # 라이브러리(모듈) 가져오라\n",
    "# pip install chromedriver_autoinstaller\n",
    "from webdriver_manager.chrome import ChromeDriverManager\n",
    "from selenium.webdriver.common.keys import Keys\n",
    "from selenium.webdriver import ActionChains as AC\n",
    "\n",
    "from selenium.webdriver.chrome.service import Service as ChromeService\n",
    "\n",
    "# tqdm : for문 진행상황 체크\n",
    "from tqdm import tqdm, tqdm_notebook\n",
    "from tqdm.notebook import tqdm\n",
    "\n",
    "# 정규표현식(regular expression) : 문자(알파벳,한글), 숫자, 특수기호 정제 및 추출\n",
    "import re\n",
    "from time import sleep\n",
    "import time\n",
    "\n",
    "# 워닝 무시\n",
    "import warnings\n",
    "warnings.filterwarnings('ignore')\n",
    "\n",
    "from bs4 import BeautifulSoup"
   ]
  },
  {
   "cell_type": "markdown",
   "id": "3780f714",
   "metadata": {},
   "source": [
    "# for문으로 크롤링 "
   ]
  },
  {
   "cell_type": "code",
   "execution_count": null,
   "id": "c838b67f",
   "metadata": {
    "ExecuteTime": {
     "end_time": "2022-07-27T06:58:05.901304Z",
     "start_time": "2022-07-27T06:57:57.973151Z"
    }
   },
   "outputs": [],
   "source": [
    "# 검색어 입력\n",
    "search = '삼성전자'\n",
    "\n",
    "# 크롬 옵션\n",
    "options = webdriver.ChromeOptions()\n",
    "\n",
    "# 크롬 윈도우 사이즈 조절\n",
    "options.add_argument(\"--window-size=1000,1200\") # window-size -> 기본 : 1920,1080\n",
    "\n",
    "import chromedriver_autoinstaller\n",
    "\n",
    "chrome_path = chromedriver_autoinstaller.install()\n",
    "driver = webdriver.Chrome(chrome_path, options=options)\n",
    "time.sleep(0.01)\n",
    "driver.get(\"https://www.naver.com\") # -> 네이버 크롬 창이 뜬다.\n",
    "\n",
    "# 네이버 검색어 입력 후 검색\n",
    "element = driver.find_element(\"name\", \"query\") \n",
    "element.clear()  # 혹시 검색창에 존재하는 텍스트 제거\n",
    "\n",
    "element.send_keys(search)  # 검색창에 검색어 전달\n",
    "element.submit()  # 검색 클릭\n",
    "time.sleep(0.01)"
   ]
  },
  {
   "cell_type": "code",
   "execution_count": null,
   "id": "746a5ad1",
   "metadata": {
    "ExecuteTime": {
     "end_time": "2022-07-27T06:58:10.160057Z",
     "start_time": "2022-07-27T06:58:05.902780Z"
    }
   },
   "outputs": [],
   "source": [
    "# 뉴스 클릭\n",
    "driver.find_element(\"link text\", \"뉴스\").click() \n",
    "time.sleep(0.01)"
   ]
  },
  {
   "cell_type": "code",
   "execution_count": null,
   "id": "62e6071d",
   "metadata": {
    "ExecuteTime": {
     "end_time": "2022-07-27T06:58:18.913635Z",
     "start_time": "2022-07-27T06:58:18.125204Z"
    }
   },
   "outputs": [],
   "source": [
    "# '오래된 순' 클릭\n",
    "driver.find_element(\"link text\", \"오래된순\").click()  \n",
    "time.sleep(0.01)"
   ]
  },
  {
   "cell_type": "code",
   "execution_count": 108,
   "id": "21d56b08",
   "metadata": {
    "ExecuteTime": {
     "end_time": "2022-07-27T14:37:36.387428Z",
     "start_time": "2022-07-27T14:37:36.383456Z"
    }
   },
   "outputs": [],
   "source": [
    "BASE_URL = \"https://search.naver.com/search.naver?where=news&sm=tab_pge&query=%EC%82%BC%EC%84%B1%EC%A0%84%EC%9E%90&sort=2&photo=0&field=0&pd=3&\"\n",
    "# https://finance.naver.com/sise/sise_market_sum.naver?&page=1\n",
    "start = '1990.01.01'\n",
    "end = '2005.05.01'\n",
    "search_span= \"ds=\" + start + \"&de=\" + end + \"&a:all&start=\" # 기본값\n"
   ]
  },
  {
   "cell_type": "code",
   "execution_count": 86,
   "id": "0e1aeb3f",
   "metadata": {
    "ExecuteTime": {
     "end_time": "2022-07-27T14:23:13.630306Z",
     "start_time": "2022-07-27T14:23:07.719152Z"
    }
   },
   "outputs": [
    {
     "name": "stdout",
     "output_type": "stream",
     "text": [
      "\n"
     ]
    },
    {
     "data": {
      "text/plain": [
       "2"
      ]
     },
     "execution_count": 86,
     "metadata": {},
     "output_type": "execute_result"
    }
   ],
   "source": [
    "BASE_URL = BASE_URL + search_span\n",
    "\n",
    "service = ChromeService(executable_path=ChromeDriverManager().install())\n",
    "driver = webdriver.Chrome(service=service)\n",
    "driver.get(BASE_URL+\"1\")\n",
    "\n",
    "# soup = BeautifulSoup(BASE_URL, \"html.parser\")\n",
    "# soup.find_all('btn',{'aria-pressed':\"false\"})\n",
    "last_num = driver.find_element('xpath', '//*[@id=\"main_pack\"]/div[2]/div/div/a[2]').text\n",
    "# //*[@id=\"main_pack\"]/div[2]/div/div/a[8]\n",
    "last_num = int(last_num)\n",
    "last_num"
   ]
  },
  {
   "cell_type": "code",
   "execution_count": 109,
   "id": "248a9a92",
   "metadata": {
    "ExecuteTime": {
     "end_time": "2022-07-27T14:38:17.754336Z",
     "start_time": "2022-07-27T14:38:05.872023Z"
    },
    "scrolled": true
   },
   "outputs": [
    {
     "name": "stdout",
     "output_type": "stream",
     "text": [
      "\n",
      "1\n",
      "2\n",
      "3\n",
      "4\n",
      "5\n",
      "7\n",
      "9\n",
      "11\n",
      "13\n",
      "15\n"
     ]
    },
    {
     "ename": "NoSuchElementException",
     "evalue": "Message: no such element: Unable to locate element: {\"method\":\"xpath\",\"selector\":\"//*[@id=\"main_pack\"]/div[2]/div/div/a[11]\"}\n  (Session info: chrome=103.0.5060.134)\nStacktrace:\nBacktrace:\n\tOrdinal0 [0x00E85FD3+2187219]\n\tOrdinal0 [0x00E1E6D1+1763025]\n\tOrdinal0 [0x00D33E78+802424]\n\tOrdinal0 [0x00D61C10+990224]\n\tOrdinal0 [0x00D61EAB+990891]\n\tOrdinal0 [0x00D8EC92+1174674]\n\tOrdinal0 [0x00D7CBD4+1100756]\n\tOrdinal0 [0x00D8CFC2+1167298]\n\tOrdinal0 [0x00D7C9A6+1100198]\n\tOrdinal0 [0x00D56F80+946048]\n\tOrdinal0 [0x00D57E76+949878]\n\tGetHandleVerifier [0x011290C2+2721218]\n\tGetHandleVerifier [0x0111AAF0+2662384]\n\tGetHandleVerifier [0x00F1137A+526458]\n\tGetHandleVerifier [0x00F10416+522518]\n\tOrdinal0 [0x00E24EAB+1789611]\n\tOrdinal0 [0x00E297A8+1808296]\n\tOrdinal0 [0x00E29895+1808533]\n\tOrdinal0 [0x00E326C1+1844929]\n\tBaseThreadInitThunk [0x7534FA29+25]\n\tRtlGetAppContainerNamedObjectPath [0x772A7A9E+286]\n\tRtlGetAppContainerNamedObjectPath [0x772A7A6E+238]\n",
     "output_type": "error",
     "traceback": [
      "\u001b[1;31m---------------------------------------------------------------------------\u001b[0m",
      "\u001b[1;31mNoSuchElementException\u001b[0m                    Traceback (most recent call last)",
      "Input \u001b[1;32mIn [109]\u001b[0m, in \u001b[0;36m<cell line: 13>\u001b[1;34m()\u001b[0m\n\u001b[0;32m     36\u001b[0m \u001b[38;5;66;03m#         temp_list = [x for x in temp_list ]\u001b[39;00m\n\u001b[0;32m     37\u001b[0m     title_list \u001b[38;5;241m=\u001b[39m title_list \u001b[38;5;241m+\u001b[39m temp_list \n\u001b[1;32m---> 38\u001b[0m     last_num \u001b[38;5;241m=\u001b[39m \u001b[38;5;28mint\u001b[39m(\u001b[43mdriver\u001b[49m\u001b[38;5;241;43m.\u001b[39;49m\u001b[43mfind_element\u001b[49m\u001b[43m(\u001b[49m\u001b[38;5;124;43m'\u001b[39;49m\u001b[38;5;124;43mxpath\u001b[39;49m\u001b[38;5;124;43m'\u001b[39;49m\u001b[43m,\u001b[49m\u001b[43m \u001b[49m\u001b[38;5;124;43m'\u001b[39;49m\u001b[38;5;124;43m//*[@id=\u001b[39;49m\u001b[38;5;124;43m\"\u001b[39;49m\u001b[38;5;124;43mmain_pack\u001b[39;49m\u001b[38;5;124;43m\"\u001b[39;49m\u001b[38;5;124;43m]/div[2]/div/div/a[\u001b[39;49m\u001b[38;5;132;43;01m{0}\u001b[39;49;00m\u001b[38;5;124;43m]\u001b[39;49m\u001b[38;5;124;43m'\u001b[39;49m\u001b[38;5;241;43m.\u001b[39;49m\u001b[43mformat\u001b[49m\u001b[43m(\u001b[49m\u001b[43mi\u001b[49m\u001b[38;5;241;43m+\u001b[39;49m\u001b[38;5;241;43m1\u001b[39;49m\u001b[43m)\u001b[49m\u001b[43m)\u001b[49m\u001b[38;5;241m.\u001b[39mtext)\n\u001b[0;32m     39\u001b[0m     \u001b[38;5;28mprint\u001b[39m(last_num)\n\u001b[0;32m     40\u001b[0m \u001b[38;5;66;03m#     print(i)\u001b[39;00m\n\u001b[0;32m     41\u001b[0m     \n\u001b[0;32m     42\u001b[0m     \u001b[38;5;66;03m# 다음페이지 클릭, next 비활성화 되면 멈추는 경우 2가지\u001b[39;00m\n",
      "File \u001b[1;32m~\\miniforge3\\envs\\lhs\\lib\\site-packages\\selenium\\webdriver\\remote\\webdriver.py:857\u001b[0m, in \u001b[0;36mWebDriver.find_element\u001b[1;34m(self, by, value)\u001b[0m\n\u001b[0;32m    854\u001b[0m     by \u001b[38;5;241m=\u001b[39m By\u001b[38;5;241m.\u001b[39mCSS_SELECTOR\n\u001b[0;32m    855\u001b[0m     value \u001b[38;5;241m=\u001b[39m \u001b[38;5;124m'\u001b[39m\u001b[38;5;124m[name=\u001b[39m\u001b[38;5;124m\"\u001b[39m\u001b[38;5;132;01m%s\u001b[39;00m\u001b[38;5;124m\"\u001b[39m\u001b[38;5;124m]\u001b[39m\u001b[38;5;124m'\u001b[39m \u001b[38;5;241m%\u001b[39m value\n\u001b[1;32m--> 857\u001b[0m \u001b[38;5;28;01mreturn\u001b[39;00m \u001b[38;5;28;43mself\u001b[39;49m\u001b[38;5;241;43m.\u001b[39;49m\u001b[43mexecute\u001b[49m\u001b[43m(\u001b[49m\u001b[43mCommand\u001b[49m\u001b[38;5;241;43m.\u001b[39;49m\u001b[43mFIND_ELEMENT\u001b[49m\u001b[43m,\u001b[49m\u001b[43m \u001b[49m\u001b[43m{\u001b[49m\n\u001b[0;32m    858\u001b[0m \u001b[43m    \u001b[49m\u001b[38;5;124;43m'\u001b[39;49m\u001b[38;5;124;43musing\u001b[39;49m\u001b[38;5;124;43m'\u001b[39;49m\u001b[43m:\u001b[49m\u001b[43m \u001b[49m\u001b[43mby\u001b[49m\u001b[43m,\u001b[49m\n\u001b[0;32m    859\u001b[0m \u001b[43m    \u001b[49m\u001b[38;5;124;43m'\u001b[39;49m\u001b[38;5;124;43mvalue\u001b[39;49m\u001b[38;5;124;43m'\u001b[39;49m\u001b[43m:\u001b[49m\u001b[43m \u001b[49m\u001b[43mvalue\u001b[49m\u001b[43m}\u001b[49m\u001b[43m)\u001b[49m[\u001b[38;5;124m'\u001b[39m\u001b[38;5;124mvalue\u001b[39m\u001b[38;5;124m'\u001b[39m]\n",
      "File \u001b[1;32m~\\miniforge3\\envs\\lhs\\lib\\site-packages\\selenium\\webdriver\\remote\\webdriver.py:435\u001b[0m, in \u001b[0;36mWebDriver.execute\u001b[1;34m(self, driver_command, params)\u001b[0m\n\u001b[0;32m    433\u001b[0m response \u001b[38;5;241m=\u001b[39m \u001b[38;5;28mself\u001b[39m\u001b[38;5;241m.\u001b[39mcommand_executor\u001b[38;5;241m.\u001b[39mexecute(driver_command, params)\n\u001b[0;32m    434\u001b[0m \u001b[38;5;28;01mif\u001b[39;00m response:\n\u001b[1;32m--> 435\u001b[0m     \u001b[38;5;28;43mself\u001b[39;49m\u001b[38;5;241;43m.\u001b[39;49m\u001b[43merror_handler\u001b[49m\u001b[38;5;241;43m.\u001b[39;49m\u001b[43mcheck_response\u001b[49m\u001b[43m(\u001b[49m\u001b[43mresponse\u001b[49m\u001b[43m)\u001b[49m\n\u001b[0;32m    436\u001b[0m     response[\u001b[38;5;124m'\u001b[39m\u001b[38;5;124mvalue\u001b[39m\u001b[38;5;124m'\u001b[39m] \u001b[38;5;241m=\u001b[39m \u001b[38;5;28mself\u001b[39m\u001b[38;5;241m.\u001b[39m_unwrap_value(\n\u001b[0;32m    437\u001b[0m         response\u001b[38;5;241m.\u001b[39mget(\u001b[38;5;124m'\u001b[39m\u001b[38;5;124mvalue\u001b[39m\u001b[38;5;124m'\u001b[39m, \u001b[38;5;28;01mNone\u001b[39;00m))\n\u001b[0;32m    438\u001b[0m     \u001b[38;5;28;01mreturn\u001b[39;00m response\n",
      "File \u001b[1;32m~\\miniforge3\\envs\\lhs\\lib\\site-packages\\selenium\\webdriver\\remote\\errorhandler.py:247\u001b[0m, in \u001b[0;36mErrorHandler.check_response\u001b[1;34m(self, response)\u001b[0m\n\u001b[0;32m    245\u001b[0m         alert_text \u001b[38;5;241m=\u001b[39m value[\u001b[38;5;124m'\u001b[39m\u001b[38;5;124malert\u001b[39m\u001b[38;5;124m'\u001b[39m]\u001b[38;5;241m.\u001b[39mget(\u001b[38;5;124m'\u001b[39m\u001b[38;5;124mtext\u001b[39m\u001b[38;5;124m'\u001b[39m)\n\u001b[0;32m    246\u001b[0m     \u001b[38;5;28;01mraise\u001b[39;00m exception_class(message, screen, stacktrace, alert_text)  \u001b[38;5;66;03m# type: ignore[call-arg]  # mypy is not smart enough here\u001b[39;00m\n\u001b[1;32m--> 247\u001b[0m \u001b[38;5;28;01mraise\u001b[39;00m exception_class(message, screen, stacktrace)\n",
      "\u001b[1;31mNoSuchElementException\u001b[0m: Message: no such element: Unable to locate element: {\"method\":\"xpath\",\"selector\":\"//*[@id=\"main_pack\"]/div[2]/div/div/a[11]\"}\n  (Session info: chrome=103.0.5060.134)\nStacktrace:\nBacktrace:\n\tOrdinal0 [0x00E85FD3+2187219]\n\tOrdinal0 [0x00E1E6D1+1763025]\n\tOrdinal0 [0x00D33E78+802424]\n\tOrdinal0 [0x00D61C10+990224]\n\tOrdinal0 [0x00D61EAB+990891]\n\tOrdinal0 [0x00D8EC92+1174674]\n\tOrdinal0 [0x00D7CBD4+1100756]\n\tOrdinal0 [0x00D8CFC2+1167298]\n\tOrdinal0 [0x00D7C9A6+1100198]\n\tOrdinal0 [0x00D56F80+946048]\n\tOrdinal0 [0x00D57E76+949878]\n\tGetHandleVerifier [0x011290C2+2721218]\n\tGetHandleVerifier [0x0111AAF0+2662384]\n\tGetHandleVerifier [0x00F1137A+526458]\n\tGetHandleVerifier [0x00F10416+522518]\n\tOrdinal0 [0x00E24EAB+1789611]\n\tOrdinal0 [0x00E297A8+1808296]\n\tOrdinal0 [0x00E29895+1808533]\n\tOrdinal0 [0x00E326C1+1844929]\n\tBaseThreadInitThunk [0x7534FA29+25]\n\tRtlGetAppContainerNamedObjectPath [0x772A7A9E+286]\n\tRtlGetAppContainerNamedObjectPath [0x772A7A6E+238]\n"
     ]
    }
   ],
   "source": [
    "# 뉴스 데이터 수집\n",
    "news_list = []\n",
    "date_list = []\n",
    "title_list = []\n",
    "\n",
    "BASE_URL = BASE_URL + search_span\n",
    "\n",
    "service = ChromeService(executable_path=ChromeDriverManager().install())\n",
    "driver = webdriver.Chrome(service=service)\n",
    "driver.get(BASE_URL+\"1\")\n",
    "\n",
    "\n",
    "for i in range(500):  \n",
    "    \n",
    "    # 언론사\n",
    "    newses = driver.find_elements('css selector', 'a.info.press')\n",
    "    temp_list = []\n",
    "    for news in newses:\n",
    "        temp_list.append(news.text)\n",
    "#         temp_list = [x for x in temp_list ]\n",
    "    news_list = news_list + temp_list \n",
    "    \n",
    "    # 날짜\n",
    "    dates = driver.find_elements('css selector', 'span.info')\n",
    "    temp_list = []\n",
    "    for date in dates:\n",
    "        temp_list.append(date.text)\n",
    "#         temp_list = [x for x in temp_list ]\n",
    "    date_list = date_list + temp_list \n",
    "    \n",
    "    # 제목\n",
    "    titles = driver.find_elements('css selector', 'a.news_tit')\n",
    "    temp_list = []\n",
    "    for title in titles:\n",
    "        temp_list.append(title.text)\n",
    "#         temp_list = [x for x in temp_list ]\n",
    "    title_list = title_list + temp_list \n",
    "    last_num = int(driver.find_element('xpath', '//*[@id=\"main_pack\"]/div[2]/div/div/a'.format(i+1)).text) \n",
    "    # 문제점 페이지 수 가져오려니 1, 2 이렇게 나옴\n",
    "    print(last_num)\n",
    "#     print(i)\n",
    "    \n",
    "    # 다음페이지 클릭, next 비활성화 되면 멈추는 경우 2가지\n",
    "    if driver.find_element('css selector', 'a.btn_next').get_attribute('aria-disabled') == 'false':\n",
    "        driver.find_element('css selector', 'a.btn_next').click()\n",
    "        continue;\n",
    "    # 다음 페이지가 비활성화 됐을 때\n",
    "    # 1. page 400일 대 (날짜 업데이트)\n",
    "    elif driver.find_element('css selector', 'a.btn_next').get_attribute('aria-disabled') == 'true':\n",
    "        # 날짜를 마지막 뉴스 날짜로 업데이트\n",
    "        if last_num == 400:\n",
    "            search_span = \"ds=\" + date_list[-1] + \"&de=\" + end + \"&a:all&start=\" # 시작, 끝 날짜 설정\n",
    "            BASE_URL = BASE_URL + search_span\n",
    "            service = ChromeService(executable_path=ChromeDriverManager().install())\n",
    "            driver = webdriver.Chrome(service=service)\n",
    "            driver.get(BASE_URL+\"1\")\n",
    "            continue;\n",
    "\n",
    "        # 2. 마지막 page가 400보다 작을 때\n",
    "        elif last_num < 400:\n",
    "            break;\n",
    "\n",
    "    # 검색 결과가 없을 때\n",
    "    else: # 검색결과 없음 \n",
    "         break;\n",
    "        \n",
    "    time.sleep(0.001)\n",
    "    \n",
    "print(len(title_list))\n",
    "# print(news_list)\n",
    "print(date_list)\n",
    "# print(title_list)"
   ]
  },
  {
   "cell_type": "code",
   "execution_count": 102,
   "id": "b70a0b6c",
   "metadata": {
    "ExecuteTime": {
     "end_time": "2022-07-27T14:34:21.854050Z",
     "start_time": "2022-07-27T14:34:21.847550Z"
    },
    "scrolled": true
   },
   "outputs": [
    {
     "data": {
      "text/plain": [
       "['1990.01.17.',\n",
       " '1990.01.17.',\n",
       " '1990.01.17.',\n",
       " '1990.01.19.',\n",
       " '1990.01.21.',\n",
       " '1990.01.21.',\n",
       " '1990.01.23.',\n",
       " '1990.01.24.',\n",
       " '1990.01.24.',\n",
       " '1990.01.24.',\n",
       " '1990.01.24.',\n",
       " '1990.01.25.',\n",
       " '1990.02.01.',\n",
       " '1990.02.02.',\n",
       " '1990.02.02.',\n",
       " '1990.02.02.',\n",
       " '1990.02.18.',\n",
       " '1990.02.19.',\n",
       " '1990.02.19.',\n",
       " '1990.02.20.',\n",
       " '1990.02.20.',\n",
       " '1990.02.20.',\n",
       " '1990.02.21.',\n",
       " '1990.02.22.',\n",
       " '1990.02.22.',\n",
       " '1990.02.23.',\n",
       " '1990.02.23.',\n",
       " '1990.02.24.',\n",
       " '1990.02.26.',\n",
       " '1990.02.26.',\n",
       " '1990.03.02.',\n",
       " '1990.03.02.',\n",
       " '1990.03.02.',\n",
       " '1990.03.03.',\n",
       " '1990.03.06.',\n",
       " '1990.03.06.',\n",
       " '1990.03.06.',\n",
       " '1990.03.06.',\n",
       " '1990.03.06.',\n",
       " '1990.03.07.',\n",
       " '1990.03.07.',\n",
       " '1990.03.07.',\n",
       " '1990.03.09.',\n",
       " '1990.03.10.',\n",
       " '1990.03.10.',\n",
       " '1990.03.12.',\n",
       " '1990.03.12.',\n",
       " '1990.03.12.',\n",
       " '1990.03.13.',\n",
       " '1990.03.14.',\n",
       " '1990.03.14.',\n",
       " '1990.03.17.',\n",
       " '1990.03.17.',\n",
       " '1990.03.17.',\n",
       " '1990.03.17.',\n",
       " '1990.03.17.',\n",
       " '1990.03.21.',\n",
       " '1990.03.21.',\n",
       " '1990.03.21.',\n",
       " '1990.03.22.',\n",
       " '1990.03.22.',\n",
       " '1990.03.22.',\n",
       " '1990.03.22.',\n",
       " '1990.03.23.',\n",
       " '1990.03.23.',\n",
       " '1990.03.23.',\n",
       " '1990.03.24.',\n",
       " '1990.03.25.',\n",
       " '1990.03.26.',\n",
       " '1990.03.26.',\n",
       " '1990.03.26.',\n",
       " '1990.03.27.',\n",
       " '1990.03.28.',\n",
       " '1990.03.28.',\n",
       " '1990.03.30.',\n",
       " '1990.03.31.',\n",
       " '1990.03.31.',\n",
       " '1990.04.03.',\n",
       " '1990.04.06.',\n",
       " '1990.04.06.',\n",
       " '1990.04.07.',\n",
       " '1990.04.09.',\n",
       " '1990.04.10.',\n",
       " '1990.04.10.',\n",
       " '1990.04.10.',\n",
       " '1990.04.11.',\n",
       " '1990.04.11.',\n",
       " '1990.04.13.',\n",
       " '1990.04.13.',\n",
       " '1990.04.13.',\n",
       " '1990.04.17.',\n",
       " '1990.04.18.',\n",
       " '1990.04.19.',\n",
       " '1990.04.20.',\n",
       " '1990.04.20.',\n",
       " '1990.04.20.',\n",
       " '1990.04.21.',\n",
       " '1990.04.22.',\n",
       " '1990.04.23.',\n",
       " '1990.04.23.',\n",
       " '1990.04.23.',\n",
       " '1990.04.23.',\n",
       " '1990.04.23.',\n",
       " '1990.04.24.',\n",
       " '1990.04.24.',\n",
       " '1990.04.24.',\n",
       " '1990.04.24.',\n",
       " '1990.04.24.',\n",
       " '1990.04.28.']"
      ]
     },
     "execution_count": 102,
     "metadata": {},
     "output_type": "execute_result"
    }
   ],
   "source": [
    "date_list"
   ]
  },
  {
   "cell_type": "code",
   "execution_count": null,
   "id": "592c987d",
   "metadata": {
    "ExecuteTime": {
     "end_time": "2022-07-27T08:32:23.020987Z",
     "start_time": "2022-07-27T08:32:23.015836Z"
    }
   },
   "outputs": [],
   "source": [
    "x = \"ds=\" + date_list[-1] + \"&de=1990.02.01&a:all&start=\"\n",
    "type(x)"
   ]
  },
  {
   "cell_type": "code",
   "execution_count": 103,
   "id": "41363e7a",
   "metadata": {
    "ExecuteTime": {
     "end_time": "2022-07-27T14:34:32.179685Z",
     "start_time": "2022-07-27T14:34:32.167684Z"
    }
   },
   "outputs": [
    {
     "data": {
      "text/html": [
       "<div>\n",
       "<style scoped>\n",
       "    .dataframe tbody tr th:only-of-type {\n",
       "        vertical-align: middle;\n",
       "    }\n",
       "\n",
       "    .dataframe tbody tr th {\n",
       "        vertical-align: top;\n",
       "    }\n",
       "\n",
       "    .dataframe thead th {\n",
       "        text-align: right;\n",
       "    }\n",
       "</style>\n",
       "<table border=\"1\" class=\"dataframe\">\n",
       "  <thead>\n",
       "    <tr style=\"text-align: right;\">\n",
       "      <th></th>\n",
       "      <th>언론사</th>\n",
       "      <th>날짜</th>\n",
       "      <th>제목</th>\n",
       "    </tr>\n",
       "  </thead>\n",
       "  <tbody>\n",
       "    <tr>\n",
       "      <th>0</th>\n",
       "      <td>연합뉴스</td>\n",
       "      <td>1990.01.17.</td>\n",
       "      <td>朴守敎-林正明 코트서 벤치 대결로</td>\n",
       "    </tr>\n",
       "    <tr>\n",
       "      <th>1</th>\n",
       "      <td>연합뉴스</td>\n",
       "      <td>1990.01.17.</td>\n",
       "      <td>EC, 한국산 CDP 반덤핑 확정관세 결정</td>\n",
       "    </tr>\n",
       "    <tr>\n",
       "      <th>2</th>\n",
       "      <td>연합뉴스</td>\n",
       "      <td>1990.01.17.</td>\n",
       "      <td>범용 CAD 개발</td>\n",
       "    </tr>\n",
       "    <tr>\n",
       "      <th>3</th>\n",
       "      <td>연합뉴스</td>\n",
       "      <td>1990.01.19.</td>\n",
       "      <td>광고업계,제조업 불황속 호황 누려</td>\n",
       "    </tr>\n",
       "    <tr>\n",
       "      <th>4</th>\n",
       "      <td>연합뉴스</td>\n",
       "      <td>1990.01.21.</td>\n",
       "      <td>-농구대잔치-</td>\n",
       "    </tr>\n",
       "    <tr>\n",
       "      <th>...</th>\n",
       "      <td>...</td>\n",
       "      <td>...</td>\n",
       "      <td>...</td>\n",
       "    </tr>\n",
       "    <tr>\n",
       "      <th>104</th>\n",
       "      <td>연합뉴스</td>\n",
       "      <td>1990.04.24.</td>\n",
       "      <td>유형별 위반사례</td>\n",
       "    </tr>\n",
       "    <tr>\n",
       "      <th>105</th>\n",
       "      <td>연합뉴스</td>\n",
       "      <td>1990.04.24.</td>\n",
       "      <td>8개 財閥기업 不動産취득 규정 위반</td>\n",
       "    </tr>\n",
       "    <tr>\n",
       "      <th>106</th>\n",
       "      <td>연합뉴스</td>\n",
       "      <td>1990.04.24.</td>\n",
       "      <td>별 표</td>\n",
       "    </tr>\n",
       "    <tr>\n",
       "      <th>107</th>\n",
       "      <td>연합뉴스</td>\n",
       "      <td>1990.04.24.</td>\n",
       "      <td>&lt;표&gt; 유형별 위반사례</td>\n",
       "    </tr>\n",
       "    <tr>\n",
       "      <th>108</th>\n",
       "      <td>연합뉴스</td>\n",
       "      <td>1990.04.28.</td>\n",
       "      <td>\"컴퓨터교육 강화. 텔리포트 설치를\"</td>\n",
       "    </tr>\n",
       "  </tbody>\n",
       "</table>\n",
       "<p>109 rows × 3 columns</p>\n",
       "</div>"
      ],
      "text/plain": [
       "      언론사           날짜                       제목\n",
       "0    연합뉴스  1990.01.17.       朴守敎-林正明 코트서 벤치 대결로\n",
       "1    연합뉴스  1990.01.17.  EC, 한국산 CDP 반덤핑 확정관세 결정\n",
       "2    연합뉴스  1990.01.17.                범용 CAD 개발\n",
       "3    연합뉴스  1990.01.19.       광고업계,제조업 불황속 호황 누려\n",
       "4    연합뉴스  1990.01.21.                  -농구대잔치-\n",
       "..    ...          ...                      ...\n",
       "104  연합뉴스  1990.04.24.                 유형별 위반사례\n",
       "105  연합뉴스  1990.04.24.      8개 財閥기업 不動産취득 규정 위반\n",
       "106  연합뉴스  1990.04.24.                      별 표\n",
       "107  연합뉴스  1990.04.24.             <표> 유형별 위반사례\n",
       "108  연합뉴스  1990.04.28.     \"컴퓨터교육 강화. 텔리포트 설치를\"\n",
       "\n",
       "[109 rows x 3 columns]"
      ]
     },
     "execution_count": 103,
     "metadata": {},
     "output_type": "execute_result"
    }
   ],
   "source": [
    "# df로 만들기\n",
    "\n",
    "df = pd.DataFrame(list(zip(news_list, date_list, title_list)), columns = ['언론사','날짜', '제목'])\n",
    "\n",
    "df\n",
    "\n",
    "# csv로 뽑기\n",
    "# df.to_csv('.csv')"
   ]
  },
  {
   "cell_type": "code",
   "execution_count": null,
   "id": "41a118e5",
   "metadata": {
    "ExecuteTime": {
     "end_time": "2022-07-27T07:44:21.629118Z",
     "start_time": "2022-07-27T07:44:21.625715Z"
    }
   },
   "outputs": [],
   "source": [
    "for i in range(5):\n",
    "    print(i)"
   ]
  },
  {
   "cell_type": "code",
   "execution_count": null,
   "id": "a23af776",
   "metadata": {},
   "outputs": [],
   "source": []
  }
 ],
 "metadata": {
  "kernelspec": {
   "display_name": "Python 3 (ipykernel)",
   "language": "python",
   "name": "python3"
  },
  "language_info": {
   "codemirror_mode": {
    "name": "ipython",
    "version": 3
   },
   "file_extension": ".py",
   "mimetype": "text/x-python",
   "name": "python",
   "nbconvert_exporter": "python",
   "pygments_lexer": "ipython3",
   "version": "3.9.12"
  },
  "toc": {
   "base_numbering": 1,
   "nav_menu": {},
   "number_sections": false,
   "sideBar": true,
   "skip_h1_title": false,
   "title_cell": "Table of Contents",
   "title_sidebar": "Contents",
   "toc_cell": false,
   "toc_position": {
    "height": "895px",
    "left": "69px",
    "top": "111.141px",
    "width": "165px"
   },
   "toc_section_display": true,
   "toc_window_display": false
  }
 },
 "nbformat": 4,
 "nbformat_minor": 5
}
