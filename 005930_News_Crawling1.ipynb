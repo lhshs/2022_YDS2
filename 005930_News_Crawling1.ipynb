{
 "cells": [
  {
   "cell_type": "code",
   "execution_count": null,
   "id": "a75c3e83",
   "metadata": {
    "ExecuteTime": {
     "end_time": "2022-07-27T02:47:44.617940Z",
     "start_time": "2022-07-27T02:47:44.407147Z"
    }
   },
   "outputs": [],
   "source": [
    "# 라이브러리 import\n",
    "import os\n",
    "import pandas as pd\n",
    "import numpy as np\n",
    "import math \n",
    "\n",
    "# 셀레늄\n",
    "from selenium.webdriver.common.alert import Alert\n",
    "from selenium import webdriver  # 라이브러리(모듈) 가져오라\n",
    "# pip install chromedriver_autoinstaller\n",
    "from selenium.webdriver.common.keys import Keys\n",
    "from selenium.webdriver import ActionChains as AC\n",
    "\n",
    "# tqdm : for문 진행상황 체크\n",
    "from tqdm import tqdm, tqdm_notebook\n",
    "from tqdm.notebook import tqdm\n",
    "\n",
    "# 정규표현식(regular expression) : 문자(알파벳,한글), 숫자, 특수기호 정제 및 추출\n",
    "import re\n",
    "from time import sleep\n",
    "import time\n",
    "\n",
    "# 워닝 무시\n",
    "import warnings\n",
    "warnings.filterwarnings('ignore')"
   ]
  },
  {
   "cell_type": "markdown",
   "id": "3780f714",
   "metadata": {},
   "source": [
    "# for문으로 크롤링 "
   ]
  },
  {
   "cell_type": "code",
   "execution_count": null,
   "id": "c838b67f",
   "metadata": {
    "ExecuteTime": {
     "end_time": "2022-07-27T02:47:59.943176Z",
     "start_time": "2022-07-27T02:47:50.844911Z"
    }
   },
   "outputs": [],
   "source": [
    "# 검색어 입력\n",
    "search = '삼성전자'\n",
    "\n",
    "# 크롬 옵션\n",
    "options = webdriver.ChromeOptions()\n",
    "\n",
    "# 크롬 윈도우 사이즈 조절\n",
    "options.add_argument(\"--window-size=1000,1200\") # window-size -> 기본 : 1920,1080\n",
    "\n",
    "import chromedriver_autoinstaller\n",
    "\n",
    "chrome_path = chromedriver_autoinstaller.install()\n",
    "driver = webdriver.Chrome(chrome_path, options=options)\n",
    "time.sleep(0.01)\n",
    "driver.get(\"https://www.naver.com\") # -> 네이버 크롬 창이 뜬다.\n",
    "\n",
    "# 네이버 검색어 입력 후 검색\n",
    "element = driver.find_element(\"name\", \"query\") \n",
    "element.clear()  # 혹시 검색창에 존재하는 텍스트 제거\n",
    "\n",
    "element.send_keys(search)  # 검색창에 검색어 전달\n",
    "element.submit()  # 검색 클릭\n",
    "time.sleep(0.01)"
   ]
  },
  {
   "cell_type": "code",
   "execution_count": null,
   "id": "746a5ad1",
   "metadata": {
    "ExecuteTime": {
     "end_time": "2022-07-27T02:48:33.336600Z",
     "start_time": "2022-07-27T02:48:31.987833Z"
    }
   },
   "outputs": [],
   "source": [
    "# 뉴스 클릭\n",
    "driver.find_element(\"link text\", \"뉴스\").click() \n",
    "time.sleep(0.01)"
   ]
  },
  {
   "cell_type": "code",
   "execution_count": null,
   "id": "62e6071d",
   "metadata": {
    "ExecuteTime": {
     "end_time": "2022-07-27T02:48:34.196381Z",
     "start_time": "2022-07-27T02:48:33.338849Z"
    }
   },
   "outputs": [],
   "source": [
    "# '오래된 순' 클릭\n",
    "driver.find_element(\"link text\", \"오래된순\").click()  \n",
    "time.sleep(0.01)"
   ]
  },
  {
   "cell_type": "code",
   "execution_count": null,
   "id": "248a9a92",
   "metadata": {
    "ExecuteTime": {
     "end_time": "2022-07-27T04:55:47.369442Z",
     "start_time": "2022-07-27T04:50:21.309244Z"
    },
    "scrolled": true
   },
   "outputs": [],
   "source": [
    "# 뉴스 데이터 수집\n",
    "# news_list = []\n",
    "# date_list = []\n",
    "# title_list = []\n",
    "\n",
    "for i in range(400):    \n",
    "\n",
    "    # 언론사\n",
    "    newses = driver.find_elements('css selector', 'a.info.press')\n",
    "    temp_list = []\n",
    "    for news in newses:\n",
    "        temp_list.append(news.text)\n",
    "        temp_list = [x for x in temp_list ]\n",
    "    news_list = news_list + temp_list \n",
    "    \n",
    "    # 날짜\n",
    "    dates = driver.find_elements('css selector', 'span.info')\n",
    "    temp_list = []\n",
    "    for date in dates:\n",
    "        temp_list.append(date.text)\n",
    "        temp_list = [x for x in temp_list ]\n",
    "    date_list = date_list + temp_list \n",
    "    \n",
    "    # 제목\n",
    "    titles = driver.find_elements('css selector', 'a.news_tit')\n",
    "    temp_list = []\n",
    "    for title in titles:\n",
    "        temp_list.append(title.text)\n",
    "        temp_list = [x for x in temp_list ]\n",
    "    title_list = title_list + temp_list \n",
    "    \n",
    "    # 다음페이지 클릭\n",
    "    driver.find_element('css selector', 'a.btn_next').click()\n",
    "    time.sleep(0.001)\n",
    "\n",
    "print(len(title_list))\n",
    "print(news_list)\n",
    "print(date_list)\n",
    "print(title_list)"
   ]
  },
  {
   "cell_type": "code",
   "execution_count": null,
   "id": "41363e7a",
   "metadata": {
    "ExecuteTime": {
     "end_time": "2022-07-27T04:57:06.101508Z",
     "start_time": "2022-07-27T04:57:05.976650Z"
    }
   },
   "outputs": [],
   "source": [
    "# df로 만들기\n",
    "\n",
    "df = pd.DataFrame(list(zip(news_list, date_list, title_list)), columns = ['언론사','날짜', '제목'])\n",
    "\n",
    "df\n",
    "\n",
    "# csv로 뽑기\n",
    "# df.to_csv('.csv')"
   ]
  }
 ],
 "metadata": {
  "kernelspec": {
   "display_name": "Python 3 (ipykernel)",
   "language": "python",
   "name": "python3"
  },
  "language_info": {
   "codemirror_mode": {
    "name": "ipython",
    "version": 3
   },
   "file_extension": ".py",
   "mimetype": "text/x-python",
   "name": "python",
   "nbconvert_exporter": "python",
   "pygments_lexer": "ipython3",
   "version": "3.8.13"
  },
  "toc": {
   "base_numbering": 1,
   "nav_menu": {},
   "number_sections": false,
   "sideBar": true,
   "skip_h1_title": false,
   "title_cell": "Table of Contents",
   "title_sidebar": "Contents",
   "toc_cell": false,
   "toc_position": {
    "height": "895px",
    "left": "69px",
    "top": "111.141px",
    "width": "165px"
   },
   "toc_section_display": true,
   "toc_window_display": false
  }
 },
 "nbformat": 4,
 "nbformat_minor": 5
}
