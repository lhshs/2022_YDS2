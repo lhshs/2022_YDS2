{
 "cells": [
  {
   "cell_type": "markdown",
   "id": "e0d83dc6",
   "metadata": {},
   "source": [
    "1748 수 이어 쓰기 1 : https://www.acmicpc.net/problem/1748"
   ]
  },
  {
   "cell_type": "markdown",
   "id": "aa92b38b",
   "metadata": {},
   "source": [
    "# 나의 풀이"
   ]
  },
  {
   "cell_type": "markdown",
   "id": "ecd548c9",
   "metadata": {},
   "source": [
    "- 12345 -> 5 / 1부터 5까지\n",
    "- 123456789101112131415 -> 21 / 1부터 15까지"
   ]
  },
  {
   "cell_type": "markdown",
   "id": "b68a7ccb",
   "metadata": {},
   "source": [
    "- n의 자리 수 범위 : 10 ** (len(n)-1) ~ (10 ** len(n))-1\n",
    "- n을 받았을 때, 범위를 구한 후 범위의 첫 숫자부터 n까지 len(n)씩 count한다\n",
    "- len(n)이 1이면 그만한다\n",
    "- len(n)이 1이 아니면 범위의 첫 숫자에서 1을 뺀 값을 n으로 한 후 앞 과정을 반복한다"
   ]
  },
  {
   "cell_type": "code",
   "execution_count": 2,
   "id": "63cd2f86",
   "metadata": {
    "ExecuteTime": {
     "end_time": "2022-08-30T09:12:14.282890Z",
     "start_time": "2022-08-30T09:12:14.272889Z"
    }
   },
   "outputs": [
    {
     "data": {
      "text/plain": [
       "21"
      ]
     },
     "execution_count": 2,
     "metadata": {},
     "output_type": "execute_result"
    }
   ],
   "source": [
    "len('123456789101112131415')"
   ]
  },
  {
   "cell_type": "code",
   "execution_count": 4,
   "id": "c1034ed6",
   "metadata": {
    "ExecuteTime": {
     "end_time": "2022-08-30T09:32:03.782054Z",
     "start_time": "2022-08-30T09:32:03.777078Z"
    }
   },
   "outputs": [
    {
     "data": {
      "text/plain": [
       "100"
      ]
     },
     "execution_count": 4,
     "metadata": {},
     "output_type": "execute_result"
    }
   ],
   "source": [
    "n = 10\n",
    "a = 2\n",
    "n**a"
   ]
  },
  {
   "cell_type": "markdown",
   "id": "5625a95d",
   "metadata": {},
   "source": [
    "# 풀이"
   ]
  },
  {
   "cell_type": "code",
   "execution_count": null,
   "id": "3d6acc8a",
   "metadata": {},
   "outputs": [],
   "source": [
    "n = input()\n",
    "result = 0\n",
    "for i in range(1,len(n)):\n",
    "    result+=9*10**(i-1)*i\n",
    "result +=(int(n)-10**(len(n)-1)+1)*len(n)\n",
    "print(result)"
   ]
  },
  {
   "cell_type": "markdown",
   "id": "d1f14b2e",
   "metadata": {},
   "source": [
    "- 한 자리수 길이 총 합 = 9 * 1\n",
    "- 두 자리수 길이 총 합 = 90 * 2\n",
    "- 세 자리수 길이 총 합 = 900 * 3\n",
    "\n",
    "- 최종 자리수 : n에서 해당 자리수 값을 빼고(n까지 몇 개인지 세기 위해), + 1(10, 100, .. 등의 값 포함) 한 뒤 자리수 값만큼 곱해준다"
   ]
  },
  {
   "cell_type": "code",
   "execution_count": null,
   "id": "58c292b2",
   "metadata": {},
   "outputs": [],
   "source": []
  }
 ],
 "metadata": {
  "kernelspec": {
   "display_name": "Python 3 (ipykernel)",
   "language": "python",
   "name": "python3"
  },
  "language_info": {
   "codemirror_mode": {
    "name": "ipython",
    "version": 3
   },
   "file_extension": ".py",
   "mimetype": "text/x-python",
   "name": "python",
   "nbconvert_exporter": "python",
   "pygments_lexer": "ipython3",
   "version": "3.9.12"
  },
  "toc": {
   "base_numbering": 1,
   "nav_menu": {},
   "number_sections": false,
   "sideBar": true,
   "skip_h1_title": false,
   "title_cell": "Table of Contents",
   "title_sidebar": "Contents",
   "toc_cell": false,
   "toc_position": {},
   "toc_section_display": true,
   "toc_window_display": true
  }
 },
 "nbformat": 4,
 "nbformat_minor": 5
}
