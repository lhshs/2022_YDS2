{
 "cells": [
  {
   "cell_type": "code",
   "execution_count": 46,
   "id": "bf964671",
   "metadata": {
    "ExecuteTime": {
     "end_time": "2022-08-03T07:15:53.197032Z",
     "start_time": "2022-08-03T07:15:50.496546Z"
    }
   },
   "outputs": [],
   "source": [
    "import pandas as pd\n",
    "import numpy as np\n",
    "import matplotlib.pyplot as plt\n",
    "import re\n",
    "import urllib.request\n",
    "from konlpy.tag import Okt\n",
    "from tqdm import tqdm\n",
    "from tensorflow.keras.preprocessing.text import Tokenizer\n",
    "from tensorflow.keras.preprocessing.sequence import pad_sequences"
   ]
  },
  {
   "cell_type": "markdown",
   "id": "3de1a59c",
   "metadata": {},
   "source": [
    "## 데이터 로드"
   ]
  },
  {
   "cell_type": "code",
   "execution_count": 2,
   "id": "8e571d43",
   "metadata": {
    "ExecuteTime": {
     "end_time": "2022-08-03T06:51:25.804774Z",
     "start_time": "2022-08-03T06:51:19.357652Z"
    }
   },
   "outputs": [],
   "source": [
    "df = pd.read_csv('df_labeled.csv', index_col = 0).drop_duplicates()\n"
   ]
  },
  {
   "cell_type": "code",
   "execution_count": 3,
   "id": "95702b9f",
   "metadata": {
    "ExecuteTime": {
     "end_time": "2022-08-03T06:51:25.813964Z",
     "start_time": "2022-08-03T06:51:25.805794Z"
    }
   },
   "outputs": [
    {
     "data": {
      "text/html": [
       "<div>\n",
       "<style scoped>\n",
       "    .dataframe tbody tr th:only-of-type {\n",
       "        vertical-align: middle;\n",
       "    }\n",
       "\n",
       "    .dataframe tbody tr th {\n",
       "        vertical-align: top;\n",
       "    }\n",
       "\n",
       "    .dataframe thead th {\n",
       "        text-align: right;\n",
       "    }\n",
       "</style>\n",
       "<table border=\"1\" class=\"dataframe\">\n",
       "  <thead>\n",
       "    <tr style=\"text-align: right;\">\n",
       "      <th></th>\n",
       "      <th>Press</th>\n",
       "      <th>Date</th>\n",
       "      <th>Title</th>\n",
       "      <th>Change</th>\n",
       "    </tr>\n",
       "  </thead>\n",
       "  <tbody>\n",
       "    <tr>\n",
       "      <th>0</th>\n",
       "      <td>연합뉴스</td>\n",
       "      <td>1998-05-20</td>\n",
       "      <td>주가 사흘째 상승세</td>\n",
       "      <td>0</td>\n",
       "    </tr>\n",
       "    <tr>\n",
       "      <th>1</th>\n",
       "      <td>연합뉴스</td>\n",
       "      <td>1998-05-20</td>\n",
       "      <td>아남텔레콤, PDA 데이터 전송서비스 개시</td>\n",
       "      <td>0</td>\n",
       "    </tr>\n",
       "    <tr>\n",
       "      <th>2</th>\n",
       "      <td>연합뉴스</td>\n",
       "      <td>1998-05-20</td>\n",
       "      <td>&lt;회전목마&gt; 삼성전자, 사이버 사외보 제작</td>\n",
       "      <td>0</td>\n",
       "    </tr>\n",
       "    <tr>\n",
       "      <th>3</th>\n",
       "      <td>연합뉴스</td>\n",
       "      <td>1998-05-20</td>\n",
       "      <td>&lt;주식시황&gt; 사흘째 상승, 3백70선 다가서</td>\n",
       "      <td>0</td>\n",
       "    </tr>\n",
       "    <tr>\n",
       "      <th>4</th>\n",
       "      <td>연합뉴스</td>\n",
       "      <td>1998-05-20</td>\n",
       "      <td>-춘계승마- 신창무,싼졸쥬마장마술 우승</td>\n",
       "      <td>0</td>\n",
       "    </tr>\n",
       "    <tr>\n",
       "      <th>...</th>\n",
       "      <td>...</td>\n",
       "      <td>...</td>\n",
       "      <td>...</td>\n",
       "      <td>...</td>\n",
       "    </tr>\n",
       "    <tr>\n",
       "      <th>3851965</th>\n",
       "      <td>한국경제</td>\n",
       "      <td>2022-07-21</td>\n",
       "      <td>디지털이미지뱅크, 한투등 3개사서 20억원 투자 유치</td>\n",
       "      <td>1</td>\n",
       "    </tr>\n",
       "    <tr>\n",
       "      <th>3851966</th>\n",
       "      <td>한국경제</td>\n",
       "      <td>2022-07-21</td>\n",
       "      <td>[코스닥공시] 세보기계</td>\n",
       "      <td>1</td>\n",
       "    </tr>\n",
       "    <tr>\n",
       "      <th>3851967</th>\n",
       "      <td>한국경제</td>\n",
       "      <td>2022-07-21</td>\n",
       "      <td>전자.통신업체 신용등급도 급상승세</td>\n",
       "      <td>1</td>\n",
       "    </tr>\n",
       "    <tr>\n",
       "      <th>3851968</th>\n",
       "      <td>한국경제</td>\n",
       "      <td>2022-07-21</td>\n",
       "      <td>종합주가 폭락세, 916.01(-37.21) 전장마감</td>\n",
       "      <td>1</td>\n",
       "    </tr>\n",
       "    <tr>\n",
       "      <th>3851969</th>\n",
       "      <td>한국경제</td>\n",
       "      <td>2022-07-21</td>\n",
       "      <td>산자부, 수치제어장치 산.학.연 공동연구 개발에 성공</td>\n",
       "      <td>1</td>\n",
       "    </tr>\n",
       "  </tbody>\n",
       "</table>\n",
       "<p>3675955 rows × 4 columns</p>\n",
       "</div>"
      ],
      "text/plain": [
       "        Press        Date                           Title  Change\n",
       "0        연합뉴스  1998-05-20                     주가 사흘째 상승세        0\n",
       "1        연합뉴스  1998-05-20        아남텔레콤, PDA 데이터 전송서비스 개시        0\n",
       "2        연합뉴스  1998-05-20        <회전목마> 삼성전자, 사이버 사외보 제작        0\n",
       "3        연합뉴스  1998-05-20       <주식시황> 사흘째 상승, 3백70선 다가서        0\n",
       "4        연합뉴스  1998-05-20          -춘계승마- 신창무,싼졸쥬마장마술 우승        0\n",
       "...       ...         ...                             ...     ...\n",
       "3851965  한국경제  2022-07-21  디지털이미지뱅크, 한투등 3개사서 20억원 투자 유치        1\n",
       "3851966  한국경제  2022-07-21                   [코스닥공시] 세보기계        1\n",
       "3851967  한국경제  2022-07-21             전자.통신업체 신용등급도 급상승세        1\n",
       "3851968  한국경제  2022-07-21  종합주가 폭락세, 916.01(-37.21) 전장마감        1\n",
       "3851969  한국경제  2022-07-21  산자부, 수치제어장치 산.학.연 공동연구 개발에 성공        1\n",
       "\n",
       "[3675955 rows x 4 columns]"
      ]
     },
     "execution_count": 3,
     "metadata": {},
     "output_type": "execute_result"
    }
   ],
   "source": [
    "df # = df.groupby(['Date', 'Press'])['Title', 'Change'].mean()"
   ]
  },
  {
   "cell_type": "code",
   "execution_count": 4,
   "id": "7f771e57",
   "metadata": {
    "ExecuteTime": {
     "end_time": "2022-08-03T06:51:25.828680Z",
     "start_time": "2022-08-03T06:51:25.814835Z"
    }
   },
   "outputs": [
    {
     "data": {
      "text/plain": [
       " 1    1838065\n",
       "-1    1707037\n",
       " 0     130853\n",
       "Name: Change, dtype: int64"
      ]
     },
     "execution_count": 4,
     "metadata": {},
     "output_type": "execute_result"
    }
   ],
   "source": [
    "df.Change.value_counts()"
   ]
  },
  {
   "cell_type": "code",
   "execution_count": 5,
   "id": "6ad8f335",
   "metadata": {
    "ExecuteTime": {
     "end_time": "2022-08-03T06:51:25.883936Z",
     "start_time": "2022-08-03T06:51:25.830903Z"
    }
   },
   "outputs": [],
   "source": [
    "df = df.drop(columns=['Press'])"
   ]
  },
  {
   "cell_type": "code",
   "execution_count": 6,
   "id": "2eacad08",
   "metadata": {
    "ExecuteTime": {
     "end_time": "2022-08-03T06:51:25.888780Z",
     "start_time": "2022-08-03T06:51:25.884713Z"
    }
   },
   "outputs": [
    {
     "data": {
      "text/html": [
       "<div>\n",
       "<style scoped>\n",
       "    .dataframe tbody tr th:only-of-type {\n",
       "        vertical-align: middle;\n",
       "    }\n",
       "\n",
       "    .dataframe tbody tr th {\n",
       "        vertical-align: top;\n",
       "    }\n",
       "\n",
       "    .dataframe thead th {\n",
       "        text-align: right;\n",
       "    }\n",
       "</style>\n",
       "<table border=\"1\" class=\"dataframe\">\n",
       "  <thead>\n",
       "    <tr style=\"text-align: right;\">\n",
       "      <th></th>\n",
       "      <th>Date</th>\n",
       "      <th>Title</th>\n",
       "      <th>Change</th>\n",
       "    </tr>\n",
       "  </thead>\n",
       "  <tbody>\n",
       "    <tr>\n",
       "      <th>0</th>\n",
       "      <td>1998-05-20</td>\n",
       "      <td>주가 사흘째 상승세</td>\n",
       "      <td>0</td>\n",
       "    </tr>\n",
       "    <tr>\n",
       "      <th>1</th>\n",
       "      <td>1998-05-20</td>\n",
       "      <td>아남텔레콤, PDA 데이터 전송서비스 개시</td>\n",
       "      <td>0</td>\n",
       "    </tr>\n",
       "    <tr>\n",
       "      <th>2</th>\n",
       "      <td>1998-05-20</td>\n",
       "      <td>&lt;회전목마&gt; 삼성전자, 사이버 사외보 제작</td>\n",
       "      <td>0</td>\n",
       "    </tr>\n",
       "    <tr>\n",
       "      <th>3</th>\n",
       "      <td>1998-05-20</td>\n",
       "      <td>&lt;주식시황&gt; 사흘째 상승, 3백70선 다가서</td>\n",
       "      <td>0</td>\n",
       "    </tr>\n",
       "    <tr>\n",
       "      <th>4</th>\n",
       "      <td>1998-05-20</td>\n",
       "      <td>-춘계승마- 신창무,싼졸쥬마장마술 우승</td>\n",
       "      <td>0</td>\n",
       "    </tr>\n",
       "    <tr>\n",
       "      <th>...</th>\n",
       "      <td>...</td>\n",
       "      <td>...</td>\n",
       "      <td>...</td>\n",
       "    </tr>\n",
       "    <tr>\n",
       "      <th>3851965</th>\n",
       "      <td>2022-07-21</td>\n",
       "      <td>디지털이미지뱅크, 한투등 3개사서 20억원 투자 유치</td>\n",
       "      <td>1</td>\n",
       "    </tr>\n",
       "    <tr>\n",
       "      <th>3851966</th>\n",
       "      <td>2022-07-21</td>\n",
       "      <td>[코스닥공시] 세보기계</td>\n",
       "      <td>1</td>\n",
       "    </tr>\n",
       "    <tr>\n",
       "      <th>3851967</th>\n",
       "      <td>2022-07-21</td>\n",
       "      <td>전자.통신업체 신용등급도 급상승세</td>\n",
       "      <td>1</td>\n",
       "    </tr>\n",
       "    <tr>\n",
       "      <th>3851968</th>\n",
       "      <td>2022-07-21</td>\n",
       "      <td>종합주가 폭락세, 916.01(-37.21) 전장마감</td>\n",
       "      <td>1</td>\n",
       "    </tr>\n",
       "    <tr>\n",
       "      <th>3851969</th>\n",
       "      <td>2022-07-21</td>\n",
       "      <td>산자부, 수치제어장치 산.학.연 공동연구 개발에 성공</td>\n",
       "      <td>1</td>\n",
       "    </tr>\n",
       "  </tbody>\n",
       "</table>\n",
       "<p>3675955 rows × 3 columns</p>\n",
       "</div>"
      ],
      "text/plain": [
       "               Date                           Title  Change\n",
       "0        1998-05-20                     주가 사흘째 상승세        0\n",
       "1        1998-05-20        아남텔레콤, PDA 데이터 전송서비스 개시        0\n",
       "2        1998-05-20        <회전목마> 삼성전자, 사이버 사외보 제작        0\n",
       "3        1998-05-20       <주식시황> 사흘째 상승, 3백70선 다가서        0\n",
       "4        1998-05-20          -춘계승마- 신창무,싼졸쥬마장마술 우승        0\n",
       "...             ...                             ...     ...\n",
       "3851965  2022-07-21  디지털이미지뱅크, 한투등 3개사서 20억원 투자 유치        1\n",
       "3851966  2022-07-21                   [코스닥공시] 세보기계        1\n",
       "3851967  2022-07-21             전자.통신업체 신용등급도 급상승세        1\n",
       "3851968  2022-07-21  종합주가 폭락세, 916.01(-37.21) 전장마감        1\n",
       "3851969  2022-07-21  산자부, 수치제어장치 산.학.연 공동연구 개발에 성공        1\n",
       "\n",
       "[3675955 rows x 3 columns]"
      ]
     },
     "execution_count": 6,
     "metadata": {},
     "output_type": "execute_result"
    }
   ],
   "source": [
    "df"
   ]
  },
  {
   "cell_type": "code",
   "execution_count": 7,
   "id": "fd77f7ee",
   "metadata": {
    "ExecuteTime": {
     "end_time": "2022-08-03T06:51:29.153541Z",
     "start_time": "2022-08-03T06:51:25.889563Z"
    }
   },
   "outputs": [],
   "source": [
    "df = df.groupby(['Date','Change']).sum()"
   ]
  },
  {
   "cell_type": "markdown",
   "id": "0cb9eb29",
   "metadata": {},
   "source": [
    "날짜와 변동을 기준으로 groupby"
   ]
  },
  {
   "cell_type": "code",
   "execution_count": 12,
   "id": "805d00c0",
   "metadata": {
    "ExecuteTime": {
     "end_time": "2022-08-03T06:52:03.836141Z",
     "start_time": "2022-08-03T06:52:03.832739Z"
    }
   },
   "outputs": [],
   "source": [
    "df=df.iloc[7:,:]    # '1995-05.28'일자부터 설정"
   ]
  },
  {
   "cell_type": "code",
   "execution_count": 29,
   "id": "509505d3",
   "metadata": {
    "ExecuteTime": {
     "end_time": "2022-08-03T07:03:04.059902Z",
     "start_time": "2022-08-03T07:03:04.041711Z"
    }
   },
   "outputs": [
    {
     "data": {
      "text/html": [
       "<div>\n",
       "<style scoped>\n",
       "    .dataframe tbody tr th:only-of-type {\n",
       "        vertical-align: middle;\n",
       "    }\n",
       "\n",
       "    .dataframe tbody tr th {\n",
       "        vertical-align: top;\n",
       "    }\n",
       "\n",
       "    .dataframe thead th {\n",
       "        text-align: right;\n",
       "    }\n",
       "</style>\n",
       "<table border=\"1\" class=\"dataframe\">\n",
       "  <thead>\n",
       "    <tr style=\"text-align: right;\">\n",
       "      <th></th>\n",
       "      <th>Date</th>\n",
       "      <th>Change</th>\n",
       "      <th>Title</th>\n",
       "    </tr>\n",
       "  </thead>\n",
       "  <tbody>\n",
       "    <tr>\n",
       "      <th>0</th>\n",
       "      <td>1998-05-28</td>\n",
       "      <td>1</td>\n",
       "      <td>주가 상승세 삼성전자, 하나더 판촉 확대실시 &lt;주식시황&gt; 주가 상승 3백20선 회복...</td>\n",
       "    </tr>\n",
       "    <tr>\n",
       "      <th>1</th>\n",
       "      <td>1998-05-29</td>\n",
       "      <td>1</td>\n",
       "      <td>&lt; 6.4선거 이후의 과제 &gt; ...(下) 대기업그룹별 현안 전자업계 수출드라이브,...</td>\n",
       "    </tr>\n",
       "    <tr>\n",
       "      <th>2</th>\n",
       "      <td>1998-05-30</td>\n",
       "      <td>-1</td>\n",
       "      <td>정보통신업계, `실직자를 잡아라' 주가 하락세 반전 삼성전자, 세계 공용 DVD 개...</td>\n",
       "    </tr>\n",
       "    <tr>\n",
       "      <th>3</th>\n",
       "      <td>1998-06-01</td>\n",
       "      <td>-1</td>\n",
       "      <td>&lt;회전목마&gt; 삼성전자, 인터넷잡지 창간 지난해 상장기업 수출 28.8% 증가 현대전...</td>\n",
       "    </tr>\n",
       "    <tr>\n",
       "      <th>4</th>\n",
       "      <td>1998-06-02</td>\n",
       "      <td>-1</td>\n",
       "      <td>공장도價 과다 책정...소비자불신 초래 &lt;약수터&gt; 환경부 고위공직자 근무지이탈 말썽...</td>\n",
       "    </tr>\n",
       "    <tr>\n",
       "      <th>...</th>\n",
       "      <td>...</td>\n",
       "      <td>...</td>\n",
       "      <td>...</td>\n",
       "    </tr>\n",
       "    <tr>\n",
       "      <th>8685</th>\n",
       "      <td>2022-07-17</td>\n",
       "      <td>1</td>\n",
       "      <td>安통산장관, 무역업계와 간담회 삼성전자, 인력재배치 작업 본격화 삼성전자,2백40만...</td>\n",
       "    </tr>\n",
       "    <tr>\n",
       "      <th>8686</th>\n",
       "      <td>2022-07-18</td>\n",
       "      <td>1</td>\n",
       "      <td>불경기에도 자동차.화장품 광고는 활발 &lt;주식시황&gt; 주가, 큰 폭 상승 삼성전자 정보...</td>\n",
       "    </tr>\n",
       "    <tr>\n",
       "      <th>8687</th>\n",
       "      <td>2022-07-19</td>\n",
       "      <td>-1</td>\n",
       "      <td>반도체 업체들, 보따리장사로 골머리 주가 이틀째 급상승 三星電子, 세계 최경량 PC...</td>\n",
       "    </tr>\n",
       "    <tr>\n",
       "      <th>8688</th>\n",
       "      <td>2022-07-20</td>\n",
       "      <td>-1</td>\n",
       "      <td>삼성전자 반도체 전문 서비스센터 개설 삼성전관, `6시그마운동' 설명회 개최 상장사...</td>\n",
       "    </tr>\n",
       "    <tr>\n",
       "      <th>8689</th>\n",
       "      <td>2022-07-21</td>\n",
       "      <td>1</td>\n",
       "      <td>D램 모듈 내수가격 큰 폭 하락 &lt;표&gt; 기업집단별.회사별 과징금 부과내역 공정위 조...</td>\n",
       "    </tr>\n",
       "  </tbody>\n",
       "</table>\n",
       "<p>8690 rows × 3 columns</p>\n",
       "</div>"
      ],
      "text/plain": [
       "            Date  Change                                              Title\n",
       "0     1998-05-28       1  주가 상승세 삼성전자, 하나더 판촉 확대실시 <주식시황> 주가 상승 3백20선 회복...\n",
       "1     1998-05-29       1  < 6.4선거 이후의 과제 > ...(下) 대기업그룹별 현안 전자업계 수출드라이브,...\n",
       "2     1998-05-30      -1  정보통신업계, `실직자를 잡아라' 주가 하락세 반전 삼성전자, 세계 공용 DVD 개...\n",
       "3     1998-06-01      -1  <회전목마> 삼성전자, 인터넷잡지 창간 지난해 상장기업 수출 28.8% 증가 현대전...\n",
       "4     1998-06-02      -1  공장도價 과다 책정...소비자불신 초래 <약수터> 환경부 고위공직자 근무지이탈 말썽...\n",
       "...          ...     ...                                                ...\n",
       "8685  2022-07-17       1  安통산장관, 무역업계와 간담회 삼성전자, 인력재배치 작업 본격화 삼성전자,2백40만...\n",
       "8686  2022-07-18       1  불경기에도 자동차.화장품 광고는 활발 <주식시황> 주가, 큰 폭 상승 삼성전자 정보...\n",
       "8687  2022-07-19      -1  반도체 업체들, 보따리장사로 골머리 주가 이틀째 급상승 三星電子, 세계 최경량 PC...\n",
       "8688  2022-07-20      -1  삼성전자 반도체 전문 서비스센터 개설 삼성전관, `6시그마운동' 설명회 개최 상장사...\n",
       "8689  2022-07-21       1  D램 모듈 내수가격 큰 폭 하락 <표> 기업집단별.회사별 과징금 부과내역 공정위 조...\n",
       "\n",
       "[8690 rows x 3 columns]"
      ]
     },
     "execution_count": 29,
     "metadata": {},
     "output_type": "execute_result"
    }
   ],
   "source": [
    "df = df.reset_index().drop(columns=['index', 'level_0'])\n",
    "df"
   ]
  },
  {
   "cell_type": "code",
   "execution_count": 30,
   "id": "0f4149d0",
   "metadata": {
    "ExecuteTime": {
     "end_time": "2022-08-03T07:03:08.219862Z",
     "start_time": "2022-08-03T07:03:08.215298Z"
    }
   },
   "outputs": [
    {
     "data": {
      "text/plain": [
       "6952"
      ]
     },
     "execution_count": 30,
     "metadata": {},
     "output_type": "execute_result"
    }
   ],
   "source": [
    "train_ratio = 0.8\n",
    "train_range = int(len(df) * train_ratio)\n",
    "train_range"
   ]
  },
  {
   "cell_type": "code",
   "execution_count": 31,
   "id": "75d78b16",
   "metadata": {
    "ExecuteTime": {
     "end_time": "2022-08-03T07:03:08.982820Z",
     "start_time": "2022-08-03T07:03:08.979605Z"
    }
   },
   "outputs": [],
   "source": [
    "train_data = df[:train_range]\n",
    "test_data = df[train_range:]"
   ]
  },
  {
   "cell_type": "code",
   "execution_count": 32,
   "id": "1e25504f",
   "metadata": {
    "ExecuteTime": {
     "end_time": "2022-08-03T07:03:09.885633Z",
     "start_time": "2022-08-03T07:03:09.881797Z"
    }
   },
   "outputs": [
    {
     "name": "stdout",
     "output_type": "stream",
     "text": [
      "6952 1738\n"
     ]
    }
   ],
   "source": [
    "print(len(train_data), len(test_data))"
   ]
  },
  {
   "cell_type": "markdown",
   "id": "021ae708",
   "metadata": {},
   "source": [
    "## 데이터 정제하기"
   ]
  },
  {
   "cell_type": "code",
   "execution_count": 33,
   "id": "e0f1ce38",
   "metadata": {
    "ExecuteTime": {
     "end_time": "2022-08-03T07:03:19.962224Z",
     "start_time": "2022-08-03T07:03:19.084687Z"
    }
   },
   "outputs": [
    {
     "data": {
      "text/plain": [
       "<AxesSubplot:>"
      ]
     },
     "execution_count": 33,
     "metadata": {},
     "output_type": "execute_result"
    },
    {
     "data": {
      "image/png": "[encoded data removed]",
      "text/plain": [
       "<Figure size 432x288 with 1 Axes>"
      ]
     },
     "metadata": {
      "needs_background": "light"
     },
     "output_type": "display_data"
    }
   ],
   "source": [
    "train_data.Change.value_counts().plot(kind = 'bar')"
   ]
  },
  {
   "cell_type": "code",
   "execution_count": 38,
   "id": "3f8f5b5e",
   "metadata": {
    "ExecuteTime": {
     "end_time": "2022-08-03T07:04:04.946616Z",
     "start_time": "2022-08-03T07:04:04.934755Z"
    }
   },
   "outputs": [
    {
     "data": {
      "text/plain": [
       "Date      0\n",
       "Change    0\n",
       "Title     0\n",
       "dtype: int64"
      ]
     },
     "execution_count": 38,
     "metadata": {},
     "output_type": "execute_result"
    }
   ],
   "source": [
    "# Null값 확인\n",
    "train_data.isnull().sum()"
   ]
  },
  {
   "cell_type": "code",
   "execution_count": 39,
   "id": "1c6a2745",
   "metadata": {
    "ExecuteTime": {
     "end_time": "2022-08-03T07:04:42.740226Z",
     "start_time": "2022-08-03T07:04:41.218938Z"
    }
   },
   "outputs": [
    {
     "name": "stderr",
     "output_type": "stream",
     "text": [
      "/var/folders/1d/lfkpl6ps02xgh0rdprtbmgvw0000gn/T/ipykernel_3710/3310472941.py:2: FutureWarning: The default value of regex will change from True to False in a future version.\n",
      "  train_data['Title'] = train_data['Title'].str.replace(\"[^ㄱ-ㅎㅏ-ㅣ가-힣 ]\",\"\")\n",
      "/var/folders/1d/lfkpl6ps02xgh0rdprtbmgvw0000gn/T/ipykernel_3710/3310472941.py:2: SettingWithCopyWarning: \n",
      "A value is trying to be set on a copy of a slice from a DataFrame.\n",
      "Try using .loc[row_indexer,col_indexer] = value instead\n",
      "\n",
      "See the caveats in the documentation: https://pandas.pydata.org/pandas-docs/stable/user_guide/indexing.html#returning-a-view-versus-a-copy\n",
      "  train_data['Title'] = train_data['Title'].str.replace(\"[^ㄱ-ㅎㅏ-ㅣ가-힣 ]\",\"\")\n"
     ]
    },
    {
     "data": {
      "text/html": [
       "<div>\n",
       "<style scoped>\n",
       "    .dataframe tbody tr th:only-of-type {\n",
       "        vertical-align: middle;\n",
       "    }\n",
       "\n",
       "    .dataframe tbody tr th {\n",
       "        vertical-align: top;\n",
       "    }\n",
       "\n",
       "    .dataframe thead th {\n",
       "        text-align: right;\n",
       "    }\n",
       "</style>\n",
       "<table border=\"1\" class=\"dataframe\">\n",
       "  <thead>\n",
       "    <tr style=\"text-align: right;\">\n",
       "      <th></th>\n",
       "      <th>Date</th>\n",
       "      <th>Change</th>\n",
       "      <th>Title</th>\n",
       "    </tr>\n",
       "  </thead>\n",
       "  <tbody>\n",
       "    <tr>\n",
       "      <th>0</th>\n",
       "      <td>1998-05-28</td>\n",
       "      <td>1</td>\n",
       "      <td>주가 상승세 삼성전자 하나더 판촉 확대실시 주식시황 주가 상승 백선 회복 특집  체...</td>\n",
       "    </tr>\n",
       "    <tr>\n",
       "      <th>1</th>\n",
       "      <td>1998-05-29</td>\n",
       "      <td>1</td>\n",
       "      <td>선거 이후의 과제   대기업그룹별 현안 전자업계 수출드라이브 해외서 견제 심해져 ...</td>\n",
       "    </tr>\n",
       "    <tr>\n",
       "      <th>2</th>\n",
       "      <td>1998-05-30</td>\n",
       "      <td>-1</td>\n",
       "      <td>정보통신업계 실직자를 잡아라 주가 하락세 반전 삼성전자 세계 공용  개발 주식시황 ...</td>\n",
       "    </tr>\n",
       "    <tr>\n",
       "      <th>3</th>\n",
       "      <td>1998-06-01</td>\n",
       "      <td>-1</td>\n",
       "      <td>회전목마 삼성전자 인터넷잡지 창간 지난해 상장기업 수출  증가 현대전자 메모리 반도...</td>\n",
       "    </tr>\n",
       "    <tr>\n",
       "      <th>4</th>\n",
       "      <td>1998-06-02</td>\n",
       "      <td>-1</td>\n",
       "      <td>공장도 과다 책정소비자불신 초래 약수터 환경부 고위공직자 근무지이탈 말썽 주가 큰 ...</td>\n",
       "    </tr>\n",
       "  </tbody>\n",
       "</table>\n",
       "</div>"
      ],
      "text/plain": [
       "         Date  Change                                              Title\n",
       "0  1998-05-28       1  주가 상승세 삼성전자 하나더 판촉 확대실시 주식시황 주가 상승 백선 회복 특집  체...\n",
       "1  1998-05-29       1   선거 이후의 과제   대기업그룹별 현안 전자업계 수출드라이브 해외서 견제 심해져 ...\n",
       "2  1998-05-30      -1  정보통신업계 실직자를 잡아라 주가 하락세 반전 삼성전자 세계 공용  개발 주식시황 ...\n",
       "3  1998-06-01      -1  회전목마 삼성전자 인터넷잡지 창간 지난해 상장기업 수출  증가 현대전자 메모리 반도...\n",
       "4  1998-06-02      -1  공장도 과다 책정소비자불신 초래 약수터 환경부 고위공직자 근무지이탈 말썽 주가 큰 ..."
      ]
     },
     "execution_count": 39,
     "metadata": {},
     "output_type": "execute_result"
    }
   ],
   "source": [
    "# 한글과 공백을 제외하고 모두 제거\n",
    "train_data['Title'] = train_data['Title'].str.replace(\"[^ㄱ-ㅎㅏ-ㅣ가-힣 ]\",\"\")\n",
    "train_data[:5]"
   ]
  },
  {
   "cell_type": "code",
   "execution_count": 42,
   "id": "c7ae278e",
   "metadata": {
    "ExecuteTime": {
     "end_time": "2022-08-03T07:08:38.797050Z",
     "start_time": "2022-08-03T07:08:38.506962Z"
    }
   },
   "outputs": [
    {
     "name": "stderr",
     "output_type": "stream",
     "text": [
      "/var/folders/1d/lfkpl6ps02xgh0rdprtbmgvw0000gn/T/ipykernel_3710/3334806477.py:2: FutureWarning: The default value of regex will change from True to False in a future version.\n",
      "  train_data['Title'] = train_data['Title'].str.replace('^ +', \"\") # white space 데이터를 empty value로 변경\n"
     ]
    },
    {
     "name": "stdout",
     "output_type": "stream",
     "text": [
      "Date      0\n",
      "Change    0\n",
      "Title     0\n",
      "dtype: int64\n"
     ]
    },
    {
     "name": "stderr",
     "output_type": "stream",
     "text": [
      "/var/folders/1d/lfkpl6ps02xgh0rdprtbmgvw0000gn/T/ipykernel_3710/3334806477.py:2: SettingWithCopyWarning: \n",
      "A value is trying to be set on a copy of a slice from a DataFrame.\n",
      "Try using .loc[row_indexer,col_indexer] = value instead\n",
      "\n",
      "See the caveats in the documentation: https://pandas.pydata.org/pandas-docs/stable/user_guide/indexing.html#returning-a-view-versus-a-copy\n",
      "  train_data['Title'] = train_data['Title'].str.replace('^ +', \"\") # white space 데이터를 empty value로 변경\n",
      "/var/folders/1d/lfkpl6ps02xgh0rdprtbmgvw0000gn/T/ipykernel_3710/3334806477.py:3: SettingWithCopyWarning: \n",
      "A value is trying to be set on a copy of a slice from a DataFrame\n",
      "\n",
      "See the caveats in the documentation: https://pandas.pydata.org/pandas-docs/stable/user_guide/indexing.html#returning-a-view-versus-a-copy\n",
      "  train_data['Title'].replace('', np.nan, inplace=True)\n"
     ]
    }
   ],
   "source": [
    "# 한글이 없던 제목은 빈값이 됐을 것, Null로 변경\n",
    "train_data['Title'] = train_data['Title'].str.replace('^ +', \"\") # white space 데이터를 empty value로 변경\n",
    "train_data['Title'].replace('', np.nan, inplace=True)\n",
    "print(train_data.isnull().sum())\n",
    "\n",
    "# Null값 없음\n",
    "# test_data = test_data.dropna(how='any') # Null 값 제거\n"
   ]
  },
  {
   "cell_type": "code",
   "execution_count": 43,
   "id": "c00c2e1b",
   "metadata": {
    "ExecuteTime": {
     "end_time": "2022-08-03T07:11:32.848882Z",
     "start_time": "2022-08-03T07:11:31.114884Z"
    }
   },
   "outputs": [
    {
     "name": "stderr",
     "output_type": "stream",
     "text": [
      "/var/folders/1d/lfkpl6ps02xgh0rdprtbmgvw0000gn/T/ipykernel_3710/180619570.py:3: SettingWithCopyWarning: \n",
      "A value is trying to be set on a copy of a slice from a DataFrame\n",
      "\n",
      "See the caveats in the documentation: https://pandas.pydata.org/pandas-docs/stable/user_guide/indexing.html#returning-a-view-versus-a-copy\n",
      "  test_data.drop_duplicates(subset = ['Title'], inplace=True) # document 열에서 중복인 내용이 있다면 중복 제거\n",
      "/var/folders/1d/lfkpl6ps02xgh0rdprtbmgvw0000gn/T/ipykernel_3710/180619570.py:4: FutureWarning: The default value of regex will change from True to False in a future version.\n",
      "  test_data['Title'] = test_data['Title'].str.replace(\"[^ㄱ-ㅎㅏ-ㅣ가-힣 ]\",\"\") # 정규 표현식 수행\n"
     ]
    },
    {
     "name": "stdout",
     "output_type": "stream",
     "text": [
      "전처리 후 테스트용 샘플의 개수 : 1738\n"
     ]
    },
    {
     "name": "stderr",
     "output_type": "stream",
     "text": [
      "/var/folders/1d/lfkpl6ps02xgh0rdprtbmgvw0000gn/T/ipykernel_3710/180619570.py:4: SettingWithCopyWarning: \n",
      "A value is trying to be set on a copy of a slice from a DataFrame.\n",
      "Try using .loc[row_indexer,col_indexer] = value instead\n",
      "\n",
      "See the caveats in the documentation: https://pandas.pydata.org/pandas-docs/stable/user_guide/indexing.html#returning-a-view-versus-a-copy\n",
      "  test_data['Title'] = test_data['Title'].str.replace(\"[^ㄱ-ㅎㅏ-ㅣ가-힣 ]\",\"\") # 정규 표현식 수행\n",
      "/var/folders/1d/lfkpl6ps02xgh0rdprtbmgvw0000gn/T/ipykernel_3710/180619570.py:5: FutureWarning: The default value of regex will change from True to False in a future version.\n",
      "  test_data['Title'] = test_data['Title'].str.replace('^ +', \"\") # 공백은 empty 값으로 변경\n",
      "/var/folders/1d/lfkpl6ps02xgh0rdprtbmgvw0000gn/T/ipykernel_3710/180619570.py:5: SettingWithCopyWarning: \n",
      "A value is trying to be set on a copy of a slice from a DataFrame.\n",
      "Try using .loc[row_indexer,col_indexer] = value instead\n",
      "\n",
      "See the caveats in the documentation: https://pandas.pydata.org/pandas-docs/stable/user_guide/indexing.html#returning-a-view-versus-a-copy\n",
      "  test_data['Title'] = test_data['Title'].str.replace('^ +', \"\") # 공백은 empty 값으로 변경\n",
      "/var/folders/1d/lfkpl6ps02xgh0rdprtbmgvw0000gn/T/ipykernel_3710/180619570.py:6: SettingWithCopyWarning: \n",
      "A value is trying to be set on a copy of a slice from a DataFrame\n",
      "\n",
      "See the caveats in the documentation: https://pandas.pydata.org/pandas-docs/stable/user_guide/indexing.html#returning-a-view-versus-a-copy\n",
      "  test_data['Title'].replace('', np.nan, inplace=True) # 공백은 Null 값으로 변경\n"
     ]
    }
   ],
   "source": [
    "# 테스트 데이터도 같은 방식으로 전처리\n",
    "\n",
    "test_data.drop_duplicates(subset = ['Title'], inplace=True) # document 열에서 중복인 내용이 있다면 중복 제거\n",
    "test_data['Title'] = test_data['Title'].str.replace(\"[^ㄱ-ㅎㅏ-ㅣ가-힣 ]\",\"\") # 정규 표현식 수행\n",
    "test_data['Title'] = test_data['Title'].str.replace('^ +', \"\") # 공백은 empty 값으로 변경\n",
    "test_data['Title'].replace('', np.nan, inplace=True) # 공백은 Null 값으로 변경\n",
    "test_data = test_data.dropna(how='any') # Null 값 제거\n",
    "print('전처리 후 테스트용 샘플의 개수 :',len(test_data))"
   ]
  },
  {
   "cell_type": "markdown",
   "id": "fa420dd6",
   "metadata": {},
   "source": [
    "## 토큰화"
   ]
  },
  {
   "cell_type": "code",
   "execution_count": null,
   "id": "6e6f56f1",
   "metadata": {},
   "outputs": [],
   "source": [
    "# 불용어 설정\n",
    "stopwords = ['의','가','이','은','들','는','좀','잘','걍','과','도','를','으로','자','에','와','한','하다']\n"
   ]
  },
  {
   "cell_type": "code",
   "execution_count": 47,
   "id": "19ab6c7b",
   "metadata": {
    "ExecuteTime": {
     "end_time": "2022-08-03T07:15:56.524240Z",
     "start_time": "2022-08-03T07:15:56.230240Z"
    }
   },
   "outputs": [
    {
     "ename": "JVMNotFoundException",
     "evalue": "No JVM shared library file (libjli.dylib) found. Try setting up the JAVA_HOME environment variable properly.",
     "output_type": "error",
     "traceback": [
      "\u001b[0;31m---------------------------------------------------------------------------\u001b[0m",
      "\u001b[0;31mJVMNotFoundException\u001b[0m                      Traceback (most recent call last)",
      "Input \u001b[0;32mIn [47]\u001b[0m, in \u001b[0;36m<cell line: 2>\u001b[0;34m()\u001b[0m\n\u001b[1;32m      1\u001b[0m \u001b[38;5;66;03m# 토큰화를 위한 형태소 분석기, KoNLPy의 OKt 사용\u001b[39;00m\n\u001b[0;32m----> 2\u001b[0m okt \u001b[38;5;241m=\u001b[39m \u001b[43mOkt\u001b[49m\u001b[43m(\u001b[49m\u001b[43m)\u001b[49m\n\u001b[1;32m      4\u001b[0m X_train \u001b[38;5;241m=\u001b[39m []\n\u001b[1;32m      5\u001b[0m \u001b[38;5;28;01mfor\u001b[39;00m sentence \u001b[38;5;129;01min\u001b[39;00m tqdm(train_data[\u001b[38;5;124m'\u001b[39m\u001b[38;5;124mTitle\u001b[39m\u001b[38;5;124m'\u001b[39m]):\n",
      "File \u001b[0;32m~/miniforge3/envs/lhs/lib/python3.8/site-packages/konlpy/tag/_okt.py:51\u001b[0m, in \u001b[0;36mOkt.__init__\u001b[0;34m(self, jvmpath, max_heap_size)\u001b[0m\n\u001b[1;32m     49\u001b[0m \u001b[38;5;28;01mdef\u001b[39;00m \u001b[38;5;21m__init__\u001b[39m(\u001b[38;5;28mself\u001b[39m, jvmpath\u001b[38;5;241m=\u001b[39m\u001b[38;5;28;01mNone\u001b[39;00m, max_heap_size\u001b[38;5;241m=\u001b[39m\u001b[38;5;241m1024\u001b[39m):\n\u001b[1;32m     50\u001b[0m     \u001b[38;5;28;01mif\u001b[39;00m \u001b[38;5;129;01mnot\u001b[39;00m jpype\u001b[38;5;241m.\u001b[39misJVMStarted():\n\u001b[0;32m---> 51\u001b[0m         \u001b[43mjvm\u001b[49m\u001b[38;5;241;43m.\u001b[39;49m\u001b[43minit_jvm\u001b[49m\u001b[43m(\u001b[49m\u001b[43mjvmpath\u001b[49m\u001b[43m,\u001b[49m\u001b[43m \u001b[49m\u001b[43mmax_heap_size\u001b[49m\u001b[43m)\u001b[49m\n\u001b[1;32m     53\u001b[0m     oktJavaPackage \u001b[38;5;241m=\u001b[39m jpype\u001b[38;5;241m.\u001b[39mJPackage(\u001b[38;5;124m'\u001b[39m\u001b[38;5;124mkr.lucypark.okt\u001b[39m\u001b[38;5;124m'\u001b[39m)\n\u001b[1;32m     54\u001b[0m     OktInterfaceJavaClass \u001b[38;5;241m=\u001b[39m oktJavaPackage\u001b[38;5;241m.\u001b[39mOktInterface\n",
      "File \u001b[0;32m~/miniforge3/envs/lhs/lib/python3.8/site-packages/konlpy/jvm.py:55\u001b[0m, in \u001b[0;36minit_jvm\u001b[0;34m(jvmpath, max_heap_size)\u001b[0m\n\u001b[1;32m     52\u001b[0m args \u001b[38;5;241m=\u001b[39m [javadir, os\u001b[38;5;241m.\u001b[39msep]\n\u001b[1;32m     53\u001b[0m classpath \u001b[38;5;241m=\u001b[39m [f\u001b[38;5;241m.\u001b[39mformat(\u001b[38;5;241m*\u001b[39margs) \u001b[38;5;28;01mfor\u001b[39;00m f \u001b[38;5;129;01min\u001b[39;00m folder_suffix]\n\u001b[0;32m---> 55\u001b[0m jvmpath \u001b[38;5;241m=\u001b[39m jvmpath \u001b[38;5;129;01mor\u001b[39;00m \u001b[43mjpype\u001b[49m\u001b[38;5;241;43m.\u001b[39;49m\u001b[43mgetDefaultJVMPath\u001b[49m\u001b[43m(\u001b[49m\u001b[43m)\u001b[49m\n\u001b[1;32m     57\u001b[0m \u001b[38;5;66;03m# NOTE: Temporary patch for Issue #76. Erase when possible.\u001b[39;00m\n\u001b[1;32m     58\u001b[0m \u001b[38;5;28;01mif\u001b[39;00m sys\u001b[38;5;241m.\u001b[39mplatform \u001b[38;5;241m==\u001b[39m \u001b[38;5;124m'\u001b[39m\u001b[38;5;124mdarwin\u001b[39m\u001b[38;5;124m'\u001b[39m\\\n\u001b[1;32m     59\u001b[0m         \u001b[38;5;129;01mand\u001b[39;00m jvmpath\u001b[38;5;241m.\u001b[39mfind(\u001b[38;5;124m'\u001b[39m\u001b[38;5;124m1.8.0\u001b[39m\u001b[38;5;124m'\u001b[39m) \u001b[38;5;241m>\u001b[39m \u001b[38;5;241m0\u001b[39m\\\n\u001b[1;32m     60\u001b[0m         \u001b[38;5;129;01mand\u001b[39;00m jvmpath\u001b[38;5;241m.\u001b[39mendswith(\u001b[38;5;124m'\u001b[39m\u001b[38;5;124mlibjvm.dylib\u001b[39m\u001b[38;5;124m'\u001b[39m):\n",
      "File \u001b[0;32m~/miniforge3/envs/lhs/lib/python3.8/site-packages/jpype/_jvmfinder.py:74\u001b[0m, in \u001b[0;36mgetDefaultJVMPath\u001b[0;34m()\u001b[0m\n\u001b[1;32m     72\u001b[0m \u001b[38;5;28;01melse\u001b[39;00m:\n\u001b[1;32m     73\u001b[0m     finder \u001b[38;5;241m=\u001b[39m LinuxJVMFinder()\n\u001b[0;32m---> 74\u001b[0m \u001b[38;5;28;01mreturn\u001b[39;00m \u001b[43mfinder\u001b[49m\u001b[38;5;241;43m.\u001b[39;49m\u001b[43mget_jvm_path\u001b[49m\u001b[43m(\u001b[49m\u001b[43m)\u001b[49m\n",
      "File \u001b[0;32m~/miniforge3/envs/lhs/lib/python3.8/site-packages/jpype/_jvmfinder.py:212\u001b[0m, in \u001b[0;36mJVMFinder.get_jvm_path\u001b[0;34m(self)\u001b[0m\n\u001b[1;32m    210\u001b[0m \u001b[38;5;28;01mif\u001b[39;00m jvm_notsupport_ext \u001b[38;5;129;01mis\u001b[39;00m \u001b[38;5;129;01mnot\u001b[39;00m \u001b[38;5;28;01mNone\u001b[39;00m:\n\u001b[1;32m    211\u001b[0m     \u001b[38;5;28;01mraise\u001b[39;00m jvm_notsupport_ext\n\u001b[0;32m--> 212\u001b[0m \u001b[38;5;28;01mraise\u001b[39;00m JVMNotFoundException(\u001b[38;5;124m\"\u001b[39m\u001b[38;5;124mNo JVM shared library file (\u001b[39m\u001b[38;5;132;01m{0}\u001b[39;00m\u001b[38;5;124m) \u001b[39m\u001b[38;5;124m\"\u001b[39m\n\u001b[1;32m    213\u001b[0m                            \u001b[38;5;124m\"\u001b[39m\u001b[38;5;124mfound. Try setting up the JAVA_HOME \u001b[39m\u001b[38;5;124m\"\u001b[39m\n\u001b[1;32m    214\u001b[0m                            \u001b[38;5;124m\"\u001b[39m\u001b[38;5;124menvironment variable properly.\u001b[39m\u001b[38;5;124m\"\u001b[39m\n\u001b[1;32m    215\u001b[0m                            \u001b[38;5;241m.\u001b[39mformat(\u001b[38;5;28mself\u001b[39m\u001b[38;5;241m.\u001b[39m_libfile))\n",
      "\u001b[0;31mJVMNotFoundException\u001b[0m: No JVM shared library file (libjli.dylib) found. Try setting up the JAVA_HOME environment variable properly."
     ]
    }
   ],
   "source": [
    "# 토큰화를 위한 형태소 분석기, KoNLPy의 OKt 사용\n",
    "okt = Okt()\n",
    "\n",
    "X_train = []\n",
    "for sentence in tqdm(train_data['Title']):\n",
    "    tokenized_sentence = okt.morphs(sentence, stem=True) # 토큰화\n",
    "    stopwords_removed_sentence = [word for word in tokenized_sentence if not word in stopwords] # 불용어 제거\n",
    "    X_train.append(stopwords_removed_sentence)"
   ]
  },
  {
   "cell_type": "code",
   "execution_count": null,
   "id": "f28c821a",
   "metadata": {},
   "outputs": [],
   "source": []
  },
  {
   "cell_type": "code",
   "execution_count": null,
   "id": "3988454d",
   "metadata": {},
   "outputs": [],
   "source": []
  },
  {
   "cell_type": "code",
   "execution_count": null,
   "id": "35b70b21",
   "metadata": {},
   "outputs": [],
   "source": []
  }
 ],
 "metadata": {
  "kernelspec": {
   "display_name": "Python 3 (ipykernel)",
   "language": "python",
   "name": "python3"
  },
  "language_info": {
   "codemirror_mode": {
    "name": "ipython",
    "version": 3
   },
   "file_extension": ".py",
   "mimetype": "text/x-python",
   "name": "python",
   "nbconvert_exporter": "python",
   "pygments_lexer": "ipython3",
   "version": "3.8.13"
  },
  "toc": {
   "base_numbering": 1,
   "nav_menu": {},
   "number_sections": false,
   "sideBar": true,
   "skip_h1_title": false,
   "title_cell": "Table of Contents",
   "title_sidebar": "Contents",
   "toc_cell": false,
   "toc_position": {
    "height": "calc(100% - 180px)",
    "left": "10px",
    "top": "150px",
    "width": "224px"
   },
   "toc_section_display": true,
   "toc_window_display": true
  }
 },
 "nbformat": 4,
 "nbformat_minor": 5
}
