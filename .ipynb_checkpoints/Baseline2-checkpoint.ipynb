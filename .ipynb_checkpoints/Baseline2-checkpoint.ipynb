{
 "cells": [
  {
   "cell_type": "markdown",
   "id": "01a46fac",
   "metadata": {
    "id": "01a46fac"
   },
   "source": [
    "# Import"
   ]
  },
  {
   "cell_type": "code",
   "execution_count": 1,
   "id": "0a2e8ff9",
   "metadata": {
    "ExecuteTime": {
     "end_time": "2022-07-08T06:51:43.624432Z",
     "start_time": "2022-07-08T06:51:43.078116Z"
    },
    "executionInfo": {
     "elapsed": 4775,
     "status": "ok",
     "timestamp": 1657253346973,
     "user": {
      "displayName": "hs L",
      "userId": "04521576200392151172"
     },
     "user_tz": -540
    },
    "id": "0a2e8ff9"
   },
   "outputs": [],
   "source": [
    "import random\n",
    "import pandas as pd\n",
    "import numpy as np\n",
    "import os\n",
    "import librosa\n",
    "\n",
    "from tqdm.auto import tqdm\n",
    "\n",
    "from sklearn.neural_network import MLPClassifier\n",
    "from sklearn.preprocessing import OneHotEncoder\n",
    "\n",
    "import warnings\n",
    "warnings.filterwarnings(action='ignore') "
   ]
  },
  {
   "cell_type": "markdown",
   "id": "7c41aa97",
   "metadata": {
    "id": "7c41aa97"
   },
   "source": [
    "# Hyperparameter Setting"
   ]
  },
  {
   "cell_type": "code",
   "execution_count": 2,
   "id": "45b4f7f0",
   "metadata": {
    "ExecuteTime": {
     "end_time": "2022-07-08T06:51:43.626748Z",
     "start_time": "2022-07-08T06:51:43.625379Z"
    },
    "id": "45b4f7f0"
   },
   "outputs": [],
   "source": [
    "CFG = {\n",
    "    'SR':16000,\n",
    "    'N_MFCC':32, # MFCC 벡터를 추출할 개수\n",
    "    'SEED':42\n",
    "}"
   ]
  },
  {
   "cell_type": "markdown",
   "id": "5c98aabf",
   "metadata": {
    "id": "5c98aabf"
   },
   "source": [
    "# Fixed Random-Seed"
   ]
  },
  {
   "cell_type": "code",
   "execution_count": 3,
   "id": "179a4bb3",
   "metadata": {
    "ExecuteTime": {
     "end_time": "2022-07-08T06:51:43.628847Z",
     "start_time": "2022-07-08T06:51:43.627360Z"
    },
    "id": "179a4bb3"
   },
   "outputs": [],
   "source": [
    "def seed_everything(seed):\n",
    "    random.seed(seed)\n",
    "    os.environ['PYTHONHASHSEED'] = str(seed)\n",
    "    np.random.seed(seed)\n",
    "\n",
    "seed_everything(CFG['SEED']) # Seed 고정"
   ]
  },
  {
   "cell_type": "markdown",
   "id": "0cfbf54c",
   "metadata": {
    "id": "0cfbf54c"
   },
   "source": [
    "# Data Pre-Processing 1"
   ]
  },
  {
   "cell_type": "code",
   "execution_count": 4,
   "id": "3d309551",
   "metadata": {
    "ExecuteTime": {
     "end_time": "2022-07-08T06:51:43.636803Z",
     "start_time": "2022-07-08T06:51:43.630208Z"
    },
    "executionInfo": {
     "elapsed": 1056,
     "status": "ok",
     "timestamp": 1657253440158,
     "user": {
      "displayName": "hs L",
      "userId": "04521576200392151172"
     },
     "user_tz": -540
    },
    "id": "3d309551"
   },
   "outputs": [],
   "source": [
    "train_df = pd.read_csv('./train_data.csv')\n",
    "test_df = pd.read_csv('./test_data.csv')"
   ]
  },
  {
   "cell_type": "code",
   "execution_count": 5,
   "id": "30058f5b",
   "metadata": {
    "ExecuteTime": {
     "end_time": "2022-07-08T06:51:43.671455Z",
     "start_time": "2022-07-08T06:51:43.637670Z"
    },
    "colab": {
     "base_uri": "https://localhost:8080/",
     "height": 105
    },
    "executionInfo": {
     "elapsed": 61,
     "status": "ok",
     "timestamp": 1657214290374,
     "user": {
      "displayName": "hs L",
      "userId": "04521576200392151172"
     },
     "user_tz": -540
    },
    "id": "30058f5b",
    "outputId": "60c1f068-9f49-43a7-a36d-0a65b9056312"
   },
   "outputs": [],
   "source": [
    "def get_mfcc_feature(df, data_type, save_path):\n",
    "    # Data Folder path\n",
    "    root_folder = './wav_dataset'\n",
    "    if os.path.exists(save_path):\n",
    "        print(f'{save_path} is exist.')\n",
    "        return\n",
    "    features = []\n",
    "    for uid in tqdm(df['id']):\n",
    "        root_path = os.path.join(root_folder, data_type)\n",
    "        path = os.path.join(root_path, str(uid).zfill(5)+'.wav')\n",
    "\n",
    "        # librosa패키지를 사용하여 wav 파일 load\n",
    "        y, sr = librosa.load(path, sr=CFG['SR'])\n",
    "        \n",
    "        # librosa패키지를 사용하여 mfcc 추출\n",
    "        mfcc = librosa.feature.mfcc(y=y, sr=sr, n_mfcc=CFG['N_MFCC'])\n",
    "\n",
    "        y_feature = []\n",
    "        # 추출된 MFCC들의 평균을 Feature로 사용\n",
    "        for e in mfcc:\n",
    "            y_feature.append(np.mean(e))\n",
    "        features.append(y_feature)\n",
    "    \n",
    "    # 기존의 자가진단 정보를 담은 데이터프레임에 추출된 오디오 Feature를 추가\n",
    "    mfcc_df = pd.DataFrame(features, columns=['mfcc_'+str(x) for x in range(1,CFG['N_MFCC']+1)])\n",
    "    df = pd.concat([df, mfcc_df], axis=1)\n",
    "    df.to_csv(save_path, index=False)\n",
    "    print('Done.')"
   ]
  },
  {
   "cell_type": "code",
   "execution_count": 6,
   "id": "c6cf5c83",
   "metadata": {
    "ExecuteTime": {
     "end_time": "2022-07-08T06:51:43.676055Z",
     "start_time": "2022-07-08T06:51:43.672214Z"
    },
    "colab": {
     "base_uri": "https://localhost:8080/",
     "height": 36
    },
    "executionInfo": {
     "elapsed": 58,
     "status": "ok",
     "timestamp": 1657214290376,
     "user": {
      "displayName": "hs L",
      "userId": "04521576200392151172"
     },
     "user_tz": -540
    },
    "id": "c6cf5c83",
    "outputId": "14358f18-66ee-42ba-edc1-4273bbd2fa40"
   },
   "outputs": [
    {
     "data": {
      "text/plain": [
       "\"\\nget_mfcc_feature(train_df, 'train', './train_mfcc_data.csv')\\nget_mfcc_feature(test_df, 'test', './test_mfcc_data.csv')\\n\""
      ]
     },
     "execution_count": 6,
     "metadata": {},
     "output_type": "execute_result"
    }
   ],
   "source": [
    "'''\n",
    "get_mfcc_feature(train_df, 'train', './train_mfcc_data.csv')\n",
    "get_mfcc_feature(test_df, 'test', './test_mfcc_data.csv')\n",
    "'''"
   ]
  },
  {
   "cell_type": "code",
   "execution_count": 7,
   "id": "07ef54c7",
   "metadata": {
    "ExecuteTime": {
     "end_time": "2022-07-08T06:51:43.703997Z",
     "start_time": "2022-07-08T06:51:43.676737Z"
    },
    "id": "07ef54c7"
   },
   "outputs": [],
   "source": [
    "train_mfcc_data = pd.read_csv('./train_mfcc_data.csv')\n",
    "test_mfcc_data = pd.read_csv('./test_mfcc_data.csv')\n",
    "# get_mfcc_feature2('unlabeled', './unlabeled_mfcc_data.csv')"
   ]
  },
  {
   "cell_type": "markdown",
   "id": "fb2a0055",
   "metadata": {
    "id": "fb2a0055"
   },
   "source": [
    "# Data Pre-Processing 2"
   ]
  },
  {
   "cell_type": "code",
   "execution_count": 8,
   "id": "8af9c362",
   "metadata": {
    "ExecuteTime": {
     "end_time": "2022-07-08T06:51:43.707186Z",
     "start_time": "2022-07-08T06:51:43.704759Z"
    },
    "id": "8af9c362"
   },
   "outputs": [],
   "source": [
    "# wav 파일의 MFCC Feature와 상태정보를 합친 학습데이터를 불러옵니다.\n",
    "# train_df = pd.read_csv('./train_mfcc_data.csv')\n",
    "\n",
    "# 학습데이터를 모델의 input으로 들어갈 x와 label로 사용할 y로 분할\n",
    "train_x = train_mfcc_data.drop(columns=['id', 'covid19'])\n",
    "train_y = train_df['covid19']"
   ]
  },
  {
   "cell_type": "code",
   "execution_count": 9,
   "id": "232fb037",
   "metadata": {
    "ExecuteTime": {
     "end_time": "2022-07-08T06:51:43.709698Z",
     "start_time": "2022-07-08T06:51:43.707836Z"
    },
    "id": "232fb037"
   },
   "outputs": [],
   "source": [
    "def onehot_encoding(ohe, x):\n",
    "    # 학습데이터로 부터 fit된 one-hot encoder (ohe)를 받아 transform 시켜주는 함수\n",
    "    encoded = ohe.transform(x['gender'].values.reshape(-1,1))\n",
    "    encoded_df = pd.DataFrame(encoded, columns=ohe.categories_[0])\n",
    "    x = pd.concat([x.drop(columns=['gender']), encoded_df], axis=1)\n",
    "    return x"
   ]
  },
  {
   "cell_type": "code",
   "execution_count": 10,
   "id": "79181893",
   "metadata": {
    "ExecuteTime": {
     "end_time": "2022-07-08T06:51:43.715755Z",
     "start_time": "2022-07-08T06:51:43.711469Z"
    },
    "id": "79181893"
   },
   "outputs": [],
   "source": [
    "# 'gender' column의 경우 추가 전처리가 필요 -> OneHotEncoder 적용\n",
    "ohe = OneHotEncoder(sparse=False)\n",
    "ohe.fit(train_mfcc_data['gender'].values.reshape(-1,1))\n",
    "train_x = onehot_encoding(ohe, train_x)"
   ]
  },
  {
   "cell_type": "markdown",
   "id": "574ec00a",
   "metadata": {
    "id": "574ec00a"
   },
   "source": [
    "# Train"
   ]
  },
  {
   "cell_type": "code",
   "execution_count": 11,
   "id": "0f79d46e",
   "metadata": {
    "ExecuteTime": {
     "end_time": "2022-07-08T06:51:44.472721Z",
     "start_time": "2022-07-08T06:51:43.716563Z"
    },
    "id": "0f79d46e"
   },
   "outputs": [
    {
     "data": {
      "text/plain": [
       "MLPClassifier(random_state=42)"
      ]
     },
     "execution_count": 11,
     "metadata": {},
     "output_type": "execute_result"
    }
   ],
   "source": [
    "model = MLPClassifier(random_state=CFG['SEED']) # Sklearn에서 제공하는 Multi-layer Perceptron classifier 사용\n",
    "model.fit(train_x, train_y) # Model Train"
   ]
  },
  {
   "cell_type": "markdown",
   "id": "27b6a181",
   "metadata": {
    "id": "27b6a181"
   },
   "source": [
    "# Inference"
   ]
  },
  {
   "cell_type": "code",
   "execution_count": 12,
   "id": "eb8b8b01",
   "metadata": {
    "ExecuteTime": {
     "end_time": "2022-07-08T06:51:44.477649Z",
     "start_time": "2022-07-08T06:51:44.473802Z"
    },
    "id": "eb8b8b01"
   },
   "outputs": [],
   "source": [
    "# 위의 학습데이터를 전처리한 과정과 동일하게 test data에도 적용\n",
    "# test_x = pd.read_csv('/content/drive/MyDrive/YDS/DACON/COVID19/test_mfcc_data.csv')\n",
    "\n",
    "test_x = test_mfcc_data.drop(columns=['id'])\n",
    "# Data Leakage에 유의하여 train data로만 학습된 ohe를 사용\n",
    "test_x = onehot_encoding(ohe, test_x)"
   ]
  },
  {
   "cell_type": "code",
   "execution_count": 13,
   "id": "3c3653a2",
   "metadata": {
    "ExecuteTime": {
     "end_time": "2022-07-08T06:51:44.494941Z",
     "start_time": "2022-07-08T06:51:44.478286Z"
    },
    "id": "3c3653a2"
   },
   "outputs": [],
   "source": [
    "# Model 추론\n",
    "preds = model.predict(test_x)"
   ]
  },
  {
   "cell_type": "code",
   "execution_count": 16,
   "id": "c18757b5",
   "metadata": {
    "ExecuteTime": {
     "end_time": "2022-07-08T06:51:52.602465Z",
     "start_time": "2022-07-08T06:51:52.573075Z"
    },
    "id": "c18757b5",
    "scrolled": true
   },
   "outputs": [
    {
     "name": "stdout",
     "output_type": "stream",
     "text": [
      "훈련 세트 정확도 : 0.923\n",
      "테스트 세트 정확도 : 1.000\n"
     ]
    }
   ],
   "source": [
    "# # 정확도\n",
    "\n",
    "print(\"훈련 세트 정확도 : {:.3f}\".format(model.score(train_x, train_y)))\n",
    "print(\"테스트 세트 정확도 : {:.3f}\".format(model.score(test_x, preds)))"
   ]
  },
  {
   "cell_type": "markdown",
   "id": "67433c7c",
   "metadata": {
    "id": "67433c7c"
   },
   "source": [
    "# Submission"
   ]
  },
  {
   "cell_type": "code",
   "execution_count": 15,
   "id": "41bf4ffd",
   "metadata": {
    "ExecuteTime": {
     "end_time": "2022-07-08T06:51:44.509167Z",
     "start_time": "2022-07-08T06:51:44.499867Z"
    },
    "id": "41bf4ffd"
   },
   "outputs": [],
   "source": [
    "submission = pd.read_csv('./sample_submission.csv')\n",
    "submission['covid19'] = preds\n",
    "submission.to_csv('./submit.csv', index=False)"
   ]
  },
  {
   "cell_type": "code",
   "execution_count": null,
   "id": "98061cfa",
   "metadata": {
    "id": "98061cfa"
   },
   "outputs": [],
   "source": []
  }
 ],
 "metadata": {
  "colab": {
   "collapsed_sections": [],
   "name": "Baseline.ipynb",
   "provenance": []
  },
  "kernelspec": {
   "display_name": "Python 3 (ipykernel)",
   "language": "python",
   "name": "python3"
  },
  "language_info": {
   "codemirror_mode": {
    "name": "ipython",
    "version": 3
   },
   "file_extension": ".py",
   "mimetype": "text/x-python",
   "name": "python",
   "nbconvert_exporter": "python",
   "pygments_lexer": "ipython3",
   "version": "3.8.13"
  },
  "toc": {
   "base_numbering": 1,
   "nav_menu": {},
   "number_sections": false,
   "sideBar": true,
   "skip_h1_title": false,
   "title_cell": "Table of Contents",
   "title_sidebar": "Contents",
   "toc_cell": false,
   "toc_position": {},
   "toc_section_display": true,
   "toc_window_display": false
  }
 },
 "nbformat": 4,
 "nbformat_minor": 5
}
