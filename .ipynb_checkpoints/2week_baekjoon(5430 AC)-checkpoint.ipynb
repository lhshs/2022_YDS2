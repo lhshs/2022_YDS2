{
 "cells": [
  {
   "cell_type": "markdown",
   "id": "cab1be4a",
   "metadata": {},
   "source": [
    "## 5430 AC"
   ]
  },
  {
   "cell_type": "markdown",
   "id": "26545c46",
   "metadata": {},
   "source": [
    "R : 순서 뒤집는 함수\n",
    "D : 첫 번째 수 버리는 함수 (배열 비어있으면 에러)\n",
    "\n",
    "첫째 줄 : 테스트 케이스의 개수 T\n",
    "각 테스트 케이스의 첫째 줄 : 수행할 함수 p\n",
    "다음 줄 : 배열에 들어있는 수의 개수 n\n",
    "다음 줄 : [  ,  ,  ] 과 같은 형태로 배열에 들어있는 정수"
   ]
  },
  {
   "cell_type": "markdown",
   "id": "4157eb04",
   "metadata": {},
   "source": [
    "예제 입력\n",
    "\n",
    "4             # 테스트 케이스의 개수 T  / 4개로 시작..?\n",
    "RDD           # 수행할 함수 p           / 순서 바꿔서 처음 두 수 지우기\n",
    "4             # 배열에 들어있는 수의 개수 n  \n",
    "[1,2,3,4]     # 배열에 들어있는 정수\n",
    "DD            # 수행할 함수 p \n",
    "1             # 배열에 들어있는 개수 n..? 2개가 되어야 하는것 아닌가.. 위에 입력 코드랑 관련이 없는 것인가..?\n",
    "[42]\n",
    "RRD\n",
    "6\n",
    "[1,1,2,3,5,8]\n",
    "D\n",
    "0\n",
    "[]"
   ]
  },
  {
   "cell_type": "markdown",
   "id": "99caff3f",
   "metadata": {},
   "source": [
    "예제 출력\n",
    "\n",
    "[2,1]\n",
    "error\n",
    "[1,2,3,5,8]\n",
    "error"
   ]
  },
  {
   "cell_type": "markdown",
   "id": "ef9e2dab",
   "metadata": {},
   "source": [
    "예제 입력 코드에 대한 이해가 안됨.."
   ]
  },
  {
   "cell_type": "code",
   "execution_count": 9,
   "id": "2b6cf630",
   "metadata": {
    "ExecuteTime": {
     "end_time": "2022-07-24T14:27:02.096500Z",
     "start_time": "2022-07-24T14:27:02.071000Z"
    }
   },
   "outputs": [
    {
     "ename": "ValueError",
     "evalue": "invalid literal for int() with base 10: ''",
     "output_type": "error",
     "traceback": [
      "\u001b[1;31m---------------------------------------------------------------------------\u001b[0m",
      "\u001b[1;31mValueError\u001b[0m                                Traceback (most recent call last)",
      "Input \u001b[1;32mIn [9]\u001b[0m, in \u001b[0;36m<cell line: 7>\u001b[1;34m()\u001b[0m\n\u001b[0;32m      4\u001b[0m \u001b[38;5;28;01mfrom\u001b[39;00m \u001b[38;5;21;01mcollections\u001b[39;00m \u001b[38;5;28;01mimport\u001b[39;00m deque\n\u001b[0;32m      6\u001b[0m N \u001b[38;5;241m=\u001b[39m \u001b[38;5;241m4\u001b[39m \n\u001b[1;32m----> 7\u001b[0m N \u001b[38;5;241m=\u001b[39m \u001b[38;5;28;43mint\u001b[39;49m\u001b[43m(\u001b[49m\u001b[38;5;28;43minput\u001b[39;49m\u001b[43m(\u001b[49m\u001b[43m)\u001b[49m\u001b[43m)\u001b[49m\n\u001b[0;32m      8\u001b[0m \u001b[38;5;28;01mfor\u001b[39;00m i \u001b[38;5;129;01min\u001b[39;00m \u001b[38;5;28mrange\u001b[39m(N):\n\u001b[0;32m      9\u001b[0m     p \u001b[38;5;241m=\u001b[39m sys\u001b[38;5;241m.\u001b[39mstdin\u001b[38;5;241m.\u001b[39mreadline()\u001b[38;5;241m.\u001b[39mrstrip() \u001b[38;5;66;03m# p의 길이는 1보다 크거나 같고, 100,000보다 작거나 같다.\u001b[39;00m\n",
      "\u001b[1;31mValueError\u001b[0m: invalid literal for int() with base 10: ''"
     ]
    }
   ],
   "source": [
    "# 누군가의 1번째 풀이 (시간초과 오답)\n",
    "\n",
    "import sys\n",
    "from collections import deque\n",
    "\n",
    "input = sys.stdin.readline\n",
    "T = int(input().strip())\n",
    "for _ in range(T):\n",
    "    functions = input().strip()\n",
    "    n = int(input().strip())\n",
    "    temp = input().strip()\n",
    "    check = 0\n",
    "    if n == 0 :\n",
    "        print(temp)\n",
    "        continue\n",
    "    temp = deque(temp.strip()[1:-1].split(\",\"))\n",
    "    for f in functions:\n",
    "        if f == \"R\": # f == 'D'\n",
    "            temp.reverse()\n",
    "        else:\n",
    "            if not temp:\n",
    "                print(\"error\")\n",
    "                check = 1\n",
    "                break\n",
    "            temp.popleft()\n",
    "    if not check:\n",
    "        print(\"[\" + \",\".join(temp) + \"]\")"
   ]
  },
  {
   "cell_type": "code",
   "execution_count": 7,
   "id": "98d4cf31",
   "metadata": {
    "ExecuteTime": {
     "end_time": "2022-07-24T14:26:04.949285Z",
     "start_time": "2022-07-24T14:26:04.917785Z"
    }
   },
   "outputs": [
    {
     "ename": "ValueError",
     "evalue": "invalid literal for int() with base 10: ''",
     "output_type": "error",
     "traceback": [
      "\u001b[1;31m---------------------------------------------------------------------------\u001b[0m",
      "\u001b[1;31mValueError\u001b[0m                                Traceback (most recent call last)",
      "Input \u001b[1;32mIn [7]\u001b[0m, in \u001b[0;36m<cell line: 5>\u001b[1;34m()\u001b[0m\n\u001b[0;32m      3\u001b[0m \u001b[38;5;28;01mfrom\u001b[39;00m \u001b[38;5;21;01mcollections\u001b[39;00m \u001b[38;5;28;01mimport\u001b[39;00m deque\n\u001b[0;32m      4\u001b[0m \u001b[38;5;28;01mimport\u001b[39;00m \u001b[38;5;21;01msys\u001b[39;00m\n\u001b[1;32m----> 5\u001b[0m T \u001b[38;5;241m=\u001b[39m \u001b[38;5;28;43mint\u001b[39;49m\u001b[43m(\u001b[49m\u001b[38;5;28;43minput\u001b[39;49m\u001b[43m(\u001b[49m\u001b[43m)\u001b[49m\u001b[43m)\u001b[49m\n\u001b[0;32m      7\u001b[0m \u001b[38;5;28;01mfor\u001b[39;00m _ \u001b[38;5;129;01min\u001b[39;00m \u001b[38;5;28mrange\u001b[39m(T):\n\u001b[0;32m      8\u001b[0m     p \u001b[38;5;241m=\u001b[39m sys\u001b[38;5;241m.\u001b[39mstdin\u001b[38;5;241m.\u001b[39mreadline()\u001b[38;5;241m.\u001b[39mrstrip() \u001b[38;5;66;03m#p의 길이는 1보다 크거나 같고, 100,000보다 작거나 같다.\u001b[39;00m\n",
      "\u001b[1;31mValueError\u001b[0m: invalid literal for int() with base 10: ''"
     ]
    }
   ],
   "source": [
    "# 누군가의 2번째 풀이 (정답)\n",
    "\n",
    "import sys\n",
    "from collections import deque\n",
    "\n",
    "input = sys.stdin.readline\n",
    "T = int(input().strip())\n",
    "for _ in range(T):\n",
    "    functions = input().strip()\n",
    "    n = int(input().strip())\n",
    "    temp = input().strip()\n",
    "    check = 0\n",
    "    temp = deque(temp.strip()[1:-1].split(\",\"))\n",
    "    R = 0\n",
    "    for f in functions:\n",
    "        if f == \"R\": # f == 'D'\n",
    "            R += 1\n",
    "\n",
    "        else:  # f == 'D'\n",
    "            if not temp:\n",
    "                print(\"error\")\n",
    "                check = 1\n",
    "                break\n",
    "            if temp[0] == '':\n",
    "                print(\"error\")\n",
    "                check = 1\n",
    "                break\n",
    "            if R % 2 == 1:\n",
    "                temp.pop()\n",
    "            else:\n",
    "                temp.popleft()\n",
    "            \n",
    "    if not check:\n",
    "        if R % 2 == 1:\n",
    "            print(\"[\"+\",\".join(reversed(temp)) + \"]\")\n",
    "        else:\n",
    "            print(\"[\" + \",\".join(temp) + \"]\")"
   ]
  },
  {
   "cell_type": "markdown",
   "id": "73ef7b9f",
   "metadata": {},
   "source": [
    "반복문으로 여러줄 입력받을 때 sys.stdin.readline()을 사용해야 시간초과가 발생하지 않는다"
   ]
  },
  {
   "cell_type": "markdown",
   "id": "fd209d42",
   "metadata": {},
   "source": [
    "크게 생각해야 할 부분\n",
    "    - R을 어떻게 구현해줄 것인가\n",
    "    - 빈 덱을 D 할 때 error 출력"
   ]
  },
  {
   "cell_type": "markdown",
   "id": "78ce6cf0",
   "metadata": {},
   "source": [
    "R 명령이 들어온다고 진짜로 배열의 모든 원소를 뒤집으면 절대로 안 됩니다. N개의 원소의 순서를 정말로 바꾸면 당연히 그 원소 수만큼 시간이 걸리고, 그걸 최대 10만 번 수행해야 하니 테스트 케이스 1개만으로도 100억번의 연산이 수행됩니다. <font color=red> R 명령의 핵심은 실제로 원소를 뒤집지 않고도 뒤집힌 것과 같은 효과를 내도록 구현하는 것입니다. </font>C++의 std::reverse(), Python의 a[::-1] 역시 사용해서는 안 됩니다.\n",
    "\n",
    "D 명령에 대해서 보통 배열의 맨 앞 원소를 무작정 지워서는 안 됩니다. C++의 vector::erase(), Java의 ArrayList.remove(), <font color=red>Python의 list.pop() 등으로 배열의 첫 번째 원소를 지울 시, 그 뒤에 있는 모든 원소들을 전부 한 칸씩 앞으로 당겨오게 되므로, 그 시간 역시 원소의 수에 비례하여 소요됩니다.</font> 라이브러리 함수는 호출만 하면 N개의 원소를 기적같이 O(1)에 처리해주는 마법사가 아닙니다. 저렇게 원소를 당겨오는 작업 없이도 D의 기능을 구현할 수 있어야 합니다.\n",
    "\n",
    "빈 배열은 []로 출력해야 합니다. 아무것도 출력하지 않거나, error를 출력하거나, 무조건 원소를 하나 출력하고 시작하려고 하면 안 됩니다.\n",
    "\n",
    "배열이 비어있는데 R을 하는 건 에러가 아닙니다. D만 에러입니다.\n",
    "\n",
    "테스트 케이스마다 초기화가 잘 됐는지 확인하세요. 그리고 매 케이스마다 개행 문자를 항상 출력하는지 확인하세요.\n",
    "\n",
    "처음 배열의 상태에 대한 문자열의 길이는 최대 400001자입니다. 입력 문자 배열 크기를 잘 설정하세요.\n",
    "\n",
    "처음 배열의 상태로 빈 배열이 주어지는 경우를 조심하세요. 수가 무조건 하나 이상 있다고 가정하고 코드를 작성하면 이런 경우를 제대로 처리하지 못할 수 있습니다.\n",
    "\n",
    "조건문 안에 strlen(str) 를 절대로 넣지 마세요. strlen은 문자열의 처음부터 널 문자가 나올 때까지 한 글자씩 확인하므로, 반복문을 한 바퀴 돌 때마다 문자열의 길이만큼의 시간이 걸립니다.\n",
    "\n",
    "단순히 R과 D의 개수만 세고 나중에 몰아서 처리하는 건 당연히 안 됩니다. R을 할 때마다 D를 했을 때 지워지는 원소가 달라지기 때문입니다.'\n",
    "\n",
    "배열에 들어있는 수는 최대 100입니다. 무조건 한 글자로 가정하고 구현하면 안 됩니다. 참고로, 예제에도 두자리의 수가 하나 등장하지만 어차피 지워지는 원소이기 때문에 한 글자로 가정해도 \"예제는\" 답이 잘 나올 수 있습니다. 예제를 믿지 마세요."
   ]
  },
  {
   "cell_type": "markdown",
   "id": "0ef37355",
   "metadata": {},
   "source": [
    "https://osnim.tistory.com/entry/%EB%B0%B1%EC%A4%80-5430-AC-%ED%8C%8C%EC%9D%B4%EC%8D%AC\n",
    "https://www.acmicpc.net/board/view/25456"
   ]
  }
 ],
 "metadata": {
  "kernelspec": {
   "display_name": "Python 3 (ipykernel)",
   "language": "python",
   "name": "python3"
  },
  "language_info": {
   "codemirror_mode": {
    "name": "ipython",
    "version": 3
   },
   "file_extension": ".py",
   "mimetype": "text/x-python",
   "name": "python",
   "nbconvert_exporter": "python",
   "pygments_lexer": "ipython3",
   "version": "3.9.12"
  },
  "toc": {
   "base_numbering": 1,
   "nav_menu": {},
   "number_sections": false,
   "sideBar": true,
   "skip_h1_title": false,
   "title_cell": "Table of Contents",
   "title_sidebar": "Contents",
   "toc_cell": false,
   "toc_position": {},
   "toc_section_display": true,
   "toc_window_display": true
  }
 },
 "nbformat": 4,
 "nbformat_minor": 5
}
