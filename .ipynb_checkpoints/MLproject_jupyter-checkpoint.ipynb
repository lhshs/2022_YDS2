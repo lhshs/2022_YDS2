{
 "cells": [
  {
   "cell_type": "code",
   "execution_count": 1,
   "id": "a85bd0f8",
   "metadata": {
    "ExecuteTime": {
     "end_time": "2022-06-17T09:02:28.857226Z",
     "start_time": "2022-06-17T09:02:18.840884Z"
    }
   },
   "outputs": [],
   "source": [
    "import numpy as np\n",
    "import pandas as pd\n",
    "import matplotlib.pyplot as plt\n",
    "import seaborn as sns\n",
    "\n",
    "# from sklearn.preprocessing import LabelEncoder\n",
    "# from sklearn.impute import KNNImputer\n",
    "\n",
    "import warnings\n",
    "warnings.filterwarnings('ignore')"
   ]
  },
  {
   "cell_type": "code",
   "execution_count": null,
   "id": "aad07062",
   "metadata": {
    "ExecuteTime": {
     "end_time": "2022-06-12T05:57:40.711881Z",
     "start_time": "2022-06-12T05:57:37.461676Z"
    }
   },
   "outputs": [],
   "source": [
    "# !pip install tqdm\n",
    "\n",
    "# from tqdm import trange, notebook     "
   ]
  },
  {
   "cell_type": "code",
   "execution_count": null,
   "id": "0b2ea3bb",
   "metadata": {
    "ExecuteTime": {
     "end_time": "2022-06-17T04:43:01.935308Z",
     "start_time": "2022-06-17T04:43:01.928599Z"
    }
   },
   "outputs": [],
   "source": [
    "# pd.options.display.max_rows = 999999\n",
    "# pd.options.display.max_columns = 500\n",
    "\n",
    "# pd.set_option('display.max_rows', None)\n",
    "# pd.set_option('display.max_columns', None)"
   ]
  },
  {
   "cell_type": "code",
   "execution_count": 2,
   "id": "85841873",
   "metadata": {
    "ExecuteTime": {
     "end_time": "2022-06-17T09:02:41.671101Z",
     "start_time": "2022-06-17T09:02:28.858228Z"
    }
   },
   "outputs": [],
   "source": [
    "train_t = pd.read_csv('train_transaction.csv')\n",
    "train_i = pd.read_csv('train_identity.csv')\n",
    "test_t = pd.read_csv('test_transaction.csv')\n",
    "test_i = pd.read_csv('test_identity.csv')\n",
    "\n",
    "submission = pd.read_csv('sample_submission.csv')"
   ]
  },
  {
   "cell_type": "markdown",
   "id": "6887f321",
   "metadata": {},
   "source": [
    "# Merge"
   ]
  },
  {
   "cell_type": "code",
   "execution_count": 9,
   "id": "2e4b70ee",
   "metadata": {
    "ExecuteTime": {
     "end_time": "2022-06-17T09:03:11.628021Z",
     "start_time": "2022-06-17T09:03:10.749739Z"
    },
    "scrolled": true
   },
   "outputs": [
    {
     "data": {
      "text/html": [
       "<div>\n",
       "<style scoped>\n",
       "    .dataframe tbody tr th:only-of-type {\n",
       "        vertical-align: middle;\n",
       "    }\n",
       "\n",
       "    .dataframe tbody tr th {\n",
       "        vertical-align: top;\n",
       "    }\n",
       "\n",
       "    .dataframe thead th {\n",
       "        text-align: right;\n",
       "    }\n",
       "</style>\n",
       "<table border=\"1\" class=\"dataframe\">\n",
       "  <thead>\n",
       "    <tr style=\"text-align: right;\">\n",
       "      <th></th>\n",
       "      <th>TransactionID</th>\n",
       "      <th>isFraud</th>\n",
       "      <th>TransactionDT</th>\n",
       "      <th>TransactionAmt</th>\n",
       "      <th>ProductCD</th>\n",
       "      <th>card1</th>\n",
       "      <th>card2</th>\n",
       "      <th>card3</th>\n",
       "      <th>card4</th>\n",
       "      <th>card5</th>\n",
       "      <th>...</th>\n",
       "      <th>id_31</th>\n",
       "      <th>id_32</th>\n",
       "      <th>id_33</th>\n",
       "      <th>id_34</th>\n",
       "      <th>id_35</th>\n",
       "      <th>id_36</th>\n",
       "      <th>id_37</th>\n",
       "      <th>id_38</th>\n",
       "      <th>DeviceType</th>\n",
       "      <th>DeviceInfo</th>\n",
       "    </tr>\n",
       "  </thead>\n",
       "  <tbody>\n",
       "    <tr>\n",
       "      <th>0</th>\n",
       "      <td>2987000</td>\n",
       "      <td>0</td>\n",
       "      <td>86400</td>\n",
       "      <td>68.50</td>\n",
       "      <td>W</td>\n",
       "      <td>13926</td>\n",
       "      <td>NaN</td>\n",
       "      <td>150.0</td>\n",
       "      <td>discover</td>\n",
       "      <td>142.0</td>\n",
       "      <td>...</td>\n",
       "      <td>NaN</td>\n",
       "      <td>NaN</td>\n",
       "      <td>NaN</td>\n",
       "      <td>NaN</td>\n",
       "      <td>NaN</td>\n",
       "      <td>NaN</td>\n",
       "      <td>NaN</td>\n",
       "      <td>NaN</td>\n",
       "      <td>NaN</td>\n",
       "      <td>NaN</td>\n",
       "    </tr>\n",
       "    <tr>\n",
       "      <th>1</th>\n",
       "      <td>2987001</td>\n",
       "      <td>0</td>\n",
       "      <td>86401</td>\n",
       "      <td>29.00</td>\n",
       "      <td>W</td>\n",
       "      <td>2755</td>\n",
       "      <td>404.0</td>\n",
       "      <td>150.0</td>\n",
       "      <td>mastercard</td>\n",
       "      <td>102.0</td>\n",
       "      <td>...</td>\n",
       "      <td>NaN</td>\n",
       "      <td>NaN</td>\n",
       "      <td>NaN</td>\n",
       "      <td>NaN</td>\n",
       "      <td>NaN</td>\n",
       "      <td>NaN</td>\n",
       "      <td>NaN</td>\n",
       "      <td>NaN</td>\n",
       "      <td>NaN</td>\n",
       "      <td>NaN</td>\n",
       "    </tr>\n",
       "    <tr>\n",
       "      <th>2</th>\n",
       "      <td>2987002</td>\n",
       "      <td>0</td>\n",
       "      <td>86469</td>\n",
       "      <td>59.00</td>\n",
       "      <td>W</td>\n",
       "      <td>4663</td>\n",
       "      <td>490.0</td>\n",
       "      <td>150.0</td>\n",
       "      <td>visa</td>\n",
       "      <td>166.0</td>\n",
       "      <td>...</td>\n",
       "      <td>NaN</td>\n",
       "      <td>NaN</td>\n",
       "      <td>NaN</td>\n",
       "      <td>NaN</td>\n",
       "      <td>NaN</td>\n",
       "      <td>NaN</td>\n",
       "      <td>NaN</td>\n",
       "      <td>NaN</td>\n",
       "      <td>NaN</td>\n",
       "      <td>NaN</td>\n",
       "    </tr>\n",
       "    <tr>\n",
       "      <th>3</th>\n",
       "      <td>2987003</td>\n",
       "      <td>0</td>\n",
       "      <td>86499</td>\n",
       "      <td>50.00</td>\n",
       "      <td>W</td>\n",
       "      <td>18132</td>\n",
       "      <td>567.0</td>\n",
       "      <td>150.0</td>\n",
       "      <td>mastercard</td>\n",
       "      <td>117.0</td>\n",
       "      <td>...</td>\n",
       "      <td>NaN</td>\n",
       "      <td>NaN</td>\n",
       "      <td>NaN</td>\n",
       "      <td>NaN</td>\n",
       "      <td>NaN</td>\n",
       "      <td>NaN</td>\n",
       "      <td>NaN</td>\n",
       "      <td>NaN</td>\n",
       "      <td>NaN</td>\n",
       "      <td>NaN</td>\n",
       "    </tr>\n",
       "    <tr>\n",
       "      <th>4</th>\n",
       "      <td>2987004</td>\n",
       "      <td>0</td>\n",
       "      <td>86506</td>\n",
       "      <td>50.00</td>\n",
       "      <td>H</td>\n",
       "      <td>4497</td>\n",
       "      <td>514.0</td>\n",
       "      <td>150.0</td>\n",
       "      <td>mastercard</td>\n",
       "      <td>102.0</td>\n",
       "      <td>...</td>\n",
       "      <td>samsung browser 6.2</td>\n",
       "      <td>32.0</td>\n",
       "      <td>2220x1080</td>\n",
       "      <td>match_status:2</td>\n",
       "      <td>T</td>\n",
       "      <td>F</td>\n",
       "      <td>T</td>\n",
       "      <td>T</td>\n",
       "      <td>mobile</td>\n",
       "      <td>SAMSUNG SM-G892A Build/NRD90M</td>\n",
       "    </tr>\n",
       "    <tr>\n",
       "      <th>...</th>\n",
       "      <td>...</td>\n",
       "      <td>...</td>\n",
       "      <td>...</td>\n",
       "      <td>...</td>\n",
       "      <td>...</td>\n",
       "      <td>...</td>\n",
       "      <td>...</td>\n",
       "      <td>...</td>\n",
       "      <td>...</td>\n",
       "      <td>...</td>\n",
       "      <td>...</td>\n",
       "      <td>...</td>\n",
       "      <td>...</td>\n",
       "      <td>...</td>\n",
       "      <td>...</td>\n",
       "      <td>...</td>\n",
       "      <td>...</td>\n",
       "      <td>...</td>\n",
       "      <td>...</td>\n",
       "      <td>...</td>\n",
       "      <td>...</td>\n",
       "    </tr>\n",
       "    <tr>\n",
       "      <th>590535</th>\n",
       "      <td>3577535</td>\n",
       "      <td>0</td>\n",
       "      <td>15811047</td>\n",
       "      <td>49.00</td>\n",
       "      <td>W</td>\n",
       "      <td>6550</td>\n",
       "      <td>NaN</td>\n",
       "      <td>150.0</td>\n",
       "      <td>visa</td>\n",
       "      <td>226.0</td>\n",
       "      <td>...</td>\n",
       "      <td>NaN</td>\n",
       "      <td>NaN</td>\n",
       "      <td>NaN</td>\n",
       "      <td>NaN</td>\n",
       "      <td>NaN</td>\n",
       "      <td>NaN</td>\n",
       "      <td>NaN</td>\n",
       "      <td>NaN</td>\n",
       "      <td>NaN</td>\n",
       "      <td>NaN</td>\n",
       "    </tr>\n",
       "    <tr>\n",
       "      <th>590536</th>\n",
       "      <td>3577536</td>\n",
       "      <td>0</td>\n",
       "      <td>15811049</td>\n",
       "      <td>39.50</td>\n",
       "      <td>W</td>\n",
       "      <td>10444</td>\n",
       "      <td>225.0</td>\n",
       "      <td>150.0</td>\n",
       "      <td>mastercard</td>\n",
       "      <td>224.0</td>\n",
       "      <td>...</td>\n",
       "      <td>NaN</td>\n",
       "      <td>NaN</td>\n",
       "      <td>NaN</td>\n",
       "      <td>NaN</td>\n",
       "      <td>NaN</td>\n",
       "      <td>NaN</td>\n",
       "      <td>NaN</td>\n",
       "      <td>NaN</td>\n",
       "      <td>NaN</td>\n",
       "      <td>NaN</td>\n",
       "    </tr>\n",
       "    <tr>\n",
       "      <th>590537</th>\n",
       "      <td>3577537</td>\n",
       "      <td>0</td>\n",
       "      <td>15811079</td>\n",
       "      <td>30.95</td>\n",
       "      <td>W</td>\n",
       "      <td>12037</td>\n",
       "      <td>595.0</td>\n",
       "      <td>150.0</td>\n",
       "      <td>mastercard</td>\n",
       "      <td>224.0</td>\n",
       "      <td>...</td>\n",
       "      <td>NaN</td>\n",
       "      <td>NaN</td>\n",
       "      <td>NaN</td>\n",
       "      <td>NaN</td>\n",
       "      <td>NaN</td>\n",
       "      <td>NaN</td>\n",
       "      <td>NaN</td>\n",
       "      <td>NaN</td>\n",
       "      <td>NaN</td>\n",
       "      <td>NaN</td>\n",
       "    </tr>\n",
       "    <tr>\n",
       "      <th>590538</th>\n",
       "      <td>3577538</td>\n",
       "      <td>0</td>\n",
       "      <td>15811088</td>\n",
       "      <td>117.00</td>\n",
       "      <td>W</td>\n",
       "      <td>7826</td>\n",
       "      <td>481.0</td>\n",
       "      <td>150.0</td>\n",
       "      <td>mastercard</td>\n",
       "      <td>224.0</td>\n",
       "      <td>...</td>\n",
       "      <td>NaN</td>\n",
       "      <td>NaN</td>\n",
       "      <td>NaN</td>\n",
       "      <td>NaN</td>\n",
       "      <td>NaN</td>\n",
       "      <td>NaN</td>\n",
       "      <td>NaN</td>\n",
       "      <td>NaN</td>\n",
       "      <td>NaN</td>\n",
       "      <td>NaN</td>\n",
       "    </tr>\n",
       "    <tr>\n",
       "      <th>590539</th>\n",
       "      <td>3577539</td>\n",
       "      <td>0</td>\n",
       "      <td>15811131</td>\n",
       "      <td>279.95</td>\n",
       "      <td>W</td>\n",
       "      <td>15066</td>\n",
       "      <td>170.0</td>\n",
       "      <td>150.0</td>\n",
       "      <td>mastercard</td>\n",
       "      <td>102.0</td>\n",
       "      <td>...</td>\n",
       "      <td>NaN</td>\n",
       "      <td>NaN</td>\n",
       "      <td>NaN</td>\n",
       "      <td>NaN</td>\n",
       "      <td>NaN</td>\n",
       "      <td>NaN</td>\n",
       "      <td>NaN</td>\n",
       "      <td>NaN</td>\n",
       "      <td>NaN</td>\n",
       "      <td>NaN</td>\n",
       "    </tr>\n",
       "  </tbody>\n",
       "</table>\n",
       "<p>590540 rows × 434 columns</p>\n",
       "</div>"
      ],
      "text/plain": [
       "        TransactionID  isFraud  TransactionDT  TransactionAmt ProductCD  \\\n",
       "0             2987000        0          86400           68.50         W   \n",
       "1             2987001        0          86401           29.00         W   \n",
       "2             2987002        0          86469           59.00         W   \n",
       "3             2987003        0          86499           50.00         W   \n",
       "4             2987004        0          86506           50.00         H   \n",
       "...               ...      ...            ...             ...       ...   \n",
       "590535        3577535        0       15811047           49.00         W   \n",
       "590536        3577536        0       15811049           39.50         W   \n",
       "590537        3577537        0       15811079           30.95         W   \n",
       "590538        3577538        0       15811088          117.00         W   \n",
       "590539        3577539        0       15811131          279.95         W   \n",
       "\n",
       "        card1  card2  card3       card4  card5  ...                id_31  \\\n",
       "0       13926    NaN  150.0    discover  142.0  ...                  NaN   \n",
       "1        2755  404.0  150.0  mastercard  102.0  ...                  NaN   \n",
       "2        4663  490.0  150.0        visa  166.0  ...                  NaN   \n",
       "3       18132  567.0  150.0  mastercard  117.0  ...                  NaN   \n",
       "4        4497  514.0  150.0  mastercard  102.0  ...  samsung browser 6.2   \n",
       "...       ...    ...    ...         ...    ...  ...                  ...   \n",
       "590535   6550    NaN  150.0        visa  226.0  ...                  NaN   \n",
       "590536  10444  225.0  150.0  mastercard  224.0  ...                  NaN   \n",
       "590537  12037  595.0  150.0  mastercard  224.0  ...                  NaN   \n",
       "590538   7826  481.0  150.0  mastercard  224.0  ...                  NaN   \n",
       "590539  15066  170.0  150.0  mastercard  102.0  ...                  NaN   \n",
       "\n",
       "        id_32      id_33           id_34  id_35 id_36 id_37  id_38  \\\n",
       "0         NaN        NaN             NaN    NaN   NaN   NaN    NaN   \n",
       "1         NaN        NaN             NaN    NaN   NaN   NaN    NaN   \n",
       "2         NaN        NaN             NaN    NaN   NaN   NaN    NaN   \n",
       "3         NaN        NaN             NaN    NaN   NaN   NaN    NaN   \n",
       "4        32.0  2220x1080  match_status:2      T     F     T      T   \n",
       "...       ...        ...             ...    ...   ...   ...    ...   \n",
       "590535    NaN        NaN             NaN    NaN   NaN   NaN    NaN   \n",
       "590536    NaN        NaN             NaN    NaN   NaN   NaN    NaN   \n",
       "590537    NaN        NaN             NaN    NaN   NaN   NaN    NaN   \n",
       "590538    NaN        NaN             NaN    NaN   NaN   NaN    NaN   \n",
       "590539    NaN        NaN             NaN    NaN   NaN   NaN    NaN   \n",
       "\n",
       "        DeviceType                     DeviceInfo  \n",
       "0              NaN                            NaN  \n",
       "1              NaN                            NaN  \n",
       "2              NaN                            NaN  \n",
       "3              NaN                            NaN  \n",
       "4           mobile  SAMSUNG SM-G892A Build/NRD90M  \n",
       "...            ...                            ...  \n",
       "590535         NaN                            NaN  \n",
       "590536         NaN                            NaN  \n",
       "590537         NaN                            NaN  \n",
       "590538         NaN                            NaN  \n",
       "590539         NaN                            NaN  \n",
       "\n",
       "[590540 rows x 434 columns]"
      ]
     },
     "execution_count": 9,
     "metadata": {},
     "output_type": "execute_result"
    }
   ],
   "source": [
    "train = pd.merge(train_t, train_i, on='TransactionID', how='outer')\n",
    "train"
   ]
  },
  {
   "cell_type": "code",
   "execution_count": 10,
   "id": "1826a36a",
   "metadata": {
    "ExecuteTime": {
     "end_time": "2022-06-17T09:03:12.395057Z",
     "start_time": "2022-06-17T09:03:11.629006Z"
    },
    "scrolled": false
   },
   "outputs": [
    {
     "data": {
      "text/html": [
       "<div>\n",
       "<style scoped>\n",
       "    .dataframe tbody tr th:only-of-type {\n",
       "        vertical-align: middle;\n",
       "    }\n",
       "\n",
       "    .dataframe tbody tr th {\n",
       "        vertical-align: top;\n",
       "    }\n",
       "\n",
       "    .dataframe thead th {\n",
       "        text-align: right;\n",
       "    }\n",
       "</style>\n",
       "<table border=\"1\" class=\"dataframe\">\n",
       "  <thead>\n",
       "    <tr style=\"text-align: right;\">\n",
       "      <th></th>\n",
       "      <th>TransactionID</th>\n",
       "      <th>TransactionDT</th>\n",
       "      <th>TransactionAmt</th>\n",
       "      <th>ProductCD</th>\n",
       "      <th>card1</th>\n",
       "      <th>card2</th>\n",
       "      <th>card3</th>\n",
       "      <th>card4</th>\n",
       "      <th>card5</th>\n",
       "      <th>card6</th>\n",
       "      <th>...</th>\n",
       "      <th>id-31</th>\n",
       "      <th>id-32</th>\n",
       "      <th>id-33</th>\n",
       "      <th>id-34</th>\n",
       "      <th>id-35</th>\n",
       "      <th>id-36</th>\n",
       "      <th>id-37</th>\n",
       "      <th>id-38</th>\n",
       "      <th>DeviceType</th>\n",
       "      <th>DeviceInfo</th>\n",
       "    </tr>\n",
       "  </thead>\n",
       "  <tbody>\n",
       "    <tr>\n",
       "      <th>0</th>\n",
       "      <td>3663549</td>\n",
       "      <td>18403224</td>\n",
       "      <td>31.950</td>\n",
       "      <td>W</td>\n",
       "      <td>10409</td>\n",
       "      <td>111.0</td>\n",
       "      <td>150.0</td>\n",
       "      <td>visa</td>\n",
       "      <td>226.0</td>\n",
       "      <td>debit</td>\n",
       "      <td>...</td>\n",
       "      <td>NaN</td>\n",
       "      <td>NaN</td>\n",
       "      <td>NaN</td>\n",
       "      <td>NaN</td>\n",
       "      <td>NaN</td>\n",
       "      <td>NaN</td>\n",
       "      <td>NaN</td>\n",
       "      <td>NaN</td>\n",
       "      <td>NaN</td>\n",
       "      <td>NaN</td>\n",
       "    </tr>\n",
       "    <tr>\n",
       "      <th>1</th>\n",
       "      <td>3663550</td>\n",
       "      <td>18403263</td>\n",
       "      <td>49.000</td>\n",
       "      <td>W</td>\n",
       "      <td>4272</td>\n",
       "      <td>111.0</td>\n",
       "      <td>150.0</td>\n",
       "      <td>visa</td>\n",
       "      <td>226.0</td>\n",
       "      <td>debit</td>\n",
       "      <td>...</td>\n",
       "      <td>NaN</td>\n",
       "      <td>NaN</td>\n",
       "      <td>NaN</td>\n",
       "      <td>NaN</td>\n",
       "      <td>NaN</td>\n",
       "      <td>NaN</td>\n",
       "      <td>NaN</td>\n",
       "      <td>NaN</td>\n",
       "      <td>NaN</td>\n",
       "      <td>NaN</td>\n",
       "    </tr>\n",
       "    <tr>\n",
       "      <th>2</th>\n",
       "      <td>3663551</td>\n",
       "      <td>18403310</td>\n",
       "      <td>171.000</td>\n",
       "      <td>W</td>\n",
       "      <td>4476</td>\n",
       "      <td>574.0</td>\n",
       "      <td>150.0</td>\n",
       "      <td>visa</td>\n",
       "      <td>226.0</td>\n",
       "      <td>debit</td>\n",
       "      <td>...</td>\n",
       "      <td>NaN</td>\n",
       "      <td>NaN</td>\n",
       "      <td>NaN</td>\n",
       "      <td>NaN</td>\n",
       "      <td>NaN</td>\n",
       "      <td>NaN</td>\n",
       "      <td>NaN</td>\n",
       "      <td>NaN</td>\n",
       "      <td>NaN</td>\n",
       "      <td>NaN</td>\n",
       "    </tr>\n",
       "    <tr>\n",
       "      <th>3</th>\n",
       "      <td>3663552</td>\n",
       "      <td>18403310</td>\n",
       "      <td>284.950</td>\n",
       "      <td>W</td>\n",
       "      <td>10989</td>\n",
       "      <td>360.0</td>\n",
       "      <td>150.0</td>\n",
       "      <td>visa</td>\n",
       "      <td>166.0</td>\n",
       "      <td>debit</td>\n",
       "      <td>...</td>\n",
       "      <td>NaN</td>\n",
       "      <td>NaN</td>\n",
       "      <td>NaN</td>\n",
       "      <td>NaN</td>\n",
       "      <td>NaN</td>\n",
       "      <td>NaN</td>\n",
       "      <td>NaN</td>\n",
       "      <td>NaN</td>\n",
       "      <td>NaN</td>\n",
       "      <td>NaN</td>\n",
       "    </tr>\n",
       "    <tr>\n",
       "      <th>4</th>\n",
       "      <td>3663553</td>\n",
       "      <td>18403317</td>\n",
       "      <td>67.950</td>\n",
       "      <td>W</td>\n",
       "      <td>18018</td>\n",
       "      <td>452.0</td>\n",
       "      <td>150.0</td>\n",
       "      <td>mastercard</td>\n",
       "      <td>117.0</td>\n",
       "      <td>debit</td>\n",
       "      <td>...</td>\n",
       "      <td>NaN</td>\n",
       "      <td>NaN</td>\n",
       "      <td>NaN</td>\n",
       "      <td>NaN</td>\n",
       "      <td>NaN</td>\n",
       "      <td>NaN</td>\n",
       "      <td>NaN</td>\n",
       "      <td>NaN</td>\n",
       "      <td>NaN</td>\n",
       "      <td>NaN</td>\n",
       "    </tr>\n",
       "    <tr>\n",
       "      <th>...</th>\n",
       "      <td>...</td>\n",
       "      <td>...</td>\n",
       "      <td>...</td>\n",
       "      <td>...</td>\n",
       "      <td>...</td>\n",
       "      <td>...</td>\n",
       "      <td>...</td>\n",
       "      <td>...</td>\n",
       "      <td>...</td>\n",
       "      <td>...</td>\n",
       "      <td>...</td>\n",
       "      <td>...</td>\n",
       "      <td>...</td>\n",
       "      <td>...</td>\n",
       "      <td>...</td>\n",
       "      <td>...</td>\n",
       "      <td>...</td>\n",
       "      <td>...</td>\n",
       "      <td>...</td>\n",
       "      <td>...</td>\n",
       "      <td>...</td>\n",
       "    </tr>\n",
       "    <tr>\n",
       "      <th>506686</th>\n",
       "      <td>4170235</td>\n",
       "      <td>34214279</td>\n",
       "      <td>94.679</td>\n",
       "      <td>C</td>\n",
       "      <td>13832</td>\n",
       "      <td>375.0</td>\n",
       "      <td>185.0</td>\n",
       "      <td>mastercard</td>\n",
       "      <td>224.0</td>\n",
       "      <td>debit</td>\n",
       "      <td>...</td>\n",
       "      <td>NaN</td>\n",
       "      <td>NaN</td>\n",
       "      <td>NaN</td>\n",
       "      <td>NaN</td>\n",
       "      <td>NaN</td>\n",
       "      <td>NaN</td>\n",
       "      <td>NaN</td>\n",
       "      <td>NaN</td>\n",
       "      <td>NaN</td>\n",
       "      <td>NaN</td>\n",
       "    </tr>\n",
       "    <tr>\n",
       "      <th>506687</th>\n",
       "      <td>4170236</td>\n",
       "      <td>34214287</td>\n",
       "      <td>12.173</td>\n",
       "      <td>C</td>\n",
       "      <td>3154</td>\n",
       "      <td>408.0</td>\n",
       "      <td>185.0</td>\n",
       "      <td>mastercard</td>\n",
       "      <td>224.0</td>\n",
       "      <td>debit</td>\n",
       "      <td>...</td>\n",
       "      <td>chrome 43.0 for android</td>\n",
       "      <td>NaN</td>\n",
       "      <td>NaN</td>\n",
       "      <td>NaN</td>\n",
       "      <td>F</td>\n",
       "      <td>F</td>\n",
       "      <td>T</td>\n",
       "      <td>F</td>\n",
       "      <td>mobile</td>\n",
       "      <td>ALE-L23 Build/HuaweiALE-L23</td>\n",
       "    </tr>\n",
       "    <tr>\n",
       "      <th>506688</th>\n",
       "      <td>4170237</td>\n",
       "      <td>34214326</td>\n",
       "      <td>49.000</td>\n",
       "      <td>W</td>\n",
       "      <td>16661</td>\n",
       "      <td>490.0</td>\n",
       "      <td>150.0</td>\n",
       "      <td>visa</td>\n",
       "      <td>226.0</td>\n",
       "      <td>debit</td>\n",
       "      <td>...</td>\n",
       "      <td>NaN</td>\n",
       "      <td>NaN</td>\n",
       "      <td>NaN</td>\n",
       "      <td>NaN</td>\n",
       "      <td>NaN</td>\n",
       "      <td>NaN</td>\n",
       "      <td>NaN</td>\n",
       "      <td>NaN</td>\n",
       "      <td>NaN</td>\n",
       "      <td>NaN</td>\n",
       "    </tr>\n",
       "    <tr>\n",
       "      <th>506689</th>\n",
       "      <td>4170238</td>\n",
       "      <td>34214337</td>\n",
       "      <td>202.000</td>\n",
       "      <td>W</td>\n",
       "      <td>16621</td>\n",
       "      <td>516.0</td>\n",
       "      <td>150.0</td>\n",
       "      <td>mastercard</td>\n",
       "      <td>224.0</td>\n",
       "      <td>debit</td>\n",
       "      <td>...</td>\n",
       "      <td>NaN</td>\n",
       "      <td>NaN</td>\n",
       "      <td>NaN</td>\n",
       "      <td>NaN</td>\n",
       "      <td>NaN</td>\n",
       "      <td>NaN</td>\n",
       "      <td>NaN</td>\n",
       "      <td>NaN</td>\n",
       "      <td>NaN</td>\n",
       "      <td>NaN</td>\n",
       "    </tr>\n",
       "    <tr>\n",
       "      <th>506690</th>\n",
       "      <td>4170239</td>\n",
       "      <td>34214345</td>\n",
       "      <td>24.346</td>\n",
       "      <td>C</td>\n",
       "      <td>5713</td>\n",
       "      <td>168.0</td>\n",
       "      <td>144.0</td>\n",
       "      <td>visa</td>\n",
       "      <td>147.0</td>\n",
       "      <td>credit</td>\n",
       "      <td>...</td>\n",
       "      <td>samsung browser 8.2</td>\n",
       "      <td>NaN</td>\n",
       "      <td>NaN</td>\n",
       "      <td>NaN</td>\n",
       "      <td>F</td>\n",
       "      <td>F</td>\n",
       "      <td>T</td>\n",
       "      <td>F</td>\n",
       "      <td>mobile</td>\n",
       "      <td>SAMSUNG</td>\n",
       "    </tr>\n",
       "  </tbody>\n",
       "</table>\n",
       "<p>506691 rows × 433 columns</p>\n",
       "</div>"
      ],
      "text/plain": [
       "        TransactionID  TransactionDT  TransactionAmt ProductCD  card1  card2  \\\n",
       "0             3663549       18403224          31.950         W  10409  111.0   \n",
       "1             3663550       18403263          49.000         W   4272  111.0   \n",
       "2             3663551       18403310         171.000         W   4476  574.0   \n",
       "3             3663552       18403310         284.950         W  10989  360.0   \n",
       "4             3663553       18403317          67.950         W  18018  452.0   \n",
       "...               ...            ...             ...       ...    ...    ...   \n",
       "506686        4170235       34214279          94.679         C  13832  375.0   \n",
       "506687        4170236       34214287          12.173         C   3154  408.0   \n",
       "506688        4170237       34214326          49.000         W  16661  490.0   \n",
       "506689        4170238       34214337         202.000         W  16621  516.0   \n",
       "506690        4170239       34214345          24.346         C   5713  168.0   \n",
       "\n",
       "        card3       card4  card5   card6  ...                    id-31  id-32  \\\n",
       "0       150.0        visa  226.0   debit  ...                      NaN    NaN   \n",
       "1       150.0        visa  226.0   debit  ...                      NaN    NaN   \n",
       "2       150.0        visa  226.0   debit  ...                      NaN    NaN   \n",
       "3       150.0        visa  166.0   debit  ...                      NaN    NaN   \n",
       "4       150.0  mastercard  117.0   debit  ...                      NaN    NaN   \n",
       "...       ...         ...    ...     ...  ...                      ...    ...   \n",
       "506686  185.0  mastercard  224.0   debit  ...                      NaN    NaN   \n",
       "506687  185.0  mastercard  224.0   debit  ...  chrome 43.0 for android    NaN   \n",
       "506688  150.0        visa  226.0   debit  ...                      NaN    NaN   \n",
       "506689  150.0  mastercard  224.0   debit  ...                      NaN    NaN   \n",
       "506690  144.0        visa  147.0  credit  ...      samsung browser 8.2    NaN   \n",
       "\n",
       "        id-33  id-34 id-35 id-36  id-37  id-38  DeviceType  \\\n",
       "0         NaN    NaN   NaN   NaN    NaN    NaN         NaN   \n",
       "1         NaN    NaN   NaN   NaN    NaN    NaN         NaN   \n",
       "2         NaN    NaN   NaN   NaN    NaN    NaN         NaN   \n",
       "3         NaN    NaN   NaN   NaN    NaN    NaN         NaN   \n",
       "4         NaN    NaN   NaN   NaN    NaN    NaN         NaN   \n",
       "...       ...    ...   ...   ...    ...    ...         ...   \n",
       "506686    NaN    NaN   NaN   NaN    NaN    NaN         NaN   \n",
       "506687    NaN    NaN     F     F      T      F      mobile   \n",
       "506688    NaN    NaN   NaN   NaN    NaN    NaN         NaN   \n",
       "506689    NaN    NaN   NaN   NaN    NaN    NaN         NaN   \n",
       "506690    NaN    NaN     F     F      T      F      mobile   \n",
       "\n",
       "                         DeviceInfo  \n",
       "0                               NaN  \n",
       "1                               NaN  \n",
       "2                               NaN  \n",
       "3                               NaN  \n",
       "4                               NaN  \n",
       "...                             ...  \n",
       "506686                          NaN  \n",
       "506687  ALE-L23 Build/HuaweiALE-L23  \n",
       "506688                          NaN  \n",
       "506689                          NaN  \n",
       "506690                      SAMSUNG  \n",
       "\n",
       "[506691 rows x 433 columns]"
      ]
     },
     "execution_count": 10,
     "metadata": {},
     "output_type": "execute_result"
    }
   ],
   "source": [
    "test = pd.merge(test_t, test_i, on='TransactionID', how='outer')\n",
    "test"
   ]
  },
  {
   "cell_type": "code",
   "execution_count": null,
   "id": "2c4ff15d",
   "metadata": {
    "scrolled": true
   },
   "outputs": [],
   "source": [
    "'''\n",
    "def reduce_mem_usage1(props):\n",
    "    start_mem_usg = props.memory_usage().sum() / 1024**2 \n",
    "    print(\"Memory usage of properties dataframe is :\",start_mem_usg,\" MB\")\n",
    "    NAlist = [] # Keeps track of columns that have missing values filled in. \n",
    "    for col in props.columns:\n",
    "        if props[col].dtype != object:  # Exclude strings\n",
    "            \n",
    "            # Print current column type\n",
    "            print(\"******************************\")\n",
    "            print(\"Column: \",col)\n",
    "            print(\"dtype before: \",props[col].dtype)\n",
    "            \n",
    "            # make variables for Int, max and min\n",
    "            IsInt = False\n",
    "            mx = props[col].max()\n",
    "            mn = props[col].min()\n",
    "            \n",
    "            # Integer does not support NA, therefore, NA needs to be filled\n",
    "            if not np.isfinite(props[col]).all(): \n",
    "                NAlist.append(col)\n",
    "                props[col].fillna(mn-1,inplace=True)  \n",
    "                   \n",
    "            # test if column can be converted to an integer\n",
    "            asint = props[col].fillna(0).astype(np.int64)\n",
    "            result = (props[col] - asint)\n",
    "            result = result.sum()\n",
    "            if result > -0.01 and result < 0.01:\n",
    "                IsInt = True\n",
    "\n",
    "            \n",
    "            # Make Integer/unsigned Integer datatypes\n",
    "            if IsInt:\n",
    "                if mn >= 0:\n",
    "                    if mx < 255:\n",
    "                        props[col] = props[col].astype(np.uint8)\n",
    "                    elif mx < 65535:\n",
    "                        props[col] = props[col].astype(np.uint16)\n",
    "                    elif mx < 4294967295:\n",
    "                        props[col] = props[col].astype(np.uint32)\n",
    "                    else:\n",
    "                        props[col] = props[col].astype(np.uint64)\n",
    "                else:\n",
    "                    if mn > np.iinfo(np.int8).min and mx < np.iinfo(np.int8).max:\n",
    "                        props[col] = props[col].astype(np.int8)\n",
    "                    elif mn > np.iinfo(np.int16).min and mx < np.iinfo(np.int16).max:\n",
    "                        props[col] = props[col].astype(np.int16)\n",
    "                    elif mn > np.iinfo(np.int32).min and mx < np.iinfo(np.int32).max:\n",
    "                        props[col] = props[col].astype(np.int32)\n",
    "                    elif mn > np.iinfo(np.int64).min and mx < np.iinfo(np.int64).max:\n",
    "                        props[col] = props[col].astype(np.int64)    \n",
    "            \n",
    "            # Make float datatypes 32 bit\n",
    "            else:\n",
    "                props[col] = props[col].astype(np.float32)\n",
    "            \n",
    "            # Print new column type\n",
    "            print(\"dtype after: \",props[col].dtype)\n",
    "            print(\"******************************\")\n",
    "    \n",
    "    # Print final result\n",
    "    print(\"___MEMORY USAGE AFTER COMPLETION:___\")\n",
    "    mem_usg = props.memory_usage().sum() / 1024**2 \n",
    "    print(\"Memory usage is: \",mem_usg,\" MB\")\n",
    "    print(\"This is \",100*mem_usg/start_mem_usg,\"% of the initial size\")\n",
    "    return props, NAlist\n",
    "\n",
    "%time\n",
    "# From kernel https://www.kaggle.com/gemartin/load-data-reduce-memory-usage\n",
    "# WARNING! THIS CAN DAMAGE THE DATA \n",
    "def reduce_mem_usage2(df):\n",
    "    \"\"\" iterate through all the columns of a dataframe and modify the data type\n",
    "        to reduce memory usage.        \n",
    "    \"\"\"\n",
    "    start_mem = df.memory_usage().sum() / 1024**2\n",
    "    print('Memory usage of dataframe is {:.2f} MB'.format(start_mem))\n",
    "    \n",
    "    for col in df.columns:\n",
    "        col_type = df[col].dtype\n",
    "        \n",
    "        if col_type != object:\n",
    "            c_min = df[col].min()\n",
    "            c_max = df[col].max()\n",
    "            if str(col_type)[:3] == 'int':\n",
    "                if c_min > np.iinfo(np.int8).min and c_max < np.iinfo(np.int8).max:\n",
    "                    df[col] = df[col].astype(np.int8)\n",
    "                elif c_min > np.iinfo(np.int16).min and c_max < np.iinfo(np.int16).max:\n",
    "                    df[col] = df[col].astype(np.int16)\n",
    "                elif c_min > np.iinfo(np.int32).min and c_max < np.iinfo(np.int32).max:\n",
    "                    df[col] = df[col].astype(np.int32)\n",
    "                elif c_min > np.iinfo(np.int64).min and c_max < np.iinfo(np.int64).max:\n",
    "                    df[col] = df[col].astype(np.int64)  \n",
    "            else:\n",
    "                if c_min > np.finfo(np.float16).min and c_max < np.finfo(np.float16).max:\n",
    "                    df[col] = df[col].astype(np.float16)\n",
    "                elif c_min > np.finfo(np.float32).min and c_max < np.finfo(np.float32).max:\n",
    "                    df[col] = df[col].astype(np.float32)\n",
    "                else:\n",
    "                    df[col] = df[col].astype(np.float64)\n",
    "        else:\n",
    "            df[col] = df[col].astype('category')\n",
    "\n",
    "    end_mem = df.memory_usage().sum() / 1024**2\n",
    "    print('Memory usage after optimization is: {:.2f} MB'.format(end_mem))\n",
    "    print('Decreased by {:.1f}%'.format(100 * (start_mem - end_mem) / start_mem))\n",
    "    \n",
    "    return df\n",
    "'''"
   ]
  },
  {
   "cell_type": "code",
   "execution_count": null,
   "id": "56290bbe",
   "metadata": {
    "scrolled": true
   },
   "outputs": [],
   "source": [
    "'''\n",
    "train = reduce_mem_usage2(train)\n",
    "test = reduce_mem_usage2(test)\n",
    "'''"
   ]
  },
  {
   "cell_type": "markdown",
   "id": "74b1a521",
   "metadata": {},
   "source": [
    "# Train Data"
   ]
  },
  {
   "cell_type": "code",
   "execution_count": null,
   "id": "e303fec1",
   "metadata": {
    "scrolled": true
   },
   "outputs": [],
   "source": [
    "train.info()\n",
    "train.iloc[:, :100].info()\n",
    "train.iloc[:, 100:200].info()\n",
    "train.iloc[:, 200:300].info()\n",
    "train.iloc[:, 300:400].info()\n",
    "train.iloc[:, 300:400].info()"
   ]
  },
  {
   "cell_type": "markdown",
   "id": "4e1adb29",
   "metadata": {},
   "source": [
    "dtype = float64, int64, object"
   ]
  },
  {
   "cell_type": "markdown",
   "id": "be72efc8",
   "metadata": {},
   "source": [
    "## Numerical Column (Discrete? Continuous?)"
   ]
  },
  {
   "cell_type": "markdown",
   "id": "bd9ea498",
   "metadata": {},
   "source": [
    "Discrete = ['TransactionID', 'isFraud', 'TransactionDT', 'card1', \n",
    "</br>'card2', 'card3', 'card5', 'addr1', 'addr2', 'dist1',\n",
    "       'dist2',  'C3',  'C5',  'C7', 'C8', 'C9', 'C10',\n",
    "       'C11', 'C12', 'C13', 'C14', 'D1', 'D2', 'D3', 'D4', 'D5', 'D6', 'D7',\n",
    "       ,  'D10', 'D11', 'D12', 'D13', 'D14', 'D15', 'V1', 'V2', 'V3',\n",
    "       'V4', 'V5', 'V6', 'V7', 'V8', 'V9', 'V10', 'V11', 'V12', 'V13', 'V14',\n",
    "       'V15', 'V16', 'V17', 'V18', 'V19', 'V20', 'V21', 'V22', 'V23', 'V24',\n",
    "       'V25', 'V26', 'V27', 'V28', 'V29', 'V30', 'V31', 'V32', 'V33', 'V34',\n",
    "       'V35', 'V36', 'V37', 'V38', 'V39', 'V40', 'V41', 'V42', 'V43', 'V44',\n",
    "       'V45', 'V46', 'V47', 'V48', 'V49', 'V50', 'V51', 'V52', 'V53', 'V54',\n",
    "       'V55', 'V56', 'V57', 'V58', 'V59', 'V60', 'V61', 'V62', 'V63',\n",
    "       'V64', 'V65', 'V66', 'V67', 'V68', 'V69', 'V70', 'V71', 'V72', 'V73',\n",
    "       'V74', 'V75', 'V76', 'V77', 'V78', 'V79', 'V80', 'V81', 'V82', 'V83',\n",
    "       'V84', 'V85', 'V86', 'V87', 'V88', 'V89', 'V90', 'V91', 'V92', 'V93',\n",
    "       'V94', 'V95',  'V97', 'V98', 'V99', 'V100', 'V101', \n",
    "       'V103', 'V104', 'V105', 'V106', 'V107', 'V108', 'V109', 'V110', 'V111',\n",
    "       'V112', 'V113', 'V114', 'V115', 'V116', 'V117', 'V118', 'V119', 'V120',\n",
    "       'V121', 'V122', 'V123', 'V124', 'V125',   'V138',\n",
    "       'V139', 'V140', 'V141', 'V142', 'V143', 'V144', 'V145', 'V146', 'V147',\n",
    "       'V148', 'V149', 'V150', 'V151', 'V152', 'V153', 'V154', 'V155', 'V156',\n",
    "       'V157', 'V158',   'V167', 'V168', 'V169', 'V170', 'V171', 'V172',\n",
    "       'V173', 'V174', 'V175', 'V176', 'V177',  'V179', 'V180', 'V181',\n",
    "       'V182', 'V183', 'V184', 'V185', 'V186', 'V187', 'V188', 'V189', 'V190',\n",
    "       'V191', 'V192', 'V193', 'V194', 'V195', 'V196', 'V197', 'V198', 'V199',\n",
    "       'V200', 'V201',  'V217',\n",
    "       'V218', 'V219', 'V220', 'V221', 'V222', 'V223', 'V224', 'V225', 'V226',\n",
    "       'V227', 'V228', 'V229', 'V230', 'V231', 'V232', 'V233', 'V234', 'V235',\n",
    "       'V236', 'V237', 'V238', 'V239', 'V240', 'V241', 'V242', 'V243', 'V244',\n",
    "       'V245', 'V246', 'V247', 'V248', 'V249', 'V250', 'V251', 'V252', 'V253',\n",
    "       'V254', 'V255', 'V256', 'V257', 'V258', 'V259', 'V260', 'V261', 'V262',\n",
    "        'V269',   'V280', 'V281',\n",
    "       'V282', 'V283', 'V284', 'V285', 'V286', 'V287', 'V288', 'V289', 'V290',\n",
    "       'V292', 'V293',  'V295', 'V296', 'V297', 'V298', 'V299',\n",
    "       'V300', 'V301', 'V302', 'V303', 'V304', 'V305',  'V322',  'V324', 'V325', 'V326',\n",
    "       'V327', 'V328', 'V329', 'V330', , 'id_01', , 'id_03', 'id_04',\n",
    "       'id_05', 'id_06', 'id_07', 'id_08', 'id_09', 'id_10', 'id_13',\n",
    "       'id_14', 'id_17', 'id_18', 'id_19', 'id_20', 'id_21', 'id_22', 'id_24',\n",
    "       'id_25', 'id_26', 'id_32']\n",
    "</br>\n",
    "</br> Continuous = ['TransactionAmt', 'D8', 'D9', 'V126', 'V127', 'V128', 'V129',\n",
    "       'V130', 'V131', 'V132', 'V133', 'V134', 'V135', 'V136', 'V137', 'V159', 'V160','V263',\n",
    "       'V264', 'V265', 'V266', 'V267', 'V268', 'V306', 'V307', 'V308','V309', 'V310', 'V311', 'V312', 'V313', 'V314', 'V315', 'V316', 'V317','V318', 'V319', 'V320', 'V321', 'id_11']\n",
    "\n",
    "</br> 추가확인 필요       \n",
    "'C1', 'C2', 'C4', 'C6', 'C11', 'V96', 'V102', 'V161','V162', 'V163',\n",
    "       'V164', 'V165', 'V166','V178', 'V202', 'V203', 'V204', 'V205', 'V206', 'V207', 'V208',\n",
    "       'V209', 'V210', 'V211', 'V212', 'V213', 'V214', 'V215', 'V216', 'V279', 'V270', 'V271', 'V272', 'V273', 'V274', 'V275', 'V276', 'V277', 'V278', 'V291', 'V294', 'V323','V331', 'V332', 'V333', 'V334', 'V335',\n",
    "       'V336', 'V337', 'V338', 'V339','id_02',\n"
   ]
  },
  {
   "cell_type": "code",
   "execution_count": 11,
   "id": "f09c515f",
   "metadata": {
    "ExecuteTime": {
     "end_time": "2022-06-17T09:03:15.697361Z",
     "start_time": "2022-06-17T09:03:15.690757Z"
    },
    "scrolled": true
   },
   "outputs": [],
   "source": [
    "train_float = train.select_dtypes(include='float64')\n",
    "train_int = train.select_dtypes(include='int64')  # 결측치 없음 # Discrete Column"
   ]
  },
  {
   "cell_type": "code",
   "execution_count": 12,
   "id": "4a03c66d",
   "metadata": {
    "ExecuteTime": {
     "end_time": "2022-06-17T09:03:16.956072Z",
     "start_time": "2022-06-17T09:03:16.942055Z"
    },
    "scrolled": false
   },
   "outputs": [
    {
     "data": {
      "text/html": [
       "<div>\n",
       "<style scoped>\n",
       "    .dataframe tbody tr th:only-of-type {\n",
       "        vertical-align: middle;\n",
       "    }\n",
       "\n",
       "    .dataframe tbody tr th {\n",
       "        vertical-align: top;\n",
       "    }\n",
       "\n",
       "    .dataframe thead th {\n",
       "        text-align: right;\n",
       "    }\n",
       "</style>\n",
       "<table border=\"1\" class=\"dataframe\">\n",
       "  <thead>\n",
       "    <tr style=\"text-align: right;\">\n",
       "      <th></th>\n",
       "      <th>TransactionID</th>\n",
       "      <th>isFraud</th>\n",
       "      <th>TransactionDT</th>\n",
       "      <th>card1</th>\n",
       "    </tr>\n",
       "  </thead>\n",
       "  <tbody>\n",
       "    <tr>\n",
       "      <th>0</th>\n",
       "      <td>2987000</td>\n",
       "      <td>0</td>\n",
       "      <td>86400</td>\n",
       "      <td>13926</td>\n",
       "    </tr>\n",
       "    <tr>\n",
       "      <th>1</th>\n",
       "      <td>2987001</td>\n",
       "      <td>0</td>\n",
       "      <td>86401</td>\n",
       "      <td>2755</td>\n",
       "    </tr>\n",
       "    <tr>\n",
       "      <th>2</th>\n",
       "      <td>2987002</td>\n",
       "      <td>0</td>\n",
       "      <td>86469</td>\n",
       "      <td>4663</td>\n",
       "    </tr>\n",
       "    <tr>\n",
       "      <th>3</th>\n",
       "      <td>2987003</td>\n",
       "      <td>0</td>\n",
       "      <td>86499</td>\n",
       "      <td>18132</td>\n",
       "    </tr>\n",
       "    <tr>\n",
       "      <th>4</th>\n",
       "      <td>2987004</td>\n",
       "      <td>0</td>\n",
       "      <td>86506</td>\n",
       "      <td>4497</td>\n",
       "    </tr>\n",
       "    <tr>\n",
       "      <th>...</th>\n",
       "      <td>...</td>\n",
       "      <td>...</td>\n",
       "      <td>...</td>\n",
       "      <td>...</td>\n",
       "    </tr>\n",
       "    <tr>\n",
       "      <th>590535</th>\n",
       "      <td>3577535</td>\n",
       "      <td>0</td>\n",
       "      <td>15811047</td>\n",
       "      <td>6550</td>\n",
       "    </tr>\n",
       "    <tr>\n",
       "      <th>590536</th>\n",
       "      <td>3577536</td>\n",
       "      <td>0</td>\n",
       "      <td>15811049</td>\n",
       "      <td>10444</td>\n",
       "    </tr>\n",
       "    <tr>\n",
       "      <th>590537</th>\n",
       "      <td>3577537</td>\n",
       "      <td>0</td>\n",
       "      <td>15811079</td>\n",
       "      <td>12037</td>\n",
       "    </tr>\n",
       "    <tr>\n",
       "      <th>590538</th>\n",
       "      <td>3577538</td>\n",
       "      <td>0</td>\n",
       "      <td>15811088</td>\n",
       "      <td>7826</td>\n",
       "    </tr>\n",
       "    <tr>\n",
       "      <th>590539</th>\n",
       "      <td>3577539</td>\n",
       "      <td>0</td>\n",
       "      <td>15811131</td>\n",
       "      <td>15066</td>\n",
       "    </tr>\n",
       "  </tbody>\n",
       "</table>\n",
       "<p>590540 rows × 4 columns</p>\n",
       "</div>"
      ],
      "text/plain": [
       "        TransactionID  isFraud  TransactionDT  card1\n",
       "0             2987000        0          86400  13926\n",
       "1             2987001        0          86401   2755\n",
       "2             2987002        0          86469   4663\n",
       "3             2987003        0          86499  18132\n",
       "4             2987004        0          86506   4497\n",
       "...               ...      ...            ...    ...\n",
       "590535        3577535        0       15811047   6550\n",
       "590536        3577536        0       15811049  10444\n",
       "590537        3577537        0       15811079  12037\n",
       "590538        3577538        0       15811088   7826\n",
       "590539        3577539        0       15811131  15066\n",
       "\n",
       "[590540 rows x 4 columns]"
      ]
     },
     "execution_count": 12,
     "metadata": {},
     "output_type": "execute_result"
    }
   ],
   "source": [
    "train.select_dtypes('int64')"
   ]
  },
  {
   "cell_type": "code",
   "execution_count": null,
   "id": "79f6961a",
   "metadata": {
    "ExecuteTime": {
     "end_time": "2022-06-17T04:17:27.447715Z",
     "start_time": "2022-06-17T04:17:27.437551Z"
    },
    "scrolled": true
   },
   "outputs": [],
   "source": [
    "print(train_float.columns[:100])\n",
    "print(train_float.columns[100:200])\n",
    "print(train_float.columns[200:300])\n",
    "print(train_float.columns[300:400])"
   ]
  },
  {
   "cell_type": "code",
   "execution_count": null,
   "id": "a427fc5f",
   "metadata": {
    "ExecuteTime": {
     "end_time": "2022-06-17T04:20:22.385920Z",
     "start_time": "2022-06-17T04:20:21.046504Z"
    },
    "scrolled": true
   },
   "outputs": [],
   "source": [
    "# float63 type column들의 unique 뽑기  /  continous? discrete?\n",
    "\n",
    "for i in range(399):\n",
    "    print(train_float.columns[i])\n",
    "    print(train_float[train_float.columns[i]].unique())"
   ]
  },
  {
   "cell_type": "code",
   "execution_count": null,
   "id": "a45f0eb1",
   "metadata": {
    "ExecuteTime": {
     "end_time": "2022-06-17T04:57:47.496706Z",
     "start_time": "2022-06-17T04:57:38.939089Z"
    },
    "scrolled": true
   },
   "outputs": [],
   "source": [
    "for i in range(20):\n",
    "    i += 1\n",
    "#     print(i-1, i)\n",
    "    print(train_float.iloc[:,20*(i-1):20*(i)].describe())\n"
   ]
  },
  {
   "cell_type": "code",
   "execution_count": 13,
   "id": "7d957259",
   "metadata": {
    "ExecuteTime": {
     "end_time": "2022-06-17T09:03:19.748279Z",
     "start_time": "2022-06-17T09:03:19.740308Z"
    }
   },
   "outputs": [],
   "source": [
    "train_float_list = ['C1', 'C2', 'C4', 'C6', 'C11', 'V96', 'V102',\n",
    "              'V161','V162', 'V163','V164', 'V165', 'V166','V178',\n",
    "              'V202', 'V203', 'V204', 'V205', 'V206', 'V207', 'V208',\n",
    "              'V209', 'V210', 'V211', 'V212', 'V213', 'V214', 'V215', \n",
    "              'V216', 'V279', 'V270', 'V271', 'V272', 'V273', 'V274',\n",
    "              'V275', 'V276', 'V277', 'V278', 'V291', 'V294', 'V323',\n",
    "              'V331', 'V332', 'V333', 'V334', 'V335','V336', 'V337',\n",
    "              'V338', 'V339','id_02'] # 추가 확인할 것"
   ]
  },
  {
   "cell_type": "code",
   "execution_count": 56,
   "id": "97e638f2",
   "metadata": {
    "ExecuteTime": {
     "end_time": "2022-06-17T09:13:06.602471Z",
     "start_time": "2022-06-17T09:13:06.597538Z"
    }
   },
   "outputs": [
    {
     "data": {
      "text/plain": [
       "'C1'"
      ]
     },
     "execution_count": 56,
     "metadata": {},
     "output_type": "execute_result"
    }
   ],
   "source": [
    "train_float_list[0]"
   ]
  },
  {
   "cell_type": "code",
   "execution_count": 14,
   "id": "c3083436",
   "metadata": {
    "ExecuteTime": {
     "end_time": "2022-06-17T09:03:20.575467Z",
     "start_time": "2022-06-17T09:03:20.572674Z"
    }
   },
   "outputs": [],
   "source": [
    "a = len(train_float_list)"
   ]
  },
  {
   "cell_type": "code",
   "execution_count": null,
   "id": "fe9c45af",
   "metadata": {
    "ExecuteTime": {
     "end_time": "2022-06-17T04:48:21.510537Z",
     "start_time": "2022-06-17T04:48:21.506167Z"
    }
   },
   "outputs": [],
   "source": [
    "np.set_printoptions(threshold=np.inf, linewidth=np.inf) # nd array 생략 없애기\n",
    "np.set_printoptions(suppress=True)    # 부동소수점 제거"
   ]
  },
  {
   "cell_type": "code",
   "execution_count": 15,
   "id": "6140c56d",
   "metadata": {
    "ExecuteTime": {
     "end_time": "2022-06-17T09:03:23.470535Z",
     "start_time": "2022-06-17T09:03:23.464235Z"
    }
   },
   "outputs": [
    {
     "data": {
      "text/plain": [
       "'id_02'"
      ]
     },
     "execution_count": 15,
     "metadata": {},
     "output_type": "execute_result"
    }
   ],
   "source": [
    "train_float_list[51]"
   ]
  },
  {
   "cell_type": "code",
   "execution_count": null,
   "id": "b2d75b90",
   "metadata": {
    "ExecuteTime": {
     "end_time": "2022-06-17T06:28:40.874635Z",
     "start_time": "2022-06-17T06:28:40.860052Z"
    }
   },
   "outputs": [],
   "source": [
    "train.V102.nunique()"
   ]
  },
  {
   "cell_type": "code",
   "execution_count": null,
   "id": "71ab7ee1",
   "metadata": {
    "ExecuteTime": {
     "end_time": "2022-06-17T06:32:57.887312Z",
     "start_time": "2022-06-17T06:32:57.882192Z"
    }
   },
   "outputs": [],
   "source": [
    "(1285 / 590540)*100"
   ]
  },
  {
   "cell_type": "code",
   "execution_count": 16,
   "id": "edf34a6c",
   "metadata": {
    "ExecuteTime": {
     "end_time": "2022-06-17T09:03:25.814959Z",
     "start_time": "2022-06-17T09:03:25.738472Z"
    }
   },
   "outputs": [
    {
     "name": "stdout",
     "output_type": "stream",
     "text": [
      "<class 'pandas.core.frame.DataFrame'>\n",
      "Int64Index: 590540 entries, 0 to 590539\n",
      "Columns: 434 entries, TransactionID to DeviceInfo\n",
      "dtypes: float64(399), int64(4), object(31)\n",
      "memory usage: 1.9+ GB\n"
     ]
    }
   ],
   "source": [
    "train.info()"
   ]
  },
  {
   "cell_type": "code",
   "execution_count": null,
   "id": "5bffca56",
   "metadata": {
    "ExecuteTime": {
     "end_time": "2022-06-17T04:53:02.841954Z",
     "start_time": "2022-06-17T04:53:00.412423Z"
    },
    "scrolled": true
   },
   "outputs": [],
   "source": [
    "for i in range(a):\n",
    "    i += 1\n",
    "    print(train_float_list[i-1])   \n",
    "    print(train[train_float_list[i-1]].unique())"
   ]
  },
  {
   "cell_type": "code",
   "execution_count": 17,
   "id": "2460d3de",
   "metadata": {
    "ExecuteTime": {
     "end_time": "2022-06-17T09:03:31.891096Z",
     "start_time": "2022-06-17T09:03:31.865959Z"
    },
    "scrolled": true
   },
   "outputs": [
    {
     "ename": "NameError",
     "evalue": "name 'subplot' is not defined",
     "output_type": "error",
     "traceback": [
      "\u001b[0;31m---------------------------------------------------------------------------\u001b[0m",
      "\u001b[0;31mNameError\u001b[0m                                 Traceback (most recent call last)",
      "Input \u001b[0;32mIn [17]\u001b[0m, in \u001b[0;36m<cell line: 1>\u001b[0;34m()\u001b[0m\n\u001b[0;32m----> 1\u001b[0m \u001b[43msubplot\u001b[49m()\n\u001b[1;32m      2\u001b[0m sns\u001b[38;5;241m.\u001b[39mdistplot(train_float\u001b[38;5;241m.\u001b[39mC1)\n",
      "\u001b[0;31mNameError\u001b[0m: name 'subplot' is not defined"
     ]
    }
   ],
   "source": [
    "subplot()\n",
    "sns.distplot(train_float.C1)"
   ]
  },
  {
   "cell_type": "code",
   "execution_count": 23,
   "id": "dd0c2a35",
   "metadata": {
    "ExecuteTime": {
     "end_time": "2022-06-17T09:05:48.203398Z",
     "start_time": "2022-06-17T09:05:48.196769Z"
    }
   },
   "outputs": [
    {
     "data": {
      "text/plain": [
       "'C1'"
      ]
     },
     "execution_count": 23,
     "metadata": {},
     "output_type": "execute_result"
    }
   ],
   "source": [
    "train_float_list[0]"
   ]
  },
  {
   "cell_type": "code",
   "execution_count": 29,
   "id": "ae4fa8d2",
   "metadata": {
    "ExecuteTime": {
     "end_time": "2022-06-17T09:06:54.140066Z",
     "start_time": "2022-06-17T09:06:53.543743Z"
    }
   },
   "outputs": [
    {
     "data": {
      "text/plain": [
       "<AxesSubplot:xlabel='C1', ylabel='Density'>"
      ]
     },
     "execution_count": 29,
     "metadata": {},
     "output_type": "execute_result"
    },
    {
     "data": {
      "image/png": "[encoded data removed]",
      "text/plain": [
       "<Figure size 432x288 with 1 Axes>"
      ]
     },
     "metadata": {
      "needs_background": "light"
     },
     "output_type": "display_data"
    }
   ],
   "source": [
    "sns.distplot(train.C1)"
   ]
  },
  {
   "cell_type": "code",
   "execution_count": 36,
   "id": "5743aee6",
   "metadata": {
    "ExecuteTime": {
     "end_time": "2022-06-17T09:08:45.029215Z",
     "start_time": "2022-06-17T09:08:45.019329Z"
    }
   },
   "outputs": [
    {
     "data": {
      "text/plain": [
       "0         1.0\n",
       "1         1.0\n",
       "2         1.0\n",
       "3         2.0\n",
       "4         1.0\n",
       "         ... \n",
       "590535    2.0\n",
       "590536    1.0\n",
       "590537    1.0\n",
       "590538    1.0\n",
       "590539    2.0\n",
       "Name: C1, Length: 590540, dtype: float64"
      ]
     },
     "execution_count": 36,
     "metadata": {},
     "output_type": "execute_result"
    }
   ],
   "source": [
    "train[train_float_list[0]]"
   ]
  },
  {
   "cell_type": "code",
   "execution_count": null,
   "id": "b2a861dc",
   "metadata": {
    "ExecuteTime": {
     "start_time": "2022-06-17T09:27:36.642Z"
    },
    "scrolled": false
   },
   "outputs": [
    {
     "ename": "ValueError",
     "evalue": "could not convert string to float: 'W'",
     "output_type": "error",
     "traceback": [
      "\u001b[0;31m---------------------------------------------------------------------------\u001b[0m",
      "\u001b[0;31mValueError\u001b[0m                                Traceback (most recent call last)",
      "Input \u001b[0;32mIn [87]\u001b[0m, in \u001b[0;36m<cell line: 3>\u001b[0;34m()\u001b[0m\n\u001b[1;32m      8\u001b[0m ax \u001b[38;5;241m=\u001b[39m axes[row][col]\n\u001b[1;32m      9\u001b[0m dept \u001b[38;5;241m=\u001b[39m train_float_list[idx]\n\u001b[0;32m---> 10\u001b[0m \u001b[43msns\u001b[49m\u001b[38;5;241;43m.\u001b[39;49m\u001b[43mdistplot\u001b[49m\u001b[43m(\u001b[49m\u001b[43mtrain\u001b[49m\u001b[43m,\u001b[49m\u001b[43m \u001b[49m\u001b[43max\u001b[49m\u001b[38;5;241;43m=\u001b[39;49m\u001b[43max\u001b[49m\u001b[43m)\u001b[49m\n\u001b[1;32m     11\u001b[0m ax\u001b[38;5;241m.\u001b[39mset(xlabel\u001b[38;5;241m=\u001b[39mdept)\n",
      "File \u001b[0;32m~/miniforge3/envs/lhs/lib/python3.8/site-packages/seaborn/distributions.py:2636\u001b[0m, in \u001b[0;36mdistplot\u001b[0;34m(a, bins, hist, kde, rug, fit, hist_kws, kde_kws, rug_kws, fit_kws, color, vertical, norm_hist, axlabel, label, ax, x)\u001b[0m\n\u001b[1;32m   2633\u001b[0m     a \u001b[38;5;241m=\u001b[39m x\n\u001b[1;32m   2635\u001b[0m \u001b[38;5;66;03m# Make a a 1-d float array\u001b[39;00m\n\u001b[0;32m-> 2636\u001b[0m a \u001b[38;5;241m=\u001b[39m \u001b[43mnp\u001b[49m\u001b[38;5;241;43m.\u001b[39;49m\u001b[43masarray\u001b[49m\u001b[43m(\u001b[49m\u001b[43ma\u001b[49m\u001b[43m,\u001b[49m\u001b[43m \u001b[49m\u001b[38;5;28;43mfloat\u001b[39;49m\u001b[43m)\u001b[49m\n\u001b[1;32m   2637\u001b[0m \u001b[38;5;28;01mif\u001b[39;00m a\u001b[38;5;241m.\u001b[39mndim \u001b[38;5;241m>\u001b[39m \u001b[38;5;241m1\u001b[39m:\n\u001b[1;32m   2638\u001b[0m     a \u001b[38;5;241m=\u001b[39m a\u001b[38;5;241m.\u001b[39msqueeze()\n",
      "File \u001b[0;32m~/miniforge3/envs/lhs/lib/python3.8/site-packages/pandas/core/generic.py:2064\u001b[0m, in \u001b[0;36mNDFrame.__array__\u001b[0;34m(self, dtype)\u001b[0m\n\u001b[1;32m   2063\u001b[0m \u001b[38;5;28;01mdef\u001b[39;00m \u001b[38;5;21m__array__\u001b[39m(\u001b[38;5;28mself\u001b[39m, dtype: npt\u001b[38;5;241m.\u001b[39mDTypeLike \u001b[38;5;241m|\u001b[39m \u001b[38;5;28;01mNone\u001b[39;00m \u001b[38;5;241m=\u001b[39m \u001b[38;5;28;01mNone\u001b[39;00m) \u001b[38;5;241m-\u001b[39m\u001b[38;5;241m>\u001b[39m np\u001b[38;5;241m.\u001b[39mndarray:\n\u001b[0;32m-> 2064\u001b[0m     \u001b[38;5;28;01mreturn\u001b[39;00m \u001b[43mnp\u001b[49m\u001b[38;5;241;43m.\u001b[39;49m\u001b[43masarray\u001b[49m\u001b[43m(\u001b[49m\u001b[38;5;28;43mself\u001b[39;49m\u001b[38;5;241;43m.\u001b[39;49m\u001b[43m_values\u001b[49m\u001b[43m,\u001b[49m\u001b[43m \u001b[49m\u001b[43mdtype\u001b[49m\u001b[38;5;241;43m=\u001b[39;49m\u001b[43mdtype\u001b[49m\u001b[43m)\u001b[49m\n",
      "\u001b[0;31mValueError\u001b[0m: could not convert string to float: 'W'"
     ]
    }
   ],
   "source": [
    "fig, axes = plt.subplots(nrows=4, ncols=3, figsize=(15, 16))\n",
    "\n",
    "for row in range(4):\n",
    "    for col in range(3):\n",
    "        idx = row * 3 + col\n",
    "        \n",
    "        if idx < len(train_float_list):\n",
    "            ax = axes[row][col]\n",
    "            dept = train_float_list[idx]\n",
    "            sns.distplot(train, ax=ax)\n",
    "            ax.set(xlabel=dept)\n"
   ]
  },
  {
   "cell_type": "code",
   "execution_count": 73,
   "id": "91d57906",
   "metadata": {
    "ExecuteTime": {
     "end_time": "2022-06-17T09:19:13.274142Z",
     "start_time": "2022-06-17T09:19:13.251368Z"
    }
   },
   "outputs": [
    {
     "ename": "NameError",
     "evalue": "name 'ax' is not defined",
     "output_type": "error",
     "traceback": [
      "\u001b[0;31m---------------------------------------------------------------------------\u001b[0m",
      "\u001b[0;31mNameError\u001b[0m                                 Traceback (most recent call last)",
      "Input \u001b[0;32mIn [73]\u001b[0m, in \u001b[0;36m<cell line: 1>\u001b[0;34m()\u001b[0m\n\u001b[0;32m----> 1\u001b[0m \u001b[43max\u001b[49m,\u001b[38;5;241m1\u001b[39m\n",
      "\u001b[0;31mNameError\u001b[0m: name 'ax' is not defined"
     ]
    }
   ],
   "source": []
  },
  {
   "cell_type": "code",
   "execution_count": 65,
   "id": "596c9a73",
   "metadata": {
    "ExecuteTime": {
     "end_time": "2022-06-17T09:17:10.756779Z",
     "start_time": "2022-06-17T09:17:10.750851Z"
    }
   },
   "outputs": [
    {
     "name": "stdout",
     "output_type": "stream",
     "text": [
      "1\n",
      "2\n",
      "3\n",
      "4\n",
      "5\n",
      "6\n"
     ]
    }
   ],
   "source": [
    "for i in range(6):\n",
    "    i += 1\n",
    "    print(i)"
   ]
  },
  {
   "cell_type": "code",
   "execution_count": null,
   "id": "a32c088e",
   "metadata": {
    "ExecuteTime": {
     "end_time": "2022-06-17T04:37:58.274807Z",
     "start_time": "2022-06-17T04:37:58.254702Z"
    }
   },
   "outputs": [],
   "source": [
    "a = len(train_float.C1.unique())\n",
    "a"
   ]
  },
  {
   "cell_type": "code",
   "execution_count": null,
   "id": "753b10e4",
   "metadata": {
    "ExecuteTime": {
     "end_time": "2022-06-17T05:03:56.980855Z",
     "start_time": "2022-06-17T05:03:56.955618Z"
    },
    "scrolled": true
   },
   "outputs": [],
   "source": [
    "([1.1]).is_integer()"
   ]
  },
  {
   "cell_type": "code",
   "execution_count": null,
   "id": "4a82e122",
   "metadata": {
    "ExecuteTime": {
     "end_time": "2022-06-17T04:22:39.367339Z",
     "start_time": "2022-06-17T04:22:39.357184Z"
    }
   },
   "outputs": [],
   "source": [
    "train[train_float_list[0]].iloc[:50]\n",
    "# train.C1"
   ]
  },
  {
   "cell_type": "code",
   "execution_count": null,
   "id": "dcc26d9e",
   "metadata": {
    "ExecuteTime": {
     "start_time": "2022-06-16T10:11:04.621Z"
    },
    "scrolled": true
   },
   "outputs": [],
   "source": [
    "sns.histplot(train_float[train_float_list].iloc[:,:2])"
   ]
  },
  {
   "cell_type": "code",
   "execution_count": null,
   "id": "344ad351",
   "metadata": {
    "ExecuteTime": {
     "start_time": "2022-06-16T10:11:20.416Z"
    }
   },
   "outputs": [],
   "source": [
    "train_float[train_float_list].iloc[:,:2]"
   ]
  },
  {
   "cell_type": "code",
   "execution_count": null,
   "id": "95dd0405",
   "metadata": {
    "ExecuteTime": {
     "end_time": "2022-06-16T10:03:58.639028Z",
     "start_time": "2022-06-16T10:03:58.562735Z"
    },
    "scrolled": true
   },
   "outputs": [],
   "source": [
    "train_float"
   ]
  },
  {
   "cell_type": "code",
   "execution_count": null,
   "id": "44b106bc",
   "metadata": {
    "ExecuteTime": {
     "end_time": "2022-06-16T09:47:27.227490Z",
     "start_time": "2022-06-16T09:43:37.664225Z"
    }
   },
   "outputs": [],
   "source": [
    "for i in range(5):\n",
    "#     print(train_float.columns[i])\n",
    "    print(sns.histplot(train_float[train_float_list[i]]))"
   ]
  },
  {
   "cell_type": "code",
   "execution_count": null,
   "id": "08a4a6a9",
   "metadata": {
    "ExecuteTime": {
     "end_time": "2022-06-16T07:50:22.860571Z",
     "start_time": "2022-06-16T07:50:22.615531Z"
    }
   },
   "outputs": [],
   "source": [
    "# plt.figure(figsize=(10,10))\n",
    "# print(train_float.TransactionAmt.value_counts().sort_index())\n",
    "sns.pairplot(a)"
   ]
  },
  {
   "cell_type": "code",
   "execution_count": null,
   "id": "75bc3cf7",
   "metadata": {},
   "outputs": [],
   "source": []
  },
  {
   "cell_type": "markdown",
   "id": "65e282eb",
   "metadata": {},
   "source": [
    "Continuous columns = \n",
    "</br>Discrete columns = ['TransactionID', 'isFraud', 'TransactionDT', 'card1']"
   ]
  },
  {
   "cell_type": "code",
   "execution_count": null,
   "id": "eaaef05c",
   "metadata": {},
   "outputs": [],
   "source": [
    "train_float.card3.value_counts()"
   ]
  },
  {
   "cell_type": "code",
   "execution_count": null,
   "id": "79c5b25b",
   "metadata": {},
   "outputs": [],
   "source": [
    "train_float.filter(like='card')"
   ]
  },
  {
   "cell_type": "code",
   "execution_count": null,
   "id": "e77bfe56",
   "metadata": {},
   "outputs": [],
   "source": [
    "train_float.card2.value_counts()"
   ]
  },
  {
   "cell_type": "code",
   "execution_count": null,
   "id": "e87fd265",
   "metadata": {},
   "outputs": [],
   "source": [
    "plt.figure(figsize=(20,20))\n",
    "\n",
    "plt.subplot(3,1,1)\n",
    "sns.countplot(train_float.card2)\n",
    "\n",
    "plt.subplot(3,1,2)\n",
    "sns.countplot(train_float.card3)\n",
    "\n",
    "plt.subplot(3,1,3)\n",
    "sns.countplot(train_float.card5)"
   ]
  },
  {
   "cell_type": "code",
   "execution_count": null,
   "id": "334f16b0",
   "metadata": {},
   "outputs": [],
   "source": [
    "train_float.describe()"
   ]
  },
  {
   "cell_type": "code",
   "execution_count": null,
   "id": "8f9fc03b",
   "metadata": {},
   "outputs": [],
   "source": [
    "train_numerical.filter(like='card')"
   ]
  },
  {
   "cell_type": "code",
   "execution_count": null,
   "id": "620147be",
   "metadata": {
    "scrolled": true
   },
   "outputs": [],
   "source": [
    "train.select_dtypes('object')"
   ]
  },
  {
   "cell_type": "markdown",
   "id": "b56143aa",
   "metadata": {},
   "source": [
    "### 정규분포"
   ]
  },
  {
   "cell_type": "code",
   "execution_count": null,
   "id": "f699f3cf",
   "metadata": {},
   "outputs": [],
   "source": []
  },
  {
   "cell_type": "markdown",
   "id": "5027c35b",
   "metadata": {},
   "source": [
    "### 결측치 처리"
   ]
  },
  {
   "cell_type": "code",
   "execution_count": null,
   "id": "a23d7542",
   "metadata": {},
   "outputs": [],
   "source": []
  },
  {
   "cell_type": "markdown",
   "id": "16229748",
   "metadata": {},
   "source": [
    "## Categorical Column (Nominal? Ordinal?)"
   ]
  },
  {
   "cell_type": "code",
   "execution_count": null,
   "id": "b92aa0b0",
   "metadata": {
    "ExecuteTime": {
     "end_time": "2022-06-16T07:54:17.930952Z",
     "start_time": "2022-06-16T07:54:17.570139Z"
    }
   },
   "outputs": [],
   "source": [
    "train_object = train.select_dtypes(include='object')\n",
    "train_object"
   ]
  },
  {
   "cell_type": "markdown",
   "id": "f0786735",
   "metadata": {},
   "source": [
    "Categorical Column들을 보니 순서가 없다. Nominal feature들이라고 볼 수 있겠다"
   ]
  },
  {
   "cell_type": "code",
   "execution_count": null,
   "id": "16f23c05",
   "metadata": {
    "ExecuteTime": {
     "end_time": "2022-06-16T07:46:26.316355Z",
     "start_time": "2022-06-16T07:46:25.693036Z"
    }
   },
   "outputs": [],
   "source": [
    "sns.pairplot(train_object.iloc[:,:10])"
   ]
  },
  {
   "cell_type": "markdown",
   "id": "c67c4475",
   "metadata": {},
   "source": [
    "### 분포"
   ]
  },
  {
   "cell_type": "code",
   "execution_count": null,
   "id": "b104bbd0",
   "metadata": {},
   "outputs": [],
   "source": []
  },
  {
   "cell_type": "markdown",
   "id": "0ed3611b",
   "metadata": {},
   "source": [
    "### Label Encoding"
   ]
  },
  {
   "cell_type": "code",
   "execution_count": null,
   "id": "29041295",
   "metadata": {},
   "outputs": [],
   "source": []
  },
  {
   "cell_type": "markdown",
   "id": "3f38e611",
   "metadata": {},
   "source": [
    "### 결측치 처리"
   ]
  },
  {
   "cell_type": "code",
   "execution_count": null,
   "id": "1bc5af3e",
   "metadata": {},
   "outputs": [],
   "source": []
  },
  {
   "cell_type": "code",
   "execution_count": null,
   "id": "9993a041",
   "metadata": {
    "ExecuteTime": {
     "start_time": "2022-06-12T06:07:11.051Z"
    }
   },
   "outputs": [],
   "source": [
    "imputer = KNNImputer(n_neighbors=3)\n",
    "imputed = imputer.fit_transform(train_float)        # (np.reshape(train['card6'],(-1,1))\n"
   ]
  },
  {
   "cell_type": "code",
   "execution_count": null,
   "id": "5739ec7c",
   "metadata": {},
   "outputs": [],
   "source": [
    "train_float_imputed = pd.DataFrame(imputed, columns = train_float.columns)\n",
    "train_float_imputed"
   ]
  },
  {
   "cell_type": "code",
   "execution_count": null,
   "id": "34f79070",
   "metadata": {
    "scrolled": false
   },
   "outputs": [],
   "source": [
    "train.corr()"
   ]
  },
  {
   "cell_type": "code",
   "execution_count": null,
   "id": "058d15d7",
   "metadata": {},
   "outputs": [],
   "source": [
    "# nan = np.nan\n",
    "# X = [[1, 2, nan], [3, 4, 3], [nan, 6, 5], [8, 8, 7]]\n",
    "# imputer = KNNImputer(n_neighbors=4, weights=\"uniform\")\n",
    "# imputer.fit_transform(X)"
   ]
  },
  {
   "cell_type": "code",
   "execution_count": null,
   "id": "14124481",
   "metadata": {
    "scrolled": true
   },
   "outputs": [],
   "source": [
    "print(train.isnull().sum()[:50])\n",
    "print(train.isnull().sum()[50:100])\n",
    "print(train.isnull().sum()[100:])"
   ]
  },
  {
   "cell_type": "code",
   "execution_count": null,
   "id": "fc03912b",
   "metadata": {},
   "outputs": [],
   "source": [
    "train.select_dtypes(\"object\").columns"
   ]
  },
  {
   "cell_type": "code",
   "execution_count": null,
   "id": "e56fcc90",
   "metadata": {},
   "outputs": [],
   "source": [
    "train_object = train.select_dtypes(\"object\")\n",
    "train_object"
   ]
  },
  {
   "cell_type": "code",
   "execution_count": null,
   "id": "ab03af00",
   "metadata": {},
   "outputs": [],
   "source": [
    "# le = LabelEncoder()\n",
    "# train['card6'] = le.fit_transform(train['card6'])\n",
    "# train.card6"
   ]
  },
  {
   "cell_type": "code",
   "execution_count": null,
   "id": "7fa923fb",
   "metadata": {},
   "outputs": [],
   "source": [
    "train_object.columns"
   ]
  },
  {
   "cell_type": "code",
   "execution_count": null,
   "id": "3eaab8b2",
   "metadata": {},
   "outputs": [],
   "source": [
    "imputer = KNNImputer(n_neighbors=3)\n",
    "imputed = imputer.fit_transform(train_object)        # (np.reshape(train['card6'],(-1,1))\n",
    "train_object_imputed = pd.DataFrame(imputed, columns = train_object.columns)\n",
    "train_object_imputed"
   ]
  },
  {
   "cell_type": "code",
   "execution_count": null,
   "id": "d76a98f8",
   "metadata": {},
   "outputs": [],
   "source": [
    "\n",
    "\n",
    "X = np.array(train.card4)\n",
    "imputer = KNNImputer(n_neighbors=4, weights=\"uniform\")\n",
    "imputer.fit_transform(X)"
   ]
  },
  {
   "cell_type": "code",
   "execution_count": null,
   "id": "de4072f6",
   "metadata": {},
   "outputs": [],
   "source": [
    "train_object.card4.value_counts()"
   ]
  },
  {
   "cell_type": "code",
   "execution_count": null,
   "id": "c51e5316",
   "metadata": {},
   "outputs": [],
   "source": [
    "(train_object['card4'] == 'visa').sum()"
   ]
  },
  {
   "cell_type": "code",
   "execution_count": null,
   "id": "4de3767b",
   "metadata": {},
   "outputs": [],
   "source": []
  },
  {
   "cell_type": "code",
   "execution_count": null,
   "id": "93189bcd",
   "metadata": {},
   "outputs": [],
   "source": [
    "def train_percent(a, b):\n",
    "    return a / b"
   ]
  },
  {
   "cell_type": "code",
   "execution_count": null,
   "id": "94b74d4c",
   "metadata": {},
   "outputs": [],
   "source": [
    "train_percent(train_object.card4.visa / train_object.card4.count())"
   ]
  },
  {
   "cell_type": "code",
   "execution_count": null,
   "id": "48676caa",
   "metadata": {},
   "outputs": [],
   "source": [
    "train_object.card4.value_counts()\n",
    "sns.histplot(data=train_object.card4)"
   ]
  },
  {
   "cell_type": "code",
   "execution_count": null,
   "id": "b884ec05",
   "metadata": {},
   "outputs": [],
   "source": [
    "train_object.DeviceInfo.unique()"
   ]
  },
  {
   "cell_type": "code",
   "execution_count": null,
   "id": "b933f9a7",
   "metadata": {},
   "outputs": [],
   "source": [
    "train.card4 = le.transform"
   ]
  },
  {
   "cell_type": "code",
   "execution_count": null,
   "id": "8e3fb057",
   "metadata": {},
   "outputs": [],
   "source": [
    "train.ProductCD.unique()"
   ]
  },
  {
   "cell_type": "code",
   "execution_count": null,
   "id": "4607763a",
   "metadata": {},
   "outputs": [],
   "source": [
    "le.classes_"
   ]
  },
  {
   "cell_type": "code",
   "execution_count": null,
   "id": "2040c15d",
   "metadata": {},
   "outputs": [],
   "source": [
    "le.transform(['C', 'H', 'R', 'S', 'W'])"
   ]
  },
  {
   "cell_type": "code",
   "execution_count": null,
   "id": "cb9b635d",
   "metadata": {},
   "outputs": [],
   "source": [
    "train['ProductCD'] = le.transform([train.ProductCD])\n",
    "train['ProductCD']"
   ]
  },
  {
   "cell_type": "code",
   "execution_count": null,
   "id": "999ec6a0",
   "metadata": {},
   "outputs": [],
   "source": [
    "submission.shape"
   ]
  },
  {
   "cell_type": "code",
   "execution_count": null,
   "id": "1bcf80c5",
   "metadata": {
    "scrolled": true
   },
   "outputs": [],
   "source": [
    "test.ProductCD.value_counts()"
   ]
  },
  {
   "cell_type": "code",
   "execution_count": null,
   "id": "64f0921d",
   "metadata": {
    "scrolled": true
   },
   "outputs": [],
   "source": [
    "print(test.columns[ : 100])\n",
    "print(test.columns[100 : 200])\n",
    "print(test.columns[200 : 300])\n",
    "print(test.columns[300 : 400])\n",
    "print(test.columns[400 : 450])"
   ]
  },
  {
   "cell_type": "code",
   "execution_count": null,
   "id": "72b921d5",
   "metadata": {
    "scrolled": true
   },
   "outputs": [],
   "source": [
    "# 결측치 보기\n",
    "\n",
    "test.iloc[:, :100].info()\n",
    "test.iloc[:, 100:200].info()\n",
    "test.iloc[:, 200:300].info()\n",
    "test.iloc[:, 300:400].info()\n",
    "test.iloc[:, 300:400].info()"
   ]
  },
  {
   "cell_type": "code",
   "execution_count": null,
   "id": "b3c5e4ef",
   "metadata": {
    "scrolled": false
   },
   "outputs": [],
   "source": [
    "plt.figure(figsize=(10,5))\n",
    "sns.histplot(data=train, x='ProductCD', palette='Set2')\n",
    "train[['ProductCD']].value_counts() #.sort_index()\n",
    "# train[['TransactionAmt']].describe()"
   ]
  },
  {
   "cell_type": "code",
   "execution_count": null,
   "id": "30c65205",
   "metadata": {
    "scrolled": false
   },
   "outputs": [],
   "source": [
    "plt.figure(figsize=(10,5))\n",
    "sns.histplot(data=test, x='card5', palette='Paired')\n",
    "test[['card5']].value_counts().sort_index()\n",
    "# test[['ProductCD']].describe()"
   ]
  },
  {
   "cell_type": "code",
   "execution_count": null,
   "id": "a058abd8",
   "metadata": {
    "scrolled": true
   },
   "outputs": [],
   "source": [
    "train.ProductCD[.value_counts()"
   ]
  },
  {
   "cell_type": "code",
   "execution_count": null,
   "id": "5ae76842",
   "metadata": {},
   "outputs": [],
   "source": [
    "train"
   ]
  },
  {
   "cell_type": "code",
   "execution_count": null,
   "id": "f74ecec3",
   "metadata": {},
   "outputs": [],
   "source": [
    "(train['isFraud']==1).value_counts()"
   ]
  },
  {
   "cell_type": "code",
   "execution_count": null,
   "id": "8733c594",
   "metadata": {},
   "outputs": [],
   "source": [
    "test.dist2.value_counts().sort_index()"
   ]
  },
  {
   "cell_type": "raw",
   "id": "38c2f299",
   "metadata": {},
   "source": []
  },
  {
   "cell_type": "code",
   "execution_count": null,
   "id": "b8abb45e",
   "metadata": {},
   "outputs": [],
   "source": [
    "train_C = train.filter(like='C')\n",
    "train_C"
   ]
  },
  {
   "cell_type": "code",
   "execution_count": null,
   "id": "3d3f8e22",
   "metadata": {
    "scrolled": false
   },
   "outputs": [],
   "source": [
    "plt.figure(figsize=(5,5))\n",
    "sns.catplot(data=train_C)"
   ]
  },
  {
   "cell_type": "code",
   "execution_count": null,
   "id": "45d488d5",
   "metadata": {},
   "outputs": [],
   "source": [
    "scatscatterr"
   ]
  },
  {
   "cell_type": "code",
   "execution_count": null,
   "id": "e48e3588",
   "metadata": {
    "scrolled": true
   },
   "outputs": [],
   "source": [
    "train_i['DeviceInfo'].str.contains('SAMSUNG').sum()\n",
    "# LL = train_i[train_i['DeviceInfo'].str.contains('SAMSUNG', na=True)]\n",
    "# LL"
   ]
  },
  {
   "cell_type": "code",
   "execution_count": null,
   "id": "984b2f81",
   "metadata": {},
   "outputs": [],
   "source": [
    "train.filter(like='V')"
   ]
  },
  {
   "cell_type": "code",
   "execution_count": null,
   "id": "fe5d9758",
   "metadata": {
    "scrolled": false
   },
   "outputs": [],
   "source": [
    "# train.V1.value_counts()\n",
    "plt.figure(figsize=(10,10))\n",
    "sns.histplot(data=train_V)\n",
    "plt.show()"
   ]
  },
  {
   "cell_type": "code",
   "execution_count": null,
   "id": "56144038",
   "metadata": {},
   "outputs": [],
   "source": [
    "train_i['id']"
   ]
  },
  {
   "cell_type": "code",
   "execution_count": null,
   "id": "5b8950b4",
   "metadata": {
    "scrolled": false
   },
   "outputs": [],
   "source": [
    "train[['P_emaildomain']]\n",
    "# sns.histplot(data=train_t, x='P_emaildomain')"
   ]
  },
  {
   "cell_type": "code",
   "execution_count": null,
   "id": "231825fb",
   "metadata": {},
   "outputs": [],
   "source": []
  },
  {
   "cell_type": "code",
   "execution_count": null,
   "id": "b347da9d",
   "metadata": {},
   "outputs": [],
   "source": [
    "a = set(train_t['P_emaildomain'])\n",
    "b = set(train_t['R_emaildomain'])"
   ]
  },
  {
   "cell_type": "code",
   "execution_count": null,
   "id": "c06731d3",
   "metadata": {},
   "outputs": [],
   "source": [
    "b-a"
   ]
  },
  {
   "cell_type": "code",
   "execution_count": null,
   "id": "670006d9",
   "metadata": {},
   "outputs": [],
   "source": [
    "print(set1.difference(set2))"
   ]
  },
  {
   "cell_type": "code",
   "execution_count": null,
   "id": "5966a942",
   "metadata": {},
   "outputs": [],
   "source": [
    "plt.scatter"
   ]
  },
  {
   "cell_type": "code",
   "execution_count": null,
   "id": "d40656be",
   "metadata": {},
   "outputs": [],
   "source": [
    "train_t.filter(regex='card2')"
   ]
  },
  {
   "cell_type": "code",
   "execution_count": null,
   "id": "6bdef37f",
   "metadata": {
    "scrolled": false
   },
   "outputs": [],
   "source": [
    "train_t = train_t.filter(regex='addr')\n",
    "train_t[:50]\n",
    "# filter_.iloc[100000:100500, :]"
   ]
  },
  {
   "cell_type": "code",
   "execution_count": null,
   "id": "0cae5c70",
   "metadata": {},
   "outputs": [],
   "source": [
    "train_t.card1.unique()"
   ]
  },
  {
   "cell_type": "code",
   "execution_count": null,
   "id": "f3489f59",
   "metadata": {
    "scrolled": true
   },
   "outputs": [],
   "source": [
    "train_i.columns"
   ]
  },
  {
   "cell_type": "code",
   "execution_count": null,
   "id": "94810606",
   "metadata": {
    "scrolled": true
   },
   "outputs": [],
   "source": [
    "test_t[ : 50]\n",
    "# print(test_t.columns[100 : 200])\n",
    "# print(test_t.columns[200 : 300])\n",
    "# print(test_t.columns[300 : 400])"
   ]
  },
  {
   "cell_type": "code",
   "execution_count": null,
   "id": "9b024e40",
   "metadata": {
    "scrolled": false
   },
   "outputs": [],
   "source": [
    "test_i.columns"
   ]
  },
  {
   "cell_type": "code",
   "execution_count": null,
   "id": "38b180f5",
   "metadata": {},
   "outputs": [],
   "source": [
    "sns.boxplot(data=train_t)"
   ]
  },
  {
   "cell_type": "code",
   "execution_count": null,
   "id": "4d844065",
   "metadata": {},
   "outputs": [],
   "source": [
    "sns.catplot(data=train_t)"
   ]
  },
  {
   "cell_type": "code",
   "execution_count": null,
   "id": "1de21dc3",
   "metadata": {},
   "outputs": [],
   "source": [
    "plt.figure=figsize(10,10)\n",
    "filter_.drop(columns=['ProductCD']).plot()"
   ]
  },
  {
   "cell_type": "code",
   "execution_count": null,
   "id": "db947a73",
   "metadata": {
    "scrolled": false
   },
   "outputs": [],
   "source": [
    "train_t"
   ]
  },
  {
   "cell_type": "code",
   "execution_count": null,
   "id": "20e27312",
   "metadata": {},
   "outputs": [],
   "source": [
    "train_t[:50].info()"
   ]
  },
  {
   "cell_type": "code",
   "execution_count": null,
   "id": "f764e571",
   "metadata": {},
   "outputs": [],
   "source": [
    "# 구매자 도메인\n",
    "train_t.P_emaildomain.value_counts().count()"
   ]
  },
  {
   "cell_type": "code",
   "execution_count": null,
   "id": "76067404",
   "metadata": {},
   "outputs": [],
   "source": [
    "# 수령자 도메인\n",
    "train_t.R_emaildomain.value_counts().count()"
   ]
  },
  {
   "cell_type": "code",
   "execution_count": null,
   "id": "ca927a0f",
   "metadata": {
    "scrolled": false
   },
   "outputs": [],
   "source": [
    "train_i"
   ]
  },
  {
   "cell_type": "code",
   "execution_count": null,
   "id": "c05b57a8",
   "metadata": {},
   "outputs": [],
   "source": [
    "# train_merge = pd.merge(train_t, train_i, on='TransactionID', how='outer')\n",
    "# train_merge"
   ]
  },
  {
   "cell_type": "code",
   "execution_count": null,
   "id": "24c3f2ff",
   "metadata": {},
   "outputs": [],
   "source": [
    "train_merge.DeviceInfo.value_counts()"
   ]
  },
  {
   "cell_type": "code",
   "execution_count": null,
   "id": "45be483f",
   "metadata": {},
   "outputs": [],
   "source": [
    "test_i"
   ]
  },
  {
   "cell_type": "code",
   "execution_count": null,
   "id": "390e1e87",
   "metadata": {},
   "outputs": [],
   "source": [
    "test_t"
   ]
  },
  {
   "cell_type": "code",
   "execution_count": null,
   "id": "271cf9ef",
   "metadata": {},
   "outputs": [],
   "source": [
    "submission"
   ]
  },
  {
   "cell_type": "code",
   "execution_count": null,
   "id": "ef07587a",
   "metadata": {},
   "outputs": [],
   "source": [
    "train_t[train_t['isFraud'] == 1]"
   ]
  },
  {
   "cell_type": "code",
   "execution_count": null,
   "id": "e82ca04e",
   "metadata": {},
   "outputs": [],
   "source": [
    "# train_t.info()"
   ]
  },
  {
   "cell_type": "markdown",
   "id": "a3c219b9",
   "metadata": {},
   "source": [
    "# Test Data"
   ]
  },
  {
   "cell_type": "markdown",
   "id": "303394a3",
   "metadata": {},
   "source": [
    "## Continuous Column"
   ]
  },
  {
   "cell_type": "markdown",
   "id": "f52c66b5",
   "metadata": {},
   "source": [
    "### 결측치 처리"
   ]
  },
  {
   "cell_type": "markdown",
   "id": "1b464cd9",
   "metadata": {},
   "source": [
    "## Categorical Column"
   ]
  },
  {
   "cell_type": "markdown",
   "id": "e6e548c3",
   "metadata": {},
   "source": [
    "### Label Encoding"
   ]
  },
  {
   "cell_type": "markdown",
   "id": "aaa0982d",
   "metadata": {},
   "source": [
    "### 결측치 처리"
   ]
  },
  {
   "cell_type": "markdown",
   "id": "0eb85370",
   "metadata": {},
   "source": [
    "# Feature Select"
   ]
  },
  {
   "cell_type": "markdown",
   "id": "64aa2648",
   "metadata": {},
   "source": [
    "## Filter Method : 관련성을 찾는 방법"
   ]
  },
  {
   "cell_type": "code",
   "execution_count": null,
   "id": "c36382c4",
   "metadata": {
    "scrolled": true
   },
   "outputs": [],
   "source": [
    "train.iloc[:,:15].corr()"
   ]
  },
  {
   "cell_type": "code",
   "execution_count": null,
   "id": "7f387e36",
   "metadata": {
    "scrolled": true
   },
   "outputs": [],
   "source": [
    "# train.corr().iloc[10:30, :15]\n",
    "plt.figure(figsize=(15,15))\n",
    "sns.heatmap(train.corr().iloc[150:180, :15],annot=True)"
   ]
  },
  {
   "cell_type": "markdown",
   "id": "9028f42d",
   "metadata": {},
   "source": [
    "## Sequential Feature Selection"
   ]
  },
  {
   "cell_type": "code",
   "execution_count": null,
   "id": "4c53cea6",
   "metadata": {},
   "outputs": [],
   "source": []
  },
  {
   "cell_type": "markdown",
   "id": "5007efe3",
   "metadata": {},
   "source": [
    "## PCA"
   ]
  },
  {
   "cell_type": "markdown",
   "id": "74213b2e",
   "metadata": {},
   "source": [
    "# Modeling"
   ]
  },
  {
   "cell_type": "code",
   "execution_count": null,
   "id": "49932840",
   "metadata": {},
   "outputs": [],
   "source": []
  }
 ],
 "metadata": {
  "kernelspec": {
   "display_name": "Python 3 (ipykernel)",
   "language": "python",
   "name": "python3"
  },
  "language_info": {
   "codemirror_mode": {
    "name": "ipython",
    "version": 3
   },
   "file_extension": ".py",
   "mimetype": "text/x-python",
   "name": "python",
   "nbconvert_exporter": "python",
   "pygments_lexer": "ipython3",
   "version": "3.8.13"
  },
  "toc": {
   "base_numbering": 1,
   "nav_menu": {},
   "number_sections": false,
   "sideBar": true,
   "skip_h1_title": false,
   "title_cell": "Table of Contents",
   "title_sidebar": "Contents",
   "toc_cell": false,
   "toc_position": {
    "height": "calc(100% - 180px)",
    "left": "10px",
    "top": "150px",
    "width": "224px"
   },
   "toc_section_display": true,
   "toc_window_display": false
  }
 },
 "nbformat": 4,
 "nbformat_minor": 5
}
