{
 "cells": [
  {
   "cell_type": "code",
   "execution_count": 1,
   "id": "e0416c58",
   "metadata": {
    "ExecuteTime": {
     "end_time": "2022-07-29T07:27:47.050760Z",
     "start_time": "2022-07-29T07:27:46.809865Z"
    }
   },
   "outputs": [],
   "source": [
    "import pandas as pd\n",
    "import numpy as np"
   ]
  },
  {
   "cell_type": "code",
   "execution_count": 13,
   "id": "9d5d83fc",
   "metadata": {
    "ExecuteTime": {
     "end_time": "2022-07-29T07:30:05.319082Z",
     "start_time": "2022-07-29T07:30:04.510807Z"
    }
   },
   "outputs": [],
   "source": [
    "ex = pd.read_csv('/Users/lhs2/Desktop/GitHub/NLP_pjt/data(concat)/1998_2010.csv', index_col=0).reset_index().drop(columns='index')\n"
   ]
  },
  {
   "cell_type": "code",
   "execution_count": 14,
   "id": "812f7dd8",
   "metadata": {
    "ExecuteTime": {
     "end_time": "2022-07-29T07:30:05.820724Z",
     "start_time": "2022-07-29T07:30:05.816317Z"
    }
   },
   "outputs": [
    {
     "data": {
      "text/html": [
       "<div>\n",
       "<style scoped>\n",
       "    .dataframe tbody tr th:only-of-type {\n",
       "        vertical-align: middle;\n",
       "    }\n",
       "\n",
       "    .dataframe tbody tr th {\n",
       "        vertical-align: top;\n",
       "    }\n",
       "\n",
       "    .dataframe thead th {\n",
       "        text-align: right;\n",
       "    }\n",
       "</style>\n",
       "<table border=\"1\" class=\"dataframe\">\n",
       "  <thead>\n",
       "    <tr style=\"text-align: right;\">\n",
       "      <th></th>\n",
       "      <th>언론사</th>\n",
       "      <th>날짜</th>\n",
       "      <th>제목</th>\n",
       "    </tr>\n",
       "  </thead>\n",
       "  <tbody>\n",
       "    <tr>\n",
       "      <th>0</th>\n",
       "      <td>연합뉴스</td>\n",
       "      <td>1998.05.20.</td>\n",
       "      <td>주가 사흘째 상승세</td>\n",
       "    </tr>\n",
       "    <tr>\n",
       "      <th>1</th>\n",
       "      <td>연합뉴스</td>\n",
       "      <td>1998.05.20.</td>\n",
       "      <td>아남텔레콤, PDA 데이터 전송서비스 개시</td>\n",
       "    </tr>\n",
       "    <tr>\n",
       "      <th>2</th>\n",
       "      <td>연합뉴스</td>\n",
       "      <td>1998.05.20.</td>\n",
       "      <td>&lt;회전목마&gt; 삼성전자, 사이버 사외보 제작</td>\n",
       "    </tr>\n",
       "    <tr>\n",
       "      <th>3</th>\n",
       "      <td>연합뉴스</td>\n",
       "      <td>1998.05.20.</td>\n",
       "      <td>&lt;주식시황&gt; 사흘째 상승, 3백70선 다가서</td>\n",
       "    </tr>\n",
       "    <tr>\n",
       "      <th>4</th>\n",
       "      <td>연합뉴스</td>\n",
       "      <td>1998.05.20.</td>\n",
       "      <td>-춘계승마- 신창무,싼졸쥬마장마술 우승</td>\n",
       "    </tr>\n",
       "    <tr>\n",
       "      <th>...</th>\n",
       "      <td>...</td>\n",
       "      <td>...</td>\n",
       "      <td>...</td>\n",
       "    </tr>\n",
       "    <tr>\n",
       "      <th>667057</th>\n",
       "      <td>파이낸셜뉴스</td>\n",
       "      <td>A18면 2단</td>\n",
       "      <td>[CES2011]세계 최대 가전쇼 열리는 라스베이거스는?</td>\n",
       "    </tr>\n",
       "    <tr>\n",
       "      <th>667058</th>\n",
       "      <td>매일경제</td>\n",
       "      <td>9면 TOP</td>\n",
       "      <td>갤럭시 플레이어 미리 만나볼까, 본격출시전 체험단 모집</td>\n",
       "    </tr>\n",
       "    <tr>\n",
       "      <th>667059</th>\n",
       "      <td>뉴스핌</td>\n",
       "      <td>9면 3단</td>\n",
       "      <td>&lt;스페셜인터뷰&gt; 천정훈 MIT 석좌교수</td>\n",
       "    </tr>\n",
       "    <tr>\n",
       "      <th>667060</th>\n",
       "      <td>헤럴드POP</td>\n",
       "      <td>12면 3단</td>\n",
       "      <td>갤럭시S 닮은꼴 'N스크린' 공개</td>\n",
       "    </tr>\n",
       "    <tr>\n",
       "      <th>667061</th>\n",
       "      <td>미디어오늘</td>\n",
       "      <td>4면 TOP</td>\n",
       "      <td>“2011년 1000만원이 1억 될 종목” 묻지마 쩜상이 기대된다!</td>\n",
       "    </tr>\n",
       "  </tbody>\n",
       "</table>\n",
       "<p>667062 rows × 3 columns</p>\n",
       "</div>"
      ],
      "text/plain": [
       "           언론사           날짜                                     제목\n",
       "0         연합뉴스  1998.05.20.                             주가 사흘째 상승세\n",
       "1         연합뉴스  1998.05.20.                아남텔레콤, PDA 데이터 전송서비스 개시\n",
       "2         연합뉴스  1998.05.20.                <회전목마> 삼성전자, 사이버 사외보 제작\n",
       "3         연합뉴스  1998.05.20.               <주식시황> 사흘째 상승, 3백70선 다가서\n",
       "4         연합뉴스  1998.05.20.                  -춘계승마- 신창무,싼졸쥬마장마술 우승\n",
       "...        ...          ...                                    ...\n",
       "667057  파이낸셜뉴스      A18면 2단        [CES2011]세계 최대 가전쇼 열리는 라스베이거스는?\n",
       "667058    매일경제       9면 TOP         갤럭시 플레이어 미리 만나볼까, 본격출시전 체험단 모집\n",
       "667059     뉴스핌        9면 3단                  <스페셜인터뷰> 천정훈 MIT 석좌교수\n",
       "667060  헤럴드POP       12면 3단                     갤럭시S 닮은꼴 'N스크린' 공개\n",
       "667061   미디어오늘       4면 TOP  “2011년 1000만원이 1억 될 종목” 묻지마 쩜상이 기대된다!\n",
       "\n",
       "[667062 rows x 3 columns]"
      ]
     },
     "execution_count": 14,
     "metadata": {},
     "output_type": "execute_result"
    }
   ],
   "source": [
    "ex"
   ]
  },
  {
   "cell_type": "code",
   "execution_count": 4,
   "id": "e0c24c25",
   "metadata": {
    "ExecuteTime": {
     "end_time": "2022-07-29T07:27:49.786228Z",
     "start_time": "2022-07-29T07:27:49.333399Z"
    }
   },
   "outputs": [
    {
     "data": {
      "text/html": [
       "<div>\n",
       "<style scoped>\n",
       "    .dataframe tbody tr th:only-of-type {\n",
       "        vertical-align: middle;\n",
       "    }\n",
       "\n",
       "    .dataframe tbody tr th {\n",
       "        vertical-align: top;\n",
       "    }\n",
       "\n",
       "    .dataframe thead th {\n",
       "        text-align: right;\n",
       "    }\n",
       "</style>\n",
       "<table border=\"1\" class=\"dataframe\">\n",
       "  <thead>\n",
       "    <tr style=\"text-align: right;\">\n",
       "      <th></th>\n",
       "      <th>언론사</th>\n",
       "      <th>날짜</th>\n",
       "      <th>제목</th>\n",
       "    </tr>\n",
       "  </thead>\n",
       "  <tbody>\n",
       "    <tr>\n",
       "      <th>3</th>\n",
       "      <td>전자신문</td>\n",
       "      <td>33면 1단</td>\n",
       "      <td>[신년기획]인공지능, 올해 경쟁력 확보 원년</td>\n",
       "    </tr>\n",
       "    <tr>\n",
       "      <th>8</th>\n",
       "      <td>IT조선</td>\n",
       "      <td>18면 1단</td>\n",
       "      <td>[2017 스마트폰 트렌드] ②새해 프리미엄폰 대전 앞두고 중저가폰 경쟁 치열....</td>\n",
       "    </tr>\n",
       "    <tr>\n",
       "      <th>23</th>\n",
       "      <td>글로벌이코노믹</td>\n",
       "      <td>8면 TOP</td>\n",
       "      <td>[리셋코리아 2017] 양날의 칼 4차산업혁명, 경쟁력과 일자리 감소의 딜레마</td>\n",
       "    </tr>\n",
       "    <tr>\n",
       "      <th>32</th>\n",
       "      <td>연합뉴스</td>\n",
       "      <td>20면 TOP</td>\n",
       "      <td>특검, 탄핵심판 5가지 쟁점 모두 수사…헌재에 영향 주목</td>\n",
       "    </tr>\n",
       "    <tr>\n",
       "      <th>51</th>\n",
       "      <td>뉴스핌</td>\n",
       "      <td>A20면 1단</td>\n",
       "      <td>[주간추천주] 증권가, 화학·IT株에 러브콜…\"업황 개선 기대\"</td>\n",
       "    </tr>\n",
       "    <tr>\n",
       "      <th>...</th>\n",
       "      <td>...</td>\n",
       "      <td>...</td>\n",
       "      <td>...</td>\n",
       "    </tr>\n",
       "    <tr>\n",
       "      <th>1713502</th>\n",
       "      <td>한국경제</td>\n",
       "      <td>4면 1단</td>\n",
       "      <td>컬러TV 판매 증가...10년 사이클로 세대교체기 맞아</td>\n",
       "    </tr>\n",
       "    <tr>\n",
       "      <th>1713511</th>\n",
       "      <td>한국경제</td>\n",
       "      <td>1면 TOP</td>\n",
       "      <td>삼성전자, 외국인 손짓따라 '출렁'</td>\n",
       "    </tr>\n",
       "    <tr>\n",
       "      <th>1713514</th>\n",
       "      <td>한국경제</td>\n",
       "      <td>3면 1단</td>\n",
       "      <td>PC.오디오 업체, 졸업.입학 시즌 판촉행사 '푸짐'</td>\n",
       "    </tr>\n",
       "    <tr>\n",
       "      <th>1713522</th>\n",
       "      <td>한국경제</td>\n",
       "      <td>1면 TOP</td>\n",
       "      <td>환매후 단기 유동성 장세 가능성...교보증권</td>\n",
       "    </tr>\n",
       "    <tr>\n",
       "      <th>1713544</th>\n",
       "      <td>한국경제</td>\n",
       "      <td>20면 3단</td>\n",
       "      <td>코스닥은 상승 주가는 급락...주가 953.22(-12.96) 마감</td>\n",
       "    </tr>\n",
       "  </tbody>\n",
       "</table>\n",
       "<p>140662 rows × 3 columns</p>\n",
       "</div>"
      ],
      "text/plain": [
       "             언론사       날짜                                               제목\n",
       "3           전자신문   33면 1단                         [신년기획]인공지능, 올해 경쟁력 확보 원년\n",
       "8           IT조선   18면 1단  [2017 스마트폰 트렌드] ②새해 프리미엄폰 대전 앞두고 중저가폰 경쟁 치열....\n",
       "23       글로벌이코노믹   8면 TOP      [리셋코리아 2017] 양날의 칼 4차산업혁명, 경쟁력과 일자리 감소의 딜레마\n",
       "32          연합뉴스  20면 TOP                  특검, 탄핵심판 5가지 쟁점 모두 수사…헌재에 영향 주목\n",
       "51           뉴스핌  A20면 1단              [주간추천주] 증권가, 화학·IT株에 러브콜…\"업황 개선 기대\"\n",
       "...          ...      ...                                              ...\n",
       "1713502     한국경제    4면 1단                   컬러TV 판매 증가...10년 사이클로 세대교체기 맞아\n",
       "1713511     한국경제   1면 TOP                              삼성전자, 외국인 손짓따라 '출렁'\n",
       "1713514     한국경제    3면 1단                    PC.오디오 업체, 졸업.입학 시즌 판촉행사 '푸짐'\n",
       "1713522     한국경제   1면 TOP                         환매후 단기 유동성 장세 가능성...교보증권\n",
       "1713544     한국경제   20면 3단            코스닥은 상승 주가는 급락...주가 953.22(-12.96) 마감\n",
       "\n",
       "[140662 rows x 3 columns]"
      ]
     },
     "execution_count": 4,
     "metadata": {},
     "output_type": "execute_result"
    }
   ],
   "source": [
    "# 날짜 데이터에 들어있는 데이터 중에 년도 관련을(199 or 200 or 201 or 202) 포함하지 않는 데이터 추출\n",
    "\n",
    "ex[ex[\"날짜\"].str.contains('199|200|201|202')==False]\n",
    "#ex  #[:50]"
   ]
  },
  {
   "cell_type": "code",
   "execution_count": 5,
   "id": "1554fc6e",
   "metadata": {
    "ExecuteTime": {
     "end_time": "2022-07-29T07:27:51.763076Z",
     "start_time": "2022-07-29T07:27:49.787116Z"
    }
   },
   "outputs": [
    {
     "name": "stderr",
     "output_type": "stream",
     "text": [
      "/var/folders/62/p7jd9w0n1n3d19j8s3z7k3lw0000gp/T/ipykernel_4441/3969182355.py:3: FutureWarning: The default value of regex will change from True to False in a future version.\n",
      "  ex[\"날짜\"] = ex[\"날짜\"].str.replace(\"(\\w+|\\W+)(\\s+)(\\w+|\\W+)\", \"\")\n"
     ]
    }
   ],
   "source": [
    "# 날짜 데이터에서 들어있는 텍스트값 NAN값 처리\n",
    "\n",
    "ex[\"날짜\"] = ex[\"날짜\"].str.replace(\"(\\w+|\\W+)(\\s+)(\\w+|\\W+)\", \"\") \n",
    "ex[\"날짜\"].replace(\"\", np.nan, inplace=True)\n"
   ]
  },
  {
   "cell_type": "code",
   "execution_count": 6,
   "id": "e64d59ef",
   "metadata": {
    "ExecuteTime": {
     "end_time": "2022-07-29T07:27:52.123447Z",
     "start_time": "2022-07-29T07:27:51.763968Z"
    }
   },
   "outputs": [
    {
     "data": {
      "text/plain": [
       "언론사         0\n",
       "날짜     140221\n",
       "제목          0\n",
       "dtype: int64"
      ]
     },
     "execution_count": 6,
     "metadata": {},
     "output_type": "execute_result"
    }
   ],
   "source": [
    "ex.isnull().sum()"
   ]
  },
  {
   "cell_type": "code",
   "execution_count": 7,
   "id": "603b1341",
   "metadata": {
    "ExecuteTime": {
     "end_time": "2022-07-29T07:27:52.696035Z",
     "start_time": "2022-07-29T07:27:52.124268Z"
    }
   },
   "outputs": [
    {
     "data": {
      "text/html": [
       "<div>\n",
       "<style scoped>\n",
       "    .dataframe tbody tr th:only-of-type {\n",
       "        vertical-align: middle;\n",
       "    }\n",
       "\n",
       "    .dataframe tbody tr th {\n",
       "        vertical-align: top;\n",
       "    }\n",
       "\n",
       "    .dataframe thead th {\n",
       "        text-align: right;\n",
       "    }\n",
       "</style>\n",
       "<table border=\"1\" class=\"dataframe\">\n",
       "  <thead>\n",
       "    <tr style=\"text-align: right;\">\n",
       "      <th></th>\n",
       "      <th>언론사</th>\n",
       "      <th>날짜</th>\n",
       "      <th>제목</th>\n",
       "    </tr>\n",
       "  </thead>\n",
       "  <tbody>\n",
       "    <tr>\n",
       "      <th>7049</th>\n",
       "      <td>YTN</td>\n",
       "      <td>1단</td>\n",
       "      <td>'트럼프 위협'에 삼성·LG 美에 가전 공장 검토</td>\n",
       "    </tr>\n",
       "    <tr>\n",
       "      <th>193665</th>\n",
       "      <td>전자신문</td>\n",
       "      <td>1단</td>\n",
       "      <td>\"벤자민, 삼성전자 어때?\" 대신증권, AI 금융상품 추천 눈길</td>\n",
       "    </tr>\n",
       "    <tr>\n",
       "      <th>194653</th>\n",
       "      <td>이데일리</td>\n",
       "      <td>1단</td>\n",
       "      <td>[마감]코스닥, IT주 반등에 강세…외국인 나흘 만에 순매수</td>\n",
       "    </tr>\n",
       "    <tr>\n",
       "      <th>288520</th>\n",
       "      <td>이데일리</td>\n",
       "      <td>1단</td>\n",
       "      <td>[마감]코스피, 2490 터치 후 숨고르기</td>\n",
       "    </tr>\n",
       "    <tr>\n",
       "      <th>489498</th>\n",
       "      <td>쿠키뉴스</td>\n",
       "      <td>1단</td>\n",
       "      <td>[속보] 삼성전자 올 2분기 시설투자 8조원 집행…상반기 16조6000억원</td>\n",
       "    </tr>\n",
       "    <tr>\n",
       "      <th>...</th>\n",
       "      <td>...</td>\n",
       "      <td>...</td>\n",
       "      <td>...</td>\n",
       "    </tr>\n",
       "    <tr>\n",
       "      <th>1693823</th>\n",
       "      <td>연합뉴스</td>\n",
       "      <td>1단</td>\n",
       "      <td>갤럭시 워치4 시리즈용 '원UI 워치 4.5' 주요 기능 소개.. 3분기 출시</td>\n",
       "    </tr>\n",
       "    <tr>\n",
       "      <th>1697356</th>\n",
       "      <td>이데일리언론사 선정</td>\n",
       "      <td>1단</td>\n",
       "      <td>반도체 투심 회복에…소부장주도 '화색'</td>\n",
       "    </tr>\n",
       "    <tr>\n",
       "      <th>1699023</th>\n",
       "      <td>스포츠조선</td>\n",
       "      <td>1단</td>\n",
       "      <td>LF 트라이씨클, 간편결제 혜택 확대</td>\n",
       "    </tr>\n",
       "    <tr>\n",
       "      <th>1704663</th>\n",
       "      <td>연합뉴스</td>\n",
       "      <td>1단</td>\n",
       "      <td>&lt;備忘錄&gt;현대그룹 전자부문 본격강화, 삼성 긴장</td>\n",
       "    </tr>\n",
       "    <tr>\n",
       "      <th>1709230</th>\n",
       "      <td>연합뉴스</td>\n",
       "      <td>1단</td>\n",
       "      <td>&lt;주식시황&gt; 종합지수 7백선 무너져</td>\n",
       "    </tr>\n",
       "  </tbody>\n",
       "</table>\n",
       "<p>441 rows × 3 columns</p>\n",
       "</div>"
      ],
      "text/plain": [
       "                언론사  날짜                                           제목\n",
       "7049            YTN  1단                  '트럼프 위협'에 삼성·LG 美에 가전 공장 검토\n",
       "193665         전자신문  1단          \"벤자민, 삼성전자 어때?\" 대신증권, AI 금융상품 추천 눈길\n",
       "194653         이데일리  1단            [마감]코스닥, IT주 반등에 강세…외국인 나흘 만에 순매수\n",
       "288520         이데일리  1단                      [마감]코스피, 2490 터치 후 숨고르기\n",
       "489498         쿠키뉴스  1단    [속보] 삼성전자 올 2분기 시설투자 8조원 집행…상반기 16조6000억원\n",
       "...             ...  ..                                          ...\n",
       "1693823        연합뉴스  1단  갤럭시 워치4 시리즈용 '원UI 워치 4.5' 주요 기능 소개.. 3분기 출시\n",
       "1697356  이데일리언론사 선정  1단                        반도체 투심 회복에…소부장주도 '화색'\n",
       "1699023       스포츠조선  1단                         LF 트라이씨클, 간편결제 혜택 확대\n",
       "1704663        연합뉴스  1단                   <備忘錄>현대그룹 전자부문 본격강화, 삼성 긴장\n",
       "1709230        연합뉴스  1단                          <주식시황> 종합지수 7백선 무너져\n",
       "\n",
       "[441 rows x 3 columns]"
      ]
     },
     "execution_count": 7,
     "metadata": {},
     "output_type": "execute_result"
    }
   ],
   "source": [
    "ex[ex[\"날짜\"].str.contains('199|200|201|202')==False]"
   ]
  },
  {
   "cell_type": "code",
   "execution_count": 9,
   "id": "e7c8c4bf",
   "metadata": {
    "ExecuteTime": {
     "end_time": "2022-07-29T07:28:22.349785Z",
     "start_time": "2022-07-29T07:28:21.222554Z"
    }
   },
   "outputs": [
    {
     "name": "stderr",
     "output_type": "stream",
     "text": [
      "/var/folders/62/p7jd9w0n1n3d19j8s3z7k3lw0000gp/T/ipykernel_4441/1166409570.py:3: FutureWarning: The default value of regex will change from True to False in a future version.\n",
      "  ex[\"날짜\"] = ex[\"날짜\"].str.replace(\"\\D+\", \"\")  # 숫자 제외 모든 문자 공백으로\n"
     ]
    },
    {
     "data": {
      "text/html": [
       "<div>\n",
       "<style scoped>\n",
       "    .dataframe tbody tr th:only-of-type {\n",
       "        vertical-align: middle;\n",
       "    }\n",
       "\n",
       "    .dataframe tbody tr th {\n",
       "        vertical-align: top;\n",
       "    }\n",
       "\n",
       "    .dataframe thead th {\n",
       "        text-align: right;\n",
       "    }\n",
       "</style>\n",
       "<table border=\"1\" class=\"dataframe\">\n",
       "  <thead>\n",
       "    <tr style=\"text-align: right;\">\n",
       "      <th></th>\n",
       "      <th>언론사</th>\n",
       "      <th>날짜</th>\n",
       "      <th>제목</th>\n",
       "    </tr>\n",
       "  </thead>\n",
       "  <tbody>\n",
       "  </tbody>\n",
       "</table>\n",
       "</div>"
      ],
      "text/plain": [
       "Empty DataFrame\n",
       "Columns: [언론사, 날짜, 제목]\n",
       "Index: []"
      ]
     },
     "execution_count": 9,
     "metadata": {},
     "output_type": "execute_result"
    }
   ],
   "source": [
    "# 다 처리됐는지 확인\n",
    "\n",
    "ex[\"날짜\"] = ex[\"날짜\"].str.replace(\"\\D+\", \"\")  # 숫자 제외 모든 문자 공백으로\n",
    "ex[\"날짜\"] = ex[\"날짜\"].str.replace(\"\\d+\", \"\")  # 숫자 제외 모든 문자 공백으로\n",
    "ex[\"날짜\"].replace(\"\", np.nan, inplace=True)\n",
    "ex[ex[\"날짜\"].str.contains('199|200|201|202')==False]"
   ]
  },
  {
   "cell_type": "code",
   "execution_count": 10,
   "id": "ec25ad6d",
   "metadata": {
    "ExecuteTime": {
     "end_time": "2022-07-29T07:28:34.895815Z",
     "start_time": "2022-07-29T07:28:34.850072Z"
    }
   },
   "outputs": [
    {
     "data": {
      "text/plain": [
       "140662"
      ]
     },
     "execution_count": 10,
     "metadata": {},
     "output_type": "execute_result"
    }
   ],
   "source": [
    "ex[\"날짜\"].isnull().sum()"
   ]
  },
  {
   "cell_type": "code",
   "execution_count": 12,
   "id": "5a9e6ae6",
   "metadata": {
    "ExecuteTime": {
     "end_time": "2022-07-29T07:29:12.012222Z",
     "start_time": "2022-07-29T07:29:12.003186Z"
    }
   },
   "outputs": [
    {
     "data": {
      "text/html": [
       "<div>\n",
       "<style scoped>\n",
       "    .dataframe tbody tr th:only-of-type {\n",
       "        vertical-align: middle;\n",
       "    }\n",
       "\n",
       "    .dataframe tbody tr th {\n",
       "        vertical-align: top;\n",
       "    }\n",
       "\n",
       "    .dataframe thead th {\n",
       "        text-align: right;\n",
       "    }\n",
       "</style>\n",
       "<table border=\"1\" class=\"dataframe\">\n",
       "  <thead>\n",
       "    <tr style=\"text-align: right;\">\n",
       "      <th></th>\n",
       "      <th>언론사</th>\n",
       "      <th>날짜</th>\n",
       "      <th>제목</th>\n",
       "    </tr>\n",
       "  </thead>\n",
       "  <tbody>\n",
       "    <tr>\n",
       "      <th>1713062</th>\n",
       "      <td>연합뉴스</td>\n",
       "      <td>20202</td>\n",
       "      <td>삼성 전자 관계사 공채, 경쟁률 41대 1</td>\n",
       "    </tr>\n",
       "    <tr>\n",
       "      <th>1713063</th>\n",
       "      <td>연합뉴스</td>\n",
       "      <td>20202</td>\n",
       "      <td>무선인터넷 서비스 위해 전략적 제휴</td>\n",
       "    </tr>\n",
       "    <tr>\n",
       "      <th>1713064</th>\n",
       "      <td>연합뉴스</td>\n",
       "      <td>20202</td>\n",
       "      <td>주가 43포인트 폭등, 870선 회복</td>\n",
       "    </tr>\n",
       "    <tr>\n",
       "      <th>1713065</th>\n",
       "      <td>연합뉴스</td>\n",
       "      <td>NaN</td>\n",
       "      <td>주가 43포인트 폭등, 870선 회복(종합)</td>\n",
       "    </tr>\n",
       "    <tr>\n",
       "      <th>1713066</th>\n",
       "      <td>연합뉴스</td>\n",
       "      <td>20202</td>\n",
       "      <td>아.태 주요 기업 경기회복으로 대폭 수익호전</td>\n",
       "    </tr>\n",
       "    <tr>\n",
       "      <th>...</th>\n",
       "      <td>...</td>\n",
       "      <td>...</td>\n",
       "      <td>...</td>\n",
       "    </tr>\n",
       "    <tr>\n",
       "      <th>1713557</th>\n",
       "      <td>한국경제</td>\n",
       "      <td>20202</td>\n",
       "      <td>디지털이미지뱅크, 한투등 3개사서 20억원 투자 유치</td>\n",
       "    </tr>\n",
       "    <tr>\n",
       "      <th>1713558</th>\n",
       "      <td>한국경제</td>\n",
       "      <td>20202</td>\n",
       "      <td>[코스닥공시] 세보기계</td>\n",
       "    </tr>\n",
       "    <tr>\n",
       "      <th>1713559</th>\n",
       "      <td>한국경제</td>\n",
       "      <td>20202</td>\n",
       "      <td>전자.통신업체 신용등급도 급상승세</td>\n",
       "    </tr>\n",
       "    <tr>\n",
       "      <th>1713560</th>\n",
       "      <td>한국경제</td>\n",
       "      <td>20202</td>\n",
       "      <td>종합주가 폭락세, 916.01(-37.21) 전장마감</td>\n",
       "    </tr>\n",
       "    <tr>\n",
       "      <th>1713561</th>\n",
       "      <td>한국경제</td>\n",
       "      <td>20202</td>\n",
       "      <td>산자부, 수치제어장치 산.학.연 공동연구 개발에 성공</td>\n",
       "    </tr>\n",
       "  </tbody>\n",
       "</table>\n",
       "<p>500 rows × 3 columns</p>\n",
       "</div>"
      ],
      "text/plain": [
       "          언론사     날짜                             제목\n",
       "1713062  연합뉴스  20202        삼성 전자 관계사 공채, 경쟁률 41대 1\n",
       "1713063  연합뉴스  20202            무선인터넷 서비스 위해 전략적 제휴\n",
       "1713064  연합뉴스  20202           주가 43포인트 폭등, 870선 회복\n",
       "1713065  연합뉴스    NaN       주가 43포인트 폭등, 870선 회복(종합)\n",
       "1713066  연합뉴스  20202       아.태 주요 기업 경기회복으로 대폭 수익호전\n",
       "...       ...    ...                            ...\n",
       "1713557  한국경제  20202  디지털이미지뱅크, 한투등 3개사서 20억원 투자 유치\n",
       "1713558  한국경제  20202                   [코스닥공시] 세보기계\n",
       "1713559  한국경제  20202             전자.통신업체 신용등급도 급상승세\n",
       "1713560  한국경제  20202  종합주가 폭락세, 916.01(-37.21) 전장마감\n",
       "1713561  한국경제  20202  산자부, 수치제어장치 산.학.연 공동연구 개발에 성공\n",
       "\n",
       "[500 rows x 3 columns]"
      ]
     },
     "execution_count": 12,
     "metadata": {},
     "output_type": "execute_result"
    }
   ],
   "source": [
    "ex[-500:]"
   ]
  },
  {
   "cell_type": "code",
   "execution_count": null,
   "id": "da1a9d43",
   "metadata": {
    "ExecuteTime": {
     "end_time": "2022-07-29T07:23:15.185169Z",
     "start_time": "2022-07-29T07:23:15.021664Z"
    }
   },
   "outputs": [],
   "source": [
    "# 앞 데이터로 NAN값 채우기 fill foward\n",
    "\n",
    "ex.fillna(method='ffill', inplace=True)\n",
    "ex"
   ]
  },
  {
   "cell_type": "code",
   "execution_count": null,
   "id": "651d5f56",
   "metadata": {},
   "outputs": [],
   "source": [
    "# FinanceData 모듈과 같은 형식으로 만들기 위해 . -> - 로 바꾸기, finance의 -를 없앨지? 추후 논의\n"
   ]
  },
  {
   "cell_type": "code",
   "execution_count": null,
   "id": "1fe7812b",
   "metadata": {
    "ExecuteTime": {
     "end_time": "2022-07-28T08:36:01.708613Z",
     "start_time": "2022-07-28T08:36:01.690591Z"
    }
   },
   "outputs": [],
   "source": [
    "# for i in range(5):\n",
    "#     i += 1\n",
    "#     print(df_2000_str[50*(i-1):50*i])\n",
    "#     print('')"
   ]
  },
  {
   "cell_type": "code",
   "execution_count": null,
   "id": "52512c8b",
   "metadata": {},
   "outputs": [],
   "source": []
  }
 ],
 "metadata": {
  "kernelspec": {
   "display_name": "Python 3 (ipykernel)",
   "language": "python",
   "name": "python3"
  },
  "language_info": {
   "codemirror_mode": {
    "name": "ipython",
    "version": 3
   },
   "file_extension": ".py",
   "mimetype": "text/x-python",
   "name": "python",
   "nbconvert_exporter": "python",
   "pygments_lexer": "ipython3",
   "version": "3.8.13"
  },
  "toc": {
   "base_numbering": 1,
   "nav_menu": {},
   "number_sections": false,
   "sideBar": true,
   "skip_h1_title": false,
   "title_cell": "Table of Contents",
   "title_sidebar": "Contents",
   "toc_cell": false,
   "toc_position": {},
   "toc_section_display": true,
   "toc_window_display": false
  }
 },
 "nbformat": 4,
 "nbformat_minor": 5
}
