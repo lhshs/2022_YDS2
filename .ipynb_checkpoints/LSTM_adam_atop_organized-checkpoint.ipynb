{
 "cells": [
  {
   "cell_type": "code",
   "execution_count": 1,
   "id": "7e20f27a",
   "metadata": {
    "ExecuteTime": {
     "end_time": "2022-12-01T10:06:48.743822Z",
     "start_time": "2022-12-01T10:06:47.665658Z"
    },
    "scrolled": true
   },
   "outputs": [
    {
     "name": "stdout",
     "output_type": "stream",
     "text": [
      "Requirement already satisfied: tensorflow in /Users/lhs2/miniforge3/envs/lhs/lib/python3.8/site-packages (2.9.1)\n",
      "Requirement already satisfied: numpy>=1.20 in /Users/lhs2/miniforge3/envs/lhs/lib/python3.8/site-packages (from tensorflow) (1.23.1)\n",
      "Requirement already satisfied: absl-py>=1.0.0 in /Users/lhs2/miniforge3/envs/lhs/lib/python3.8/site-packages (from tensorflow) (1.1.0)\n",
      "Requirement already satisfied: keras<2.10.0,>=2.9.0rc0 in /Users/lhs2/miniforge3/envs/lhs/lib/python3.8/site-packages (from tensorflow) (2.9.0)\n",
      "Requirement already satisfied: tensorflow-estimator<2.10.0,>=2.9.0rc0 in /Users/lhs2/miniforge3/envs/lhs/lib/python3.8/site-packages (from tensorflow) (2.9.0)\n",
      "Requirement already satisfied: grpcio<2.0,>=1.24.3 in /Users/lhs2/miniforge3/envs/lhs/lib/python3.8/site-packages (from tensorflow) (1.46.3)\n",
      "Requirement already satisfied: google-pasta>=0.1.1 in /Users/lhs2/miniforge3/envs/lhs/lib/python3.8/site-packages (from tensorflow) (0.2.0)\n",
      "Requirement already satisfied: opt-einsum>=2.3.2 in /Users/lhs2/miniforge3/envs/lhs/lib/python3.8/site-packages (from tensorflow) (3.3.0)\n",
      "Requirement already satisfied: tensorboard<2.10,>=2.9 in /Users/lhs2/miniforge3/envs/lhs/lib/python3.8/site-packages (from tensorflow) (2.9.0)\n",
      "Requirement already satisfied: packaging in /Users/lhs2/miniforge3/envs/lhs/lib/python3.8/site-packages (from tensorflow) (21.3)\n",
      "Requirement already satisfied: gast<=0.4.0,>=0.2.1 in /Users/lhs2/miniforge3/envs/lhs/lib/python3.8/site-packages (from tensorflow) (0.4.0)\n",
      "Requirement already satisfied: keras-preprocessing>=1.1.1 in /Users/lhs2/miniforge3/envs/lhs/lib/python3.8/site-packages (from tensorflow) (1.1.2)\n",
      "Requirement already satisfied: wrapt>=1.11.0 in /Users/lhs2/miniforge3/envs/lhs/lib/python3.8/site-packages (from tensorflow) (1.14.1)\n",
      "Requirement already satisfied: six>=1.12.0 in /Users/lhs2/miniforge3/envs/lhs/lib/python3.8/site-packages (from tensorflow) (1.16.0)\n",
      "Requirement already satisfied: termcolor>=1.1.0 in /Users/lhs2/miniforge3/envs/lhs/lib/python3.8/site-packages (from tensorflow) (1.1.0)\n",
      "Requirement already satisfied: setuptools in /Users/lhs2/miniforge3/envs/lhs/lib/python3.8/site-packages (from tensorflow) (63.2.0)\n",
      "Requirement already satisfied: flatbuffers<2,>=1.12 in /Users/lhs2/miniforge3/envs/lhs/lib/python3.8/site-packages (from tensorflow) (1.12)\n",
      "Requirement already satisfied: protobuf>=3.9.2 in /Users/lhs2/miniforge3/envs/lhs/lib/python3.8/site-packages (from tensorflow) (3.20.1)\n",
      "Requirement already satisfied: typing-extensions>=3.6.6 in /Users/lhs2/miniforge3/envs/lhs/lib/python3.8/site-packages (from tensorflow) (4.3.0)\n",
      "Requirement already satisfied: h5py>=2.9.0 in /Users/lhs2/miniforge3/envs/lhs/lib/python3.8/site-packages (from tensorflow) (3.6.0)\n",
      "Requirement already satisfied: astunparse>=1.6.0 in /Users/lhs2/miniforge3/envs/lhs/lib/python3.8/site-packages (from tensorflow) (1.6.3)\n",
      "Requirement already satisfied: wheel<1.0,>=0.23.0 in /Users/lhs2/miniforge3/envs/lhs/lib/python3.8/site-packages (from astunparse>=1.6.0->tensorflow) (0.37.1)\n",
      "Requirement already satisfied: markdown>=2.6.8 in /Users/lhs2/miniforge3/envs/lhs/lib/python3.8/site-packages (from tensorboard<2.10,>=2.9->tensorflow) (3.4.1)\n",
      "Requirement already satisfied: requests<3,>=2.21.0 in /Users/lhs2/miniforge3/envs/lhs/lib/python3.8/site-packages (from tensorboard<2.10,>=2.9->tensorflow) (2.28.1)\n",
      "Requirement already satisfied: tensorboard-data-server<0.7.0,>=0.6.0 in /Users/lhs2/miniforge3/envs/lhs/lib/python3.8/site-packages (from tensorboard<2.10,>=2.9->tensorflow) (0.6.0)\n",
      "Requirement already satisfied: google-auth-oauthlib<0.5,>=0.4.1 in /Users/lhs2/miniforge3/envs/lhs/lib/python3.8/site-packages (from tensorboard<2.10,>=2.9->tensorflow) (0.4.6)\n",
      "Requirement already satisfied: werkzeug>=1.0.1 in /Users/lhs2/miniforge3/envs/lhs/lib/python3.8/site-packages (from tensorboard<2.10,>=2.9->tensorflow) (2.1.2)\n",
      "Requirement already satisfied: google-auth<3,>=1.6.3 in /Users/lhs2/miniforge3/envs/lhs/lib/python3.8/site-packages (from tensorboard<2.10,>=2.9->tensorflow) (2.9.1)\n",
      "Requirement already satisfied: tensorboard-plugin-wit>=1.6.0 in /Users/lhs2/miniforge3/envs/lhs/lib/python3.8/site-packages (from tensorboard<2.10,>=2.9->tensorflow) (1.8.1)\n",
      "Requirement already satisfied: pyparsing!=3.0.5,>=2.0.2 in /Users/lhs2/miniforge3/envs/lhs/lib/python3.8/site-packages (from packaging->tensorflow) (3.0.9)\n",
      "Requirement already satisfied: rsa<5,>=3.1.4 in /Users/lhs2/miniforge3/envs/lhs/lib/python3.8/site-packages (from google-auth<3,>=1.6.3->tensorboard<2.10,>=2.9->tensorflow) (4.9)\n",
      "Requirement already satisfied: pyasn1-modules>=0.2.1 in /Users/lhs2/miniforge3/envs/lhs/lib/python3.8/site-packages (from google-auth<3,>=1.6.3->tensorboard<2.10,>=2.9->tensorflow) (0.2.7)\n",
      "Requirement already satisfied: cachetools<6.0,>=2.0.0 in /Users/lhs2/miniforge3/envs/lhs/lib/python3.8/site-packages (from google-auth<3,>=1.6.3->tensorboard<2.10,>=2.9->tensorflow) (5.0.0)\n",
      "Requirement already satisfied: requests-oauthlib>=0.7.0 in /Users/lhs2/miniforge3/envs/lhs/lib/python3.8/site-packages (from google-auth-oauthlib<0.5,>=0.4.1->tensorboard<2.10,>=2.9->tensorflow) (1.3.1)\n",
      "Requirement already satisfied: importlib-metadata>=4.4 in /Users/lhs2/miniforge3/envs/lhs/lib/python3.8/site-packages (from markdown>=2.6.8->tensorboard<2.10,>=2.9->tensorflow) (4.11.4)\n",
      "Requirement already satisfied: certifi>=2017.4.17 in /Users/lhs2/miniforge3/envs/lhs/lib/python3.8/site-packages (from requests<3,>=2.21.0->tensorboard<2.10,>=2.9->tensorflow) (2022.6.15)\n",
      "Requirement already satisfied: idna<4,>=2.5 in /Users/lhs2/miniforge3/envs/lhs/lib/python3.8/site-packages (from requests<3,>=2.21.0->tensorboard<2.10,>=2.9->tensorflow) (3.3)\n",
      "Requirement already satisfied: charset-normalizer<3,>=2 in /Users/lhs2/miniforge3/envs/lhs/lib/python3.8/site-packages (from requests<3,>=2.21.0->tensorboard<2.10,>=2.9->tensorflow) (2.1.0)\n",
      "Requirement already satisfied: urllib3<1.27,>=1.21.1 in /Users/lhs2/miniforge3/envs/lhs/lib/python3.8/site-packages (from requests<3,>=2.21.0->tensorboard<2.10,>=2.9->tensorflow) (1.26.11)\n",
      "Requirement already satisfied: zipp>=0.5 in /Users/lhs2/miniforge3/envs/lhs/lib/python3.8/site-packages (from importlib-metadata>=4.4->markdown>=2.6.8->tensorboard<2.10,>=2.9->tensorflow) (3.8.0)\n",
      "Requirement already satisfied: pyasn1<0.5.0,>=0.4.6 in /Users/lhs2/miniforge3/envs/lhs/lib/python3.8/site-packages (from pyasn1-modules>=0.2.1->google-auth<3,>=1.6.3->tensorboard<2.10,>=2.9->tensorflow) (0.4.8)\n",
      "Requirement already satisfied: oauthlib>=3.0.0 in /Users/lhs2/miniforge3/envs/lhs/lib/python3.8/site-packages (from requests-oauthlib>=0.7.0->google-auth-oauthlib<0.5,>=0.4.1->tensorboard<2.10,>=2.9->tensorflow) (3.2.0)\n"
     ]
    }
   ],
   "source": [
    "!pip install tensorflow"
   ]
  },
  {
   "cell_type": "code",
   "execution_count": 2,
   "id": "f9b4a324",
   "metadata": {
    "ExecuteTime": {
     "end_time": "2022-12-01T10:06:51.366309Z",
     "start_time": "2022-12-01T10:06:50.651267Z"
    }
   },
   "outputs": [
    {
     "name": "stdout",
     "output_type": "stream",
     "text": [
      "Requirement already satisfied: konlpy in /Users/lhs2/miniforge3/envs/lhs/lib/python3.8/site-packages (0.6.0)\r\n",
      "Requirement already satisfied: JPype1>=0.7.0 in /Users/lhs2/miniforge3/envs/lhs/lib/python3.8/site-packages (from konlpy) (1.4.0)\r\n",
      "Requirement already satisfied: numpy>=1.6 in /Users/lhs2/miniforge3/envs/lhs/lib/python3.8/site-packages (from konlpy) (1.23.1)\r\n",
      "Requirement already satisfied: lxml>=4.1.0 in /Users/lhs2/miniforge3/envs/lhs/lib/python3.8/site-packages (from konlpy) (4.9.1)\r\n"
     ]
    }
   ],
   "source": [
    "!pip install konlpy"
   ]
  },
  {
   "cell_type": "code",
   "execution_count": 3,
   "id": "6aa0816b",
   "metadata": {
    "ExecuteTime": {
     "end_time": "2022-12-01T10:08:55.492449Z",
     "start_time": "2022-12-01T10:08:44.552114Z"
    }
   },
   "outputs": [],
   "source": [
    "import pandas as pd\n",
    "import numpy as np\n",
    "import matplotlib.pyplot as plt\n",
    "import re\n",
    "import urllib.request\n",
    "import pickle\n",
    "from konlpy.tag import Okt\n",
    "from tqdm import tqdm\n",
    "from tensorflow.keras.preprocessing.text import Tokenizer\n",
    "from tensorflow.keras.preprocessing.sequence import pad_sequences"
   ]
  },
  {
   "cell_type": "code",
   "execution_count": 10,
   "id": "3de416b7",
   "metadata": {},
   "outputs": [],
   "source": [
    "from tensorflow.keras.layers import Embedding, Dense, LSTM\n",
    "from tensorflow.keras.models import Sequential\n",
    "from tensorflow.keras.models import load_model\n",
    "from tensorflow.keras.callbacks import EarlyStopping, ModelCheckpoint"
   ]
  },
  {
   "cell_type": "code",
   "execution_count": 11,
   "id": "10f06882",
   "metadata": {},
   "outputs": [],
   "source": [
    "# loading\n",
    "with open('tokenizer.pickle', 'rb') as handle:\n",
    "    tokenizer = pickle.load(handle)"
   ]
  },
  {
   "cell_type": "code",
   "execution_count": 12,
   "id": "c90a798d",
   "metadata": {},
   "outputs": [],
   "source": [
    "okt = Okt()"
   ]
  },
  {
   "cell_type": "code",
   "execution_count": 13,
   "id": "af2c4737",
   "metadata": {},
   "outputs": [],
   "source": [
    "stopwords = ['의','가','이','은','들','는','좀','잘','걍','과','도','를','으로','자','에','와','한','하다', '로']"
   ]
  },
  {
   "cell_type": "code",
   "execution_count": 14,
   "id": "a5212bfe",
   "metadata": {},
   "outputs": [],
   "source": [
    "def stock_up_down_predict(new_sentence):\n",
    "  print(\"입력받음:\", new_sentence)\n",
    "  new_sentence = re.sub(r'[^ㄱ-ㅎㅏ-ㅣ가-힣]', \"\", new_sentence)\n",
    "#   print(\"한글만:\", new_sentence)\n",
    "  new_sentence = okt.morphs(new_sentence, stem=True)\n",
    "#   print(\"형태소 정제:\", new_sentence)\n",
    "#   print()\n",
    "  new_sentence = [word for word in new_sentence if not word in stopwords]\n",
    "#   print(\"불용어 제거:\", new_sentence)\n",
    "#   print()\n",
    "  encoded = tokenizer.texts_to_sequences([new_sentence])\n",
    "#   print(\"숫자로:\", encoded)\n",
    "#   print()\n",
    "  pad_new = pad_sequences(encoded, maxlen = 15)\n",
    "#   print(\"패들링:\", pad_new)\n",
    "  score = float(loaded_model.predict(pad_new))\n",
    "  print(\"스코어:\", score)\n",
    "  if score > 0.5:\n",
    "      print(\"{:.2f}% 확률로 업!\\n\".format(score*100))\n",
    "  else:\n",
    "      print(\"{:.2f}% 확률로 다운!\\n\".format(score*100))"
   ]
  },
  {
   "cell_type": "code",
   "execution_count": 16,
   "id": "9ce3ad09",
   "metadata": {},
   "outputs": [],
   "source": [
    "loaded_model = load_model(\"best_model_adam.h5\")"
   ]
  },
  {
   "cell_type": "code",
   "execution_count": 33,
   "id": "e4dbfa7d",
   "metadata": {},
   "outputs": [
    {
     "name": "stdout",
     "output_type": "stream",
     "text": [
      "입력받음: 이재용 사면을 위해 정부와 삼성이 내놓아야 할 것은?\n",
      "스코어: 0.2816651463508606\n",
      "28.17% 확률로 다운!\n",
      "\n"
     ]
    }
   ],
   "source": [
    "stock_up_down_predict(\"이재용 사면을 위해 정부와 삼성이 내놓아야 할 것은?\")"
   ]
  },
  {
   "cell_type": "code",
   "execution_count": 30,
   "id": "46a9c572",
   "metadata": {},
   "outputs": [
    {
     "name": "stdout",
     "output_type": "stream",
     "text": [
      "이재용 사면을 위해 정부와 삼성이 내놓아야 할 것은?\n",
      "[단독]'삼성에 갑질' 브로드컴, 공정위에 \"자진시정 하겠다\" 왜\n",
      "\"삼성전자 베트남공장 스마트폰 생산 줄여…근무시간 단축\"\n",
      "삼성전자, 인도 통신사업자 에어텔에 5G 공급 계약\n",
      "ㅁ\n",
      "ㅁ\n",
      "ㅁ\n",
      "ㅁ\n",
      "ㅁ\n",
      "ㅁ\n"
     ]
    }
   ],
   "source": [
    "today_headlines = []\n",
    "for _ in range(10):\n",
    "    today_headlines.append(input())"
   ]
  },
  {
   "cell_type": "code",
   "execution_count": 31,
   "id": "8cf694ab",
   "metadata": {},
   "outputs": [
    {
     "name": "stdout",
     "output_type": "stream",
     "text": [
      "입력받음: 이재용 사면을 위해 정부와 삼성이 내놓아야 할 것은?\n",
      "스코어: 0.2816651463508606\n",
      "28.17% 확률로 다운!\n",
      "\n",
      "입력받음: [단독]'삼성에 갑질' 브로드컴, 공정위에 \"자진시정 하겠다\" 왜\n",
      "스코어: 0.47903746366500854\n",
      "47.90% 확률로 다운!\n",
      "\n",
      "입력받음: \"삼성전자 베트남공장 스마트폰 생산 줄여…근무시간 단축\"\n",
      "스코어: 0.48641738295555115\n",
      "48.64% 확률로 다운!\n",
      "\n",
      "입력받음: 삼성전자, 인도 통신사업자 에어텔에 5G 공급 계약\n",
      "스코어: 0.8664659261703491\n",
      "86.65% 확률로 업!\n",
      "\n",
      "입력받음: ㅁ\n",
      "스코어: 0.5384418964385986\n",
      "53.84% 확률로 업!\n",
      "\n",
      "입력받음: ㅁ\n",
      "스코어: 0.5384418964385986\n",
      "53.84% 확률로 업!\n",
      "\n",
      "입력받음: ㅁ\n",
      "스코어: 0.5384418964385986\n",
      "53.84% 확률로 업!\n",
      "\n",
      "입력받음: ㅁ\n",
      "스코어: 0.5384418964385986\n",
      "53.84% 확률로 업!\n",
      "\n",
      "입력받음: ㅁ\n",
      "스코어: 0.5384418964385986\n",
      "53.84% 확률로 업!\n",
      "\n",
      "입력받음: ㅁ\n",
      "스코어: 0.5384418964385986\n",
      "53.84% 확률로 업!\n",
      "\n"
     ]
    }
   ],
   "source": [
    "for i in today_headlines:\n",
    "    stock_up_down_predict(i)"
   ]
  },
  {
   "cell_type": "code",
   "execution_count": 3,
   "id": "8555cc9d",
   "metadata": {},
   "outputs": [
    {
     "data": {
      "text/html": [
       "<div>\n",
       "<style scoped>\n",
       "    .dataframe tbody tr th:only-of-type {\n",
       "        vertical-align: middle;\n",
       "    }\n",
       "\n",
       "    .dataframe tbody tr th {\n",
       "        vertical-align: top;\n",
       "    }\n",
       "\n",
       "    .dataframe thead th {\n",
       "        text-align: right;\n",
       "    }\n",
       "</style>\n",
       "<table border=\"1\" class=\"dataframe\">\n",
       "  <thead>\n",
       "    <tr style=\"text-align: right;\">\n",
       "      <th></th>\n",
       "      <th>언론사</th>\n",
       "      <th>날짜</th>\n",
       "      <th>제목</th>\n",
       "      <th>Change</th>\n",
       "    </tr>\n",
       "  </thead>\n",
       "  <tbody>\n",
       "    <tr>\n",
       "      <th>0</th>\n",
       "      <td>연합뉴스</td>\n",
       "      <td>1998-05-25</td>\n",
       "      <td>한도폐지 첫날 주가 하락세</td>\n",
       "      <td>0</td>\n",
       "    </tr>\n",
       "    <tr>\n",
       "      <th>1</th>\n",
       "      <td>연합뉴스</td>\n",
       "      <td>1998-05-25</td>\n",
       "      <td>주가, 11년만에 최저치로 폭락</td>\n",
       "      <td>0</td>\n",
       "    </tr>\n",
       "    <tr>\n",
       "      <th>2</th>\n",
       "      <td>연합뉴스</td>\n",
       "      <td>1998-05-26</td>\n",
       "      <td>주가 급락세 지속, 3백10선도 위협</td>\n",
       "      <td>1</td>\n",
       "    </tr>\n",
       "    <tr>\n",
       "      <th>3</th>\n",
       "      <td>연합뉴스</td>\n",
       "      <td>1998-05-26</td>\n",
       "      <td>삼성전자, 매출 급신장</td>\n",
       "      <td>1</td>\n",
       "    </tr>\n",
       "    <tr>\n",
       "      <th>4</th>\n",
       "      <td>연합뉴스</td>\n",
       "      <td>1998-05-26</td>\n",
       "      <td>엘니뇨 덕, 에어컨 일부 품목 품귀현상</td>\n",
       "      <td>1</td>\n",
       "    </tr>\n",
       "    <tr>\n",
       "      <th>...</th>\n",
       "      <td>...</td>\n",
       "      <td>...</td>\n",
       "      <td>...</td>\n",
       "      <td>...</td>\n",
       "    </tr>\n",
       "    <tr>\n",
       "      <th>3851941</th>\n",
       "      <td>한국경제</td>\n",
       "      <td>2022-07-21</td>\n",
       "      <td>디지털이미지뱅크, 한투등 3개사서 20억원 투자 유치</td>\n",
       "      <td>0</td>\n",
       "    </tr>\n",
       "    <tr>\n",
       "      <th>3851942</th>\n",
       "      <td>한국경제</td>\n",
       "      <td>2022-07-21</td>\n",
       "      <td>[코스닥공시] 세보기계</td>\n",
       "      <td>0</td>\n",
       "    </tr>\n",
       "    <tr>\n",
       "      <th>3851943</th>\n",
       "      <td>한국경제</td>\n",
       "      <td>2022-07-21</td>\n",
       "      <td>전자.통신업체 신용등급도 급상승세</td>\n",
       "      <td>0</td>\n",
       "    </tr>\n",
       "    <tr>\n",
       "      <th>3851944</th>\n",
       "      <td>한국경제</td>\n",
       "      <td>2022-07-21</td>\n",
       "      <td>종합주가 폭락세, 916.01(-37.21) 전장마감</td>\n",
       "      <td>0</td>\n",
       "    </tr>\n",
       "    <tr>\n",
       "      <th>3851945</th>\n",
       "      <td>한국경제</td>\n",
       "      <td>2022-07-21</td>\n",
       "      <td>산자부, 수치제어장치 산.학.연 공동연구 개발에 성공</td>\n",
       "      <td>0</td>\n",
       "    </tr>\n",
       "  </tbody>\n",
       "</table>\n",
       "<p>3851946 rows × 4 columns</p>\n",
       "</div>"
      ],
      "text/plain": [
       "          언론사          날짜                             제목  Change\n",
       "0        연합뉴스  1998-05-25                 한도폐지 첫날 주가 하락세       0\n",
       "1        연합뉴스  1998-05-25              주가, 11년만에 최저치로 폭락       0\n",
       "2        연합뉴스  1998-05-26           주가 급락세 지속, 3백10선도 위협       1\n",
       "3        연합뉴스  1998-05-26                   삼성전자, 매출 급신장       1\n",
       "4        연합뉴스  1998-05-26          엘니뇨 덕, 에어컨 일부 품목 품귀현상       1\n",
       "...       ...         ...                            ...     ...\n",
       "3851941  한국경제  2022-07-21  디지털이미지뱅크, 한투등 3개사서 20억원 투자 유치       0\n",
       "3851942  한국경제  2022-07-21                   [코스닥공시] 세보기계       0\n",
       "3851943  한국경제  2022-07-21             전자.통신업체 신용등급도 급상승세       0\n",
       "3851944  한국경제  2022-07-21  종합주가 폭락세, 916.01(-37.21) 전장마감       0\n",
       "3851945  한국경제  2022-07-21  산자부, 수치제어장치 산.학.연 공동연구 개발에 성공       0\n",
       "\n",
       "[3851946 rows x 4 columns]"
      ]
     },
     "execution_count": 3,
     "metadata": {},
     "output_type": "execute_result"
    }
   ],
   "source": [
    "total_data = pd.read_csv(\"/Users/krc/Desktop/Everyday Open Folder/df_labeled_zero_and_one.csv\", index_col=0)\n",
    "total_data"
   ]
  },
  {
   "cell_type": "code",
   "execution_count": 4,
   "id": "97d9d81c",
   "metadata": {},
   "outputs": [
    {
     "data": {
      "text/plain": [
       "3851946"
      ]
     },
     "execution_count": 4,
     "metadata": {},
     "output_type": "execute_result"
    }
   ],
   "source": [
    "len(total_data)"
   ]
  },
  {
   "cell_type": "code",
   "execution_count": 6,
   "id": "7028f104",
   "metadata": {},
   "outputs": [
    {
     "data": {
      "text/html": [
       "<div>\n",
       "<style scoped>\n",
       "    .dataframe tbody tr th:only-of-type {\n",
       "        vertical-align: middle;\n",
       "    }\n",
       "\n",
       "    .dataframe tbody tr th {\n",
       "        vertical-align: top;\n",
       "    }\n",
       "\n",
       "    .dataframe thead th {\n",
       "        text-align: right;\n",
       "    }\n",
       "</style>\n",
       "<table border=\"1\" class=\"dataframe\">\n",
       "  <thead>\n",
       "    <tr style=\"text-align: right;\">\n",
       "      <th></th>\n",
       "      <th>언론사</th>\n",
       "      <th>날짜</th>\n",
       "      <th>제목</th>\n",
       "      <th>Change</th>\n",
       "    </tr>\n",
       "  </thead>\n",
       "  <tbody>\n",
       "    <tr>\n",
       "      <th>0</th>\n",
       "      <td>연합뉴스</td>\n",
       "      <td>1998-05-25</td>\n",
       "      <td>한도폐지 첫날 주가 하락세</td>\n",
       "      <td>0</td>\n",
       "    </tr>\n",
       "    <tr>\n",
       "      <th>1</th>\n",
       "      <td>연합뉴스</td>\n",
       "      <td>1998-05-25</td>\n",
       "      <td>주가, 11년만에 최저치로 폭락</td>\n",
       "      <td>0</td>\n",
       "    </tr>\n",
       "    <tr>\n",
       "      <th>2</th>\n",
       "      <td>연합뉴스</td>\n",
       "      <td>1998-05-26</td>\n",
       "      <td>주가 급락세 지속, 3백10선도 위협</td>\n",
       "      <td>1</td>\n",
       "    </tr>\n",
       "    <tr>\n",
       "      <th>3</th>\n",
       "      <td>연합뉴스</td>\n",
       "      <td>1998-05-26</td>\n",
       "      <td>삼성전자, 매출 급신장</td>\n",
       "      <td>1</td>\n",
       "    </tr>\n",
       "    <tr>\n",
       "      <th>4</th>\n",
       "      <td>연합뉴스</td>\n",
       "      <td>1998-05-26</td>\n",
       "      <td>엘니뇨 덕, 에어컨 일부 품목 품귀현상</td>\n",
       "      <td>1</td>\n",
       "    </tr>\n",
       "  </tbody>\n",
       "</table>\n",
       "</div>"
      ],
      "text/plain": [
       "    언론사          날짜                     제목  Change\n",
       "0  연합뉴스  1998-05-25         한도폐지 첫날 주가 하락세       0\n",
       "1  연합뉴스  1998-05-25      주가, 11년만에 최저치로 폭락       0\n",
       "2  연합뉴스  1998-05-26   주가 급락세 지속, 3백10선도 위협       1\n",
       "3  연합뉴스  1998-05-26           삼성전자, 매출 급신장       1\n",
       "4  연합뉴스  1998-05-26  엘니뇨 덕, 에어컨 일부 품목 품귀현상       1"
      ]
     },
     "execution_count": 6,
     "metadata": {},
     "output_type": "execute_result"
    }
   ],
   "source": [
    "total_data[:5]"
   ]
  },
  {
   "cell_type": "code",
   "execution_count": 5,
   "id": "8de59260",
   "metadata": {},
   "outputs": [
    {
     "data": {
      "text/plain": [
       "(2875888, 2)"
      ]
     },
     "execution_count": 5,
     "metadata": {},
     "output_type": "execute_result"
    }
   ],
   "source": [
    "total_data[\"제목\"].nunique(), total_data[\"Change\"].nunique()"
   ]
  },
  {
   "cell_type": "code",
   "execution_count": 6,
   "id": "0e60dfad",
   "metadata": {},
   "outputs": [],
   "source": [
    "total_data.drop_duplicates(subset=[\"제목\"], keep=\"first\", inplace=True)"
   ]
  },
  {
   "cell_type": "code",
   "execution_count": 7,
   "id": "2203b341",
   "metadata": {},
   "outputs": [],
   "source": [
    "total_data.reset_index(drop=True, inplace=True)"
   ]
  },
  {
   "cell_type": "code",
   "execution_count": 8,
   "id": "9a8be384",
   "metadata": {},
   "outputs": [
    {
     "data": {
      "text/html": [
       "<div>\n",
       "<style scoped>\n",
       "    .dataframe tbody tr th:only-of-type {\n",
       "        vertical-align: middle;\n",
       "    }\n",
       "\n",
       "    .dataframe tbody tr th {\n",
       "        vertical-align: top;\n",
       "    }\n",
       "\n",
       "    .dataframe thead th {\n",
       "        text-align: right;\n",
       "    }\n",
       "</style>\n",
       "<table border=\"1\" class=\"dataframe\">\n",
       "  <thead>\n",
       "    <tr style=\"text-align: right;\">\n",
       "      <th></th>\n",
       "      <th>언론사</th>\n",
       "      <th>날짜</th>\n",
       "      <th>제목</th>\n",
       "      <th>Change</th>\n",
       "    </tr>\n",
       "  </thead>\n",
       "  <tbody>\n",
       "    <tr>\n",
       "      <th>0</th>\n",
       "      <td>연합뉴스</td>\n",
       "      <td>1998-05-25</td>\n",
       "      <td>한도폐지 첫날 주가 하락세</td>\n",
       "      <td>0</td>\n",
       "    </tr>\n",
       "    <tr>\n",
       "      <th>1</th>\n",
       "      <td>연합뉴스</td>\n",
       "      <td>1998-05-25</td>\n",
       "      <td>주가, 11년만에 최저치로 폭락</td>\n",
       "      <td>0</td>\n",
       "    </tr>\n",
       "    <tr>\n",
       "      <th>2</th>\n",
       "      <td>연합뉴스</td>\n",
       "      <td>1998-05-26</td>\n",
       "      <td>주가 급락세 지속, 3백10선도 위협</td>\n",
       "      <td>1</td>\n",
       "    </tr>\n",
       "    <tr>\n",
       "      <th>3</th>\n",
       "      <td>연합뉴스</td>\n",
       "      <td>1998-05-26</td>\n",
       "      <td>삼성전자, 매출 급신장</td>\n",
       "      <td>1</td>\n",
       "    </tr>\n",
       "    <tr>\n",
       "      <th>4</th>\n",
       "      <td>연합뉴스</td>\n",
       "      <td>1998-05-26</td>\n",
       "      <td>엘니뇨 덕, 에어컨 일부 품목 품귀현상</td>\n",
       "      <td>1</td>\n",
       "    </tr>\n",
       "    <tr>\n",
       "      <th>...</th>\n",
       "      <td>...</td>\n",
       "      <td>...</td>\n",
       "      <td>...</td>\n",
       "      <td>...</td>\n",
       "    </tr>\n",
       "    <tr>\n",
       "      <th>2875883</th>\n",
       "      <td>연합뉴스</td>\n",
       "      <td>2022-07-19</td>\n",
       "      <td>-춘계승마- 어영해, 중장애물비월 우승</td>\n",
       "      <td>0</td>\n",
       "    </tr>\n",
       "    <tr>\n",
       "      <th>2875884</th>\n",
       "      <td>연합뉴스</td>\n",
       "      <td>2022-07-19</td>\n",
       "      <td>전자업계, 컨테이너 운송비용 인상에 반발</td>\n",
       "      <td>0</td>\n",
       "    </tr>\n",
       "    <tr>\n",
       "      <th>2875885</th>\n",
       "      <td>연합뉴스</td>\n",
       "      <td>2022-07-19</td>\n",
       "      <td>&lt;주식시황&gt; 주가 사흘만에 소폭 상승</td>\n",
       "      <td>0</td>\n",
       "    </tr>\n",
       "    <tr>\n",
       "      <th>2875886</th>\n",
       "      <td>연합뉴스</td>\n",
       "      <td>2022-07-19</td>\n",
       "      <td>춘계승마- 상무, 속도장애물비월 단체 우승</td>\n",
       "      <td>0</td>\n",
       "    </tr>\n",
       "    <tr>\n",
       "      <th>2875887</th>\n",
       "      <td>연합뉴스</td>\n",
       "      <td>2022-07-19</td>\n",
       "      <td>25일 투자한도 완전철폐, 2천억∼7천억원 유입 전망</td>\n",
       "      <td>0</td>\n",
       "    </tr>\n",
       "  </tbody>\n",
       "</table>\n",
       "<p>2875888 rows × 4 columns</p>\n",
       "</div>"
      ],
      "text/plain": [
       "          언론사          날짜                             제목  Change\n",
       "0        연합뉴스  1998-05-25                 한도폐지 첫날 주가 하락세       0\n",
       "1        연합뉴스  1998-05-25              주가, 11년만에 최저치로 폭락       0\n",
       "2        연합뉴스  1998-05-26           주가 급락세 지속, 3백10선도 위협       1\n",
       "3        연합뉴스  1998-05-26                   삼성전자, 매출 급신장       1\n",
       "4        연합뉴스  1998-05-26          엘니뇨 덕, 에어컨 일부 품목 품귀현상       1\n",
       "...       ...         ...                            ...     ...\n",
       "2875883  연합뉴스  2022-07-19          -춘계승마- 어영해, 중장애물비월 우승       0\n",
       "2875884  연합뉴스  2022-07-19         전자업계, 컨테이너 운송비용 인상에 반발       0\n",
       "2875885  연합뉴스  2022-07-19           <주식시황> 주가 사흘만에 소폭 상승       0\n",
       "2875886  연합뉴스  2022-07-19        춘계승마- 상무, 속도장애물비월 단체 우승       0\n",
       "2875887  연합뉴스  2022-07-19  25일 투자한도 완전철폐, 2천억∼7천억원 유입 전망       0\n",
       "\n",
       "[2875888 rows x 4 columns]"
      ]
     },
     "execution_count": 8,
     "metadata": {},
     "output_type": "execute_result"
    }
   ],
   "source": [
    "total_data"
   ]
  },
  {
   "cell_type": "code",
   "execution_count": 70,
   "id": "0b504714",
   "metadata": {},
   "outputs": [
    {
     "data": {
      "text/plain": [
       "2875888"
      ]
     },
     "execution_count": 70,
     "metadata": {},
     "output_type": "execute_result"
    }
   ],
   "source": [
    "len(total_data)"
   ]
  },
  {
   "cell_type": "code",
   "execution_count": 71,
   "id": "eef0ce6e",
   "metadata": {},
   "outputs": [
    {
     "data": {
      "text/plain": [
       "<AxesSubplot:>"
      ]
     },
     "execution_count": 71,
     "metadata": {},
     "output_type": "execute_result"
    },
    {
     "data": {
      "image/png": "[encoded data removed]",
      "text/plain": [
       "<Figure size 432x288 with 1 Axes>"
      ]
     },
     "metadata": {
      "needs_background": "light"
     },
     "output_type": "display_data"
    }
   ],
   "source": [
    "total_data[\"Change\"].value_counts().plot(kind=\"bar\")"
   ]
  },
  {
   "cell_type": "code",
   "execution_count": 75,
   "id": "de2bd550",
   "metadata": {},
   "outputs": [
    {
     "data": {
      "text/html": [
       "<div>\n",
       "<style scoped>\n",
       "    .dataframe tbody tr th:only-of-type {\n",
       "        vertical-align: middle;\n",
       "    }\n",
       "\n",
       "    .dataframe tbody tr th {\n",
       "        vertical-align: top;\n",
       "    }\n",
       "\n",
       "    .dataframe thead th {\n",
       "        text-align: right;\n",
       "    }\n",
       "</style>\n",
       "<table border=\"1\" class=\"dataframe\">\n",
       "  <thead>\n",
       "    <tr style=\"text-align: right;\">\n",
       "      <th></th>\n",
       "      <th>Change</th>\n",
       "      <th>Counts</th>\n",
       "    </tr>\n",
       "  </thead>\n",
       "  <tbody>\n",
       "    <tr>\n",
       "      <th>0</th>\n",
       "      <td>0</td>\n",
       "      <td>1449912</td>\n",
       "    </tr>\n",
       "    <tr>\n",
       "      <th>1</th>\n",
       "      <td>1</td>\n",
       "      <td>1425976</td>\n",
       "    </tr>\n",
       "  </tbody>\n",
       "</table>\n",
       "</div>"
      ],
      "text/plain": [
       "   Change   Counts\n",
       "0       0  1449912\n",
       "1       1  1425976"
      ]
     },
     "execution_count": 75,
     "metadata": {},
     "output_type": "execute_result"
    }
   ],
   "source": [
    "total_data.groupby('Change').size().reset_index(name = \"Counts\")"
   ]
  },
  {
   "cell_type": "code",
   "execution_count": 77,
   "id": "6a31b31e",
   "metadata": {},
   "outputs": [
    {
     "name": "stdout",
     "output_type": "stream",
     "text": [
      "False\n"
     ]
    }
   ],
   "source": [
    "print(total_data.isnull().values.any())"
   ]
  },
  {
   "cell_type": "code",
   "execution_count": 9,
   "id": "23b53886",
   "metadata": {},
   "outputs": [
    {
     "name": "stdout",
     "output_type": "stream",
     "text": [
      "do you expect people to read the FAQ etc and actually accept hard atheism\n"
     ]
    }
   ],
   "source": [
    "#알파벳과 공백을 제외하고 모두 제거\n",
    "eng_text = 'do!!! you expect... people~ to~ read~ the FAQ, etc. and actually accept hard~! atheism?@@'\n",
    "print(re.sub(r'[^a-zA-Z ]', '', eng_text))"
   ]
  },
  {
   "cell_type": "code",
   "execution_count": 10,
   "id": "98a97756",
   "metadata": {},
   "outputs": [
    {
     "name": "stderr",
     "output_type": "stream",
     "text": [
      "/var/folders/7_/2y0m10tj4lgcmdgtsn8_j9yr0000gn/T/ipykernel_3316/143497000.py:1: FutureWarning: The default value of regex will change from True to False in a future version.\n",
      "  total_data[\"제목\"] = total_data[\"제목\"].str.replace(\"[^ㄱ-ㅎㅏ-ㅣ가-힣 ]\", \"\")\n"
     ]
    },
    {
     "data": {
      "text/html": [
       "<div>\n",
       "<style scoped>\n",
       "    .dataframe tbody tr th:only-of-type {\n",
       "        vertical-align: middle;\n",
       "    }\n",
       "\n",
       "    .dataframe tbody tr th {\n",
       "        vertical-align: top;\n",
       "    }\n",
       "\n",
       "    .dataframe thead th {\n",
       "        text-align: right;\n",
       "    }\n",
       "</style>\n",
       "<table border=\"1\" class=\"dataframe\">\n",
       "  <thead>\n",
       "    <tr style=\"text-align: right;\">\n",
       "      <th></th>\n",
       "      <th>언론사</th>\n",
       "      <th>날짜</th>\n",
       "      <th>제목</th>\n",
       "      <th>Change</th>\n",
       "    </tr>\n",
       "  </thead>\n",
       "  <tbody>\n",
       "    <tr>\n",
       "      <th>0</th>\n",
       "      <td>연합뉴스</td>\n",
       "      <td>1998-05-25</td>\n",
       "      <td>한도폐지 첫날 주가 하락세</td>\n",
       "      <td>0</td>\n",
       "    </tr>\n",
       "    <tr>\n",
       "      <th>1</th>\n",
       "      <td>연합뉴스</td>\n",
       "      <td>1998-05-25</td>\n",
       "      <td>주가 년만에 최저치로 폭락</td>\n",
       "      <td>0</td>\n",
       "    </tr>\n",
       "    <tr>\n",
       "      <th>2</th>\n",
       "      <td>연합뉴스</td>\n",
       "      <td>1998-05-26</td>\n",
       "      <td>주가 급락세 지속 백선도 위협</td>\n",
       "      <td>1</td>\n",
       "    </tr>\n",
       "    <tr>\n",
       "      <th>3</th>\n",
       "      <td>연합뉴스</td>\n",
       "      <td>1998-05-26</td>\n",
       "      <td>삼성전자 매출 급신장</td>\n",
       "      <td>1</td>\n",
       "    </tr>\n",
       "    <tr>\n",
       "      <th>4</th>\n",
       "      <td>연합뉴스</td>\n",
       "      <td>1998-05-26</td>\n",
       "      <td>엘니뇨 덕 에어컨 일부 품목 품귀현상</td>\n",
       "      <td>1</td>\n",
       "    </tr>\n",
       "    <tr>\n",
       "      <th>...</th>\n",
       "      <td>...</td>\n",
       "      <td>...</td>\n",
       "      <td>...</td>\n",
       "      <td>...</td>\n",
       "    </tr>\n",
       "    <tr>\n",
       "      <th>2875883</th>\n",
       "      <td>연합뉴스</td>\n",
       "      <td>2022-07-19</td>\n",
       "      <td>춘계승마 어영해 중장애물비월 우승</td>\n",
       "      <td>0</td>\n",
       "    </tr>\n",
       "    <tr>\n",
       "      <th>2875884</th>\n",
       "      <td>연합뉴스</td>\n",
       "      <td>2022-07-19</td>\n",
       "      <td>전자업계 컨테이너 운송비용 인상에 반발</td>\n",
       "      <td>0</td>\n",
       "    </tr>\n",
       "    <tr>\n",
       "      <th>2875885</th>\n",
       "      <td>연합뉴스</td>\n",
       "      <td>2022-07-19</td>\n",
       "      <td>주식시황 주가 사흘만에 소폭 상승</td>\n",
       "      <td>0</td>\n",
       "    </tr>\n",
       "    <tr>\n",
       "      <th>2875886</th>\n",
       "      <td>연합뉴스</td>\n",
       "      <td>2022-07-19</td>\n",
       "      <td>춘계승마 상무 속도장애물비월 단체 우승</td>\n",
       "      <td>0</td>\n",
       "    </tr>\n",
       "    <tr>\n",
       "      <th>2875887</th>\n",
       "      <td>연합뉴스</td>\n",
       "      <td>2022-07-19</td>\n",
       "      <td>일 투자한도 완전철폐 천억천억원 유입 전망</td>\n",
       "      <td>0</td>\n",
       "    </tr>\n",
       "  </tbody>\n",
       "</table>\n",
       "<p>2875888 rows × 4 columns</p>\n",
       "</div>"
      ],
      "text/plain": [
       "          언론사          날짜                       제목  Change\n",
       "0        연합뉴스  1998-05-25           한도폐지 첫날 주가 하락세       0\n",
       "1        연합뉴스  1998-05-25           주가 년만에 최저치로 폭락       0\n",
       "2        연합뉴스  1998-05-26         주가 급락세 지속 백선도 위협       1\n",
       "3        연합뉴스  1998-05-26              삼성전자 매출 급신장       1\n",
       "4        연합뉴스  1998-05-26     엘니뇨 덕 에어컨 일부 품목 품귀현상       1\n",
       "...       ...         ...                      ...     ...\n",
       "2875883  연합뉴스  2022-07-19       춘계승마 어영해 중장애물비월 우승       0\n",
       "2875884  연합뉴스  2022-07-19    전자업계 컨테이너 운송비용 인상에 반발       0\n",
       "2875885  연합뉴스  2022-07-19       주식시황 주가 사흘만에 소폭 상승       0\n",
       "2875886  연합뉴스  2022-07-19    춘계승마 상무 속도장애물비월 단체 우승       0\n",
       "2875887  연합뉴스  2022-07-19  일 투자한도 완전철폐 천억천억원 유입 전망       0\n",
       "\n",
       "[2875888 rows x 4 columns]"
      ]
     },
     "execution_count": 10,
     "metadata": {},
     "output_type": "execute_result"
    }
   ],
   "source": [
    "total_data[\"제목\"] = total_data[\"제목\"].str.replace(\"[^ㄱ-ㅎㅏ-ㅣ가-힣 ]\", \"\")\n",
    "total_data"
   ]
  },
  {
   "cell_type": "code",
   "execution_count": 11,
   "id": "6ff331fd",
   "metadata": {},
   "outputs": [
    {
     "data": {
      "text/html": [
       "<div>\n",
       "<style scoped>\n",
       "    .dataframe tbody tr th:only-of-type {\n",
       "        vertical-align: middle;\n",
       "    }\n",
       "\n",
       "    .dataframe tbody tr th {\n",
       "        vertical-align: top;\n",
       "    }\n",
       "\n",
       "    .dataframe thead th {\n",
       "        text-align: right;\n",
       "    }\n",
       "</style>\n",
       "<table border=\"1\" class=\"dataframe\">\n",
       "  <thead>\n",
       "    <tr style=\"text-align: right;\">\n",
       "      <th></th>\n",
       "      <th>언론사</th>\n",
       "      <th>날짜</th>\n",
       "      <th>제목</th>\n",
       "      <th>Change</th>\n",
       "    </tr>\n",
       "  </thead>\n",
       "  <tbody>\n",
       "    <tr>\n",
       "      <th>2875838</th>\n",
       "      <td>연합뉴스</td>\n",
       "      <td>2022-07-19</td>\n",
       "      <td>주가 백선으로 밀려나</td>\n",
       "      <td>0</td>\n",
       "    </tr>\n",
       "    <tr>\n",
       "      <th>2875839</th>\n",
       "      <td>연합뉴스</td>\n",
       "      <td>2022-07-19</td>\n",
       "      <td>삼성전자  인터넷 폰 시스템 개발</td>\n",
       "      <td>0</td>\n",
       "    </tr>\n",
       "    <tr>\n",
       "      <th>2875840</th>\n",
       "      <td>연합뉴스</td>\n",
       "      <td>2022-07-19</td>\n",
       "      <td>보험 이용 월드컵마케팅 활발</td>\n",
       "      <td>0</td>\n",
       "    </tr>\n",
       "    <tr>\n",
       "      <th>2875841</th>\n",
       "      <td>연합뉴스</td>\n",
       "      <td>2022-07-19</td>\n",
       "      <td>인니 사태로 관련기업 초비상</td>\n",
       "      <td>0</td>\n",
       "    </tr>\n",
       "    <tr>\n",
       "      <th>2875842</th>\n",
       "      <td>연합뉴스</td>\n",
       "      <td>2022-07-19</td>\n",
       "      <td>한도 폐지와 단기금융상품 시장 개방 효과</td>\n",
       "      <td>0</td>\n",
       "    </tr>\n",
       "    <tr>\n",
       "      <th>2875843</th>\n",
       "      <td>연합뉴스</td>\n",
       "      <td>2022-07-19</td>\n",
       "      <td>주식시황 사흘만에 내림세 반전</td>\n",
       "      <td>0</td>\n",
       "    </tr>\n",
       "    <tr>\n",
       "      <th>2875844</th>\n",
       "      <td>연합뉴스</td>\n",
       "      <td>2022-07-19</td>\n",
       "      <td>자본유치단 서 억달러 유치 성공</td>\n",
       "      <td>0</td>\n",
       "    </tr>\n",
       "    <tr>\n",
       "      <th>2875845</th>\n",
       "      <td>연합뉴스</td>\n",
       "      <td>2022-07-19</td>\n",
       "      <td>삼성전자 제품 세계 디자인공모전서 호평</td>\n",
       "      <td>0</td>\n",
       "    </tr>\n",
       "    <tr>\n",
       "      <th>2875846</th>\n",
       "      <td>연합뉴스</td>\n",
       "      <td>2022-07-19</td>\n",
       "      <td>회전목마 어디가 더 권위있는 기관인가</td>\n",
       "      <td>0</td>\n",
       "    </tr>\n",
       "    <tr>\n",
       "      <th>2875847</th>\n",
       "      <td>연합뉴스</td>\n",
       "      <td>2022-07-19</td>\n",
       "      <td>주식시황 반등실패 약보합으로 마감</td>\n",
       "      <td>0</td>\n",
       "    </tr>\n",
       "    <tr>\n",
       "      <th>2875848</th>\n",
       "      <td>연합뉴스</td>\n",
       "      <td>2022-07-19</td>\n",
       "      <td>진출 국내업계 철수 시작 사업중단 확산</td>\n",
       "      <td>0</td>\n",
       "    </tr>\n",
       "    <tr>\n",
       "      <th>2875849</th>\n",
       "      <td>연합뉴스</td>\n",
       "      <td>2022-07-19</td>\n",
       "      <td>인도네시아 한국업체 진출현황</td>\n",
       "      <td>0</td>\n",
       "    </tr>\n",
       "    <tr>\n",
       "      <th>2875850</th>\n",
       "      <td>연합뉴스</td>\n",
       "      <td>2022-07-19</td>\n",
       "      <td>탈출행렬로 공항 북새통교민들도 가세</td>\n",
       "      <td>0</td>\n",
       "    </tr>\n",
       "    <tr>\n",
       "      <th>2875851</th>\n",
       "      <td>연합뉴스</td>\n",
       "      <td>2022-07-19</td>\n",
       "      <td>회전목마 박세리 우승에 환호한 삼성</td>\n",
       "      <td>0</td>\n",
       "    </tr>\n",
       "    <tr>\n",
       "      <th>2875852</th>\n",
       "      <td>연합뉴스</td>\n",
       "      <td>2022-07-19</td>\n",
       "      <td>확대경 박세리 우승에 따른 삼성브랜드 가치 상승효과</td>\n",
       "      <td>0</td>\n",
       "    </tr>\n",
       "    <tr>\n",
       "      <th>2875853</th>\n",
       "      <td>연합뉴스</td>\n",
       "      <td>2022-07-19</td>\n",
       "      <td>삼성전자 이동통신교환기 중국 형식승인 획득</td>\n",
       "      <td>0</td>\n",
       "    </tr>\n",
       "    <tr>\n",
       "      <th>2875854</th>\n",
       "      <td>연합뉴스</td>\n",
       "      <td>2022-07-19</td>\n",
       "      <td>주가 상승 백선 회복</td>\n",
       "      <td>0</td>\n",
       "    </tr>\n",
       "    <tr>\n",
       "      <th>2875855</th>\n",
       "      <td>연합뉴스</td>\n",
       "      <td>2022-07-19</td>\n",
       "      <td>현대전자 유선교환기사업 신규 참여</td>\n",
       "      <td>0</td>\n",
       "    </tr>\n",
       "    <tr>\n",
       "      <th>2875856</th>\n",
       "      <td>연합뉴스</td>\n",
       "      <td>2022-07-19</td>\n",
       "      <td>전국발명진흥대회 개최</td>\n",
       "      <td>0</td>\n",
       "    </tr>\n",
       "    <tr>\n",
       "      <th>2875857</th>\n",
       "      <td>연합뉴스</td>\n",
       "      <td>2022-07-19</td>\n",
       "      <td>월부터 상장법인 영문심벌 도입</td>\n",
       "      <td>0</td>\n",
       "    </tr>\n",
       "    <tr>\n",
       "      <th>2875858</th>\n",
       "      <td>연합뉴스</td>\n",
       "      <td>2022-07-19</td>\n",
       "      <td>삼성전자 일체형 노트북 센스 출시</td>\n",
       "      <td>0</td>\n",
       "    </tr>\n",
       "    <tr>\n",
       "      <th>2875859</th>\n",
       "      <td>연합뉴스</td>\n",
       "      <td>2022-07-19</td>\n",
       "      <td>주식시황주가 사흘만에 상승</td>\n",
       "      <td>0</td>\n",
       "    </tr>\n",
       "    <tr>\n",
       "      <th>2875860</th>\n",
       "      <td>연합뉴스</td>\n",
       "      <td>2022-07-19</td>\n",
       "      <td>진출 한국기업 직원가족 철수 러시</td>\n",
       "      <td>0</td>\n",
       "    </tr>\n",
       "    <tr>\n",
       "      <th>2875861</th>\n",
       "      <td>연합뉴스</td>\n",
       "      <td>2022-07-19</td>\n",
       "      <td>상장법인 지적재산권 보유규모 천백억원</td>\n",
       "      <td>0</td>\n",
       "    </tr>\n",
       "    <tr>\n",
       "      <th>2875862</th>\n",
       "      <td>연합뉴스</td>\n",
       "      <td>2022-07-19</td>\n",
       "      <td>비망록 박세리 특집방송 방영한 삼성</td>\n",
       "      <td>0</td>\n",
       "    </tr>\n",
       "    <tr>\n",
       "      <th>2875863</th>\n",
       "      <td>연합뉴스</td>\n",
       "      <td>2022-07-19</td>\n",
       "      <td>확대경 업계이용 마케팅 활발</td>\n",
       "      <td>0</td>\n",
       "    </tr>\n",
       "    <tr>\n",
       "      <th>2875864</th>\n",
       "      <td>연합뉴스</td>\n",
       "      <td>2022-07-19</td>\n",
       "      <td>주요 대기업 상반기 공채 부분재개할 듯</td>\n",
       "      <td>0</td>\n",
       "    </tr>\n",
       "    <tr>\n",
       "      <th>2875865</th>\n",
       "      <td>연합뉴스</td>\n",
       "      <td>2022-07-19</td>\n",
       "      <td>체육 삼성전자 아시안게임 후원업체 선정</td>\n",
       "      <td>0</td>\n",
       "    </tr>\n",
       "    <tr>\n",
       "      <th>2875866</th>\n",
       "      <td>연합뉴스</td>\n",
       "      <td>2022-07-19</td>\n",
       "      <td>아남텔레콤  데이터 전송서비스 개시</td>\n",
       "      <td>0</td>\n",
       "    </tr>\n",
       "    <tr>\n",
       "      <th>2875867</th>\n",
       "      <td>연합뉴스</td>\n",
       "      <td>2022-07-19</td>\n",
       "      <td>회전목마 삼성전자 사이버 사외보 제작</td>\n",
       "      <td>0</td>\n",
       "    </tr>\n",
       "    <tr>\n",
       "      <th>2875868</th>\n",
       "      <td>연합뉴스</td>\n",
       "      <td>2022-07-19</td>\n",
       "      <td>주식시황 사흘째 상승 백선 다가서</td>\n",
       "      <td>0</td>\n",
       "    </tr>\n",
       "    <tr>\n",
       "      <th>2875869</th>\n",
       "      <td>연합뉴스</td>\n",
       "      <td>2022-07-19</td>\n",
       "      <td>춘계승마 신창무싼졸쥬마장마술 우승</td>\n",
       "      <td>0</td>\n",
       "    </tr>\n",
       "    <tr>\n",
       "      <th>2875870</th>\n",
       "      <td>연합뉴스</td>\n",
       "      <td>2022-07-19</td>\n",
       "      <td>주가 백선 회복</td>\n",
       "      <td>0</td>\n",
       "    </tr>\n",
       "    <tr>\n",
       "      <th>2875871</th>\n",
       "      <td>연합뉴스</td>\n",
       "      <td>2022-07-19</td>\n",
       "      <td>반도체업체는 여전히 안정된 직장</td>\n",
       "      <td>0</td>\n",
       "    </tr>\n",
       "    <tr>\n",
       "      <th>2875872</th>\n",
       "      <td>연합뉴스</td>\n",
       "      <td>2022-07-19</td>\n",
       "      <td>휴대형 입체영상 모니터 국내 첫 개발</td>\n",
       "      <td>0</td>\n",
       "    </tr>\n",
       "    <tr>\n",
       "      <th>2875873</th>\n",
       "      <td>연합뉴스</td>\n",
       "      <td>2022-07-19</td>\n",
       "      <td>체육단신 삼성전자 스포츠전문 웹진 개설</td>\n",
       "      <td>0</td>\n",
       "    </tr>\n",
       "    <tr>\n",
       "      <th>2875874</th>\n",
       "      <td>연합뉴스</td>\n",
       "      <td>2022-07-19</td>\n",
       "      <td>임금삭감으로 직장인들 보릿고개 고통</td>\n",
       "      <td>0</td>\n",
       "    </tr>\n",
       "    <tr>\n",
       "      <th>2875875</th>\n",
       "      <td>연합뉴스</td>\n",
       "      <td>2022-07-19</td>\n",
       "      <td>주식시황주가 나흘만에 하락</td>\n",
       "      <td>0</td>\n",
       "    </tr>\n",
       "    <tr>\n",
       "      <th>2875876</th>\n",
       "      <td>연합뉴스</td>\n",
       "      <td>2022-07-19</td>\n",
       "      <td>춘계승마 신수진 관왕</td>\n",
       "      <td>0</td>\n",
       "    </tr>\n",
       "    <tr>\n",
       "      <th>2875877</th>\n",
       "      <td>연합뉴스</td>\n",
       "      <td>2022-07-19</td>\n",
       "      <td>기관 투자한도폐지 맞춰 우량주 대거처분 계획</td>\n",
       "      <td>0</td>\n",
       "    </tr>\n",
       "    <tr>\n",
       "      <th>2875878</th>\n",
       "      <td>연합뉴스</td>\n",
       "      <td>2022-07-19</td>\n",
       "      <td>삼성디자인연구원 전통유산 디자인 롬 제작</td>\n",
       "      <td>0</td>\n",
       "    </tr>\n",
       "    <tr>\n",
       "      <th>2875879</th>\n",
       "      <td>연합뉴스</td>\n",
       "      <td>2022-07-19</td>\n",
       "      <td>주가 백대로 밀려</td>\n",
       "      <td>0</td>\n",
       "    </tr>\n",
       "    <tr>\n",
       "      <th>2875880</th>\n",
       "      <td>연합뉴스</td>\n",
       "      <td>2022-07-19</td>\n",
       "      <td>확대경 전자업계 해외자회사 구조조정</td>\n",
       "      <td>0</td>\n",
       "    </tr>\n",
       "    <tr>\n",
       "      <th>2875881</th>\n",
       "      <td>연합뉴스</td>\n",
       "      <td>2022-07-19</td>\n",
       "      <td>회전목마 전자업계 월드컵 강 담보 하나더 판촉전</td>\n",
       "      <td>0</td>\n",
       "    </tr>\n",
       "    <tr>\n",
       "      <th>2875882</th>\n",
       "      <td>연합뉴스</td>\n",
       "      <td>2022-07-19</td>\n",
       "      <td>세 주부 삼성생명 보험영업 여왕 등극</td>\n",
       "      <td>0</td>\n",
       "    </tr>\n",
       "    <tr>\n",
       "      <th>2875883</th>\n",
       "      <td>연합뉴스</td>\n",
       "      <td>2022-07-19</td>\n",
       "      <td>춘계승마 어영해 중장애물비월 우승</td>\n",
       "      <td>0</td>\n",
       "    </tr>\n",
       "    <tr>\n",
       "      <th>2875884</th>\n",
       "      <td>연합뉴스</td>\n",
       "      <td>2022-07-19</td>\n",
       "      <td>전자업계 컨테이너 운송비용 인상에 반발</td>\n",
       "      <td>0</td>\n",
       "    </tr>\n",
       "    <tr>\n",
       "      <th>2875885</th>\n",
       "      <td>연합뉴스</td>\n",
       "      <td>2022-07-19</td>\n",
       "      <td>주식시황 주가 사흘만에 소폭 상승</td>\n",
       "      <td>0</td>\n",
       "    </tr>\n",
       "    <tr>\n",
       "      <th>2875886</th>\n",
       "      <td>연합뉴스</td>\n",
       "      <td>2022-07-19</td>\n",
       "      <td>춘계승마 상무 속도장애물비월 단체 우승</td>\n",
       "      <td>0</td>\n",
       "    </tr>\n",
       "    <tr>\n",
       "      <th>2875887</th>\n",
       "      <td>연합뉴스</td>\n",
       "      <td>2022-07-19</td>\n",
       "      <td>일 투자한도 완전철폐 천억천억원 유입 전망</td>\n",
       "      <td>0</td>\n",
       "    </tr>\n",
       "  </tbody>\n",
       "</table>\n",
       "</div>"
      ],
      "text/plain": [
       "          언론사          날짜                            제목  Change\n",
       "2875838  연합뉴스  2022-07-19                   주가 백선으로 밀려나       0\n",
       "2875839  연합뉴스  2022-07-19            삼성전자  인터넷 폰 시스템 개발       0\n",
       "2875840  연합뉴스  2022-07-19               보험 이용 월드컵마케팅 활발       0\n",
       "2875841  연합뉴스  2022-07-19               인니 사태로 관련기업 초비상       0\n",
       "2875842  연합뉴스  2022-07-19        한도 폐지와 단기금융상품 시장 개방 효과       0\n",
       "2875843  연합뉴스  2022-07-19              주식시황 사흘만에 내림세 반전       0\n",
       "2875844  연합뉴스  2022-07-19             자본유치단 서 억달러 유치 성공       0\n",
       "2875845  연합뉴스  2022-07-19         삼성전자 제품 세계 디자인공모전서 호평       0\n",
       "2875846  연합뉴스  2022-07-19          회전목마 어디가 더 권위있는 기관인가       0\n",
       "2875847  연합뉴스  2022-07-19            주식시황 반등실패 약보합으로 마감       0\n",
       "2875848  연합뉴스  2022-07-19         진출 국내업계 철수 시작 사업중단 확산       0\n",
       "2875849  연합뉴스  2022-07-19               인도네시아 한국업체 진출현황       0\n",
       "2875850  연합뉴스  2022-07-19           탈출행렬로 공항 북새통교민들도 가세       0\n",
       "2875851  연합뉴스  2022-07-19           회전목마 박세리 우승에 환호한 삼성       0\n",
       "2875852  연합뉴스  2022-07-19  확대경 박세리 우승에 따른 삼성브랜드 가치 상승효과       0\n",
       "2875853  연합뉴스  2022-07-19       삼성전자 이동통신교환기 중국 형식승인 획득       0\n",
       "2875854  연합뉴스  2022-07-19                   주가 상승 백선 회복       0\n",
       "2875855  연합뉴스  2022-07-19            현대전자 유선교환기사업 신규 참여       0\n",
       "2875856  연합뉴스  2022-07-19                   전국발명진흥대회 개최       0\n",
       "2875857  연합뉴스  2022-07-19              월부터 상장법인 영문심벌 도입       0\n",
       "2875858  연합뉴스  2022-07-19            삼성전자 일체형 노트북 센스 출시       0\n",
       "2875859  연합뉴스  2022-07-19                주식시황주가 사흘만에 상승       0\n",
       "2875860  연합뉴스  2022-07-19            진출 한국기업 직원가족 철수 러시       0\n",
       "2875861  연합뉴스  2022-07-19          상장법인 지적재산권 보유규모 천백억원       0\n",
       "2875862  연합뉴스  2022-07-19           비망록 박세리 특집방송 방영한 삼성       0\n",
       "2875863  연합뉴스  2022-07-19               확대경 업계이용 마케팅 활발       0\n",
       "2875864  연합뉴스  2022-07-19         주요 대기업 상반기 공채 부분재개할 듯       0\n",
       "2875865  연합뉴스  2022-07-19         체육 삼성전자 아시안게임 후원업체 선정       0\n",
       "2875866  연합뉴스  2022-07-19           아남텔레콤  데이터 전송서비스 개시       0\n",
       "2875867  연합뉴스  2022-07-19          회전목마 삼성전자 사이버 사외보 제작       0\n",
       "2875868  연합뉴스  2022-07-19            주식시황 사흘째 상승 백선 다가서       0\n",
       "2875869  연합뉴스  2022-07-19            춘계승마 신창무싼졸쥬마장마술 우승       0\n",
       "2875870  연합뉴스  2022-07-19                      주가 백선 회복       0\n",
       "2875871  연합뉴스  2022-07-19             반도체업체는 여전히 안정된 직장       0\n",
       "2875872  연합뉴스  2022-07-19          휴대형 입체영상 모니터 국내 첫 개발       0\n",
       "2875873  연합뉴스  2022-07-19         체육단신 삼성전자 스포츠전문 웹진 개설       0\n",
       "2875874  연합뉴스  2022-07-19           임금삭감으로 직장인들 보릿고개 고통       0\n",
       "2875875  연합뉴스  2022-07-19                주식시황주가 나흘만에 하락       0\n",
       "2875876  연합뉴스  2022-07-19                   춘계승마 신수진 관왕       0\n",
       "2875877  연합뉴스  2022-07-19      기관 투자한도폐지 맞춰 우량주 대거처분 계획       0\n",
       "2875878  연합뉴스  2022-07-19        삼성디자인연구원 전통유산 디자인 롬 제작       0\n",
       "2875879  연합뉴스  2022-07-19                     주가 백대로 밀려       0\n",
       "2875880  연합뉴스  2022-07-19          확대경 전자업계 해외자회사 구조조정        0\n",
       "2875881  연합뉴스  2022-07-19    회전목마 전자업계 월드컵 강 담보 하나더 판촉전       0\n",
       "2875882  연합뉴스  2022-07-19          세 주부 삼성생명 보험영업 여왕 등극       0\n",
       "2875883  연합뉴스  2022-07-19            춘계승마 어영해 중장애물비월 우승       0\n",
       "2875884  연합뉴스  2022-07-19         전자업계 컨테이너 운송비용 인상에 반발       0\n",
       "2875885  연합뉴스  2022-07-19            주식시황 주가 사흘만에 소폭 상승       0\n",
       "2875886  연합뉴스  2022-07-19         춘계승마 상무 속도장애물비월 단체 우승       0\n",
       "2875887  연합뉴스  2022-07-19       일 투자한도 완전철폐 천억천억원 유입 전망       0"
      ]
     },
     "execution_count": 11,
     "metadata": {},
     "output_type": "execute_result"
    }
   ],
   "source": [
    "total_data.tail(50)"
   ]
  },
  {
   "cell_type": "code",
   "execution_count": 12,
   "id": "e756de6c",
   "metadata": {},
   "outputs": [
    {
     "name": "stderr",
     "output_type": "stream",
     "text": [
      "/var/folders/7_/2y0m10tj4lgcmdgtsn8_j9yr0000gn/T/ipykernel_3316/3342359428.py:1: FutureWarning: The default value of regex will change from True to False in a future version.\n",
      "  total_data[\"제목\"] = total_data[\"제목\"].str.replace(\"^ +\", \"\")\n"
     ]
    },
    {
     "data": {
      "text/plain": [
       "언론사         0\n",
       "날짜          0\n",
       "제목        481\n",
       "Change      0\n",
       "dtype: int64"
      ]
     },
     "execution_count": 12,
     "metadata": {},
     "output_type": "execute_result"
    }
   ],
   "source": [
    "total_data[\"제목\"] = total_data[\"제목\"].str.replace(\"^ +\", \"\")\n",
    "total_data[\"제목\"].replace(\"\", np.nan, inplace=True)\n",
    "total_data.isnull().sum()"
   ]
  },
  {
   "cell_type": "code",
   "execution_count": 85,
   "id": "4a1a8133",
   "metadata": {},
   "outputs": [
    {
     "data": {
      "text/html": [
       "<div>\n",
       "<style scoped>\n",
       "    .dataframe tbody tr th:only-of-type {\n",
       "        vertical-align: middle;\n",
       "    }\n",
       "\n",
       "    .dataframe tbody tr th {\n",
       "        vertical-align: top;\n",
       "    }\n",
       "\n",
       "    .dataframe thead th {\n",
       "        text-align: right;\n",
       "    }\n",
       "</style>\n",
       "<table border=\"1\" class=\"dataframe\">\n",
       "  <thead>\n",
       "    <tr style=\"text-align: right;\">\n",
       "      <th></th>\n",
       "      <th>언론사</th>\n",
       "      <th>날짜</th>\n",
       "      <th>제목</th>\n",
       "      <th>Change</th>\n",
       "    </tr>\n",
       "  </thead>\n",
       "  <tbody>\n",
       "    <tr>\n",
       "      <th>38999</th>\n",
       "      <td>한국경제</td>\n",
       "      <td>2002-04-29</td>\n",
       "      <td>NaN</td>\n",
       "      <td>1</td>\n",
       "    </tr>\n",
       "    <tr>\n",
       "      <th>50269</th>\n",
       "      <td>전자신문</td>\n",
       "      <td>2002-09-27</td>\n",
       "      <td>NaN</td>\n",
       "      <td>0</td>\n",
       "    </tr>\n",
       "    <tr>\n",
       "      <th>75177</th>\n",
       "      <td>전자신문</td>\n",
       "      <td>2003-06-19</td>\n",
       "      <td>NaN</td>\n",
       "      <td>0</td>\n",
       "    </tr>\n",
       "    <tr>\n",
       "      <th>83235</th>\n",
       "      <td>서울경제</td>\n",
       "      <td>2003-08-28</td>\n",
       "      <td>NaN</td>\n",
       "      <td>0</td>\n",
       "    </tr>\n",
       "    <tr>\n",
       "      <th>83326</th>\n",
       "      <td>세계일보</td>\n",
       "      <td>2003-08-28</td>\n",
       "      <td>NaN</td>\n",
       "      <td>0</td>\n",
       "    </tr>\n",
       "    <tr>\n",
       "      <th>...</th>\n",
       "      <td>...</td>\n",
       "      <td>...</td>\n",
       "      <td>...</td>\n",
       "      <td>...</td>\n",
       "    </tr>\n",
       "    <tr>\n",
       "      <th>2831336</th>\n",
       "      <td>이투데이</td>\n",
       "      <td>2022-05-19</td>\n",
       "      <td>NaN</td>\n",
       "      <td>1</td>\n",
       "    </tr>\n",
       "    <tr>\n",
       "      <th>2868572</th>\n",
       "      <td>연합뉴스</td>\n",
       "      <td>2022-07-08</td>\n",
       "      <td>NaN</td>\n",
       "      <td>1</td>\n",
       "    </tr>\n",
       "    <tr>\n",
       "      <th>2869356</th>\n",
       "      <td>연합뉴스</td>\n",
       "      <td>2022-07-10</td>\n",
       "      <td>NaN</td>\n",
       "      <td>1</td>\n",
       "    </tr>\n",
       "    <tr>\n",
       "      <th>2869357</th>\n",
       "      <td>연합뉴스</td>\n",
       "      <td>2022-07-10</td>\n",
       "      <td>NaN</td>\n",
       "      <td>1</td>\n",
       "    </tr>\n",
       "    <tr>\n",
       "      <th>2871174</th>\n",
       "      <td>연합뉴스</td>\n",
       "      <td>2022-07-12</td>\n",
       "      <td>NaN</td>\n",
       "      <td>0</td>\n",
       "    </tr>\n",
       "  </tbody>\n",
       "</table>\n",
       "<p>481 rows × 4 columns</p>\n",
       "</div>"
      ],
      "text/plain": [
       "          언론사          날짜   제목  Change\n",
       "38999    한국경제  2002-04-29  NaN       1\n",
       "50269    전자신문  2002-09-27  NaN       0\n",
       "75177    전자신문  2003-06-19  NaN       0\n",
       "83235    서울경제  2003-08-28  NaN       0\n",
       "83326    세계일보  2003-08-28  NaN       0\n",
       "...       ...         ...  ...     ...\n",
       "2831336  이투데이  2022-05-19  NaN       1\n",
       "2868572  연합뉴스  2022-07-08  NaN       1\n",
       "2869356  연합뉴스  2022-07-10  NaN       1\n",
       "2869357  연합뉴스  2022-07-10  NaN       1\n",
       "2871174  연합뉴스  2022-07-12  NaN       0\n",
       "\n",
       "[481 rows x 4 columns]"
      ]
     },
     "execution_count": 85,
     "metadata": {},
     "output_type": "execute_result"
    }
   ],
   "source": [
    "total_data.loc[total_data[\"제목\"].isnull()]"
   ]
  },
  {
   "cell_type": "code",
   "execution_count": 13,
   "id": "02bd3c5a",
   "metadata": {},
   "outputs": [
    {
     "name": "stdout",
     "output_type": "stream",
     "text": [
      "2875407\n"
     ]
    }
   ],
   "source": [
    "total_data = total_data.dropna(how =\"any\")\n",
    "print(len(total_data))"
   ]
  },
  {
   "cell_type": "code",
   "execution_count": 3,
   "id": "bbeaeff9",
   "metadata": {},
   "outputs": [
    {
     "data": {
      "text/plain": [
       "['확대경', '박세리', '우승', '에', '따르다', '삼성', '브랜드', '가치', '상승', '효과']"
      ]
     },
     "execution_count": 3,
     "metadata": {},
     "output_type": "execute_result"
    }
   ],
   "source": [
    "okt = Okt()\n",
    "okt.morphs(\"확대경 박세리 우승에 따른 삼성브랜드 가치 상승효과\", stem = True)"
   ]
  },
  {
   "cell_type": "code",
   "execution_count": 88,
   "id": "601a670f",
   "metadata": {},
   "outputs": [
    {
     "data": {
      "text/plain": [
       "['나',\n",
       " '는',\n",
       " '네',\n",
       " '가',\n",
       " '정말',\n",
       " '이렇다',\n",
       " '줄',\n",
       " '모르다',\n",
       " '네',\n",
       " '가',\n",
       " '이렇게',\n",
       " '무능하다',\n",
       " '멍청하다',\n",
       " '걸',\n",
       " '알다',\n",
       " '기대다',\n",
       " '하다',\n",
       " '않다']"
      ]
     },
     "execution_count": 88,
     "metadata": {},
     "output_type": "execute_result"
    }
   ],
   "source": [
    "okt.morphs(\"나는 네가 정말 이럴 줄 몰랐어 네가 이렇게 무능하고 멍청할 걸 알았더라면 기대도 하지 않았을텐데\", stem = True)"
   ]
  },
  {
   "cell_type": "code",
   "execution_count": 5,
   "id": "6179a2ef",
   "metadata": {},
   "outputs": [
    {
     "data": {
      "text/plain": [
       "['너', '를', '나르다', '사랑', '을', '구름', '이', '바나나', '가', '물컵', '이', '가', '바탕', '으로']"
      ]
     },
     "execution_count": 5,
     "metadata": {},
     "output_type": "execute_result"
    }
   ],
   "source": [
    "okt.morphs(\"너를 나를 사랑을 구름이 바나나가 물컵이가 바탕으로\", stem = True)"
   ]
  },
  {
   "cell_type": "code",
   "execution_count": 7,
   "id": "9d1c52e5",
   "metadata": {},
   "outputs": [],
   "source": [
    "total_data = pd.read_csv(\"/Users/krc/Desktop/df_golden.csv\", index_col=0)"
   ]
  },
  {
   "cell_type": "code",
   "execution_count": 15,
   "id": "9df7b04a",
   "metadata": {},
   "outputs": [],
   "source": [
    "stopwords = ['의','가','이','은','들','는','좀','잘','걍','과','도','를','으로','자','에','와','한','하다', '로']"
   ]
  },
  {
   "cell_type": "code",
   "execution_count": 8,
   "id": "082ffe23",
   "metadata": {},
   "outputs": [
    {
     "data": {
      "text/html": [
       "<div>\n",
       "<style scoped>\n",
       "    .dataframe tbody tr th:only-of-type {\n",
       "        vertical-align: middle;\n",
       "    }\n",
       "\n",
       "    .dataframe tbody tr th {\n",
       "        vertical-align: top;\n",
       "    }\n",
       "\n",
       "    .dataframe thead th {\n",
       "        text-align: right;\n",
       "    }\n",
       "</style>\n",
       "<table border=\"1\" class=\"dataframe\">\n",
       "  <thead>\n",
       "    <tr style=\"text-align: right;\">\n",
       "      <th></th>\n",
       "      <th>언론사</th>\n",
       "      <th>날짜</th>\n",
       "      <th>제목</th>\n",
       "      <th>Change</th>\n",
       "    </tr>\n",
       "  </thead>\n",
       "  <tbody>\n",
       "    <tr>\n",
       "      <th>0</th>\n",
       "      <td>연합뉴스</td>\n",
       "      <td>1998-05-25</td>\n",
       "      <td>한도폐지 첫날 주가 하락세</td>\n",
       "      <td>0</td>\n",
       "    </tr>\n",
       "    <tr>\n",
       "      <th>1</th>\n",
       "      <td>연합뉴스</td>\n",
       "      <td>1998-05-25</td>\n",
       "      <td>주가 년만에 최저치로 폭락</td>\n",
       "      <td>0</td>\n",
       "    </tr>\n",
       "    <tr>\n",
       "      <th>2</th>\n",
       "      <td>연합뉴스</td>\n",
       "      <td>1998-05-26</td>\n",
       "      <td>주가 급락세 지속 백선도 위협</td>\n",
       "      <td>1</td>\n",
       "    </tr>\n",
       "    <tr>\n",
       "      <th>3</th>\n",
       "      <td>연합뉴스</td>\n",
       "      <td>1998-05-26</td>\n",
       "      <td>삼성전자 매출 급신장</td>\n",
       "      <td>1</td>\n",
       "    </tr>\n",
       "    <tr>\n",
       "      <th>4</th>\n",
       "      <td>연합뉴스</td>\n",
       "      <td>1998-05-26</td>\n",
       "      <td>엘니뇨 덕 에어컨 일부 품목 품귀현상</td>\n",
       "      <td>1</td>\n",
       "    </tr>\n",
       "    <tr>\n",
       "      <th>...</th>\n",
       "      <td>...</td>\n",
       "      <td>...</td>\n",
       "      <td>...</td>\n",
       "      <td>...</td>\n",
       "    </tr>\n",
       "    <tr>\n",
       "      <th>2875883</th>\n",
       "      <td>연합뉴스</td>\n",
       "      <td>2022-07-19</td>\n",
       "      <td>춘계승마 어영해 중장애물비월 우승</td>\n",
       "      <td>0</td>\n",
       "    </tr>\n",
       "    <tr>\n",
       "      <th>2875884</th>\n",
       "      <td>연합뉴스</td>\n",
       "      <td>2022-07-19</td>\n",
       "      <td>전자업계 컨테이너 운송비용 인상에 반발</td>\n",
       "      <td>0</td>\n",
       "    </tr>\n",
       "    <tr>\n",
       "      <th>2875885</th>\n",
       "      <td>연합뉴스</td>\n",
       "      <td>2022-07-19</td>\n",
       "      <td>주식시황 주가 사흘만에 소폭 상승</td>\n",
       "      <td>0</td>\n",
       "    </tr>\n",
       "    <tr>\n",
       "      <th>2875886</th>\n",
       "      <td>연합뉴스</td>\n",
       "      <td>2022-07-19</td>\n",
       "      <td>춘계승마 상무 속도장애물비월 단체 우승</td>\n",
       "      <td>0</td>\n",
       "    </tr>\n",
       "    <tr>\n",
       "      <th>2875887</th>\n",
       "      <td>연합뉴스</td>\n",
       "      <td>2022-07-19</td>\n",
       "      <td>일 투자한도 완전철폐 천억천억원 유입 전망</td>\n",
       "      <td>0</td>\n",
       "    </tr>\n",
       "  </tbody>\n",
       "</table>\n",
       "<p>2875407 rows × 4 columns</p>\n",
       "</div>"
      ],
      "text/plain": [
       "          언론사          날짜                       제목  Change\n",
       "0        연합뉴스  1998-05-25           한도폐지 첫날 주가 하락세       0\n",
       "1        연합뉴스  1998-05-25           주가 년만에 최저치로 폭락       0\n",
       "2        연합뉴스  1998-05-26         주가 급락세 지속 백선도 위협       1\n",
       "3        연합뉴스  1998-05-26              삼성전자 매출 급신장       1\n",
       "4        연합뉴스  1998-05-26     엘니뇨 덕 에어컨 일부 품목 품귀현상       1\n",
       "...       ...         ...                      ...     ...\n",
       "2875883  연합뉴스  2022-07-19       춘계승마 어영해 중장애물비월 우승       0\n",
       "2875884  연합뉴스  2022-07-19    전자업계 컨테이너 운송비용 인상에 반발       0\n",
       "2875885  연합뉴스  2022-07-19       주식시황 주가 사흘만에 소폭 상승       0\n",
       "2875886  연합뉴스  2022-07-19    춘계승마 상무 속도장애물비월 단체 우승       0\n",
       "2875887  연합뉴스  2022-07-19  일 투자한도 완전철폐 천억천억원 유입 전망       0\n",
       "\n",
       "[2875407 rows x 4 columns]"
      ]
     },
     "execution_count": 8,
     "metadata": {},
     "output_type": "execute_result"
    }
   ],
   "source": [
    "total_data"
   ]
  },
  {
   "cell_type": "code",
   "execution_count": 9,
   "id": "67f210f0",
   "metadata": {},
   "outputs": [
    {
     "name": "stderr",
     "output_type": "stream",
     "text": [
      "100%|██████████████████████████████| 2875407/2875407 [1:00:37<00:00, 790.49it/s]\n"
     ]
    }
   ],
   "source": [
    "X = []\n",
    "for sentence in tqdm(total_data[\"제목\"]):\n",
    "    tokenized_sentence = okt.morphs(sentence, stem = True)\n",
    "    stopwords_removed_sentence = [word for word in tokenized_sentence if not word in stopwords]\n",
    "    X.append(stopwords_removed_sentence)"
   ]
  },
  {
   "cell_type": "code",
   "execution_count": 11,
   "id": "1680e158",
   "metadata": {},
   "outputs": [
    {
     "data": {
      "text/plain": [
       "2875407"
      ]
     },
     "execution_count": 11,
     "metadata": {},
     "output_type": "execute_result"
    }
   ],
   "source": [
    "len(X)"
   ]
  },
  {
   "cell_type": "code",
   "execution_count": 12,
   "id": "1c16ed15",
   "metadata": {},
   "outputs": [],
   "source": [
    "tokenizer = Tokenizer()\n",
    "tokenizer.fit_on_texts(X)"
   ]
  },
  {
   "cell_type": "code",
   "execution_count": 14,
   "id": "ca271c95",
   "metadata": {},
   "outputs": [
    {
     "data": {
      "text/plain": [
       "86706"
      ]
     },
     "execution_count": 14,
     "metadata": {},
     "output_type": "execute_result"
    }
   ],
   "source": [
    "len(tokenizer.word_index)"
   ]
  },
  {
   "cell_type": "code",
   "execution_count": 15,
   "id": "c610163f",
   "metadata": {},
   "outputs": [
    {
     "name": "stdout",
     "output_type": "stream",
     "text": [
      "단어 집합(vocabulary)의 크기 : 86706\n",
      "등장 빈도가 2번 이하인 희귀 단어의 수: 36377\n",
      "단어 집합에서 희귀 단어의 비율: 41.95442068599636\n",
      "전체 등장 빈도에서 희귀 단어 등장 빈도 비율: 0.18808406889460674\n"
     ]
    }
   ],
   "source": [
    "threshold = 3\n",
    "total_cnt = len(tokenizer.word_index)\n",
    "rare_cnt = 0\n",
    "total_freq = 0\n",
    "rare_freq = 0\n",
    "\n",
    "for key, value in tokenizer.word_counts.items():\n",
    "    total_freq += value\n",
    "    \n",
    "    if value < threshold:\n",
    "        rare_cnt += 1\n",
    "        rare_freq += value\n",
    "        \n",
    "print('단어 집합(vocabulary)의 크기 :',total_cnt)\n",
    "print('등장 빈도가 %s번 이하인 희귀 단어의 수: %s'%(threshold - 1, rare_cnt))\n",
    "print(\"단어 집합에서 희귀 단어의 비율:\", (rare_cnt / total_cnt)*100)\n",
    "print(\"전체 등장 빈도에서 희귀 단어 등장 빈도 비율:\", (rare_freq / total_freq)*100)"
   ]
  },
  {
   "cell_type": "code",
   "execution_count": 16,
   "id": "97452aae",
   "metadata": {},
   "outputs": [
    {
     "name": "stdout",
     "output_type": "stream",
     "text": [
      "단어 집합의 크기:  50330\n"
     ]
    }
   ],
   "source": [
    "vocab_size = total_cnt - rare_cnt + 1\n",
    "print(\"단어 집합의 크기: \", vocab_size)"
   ]
  },
  {
   "cell_type": "code",
   "execution_count": 83,
   "id": "a0c29cb2",
   "metadata": {},
   "outputs": [
    {
     "data": {
      "text/plain": [
       "array([[    0,     0,     0, ...,    78,    27,    70],\n",
       "       [    0,     0,     0, ...,   676,   367,   998],\n",
       "       [    0,     0,     0, ...,   212,  6972,  1144],\n",
       "       ...,\n",
       "       [    0,     0,     0, ...,   188,   196,    25],\n",
       "       [    0,     0,     0, ..., 23185,  1328,  1492],\n",
       "       [    0,     0,     0, ..., 30578,  1525,   106]], dtype=int32)"
      ]
     },
     "execution_count": 83,
     "metadata": {},
     "output_type": "execute_result"
    }
   ],
   "source": [
    "X"
   ]
  },
  {
   "cell_type": "code",
   "execution_count": 17,
   "id": "62a5d777",
   "metadata": {},
   "outputs": [],
   "source": [
    "tokenizer = Tokenizer(vocab_size)\n",
    "tokenizer.fit_on_texts(X)\n",
    "X = tokenizer.texts_to_sequences(X)"
   ]
  },
  {
   "cell_type": "code",
   "execution_count": 86,
   "id": "76e092fd",
   "metadata": {},
   "outputs": [
    {
     "data": {
      "text/plain": [
       "[[16], [10], [2], [114], [], [1145], [5862], [1683], [3049], [], [138], [287]]"
      ]
     },
     "execution_count": 86,
     "metadata": {},
     "output_type": "execute_result"
    }
   ],
   "source": [
    "tokenizer.texts_to_sequences(new_sentence)"
   ]
  },
  {
   "cell_type": "code",
   "execution_count": 18,
   "id": "e3287e73",
   "metadata": {},
   "outputs": [
    {
     "name": "stdout",
     "output_type": "stream",
     "text": [
      "[[4265, 2210, 936, 78, 27, 70], [78, 13, 55, 676, 367, 998], [78, 213, 70, 212, 6972, 1144]]\n"
     ]
    }
   ],
   "source": [
    "print(X[:3])"
   ]
  },
  {
   "cell_type": "code",
   "execution_count": 19,
   "id": "a569a6dc",
   "metadata": {},
   "outputs": [
    {
     "data": {
      "text/plain": [
       "array([0, 0, 1, ..., 0, 0, 0])"
      ]
     },
     "execution_count": 19,
     "metadata": {},
     "output_type": "execute_result"
    }
   ],
   "source": [
    "y = np.array(total_data[\"Change\"])\n",
    "y"
   ]
  },
  {
   "cell_type": "code",
   "execution_count": 20,
   "id": "b657200f",
   "metadata": {},
   "outputs": [
    {
     "data": {
      "text/plain": [
       "2875407"
      ]
     },
     "execution_count": 20,
     "metadata": {},
     "output_type": "execute_result"
    }
   ],
   "source": [
    "len(y)"
   ]
  },
  {
   "cell_type": "code",
   "execution_count": 21,
   "id": "a62973b0",
   "metadata": {},
   "outputs": [],
   "source": [
    "drop_index = [index for index, sentence in enumerate(X) if len(sentence) < 1]"
   ]
  },
  {
   "cell_type": "code",
   "execution_count": 22,
   "id": "90129ecc",
   "metadata": {},
   "outputs": [
    {
     "name": "stdout",
     "output_type": "stream",
     "text": [
      "2875393\n",
      "2875393\n"
     ]
    },
    {
     "name": "stderr",
     "output_type": "stream",
     "text": [
      "/Users/krc/miniforge3/envs/tf/lib/python3.8/site-packages/numpy/lib/function_base.py:5071: VisibleDeprecationWarning: Creating an ndarray from ragged nested sequences (which is a list-or-tuple of lists-or-tuples-or ndarrays with different lengths or shapes) is deprecated. If you meant to do this, you must specify 'dtype=object' when creating the ndarray.\n",
      "  arr = asarray(arr)\n"
     ]
    }
   ],
   "source": [
    "X = np.delete(X, drop_index, axis = 0)\n",
    "y = np.delete(y, drop_index, axis = 0)\n",
    "print(len(X))\n",
    "print(len(y))"
   ]
  },
  {
   "cell_type": "code",
   "execution_count": 23,
   "id": "17d6718a",
   "metadata": {},
   "outputs": [
    {
     "name": "stdout",
     "output_type": "stream",
     "text": [
      "제목의 최대 길이 : 23\n",
      "제목의 평균 길이 : 8.381338133604693\n"
     ]
    },
    {
     "data": {
      "image/png": "[encoded data removed]",
      "text/plain": [
       "<Figure size 432x288 with 1 Axes>"
      ]
     },
     "metadata": {
      "needs_background": "light"
     },
     "output_type": "display_data"
    }
   ],
   "source": [
    "print('제목의 최대 길이 :',max(len(review) for review in X))\n",
    "print('제목의 평균 길이 :',sum(map(len, X))/len(X))\n",
    "plt.hist([len(review) for review in X], bins=50)\n",
    "plt.xlabel('length of samples')\n",
    "plt.ylabel('number of samples')\n",
    "plt.show()"
   ]
  },
  {
   "cell_type": "code",
   "execution_count": 24,
   "id": "cdf4a1e8",
   "metadata": {},
   "outputs": [],
   "source": [
    "def below_threshold_len(max_len, nested_list):\n",
    "  count = 0\n",
    "  for sentence in nested_list:\n",
    "    if(len(sentence) <= max_len):\n",
    "        count = count + 1\n",
    "  print('전체 샘플 중 길이가 %s 이하인 샘플의 비율: %s'%(max_len, (count / len(nested_list))*100))"
   ]
  },
  {
   "cell_type": "code",
   "execution_count": 25,
   "id": "16371249",
   "metadata": {},
   "outputs": [
    {
     "name": "stdout",
     "output_type": "stream",
     "text": [
      "전체 샘플 중 길이가 15 이하인 샘플의 비율: 99.72198582941532\n"
     ]
    }
   ],
   "source": [
    "below_threshold_len(15, X)"
   ]
  },
  {
   "cell_type": "code",
   "execution_count": 26,
   "id": "d824332f",
   "metadata": {},
   "outputs": [],
   "source": [
    "X = pad_sequences(X, maxlen=15)"
   ]
  },
  {
   "cell_type": "code",
   "execution_count": 27,
   "id": "12a81e4e",
   "metadata": {},
   "outputs": [],
   "source": [
    "from sklearn.model_selection import train_test_split\n",
    "\n",
    "X_train, X_test = train_test_split(X, test_size=0.3, random_state=0)"
   ]
  },
  {
   "cell_type": "code",
   "execution_count": 28,
   "id": "0ba4b277",
   "metadata": {},
   "outputs": [
    {
     "data": {
      "text/plain": [
       "(2012775, 862618)"
      ]
     },
     "execution_count": 28,
     "metadata": {},
     "output_type": "execute_result"
    }
   ],
   "source": [
    "len(X_train), len(X_test)"
   ]
  },
  {
   "cell_type": "code",
   "execution_count": 29,
   "id": "4252aa63",
   "metadata": {},
   "outputs": [
    {
     "data": {
      "text/plain": [
       "2875393"
      ]
     },
     "execution_count": 29,
     "metadata": {},
     "output_type": "execute_result"
    }
   ],
   "source": [
    "len(X_train) + len(X_test)"
   ]
  },
  {
   "cell_type": "code",
   "execution_count": 30,
   "id": "58585d5a",
   "metadata": {},
   "outputs": [
    {
     "data": {
      "text/plain": [
       "2875393"
      ]
     },
     "execution_count": 30,
     "metadata": {},
     "output_type": "execute_result"
    }
   ],
   "source": [
    "len(y)"
   ]
  },
  {
   "cell_type": "code",
   "execution_count": 31,
   "id": "8fdab243",
   "metadata": {},
   "outputs": [],
   "source": [
    "y_train, y_test = train_test_split(y, test_size=0.3, random_state=0)"
   ]
  },
  {
   "cell_type": "code",
   "execution_count": 32,
   "id": "2e1b9400",
   "metadata": {},
   "outputs": [
    {
     "data": {
      "text/plain": [
       "(2012775, 862618)"
      ]
     },
     "execution_count": 32,
     "metadata": {},
     "output_type": "execute_result"
    }
   ],
   "source": [
    "len(y_train), len(y_test)"
   ]
  },
  {
   "cell_type": "markdown",
   "id": "480d3477",
   "metadata": {},
   "source": [
    "### train_test_split 함수 익히는 중 아래 코드 전부 다!"
   ]
  },
  {
   "cell_type": "code",
   "execution_count": 148,
   "id": "d5ad866b",
   "metadata": {},
   "outputs": [],
   "source": [
    "split_test1 = np.array(range(200))\n",
    "split_test2 = np.array(range(200))"
   ]
  },
  {
   "cell_type": "code",
   "execution_count": 149,
   "id": "ac11768d",
   "metadata": {},
   "outputs": [],
   "source": [
    "st_train1, st_test1 = train_test_split(split_test1, test_size=0.3, random_state=0)"
   ]
  },
  {
   "cell_type": "code",
   "execution_count": 150,
   "id": "7acbea6a",
   "metadata": {},
   "outputs": [
    {
     "data": {
      "text/plain": [
       "array([131,  96, 181,  19, 153,  92,  54, 163,  51,  86, 139,  90, 137,\n",
       "       101, 144,  89, 109,  14,  27, 141, 187,  46, 138, 195, 108,  62,\n",
       "         2,  59, 136, 197,  43,  10, 194,  73, 196, 178, 175, 126,  93,\n",
       "       112, 158, 191,  50,   0,  94, 110,  95,  64, 167,  41,  69,  49,\n",
       "        48,  85,  13, 161,  23, 186, 135,  20,  15,  78, 104,  52, 100,\n",
       "        76,   3, 116, 164, 198,   6,  68,  84, 121, 155, 171, 156,  91,\n",
       "       199,  11, 119, 102,  35,  57,  65,   1, 120, 162,  42, 105, 132,\n",
       "       173,  17,  38, 133,  53, 157, 128,  34,  28, 114, 151,  31, 166,\n",
       "       127, 176,  32, 142, 169, 147,  29,  99,  82,  79, 115, 148, 193,\n",
       "        72,  77,  25, 165,  81, 188, 174, 190,  39,  58, 140,  88,  70,\n",
       "        87,  36,  21,   9, 103,  67, 192, 117,  47, 172])"
      ]
     },
     "execution_count": 150,
     "metadata": {},
     "output_type": "execute_result"
    }
   ],
   "source": [
    "st_train1"
   ]
  },
  {
   "cell_type": "code",
   "execution_count": 151,
   "id": "ef67b4ca",
   "metadata": {},
   "outputs": [
    {
     "data": {
      "text/plain": [
       "array([ 18, 170, 107,  98, 177, 182,   5, 146,  12, 152,  61, 125, 180,\n",
       "       154,  80,   7,  33, 130,  37,  74, 183, 145,  45, 159,  60, 123,\n",
       "       179, 185, 122,  44,  16,  55, 150, 111,  22, 189, 129,   4,  83,\n",
       "       106, 134,  66,  26, 113, 168,  63,   8,  75, 118, 143,  71, 124,\n",
       "       184,  97, 149,  24,  30, 160,  40,  56])"
      ]
     },
     "execution_count": 151,
     "metadata": {},
     "output_type": "execute_result"
    }
   ],
   "source": [
    "st_test1"
   ]
  },
  {
   "cell_type": "code",
   "execution_count": 152,
   "id": "7f404532",
   "metadata": {},
   "outputs": [],
   "source": [
    "st_train2, st_test2 = train_test_split(split_test2, test_size=0.3, random_state=0)"
   ]
  },
  {
   "cell_type": "code",
   "execution_count": 153,
   "id": "ec923489",
   "metadata": {},
   "outputs": [
    {
     "data": {
      "text/plain": [
       "array([131,  96, 181,  19, 153,  92,  54, 163,  51,  86, 139,  90, 137,\n",
       "       101, 144,  89, 109,  14,  27, 141, 187,  46, 138, 195, 108,  62,\n",
       "         2,  59, 136, 197,  43,  10, 194,  73, 196, 178, 175, 126,  93,\n",
       "       112, 158, 191,  50,   0,  94, 110,  95,  64, 167,  41,  69,  49,\n",
       "        48,  85,  13, 161,  23, 186, 135,  20,  15,  78, 104,  52, 100,\n",
       "        76,   3, 116, 164, 198,   6,  68,  84, 121, 155, 171, 156,  91,\n",
       "       199,  11, 119, 102,  35,  57,  65,   1, 120, 162,  42, 105, 132,\n",
       "       173,  17,  38, 133,  53, 157, 128,  34,  28, 114, 151,  31, 166,\n",
       "       127, 176,  32, 142, 169, 147,  29,  99,  82,  79, 115, 148, 193,\n",
       "        72,  77,  25, 165,  81, 188, 174, 190,  39,  58, 140,  88,  70,\n",
       "        87,  36,  21,   9, 103,  67, 192, 117,  47, 172])"
      ]
     },
     "execution_count": 153,
     "metadata": {},
     "output_type": "execute_result"
    }
   ],
   "source": [
    "st_train2"
   ]
  },
  {
   "cell_type": "code",
   "execution_count": 154,
   "id": "16b98db8",
   "metadata": {},
   "outputs": [
    {
     "data": {
      "text/plain": [
       "array([ 18, 170, 107,  98, 177, 182,   5, 146,  12, 152,  61, 125, 180,\n",
       "       154,  80,   7,  33, 130,  37,  74, 183, 145,  45, 159,  60, 123,\n",
       "       179, 185, 122,  44,  16,  55, 150, 111,  22, 189, 129,   4,  83,\n",
       "       106, 134,  66,  26, 113, 168,  63,   8,  75, 118, 143,  71, 124,\n",
       "       184,  97, 149,  24,  30, 160,  40,  56])"
      ]
     },
     "execution_count": 154,
     "metadata": {},
     "output_type": "execute_result"
    }
   ],
   "source": [
    "st_test2"
   ]
  },
  {
   "cell_type": "markdown",
   "id": "43618c4c",
   "metadata": {},
   "source": [
    "## 다 익힘!"
   ]
  },
  {
   "cell_type": "code",
   "execution_count": 54,
   "id": "1ada3fd5",
   "metadata": {},
   "outputs": [
    {
     "data": {
      "text/plain": [
       "numpy.ndarray"
      ]
     },
     "execution_count": 54,
     "metadata": {},
     "output_type": "execute_result"
    }
   ],
   "source": [
    "type(X_train)"
   ]
  },
  {
   "cell_type": "code",
   "execution_count": 42,
   "id": "2ac572a0",
   "metadata": {},
   "outputs": [
    {
     "data": {
      "text/plain": [
       "array([[    0,     0,     0, ...,   801,   219,   574],\n",
       "       [    0,     0,     0, ...,  5228,   549,   177],\n",
       "       [    0,     0,     0, ...,    95,    57,    27],\n",
       "       ...,\n",
       "       [    0,     0,     0, ...,   227,   204,   419],\n",
       "       [    0,     0,     0, ...,   364,  1801, 10313],\n",
       "       [    0,     0,     0, ...,     2,    39,   138]], dtype=int32)"
      ]
     },
     "execution_count": 42,
     "metadata": {},
     "output_type": "execute_result"
    }
   ],
   "source": [
    "X_train"
   ]
  },
  {
   "cell_type": "code",
   "execution_count": 71,
   "id": "ec5654fa",
   "metadata": {},
   "outputs": [
    {
     "data": {
      "text/plain": [
       "array([[    0,     0,     0, ...,   801,   219,   574],\n",
       "       [    0,     0,     0, ...,  5228,   549,   177],\n",
       "       [    0,     0,     0, ...,    95,    57,    27],\n",
       "       ...,\n",
       "       [    0,     0,     0, ...,   227,   204,   419],\n",
       "       [    0,     0,     0, ...,   364,  1801, 10313],\n",
       "       [    0,     0,     0, ...,     2,    39,   138]], dtype=int32)"
      ]
     },
     "execution_count": 71,
     "metadata": {},
     "output_type": "execute_result"
    }
   ],
   "source": [
    "# 이걸 X_train 에 저장하면 됨\n",
    "np.array(temp, dtype=np.int32)"
   ]
  },
  {
   "cell_type": "code",
   "execution_count": 72,
   "id": "c0390a22",
   "metadata": {},
   "outputs": [],
   "source": [
    "pd.DataFrame(X_train).to_csv(\"X_train.csv\")\n",
    "pd.DataFrame(X_test).to_csv(\"X_test.csv\")\n",
    "pd.DataFrame(y_train).to_csv(\"y_train.csv\")\n",
    "pd.DataFrame(y_test).to_csv(\"y_test.csv\")"
   ]
  },
  {
   "cell_type": "code",
   "execution_count": 48,
   "id": "5bcf10d6",
   "metadata": {},
   "outputs": [],
   "source": [
    "test_X_train = pd.read_csv(\"test_X_train.csv\", index_col=0)"
   ]
  },
  {
   "cell_type": "code",
   "execution_count": 50,
   "id": "f9dad889",
   "metadata": {},
   "outputs": [],
   "source": [
    "temp = []"
   ]
  },
  {
   "cell_type": "code",
   "execution_count": 51,
   "id": "a90a81da",
   "metadata": {},
   "outputs": [],
   "source": [
    "for i in range(len(test_X_train)):\n",
    "    temp.append([x for x in test_X_train.loc[i].tolist()])"
   ]
  },
  {
   "cell_type": "code",
   "execution_count": 61,
   "id": "e7d338bf",
   "metadata": {},
   "outputs": [
    {
     "data": {
      "text/plain": [
       "array([    0,     0,     0,     0,     0,     0,     0,     0,     0,\n",
       "         453, 31787,  8114,   801,   219,   574])"
      ]
     },
     "execution_count": 61,
     "metadata": {},
     "output_type": "execute_result"
    }
   ],
   "source": [
    "np.array(test_X_train.loc[0])"
   ]
  },
  {
   "cell_type": "code",
   "execution_count": 73,
   "id": "d8502fdb",
   "metadata": {},
   "outputs": [
    {
     "data": {
      "text/plain": [
       "(array([[    0,     0,     0, ...,   801,   219,   574],\n",
       "        [    0,     0,     0, ...,  5228,   549,   177],\n",
       "        [    0,     0,     0, ...,    95,    57,    27],\n",
       "        ...,\n",
       "        [    0,     0,     0, ...,   227,   204,   419],\n",
       "        [    0,     0,     0, ...,   364,  1801, 10313],\n",
       "        [    0,     0,     0, ...,     2,    39,   138]], dtype=int32),\n",
       " array([[    0,     0,     0, ...,   671,   251,    38],\n",
       "        [    0,     0,    50, ...,  2671,     9,   938],\n",
       "        [    0,     0,     0, ...,  2432,   757,  1281],\n",
       "        ...,\n",
       "        [    0,     0,     0, ...,   640,   309,  4824],\n",
       "        [    0,     0,     0, ..., 11835, 12355,   148],\n",
       "        [    0,     0,     0, ...,     2,  1065,   180]], dtype=int32),\n",
       " array([0, 1, 1, ..., 1, 0, 0]),\n",
       " array([1, 0, 1, ..., 1, 0, 1]))"
      ]
     },
     "execution_count": 73,
     "metadata": {},
     "output_type": "execute_result"
    }
   ],
   "source": [
    "X_train, X_test, y_train, y_test"
   ]
  },
  {
   "cell_type": "code",
   "execution_count": 5,
   "id": "44fb0401",
   "metadata": {},
   "outputs": [],
   "source": [
    "from tensorflow.keras.layers import Embedding, Dense, LSTM\n",
    "from tensorflow.keras.models import Sequential\n",
    "from tensorflow.keras.models import load_model\n",
    "from tensorflow.keras.callbacks import EarlyStopping, ModelCheckpoint"
   ]
  },
  {
   "cell_type": "code",
   "execution_count": 165,
   "id": "e1c374f9",
   "metadata": {},
   "outputs": [
    {
     "data": {
      "text/plain": [
       "50331"
      ]
     },
     "execution_count": 165,
     "metadata": {},
     "output_type": "execute_result"
    }
   ],
   "source": [
    "vocab_size"
   ]
  },
  {
   "cell_type": "code",
   "execution_count": 94,
   "id": "7f656c39",
   "metadata": {},
   "outputs": [
    {
     "data": {
      "text/plain": [
       "array([1, 0, 1, ..., 1, 0, 1])"
      ]
     },
     "execution_count": 94,
     "metadata": {},
     "output_type": "execute_result"
    }
   ],
   "source": [
    "y_test"
   ]
  },
  {
   "cell_type": "code",
   "execution_count": 166,
   "id": "f4b2b28f",
   "metadata": {},
   "outputs": [
    {
     "name": "stderr",
     "output_type": "stream",
     "text": [
      "2022-08-03 18:17:06.030868: W tensorflow/core/platform/profile_utils/cpu_utils.cc:128] Failed to get CPU frequency: 0 Hz\n"
     ]
    },
    {
     "name": "stdout",
     "output_type": "stream",
     "text": [
      "Epoch 1/15\n",
      "25157/25160 [============================>.] - ETA: 0s - loss: 0.6856 - acc: 0.5381\n",
      "Epoch 00001: val_acc improved from -inf to 0.55300, saving model to best_model.h5\n",
      "25160/25160 [==============================] - 418s 17ms/step - loss: 0.6856 - acc: 0.5381 - val_loss: 0.6799 - val_acc: 0.5530\n",
      "Epoch 2/15\n",
      "25160/25160 [==============================] - ETA: 0s - loss: 0.6711 - acc: 0.5736\n",
      "Epoch 00002: val_acc improved from 0.55300 to 0.56024, saving model to best_model.h5\n",
      "25160/25160 [==============================] - 412s 16ms/step - loss: 0.6711 - acc: 0.5736 - val_loss: 0.6744 - val_acc: 0.5602\n",
      "Epoch 3/15\n",
      "25160/25160 [==============================] - ETA: 0s - loss: 0.6611 - acc: 0.5887\n",
      "Epoch 00003: val_acc improved from 0.56024 to 0.56297, saving model to best_model.h5\n",
      "25160/25160 [==============================] - 411s 16ms/step - loss: 0.6611 - acc: 0.5887 - val_loss: 0.6715 - val_acc: 0.5630\n",
      "Epoch 4/15\n",
      "25159/25160 [============================>.] - ETA: 0s - loss: 0.6519 - acc: 0.6016\n",
      "Epoch 00004: val_acc improved from 0.56297 to 0.56688, saving model to best_model.h5\n",
      "25160/25160 [==============================] - 413s 16ms/step - loss: 0.6519 - acc: 0.6016 - val_loss: 0.6703 - val_acc: 0.5669\n",
      "Epoch 5/15\n",
      "25159/25160 [============================>.] - ETA: 0s - loss: 0.6427 - acc: 0.6135\n",
      "Epoch 00005: val_acc improved from 0.56688 to 0.57041, saving model to best_model.h5\n",
      "25160/25160 [==============================] - 416s 17ms/step - loss: 0.6427 - acc: 0.6135 - val_loss: 0.6692 - val_acc: 0.5704\n",
      "Epoch 6/15\n",
      "25158/25160 [============================>.] - ETA: 0s - loss: 0.6339 - acc: 0.6242\n",
      "Epoch 00006: val_acc improved from 0.57041 to 0.57067, saving model to best_model.h5\n",
      "25160/25160 [==============================] - 416s 17ms/step - loss: 0.6339 - acc: 0.6242 - val_loss: 0.6704 - val_acc: 0.5707\n",
      "Epoch 7/15\n",
      "25159/25160 [============================>.] - ETA: 0s - loss: 0.6246 - acc: 0.6356\n",
      "Epoch 00007: val_acc improved from 0.57067 to 0.57286, saving model to best_model.h5\n",
      "25160/25160 [==============================] - 420s 17ms/step - loss: 0.6246 - acc: 0.6356 - val_loss: 0.6739 - val_acc: 0.5729\n",
      "Epoch 8/15\n",
      "25159/25160 [============================>.] - ETA: 0s - loss: 0.6160 - acc: 0.6448\n",
      "Epoch 00008: val_acc improved from 0.57286 to 0.57465, saving model to best_model.h5\n",
      "25160/25160 [==============================] - 421s 17ms/step - loss: 0.6160 - acc: 0.6448 - val_loss: 0.6742 - val_acc: 0.5746\n",
      "Epoch 9/15\n",
      "25158/25160 [============================>.] - ETA: 0s - loss: 0.6076 - acc: 0.6542\n",
      "Epoch 00009: val_acc improved from 0.57465 to 0.57554, saving model to best_model.h5\n",
      "25160/25160 [==============================] - 418s 17ms/step - loss: 0.6076 - acc: 0.6542 - val_loss: 0.6775 - val_acc: 0.5755\n",
      "Epoch 00009: early stopping\n"
     ]
    }
   ],
   "source": [
    "embedding_dim = 100\n",
    "hidden_units = 128\n",
    "\n",
    "model = Sequential()\n",
    "model.add(Embedding(vocab_size, embedding_dim))\n",
    "model.add(LSTM(hidden_units))\n",
    "model.add(Dense(1, activation='sigmoid'))\n",
    "\n",
    "es = EarlyStopping(monitor='val_loss', mode='min', verbose=1, patience=4)\n",
    "mc = ModelCheckpoint('best_model_adam.h5', monitor='val_acc', mode='max', verbose=1, save_best_only=True)\n",
    "\n",
    "model.compile(optimizer='adam', loss='binary_crossentropy', metrics=['acc'])\n",
    "history = model.fit(X_train, y_train, epochs=15, callbacks=[es, mc], batch_size=64, validation_split=0.2)"
   ]
  },
  {
   "cell_type": "code",
   "execution_count": 167,
   "id": "5523cbc8",
   "metadata": {},
   "outputs": [
    {
     "name": "stdout",
     "output_type": "stream",
     "text": [
      "26957/26957 [==============================] - 75s 3ms/step - loss: 0.6761 - acc: 0.5761\n",
      "\n",
      " 테스트 정확도: 0.5761\n"
     ]
    }
   ],
   "source": [
    "loaded_model = load_model(\"best_model.h5\")\n",
    "print(\"\\n 테스트 정확도: %.4f\" % (loaded_model.evaluate(X_test, y_test)[1]))"
   ]
  },
  {
   "cell_type": "code",
   "execution_count": 95,
   "id": "a7138dca",
   "metadata": {},
   "outputs": [
    {
     "name": "stdout",
     "output_type": "stream",
     "text": [
      "Epoch 1/15\n"
     ]
    },
    {
     "name": "stderr",
     "output_type": "stream",
     "text": [
      "2022-08-04 19:00:27.725650: W tensorflow/core/platform/profile_utils/cpu_utils.cc:128] Failed to get CPU frequency: 0 Hz\n"
     ]
    },
    {
     "name": "stdout",
     "output_type": "stream",
     "text": [
      "25159/25160 [============================>.] - ETA: 0s - loss: 0.6788 - acc: 0.5445\n",
      "Epoch 1: val_acc improved from -inf to 0.55981, saving model to best_model_adam.h5\n",
      "25160/25160 [==============================] - 668s 27ms/step - loss: 0.6788 - acc: 0.5445 - val_loss: 0.6693 - val_acc: 0.5598\n",
      "Epoch 2/15\n",
      "25159/25160 [============================>.] - ETA: 0s - loss: 0.6532 - acc: 0.5863\n",
      "Epoch 2: val_acc improved from 0.55981 to 0.57041, saving model to best_model_adam.h5\n",
      "25160/25160 [==============================] - 660s 26ms/step - loss: 0.6532 - acc: 0.5863 - val_loss: 0.6624 - val_acc: 0.5704\n",
      "Epoch 3/15\n",
      "25159/25160 [============================>.] - ETA: 0s - loss: 0.6278 - acc: 0.6185\n",
      "Epoch 3: val_acc improved from 0.57041 to 0.57544, saving model to best_model_adam.h5\n",
      "25160/25160 [==============================] - 668s 27ms/step - loss: 0.6278 - acc: 0.6185 - val_loss: 0.6633 - val_acc: 0.5754\n",
      "Epoch 4/15\n",
      "25160/25160 [==============================] - ETA: 0s - loss: 0.5999 - acc: 0.6463\n",
      "Epoch 4: val_acc improved from 0.57544 to 0.58027, saving model to best_model_adam.h5\n",
      "25160/25160 [==============================] - 660s 26ms/step - loss: 0.5999 - acc: 0.6463 - val_loss: 0.6754 - val_acc: 0.5803\n",
      "Epoch 5/15\n",
      "25159/25160 [============================>.] - ETA: 0s - loss: 0.5699 - acc: 0.6731\n",
      "Epoch 5: val_acc improved from 0.58027 to 0.58078, saving model to best_model_adam.h5\n",
      "25160/25160 [==============================] - 653s 26ms/step - loss: 0.5699 - acc: 0.6731 - val_loss: 0.6874 - val_acc: 0.5808\n",
      "Epoch 6/15\n",
      "25160/25160 [==============================] - ETA: 0s - loss: 0.5386 - acc: 0.6973\n",
      "Epoch 6: val_acc did not improve from 0.58078\n",
      "25160/25160 [==============================] - 663s 26ms/step - loss: 0.5386 - acc: 0.6973 - val_loss: 0.7151 - val_acc: 0.5806\n",
      "Epoch 6: early stopping\n"
     ]
    }
   ],
   "source": [
    "embedding_dim = 100\n",
    "hidden_units = 128\n",
    "\n",
    "model = Sequential()\n",
    "model.add(Embedding(vocab_size, embedding_dim))\n",
    "model.add(LSTM(hidden_units))\n",
    "model.add(Dense(1, activation='sigmoid'))\n",
    "\n",
    "es = EarlyStopping(monitor='val_loss', mode='min', verbose=1, patience=4)\n",
    "mc = ModelCheckpoint('best_model_adam.h5', monitor='val_acc', mode='max', verbose=1, save_best_only=True)\n",
    "\n",
    "model.compile(optimizer='adam', loss='binary_crossentropy', metrics=['acc'])\n",
    "history = model.fit(X_train, y_train, epochs=15, callbacks=[es, mc], batch_size=64, validation_split=0.2)"
   ]
  },
  {
   "cell_type": "markdown",
   "id": "e922e884",
   "metadata": {},
   "source": [
    "# 여길 봐 테스트 결과야! LSTM_adam"
   ]
  },
  {
   "cell_type": "code",
   "execution_count": 8,
   "id": "deb0cc68",
   "metadata": {},
   "outputs": [],
   "source": [
    "loaded_model = load_model(\"best_model_adam.h5\")"
   ]
  },
  {
   "cell_type": "code",
   "execution_count": 7,
   "id": "347e9226",
   "metadata": {},
   "outputs": [
    {
     "ename": "NameError",
     "evalue": "name 'X_test' is not defined",
     "output_type": "error",
     "traceback": [
      "\u001b[0;31m---------------------------------------------------------------------------\u001b[0m",
      "\u001b[0;31mNameError\u001b[0m                                 Traceback (most recent call last)",
      "Input \u001b[0;32mIn [7]\u001b[0m, in \u001b[0;36m<cell line: 2>\u001b[0;34m()\u001b[0m\n\u001b[1;32m      1\u001b[0m loaded_model \u001b[38;5;241m=\u001b[39m load_model(\u001b[38;5;124m\"\u001b[39m\u001b[38;5;124mbest_model_adam.h5\u001b[39m\u001b[38;5;124m\"\u001b[39m)\n\u001b[0;32m----> 2\u001b[0m \u001b[38;5;28mprint\u001b[39m(\u001b[38;5;124m\"\u001b[39m\u001b[38;5;130;01m\\n\u001b[39;00m\u001b[38;5;124m 테스트 정확도: \u001b[39m\u001b[38;5;132;01m%.4f\u001b[39;00m\u001b[38;5;124m\"\u001b[39m \u001b[38;5;241m%\u001b[39m (loaded_model\u001b[38;5;241m.\u001b[39mevaluate(\u001b[43mX_test\u001b[49m, y_test)[\u001b[38;5;241m1\u001b[39m]))\n",
      "\u001b[0;31mNameError\u001b[0m: name 'X_test' is not defined"
     ]
    }
   ],
   "source": [
    "loaded_model = load_model(\"best_model_adam.h5\")\n",
    "print(\"\\n 테스트 정확도: %.4f\" % (loaded_model.evaluate(X_test, y_test)[1]))"
   ]
  },
  {
   "cell_type": "markdown",
   "id": "2b8cf654",
   "metadata": {},
   "source": [
    "# 여길 봐 테스트 결과야!  LSTM_adam"
   ]
  },
  {
   "cell_type": "code",
   "execution_count": 9,
   "id": "69d745a6",
   "metadata": {},
   "outputs": [],
   "source": [
    "def stock_up_down_predict(new_sentence):\n",
    "    new_sentence = re.sub(r'[^ㄱ-ㅎㅏ-ㅣ가-힣]', \"\", new_sentence)\n",
    "    new_sentecne = okt.morphs(new_sentence, stem=True)\n",
    "    new_sentecne = [word for word in new_sentence if not word in stopwords]\n",
    "    encoded = tokenizer.texts_to_sequences([new_sentence])\n",
    "    pad_new = pad_sequences(encoded, maxlen = 15)\n",
    "    score = float(loaded_model.predict(pad_new))\n",
    "    if score > 0.5:\n",
    "        print(\"{:.2f}% 확률로 업!\\n\".format(score*100))\n",
    "    else:\n",
    "        print(\"{:.2f}% 확률로 다운!\\n\".format(score*100))"
   ]
  },
  {
   "cell_type": "code",
   "execution_count": 10,
   "id": "785262ff",
   "metadata": {},
   "outputs": [],
   "source": [
    "today_headlines = [\"삼성전자, '플래시 메모리 서밋'서 차세대 메모리 솔루션 공개\", \"'갤럭시워치'로 의학 연구까지?…삼성전자 \\\"프로젝트 조만간 공개\\\"\", \"\\\"삼성전자 비중 확대\\\"…한국운용, 삼성그룹펀드 전략 재편\", \"\\\"빅데이터 시대 이끈다\\\"…삼성전자, 차세대 메모리 솔루션 대거 공개\", \"삼성전자, 차세대 메모리 대거 공개…20배 빠른 SSD\", \"로봇주, 삼성전자 '무인공장' 도입 보도에 일제히 상승\", \"삼성·LG전자, 대한민국 올해 녹색상품 대거 수상\", \"삼성전자 '올해의 녹색상품' 의료기기 포함 11개 제품 수상\", \"삼성전자, 일자리 시장서 빛났다…올 상반기 순고용 증가 '1위'\"]"
   ]
  },
  {
   "cell_type": "code",
   "execution_count": 26,
   "id": "3bdf333e",
   "metadata": {},
   "outputs": [
    {
     "name": "stdout",
     "output_type": "stream",
     "text": [
      "연세대 의대 졸업→복지부 공보의→삼성전자\n",
      "오전증시 상승유지…'제약·2차 전지' 투심 집중\n",
      "\"이번엔 다를까\"…번번이 '특사' 실패한 이재용, 긍정 여론 속 삼성 '침묵'\n",
      "삼성 언팩 D-5…Z폴드4·플립4 물들여 '보라'\n",
      "경제단체, 이재용·신동빈 광복절 특별사면 건의 추진\n",
      "[ET시선]미룰 수 없는 이재용 부회장 사면\n",
      "델리오, 웹3.0 디지털자산 지갑 자체 개발\n",
      "페이 포인트에 명품까지···이통3사, 신작 갤럭시 사전알람 혜택 경쟁\n",
      "페이 포인트에 명품까지···이통3사, 신작 갤럭시 사전알람 혜택 경쟁\n",
      "삼성·LG전자 앞다퉈…가전, 예술을 입다\n"
     ]
    }
   ],
   "source": [
    "today_headlines = []\n",
    "for _ in range(10):\n",
    "    today_headlines.append(input())"
   ]
  },
  {
   "cell_type": "code",
   "execution_count": 28,
   "id": "3591c90c",
   "metadata": {},
   "outputs": [
    {
     "name": "stdout",
     "output_type": "stream",
     "text": [
      "연세대 의대 졸업→복지부 공보의→삼성전자\n",
      "오전증시 상승유지…'제약·2차 전지' 투심 집중\n",
      "\"이번엔 다를까\"…번번이 '특사' 실패한 이재용, 긍정 여론 속 삼성 '침묵'\n",
      "삼성 언팩 D-5…Z폴드4·플립4 물들여 '보라'\n",
      "경제단체, 이재용·신동빈 광복절 특별사면 건의 추진\n",
      "[ET시선]미룰 수 없는 이재용 부회장 사면\n",
      "델리오, 웹3.0 디지털자산 지갑 자체 개발\n",
      "페이 포인트에 명품까지···이통3사, 신작 갤럭시 사전알람 혜택 경쟁\n",
      "KB증권, 8월 첫째주 삼성SDI 등 8종목 매수 추천\n",
      "삼성·LG전자 앞다퉈…가전, 예술을 입다\n"
     ]
    }
   ],
   "source": [
    "today_headlines1 = []\n",
    "for _ in range(10):\n",
    "    today_headlines1.append(input())"
   ]
  },
  {
   "cell_type": "code",
   "execution_count": 8,
   "id": "3601856a",
   "metadata": {},
   "outputs": [
    {
     "name": "stdout",
     "output_type": "stream",
     "text": [
      "입력받음: 사랑\n"
     ]
    },
    {
     "ename": "NameError",
     "evalue": "name 'stopwords' is not defined",
     "output_type": "error",
     "traceback": [
      "\u001b[0;31m---------------------------------------------------------------------------\u001b[0m",
      "\u001b[0;31mNameError\u001b[0m                                 Traceback (most recent call last)",
      "Input \u001b[0;32mIn [8]\u001b[0m, in \u001b[0;36m<cell line: 1>\u001b[0;34m()\u001b[0m\n\u001b[0;32m----> 1\u001b[0m \u001b[43mstock_up_down_predict\u001b[49m\u001b[43m(\u001b[49m\u001b[38;5;124;43m\"\u001b[39;49m\u001b[38;5;124;43m사랑\u001b[39;49m\u001b[38;5;124;43m\"\u001b[39;49m\u001b[43m)\u001b[49m\n",
      "Input \u001b[0;32mIn [7]\u001b[0m, in \u001b[0;36mstock_up_down_predict\u001b[0;34m(new_sentence)\u001b[0m\n\u001b[1;32m      5\u001b[0m   new_sentence \u001b[38;5;241m=\u001b[39m okt\u001b[38;5;241m.\u001b[39mmorphs(new_sentence, stem\u001b[38;5;241m=\u001b[39m\u001b[38;5;28;01mTrue\u001b[39;00m)\n\u001b[1;32m      6\u001b[0m \u001b[38;5;66;03m#   print(\"형태소 정제:\", new_sentence)\u001b[39;00m\n\u001b[1;32m      7\u001b[0m \u001b[38;5;66;03m#   print()\u001b[39;00m\n\u001b[0;32m----> 8\u001b[0m   new_sentence \u001b[38;5;241m=\u001b[39m [word \u001b[38;5;28;01mfor\u001b[39;00m word \u001b[38;5;129;01min\u001b[39;00m new_sentence \u001b[38;5;28;01mif\u001b[39;00m \u001b[38;5;129;01mnot\u001b[39;00m word \u001b[38;5;129;01min\u001b[39;00m stopwords]\n\u001b[1;32m      9\u001b[0m \u001b[38;5;66;03m#   print(\"불용어 제거:\", new_sentence)\u001b[39;00m\n\u001b[1;32m     10\u001b[0m \u001b[38;5;66;03m#   print()\u001b[39;00m\n\u001b[1;32m     11\u001b[0m   encoded \u001b[38;5;241m=\u001b[39m tokenizer\u001b[38;5;241m.\u001b[39mtexts_to_sequences([new_sentence])\n",
      "Input \u001b[0;32mIn [7]\u001b[0m, in \u001b[0;36m<listcomp>\u001b[0;34m(.0)\u001b[0m\n\u001b[1;32m      5\u001b[0m   new_sentence \u001b[38;5;241m=\u001b[39m okt\u001b[38;5;241m.\u001b[39mmorphs(new_sentence, stem\u001b[38;5;241m=\u001b[39m\u001b[38;5;28;01mTrue\u001b[39;00m)\n\u001b[1;32m      6\u001b[0m \u001b[38;5;66;03m#   print(\"형태소 정제:\", new_sentence)\u001b[39;00m\n\u001b[1;32m      7\u001b[0m \u001b[38;5;66;03m#   print()\u001b[39;00m\n\u001b[0;32m----> 8\u001b[0m   new_sentence \u001b[38;5;241m=\u001b[39m [word \u001b[38;5;28;01mfor\u001b[39;00m word \u001b[38;5;129;01min\u001b[39;00m new_sentence \u001b[38;5;28;01mif\u001b[39;00m \u001b[38;5;129;01mnot\u001b[39;00m word \u001b[38;5;129;01min\u001b[39;00m \u001b[43mstopwords\u001b[49m]\n\u001b[1;32m      9\u001b[0m \u001b[38;5;66;03m#   print(\"불용어 제거:\", new_sentence)\u001b[39;00m\n\u001b[1;32m     10\u001b[0m \u001b[38;5;66;03m#   print()\u001b[39;00m\n\u001b[1;32m     11\u001b[0m   encoded \u001b[38;5;241m=\u001b[39m tokenizer\u001b[38;5;241m.\u001b[39mtexts_to_sequences([new_sentence])\n",
      "\u001b[0;31mNameError\u001b[0m: name 'stopwords' is not defined"
     ]
    }
   ],
   "source": [
    "stock_up_down_predict(\"사랑\")"
   ]
  },
  {
   "cell_type": "code",
   "execution_count": 29,
   "id": "b720bdef",
   "metadata": {},
   "outputs": [
    {
     "name": "stdout",
     "output_type": "stream",
     "text": [
      "입력받음: 연세대 의대 졸업→복지부 공보의→삼성전자\n",
      "1/1 [==============================] - 0s 12ms/step\n",
      "스코어: 0.10513593256473541\n",
      "10.51% 확률로 다운!\n",
      "\n",
      "입력받음: 오전증시 상승유지…'제약·2차 전지' 투심 집중\n",
      "1/1 [==============================] - 0s 9ms/step\n",
      "스코어: 0.5324455499649048\n",
      "53.24% 확률로 업!\n",
      "\n",
      "입력받음: \"이번엔 다를까\"…번번이 '특사' 실패한 이재용, 긍정 여론 속 삼성 '침묵'\n",
      "1/1 [==============================] - 0s 7ms/step\n",
      "스코어: 0.7604286074638367\n",
      "76.04% 확률로 업!\n",
      "\n",
      "입력받음: 삼성 언팩 D-5…Z폴드4·플립4 물들여 '보라'\n",
      "1/1 [==============================] - 0s 7ms/step\n",
      "스코어: 0.2690897285938263\n",
      "26.91% 확률로 다운!\n",
      "\n",
      "입력받음: 경제단체, 이재용·신동빈 광복절 특별사면 건의 추진\n",
      "1/1 [==============================] - 0s 7ms/step\n",
      "스코어: 0.8565108776092529\n",
      "85.65% 확률로 업!\n",
      "\n",
      "입력받음: [ET시선]미룰 수 없는 이재용 부회장 사면\n",
      "1/1 [==============================] - 0s 7ms/step\n",
      "스코어: 0.26184916496276855\n",
      "26.18% 확률로 다운!\n",
      "\n",
      "입력받음: 델리오, 웹3.0 디지털자산 지갑 자체 개발\n",
      "1/1 [==============================] - 0s 7ms/step\n",
      "스코어: 0.5114665031433105\n",
      "51.15% 확률로 업!\n",
      "\n",
      "입력받음: 페이 포인트에 명품까지···이통3사, 신작 갤럭시 사전알람 혜택 경쟁\n",
      "1/1 [==============================] - 0s 7ms/step\n",
      "스코어: 0.7050145864486694\n",
      "70.50% 확률로 업!\n",
      "\n",
      "입력받음: KB증권, 8월 첫째주 삼성SDI 등 8종목 매수 추천\n",
      "1/1 [==============================] - 0s 7ms/step\n",
      "스코어: 0.5289721488952637\n",
      "52.90% 확률로 업!\n",
      "\n",
      "입력받음: 삼성·LG전자 앞다퉈…가전, 예술을 입다\n",
      "1/1 [==============================] - 0s 7ms/step\n",
      "스코어: 0.3460848331451416\n",
      "34.61% 확률로 다운!\n",
      "\n"
     ]
    }
   ],
   "source": [
    "for i in today_headlines1:\n",
    "    stock_up_down_predict(i)"
   ]
  },
  {
   "cell_type": "code",
   "execution_count": null,
   "id": "6493583f",
   "metadata": {},
   "outputs": [],
   "source": [
    "로이터통신 icon \n",
    "증권사 프로그램 사례 찾기"
   ]
  },
  {
   "cell_type": "code",
   "execution_count": 75,
   "id": "c13108f2",
   "metadata": {},
   "outputs": [
    {
     "data": {
      "text/plain": [
       "2875407"
      ]
     },
     "execution_count": 75,
     "metadata": {},
     "output_type": "execute_result"
    }
   ],
   "source": [
    "len(total_data)"
   ]
  },
  {
   "cell_type": "code",
   "execution_count": 77,
   "id": "f131776c",
   "metadata": {},
   "outputs": [],
   "source": [
    "partition = len(total_data)//4"
   ]
  },
  {
   "cell_type": "code",
   "execution_count": 78,
   "id": "9f2a6c4b",
   "metadata": {},
   "outputs": [],
   "source": [
    "total_data_1 = total_data[partition*0:partition*1]\n",
    "total_data_2 = total_data[partition*1:partition*2]\n",
    "total_data_3 = total_data[partition*2:partition*3]\n",
    "total_data_4 = total_data[partition*3:partition*4]\n",
    "total_data_5 = total_data[partition*4:]"
   ]
  },
  {
   "cell_type": "code",
   "execution_count": 79,
   "id": "ce3a79de",
   "metadata": {},
   "outputs": [
    {
     "data": {
      "text/html": [
       "<div>\n",
       "<style scoped>\n",
       "    .dataframe tbody tr th:only-of-type {\n",
       "        vertical-align: middle;\n",
       "    }\n",
       "\n",
       "    .dataframe tbody tr th {\n",
       "        vertical-align: top;\n",
       "    }\n",
       "\n",
       "    .dataframe thead th {\n",
       "        text-align: right;\n",
       "    }\n",
       "</style>\n",
       "<table border=\"1\" class=\"dataframe\">\n",
       "  <thead>\n",
       "    <tr style=\"text-align: right;\">\n",
       "      <th></th>\n",
       "      <th>언론사</th>\n",
       "      <th>날짜</th>\n",
       "      <th>제목</th>\n",
       "      <th>Change</th>\n",
       "    </tr>\n",
       "  </thead>\n",
       "  <tbody>\n",
       "    <tr>\n",
       "      <th>2875885</th>\n",
       "      <td>연합뉴스</td>\n",
       "      <td>2022-07-19</td>\n",
       "      <td>주식시황 주가 사흘만에 소폭 상승</td>\n",
       "      <td>0</td>\n",
       "    </tr>\n",
       "    <tr>\n",
       "      <th>2875886</th>\n",
       "      <td>연합뉴스</td>\n",
       "      <td>2022-07-19</td>\n",
       "      <td>춘계승마 상무 속도장애물비월 단체 우승</td>\n",
       "      <td>0</td>\n",
       "    </tr>\n",
       "    <tr>\n",
       "      <th>2875887</th>\n",
       "      <td>연합뉴스</td>\n",
       "      <td>2022-07-19</td>\n",
       "      <td>일 투자한도 완전철폐 천억천억원 유입 전망</td>\n",
       "      <td>0</td>\n",
       "    </tr>\n",
       "  </tbody>\n",
       "</table>\n",
       "</div>"
      ],
      "text/plain": [
       "          언론사          날짜                       제목  Change\n",
       "2875885  연합뉴스  2022-07-19       주식시황 주가 사흘만에 소폭 상승       0\n",
       "2875886  연합뉴스  2022-07-19    춘계승마 상무 속도장애물비월 단체 우승       0\n",
       "2875887  연합뉴스  2022-07-19  일 투자한도 완전철폐 천억천억원 유입 전망       0"
      ]
     },
     "execution_count": 79,
     "metadata": {},
     "output_type": "execute_result"
    }
   ],
   "source": [
    "total_data_5"
   ]
  },
  {
   "cell_type": "code",
   "execution_count": 80,
   "id": "57700d98",
   "metadata": {},
   "outputs": [],
   "source": [
    "test_txt = \"삼성전자, 인도 통신사업자 에어텔에 5G 공급 계약\""
   ]
  },
  {
   "cell_type": "code",
   "execution_count": 82,
   "id": "6ae32c71",
   "metadata": {},
   "outputs": [],
   "source": [
    "test_txt = re.sub(r'[^ㄱ-ㅎㅏ-ㅣ가-힣]', \"\", test_txt)"
   ]
  },
  {
   "cell_type": "code",
   "execution_count": 85,
   "id": "53fe5185",
   "metadata": {},
   "outputs": [],
   "source": [
    "new_sentence = okt.morphs(test_txt, stem=True)"
   ]
  },
  {
   "cell_type": "code",
   "execution_count": 4,
   "id": "ec9d5812",
   "metadata": {},
   "outputs": [],
   "source": [
    "import pickle"
   ]
  },
  {
   "cell_type": "code",
   "execution_count": 89,
   "id": "37552d04",
   "metadata": {},
   "outputs": [],
   "source": [
    "# saving\n",
    "with open('tokenizer.pickle', 'wb') as handle:\n",
    "    pickle.dump(tokenizer, handle, protocol=pickle.HIGHEST_PROTOCOL)"
   ]
  },
  {
   "cell_type": "code",
   "execution_count": 5,
   "id": "0199fef7",
   "metadata": {},
   "outputs": [],
   "source": [
    "# loading\n",
    "with open('tokenizer.pickle', 'rb') as handle:\n",
    "    tokenizer = pickle.load(handle)"
   ]
  },
  {
   "cell_type": "code",
   "execution_count": 7,
   "id": "48ea2517",
   "metadata": {},
   "outputs": [],
   "source": [
    "def stock_up_down_predict(new_sentence):\n",
    "  print(\"입력받음:\", new_sentence)\n",
    "  new_sentence = re.sub(r'[^ㄱ-ㅎㅏ-ㅣ가-힣]', \"\", new_sentence)\n",
    "#   print(\"한글만:\", new_sentence)\n",
    "  new_sentence = okt.morphs(new_sentence, stem=True)\n",
    "#   print(\"형태소 정제:\", new_sentence)\n",
    "#   print()\n",
    "  new_sentence = [word for word in new_sentence if not word in stopwords]\n",
    "#   print(\"불용어 제거:\", new_sentence)\n",
    "#   print()\n",
    "  encoded = tokenizer.texts_to_sequences([new_sentence])\n",
    "#   print(\"숫자로:\", encoded)\n",
    "#   print()\n",
    "  pad_new = pad_sequences(encoded, maxlen = 15)\n",
    "#   print(\"패들링:\", pad_new)\n",
    "  score = float(loaded_model.predict(pad_new))\n",
    "  print(\"스코어:\", score)\n",
    "  if score > 0.5:\n",
    "      print(\"{:.2f}% 확률로 업!\\n\".format(score*100))\n",
    "  else:\n",
    "      print(\"{:.2f}% 확률로 다운!\\n\".format(score*100))"
   ]
  },
  {
   "cell_type": "code",
   "execution_count": 30,
   "id": "e1cf8177",
   "metadata": {},
   "outputs": [
    {
     "data": {
      "text/plain": [
       "487.69"
      ]
     },
     "execution_count": 30,
     "metadata": {},
     "output_type": "execute_result"
    }
   ],
   "source": [
    "10.51+53.24+76.04+26.91+85.65+26.18+51.15+70.50+52.90+34.61"
   ]
  },
  {
   "cell_type": "code",
   "execution_count": 31,
   "id": "b9af06f9",
   "metadata": {},
   "outputs": [
    {
     "data": {
      "text/plain": [
       "48.0"
      ]
     },
     "execution_count": 31,
     "metadata": {},
     "output_type": "execute_result"
    }
   ],
   "source": [
    "487.69//10"
   ]
  }
 ],
 "metadata": {
  "kernelspec": {
   "display_name": "Python 3 (ipykernel)",
   "language": "python",
   "name": "python3"
  },
  "language_info": {
   "codemirror_mode": {
    "name": "ipython",
    "version": 3
   },
   "file_extension": ".py",
   "mimetype": "text/x-python",
   "name": "python",
   "nbconvert_exporter": "python",
   "pygments_lexer": "ipython3",
   "version": "3.8.13"
  },
  "toc": {
   "base_numbering": 1,
   "nav_menu": {},
   "number_sections": false,
   "sideBar": true,
   "skip_h1_title": false,
   "title_cell": "Table of Contents",
   "title_sidebar": "Contents",
   "toc_cell": false,
   "toc_position": {},
   "toc_section_display": true,
   "toc_window_display": false
  }
 },
 "nbformat": 4,
 "nbformat_minor": 5
}
