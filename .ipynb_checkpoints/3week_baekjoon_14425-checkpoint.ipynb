{
 "cells": [
  {
   "cell_type": "markdown",
   "id": "1b958582",
   "metadata": {},
   "source": [
    "## 나의 풀이"
   ]
  },
  {
   "cell_type": "markdown",
   "id": "ee7e1795",
   "metadata": {},
   "source": [
    "- 주어진 N, M이 있고 뒤에 문자열들이 입력된다\n",
    "- 집합 S의 개수는 N개일 것이고, 주어진 M 중에 N개와 겹치는 개수를 구하면 되겠지?\n",
    "- slicing을 이용하면 되지 않을까?"
   ]
  },
  {
   "cell_type": "code",
   "execution_count": 13,
   "id": "87fa9666",
   "metadata": {
    "ExecuteTime": {
     "end_time": "2022-08-18T17:46:36.762446Z",
     "start_time": "2022-08-18T17:46:36.733428Z"
    }
   },
   "outputs": [],
   "source": [
    "import sys, io\n",
    "file = open(\"inputs.txt\", 'w')\n",
    "# 다음 데이터에 그대로 여러 데이터를 복사붙여넣기 하면 됨\n",
    "data = \"\"\"5 11\n",
    "baekjoononlinejudge\n",
    "startlink\n",
    "codeplus\n",
    "sundaycoding\n",
    "codingsh\n",
    "baekjoon\n",
    "codeplus\n",
    "codeminus\n",
    "startlink\n",
    "starlink\n",
    "sundaycoding\n",
    "codingsh\n",
    "codinghs\n",
    "sondaycoding\n",
    "startrink\n",
    "icerink\n",
    "\"\"\"\n",
    "file.write(data)\n",
    "file.close()\n",
    "input_file = open(\"inputs.txt\", \"r\") \n",
    "sys.stdin = io.StringIO(input_file.read())"
   ]
  },
  {
   "cell_type": "code",
   "execution_count": 14,
   "id": "cc199eb1",
   "metadata": {
    "ExecuteTime": {
     "end_time": "2022-08-18T17:46:45.312519Z",
     "start_time": "2022-08-18T17:46:45.278131Z"
    }
   },
   "outputs": [
    {
     "data": {
      "text/plain": [
       "'5 11\\n'"
      ]
     },
     "execution_count": 14,
     "metadata": {},
     "output_type": "execute_result"
    }
   ],
   "source": [
    "input()"
   ]
  },
  {
   "cell_type": "code",
   "execution_count": 12,
   "id": "fc78fe19",
   "metadata": {
    "ExecuteTime": {
     "end_time": "2022-08-18T17:41:20.862320Z",
     "start_time": "2022-08-18T17:41:20.840172Z"
    }
   },
   "outputs": [
    {
     "name": "stdout",
     "output_type": "stream",
     "text": [
      "0\n"
     ]
    }
   ],
   "source": [
    "import sys\n",
    "input = sys.stdin.readline\n",
    "\n",
    "N, M = (int(), int())  # 숫자 입력 받고\n",
    "S = set()             # S에 중복값 없다고 했으니 set으로 생성\n",
    "\n",
    "# S[:N+1]      # N개 까지 표시돼야 하니까 +1\n",
    "# M\n",
    "count = 0\n",
    "for i in S:                       # S집합 안에서\n",
    "    for j in range(len(S[:N])):   # S집합 중 개수만큼\n",
    "        if i == M:\n",
    "            count += 1 # 일치할 때 count +1 해주기\n",
    "\n",
    "print(count)"
   ]
  },
  {
   "cell_type": "markdown",
   "id": "c19e4fc7",
   "metadata": {},
   "source": [
    "'S 집합 중 N개 와 M개의 문자열 중 겹치는 것 구하기' 의 생각은 맞는 것 같은데\n",
    "코드구현이 잘 되지 않는다\n",
    "\n",
    "아직 list comprehension에 대한 이해가 부족하다"
   ]
  },
  {
   "cell_type": "markdown",
   "id": "4a0dafcd",
   "metadata": {},
   "source": [
    "## 정답 찾아보기"
   ]
  },
  {
   "cell_type": "markdown",
   "id": "5879419a",
   "metadata": {},
   "source": [
    "방법 1"
   ]
  },
  {
   "cell_type": "code",
   "execution_count": null,
   "id": "7033d162",
   "metadata": {},
   "outputs": [],
   "source": [
    "import sys\n",
    "input = sys.stdin.readline\n",
    "\n",
    "N, M = map(int, input().split())       # 숫자 두개 입력, 입력받은 값을 콤마를 기준으로 분리, 코테 특강때 했음\n",
    "s = set([input() for _ in range(N)])\n",
    "cnt = 0\n",
    "\n",
    "for _ in range(M):\n",
    "    t = input()\n",
    "    if t in s:\n",
    "        cnt += 1\n",
    "        \n",
    "print(cnt)"
   ]
  },
  {
   "cell_type": "markdown",
   "id": "1c06040d",
   "metadata": {},
   "source": [
    "방법 2"
   ]
  },
  {
   "cell_type": "code",
   "execution_count": null,
   "id": "aacea3c3",
   "metadata": {},
   "outputs": [],
   "source": [
    "import sys\n",
    "input = sys.stdin.readline\n",
    "\n",
    "n, m = map(int, input().split())\n",
    "cnt = 0 \n",
    "\n",
    "S = {input().strip() for _ in range(n)}   # set\n",
    "\n",
    "for j in range(m):\n",
    "    if input().strip() in S:\n",
    "        cnt+=1\n",
    "        \n",
    "print(cnt)"
   ]
  },
  {
   "cell_type": "markdown",
   "id": "a77e2584",
   "metadata": {},
   "source": [
    "### 짚고 넘어가기\n",
    "- for 문 앞에 오는 input().strip()에 대한 이해 / for 문 앞 변수\n",
    "- strip과 split\n",
    "- 중복 for문\n",
    "- map(int, input().split())를 썼을 때 입력받은 2가지를 가져오는 것은 이해했는데, input()이 어떻게 다음 문자열을 인식하는지 궁금하다. 처음 2개는 변수 N, M에서 받고 다음 input()들 부터는 뒤에것들이 들어가는 것 인가? 그럼 입력이 한번에 주어졌을 때 유효한 코드가 맞는지..!?"
   ]
  },
  {
   "cell_type": "code",
   "execution_count": null,
   "id": "67f73f32",
   "metadata": {},
   "outputs": [],
   "source": []
  }
 ],
 "metadata": {
  "kernelspec": {
   "display_name": "Python 3 (ipykernel)",
   "language": "python",
   "name": "python3"
  },
  "language_info": {
   "codemirror_mode": {
    "name": "ipython",
    "version": 3
   },
   "file_extension": ".py",
   "mimetype": "text/x-python",
   "name": "python",
   "nbconvert_exporter": "python",
   "pygments_lexer": "ipython3",
   "version": "3.8.13"
  }
 },
 "nbformat": 4,
 "nbformat_minor": 5
}
