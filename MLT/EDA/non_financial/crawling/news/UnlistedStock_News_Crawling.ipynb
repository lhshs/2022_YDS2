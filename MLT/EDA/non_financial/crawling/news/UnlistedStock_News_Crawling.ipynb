{
 "cells": [
  {
   "cell_type": "markdown",
   "id": "ad057284",
   "metadata": {
    "pycharm": {
     "name": "#%% md\n"
    }
   },
   "source": [
    "# 크롤링 테스트"
   ]
  },
  {
   "cell_type": "code",
   "execution_count": 1,
   "id": "a75c3e83",
   "metadata": {
    "ExecuteTime": {
     "end_time": "2022-09-27T06:39:43.562676Z",
     "start_time": "2022-09-27T06:39:42.959312Z"
    },
    "pycharm": {
     "name": "#%%\n"
    }
   },
   "outputs": [],
   "source": [
    "# 라이브러리 import\n",
    "import os\n",
    "import pandas as pd\n",
    "import numpy as np\n",
    "import math \n",
    "\n",
    "# 셀레늄\n",
    "from selenium.webdriver.common.alert import Alert\n",
    "from selenium import webdriver  # 라이브러리(모듈) 가져오라\n",
    "# pip install chromedriver_autoinstaller\n",
    "from selenium.webdriver.common.keys import Keys\n",
    "from selenium.webdriver import ActionChains as AC\n",
    "\n",
    "# tqdm : for문 진행상황 체크\n",
    "from tqdm import tqdm, tqdm_notebook\n",
    "from tqdm.notebook import tqdm\n",
    "\n",
    "# 정규표현식(regular expression) : 문자(알파벳,한글), 숫자, 특수기호 정제 및 추출\n",
    "import re\n",
    "from time import sleep\n",
    "import time\n",
    "\n",
    "# 워닝 무시\n",
    "import warnings\n",
    "warnings.filterwarnings('ignore')\n",
    "\n",
    "from selenium.webdriver.common.by import By\n",
    "import chromedriver_autoinstaller\n",
    "\n",
    "# deque\n",
    "from collections import deque"
   ]
  },
  {
   "cell_type": "code",
   "execution_count": null,
   "id": "8a050636",
   "metadata": {
    "pycharm": {
     "name": "#%%\n"
    }
   },
   "outputs": [],
   "source": [
    "# 언론사 클릭\n",
    "# 경향신문, 국민일보, 내일신문, 동아일보, 매일일보, 문화일보, 서울신문, 세계일보, 아시아투데이, 전국매일신문\n",
    "# 조선일보, 중앙일보, 천지일보, 한겨례, 한국일보"
   ]
  },
  {
   "cell_type": "code",
   "execution_count": null,
   "id": "f52373ba",
   "metadata": {
    "pycharm": {
     "name": "#%%\n"
    }
   },
   "outputs": [],
   "source": [
    "# IT : LGCNS(엘지씨엔에스), 아데나소프트웨어, 이브이알스튜디오(메타버스,), 씨유박스(얼굴인식, CUBOX)"
   ]
  },
  {
   "cell_type": "code",
   "execution_count": 2,
   "id": "486cae87",
   "metadata": {
    "ExecuteTime": {
     "end_time": "2022-09-27T06:39:44.461924Z",
     "start_time": "2022-09-27T06:39:44.458514Z"
    },
    "pycharm": {
     "name": "#%%\n"
    }
   },
   "outputs": [],
   "source": [
    "title_list = deque()\n",
    "link_list = deque()\n",
    "date_list = deque()\n",
    "content_list = deque()\n",
    "press_list = deque()"
   ]
  },
  {
   "cell_type": "code",
   "execution_count": 103,
   "id": "eb8cd783",
   "metadata": {
    "ExecuteTime": {
     "end_time": "2022-09-26T11:28:41.466588Z",
     "start_time": "2022-09-26T11:28:41.178508Z"
    },
    "pycharm": {
     "name": "#%%\n"
    }
   },
   "outputs": [],
   "source": [
    "driver.quit()"
   ]
  },
  {
   "cell_type": "code",
   "execution_count": 3,
   "id": "bb240c33",
   "metadata": {
    "ExecuteTime": {
     "end_time": "2022-09-27T06:40:08.874583Z",
     "start_time": "2022-09-27T06:39:51.531390Z"
    },
    "pycharm": {
     "name": "#%%\n"
    }
   },
   "outputs": [],
   "source": [
    "# for i in range(1, 3):\n",
    "\n",
    "# 검색어 입력\n",
    "search = '오아시스'\n",
    "# 크롬 옵션\n",
    "options = webdriver.ChromeOptions()\n",
    "# 크롬 윈도우 사이즈 조절\n",
    "options.add_argument(\"--window-size=800,1200\") # window-size -> 기본 : 1920,1080\n",
    "chrome_path = chromedriver_autoinstaller.install()\n",
    "driver = webdriver.Chrome(chrome_path, options=options)\n",
    "time.sleep(0.01)\n",
    "driver.get(\"https://www.naver.com\")\n",
    "# -> 네이버 크롬 창이 뜬다.\n",
    "\n",
    "# 네이버 검색어 입력 후 검색\n",
    "element = driver.find_element(\"name\", \"query\") \n",
    "element.clear()  # 혹시 검색창에 존재하는 텍스트 제거\n",
    "element.send_keys(search)  # 검색창에 검색어 전달\n",
    "element.submit()  # 검색 클릭\n",
    "time.sleep(0.01)\n",
    "\n",
    "# 뉴스 클릭\n",
    "driver.find_element(\"link text\", \"뉴스\").click() \n",
    "# time.sleep(0.01)"
   ]
  },
  {
   "cell_type": "code",
   "execution_count": 4,
   "id": "f59c31b5",
   "metadata": {
    "ExecuteTime": {
     "end_time": "2022-09-27T06:40:11.031963Z",
     "start_time": "2022-09-27T06:40:10.347133Z"
    },
    "pycharm": {
     "name": "#%%\n"
    }
   },
   "outputs": [],
   "source": [
    "# 옵션 클릭 후 '1년' 클릭\n",
    "driver.find_element(\"css selector\", \"#snb > div.api_group_option_filter._search_option_simple_wrap > div > div.option_filter > a\").click()  \n",
    "driver.find_element(\"css selector\", \"#snb > div.api_group_option_sort._search_option_detail_wrap > ul > li.bx.term > div > div.option > a:nth-child(8)\").click()  \n",
    "# time.sleep(0.01)"
   ]
  },
  {
   "cell_type": "code",
   "execution_count": null,
   "id": "23e98d98",
   "metadata": {
    "ExecuteTime": {
     "start_time": "2022-09-24T09:40:40.075Z"
    },
    "pycharm": {
     "name": "#%%\n"
    }
   },
   "outputs": [],
   "source": [
    "content_selector[-7:-5]"
   ]
  },
  {
   "cell_type": "code",
   "execution_count": 5,
   "id": "80e0ee1b",
   "metadata": {
    "ExecuteTime": {
     "end_time": "2022-09-27T06:40:20.941503Z",
     "start_time": "2022-09-27T06:40:19.567620Z"
    },
    "scrolled": true,
    "pycharm": {
     "name": "#%%\n"
    }
   },
   "outputs": [],
   "source": [
    "# 목록 열기\n",
    "driver.find_element(\"css selector\", \"a.txt.txt_option._category_select_trigger\").click() \n",
    "\n",
    "# 일간지 선택\n",
    "driver.find_element('link text', '일간지').click()\n",
    "\n",
    "content_selector = f'#snb > div.api_group_option_sort._search_option_detail_wrap > ul > li.bx.press > div > div.api_select_option.type_group._category_select_layer > div > div:nth-child(2) > div > div > div > ul > li:nth-child(1) > a'\n",
    "driver.find_element('css selector', content_selector).click()\n",
    "time.sleep(0.01)"
   ]
  },
  {
   "cell_type": "markdown",
   "id": "2245d628",
   "metadata": {
    "pycharm": {
     "name": "#%% md\n"
    }
   },
   "source": [
    "## 제목, 링크만 뽑은 다음 한 번에 본문 크롤링으로 전략 변경"
   ]
  },
  {
   "cell_type": "code",
   "execution_count": 6,
   "id": "180903d4",
   "metadata": {
    "ExecuteTime": {
     "end_time": "2022-09-27T06:40:33.501568Z",
     "start_time": "2022-09-27T06:40:26.692921Z"
    },
    "scrolled": true,
    "pycharm": {
     "name": "#%%\n"
    }
   },
   "outputs": [
    {
     "name": "stdout",
     "output_type": "stream",
     "text": [
      "['케이뱅크, 개인사업자 비대면 신용대출 출시', '케이뱅크 100일간 연 3.1% 적용 예금 출시', '케이뱅크, 파킹통장 금리 연 2.3%로 인상', '케이뱅크, ‘코드K 정기예금’ 금리 연 3.5%로 인상', '카카오뱅크, 가상화폐 거래소 코인원과 실명계좌 계약 체결', '케이뱅크, 전세대출 금리 최대 연 0.36%P 낮춰', '케이뱅크, 집중호우 피해지역 돕는 ‘고객 참여 기부’ 진행', '케이뱅크, 아파트담보대출 금리 최대 0.18%P 인하', '카카오·케이뱅크, 가계대출 7개월째 증가', '케이뱅크, 전 직무 대규모 경력 공채', '케이뱅크 자유적금 금리 연 0.60%p 인상', '케이뱅크, 아파트담보 및 전세대출 금리 최대 0.41%P 인하', '케이뱅크, 연 5% 적금 가입자 추가 모집', '케이뱅크, 개인사업자 보증서 대출 상품 출시', '케이뱅크, 1분기 당기순이익 245억원…전년동기대비 흑자 전환', '케이뱅크, 예·적금 금리 최대 0.4%P 인상', '케이뱅크, 신용대출 금리 또 인하…‘마통’ 한도 2억원 상향', '케이뱅크, 신보중앙회와 비대면 보증 협력 MOU 체결', '케이뱅크, 지난해 중저신용자 대출 규모 7510억원', '케이뱅크, 당근페이와 손잡고 현금 지급 이벤트 진행', '케이뱅크, IPO 절차에 본격 착수', '케이뱅크, 예·적금 금리 최대 0.3%포인트 인상', '케이뱅크, 출범 후 첫 채용연계형 인턴 모집', '케이뱅크, 출범 4년 만에 첫 연간 누적 흑자', '케이뱅크, 중저신용자 ‘두 달치 이자 캐시백’ 연말까지 연장', '케이뱅크, 중저신용자 대출 금리 인하', '케이뱅크, 6일부터 고신용자 마이너스 통장 개설 제한', '케이뱅크, 하루만 맡겨도 이자 0.8%…파킹통장 ‘플러스박스’ 금리 0.3%P 인...', '케이뱅크, 신용대출 한도 1억5000만원으로 축소', '케이뱅크, 정기예금 금리 0.1%포인트 인상', '카카오뱅크·페이, 공모가 깨고 신저가…케이뱅크 연내 IPO 가능성에 관심', '인터넷은행 끝없는 혁신…토스뱅크, 은행권 최초로 이자 매일 지급', '5대 은행 중 지난달 예대금리차 가장 큰 곳은 NH농협은행', '‘주가 반토막’ 카카오뱅크, 은행업도 플랫폼 사업도 녹록지 않네', '입출금통장인데 연 3.3%···‘파킹통장’ 경쟁 뜨겁다', '“대출 연장할 때 변경금리 적용 날짜 유의하세요”', '인터넷은행 삼국지 시대 여는 토스뱅크, 카뱅 위협할까', '인터넷뱅킹 일평균 대출신청액 1조원 돌파···인뱅 주담대 출시 영향 ', '기름만 넣는 주유소? 현대오일뱅크의 변신은 계속된다', 'NH농협은행, 차주 금리 인하 요구 수용률 최고', '“예대금리차 낮추려 서민 대출 줄이나” 공시제 부작용 우려', '인터넷은행엔 소상공인 대출이 ‘효자’…토스뱅크, 사업자 ‘마통’ 출시', '인터넷은행 3사, 2분기 중·저신용 대출 비중 약 2~5%P 증가', '상장사 10곳 중 7곳 목표주가 하향 조정', '가계 예대금리차 매달 공시 첫 테이프…신한 1.62%P 가장 커', '가계대출 예대금리 차 1위는 신한은행···1.62%P 차', '‘예대금리차 공시 전에…’ 은행 금리 조정 잇따라', '인터넷은행 대출, 전달 대비 9100억 늘어…6개월째 증가', '시중은행 신용대출 최대 한도, 연소득 2배로 확대', '가계대출, 시중은행에선 줄고 인터넷은행에선 느는 이유', '인터넷은행, 1분기 중·저신용 대출 3~7%P 증가', '5대은행 가계대출 줄었는데…인터넷은행 2조7000억원 증가', '신용평가에 통신·쇼핑 이력 더하니…중저신용자 대출 문턱 낮아져', '카뱅 주담대 출시에 케뱅 금리인하로 맞불…인터넷은행 여신 경쟁 심화', '가계대출 규제에 묶인 인터넷은행, 기업대출에서 활로 찾는다', '인터넷은행, 중금리대출 비중 목표 달성 어려울 듯…중·저신용자 돈 빌리기 ...', '“기존 은행 다 꼼짝마”…차별화 속도 내는 ‘뱅뱅뱅’ 삼총사', '은행들 영업익 대비 현금배당 비율 30% 돌파…사회공헌은 한자릿 수', '‘대출 좀 받으세요’ 은행, 신용대출 열고 대출금리 내리고', '예대금리 차 공시 앞두고 막판까지 금리 조정···차주 혜택은 ‘물음표’', '시중은행으로 몰리는 여윳돈···인터넷은행, ‘수신 고객 지켜라’ 경고등', '지난해 은행권 금리인하요구권 수용률 26.6% 불과', '모바일 운전면허증으로 은행 계좌 개설 가능해져', '수신금리 오르는데 예·적금 가입할까 말까···“중도해지도 손해 아냐”', '‘이자장사’ 경고에 앞다퉈 금리 낮춰…신한은행 “취약 차주 금리 인하”', '은행, 대출금리 상단 6%대로 낮췄지만…여전한 금리 상승세', '‘3개월 새 31조’ 금리 상승에 2금융권으로 향하는 돈', '보이스피싱 의심될 땐…은행 전화번호 진위 확인 서비스 개시', '직장인 쌈짓돈 ‘마통’의 배신', 'KT, 웹소설·웹툰 활용해 NFT 발행한다', '금융사 38곳 지점·ATM 정보 스마트폰앱으로 한눈에 확인', '타행 비밀번호를 ‘토스’해달라고?', '고승범 위원장 “은행권, 빅테크와 규제차익 없앨 것”', '금융결제원 “유치원 입학 신청도 금융인증서로 편리하게”', '신한은행, 모집인 전세대출에 5000억 한도 설정…대출절벽 더 가팔라진다', '4대 가상화폐 거래소 예치금, 1년여 만에 1370% 급증', '모바일 앱으로 교육비 납부…전국 유치원·초·중·고 스마트스쿨뱅킹 도입', '교육비 납부, 이제 모바일 앱으로도 가능', '경찰 수사·이재명의 비판·내부 불만 고조···수렁에 빠진 카카오', '위기의 카카오…김범수 의장은 ‘탈세 수사’', '금융사 38곳 지점·ATM 정보 스마트폰앱으로 한눈에 확인', '타행 비밀번호를 ‘토스’해달라고?', '고승범 위원장 “은행권, 빅테크와 규제차익 없앨 것”', '금융결제원 “유치원 입학 신청도 금융인증서로 편리하게”', '신한은행, 모집인 전세대출에 5000억 한도 설정…대출절벽 더 가팔라진다', '4대 가상화폐 거래소 예치금, 1년여 만에 1370% 급증', '모바일 앱으로 교육비 납부…전국 유치원·초·중·고 스마트스쿨뱅킹 도입', '교육비 납부, 이제 모바일 앱으로도 가능', '경찰 수사·이재명의 비판·내부 불만 고조···수렁에 빠진 카카오', '위기의 카카오…김범수 의장은 ‘탈세 수사’']\n",
      "['https://www.khan.co.kr/economy/finance/article/202209261051001', 'https://www.khan.co.kr/economy/finance/article/202209210902001', 'https://www.khan.co.kr/economy/finance/article/202209141457001', 'https://www.khan.co.kr/economy/finance/article/202208290949001', 'https://www.khan.co.kr/economy/finance/article/202208291815001', 'https://www.khan.co.kr/economy/finance/article/202208181042011', 'https://www.khan.co.kr/economy/finance/article/202208121448001', 'https://www.khan.co.kr/economy/finance/article/202208041551011', 'https://www.khan.co.kr/economy/finance/article/202208021025001', 'https://www.khan.co.kr/economy/finance/article/202207181441001', 'https://www.khan.co.kr/economy/finance/article/202207011054001', 'https://www.khan.co.kr/economy/finance/article/202206211018001', 'https://www.khan.co.kr/economy/finance/article/202206170906001', 'https://www.khan.co.kr/economy/finance/article/202205170921001', 'https://www.khan.co.kr/economy/finance/article/202205160944001', 'https://www.khan.co.kr/economy/finance/article/202205061404001', 'https://www.khan.co.kr/economy/finance/article/202203311026001', 'https://www.khan.co.kr/economy/finance/article/202203211041001', 'https://www.khan.co.kr/economy/finance/article/202202251618001', 'https://www.khan.co.kr/economy/finance/article/202202230934001', 'https://www.khan.co.kr/economy/finance/article/202201071634001', 'https://www.khan.co.kr/economy/finance/article/202202150929001', 'https://www.khan.co.kr/economy/finance/article/202111151016001', 'https://www.khan.co.kr/economy/finance/article/202111021418001', 'https://www.khan.co.kr/economy/finance/article/202111010956001', 'https://www.khan.co.kr/economy/finance/article/202111111028011', 'https://www.khan.co.kr/economy/finance/article/202111031015001', 'https://www.khan.co.kr/economy/finance/article/202110281004001', 'https://www.khan.co.kr/economy/economy-general/article/202110041152001', 'https://www.khan.co.kr/economy/finance/article/202110011021001', 'https://www.khan.co.kr/economy/finance/article/202205121610001', 'https://www.khan.co.kr/economy/finance/article/202203161111001', 'https://www.khan.co.kr/economy/finance/article/202209201707001', 'https://www.khan.co.kr/economy/finance/article/202201251542001', 'https://www.khan.co.kr/economy/finance/article/202209131211001', 'https://www.khan.co.kr/economy/finance/article/202209071412001', 'https://www.khan.co.kr/economy/finance/article/202110051704001', 'https://www.khan.co.kr/economy/finance/article/202209151340001', 'https://www.khan.co.kr/economy/industry-trade/article/202207291612001', 'https://www.khan.co.kr/economy/finance/article/202208302024025', 'https://www.khan.co.kr/economy/finance/article/202208282146005', 'https://www.khan.co.kr/economy/finance/article/202205161603001', 'https://www.khan.co.kr/economy/finance/article/202208261619001', 'https://www.khan.co.kr/economy/finance/article/202209121158001', 'https://www.khan.co.kr/economy/finance/article/202208222056005', 'https://www.khan.co.kr/economy/finance/article/202208221316001', 'https://www.khan.co.kr/economy/finance/article/202207121557001', 'https://www.khan.co.kr/economy/finance/article/202207031018001', 'https://www.khan.co.kr/economy/finance/article/202206231757001', 'https://www.khan.co.kr/economy/finance/article/202206052205005', 'https://www.khan.co.kr/economy/finance/article/202205271639001', 'https://www.khan.co.kr/economy/finance/article/202204050850001', 'https://www.khan.co.kr/economy/finance/article/202202211505011', 'https://www.khan.co.kr/economy/finance/article/202202141428001', 'https://www.khan.co.kr/economy/finance/article/202201271557001', 'https://www.khan.co.kr/economy/finance/article/202111291617001', 'https://www.khan.co.kr/economy/finance/article/202110112146035', 'https://www.khan.co.kr/economy/finance/article/202110171022001', 'https://www.khan.co.kr/economy/finance/article/202208261038001', 'https://www.khan.co.kr/economy/finance/article/202208181522001', 'https://www.khan.co.kr/economy/finance/article/202208081540001', 'https://www.khan.co.kr/economy/finance/article/202208030737001', 'https://www.khan.co.kr/economy/finance/article/202207281415001', 'https://www.khan.co.kr/economy/finance/article/202207201459011', 'https://www.khan.co.kr/economy/finance/article/202207031514001', 'https://www.khan.co.kr/economy/finance/article/202206261224001', 'https://www.khan.co.kr/economy/finance/article/202205311545001', 'https://www.khan.co.kr/economy/finance/article/202203301420001', 'https://www.khan.co.kr/economy/finance/article/202202162210005', 'https://www.khan.co.kr/economy/economy-general/article/202202081138001', 'https://www.khan.co.kr/economy/finance/article/202111281200001', 'https://www.khan.co.kr/economy/economy-general/article/202110241010001', 'https://www.khan.co.kr/economy/finance/article/202110281445001', 'https://www.khan.co.kr/economy/finance/article/202110291131021', 'https://www.khan.co.kr/economy/finance/article/202110081452001', 'https://www.khan.co.kr/economy/economy-general/article/202110050956001', 'https://www.khan.co.kr/national/education/article/202203011325001', 'https://www.khan.co.kr/national/education/article/202203012208025', 'https://www.khan.co.kr/economy/market-trend/article/202201191603001', 'https://www.khan.co.kr/economy/business/article/202201192000005', 'https://www.khan.co.kr/economy/finance/article/202111281200001', 'https://www.khan.co.kr/economy/economy-general/article/202110241010001', 'https://www.khan.co.kr/economy/finance/article/202110281445001', 'https://www.khan.co.kr/economy/finance/article/202110291131021', 'https://www.khan.co.kr/economy/finance/article/202110081452001', 'https://www.khan.co.kr/economy/economy-general/article/202110050956001', 'https://www.khan.co.kr/national/education/article/202203011325001', 'https://www.khan.co.kr/national/education/article/202203012208025', 'https://www.khan.co.kr/economy/market-trend/article/202201191603001', 'https://www.khan.co.kr/economy/business/article/202201192000005']\n"
     ]
    }
   ],
   "source": [
    "# 제목 & 링크 저장\n",
    "title_list = deque()\n",
    "link_list = deque()\n",
    "\n",
    "#main_pack > div.api_sc_page_wrap > div > div\n",
    "#main_pack > div.api_sc_page_wrap > div\n",
    "#main_pack > div.api_sc_page_wrap > div > div\n",
    "\n",
    "for i in range(9): # 페이지 수\n",
    "    titles = driver.find_elements('css selector', 'a.news_tit')\n",
    "\n",
    "    temp_list = deque()\n",
    "    for title in titles:\n",
    "        href = title.get_attribute('href')\n",
    "        temp_list.append(title.text)\n",
    "        temp_list = [x for x in temp_list]\n",
    "    \n",
    "        link_list.append(href)\n",
    "    title_list = title_list + temp_list\n",
    "    \n",
    "    # 다음 페이지 클릭\n",
    "    driver.find_element(\"css selector\", 'a.btn_next').click()\n",
    "    \n",
    "print(title_list)\n",
    "print(link_list)"
   ]
  },
  {
   "cell_type": "code",
   "execution_count": 7,
   "id": "058c86fc",
   "metadata": {
    "ExecuteTime": {
     "end_time": "2022-09-27T06:40:33.507339Z",
     "start_time": "2022-09-27T06:40:33.502683Z"
    },
    "scrolled": true,
    "pycharm": {
     "name": "#%%\n"
    }
   },
   "outputs": [
    {
     "data": {
      "text/plain": [
       "['케이뱅크, 개인사업자 비대면 신용대출 출시',\n",
       " '케이뱅크 100일간 연 3.1% 적용 예금 출시',\n",
       " '케이뱅크, 파킹통장 금리 연 2.3%로 인상',\n",
       " '케이뱅크, ‘코드K 정기예금’ 금리 연 3.5%로 인상',\n",
       " '카카오뱅크, 가상화폐 거래소 코인원과 실명계좌 계약 체결',\n",
       " '케이뱅크, 전세대출 금리 최대 연 0.36%P 낮춰',\n",
       " '케이뱅크, 집중호우 피해지역 돕는 ‘고객 참여 기부’ 진행',\n",
       " '케이뱅크, 아파트담보대출 금리 최대 0.18%P 인하',\n",
       " '카카오·케이뱅크, 가계대출 7개월째 증가',\n",
       " '케이뱅크, 전 직무 대규모 경력 공채',\n",
       " '케이뱅크 자유적금 금리 연 0.60%p 인상',\n",
       " '케이뱅크, 아파트담보 및 전세대출 금리 최대 0.41%P 인하',\n",
       " '케이뱅크, 연 5% 적금 가입자 추가 모집',\n",
       " '케이뱅크, 개인사업자 보증서 대출 상품 출시',\n",
       " '케이뱅크, 1분기 당기순이익 245억원…전년동기대비 흑자 전환',\n",
       " '케이뱅크, 예·적금 금리 최대 0.4%P 인상',\n",
       " '케이뱅크, 신용대출 금리 또 인하…‘마통’ 한도 2억원 상향',\n",
       " '케이뱅크, 신보중앙회와 비대면 보증 협력 MOU 체결',\n",
       " '케이뱅크, 지난해 중저신용자 대출 규모 7510억원',\n",
       " '케이뱅크, 당근페이와 손잡고 현금 지급 이벤트 진행',\n",
       " '케이뱅크, IPO 절차에 본격 착수',\n",
       " '케이뱅크, 예·적금 금리 최대 0.3%포인트 인상',\n",
       " '케이뱅크, 출범 후 첫 채용연계형 인턴 모집',\n",
       " '케이뱅크, 출범 4년 만에 첫 연간 누적 흑자',\n",
       " '케이뱅크, 중저신용자 ‘두 달치 이자 캐시백’ 연말까지 연장',\n",
       " '케이뱅크, 중저신용자 대출 금리 인하',\n",
       " '케이뱅크, 6일부터 고신용자 마이너스 통장 개설 제한',\n",
       " '케이뱅크, 하루만 맡겨도 이자 0.8%…파킹통장 ‘플러스박스’ 금리 0.3%P 인...',\n",
       " '케이뱅크, 신용대출 한도 1억5000만원으로 축소',\n",
       " '케이뱅크, 정기예금 금리 0.1%포인트 인상',\n",
       " '카카오뱅크·페이, 공모가 깨고 신저가…케이뱅크 연내 IPO 가능성에 관심',\n",
       " '인터넷은행 끝없는 혁신…토스뱅크, 은행권 최초로 이자 매일 지급',\n",
       " '5대 은행 중 지난달 예대금리차 가장 큰 곳은 NH농협은행',\n",
       " '‘주가 반토막’ 카카오뱅크, 은행업도 플랫폼 사업도 녹록지 않네',\n",
       " '입출금통장인데 연 3.3%···‘파킹통장’ 경쟁 뜨겁다',\n",
       " '“대출 연장할 때 변경금리 적용 날짜 유의하세요”',\n",
       " '인터넷은행 삼국지 시대 여는 토스뱅크, 카뱅 위협할까',\n",
       " '인터넷뱅킹 일평균 대출신청액 1조원 돌파···인뱅 주담대 출시 영향 ',\n",
       " '기름만 넣는 주유소? 현대오일뱅크의 변신은 계속된다',\n",
       " 'NH농협은행, 차주 금리 인하 요구 수용률 최고',\n",
       " '“예대금리차 낮추려 서민 대출 줄이나” 공시제 부작용 우려',\n",
       " '인터넷은행엔 소상공인 대출이 ‘효자’…토스뱅크, 사업자 ‘마통’ 출시',\n",
       " '인터넷은행 3사, 2분기 중·저신용 대출 비중 약 2~5%P 증가',\n",
       " '상장사 10곳 중 7곳 목표주가 하향 조정',\n",
       " '가계 예대금리차 매달 공시 첫 테이프…신한 1.62%P 가장 커',\n",
       " '가계대출 예대금리 차 1위는 신한은행···1.62%P 차',\n",
       " '‘예대금리차 공시 전에…’ 은행 금리 조정 잇따라',\n",
       " '인터넷은행 대출, 전달 대비 9100억 늘어…6개월째 증가',\n",
       " '시중은행 신용대출 최대 한도, 연소득 2배로 확대',\n",
       " '가계대출, 시중은행에선 줄고 인터넷은행에선 느는 이유',\n",
       " '인터넷은행, 1분기 중·저신용 대출 3~7%P 증가',\n",
       " '5대은행 가계대출 줄었는데…인터넷은행 2조7000억원 증가',\n",
       " '신용평가에 통신·쇼핑 이력 더하니…중저신용자 대출 문턱 낮아져',\n",
       " '카뱅 주담대 출시에 케뱅 금리인하로 맞불…인터넷은행 여신 경쟁 심화',\n",
       " '가계대출 규제에 묶인 인터넷은행, 기업대출에서 활로 찾는다',\n",
       " '인터넷은행, 중금리대출 비중 목표 달성 어려울 듯…중·저신용자 돈 빌리기 ...',\n",
       " '“기존 은행 다 꼼짝마”…차별화 속도 내는 ‘뱅뱅뱅’ 삼총사',\n",
       " '은행들 영업익 대비 현금배당 비율 30% 돌파…사회공헌은 한자릿 수',\n",
       " '‘대출 좀 받으세요’ 은행, 신용대출 열고 대출금리 내리고',\n",
       " '예대금리 차 공시 앞두고 막판까지 금리 조정···차주 혜택은 ‘물음표’',\n",
       " '시중은행으로 몰리는 여윳돈···인터넷은행, ‘수신 고객 지켜라’ 경고등',\n",
       " '지난해 은행권 금리인하요구권 수용률 26.6% 불과',\n",
       " '모바일 운전면허증으로 은행 계좌 개설 가능해져',\n",
       " '수신금리 오르는데 예·적금 가입할까 말까···“중도해지도 손해 아냐”',\n",
       " '‘이자장사’ 경고에 앞다퉈 금리 낮춰…신한은행 “취약 차주 금리 인하”',\n",
       " '은행, 대출금리 상단 6%대로 낮췄지만…여전한 금리 상승세',\n",
       " '‘3개월 새 31조’ 금리 상승에 2금융권으로 향하는 돈',\n",
       " '보이스피싱 의심될 땐…은행 전화번호 진위 확인 서비스 개시',\n",
       " '직장인 쌈짓돈 ‘마통’의 배신',\n",
       " 'KT, 웹소설·웹툰 활용해 NFT 발행한다',\n",
       " '금융사 38곳 지점·ATM 정보 스마트폰앱으로 한눈에 확인',\n",
       " '타행 비밀번호를 ‘토스’해달라고?',\n",
       " '고승범 위원장 “은행권, 빅테크와 규제차익 없앨 것”',\n",
       " '금융결제원 “유치원 입학 신청도 금융인증서로 편리하게”',\n",
       " '신한은행, 모집인 전세대출에 5000억 한도 설정…대출절벽 더 가팔라진다',\n",
       " '4대 가상화폐 거래소 예치금, 1년여 만에 1370% 급증',\n",
       " '모바일 앱으로 교육비 납부…전국 유치원·초·중·고 스마트스쿨뱅킹 도입',\n",
       " '교육비 납부, 이제 모바일 앱으로도 가능',\n",
       " '경찰 수사·이재명의 비판·내부 불만 고조···수렁에 빠진 카카오',\n",
       " '위기의 카카오…김범수 의장은 ‘탈세 수사’',\n",
       " '금융사 38곳 지점·ATM 정보 스마트폰앱으로 한눈에 확인',\n",
       " '타행 비밀번호를 ‘토스’해달라고?',\n",
       " '고승범 위원장 “은행권, 빅테크와 규제차익 없앨 것”',\n",
       " '금융결제원 “유치원 입학 신청도 금융인증서로 편리하게”',\n",
       " '신한은행, 모집인 전세대출에 5000억 한도 설정…대출절벽 더 가팔라진다',\n",
       " '4대 가상화폐 거래소 예치금, 1년여 만에 1370% 급증',\n",
       " '모바일 앱으로 교육비 납부…전국 유치원·초·중·고 스마트스쿨뱅킹 도입',\n",
       " '교육비 납부, 이제 모바일 앱으로도 가능',\n",
       " '경찰 수사·이재명의 비판·내부 불만 고조···수렁에 빠진 카카오',\n",
       " '위기의 카카오…김범수 의장은 ‘탈세 수사’']"
      ]
     },
     "execution_count": 7,
     "metadata": {},
     "output_type": "execute_result"
    }
   ],
   "source": [
    "title_list"
   ]
  },
  {
   "cell_type": "code",
   "execution_count": 8,
   "id": "59a52f12",
   "metadata": {
    "ExecuteTime": {
     "end_time": "2022-09-27T06:40:33.510671Z",
     "start_time": "2022-09-27T06:40:33.508169Z"
    },
    "scrolled": true,
    "pycharm": {
     "name": "#%%\n"
    }
   },
   "outputs": [
    {
     "data": {
      "text/plain": [
       "['https://www.khan.co.kr/economy/finance/article/202209261051001',\n",
       " 'https://www.khan.co.kr/economy/finance/article/202209210902001',\n",
       " 'https://www.khan.co.kr/economy/finance/article/202209141457001',\n",
       " 'https://www.khan.co.kr/economy/finance/article/202208290949001',\n",
       " 'https://www.khan.co.kr/economy/finance/article/202208291815001',\n",
       " 'https://www.khan.co.kr/economy/finance/article/202208181042011',\n",
       " 'https://www.khan.co.kr/economy/finance/article/202208121448001',\n",
       " 'https://www.khan.co.kr/economy/finance/article/202208041551011',\n",
       " 'https://www.khan.co.kr/economy/finance/article/202208021025001',\n",
       " 'https://www.khan.co.kr/economy/finance/article/202207181441001',\n",
       " 'https://www.khan.co.kr/economy/finance/article/202207011054001',\n",
       " 'https://www.khan.co.kr/economy/finance/article/202206211018001',\n",
       " 'https://www.khan.co.kr/economy/finance/article/202206170906001',\n",
       " 'https://www.khan.co.kr/economy/finance/article/202205170921001',\n",
       " 'https://www.khan.co.kr/economy/finance/article/202205160944001',\n",
       " 'https://www.khan.co.kr/economy/finance/article/202205061404001',\n",
       " 'https://www.khan.co.kr/economy/finance/article/202203311026001',\n",
       " 'https://www.khan.co.kr/economy/finance/article/202203211041001',\n",
       " 'https://www.khan.co.kr/economy/finance/article/202202251618001',\n",
       " 'https://www.khan.co.kr/economy/finance/article/202202230934001',\n",
       " 'https://www.khan.co.kr/economy/finance/article/202201071634001',\n",
       " 'https://www.khan.co.kr/economy/finance/article/202202150929001',\n",
       " 'https://www.khan.co.kr/economy/finance/article/202111151016001',\n",
       " 'https://www.khan.co.kr/economy/finance/article/202111021418001',\n",
       " 'https://www.khan.co.kr/economy/finance/article/202111010956001',\n",
       " 'https://www.khan.co.kr/economy/finance/article/202111111028011',\n",
       " 'https://www.khan.co.kr/economy/finance/article/202111031015001',\n",
       " 'https://www.khan.co.kr/economy/finance/article/202110281004001',\n",
       " 'https://www.khan.co.kr/economy/economy-general/article/202110041152001',\n",
       " 'https://www.khan.co.kr/economy/finance/article/202110011021001',\n",
       " 'https://www.khan.co.kr/economy/finance/article/202205121610001',\n",
       " 'https://www.khan.co.kr/economy/finance/article/202203161111001',\n",
       " 'https://www.khan.co.kr/economy/finance/article/202209201707001',\n",
       " 'https://www.khan.co.kr/economy/finance/article/202201251542001',\n",
       " 'https://www.khan.co.kr/economy/finance/article/202209131211001',\n",
       " 'https://www.khan.co.kr/economy/finance/article/202209071412001',\n",
       " 'https://www.khan.co.kr/economy/finance/article/202110051704001',\n",
       " 'https://www.khan.co.kr/economy/finance/article/202209151340001',\n",
       " 'https://www.khan.co.kr/economy/industry-trade/article/202207291612001',\n",
       " 'https://www.khan.co.kr/economy/finance/article/202208302024025',\n",
       " 'https://www.khan.co.kr/economy/finance/article/202208282146005',\n",
       " 'https://www.khan.co.kr/economy/finance/article/202205161603001',\n",
       " 'https://www.khan.co.kr/economy/finance/article/202208261619001',\n",
       " 'https://www.khan.co.kr/economy/finance/article/202209121158001',\n",
       " 'https://www.khan.co.kr/economy/finance/article/202208222056005',\n",
       " 'https://www.khan.co.kr/economy/finance/article/202208221316001',\n",
       " 'https://www.khan.co.kr/economy/finance/article/202207121557001',\n",
       " 'https://www.khan.co.kr/economy/finance/article/202207031018001',\n",
       " 'https://www.khan.co.kr/economy/finance/article/202206231757001',\n",
       " 'https://www.khan.co.kr/economy/finance/article/202206052205005',\n",
       " 'https://www.khan.co.kr/economy/finance/article/202205271639001',\n",
       " 'https://www.khan.co.kr/economy/finance/article/202204050850001',\n",
       " 'https://www.khan.co.kr/economy/finance/article/202202211505011',\n",
       " 'https://www.khan.co.kr/economy/finance/article/202202141428001',\n",
       " 'https://www.khan.co.kr/economy/finance/article/202201271557001',\n",
       " 'https://www.khan.co.kr/economy/finance/article/202111291617001',\n",
       " 'https://www.khan.co.kr/economy/finance/article/202110112146035',\n",
       " 'https://www.khan.co.kr/economy/finance/article/202110171022001',\n",
       " 'https://www.khan.co.kr/economy/finance/article/202208261038001',\n",
       " 'https://www.khan.co.kr/economy/finance/article/202208181522001',\n",
       " 'https://www.khan.co.kr/economy/finance/article/202208081540001',\n",
       " 'https://www.khan.co.kr/economy/finance/article/202208030737001',\n",
       " 'https://www.khan.co.kr/economy/finance/article/202207281415001',\n",
       " 'https://www.khan.co.kr/economy/finance/article/202207201459011',\n",
       " 'https://www.khan.co.kr/economy/finance/article/202207031514001',\n",
       " 'https://www.khan.co.kr/economy/finance/article/202206261224001',\n",
       " 'https://www.khan.co.kr/economy/finance/article/202205311545001',\n",
       " 'https://www.khan.co.kr/economy/finance/article/202203301420001',\n",
       " 'https://www.khan.co.kr/economy/finance/article/202202162210005',\n",
       " 'https://www.khan.co.kr/economy/economy-general/article/202202081138001',\n",
       " 'https://www.khan.co.kr/economy/finance/article/202111281200001',\n",
       " 'https://www.khan.co.kr/economy/economy-general/article/202110241010001',\n",
       " 'https://www.khan.co.kr/economy/finance/article/202110281445001',\n",
       " 'https://www.khan.co.kr/economy/finance/article/202110291131021',\n",
       " 'https://www.khan.co.kr/economy/finance/article/202110081452001',\n",
       " 'https://www.khan.co.kr/economy/economy-general/article/202110050956001',\n",
       " 'https://www.khan.co.kr/national/education/article/202203011325001',\n",
       " 'https://www.khan.co.kr/national/education/article/202203012208025',\n",
       " 'https://www.khan.co.kr/economy/market-trend/article/202201191603001',\n",
       " 'https://www.khan.co.kr/economy/business/article/202201192000005',\n",
       " 'https://www.khan.co.kr/economy/finance/article/202111281200001',\n",
       " 'https://www.khan.co.kr/economy/economy-general/article/202110241010001',\n",
       " 'https://www.khan.co.kr/economy/finance/article/202110281445001',\n",
       " 'https://www.khan.co.kr/economy/finance/article/202110291131021',\n",
       " 'https://www.khan.co.kr/economy/finance/article/202110081452001',\n",
       " 'https://www.khan.co.kr/economy/economy-general/article/202110050956001',\n",
       " 'https://www.khan.co.kr/national/education/article/202203011325001',\n",
       " 'https://www.khan.co.kr/national/education/article/202203012208025',\n",
       " 'https://www.khan.co.kr/economy/market-trend/article/202201191603001',\n",
       " 'https://www.khan.co.kr/economy/business/article/202201192000005']"
      ]
     },
     "execution_count": 8,
     "metadata": {},
     "output_type": "execute_result"
    }
   ],
   "source": [
    "link_list"
   ]
  },
  {
   "cell_type": "markdown",
   "id": "3da1097d",
   "metadata": {
    "pycharm": {
     "name": "#%% md\n"
    }
   },
   "source": [
    "## ==============="
   ]
  },
  {
   "cell_type": "code",
   "execution_count": null,
   "id": "91597c32",
   "metadata": {
    "ExecuteTime": {
     "start_time": "2022-09-27T06:40:39.210Z"
    },
    "scrolled": true,
    "pycharm": {
     "name": "#%%\n"
    }
   },
   "outputs": [
    {
     "data": {
      "application/vnd.jupyter.widget-view+json": {
       "model_id": "f7831818f874432f854804f8ca0f593f",
       "version_major": 2,
       "version_minor": 0
      },
      "text/plain": [
       "  0%|          | 0/90 [00:00<?, ?it/s]"
      ]
     },
     "metadata": {},
     "output_type": "display_data"
    }
   ],
   "source": [
    "\n",
    "# 본문 가져오기\n",
    "for i in tqdm(link_list):\n",
    "    time.sleep(0.1)\n",
    "    driver.get(i)\n",
    "    time.sleep(0.1)\n",
    "\n",
    "    if '(1' == content_selector[-7:-5]:\n",
    "        date = driver.find_element('css selector', '#container > div.art_header.borderless > div.function_wrap > div.art_info > div > em:nth-child(1)').text\n",
    "        content = driver.find_element('css selector','#articleBody').text\n",
    "        press_list.append('경향신문')\n",
    "        date_list.append(date)\n",
    "        content_list.append(content)\n",
    "\n",
    "    if '(2' == content_selector[-7:-5]:\n",
    "        date = driver.find_element('css selector', '#sub > div.sub_header > div > div.nwsti > div > div.date > span').text\n",
    "        content = driver.find_element('css selector','#articleBody').text\n",
    "        press_list.append('국민일보')\n",
    "        date_list.append(date)\n",
    "        content_list.append(content)\n",
    "\n",
    "    if '(3' == content_selector[-7:-5]:\n",
    "        date = driver.find_element('css selector', '#contentArea > div.caL2 > div > div.articleArea > div.date').text\n",
    "        content = driver.find_element('css selector','#contents').text\n",
    "        press_list.append('내일신문')\n",
    "        date_list.append(date)\n",
    "        content_list.append(content)\n",
    "        \n",
    "    if '(4' == content_selector[-7:-5]:\n",
    "        date = driver.find_element('css selector', '#container > div.article_title > div.title_foot > span:nth-child(1)').text\n",
    "        #article_txt\n",
    "        content= driver.find_element('css selector','#article_txt').text\n",
    "        #container > div.article_title > div.title_foot > span:nth-child(1)\n",
    "        press_list.append('동아일보')\n",
    "        date_list.append(date)\n",
    "        content_list.append(content)\n",
    "\n",
    "    if '(5' == content_selector[-7:-5]:\n",
    "        date = driver.find_element('css selector', '#user-container > div.custom-pc.float-center.max-width-1130 > header > section > div > ul > li:nth-child(2)').text\n",
    "        content = driver.find_element('css selector','#article-view-content-div').text\n",
    "        press_list.append('매일일보')\n",
    "        date_list.append(date)\n",
    "        content_list.append(content)\n",
    "\n",
    "    if '(6' == content_selector[-7:-5]:\n",
    "        date = driver.find_element('css selector', 'body > div:nth-child(1) > table:nth-child(19) > tbody > tr > td:nth-child(1) > table:nth-child(7) > tbody > tr > td > table:nth-child(1) > tbody > tr > td:nth-child(2)').text\n",
    "        content = driver.find_element('css selector','#NewsAdContent').text\n",
    "        press_list.append('문화일보')\n",
    "        date_list.append(date)\n",
    "        content_list.append(content)\n",
    "\n",
    "    if '(7' == content_selector[-7:-5]:\n",
    "        if str.__contains__(i, '20211101012004'):\n",
    "            date = driver.find_element('css selector', '#container > div.content > div.atic_tgroup > div > span:nth-child(1)').text\n",
    "            content = driver.find_element('css selector','#article_content > p:nth-child(3)').text\n",
    "            press_list.append('서울신문')\n",
    "            date_list.append(date)\n",
    "            content_list.append(content)\n",
    "        elif str.__contains__(i, '20211004026020'):\n",
    "            date = driver.find_element('css selector', '#en_content > div.encon_left > div.Vtit_box > p > span:nth-child(1)').text\n",
    "            content = driver.find_element('css selector','#CmAdContent').text\n",
    "            press_list.append('서울신문')\n",
    "            date_list.append(date)\n",
    "            content_list.append(content)\n",
    "        else:\n",
    "            date = driver.find_element('css selector', '#viewWrapDiv > div.S20_title > div.S20_article_tit > div > div.option > span.w_date > span').text\n",
    "            content = driver.find_element('css selector','#atic_txt1').text\n",
    "            press_list.append('서울신문')\n",
    "            date_list.append(date)\n",
    "            content_list.append(content)\n",
    "\n",
    "    if '(8' == content_selector[-7:-5]:\n",
    "        date = driver.find_element('css selector', '#contTitle > p.viewInfo').text\n",
    "        content = driver.find_element('css selector','#contMain2').text\n",
    "        press_list.append('세계일보')\n",
    "        date_list.append(date)\n",
    "        content_list.append(content)\n",
    "\n",
    "    if '(9' == content_selector[-7:-5]:\n",
    "        date = driver.find_element('css selector', '#section_top > div > dl > dd > span').text\n",
    "        content = driver.find_element('css selector','#font').text\n",
    "        press_list.append('아시아투데이')\n",
    "        date_list.append(date)\n",
    "        content_list.append(content)\n",
    "\n",
    "    if '10' == content_selector[-7:-5]:\n",
    "        date = driver.find_element('css selector', '#user-container > div.float-center.max-width-1100 > header > section > div > ul > li:nth-child(2)').text\n",
    "        content = driver.find_element('css selector','#article-view-content-div').text\n",
    "        #article-view-content-div > p\n",
    "        #article-view-content-div\n",
    "        #article-view-content-div\n",
    "        press_list.append('전국매일신문')\n",
    "        date_list.append(date)\n",
    "        content_list.append(content)\n",
    "\n",
    "    if '11' == content_selector[-7:-5]:\n",
    "        if str.__contains__(i, 'misaeng.chosun'):\n",
    "            date = driver.find_element('css selector', '#date_text').text\n",
    "            content = driver.find_element('css selector','#news_body_id').text\n",
    "            press_list.append('조선일보')\n",
    "            date_list.append(date)\n",
    "            content_list.append(content)\n",
    "        else:\n",
    "            date = driver.find_element('css selector', '#fusion-app > div.article.\\| > div:nth-child(2) > div > section > article > div.article-dateline.\\|.flex.flex--justify-space-between.flex--align-items-center.box--border.box--border-grey-40.box--border-horizontal.box--border-horizontal-bottom.box--pad-bottom-sm > span').text\n",
    "            content = driver.find_element('css selector','#fusion-app > div.article.\\| > div:nth-child(2) > div > section > article > section').text\n",
    "            press_list.append('조선일보')\n",
    "            date_list.append(date)\n",
    "            content_list.append(content)\n",
    "\n",
    "    if '12' == content_selector[-7:-5]:\n",
    "        date = driver.find_element('css selector', '#container > section > article > header > div.datetime > div > p').text\n",
    "        content = driver.find_element('css selector','#article_body').text\n",
    "        press_list.append('중앙일보')\n",
    "        date_list.append(date)\n",
    "        content_list.append(content)\n",
    "\n",
    "    if '13' == content_selector[-7:-5]:\n",
    "        date = driver.find_element('css selector', '#wrapper > div > div.container_wrap.article_cont_wrap > div.article_area > div.article_tit_wrap > div.article_date > p:nth-child(2)').text\n",
    "        content = driver.find_element('css selector','#wrapper > div > div.container_wrap.article_cont_wrap > div.article_area > div.left_wrap > div').text\n",
    "        press_list.append('천지일보')\n",
    "        date_list.append(date)\n",
    "        content_list.append(content)\n",
    "\n",
    "    if '14' == content_selector[-7:-5]:\n",
    "        date = driver.find_element('css selector', '#article_view_headline > p.date-time > span:nth-child(1)').text\n",
    "        content = driver.find_element('css selector','#a-left-scroll-in > div.article-text > div > div.text').text\n",
    "        press_list.append('한겨례')\n",
    "        date_list.append(date)\n",
    "        content_list.append(content)\n",
    "\n",
    "    if '15' == content_selector[-7:-5]:\n",
    "        date = driver.find_element('css selector', 'body > div.wrap > div.container.end.end-uni > div.end-top > div > div.col-main > div.info > dl > dd').text\n",
    "        content = driver.find_element('css selector','body > div.wrap > div.container.end.end-uni > div.end-body > div > div.col-main.read').text\n",
    "        press_list.append('한국일보')\n",
    "        date_list.append(date)\n",
    "        content_list.append(content)\n",
    "\n",
    "    # 꺼주고\n",
    "    # driver.quit()\n",
    "\n",
    "print(date_list)\n",
    "print(content_list)\n",
    "print(press_list)"
   ]
  },
  {
   "cell_type": "code",
   "execution_count": 90,
   "id": "0fb617b9",
   "metadata": {
    "ExecuteTime": {
     "end_time": "2022-09-26T11:16:39.461793Z",
     "start_time": "2022-09-26T11:16:39.444373Z"
    },
    "scrolled": true,
    "pycharm": {
     "name": "#%%\n"
    }
   },
   "outputs": [
    {
     "data": {
      "text/html": [
       "<div>\n",
       "<style scoped>\n",
       "    .dataframe tbody tr th:only-of-type {\n",
       "        vertical-align: middle;\n",
       "    }\n",
       "\n",
       "    .dataframe tbody tr th {\n",
       "        vertical-align: top;\n",
       "    }\n",
       "\n",
       "    .dataframe thead th {\n",
       "        text-align: right;\n",
       "    }\n",
       "</style>\n",
       "<table border=\"1\" class=\"dataframe\">\n",
       "  <thead>\n",
       "    <tr style=\"text-align: right;\">\n",
       "      <th></th>\n",
       "      <th>press</th>\n",
       "      <th>date</th>\n",
       "      <th>title</th>\n",
       "      <th>content</th>\n",
       "    </tr>\n",
       "  </thead>\n",
       "  <tbody>\n",
       "    <tr>\n",
       "      <th>0</th>\n",
       "      <td>문화일보</td>\n",
       "      <td>게재 일자 : 2022년 08월 26일(金)</td>\n",
       "      <td>“금융 빅블러, 디지털 혁신 통해 소비자 편익 키우는 것”</td>\n",
       "      <td>■ 문화금융리포트 2022 - 이승건 비바리퍼블리카 대표\\n\\n“새로운 부가가치 창...</td>\n",
       "    </tr>\n",
       "    <tr>\n",
       "      <th>1</th>\n",
       "      <td>문화일보</td>\n",
       "      <td>게재 일자 : 2022년 05월 06일(金)</td>\n",
       "      <td>‘3대 신산업’ 6개사 시총, 텐센트 ‘3분의1’…“규제탓 성장못해”</td>\n",
       "      <td>■ 경총 신산업 규제개선 보고서\\n\\n네이버·삼바·비바리퍼블리카 등\\n6개사 시총 ...</td>\n",
       "    </tr>\n",
       "    <tr>\n",
       "      <th>2</th>\n",
       "      <td>문화일보</td>\n",
       "      <td>게재 일자 : 2022년 03월 30일(水)</td>\n",
       "      <td>금감원, 토스 수시검사 착수</td>\n",
       "      <td>금융감독원이 대표적인 핀테크 회사 비바리퍼블리카에 대한 수시검사에 착수했다.\\n\\n...</td>\n",
       "    </tr>\n",
       "    <tr>\n",
       "      <th>3</th>\n",
       "      <td>문화일보</td>\n",
       "      <td>게재 일자 : 2022년 08월 26일(金)</td>\n",
       "      <td>“은행권 허용업무 40개로 늘려 ‘빅블러 시대’ 신사업 길 터줘야”</td>\n",
       "      <td>“마이데이터 대상 정보 늘려야”\\n\\nMFiR 2022 참석자들 열띤 토론... 2...</td>\n",
       "    </tr>\n",
       "    <tr>\n",
       "      <th>4</th>\n",
       "      <td>문화일보</td>\n",
       "      <td>게재 일자 : 2022년 07월 31일(日)</td>\n",
       "      <td>금리 인상기, 한눈에 이자 알 수 있는 ‘대출 비교 플랫폼’에 관심</td>\n",
       "      <td>금리 인상기에 조금이라도 싼 이자로 대출을 받으려는 사람들이 늘면서 대출 비교 플랫...</td>\n",
       "    </tr>\n",
       "    <tr>\n",
       "      <th>5</th>\n",
       "      <td>문화일보</td>\n",
       "      <td>게재 일자 : 2022년 07월 27일(水)</td>\n",
       "      <td>&lt;알립니다&gt;‘문화금융리포트’ 내달 25일 온·오프 동시 개최</td>\n",
       "      <td>문화일보는 금융산업 발전을 도모하기 위한 전문가 포럼인 ‘문화금융리포트(MFiR) ...</td>\n",
       "    </tr>\n",
       "    <tr>\n",
       "      <th>6</th>\n",
       "      <td>문화일보</td>\n",
       "      <td>게재 일자 : 2022년 02월 23일(水)</td>\n",
       "      <td>알뜰폰에 토스인증서 도입… 토스, KT와 업무협약 체결</td>\n",
       "      <td>모바일 금융플랫폼 토스를 운영하는 비바리퍼블리카(이하 토스)가 KT 알뜰폰에 토스인...</td>\n",
       "    </tr>\n",
       "    <tr>\n",
       "      <th>7</th>\n",
       "      <td>문화일보</td>\n",
       "      <td>게재 일자 : 2022년 02월 07일(月)</td>\n",
       "      <td>‘슈퍼 원앱’ 경쟁…전통금융·빅테크 이어 삼성 가세</td>\n",
       "      <td>삼성계열사 내달 통합앱 출시\\n고객 3200만명 달해 파급력 커\\n네이버·카카오·토...</td>\n",
       "    </tr>\n",
       "    <tr>\n",
       "      <th>8</th>\n",
       "      <td>문화일보</td>\n",
       "      <td>게재 일자 : 2022년 01월 04일(火)</td>\n",
       "      <td>카드사용액 전년比 5%이상 많으면 최대 100만원 추가 소득공제</td>\n",
       "      <td>■ 10문10답 - 더 간편해진 연말정산\\n간소화자료 ‘국세청 → 회사’ 일괄제공…...</td>\n",
       "    </tr>\n",
       "    <tr>\n",
       "      <th>9</th>\n",
       "      <td>문화일보</td>\n",
       "      <td>게재 일자 : 2021년 12월 15일(水)</td>\n",
       "      <td>고승범 금융위원장 “데이터 독점시 영업 규제할 것”</td>\n",
       "      <td>■ 금융플랫폼 활성화 간담회\\n\\n빅테크 기업 금융업 진출 놓고\\n“동일기능·동일규...</td>\n",
       "    </tr>\n",
       "    <tr>\n",
       "      <th>10</th>\n",
       "      <td>문화일보</td>\n",
       "      <td>게재 일자 : 2021년 12월 14일(火)</td>\n",
       "      <td>시중銀 ‘몸집’ 줄이는데… 인터넷·저축銀은 ‘IT인력’ 늘리기</td>\n",
       "      <td>금융산업 메가트렌드 반영\\n인터넷銀 직원 최대 3배로\\n카뱅, 세자릿수 채용 진행중...</td>\n",
       "    </tr>\n",
       "    <tr>\n",
       "      <th>11</th>\n",
       "      <td>문화일보</td>\n",
       "      <td>게재 일자 : 2021년 11월 17일(水)</td>\n",
       "      <td>티맵모빌리티, 토스 전략 담당 출신 김유리 CPO 영입</td>\n",
       "      <td>통합모빌리티 사업 본격화\\n\\n티맵모빌리티는 토스의 운영사 비바리퍼블리카의 김유리(...</td>\n",
       "    </tr>\n",
       "    <tr>\n",
       "      <th>12</th>\n",
       "      <td>문화일보</td>\n",
       "      <td>게재 일자 : 2021년 11월 08일(月)</td>\n",
       "      <td>김연경 선수·토스 이승건 대표, ‘포니정 영리더상’ 수상</td>\n",
       "      <td>만40세 이하 젊은 혁신가로 꼽혀\\n\\n‘배구 여제’ 김연경 선수와 토스(Toss)...</td>\n",
       "    </tr>\n",
       "    <tr>\n",
       "      <th>13</th>\n",
       "      <td>문화일보</td>\n",
       "      <td>게재 일자 : 2021년 10월 08일(金)</td>\n",
       "      <td>토스, 타다 인수… 모빌리티시장 진출</td>\n",
       "      <td>타다 운영사 지분 60% 인수\\n“결제사업과 시너지효과 기대”\\n\\n핀테크(정보기술...</td>\n",
       "    </tr>\n",
       "    <tr>\n",
       "      <th>14</th>\n",
       "      <td>문화일보</td>\n",
       "      <td>게재 일자 : 2021년 10월 08일(金)</td>\n",
       "      <td>김연경 선수·이승건 대표 ‘포니정 영리더상’ 수상</td>\n",
       "      <td>포니정재단은 8일 우리 사회의 젊은 혁신가에게 주는 ‘제2회 포니정 영리더상’ 수상...</td>\n",
       "    </tr>\n",
       "  </tbody>\n",
       "</table>\n",
       "</div>"
      ],
      "text/plain": [
       "   press                      date                                   title  \\\n",
       "0   문화일보  게재 일자 : 2022년 08월 26일(金)        “금융 빅블러, 디지털 혁신 통해 소비자 편익 키우는 것”   \n",
       "1   문화일보  게재 일자 : 2022년 05월 06일(金)  ‘3대 신산업’ 6개사 시총, 텐센트 ‘3분의1’…“규제탓 성장못해”   \n",
       "2   문화일보  게재 일자 : 2022년 03월 30일(水)                         금감원, 토스 수시검사 착수   \n",
       "3   문화일보  게재 일자 : 2022년 08월 26일(金)   “은행권 허용업무 40개로 늘려 ‘빅블러 시대’ 신사업 길 터줘야”   \n",
       "4   문화일보  게재 일자 : 2022년 07월 31일(日)   금리 인상기, 한눈에 이자 알 수 있는 ‘대출 비교 플랫폼’에 관심   \n",
       "5   문화일보  게재 일자 : 2022년 07월 27일(水)       <알립니다>‘문화금융리포트’ 내달 25일 온·오프 동시 개최   \n",
       "6   문화일보  게재 일자 : 2022년 02월 23일(水)          알뜰폰에 토스인증서 도입… 토스, KT와 업무협약 체결   \n",
       "7   문화일보  게재 일자 : 2022년 02월 07일(月)            ‘슈퍼 원앱’ 경쟁…전통금융·빅테크 이어 삼성 가세   \n",
       "8   문화일보  게재 일자 : 2022년 01월 04일(火)     카드사용액 전년比 5%이상 많으면 최대 100만원 추가 소득공제   \n",
       "9   문화일보  게재 일자 : 2021년 12월 15일(水)            고승범 금융위원장 “데이터 독점시 영업 규제할 것”   \n",
       "10  문화일보  게재 일자 : 2021년 12월 14일(火)      시중銀 ‘몸집’ 줄이는데… 인터넷·저축銀은 ‘IT인력’ 늘리기   \n",
       "11  문화일보  게재 일자 : 2021년 11월 17일(水)          티맵모빌리티, 토스 전략 담당 출신 김유리 CPO 영입   \n",
       "12  문화일보  게재 일자 : 2021년 11월 08일(月)         김연경 선수·토스 이승건 대표, ‘포니정 영리더상’ 수상   \n",
       "13  문화일보  게재 일자 : 2021년 10월 08일(金)                    토스, 타다 인수… 모빌리티시장 진출   \n",
       "14  문화일보  게재 일자 : 2021년 10월 08일(金)             김연경 선수·이승건 대표 ‘포니정 영리더상’ 수상   \n",
       "\n",
       "                                              content  \n",
       "0   ■ 문화금융리포트 2022 - 이승건 비바리퍼블리카 대표\\n\\n“새로운 부가가치 창...  \n",
       "1   ■ 경총 신산업 규제개선 보고서\\n\\n네이버·삼바·비바리퍼블리카 등\\n6개사 시총 ...  \n",
       "2   금융감독원이 대표적인 핀테크 회사 비바리퍼블리카에 대한 수시검사에 착수했다.\\n\\n...  \n",
       "3   “마이데이터 대상 정보 늘려야”\\n\\nMFiR 2022 참석자들 열띤 토론... 2...  \n",
       "4   금리 인상기에 조금이라도 싼 이자로 대출을 받으려는 사람들이 늘면서 대출 비교 플랫...  \n",
       "5   문화일보는 금융산업 발전을 도모하기 위한 전문가 포럼인 ‘문화금융리포트(MFiR) ...  \n",
       "6   모바일 금융플랫폼 토스를 운영하는 비바리퍼블리카(이하 토스)가 KT 알뜰폰에 토스인...  \n",
       "7   삼성계열사 내달 통합앱 출시\\n고객 3200만명 달해 파급력 커\\n네이버·카카오·토...  \n",
       "8   ■ 10문10답 - 더 간편해진 연말정산\\n간소화자료 ‘국세청 → 회사’ 일괄제공…...  \n",
       "9   ■ 금융플랫폼 활성화 간담회\\n\\n빅테크 기업 금융업 진출 놓고\\n“동일기능·동일규...  \n",
       "10  금융산업 메가트렌드 반영\\n인터넷銀 직원 최대 3배로\\n카뱅, 세자릿수 채용 진행중...  \n",
       "11  통합모빌리티 사업 본격화\\n\\n티맵모빌리티는 토스의 운영사 비바리퍼블리카의 김유리(...  \n",
       "12  만40세 이하 젊은 혁신가로 꼽혀\\n\\n‘배구 여제’ 김연경 선수와 토스(Toss)...  \n",
       "13  타다 운영사 지분 60% 인수\\n“결제사업과 시너지효과 기대”\\n\\n핀테크(정보기술...  \n",
       "14  포니정재단은 8일 우리 사회의 젊은 혁신가에게 주는 ‘제2회 포니정 영리더상’ 수상...  "
      ]
     },
     "execution_count": 90,
     "metadata": {},
     "output_type": "execute_result"
    }
   ],
   "source": [
    "df = pd.DataFrame(list(zip(press_list, date_list, title_list, content_list)), columns = ['press', 'date', 'title', 'content'])\n",
    "\n",
    "df"
   ]
  },
  {
   "cell_type": "code",
   "execution_count": 91,
   "id": "82aa58ab",
   "metadata": {
    "ExecuteTime": {
     "end_time": "2022-09-26T11:16:42.041835Z",
     "start_time": "2022-09-26T11:16:42.034863Z"
    },
    "pycharm": {
     "name": "#%%\n"
    }
   },
   "outputs": [],
   "source": [
    "df.to_csv('./kbank_khan.csv')"
   ]
  },
  {
   "cell_type": "code",
   "execution_count": null,
   "id": "39aaf3e7",
   "metadata": {
    "pycharm": {
     "name": "#%%\n"
    }
   },
   "outputs": [],
   "source": []
  }
 ],
 "metadata": {
  "kernelspec": {
   "display_name": "Python 3 (ipykernel)",
   "language": "python",
   "name": "python3"
  },
  "language_info": {
   "codemirror_mode": {
    "name": "ipython",
    "version": 3
   },
   "file_extension": ".py",
   "mimetype": "text/x-python",
   "name": "python",
   "nbconvert_exporter": "python",
   "pygments_lexer": "ipython3",
   "version": "3.8.13"
  },
  "toc": {
   "base_numbering": 1,
   "nav_menu": {},
   "number_sections": false,
   "sideBar": true,
   "skip_h1_title": false,
   "title_cell": "Table of Contents",
   "title_sidebar": "Contents",
   "toc_cell": false,
   "toc_position": {
    "height": "895px",
    "left": "69px",
    "top": "111.141px",
    "width": "165px"
   },
   "toc_section_display": true,
   "toc_window_display": false
  }
 },
 "nbformat": 4,
 "nbformat_minor": 5
}