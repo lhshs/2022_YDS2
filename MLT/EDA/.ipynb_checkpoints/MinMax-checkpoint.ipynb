{
 "cells": [
  {
   "cell_type": "code",
   "execution_count": null,
   "metadata": {},
   "outputs": [],
   "source": [
    "from sklearn.preprocessing import MinMaxScaler\n",
    "\n",
    "df = pd.read_csv('data/7_Yvalue.csv')\n",
    "df.date = pd.to_datetime(df.date)\n",
    "df = df.set_index('date')"
   ]
  },
  {
   "cell_type": "code",
   "execution_count": null,
   "metadata": {},
   "outputs": [],
   "source": [
    "scaler = MinMaxScaler()\n",
    "scaler.fit(df)\n",
    "df_scaled = scaler.transform(df)\n",
    "\n",
    "df_scaled_f = pd.DataFrame(df_scaled, columns=['priceMinMax','kospiMinMax'])\n",
    "df = df.reset_index()\n",
    "df_scaled_f.insert(0,'date', df['date'] )\n",
    "\n",
    "df = df.merge(df_scaled_f, how='left')\n",
    "df['k-p_diff'] = df['kospiMinMax'] - df['priceMinMax']\n",
    "\n",
    "df.head()\n",
    "\n",
    "def consecutive_fall(df:pd.DataFrame, cons_day:int, mean_day:int, rest_value:int)->pd.DataFrame:\n",
    "    k_p = list(df['k-p_diff'])\n",
    "    k_p_day = []\n",
    "\n",
    "    for i in range(369-cons_day):\n",
    "        cnt = 0\n",
    "        for j in k_p[i:i+cons_day]:\n",
    "            if j > 0:\n",
    "                cnt += 1\n",
    "            else :\n",
    "                break\n",
    "\n",
    "        if cnt == cons_day:\n",
    "            k_p_day.append(1)\n",
    "\n",
    "        elif (cnt>mean_day)&(np.mean(k_p[i:i+cons_day]) > 0.05):\n",
    "            k_p_day.append(0.5)\n",
    "            \n",
    "        else:\n",
    "            k_p_day.append(0)\n",
    "\n",
    "    for i in range(cons_day):\n",
    "        k_p_day.append(rest_value)\n",
    "            \n",
    "    df[f'k_p{cons_day}'] = k_p_day\n",
    "    return df.head()\n",
    "\n",
    "consecutive_fall(df, 10, 4, 0)"
   ]
  },
  {
   "cell_type": "code",
   "execution_count": null,
   "metadata": {},
   "outputs": [],
   "source": [
    "# 주가 데이터 그래프\n",
    "plt.figure(figsize=(15, 6))\n",
    "plt.rcParams['font.family'] = 'AppleGothic'\n",
    "# plt.rcParams['font.size'] = 23\n",
    "# plt.rcParams['figure.figsize'] = (13, 8) # figsize 고정\n",
    "sns.lineplot(data=df, x=\"date\", y=\"priceMinMax\", label='priceMinMax')\n",
    "sns.lineplot(data=df, x=\"date\", y=\"kospiMinMax\", label='kospiMinMax')\n",
    "sns.lineplot(data=df, x=\"date\", y=\"k-p_diff\", label='kospi-price')\n",
    "sns.scatterplot(data=df, x=\"date\", y='k_p10')\n",
    "\n",
    "\n",
    "plt.show()"
   ]
  }
 ],
 "metadata": {
  "anaconda-cloud": {},
  "kernelspec": {
   "display_name": "Python 3 (ipykernel)",
   "language": "python",
   "name": "python3"
  },
  "language_info": {
   "codemirror_mode": {
    "name": "ipython",
    "version": 3
   },
   "file_extension": ".py",
   "mimetype": "text/x-python",
   "name": "python",
   "nbconvert_exporter": "python",
   "pygments_lexer": "ipython3",
   "version": "3.8.13"
  },
  "toc": {
   "base_numbering": 1,
   "nav_menu": {},
   "number_sections": true,
   "sideBar": true,
   "skip_h1_title": false,
   "title_cell": "Table of Contents",
   "title_sidebar": "Contents",
   "toc_cell": false,
   "toc_position": {},
   "toc_section_display": true,
   "toc_window_display": false
  }
 },
 "nbformat": 4,
 "nbformat_minor": 4
}
