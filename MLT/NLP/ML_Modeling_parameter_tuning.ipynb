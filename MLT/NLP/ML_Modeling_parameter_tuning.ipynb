{
 "cells": [
  {
   "cell_type": "code",
   "execution_count": 1,
   "id": "8b1a23f8",
   "metadata": {
    "ExecuteTime": {
     "end_time": "2022-10-12T07:24:43.027460Z",
     "start_time": "2022-10-12T07:24:42.665582Z"
    }
   },
   "outputs": [],
   "source": [
    "import pandas as pd\n",
    "import numpy as np\n",
    "import re\n",
    "\n",
    "from sklearn.feature_extraction.text import TfidfVectorizer\n",
    "\n",
    "from sklearn.model_selection import train_test_split\n"
   ]
  },
  {
   "cell_type": "code",
   "execution_count": null,
   "id": "80eea7e1",
   "metadata": {},
   "outputs": [],
   "source": []
  },
  {
   "cell_type": "code",
   "execution_count": 2,
   "id": "4567b9be",
   "metadata": {
    "ExecuteTime": {
     "end_time": "2022-10-12T07:24:43.147568Z",
     "start_time": "2022-10-12T07:24:43.028635Z"
    }
   },
   "outputs": [],
   "source": [
    "df = pd.read_excel('news_label.xlsx', engine='openpyxl')"
   ]
  },
  {
   "cell_type": "code",
   "execution_count": 3,
   "id": "fd66d057",
   "metadata": {
    "ExecuteTime": {
     "end_time": "2022-10-12T07:24:43.151184Z",
     "start_time": "2022-10-12T07:24:43.148420Z"
    }
   },
   "outputs": [],
   "source": [
    "df = df.rename(columns={'dates':'date', 'titles':'title','contents':'content'})\n",
    "df['content'] = df['title'] + df['content']"
   ]
  },
  {
   "cell_type": "code",
   "execution_count": 4,
   "id": "423625df",
   "metadata": {
    "ExecuteTime": {
     "end_time": "2022-10-12T07:24:43.155159Z",
     "start_time": "2022-10-12T07:24:43.153056Z"
    }
   },
   "outputs": [],
   "source": [
    "df = df.drop(columns=['근거', 'title'])"
   ]
  },
  {
   "cell_type": "code",
   "execution_count": 5,
   "id": "e6249a17",
   "metadata": {
    "ExecuteTime": {
     "end_time": "2022-10-12T07:24:43.162902Z",
     "start_time": "2022-10-12T07:24:43.156022Z"
    },
    "scrolled": false
   },
   "outputs": [
    {
     "data": {
      "text/html": [
       "<div>\n",
       "<style scoped>\n",
       "    .dataframe tbody tr th:only-of-type {\n",
       "        vertical-align: middle;\n",
       "    }\n",
       "\n",
       "    .dataframe tbody tr th {\n",
       "        vertical-align: top;\n",
       "    }\n",
       "\n",
       "    .dataframe thead th {\n",
       "        text-align: right;\n",
       "    }\n",
       "</style>\n",
       "<table border=\"1\" class=\"dataframe\">\n",
       "  <thead>\n",
       "    <tr style=\"text-align: right;\">\n",
       "      <th></th>\n",
       "      <th>date</th>\n",
       "      <th>content</th>\n",
       "      <th>label</th>\n",
       "    </tr>\n",
       "  </thead>\n",
       "  <tbody>\n",
       "    <tr>\n",
       "      <th>0</th>\n",
       "      <td>2021.10.05</td>\n",
       "      <td>[[톡톡 이상품] 한빛코리아 / 다지워 네이처 클렌징 솝]//[\\n마스카라까지 지우...</td>\n",
       "      <td>1</td>\n",
       "    </tr>\n",
       "    <tr>\n",
       "      <th>1</th>\n",
       "      <td>2021.10.07</td>\n",
       "      <td>[[격동의 유통가④]편의점 성장 정체…미래는 근거리 쇼핑]//[\"파괴적 커머스 시대...</td>\n",
       "      <td>1</td>\n",
       "    </tr>\n",
       "    <tr>\n",
       "      <th>2</th>\n",
       "      <td>2021.10.08</td>\n",
       "      <td>[株머니 매니저의 HOT종목]//[\\n\\n\\n\\n\\n 씨에스윈드는 풍력발전기를 구성...</td>\n",
       "      <td>1</td>\n",
       "    </tr>\n",
       "    <tr>\n",
       "      <th>3</th>\n",
       "      <td>2021.10.11</td>\n",
       "      <td>[김민수 더맘마 대표 \"동네마트와 '상생'이 경쟁력…30분 총알배송 목표\"]//[\\...</td>\n",
       "      <td>1</td>\n",
       "    </tr>\n",
       "    <tr>\n",
       "      <th>4</th>\n",
       "      <td>2021.10.13</td>\n",
       "      <td>[\"카카오 보고있나\"…진격의 네이버페이, 中 최대 직구몰 손잡았다]//[[주간투자동...</td>\n",
       "      <td>1</td>\n",
       "    </tr>\n",
       "    <tr>\n",
       "      <th>...</th>\n",
       "      <td>...</td>\n",
       "      <td>...</td>\n",
       "      <td>...</td>\n",
       "    </tr>\n",
       "    <tr>\n",
       "      <th>274</th>\n",
       "      <td>2022.09.23</td>\n",
       "      <td>[WCP 흥행 실패에 컬리, 케이뱅크 상장 시기 '안갯속']//[\\n심사 승인 났는...</td>\n",
       "      <td>0</td>\n",
       "    </tr>\n",
       "    <tr>\n",
       "      <th>275</th>\n",
       "      <td>2022.09.26</td>\n",
       "      <td>[[먹거리+IT] 네이처랩 오경주 대표, “맛있고 건강한 주스 추천 서비스를 개발합...</td>\n",
       "      <td>1</td>\n",
       "    </tr>\n",
       "    <tr>\n",
       "      <th>276</th>\n",
       "      <td>2022.09.27</td>\n",
       "      <td>[\"투자 늘렸는데 이제와서…\" 퀵커머스마저 규제하나 '초긴장']//[\\n■국감 오르...</td>\n",
       "      <td>0</td>\n",
       "    </tr>\n",
       "    <tr>\n",
       "      <th>277</th>\n",
       "      <td>2022.09.29</td>\n",
       "      <td>[국내 이커머스 상장 1호 주인공 누가될까 [격변의 이커머스①]]//[\\n이커머스 ...</td>\n",
       "      <td>0</td>\n",
       "    </tr>\n",
       "    <tr>\n",
       "      <th>278</th>\n",
       "      <td>2022.09.30</td>\n",
       "      <td>[오아시스마켓, 맞춤형 영상 콘텐츠 지원에 소상공인 매출 ‘쑥쑥’]//[\\n\"V 커...</td>\n",
       "      <td>1</td>\n",
       "    </tr>\n",
       "  </tbody>\n",
       "</table>\n",
       "<p>279 rows × 3 columns</p>\n",
       "</div>"
      ],
      "text/plain": [
       "           date                                            content  label\n",
       "0    2021.10.05  [[톡톡 이상품] 한빛코리아 / 다지워 네이처 클렌징 솝]//[\\n마스카라까지 지우...      1\n",
       "1    2021.10.07  [[격동의 유통가④]편의점 성장 정체…미래는 근거리 쇼핑]//[\"파괴적 커머스 시대...      1\n",
       "2    2021.10.08  [株머니 매니저의 HOT종목]//[\\n\\n\\n\\n\\n 씨에스윈드는 풍력발전기를 구성...      1\n",
       "3    2021.10.11  [김민수 더맘마 대표 \"동네마트와 '상생'이 경쟁력…30분 총알배송 목표\"]//[\\...      1\n",
       "4    2021.10.13  [\"카카오 보고있나\"…진격의 네이버페이, 中 최대 직구몰 손잡았다]//[[주간투자동...      1\n",
       "..          ...                                                ...    ...\n",
       "274  2022.09.23  [WCP 흥행 실패에 컬리, 케이뱅크 상장 시기 '안갯속']//[\\n심사 승인 났는...      0\n",
       "275  2022.09.26  [[먹거리+IT] 네이처랩 오경주 대표, “맛있고 건강한 주스 추천 서비스를 개발합...      1\n",
       "276  2022.09.27  [\"투자 늘렸는데 이제와서…\" 퀵커머스마저 규제하나 '초긴장']//[\\n■국감 오르...      0\n",
       "277  2022.09.29  [국내 이커머스 상장 1호 주인공 누가될까 [격변의 이커머스①]]//[\\n이커머스 ...      0\n",
       "278  2022.09.30  [오아시스마켓, 맞춤형 영상 콘텐츠 지원에 소상공인 매출 ‘쑥쑥’]//[\\n\"V 커...      1\n",
       "\n",
       "[279 rows x 3 columns]"
      ]
     },
     "execution_count": 5,
     "metadata": {},
     "output_type": "execute_result"
    }
   ],
   "source": [
    "df['label'] = df['label'].astype(int)\n",
    "df"
   ]
  },
  {
   "cell_type": "markdown",
   "id": "bc25d522",
   "metadata": {},
   "source": [
    "### 데이터 정제하기"
   ]
  },
  {
   "cell_type": "code",
   "execution_count": 6,
   "id": "eb2b810d",
   "metadata": {
    "ExecuteTime": {
     "end_time": "2022-10-12T07:24:43.274912Z",
     "start_time": "2022-10-12T07:24:43.163805Z"
    },
    "scrolled": false
   },
   "outputs": [
    {
     "name": "stderr",
     "output_type": "stream",
     "text": [
      "/var/folders/1d/lfkpl6ps02xgh0rdprtbmgvw0000gn/T/ipykernel_2336/2956849729.py:2: FutureWarning: The default value of regex will change from True to False in a future version.\n",
      "  df['content'] = df['content'].str.replace('[^가-힣a-zA-Z0-9_]',' ')\n",
      "/var/folders/1d/lfkpl6ps02xgh0rdprtbmgvw0000gn/T/ipykernel_2336/2956849729.py:4: FutureWarning: The default value of regex will change from True to False in a future version.\n",
      "  df['content'] = df['content'].str.replace(' +',' ')\n"
     ]
    },
    {
     "data": {
      "text/html": [
       "<div>\n",
       "<style scoped>\n",
       "    .dataframe tbody tr th:only-of-type {\n",
       "        vertical-align: middle;\n",
       "    }\n",
       "\n",
       "    .dataframe tbody tr th {\n",
       "        vertical-align: top;\n",
       "    }\n",
       "\n",
       "    .dataframe thead th {\n",
       "        text-align: right;\n",
       "    }\n",
       "</style>\n",
       "<table border=\"1\" class=\"dataframe\">\n",
       "  <thead>\n",
       "    <tr style=\"text-align: right;\">\n",
       "      <th></th>\n",
       "      <th>date</th>\n",
       "      <th>content</th>\n",
       "      <th>label</th>\n",
       "    </tr>\n",
       "  </thead>\n",
       "  <tbody>\n",
       "    <tr>\n",
       "      <th>0</th>\n",
       "      <td>2021.10.05</td>\n",
       "      <td>톡톡 이상품 한빛코리아 다지워 네이처 클렌징 솝 마스카라까지 지우는 세정비누 피부...</td>\n",
       "      <td>1</td>\n",
       "    </tr>\n",
       "    <tr>\n",
       "      <th>1</th>\n",
       "      <td>2021.10.07</td>\n",
       "      <td>격동의 유통가 편의점 성장 정체 미래는 근거리 쇼핑 파괴적 커머스 시대 데이터 경...</td>\n",
       "      <td>1</td>\n",
       "    </tr>\n",
       "    <tr>\n",
       "      <th>2</th>\n",
       "      <td>2021.10.08</td>\n",
       "      <td>머니 매니저의 HOT종목 씨에스윈드는 풍력발전기를 구성하는 타워 제작 및 설치를 ...</td>\n",
       "      <td>1</td>\n",
       "    </tr>\n",
       "    <tr>\n",
       "      <th>3</th>\n",
       "      <td>2021.10.11</td>\n",
       "      <td>김민수 더맘마 대표 동네마트와 상생 이 경쟁력 30분 총알배송 목표 별도 물류센터...</td>\n",
       "      <td>1</td>\n",
       "    </tr>\n",
       "    <tr>\n",
       "      <th>4</th>\n",
       "      <td>2021.10.13</td>\n",
       "      <td>카카오 보고있나 진격의 네이버페이 최대 직구몰 손잡았다 주간투자동향 파운트 400...</td>\n",
       "      <td>1</td>\n",
       "    </tr>\n",
       "    <tr>\n",
       "      <th>...</th>\n",
       "      <td>...</td>\n",
       "      <td>...</td>\n",
       "      <td>...</td>\n",
       "    </tr>\n",
       "    <tr>\n",
       "      <th>274</th>\n",
       "      <td>2022.09.23</td>\n",
       "      <td>WCP 흥행 실패에 컬리 케이뱅크 상장 시기 안갯속 심사 승인 났는데 IPO 감감...</td>\n",
       "      <td>0</td>\n",
       "    </tr>\n",
       "    <tr>\n",
       "      <th>275</th>\n",
       "      <td>2022.09.26</td>\n",
       "      <td>먹거리 IT 네이처랩 오경주 대표 맛있고 건강한 주스 추천 서비스를 개발합니다 서...</td>\n",
       "      <td>1</td>\n",
       "    </tr>\n",
       "    <tr>\n",
       "      <th>276</th>\n",
       "      <td>2022.09.27</td>\n",
       "      <td>투자 늘렸는데 이제와서 퀵커머스마저 규제하나 초긴장 국감 오르는 유통업 새 먹거리...</td>\n",
       "      <td>0</td>\n",
       "    </tr>\n",
       "    <tr>\n",
       "      <th>277</th>\n",
       "      <td>2022.09.29</td>\n",
       "      <td>국내 이커머스 상장 1호 주인공 누가될까 격변의 이커머스 이커머스 IPO 대전 흑...</td>\n",
       "      <td>0</td>\n",
       "    </tr>\n",
       "    <tr>\n",
       "      <th>278</th>\n",
       "      <td>2022.09.30</td>\n",
       "      <td>오아시스마켓 맞춤형 영상 콘텐츠 지원에 소상공인 매출 쑥쑥 V 커머스 지원 사업으...</td>\n",
       "      <td>1</td>\n",
       "    </tr>\n",
       "  </tbody>\n",
       "</table>\n",
       "<p>279 rows × 3 columns</p>\n",
       "</div>"
      ],
      "text/plain": [
       "           date                                            content  label\n",
       "0    2021.10.05   톡톡 이상품 한빛코리아 다지워 네이처 클렌징 솝 마스카라까지 지우는 세정비누 피부...      1\n",
       "1    2021.10.07   격동의 유통가 편의점 성장 정체 미래는 근거리 쇼핑 파괴적 커머스 시대 데이터 경...      1\n",
       "2    2021.10.08   머니 매니저의 HOT종목 씨에스윈드는 풍력발전기를 구성하는 타워 제작 및 설치를 ...      1\n",
       "3    2021.10.11   김민수 더맘마 대표 동네마트와 상생 이 경쟁력 30분 총알배송 목표 별도 물류센터...      1\n",
       "4    2021.10.13   카카오 보고있나 진격의 네이버페이 최대 직구몰 손잡았다 주간투자동향 파운트 400...      1\n",
       "..          ...                                                ...    ...\n",
       "274  2022.09.23   WCP 흥행 실패에 컬리 케이뱅크 상장 시기 안갯속 심사 승인 났는데 IPO 감감...      0\n",
       "275  2022.09.26   먹거리 IT 네이처랩 오경주 대표 맛있고 건강한 주스 추천 서비스를 개발합니다 서...      1\n",
       "276  2022.09.27   투자 늘렸는데 이제와서 퀵커머스마저 규제하나 초긴장 국감 오르는 유통업 새 먹거리...      0\n",
       "277  2022.09.29   국내 이커머스 상장 1호 주인공 누가될까 격변의 이커머스 이커머스 IPO 대전 흑...      0\n",
       "278  2022.09.30   오아시스마켓 맞춤형 영상 콘텐츠 지원에 소상공인 매출 쑥쑥 V 커머스 지원 사업으...      1\n",
       "\n",
       "[279 rows x 3 columns]"
      ]
     },
     "execution_count": 6,
     "metadata": {},
     "output_type": "execute_result"
    }
   ],
   "source": [
    "# 문자 외의 것들 제거\n",
    "df['content'] = df['content'].str.replace('[^가-힣a-zA-Z0-9_]',' ')\n",
    "# 혹시 모를 다중 공백 제거\n",
    "df['content'] = df['content'].str.replace(' +',' ') \n",
    "df"
   ]
  },
  {
   "cell_type": "code",
   "execution_count": 7,
   "id": "12343dfa",
   "metadata": {
    "ExecuteTime": {
     "end_time": "2022-10-12T07:24:43.277565Z",
     "start_time": "2022-10-12T07:24:43.276071Z"
    }
   },
   "outputs": [],
   "source": [
    "train = df"
   ]
  },
  {
   "cell_type": "code",
   "execution_count": 8,
   "id": "e719e536",
   "metadata": {
    "ExecuteTime": {
     "end_time": "2022-10-12T07:24:43.280726Z",
     "start_time": "2022-10-12T07:24:43.278303Z"
    }
   },
   "outputs": [],
   "source": [
    "train, test = train_test_split(train)\n",
    "train.reset_index(inplace=True) # 전처리 과정에서 데이터가 뒤섞이지 않도록 인덱스를 초기화해주었습니다.\n",
    "test.reset_index(inplace=True)"
   ]
  },
  {
   "cell_type": "code",
   "execution_count": 9,
   "id": "1c164cec",
   "metadata": {
    "ExecuteTime": {
     "end_time": "2022-10-12T07:24:43.283646Z",
     "start_time": "2022-10-12T07:24:43.281636Z"
    }
   },
   "outputs": [],
   "source": [
    "train = train.drop(['index'],axis=1)"
   ]
  },
  {
   "cell_type": "code",
   "execution_count": 10,
   "id": "243f10a6",
   "metadata": {
    "ExecuteTime": {
     "end_time": "2022-10-12T07:24:43.295034Z",
     "start_time": "2022-10-12T07:24:43.285622Z"
    }
   },
   "outputs": [
    {
     "data": {
      "text/html": [
       "<div>\n",
       "<style scoped>\n",
       "    .dataframe tbody tr th:only-of-type {\n",
       "        vertical-align: middle;\n",
       "    }\n",
       "\n",
       "    .dataframe tbody tr th {\n",
       "        vertical-align: top;\n",
       "    }\n",
       "\n",
       "    .dataframe thead th {\n",
       "        text-align: right;\n",
       "    }\n",
       "</style>\n",
       "<table border=\"1\" class=\"dataframe\">\n",
       "  <thead>\n",
       "    <tr style=\"text-align: right;\">\n",
       "      <th></th>\n",
       "      <th>date</th>\n",
       "      <th>content</th>\n",
       "      <th>label</th>\n",
       "    </tr>\n",
       "  </thead>\n",
       "  <tbody>\n",
       "    <tr>\n",
       "      <th>0</th>\n",
       "      <td>2022.05.02</td>\n",
       "      <td>창업자 188명 지상 IR 날개 K 스타트업 등용문 우뚝 오아시스마켓 경북 세일 ...</td>\n",
       "      <td>1</td>\n",
       "    </tr>\n",
       "    <tr>\n",
       "      <th>1</th>\n",
       "      <td>2021.12.06</td>\n",
       "      <td>부산 울산도 샛별배송 시작 지방 새벽배송 경쟁 이어진다 마켓컬리가 부산 울산지역으...</td>\n",
       "      <td>0</td>\n",
       "    </tr>\n",
       "    <tr>\n",
       "      <th>2</th>\n",
       "      <td>2021.12.26</td>\n",
       "      <td>아듀 2021 코로나 스타트업 고성장 두나무 직방 컬리 당근 유니콘 올해 국내 스...</td>\n",
       "      <td>1</td>\n",
       "    </tr>\n",
       "    <tr>\n",
       "      <th>3</th>\n",
       "      <td>2022.05.23</td>\n",
       "      <td>과포장 상장 이제 안 통한다 이커머스 IPO 줄철회 오아시스 주간 배송 테스트 돌...</td>\n",
       "      <td>0</td>\n",
       "    </tr>\n",
       "    <tr>\n",
       "      <th>4</th>\n",
       "      <td>2022.03.29</td>\n",
       "      <td>800리터 양문형 냉장고도 내일 배송 G마켓의 새벽 은 다를까 누가 더 멀리 가나...</td>\n",
       "      <td>1</td>\n",
       "    </tr>\n",
       "    <tr>\n",
       "      <th>...</th>\n",
       "      <td>...</td>\n",
       "      <td>...</td>\n",
       "      <td>...</td>\n",
       "    </tr>\n",
       "    <tr>\n",
       "      <th>204</th>\n",
       "      <td>2022.07.14</td>\n",
       "      <td>운영자금 고갈 투자자 압박 쏘카 오일뱅크 등 상장 강행하는 이유 교보생명 현대오일...</td>\n",
       "      <td>0</td>\n",
       "    </tr>\n",
       "    <tr>\n",
       "      <th>205</th>\n",
       "      <td>2022.03.13</td>\n",
       "      <td>마켓컬리 쿠팡 긴장해야겠네 네이버도 새벽배송 시장 본격 참전 올들어 잇달아 서비스...</td>\n",
       "      <td>0</td>\n",
       "    </tr>\n",
       "    <tr>\n",
       "      <th>206</th>\n",
       "      <td>2022.03.07</td>\n",
       "      <td>단독 이마트 퀵커머스 진출 강남대로에 MFC 1호점 연다 옛 일렉트로마트 논현점 ...</td>\n",
       "      <td>0</td>\n",
       "    </tr>\n",
       "    <tr>\n",
       "      <th>207</th>\n",
       "      <td>2022.02.19</td>\n",
       "      <td>20년만에 매각되는 초록마을 이마트에브리데이 컬리도 인수 군침 유통사부터 스타트업...</td>\n",
       "      <td>1</td>\n",
       "    </tr>\n",
       "    <tr>\n",
       "      <th>208</th>\n",
       "      <td>2022.05.27</td>\n",
       "      <td>IPO 대어 쏘카 컬리 도 휘청 구주매출 많으면 공모가 낮춰야 단독 오아시스 논란...</td>\n",
       "      <td>0</td>\n",
       "    </tr>\n",
       "  </tbody>\n",
       "</table>\n",
       "<p>209 rows × 3 columns</p>\n",
       "</div>"
      ],
      "text/plain": [
       "           date                                            content  label\n",
       "0    2022.05.02   창업자 188명 지상 IR 날개 K 스타트업 등용문 우뚝 오아시스마켓 경북 세일 ...      1\n",
       "1    2021.12.06   부산 울산도 샛별배송 시작 지방 새벽배송 경쟁 이어진다 마켓컬리가 부산 울산지역으...      0\n",
       "2    2021.12.26   아듀 2021 코로나 스타트업 고성장 두나무 직방 컬리 당근 유니콘 올해 국내 스...      1\n",
       "3    2022.05.23   과포장 상장 이제 안 통한다 이커머스 IPO 줄철회 오아시스 주간 배송 테스트 돌...      0\n",
       "4    2022.03.29   800리터 양문형 냉장고도 내일 배송 G마켓의 새벽 은 다를까 누가 더 멀리 가나...      1\n",
       "..          ...                                                ...    ...\n",
       "204  2022.07.14   운영자금 고갈 투자자 압박 쏘카 오일뱅크 등 상장 강행하는 이유 교보생명 현대오일...      0\n",
       "205  2022.03.13   마켓컬리 쿠팡 긴장해야겠네 네이버도 새벽배송 시장 본격 참전 올들어 잇달아 서비스...      0\n",
       "206  2022.03.07   단독 이마트 퀵커머스 진출 강남대로에 MFC 1호점 연다 옛 일렉트로마트 논현점 ...      0\n",
       "207  2022.02.19   20년만에 매각되는 초록마을 이마트에브리데이 컬리도 인수 군침 유통사부터 스타트업...      1\n",
       "208  2022.05.27   IPO 대어 쏘카 컬리 도 휘청 구주매출 많으면 공모가 낮춰야 단독 오아시스 논란...      0\n",
       "\n",
       "[209 rows x 3 columns]"
      ]
     },
     "execution_count": 10,
     "metadata": {},
     "output_type": "execute_result"
    }
   ],
   "source": [
    "train"
   ]
  },
  {
   "cell_type": "code",
   "execution_count": 11,
   "id": "7e3aa2e5",
   "metadata": {
    "ExecuteTime": {
     "end_time": "2022-10-12T07:24:43.299665Z",
     "start_time": "2022-10-12T07:24:43.296329Z"
    }
   },
   "outputs": [],
   "source": [
    "test = test.drop(['index'],axis=1)#.drop(['index'],axis=1) "
   ]
  },
  {
   "cell_type": "code",
   "execution_count": 12,
   "id": "ab1a6bcd",
   "metadata": {
    "ExecuteTime": {
     "end_time": "2022-10-12T07:24:43.304981Z",
     "start_time": "2022-10-12T07:24:43.300641Z"
    }
   },
   "outputs": [
    {
     "data": {
      "text/html": [
       "<div>\n",
       "<style scoped>\n",
       "    .dataframe tbody tr th:only-of-type {\n",
       "        vertical-align: middle;\n",
       "    }\n",
       "\n",
       "    .dataframe tbody tr th {\n",
       "        vertical-align: top;\n",
       "    }\n",
       "\n",
       "    .dataframe thead th {\n",
       "        text-align: right;\n",
       "    }\n",
       "</style>\n",
       "<table border=\"1\" class=\"dataframe\">\n",
       "  <thead>\n",
       "    <tr style=\"text-align: right;\">\n",
       "      <th></th>\n",
       "      <th>date</th>\n",
       "      <th>content</th>\n",
       "      <th>label</th>\n",
       "    </tr>\n",
       "  </thead>\n",
       "  <tbody>\n",
       "    <tr>\n",
       "      <th>0</th>\n",
       "      <td>2021.11.28</td>\n",
       "      <td>단군 이래 IPO 최대 라는 LG엔솔 얼마나 크길래 김민석의 IPO브리핑 시가총액...</td>\n",
       "      <td>1</td>\n",
       "    </tr>\n",
       "    <tr>\n",
       "      <th>1</th>\n",
       "      <td>2022.03.24</td>\n",
       "      <td>마켓컬리 드디어 출격 이커머스 3대장 IPO 시동건다 마켓컬리 오아시스마켓 실적 ...</td>\n",
       "      <td>1</td>\n",
       "    </tr>\n",
       "    <tr>\n",
       "      <th>2</th>\n",
       "      <td>2021.12.12</td>\n",
       "      <td>2021결산 커머스 비대면 시대 위한 M A 합종연횡 격랑 속 이커머스 LG엔솔 ...</td>\n",
       "      <td>1</td>\n",
       "    </tr>\n",
       "    <tr>\n",
       "      <th>3</th>\n",
       "      <td>2021.11.01</td>\n",
       "      <td>SSG 오아시스 컬리 새벽배송 업계 불붙은 IPO 레이스 상장 1호는 새벽배송 빅...</td>\n",
       "      <td>1</td>\n",
       "    </tr>\n",
       "    <tr>\n",
       "      <th>4</th>\n",
       "      <td>2022.07.04</td>\n",
       "      <td>하반기 IPO 대어 줄줄이 출격한다 침체된 주식시장 구세주 될까쏘카 유니콘기업 최...</td>\n",
       "      <td>1</td>\n",
       "    </tr>\n",
       "    <tr>\n",
       "      <th>...</th>\n",
       "      <td>...</td>\n",
       "      <td>...</td>\n",
       "      <td>...</td>\n",
       "    </tr>\n",
       "    <tr>\n",
       "      <th>65</th>\n",
       "      <td>2021.12.27</td>\n",
       "      <td>올해 IPO 20조 사상최대 임인년 30조 폭발 호랑이 기운 받는다 G마켓 옥션 ...</td>\n",
       "      <td>1</td>\n",
       "    </tr>\n",
       "    <tr>\n",
       "      <th>66</th>\n",
       "      <td>2022.05.31</td>\n",
       "      <td>오아시스마켓 맛집 그대로 세상 맛집들의 모임 이젠 빵집까지 간편식의 세계 K OT...</td>\n",
       "      <td>1</td>\n",
       "    </tr>\n",
       "    <tr>\n",
       "      <th>67</th>\n",
       "      <td>2022.06.08</td>\n",
       "      <td>IT클로즈업 오아시스마켓 신선식품 연합군 결성한 이유는 G 브리핑 위메이드 글로벌...</td>\n",
       "      <td>1</td>\n",
       "    </tr>\n",
       "    <tr>\n",
       "      <th>68</th>\n",
       "      <td>2022.04.21</td>\n",
       "      <td>빅딜 쓸어담는 NH투자증권 SK에코플랜트 주관사 낙점 대주주 사익추구 위한 쪼개기...</td>\n",
       "      <td>0</td>\n",
       "    </tr>\n",
       "    <tr>\n",
       "      <th>69</th>\n",
       "      <td>2021.12.05</td>\n",
       "      <td>내년 IPO 대어는 LG에너지솔루션 카카오엔터 등 출격 대기 성공확률 높이는 공모...</td>\n",
       "      <td>1</td>\n",
       "    </tr>\n",
       "  </tbody>\n",
       "</table>\n",
       "<p>70 rows × 3 columns</p>\n",
       "</div>"
      ],
      "text/plain": [
       "          date                                            content  label\n",
       "0   2021.11.28   단군 이래 IPO 최대 라는 LG엔솔 얼마나 크길래 김민석의 IPO브리핑 시가총액...      1\n",
       "1   2022.03.24   마켓컬리 드디어 출격 이커머스 3대장 IPO 시동건다 마켓컬리 오아시스마켓 실적 ...      1\n",
       "2   2021.12.12   2021결산 커머스 비대면 시대 위한 M A 합종연횡 격랑 속 이커머스 LG엔솔 ...      1\n",
       "3   2021.11.01   SSG 오아시스 컬리 새벽배송 업계 불붙은 IPO 레이스 상장 1호는 새벽배송 빅...      1\n",
       "4   2022.07.04   하반기 IPO 대어 줄줄이 출격한다 침체된 주식시장 구세주 될까쏘카 유니콘기업 최...      1\n",
       "..         ...                                                ...    ...\n",
       "65  2021.12.27   올해 IPO 20조 사상최대 임인년 30조 폭발 호랑이 기운 받는다 G마켓 옥션 ...      1\n",
       "66  2022.05.31   오아시스마켓 맛집 그대로 세상 맛집들의 모임 이젠 빵집까지 간편식의 세계 K OT...      1\n",
       "67  2022.06.08   IT클로즈업 오아시스마켓 신선식품 연합군 결성한 이유는 G 브리핑 위메이드 글로벌...      1\n",
       "68  2022.04.21   빅딜 쓸어담는 NH투자증권 SK에코플랜트 주관사 낙점 대주주 사익추구 위한 쪼개기...      0\n",
       "69  2021.12.05   내년 IPO 대어는 LG에너지솔루션 카카오엔터 등 출격 대기 성공확률 높이는 공모...      1\n",
       "\n",
       "[70 rows x 3 columns]"
      ]
     },
     "execution_count": 12,
     "metadata": {},
     "output_type": "execute_result"
    }
   ],
   "source": [
    "test"
   ]
  },
  {
   "cell_type": "markdown",
   "id": "4cbe2579",
   "metadata": {
    "ExecuteTime": {
     "end_time": "2022-10-08T06:50:55.769853Z",
     "start_time": "2022-10-08T06:50:55.763850Z"
    }
   },
   "source": [
    "from sklearn.model_selection import train_test_split\n",
    "X = df['content']\n",
    "y = df['label']\n",
    "\n",
    "X_train, X_test, y_train, y_test = train_test_split(X, y, test_size=0.2, shuffle=True, random_state=42)"
   ]
  },
  {
   "cell_type": "markdown",
   "id": "8d1e789c",
   "metadata": {
    "ExecuteTime": {
     "end_time": "2022-10-08T06:50:56.426852Z",
     "start_time": "2022-10-08T06:50:56.418850Z"
    }
   },
   "source": [
    "X_train"
   ]
  },
  {
   "cell_type": "markdown",
   "id": "47f87fc7",
   "metadata": {
    "ExecuteTime": {
     "end_time": "2022-10-08T06:50:57.281351Z",
     "start_time": "2022-10-08T06:50:57.269851Z"
    }
   },
   "source": [
    "X_test"
   ]
  },
  {
   "cell_type": "markdown",
   "id": "b5716383",
   "metadata": {},
   "source": [
    "### 토큰화 및 TF-IDF(Term Frequency-Inverse Document Frequency) 벡터화"
   ]
  },
  {
   "cell_type": "code",
   "execution_count": 13,
   "id": "a6c2bde6",
   "metadata": {
    "ExecuteTime": {
     "end_time": "2022-10-12T07:28:18.850553Z",
     "start_time": "2022-10-12T07:28:18.788619Z"
    }
   },
   "outputs": [],
   "source": [
    "# sklearn에서 배웠던 분류 모델들을 불러와봅니다.\n",
    "from sklearn.linear_model import SGDClassifier      # 1. Linear Classifier\n",
    "from sklearn.linear_model import LogisticRegression # 2. Logistic Regression\n",
    "from sklearn.tree import DecisionTreeClassifier     # 3. Decision Tree\n",
    "from sklearn.ensemble import RandomForestClassifier # 4. Random Forest\n",
    "\n",
    "# 평가 지표\n",
    "from sklearn.metrics import accuracy_score"
   ]
  },
  {
   "cell_type": "code",
   "execution_count": 15,
   "id": "00ac396d",
   "metadata": {
    "ExecuteTime": {
     "end_time": "2022-10-12T07:28:29.306307Z",
     "start_time": "2022-10-12T07:28:29.303317Z"
    }
   },
   "outputs": [],
   "source": [
    "X = train['content']\n",
    "y = train.label"
   ]
  },
  {
   "cell_type": "code",
   "execution_count": 20,
   "id": "cfcd5534",
   "metadata": {
    "ExecuteTime": {
     "end_time": "2022-10-12T07:32:53.579776Z",
     "start_time": "2022-10-12T07:32:52.526972Z"
    },
    "scrolled": true
   },
   "outputs": [
    {
     "name": "stdout",
     "output_type": "stream",
     "text": [
      "Logistic Regression 학습 성능 : 0.8852\n"
     ]
    }
   ],
   "source": [
    "max_features = 3000\n",
    "vectorizer = TfidfVectorizer(min_df=0.0, analyzer=\"char\", sublinear_tf=True, ngram_range=(1, 3), max_features=max_features)\n",
    "\n",
    "X_vec = vectorizer.fit_transform(X)\n",
    "\n",
    "lgs = LogisticRegression(class_weight='balanced')\n",
    "lgs.fit(X_vec, y)\n",
    "pred = lgs.predict(X_vec)\n",
    "print('Logistic Regression 학습 성능 : %.4f' % accuracy_score(y, pred))\n"
   ]
  },
  {
   "cell_type": "code",
   "execution_count": null,
   "id": "adb3ddbb",
   "metadata": {
    "ExecuteTime": {
     "end_time": "2022-10-12T06:58:19.189586Z",
     "start_time": "2022-10-12T06:58:18.181930Z"
    },
    "scrolled": true
   },
   "outputs": [],
   "source": [
    "max_features = 3000\n",
    "\n",
    "vectorizer = TfidfVectorizer(min_df=0.0, analyzer=\"char\", sublinear_tf=True, ngram_range=(1, 3), max_features=max_features)\n",
    "\n",
    "X = train['content']\n",
    "y = np.array(train.label)\n",
    "\n",
    "X_train, X_val, y_train, y_val = train_test_split(X, y, random_state=42)\n",
    "\n",
    "X_train = vectorizer.fit_transform(X_train)\n",
    "X_val = vectorizer.transform(X_val)\n",
    "\n",
    "# evals 변수 생성\n",
    "vals = [(X_val, y_val)]\n",
    "\n",
    "# lin_reg = LinearRegression()\n",
    "lgs = LogisticRegression(class_weight='balanced') # \n",
    "\n",
    "# lin_reg.fit(X_train, y_train)\n",
    "lgs.fit(X_train, y_train)\n",
    "\n",
    "# predicted = lin_reg.predict(X_val)\n",
    "predicted = lgs.predict(X_val)\n",
    "\n",
    "#     print(f\"Linear Regression      max_features: {max_features}, Accuracy: {lin_reg.score(X_val, y_val)}\" )\n",
    "print(f\"Logistic Regression      max_features: {max_features}, Accuracy: {lgs.score(X_val, y_val)}\" )\n",
    "# print(f1_score())\n"
   ]
  },
  {
   "cell_type": "code",
   "execution_count": null,
   "id": "178f3972",
   "metadata": {
    "ExecuteTime": {
     "end_time": "2022-10-12T06:53:53.110832Z",
     "start_time": "2022-10-12T06:53:53.104454Z"
    }
   },
   "outputs": [],
   "source": [
    "lgs.get_params()"
   ]
  },
  {
   "cell_type": "code",
   "execution_count": null,
   "id": "1ed12638",
   "metadata": {
    "ExecuteTime": {
     "end_time": "2022-10-12T06:44:35.319636Z",
     "start_time": "2022-10-12T06:44:35.314845Z"
    }
   },
   "outputs": [],
   "source": [
    "y_val.size"
   ]
  },
  {
   "cell_type": "code",
   "execution_count": null,
   "id": "7a29806c",
   "metadata": {
    "ExecuteTime": {
     "end_time": "2022-10-12T06:58:26.759825Z",
     "start_time": "2022-10-12T06:58:26.451150Z"
    },
    "scrolled": true
   },
   "outputs": [],
   "source": [
    "# Scikit-learn Wrapper XGBoost 클래스인 XGBClassifier 임포트\n",
    "from xgboost import XGBClassifier\n",
    "\n",
    "# evals 변수 생성\n",
    "vals = [(X_val, y_val)]\n",
    "\n",
    "# XGBClassifier 클래스의 객체 생성\n",
    "# xgb_wrapper = XGBClassifier(n_estimators=400, learning_rate=0.1, max_depth=5)\n",
    "# xgb_wrapper = XGBClassifier(learning_rate= 0.1, max_depth= 3, n_estimators= 200)\n",
    "\n",
    "# 모델 학습\n",
    "# xgb_wrapper.fit(X_train, y_train, early_stopping_rounds=400, eval_set=vals, eval_metric=\"logloss\",  verbose=True)\n",
    "\n",
    "# 예측\n",
    "# pred = xgb_wrapper.predict(X_val)\n",
    "\n",
    "# 평가 - 정확도 확인\n",
    "from sklearn.metrics import accuracy_score\n",
    "accuracy = accuracy_score(y_val, pred)\n",
    "print('인공 신경망 예측 정확도: {0:.4f}'.format(accuracy), '\\n')\n"
   ]
  },
  {
   "cell_type": "code",
   "execution_count": null,
   "id": "8eadcdd7",
   "metadata": {
    "ExecuteTime": {
     "end_time": "2022-10-12T06:58:41.839329Z",
     "start_time": "2022-10-12T06:58:41.612157Z"
    },
    "scrolled": true
   },
   "outputs": [],
   "source": [
    "from sklearn.model_selection import GridSearchCV\n",
    "\n",
    "params = {\n",
    "    'C': [0.1, 0.01, 0.001],\n",
    "    'max_iter' : [3, 5, 7],\n",
    "    'n_jobs' : [200, 400, 600]\n",
    "}\n",
    "\n",
    "grid_cv = GridSearchCV(lgs, param_grid=params, scoring='accuracy', cv=3, verbose=1)\n",
    "grid_cv.fit(X_train, y_train, eval_set=vals, eval_metric=\"logloss\", verbose=True)\n",
    "print('GridSearchCV 최고 평균 정확도 수치:{0:.4f}'.format(grid_cv.best_score_))\n",
    "print('GridSearchCV 최적 하이퍼 파라미터:', grid_cv.best_params_)\n"
   ]
  },
  {
   "cell_type": "code",
   "execution_count": null,
   "id": "77591855",
   "metadata": {
    "ExecuteTime": {
     "end_time": "2022-10-12T06:55:50.409969Z",
     "start_time": "2022-10-12T06:55:50.403488Z"
    }
   },
   "outputs": [],
   "source": [
    "grid_cv.get_params()"
   ]
  },
  {
   "cell_type": "code",
   "execution_count": null,
   "id": "64fc5a46",
   "metadata": {
    "ExecuteTime": {
     "end_time": "2022-10-12T06:28:06.216145Z",
     "start_time": "2022-10-12T06:28:05.148046Z"
    }
   },
   "outputs": [],
   "source": [
    "for max_features in range(100, 1000, 100):\n",
    "    vectorizer = TfidfVectorizer(min_df=0.0, analyzer=\"char\", sublinear_tf=True, ngram_range=(1, 3), max_features=max_features)\n",
    "\n",
    "    X = train['content']\n",
    "    y = np.array(train.label)\n",
    "    \n",
    "    X_train, X_val, y_train, y_val = train_test_split(X, y, random_state=42)\n",
    "    \n",
    "    X_train = vectorizer.fit_transform(X_train)\n",
    "    X_val = vectorizer.transform(X_val)\n",
    "    \n",
    "    lin_reg = LinearRegression()\n",
    "    lgs = LogisticRegression(class_weight='balanced') # \n",
    "    \n",
    "    lin_reg.fit(X_train, y_train)\n",
    "    lgs.fit(X_train, y_train)\n",
    "    \n",
    "    predicted = lin_reg.predict(X_val)\n",
    "    predicted = lgs.predict(X_val)\n",
    "    \n",
    "#     print(f\"Linear Regression      max_features: {max_features}, Accuracy: {lin_reg.score(X_val, y_val)}\" )\n",
    "    print(f\"Logistic Regression      max_features: {max_features}, Accuracy: {lgs.score(X_val, y_val)}\" )\n",
    "    print(f1_score(X_val, y_val, average='macro'))\n",
    "    "
   ]
  },
  {
   "cell_type": "code",
   "execution_count": null,
   "id": "be6e84fd",
   "metadata": {
    "ExecuteTime": {
     "end_time": "2022-10-11T09:20:06.034486Z",
     "start_time": "2022-10-11T09:20:05.971858Z"
    }
   },
   "outputs": [],
   "source": [
    "from sklearn.metrics import mean_squared_error\n",
    "\n",
    "y_train = lin_reg.predict(y_test)"
   ]
  },
  {
   "cell_type": "code",
   "execution_count": null,
   "id": "1fd89e90",
   "metadata": {
    "ExecuteTime": {
     "end_time": "2022-10-12T05:29:40.618592Z",
     "start_time": "2022-10-12T05:29:36.060040Z"
    }
   },
   "outputs": [],
   "source": [
    "# tf-idf 벡터화\n",
    "for max_features in range(100, 10000, 100):\n",
    "    vectorizer = TfidfVectorizer(min_df=0.0, analyzer=\"char\", sublinear_tf=True, ngram_range=(1, 3), max_features=max_features)\n",
    "\n",
    "    X = train['content']\n",
    "    y = np.array(train.label)\n",
    "\n",
    "    X_train, X_eval, y_train, y_eval = train_test_split(X, y, test_size=0.2, random_state=2)\n",
    "\n",
    "    X_train = vectorizer.fit_transform(X_train)\n",
    "    X_eval = vectorizer.transform(X_eval)\n",
    "    \n",
    "    lgs = LogisticRegression(class_weight='balanced')\n",
    "    naive = BernoulliNB()\n",
    "    sgd = SGDClassifier(random_state=42, n_jobs=-1)\n",
    "    rfc = RandomForestClassifier(random_state=42, n_jobs=-1)\n",
    "    svc = SVC(random_state=42)\n",
    "    ada = AdaBoostClassifier(random_state=42)\n",
    "    \n",
    "    lgs.fit(X_train, y_train)\n",
    "    naive.fit(X_train, y_train)\n",
    "    sgd.fit(X_train, y_train)\n",
    "    rfc.fit(X_train, y_train)\n",
    "    svc.fit(X_train, y_train)\n",
    "    ada.fit(X_train, y_train)\n",
    "    \n",
    "    predicted = lgs.predict(X_eval)\n",
    "    predicted = naive.predict(X_eval)\n",
    "    predicted = sgd.predict(X_eval)\n",
    "    predicted = rfc.predict(X_eval)\n",
    "    predicted = svc.predict(X_eval)\n",
    "    predicted = ada.predict(X_eval)\n",
    "    \n",
    "    print(f\"1. Logistic_Regression      max_features: {max_features}, Accuracy: {lgs.score(X_eval, y_eval)}\" )\n",
    "    print(f\"2. Naive_bayse             max_features: {max_features}, Accuracy: {naive.score(X_eval, y_eval)}\" )\n",
    "    print(f\"3. SGD                     max_features: {max_features}, Accuracy: {sgd.score(X_eval, y_eval)}\" )\n",
    "    print(f\"4. RandomForestClassifier  max_features: {max_features}, Accuracy: {rfc.score(X_eval, y_eval)}\" )\n",
    "    print(f\"5. SVC                     max_features: {max_features}, Accuracy: {svc.score(X_eval, y_eval)}\" )\n",
    "    print(f\"6. AdaBoost                max_features: {max_features}, Accuracy: {ada.score(X_eval, y_eval)}\" )\n",
    "    print('=======')"
   ]
  },
  {
   "cell_type": "code",
   "execution_count": null,
   "id": "86f605ee",
   "metadata": {
    "ExecuteTime": {
     "end_time": "2022-10-12T06:39:11.451573Z",
     "start_time": "2022-10-12T06:39:09.426246Z"
    }
   },
   "outputs": [],
   "source": [
    "from xgboost import XGBClassifier\n",
    "\n",
    "X = train['content']\n",
    "y = np.array(train.label)\n",
    "\n",
    "X_train, X_val, y_train, y_val = train_test_split(X, y, random_state=2)\n",
    "\n",
    "X_train = vectorizer.fit_transform(X_train)\n",
    "X_val = vectorizer.transform(X_val)\n",
    "\n",
    "# XGBClassifier 클래스의 객체 생성\n",
    "xgb = XGBClassifier(n_estimators=400, learning_rate=0.1, max_depth=5)\n",
    "\n",
    "# 모델 학습\n",
    "xgb.fit(X_train, y_train, early_stopping_rounds=400, eval_set=vals, eval_metric=\"logloss\",  verbose=True)\n",
    "\n",
    "# 예측\n",
    "predicted = xgb_wrapper.predict(X_val)\n",
    "\n",
    "# 평가 - 정확도 확인\n",
    "from sklearn.metrics import accuracy_score\n",
    "accuracy = accuracy_score(y_val, pred)\n",
    "print('인공 신경망 예측 정확도: {0:.4f}'.format(accuracy))\n"
   ]
  },
  {
   "cell_type": "code",
   "execution_count": null,
   "id": "8583c3e0",
   "metadata": {
    "ExecuteTime": {
     "end_time": "2022-10-09T11:26:11.953901Z",
     "start_time": "2022-10-09T11:26:05.772897Z"
    }
   },
   "outputs": [],
   "source": [
    "# 2600 - 3000 이 0.83으로 정확도가 가장 높게 나옴\n",
    "\n",
    "vectorizer = TfidfVectorizer(min_df = 0.0, analyzer=\"char\", sublinear_tf=True, ngram_range=(1,3), max_features=2600)\n",
    "\n",
    "X = train['content']\n",
    "y = np.array(train.label)\n",
    "\n",
    "X_train = vectorizer.fit_transform(X)\n",
    "X_test = vectorizer.transform(test['content'])\n",
    "lgs = LogisticRegression(class_weight='balanced')\n",
    "lgs.fit(X_train, y)\n",
    "predicted = lgs.predict(X_test)\n",
    "\n",
    "X_train = vectorizer.fit_transform(train['content'])\n",
    "X_test = vectorizer.transform(test['content'])\n",
    "y = np.array(train.label)\n",
    "\n",
    "# lgs = LogisticRegression(class_weight='balanced')\n",
    "# lgs.fit(X_train, y)\n",
    "# predicted = lgs.predict(X_test)\n",
    "rfc = RandomForestClassifier(random_state=42, n_jobs=-1)\n",
    "rfc.fit(X_train, y)\n",
    "predicted = rfc.predict(X_test)"
   ]
  },
  {
   "cell_type": "code",
   "execution_count": null,
   "id": "5731d68d",
   "metadata": {
    "ExecuteTime": {
     "end_time": "2022-10-09T11:26:17.337899Z",
     "start_time": "2022-10-09T11:26:17.331897Z"
    }
   },
   "outputs": [],
   "source": [
    "predicted"
   ]
  },
  {
   "cell_type": "code",
   "execution_count": null,
   "id": "fff2592e",
   "metadata": {
    "ExecuteTime": {
     "end_time": "2022-10-09T11:26:19.287897Z",
     "start_time": "2022-10-09T11:26:19.283898Z"
    }
   },
   "outputs": [],
   "source": [
    "a = predicted.tolist()\n",
    "b = np.array(test.label).tolist()"
   ]
  },
  {
   "cell_type": "code",
   "execution_count": null,
   "id": "dd55b290",
   "metadata": {
    "ExecuteTime": {
     "end_time": "2022-10-09T11:26:20.928899Z",
     "start_time": "2022-10-09T11:26:20.923897Z"
    }
   },
   "outputs": [],
   "source": [
    "c = [i for i,j in zip(a,b) if i == j]\n",
    "print(len(c))"
   ]
  },
  {
   "cell_type": "code",
   "execution_count": null,
   "id": "c7b13d5b",
   "metadata": {
    "ExecuteTime": {
     "end_time": "2022-10-09T11:26:22.489397Z",
     "start_time": "2022-10-09T11:26:22.483897Z"
    }
   },
   "outputs": [],
   "source": [
    "correct_ratio = len(c) / len(test) * 100\n",
    "correct_ratio"
   ]
  },
  {
   "cell_type": "code",
   "execution_count": null,
   "id": "77a606b2",
   "metadata": {
    "ExecuteTime": {
     "end_time": "2022-10-09T09:06:41.710004Z",
     "start_time": "2022-10-09T09:06:41.704504Z"
    }
   },
   "outputs": [],
   "source": [
    "news_feature = df.drop(columns = ['content'])"
   ]
  },
  {
   "cell_type": "code",
   "execution_count": null,
   "id": "f0cba2c6",
   "metadata": {
    "ExecuteTime": {
     "end_time": "2022-10-09T09:07:00.184505Z",
     "start_time": "2022-10-09T09:07:00.174505Z"
    }
   },
   "outputs": [],
   "source": [
    "news_feature.to_csv('news_feature.csv')"
   ]
  },
  {
   "cell_type": "code",
   "execution_count": null,
   "id": "6e5cad92",
   "metadata": {},
   "outputs": [],
   "source": []
  }
 ],
 "metadata": {
  "kernelspec": {
   "display_name": "Python 3 (ipykernel)",
   "language": "python",
   "name": "python3"
  },
  "language_info": {
   "codemirror_mode": {
    "name": "ipython",
    "version": 3
   },
   "file_extension": ".py",
   "mimetype": "text/x-python",
   "name": "python",
   "nbconvert_exporter": "python",
   "pygments_lexer": "ipython3",
   "version": "3.8.13"
  },
  "toc": {
   "base_numbering": 1,
   "nav_menu": {},
   "number_sections": false,
   "sideBar": true,
   "skip_h1_title": false,
   "title_cell": "Table of Contents",
   "title_sidebar": "Contents",
   "toc_cell": false,
   "toc_position": {},
   "toc_section_display": true,
   "toc_window_display": false
  }
 },
 "nbformat": 4,
 "nbformat_minor": 5
}
