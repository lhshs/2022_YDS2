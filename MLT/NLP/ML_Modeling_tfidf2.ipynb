{
 "cells": [
  {
   "cell_type": "markdown",
   "id": "f269c9ca",
   "metadata": {},
   "source": [
    "https://dacon.io/competitions/official/235864/codeshare/4229?page=1&dtype=recent\n"
   ]
  },
  {
   "cell_type": "code",
   "execution_count": 1,
   "id": "8b1a23f8",
   "metadata": {
    "ExecuteTime": {
     "end_time": "2022-10-12T06:58:15.501864Z",
     "start_time": "2022-10-12T06:58:15.143096Z"
    }
   },
   "outputs": [],
   "source": [
    "import pandas as pd\n",
    "import numpy as np\n",
    "import re\n",
    "\n",
    "from sklearn.feature_extraction.text import TfidfVectorizer\n",
    "\n",
    "from sklearn.model_selection import train_test_split\n"
   ]
  },
  {
   "cell_type": "code",
   "execution_count": null,
   "id": "80eea7e1",
   "metadata": {},
   "outputs": [],
   "source": []
  },
  {
   "cell_type": "code",
   "execution_count": 2,
   "id": "4567b9be",
   "metadata": {
    "ExecuteTime": {
     "end_time": "2022-10-12T06:58:15.621271Z",
     "start_time": "2022-10-12T06:58:15.503071Z"
    }
   },
   "outputs": [],
   "source": [
    "df = pd.read_excel('news_label.xlsx', engine='openpyxl')"
   ]
  },
  {
   "cell_type": "code",
   "execution_count": 3,
   "id": "fd66d057",
   "metadata": {
    "ExecuteTime": {
     "end_time": "2022-10-12T06:58:15.624566Z",
     "start_time": "2022-10-12T06:58:15.622089Z"
    }
   },
   "outputs": [],
   "source": [
    "df = df.rename(columns={'dates':'date', 'titles':'title','contents':'content'})\n",
    "df['content'] = df['title'] + df['content']"
   ]
  },
  {
   "cell_type": "code",
   "execution_count": 4,
   "id": "423625df",
   "metadata": {
    "ExecuteTime": {
     "end_time": "2022-10-12T06:58:15.628394Z",
     "start_time": "2022-10-12T06:58:15.625976Z"
    }
   },
   "outputs": [],
   "source": [
    "df = df.drop(columns=['근거', 'title'])"
   ]
  },
  {
   "cell_type": "code",
   "execution_count": 5,
   "id": "e6249a17",
   "metadata": {
    "ExecuteTime": {
     "end_time": "2022-10-12T06:58:15.636956Z",
     "start_time": "2022-10-12T06:58:15.629195Z"
    },
    "scrolled": false
   },
   "outputs": [
    {
     "data": {
      "text/html": [
       "<div>\n",
       "<style scoped>\n",
       "    .dataframe tbody tr th:only-of-type {\n",
       "        vertical-align: middle;\n",
       "    }\n",
       "\n",
       "    .dataframe tbody tr th {\n",
       "        vertical-align: top;\n",
       "    }\n",
       "\n",
       "    .dataframe thead th {\n",
       "        text-align: right;\n",
       "    }\n",
       "</style>\n",
       "<table border=\"1\" class=\"dataframe\">\n",
       "  <thead>\n",
       "    <tr style=\"text-align: right;\">\n",
       "      <th></th>\n",
       "      <th>date</th>\n",
       "      <th>content</th>\n",
       "      <th>label</th>\n",
       "    </tr>\n",
       "  </thead>\n",
       "  <tbody>\n",
       "    <tr>\n",
       "      <th>0</th>\n",
       "      <td>2021.10.05</td>\n",
       "      <td>[[톡톡 이상품] 한빛코리아 / 다지워 네이처 클렌징 솝]//[\\n마스카라까지 지우...</td>\n",
       "      <td>1</td>\n",
       "    </tr>\n",
       "    <tr>\n",
       "      <th>1</th>\n",
       "      <td>2021.10.07</td>\n",
       "      <td>[[격동의 유통가④]편의점 성장 정체…미래는 근거리 쇼핑]//[\"파괴적 커머스 시대...</td>\n",
       "      <td>1</td>\n",
       "    </tr>\n",
       "    <tr>\n",
       "      <th>2</th>\n",
       "      <td>2021.10.08</td>\n",
       "      <td>[株머니 매니저의 HOT종목]//[\\n\\n\\n\\n\\n 씨에스윈드는 풍력발전기를 구성...</td>\n",
       "      <td>1</td>\n",
       "    </tr>\n",
       "    <tr>\n",
       "      <th>3</th>\n",
       "      <td>2021.10.11</td>\n",
       "      <td>[김민수 더맘마 대표 \"동네마트와 '상생'이 경쟁력…30분 총알배송 목표\"]//[\\...</td>\n",
       "      <td>1</td>\n",
       "    </tr>\n",
       "    <tr>\n",
       "      <th>4</th>\n",
       "      <td>2021.10.13</td>\n",
       "      <td>[\"카카오 보고있나\"…진격의 네이버페이, 中 최대 직구몰 손잡았다]//[[주간투자동...</td>\n",
       "      <td>1</td>\n",
       "    </tr>\n",
       "    <tr>\n",
       "      <th>...</th>\n",
       "      <td>...</td>\n",
       "      <td>...</td>\n",
       "      <td>...</td>\n",
       "    </tr>\n",
       "    <tr>\n",
       "      <th>274</th>\n",
       "      <td>2022.09.23</td>\n",
       "      <td>[WCP 흥행 실패에 컬리, 케이뱅크 상장 시기 '안갯속']//[\\n심사 승인 났는...</td>\n",
       "      <td>0</td>\n",
       "    </tr>\n",
       "    <tr>\n",
       "      <th>275</th>\n",
       "      <td>2022.09.26</td>\n",
       "      <td>[[먹거리+IT] 네이처랩 오경주 대표, “맛있고 건강한 주스 추천 서비스를 개발합...</td>\n",
       "      <td>1</td>\n",
       "    </tr>\n",
       "    <tr>\n",
       "      <th>276</th>\n",
       "      <td>2022.09.27</td>\n",
       "      <td>[\"투자 늘렸는데 이제와서…\" 퀵커머스마저 규제하나 '초긴장']//[\\n■국감 오르...</td>\n",
       "      <td>0</td>\n",
       "    </tr>\n",
       "    <tr>\n",
       "      <th>277</th>\n",
       "      <td>2022.09.29</td>\n",
       "      <td>[국내 이커머스 상장 1호 주인공 누가될까 [격변의 이커머스①]]//[\\n이커머스 ...</td>\n",
       "      <td>0</td>\n",
       "    </tr>\n",
       "    <tr>\n",
       "      <th>278</th>\n",
       "      <td>2022.09.30</td>\n",
       "      <td>[오아시스마켓, 맞춤형 영상 콘텐츠 지원에 소상공인 매출 ‘쑥쑥’]//[\\n\"V 커...</td>\n",
       "      <td>1</td>\n",
       "    </tr>\n",
       "  </tbody>\n",
       "</table>\n",
       "<p>279 rows × 3 columns</p>\n",
       "</div>"
      ],
      "text/plain": [
       "           date                                            content  label\n",
       "0    2021.10.05  [[톡톡 이상품] 한빛코리아 / 다지워 네이처 클렌징 솝]//[\\n마스카라까지 지우...      1\n",
       "1    2021.10.07  [[격동의 유통가④]편의점 성장 정체…미래는 근거리 쇼핑]//[\"파괴적 커머스 시대...      1\n",
       "2    2021.10.08  [株머니 매니저의 HOT종목]//[\\n\\n\\n\\n\\n 씨에스윈드는 풍력발전기를 구성...      1\n",
       "3    2021.10.11  [김민수 더맘마 대표 \"동네마트와 '상생'이 경쟁력…30분 총알배송 목표\"]//[\\...      1\n",
       "4    2021.10.13  [\"카카오 보고있나\"…진격의 네이버페이, 中 최대 직구몰 손잡았다]//[[주간투자동...      1\n",
       "..          ...                                                ...    ...\n",
       "274  2022.09.23  [WCP 흥행 실패에 컬리, 케이뱅크 상장 시기 '안갯속']//[\\n심사 승인 났는...      0\n",
       "275  2022.09.26  [[먹거리+IT] 네이처랩 오경주 대표, “맛있고 건강한 주스 추천 서비스를 개발합...      1\n",
       "276  2022.09.27  [\"투자 늘렸는데 이제와서…\" 퀵커머스마저 규제하나 '초긴장']//[\\n■국감 오르...      0\n",
       "277  2022.09.29  [국내 이커머스 상장 1호 주인공 누가될까 [격변의 이커머스①]]//[\\n이커머스 ...      0\n",
       "278  2022.09.30  [오아시스마켓, 맞춤형 영상 콘텐츠 지원에 소상공인 매출 ‘쑥쑥’]//[\\n\"V 커...      1\n",
       "\n",
       "[279 rows x 3 columns]"
      ]
     },
     "execution_count": 5,
     "metadata": {},
     "output_type": "execute_result"
    }
   ],
   "source": [
    "df['label'] = df['label'].astype(int)\n",
    "df"
   ]
  },
  {
   "cell_type": "markdown",
   "id": "bc25d522",
   "metadata": {},
   "source": [
    "### 데이터 정제하기"
   ]
  },
  {
   "cell_type": "code",
   "execution_count": 6,
   "id": "eb2b810d",
   "metadata": {
    "ExecuteTime": {
     "end_time": "2022-10-12T06:58:15.749616Z",
     "start_time": "2022-10-12T06:58:15.637788Z"
    },
    "scrolled": false
   },
   "outputs": [
    {
     "name": "stderr",
     "output_type": "stream",
     "text": [
      "/var/folders/1d/lfkpl6ps02xgh0rdprtbmgvw0000gn/T/ipykernel_2223/2956849729.py:2: FutureWarning: The default value of regex will change from True to False in a future version.\n",
      "  df['content'] = df['content'].str.replace('[^가-힣a-zA-Z0-9_]',' ')\n",
      "/var/folders/1d/lfkpl6ps02xgh0rdprtbmgvw0000gn/T/ipykernel_2223/2956849729.py:4: FutureWarning: The default value of regex will change from True to False in a future version.\n",
      "  df['content'] = df['content'].str.replace(' +',' ')\n"
     ]
    },
    {
     "data": {
      "text/html": [
       "<div>\n",
       "<style scoped>\n",
       "    .dataframe tbody tr th:only-of-type {\n",
       "        vertical-align: middle;\n",
       "    }\n",
       "\n",
       "    .dataframe tbody tr th {\n",
       "        vertical-align: top;\n",
       "    }\n",
       "\n",
       "    .dataframe thead th {\n",
       "        text-align: right;\n",
       "    }\n",
       "</style>\n",
       "<table border=\"1\" class=\"dataframe\">\n",
       "  <thead>\n",
       "    <tr style=\"text-align: right;\">\n",
       "      <th></th>\n",
       "      <th>date</th>\n",
       "      <th>content</th>\n",
       "      <th>label</th>\n",
       "    </tr>\n",
       "  </thead>\n",
       "  <tbody>\n",
       "    <tr>\n",
       "      <th>0</th>\n",
       "      <td>2021.10.05</td>\n",
       "      <td>톡톡 이상품 한빛코리아 다지워 네이처 클렌징 솝 마스카라까지 지우는 세정비누 피부...</td>\n",
       "      <td>1</td>\n",
       "    </tr>\n",
       "    <tr>\n",
       "      <th>1</th>\n",
       "      <td>2021.10.07</td>\n",
       "      <td>격동의 유통가 편의점 성장 정체 미래는 근거리 쇼핑 파괴적 커머스 시대 데이터 경...</td>\n",
       "      <td>1</td>\n",
       "    </tr>\n",
       "    <tr>\n",
       "      <th>2</th>\n",
       "      <td>2021.10.08</td>\n",
       "      <td>머니 매니저의 HOT종목 씨에스윈드는 풍력발전기를 구성하는 타워 제작 및 설치를 ...</td>\n",
       "      <td>1</td>\n",
       "    </tr>\n",
       "    <tr>\n",
       "      <th>3</th>\n",
       "      <td>2021.10.11</td>\n",
       "      <td>김민수 더맘마 대표 동네마트와 상생 이 경쟁력 30분 총알배송 목표 별도 물류센터...</td>\n",
       "      <td>1</td>\n",
       "    </tr>\n",
       "    <tr>\n",
       "      <th>4</th>\n",
       "      <td>2021.10.13</td>\n",
       "      <td>카카오 보고있나 진격의 네이버페이 최대 직구몰 손잡았다 주간투자동향 파운트 400...</td>\n",
       "      <td>1</td>\n",
       "    </tr>\n",
       "    <tr>\n",
       "      <th>...</th>\n",
       "      <td>...</td>\n",
       "      <td>...</td>\n",
       "      <td>...</td>\n",
       "    </tr>\n",
       "    <tr>\n",
       "      <th>274</th>\n",
       "      <td>2022.09.23</td>\n",
       "      <td>WCP 흥행 실패에 컬리 케이뱅크 상장 시기 안갯속 심사 승인 났는데 IPO 감감...</td>\n",
       "      <td>0</td>\n",
       "    </tr>\n",
       "    <tr>\n",
       "      <th>275</th>\n",
       "      <td>2022.09.26</td>\n",
       "      <td>먹거리 IT 네이처랩 오경주 대표 맛있고 건강한 주스 추천 서비스를 개발합니다 서...</td>\n",
       "      <td>1</td>\n",
       "    </tr>\n",
       "    <tr>\n",
       "      <th>276</th>\n",
       "      <td>2022.09.27</td>\n",
       "      <td>투자 늘렸는데 이제와서 퀵커머스마저 규제하나 초긴장 국감 오르는 유통업 새 먹거리...</td>\n",
       "      <td>0</td>\n",
       "    </tr>\n",
       "    <tr>\n",
       "      <th>277</th>\n",
       "      <td>2022.09.29</td>\n",
       "      <td>국내 이커머스 상장 1호 주인공 누가될까 격변의 이커머스 이커머스 IPO 대전 흑...</td>\n",
       "      <td>0</td>\n",
       "    </tr>\n",
       "    <tr>\n",
       "      <th>278</th>\n",
       "      <td>2022.09.30</td>\n",
       "      <td>오아시스마켓 맞춤형 영상 콘텐츠 지원에 소상공인 매출 쑥쑥 V 커머스 지원 사업으...</td>\n",
       "      <td>1</td>\n",
       "    </tr>\n",
       "  </tbody>\n",
       "</table>\n",
       "<p>279 rows × 3 columns</p>\n",
       "</div>"
      ],
      "text/plain": [
       "           date                                            content  label\n",
       "0    2021.10.05   톡톡 이상품 한빛코리아 다지워 네이처 클렌징 솝 마스카라까지 지우는 세정비누 피부...      1\n",
       "1    2021.10.07   격동의 유통가 편의점 성장 정체 미래는 근거리 쇼핑 파괴적 커머스 시대 데이터 경...      1\n",
       "2    2021.10.08   머니 매니저의 HOT종목 씨에스윈드는 풍력발전기를 구성하는 타워 제작 및 설치를 ...      1\n",
       "3    2021.10.11   김민수 더맘마 대표 동네마트와 상생 이 경쟁력 30분 총알배송 목표 별도 물류센터...      1\n",
       "4    2021.10.13   카카오 보고있나 진격의 네이버페이 최대 직구몰 손잡았다 주간투자동향 파운트 400...      1\n",
       "..          ...                                                ...    ...\n",
       "274  2022.09.23   WCP 흥행 실패에 컬리 케이뱅크 상장 시기 안갯속 심사 승인 났는데 IPO 감감...      0\n",
       "275  2022.09.26   먹거리 IT 네이처랩 오경주 대표 맛있고 건강한 주스 추천 서비스를 개발합니다 서...      1\n",
       "276  2022.09.27   투자 늘렸는데 이제와서 퀵커머스마저 규제하나 초긴장 국감 오르는 유통업 새 먹거리...      0\n",
       "277  2022.09.29   국내 이커머스 상장 1호 주인공 누가될까 격변의 이커머스 이커머스 IPO 대전 흑...      0\n",
       "278  2022.09.30   오아시스마켓 맞춤형 영상 콘텐츠 지원에 소상공인 매출 쑥쑥 V 커머스 지원 사업으...      1\n",
       "\n",
       "[279 rows x 3 columns]"
      ]
     },
     "execution_count": 6,
     "metadata": {},
     "output_type": "execute_result"
    }
   ],
   "source": [
    "# 문자 외의 것들 제거\n",
    "df['content'] = df['content'].str.replace('[^가-힣a-zA-Z0-9_]',' ')\n",
    "# 혹시 모를 다중 공백 제거\n",
    "df['content'] = df['content'].str.replace(' +',' ') \n",
    "df"
   ]
  },
  {
   "cell_type": "code",
   "execution_count": 7,
   "id": "12343dfa",
   "metadata": {
    "ExecuteTime": {
     "end_time": "2022-10-12T06:58:15.752582Z",
     "start_time": "2022-10-12T06:58:15.750740Z"
    }
   },
   "outputs": [],
   "source": [
    "train = df"
   ]
  },
  {
   "cell_type": "code",
   "execution_count": 8,
   "id": "e719e536",
   "metadata": {
    "ExecuteTime": {
     "end_time": "2022-10-12T06:58:15.755875Z",
     "start_time": "2022-10-12T06:58:15.753324Z"
    }
   },
   "outputs": [],
   "source": [
    "train, test = train_test_split(train)\n",
    "train.reset_index(inplace=True) # 전처리 과정에서 데이터가 뒤섞이지 않도록 인덱스를 초기화해주었습니다.\n",
    "test.reset_index(inplace=True)"
   ]
  },
  {
   "cell_type": "code",
   "execution_count": 9,
   "id": "1c164cec",
   "metadata": {
    "ExecuteTime": {
     "end_time": "2022-10-12T06:58:15.758707Z",
     "start_time": "2022-10-12T06:58:15.756759Z"
    }
   },
   "outputs": [],
   "source": [
    "train = train.drop(['index'],axis=1)"
   ]
  },
  {
   "cell_type": "code",
   "execution_count": 10,
   "id": "243f10a6",
   "metadata": {
    "ExecuteTime": {
     "end_time": "2022-10-12T06:58:15.765149Z",
     "start_time": "2022-10-12T06:58:15.760885Z"
    }
   },
   "outputs": [
    {
     "data": {
      "text/html": [
       "<div>\n",
       "<style scoped>\n",
       "    .dataframe tbody tr th:only-of-type {\n",
       "        vertical-align: middle;\n",
       "    }\n",
       "\n",
       "    .dataframe tbody tr th {\n",
       "        vertical-align: top;\n",
       "    }\n",
       "\n",
       "    .dataframe thead th {\n",
       "        text-align: right;\n",
       "    }\n",
       "</style>\n",
       "<table border=\"1\" class=\"dataframe\">\n",
       "  <thead>\n",
       "    <tr style=\"text-align: right;\">\n",
       "      <th></th>\n",
       "      <th>date</th>\n",
       "      <th>content</th>\n",
       "      <th>label</th>\n",
       "    </tr>\n",
       "  </thead>\n",
       "  <tbody>\n",
       "    <tr>\n",
       "      <th>0</th>\n",
       "      <td>2022.05.16</td>\n",
       "      <td>대어도 잇단 무산 IPO 혹한기 상장 전략 비상 SK쉴더스 원스토어 상장 철회쏘카...</td>\n",
       "      <td>0</td>\n",
       "    </tr>\n",
       "    <tr>\n",
       "      <th>1</th>\n",
       "      <td>2022.09.04</td>\n",
       "      <td>식품 가전 특화 e커머스 결국 종합몰로 간다 무한 경쟁에 종합몰화 외형 확대 통한...</td>\n",
       "      <td>1</td>\n",
       "    </tr>\n",
       "    <tr>\n",
       "      <th>2</th>\n",
       "      <td>2022.01.07</td>\n",
       "      <td>위기가 기회 집콕 일상 돕는 모바일 앱 전성시대 2022년 전망 모바일 장보기 운...</td>\n",
       "      <td>1</td>\n",
       "    </tr>\n",
       "    <tr>\n",
       "      <th>3</th>\n",
       "      <td>2021.12.11</td>\n",
       "      <td>2021 이커머스 업계 합종연횡 새벽배송 기업 상장 앞으로 2021 결산 새 주인...</td>\n",
       "      <td>1</td>\n",
       "    </tr>\n",
       "    <tr>\n",
       "      <th>4</th>\n",
       "      <td>2022.05.31</td>\n",
       "      <td>오아시스마켓 맛집 그대로 세상 맛집들의 모임 이젠 빵집까지 간편식의 세계 K OT...</td>\n",
       "      <td>1</td>\n",
       "    </tr>\n",
       "    <tr>\n",
       "      <th>...</th>\n",
       "      <td>...</td>\n",
       "      <td>...</td>\n",
       "      <td>...</td>\n",
       "    </tr>\n",
       "    <tr>\n",
       "      <th>204</th>\n",
       "      <td>2021.10.08</td>\n",
       "      <td>머니 매니저의 HOT종목 씨에스윈드는 풍력발전기를 구성하는 타워 제작 및 설치를 ...</td>\n",
       "      <td>1</td>\n",
       "    </tr>\n",
       "    <tr>\n",
       "      <th>205</th>\n",
       "      <td>2022.04.20</td>\n",
       "      <td>승자 없는 새벽배송 전쟁 그 결말은 투자비 매출 롯데온 헬로네이처 철수대기업 위주...</td>\n",
       "      <td>0</td>\n",
       "    </tr>\n",
       "    <tr>\n",
       "      <th>206</th>\n",
       "      <td>2022.09.29</td>\n",
       "      <td>국내 이커머스 상장 1호 주인공 누가될까 격변의 이커머스 이커머스 IPO 대전 흑...</td>\n",
       "      <td>0</td>\n",
       "    </tr>\n",
       "    <tr>\n",
       "      <th>207</th>\n",
       "      <td>2022.06.10</td>\n",
       "      <td>제2의 루나사태 막는다 코인마켓 거래소들 공동 가이드라인 첫삽 한국디지털자산사업자...</td>\n",
       "      <td>0</td>\n",
       "    </tr>\n",
       "    <tr>\n",
       "      <th>208</th>\n",
       "      <td>2022.08.17</td>\n",
       "      <td>단독 동의없는 고무줄 근무 에 연장수당은 체불 이의제기엔 징계 새벽배송 안녕하신가...</td>\n",
       "      <td>0</td>\n",
       "    </tr>\n",
       "  </tbody>\n",
       "</table>\n",
       "<p>209 rows × 3 columns</p>\n",
       "</div>"
      ],
      "text/plain": [
       "           date                                            content  label\n",
       "0    2022.05.16   대어도 잇단 무산 IPO 혹한기 상장 전략 비상 SK쉴더스 원스토어 상장 철회쏘카...      0\n",
       "1    2022.09.04   식품 가전 특화 e커머스 결국 종합몰로 간다 무한 경쟁에 종합몰화 외형 확대 통한...      1\n",
       "2    2022.01.07   위기가 기회 집콕 일상 돕는 모바일 앱 전성시대 2022년 전망 모바일 장보기 운...      1\n",
       "3    2021.12.11   2021 이커머스 업계 합종연횡 새벽배송 기업 상장 앞으로 2021 결산 새 주인...      1\n",
       "4    2022.05.31   오아시스마켓 맛집 그대로 세상 맛집들의 모임 이젠 빵집까지 간편식의 세계 K OT...      1\n",
       "..          ...                                                ...    ...\n",
       "204  2021.10.08   머니 매니저의 HOT종목 씨에스윈드는 풍력발전기를 구성하는 타워 제작 및 설치를 ...      1\n",
       "205  2022.04.20   승자 없는 새벽배송 전쟁 그 결말은 투자비 매출 롯데온 헬로네이처 철수대기업 위주...      0\n",
       "206  2022.09.29   국내 이커머스 상장 1호 주인공 누가될까 격변의 이커머스 이커머스 IPO 대전 흑...      0\n",
       "207  2022.06.10   제2의 루나사태 막는다 코인마켓 거래소들 공동 가이드라인 첫삽 한국디지털자산사업자...      0\n",
       "208  2022.08.17   단독 동의없는 고무줄 근무 에 연장수당은 체불 이의제기엔 징계 새벽배송 안녕하신가...      0\n",
       "\n",
       "[209 rows x 3 columns]"
      ]
     },
     "execution_count": 10,
     "metadata": {},
     "output_type": "execute_result"
    }
   ],
   "source": [
    "train"
   ]
  },
  {
   "cell_type": "code",
   "execution_count": 11,
   "id": "7e3aa2e5",
   "metadata": {
    "ExecuteTime": {
     "end_time": "2022-10-12T06:58:15.769284Z",
     "start_time": "2022-10-12T06:58:15.766134Z"
    }
   },
   "outputs": [],
   "source": [
    "test = test.drop(['index'],axis=1)#.drop(['index'],axis=1) "
   ]
  },
  {
   "cell_type": "code",
   "execution_count": 12,
   "id": "ab1a6bcd",
   "metadata": {
    "ExecuteTime": {
     "end_time": "2022-10-12T06:58:15.774394Z",
     "start_time": "2022-10-12T06:58:15.770148Z"
    }
   },
   "outputs": [
    {
     "data": {
      "text/html": [
       "<div>\n",
       "<style scoped>\n",
       "    .dataframe tbody tr th:only-of-type {\n",
       "        vertical-align: middle;\n",
       "    }\n",
       "\n",
       "    .dataframe tbody tr th {\n",
       "        vertical-align: top;\n",
       "    }\n",
       "\n",
       "    .dataframe thead th {\n",
       "        text-align: right;\n",
       "    }\n",
       "</style>\n",
       "<table border=\"1\" class=\"dataframe\">\n",
       "  <thead>\n",
       "    <tr style=\"text-align: right;\">\n",
       "      <th></th>\n",
       "      <th>date</th>\n",
       "      <th>content</th>\n",
       "      <th>label</th>\n",
       "    </tr>\n",
       "  </thead>\n",
       "  <tbody>\n",
       "    <tr>\n",
       "      <th>0</th>\n",
       "      <td>2022.04.06</td>\n",
       "      <td>딱 하나만 파는 버티컬커머스 전문성 무기로 소비자 마음 잡았다 코로나 특수 유통업...</td>\n",
       "      <td>1</td>\n",
       "    </tr>\n",
       "    <tr>\n",
       "      <th>1</th>\n",
       "      <td>2022.09.08</td>\n",
       "      <td>기업가치 1 오아시스마켓 상장 예심 청구 올해 IPO 마켓컬리 이어 두번째 식품 ...</td>\n",
       "      <td>1</td>\n",
       "    </tr>\n",
       "    <tr>\n",
       "      <th>2</th>\n",
       "      <td>2021.12.15</td>\n",
       "      <td>각자도생 살길 찾는 1세대 이커머스 미스터아빠 데이웰즈 경북프레쉬 센터 설립 체결...</td>\n",
       "      <td>1</td>\n",
       "    </tr>\n",
       "    <tr>\n",
       "      <th>3</th>\n",
       "      <td>2022.06.09</td>\n",
       "      <td>점유율 뺏길까 새벽배송에 뛰어드는 유통 업계 IPO 걸림돌 될라 구주매출 없애는 ...</td>\n",
       "      <td>0</td>\n",
       "    </tr>\n",
       "    <tr>\n",
       "      <th>4</th>\n",
       "      <td>2021.12.10</td>\n",
       "      <td>오아시스마켓 통합물류센터 힘입어 새벽배송 유일 흑자 2021 스타브랜드 대상 위기...</td>\n",
       "      <td>1</td>\n",
       "    </tr>\n",
       "    <tr>\n",
       "      <th>...</th>\n",
       "      <td>...</td>\n",
       "      <td>...</td>\n",
       "      <td>...</td>\n",
       "    </tr>\n",
       "    <tr>\n",
       "      <th>65</th>\n",
       "      <td>2022.04.12</td>\n",
       "      <td>새벽배송 1호 컬리 목표 시총 6조지만 거품 논란도 케이뱅크 MZ세대 맞춤형 케이...</td>\n",
       "      <td>0</td>\n",
       "    </tr>\n",
       "    <tr>\n",
       "      <th>66</th>\n",
       "      <td>2021.10.18</td>\n",
       "      <td>네이버 카카오 3분기 맑음 규제 회초리에도 성장 멈추지 않아 각자의 길 정한 이커...</td>\n",
       "      <td>1</td>\n",
       "    </tr>\n",
       "    <tr>\n",
       "      <th>67</th>\n",
       "      <td>2021.10.21</td>\n",
       "      <td>오아시스부터 컬리까지 이커머스 업계 대세된 렌털 난각번호 1번 계란 주세요 비싸도...</td>\n",
       "      <td>1</td>\n",
       "    </tr>\n",
       "    <tr>\n",
       "      <th>68</th>\n",
       "      <td>2022.04.17</td>\n",
       "      <td>대기업도 출혈에 포기 새벽배송 재편 신호탄 임세령은 왜 정육각을 pick했나 대상...</td>\n",
       "      <td>0</td>\n",
       "    </tr>\n",
       "    <tr>\n",
       "      <th>69</th>\n",
       "      <td>2022.05.13</td>\n",
       "      <td>상장은 목표 아닌 성장 초석 전국구 오아시스 레벨업 터뷰 안준형 오아시스 대표 I...</td>\n",
       "      <td>1</td>\n",
       "    </tr>\n",
       "  </tbody>\n",
       "</table>\n",
       "<p>70 rows × 3 columns</p>\n",
       "</div>"
      ],
      "text/plain": [
       "          date                                            content  label\n",
       "0   2022.04.06   딱 하나만 파는 버티컬커머스 전문성 무기로 소비자 마음 잡았다 코로나 특수 유통업...      1\n",
       "1   2022.09.08   기업가치 1 오아시스마켓 상장 예심 청구 올해 IPO 마켓컬리 이어 두번째 식품 ...      1\n",
       "2   2021.12.15   각자도생 살길 찾는 1세대 이커머스 미스터아빠 데이웰즈 경북프레쉬 센터 설립 체결...      1\n",
       "3   2022.06.09   점유율 뺏길까 새벽배송에 뛰어드는 유통 업계 IPO 걸림돌 될라 구주매출 없애는 ...      0\n",
       "4   2021.12.10   오아시스마켓 통합물류센터 힘입어 새벽배송 유일 흑자 2021 스타브랜드 대상 위기...      1\n",
       "..         ...                                                ...    ...\n",
       "65  2022.04.12   새벽배송 1호 컬리 목표 시총 6조지만 거품 논란도 케이뱅크 MZ세대 맞춤형 케이...      0\n",
       "66  2021.10.18   네이버 카카오 3분기 맑음 규제 회초리에도 성장 멈추지 않아 각자의 길 정한 이커...      1\n",
       "67  2021.10.21   오아시스부터 컬리까지 이커머스 업계 대세된 렌털 난각번호 1번 계란 주세요 비싸도...      1\n",
       "68  2022.04.17   대기업도 출혈에 포기 새벽배송 재편 신호탄 임세령은 왜 정육각을 pick했나 대상...      0\n",
       "69  2022.05.13   상장은 목표 아닌 성장 초석 전국구 오아시스 레벨업 터뷰 안준형 오아시스 대표 I...      1\n",
       "\n",
       "[70 rows x 3 columns]"
      ]
     },
     "execution_count": 12,
     "metadata": {},
     "output_type": "execute_result"
    }
   ],
   "source": [
    "test"
   ]
  },
  {
   "cell_type": "markdown",
   "id": "4cbe2579",
   "metadata": {
    "ExecuteTime": {
     "end_time": "2022-10-08T06:50:55.769853Z",
     "start_time": "2022-10-08T06:50:55.763850Z"
    }
   },
   "source": [
    "from sklearn.model_selection import train_test_split\n",
    "X = df['content']\n",
    "y = df['label']\n",
    "\n",
    "X_train, X_test, y_train, y_test = train_test_split(X, y, test_size=0.2, shuffle=True, random_state=42)"
   ]
  },
  {
   "cell_type": "markdown",
   "id": "8d1e789c",
   "metadata": {
    "ExecuteTime": {
     "end_time": "2022-10-08T06:50:56.426852Z",
     "start_time": "2022-10-08T06:50:56.418850Z"
    }
   },
   "source": [
    "X_train"
   ]
  },
  {
   "cell_type": "markdown",
   "id": "47f87fc7",
   "metadata": {
    "ExecuteTime": {
     "end_time": "2022-10-08T06:50:57.281351Z",
     "start_time": "2022-10-08T06:50:57.269851Z"
    }
   },
   "source": [
    "X_test"
   ]
  },
  {
   "cell_type": "markdown",
   "id": "b5716383",
   "metadata": {},
   "source": [
    "### 토큰화 및 TF-IDF(Term Frequency-Inverse Document Frequency) 벡터화"
   ]
  },
  {
   "cell_type": "code",
   "execution_count": 13,
   "id": "5ac18d34",
   "metadata": {
    "ExecuteTime": {
     "end_time": "2022-10-12T06:58:15.803850Z",
     "start_time": "2022-10-12T06:58:15.775134Z"
    }
   },
   "outputs": [],
   "source": [
    "from sklearn.linear_model import LogisticRegression\n",
    "from sklearn.naive_bayes import BernoulliNB\n",
    "from sklearn.linear_model import SGDClassifier\n",
    "from sklearn.ensemble import RandomForestClassifier, AdaBoostClassifier\n",
    "from sklearn.svm import SVC\n",
    "\n",
    "from sklearn.linear_model import LinearRegression"
   ]
  },
  {
   "cell_type": "code",
   "execution_count": 14,
   "id": "93ea7395",
   "metadata": {
    "ExecuteTime": {
     "end_time": "2022-10-12T06:58:15.806648Z",
     "start_time": "2022-10-12T06:58:15.804831Z"
    }
   },
   "outputs": [],
   "source": [
    "test= test.drop(['label'],axis=1)"
   ]
  },
  {
   "cell_type": "code",
   "execution_count": 15,
   "id": "419fd8a9",
   "metadata": {
    "ExecuteTime": {
     "end_time": "2022-10-12T06:58:15.811580Z",
     "start_time": "2022-10-12T06:58:15.807551Z"
    }
   },
   "outputs": [
    {
     "data": {
      "text/html": [
       "<div>\n",
       "<style scoped>\n",
       "    .dataframe tbody tr th:only-of-type {\n",
       "        vertical-align: middle;\n",
       "    }\n",
       "\n",
       "    .dataframe tbody tr th {\n",
       "        vertical-align: top;\n",
       "    }\n",
       "\n",
       "    .dataframe thead th {\n",
       "        text-align: right;\n",
       "    }\n",
       "</style>\n",
       "<table border=\"1\" class=\"dataframe\">\n",
       "  <thead>\n",
       "    <tr style=\"text-align: right;\">\n",
       "      <th></th>\n",
       "      <th>date</th>\n",
       "      <th>content</th>\n",
       "    </tr>\n",
       "  </thead>\n",
       "  <tbody>\n",
       "    <tr>\n",
       "      <th>0</th>\n",
       "      <td>2022.04.06</td>\n",
       "      <td>딱 하나만 파는 버티컬커머스 전문성 무기로 소비자 마음 잡았다 코로나 특수 유통업...</td>\n",
       "    </tr>\n",
       "    <tr>\n",
       "      <th>1</th>\n",
       "      <td>2022.09.08</td>\n",
       "      <td>기업가치 1 오아시스마켓 상장 예심 청구 올해 IPO 마켓컬리 이어 두번째 식품 ...</td>\n",
       "    </tr>\n",
       "    <tr>\n",
       "      <th>2</th>\n",
       "      <td>2021.12.15</td>\n",
       "      <td>각자도생 살길 찾는 1세대 이커머스 미스터아빠 데이웰즈 경북프레쉬 센터 설립 체결...</td>\n",
       "    </tr>\n",
       "    <tr>\n",
       "      <th>3</th>\n",
       "      <td>2022.06.09</td>\n",
       "      <td>점유율 뺏길까 새벽배송에 뛰어드는 유통 업계 IPO 걸림돌 될라 구주매출 없애는 ...</td>\n",
       "    </tr>\n",
       "    <tr>\n",
       "      <th>4</th>\n",
       "      <td>2021.12.10</td>\n",
       "      <td>오아시스마켓 통합물류센터 힘입어 새벽배송 유일 흑자 2021 스타브랜드 대상 위기...</td>\n",
       "    </tr>\n",
       "    <tr>\n",
       "      <th>...</th>\n",
       "      <td>...</td>\n",
       "      <td>...</td>\n",
       "    </tr>\n",
       "    <tr>\n",
       "      <th>65</th>\n",
       "      <td>2022.04.12</td>\n",
       "      <td>새벽배송 1호 컬리 목표 시총 6조지만 거품 논란도 케이뱅크 MZ세대 맞춤형 케이...</td>\n",
       "    </tr>\n",
       "    <tr>\n",
       "      <th>66</th>\n",
       "      <td>2021.10.18</td>\n",
       "      <td>네이버 카카오 3분기 맑음 규제 회초리에도 성장 멈추지 않아 각자의 길 정한 이커...</td>\n",
       "    </tr>\n",
       "    <tr>\n",
       "      <th>67</th>\n",
       "      <td>2021.10.21</td>\n",
       "      <td>오아시스부터 컬리까지 이커머스 업계 대세된 렌털 난각번호 1번 계란 주세요 비싸도...</td>\n",
       "    </tr>\n",
       "    <tr>\n",
       "      <th>68</th>\n",
       "      <td>2022.04.17</td>\n",
       "      <td>대기업도 출혈에 포기 새벽배송 재편 신호탄 임세령은 왜 정육각을 pick했나 대상...</td>\n",
       "    </tr>\n",
       "    <tr>\n",
       "      <th>69</th>\n",
       "      <td>2022.05.13</td>\n",
       "      <td>상장은 목표 아닌 성장 초석 전국구 오아시스 레벨업 터뷰 안준형 오아시스 대표 I...</td>\n",
       "    </tr>\n",
       "  </tbody>\n",
       "</table>\n",
       "<p>70 rows × 2 columns</p>\n",
       "</div>"
      ],
      "text/plain": [
       "          date                                            content\n",
       "0   2022.04.06   딱 하나만 파는 버티컬커머스 전문성 무기로 소비자 마음 잡았다 코로나 특수 유통업...\n",
       "1   2022.09.08   기업가치 1 오아시스마켓 상장 예심 청구 올해 IPO 마켓컬리 이어 두번째 식품 ...\n",
       "2   2021.12.15   각자도생 살길 찾는 1세대 이커머스 미스터아빠 데이웰즈 경북프레쉬 센터 설립 체결...\n",
       "3   2022.06.09   점유율 뺏길까 새벽배송에 뛰어드는 유통 업계 IPO 걸림돌 될라 구주매출 없애는 ...\n",
       "4   2021.12.10   오아시스마켓 통합물류센터 힘입어 새벽배송 유일 흑자 2021 스타브랜드 대상 위기...\n",
       "..         ...                                                ...\n",
       "65  2022.04.12   새벽배송 1호 컬리 목표 시총 6조지만 거품 논란도 케이뱅크 MZ세대 맞춤형 케이...\n",
       "66  2021.10.18   네이버 카카오 3분기 맑음 규제 회초리에도 성장 멈추지 않아 각자의 길 정한 이커...\n",
       "67  2021.10.21   오아시스부터 컬리까지 이커머스 업계 대세된 렌털 난각번호 1번 계란 주세요 비싸도...\n",
       "68  2022.04.17   대기업도 출혈에 포기 새벽배송 재편 신호탄 임세령은 왜 정육각을 pick했나 대상...\n",
       "69  2022.05.13   상장은 목표 아닌 성장 초석 전국구 오아시스 레벨업 터뷰 안준형 오아시스 대표 I...\n",
       "\n",
       "[70 rows x 2 columns]"
      ]
     },
     "execution_count": 15,
     "metadata": {},
     "output_type": "execute_result"
    }
   ],
   "source": [
    "test"
   ]
  },
  {
   "cell_type": "code",
   "execution_count": 16,
   "id": "157ec3db",
   "metadata": {
    "ExecuteTime": {
     "end_time": "2022-10-12T06:58:15.814610Z",
     "start_time": "2022-10-12T06:58:15.812657Z"
    }
   },
   "outputs": [],
   "source": [
    "from sklearn.metrics import f1_score"
   ]
  },
  {
   "cell_type": "code",
   "execution_count": 17,
   "id": "adb3ddbb",
   "metadata": {
    "ExecuteTime": {
     "end_time": "2022-10-12T06:58:19.189586Z",
     "start_time": "2022-10-12T06:58:18.181930Z"
    },
    "scrolled": true
   },
   "outputs": [
    {
     "name": "stdout",
     "output_type": "stream",
     "text": [
      "Logistic Regression      max_features: 3000, Accuracy: 0.7358490566037735\n"
     ]
    }
   ],
   "source": [
    "max_features = 3000\n",
    "\n",
    "vectorizer = TfidfVectorizer(min_df=0.0, analyzer=\"char\", sublinear_tf=True, ngram_range=(1, 3), max_features=max_features)\n",
    "\n",
    "X = train['content']\n",
    "y = np.array(train.label)\n",
    "\n",
    "X_train, X_val, y_train, y_val = train_test_split(X, y, random_state=42)\n",
    "\n",
    "X_train = vectorizer.fit_transform(X_train)\n",
    "X_val = vectorizer.transform(X_val)\n",
    "\n",
    "# evals 변수 생성\n",
    "vals = [(X_val, y_val)]\n",
    "\n",
    "# lin_reg = LinearRegression()\n",
    "lgs = LogisticRegression(class_weight='balanced') # \n",
    "\n",
    "# lin_reg.fit(X_train, y_train)\n",
    "lgs.fit(X_train, y_train)\n",
    "\n",
    "# predicted = lin_reg.predict(X_val)\n",
    "predicted = lgs.predict(X_val)\n",
    "\n",
    "#     print(f\"Linear Regression      max_features: {max_features}, Accuracy: {lin_reg.score(X_val, y_val)}\" )\n",
    "print(f\"Logistic Regression      max_features: {max_features}, Accuracy: {lgs.score(X_val, y_val)}\" )\n",
    "# print(f1_score())\n"
   ]
  },
  {
   "cell_type": "code",
   "execution_count": null,
   "id": "178f3972",
   "metadata": {
    "ExecuteTime": {
     "end_time": "2022-10-12T06:53:53.110832Z",
     "start_time": "2022-10-12T06:53:53.104454Z"
    }
   },
   "outputs": [],
   "source": [
    "lgs.get_params()"
   ]
  },
  {
   "cell_type": "code",
   "execution_count": null,
   "id": "1ed12638",
   "metadata": {
    "ExecuteTime": {
     "end_time": "2022-10-12T06:44:35.319636Z",
     "start_time": "2022-10-12T06:44:35.314845Z"
    }
   },
   "outputs": [],
   "source": [
    "y_val.size"
   ]
  },
  {
   "cell_type": "code",
   "execution_count": 18,
   "id": "7a29806c",
   "metadata": {
    "ExecuteTime": {
     "end_time": "2022-10-12T06:58:26.759825Z",
     "start_time": "2022-10-12T06:58:26.451150Z"
    },
    "scrolled": true
   },
   "outputs": [
    {
     "ename": "NameError",
     "evalue": "name 'xgb_wrapper' is not defined",
     "output_type": "error",
     "traceback": [
      "\u001b[0;31m---------------------------------------------------------------------------\u001b[0m",
      "\u001b[0;31mNameError\u001b[0m                                 Traceback (most recent call last)",
      "Input \u001b[0;32mIn [18]\u001b[0m, in \u001b[0;36m<cell line: 15>\u001b[0;34m()\u001b[0m\n\u001b[1;32m      5\u001b[0m vals \u001b[38;5;241m=\u001b[39m [(X_val, y_val)]\n\u001b[1;32m      7\u001b[0m \u001b[38;5;66;03m# XGBClassifier 클래스의 객체 생성\u001b[39;00m\n\u001b[1;32m      8\u001b[0m \u001b[38;5;66;03m# xgb_wrapper = XGBClassifier(n_estimators=400, learning_rate=0.1, max_depth=5)\u001b[39;00m\n\u001b[1;32m      9\u001b[0m \u001b[38;5;66;03m# xgb_wrapper = XGBClassifier(learning_rate= 0.1, max_depth= 3, n_estimators= 200)\u001b[39;00m\n\u001b[0;32m   (...)\u001b[0m\n\u001b[1;32m     13\u001b[0m \n\u001b[1;32m     14\u001b[0m \u001b[38;5;66;03m# 예측\u001b[39;00m\n\u001b[0;32m---> 15\u001b[0m pred \u001b[38;5;241m=\u001b[39m \u001b[43mxgb_wrapper\u001b[49m\u001b[38;5;241m.\u001b[39mpredict(X_val)\n\u001b[1;32m     17\u001b[0m \u001b[38;5;66;03m# 평가 - 정확도 확인\u001b[39;00m\n\u001b[1;32m     18\u001b[0m \u001b[38;5;28;01mfrom\u001b[39;00m \u001b[38;5;21;01msklearn\u001b[39;00m\u001b[38;5;21;01m.\u001b[39;00m\u001b[38;5;21;01mmetrics\u001b[39;00m \u001b[38;5;28;01mimport\u001b[39;00m accuracy_score\n",
      "\u001b[0;31mNameError\u001b[0m: name 'xgb_wrapper' is not defined"
     ]
    }
   ],
   "source": [
    "# Scikit-learn Wrapper XGBoost 클래스인 XGBClassifier 임포트\n",
    "from xgboost import XGBClassifier\n",
    "\n",
    "# evals 변수 생성\n",
    "vals = [(X_val, y_val)]\n",
    "\n",
    "# XGBClassifier 클래스의 객체 생성\n",
    "# xgb_wrapper = XGBClassifier(n_estimators=400, learning_rate=0.1, max_depth=5)\n",
    "# xgb_wrapper = XGBClassifier(learning_rate= 0.1, max_depth= 3, n_estimators= 200)\n",
    "\n",
    "# 모델 학습\n",
    "# xgb_wrapper.fit(X_train, y_train, early_stopping_rounds=400, eval_set=vals, eval_metric=\"logloss\",  verbose=True)\n",
    "\n",
    "# 예측\n",
    "# pred = xgb_wrapper.predict(X_val)\n",
    "\n",
    "# 평가 - 정확도 확인\n",
    "from sklearn.metrics import accuracy_score\n",
    "accuracy = accuracy_score(y_val, pred)\n",
    "print('인공 신경망 예측 정확도: {0:.4f}'.format(accuracy), '\\n')\n"
   ]
  },
  {
   "cell_type": "code",
   "execution_count": 19,
   "id": "8eadcdd7",
   "metadata": {
    "ExecuteTime": {
     "end_time": "2022-10-12T06:58:41.839329Z",
     "start_time": "2022-10-12T06:58:41.612157Z"
    },
    "scrolled": true
   },
   "outputs": [
    {
     "name": "stdout",
     "output_type": "stream",
     "text": [
      "Fitting 3 folds for each of 27 candidates, totalling 81 fits\n"
     ]
    },
    {
     "ename": "ValueError",
     "evalue": "\nAll the 81 fits failed.\nIt is very likely that your model is misconfigured.\nYou can try to debug the error by setting error_score='raise'.\n\nBelow are more details about the failures:\n--------------------------------------------------------------------------------\n81 fits failed with the following error:\nTraceback (most recent call last):\n  File \"/Users/lhs/miniforge3/envs/lhs/lib/python3.8/site-packages/sklearn/model_selection/_validation.py\", line 686, in _fit_and_score\n    estimator.fit(X_train, y_train, **fit_params)\nTypeError: fit() got an unexpected keyword argument 'eval_set'\n",
     "output_type": "error",
     "traceback": [
      "\u001b[0;31m---------------------------------------------------------------------------\u001b[0m",
      "\u001b[0;31mValueError\u001b[0m                                Traceback (most recent call last)",
      "Input \u001b[0;32mIn [19]\u001b[0m, in \u001b[0;36m<cell line: 10>\u001b[0;34m()\u001b[0m\n\u001b[1;32m      3\u001b[0m params \u001b[38;5;241m=\u001b[39m {\n\u001b[1;32m      4\u001b[0m     \u001b[38;5;124m'\u001b[39m\u001b[38;5;124mC\u001b[39m\u001b[38;5;124m'\u001b[39m: [\u001b[38;5;241m0.1\u001b[39m, \u001b[38;5;241m0.01\u001b[39m, \u001b[38;5;241m0.001\u001b[39m],\n\u001b[1;32m      5\u001b[0m     \u001b[38;5;124m'\u001b[39m\u001b[38;5;124mmax_iter\u001b[39m\u001b[38;5;124m'\u001b[39m : [\u001b[38;5;241m3\u001b[39m, \u001b[38;5;241m5\u001b[39m, \u001b[38;5;241m7\u001b[39m],\n\u001b[1;32m      6\u001b[0m     \u001b[38;5;124m'\u001b[39m\u001b[38;5;124mn_jobs\u001b[39m\u001b[38;5;124m'\u001b[39m : [\u001b[38;5;241m200\u001b[39m, \u001b[38;5;241m400\u001b[39m, \u001b[38;5;241m600\u001b[39m]\n\u001b[1;32m      7\u001b[0m }\n\u001b[1;32m      9\u001b[0m grid_cv \u001b[38;5;241m=\u001b[39m GridSearchCV(lgs, param_grid\u001b[38;5;241m=\u001b[39mparams, scoring\u001b[38;5;241m=\u001b[39m\u001b[38;5;124m'\u001b[39m\u001b[38;5;124maccuracy\u001b[39m\u001b[38;5;124m'\u001b[39m, cv\u001b[38;5;241m=\u001b[39m\u001b[38;5;241m3\u001b[39m, verbose\u001b[38;5;241m=\u001b[39m\u001b[38;5;241m1\u001b[39m)\n\u001b[0;32m---> 10\u001b[0m \u001b[43mgrid_cv\u001b[49m\u001b[38;5;241;43m.\u001b[39;49m\u001b[43mfit\u001b[49m\u001b[43m(\u001b[49m\u001b[43mX_train\u001b[49m\u001b[43m,\u001b[49m\u001b[43m \u001b[49m\u001b[43my_train\u001b[49m\u001b[43m,\u001b[49m\u001b[43m \u001b[49m\u001b[43meval_set\u001b[49m\u001b[38;5;241;43m=\u001b[39;49m\u001b[43mvals\u001b[49m\u001b[43m,\u001b[49m\u001b[43m \u001b[49m\u001b[43meval_metric\u001b[49m\u001b[38;5;241;43m=\u001b[39;49m\u001b[38;5;124;43m\"\u001b[39;49m\u001b[38;5;124;43mlogloss\u001b[39;49m\u001b[38;5;124;43m\"\u001b[39;49m\u001b[43m,\u001b[49m\u001b[43m \u001b[49m\u001b[43mverbose\u001b[49m\u001b[38;5;241;43m=\u001b[39;49m\u001b[38;5;28;43;01mTrue\u001b[39;49;00m\u001b[43m)\u001b[49m\n\u001b[1;32m     11\u001b[0m \u001b[38;5;28mprint\u001b[39m(\u001b[38;5;124m'\u001b[39m\u001b[38;5;124mGridSearchCV 최고 평균 정확도 수치:\u001b[39m\u001b[38;5;132;01m{0:.4f}\u001b[39;00m\u001b[38;5;124m'\u001b[39m\u001b[38;5;241m.\u001b[39mformat(grid_cv\u001b[38;5;241m.\u001b[39mbest_score_))\n\u001b[1;32m     12\u001b[0m \u001b[38;5;28mprint\u001b[39m(\u001b[38;5;124m'\u001b[39m\u001b[38;5;124mGridSearchCV 최적 하이퍼 파라미터:\u001b[39m\u001b[38;5;124m'\u001b[39m, grid_cv\u001b[38;5;241m.\u001b[39mbest_params_)\n",
      "File \u001b[0;32m~/miniforge3/envs/lhs/lib/python3.8/site-packages/sklearn/model_selection/_search.py:875\u001b[0m, in \u001b[0;36mBaseSearchCV.fit\u001b[0;34m(self, X, y, groups, **fit_params)\u001b[0m\n\u001b[1;32m    869\u001b[0m     results \u001b[38;5;241m=\u001b[39m \u001b[38;5;28mself\u001b[39m\u001b[38;5;241m.\u001b[39m_format_results(\n\u001b[1;32m    870\u001b[0m         all_candidate_params, n_splits, all_out, all_more_results\n\u001b[1;32m    871\u001b[0m     )\n\u001b[1;32m    873\u001b[0m     \u001b[38;5;28;01mreturn\u001b[39;00m results\n\u001b[0;32m--> 875\u001b[0m \u001b[38;5;28;43mself\u001b[39;49m\u001b[38;5;241;43m.\u001b[39;49m\u001b[43m_run_search\u001b[49m\u001b[43m(\u001b[49m\u001b[43mevaluate_candidates\u001b[49m\u001b[43m)\u001b[49m\n\u001b[1;32m    877\u001b[0m \u001b[38;5;66;03m# multimetric is determined here because in the case of a callable\u001b[39;00m\n\u001b[1;32m    878\u001b[0m \u001b[38;5;66;03m# self.scoring the return type is only known after calling\u001b[39;00m\n\u001b[1;32m    879\u001b[0m first_test_score \u001b[38;5;241m=\u001b[39m all_out[\u001b[38;5;241m0\u001b[39m][\u001b[38;5;124m\"\u001b[39m\u001b[38;5;124mtest_scores\u001b[39m\u001b[38;5;124m\"\u001b[39m]\n",
      "File \u001b[0;32m~/miniforge3/envs/lhs/lib/python3.8/site-packages/sklearn/model_selection/_search.py:1375\u001b[0m, in \u001b[0;36mGridSearchCV._run_search\u001b[0;34m(self, evaluate_candidates)\u001b[0m\n\u001b[1;32m   1373\u001b[0m \u001b[38;5;28;01mdef\u001b[39;00m \u001b[38;5;21m_run_search\u001b[39m(\u001b[38;5;28mself\u001b[39m, evaluate_candidates):\n\u001b[1;32m   1374\u001b[0m     \u001b[38;5;124;03m\"\"\"Search all candidates in param_grid\"\"\"\u001b[39;00m\n\u001b[0;32m-> 1375\u001b[0m     \u001b[43mevaluate_candidates\u001b[49m\u001b[43m(\u001b[49m\u001b[43mParameterGrid\u001b[49m\u001b[43m(\u001b[49m\u001b[38;5;28;43mself\u001b[39;49m\u001b[38;5;241;43m.\u001b[39;49m\u001b[43mparam_grid\u001b[49m\u001b[43m)\u001b[49m\u001b[43m)\u001b[49m\n",
      "File \u001b[0;32m~/miniforge3/envs/lhs/lib/python3.8/site-packages/sklearn/model_selection/_search.py:852\u001b[0m, in \u001b[0;36mBaseSearchCV.fit.<locals>.evaluate_candidates\u001b[0;34m(candidate_params, cv, more_results)\u001b[0m\n\u001b[1;32m    845\u001b[0m \u001b[38;5;28;01melif\u001b[39;00m \u001b[38;5;28mlen\u001b[39m(out) \u001b[38;5;241m!=\u001b[39m n_candidates \u001b[38;5;241m*\u001b[39m n_splits:\n\u001b[1;32m    846\u001b[0m     \u001b[38;5;28;01mraise\u001b[39;00m \u001b[38;5;167;01mValueError\u001b[39;00m(\n\u001b[1;32m    847\u001b[0m         \u001b[38;5;124m\"\u001b[39m\u001b[38;5;124mcv.split and cv.get_n_splits returned \u001b[39m\u001b[38;5;124m\"\u001b[39m\n\u001b[1;32m    848\u001b[0m         \u001b[38;5;124m\"\u001b[39m\u001b[38;5;124minconsistent results. Expected \u001b[39m\u001b[38;5;132;01m{}\u001b[39;00m\u001b[38;5;124m \u001b[39m\u001b[38;5;124m\"\u001b[39m\n\u001b[1;32m    849\u001b[0m         \u001b[38;5;124m\"\u001b[39m\u001b[38;5;124msplits, got \u001b[39m\u001b[38;5;132;01m{}\u001b[39;00m\u001b[38;5;124m\"\u001b[39m\u001b[38;5;241m.\u001b[39mformat(n_splits, \u001b[38;5;28mlen\u001b[39m(out) \u001b[38;5;241m/\u001b[39m\u001b[38;5;241m/\u001b[39m n_candidates)\n\u001b[1;32m    850\u001b[0m     )\n\u001b[0;32m--> 852\u001b[0m \u001b[43m_warn_or_raise_about_fit_failures\u001b[49m\u001b[43m(\u001b[49m\u001b[43mout\u001b[49m\u001b[43m,\u001b[49m\u001b[43m \u001b[49m\u001b[38;5;28;43mself\u001b[39;49m\u001b[38;5;241;43m.\u001b[39;49m\u001b[43merror_score\u001b[49m\u001b[43m)\u001b[49m\n\u001b[1;32m    854\u001b[0m \u001b[38;5;66;03m# For callable self.scoring, the return type is only know after\u001b[39;00m\n\u001b[1;32m    855\u001b[0m \u001b[38;5;66;03m# calling. If the return type is a dictionary, the error scores\u001b[39;00m\n\u001b[1;32m    856\u001b[0m \u001b[38;5;66;03m# can now be inserted with the correct key. The type checking\u001b[39;00m\n\u001b[1;32m    857\u001b[0m \u001b[38;5;66;03m# of out will be done in `_insert_error_scores`.\u001b[39;00m\n\u001b[1;32m    858\u001b[0m \u001b[38;5;28;01mif\u001b[39;00m callable(\u001b[38;5;28mself\u001b[39m\u001b[38;5;241m.\u001b[39mscoring):\n",
      "File \u001b[0;32m~/miniforge3/envs/lhs/lib/python3.8/site-packages/sklearn/model_selection/_validation.py:367\u001b[0m, in \u001b[0;36m_warn_or_raise_about_fit_failures\u001b[0;34m(results, error_score)\u001b[0m\n\u001b[1;32m    360\u001b[0m \u001b[38;5;28;01mif\u001b[39;00m num_failed_fits \u001b[38;5;241m==\u001b[39m num_fits:\n\u001b[1;32m    361\u001b[0m     all_fits_failed_message \u001b[38;5;241m=\u001b[39m (\n\u001b[1;32m    362\u001b[0m         \u001b[38;5;124mf\u001b[39m\u001b[38;5;124m\"\u001b[39m\u001b[38;5;130;01m\\n\u001b[39;00m\u001b[38;5;124mAll the \u001b[39m\u001b[38;5;132;01m{\u001b[39;00mnum_fits\u001b[38;5;132;01m}\u001b[39;00m\u001b[38;5;124m fits failed.\u001b[39m\u001b[38;5;130;01m\\n\u001b[39;00m\u001b[38;5;124m\"\u001b[39m\n\u001b[1;32m    363\u001b[0m         \u001b[38;5;124m\"\u001b[39m\u001b[38;5;124mIt is very likely that your model is misconfigured.\u001b[39m\u001b[38;5;130;01m\\n\u001b[39;00m\u001b[38;5;124m\"\u001b[39m\n\u001b[1;32m    364\u001b[0m         \u001b[38;5;124m\"\u001b[39m\u001b[38;5;124mYou can try to debug the error by setting error_score=\u001b[39m\u001b[38;5;124m'\u001b[39m\u001b[38;5;124mraise\u001b[39m\u001b[38;5;124m'\u001b[39m\u001b[38;5;124m.\u001b[39m\u001b[38;5;130;01m\\n\u001b[39;00m\u001b[38;5;130;01m\\n\u001b[39;00m\u001b[38;5;124m\"\u001b[39m\n\u001b[1;32m    365\u001b[0m         \u001b[38;5;124mf\u001b[39m\u001b[38;5;124m\"\u001b[39m\u001b[38;5;124mBelow are more details about the failures:\u001b[39m\u001b[38;5;130;01m\\n\u001b[39;00m\u001b[38;5;132;01m{\u001b[39;00mfit_errors_summary\u001b[38;5;132;01m}\u001b[39;00m\u001b[38;5;124m\"\u001b[39m\n\u001b[1;32m    366\u001b[0m     )\n\u001b[0;32m--> 367\u001b[0m     \u001b[38;5;28;01mraise\u001b[39;00m \u001b[38;5;167;01mValueError\u001b[39;00m(all_fits_failed_message)\n\u001b[1;32m    369\u001b[0m \u001b[38;5;28;01melse\u001b[39;00m:\n\u001b[1;32m    370\u001b[0m     some_fits_failed_message \u001b[38;5;241m=\u001b[39m (\n\u001b[1;32m    371\u001b[0m         \u001b[38;5;124mf\u001b[39m\u001b[38;5;124m\"\u001b[39m\u001b[38;5;130;01m\\n\u001b[39;00m\u001b[38;5;132;01m{\u001b[39;00mnum_failed_fits\u001b[38;5;132;01m}\u001b[39;00m\u001b[38;5;124m fits failed out of a total of \u001b[39m\u001b[38;5;132;01m{\u001b[39;00mnum_fits\u001b[38;5;132;01m}\u001b[39;00m\u001b[38;5;124m.\u001b[39m\u001b[38;5;130;01m\\n\u001b[39;00m\u001b[38;5;124m\"\u001b[39m\n\u001b[1;32m    372\u001b[0m         \u001b[38;5;124m\"\u001b[39m\u001b[38;5;124mThe score on these train-test partitions for these parameters\u001b[39m\u001b[38;5;124m\"\u001b[39m\n\u001b[0;32m   (...)\u001b[0m\n\u001b[1;32m    376\u001b[0m         \u001b[38;5;124mf\u001b[39m\u001b[38;5;124m\"\u001b[39m\u001b[38;5;124mBelow are more details about the failures:\u001b[39m\u001b[38;5;130;01m\\n\u001b[39;00m\u001b[38;5;132;01m{\u001b[39;00mfit_errors_summary\u001b[38;5;132;01m}\u001b[39;00m\u001b[38;5;124m\"\u001b[39m\n\u001b[1;32m    377\u001b[0m     )\n",
      "\u001b[0;31mValueError\u001b[0m: \nAll the 81 fits failed.\nIt is very likely that your model is misconfigured.\nYou can try to debug the error by setting error_score='raise'.\n\nBelow are more details about the failures:\n--------------------------------------------------------------------------------\n81 fits failed with the following error:\nTraceback (most recent call last):\n  File \"/Users/lhs/miniforge3/envs/lhs/lib/python3.8/site-packages/sklearn/model_selection/_validation.py\", line 686, in _fit_and_score\n    estimator.fit(X_train, y_train, **fit_params)\nTypeError: fit() got an unexpected keyword argument 'eval_set'\n"
     ]
    }
   ],
   "source": [
    "from sklearn.model_selection import GridSearchCV\n",
    "\n",
    "params = {\n",
    "    'C': [0.1, 0.01, 0.001],\n",
    "    'max_iter' : [3, 5, 7],\n",
    "    'n_jobs' : [200, 400, 600]\n",
    "}\n",
    "\n",
    "grid_cv = GridSearchCV(lgs, param_grid=params, scoring='accuracy', cv=3, verbose=1)\n",
    "grid_cv.fit(X_train, y_train, eval_set=vals, eval_metric=\"logloss\", verbose=True)\n",
    "print('GridSearchCV 최고 평균 정확도 수치:{0:.4f}'.format(grid_cv.best_score_))\n",
    "print('GridSearchCV 최적 하이퍼 파라미터:', grid_cv.best_params_)\n"
   ]
  },
  {
   "cell_type": "code",
   "execution_count": null,
   "id": "77591855",
   "metadata": {
    "ExecuteTime": {
     "end_time": "2022-10-12T06:55:50.409969Z",
     "start_time": "2022-10-12T06:55:50.403488Z"
    }
   },
   "outputs": [],
   "source": [
    "grid_cv.get_params()"
   ]
  },
  {
   "cell_type": "code",
   "execution_count": null,
   "id": "64fc5a46",
   "metadata": {
    "ExecuteTime": {
     "end_time": "2022-10-12T06:28:06.216145Z",
     "start_time": "2022-10-12T06:28:05.148046Z"
    }
   },
   "outputs": [],
   "source": [
    "for max_features in range(100, 1000, 100):\n",
    "    vectorizer = TfidfVectorizer(min_df=0.0, analyzer=\"char\", sublinear_tf=True, ngram_range=(1, 3), max_features=max_features)\n",
    "\n",
    "    X = train['content']\n",
    "    y = np.array(train.label)\n",
    "    \n",
    "    X_train, X_val, y_train, y_val = train_test_split(X, y, random_state=42)\n",
    "    \n",
    "    X_train = vectorizer.fit_transform(X_train)\n",
    "    X_val = vectorizer.transform(X_val)\n",
    "    \n",
    "    lin_reg = LinearRegression()\n",
    "    lgs = LogisticRegression(class_weight='balanced') # \n",
    "    \n",
    "    lin_reg.fit(X_train, y_train)\n",
    "    lgs.fit(X_train, y_train)\n",
    "    \n",
    "    predicted = lin_reg.predict(X_val)\n",
    "    predicted = lgs.predict(X_val)\n",
    "    \n",
    "#     print(f\"Linear Regression      max_features: {max_features}, Accuracy: {lin_reg.score(X_val, y_val)}\" )\n",
    "    print(f\"Logistic Regression      max_features: {max_features}, Accuracy: {lgs.score(X_val, y_val)}\" )\n",
    "    print(f1_score(X_val, y_val, average='macro'))\n",
    "    "
   ]
  },
  {
   "cell_type": "code",
   "execution_count": null,
   "id": "be6e84fd",
   "metadata": {
    "ExecuteTime": {
     "end_time": "2022-10-11T09:20:06.034486Z",
     "start_time": "2022-10-11T09:20:05.971858Z"
    }
   },
   "outputs": [],
   "source": [
    "from sklearn.metrics import mean_squared_error\n",
    "\n",
    "y_train = lin_reg.predict(y_test)"
   ]
  },
  {
   "cell_type": "code",
   "execution_count": null,
   "id": "1fd89e90",
   "metadata": {
    "ExecuteTime": {
     "end_time": "2022-10-12T05:29:40.618592Z",
     "start_time": "2022-10-12T05:29:36.060040Z"
    }
   },
   "outputs": [],
   "source": [
    "# tf-idf 벡터화\n",
    "for max_features in range(100, 10000, 100):\n",
    "    vectorizer = TfidfVectorizer(min_df=0.0, analyzer=\"char\", sublinear_tf=True, ngram_range=(1, 3), max_features=max_features)\n",
    "\n",
    "    X = train['content']\n",
    "    y = np.array(train.label)\n",
    "\n",
    "    X_train, X_eval, y_train, y_eval = train_test_split(X, y, test_size=0.2, random_state=2)\n",
    "\n",
    "    X_train = vectorizer.fit_transform(X_train)\n",
    "    X_eval = vectorizer.transform(X_eval)\n",
    "    \n",
    "    lgs = LogisticRegression(class_weight='balanced')\n",
    "    naive = BernoulliNB()\n",
    "    sgd = SGDClassifier(random_state=42, n_jobs=-1)\n",
    "    rfc = RandomForestClassifier(random_state=42, n_jobs=-1)\n",
    "    svc = SVC(random_state=42)\n",
    "    ada = AdaBoostClassifier(random_state=42)\n",
    "    \n",
    "    lgs.fit(X_train, y_train)\n",
    "    naive.fit(X_train, y_train)\n",
    "    sgd.fit(X_train, y_train)\n",
    "    rfc.fit(X_train, y_train)\n",
    "    svc.fit(X_train, y_train)\n",
    "    ada.fit(X_train, y_train)\n",
    "    \n",
    "    predicted = lgs.predict(X_eval)\n",
    "    predicted = naive.predict(X_eval)\n",
    "    predicted = sgd.predict(X_eval)\n",
    "    predicted = rfc.predict(X_eval)\n",
    "    predicted = svc.predict(X_eval)\n",
    "    predicted = ada.predict(X_eval)\n",
    "    \n",
    "    print(f\"1. Logistic_Regression      max_features: {max_features}, Accuracy: {lgs.score(X_eval, y_eval)}\" )\n",
    "    print(f\"2. Naive_bayse             max_features: {max_features}, Accuracy: {naive.score(X_eval, y_eval)}\" )\n",
    "    print(f\"3. SGD                     max_features: {max_features}, Accuracy: {sgd.score(X_eval, y_eval)}\" )\n",
    "    print(f\"4. RandomForestClassifier  max_features: {max_features}, Accuracy: {rfc.score(X_eval, y_eval)}\" )\n",
    "    print(f\"5. SVC                     max_features: {max_features}, Accuracy: {svc.score(X_eval, y_eval)}\" )\n",
    "    print(f\"6. AdaBoost                max_features: {max_features}, Accuracy: {ada.score(X_eval, y_eval)}\" )\n",
    "    print('=======')"
   ]
  },
  {
   "cell_type": "code",
   "execution_count": null,
   "id": "86f605ee",
   "metadata": {
    "ExecuteTime": {
     "end_time": "2022-10-12T06:39:11.451573Z",
     "start_time": "2022-10-12T06:39:09.426246Z"
    }
   },
   "outputs": [],
   "source": [
    "from xgboost import XGBClassifier\n",
    "\n",
    "X = train['content']\n",
    "y = np.array(train.label)\n",
    "\n",
    "X_train, X_val, y_train, y_val = train_test_split(X, y, random_state=2)\n",
    "\n",
    "X_train = vectorizer.fit_transform(X_train)\n",
    "X_val = vectorizer.transform(X_val)\n",
    "\n",
    "# XGBClassifier 클래스의 객체 생성\n",
    "xgb = XGBClassifier(n_estimators=400, learning_rate=0.1, max_depth=5)\n",
    "\n",
    "# 모델 학습\n",
    "xgb.fit(X_train, y_train, early_stopping_rounds=400, eval_set=vals, eval_metric=\"logloss\",  verbose=True)\n",
    "\n",
    "# 예측\n",
    "predicted = xgb_wrapper.predict(X_val)\n",
    "\n",
    "# 평가 - 정확도 확인\n",
    "from sklearn.metrics import accuracy_score\n",
    "accuracy = accuracy_score(y_val, pred)\n",
    "print('인공 신경망 예측 정확도: {0:.4f}'.format(accuracy))\n"
   ]
  },
  {
   "cell_type": "code",
   "execution_count": null,
   "id": "8583c3e0",
   "metadata": {
    "ExecuteTime": {
     "end_time": "2022-10-09T11:26:11.953901Z",
     "start_time": "2022-10-09T11:26:05.772897Z"
    }
   },
   "outputs": [],
   "source": [
    "# 2600 - 3000 이 0.83으로 정확도가 가장 높게 나옴\n",
    "\n",
    "vectorizer = TfidfVectorizer(min_df = 0.0, analyzer=\"char\", sublinear_tf=True, ngram_range=(1,3), max_features=2600)\n",
    "\n",
    "X = train['content']\n",
    "y = np.array(train.label)\n",
    "\n",
    "X_train = vectorizer.fit_transform(X)\n",
    "X_test = vectorizer.transform(test['content'])\n",
    "lgs = LogisticRegression(class_weight='balanced')\n",
    "lgs.fit(X_train, y)\n",
    "predicted = lgs.predict(X_test)\n",
    "\n",
    "X_train = vectorizer.fit_transform(train['content'])\n",
    "X_test = vectorizer.transform(test['content'])\n",
    "y = np.array(train.label)\n",
    "\n",
    "# lgs = LogisticRegression(class_weight='balanced')\n",
    "# lgs.fit(X_train, y)\n",
    "# predicted = lgs.predict(X_test)\n",
    "rfc = RandomForestClassifier(random_state=42, n_jobs=-1)\n",
    "rfc.fit(X_train, y)\n",
    "predicted = rfc.predict(X_test)"
   ]
  },
  {
   "cell_type": "code",
   "execution_count": null,
   "id": "5731d68d",
   "metadata": {
    "ExecuteTime": {
     "end_time": "2022-10-09T11:26:17.337899Z",
     "start_time": "2022-10-09T11:26:17.331897Z"
    }
   },
   "outputs": [],
   "source": [
    "predicted"
   ]
  },
  {
   "cell_type": "code",
   "execution_count": null,
   "id": "fff2592e",
   "metadata": {
    "ExecuteTime": {
     "end_time": "2022-10-09T11:26:19.287897Z",
     "start_time": "2022-10-09T11:26:19.283898Z"
    }
   },
   "outputs": [],
   "source": [
    "a = predicted.tolist()\n",
    "b = np.array(test.label).tolist()"
   ]
  },
  {
   "cell_type": "code",
   "execution_count": null,
   "id": "dd55b290",
   "metadata": {
    "ExecuteTime": {
     "end_time": "2022-10-09T11:26:20.928899Z",
     "start_time": "2022-10-09T11:26:20.923897Z"
    }
   },
   "outputs": [],
   "source": [
    "c = [i for i,j in zip(a,b) if i == j]\n",
    "print(len(c))"
   ]
  },
  {
   "cell_type": "code",
   "execution_count": null,
   "id": "c7b13d5b",
   "metadata": {
    "ExecuteTime": {
     "end_time": "2022-10-09T11:26:22.489397Z",
     "start_time": "2022-10-09T11:26:22.483897Z"
    }
   },
   "outputs": [],
   "source": [
    "correct_ratio = len(c) / len(test) * 100\n",
    "correct_ratio"
   ]
  },
  {
   "cell_type": "code",
   "execution_count": null,
   "id": "77a606b2",
   "metadata": {
    "ExecuteTime": {
     "end_time": "2022-10-09T09:06:41.710004Z",
     "start_time": "2022-10-09T09:06:41.704504Z"
    }
   },
   "outputs": [],
   "source": [
    "news_feature = df.drop(columns = ['content'])"
   ]
  },
  {
   "cell_type": "code",
   "execution_count": null,
   "id": "f0cba2c6",
   "metadata": {
    "ExecuteTime": {
     "end_time": "2022-10-09T09:07:00.184505Z",
     "start_time": "2022-10-09T09:07:00.174505Z"
    }
   },
   "outputs": [],
   "source": [
    "news_feature.to_csv('news_feature.csv')"
   ]
  },
  {
   "cell_type": "code",
   "execution_count": null,
   "id": "6e5cad92",
   "metadata": {},
   "outputs": [],
   "source": []
  }
 ],
 "metadata": {
  "kernelspec": {
   "display_name": "Python 3 (ipykernel)",
   "language": "python",
   "name": "python3"
  },
  "language_info": {
   "codemirror_mode": {
    "name": "ipython",
    "version": 3
   },
   "file_extension": ".py",
   "mimetype": "text/x-python",
   "name": "python",
   "nbconvert_exporter": "python",
   "pygments_lexer": "ipython3",
   "version": "3.8.13"
  },
  "toc": {
   "base_numbering": 1,
   "nav_menu": {},
   "number_sections": false,
   "sideBar": true,
   "skip_h1_title": false,
   "title_cell": "Table of Contents",
   "title_sidebar": "Contents",
   "toc_cell": false,
   "toc_position": {},
   "toc_section_display": true,
   "toc_window_display": false
  }
 },
 "nbformat": 4,
 "nbformat_minor": 5
}
