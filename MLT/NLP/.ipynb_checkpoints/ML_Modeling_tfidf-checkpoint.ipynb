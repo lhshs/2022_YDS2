{
 "cells": [
  {
   "cell_type": "code",
   "execution_count": 2,
   "id": "8b1a23f8",
   "metadata": {
    "ExecuteTime": {
     "end_time": "2022-10-08T07:10:09.649852Z",
     "start_time": "2022-10-08T07:10:09.646850Z"
    }
   },
   "outputs": [],
   "source": [
    "import pandas as pd\n",
    "import re"
   ]
  },
  {
   "cell_type": "code",
   "execution_count": 3,
   "id": "4567b9be",
   "metadata": {
    "ExecuteTime": {
     "end_time": "2022-10-08T07:10:11.544854Z",
     "start_time": "2022-10-08T07:10:09.652853Z"
    }
   },
   "outputs": [],
   "source": [
    "df = pd.read_excel('news_label.xlsx', engine='openpyxl')"
   ]
  },
  {
   "cell_type": "code",
   "execution_count": 4,
   "id": "fd66d057",
   "metadata": {
    "ExecuteTime": {
     "end_time": "2022-10-08T07:10:11.556865Z",
     "start_time": "2022-10-08T07:10:11.547350Z"
    }
   },
   "outputs": [],
   "source": [
    "df = df.rename(columns={'dates':'date', 'titles':'title','contents':'content'})\n",
    "df['content'] = df['title'] + df['content']"
   ]
  },
  {
   "cell_type": "code",
   "execution_count": 5,
   "id": "423625df",
   "metadata": {
    "ExecuteTime": {
     "end_time": "2022-10-08T07:10:11.570350Z",
     "start_time": "2022-10-08T07:10:11.560350Z"
    }
   },
   "outputs": [],
   "source": [
    "df = df.drop(columns=['근거', 'title'])"
   ]
  },
  {
   "cell_type": "code",
   "execution_count": 6,
   "id": "e6249a17",
   "metadata": {
    "ExecuteTime": {
     "end_time": "2022-10-08T07:10:11.596850Z",
     "start_time": "2022-10-08T07:10:11.573362Z"
    },
    "scrolled": false
   },
   "outputs": [
    {
     "data": {
      "text/html": [
       "<div>\n",
       "<style scoped>\n",
       "    .dataframe tbody tr th:only-of-type {\n",
       "        vertical-align: middle;\n",
       "    }\n",
       "\n",
       "    .dataframe tbody tr th {\n",
       "        vertical-align: top;\n",
       "    }\n",
       "\n",
       "    .dataframe thead th {\n",
       "        text-align: right;\n",
       "    }\n",
       "</style>\n",
       "<table border=\"1\" class=\"dataframe\">\n",
       "  <thead>\n",
       "    <tr style=\"text-align: right;\">\n",
       "      <th></th>\n",
       "      <th>date</th>\n",
       "      <th>content</th>\n",
       "      <th>label</th>\n",
       "    </tr>\n",
       "  </thead>\n",
       "  <tbody>\n",
       "    <tr>\n",
       "      <th>0</th>\n",
       "      <td>2021.10.05</td>\n",
       "      <td>[[톡톡 이상품] 한빛코리아 / 다지워 네이처 클렌징 솝]//[\\n마스카라까지 지우...</td>\n",
       "      <td>1</td>\n",
       "    </tr>\n",
       "    <tr>\n",
       "      <th>1</th>\n",
       "      <td>2021.10.07</td>\n",
       "      <td>[[격동의 유통가④]편의점 성장 정체…미래는 근거리 쇼핑]//[\"파괴적 커머스 시대...</td>\n",
       "      <td>1</td>\n",
       "    </tr>\n",
       "    <tr>\n",
       "      <th>2</th>\n",
       "      <td>2021.10.08</td>\n",
       "      <td>[株머니 매니저의 HOT종목]//[\\n\\n\\n\\n\\n 씨에스윈드는 풍력발전기를 구성...</td>\n",
       "      <td>1</td>\n",
       "    </tr>\n",
       "    <tr>\n",
       "      <th>3</th>\n",
       "      <td>2021.10.11</td>\n",
       "      <td>[김민수 더맘마 대표 \"동네마트와 '상생'이 경쟁력…30분 총알배송 목표\"]//[\\...</td>\n",
       "      <td>1</td>\n",
       "    </tr>\n",
       "    <tr>\n",
       "      <th>4</th>\n",
       "      <td>2021.10.13</td>\n",
       "      <td>[\"카카오 보고있나\"…진격의 네이버페이, 中 최대 직구몰 손잡았다]//[[주간투자동...</td>\n",
       "      <td>1</td>\n",
       "    </tr>\n",
       "    <tr>\n",
       "      <th>...</th>\n",
       "      <td>...</td>\n",
       "      <td>...</td>\n",
       "      <td>...</td>\n",
       "    </tr>\n",
       "    <tr>\n",
       "      <th>274</th>\n",
       "      <td>2022.09.23</td>\n",
       "      <td>[WCP 흥행 실패에 컬리, 케이뱅크 상장 시기 '안갯속']//[\\n심사 승인 났는...</td>\n",
       "      <td>0</td>\n",
       "    </tr>\n",
       "    <tr>\n",
       "      <th>275</th>\n",
       "      <td>2022.09.26</td>\n",
       "      <td>[[먹거리+IT] 네이처랩 오경주 대표, “맛있고 건강한 주스 추천 서비스를 개발합...</td>\n",
       "      <td>1</td>\n",
       "    </tr>\n",
       "    <tr>\n",
       "      <th>276</th>\n",
       "      <td>2022.09.27</td>\n",
       "      <td>[\"투자 늘렸는데 이제와서…\" 퀵커머스마저 규제하나 '초긴장']//[\\n■국감 오르...</td>\n",
       "      <td>0</td>\n",
       "    </tr>\n",
       "    <tr>\n",
       "      <th>277</th>\n",
       "      <td>2022.09.29</td>\n",
       "      <td>[국내 이커머스 상장 1호 주인공 누가될까 [격변의 이커머스①]]//[\\n이커머스 ...</td>\n",
       "      <td>0</td>\n",
       "    </tr>\n",
       "    <tr>\n",
       "      <th>278</th>\n",
       "      <td>2022.09.30</td>\n",
       "      <td>[오아시스마켓, 맞춤형 영상 콘텐츠 지원에 소상공인 매출 ‘쑥쑥’]//[\\n\"V 커...</td>\n",
       "      <td>1</td>\n",
       "    </tr>\n",
       "  </tbody>\n",
       "</table>\n",
       "<p>279 rows × 3 columns</p>\n",
       "</div>"
      ],
      "text/plain": [
       "           date                                            content  label\n",
       "0    2021.10.05  [[톡톡 이상품] 한빛코리아 / 다지워 네이처 클렌징 솝]//[\\n마스카라까지 지우...      1\n",
       "1    2021.10.07  [[격동의 유통가④]편의점 성장 정체…미래는 근거리 쇼핑]//[\"파괴적 커머스 시대...      1\n",
       "2    2021.10.08  [株머니 매니저의 HOT종목]//[\\n\\n\\n\\n\\n 씨에스윈드는 풍력발전기를 구성...      1\n",
       "3    2021.10.11  [김민수 더맘마 대표 \"동네마트와 '상생'이 경쟁력…30분 총알배송 목표\"]//[\\...      1\n",
       "4    2021.10.13  [\"카카오 보고있나\"…진격의 네이버페이, 中 최대 직구몰 손잡았다]//[[주간투자동...      1\n",
       "..          ...                                                ...    ...\n",
       "274  2022.09.23  [WCP 흥행 실패에 컬리, 케이뱅크 상장 시기 '안갯속']//[\\n심사 승인 났는...      0\n",
       "275  2022.09.26  [[먹거리+IT] 네이처랩 오경주 대표, “맛있고 건강한 주스 추천 서비스를 개발합...      1\n",
       "276  2022.09.27  [\"투자 늘렸는데 이제와서…\" 퀵커머스마저 규제하나 '초긴장']//[\\n■국감 오르...      0\n",
       "277  2022.09.29  [국내 이커머스 상장 1호 주인공 누가될까 [격변의 이커머스①]]//[\\n이커머스 ...      0\n",
       "278  2022.09.30  [오아시스마켓, 맞춤형 영상 콘텐츠 지원에 소상공인 매출 ‘쑥쑥’]//[\\n\"V 커...      1\n",
       "\n",
       "[279 rows x 3 columns]"
      ]
     },
     "execution_count": 6,
     "metadata": {},
     "output_type": "execute_result"
    }
   ],
   "source": [
    "df['label'] = df['label'].astype(int)\n",
    "df"
   ]
  },
  {
   "cell_type": "markdown",
   "id": "bc25d522",
   "metadata": {},
   "source": [
    "### 데이터 정제하기"
   ]
  },
  {
   "cell_type": "code",
   "execution_count": 7,
   "id": "eb2b810d",
   "metadata": {
    "ExecuteTime": {
     "end_time": "2022-10-08T07:10:12.378850Z",
     "start_time": "2022-10-08T07:10:11.598851Z"
    }
   },
   "outputs": [
    {
     "name": "stderr",
     "output_type": "stream",
     "text": [
      "C:\\Users\\hslio\\AppData\\Local\\Temp\\ipykernel_22292\\2956849729.py:2: FutureWarning: The default value of regex will change from True to False in a future version.\n",
      "  df['content'] = df['content'].str.replace('[^가-힣a-zA-Z0-9_]',' ')\n",
      "C:\\Users\\hslio\\AppData\\Local\\Temp\\ipykernel_22292\\2956849729.py:4: FutureWarning: The default value of regex will change from True to False in a future version.\n",
      "  df['content'] = df['content'].str.replace(' +',' ')\n"
     ]
    },
    {
     "data": {
      "text/html": [
       "<div>\n",
       "<style scoped>\n",
       "    .dataframe tbody tr th:only-of-type {\n",
       "        vertical-align: middle;\n",
       "    }\n",
       "\n",
       "    .dataframe tbody tr th {\n",
       "        vertical-align: top;\n",
       "    }\n",
       "\n",
       "    .dataframe thead th {\n",
       "        text-align: right;\n",
       "    }\n",
       "</style>\n",
       "<table border=\"1\" class=\"dataframe\">\n",
       "  <thead>\n",
       "    <tr style=\"text-align: right;\">\n",
       "      <th></th>\n",
       "      <th>date</th>\n",
       "      <th>content</th>\n",
       "      <th>label</th>\n",
       "    </tr>\n",
       "  </thead>\n",
       "  <tbody>\n",
       "    <tr>\n",
       "      <th>0</th>\n",
       "      <td>2021.10.05</td>\n",
       "      <td>톡톡 이상품 한빛코리아 다지워 네이처 클렌징 솝 마스카라까지 지우는 세정비누 피부...</td>\n",
       "      <td>1</td>\n",
       "    </tr>\n",
       "    <tr>\n",
       "      <th>1</th>\n",
       "      <td>2021.10.07</td>\n",
       "      <td>격동의 유통가 편의점 성장 정체 미래는 근거리 쇼핑 파괴적 커머스 시대 데이터 경...</td>\n",
       "      <td>1</td>\n",
       "    </tr>\n",
       "    <tr>\n",
       "      <th>2</th>\n",
       "      <td>2021.10.08</td>\n",
       "      <td>머니 매니저의 HOT종목 씨에스윈드는 풍력발전기를 구성하는 타워 제작 및 설치를 ...</td>\n",
       "      <td>1</td>\n",
       "    </tr>\n",
       "    <tr>\n",
       "      <th>3</th>\n",
       "      <td>2021.10.11</td>\n",
       "      <td>김민수 더맘마 대표 동네마트와 상생 이 경쟁력 30분 총알배송 목표 별도 물류센터...</td>\n",
       "      <td>1</td>\n",
       "    </tr>\n",
       "    <tr>\n",
       "      <th>4</th>\n",
       "      <td>2021.10.13</td>\n",
       "      <td>카카오 보고있나 진격의 네이버페이 최대 직구몰 손잡았다 주간투자동향 파운트 400...</td>\n",
       "      <td>1</td>\n",
       "    </tr>\n",
       "    <tr>\n",
       "      <th>...</th>\n",
       "      <td>...</td>\n",
       "      <td>...</td>\n",
       "      <td>...</td>\n",
       "    </tr>\n",
       "    <tr>\n",
       "      <th>274</th>\n",
       "      <td>2022.09.23</td>\n",
       "      <td>WCP 흥행 실패에 컬리 케이뱅크 상장 시기 안갯속 심사 승인 났는데 IPO 감감...</td>\n",
       "      <td>0</td>\n",
       "    </tr>\n",
       "    <tr>\n",
       "      <th>275</th>\n",
       "      <td>2022.09.26</td>\n",
       "      <td>먹거리 IT 네이처랩 오경주 대표 맛있고 건강한 주스 추천 서비스를 개발합니다 서...</td>\n",
       "      <td>1</td>\n",
       "    </tr>\n",
       "    <tr>\n",
       "      <th>276</th>\n",
       "      <td>2022.09.27</td>\n",
       "      <td>투자 늘렸는데 이제와서 퀵커머스마저 규제하나 초긴장 국감 오르는 유통업 새 먹거리...</td>\n",
       "      <td>0</td>\n",
       "    </tr>\n",
       "    <tr>\n",
       "      <th>277</th>\n",
       "      <td>2022.09.29</td>\n",
       "      <td>국내 이커머스 상장 1호 주인공 누가될까 격변의 이커머스 이커머스 IPO 대전 흑...</td>\n",
       "      <td>0</td>\n",
       "    </tr>\n",
       "    <tr>\n",
       "      <th>278</th>\n",
       "      <td>2022.09.30</td>\n",
       "      <td>오아시스마켓 맞춤형 영상 콘텐츠 지원에 소상공인 매출 쑥쑥 V 커머스 지원 사업으...</td>\n",
       "      <td>1</td>\n",
       "    </tr>\n",
       "  </tbody>\n",
       "</table>\n",
       "<p>279 rows × 3 columns</p>\n",
       "</div>"
      ],
      "text/plain": [
       "           date                                            content  label\n",
       "0    2021.10.05   톡톡 이상품 한빛코리아 다지워 네이처 클렌징 솝 마스카라까지 지우는 세정비누 피부...      1\n",
       "1    2021.10.07   격동의 유통가 편의점 성장 정체 미래는 근거리 쇼핑 파괴적 커머스 시대 데이터 경...      1\n",
       "2    2021.10.08   머니 매니저의 HOT종목 씨에스윈드는 풍력발전기를 구성하는 타워 제작 및 설치를 ...      1\n",
       "3    2021.10.11   김민수 더맘마 대표 동네마트와 상생 이 경쟁력 30분 총알배송 목표 별도 물류센터...      1\n",
       "4    2021.10.13   카카오 보고있나 진격의 네이버페이 최대 직구몰 손잡았다 주간투자동향 파운트 400...      1\n",
       "..          ...                                                ...    ...\n",
       "274  2022.09.23   WCP 흥행 실패에 컬리 케이뱅크 상장 시기 안갯속 심사 승인 났는데 IPO 감감...      0\n",
       "275  2022.09.26   먹거리 IT 네이처랩 오경주 대표 맛있고 건강한 주스 추천 서비스를 개발합니다 서...      1\n",
       "276  2022.09.27   투자 늘렸는데 이제와서 퀵커머스마저 규제하나 초긴장 국감 오르는 유통업 새 먹거리...      0\n",
       "277  2022.09.29   국내 이커머스 상장 1호 주인공 누가될까 격변의 이커머스 이커머스 IPO 대전 흑...      0\n",
       "278  2022.09.30   오아시스마켓 맞춤형 영상 콘텐츠 지원에 소상공인 매출 쑥쑥 V 커머스 지원 사업으...      1\n",
       "\n",
       "[279 rows x 3 columns]"
      ]
     },
     "execution_count": 7,
     "metadata": {},
     "output_type": "execute_result"
    }
   ],
   "source": [
    "# 문자 외의 것들 제거\n",
    "df['content'] = df['content'].str.replace('[^가-힣a-zA-Z0-9_]',' ')\n",
    "# 혹시 모를 다중 공백 제거\n",
    "df['content'] = df['content'].str.replace(' +',' ') \n",
    "df"
   ]
  },
  {
   "cell_type": "markdown",
   "id": "4cbe2579",
   "metadata": {
    "ExecuteTime": {
     "end_time": "2022-10-08T06:50:55.769853Z",
     "start_time": "2022-10-08T06:50:55.763850Z"
    }
   },
   "source": [
    "from sklearn.model_selection import train_test_split\n",
    "X = df['content']\n",
    "y = df['label']\n",
    "\n",
    "X_train, X_test, y_train, y_test = train_test_split(X, y, test_size=0.2, shuffle=True, random_state=42)"
   ]
  },
  {
   "cell_type": "markdown",
   "id": "8d1e789c",
   "metadata": {
    "ExecuteTime": {
     "end_time": "2022-10-08T06:50:56.426852Z",
     "start_time": "2022-10-08T06:50:56.418850Z"
    }
   },
   "source": [
    "X_train"
   ]
  },
  {
   "cell_type": "markdown",
   "id": "47f87fc7",
   "metadata": {
    "ExecuteTime": {
     "end_time": "2022-10-08T06:50:57.281351Z",
     "start_time": "2022-10-08T06:50:57.269851Z"
    }
   },
   "source": [
    "X_test"
   ]
  },
  {
   "cell_type": "markdown",
   "id": "b5716383",
   "metadata": {},
   "source": [
    "### 토큰화 및 TF-IDF(Term Frequency-Inverse Document Frequency) 벡터화"
   ]
  },
  {
   "cell_type": "markdown",
   "id": "f9d68ca5",
   "metadata": {},
   "source": [
    "### 감성 분석 모델 구축"
   ]
  },
  {
   "cell_type": "code",
   "execution_count": 8,
   "id": "acb025e4",
   "metadata": {
    "ExecuteTime": {
     "end_time": "2022-10-08T07:10:12.965350Z",
     "start_time": "2022-10-08T07:10:12.381863Z"
    }
   },
   "outputs": [],
   "source": [
    "from sklearn.feature_extraction.text import TfidfVectorizer\n",
    "from sklearn.pipeline import Pipeline\n",
    "\n",
    "\n",
    "def get_pipe(model, model_name: str) -> Pipeline:\n",
    "    \"TfidfVectorizer와 모델을 연결한 파이프라인을 반환하는 함수\"\n",
    "    tfidf = TfidfVectorizer(analyzer=\"char\", ngram_range=(1, 3))\n",
    "    pipe = Pipeline([\n",
    "        (\"tfidf\", tfidf),\n",
    "        (model_name, model)\n",
    "    ])\n",
    "    return pipe\n",
    "\n",
    "# 그냥 train 데이터를 tfidf로 fit_transform한 데이터를 만듭시다..."
   ]
  },
  {
   "cell_type": "code",
   "execution_count": 9,
   "id": "b562b596",
   "metadata": {
    "ExecuteTime": {
     "end_time": "2022-10-08T07:10:13.012849Z",
     "start_time": "2022-10-08T07:10:12.967851Z"
    }
   },
   "outputs": [],
   "source": [
    "import numpy as np\n",
    "from sklearn.model_selection import StratifiedKFold\n",
    "from sklearn.metrics import accuracy_score\n",
    "\n",
    "def return_kfold_accuarcy(model, k: int = 5) -> float:\n",
    "    global train\n",
    "    \"모델을 입력받아 KFold 예측 후 accuracy score를 반환하는 함수\"\n",
    "    kfold = StratifiedKFold(k, shuffle=True, random_state=42)\n",
    "    result = []\n",
    "    for train_idx, test_idx in kfold.split(df[\"content\"], df[\"label\"]):\n",
    "        train, val = df.iloc[train_idx], df.iloc[test_idx]\n",
    "        model.fit(train[\"content\"], train[\"label\"])\n",
    "        pred = model.predict(val[\"content\"])\n",
    "        acc = accuracy_score(val[\"label\"], pred)\n",
    "        result.append(acc)\n",
    "\n",
    "    return np.mean(result)"
   ]
  },
  {
   "cell_type": "code",
   "execution_count": 10,
   "id": "4baf1da2",
   "metadata": {
    "ExecuteTime": {
     "end_time": "2022-10-08T07:10:13.133349Z",
     "start_time": "2022-10-08T07:10:13.016351Z"
    }
   },
   "outputs": [],
   "source": [
    "from sklearn.naive_bayes import BernoulliNB\n",
    "from sklearn.linear_model import SGDClassifier\n",
    "from sklearn.ensemble import RandomForestClassifier, AdaBoostClassifier\n",
    "from sklearn.svm import SVC\n",
    "\n",
    "\n",
    "models = [\n",
    "    (\"naive_bayes\", BernoulliNB()),\n",
    "    (\"SGD\", SGDClassifier(random_state=42, n_jobs=-1)),\n",
    "    (\"rfc\", RandomForestClassifier(random_state=42, n_jobs=-1)),\n",
    "    (\"SVC\", SVC(random_state=42)),\n",
    "    (\"ada\", AdaBoostClassifier(random_state=42))\n",
    "]\n",
    "\n",
    "model_pipes = [(name, get_pipe(model, name)) for name, model in models]"
   ]
  },
  {
   "cell_type": "code",
   "execution_count": 11,
   "id": "907a1fcd",
   "metadata": {
    "ExecuteTime": {
     "end_time": "2022-10-08T07:12:42.727851Z",
     "start_time": "2022-10-08T07:10:13.136851Z"
    },
    "scrolled": false
   },
   "outputs": [
    {
     "data": {
      "application/vnd.jupyter.widget-view+json": {
       "model_id": "",
       "version_major": 2,
       "version_minor": 0
      },
      "text/plain": [
       "  0%|          | 0/5 [00:00<?, ?it/s]"
      ]
     },
     "metadata": {},
     "output_type": "display_data"
    },
    {
     "data": {
      "text/html": [
       "<pre style=\"white-space:pre;overflow-x:auto;line-height:normal;font-family:Menlo,'DejaVu Sans Mono',consolas,'Courier New',monospace\"><span style=\"font-style: italic\">  Model Comparison Table  </span>\n",
       "┏━━━━━━━━━━━━━┳━━━━━━━━━━┓\n",
       "┃<span style=\"font-weight: bold\"> Model Name  </span>┃<span style=\"font-weight: bold\"> Accuracy </span>┃\n",
       "┡━━━━━━━━━━━━━╇━━━━━━━━━━┩\n",
       "│<span style=\"color: #008000; text-decoration-color: #008000\"> naive_bayes </span>│    0.656 │\n",
       "│<span style=\"color: #008000; text-decoration-color: #008000\"> SGD         </span>│    0.706 │\n",
       "│<span style=\"color: #008000; text-decoration-color: #008000\"> rfc         </span>│    0.670 │\n",
       "│<span style=\"color: #008000; text-decoration-color: #008000\"> SVC         </span>│    0.638 │\n",
       "│<span style=\"color: #008000; text-decoration-color: #008000\"> ada         </span>│    0.638 │\n",
       "└─────────────┴──────────┘\n",
       "</pre>\n"
      ],
      "text/plain": [
       "\u001b[3m  Model Comparison Table  \u001b[0m\n",
       "┏━━━━━━━━━━━━━┳━━━━━━━━━━┓\n",
       "┃\u001b[1m \u001b[0m\u001b[1mModel Name \u001b[0m\u001b[1m \u001b[0m┃\u001b[1m \u001b[0m\u001b[1mAccuracy\u001b[0m\u001b[1m \u001b[0m┃\n",
       "┡━━━━━━━━━━━━━╇━━━━━━━━━━┩\n",
       "│\u001b[32m \u001b[0m\u001b[32mnaive_bayes\u001b[0m\u001b[32m \u001b[0m│    0.656 │\n",
       "│\u001b[32m \u001b[0m\u001b[32mSGD        \u001b[0m\u001b[32m \u001b[0m│    0.706 │\n",
       "│\u001b[32m \u001b[0m\u001b[32mrfc        \u001b[0m\u001b[32m \u001b[0m│    0.670 │\n",
       "│\u001b[32m \u001b[0m\u001b[32mSVC        \u001b[0m\u001b[32m \u001b[0m│    0.638 │\n",
       "│\u001b[32m \u001b[0m\u001b[32mada        \u001b[0m\u001b[32m \u001b[0m│    0.638 │\n",
       "└─────────────┴──────────┘\n"
      ]
     },
     "metadata": {},
     "output_type": "display_data"
    }
   ],
   "source": [
    "import rich  # 출력을 이쁘게 꾸며주는 라이브러리\n",
    "from tqdm.auto import tqdm  # 진행바 라이브러리\n",
    "from rich.table import Table\n",
    "\n",
    "table = Table(title=\"Model Comparison Table\")\n",
    "table.add_column(\"Model Name\", justify=\"left\", style=\"green\")\n",
    "table.add_column(\"Accuracy\", justify=\"right\")\n",
    "\n",
    "for model_name, model in tqdm(model_pipes, leave=False):\n",
    "    acc = return_kfold_accuarcy(model)\n",
    "    table.add_row(model_name, f\"{acc:0.3f}\")\n",
    "\n",
    "rich.print(table)"
   ]
  },
  {
   "cell_type": "code",
   "execution_count": null,
   "id": "a972b39c",
   "metadata": {},
   "outputs": [],
   "source": []
  },
  {
   "cell_type": "markdown",
   "id": "f79f396c",
   "metadata": {
    "ExecuteTime": {
     "end_time": "2022-10-06T12:18:33.980410Z",
     "start_time": "2022-10-06T12:18:33.971354Z"
    }
   },
   "source": [
    "models = [\n",
    "    (\"naive_bayes\", BernoulliNB()),\n",
    "    (\"SGD\", SGDClassifier(random_state=42, n_jobs=-1)),\n",
    "    (\"rfc\", RandomForestClassifier(random_state=42, n_jobs=-1)),\n",
    "    (\"SVC\", SVC(random_state=42)),\n",
    "    (\"ada\", AdaBoostClassifier(random_state=42)),\n",
    "    (\"lgbm\", LGBMClassifier(random_state=42)),\n",
    "    (\"lgbm2\", LGBMClassifier(n_estimators=80, random_state=42)),\n",
    "    (\"xgb\", XGBClassifier(random_state=42)),\n",
    "    (\"knc1\", KNeighborsClassifier()),\n",
    "    (\"knc2\", KNeighborsClassifier(n_neighbors=4))\n",
    "]\n",
    "\n",
    "model_pipes = [(name, get_pipe(model, name)) for name, model in models]"
   ]
  },
  {
   "cell_type": "markdown",
   "id": "fee13d2a",
   "metadata": {
    "ExecuteTime": {
     "start_time": "2022-10-08T07:09:40.056Z"
    }
   },
   "source": [
    "table = Table(title=\"Model Comparison Table\")\n",
    "table.add_column(\"Model Name\", justify=\"left\", style=\"green\")\n",
    "table.add_column(\"Accuracy\", justify=\"right\")\n",
    "\n",
    "for model_name, model in tqdm(model_pipes, leave=False):\n",
    "    acc = return_kfold_accuarcy(model)\n",
    "    table.add_row(model_name, f\"{acc:0.3f}\")\n",
    "\n",
    "rich.print(table)"
   ]
  },
  {
   "cell_type": "code",
   "execution_count": 12,
   "id": "50bc8d06",
   "metadata": {
    "ExecuteTime": {
     "end_time": "2022-10-08T07:24:56.886853Z",
     "start_time": "2022-10-08T07:12:42.730851Z"
    }
   },
   "outputs": [
    {
     "data": {
      "text/html": [
       "<pre style=\"white-space:pre;overflow-x:auto;line-height:normal;font-family:Menlo,'DejaVu Sans Mono',consolas,'Courier New',monospace\"><span style=\"color: #008080; text-decoration-color: #008080; font-weight: bold\">0.6632467532467532</span>\n",
       "</pre>\n"
      ],
      "text/plain": [
       "\u001b[1;36m0.6632467532467532\u001b[0m\n"
      ]
     },
     "metadata": {},
     "output_type": "display_data"
    }
   ],
   "source": [
    "from sklearn.ensemble import StackingClassifier\n",
    "\n",
    "stack_models = [(name, get_pipe(model, name)) for name, model in models]\n",
    "\n",
    "stacking = StackingClassifier(stack_models)\n",
    "acc = return_kfold_accuarcy(stacking)\n",
    "rich.print(acc)"
   ]
  },
  {
   "cell_type": "code",
   "execution_count": null,
   "id": "1fd89e90",
   "metadata": {},
   "outputs": [],
   "source": []
  }
 ],
 "metadata": {
  "kernelspec": {
   "display_name": "Python 3 (ipykernel)",
   "language": "python",
   "name": "python3"
  },
  "language_info": {
   "codemirror_mode": {
    "name": "ipython",
    "version": 3
   },
   "file_extension": ".py",
   "mimetype": "text/x-python",
   "name": "python",
   "nbconvert_exporter": "python",
   "pygments_lexer": "ipython3",
   "version": "3.9.12"
  },
  "toc": {
   "base_numbering": 1,
   "nav_menu": {},
   "number_sections": false,
   "sideBar": true,
   "skip_h1_title": false,
   "title_cell": "Table of Contents",
   "title_sidebar": "Contents",
   "toc_cell": false,
   "toc_position": {},
   "toc_section_display": true,
   "toc_window_display": false
  }
 },
 "nbformat": 4,
 "nbformat_minor": 5
}
