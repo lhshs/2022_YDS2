{
 "cells": [
  {
   "cell_type": "code",
   "execution_count": null,
   "id": "4c459c2a",
   "metadata": {
    "ExecuteTime": {
     "start_time": "2022-10-06T04:13:02.991Z"
    }
   },
   "outputs": [],
   "source": [
    "# 데이터 로드\n",
    "from sklearn.datasets import fetch_20newsgroups\n",
    "\n",
    "# 데이터 분할\n",
    "from sklearn.datasets import fetch_20newsgroups\n",
    "\n",
    "# subset인자에 all로 train, test데이터 모두 가져오기\n",
    "news_data = fetch_20newsgroups(subset='all', random_state=42)\n",
    "train_data = fetch_20newsgroups(subset='train',\n",
    "                               remove=('headers','footers','quotes'),\n",
    "                               random_state=12)"
   ]
  },
  {
   "cell_type": "code",
   "execution_count": null,
   "id": "0761c47b",
   "metadata": {},
   "outputs": [],
   "source": [
    "X_train = train_data.data\n",
    "y_train = train_data.target"
   ]
  },
  {
   "cell_type": "code",
   "execution_count": null,
   "id": "833acd61",
   "metadata": {},
   "outputs": [],
   "source": [
    "#remove인자에 있는 부분은 해당 기사의 일부분을 제거한 것이다. 왜냐하면 오로지 기사의 body(본문)에 해당하는 텍스트들로만 학습시키려 했기 때문\n",
    "test_data = fetch_20newsgroups(subset='test',\n",
    "                              remove=('headers','footers','quotes'),\n",
    "                              random_state=12)"
   ]
  },
  {
   "cell_type": "code",
   "execution_count": null,
   "id": "d95d8938",
   "metadata": {},
   "outputs": [],
   "source": [
    "X_test = test_data.data\n",
    "y_test = test_data.target\n",
    "print(f\"학습 데이터 크기: {len(X_train)}\\n 테스트 데이터 크기: {len(X_test)}\")"
   ]
  }
 ],
 "metadata": {
  "kernelspec": {
   "display_name": "Python 3 (ipykernel)",
   "language": "python",
   "name": "python3"
  },
  "language_info": {
   "codemirror_mode": {
    "name": "ipython",
    "version": 3
   },
   "file_extension": ".py",
   "mimetype": "text/x-python",
   "name": "python",
   "nbconvert_exporter": "python",
   "pygments_lexer": "ipython3",
   "version": "3.9.12"
  },
  "toc": {
   "base_numbering": 1,
   "nav_menu": {},
   "number_sections": true,
   "sideBar": true,
   "skip_h1_title": false,
   "title_cell": "Table of Contents",
   "title_sidebar": "Contents",
   "toc_cell": false,
   "toc_position": {},
   "toc_section_display": true,
   "toc_window_display": false
  }
 },
 "nbformat": 4,
 "nbformat_minor": 5
}
