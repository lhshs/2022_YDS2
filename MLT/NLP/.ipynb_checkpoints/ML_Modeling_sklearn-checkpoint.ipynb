{
 "cells": [
  {
   "cell_type": "code",
   "execution_count": 3,
   "id": "44c0283b",
   "metadata": {
    "ExecuteTime": {
     "end_time": "2022-10-06T16:40:42.866637Z",
     "start_time": "2022-10-06T16:40:42.848684Z"
    },
    "scrolled": true
   },
   "outputs": [],
   "source": [
    "import pandas as pd\n",
    "import numpy as np\n",
    "import re\n",
    "import warnings\n",
    "warnings.filterwarnings(action='ignore')\n",
    "# import nltk\n",
    "#nltk.download('all') # 처음 실행 시 주석을 제거하고 실행해주세요!"
   ]
  },
  {
   "cell_type": "code",
   "execution_count": 4,
   "id": "aa6794ec",
   "metadata": {
    "ExecuteTime": {
     "end_time": "2022-10-06T16:40:42.913267Z",
     "start_time": "2022-10-06T16:40:42.873621Z"
    }
   },
   "outputs": [],
   "source": [
    "from tqdm import tqdm\n"
   ]
  },
  {
   "cell_type": "code",
   "execution_count": 5,
   "id": "4567b9be",
   "metadata": {
    "ExecuteTime": {
     "end_time": "2022-10-06T16:40:43.197690Z",
     "start_time": "2022-10-06T16:40:42.919238Z"
    }
   },
   "outputs": [],
   "source": [
    "df = pd.read_excel('news_label.xlsx', engine='openpyxl')"
   ]
  },
  {
   "cell_type": "code",
   "execution_count": 28,
   "id": "ff6b44c5",
   "metadata": {
    "ExecuteTime": {
     "end_time": "2022-10-06T16:49:15.792343Z",
     "start_time": "2022-10-06T16:49:15.766410Z"
    }
   },
   "outputs": [
    {
     "data": {
      "text/html": [
       "<div>\n",
       "<style scoped>\n",
       "    .dataframe tbody tr th:only-of-type {\n",
       "        vertical-align: middle;\n",
       "    }\n",
       "\n",
       "    .dataframe tbody tr th {\n",
       "        vertical-align: top;\n",
       "    }\n",
       "\n",
       "    .dataframe thead th {\n",
       "        text-align: right;\n",
       "    }\n",
       "</style>\n",
       "<table border=\"1\" class=\"dataframe\">\n",
       "  <thead>\n",
       "    <tr style=\"text-align: right;\">\n",
       "      <th></th>\n",
       "      <th>date</th>\n",
       "      <th>content</th>\n",
       "      <th>label</th>\n",
       "    </tr>\n",
       "  </thead>\n",
       "  <tbody>\n",
       "    <tr>\n",
       "      <th>0</th>\n",
       "      <td>2021.10.05</td>\n",
       "      <td>[[톡톡 이상품] 한빛코리아 / 다지워 네이처 클렌징 솝]//[\\n마스카라까지 지우...</td>\n",
       "      <td>0.0</td>\n",
       "    </tr>\n",
       "    <tr>\n",
       "      <th>1</th>\n",
       "      <td>2021.10.07</td>\n",
       "      <td>[[격동의 유통가④]편의점 성장 정체…미래는 근거리 쇼핑]//[\"파괴적 커머스 시대...</td>\n",
       "      <td>1.0</td>\n",
       "    </tr>\n",
       "    <tr>\n",
       "      <th>2</th>\n",
       "      <td>2021.10.08</td>\n",
       "      <td>[株머니 매니저의 HOT종목]//[\\n\\n\\n\\n\\n 씨에스윈드는 풍력발전기를 구성...</td>\n",
       "      <td>1.0</td>\n",
       "    </tr>\n",
       "    <tr>\n",
       "      <th>3</th>\n",
       "      <td>2021.10.11</td>\n",
       "      <td>[김민수 더맘마 대표 \"동네마트와 '상생'이 경쟁력…30분 총알배송 목표\"]//[\\...</td>\n",
       "      <td>0.0</td>\n",
       "    </tr>\n",
       "    <tr>\n",
       "      <th>4</th>\n",
       "      <td>2021.10.13</td>\n",
       "      <td>[\"카카오 보고있나\"…진격의 네이버페이, 中 최대 직구몰 손잡았다]//[[주간투자동...</td>\n",
       "      <td>1.0</td>\n",
       "    </tr>\n",
       "    <tr>\n",
       "      <th>...</th>\n",
       "      <td>...</td>\n",
       "      <td>...</td>\n",
       "      <td>...</td>\n",
       "    </tr>\n",
       "    <tr>\n",
       "      <th>274</th>\n",
       "      <td>2022.09.23</td>\n",
       "      <td>[WCP 흥행 실패에 컬리, 케이뱅크 상장 시기 '안갯속']//[\\n심사 승인 났는...</td>\n",
       "      <td>-</td>\n",
       "    </tr>\n",
       "    <tr>\n",
       "      <th>275</th>\n",
       "      <td>2022.09.26</td>\n",
       "      <td>[[먹거리+IT] 네이처랩 오경주 대표, “맛있고 건강한 주스 추천 서비스를 개발합...</td>\n",
       "      <td>-</td>\n",
       "    </tr>\n",
       "    <tr>\n",
       "      <th>276</th>\n",
       "      <td>2022.09.27</td>\n",
       "      <td>[\"투자 늘렸는데 이제와서…\" 퀵커머스마저 규제하나 '초긴장']//[\\n■국감 오르...</td>\n",
       "      <td>-</td>\n",
       "    </tr>\n",
       "    <tr>\n",
       "      <th>277</th>\n",
       "      <td>2022.09.29</td>\n",
       "      <td>[국내 이커머스 상장 1호 주인공 누가될까 [격변의 이커머스①]]//[\\n이커머스 ...</td>\n",
       "      <td>-</td>\n",
       "    </tr>\n",
       "    <tr>\n",
       "      <th>278</th>\n",
       "      <td>2022.09.30</td>\n",
       "      <td>[오아시스마켓, 맞춤형 영상 콘텐츠 지원에 소상공인 매출 ‘쑥쑥’]//[\\n\"V 커...</td>\n",
       "      <td>-</td>\n",
       "    </tr>\n",
       "  </tbody>\n",
       "</table>\n",
       "<p>279 rows × 3 columns</p>\n",
       "</div>"
      ],
      "text/plain": [
       "           date                                            content label\n",
       "0    2021.10.05  [[톡톡 이상품] 한빛코리아 / 다지워 네이처 클렌징 솝]//[\\n마스카라까지 지우...   0.0\n",
       "1    2021.10.07  [[격동의 유통가④]편의점 성장 정체…미래는 근거리 쇼핑]//[\"파괴적 커머스 시대...   1.0\n",
       "2    2021.10.08  [株머니 매니저의 HOT종목]//[\\n\\n\\n\\n\\n 씨에스윈드는 풍력발전기를 구성...   1.0\n",
       "3    2021.10.11  [김민수 더맘마 대표 \"동네마트와 '상생'이 경쟁력…30분 총알배송 목표\"]//[\\...   0.0\n",
       "4    2021.10.13  [\"카카오 보고있나\"…진격의 네이버페이, 中 최대 직구몰 손잡았다]//[[주간투자동...   1.0\n",
       "..          ...                                                ...   ...\n",
       "274  2022.09.23  [WCP 흥행 실패에 컬리, 케이뱅크 상장 시기 '안갯속']//[\\n심사 승인 났는...     -\n",
       "275  2022.09.26  [[먹거리+IT] 네이처랩 오경주 대표, “맛있고 건강한 주스 추천 서비스를 개발합...     -\n",
       "276  2022.09.27  [\"투자 늘렸는데 이제와서…\" 퀵커머스마저 규제하나 '초긴장']//[\\n■국감 오르...     -\n",
       "277  2022.09.29  [국내 이커머스 상장 1호 주인공 누가될까 [격변의 이커머스①]]//[\\n이커머스 ...     -\n",
       "278  2022.09.30  [오아시스마켓, 맞춤형 영상 콘텐츠 지원에 소상공인 매출 ‘쑥쑥’]//[\\n\"V 커...     -\n",
       "\n",
       "[279 rows x 3 columns]"
      ]
     },
     "execution_count": 28,
     "metadata": {},
     "output_type": "execute_result"
    }
   ],
   "source": [
    "df"
   ]
  },
  {
   "cell_type": "code",
   "execution_count": 30,
   "id": "cda72402",
   "metadata": {
    "ExecuteTime": {
     "end_time": "2022-10-06T16:51:09.343654Z",
     "start_time": "2022-10-06T16:51:09.147804Z"
    }
   },
   "outputs": [
    {
     "data": {
      "text/plain": [
       "<AxesSubplot:>"
      ]
     },
     "execution_count": 30,
     "metadata": {},
     "output_type": "execute_result"
    },
    {
     "data": {
      "image/png": "[encoded data removed]",
      "text/plain": [
       "<Figure size 432x288 with 1 Axes>"
      ]
     },
     "metadata": {
      "needs_background": "light"
     },
     "output_type": "display_data"
    }
   ],
   "source": [
    "df['label'].value_counts().plot(kind='bar')"
   ]
  },
  {
   "cell_type": "code",
   "execution_count": 6,
   "id": "fd66d057",
   "metadata": {
    "ExecuteTime": {
     "end_time": "2022-10-06T16:40:43.229050Z",
     "start_time": "2022-10-06T16:40:43.206230Z"
    }
   },
   "outputs": [],
   "source": [
    "df = df.rename(columns={'dates':'date', 'titles':'title','contents':'content'})\n",
    "df['content'] = df['title'] + df['content']"
   ]
  },
  {
   "cell_type": "code",
   "execution_count": 7,
   "id": "423625df",
   "metadata": {
    "ExecuteTime": {
     "end_time": "2022-10-06T16:40:43.260074Z",
     "start_time": "2022-10-06T16:40:43.234564Z"
    }
   },
   "outputs": [],
   "source": [
    "df = df.drop(columns=['근거', 'title'])"
   ]
  },
  {
   "cell_type": "code",
   "execution_count": 24,
   "id": "e6249a17",
   "metadata": {
    "ExecuteTime": {
     "end_time": "2022-10-06T16:48:11.362365Z",
     "start_time": "2022-10-06T16:48:11.303798Z"
    }
   },
   "outputs": [
    {
     "data": {
      "text/html": [
       "<div>\n",
       "<style scoped>\n",
       "    .dataframe tbody tr th:only-of-type {\n",
       "        vertical-align: middle;\n",
       "    }\n",
       "\n",
       "    .dataframe tbody tr th {\n",
       "        vertical-align: top;\n",
       "    }\n",
       "\n",
       "    .dataframe thead th {\n",
       "        text-align: right;\n",
       "    }\n",
       "</style>\n",
       "<table border=\"1\" class=\"dataframe\">\n",
       "  <thead>\n",
       "    <tr style=\"text-align: right;\">\n",
       "      <th></th>\n",
       "      <th>date</th>\n",
       "      <th>content</th>\n",
       "      <th>label</th>\n",
       "    </tr>\n",
       "  </thead>\n",
       "  <tbody>\n",
       "    <tr>\n",
       "      <th>0</th>\n",
       "      <td>2021.10.05</td>\n",
       "      <td>[[톡톡 이상품] 한빛코리아 / 다지워 네이처 클렌징 솝]//[\\n마스카라까지 지우...</td>\n",
       "      <td>0</td>\n",
       "    </tr>\n",
       "    <tr>\n",
       "      <th>1</th>\n",
       "      <td>2021.10.07</td>\n",
       "      <td>[[격동의 유통가④]편의점 성장 정체…미래는 근거리 쇼핑]//[\"파괴적 커머스 시대...</td>\n",
       "      <td>1</td>\n",
       "    </tr>\n",
       "    <tr>\n",
       "      <th>2</th>\n",
       "      <td>2021.10.08</td>\n",
       "      <td>[株머니 매니저의 HOT종목]//[\\n\\n\\n\\n\\n 씨에스윈드는 풍력발전기를 구성...</td>\n",
       "      <td>1</td>\n",
       "    </tr>\n",
       "    <tr>\n",
       "      <th>3</th>\n",
       "      <td>2021.10.11</td>\n",
       "      <td>[김민수 더맘마 대표 \"동네마트와 '상생'이 경쟁력…30분 총알배송 목표\"]//[\\...</td>\n",
       "      <td>0</td>\n",
       "    </tr>\n",
       "    <tr>\n",
       "      <th>4</th>\n",
       "      <td>2021.10.13</td>\n",
       "      <td>[\"카카오 보고있나\"…진격의 네이버페이, 中 최대 직구몰 손잡았다]//[[주간투자동...</td>\n",
       "      <td>1</td>\n",
       "    </tr>\n",
       "    <tr>\n",
       "      <th>...</th>\n",
       "      <td>...</td>\n",
       "      <td>...</td>\n",
       "      <td>...</td>\n",
       "    </tr>\n",
       "    <tr>\n",
       "      <th>162</th>\n",
       "      <td>2022.04.22</td>\n",
       "      <td>[NH투자증권, SK에코플랜트 주관사 선정… IPO 실적 호조]//[우리생협, 오아...</td>\n",
       "      <td>-1</td>\n",
       "    </tr>\n",
       "    <tr>\n",
       "      <th>163</th>\n",
       "      <td>2022.04.25</td>\n",
       "      <td>[“500억 투자했는데”... 홍정국의 아픈 손가락 ‘헬로네이처’ 매각 적신호]//...</td>\n",
       "      <td>1</td>\n",
       "    </tr>\n",
       "    <tr>\n",
       "      <th>164</th>\n",
       "      <td>2022.04.26</td>\n",
       "      <td>[오아시스마켓 \"오프라인 매장 간판서 '생협' 제외\"]//[[고고IPO] ‘업계 4...</td>\n",
       "      <td>1</td>\n",
       "    </tr>\n",
       "    <tr>\n",
       "      <th>165</th>\n",
       "      <td>2022.04.27</td>\n",
       "      <td>[[마켓인]프롭테크하면 무조건 뜬다?…투자유치 '부익부 빈익빈']//[IPO 앞둔 ...</td>\n",
       "      <td>-1</td>\n",
       "    </tr>\n",
       "    <tr>\n",
       "      <th>166</th>\n",
       "      <td>2022.04.28</td>\n",
       "      <td>[새벽배송 '헬로네이처', CU와 시너지 못낸 이유는?]//[디지털라이프 5~50%...</td>\n",
       "      <td>-1</td>\n",
       "    </tr>\n",
       "  </tbody>\n",
       "</table>\n",
       "<p>167 rows × 3 columns</p>\n",
       "</div>"
      ],
      "text/plain": [
       "           date                                            content  label\n",
       "0    2021.10.05  [[톡톡 이상품] 한빛코리아 / 다지워 네이처 클렌징 솝]//[\\n마스카라까지 지우...      0\n",
       "1    2021.10.07  [[격동의 유통가④]편의점 성장 정체…미래는 근거리 쇼핑]//[\"파괴적 커머스 시대...      1\n",
       "2    2021.10.08  [株머니 매니저의 HOT종목]//[\\n\\n\\n\\n\\n 씨에스윈드는 풍력발전기를 구성...      1\n",
       "3    2021.10.11  [김민수 더맘마 대표 \"동네마트와 '상생'이 경쟁력…30분 총알배송 목표\"]//[\\...      0\n",
       "4    2021.10.13  [\"카카오 보고있나\"…진격의 네이버페이, 中 최대 직구몰 손잡았다]//[[주간투자동...      1\n",
       "..          ...                                                ...    ...\n",
       "162  2022.04.22  [NH투자증권, SK에코플랜트 주관사 선정… IPO 실적 호조]//[우리생협, 오아...     -1\n",
       "163  2022.04.25  [“500억 투자했는데”... 홍정국의 아픈 손가락 ‘헬로네이처’ 매각 적신호]//...      1\n",
       "164  2022.04.26  [오아시스마켓 \"오프라인 매장 간판서 '생협' 제외\"]//[[고고IPO] ‘업계 4...      1\n",
       "165  2022.04.27  [[마켓인]프롭테크하면 무조건 뜬다?…투자유치 '부익부 빈익빈']//[IPO 앞둔 ...     -1\n",
       "166  2022.04.28  [새벽배송 '헬로네이처', CU와 시너지 못낸 이유는?]//[디지털라이프 5~50%...     -1\n",
       "\n",
       "[167 rows x 3 columns]"
      ]
     },
     "execution_count": 24,
     "metadata": {},
     "output_type": "execute_result"
    }
   ],
   "source": [
    "train = df[:167]\n",
    "# train['label'] = train['label'].astype(int)\n",
    "train"
   ]
  },
  {
   "cell_type": "code",
   "execution_count": 9,
   "id": "8932bb1b",
   "metadata": {
    "ExecuteTime": {
     "end_time": "2022-10-06T16:40:43.369672Z",
     "start_time": "2022-10-06T16:40:43.327784Z"
    }
   },
   "outputs": [
    {
     "data": {
      "text/html": [
       "<div>\n",
       "<style scoped>\n",
       "    .dataframe tbody tr th:only-of-type {\n",
       "        vertical-align: middle;\n",
       "    }\n",
       "\n",
       "    .dataframe tbody tr th {\n",
       "        vertical-align: top;\n",
       "    }\n",
       "\n",
       "    .dataframe thead th {\n",
       "        text-align: right;\n",
       "    }\n",
       "</style>\n",
       "<table border=\"1\" class=\"dataframe\">\n",
       "  <thead>\n",
       "    <tr style=\"text-align: right;\">\n",
       "      <th></th>\n",
       "      <th>date</th>\n",
       "      <th>content</th>\n",
       "      <th>label</th>\n",
       "    </tr>\n",
       "  </thead>\n",
       "  <tbody>\n",
       "    <tr>\n",
       "      <th>167</th>\n",
       "      <td>2022.04.29</td>\n",
       "      <td>[공정위, 새벽배송업체 오아시스 ‘생협 간판’ 사용에 제동]//[\"무조건 창업 한번...</td>\n",
       "      <td>-</td>\n",
       "    </tr>\n",
       "    <tr>\n",
       "      <th>168</th>\n",
       "      <td>2022.04.30</td>\n",
       "      <td>[코로나 엔데믹 전환에 배송전쟁 판도 변화…점유율 경쟁 보다 ‘수익성’]//[\\n롯...</td>\n",
       "      <td>-</td>\n",
       "    </tr>\n",
       "    <tr>\n",
       "      <th>169</th>\n",
       "      <td>2022.05.02</td>\n",
       "      <td>[창업자 188명 '지상 IR' 날개…K-스타트업 등용문 '우뚝']//[오아시스마켓...</td>\n",
       "      <td>-</td>\n",
       "    </tr>\n",
       "    <tr>\n",
       "      <th>170</th>\n",
       "      <td>2022.05.03</td>\n",
       "      <td>[[엔데믹, 오다]이커머스 '옥석 가리기' 본격 시동]//[우여곡절 끝에 IPO 첫...</td>\n",
       "      <td>-</td>\n",
       "    </tr>\n",
       "    <tr>\n",
       "      <th>171</th>\n",
       "      <td>2022.05.04</td>\n",
       "      <td>[9조 원 규모 새벽배송 누가 살아남을까? 돈의 전쟁이 시작됐다!]//[\\n\\t\\t...</td>\n",
       "      <td>-</td>\n",
       "    </tr>\n",
       "    <tr>\n",
       "      <th>...</th>\n",
       "      <td>...</td>\n",
       "      <td>...</td>\n",
       "      <td>...</td>\n",
       "    </tr>\n",
       "    <tr>\n",
       "      <th>274</th>\n",
       "      <td>2022.09.23</td>\n",
       "      <td>[WCP 흥행 실패에 컬리, 케이뱅크 상장 시기 '안갯속']//[\\n심사 승인 났는...</td>\n",
       "      <td>-</td>\n",
       "    </tr>\n",
       "    <tr>\n",
       "      <th>275</th>\n",
       "      <td>2022.09.26</td>\n",
       "      <td>[[먹거리+IT] 네이처랩 오경주 대표, “맛있고 건강한 주스 추천 서비스를 개발합...</td>\n",
       "      <td>-</td>\n",
       "    </tr>\n",
       "    <tr>\n",
       "      <th>276</th>\n",
       "      <td>2022.09.27</td>\n",
       "      <td>[\"투자 늘렸는데 이제와서…\" 퀵커머스마저 규제하나 '초긴장']//[\\n■국감 오르...</td>\n",
       "      <td>-</td>\n",
       "    </tr>\n",
       "    <tr>\n",
       "      <th>277</th>\n",
       "      <td>2022.09.29</td>\n",
       "      <td>[국내 이커머스 상장 1호 주인공 누가될까 [격변의 이커머스①]]//[\\n이커머스 ...</td>\n",
       "      <td>-</td>\n",
       "    </tr>\n",
       "    <tr>\n",
       "      <th>278</th>\n",
       "      <td>2022.09.30</td>\n",
       "      <td>[오아시스마켓, 맞춤형 영상 콘텐츠 지원에 소상공인 매출 ‘쑥쑥’]//[\\n\"V 커...</td>\n",
       "      <td>-</td>\n",
       "    </tr>\n",
       "  </tbody>\n",
       "</table>\n",
       "<p>112 rows × 3 columns</p>\n",
       "</div>"
      ],
      "text/plain": [
       "           date                                            content label\n",
       "167  2022.04.29  [공정위, 새벽배송업체 오아시스 ‘생협 간판’ 사용에 제동]//[\"무조건 창업 한번...     -\n",
       "168  2022.04.30  [코로나 엔데믹 전환에 배송전쟁 판도 변화…점유율 경쟁 보다 ‘수익성’]//[\\n롯...     -\n",
       "169  2022.05.02  [창업자 188명 '지상 IR' 날개…K-스타트업 등용문 '우뚝']//[오아시스마켓...     -\n",
       "170  2022.05.03  [[엔데믹, 오다]이커머스 '옥석 가리기' 본격 시동]//[우여곡절 끝에 IPO 첫...     -\n",
       "171  2022.05.04  [9조 원 규모 새벽배송 누가 살아남을까? 돈의 전쟁이 시작됐다!]//[\\n\\t\\t...     -\n",
       "..          ...                                                ...   ...\n",
       "274  2022.09.23  [WCP 흥행 실패에 컬리, 케이뱅크 상장 시기 '안갯속']//[\\n심사 승인 났는...     -\n",
       "275  2022.09.26  [[먹거리+IT] 네이처랩 오경주 대표, “맛있고 건강한 주스 추천 서비스를 개발합...     -\n",
       "276  2022.09.27  [\"투자 늘렸는데 이제와서…\" 퀵커머스마저 규제하나 '초긴장']//[\\n■국감 오르...     -\n",
       "277  2022.09.29  [국내 이커머스 상장 1호 주인공 누가될까 [격변의 이커머스①]]//[\\n이커머스 ...     -\n",
       "278  2022.09.30  [오아시스마켓, 맞춤형 영상 콘텐츠 지원에 소상공인 매출 ‘쑥쑥’]//[\\n\"V 커...     -\n",
       "\n",
       "[112 rows x 3 columns]"
      ]
     },
     "execution_count": 9,
     "metadata": {},
     "output_type": "execute_result"
    }
   ],
   "source": [
    "# test set\n",
    "test = df[167:]\n",
    "test"
   ]
  },
  {
   "cell_type": "markdown",
   "id": "5c5f517d",
   "metadata": {},
   "source": [
    "### 학습/검증셋 분리"
   ]
  },
  {
   "cell_type": "code",
   "execution_count": 10,
   "id": "cf72d2ab",
   "metadata": {
    "ExecuteTime": {
     "end_time": "2022-10-06T16:40:45.381793Z",
     "start_time": "2022-10-06T16:40:43.374660Z"
    }
   },
   "outputs": [],
   "source": [
    "from sklearn.model_selection import train_test_split\n",
    "\n",
    "train, val = train_test_split(train)\n",
    "train.reset_index(inplace=True) # 전처리 과정에서 데이터가 뒤섞이지 않도록 인덱스를 초기화해주었습니다.\n",
    "val.reset_index(inplace=True)"
   ]
  },
  {
   "cell_type": "code",
   "execution_count": 11,
   "id": "7428f274",
   "metadata": {
    "ExecuteTime": {
     "end_time": "2022-10-06T16:40:45.444427Z",
     "start_time": "2022-10-06T16:40:45.389612Z"
    }
   },
   "outputs": [
    {
     "data": {
      "text/html": [
       "<div>\n",
       "<style scoped>\n",
       "    .dataframe tbody tr th:only-of-type {\n",
       "        vertical-align: middle;\n",
       "    }\n",
       "\n",
       "    .dataframe tbody tr th {\n",
       "        vertical-align: top;\n",
       "    }\n",
       "\n",
       "    .dataframe thead th {\n",
       "        text-align: right;\n",
       "    }\n",
       "</style>\n",
       "<table border=\"1\" class=\"dataframe\">\n",
       "  <thead>\n",
       "    <tr style=\"text-align: right;\">\n",
       "      <th></th>\n",
       "      <th>date</th>\n",
       "      <th>content</th>\n",
       "      <th>label</th>\n",
       "    </tr>\n",
       "  </thead>\n",
       "  <tbody>\n",
       "    <tr>\n",
       "      <th>0</th>\n",
       "      <td>2021.12.20</td>\n",
       "      <td>[IPO 문 닫는 래몽래인…올해 증권사‧종목별 성적 어땠나]//[더 뜨거워지는 공모...</td>\n",
       "      <td>1.0</td>\n",
       "    </tr>\n",
       "    <tr>\n",
       "      <th>1</th>\n",
       "      <td>2021.11.11</td>\n",
       "      <td>[기념일마다 선물에 월급날엔 일찍 집으로··· MZ가 '픽'한 플랫폼 5총사, 복지...</td>\n",
       "      <td>1.0</td>\n",
       "    </tr>\n",
       "    <tr>\n",
       "      <th>2</th>\n",
       "      <td>2022.02.04</td>\n",
       "      <td>[투자자 돈 쓸어 담은 비상장주는? 토스·야놀자·루닛…‘드림개미’ 사로잡다]//[저...</td>\n",
       "      <td>-1.0</td>\n",
       "    </tr>\n",
       "    <tr>\n",
       "      <th>3</th>\n",
       "      <td>2021.12.23</td>\n",
       "      <td>[코인빗, 가상자산사업자 신고 철회…서비스 종료 수순]//[내년 IPO ‘더 큰 장...</td>\n",
       "      <td>1.0</td>\n",
       "    </tr>\n",
       "    <tr>\n",
       "      <th>4</th>\n",
       "      <td>2021.12.22</td>\n",
       "      <td>[NHN페이코, 연말 맞이 ‘페이코 포인트 플러스’ 적립 이벤트]//[\\n     ...</td>\n",
       "      <td>0.0</td>\n",
       "    </tr>\n",
       "    <tr>\n",
       "      <th>...</th>\n",
       "      <td>...</td>\n",
       "      <td>...</td>\n",
       "      <td>...</td>\n",
       "    </tr>\n",
       "    <tr>\n",
       "      <th>120</th>\n",
       "      <td>2022.04.18</td>\n",
       "      <td>['새벽배송' 대신 '퀵커머스' 올인하는 유통가, 왜?]//[\\n\\n\\n\\n\\n포켓...</td>\n",
       "      <td>0.0</td>\n",
       "    </tr>\n",
       "    <tr>\n",
       "      <th>121</th>\n",
       "      <td>2021.12.21</td>\n",
       "      <td>[내년 IPO시장 `후끈`…초대어급 줄상장 `예고` [이슈플러스]]//[[민지리뷰]...</td>\n",
       "      <td>1.0</td>\n",
       "    </tr>\n",
       "    <tr>\n",
       "      <th>122</th>\n",
       "      <td>2021.12.26</td>\n",
       "      <td>[[아듀 2021]코로나發 스타트업 고성장…두나무·직방·컬리·당근 '新유니콘']//...</td>\n",
       "      <td>0.0</td>\n",
       "    </tr>\n",
       "    <tr>\n",
       "      <th>123</th>\n",
       "      <td>2022.03.16</td>\n",
       "      <td>[오아시스·이마트도 출격…판 커지는 '퀵커머스 대전']//[\"주문 즉시 배송\" 유통...</td>\n",
       "      <td>1.0</td>\n",
       "    </tr>\n",
       "    <tr>\n",
       "      <th>124</th>\n",
       "      <td>2022.01.10</td>\n",
       "      <td>[커피부터 명품까지 퀵커머스 전쟁, 배민·쿠팡에 롯데·GS 도전 “우리가 ‘더 빨라...</td>\n",
       "      <td>-1.0</td>\n",
       "    </tr>\n",
       "  </tbody>\n",
       "</table>\n",
       "<p>125 rows × 3 columns</p>\n",
       "</div>"
      ],
      "text/plain": [
       "           date                                            content label\n",
       "0    2021.12.20  [IPO 문 닫는 래몽래인…올해 증권사‧종목별 성적 어땠나]//[더 뜨거워지는 공모...   1.0\n",
       "1    2021.11.11  [기념일마다 선물에 월급날엔 일찍 집으로··· MZ가 '픽'한 플랫폼 5총사, 복지...   1.0\n",
       "2    2022.02.04  [투자자 돈 쓸어 담은 비상장주는? 토스·야놀자·루닛…‘드림개미’ 사로잡다]//[저...  -1.0\n",
       "3    2021.12.23  [코인빗, 가상자산사업자 신고 철회…서비스 종료 수순]//[내년 IPO ‘더 큰 장...   1.0\n",
       "4    2021.12.22  [NHN페이코, 연말 맞이 ‘페이코 포인트 플러스’ 적립 이벤트]//[\\n     ...   0.0\n",
       "..          ...                                                ...   ...\n",
       "120  2022.04.18  ['새벽배송' 대신 '퀵커머스' 올인하는 유통가, 왜?]//[\\n\\n\\n\\n\\n포켓...   0.0\n",
       "121  2021.12.21  [내년 IPO시장 `후끈`…초대어급 줄상장 `예고` [이슈플러스]]//[[민지리뷰]...   1.0\n",
       "122  2021.12.26  [[아듀 2021]코로나發 스타트업 고성장…두나무·직방·컬리·당근 '新유니콘']//...   0.0\n",
       "123  2022.03.16  [오아시스·이마트도 출격…판 커지는 '퀵커머스 대전']//[\"주문 즉시 배송\" 유통...   1.0\n",
       "124  2022.01.10  [커피부터 명품까지 퀵커머스 전쟁, 배민·쿠팡에 롯데·GS 도전 “우리가 ‘더 빨라...  -1.0\n",
       "\n",
       "[125 rows x 3 columns]"
      ]
     },
     "execution_count": 11,
     "metadata": {},
     "output_type": "execute_result"
    }
   ],
   "source": [
    "### train.set_index('date')\n",
    "\n",
    "train = train.drop(columns = ['index'])\n",
    "train"
   ]
  },
  {
   "cell_type": "code",
   "execution_count": 12,
   "id": "1ebebb31",
   "metadata": {
    "ExecuteTime": {
     "end_time": "2022-10-06T16:40:45.539643Z",
     "start_time": "2022-10-06T16:40:45.462374Z"
    },
    "scrolled": true
   },
   "outputs": [
    {
     "data": {
      "text/html": [
       "<div>\n",
       "<style scoped>\n",
       "    .dataframe tbody tr th:only-of-type {\n",
       "        vertical-align: middle;\n",
       "    }\n",
       "\n",
       "    .dataframe tbody tr th {\n",
       "        vertical-align: top;\n",
       "    }\n",
       "\n",
       "    .dataframe thead th {\n",
       "        text-align: right;\n",
       "    }\n",
       "</style>\n",
       "<table border=\"1\" class=\"dataframe\">\n",
       "  <thead>\n",
       "    <tr style=\"text-align: right;\">\n",
       "      <th></th>\n",
       "      <th>index</th>\n",
       "      <th>date</th>\n",
       "      <th>content</th>\n",
       "      <th>label</th>\n",
       "    </tr>\n",
       "  </thead>\n",
       "  <tbody>\n",
       "    <tr>\n",
       "      <th>0</th>\n",
       "      <td>152</td>\n",
       "      <td>2022.04.12</td>\n",
       "      <td>[새벽배송 1호 컬리, 목표 시총 6조지만…거품 논란도]//[케이뱅크, MZ세대 맞...</td>\n",
       "      <td>-1.0</td>\n",
       "    </tr>\n",
       "    <tr>\n",
       "      <th>1</th>\n",
       "      <td>77</td>\n",
       "      <td>2022.01.06</td>\n",
       "      <td>[흑자 비결 여기있었네…‘효율 끝판왕’ 오아시스 물류센터 가보니]//[\\n&lt;다시 뛰...</td>\n",
       "      <td>1.0</td>\n",
       "    </tr>\n",
       "    <tr>\n",
       "      <th>2</th>\n",
       "      <td>13</td>\n",
       "      <td>2021.10.26</td>\n",
       "      <td>[[마켓인]국내 투자사, 가상자산 '주춤'에도 관련 기업 투자 속속]//[쿠팡맨 이...</td>\n",
       "      <td>1.0</td>\n",
       "    </tr>\n",
       "    <tr>\n",
       "      <th>3</th>\n",
       "      <td>144</td>\n",
       "      <td>2022.03.30</td>\n",
       "      <td>[SK쉴더스·원스토어 출격...얼어붙은 IPO시장 녹인다]//[상장 앞둔 '오아시스...</td>\n",
       "      <td>1.0</td>\n",
       "    </tr>\n",
       "    <tr>\n",
       "      <th>4</th>\n",
       "      <td>74</td>\n",
       "      <td>2022.01.03</td>\n",
       "      <td>[[2022 증시③] 업종 기상도...반도체·車 ‘맑음’ 조선·증권 ‘흐림’]//[...</td>\n",
       "      <td>1.0</td>\n",
       "    </tr>\n",
       "    <tr>\n",
       "      <th>5</th>\n",
       "      <td>68</td>\n",
       "      <td>2021.12.28</td>\n",
       "      <td>[내년 더 뜨거워진다... 30조 바라보는 IPO시장 관전포인트는?]//[\\n\\t\\...</td>\n",
       "      <td>1.0</td>\n",
       "    </tr>\n",
       "    <tr>\n",
       "      <th>6</th>\n",
       "      <td>57</td>\n",
       "      <td>2021.12.15</td>\n",
       "      <td>['각자도생' 살길 찾는 1세대 이커머스]//[미스터아빠-데이웰즈, 경북프레쉬 센터...</td>\n",
       "      <td>1.0</td>\n",
       "    </tr>\n",
       "    <tr>\n",
       "      <th>7</th>\n",
       "      <td>83</td>\n",
       "      <td>2022.01.13</td>\n",
       "      <td>[오아시스마켓 등판...식품 라이브커머스 치열해진다]//[오아시스마켓, 라이브 커머...</td>\n",
       "      <td>1.0</td>\n",
       "    </tr>\n",
       "    <tr>\n",
       "      <th>8</th>\n",
       "      <td>36</td>\n",
       "      <td>2021.11.23</td>\n",
       "      <td>[‘후끈’ 달아오른 장외 시장…MZ세대 비상장 숨은 보석에 꽂히다]//[금융위 \"N...</td>\n",
       "      <td>0.0</td>\n",
       "    </tr>\n",
       "    <tr>\n",
       "      <th>9</th>\n",
       "      <td>23</td>\n",
       "      <td>2021.11.05</td>\n",
       "      <td>['상장 추진' 컬리·SSG·오아시스, 벌써 신경전]//[동네슈퍼도 퀵커머스 가능해...</td>\n",
       "      <td>1.0</td>\n",
       "    </tr>\n",
       "    <tr>\n",
       "      <th>10</th>\n",
       "      <td>101</td>\n",
       "      <td>2022.02.02</td>\n",
       "      <td>[\"대어급 줄줄이 데뷔\"…여의도서 '새벽배송 대전' 벌어진다]//['샛별 투자사' ...</td>\n",
       "      <td>1.0</td>\n",
       "    </tr>\n",
       "    <tr>\n",
       "      <th>11</th>\n",
       "      <td>129</td>\n",
       "      <td>2022.03.13</td>\n",
       "      <td>[마켓컬리 쿠팡 긴장해야겠네…네이버도 새벽배송 시장 본격 참전]//[\\n올들어 잇달...</td>\n",
       "      <td>-1.0</td>\n",
       "    </tr>\n",
       "    <tr>\n",
       "      <th>12</th>\n",
       "      <td>127</td>\n",
       "      <td>2022.03.09</td>\n",
       "      <td>[\"전쟁 날 줄 알았나요\" 새벽배송 3대장, 연내 상장 안갯속]//[네이버에 G마켓...</td>\n",
       "      <td>-1.0</td>\n",
       "    </tr>\n",
       "    <tr>\n",
       "      <th>13</th>\n",
       "      <td>115</td>\n",
       "      <td>2022.02.19</td>\n",
       "      <td>[20년만에 매각되는 초록마을…이마트에브리데이·컬리도 인수 군침]//[\\n유통사부터...</td>\n",
       "      <td>1.0</td>\n",
       "    </tr>\n",
       "    <tr>\n",
       "      <th>14</th>\n",
       "      <td>139</td>\n",
       "      <td>2022.03.25</td>\n",
       "      <td>[[위클리 마켓] 시장 부진에…4월 중순까지 IPO 전무]//[두달 만에…IPO 대...</td>\n",
       "      <td>1.0</td>\n",
       "    </tr>\n",
       "    <tr>\n",
       "      <th>15</th>\n",
       "      <td>130</td>\n",
       "      <td>2022.03.14</td>\n",
       "      <td>[쿠팡 이후 소식 없는 '만년 적자' 이커머스 상장... 컬리·SSG는 \"대기 중\"...</td>\n",
       "      <td>-1.0</td>\n",
       "    </tr>\n",
       "    <tr>\n",
       "      <th>16</th>\n",
       "      <td>6</td>\n",
       "      <td>2021.10.15</td>\n",
       "      <td>[[르포]\"냉장고 아냐?\" 가까이 보니 맨드라미·비올라가…꽝손도 할수있다]//[\\n...</td>\n",
       "      <td>0.0</td>\n",
       "    </tr>\n",
       "    <tr>\n",
       "      <th>17</th>\n",
       "      <td>53</td>\n",
       "      <td>2021.12.11</td>\n",
       "      <td>[2021 이커머스 업계 합종연횡…새벽배송 기업 ‘상장 앞으로']//[\\n[2021...</td>\n",
       "      <td>1.0</td>\n",
       "    </tr>\n",
       "    <tr>\n",
       "      <th>18</th>\n",
       "      <td>120</td>\n",
       "      <td>2022.03.01</td>\n",
       "      <td>[쑥쑥 큰 가상자산, 하루 거래대금 코스닥 맞먹었다]//[\\n국내 가상자산 제도권 ...</td>\n",
       "      <td>0.0</td>\n",
       "    </tr>\n",
       "    <tr>\n",
       "      <th>19</th>\n",
       "      <td>7</td>\n",
       "      <td>2021.10.18</td>\n",
       "      <td>[네이버‧카카오, 3분기 맑음…규제 회초리에도 성장 멈추지 않아]//['각자의 길'...</td>\n",
       "      <td>1.0</td>\n",
       "    </tr>\n",
       "    <tr>\n",
       "      <th>20</th>\n",
       "      <td>47</td>\n",
       "      <td>2021.12.05</td>\n",
       "      <td>[내년 IPO 대어는? LG에너지솔루션·카카오엔터 등 출격 대기]//[\\n[성공확률...</td>\n",
       "      <td>1.0</td>\n",
       "    </tr>\n",
       "    <tr>\n",
       "      <th>21</th>\n",
       "      <td>136</td>\n",
       "      <td>2022.03.21</td>\n",
       "      <td>[오아시스마켓, 지난해 매출 3570억 달성…전년 대비 50%↑]//[오아시스마켓,...</td>\n",
       "      <td>1.0</td>\n",
       "    </tr>\n",
       "    <tr>\n",
       "      <th>22</th>\n",
       "      <td>73</td>\n",
       "      <td>2022.01.02</td>\n",
       "      <td>[2022년 ‘IPO  대어’ 몰려온다…LG에너지솔루션·현대엔지니어링·쓱닷컴 상장 ...</td>\n",
       "      <td>1.0</td>\n",
       "    </tr>\n",
       "    <tr>\n",
       "      <th>23</th>\n",
       "      <td>148</td>\n",
       "      <td>2022.04.05</td>\n",
       "      <td>[컬리, IPO 앞두고 우울한 성적표…상장 '빨간불' [박종관의 유통관통]]//[비...</td>\n",
       "      <td>0.0</td>\n",
       "    </tr>\n",
       "    <tr>\n",
       "      <th>24</th>\n",
       "      <td>45</td>\n",
       "      <td>2021.12.03</td>\n",
       "      <td>[내년에도 '역대급' 공모…투자 전략은? [더 머니이스트-조재영의 투자스토리]]//...</td>\n",
       "      <td>1.0</td>\n",
       "    </tr>\n",
       "    <tr>\n",
       "      <th>25</th>\n",
       "      <td>39</td>\n",
       "      <td>2021.11.27</td>\n",
       "      <td>[\"이 방법은 몰랐지?\"…나홀로 영업익 10배뛴 '오아시스' 돈 버는 방법 [홍키자...</td>\n",
       "      <td>1.0</td>\n",
       "    </tr>\n",
       "    <tr>\n",
       "      <th>26</th>\n",
       "      <td>30</td>\n",
       "      <td>2021.11.17</td>\n",
       "      <td>[내년 공모주 시장 벌써 들썩...IPO 최대어 LG엔솔 1월 상장]//[\\n‘단군...</td>\n",
       "      <td>1.0</td>\n",
       "    </tr>\n",
       "    <tr>\n",
       "      <th>27</th>\n",
       "      <td>157</td>\n",
       "      <td>2022.04.17</td>\n",
       "      <td>[대기업도 출혈에 포기…새벽배송 재편 신호탄]//[임세령은 왜 정육각을 pick했나...</td>\n",
       "      <td>-1.0</td>\n",
       "    </tr>\n",
       "    <tr>\n",
       "      <th>28</th>\n",
       "      <td>59</td>\n",
       "      <td>2021.12.18</td>\n",
       "      <td>[아마존이 백화점 오픈?…e커머스, 왜 오프라인 시장도 노리나]//[\\n\\t\\t\\t...</td>\n",
       "      <td>1.0</td>\n",
       "    </tr>\n",
       "    <tr>\n",
       "      <th>29</th>\n",
       "      <td>20</td>\n",
       "      <td>2021.11.02</td>\n",
       "      <td>[한쪽선 규제 한쪽선 투자...‘퀵커머스’ 놓고 온도차]//[[이커머스 대격변①] ...</td>\n",
       "      <td>1.0</td>\n",
       "    </tr>\n",
       "    <tr>\n",
       "      <th>30</th>\n",
       "      <td>21</td>\n",
       "      <td>2021.11.03</td>\n",
       "      <td>[상장 서두르는 새벽배송 업계의 속내는 [한경엣지]]//[뜨거워지는 장외시장,  증...</td>\n",
       "      <td>1.0</td>\n",
       "    </tr>\n",
       "    <tr>\n",
       "      <th>31</th>\n",
       "      <td>58</td>\n",
       "      <td>2021.12.17</td>\n",
       "      <td>[[스페셜] ‘새벽배송 상장 1호’ 경쟁…원스토어·카카오엔터도 눈길]//[[스페셜]...</td>\n",
       "      <td>1.0</td>\n",
       "    </tr>\n",
       "    <tr>\n",
       "      <th>32</th>\n",
       "      <td>163</td>\n",
       "      <td>2022.04.25</td>\n",
       "      <td>[“500억 투자했는데”... 홍정국의 아픈 손가락 ‘헬로네이처’ 매각 적신호]//...</td>\n",
       "      <td>1.0</td>\n",
       "    </tr>\n",
       "    <tr>\n",
       "      <th>33</th>\n",
       "      <td>24</td>\n",
       "      <td>2021.11.07</td>\n",
       "      <td>[[미리보는 이데일리 신문]누가 돼도 칼바람 술렁이는 세종]//['무엇이든 빨리 배...</td>\n",
       "      <td>1.0</td>\n",
       "    </tr>\n",
       "    <tr>\n",
       "      <th>34</th>\n",
       "      <td>11</td>\n",
       "      <td>2021.10.22</td>\n",
       "      <td>[딜리버리히어로, 10분 배송 '고릴라스'에 2770억원 투자]//[[영상]2021...</td>\n",
       "      <td>1.0</td>\n",
       "    </tr>\n",
       "    <tr>\n",
       "      <th>35</th>\n",
       "      <td>67</td>\n",
       "      <td>2021.12.27</td>\n",
       "      <td>[올해 IPO 20조 사상최대…\"임인년 30조 폭발, 호랑이 기운 받는다\"]//[G...</td>\n",
       "      <td>1.0</td>\n",
       "    </tr>\n",
       "    <tr>\n",
       "      <th>36</th>\n",
       "      <td>46</td>\n",
       "      <td>2021.12.04</td>\n",
       "      <td>[2021년 11월 프랜차이즈 정보공개서 신규등록 2130개 명단공개 (2)]//[...</td>\n",
       "      <td>0.0</td>\n",
       "    </tr>\n",
       "    <tr>\n",
       "      <th>37</th>\n",
       "      <td>87</td>\n",
       "      <td>2022.01.19</td>\n",
       "      <td>[신선식품 플랫폼 업계, '자체페이' 내세워 경쟁력 차별화]//['10조 도전' 기...</td>\n",
       "      <td>1.0</td>\n",
       "    </tr>\n",
       "    <tr>\n",
       "      <th>38</th>\n",
       "      <td>111</td>\n",
       "      <td>2022.02.13</td>\n",
       "      <td>[그림도 꽃도 매달 바꾼다...유료멤버십 넘어 '핀셋 구독' 인기]//[\\n\\n\\n...</td>\n",
       "      <td>1.0</td>\n",
       "    </tr>\n",
       "    <tr>\n",
       "      <th>39</th>\n",
       "      <td>51</td>\n",
       "      <td>2021.12.09</td>\n",
       "      <td>[이커머스 PB상품 확대 어디까지…\"늘리는 이유 있었네\"]//[퀵커머스 ‘브이’ 인...</td>\n",
       "      <td>1.0</td>\n",
       "    </tr>\n",
       "    <tr>\n",
       "      <th>40</th>\n",
       "      <td>155</td>\n",
       "      <td>2022.04.15</td>\n",
       "      <td>[롯데온 이어 헬로네이처도 백기…뜨던 '새벽배송' 왜 줄줄이 접나]//[BGF, 결...</td>\n",
       "      <td>-1.0</td>\n",
       "    </tr>\n",
       "    <tr>\n",
       "      <th>41</th>\n",
       "      <td>145</td>\n",
       "      <td>2022.03.31</td>\n",
       "      <td>[마켓컬리 IPO 본격화…오아시스마켓·SSG닷컴에 쏠린 눈]//[유통 대장주 노리는...</td>\n",
       "      <td>1.0</td>\n",
       "    </tr>\n",
       "  </tbody>\n",
       "</table>\n",
       "</div>"
      ],
      "text/plain": [
       "    index        date                                            content label\n",
       "0     152  2022.04.12  [새벽배송 1호 컬리, 목표 시총 6조지만…거품 논란도]//[케이뱅크, MZ세대 맞...  -1.0\n",
       "1      77  2022.01.06  [흑자 비결 여기있었네…‘효율 끝판왕’ 오아시스 물류센터 가보니]//[\\n<다시 뛰...   1.0\n",
       "2      13  2021.10.26  [[마켓인]국내 투자사, 가상자산 '주춤'에도 관련 기업 투자 속속]//[쿠팡맨 이...   1.0\n",
       "3     144  2022.03.30  [SK쉴더스·원스토어 출격...얼어붙은 IPO시장 녹인다]//[상장 앞둔 '오아시스...   1.0\n",
       "4      74  2022.01.03  [[2022 증시③] 업종 기상도...반도체·車 ‘맑음’ 조선·증권 ‘흐림’]//[...   1.0\n",
       "5      68  2021.12.28  [내년 더 뜨거워진다... 30조 바라보는 IPO시장 관전포인트는?]//[\\n\\t\\...   1.0\n",
       "6      57  2021.12.15  ['각자도생' 살길 찾는 1세대 이커머스]//[미스터아빠-데이웰즈, 경북프레쉬 센터...   1.0\n",
       "7      83  2022.01.13  [오아시스마켓 등판...식품 라이브커머스 치열해진다]//[오아시스마켓, 라이브 커머...   1.0\n",
       "8      36  2021.11.23  [‘후끈’ 달아오른 장외 시장…MZ세대 비상장 숨은 보석에 꽂히다]//[금융위 \"N...   0.0\n",
       "9      23  2021.11.05  ['상장 추진' 컬리·SSG·오아시스, 벌써 신경전]//[동네슈퍼도 퀵커머스 가능해...   1.0\n",
       "10    101  2022.02.02  [\"대어급 줄줄이 데뷔\"…여의도서 '새벽배송 대전' 벌어진다]//['샛별 투자사' ...   1.0\n",
       "11    129  2022.03.13  [마켓컬리 쿠팡 긴장해야겠네…네이버도 새벽배송 시장 본격 참전]//[\\n올들어 잇달...  -1.0\n",
       "12    127  2022.03.09  [\"전쟁 날 줄 알았나요\" 새벽배송 3대장, 연내 상장 안갯속]//[네이버에 G마켓...  -1.0\n",
       "13    115  2022.02.19  [20년만에 매각되는 초록마을…이마트에브리데이·컬리도 인수 군침]//[\\n유통사부터...   1.0\n",
       "14    139  2022.03.25  [[위클리 마켓] 시장 부진에…4월 중순까지 IPO 전무]//[두달 만에…IPO 대...   1.0\n",
       "15    130  2022.03.14  [쿠팡 이후 소식 없는 '만년 적자' 이커머스 상장... 컬리·SSG는 \"대기 중\"...  -1.0\n",
       "16      6  2021.10.15  [[르포]\"냉장고 아냐?\" 가까이 보니 맨드라미·비올라가…꽝손도 할수있다]//[\\n...   0.0\n",
       "17     53  2021.12.11  [2021 이커머스 업계 합종연횡…새벽배송 기업 ‘상장 앞으로']//[\\n[2021...   1.0\n",
       "18    120  2022.03.01  [쑥쑥 큰 가상자산, 하루 거래대금 코스닥 맞먹었다]//[\\n국내 가상자산 제도권 ...   0.0\n",
       "19      7  2021.10.18  [네이버‧카카오, 3분기 맑음…규제 회초리에도 성장 멈추지 않아]//['각자의 길'...   1.0\n",
       "20     47  2021.12.05  [내년 IPO 대어는? LG에너지솔루션·카카오엔터 등 출격 대기]//[\\n[성공확률...   1.0\n",
       "21    136  2022.03.21  [오아시스마켓, 지난해 매출 3570억 달성…전년 대비 50%↑]//[오아시스마켓,...   1.0\n",
       "22     73  2022.01.02  [2022년 ‘IPO  대어’ 몰려온다…LG에너지솔루션·현대엔지니어링·쓱닷컴 상장 ...   1.0\n",
       "23    148  2022.04.05  [컬리, IPO 앞두고 우울한 성적표…상장 '빨간불' [박종관의 유통관통]]//[비...   0.0\n",
       "24     45  2021.12.03  [내년에도 '역대급' 공모…투자 전략은? [더 머니이스트-조재영의 투자스토리]]//...   1.0\n",
       "25     39  2021.11.27  [\"이 방법은 몰랐지?\"…나홀로 영업익 10배뛴 '오아시스' 돈 버는 방법 [홍키자...   1.0\n",
       "26     30  2021.11.17  [내년 공모주 시장 벌써 들썩...IPO 최대어 LG엔솔 1월 상장]//[\\n‘단군...   1.0\n",
       "27    157  2022.04.17  [대기업도 출혈에 포기…새벽배송 재편 신호탄]//[임세령은 왜 정육각을 pick했나...  -1.0\n",
       "28     59  2021.12.18  [아마존이 백화점 오픈?…e커머스, 왜 오프라인 시장도 노리나]//[\\n\\t\\t\\t...   1.0\n",
       "29     20  2021.11.02  [한쪽선 규제 한쪽선 투자...‘퀵커머스’ 놓고 온도차]//[[이커머스 대격변①] ...   1.0\n",
       "30     21  2021.11.03  [상장 서두르는 새벽배송 업계의 속내는 [한경엣지]]//[뜨거워지는 장외시장,  증...   1.0\n",
       "31     58  2021.12.17  [[스페셜] ‘새벽배송 상장 1호’ 경쟁…원스토어·카카오엔터도 눈길]//[[스페셜]...   1.0\n",
       "32    163  2022.04.25  [“500억 투자했는데”... 홍정국의 아픈 손가락 ‘헬로네이처’ 매각 적신호]//...   1.0\n",
       "33     24  2021.11.07  [[미리보는 이데일리 신문]누가 돼도 칼바람 술렁이는 세종]//['무엇이든 빨리 배...   1.0\n",
       "34     11  2021.10.22  [딜리버리히어로, 10분 배송 '고릴라스'에 2770억원 투자]//[[영상]2021...   1.0\n",
       "35     67  2021.12.27  [올해 IPO 20조 사상최대…\"임인년 30조 폭발, 호랑이 기운 받는다\"]//[G...   1.0\n",
       "36     46  2021.12.04  [2021년 11월 프랜차이즈 정보공개서 신규등록 2130개 명단공개 (2)]//[...   0.0\n",
       "37     87  2022.01.19  [신선식품 플랫폼 업계, '자체페이' 내세워 경쟁력 차별화]//['10조 도전' 기...   1.0\n",
       "38    111  2022.02.13  [그림도 꽃도 매달 바꾼다...유료멤버십 넘어 '핀셋 구독' 인기]//[\\n\\n\\n...   1.0\n",
       "39     51  2021.12.09  [이커머스 PB상품 확대 어디까지…\"늘리는 이유 있었네\"]//[퀵커머스 ‘브이’ 인...   1.0\n",
       "40    155  2022.04.15  [롯데온 이어 헬로네이처도 백기…뜨던 '새벽배송' 왜 줄줄이 접나]//[BGF, 결...  -1.0\n",
       "41    145  2022.03.31  [마켓컬리 IPO 본격화…오아시스마켓·SSG닷컴에 쏠린 눈]//[유통 대장주 노리는...   1.0"
      ]
     },
     "execution_count": 12,
     "metadata": {},
     "output_type": "execute_result"
    }
   ],
   "source": [
    "val"
   ]
  },
  {
   "cell_type": "markdown",
   "id": "bc25d522",
   "metadata": {},
   "source": [
    "### 데이터 정제하기"
   ]
  },
  {
   "cell_type": "code",
   "execution_count": 13,
   "id": "eb2b810d",
   "metadata": {
    "ExecuteTime": {
     "end_time": "2022-10-06T16:40:47.233556Z",
     "start_time": "2022-10-06T16:40:45.552324Z"
    }
   },
   "outputs": [
    {
     "data": {
      "text/html": [
       "<div>\n",
       "<style scoped>\n",
       "    .dataframe tbody tr th:only-of-type {\n",
       "        vertical-align: middle;\n",
       "    }\n",
       "\n",
       "    .dataframe tbody tr th {\n",
       "        vertical-align: top;\n",
       "    }\n",
       "\n",
       "    .dataframe thead th {\n",
       "        text-align: right;\n",
       "    }\n",
       "</style>\n",
       "<table border=\"1\" class=\"dataframe\">\n",
       "  <thead>\n",
       "    <tr style=\"text-align: right;\">\n",
       "      <th></th>\n",
       "      <th>date</th>\n",
       "      <th>content</th>\n",
       "      <th>label</th>\n",
       "    </tr>\n",
       "  </thead>\n",
       "  <tbody>\n",
       "    <tr>\n",
       "      <th>0</th>\n",
       "      <td>2021.12.20</td>\n",
       "      <td>IPO 문 닫는 래몽래인 올해 증권사 종목별 성적 어땠나 더 뜨거워지는 공모주 열...</td>\n",
       "      <td>1.0</td>\n",
       "    </tr>\n",
       "    <tr>\n",
       "      <th>1</th>\n",
       "      <td>2021.11.11</td>\n",
       "      <td>기념일마다 선물에 월급날엔 일찍 집으로 MZ가 픽 한 플랫폼 5총사 복지도 톡톡 ...</td>\n",
       "      <td>1.0</td>\n",
       "    </tr>\n",
       "    <tr>\n",
       "      <th>2</th>\n",
       "      <td>2022.02.04</td>\n",
       "      <td>투자자 돈 쓸어 담은 비상장주는 토스 야놀자 루닛 드림개미 사로잡다 저성장 궤도 ...</td>\n",
       "      <td>-1.0</td>\n",
       "    </tr>\n",
       "    <tr>\n",
       "      <th>3</th>\n",
       "      <td>2021.12.23</td>\n",
       "      <td>코인빗 가상자산사업자 신고 철회 서비스 종료 수순 내년 IPO 더 큰 장 열린다 ...</td>\n",
       "      <td>1.0</td>\n",
       "    </tr>\n",
       "    <tr>\n",
       "      <th>4</th>\n",
       "      <td>2021.12.22</td>\n",
       "      <td>NHN페이코 연말 맞이 페이코 포인트 플러스 적립 이벤트 NHN페이코는 연말을 맞...</td>\n",
       "      <td>0.0</td>\n",
       "    </tr>\n",
       "    <tr>\n",
       "      <th>...</th>\n",
       "      <td>...</td>\n",
       "      <td>...</td>\n",
       "      <td>...</td>\n",
       "    </tr>\n",
       "    <tr>\n",
       "      <th>120</th>\n",
       "      <td>2022.04.18</td>\n",
       "      <td>새벽배송 대신 퀵커머스 올인하는 유통가 왜 포켓CU 리뉴얼 사진제공 BGF리테일롯...</td>\n",
       "      <td>0.0</td>\n",
       "    </tr>\n",
       "    <tr>\n",
       "      <th>121</th>\n",
       "      <td>2021.12.21</td>\n",
       "      <td>내년 IPO시장 후끈 초대어급 줄상장 예고 이슈플러스 민지리뷰 띵동 건강한 유기농...</td>\n",
       "      <td>1.0</td>\n",
       "    </tr>\n",
       "    <tr>\n",
       "      <th>122</th>\n",
       "      <td>2021.12.26</td>\n",
       "      <td>아듀 2021 코로나 스타트업 고성장 두나무 직방 컬리 당근 유니콘 올해 국내 스...</td>\n",
       "      <td>0.0</td>\n",
       "    </tr>\n",
       "    <tr>\n",
       "      <th>123</th>\n",
       "      <td>2022.03.16</td>\n",
       "      <td>오아시스 이마트도 출격 판 커지는 퀵커머스 대전 주문 즉시 배송 유통가 퀵커머스 ...</td>\n",
       "      <td>1.0</td>\n",
       "    </tr>\n",
       "    <tr>\n",
       "      <th>124</th>\n",
       "      <td>2022.01.10</td>\n",
       "      <td>커피부터 명품까지 퀵커머스 전쟁 배민 쿠팡에 롯데 GS 도전 우리가 더 빨라 단독...</td>\n",
       "      <td>-1.0</td>\n",
       "    </tr>\n",
       "  </tbody>\n",
       "</table>\n",
       "<p>125 rows × 3 columns</p>\n",
       "</div>"
      ],
      "text/plain": [
       "           date                                            content label\n",
       "0    2021.12.20   IPO 문 닫는 래몽래인 올해 증권사 종목별 성적 어땠나 더 뜨거워지는 공모주 열...   1.0\n",
       "1    2021.11.11   기념일마다 선물에 월급날엔 일찍 집으로 MZ가 픽 한 플랫폼 5총사 복지도 톡톡 ...   1.0\n",
       "2    2022.02.04   투자자 돈 쓸어 담은 비상장주는 토스 야놀자 루닛 드림개미 사로잡다 저성장 궤도 ...  -1.0\n",
       "3    2021.12.23   코인빗 가상자산사업자 신고 철회 서비스 종료 수순 내년 IPO 더 큰 장 열린다 ...   1.0\n",
       "4    2021.12.22   NHN페이코 연말 맞이 페이코 포인트 플러스 적립 이벤트 NHN페이코는 연말을 맞...   0.0\n",
       "..          ...                                                ...   ...\n",
       "120  2022.04.18   새벽배송 대신 퀵커머스 올인하는 유통가 왜 포켓CU 리뉴얼 사진제공 BGF리테일롯...   0.0\n",
       "121  2021.12.21   내년 IPO시장 후끈 초대어급 줄상장 예고 이슈플러스 민지리뷰 띵동 건강한 유기농...   1.0\n",
       "122  2021.12.26   아듀 2021 코로나 스타트업 고성장 두나무 직방 컬리 당근 유니콘 올해 국내 스...   0.0\n",
       "123  2022.03.16   오아시스 이마트도 출격 판 커지는 퀵커머스 대전 주문 즉시 배송 유통가 퀵커머스 ...   1.0\n",
       "124  2022.01.10   커피부터 명품까지 퀵커머스 전쟁 배민 쿠팡에 롯데 GS 도전 우리가 더 빨라 단독...  -1.0\n",
       "\n",
       "[125 rows x 3 columns]"
      ]
     },
     "execution_count": 13,
     "metadata": {},
     "output_type": "execute_result"
    }
   ],
   "source": [
    "# 문자 외의 것들 제거\n",
    "train['content'] = train['content'].str.replace('[^가-힣a-zA-Z0-9_]',' ')\n",
    "# 혹시 모를 다중 공백 제거\n",
    "train['content'] = train['content'].str.replace(' +',' ') \n",
    "train"
   ]
  },
  {
   "cell_type": "code",
   "execution_count": 14,
   "id": "c629df50",
   "metadata": {
    "ExecuteTime": {
     "end_time": "2022-10-06T16:40:49.285553Z",
     "start_time": "2022-10-06T16:40:47.237546Z"
    }
   },
   "outputs": [
    {
     "data": {
      "text/plain": [
       "<AxesSubplot:>"
      ]
     },
     "execution_count": 14,
     "metadata": {},
     "output_type": "execute_result"
    },
    {
     "data": {
      "image/png": "[encoded data removed]",
      "text/plain": [
       "<Figure size 432x288 with 1 Axes>"
      ]
     },
     "metadata": {
      "needs_background": "light"
     },
     "output_type": "display_data"
    }
   ],
   "source": [
    "train['label'].value_counts().plot(kind='bar')"
   ]
  },
  {
   "cell_type": "markdown",
   "id": "91b572dc",
   "metadata": {},
   "source": [
    "### 토큰화"
   ]
  },
  {
   "cell_type": "code",
   "execution_count": 15,
   "id": "ecc4c154",
   "metadata": {
    "ExecuteTime": {
     "end_time": "2022-10-06T16:40:49.380301Z",
     "start_time": "2022-10-06T16:40:49.290425Z"
    }
   },
   "outputs": [],
   "source": [
    "from konlpy.tag import Okt"
   ]
  },
  {
   "cell_type": "code",
   "execution_count": 16,
   "id": "73383cec",
   "metadata": {
    "ExecuteTime": {
     "end_time": "2022-10-06T16:40:52.574775Z",
     "start_time": "2022-10-06T16:40:49.383882Z"
    }
   },
   "outputs": [],
   "source": [
    "okt = Okt()"
   ]
  },
  {
   "cell_type": "code",
   "execution_count": 17,
   "id": "e1739211",
   "metadata": {
    "ExecuteTime": {
     "end_time": "2022-10-06T16:41:39.691105Z",
     "start_time": "2022-10-06T16:40:52.580629Z"
    }
   },
   "outputs": [
    {
     "data": {
      "text/html": [
       "<div>\n",
       "<style scoped>\n",
       "    .dataframe tbody tr th:only-of-type {\n",
       "        vertical-align: middle;\n",
       "    }\n",
       "\n",
       "    .dataframe tbody tr th {\n",
       "        vertical-align: top;\n",
       "    }\n",
       "\n",
       "    .dataframe thead th {\n",
       "        text-align: right;\n",
       "    }\n",
       "</style>\n",
       "<table border=\"1\" class=\"dataframe\">\n",
       "  <thead>\n",
       "    <tr style=\"text-align: right;\">\n",
       "      <th></th>\n",
       "      <th>date</th>\n",
       "      <th>content</th>\n",
       "      <th>label</th>\n",
       "      <th>tokenized_stem</th>\n",
       "    </tr>\n",
       "  </thead>\n",
       "  <tbody>\n",
       "    <tr>\n",
       "      <th>0</th>\n",
       "      <td>2021.12.20</td>\n",
       "      <td>IPO 문 닫는 래몽래인 올해 증권사 종목별 성적 어땠나 더 뜨거워지는 공모주 열...</td>\n",
       "      <td>1.0</td>\n",
       "      <td>IPO 문 닫다 래몽래 인 올해 증권사 종목 별 성적 어떻다 더 뜨겁다 공 모주 열...</td>\n",
       "    </tr>\n",
       "    <tr>\n",
       "      <th>1</th>\n",
       "      <td>2021.11.11</td>\n",
       "      <td>기념일마다 선물에 월급날엔 일찍 집으로 MZ가 픽 한 플랫폼 5총사 복지도 톡톡 ...</td>\n",
       "      <td>1.0</td>\n",
       "      <td>기념일 마다 선물 에 월급 날 엔 일찍 집 으로 MZ 가다 픽 하다 플랫폼 5 총사...</td>\n",
       "    </tr>\n",
       "    <tr>\n",
       "      <th>2</th>\n",
       "      <td>2022.02.04</td>\n",
       "      <td>투자자 돈 쓸어 담은 비상장주는 토스 야놀자 루닛 드림개미 사로잡다 저성장 궤도 ...</td>\n",
       "      <td>-1.0</td>\n",
       "      <td>투자자 돈 쓸다 담다 비상 장주 는 토스 야 놀다 루닛 드림 개미 사로자다 저 성장...</td>\n",
       "    </tr>\n",
       "    <tr>\n",
       "      <th>3</th>\n",
       "      <td>2021.12.23</td>\n",
       "      <td>코인빗 가상자산사업자 신고 철회 서비스 종료 수순 내년 IPO 더 큰 장 열린다 ...</td>\n",
       "      <td>1.0</td>\n",
       "      <td>코인 빗 가상 자산 사업자 신고 철회 서비스 종료 수순 내년 IPO 더 크다 장 열...</td>\n",
       "    </tr>\n",
       "    <tr>\n",
       "      <th>4</th>\n",
       "      <td>2021.12.22</td>\n",
       "      <td>NHN페이코 연말 맞이 페이코 포인트 플러스 적립 이벤트 NHN페이코는 연말을 맞...</td>\n",
       "      <td>0.0</td>\n",
       "      <td>NHN 페이 코 연말 맞이 페이 코 포인트 플러스 적립 이벤트 NHN 페이 코 는 ...</td>\n",
       "    </tr>\n",
       "  </tbody>\n",
       "</table>\n",
       "</div>"
      ],
      "text/plain": [
       "         date                                            content label  \\\n",
       "0  2021.12.20   IPO 문 닫는 래몽래인 올해 증권사 종목별 성적 어땠나 더 뜨거워지는 공모주 열...   1.0   \n",
       "1  2021.11.11   기념일마다 선물에 월급날엔 일찍 집으로 MZ가 픽 한 플랫폼 5총사 복지도 톡톡 ...   1.0   \n",
       "2  2022.02.04   투자자 돈 쓸어 담은 비상장주는 토스 야놀자 루닛 드림개미 사로잡다 저성장 궤도 ...  -1.0   \n",
       "3  2021.12.23   코인빗 가상자산사업자 신고 철회 서비스 종료 수순 내년 IPO 더 큰 장 열린다 ...   1.0   \n",
       "4  2021.12.22   NHN페이코 연말 맞이 페이코 포인트 플러스 적립 이벤트 NHN페이코는 연말을 맞...   0.0   \n",
       "\n",
       "                                      tokenized_stem  \n",
       "0  IPO 문 닫다 래몽래 인 올해 증권사 종목 별 성적 어떻다 더 뜨겁다 공 모주 열...  \n",
       "1  기념일 마다 선물 에 월급 날 엔 일찍 집 으로 MZ 가다 픽 하다 플랫폼 5 총사...  \n",
       "2  투자자 돈 쓸다 담다 비상 장주 는 토스 야 놀다 루닛 드림 개미 사로자다 저 성장...  \n",
       "3  코인 빗 가상 자산 사업자 신고 철회 서비스 종료 수순 내년 IPO 더 크다 장 열...  \n",
       "4  NHN 페이 코 연말 맞이 페이 코 포인트 플러스 적립 이벤트 NHN 페이 코 는 ...  "
      ]
     },
     "execution_count": 17,
     "metadata": {},
     "output_type": "execute_result"
    }
   ],
   "source": [
    "tokenized = [] # 데이터프레임의 한 컬럼으로 추가할 리스트\n",
    "for sentence in train['content']: # 전처리된 리뷰들을 하나씩 꺼내옵니다\n",
    "    tokens = okt.morphs(sentence, stem = True) # 형태소 분석 (stem = True로 설정해 어간 추출을 해주었습니다)\n",
    "    tokenize = \" \".join(tokens) # tokens라는 리스트 안의 형태소들을 띄어쓰기로 분리된 하나의 문자열로 join시켜줍니다.\n",
    "    tokenized.append(tokenize) # 형태소 단위로 띄어쓰기된 문자열을 최종 리스트에 추가해줍니다\n",
    "train[\"tokenized_stem\"] = pd.DataFrame(tokenized) # 리스트를 데이터프레임으로 변환해 tokenized_stem라는 컬럼명으로 추가해줍니다.\n",
    "\n",
    "train.head() # 데이터 확인"
   ]
  },
  {
   "cell_type": "code",
   "execution_count": 20,
   "id": "6e74560b",
   "metadata": {
    "ExecuteTime": {
     "end_time": "2022-10-06T16:42:56.552820Z",
     "start_time": "2022-10-06T16:42:56.525891Z"
    }
   },
   "outputs": [
    {
     "data": {
      "text/html": [
       "<div>\n",
       "<style scoped>\n",
       "    .dataframe tbody tr th:only-of-type {\n",
       "        vertical-align: middle;\n",
       "    }\n",
       "\n",
       "    .dataframe tbody tr th {\n",
       "        vertical-align: top;\n",
       "    }\n",
       "\n",
       "    .dataframe thead th {\n",
       "        text-align: right;\n",
       "    }\n",
       "</style>\n",
       "<table border=\"1\" class=\"dataframe\">\n",
       "  <thead>\n",
       "    <tr style=\"text-align: right;\">\n",
       "      <th></th>\n",
       "      <th>date</th>\n",
       "      <th>content</th>\n",
       "      <th>label</th>\n",
       "      <th>tokenized_stem</th>\n",
       "    </tr>\n",
       "  </thead>\n",
       "  <tbody>\n",
       "    <tr>\n",
       "      <th>0</th>\n",
       "      <td>2021.12.20</td>\n",
       "      <td>IPO 문 닫는 래몽래인 올해 증권사 종목별 성적 어땠나 더 뜨거워지는 공모주 열...</td>\n",
       "      <td>1</td>\n",
       "      <td>IPO 문 닫다 래몽래 인 올해 증권사 종목 별 성적 어떻다 더 뜨겁다 공 모주 열...</td>\n",
       "    </tr>\n",
       "    <tr>\n",
       "      <th>1</th>\n",
       "      <td>2021.11.11</td>\n",
       "      <td>기념일마다 선물에 월급날엔 일찍 집으로 MZ가 픽 한 플랫폼 5총사 복지도 톡톡 ...</td>\n",
       "      <td>1</td>\n",
       "      <td>기념일 마다 선물 에 월급 날 엔 일찍 집 으로 MZ 가다 픽 하다 플랫폼 5 총사...</td>\n",
       "    </tr>\n",
       "    <tr>\n",
       "      <th>2</th>\n",
       "      <td>2022.02.04</td>\n",
       "      <td>투자자 돈 쓸어 담은 비상장주는 토스 야놀자 루닛 드림개미 사로잡다 저성장 궤도 ...</td>\n",
       "      <td>-1</td>\n",
       "      <td>투자자 돈 쓸다 담다 비상 장주 는 토스 야 놀다 루닛 드림 개미 사로자다 저 성장...</td>\n",
       "    </tr>\n",
       "    <tr>\n",
       "      <th>3</th>\n",
       "      <td>2021.12.23</td>\n",
       "      <td>코인빗 가상자산사업자 신고 철회 서비스 종료 수순 내년 IPO 더 큰 장 열린다 ...</td>\n",
       "      <td>1</td>\n",
       "      <td>코인 빗 가상 자산 사업자 신고 철회 서비스 종료 수순 내년 IPO 더 크다 장 열...</td>\n",
       "    </tr>\n",
       "    <tr>\n",
       "      <th>4</th>\n",
       "      <td>2021.12.22</td>\n",
       "      <td>NHN페이코 연말 맞이 페이코 포인트 플러스 적립 이벤트 NHN페이코는 연말을 맞...</td>\n",
       "      <td>0</td>\n",
       "      <td>NHN 페이 코 연말 맞이 페이 코 포인트 플러스 적립 이벤트 NHN 페이 코 는 ...</td>\n",
       "    </tr>\n",
       "    <tr>\n",
       "      <th>...</th>\n",
       "      <td>...</td>\n",
       "      <td>...</td>\n",
       "      <td>...</td>\n",
       "      <td>...</td>\n",
       "    </tr>\n",
       "    <tr>\n",
       "      <th>120</th>\n",
       "      <td>2022.04.18</td>\n",
       "      <td>새벽배송 대신 퀵커머스 올인하는 유통가 왜 포켓CU 리뉴얼 사진제공 BGF리테일롯...</td>\n",
       "      <td>0</td>\n",
       "      <td>새벽 배송 대신 퀵 커머스 올인 하다 유통 가 왜 포켓 CU 리뉴얼 사진 제공 BG...</td>\n",
       "    </tr>\n",
       "    <tr>\n",
       "      <th>121</th>\n",
       "      <td>2021.12.21</td>\n",
       "      <td>내년 IPO시장 후끈 초대어급 줄상장 예고 이슈플러스 민지리뷰 띵동 건강한 유기농...</td>\n",
       "      <td>1</td>\n",
       "      <td>내년 IPO 시장 후끈 초대 어 급 줄 상장 예고 이슈 플러스 민지 리뷰 띵동 건강...</td>\n",
       "    </tr>\n",
       "    <tr>\n",
       "      <th>122</th>\n",
       "      <td>2021.12.26</td>\n",
       "      <td>아듀 2021 코로나 스타트업 고성장 두나무 직방 컬리 당근 유니콘 올해 국내 스...</td>\n",
       "      <td>0</td>\n",
       "      <td>아듀 2021 코로나 스타트업 고 성장 두 나무 직방 컬리 당근 유니콘 올해 국내 ...</td>\n",
       "    </tr>\n",
       "    <tr>\n",
       "      <th>123</th>\n",
       "      <td>2022.03.16</td>\n",
       "      <td>오아시스 이마트도 출격 판 커지는 퀵커머스 대전 주문 즉시 배송 유통가 퀵커머스 ...</td>\n",
       "      <td>1</td>\n",
       "      <td>오아시스 이마트 도 출격 판 커지다 퀵 커머스 대전 주문 즉시 배송 유통 가 퀵 커...</td>\n",
       "    </tr>\n",
       "    <tr>\n",
       "      <th>124</th>\n",
       "      <td>2022.01.10</td>\n",
       "      <td>커피부터 명품까지 퀵커머스 전쟁 배민 쿠팡에 롯데 GS 도전 우리가 더 빨라 단독...</td>\n",
       "      <td>-1</td>\n",
       "      <td>커피 부터 명품 까지 퀵 커머스 전쟁 배민 쿠팡 에 롯데 GS 도전 우리 가 더 빨...</td>\n",
       "    </tr>\n",
       "  </tbody>\n",
       "</table>\n",
       "<p>125 rows × 4 columns</p>\n",
       "</div>"
      ],
      "text/plain": [
       "           date                                            content  label  \\\n",
       "0    2021.12.20   IPO 문 닫는 래몽래인 올해 증권사 종목별 성적 어땠나 더 뜨거워지는 공모주 열...      1   \n",
       "1    2021.11.11   기념일마다 선물에 월급날엔 일찍 집으로 MZ가 픽 한 플랫폼 5총사 복지도 톡톡 ...      1   \n",
       "2    2022.02.04   투자자 돈 쓸어 담은 비상장주는 토스 야놀자 루닛 드림개미 사로잡다 저성장 궤도 ...     -1   \n",
       "3    2021.12.23   코인빗 가상자산사업자 신고 철회 서비스 종료 수순 내년 IPO 더 큰 장 열린다 ...      1   \n",
       "4    2021.12.22   NHN페이코 연말 맞이 페이코 포인트 플러스 적립 이벤트 NHN페이코는 연말을 맞...      0   \n",
       "..          ...                                                ...    ...   \n",
       "120  2022.04.18   새벽배송 대신 퀵커머스 올인하는 유통가 왜 포켓CU 리뉴얼 사진제공 BGF리테일롯...      0   \n",
       "121  2021.12.21   내년 IPO시장 후끈 초대어급 줄상장 예고 이슈플러스 민지리뷰 띵동 건강한 유기농...      1   \n",
       "122  2021.12.26   아듀 2021 코로나 스타트업 고성장 두나무 직방 컬리 당근 유니콘 올해 국내 스...      0   \n",
       "123  2022.03.16   오아시스 이마트도 출격 판 커지는 퀵커머스 대전 주문 즉시 배송 유통가 퀵커머스 ...      1   \n",
       "124  2022.01.10   커피부터 명품까지 퀵커머스 전쟁 배민 쿠팡에 롯데 GS 도전 우리가 더 빨라 단독...     -1   \n",
       "\n",
       "                                        tokenized_stem  \n",
       "0    IPO 문 닫다 래몽래 인 올해 증권사 종목 별 성적 어떻다 더 뜨겁다 공 모주 열...  \n",
       "1    기념일 마다 선물 에 월급 날 엔 일찍 집 으로 MZ 가다 픽 하다 플랫폼 5 총사...  \n",
       "2    투자자 돈 쓸다 담다 비상 장주 는 토스 야 놀다 루닛 드림 개미 사로자다 저 성장...  \n",
       "3    코인 빗 가상 자산 사업자 신고 철회 서비스 종료 수순 내년 IPO 더 크다 장 열...  \n",
       "4    NHN 페이 코 연말 맞이 페이 코 포인트 플러스 적립 이벤트 NHN 페이 코 는 ...  \n",
       "..                                                 ...  \n",
       "120  새벽 배송 대신 퀵 커머스 올인 하다 유통 가 왜 포켓 CU 리뉴얼 사진 제공 BG...  \n",
       "121  내년 IPO 시장 후끈 초대 어 급 줄 상장 예고 이슈 플러스 민지 리뷰 띵동 건강...  \n",
       "122  아듀 2021 코로나 스타트업 고 성장 두 나무 직방 컬리 당근 유니콘 올해 국내 ...  \n",
       "123  오아시스 이마트 도 출격 판 커지다 퀵 커머스 대전 주문 즉시 배송 유통 가 퀵 커...  \n",
       "124  커피 부터 명품 까지 퀵 커머스 전쟁 배민 쿠팡 에 롯데 GS 도전 우리 가 더 빨...  \n",
       "\n",
       "[125 rows x 4 columns]"
      ]
     },
     "execution_count": 20,
     "metadata": {},
     "output_type": "execute_result"
    }
   ],
   "source": [
    "train['label'] = train['label'].astype(int)\n",
    "train"
   ]
  },
  {
   "cell_type": "markdown",
   "id": "b0502cbc",
   "metadata": {},
   "source": [
    "### 품사 태깅 / 불용어 처리와 비슷한 느낌"
   ]
  },
  {
   "cell_type": "code",
   "execution_count": 21,
   "id": "8a4c39ba",
   "metadata": {
    "ExecuteTime": {
     "end_time": "2022-10-06T16:43:48.391437Z",
     "start_time": "2022-10-06T16:43:10.844901Z"
    }
   },
   "outputs": [
    {
     "data": {
      "text/html": [
       "<div>\n",
       "<style scoped>\n",
       "    .dataframe tbody tr th:only-of-type {\n",
       "        vertical-align: middle;\n",
       "    }\n",
       "\n",
       "    .dataframe tbody tr th {\n",
       "        vertical-align: top;\n",
       "    }\n",
       "\n",
       "    .dataframe thead th {\n",
       "        text-align: right;\n",
       "    }\n",
       "</style>\n",
       "<table border=\"1\" class=\"dataframe\">\n",
       "  <thead>\n",
       "    <tr style=\"text-align: right;\">\n",
       "      <th></th>\n",
       "      <th>date</th>\n",
       "      <th>content</th>\n",
       "      <th>label</th>\n",
       "      <th>tokenized_stem</th>\n",
       "      <th>main_pos</th>\n",
       "    </tr>\n",
       "  </thead>\n",
       "  <tbody>\n",
       "    <tr>\n",
       "      <th>0</th>\n",
       "      <td>2021.12.20</td>\n",
       "      <td>IPO 문 닫는 래몽래인 올해 증권사 종목별 성적 어땠나 더 뜨거워지는 공모주 열...</td>\n",
       "      <td>1</td>\n",
       "      <td>IPO 문 닫다 래몽래 인 올해 증권사 종목 별 성적 어떻다 더 뜨겁다 공 모주 열...</td>\n",
       "      <td>문 닫는 래몽래 올해 증권사 종목 별 성적 어땠나 더 뜨거워지는 모주 열기 캘린더 ...</td>\n",
       "    </tr>\n",
       "    <tr>\n",
       "      <th>1</th>\n",
       "      <td>2021.11.11</td>\n",
       "      <td>기념일마다 선물에 월급날엔 일찍 집으로 MZ가 픽 한 플랫폼 5총사 복지도 톡톡 ...</td>\n",
       "      <td>1</td>\n",
       "      <td>기념일 마다 선물 에 월급 날 엔 일찍 집 으로 MZ 가다 픽 하다 플랫폼 5 총사...</td>\n",
       "      <td>기념일 선물 월급 날 일찍 집 가 픽 한 플랫폼 총사 복지 톡톡 튀네 르포 핸드 드...</td>\n",
       "    </tr>\n",
       "    <tr>\n",
       "      <th>2</th>\n",
       "      <td>2022.02.04</td>\n",
       "      <td>투자자 돈 쓸어 담은 비상장주는 토스 야놀자 루닛 드림개미 사로잡다 저성장 궤도 ...</td>\n",
       "      <td>-1</td>\n",
       "      <td>투자자 돈 쓸다 담다 비상 장주 는 토스 야 놀다 루닛 드림 개미 사로자다 저 성장...</td>\n",
       "      <td>투자자 돈 쓸어 담은 비상 장주 토스 놀자 루닛 드림 개미 사로잡다 성장 궤도 접어...</td>\n",
       "    </tr>\n",
       "    <tr>\n",
       "      <th>3</th>\n",
       "      <td>2021.12.23</td>\n",
       "      <td>코인빗 가상자산사업자 신고 철회 서비스 종료 수순 내년 IPO 더 큰 장 열린다 ...</td>\n",
       "      <td>1</td>\n",
       "      <td>코인 빗 가상 자산 사업자 신고 철회 서비스 종료 수순 내년 IPO 더 크다 장 열...</td>\n",
       "      <td>코인 빗 가상 자산 사업자 신고 철회 서비스 종료 수순 내년 더 큰 장 린다 와우 ...</td>\n",
       "    </tr>\n",
       "    <tr>\n",
       "      <th>4</th>\n",
       "      <td>2021.12.22</td>\n",
       "      <td>NHN페이코 연말 맞이 페이코 포인트 플러스 적립 이벤트 NHN페이코는 연말을 맞...</td>\n",
       "      <td>0</td>\n",
       "      <td>NHN 페이 코 연말 맞이 페이 코 포인트 플러스 적립 이벤트 NHN 페이 코 는 ...</td>\n",
       "      <td>페이 코 연말 맞이 페이 코 포인트 플러스 적립 이벤트 페이 코 연말 맞아 페이크 ...</td>\n",
       "    </tr>\n",
       "  </tbody>\n",
       "</table>\n",
       "</div>"
      ],
      "text/plain": [
       "         date                                            content  label  \\\n",
       "0  2021.12.20   IPO 문 닫는 래몽래인 올해 증권사 종목별 성적 어땠나 더 뜨거워지는 공모주 열...      1   \n",
       "1  2021.11.11   기념일마다 선물에 월급날엔 일찍 집으로 MZ가 픽 한 플랫폼 5총사 복지도 톡톡 ...      1   \n",
       "2  2022.02.04   투자자 돈 쓸어 담은 비상장주는 토스 야놀자 루닛 드림개미 사로잡다 저성장 궤도 ...     -1   \n",
       "3  2021.12.23   코인빗 가상자산사업자 신고 철회 서비스 종료 수순 내년 IPO 더 큰 장 열린다 ...      1   \n",
       "4  2021.12.22   NHN페이코 연말 맞이 페이코 포인트 플러스 적립 이벤트 NHN페이코는 연말을 맞...      0   \n",
       "\n",
       "                                      tokenized_stem  \\\n",
       "0  IPO 문 닫다 래몽래 인 올해 증권사 종목 별 성적 어떻다 더 뜨겁다 공 모주 열...   \n",
       "1  기념일 마다 선물 에 월급 날 엔 일찍 집 으로 MZ 가다 픽 하다 플랫폼 5 총사...   \n",
       "2  투자자 돈 쓸다 담다 비상 장주 는 토스 야 놀다 루닛 드림 개미 사로자다 저 성장...   \n",
       "3  코인 빗 가상 자산 사업자 신고 철회 서비스 종료 수순 내년 IPO 더 크다 장 열...   \n",
       "4  NHN 페이 코 연말 맞이 페이 코 포인트 플러스 적립 이벤트 NHN 페이 코 는 ...   \n",
       "\n",
       "                                            main_pos  \n",
       "0  문 닫는 래몽래 올해 증권사 종목 별 성적 어땠나 더 뜨거워지는 모주 열기 캘린더 ...  \n",
       "1  기념일 선물 월급 날 일찍 집 가 픽 한 플랫폼 총사 복지 톡톡 튀네 르포 핸드 드...  \n",
       "2  투자자 돈 쓸어 담은 비상 장주 토스 놀자 루닛 드림 개미 사로잡다 성장 궤도 접어...  \n",
       "3  코인 빗 가상 자산 사업자 신고 철회 서비스 종료 수순 내년 더 큰 장 린다 와우 ...  \n",
       "4  페이 코 연말 맞이 페이 코 포인트 플러스 적립 이벤트 페이 코 연말 맞아 페이크 ...  "
      ]
     },
     "execution_count": 21,
     "metadata": {},
     "output_type": "execute_result"
    }
   ],
   "source": [
    "main_pos = [] # 데이터프레임의 새 컬럼이 될 리스트\n",
    "for sentence in train['content']: # 리뷰들을 하나씩 가져옵니다\n",
    "    pos = okt.pos(sentence) # 형태소 분석을 진행하고 해당 리스트를 pos라는 변수로 받습니다\n",
    "    main_words = [word_pos[0] for word_pos in pos if word_pos[1] in (\"Noun\", \"Adverb\", \"Adjective\", \"Verb\")] # 가져오고자 하는 품사에 해당하면 해당 형태소를 main_words 리스트에 추가합니다.\n",
    "    main_words_str = \" \".join(main_words) # main_words 리스트 안의 형태소들을 띄어쓰기로 분리된 하나의 문자열로 join시켜줍니다.\n",
    "    main_pos.append(main_words_str) # 선택한 형태소들로 이루어진 문자열을 최종 리스트에 추가해줍니다\n",
    "train[\"main_pos\"] = pd.DataFrame(main_pos) # 리스트를 데이터프레임으로 변환해 main_pos라는 컬럼명으로 추가해줍니다.\n",
    "\n",
    "train.head() # 데이터 확인"
   ]
  },
  {
   "cell_type": "code",
   "execution_count": 22,
   "id": "caeb9341",
   "metadata": {
    "ExecuteTime": {
     "end_time": "2022-10-06T16:43:48.438289Z",
     "start_time": "2022-10-06T16:43:48.397419Z"
    }
   },
   "outputs": [
    {
     "data": {
      "text/html": [
       "<div>\n",
       "<style scoped>\n",
       "    .dataframe tbody tr th:only-of-type {\n",
       "        vertical-align: middle;\n",
       "    }\n",
       "\n",
       "    .dataframe tbody tr th {\n",
       "        vertical-align: top;\n",
       "    }\n",
       "\n",
       "    .dataframe thead th {\n",
       "        text-align: right;\n",
       "    }\n",
       "</style>\n",
       "<table border=\"1\" class=\"dataframe\">\n",
       "  <thead>\n",
       "    <tr style=\"text-align: right;\">\n",
       "      <th></th>\n",
       "      <th>date</th>\n",
       "      <th>content</th>\n",
       "      <th>label</th>\n",
       "      <th>tokenized_stem</th>\n",
       "      <th>main_pos</th>\n",
       "    </tr>\n",
       "  </thead>\n",
       "  <tbody>\n",
       "    <tr>\n",
       "      <th>0</th>\n",
       "      <td>2021.12.20</td>\n",
       "      <td>IPO 문 닫는 래몽래인 올해 증권사 종목별 성적 어땠나 더 뜨거워지는 공모주 열...</td>\n",
       "      <td>1</td>\n",
       "      <td>IPO 문 닫다 래몽래 인 올해 증권사 종목 별 성적 어떻다 더 뜨겁다 공 모주 열...</td>\n",
       "      <td>문 닫는 래몽래 올해 증권사 종목 별 성적 어땠나 더 뜨거워지는 모주 열기 캘린더 ...</td>\n",
       "    </tr>\n",
       "    <tr>\n",
       "      <th>1</th>\n",
       "      <td>2021.11.11</td>\n",
       "      <td>기념일마다 선물에 월급날엔 일찍 집으로 MZ가 픽 한 플랫폼 5총사 복지도 톡톡 ...</td>\n",
       "      <td>1</td>\n",
       "      <td>기념일 마다 선물 에 월급 날 엔 일찍 집 으로 MZ 가다 픽 하다 플랫폼 5 총사...</td>\n",
       "      <td>기념일 선물 월급 날 일찍 집 가 픽 한 플랫폼 총사 복지 톡톡 튀네 르포 핸드 드...</td>\n",
       "    </tr>\n",
       "    <tr>\n",
       "      <th>2</th>\n",
       "      <td>2022.02.04</td>\n",
       "      <td>투자자 돈 쓸어 담은 비상장주는 토스 야놀자 루닛 드림개미 사로잡다 저성장 궤도 ...</td>\n",
       "      <td>-1</td>\n",
       "      <td>투자자 돈 쓸다 담다 비상 장주 는 토스 야 놀다 루닛 드림 개미 사로자다 저 성장...</td>\n",
       "      <td>투자자 돈 쓸어 담은 비상 장주 토스 놀자 루닛 드림 개미 사로잡다 성장 궤도 접어...</td>\n",
       "    </tr>\n",
       "    <tr>\n",
       "      <th>3</th>\n",
       "      <td>2021.12.23</td>\n",
       "      <td>코인빗 가상자산사업자 신고 철회 서비스 종료 수순 내년 IPO 더 큰 장 열린다 ...</td>\n",
       "      <td>1</td>\n",
       "      <td>코인 빗 가상 자산 사업자 신고 철회 서비스 종료 수순 내년 IPO 더 크다 장 열...</td>\n",
       "      <td>코인 빗 가상 자산 사업자 신고 철회 서비스 종료 수순 내년 더 큰 장 린다 와우 ...</td>\n",
       "    </tr>\n",
       "    <tr>\n",
       "      <th>4</th>\n",
       "      <td>2021.12.22</td>\n",
       "      <td>NHN페이코 연말 맞이 페이코 포인트 플러스 적립 이벤트 NHN페이코는 연말을 맞...</td>\n",
       "      <td>0</td>\n",
       "      <td>NHN 페이 코 연말 맞이 페이 코 포인트 플러스 적립 이벤트 NHN 페이 코 는 ...</td>\n",
       "      <td>페이 코 연말 맞이 페이 코 포인트 플러스 적립 이벤트 페이 코 연말 맞아 페이크 ...</td>\n",
       "    </tr>\n",
       "    <tr>\n",
       "      <th>...</th>\n",
       "      <td>...</td>\n",
       "      <td>...</td>\n",
       "      <td>...</td>\n",
       "      <td>...</td>\n",
       "      <td>...</td>\n",
       "    </tr>\n",
       "    <tr>\n",
       "      <th>120</th>\n",
       "      <td>2022.04.18</td>\n",
       "      <td>새벽배송 대신 퀵커머스 올인하는 유통가 왜 포켓CU 리뉴얼 사진제공 BGF리테일롯...</td>\n",
       "      <td>0</td>\n",
       "      <td>새벽 배송 대신 퀵 커머스 올인 하다 유통 가 왜 포켓 CU 리뉴얼 사진 제공 BG...</td>\n",
       "      <td>새벽 배송 대신 퀵 커머스 올인 하는 유통 왜 포켓 리뉴얼 사진 제공 리테일 롯데 ...</td>\n",
       "    </tr>\n",
       "    <tr>\n",
       "      <th>121</th>\n",
       "      <td>2021.12.21</td>\n",
       "      <td>내년 IPO시장 후끈 초대어급 줄상장 예고 이슈플러스 민지리뷰 띵동 건강한 유기농...</td>\n",
       "      <td>1</td>\n",
       "      <td>내년 IPO 시장 후끈 초대 어 급 줄 상장 예고 이슈 플러스 민지 리뷰 띵동 건강...</td>\n",
       "      <td>내년 시장 후끈 초대 급 줄 상장 예고 이슈 플러스 민지 리뷰 띵동 건강한 유기농 ...</td>\n",
       "    </tr>\n",
       "    <tr>\n",
       "      <th>122</th>\n",
       "      <td>2021.12.26</td>\n",
       "      <td>아듀 2021 코로나 스타트업 고성장 두나무 직방 컬리 당근 유니콘 올해 국내 스...</td>\n",
       "      <td>0</td>\n",
       "      <td>아듀 2021 코로나 스타트업 고 성장 두 나무 직방 컬리 당근 유니콘 올해 국내 ...</td>\n",
       "      <td>아듀 코로나 스타트업 성장 나무 직방 컬리 당근 유니콘 올해 국내 스타트업 투자 유...</td>\n",
       "    </tr>\n",
       "    <tr>\n",
       "      <th>123</th>\n",
       "      <td>2022.03.16</td>\n",
       "      <td>오아시스 이마트도 출격 판 커지는 퀵커머스 대전 주문 즉시 배송 유통가 퀵커머스 ...</td>\n",
       "      <td>1</td>\n",
       "      <td>오아시스 이마트 도 출격 판 커지다 퀵 커머스 대전 주문 즉시 배송 유통 가 퀵 커...</td>\n",
       "      <td>오아시스 이마트 출격 판 커지는 퀵 커머스 대전 주문 즉시 배송 유통 퀵 커머스 확...</td>\n",
       "    </tr>\n",
       "    <tr>\n",
       "      <th>124</th>\n",
       "      <td>2022.01.10</td>\n",
       "      <td>커피부터 명품까지 퀵커머스 전쟁 배민 쿠팡에 롯데 GS 도전 우리가 더 빨라 단독...</td>\n",
       "      <td>-1</td>\n",
       "      <td>커피 부터 명품 까지 퀵 커머스 전쟁 배민 쿠팡 에 롯데 GS 도전 우리 가 더 빨...</td>\n",
       "      <td>커피 명품 퀵 커머스 전쟁 배민 쿠팡 롯데 도전 우리 더 빨라 단독 마켓 컬리 갑질...</td>\n",
       "    </tr>\n",
       "  </tbody>\n",
       "</table>\n",
       "<p>125 rows × 5 columns</p>\n",
       "</div>"
      ],
      "text/plain": [
       "           date                                            content  label  \\\n",
       "0    2021.12.20   IPO 문 닫는 래몽래인 올해 증권사 종목별 성적 어땠나 더 뜨거워지는 공모주 열...      1   \n",
       "1    2021.11.11   기념일마다 선물에 월급날엔 일찍 집으로 MZ가 픽 한 플랫폼 5총사 복지도 톡톡 ...      1   \n",
       "2    2022.02.04   투자자 돈 쓸어 담은 비상장주는 토스 야놀자 루닛 드림개미 사로잡다 저성장 궤도 ...     -1   \n",
       "3    2021.12.23   코인빗 가상자산사업자 신고 철회 서비스 종료 수순 내년 IPO 더 큰 장 열린다 ...      1   \n",
       "4    2021.12.22   NHN페이코 연말 맞이 페이코 포인트 플러스 적립 이벤트 NHN페이코는 연말을 맞...      0   \n",
       "..          ...                                                ...    ...   \n",
       "120  2022.04.18   새벽배송 대신 퀵커머스 올인하는 유통가 왜 포켓CU 리뉴얼 사진제공 BGF리테일롯...      0   \n",
       "121  2021.12.21   내년 IPO시장 후끈 초대어급 줄상장 예고 이슈플러스 민지리뷰 띵동 건강한 유기농...      1   \n",
       "122  2021.12.26   아듀 2021 코로나 스타트업 고성장 두나무 직방 컬리 당근 유니콘 올해 국내 스...      0   \n",
       "123  2022.03.16   오아시스 이마트도 출격 판 커지는 퀵커머스 대전 주문 즉시 배송 유통가 퀵커머스 ...      1   \n",
       "124  2022.01.10   커피부터 명품까지 퀵커머스 전쟁 배민 쿠팡에 롯데 GS 도전 우리가 더 빨라 단독...     -1   \n",
       "\n",
       "                                        tokenized_stem  \\\n",
       "0    IPO 문 닫다 래몽래 인 올해 증권사 종목 별 성적 어떻다 더 뜨겁다 공 모주 열...   \n",
       "1    기념일 마다 선물 에 월급 날 엔 일찍 집 으로 MZ 가다 픽 하다 플랫폼 5 총사...   \n",
       "2    투자자 돈 쓸다 담다 비상 장주 는 토스 야 놀다 루닛 드림 개미 사로자다 저 성장...   \n",
       "3    코인 빗 가상 자산 사업자 신고 철회 서비스 종료 수순 내년 IPO 더 크다 장 열...   \n",
       "4    NHN 페이 코 연말 맞이 페이 코 포인트 플러스 적립 이벤트 NHN 페이 코 는 ...   \n",
       "..                                                 ...   \n",
       "120  새벽 배송 대신 퀵 커머스 올인 하다 유통 가 왜 포켓 CU 리뉴얼 사진 제공 BG...   \n",
       "121  내년 IPO 시장 후끈 초대 어 급 줄 상장 예고 이슈 플러스 민지 리뷰 띵동 건강...   \n",
       "122  아듀 2021 코로나 스타트업 고 성장 두 나무 직방 컬리 당근 유니콘 올해 국내 ...   \n",
       "123  오아시스 이마트 도 출격 판 커지다 퀵 커머스 대전 주문 즉시 배송 유통 가 퀵 커...   \n",
       "124  커피 부터 명품 까지 퀵 커머스 전쟁 배민 쿠팡 에 롯데 GS 도전 우리 가 더 빨...   \n",
       "\n",
       "                                              main_pos  \n",
       "0    문 닫는 래몽래 올해 증권사 종목 별 성적 어땠나 더 뜨거워지는 모주 열기 캘린더 ...  \n",
       "1    기념일 선물 월급 날 일찍 집 가 픽 한 플랫폼 총사 복지 톡톡 튀네 르포 핸드 드...  \n",
       "2    투자자 돈 쓸어 담은 비상 장주 토스 놀자 루닛 드림 개미 사로잡다 성장 궤도 접어...  \n",
       "3    코인 빗 가상 자산 사업자 신고 철회 서비스 종료 수순 내년 더 큰 장 린다 와우 ...  \n",
       "4    페이 코 연말 맞이 페이 코 포인트 플러스 적립 이벤트 페이 코 연말 맞아 페이크 ...  \n",
       "..                                                 ...  \n",
       "120  새벽 배송 대신 퀵 커머스 올인 하는 유통 왜 포켓 리뉴얼 사진 제공 리테일 롯데 ...  \n",
       "121  내년 시장 후끈 초대 급 줄 상장 예고 이슈 플러스 민지 리뷰 띵동 건강한 유기농 ...  \n",
       "122  아듀 코로나 스타트업 성장 나무 직방 컬리 당근 유니콘 올해 국내 스타트업 투자 유...  \n",
       "123  오아시스 이마트 출격 판 커지는 퀵 커머스 대전 주문 즉시 배송 유통 퀵 커머스 확...  \n",
       "124  커피 명품 퀵 커머스 전쟁 배민 쿠팡 롯데 도전 우리 더 빨라 단독 마켓 컬리 갑질...  \n",
       "\n",
       "[125 rows x 5 columns]"
      ]
     },
     "execution_count": 22,
     "metadata": {},
     "output_type": "execute_result"
    }
   ],
   "source": [
    "train"
   ]
  },
  {
   "cell_type": "markdown",
   "id": "f2afc715",
   "metadata": {},
   "source": [
    "### 벡터화"
   ]
  },
  {
   "cell_type": "code",
   "execution_count": null,
   "id": "c3628daa",
   "metadata": {
    "ExecuteTime": {
     "end_time": "2022-10-06T12:39:47.623495Z",
     "start_time": "2022-10-06T12:39:47.617128Z"
    }
   },
   "outputs": [],
   "source": [
    "X_train = train.main_pos # training 데이터에서 문서 추출\n",
    "y_train = train.label # training 데이터에서 라벨 추출"
   ]
  },
  {
   "cell_type": "code",
   "execution_count": null,
   "id": "cb70fac1",
   "metadata": {
    "ExecuteTime": {
     "end_time": "2022-10-06T12:39:48.462306Z",
     "start_time": "2022-10-06T12:39:48.455201Z"
    }
   },
   "outputs": [],
   "source": [
    "X_train"
   ]
  },
  {
   "cell_type": "code",
   "execution_count": null,
   "id": "78804b20",
   "metadata": {
    "ExecuteTime": {
     "end_time": "2022-10-06T12:42:03.323494Z",
     "start_time": "2022-10-06T12:42:03.312594Z"
    }
   },
   "outputs": [],
   "source": [
    "y_train"
   ]
  },
  {
   "cell_type": "code",
   "execution_count": null,
   "id": "9bba13a5",
   "metadata": {
    "ExecuteTime": {
     "end_time": "2022-10-06T12:44:09.999985Z",
     "start_time": "2022-10-06T12:44:09.847565Z"
    }
   },
   "outputs": [],
   "source": [
    "from sklearn.feature_extraction.text import CountVectorizer\n",
    "\n",
    "vectorizer = CountVectorizer() # countvectorizer 생성\n",
    "vectorizer.fit(X_train) # countvectorizer 학습\n",
    "X_train_vec = vectorizer.transform(X_train) # transform"
   ]
  },
  {
   "cell_type": "code",
   "execution_count": null,
   "id": "ff9c29b9",
   "metadata": {
    "ExecuteTime": {
     "end_time": "2022-10-06T12:44:10.432944Z",
     "start_time": "2022-10-06T12:44:10.425797Z"
    }
   },
   "outputs": [],
   "source": [
    "X_train_vec"
   ]
  },
  {
   "cell_type": "code",
   "execution_count": null,
   "id": "afc684f3",
   "metadata": {
    "ExecuteTime": {
     "end_time": "2022-10-06T12:45:34.808958Z",
     "start_time": "2022-10-06T12:45:34.805681Z"
    }
   },
   "outputs": [],
   "source": [
    "y_train = y_train.astype('int')"
   ]
  },
  {
   "cell_type": "markdown",
   "id": "cad10196",
   "metadata": {},
   "source": [
    "### 모델 학습"
   ]
  },
  {
   "cell_type": "code",
   "execution_count": null,
   "id": "8e53f35c",
   "metadata": {
    "ExecuteTime": {
     "end_time": "2022-10-06T12:45:36.747284Z",
     "start_time": "2022-10-06T12:45:36.333987Z"
    }
   },
   "outputs": [],
   "source": [
    "from sklearn.linear_model import LogisticRegression # 모델 불러오기\n",
    "\n",
    "model = LogisticRegression() # 객체에 모델 할당\n",
    "\n",
    "model.fit(X_train_vec, y_train) # 모델 학습"
   ]
  },
  {
   "cell_type": "code",
   "execution_count": null,
   "id": "c3958d6b",
   "metadata": {
    "ExecuteTime": {
     "end_time": "2022-10-06T12:47:55.927288Z",
     "start_time": "2022-10-06T12:47:55.909315Z"
    },
    "scrolled": true
   },
   "outputs": [],
   "source": [
    "# val = val.drop(columns=['index'])\n",
    "val"
   ]
  },
  {
   "cell_type": "markdown",
   "id": "64edb28e",
   "metadata": {},
   "source": [
    "### 검증셋으로 모델 성능 검증"
   ]
  },
  {
   "cell_type": "code",
   "execution_count": null,
   "id": "13654bf0",
   "metadata": {
    "ExecuteTime": {
     "end_time": "2022-10-06T12:48:40.542391Z",
     "start_time": "2022-10-06T12:48:33.387923Z"
    }
   },
   "outputs": [],
   "source": [
    "# preprocessed\n",
    "# 문자 외의 것들 제거\n",
    "val['content'] = val['content'].str.replace('[^가-힣a-zA-Z0-9_]',' ')\n",
    "# 혹시 모를 다중 공백 제거\n",
    "val['content'] = val['content'].str.replace(' +',' ') \n",
    "\n",
    "# tokenized_stem\n",
    "tokenized = []\n",
    "for sentence in val['content']:\n",
    "    tokens = okt.morphs(sentence, stem = True) # stem = True로 설정해 어간 추출을 해주었습니다\n",
    "    tokenize = \" \".join(tokens)\n",
    "    tokenized.append(tokenize)\n",
    "val[\"tokenized_stem\"] = pd.DataFrame(tokenized)\n",
    "\n",
    "# main_pos\n",
    "main_pos = []\n",
    "for sentence in val['content']:\n",
    "    pos = okt.pos(sentence)\n",
    "    main_words = [word_pos[0] for word_pos in pos if word_pos[1] in (\"Noun\", \"Adverb\", \"Adjective\", \"Verb\")]\n",
    "    main_words_str = \" \".join(main_words)\n",
    "    main_pos.append(main_words_str)\n",
    "val[\"main_pos\"] = pd.DataFrame(main_pos)\n",
    "\n",
    "val.head()"
   ]
  },
  {
   "cell_type": "markdown",
   "id": "aa872833",
   "metadata": {},
   "source": [
    "학습한 모델로 예측할 X를 벡터화"
   ]
  },
  {
   "cell_type": "code",
   "execution_count": null,
   "id": "f05ec111",
   "metadata": {
    "ExecuteTime": {
     "end_time": "2022-10-06T12:49:35.627734Z",
     "start_time": "2022-10-06T12:49:35.577226Z"
    }
   },
   "outputs": [],
   "source": [
    "X_val = val.main_pos #validation 데이터에서 전처리된 문서 추출\n",
    "y_val = val.label #validation 데이터에서 라벨 추출\n",
    "\n",
    "X_val_vec = vectorizer.transform(X_val) # train셋으로 fit한 벡터라이저 이용해 transform"
   ]
  },
  {
   "cell_type": "code",
   "execution_count": null,
   "id": "6fe0119f",
   "metadata": {
    "ExecuteTime": {
     "end_time": "2022-10-06T12:50:38.202408Z",
     "start_time": "2022-10-06T12:50:38.194675Z"
    }
   },
   "outputs": [],
   "source": [
    "# run model\n",
    "y_pred = model.predict(X_val_vec)\n",
    "print(y_pred)\n",
    "#0:negative 1:positive"
   ]
  },
  {
   "cell_type": "markdown",
   "id": "39e69940",
   "metadata": {},
   "source": [
    "정확도 확인"
   ]
  },
  {
   "cell_type": "code",
   "execution_count": null,
   "id": "a89148a3",
   "metadata": {
    "ExecuteTime": {
     "end_time": "2022-10-06T12:51:49.834074Z",
     "start_time": "2022-10-06T12:51:49.830750Z"
    }
   },
   "outputs": [],
   "source": [
    "y_val = y_val.astype('int')"
   ]
  },
  {
   "cell_type": "code",
   "execution_count": null,
   "id": "558f851d",
   "metadata": {
    "ExecuteTime": {
     "end_time": "2022-10-06T12:54:32.968670Z",
     "start_time": "2022-10-06T12:54:32.964191Z"
    }
   },
   "outputs": [],
   "source": [
    "from sklearn import metrics\n",
    "print('accuracy =', metrics.accuracy_score(y_val, y_pred)) # 정확도 확인"
   ]
  },
  {
   "cell_type": "code",
   "execution_count": null,
   "id": "c65b23fb",
   "metadata": {},
   "outputs": [],
   "source": []
  }
 ],
 "metadata": {
  "kernelspec": {
   "display_name": "Python 3 (ipykernel)",
   "language": "python",
   "name": "python3"
  },
  "language_info": {
   "codemirror_mode": {
    "name": "ipython",
    "version": 3
   },
   "file_extension": ".py",
   "mimetype": "text/x-python",
   "name": "python",
   "nbconvert_exporter": "python",
   "pygments_lexer": "ipython3",
   "version": "3.8.13"
  },
  "toc": {
   "base_numbering": 1,
   "nav_menu": {},
   "number_sections": false,
   "sideBar": true,
   "skip_h1_title": false,
   "title_cell": "Table of Contents",
   "title_sidebar": "Contents",
   "toc_cell": false,
   "toc_position": {},
   "toc_section_display": true,
   "toc_window_display": false
  }
 },
 "nbformat": 4,
 "nbformat_minor": 5
}
