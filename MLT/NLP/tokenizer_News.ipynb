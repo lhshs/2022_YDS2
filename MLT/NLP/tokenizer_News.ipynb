{
 "cells": [
  {
   "cell_type": "code",
   "execution_count": 1,
   "id": "2b654e88",
   "metadata": {
    "ExecuteTime": {
     "end_time": "2022-10-11T04:15:33.894461Z",
     "start_time": "2022-10-11T04:15:30.011477Z"
    }
   },
   "outputs": [],
   "source": [
    "import pandas as pd\n",
    "import numpy as np\n",
    "import matplotlib.pyplot as plt\n",
    "import re\n",
    "import urllib.request\n",
    "from konlpy.tag import Okt\n",
    "from tqdm import tqdm\n",
    "from tensorflow.keras.preprocessing.text import Tokenizer\n",
    "from tensorflow.keras.preprocessing.sequence import pad_sequences\n",
    "\n",
    "import sklearn"
   ]
  },
  {
   "cell_type": "markdown",
   "id": "e9e14bcd",
   "metadata": {},
   "source": [
    "## 데이터 로드 및 train test로 분할"
   ]
  },
  {
   "cell_type": "code",
   "execution_count": 8,
   "id": "91aefa3c",
   "metadata": {
    "ExecuteTime": {
     "end_time": "2022-10-04T11:25:22.344993Z",
     "start_time": "2022-10-04T11:25:22.256280Z"
    }
   },
   "outputs": [],
   "source": [
    "# df_kookmin = pd.read_csv('/Users/lhs/Desktop/GitHub/MLT/EDA/non_financial/crawling/news/oasis_kookmin.csv') #.drop(columns = ['Unnamed: 0']).reset_index().drop(columns=['index','link'])\n",
    "# df_kyunghyan = pd.read_csv('/Users/lhs/Desktop/GitHub/MLT/EDA/non_financial/crawling/news/oasis_kyunghyan.csv') #.drop(columns = ['Unnamed: 0']).reset_index().drop(columns=['index','link'])\n",
    "df_naver = pd.read_csv('/Users/lhs/Desktop/GitHub/MLT/EDA/non_financial/crawling/news/oasis_navernews.csv')\n",
    "\n",
    "\n",
    "# df_kookmin = pd.read_csv('D:/Documents/GitHub/MLT/EDA/non_financial/crawling/news/oasis_kookmin.csv') #.drop(columns = ['Unnamed: 0']).reset_index().drop(columns=['index','link'])\n",
    "# df_kyunghyan = pd.read_csv('D:/Documents/GitHub/MLT/EDA/non_financial/crawling/news/oasis_kyunghyan.csv') #.drop(columns = ['Unnamed: 0']).reset_index().drop(columns=['index','link'])\n"
   ]
  },
  {
   "cell_type": "code",
   "execution_count": 9,
   "id": "07bc787b",
   "metadata": {
    "ExecuteTime": {
     "end_time": "2022-10-04T11:25:22.347779Z",
     "start_time": "2022-10-04T11:25:22.345863Z"
    }
   },
   "outputs": [],
   "source": [
    "# df = pd.concat([df_kookmin, df_kyunghyan]).drop(columns = ['Unnamed: 0']).reset_index().drop(columns=['index','links'])\n",
    "# df = df.set_index(['dates'])\n"
   ]
  },
  {
   "cell_type": "code",
   "execution_count": 10,
   "id": "d0245577",
   "metadata": {
    "ExecuteTime": {
     "end_time": "2022-10-04T11:25:22.352480Z",
     "start_time": "2022-10-04T11:25:22.349487Z"
    }
   },
   "outputs": [],
   "source": [
    "df_naver = df_naver.drop(columns = ['Unnamed: 0']).reset_index().drop(columns=['index','links'])"
   ]
  },
  {
   "cell_type": "code",
   "execution_count": 11,
   "id": "386204fc",
   "metadata": {
    "ExecuteTime": {
     "end_time": "2022-10-04T11:25:22.360084Z",
     "start_time": "2022-10-04T11:25:22.353433Z"
    }
   },
   "outputs": [
    {
     "data": {
      "text/html": [
       "<div>\n",
       "<style scoped>\n",
       "    .dataframe tbody tr th:only-of-type {\n",
       "        vertical-align: middle;\n",
       "    }\n",
       "\n",
       "    .dataframe tbody tr th {\n",
       "        vertical-align: top;\n",
       "    }\n",
       "\n",
       "    .dataframe thead th {\n",
       "        text-align: right;\n",
       "    }\n",
       "</style>\n",
       "<table border=\"1\" class=\"dataframe\">\n",
       "  <thead>\n",
       "    <tr style=\"text-align: right;\">\n",
       "      <th></th>\n",
       "      <th>titles</th>\n",
       "      <th>dates</th>\n",
       "      <th>contents</th>\n",
       "    </tr>\n",
       "  </thead>\n",
       "  <tbody>\n",
       "    <tr>\n",
       "      <th>0</th>\n",
       "      <td>[오아시스마켓, 맞춤형 영상 콘텐츠 지원에 소상공인 매출 ‘쑥쑥’]</td>\n",
       "      <td>2022.09.30. 오전 10:22</td>\n",
       "      <td>[\\n\"V 커머스 지원 사업으로 2~400배 매출 증가\"오아시스마켓이 중소기업유통센...</td>\n",
       "    </tr>\n",
       "    <tr>\n",
       "      <th>1</th>\n",
       "      <td>[기업가치 1兆 ‘오아시스마켓’, 상장 예심 청구 “올해 IPO”]</td>\n",
       "      <td>2022.09.08. 오후 2:09</td>\n",
       "      <td>[\\n마켓컬리 이어 두번째 식품 이커머스 상장생협 출신이 2011년 설립...유일한...</td>\n",
       "    </tr>\n",
       "    <tr>\n",
       "      <th>2</th>\n",
       "      <td>[오아시스마켓, ‘돌나라 오아시스’ 연관 의혹에 \"전혀 관련 없어\"]</td>\n",
       "      <td>2022.09.13. 오후 5:11</td>\n",
       "      <td>[\\n\"명예훼손·허위사실 유포에 강력 대응 방침\"새벽배송 전문 업체 오아시스마켓이 ...</td>\n",
       "    </tr>\n",
       "    <tr>\n",
       "      <th>3</th>\n",
       "      <td>[[고고IPO] 오아시스마켓, 경기불황에도 IPO 속도 ‘자신감’]</td>\n",
       "      <td>2022.09.09. 오전 10:58</td>\n",
       "      <td>[\\n기업들이 뉴노멀 시대에 대응하며 성장을 지속하고 있다. 신사업 투자를 위한 자...</td>\n",
       "    </tr>\n",
       "    <tr>\n",
       "      <th>4</th>\n",
       "      <td>[급성장한 '컬리' 고수익의 '오아시스'…동시 상장하면 누가 흥행할까]</td>\n",
       "      <td>2022.09.13. 오전 5:30</td>\n",
       "      <td>[\\n\\n\\n\\n\\n컬리에 이어 오아시스마켓까지 '연내 상장'을 목표로 상장 준비에...</td>\n",
       "    </tr>\n",
       "    <tr>\n",
       "      <th>...</th>\n",
       "      <td>...</td>\n",
       "      <td>...</td>\n",
       "      <td>...</td>\n",
       "    </tr>\n",
       "    <tr>\n",
       "      <th>1228</th>\n",
       "      <td>[위드 코로나…오프라인 유통株 주목]</td>\n",
       "      <td>2021.10.27. 오후 3:57</td>\n",
       "      <td>[\\n신세계·현대百·호텔신라 '톱픽'내년은 유통주의 격변기가 될 전망이다. ‘위드 ...</td>\n",
       "    </tr>\n",
       "    <tr>\n",
       "      <th>1229</th>\n",
       "      <td>[대전 6개 기업 IT 기술력으로 해외시장 공략 나선다]</td>\n",
       "      <td>2021.10.27. 오후 12:53</td>\n",
       "      <td>[\\n\\n\\n\\n\\n2019 MWC(Mobile World Congress) LA ...</td>\n",
       "    </tr>\n",
       "    <tr>\n",
       "      <th>1230</th>\n",
       "      <td>[[ET] 일주일 앞으로 다가온 ‘위드 코로나’…유통주가 대세?]</td>\n",
       "      <td>2021.10.25. 오후 6:10</td>\n",
       "      <td>[\\n■ 프로그램명 : 통합뉴스룸ET■ 코너명 : ET WHY?■ 방송시간 : 10...</td>\n",
       "    </tr>\n",
       "    <tr>\n",
       "      <th>1231</th>\n",
       "      <td>[딜리버리히어로, 10분 배송 '고릴라스'에 2770억원 투자]</td>\n",
       "      <td>2021.10.22. 오후 3:35</td>\n",
       "      <td>[\\n\\n\\n\\n\\n독일 딜리버리히어로가 퀵커머스 스타트업 고릴라스에 2억3500만...</td>\n",
       "    </tr>\n",
       "    <tr>\n",
       "      <th>1232</th>\n",
       "      <td>[[격동의 유통가④]편의점 성장 정체…미래는 근거리 쇼핑]</td>\n",
       "      <td>2021.10.07. 오전 5:00</td>\n",
       "      <td>[\\n기사내용 요약매장은 늘고 점포당 매출은 매월 줄고 있어코로나19로 마트 대신 ...</td>\n",
       "    </tr>\n",
       "  </tbody>\n",
       "</table>\n",
       "<p>1233 rows × 3 columns</p>\n",
       "</div>"
      ],
      "text/plain": [
       "                                       titles                 dates  \\\n",
       "0       [오아시스마켓, 맞춤형 영상 콘텐츠 지원에 소상공인 매출 ‘쑥쑥’]  2022.09.30. 오전 10:22   \n",
       "1       [기업가치 1兆 ‘오아시스마켓’, 상장 예심 청구 “올해 IPO”]   2022.09.08. 오후 2:09   \n",
       "2      [오아시스마켓, ‘돌나라 오아시스’ 연관 의혹에 \"전혀 관련 없어\"]   2022.09.13. 오후 5:11   \n",
       "3       [[고고IPO] 오아시스마켓, 경기불황에도 IPO 속도 ‘자신감’]  2022.09.09. 오전 10:58   \n",
       "4     [급성장한 '컬리' 고수익의 '오아시스'…동시 상장하면 누가 흥행할까]   2022.09.13. 오전 5:30   \n",
       "...                                       ...                   ...   \n",
       "1228                     [위드 코로나…오프라인 유통株 주목]   2021.10.27. 오후 3:57   \n",
       "1229          [대전 6개 기업 IT 기술력으로 해외시장 공략 나선다]  2021.10.27. 오후 12:53   \n",
       "1230     [[ET] 일주일 앞으로 다가온 ‘위드 코로나’…유통주가 대세?]   2021.10.25. 오후 6:10   \n",
       "1231      [딜리버리히어로, 10분 배송 '고릴라스'에 2770억원 투자]   2021.10.22. 오후 3:35   \n",
       "1232         [[격동의 유통가④]편의점 성장 정체…미래는 근거리 쇼핑]   2021.10.07. 오전 5:00   \n",
       "\n",
       "                                               contents  \n",
       "0     [\\n\"V 커머스 지원 사업으로 2~400배 매출 증가\"오아시스마켓이 중소기업유통센...  \n",
       "1     [\\n마켓컬리 이어 두번째 식품 이커머스 상장생협 출신이 2011년 설립...유일한...  \n",
       "2     [\\n\"명예훼손·허위사실 유포에 강력 대응 방침\"새벽배송 전문 업체 오아시스마켓이 ...  \n",
       "3     [\\n기업들이 뉴노멀 시대에 대응하며 성장을 지속하고 있다. 신사업 투자를 위한 자...  \n",
       "4     [\\n\\n\\n\\n\\n컬리에 이어 오아시스마켓까지 '연내 상장'을 목표로 상장 준비에...  \n",
       "...                                                 ...  \n",
       "1228  [\\n신세계·현대百·호텔신라 '톱픽'내년은 유통주의 격변기가 될 전망이다. ‘위드 ...  \n",
       "1229  [\\n\\n\\n\\n\\n2019 MWC(Mobile World Congress) LA ...  \n",
       "1230  [\\n■ 프로그램명 : 통합뉴스룸ET■ 코너명 : ET WHY?■ 방송시간 : 10...  \n",
       "1231  [\\n\\n\\n\\n\\n독일 딜리버리히어로가 퀵커머스 스타트업 고릴라스에 2억3500만...  \n",
       "1232  [\\n기사내용 요약매장은 늘고 점포당 매출은 매월 줄고 있어코로나19로 마트 대신 ...  \n",
       "\n",
       "[1233 rows x 3 columns]"
      ]
     },
     "execution_count": 11,
     "metadata": {},
     "output_type": "execute_result"
    }
   ],
   "source": [
    "df_naver"
   ]
  },
  {
   "cell_type": "code",
   "execution_count": 12,
   "id": "abdc8451",
   "metadata": {
    "ExecuteTime": {
     "end_time": "2022-10-04T11:25:22.437443Z",
     "start_time": "2022-10-04T11:25:22.360876Z"
    },
    "scrolled": false
   },
   "outputs": [],
   "source": [
    "for i in range(1233):\n",
    "    df_naver.dates[i] =df_naver.dates[i][:10]"
   ]
  },
  {
   "cell_type": "code",
   "execution_count": 13,
   "id": "834a3f3e",
   "metadata": {
    "ExecuteTime": {
     "end_time": "2022-10-04T11:25:22.442878Z",
     "start_time": "2022-10-04T11:25:22.438373Z"
    }
   },
   "outputs": [
    {
     "data": {
      "text/html": [
       "<div>\n",
       "<style scoped>\n",
       "    .dataframe tbody tr th:only-of-type {\n",
       "        vertical-align: middle;\n",
       "    }\n",
       "\n",
       "    .dataframe tbody tr th {\n",
       "        vertical-align: top;\n",
       "    }\n",
       "\n",
       "    .dataframe thead th {\n",
       "        text-align: right;\n",
       "    }\n",
       "</style>\n",
       "<table border=\"1\" class=\"dataframe\">\n",
       "  <thead>\n",
       "    <tr style=\"text-align: right;\">\n",
       "      <th></th>\n",
       "      <th>titles</th>\n",
       "      <th>dates</th>\n",
       "      <th>contents</th>\n",
       "    </tr>\n",
       "  </thead>\n",
       "  <tbody>\n",
       "    <tr>\n",
       "      <th>0</th>\n",
       "      <td>[오아시스마켓, 맞춤형 영상 콘텐츠 지원에 소상공인 매출 ‘쑥쑥’]</td>\n",
       "      <td>2022.09.30</td>\n",
       "      <td>[\\n\"V 커머스 지원 사업으로 2~400배 매출 증가\"오아시스마켓이 중소기업유통센...</td>\n",
       "    </tr>\n",
       "    <tr>\n",
       "      <th>1</th>\n",
       "      <td>[기업가치 1兆 ‘오아시스마켓’, 상장 예심 청구 “올해 IPO”]</td>\n",
       "      <td>2022.09.08</td>\n",
       "      <td>[\\n마켓컬리 이어 두번째 식품 이커머스 상장생협 출신이 2011년 설립...유일한...</td>\n",
       "    </tr>\n",
       "    <tr>\n",
       "      <th>2</th>\n",
       "      <td>[오아시스마켓, ‘돌나라 오아시스’ 연관 의혹에 \"전혀 관련 없어\"]</td>\n",
       "      <td>2022.09.13</td>\n",
       "      <td>[\\n\"명예훼손·허위사실 유포에 강력 대응 방침\"새벽배송 전문 업체 오아시스마켓이 ...</td>\n",
       "    </tr>\n",
       "    <tr>\n",
       "      <th>3</th>\n",
       "      <td>[[고고IPO] 오아시스마켓, 경기불황에도 IPO 속도 ‘자신감’]</td>\n",
       "      <td>2022.09.09</td>\n",
       "      <td>[\\n기업들이 뉴노멀 시대에 대응하며 성장을 지속하고 있다. 신사업 투자를 위한 자...</td>\n",
       "    </tr>\n",
       "    <tr>\n",
       "      <th>4</th>\n",
       "      <td>[급성장한 '컬리' 고수익의 '오아시스'…동시 상장하면 누가 흥행할까]</td>\n",
       "      <td>2022.09.13</td>\n",
       "      <td>[\\n\\n\\n\\n\\n컬리에 이어 오아시스마켓까지 '연내 상장'을 목표로 상장 준비에...</td>\n",
       "    </tr>\n",
       "    <tr>\n",
       "      <th>...</th>\n",
       "      <td>...</td>\n",
       "      <td>...</td>\n",
       "      <td>...</td>\n",
       "    </tr>\n",
       "    <tr>\n",
       "      <th>1228</th>\n",
       "      <td>[위드 코로나…오프라인 유통株 주목]</td>\n",
       "      <td>2021.10.27</td>\n",
       "      <td>[\\n신세계·현대百·호텔신라 '톱픽'내년은 유통주의 격변기가 될 전망이다. ‘위드 ...</td>\n",
       "    </tr>\n",
       "    <tr>\n",
       "      <th>1229</th>\n",
       "      <td>[대전 6개 기업 IT 기술력으로 해외시장 공략 나선다]</td>\n",
       "      <td>2021.10.27</td>\n",
       "      <td>[\\n\\n\\n\\n\\n2019 MWC(Mobile World Congress) LA ...</td>\n",
       "    </tr>\n",
       "    <tr>\n",
       "      <th>1230</th>\n",
       "      <td>[[ET] 일주일 앞으로 다가온 ‘위드 코로나’…유통주가 대세?]</td>\n",
       "      <td>2021.10.25</td>\n",
       "      <td>[\\n■ 프로그램명 : 통합뉴스룸ET■ 코너명 : ET WHY?■ 방송시간 : 10...</td>\n",
       "    </tr>\n",
       "    <tr>\n",
       "      <th>1231</th>\n",
       "      <td>[딜리버리히어로, 10분 배송 '고릴라스'에 2770억원 투자]</td>\n",
       "      <td>2021.10.22</td>\n",
       "      <td>[\\n\\n\\n\\n\\n독일 딜리버리히어로가 퀵커머스 스타트업 고릴라스에 2억3500만...</td>\n",
       "    </tr>\n",
       "    <tr>\n",
       "      <th>1232</th>\n",
       "      <td>[[격동의 유통가④]편의점 성장 정체…미래는 근거리 쇼핑]</td>\n",
       "      <td>2021.10.07</td>\n",
       "      <td>[\\n기사내용 요약매장은 늘고 점포당 매출은 매월 줄고 있어코로나19로 마트 대신 ...</td>\n",
       "    </tr>\n",
       "  </tbody>\n",
       "</table>\n",
       "<p>1233 rows × 3 columns</p>\n",
       "</div>"
      ],
      "text/plain": [
       "                                       titles       dates  \\\n",
       "0       [오아시스마켓, 맞춤형 영상 콘텐츠 지원에 소상공인 매출 ‘쑥쑥’]  2022.09.30   \n",
       "1       [기업가치 1兆 ‘오아시스마켓’, 상장 예심 청구 “올해 IPO”]  2022.09.08   \n",
       "2      [오아시스마켓, ‘돌나라 오아시스’ 연관 의혹에 \"전혀 관련 없어\"]  2022.09.13   \n",
       "3       [[고고IPO] 오아시스마켓, 경기불황에도 IPO 속도 ‘자신감’]  2022.09.09   \n",
       "4     [급성장한 '컬리' 고수익의 '오아시스'…동시 상장하면 누가 흥행할까]  2022.09.13   \n",
       "...                                       ...         ...   \n",
       "1228                     [위드 코로나…오프라인 유통株 주목]  2021.10.27   \n",
       "1229          [대전 6개 기업 IT 기술력으로 해외시장 공략 나선다]  2021.10.27   \n",
       "1230     [[ET] 일주일 앞으로 다가온 ‘위드 코로나’…유통주가 대세?]  2021.10.25   \n",
       "1231      [딜리버리히어로, 10분 배송 '고릴라스'에 2770억원 투자]  2021.10.22   \n",
       "1232         [[격동의 유통가④]편의점 성장 정체…미래는 근거리 쇼핑]  2021.10.07   \n",
       "\n",
       "                                               contents  \n",
       "0     [\\n\"V 커머스 지원 사업으로 2~400배 매출 증가\"오아시스마켓이 중소기업유통센...  \n",
       "1     [\\n마켓컬리 이어 두번째 식품 이커머스 상장생협 출신이 2011년 설립...유일한...  \n",
       "2     [\\n\"명예훼손·허위사실 유포에 강력 대응 방침\"새벽배송 전문 업체 오아시스마켓이 ...  \n",
       "3     [\\n기업들이 뉴노멀 시대에 대응하며 성장을 지속하고 있다. 신사업 투자를 위한 자...  \n",
       "4     [\\n\\n\\n\\n\\n컬리에 이어 오아시스마켓까지 '연내 상장'을 목표로 상장 준비에...  \n",
       "...                                                 ...  \n",
       "1228  [\\n신세계·현대百·호텔신라 '톱픽'내년은 유통주의 격변기가 될 전망이다. ‘위드 ...  \n",
       "1229  [\\n\\n\\n\\n\\n2019 MWC(Mobile World Congress) LA ...  \n",
       "1230  [\\n■ 프로그램명 : 통합뉴스룸ET■ 코너명 : ET WHY?■ 방송시간 : 10...  \n",
       "1231  [\\n\\n\\n\\n\\n독일 딜리버리히어로가 퀵커머스 스타트업 고릴라스에 2억3500만...  \n",
       "1232  [\\n기사내용 요약매장은 늘고 점포당 매출은 매월 줄고 있어코로나19로 마트 대신 ...  \n",
       "\n",
       "[1233 rows x 3 columns]"
      ]
     },
     "execution_count": 13,
     "metadata": {},
     "output_type": "execute_result"
    }
   ],
   "source": [
    "df_naver"
   ]
  },
  {
   "cell_type": "code",
   "execution_count": 14,
   "id": "b4c25b33",
   "metadata": {
    "ExecuteTime": {
     "end_time": "2022-10-04T11:25:22.445684Z",
     "start_time": "2022-10-04T11:25:22.443728Z"
    }
   },
   "outputs": [],
   "source": [
    "# df['dates'] = df['dates'].str.replace('.','-')\n",
    "df_naver['dates'] = df_naver['dates'].str.replace(' ', '')"
   ]
  },
  {
   "cell_type": "code",
   "execution_count": 15,
   "id": "53df1e4e",
   "metadata": {
    "ExecuteTime": {
     "end_time": "2022-10-04T11:25:22.460844Z",
     "start_time": "2022-10-04T11:25:22.446419Z"
    }
   },
   "outputs": [
    {
     "name": "stdout",
     "output_type": "stream",
     "text": [
      "Series([], Name: dates, dtype: int64)\n",
      "2022.08.11    32\n",
      "2022.08.31    31\n",
      "2022.08.30    26\n",
      "2022.07.10    22\n",
      "None          20\n",
      "2022.03.31    17\n",
      "2022.07.06    17\n",
      "2022.04.15    16\n",
      "2022.07.27    16\n",
      "2022.03.28    15\n",
      "2022.07.26    15\n",
      "2022.06.02    15\n",
      "2022.06.07    15\n",
      "2022.05.09    14\n",
      "2021.10.29    12\n",
      "2022.09.01    12\n",
      "2022.07.21    12\n",
      "2022.08.25    12\n",
      "2021.10.28    11\n",
      "2022.01.04    11\n",
      "2022.03.29    11\n",
      "2022.08.09    11\n",
      "2022.08.22    11\n",
      "2022.08.29    11\n",
      "2022.05.13    10\n",
      "2022.05.31    10\n",
      "2022.08.17    10\n",
      "2022.09.21    10\n",
      "2022.08.28    10\n",
      "2021.10.27     9\n",
      "Name: dates, dtype: int64\n",
      "2022.01.24    9\n",
      "2022.04.29    9\n",
      "2021.10.26    9\n",
      "2021.12.29    9\n",
      "2022.05.27    9\n",
      "2022.04.28    9\n",
      "2022.03.30    8\n",
      "2022.04.01    8\n",
      "2022.02.07    8\n",
      "2022.07.11    8\n",
      "2021.11.08    7\n",
      "2022.03.18    7\n",
      "2021.11.23    7\n",
      "2022.04.16    7\n",
      "2021.11.02    7\n",
      "2022.09.02    7\n",
      "2022.04.12    7\n",
      "2022.01.02    7\n",
      "2022.03.21    7\n",
      "2022.07.18    7\n",
      "2022.07.22    7\n",
      "2022.06.19    6\n",
      "2021.10.07    6\n",
      "2022.09.05    6\n",
      "2021.10.31    6\n",
      "2022.04.21    6\n",
      "2022.08.15    6\n",
      "2022.08.03    6\n",
      "2022.07.29    6\n",
      "2022.05.10    6\n",
      "Name: dates, dtype: int64\n",
      "2022.01.10    6\n",
      "2021.10.19    6\n",
      "2021.12.15    6\n",
      "2022.09.18    6\n",
      "2022.05.23    6\n",
      "2022.03.22    6\n",
      "2022.01.27    6\n",
      "2022.04.11    6\n",
      "2021.12.27    6\n",
      "2022.03.08    5\n",
      "2022.01.26    5\n",
      "2021.12.01    5\n",
      "2021.11.21    5\n",
      "2022.02.08    5\n",
      "2022.09.04    5\n",
      "2022.07.13    5\n",
      "2022.04.06    5\n",
      "2022.07.05    5\n",
      "2022.01.21    5\n",
      "2022.06.27    5\n",
      "2021.11.22    5\n",
      "2021.11.15    5\n",
      "2022.05.25    5\n",
      "2022.01.12    5\n",
      "2022.04.26    5\n",
      "2022.05.18    5\n",
      "2022.07.08    5\n",
      "2022.01.11    5\n",
      "2021.11.10    5\n",
      "2021.10.22    4\n",
      "Name: dates, dtype: int64\n",
      "2022.08.05    4\n",
      "2022.02.24    4\n",
      "2022.08.24    4\n",
      "2022.08.26    4\n",
      "2021.11.19    4\n",
      "2022.07.24    4\n",
      "2022.01.03    4\n",
      "2022.01.05    4\n",
      "2022.05.17    4\n",
      "2022.07.12    4\n",
      "2022.06.28    4\n",
      "2021.11.24    4\n",
      "2022.04.25    4\n",
      "2021.12.21    4\n",
      "2022.02.04    4\n",
      "2022.06.30    4\n",
      "2022.03.20    4\n",
      "2022.01.23    4\n",
      "2021.11.07    4\n",
      "2022.06.15    4\n",
      "2022.05.02    4\n",
      "2022.02.14    4\n",
      "2022.09.17    4\n",
      "2022.09.27    4\n",
      "2022.06.08    4\n",
      "2022.01.13    4\n",
      "2021.11.01    4\n",
      "2021.12.23    4\n",
      "2022.01.18    4\n",
      "2021.11.04    4\n",
      "Name: dates, dtype: int64\n",
      "2022.08.16    3\n",
      "2021.12.12    3\n",
      "2021.11.20    3\n",
      "2021.11.03    3\n",
      "2021.12.10    3\n",
      "2021.12.02    3\n",
      "2021.10.20    3\n",
      "2021.12.14    3\n",
      "2022.01.28    3\n",
      "2021.10.13    3\n",
      "2022.02.28    3\n",
      "2022.04.10    3\n",
      "2022.07.07    3\n",
      "2022.04.22    3\n",
      "2022.09.19    3\n",
      "2022.06.20    3\n",
      "2022.01.30    3\n",
      "2022.09.09    3\n",
      "2022.04.17    3\n",
      "2022.03.27    3\n",
      "2022.02.03    3\n",
      "2022.03.09    3\n",
      "2022.02.02    3\n",
      "2022.02.17    3\n",
      "2021.12.19    3\n",
      "2021.12.20    3\n",
      "2021.12.24    3\n",
      "2022.03.25    3\n",
      "2022.06.21    3\n",
      "2022.08.04    3\n",
      "Name: dates, dtype: int64\n",
      "2022.07.20    3\n",
      "2022.08.10    3\n",
      "2022.06.29    3\n",
      "2022.08.23    3\n",
      "2022.06.22    3\n",
      "2021.11.05    3\n",
      "2022.06.17    3\n",
      "2021.12.30    3\n",
      "2022.03.02    3\n",
      "2022.06.09    3\n",
      "2021.12.31    3\n",
      "2022.04.13    3\n",
      "2021.11.11    3\n",
      "2022.01.20    3\n",
      "2021.10.21    3\n",
      "2022.09.14    3\n",
      "2022.09.26    2\n",
      "2022.01.16    2\n",
      "2022.04.27    2\n",
      "2021.12.13    2\n",
      "2022.08.07    2\n",
      "2022.05.30    2\n",
      "2022.05.03    2\n",
      "2022.01.22    2\n",
      "2022.03.24    2\n",
      "2022.04.20    2\n",
      "2022.05.08    2\n",
      "2022.03.03    2\n",
      "2021.10.25    2\n",
      "2022.02.27    2\n",
      "Name: dates, dtype: int64\n",
      "2022.01.01    2\n",
      "2021.12.17    2\n",
      "2022.09.13    2\n",
      "2022.07.01    2\n",
      "2022.04.05    2\n",
      "2022.03.14    2\n",
      "2022.03.17    2\n",
      "2022.02.10    2\n",
      "2022.01.31    2\n",
      "2021.12.07    2\n",
      "2022.04.19    2\n",
      "2022.03.26    2\n",
      "2021.10.05    2\n",
      "2022.01.17    2\n",
      "2022.02.11    2\n",
      "2021.10.14    2\n",
      "2022.01.19    2\n",
      "2022.05.11    2\n",
      "2022.05.26    2\n",
      "2021.12.09    2\n",
      "2022.03.16    2\n",
      "2021.10.18    2\n",
      "2022.01.29    2\n",
      "2021.11.29    2\n",
      "2021.11.18    2\n",
      "2022.08.18    2\n",
      "2022.07.28    2\n",
      "2022.02.23    2\n",
      "2021.12.22    1\n",
      "2022.02.06    1\n",
      "Name: dates, dtype: int64\n",
      "2022.05.20    1\n",
      "2022.02.05    1\n",
      "2022.05.04    1\n",
      "2021.12.06    1\n",
      "2021.12.03    1\n",
      "2022.08.21    1\n",
      "2022.03.05    1\n",
      "2021.12.05    1\n",
      "2022.03.01    1\n",
      "2021.12.26    1\n",
      "2021.10.11    1\n",
      "2022.07.02    1\n",
      "2021.10.08    1\n",
      "2022.01.09    1\n",
      "2022.05.05    1\n",
      "2021.12.04    1\n",
      "2021.11.28    1\n",
      "2021.11.30    1\n",
      "2021.11.16    1\n",
      "2021.12.28    1\n",
      "2022.06.18    1\n",
      "2022.09.30    1\n",
      "2022.02.01    1\n",
      "2022.02.13    1\n",
      "2021.11.17    1\n",
      "2021.12.11    1\n",
      "2022.09.23    1\n",
      "2021.12.18    1\n",
      "2022.01.07    1\n",
      "2022.09.22    1\n",
      "Name: dates, dtype: int64\n",
      "2022.03.15    1\n",
      "2022.04.30    1\n",
      "2021.11.25    1\n",
      "2022.06.11    1\n",
      "2022.09.08    1\n",
      "2022.03.13    1\n",
      "2021.11.27    1\n",
      "2021.12.08    1\n",
      "2022.01.06    1\n",
      "2022.09.06    1\n",
      "2022.06.10    1\n",
      "2022.05.19    1\n",
      "2022.09.29    1\n",
      "2022.09.07    1\n",
      "2022.09.11    1\n",
      "2021.10.30    1\n",
      "2022.01.25    1\n",
      "2022.09.03    1\n",
      "2022.04.14    1\n",
      "2022.02.19    1\n",
      "2022.02.09    1\n",
      "2022.02.15    1\n",
      "2022.03.12    1\n",
      "2022.03.04    1\n",
      "2022.03.07    1\n",
      "2022.04.04    1\n",
      "2022.04.18    1\n",
      "2022.05.06    1\n",
      "2022.05.07    1\n",
      "2022.08.19    1\n",
      "Name: dates, dtype: int64\n",
      "2022.05.28    1\n",
      "2022.05.12    1\n",
      "2022.05.16    1\n",
      "2022.06.13    1\n",
      "2022.07.14    1\n",
      "2022.06.24    1\n",
      "2022.07.04    1\n",
      "2022.08.02    1\n",
      "2022.07.23    1\n",
      "2021.10.15    1\n",
      "Name: dates, dtype: int64\n",
      "Series([], Name: dates, dtype: int64)\n",
      "Series([], Name: dates, dtype: int64)\n",
      "Series([], Name: dates, dtype: int64)\n",
      "Series([], Name: dates, dtype: int64)\n",
      "Series([], Name: dates, dtype: int64)\n",
      "Series([], Name: dates, dtype: int64)\n",
      "Series([], Name: dates, dtype: int64)\n",
      "Series([], Name: dates, dtype: int64)\n",
      "Series([], Name: dates, dtype: int64)\n",
      "Series([], Name: dates, dtype: int64)\n",
      "Series([], Name: dates, dtype: int64)\n",
      "Series([], Name: dates, dtype: int64)\n",
      "Series([], Name: dates, dtype: int64)\n",
      "Series([], Name: dates, dtype: int64)\n",
      "Series([], Name: dates, dtype: int64)\n",
      "Series([], Name: dates, dtype: int64)\n",
      "Series([], Name: dates, dtype: int64)\n",
      "Series([], Name: dates, dtype: int64)\n",
      "Series([], Name: dates, dtype: int64)\n",
      "Series([], Name: dates, dtype: int64)\n",
      "Series([], Name: dates, dtype: int64)\n",
      "Series([], Name: dates, dtype: int64)\n",
      "Series([], Name: dates, dtype: int64)\n",
      "Series([], Name: dates, dtype: int64)\n",
      "Series([], Name: dates, dtype: int64)\n",
      "Series([], Name: dates, dtype: int64)\n",
      "Series([], Name: dates, dtype: int64)\n",
      "Series([], Name: dates, dtype: int64)\n",
      "Series([], Name: dates, dtype: int64)\n",
      "Series([], Name: dates, dtype: int64)\n",
      "Series([], Name: dates, dtype: int64)\n",
      "Series([], Name: dates, dtype: int64)\n",
      "Series([], Name: dates, dtype: int64)\n"
     ]
    }
   ],
   "source": [
    "for i in range(44):\n",
    "    print(df_naver.dates.value_counts()[(i-1)*30:i*30])"
   ]
  },
  {
   "cell_type": "code",
   "execution_count": 16,
   "id": "a417a9b1",
   "metadata": {
    "ExecuteTime": {
     "end_time": "2022-10-04T11:25:22.468648Z",
     "start_time": "2022-10-04T11:25:22.462886Z"
    }
   },
   "outputs": [
    {
     "data": {
      "text/html": [
       "<div>\n",
       "<style scoped>\n",
       "    .dataframe tbody tr th:only-of-type {\n",
       "        vertical-align: middle;\n",
       "    }\n",
       "\n",
       "    .dataframe tbody tr th {\n",
       "        vertical-align: top;\n",
       "    }\n",
       "\n",
       "    .dataframe thead th {\n",
       "        text-align: right;\n",
       "    }\n",
       "</style>\n",
       "<table border=\"1\" class=\"dataframe\">\n",
       "  <thead>\n",
       "    <tr style=\"text-align: right;\">\n",
       "      <th></th>\n",
       "      <th>titles</th>\n",
       "      <th>dates</th>\n",
       "      <th>contents</th>\n",
       "    </tr>\n",
       "  </thead>\n",
       "  <tbody>\n",
       "    <tr>\n",
       "      <th>0</th>\n",
       "      <td>[[톡톡 이상품] 한빛코리아 / 다지워 네이처 클렌징 솝]</td>\n",
       "      <td>2021.10.05</td>\n",
       "      <td>[\\n마스카라까지 지우는 세정비누\\n\\n\\n\\n 피부에 자극을 주지 않고 각종 화장...</td>\n",
       "    </tr>\n",
       "    <tr>\n",
       "      <th>1</th>\n",
       "      <td>[[톡톡 이상품] 한빛코리아 / 다지워 네이처 클렌징 솝]</td>\n",
       "      <td>2021.10.05</td>\n",
       "      <td>[\\n마스카라까지 지우는 세정비누\\n\\n\\n\\n 피부에 자극을 주지 않고 각종 화장...</td>\n",
       "    </tr>\n",
       "    <tr>\n",
       "      <th>2</th>\n",
       "      <td>[[격동의 유통가④]편의점 성장 정체…미래는 근거리 쇼핑]</td>\n",
       "      <td>2021.10.07</td>\n",
       "      <td>[\\n기사내용 요약매장은 늘고 점포당 매출은 매월 줄고 있어코로나19로 마트 대신 ...</td>\n",
       "    </tr>\n",
       "    <tr>\n",
       "      <th>3</th>\n",
       "      <td>[\"파괴적 커머스 시대, 데이터 경쟁으로 전환\" [제14회 유통혁신포럼]]</td>\n",
       "      <td>2021.10.07</td>\n",
       "      <td>[\\n정연승 유통학회장 기조 강연\"유통산업 카테고리 경계 사라져\" \\n\\n\\n\\n ...</td>\n",
       "    </tr>\n",
       "    <tr>\n",
       "      <th>4</th>\n",
       "      <td>[\"파괴적 커머스 시대, 데이터 경쟁으로 전환\" [제14회 유통혁신포럼]]</td>\n",
       "      <td>2021.10.07</td>\n",
       "      <td>[\\n정연승 유통학회장 기조 강연\"유통산업 카테고리 경계 사라져\" \\n\\n\\n\\n ...</td>\n",
       "    </tr>\n",
       "    <tr>\n",
       "      <th>...</th>\n",
       "      <td>...</td>\n",
       "      <td>...</td>\n",
       "      <td>...</td>\n",
       "    </tr>\n",
       "    <tr>\n",
       "      <th>1228</th>\n",
       "      <td>[]</td>\n",
       "      <td>None</td>\n",
       "      <td>[]</td>\n",
       "    </tr>\n",
       "    <tr>\n",
       "      <th>1229</th>\n",
       "      <td>[]</td>\n",
       "      <td>None</td>\n",
       "      <td>[]</td>\n",
       "    </tr>\n",
       "    <tr>\n",
       "      <th>1230</th>\n",
       "      <td>[]</td>\n",
       "      <td>None</td>\n",
       "      <td>[]</td>\n",
       "    </tr>\n",
       "    <tr>\n",
       "      <th>1231</th>\n",
       "      <td>[]</td>\n",
       "      <td>None</td>\n",
       "      <td>[]</td>\n",
       "    </tr>\n",
       "    <tr>\n",
       "      <th>1232</th>\n",
       "      <td>[]</td>\n",
       "      <td>None</td>\n",
       "      <td>[]</td>\n",
       "    </tr>\n",
       "  </tbody>\n",
       "</table>\n",
       "<p>1233 rows × 3 columns</p>\n",
       "</div>"
      ],
      "text/plain": [
       "                                         titles       dates  \\\n",
       "0              [[톡톡 이상품] 한빛코리아 / 다지워 네이처 클렌징 솝]  2021.10.05   \n",
       "1              [[톡톡 이상품] 한빛코리아 / 다지워 네이처 클렌징 솝]  2021.10.05   \n",
       "2              [[격동의 유통가④]편의점 성장 정체…미래는 근거리 쇼핑]  2021.10.07   \n",
       "3     [\"파괴적 커머스 시대, 데이터 경쟁으로 전환\" [제14회 유통혁신포럼]]  2021.10.07   \n",
       "4     [\"파괴적 커머스 시대, 데이터 경쟁으로 전환\" [제14회 유통혁신포럼]]  2021.10.07   \n",
       "...                                         ...         ...   \n",
       "1228                                         []        None   \n",
       "1229                                         []        None   \n",
       "1230                                         []        None   \n",
       "1231                                         []        None   \n",
       "1232                                         []        None   \n",
       "\n",
       "                                               contents  \n",
       "0     [\\n마스카라까지 지우는 세정비누\\n\\n\\n\\n 피부에 자극을 주지 않고 각종 화장...  \n",
       "1     [\\n마스카라까지 지우는 세정비누\\n\\n\\n\\n 피부에 자극을 주지 않고 각종 화장...  \n",
       "2     [\\n기사내용 요약매장은 늘고 점포당 매출은 매월 줄고 있어코로나19로 마트 대신 ...  \n",
       "3     [\\n정연승 유통학회장 기조 강연\"유통산업 카테고리 경계 사라져\" \\n\\n\\n\\n ...  \n",
       "4     [\\n정연승 유통학회장 기조 강연\"유통산업 카테고리 경계 사라져\" \\n\\n\\n\\n ...  \n",
       "...                                                 ...  \n",
       "1228                                                 []  \n",
       "1229                                                 []  \n",
       "1230                                                 []  \n",
       "1231                                                 []  \n",
       "1232                                                 []  \n",
       "\n",
       "[1233 rows x 3 columns]"
      ]
     },
     "execution_count": 16,
     "metadata": {},
     "output_type": "execute_result"
    }
   ],
   "source": [
    "df_naver = df_naver.sort_values(by=['dates'], axis=0).reset_index().drop(columns=['index'])#.drop(columns=['level_0'])\n",
    "df_naver"
   ]
  },
  {
   "cell_type": "code",
   "execution_count": 17,
   "id": "3f29efc5",
   "metadata": {
    "ExecuteTime": {
     "end_time": "2022-10-04T11:25:22.473679Z",
     "start_time": "2022-10-04T11:25:22.469667Z"
    },
    "scrolled": true
   },
   "outputs": [
    {
     "data": {
      "text/plain": [
       "Int64Index([1213, 1214, 1215, 1216, 1217, 1218, 1219, 1220, 1221, 1222, 1223,\n",
       "            1224, 1225, 1226, 1227, 1228, 1229, 1230, 1231, 1232],\n",
       "           dtype='int64')"
      ]
     },
     "execution_count": 17,
     "metadata": {},
     "output_type": "execute_result"
    }
   ],
   "source": [
    "ss=df_naver[df_naver['dates'].str.contains('None')].index\n",
    "ss"
   ]
  },
  {
   "cell_type": "code",
   "execution_count": 18,
   "id": "6c826389",
   "metadata": {
    "ExecuteTime": {
     "end_time": "2022-10-04T11:25:22.477566Z",
     "start_time": "2022-10-04T11:25:22.475584Z"
    }
   },
   "outputs": [],
   "source": [
    "df_naver = df_naver.drop(ss)"
   ]
  },
  {
   "cell_type": "code",
   "execution_count": 19,
   "id": "60a67bcb",
   "metadata": {
    "ExecuteTime": {
     "end_time": "2022-10-04T11:25:22.483351Z",
     "start_time": "2022-10-04T11:25:22.478407Z"
    }
   },
   "outputs": [
    {
     "data": {
      "text/html": [
       "<div>\n",
       "<style scoped>\n",
       "    .dataframe tbody tr th:only-of-type {\n",
       "        vertical-align: middle;\n",
       "    }\n",
       "\n",
       "    .dataframe tbody tr th {\n",
       "        vertical-align: top;\n",
       "    }\n",
       "\n",
       "    .dataframe thead th {\n",
       "        text-align: right;\n",
       "    }\n",
       "</style>\n",
       "<table border=\"1\" class=\"dataframe\">\n",
       "  <thead>\n",
       "    <tr style=\"text-align: right;\">\n",
       "      <th></th>\n",
       "      <th>titles</th>\n",
       "      <th>dates</th>\n",
       "      <th>contents</th>\n",
       "    </tr>\n",
       "  </thead>\n",
       "  <tbody>\n",
       "    <tr>\n",
       "      <th>0</th>\n",
       "      <td>[[톡톡 이상품] 한빛코리아 / 다지워 네이처 클렌징 솝]</td>\n",
       "      <td>2021.10.05</td>\n",
       "      <td>[\\n마스카라까지 지우는 세정비누\\n\\n\\n\\n 피부에 자극을 주지 않고 각종 화장...</td>\n",
       "    </tr>\n",
       "    <tr>\n",
       "      <th>1</th>\n",
       "      <td>[[톡톡 이상품] 한빛코리아 / 다지워 네이처 클렌징 솝]</td>\n",
       "      <td>2021.10.05</td>\n",
       "      <td>[\\n마스카라까지 지우는 세정비누\\n\\n\\n\\n 피부에 자극을 주지 않고 각종 화장...</td>\n",
       "    </tr>\n",
       "    <tr>\n",
       "      <th>2</th>\n",
       "      <td>[[격동의 유통가④]편의점 성장 정체…미래는 근거리 쇼핑]</td>\n",
       "      <td>2021.10.07</td>\n",
       "      <td>[\\n기사내용 요약매장은 늘고 점포당 매출은 매월 줄고 있어코로나19로 마트 대신 ...</td>\n",
       "    </tr>\n",
       "    <tr>\n",
       "      <th>3</th>\n",
       "      <td>[\"파괴적 커머스 시대, 데이터 경쟁으로 전환\" [제14회 유통혁신포럼]]</td>\n",
       "      <td>2021.10.07</td>\n",
       "      <td>[\\n정연승 유통학회장 기조 강연\"유통산업 카테고리 경계 사라져\" \\n\\n\\n\\n ...</td>\n",
       "    </tr>\n",
       "    <tr>\n",
       "      <th>4</th>\n",
       "      <td>[\"파괴적 커머스 시대, 데이터 경쟁으로 전환\" [제14회 유통혁신포럼]]</td>\n",
       "      <td>2021.10.07</td>\n",
       "      <td>[\\n정연승 유통학회장 기조 강연\"유통산업 카테고리 경계 사라져\" \\n\\n\\n\\n ...</td>\n",
       "    </tr>\n",
       "    <tr>\n",
       "      <th>...</th>\n",
       "      <td>...</td>\n",
       "      <td>...</td>\n",
       "      <td>...</td>\n",
       "    </tr>\n",
       "    <tr>\n",
       "      <th>1208</th>\n",
       "      <td>[\"투자 늘렸는데 이제와서…\" 퀵커머스마저 규제하나 '초긴장']</td>\n",
       "      <td>2022.09.27</td>\n",
       "      <td>[\\n■국감 오르는 유통업 새 먹거리e커머스 맞서 경쟁력 강화 위해쿠팡이츠마트 등 ...</td>\n",
       "    </tr>\n",
       "    <tr>\n",
       "      <th>1209</th>\n",
       "      <td>[\"투자 늘렸는데 이제와서…\" 퀵커머스마저 규제하나 '초긴장']</td>\n",
       "      <td>2022.09.27</td>\n",
       "      <td>[\\n■국감 오르는 유통업 새 먹거리e커머스 맞서 경쟁력 강화 위해쿠팡이츠마트 등 ...</td>\n",
       "    </tr>\n",
       "    <tr>\n",
       "      <th>1210</th>\n",
       "      <td>[\"투자 늘렸는데 이제와서…\" 퀵커머스마저 규제하나 '초긴장']</td>\n",
       "      <td>2022.09.27</td>\n",
       "      <td>[\\n■국감 오르는 유통업 새 먹거리e커머스 맞서 경쟁력 강화 위해쿠팡이츠마트 등 ...</td>\n",
       "    </tr>\n",
       "    <tr>\n",
       "      <th>1211</th>\n",
       "      <td>[국내 이커머스 상장 1호 주인공 누가될까 [격변의 이커머스①]]</td>\n",
       "      <td>2022.09.29</td>\n",
       "      <td>[\\n이커머스 IPO 대전, 흑자 기업 오아시스 연내 목표컬리, 증시 부진에 예상 ...</td>\n",
       "    </tr>\n",
       "    <tr>\n",
       "      <th>1212</th>\n",
       "      <td>[오아시스마켓, 맞춤형 영상 콘텐츠 지원에 소상공인 매출 ‘쑥쑥’]</td>\n",
       "      <td>2022.09.30</td>\n",
       "      <td>[\\n\"V 커머스 지원 사업으로 2~400배 매출 증가\"오아시스마켓이 중소기업유통센...</td>\n",
       "    </tr>\n",
       "  </tbody>\n",
       "</table>\n",
       "<p>1213 rows × 3 columns</p>\n",
       "</div>"
      ],
      "text/plain": [
       "                                         titles       dates  \\\n",
       "0              [[톡톡 이상품] 한빛코리아 / 다지워 네이처 클렌징 솝]  2021.10.05   \n",
       "1              [[톡톡 이상품] 한빛코리아 / 다지워 네이처 클렌징 솝]  2021.10.05   \n",
       "2              [[격동의 유통가④]편의점 성장 정체…미래는 근거리 쇼핑]  2021.10.07   \n",
       "3     [\"파괴적 커머스 시대, 데이터 경쟁으로 전환\" [제14회 유통혁신포럼]]  2021.10.07   \n",
       "4     [\"파괴적 커머스 시대, 데이터 경쟁으로 전환\" [제14회 유통혁신포럼]]  2021.10.07   \n",
       "...                                         ...         ...   \n",
       "1208        [\"투자 늘렸는데 이제와서…\" 퀵커머스마저 규제하나 '초긴장']  2022.09.27   \n",
       "1209        [\"투자 늘렸는데 이제와서…\" 퀵커머스마저 규제하나 '초긴장']  2022.09.27   \n",
       "1210        [\"투자 늘렸는데 이제와서…\" 퀵커머스마저 규제하나 '초긴장']  2022.09.27   \n",
       "1211       [국내 이커머스 상장 1호 주인공 누가될까 [격변의 이커머스①]]  2022.09.29   \n",
       "1212      [오아시스마켓, 맞춤형 영상 콘텐츠 지원에 소상공인 매출 ‘쑥쑥’]  2022.09.30   \n",
       "\n",
       "                                               contents  \n",
       "0     [\\n마스카라까지 지우는 세정비누\\n\\n\\n\\n 피부에 자극을 주지 않고 각종 화장...  \n",
       "1     [\\n마스카라까지 지우는 세정비누\\n\\n\\n\\n 피부에 자극을 주지 않고 각종 화장...  \n",
       "2     [\\n기사내용 요약매장은 늘고 점포당 매출은 매월 줄고 있어코로나19로 마트 대신 ...  \n",
       "3     [\\n정연승 유통학회장 기조 강연\"유통산업 카테고리 경계 사라져\" \\n\\n\\n\\n ...  \n",
       "4     [\\n정연승 유통학회장 기조 강연\"유통산업 카테고리 경계 사라져\" \\n\\n\\n\\n ...  \n",
       "...                                                 ...  \n",
       "1208  [\\n■국감 오르는 유통업 새 먹거리e커머스 맞서 경쟁력 강화 위해쿠팡이츠마트 등 ...  \n",
       "1209  [\\n■국감 오르는 유통업 새 먹거리e커머스 맞서 경쟁력 강화 위해쿠팡이츠마트 등 ...  \n",
       "1210  [\\n■국감 오르는 유통업 새 먹거리e커머스 맞서 경쟁력 강화 위해쿠팡이츠마트 등 ...  \n",
       "1211  [\\n이커머스 IPO 대전, 흑자 기업 오아시스 연내 목표컬리, 증시 부진에 예상 ...  \n",
       "1212  [\\n\"V 커머스 지원 사업으로 2~400배 매출 증가\"오아시스마켓이 중소기업유통센...  \n",
       "\n",
       "[1213 rows x 3 columns]"
      ]
     },
     "execution_count": 19,
     "metadata": {},
     "output_type": "execute_result"
    }
   ],
   "source": [
    "df_naver"
   ]
  },
  {
   "cell_type": "code",
   "execution_count": 20,
   "id": "e9a52f27",
   "metadata": {
    "ExecuteTime": {
     "end_time": "2022-10-04T11:25:29.084071Z",
     "start_time": "2022-10-04T11:25:29.035347Z"
    },
    "scrolled": true
   },
   "outputs": [],
   "source": [
    "df_naver = df_naver.drop_duplicates().reset_index().drop(columns=['index'])"
   ]
  },
  {
   "cell_type": "code",
   "execution_count": 21,
   "id": "9ac1e81c",
   "metadata": {
    "ExecuteTime": {
     "end_time": "2022-10-04T11:25:38.006190Z",
     "start_time": "2022-10-04T11:25:38.001783Z"
    }
   },
   "outputs": [],
   "source": [
    "df_naver = df_naver.set_index('dates')"
   ]
  },
  {
   "cell_type": "code",
   "execution_count": 24,
   "id": "80702f0a",
   "metadata": {
    "ExecuteTime": {
     "end_time": "2022-10-04T11:25:59.280173Z",
     "start_time": "2022-10-04T11:25:59.274987Z"
    }
   },
   "outputs": [],
   "source": [
    "df_naver['cc'] = '//'"
   ]
  },
  {
   "cell_type": "code",
   "execution_count": 25,
   "id": "7d3abba2",
   "metadata": {
    "ExecuteTime": {
     "end_time": "2022-10-04T11:26:58.945528Z",
     "start_time": "2022-10-04T11:26:58.930516Z"
    }
   },
   "outputs": [
    {
     "data": {
      "text/html": [
       "<div>\n",
       "<style scoped>\n",
       "    .dataframe tbody tr th:only-of-type {\n",
       "        vertical-align: middle;\n",
       "    }\n",
       "\n",
       "    .dataframe tbody tr th {\n",
       "        vertical-align: top;\n",
       "    }\n",
       "\n",
       "    .dataframe thead th {\n",
       "        text-align: right;\n",
       "    }\n",
       "</style>\n",
       "<table border=\"1\" class=\"dataframe\">\n",
       "  <thead>\n",
       "    <tr style=\"text-align: right;\">\n",
       "      <th></th>\n",
       "      <th>titles</th>\n",
       "      <th>contents</th>\n",
       "      <th>cc</th>\n",
       "    </tr>\n",
       "    <tr>\n",
       "      <th>dates</th>\n",
       "      <th></th>\n",
       "      <th></th>\n",
       "      <th></th>\n",
       "    </tr>\n",
       "  </thead>\n",
       "  <tbody>\n",
       "    <tr>\n",
       "      <th>2021.10.05</th>\n",
       "      <td>[[톡톡 이상품] 한빛코리아 / 다지워 네이처 클렌징 솝]</td>\n",
       "      <td>[\\n마스카라까지 지우는 세정비누\\n\\n\\n\\n 피부에 자극을 주지 않고 각종 화장...</td>\n",
       "      <td>//</td>\n",
       "    </tr>\n",
       "    <tr>\n",
       "      <th>2021.10.07</th>\n",
       "      <td>[[격동의 유통가④]편의점 성장 정체…미래는 근거리 쇼핑]</td>\n",
       "      <td>[\\n기사내용 요약매장은 늘고 점포당 매출은 매월 줄고 있어코로나19로 마트 대신 ...</td>\n",
       "      <td>//</td>\n",
       "    </tr>\n",
       "    <tr>\n",
       "      <th>2021.10.07</th>\n",
       "      <td>[\"파괴적 커머스 시대, 데이터 경쟁으로 전환\" [제14회 유통혁신포럼]]</td>\n",
       "      <td>[\\n정연승 유통학회장 기조 강연\"유통산업 카테고리 경계 사라져\" \\n\\n\\n\\n ...</td>\n",
       "      <td>//</td>\n",
       "    </tr>\n",
       "    <tr>\n",
       "      <th>2021.10.07</th>\n",
       "      <td>[\"비대면 소비로 새벽배송 급증 물류센터 확대 전국 서비스 추진\" [제14회 유통혁...</td>\n",
       "      <td>[\\n강연  K유니콘의 미래전략김수희 오아시스마켓 대외법무이사 \\n\\n\\n\\n \"신...</td>\n",
       "      <td>//</td>\n",
       "    </tr>\n",
       "    <tr>\n",
       "      <th>2021.10.07</th>\n",
       "      <td>[2021년 9월 프랜차이즈 정보공개서 신규등록 333개 명단 공개]</td>\n",
       "      <td>[\\n2021년 9월 신규정보공개서 등록브랜드가 333개로 나타났다. 정보공개서 등...</td>\n",
       "      <td>//</td>\n",
       "    </tr>\n",
       "    <tr>\n",
       "      <th>...</th>\n",
       "      <td>...</td>\n",
       "      <td>...</td>\n",
       "      <td>...</td>\n",
       "    </tr>\n",
       "    <tr>\n",
       "      <th>2022.09.23</th>\n",
       "      <td>[WCP 흥행 실패에 컬리, 케이뱅크 상장 시기 '안갯속']</td>\n",
       "      <td>[\\n심사 승인 났는데 IPO 감감무소식골프존카운티는 내년으로 연기컬리도 오아시스 ...</td>\n",
       "      <td>//</td>\n",
       "    </tr>\n",
       "    <tr>\n",
       "      <th>2022.09.26</th>\n",
       "      <td>[[먹거리+IT] 네이처랩 오경주 대표, “맛있고 건강한 주스 추천 서비스를 개발합...</td>\n",
       "      <td>[\\n\\t\\t\\t서울먹거리창업센터는 서울시가 국내 최초로 설립한 농식품 분야 특화 ...</td>\n",
       "      <td>//</td>\n",
       "    </tr>\n",
       "    <tr>\n",
       "      <th>2022.09.27</th>\n",
       "      <td>[\"투자 늘렸는데 이제와서…\" 퀵커머스마저 규제하나 '초긴장']</td>\n",
       "      <td>[\\n■국감 오르는 유통업 새 먹거리e커머스 맞서 경쟁력 강화 위해쿠팡이츠마트 등 ...</td>\n",
       "      <td>//</td>\n",
       "    </tr>\n",
       "    <tr>\n",
       "      <th>2022.09.29</th>\n",
       "      <td>[국내 이커머스 상장 1호 주인공 누가될까 [격변의 이커머스①]]</td>\n",
       "      <td>[\\n이커머스 IPO 대전, 흑자 기업 오아시스 연내 목표컬리, 증시 부진에 예상 ...</td>\n",
       "      <td>//</td>\n",
       "    </tr>\n",
       "    <tr>\n",
       "      <th>2022.09.30</th>\n",
       "      <td>[오아시스마켓, 맞춤형 영상 콘텐츠 지원에 소상공인 매출 ‘쑥쑥’]</td>\n",
       "      <td>[\\n\"V 커머스 지원 사업으로 2~400배 매출 증가\"오아시스마켓이 중소기업유통센...</td>\n",
       "      <td>//</td>\n",
       "    </tr>\n",
       "  </tbody>\n",
       "</table>\n",
       "<p>818 rows × 3 columns</p>\n",
       "</div>"
      ],
      "text/plain": [
       "                                                       titles  \\\n",
       "dates                                                           \n",
       "2021.10.05                   [[톡톡 이상품] 한빛코리아 / 다지워 네이처 클렌징 솝]   \n",
       "2021.10.07                   [[격동의 유통가④]편의점 성장 정체…미래는 근거리 쇼핑]   \n",
       "2021.10.07          [\"파괴적 커머스 시대, 데이터 경쟁으로 전환\" [제14회 유통혁신포럼]]   \n",
       "2021.10.07  [\"비대면 소비로 새벽배송 급증 물류센터 확대 전국 서비스 추진\" [제14회 유통혁...   \n",
       "2021.10.07             [2021년 9월 프랜차이즈 정보공개서 신규등록 333개 명단 공개]   \n",
       "...                                                       ...   \n",
       "2022.09.23                  [WCP 흥행 실패에 컬리, 케이뱅크 상장 시기 '안갯속']   \n",
       "2022.09.26  [[먹거리+IT] 네이처랩 오경주 대표, “맛있고 건강한 주스 추천 서비스를 개발합...   \n",
       "2022.09.27                [\"투자 늘렸는데 이제와서…\" 퀵커머스마저 규제하나 '초긴장']   \n",
       "2022.09.29               [국내 이커머스 상장 1호 주인공 누가될까 [격변의 이커머스①]]   \n",
       "2022.09.30              [오아시스마켓, 맞춤형 영상 콘텐츠 지원에 소상공인 매출 ‘쑥쑥’]   \n",
       "\n",
       "                                                     contents  cc  \n",
       "dates                                                              \n",
       "2021.10.05  [\\n마스카라까지 지우는 세정비누\\n\\n\\n\\n 피부에 자극을 주지 않고 각종 화장...  //  \n",
       "2021.10.07  [\\n기사내용 요약매장은 늘고 점포당 매출은 매월 줄고 있어코로나19로 마트 대신 ...  //  \n",
       "2021.10.07  [\\n정연승 유통학회장 기조 강연\"유통산업 카테고리 경계 사라져\" \\n\\n\\n\\n ...  //  \n",
       "2021.10.07  [\\n강연  K유니콘의 미래전략김수희 오아시스마켓 대외법무이사 \\n\\n\\n\\n \"신...  //  \n",
       "2021.10.07  [\\n2021년 9월 신규정보공개서 등록브랜드가 333개로 나타났다. 정보공개서 등...  //  \n",
       "...                                                       ...  ..  \n",
       "2022.09.23  [\\n심사 승인 났는데 IPO 감감무소식골프존카운티는 내년으로 연기컬리도 오아시스 ...  //  \n",
       "2022.09.26  [\\n\\t\\t\\t서울먹거리창업센터는 서울시가 국내 최초로 설립한 농식품 분야 특화 ...  //  \n",
       "2022.09.27  [\\n■국감 오르는 유통업 새 먹거리e커머스 맞서 경쟁력 강화 위해쿠팡이츠마트 등 ...  //  \n",
       "2022.09.29  [\\n이커머스 IPO 대전, 흑자 기업 오아시스 연내 목표컬리, 증시 부진에 예상 ...  //  \n",
       "2022.09.30  [\\n\"V 커머스 지원 사업으로 2~400배 매출 증가\"오아시스마켓이 중소기업유통센...  //  \n",
       "\n",
       "[818 rows x 3 columns]"
      ]
     },
     "execution_count": 25,
     "metadata": {},
     "output_type": "execute_result"
    }
   ],
   "source": [
    "df_naver"
   ]
  },
  {
   "cell_type": "code",
   "execution_count": 26,
   "id": "506b4251",
   "metadata": {
    "ExecuteTime": {
     "end_time": "2022-10-04T11:27:01.185777Z",
     "start_time": "2022-10-04T11:27:01.178497Z"
    }
   },
   "outputs": [],
   "source": [
    "df_naver['titles'] = df_naver['titles'] + df_naver['cc'] \n",
    "df_naver['contents'] = df_naver['contents'] + df_naver['cc'] "
   ]
  },
  {
   "cell_type": "code",
   "execution_count": 29,
   "id": "a923784b",
   "metadata": {
    "ExecuteTime": {
     "end_time": "2022-10-04T11:27:34.718650Z",
     "start_time": "2022-10-04T11:27:34.705814Z"
    }
   },
   "outputs": [
    {
     "data": {
      "text/html": [
       "<div>\n",
       "<style scoped>\n",
       "    .dataframe tbody tr th:only-of-type {\n",
       "        vertical-align: middle;\n",
       "    }\n",
       "\n",
       "    .dataframe tbody tr th {\n",
       "        vertical-align: top;\n",
       "    }\n",
       "\n",
       "    .dataframe thead th {\n",
       "        text-align: right;\n",
       "    }\n",
       "</style>\n",
       "<table border=\"1\" class=\"dataframe\">\n",
       "  <thead>\n",
       "    <tr style=\"text-align: right;\">\n",
       "      <th></th>\n",
       "      <th>titles</th>\n",
       "      <th>contents</th>\n",
       "    </tr>\n",
       "    <tr>\n",
       "      <th>dates</th>\n",
       "      <th></th>\n",
       "      <th></th>\n",
       "    </tr>\n",
       "  </thead>\n",
       "  <tbody>\n",
       "    <tr>\n",
       "      <th>2021.10.05</th>\n",
       "      <td>[[톡톡 이상품] 한빛코리아 / 다지워 네이처 클렌징 솝]//</td>\n",
       "      <td>[\\n마스카라까지 지우는 세정비누\\n\\n\\n\\n 피부에 자극을 주지 않고 각종 화장...</td>\n",
       "    </tr>\n",
       "    <tr>\n",
       "      <th>2021.10.07</th>\n",
       "      <td>[[격동의 유통가④]편의점 성장 정체…미래는 근거리 쇼핑]//</td>\n",
       "      <td>[\\n기사내용 요약매장은 늘고 점포당 매출은 매월 줄고 있어코로나19로 마트 대신 ...</td>\n",
       "    </tr>\n",
       "    <tr>\n",
       "      <th>2021.10.07</th>\n",
       "      <td>[\"파괴적 커머스 시대, 데이터 경쟁으로 전환\" [제14회 유통혁신포럼]]//</td>\n",
       "      <td>[\\n정연승 유통학회장 기조 강연\"유통산업 카테고리 경계 사라져\" \\n\\n\\n\\n ...</td>\n",
       "    </tr>\n",
       "    <tr>\n",
       "      <th>2021.10.07</th>\n",
       "      <td>[\"비대면 소비로 새벽배송 급증 물류센터 확대 전국 서비스 추진\" [제14회 유통혁...</td>\n",
       "      <td>[\\n강연  K유니콘의 미래전략김수희 오아시스마켓 대외법무이사 \\n\\n\\n\\n \"신...</td>\n",
       "    </tr>\n",
       "    <tr>\n",
       "      <th>2021.10.07</th>\n",
       "      <td>[2021년 9월 프랜차이즈 정보공개서 신규등록 333개 명단 공개]//</td>\n",
       "      <td>[\\n2021년 9월 신규정보공개서 등록브랜드가 333개로 나타났다. 정보공개서 등...</td>\n",
       "    </tr>\n",
       "    <tr>\n",
       "      <th>...</th>\n",
       "      <td>...</td>\n",
       "      <td>...</td>\n",
       "    </tr>\n",
       "    <tr>\n",
       "      <th>2022.09.23</th>\n",
       "      <td>[WCP 흥행 실패에 컬리, 케이뱅크 상장 시기 '안갯속']//</td>\n",
       "      <td>[\\n심사 승인 났는데 IPO 감감무소식골프존카운티는 내년으로 연기컬리도 오아시스 ...</td>\n",
       "    </tr>\n",
       "    <tr>\n",
       "      <th>2022.09.26</th>\n",
       "      <td>[[먹거리+IT] 네이처랩 오경주 대표, “맛있고 건강한 주스 추천 서비스를 개발합...</td>\n",
       "      <td>[\\n\\t\\t\\t서울먹거리창업센터는 서울시가 국내 최초로 설립한 농식품 분야 특화 ...</td>\n",
       "    </tr>\n",
       "    <tr>\n",
       "      <th>2022.09.27</th>\n",
       "      <td>[\"투자 늘렸는데 이제와서…\" 퀵커머스마저 규제하나 '초긴장']//</td>\n",
       "      <td>[\\n■국감 오르는 유통업 새 먹거리e커머스 맞서 경쟁력 강화 위해쿠팡이츠마트 등 ...</td>\n",
       "    </tr>\n",
       "    <tr>\n",
       "      <th>2022.09.29</th>\n",
       "      <td>[국내 이커머스 상장 1호 주인공 누가될까 [격변의 이커머스①]]//</td>\n",
       "      <td>[\\n이커머스 IPO 대전, 흑자 기업 오아시스 연내 목표컬리, 증시 부진에 예상 ...</td>\n",
       "    </tr>\n",
       "    <tr>\n",
       "      <th>2022.09.30</th>\n",
       "      <td>[오아시스마켓, 맞춤형 영상 콘텐츠 지원에 소상공인 매출 ‘쑥쑥’]//</td>\n",
       "      <td>[\\n\"V 커머스 지원 사업으로 2~400배 매출 증가\"오아시스마켓이 중소기업유통센...</td>\n",
       "    </tr>\n",
       "  </tbody>\n",
       "</table>\n",
       "<p>818 rows × 2 columns</p>\n",
       "</div>"
      ],
      "text/plain": [
       "                                                       titles  \\\n",
       "dates                                                           \n",
       "2021.10.05                 [[톡톡 이상품] 한빛코리아 / 다지워 네이처 클렌징 솝]//   \n",
       "2021.10.07                 [[격동의 유통가④]편의점 성장 정체…미래는 근거리 쇼핑]//   \n",
       "2021.10.07        [\"파괴적 커머스 시대, 데이터 경쟁으로 전환\" [제14회 유통혁신포럼]]//   \n",
       "2021.10.07  [\"비대면 소비로 새벽배송 급증 물류센터 확대 전국 서비스 추진\" [제14회 유통혁...   \n",
       "2021.10.07           [2021년 9월 프랜차이즈 정보공개서 신규등록 333개 명단 공개]//   \n",
       "...                                                       ...   \n",
       "2022.09.23                [WCP 흥행 실패에 컬리, 케이뱅크 상장 시기 '안갯속']//   \n",
       "2022.09.26  [[먹거리+IT] 네이처랩 오경주 대표, “맛있고 건강한 주스 추천 서비스를 개발합...   \n",
       "2022.09.27              [\"투자 늘렸는데 이제와서…\" 퀵커머스마저 규제하나 '초긴장']//   \n",
       "2022.09.29             [국내 이커머스 상장 1호 주인공 누가될까 [격변의 이커머스①]]//   \n",
       "2022.09.30            [오아시스마켓, 맞춤형 영상 콘텐츠 지원에 소상공인 매출 ‘쑥쑥’]//   \n",
       "\n",
       "                                                     contents  \n",
       "dates                                                          \n",
       "2021.10.05  [\\n마스카라까지 지우는 세정비누\\n\\n\\n\\n 피부에 자극을 주지 않고 각종 화장...  \n",
       "2021.10.07  [\\n기사내용 요약매장은 늘고 점포당 매출은 매월 줄고 있어코로나19로 마트 대신 ...  \n",
       "2021.10.07  [\\n정연승 유통학회장 기조 강연\"유통산업 카테고리 경계 사라져\" \\n\\n\\n\\n ...  \n",
       "2021.10.07  [\\n강연  K유니콘의 미래전략김수희 오아시스마켓 대외법무이사 \\n\\n\\n\\n \"신...  \n",
       "2021.10.07  [\\n2021년 9월 신규정보공개서 등록브랜드가 333개로 나타났다. 정보공개서 등...  \n",
       "...                                                       ...  \n",
       "2022.09.23  [\\n심사 승인 났는데 IPO 감감무소식골프존카운티는 내년으로 연기컬리도 오아시스 ...  \n",
       "2022.09.26  [\\n\\t\\t\\t서울먹거리창업센터는 서울시가 국내 최초로 설립한 농식품 분야 특화 ...  \n",
       "2022.09.27  [\\n■국감 오르는 유통업 새 먹거리e커머스 맞서 경쟁력 강화 위해쿠팡이츠마트 등 ...  \n",
       "2022.09.29  [\\n이커머스 IPO 대전, 흑자 기업 오아시스 연내 목표컬리, 증시 부진에 예상 ...  \n",
       "2022.09.30  [\\n\"V 커머스 지원 사업으로 2~400배 매출 증가\"오아시스마켓이 중소기업유통센...  \n",
       "\n",
       "[818 rows x 2 columns]"
      ]
     },
     "execution_count": 29,
     "metadata": {},
     "output_type": "execute_result"
    }
   ],
   "source": [
    "df_naver = df_naver.drop(columns=['cc'])\n",
    "df_naver"
   ]
  },
  {
   "cell_type": "code",
   "execution_count": 30,
   "id": "fb5ab286",
   "metadata": {
    "ExecuteTime": {
     "end_time": "2022-10-04T11:27:40.035593Z",
     "start_time": "2022-10-04T11:27:40.026795Z"
    }
   },
   "outputs": [],
   "source": [
    "df_naver = df_naver.groupby('dates').sum()"
   ]
  },
  {
   "cell_type": "code",
   "execution_count": 33,
   "id": "964ba501",
   "metadata": {
    "ExecuteTime": {
     "end_time": "2022-10-04T11:29:46.541653Z",
     "start_time": "2022-10-04T11:29:46.536785Z"
    }
   },
   "outputs": [],
   "source": [
    "df_naver['label'] = '-'"
   ]
  },
  {
   "cell_type": "code",
   "execution_count": 34,
   "id": "25c1b2b0",
   "metadata": {
    "ExecuteTime": {
     "end_time": "2022-10-04T11:29:50.576105Z",
     "start_time": "2022-10-04T11:29:50.562635Z"
    }
   },
   "outputs": [
    {
     "data": {
      "text/html": [
       "<div>\n",
       "<style scoped>\n",
       "    .dataframe tbody tr th:only-of-type {\n",
       "        vertical-align: middle;\n",
       "    }\n",
       "\n",
       "    .dataframe tbody tr th {\n",
       "        vertical-align: top;\n",
       "    }\n",
       "\n",
       "    .dataframe thead th {\n",
       "        text-align: right;\n",
       "    }\n",
       "</style>\n",
       "<table border=\"1\" class=\"dataframe\">\n",
       "  <thead>\n",
       "    <tr style=\"text-align: right;\">\n",
       "      <th></th>\n",
       "      <th>titles</th>\n",
       "      <th>contents</th>\n",
       "      <th>label</th>\n",
       "    </tr>\n",
       "    <tr>\n",
       "      <th>dates</th>\n",
       "      <th></th>\n",
       "      <th></th>\n",
       "      <th></th>\n",
       "    </tr>\n",
       "  </thead>\n",
       "  <tbody>\n",
       "    <tr>\n",
       "      <th>2021.10.05</th>\n",
       "      <td>[[톡톡 이상품] 한빛코리아 / 다지워 네이처 클렌징 솝]//</td>\n",
       "      <td>[\\n마스카라까지 지우는 세정비누\\n\\n\\n\\n 피부에 자극을 주지 않고 각종 화장...</td>\n",
       "      <td>-</td>\n",
       "    </tr>\n",
       "    <tr>\n",
       "      <th>2021.10.07</th>\n",
       "      <td>[[격동의 유통가④]편의점 성장 정체…미래는 근거리 쇼핑]//[\"파괴적 커머스 시대...</td>\n",
       "      <td>[\\n기사내용 요약매장은 늘고 점포당 매출은 매월 줄고 있어코로나19로 마트 대신 ...</td>\n",
       "      <td>-</td>\n",
       "    </tr>\n",
       "    <tr>\n",
       "      <th>2021.10.08</th>\n",
       "      <td>[株머니 매니저의 HOT종목]//</td>\n",
       "      <td>[\\n\\n\\n\\n\\n 씨에스윈드는 풍력발전기를 구성하는 타워 제작 및 설치를 주력 ...</td>\n",
       "      <td>-</td>\n",
       "    </tr>\n",
       "    <tr>\n",
       "      <th>2021.10.11</th>\n",
       "      <td>[김민수 더맘마 대표 \"동네마트와 '상생'이 경쟁력…30분 총알배송 목표\"]//</td>\n",
       "      <td>[\\n별도 물류센터 없이 동네마트 활용…中 알리바바의 슈퍼마켓 '허만셴셩' 벤치마크...</td>\n",
       "      <td>-</td>\n",
       "    </tr>\n",
       "    <tr>\n",
       "      <th>2021.10.13</th>\n",
       "      <td>[\"카카오 보고있나\"…진격의 네이버페이, 中 최대 직구몰 손잡았다]//[[주간투자동...</td>\n",
       "      <td>[\\n\\n\\n\\n\\n/사진=알리익스프레스중국 최대 규모의 해외직구 쇼핑몰에서도 네이...</td>\n",
       "      <td>-</td>\n",
       "    </tr>\n",
       "    <tr>\n",
       "      <th>...</th>\n",
       "      <td>...</td>\n",
       "      <td>...</td>\n",
       "      <td>...</td>\n",
       "    </tr>\n",
       "    <tr>\n",
       "      <th>2022.09.23</th>\n",
       "      <td>[WCP 흥행 실패에 컬리, 케이뱅크 상장 시기 '안갯속']//</td>\n",
       "      <td>[\\n심사 승인 났는데 IPO 감감무소식골프존카운티는 내년으로 연기컬리도 오아시스 ...</td>\n",
       "      <td>-</td>\n",
       "    </tr>\n",
       "    <tr>\n",
       "      <th>2022.09.26</th>\n",
       "      <td>[[먹거리+IT] 네이처랩 오경주 대표, “맛있고 건강한 주스 추천 서비스를 개발합...</td>\n",
       "      <td>[\\n\\t\\t\\t서울먹거리창업센터는 서울시가 국내 최초로 설립한 농식품 분야 특화 ...</td>\n",
       "      <td>-</td>\n",
       "    </tr>\n",
       "    <tr>\n",
       "      <th>2022.09.27</th>\n",
       "      <td>[\"투자 늘렸는데 이제와서…\" 퀵커머스마저 규제하나 '초긴장']//</td>\n",
       "      <td>[\\n■국감 오르는 유통업 새 먹거리e커머스 맞서 경쟁력 강화 위해쿠팡이츠마트 등 ...</td>\n",
       "      <td>-</td>\n",
       "    </tr>\n",
       "    <tr>\n",
       "      <th>2022.09.29</th>\n",
       "      <td>[국내 이커머스 상장 1호 주인공 누가될까 [격변의 이커머스①]]//</td>\n",
       "      <td>[\\n이커머스 IPO 대전, 흑자 기업 오아시스 연내 목표컬리, 증시 부진에 예상 ...</td>\n",
       "      <td>-</td>\n",
       "    </tr>\n",
       "    <tr>\n",
       "      <th>2022.09.30</th>\n",
       "      <td>[오아시스마켓, 맞춤형 영상 콘텐츠 지원에 소상공인 매출 ‘쑥쑥’]//</td>\n",
       "      <td>[\\n\"V 커머스 지원 사업으로 2~400배 매출 증가\"오아시스마켓이 중소기업유통센...</td>\n",
       "      <td>-</td>\n",
       "    </tr>\n",
       "  </tbody>\n",
       "</table>\n",
       "<p>279 rows × 3 columns</p>\n",
       "</div>"
      ],
      "text/plain": [
       "                                                       titles  \\\n",
       "dates                                                           \n",
       "2021.10.05                 [[톡톡 이상품] 한빛코리아 / 다지워 네이처 클렌징 솝]//   \n",
       "2021.10.07  [[격동의 유통가④]편의점 성장 정체…미래는 근거리 쇼핑]//[\"파괴적 커머스 시대...   \n",
       "2021.10.08                                 [株머니 매니저의 HOT종목]//   \n",
       "2021.10.11       [김민수 더맘마 대표 \"동네마트와 '상생'이 경쟁력…30분 총알배송 목표\"]//   \n",
       "2021.10.13  [\"카카오 보고있나\"…진격의 네이버페이, 中 최대 직구몰 손잡았다]//[[주간투자동...   \n",
       "...                                                       ...   \n",
       "2022.09.23                [WCP 흥행 실패에 컬리, 케이뱅크 상장 시기 '안갯속']//   \n",
       "2022.09.26  [[먹거리+IT] 네이처랩 오경주 대표, “맛있고 건강한 주스 추천 서비스를 개발합...   \n",
       "2022.09.27              [\"투자 늘렸는데 이제와서…\" 퀵커머스마저 규제하나 '초긴장']//   \n",
       "2022.09.29             [국내 이커머스 상장 1호 주인공 누가될까 [격변의 이커머스①]]//   \n",
       "2022.09.30            [오아시스마켓, 맞춤형 영상 콘텐츠 지원에 소상공인 매출 ‘쑥쑥’]//   \n",
       "\n",
       "                                                     contents label  \n",
       "dates                                                                \n",
       "2021.10.05  [\\n마스카라까지 지우는 세정비누\\n\\n\\n\\n 피부에 자극을 주지 않고 각종 화장...     -  \n",
       "2021.10.07  [\\n기사내용 요약매장은 늘고 점포당 매출은 매월 줄고 있어코로나19로 마트 대신 ...     -  \n",
       "2021.10.08  [\\n\\n\\n\\n\\n 씨에스윈드는 풍력발전기를 구성하는 타워 제작 및 설치를 주력 ...     -  \n",
       "2021.10.11  [\\n별도 물류센터 없이 동네마트 활용…中 알리바바의 슈퍼마켓 '허만셴셩' 벤치마크...     -  \n",
       "2021.10.13  [\\n\\n\\n\\n\\n/사진=알리익스프레스중국 최대 규모의 해외직구 쇼핑몰에서도 네이...     -  \n",
       "...                                                       ...   ...  \n",
       "2022.09.23  [\\n심사 승인 났는데 IPO 감감무소식골프존카운티는 내년으로 연기컬리도 오아시스 ...     -  \n",
       "2022.09.26  [\\n\\t\\t\\t서울먹거리창업센터는 서울시가 국내 최초로 설립한 농식품 분야 특화 ...     -  \n",
       "2022.09.27  [\\n■국감 오르는 유통업 새 먹거리e커머스 맞서 경쟁력 강화 위해쿠팡이츠마트 등 ...     -  \n",
       "2022.09.29  [\\n이커머스 IPO 대전, 흑자 기업 오아시스 연내 목표컬리, 증시 부진에 예상 ...     -  \n",
       "2022.09.30  [\\n\"V 커머스 지원 사업으로 2~400배 매출 증가\"오아시스마켓이 중소기업유통센...     -  \n",
       "\n",
       "[279 rows x 3 columns]"
      ]
     },
     "execution_count": 34,
     "metadata": {},
     "output_type": "execute_result"
    }
   ],
   "source": [
    "df_naver"
   ]
  },
  {
   "cell_type": "code",
   "execution_count": 35,
   "id": "5844593b",
   "metadata": {
    "ExecuteTime": {
     "end_time": "2022-10-04T11:29:57.944600Z",
     "start_time": "2022-10-04T11:29:57.875901Z"
    }
   },
   "outputs": [],
   "source": [
    "df_naver.to_csv('news_label.csv')"
   ]
  },
  {
   "cell_type": "markdown",
   "id": "b681b8ee",
   "metadata": {},
   "source": [
    "# --------------------"
   ]
  },
  {
   "cell_type": "markdown",
   "id": "169744cd",
   "metadata": {},
   "source": [
    "## 같은 날짜 한줄에 표시"
   ]
  },
  {
   "cell_type": "code",
   "execution_count": null,
   "id": "e047218a",
   "metadata": {
    "ExecuteTime": {
     "end_time": "2022-10-04T08:33:50.237876Z",
     "start_time": "2022-10-04T08:33:50.224896Z"
    }
   },
   "outputs": [],
   "source": [
    "df = df.groupby('dates').sum()\n",
    "df"
   ]
  },
  {
   "cell_type": "markdown",
   "id": "47ad15d0",
   "metadata": {},
   "source": [
    "## null 값 확인"
   ]
  },
  {
   "cell_type": "code",
   "execution_count": null,
   "id": "b4623d5d",
   "metadata": {
    "ExecuteTime": {
     "end_time": "2022-10-04T08:33:52.951688Z",
     "start_time": "2022-10-04T08:33:52.936312Z"
    }
   },
   "outputs": [],
   "source": [
    "df.info()"
   ]
  },
  {
   "cell_type": "markdown",
   "id": "fe451321",
   "metadata": {},
   "source": [
    "## 특수문자 제거 정규표현식"
   ]
  },
  {
   "cell_type": "code",
   "execution_count": null,
   "id": "d39a0708",
   "metadata": {
    "ExecuteTime": {
     "end_time": "2022-10-04T08:33:54.104062Z",
     "start_time": "2022-10-04T08:33:54.092812Z"
    }
   },
   "outputs": [],
   "source": [
    "df['titles'] = df['titles'].str.replace(r\"[^\\uAC00-\\uD7A30-9a-zA-Z\\s]\",'')\n",
    "df['contents'] = df['contents'].str.replace(r\"[^\\uAC00-\\uD7A30-9a-zA-Z\\s]\",'')"
   ]
  },
  {
   "cell_type": "code",
   "execution_count": null,
   "id": "6dae1f7b",
   "metadata": {
    "ExecuteTime": {
     "end_time": "2022-10-04T08:33:55.232631Z",
     "start_time": "2022-10-04T08:33:55.218552Z"
    },
    "scrolled": false
   },
   "outputs": [],
   "source": [
    "df"
   ]
  },
  {
   "cell_type": "markdown",
   "id": "b7309413",
   "metadata": {},
   "source": [
    "## 토큰화"
   ]
  },
  {
   "cell_type": "code",
   "execution_count": null,
   "id": "f36bf57a",
   "metadata": {
    "ExecuteTime": {
     "end_time": "2022-10-04T08:33:57.886679Z",
     "start_time": "2022-10-04T08:33:57.514068Z"
    }
   },
   "outputs": [],
   "source": [
    "okt = Okt()\n"
   ]
  },
  {
   "cell_type": "code",
   "execution_count": null,
   "id": "ae9480b0",
   "metadata": {
    "ExecuteTime": {
     "end_time": "2022-10-04T08:33:58.689555Z",
     "start_time": "2022-10-04T08:33:58.682768Z"
    }
   },
   "outputs": [],
   "source": [
    "# 불용어 처리 \n",
    "\n",
    "stopwords = ['의','가','이','은','들','는','좀','잘','걍','과','도','를','으로','자','에','와','한','하다',\n",
    "             '\\n','\\n ','제목','을','로','있다','등']\n",
    "stopwords"
   ]
  },
  {
   "cell_type": "code",
   "execution_count": null,
   "id": "223a6798",
   "metadata": {
    "ExecuteTime": {
     "end_time": "2022-10-04T08:34:03.608220Z",
     "start_time": "2022-10-04T08:34:00.731139Z"
    },
    "scrolled": true
   },
   "outputs": [],
   "source": [
    "token = []\n",
    "for sentence in tqdm(df['contents']):\n",
    "    tokenized_sentence = okt.morphs(sentence, stem=True) # 토큰화\n",
    "    stopwords_removed_sentence = [word for word in tokenized_sentence if not word in stopwords] # 불용어 제거\n",
    "    token.append(stopwords_removed_sentence)\n",
    "    "
   ]
  },
  {
   "cell_type": "code",
   "execution_count": null,
   "id": "a7cd1064",
   "metadata": {
    "ExecuteTime": {
     "end_time": "2022-10-04T08:34:04.312638Z",
     "start_time": "2022-10-04T08:34:04.307978Z"
    },
    "scrolled": true
   },
   "outputs": [],
   "source": [
    "len(token)"
   ]
  },
  {
   "cell_type": "code",
   "execution_count": null,
   "id": "b94142eb",
   "metadata": {
    "ExecuteTime": {
     "end_time": "2022-10-03T12:32:31.749594Z",
     "start_time": "2022-10-03T12:32:31.745094Z"
    },
    "scrolled": false
   },
   "outputs": [],
   "source": [
    "print(token[:1])"
   ]
  },
  {
   "cell_type": "code",
   "execution_count": null,
   "id": "ac2af8c4",
   "metadata": {
    "ExecuteTime": {
     "end_time": "2022-10-04T08:34:07.883118Z",
     "start_time": "2022-10-04T08:34:07.862803Z"
    }
   },
   "outputs": [],
   "source": [
    "tokenizer = Tokenizer()\n",
    "tokenizer.fit_on_texts(token)"
   ]
  },
  {
   "cell_type": "code",
   "execution_count": null,
   "id": "07a10a04",
   "metadata": {
    "ExecuteTime": {
     "end_time": "2022-10-03T12:34:10.085723Z",
     "start_time": "2022-10-03T12:34:10.080746Z"
    }
   },
   "outputs": [],
   "source": [
    "print(tokenizer.word_index)"
   ]
  },
  {
   "cell_type": "code",
   "execution_count": null,
   "id": "b59bc359",
   "metadata": {
    "ExecuteTime": {
     "end_time": "2022-10-03T12:34:36.656637Z",
     "start_time": "2022-10-03T12:34:36.648606Z"
    }
   },
   "outputs": [],
   "source": [
    "threshold = 3\n",
    "total_cnt = len(tokenizer.word_index) # 단어의 수\n",
    "rare_cnt = 0 # 등장 빈도수가 threshold보다 작은 단어의 개수를 카운트\n",
    "total_freq = 0 # 훈련 데이터의 전체 단어 빈도수 총 합\n",
    "rare_freq = 0 # 등장 빈도수가 threshold보다 작은 단어의 등장 빈도수의 총 합\n",
    "\n",
    "# 단어와 빈도수의 쌍(pair)을 key와 value로 받는다.\n",
    "for key, value in tokenizer.word_counts.items():\n",
    "    total_freq = total_freq + value\n",
    "\n",
    "    # 단어의 등장 빈도수가 threshold보다 작으면\n",
    "    if(value < threshold):\n",
    "        rare_cnt = rare_cnt + 1\n",
    "        rare_freq = rare_freq + value\n",
    "\n",
    "print('단어 집합(vocabulary)의 크기 :',total_cnt)\n",
    "print('등장 빈도가 %s번 이하인 희귀 단어의 수: %s'%(threshold - 1, rare_cnt))\n",
    "print(\"단어 집합에서 희귀 단어의 비율:\", (rare_cnt / total_cnt)*100)\n",
    "print(\"전체 등장 빈도에서 희귀 단어 등장 빈도 비율:\", (rare_freq / total_freq)*100)"
   ]
  },
  {
   "cell_type": "code",
   "execution_count": null,
   "id": "b0b5eaa4",
   "metadata": {
    "ExecuteTime": {
     "end_time": "2022-10-04T08:34:26.158568Z",
     "start_time": "2022-10-04T08:34:26.155796Z"
    }
   },
   "outputs": [],
   "source": [
    "from collections import Counter"
   ]
  },
  {
   "cell_type": "code",
   "execution_count": null,
   "id": "3afc992c",
   "metadata": {
    "ExecuteTime": {
     "end_time": "2022-10-04T08:34:27.163802Z",
     "start_time": "2022-10-04T08:34:27.146207Z"
    },
    "scrolled": true
   },
   "outputs": [],
   "source": [
    "# 한 날짜? 한 행당 횟수 추출\n",
    "\n",
    "for i in range(19):\n",
    "    vocab = Counter(token[i])\n",
    "    print(vocab)"
   ]
  },
  {
   "cell_type": "code",
   "execution_count": null,
   "id": "6ad3cf24",
   "metadata": {
    "ExecuteTime": {
     "end_time": "2022-10-04T08:34:28.282168Z",
     "start_time": "2022-10-04T08:34:28.268438Z"
    },
    "scrolled": true
   },
   "outputs": [],
   "source": [
    "# 전체 중 빈도수 출력\n",
    "\n",
    "all_word_list = sum(token, [])\n",
    "vocab = Counter(all_word_list)\n",
    "print(vocab)"
   ]
  },
  {
   "cell_type": "code",
   "execution_count": null,
   "id": "644b7874",
   "metadata": {
    "ExecuteTime": {
     "end_time": "2022-10-04T08:34:31.310196Z",
     "start_time": "2022-10-04T08:34:31.285822Z"
    },
    "scrolled": true
   },
   "outputs": [],
   "source": [
    "word_list = list(vocab.keys())\n",
    "word_list"
   ]
  },
  {
   "cell_type": "code",
   "execution_count": null,
   "id": "21bb249c",
   "metadata": {
    "ExecuteTime": {
     "end_time": "2022-10-04T08:34:32.753551Z",
     "start_time": "2022-10-04T08:34:32.727239Z"
    },
    "scrolled": true
   },
   "outputs": [],
   "source": [
    "word_rank = list(vocab.values())\n",
    "word_rank"
   ]
  },
  {
   "cell_type": "code",
   "execution_count": null,
   "id": "112eea77",
   "metadata": {
    "ExecuteTime": {
     "end_time": "2022-10-04T08:34:44.555112Z",
     "start_time": "2022-10-04T08:34:44.540097Z"
    }
   },
   "outputs": [],
   "source": [
    "data = {'word': word_list, 'count' : word_rank}\n",
    "word_data = pd.DataFrame.from_dict(data)\n",
    "word_data"
   ]
  },
  {
   "cell_type": "code",
   "execution_count": null,
   "id": "87ad75e4",
   "metadata": {
    "ExecuteTime": {
     "end_time": "2022-10-04T08:34:49.047401Z",
     "start_time": "2022-10-04T08:34:49.039214Z"
    }
   },
   "outputs": [],
   "source": [
    "word_data = word_data.sort_values(by=['count'], ascending=False).reset_index().drop(columns=['index'])"
   ]
  },
  {
   "cell_type": "code",
   "execution_count": null,
   "id": "151bc357",
   "metadata": {
    "ExecuteTime": {
     "end_time": "2022-10-04T08:34:51.210555Z",
     "start_time": "2022-10-04T08:34:51.199322Z"
    }
   },
   "outputs": [],
   "source": [
    "word_data"
   ]
  },
  {
   "cell_type": "code",
   "execution_count": null,
   "id": "72fd2b9b",
   "metadata": {
    "ExecuteTime": {
     "end_time": "2022-10-03T11:27:25.787802Z",
     "start_time": "2022-10-03T11:27:25.761832Z"
    },
    "scrolled": true
   },
   "outputs": [],
   "source": [
    "for i in range(19):\n",
    "    print(word_data[ i*10 : (i+1)*10 ])"
   ]
  },
  {
   "cell_type": "code",
   "execution_count": null,
   "id": "3e087a72",
   "metadata": {
    "ExecuteTime": {
     "end_time": "2022-10-03T11:30:47.525271Z",
     "start_time": "2022-10-03T11:30:47.514270Z"
    }
   },
   "outputs": [],
   "source": [
    "word_data.to_csv('sentimental(news)_.csv')"
   ]
  },
  {
   "cell_type": "code",
   "execution_count": null,
   "id": "0f961f8f",
   "metadata": {
    "ExecuteTime": {
     "end_time": "2022-10-03T11:32:20.170318Z",
     "start_time": "2022-10-03T11:32:20.161806Z"
    }
   },
   "outputs": [],
   "source": [
    "sentimental = pd.read_csv('sentimental(news).csv').drop(columns=['Unnamed: 0'])\n",
    "# sentimental = sentimental.fillna('-')\n",
    "sentimental.insert(2,'label','-')"
   ]
  },
  {
   "cell_type": "code",
   "execution_count": null,
   "id": "f02ae907",
   "metadata": {
    "ExecuteTime": {
     "end_time": "2022-09-30T07:56:52.190145Z",
     "start_time": "2022-09-30T07:56:52.185278Z"
    }
   },
   "outputs": [],
   "source": [
    "# sentimental.to_csv('sentimental(news).csv')"
   ]
  },
  {
   "cell_type": "code",
   "execution_count": null,
   "id": "66e40647",
   "metadata": {
    "ExecuteTime": {
     "end_time": "2022-10-03T11:32:21.051479Z",
     "start_time": "2022-10-03T11:32:21.041978Z"
    }
   },
   "outputs": [],
   "source": [
    "sentimental"
   ]
  },
  {
   "cell_type": "markdown",
   "id": "2c2f7921",
   "metadata": {},
   "source": [
    "### 추출했던 word_list에서 불용어 추가"
   ]
  },
  {
   "cell_type": "code",
   "execution_count": null,
   "id": "b7b117eb",
   "metadata": {
    "ExecuteTime": {
     "end_time": "2022-09-30T05:45:34.512671Z",
     "start_time": "2022-09-30T05:45:34.508709Z"
    }
   },
   "outputs": [],
   "source": [
    "import csv\n",
    "\n",
    "with open(\"stopword.csv\", 'w') as file:\n",
    "    writer = csv.writer(file)\n",
    "    writer.writerow(word_list)"
   ]
  },
  {
   "cell_type": "code",
   "execution_count": null,
   "id": "871da3b9",
   "metadata": {
    "ExecuteTime": {
     "end_time": "2022-09-30T06:02:40.640837Z",
     "start_time": "2022-09-30T06:02:40.635195Z"
    }
   },
   "outputs": [],
   "source": [
    "with open('stopword.csv', newline='') as f:\n",
    "    reader = csv.reader(f)\n",
    "    data = list(reader)"
   ]
  },
  {
   "cell_type": "code",
   "execution_count": null,
   "id": "b237fc97",
   "metadata": {
    "ExecuteTime": {
     "end_time": "2022-09-30T06:02:50.714811Z",
     "start_time": "2022-09-30T06:02:50.706880Z"
    }
   },
   "outputs": [],
   "source": [
    "stopword_add = sum(data, [])\n",
    "stopword_add"
   ]
  },
  {
   "cell_type": "code",
   "execution_count": null,
   "id": "c02e9f84",
   "metadata": {},
   "outputs": [],
   "source": []
  },
  {
   "cell_type": "code",
   "execution_count": null,
   "id": "80a9d247",
   "metadata": {},
   "outputs": [],
   "source": []
  },
  {
   "cell_type": "code",
   "execution_count": 2,
   "id": "4f021f4e",
   "metadata": {
    "ExecuteTime": {
     "end_time": "2022-10-11T04:15:49.340735Z",
     "start_time": "2022-10-11T04:15:49.327059Z"
    }
   },
   "outputs": [],
   "source": [
    "a = pd.read_csv('38_label_x.csv')"
   ]
  },
  {
   "cell_type": "code",
   "execution_count": 3,
   "id": "833bfd41",
   "metadata": {
    "ExecuteTime": {
     "end_time": "2022-10-11T04:15:50.259305Z",
     "start_time": "2022-10-11T04:15:50.234045Z"
    }
   },
   "outputs": [
    {
     "data": {
      "text/html": [
       "<div>\n",
       "<style scoped>\n",
       "    .dataframe tbody tr th:only-of-type {\n",
       "        vertical-align: middle;\n",
       "    }\n",
       "\n",
       "    .dataframe tbody tr th {\n",
       "        vertical-align: top;\n",
       "    }\n",
       "\n",
       "    .dataframe thead th {\n",
       "        text-align: right;\n",
       "    }\n",
       "</style>\n",
       "<table border=\"1\" class=\"dataframe\">\n",
       "  <thead>\n",
       "    <tr style=\"text-align: right;\">\n",
       "      <th></th>\n",
       "      <th>date</th>\n",
       "      <th>title</th>\n",
       "      <th>content</th>\n",
       "      <th>label</th>\n",
       "    </tr>\n",
       "  </thead>\n",
       "  <tbody>\n",
       "    <tr>\n",
       "      <th>0</th>\n",
       "      <td>2020-09-04</td>\n",
       "      <td>[제목 : [오아시스]\\n 팬데믹시대에 내마음의 표준을 바꾸는 유통 ]</td>\n",
       "      <td>이번 코로나가 유통시장의 판도를 5년이상 앞당겨진 변화를 가져 왔다?매장에서 인테넷...</td>\n",
       "      <td>-</td>\n",
       "    </tr>\n",
       "    <tr>\n",
       "      <th>1</th>\n",
       "      <td>2021-04-17</td>\n",
       "      <td>[제목 : [오아시스] 오아시스 매수 했습니다. ][제목 : [오아시스] 오아시스 ...</td>\n",
       "      <td>오아이스 주식 중  pe가 보유한 물량이 시장에서 움직이는 듯 하네요.어제, 아시는...</td>\n",
       "      <td>-</td>\n",
       "    </tr>\n",
       "    <tr>\n",
       "      <th>2</th>\n",
       "      <td>2021-04-19</td>\n",
       "      <td>[제목 : [오아시스] 70만원이면 비싼건가요 ]</td>\n",
       "      <td>30주 70만원에 살려고하는데, 비싼건가요//</td>\n",
       "      <td>-</td>\n",
       "    </tr>\n",
       "    <tr>\n",
       "      <th>3</th>\n",
       "      <td>2021-04-22</td>\n",
       "      <td>[제목 : [오아시스] 70만원이면 비싼건가요 ]</td>\n",
       "      <td>어디서 70만원에 살수있어요?나도 사고 싶다//</td>\n",
       "      <td>-</td>\n",
       "    </tr>\n",
       "    <tr>\n",
       "      <th>4</th>\n",
       "      <td>2021-04-23</td>\n",
       "      <td>[코멘트 : [오아시스] pe가뭐에요? ][제목 : [오아시스] 망설이다가 못 샀네요 ]</td>\n",
       "      <td>pe가뭐에요?//70만원에 살까 말까 고민하고 있는데,팔렸다고 하네요.\"빨간색매물검...</td>\n",
       "      <td>-</td>\n",
       "    </tr>\n",
       "    <tr>\n",
       "      <th>...</th>\n",
       "      <td>...</td>\n",
       "      <td>...</td>\n",
       "      <td>...</td>\n",
       "      <td>...</td>\n",
       "    </tr>\n",
       "    <tr>\n",
       "      <th>81</th>\n",
       "      <td>2022-07-27</td>\n",
       "      <td>[코멘트 : [오아시스] 구라치치말고 아는거 있음 그냥 직접 올려 ]</td>\n",
       "      <td>구라치치말고 아는거 있음 그냥 직접 올려//</td>\n",
       "      <td>-</td>\n",
       "    </tr>\n",
       "    <tr>\n",
       "      <th>82</th>\n",
       "      <td>2022-08-31</td>\n",
       "      <td>[제목 : [오아시스] 우크라이나와 러시아 ][제목 : [오아시스] 오늘 날짜(20...</td>\n",
       "      <td>덩치 큰 러시아가 누구다 다 이길거라고 했지만 결과는? 길고 짧은건 대봐야 안다고우...</td>\n",
       "      <td>-</td>\n",
       "    </tr>\n",
       "    <tr>\n",
       "      <th>83</th>\n",
       "      <td>2022-09-02</td>\n",
       "      <td>[제목 : [오아시스] 이 시기에 오히려 주목해야 할 기업 ]</td>\n",
       "      <td>연일 금리가 급등하고 있다. 매출만을 키우기 위해 무한확장을 거듭했던 스타트업과 유...</td>\n",
       "      <td>-</td>\n",
       "    </tr>\n",
       "    <tr>\n",
       "      <th>84</th>\n",
       "      <td>2022-09-05</td>\n",
       "      <td>[제목 : [오아시스] 계획된 적자 ]</td>\n",
       "      <td>한때 VC와 스타트업들이 힘을 합쳐 매출액을 늘려 시장 주도권을 가져가기위한 전략으...</td>\n",
       "      <td>-</td>\n",
       "    </tr>\n",
       "    <tr>\n",
       "      <th>85</th>\n",
       "      <td>2022-09-08</td>\n",
       "      <td>[제목 : [오아시스] 위기에 재조명받는 ‘오아시스·미트박스’…흑자비결은? ]</td>\n",
       "      <td>오아시스마켓은 올해 상반기 전년 대비 21% 증가한 2024억원 매출액과 171% ...</td>\n",
       "      <td>-</td>\n",
       "    </tr>\n",
       "  </tbody>\n",
       "</table>\n",
       "<p>86 rows × 4 columns</p>\n",
       "</div>"
      ],
      "text/plain": [
       "          date                                              title  \\\n",
       "0   2020-09-04            [제목 : [오아시스]\\n 팬데믹시대에 내마음의 표준을 바꾸는 유통 ]   \n",
       "1   2021-04-17  [제목 : [오아시스] 오아시스 매수 했습니다. ][제목 : [오아시스] 오아시스 ...   \n",
       "2   2021-04-19                        [제목 : [오아시스] 70만원이면 비싼건가요 ]   \n",
       "3   2021-04-22                        [제목 : [오아시스] 70만원이면 비싼건가요 ]   \n",
       "4   2021-04-23  [코멘트 : [오아시스] pe가뭐에요? ][제목 : [오아시스] 망설이다가 못 샀네요 ]   \n",
       "..         ...                                                ...   \n",
       "81  2022-07-27             [코멘트 : [오아시스] 구라치치말고 아는거 있음 그냥 직접 올려 ]   \n",
       "82  2022-08-31  [제목 : [오아시스] 우크라이나와 러시아 ][제목 : [오아시스] 오늘 날짜(20...   \n",
       "83  2022-09-02                 [제목 : [오아시스] 이 시기에 오히려 주목해야 할 기업 ]   \n",
       "84  2022-09-05                              [제목 : [오아시스] 계획된 적자 ]   \n",
       "85  2022-09-08        [제목 : [오아시스] 위기에 재조명받는 ‘오아시스·미트박스’…흑자비결은? ]   \n",
       "\n",
       "                                              content label  \n",
       "0   이번 코로나가 유통시장의 판도를 5년이상 앞당겨진 변화를 가져 왔다?매장에서 인테넷...     -  \n",
       "1   오아이스 주식 중  pe가 보유한 물량이 시장에서 움직이는 듯 하네요.어제, 아시는...     -  \n",
       "2                           30주 70만원에 살려고하는데, 비싼건가요//     -  \n",
       "3                          어디서 70만원에 살수있어요?나도 사고 싶다//     -  \n",
       "4   pe가뭐에요?//70만원에 살까 말까 고민하고 있는데,팔렸다고 하네요.\"빨간색매물검...     -  \n",
       "..                                                ...   ...  \n",
       "81                           구라치치말고 아는거 있음 그냥 직접 올려//     -  \n",
       "82  덩치 큰 러시아가 누구다 다 이길거라고 했지만 결과는? 길고 짧은건 대봐야 안다고우...     -  \n",
       "83  연일 금리가 급등하고 있다. 매출만을 키우기 위해 무한확장을 거듭했던 스타트업과 유...     -  \n",
       "84  한때 VC와 스타트업들이 힘을 합쳐 매출액을 늘려 시장 주도권을 가져가기위한 전략으...     -  \n",
       "85  오아시스마켓은 올해 상반기 전년 대비 21% 증가한 2024억원 매출액과 171% ...     -  \n",
       "\n",
       "[86 rows x 4 columns]"
      ]
     },
     "execution_count": 3,
     "metadata": {},
     "output_type": "execute_result"
    }
   ],
   "source": [
    "a"
   ]
  },
  {
   "cell_type": "code",
   "execution_count": null,
   "id": "163636da",
   "metadata": {},
   "outputs": [],
   "source": []
  }
 ],
 "metadata": {
  "kernelspec": {
   "display_name": "Python 3 (ipykernel)",
   "language": "python",
   "name": "python3"
  },
  "language_info": {
   "codemirror_mode": {
    "name": "ipython",
    "version": 3
   },
   "file_extension": ".py",
   "mimetype": "text/x-python",
   "name": "python",
   "nbconvert_exporter": "python",
   "pygments_lexer": "ipython3",
   "version": "3.8.13"
  },
  "toc": {
   "base_numbering": 1,
   "nav_menu": {},
   "number_sections": false,
   "sideBar": true,
   "skip_h1_title": false,
   "title_cell": "Table of Contents",
   "title_sidebar": "Contents",
   "toc_cell": false,
   "toc_position": {},
   "toc_section_display": true,
   "toc_window_display": false
  }
 },
 "nbformat": 4,
 "nbformat_minor": 5
}
