{
 "cells": [
  {
   "cell_type": "code",
   "execution_count": null,
   "id": "2b654e88",
   "metadata": {
    "ExecuteTime": {
     "end_time": "2022-10-04T11:15:45.424342Z",
     "start_time": "2022-10-04T11:15:43.919749Z"
    }
   },
   "outputs": [],
   "source": [
    "import pandas as pd\n",
    "import numpy as np\n",
    "import matplotlib.pyplot as plt\n",
    "import re\n",
    "import urllib.request\n",
    "from konlpy.tag import Okt\n",
    "from tqdm import tqdm\n",
    "from tensorflow.keras.preprocessing.text import Tokenizer\n",
    "from tensorflow.keras.preprocessing.sequence import pad_sequences\n",
    "\n",
    "import sklearn"
   ]
  },
  {
   "cell_type": "markdown",
   "id": "e9e14bcd",
   "metadata": {},
   "source": [
    "## 데이터 로드 및 train test로 분할"
   ]
  },
  {
   "cell_type": "code",
   "execution_count": null,
   "id": "91aefa3c",
   "metadata": {
    "ExecuteTime": {
     "end_time": "2022-10-04T11:15:45.429672Z",
     "start_time": "2022-10-04T11:15:45.425511Z"
    }
   },
   "outputs": [],
   "source": [
    "# df = pd.read_csv('38_Oasis.csv').drop(columns = ['Unnamed: 0']).reset_index().drop(columns=['index','link','target'])\n",
    "\n",
    "df = pd.read_csv('38_Oasis.csv').drop(columns = ['Unnamed: 0']).reset_index().drop(columns=['index','link','target'])"
   ]
  },
  {
   "cell_type": "code",
   "execution_count": null,
   "id": "abdc8451",
   "metadata": {
    "ExecuteTime": {
     "end_time": "2022-10-04T11:07:55.388638Z",
     "start_time": "2022-10-04T11:07:55.382184Z"
    },
    "scrolled": false
   },
   "outputs": [],
   "source": [
    "df.head()"
   ]
  },
  {
   "cell_type": "markdown",
   "id": "47ad15d0",
   "metadata": {},
   "source": [
    "## null 값 확인"
   ]
  },
  {
   "cell_type": "code",
   "execution_count": null,
   "id": "b4623d5d",
   "metadata": {
    "ExecuteTime": {
     "end_time": "2022-10-04T11:07:55.395176Z",
     "start_time": "2022-10-04T11:07:55.390272Z"
    }
   },
   "outputs": [],
   "source": [
    "df.info()"
   ]
  },
  {
   "cell_type": "code",
   "execution_count": null,
   "id": "1ec0bed2",
   "metadata": {
    "ExecuteTime": {
     "end_time": "2022-10-04T11:15:47.076952Z",
     "start_time": "2022-10-04T11:15:47.056514Z"
    }
   },
   "outputs": [],
   "source": [
    "# NULL 값 있는 행 확인\n",
    "df[df['content'].isnull()]"
   ]
  },
  {
   "cell_type": "code",
   "execution_count": null,
   "id": "1f73fcc5",
   "metadata": {
    "ExecuteTime": {
     "end_time": "2022-10-04T11:15:47.848027Z",
     "start_time": "2022-10-04T11:15:47.843248Z"
    }
   },
   "outputs": [],
   "source": [
    "# 공백으로 NULL 값 채우기\n",
    "df = df.fillna('')"
   ]
  },
  {
   "cell_type": "code",
   "execution_count": null,
   "id": "bc10afa7",
   "metadata": {
    "ExecuteTime": {
     "end_time": "2022-10-04T11:07:55.408477Z",
     "start_time": "2022-10-04T11:07:55.404481Z"
    }
   },
   "outputs": [],
   "source": [
    "df.info()"
   ]
  },
  {
   "cell_type": "markdown",
   "id": "ad82a263",
   "metadata": {},
   "source": [
    "내용에 빈 값이 있지만 title에서 추출할 것이 있지 않을까 해서 공백으로 채워줌"
   ]
  },
  {
   "cell_type": "markdown",
   "id": "78977088",
   "metadata": {},
   "source": [
    "## index 날짜로 바꿔주기"
   ]
  },
  {
   "cell_type": "code",
   "execution_count": null,
   "id": "43191bd9",
   "metadata": {
    "ExecuteTime": {
     "end_time": "2022-10-04T11:15:51.100374Z",
     "start_time": "2022-10-04T11:15:51.083237Z"
    }
   },
   "outputs": [],
   "source": [
    "# date를 오름차순 정렬\n",
    "df.date = df.date.sort_index(ascending=True)\n",
    "# index로 설정\n",
    "df = df.set_index('date')\n",
    "df"
   ]
  },
  {
   "cell_type": "markdown",
   "id": "fe451321",
   "metadata": {},
   "source": [
    "## 특수문자 제거 정규표현식"
   ]
  },
  {
   "cell_type": "code",
   "execution_count": null,
   "id": "b8fbf943",
   "metadata": {
    "ExecuteTime": {
     "end_time": "2022-10-05T05:37:40.112178Z",
     "start_time": "2022-10-05T05:37:40.095536Z"
    }
   },
   "outputs": [],
   "source": [
    "# 특수문자 제거 함수\n",
    "\n",
    "import re\n",
    " \n",
    "def cleanText(readData):\n",
    " \n",
    "    #텍스트에 포함되어 있는 특수 문자 제거\n",
    " \n",
    "    text = re.sub('[-=+,#/\\?:^$.@*\\\"※~&%ㆍ!』\\\\‘|\\(\\)\\[\\]\\<\\>`\\'…》]','', readData)\n",
    " \n",
    "    return text\n"
   ]
  },
  {
   "cell_type": "code",
   "execution_count": null,
   "id": "d39a0708",
   "metadata": {
    "ExecuteTime": {
     "end_time": "2022-10-04T11:07:55.420120Z",
     "start_time": "2022-10-04T11:07:55.415034Z"
    }
   },
   "outputs": [],
   "source": [
    "# df['title'] = df['title'].str.replace(r\"[^\\uAC00-\\uD7A30-9a-zA-Z\\s]\",'')\n",
    "# df['content'] = df['content'].str.replace(r\"[^\\uAC00-\\uD7A30-9a-zA-Z\\s]\",'')"
   ]
  },
  {
   "cell_type": "code",
   "execution_count": null,
   "id": "6dae1f7b",
   "metadata": {
    "ExecuteTime": {
     "end_time": "2022-10-04T11:15:58.285016Z",
     "start_time": "2022-10-04T11:15:58.280093Z"
    }
   },
   "outputs": [],
   "source": [
    "df['cc'] = '//'"
   ]
  },
  {
   "cell_type": "code",
   "execution_count": null,
   "id": "f56c88cf",
   "metadata": {
    "ExecuteTime": {
     "end_time": "2022-10-04T11:16:00.155203Z",
     "start_time": "2022-10-04T11:16:00.150813Z"
    }
   },
   "outputs": [],
   "source": [
    "df['content'] = df['content']+df['cc']"
   ]
  },
  {
   "cell_type": "code",
   "execution_count": null,
   "id": "cd9d321c",
   "metadata": {
    "ExecuteTime": {
     "end_time": "2022-10-04T11:16:09.974680Z",
     "start_time": "2022-10-04T11:16:09.963011Z"
    }
   },
   "outputs": [],
   "source": [
    "df"
   ]
  },
  {
   "cell_type": "code",
   "execution_count": null,
   "id": "83bbcff6",
   "metadata": {
    "ExecuteTime": {
     "end_time": "2022-10-04T11:16:27.339156Z",
     "start_time": "2022-10-04T11:16:27.332470Z"
    }
   },
   "outputs": [],
   "source": [
    "df = df.drop(columns=['cc'])"
   ]
  },
  {
   "cell_type": "code",
   "execution_count": null,
   "id": "03318093",
   "metadata": {
    "ExecuteTime": {
     "end_time": "2022-10-04T11:16:29.033846Z",
     "start_time": "2022-10-04T11:16:29.016388Z"
    }
   },
   "outputs": [],
   "source": [
    "df = df.groupby('date').sum()\n",
    "df"
   ]
  },
  {
   "cell_type": "code",
   "execution_count": null,
   "id": "e93246f1",
   "metadata": {
    "ExecuteTime": {
     "end_time": "2022-10-04T11:30:22.000318Z",
     "start_time": "2022-10-04T11:30:21.995559Z"
    }
   },
   "outputs": [],
   "source": [
    "df['label'] = '-'"
   ]
  },
  {
   "cell_type": "code",
   "execution_count": null,
   "id": "2f8bd138",
   "metadata": {
    "ExecuteTime": {
     "end_time": "2022-10-04T11:30:24.648938Z",
     "start_time": "2022-10-04T11:30:24.636547Z"
    }
   },
   "outputs": [],
   "source": [
    "df"
   ]
  },
  {
   "cell_type": "code",
   "execution_count": null,
   "id": "8e3b290f",
   "metadata": {
    "ExecuteTime": {
     "end_time": "2022-10-04T11:30:27.557577Z",
     "start_time": "2022-10-04T11:30:27.551715Z"
    }
   },
   "outputs": [],
   "source": [
    "df.to_csv('38_label.csv')"
   ]
  },
  {
   "cell_type": "markdown",
   "id": "b7309413",
   "metadata": {},
   "source": [
    "## 토큰화"
   ]
  },
  {
   "cell_type": "code",
   "execution_count": null,
   "id": "f36bf57a",
   "metadata": {
    "ExecuteTime": {
     "end_time": "2022-10-04T07:09:12.107715Z",
     "start_time": "2022-10-04T07:09:11.759581Z"
    }
   },
   "outputs": [],
   "source": [
    "okt = Okt()\n"
   ]
  },
  {
   "cell_type": "markdown",
   "id": "2c2f7921",
   "metadata": {},
   "source": [
    "### 추출했던 word_list에서 불용어들만 정리"
   ]
  },
  {
   "cell_type": "code",
   "execution_count": null,
   "id": "bdfaa96d",
   "metadata": {
    "ExecuteTime": {
     "end_time": "2022-10-03T10:39:36.822344Z",
     "start_time": "2022-10-03T10:39:36.817343Z"
    }
   },
   "outputs": [],
   "source": [
    "import csv"
   ]
  },
  {
   "cell_type": "markdown",
   "id": "f300befd",
   "metadata": {
    "ExecuteTime": {
     "end_time": "2022-09-30T07:43:12.251766Z",
     "start_time": "2022-09-30T07:43:12.042861Z"
    }
   },
   "source": [
    "with open(\"stopword.csv\", 'w') as file:\n",
    "    writer = csv.writer(file)\n",
    "    writer.writerow(word_list)"
   ]
  },
  {
   "cell_type": "code",
   "execution_count": null,
   "id": "37eb259a",
   "metadata": {
    "ExecuteTime": {
     "end_time": "2022-10-03T11:10:24.359871Z",
     "start_time": "2022-10-03T11:10:24.354884Z"
    }
   },
   "outputs": [],
   "source": [
    "with open('stopword_add.csv', newline='', encoding='utf-8') as f:\n",
    "    reader = csv.reader(f)\n",
    "    data = list(reader)"
   ]
  },
  {
   "cell_type": "code",
   "execution_count": null,
   "id": "c8cc82fa",
   "metadata": {
    "ExecuteTime": {
     "end_time": "2022-10-03T11:10:24.817872Z",
     "start_time": "2022-10-03T11:10:24.810871Z"
    }
   },
   "outputs": [],
   "source": [
    "data"
   ]
  },
  {
   "cell_type": "code",
   "execution_count": null,
   "id": "245ddbb4",
   "metadata": {
    "ExecuteTime": {
     "end_time": "2022-10-03T11:10:26.026369Z",
     "start_time": "2022-10-03T11:10:26.019370Z"
    },
    "scrolled": true
   },
   "outputs": [],
   "source": [
    "stopword_add = sum(data, [])\n",
    "stopword_add"
   ]
  },
  {
   "cell_type": "code",
   "execution_count": null,
   "id": "ae9480b0",
   "metadata": {
    "ExecuteTime": {
     "end_time": "2022-10-03T11:10:27.138894Z",
     "start_time": "2022-10-03T11:10:27.130872Z"
    },
    "scrolled": true
   },
   "outputs": [],
   "source": [
    "# 불용어 처리 \n",
    "\n",
    "stopwords = stopword_add + ['의','가','이','은','들','는','좀','잘','걍','과','도','를','으로','자','에','와','한','하다','\\n','\\n ', '제목']\n",
    "stopwords"
   ]
  },
  {
   "cell_type": "code",
   "execution_count": null,
   "id": "223a6798",
   "metadata": {
    "ExecuteTime": {
     "end_time": "2022-10-03T11:10:28.362872Z",
     "start_time": "2022-10-03T11:10:28.210872Z"
    },
    "scrolled": true
   },
   "outputs": [],
   "source": [
    "title = []\n",
    "for sentence in tqdm(df['title']):\n",
    "    tokenized_sentence = okt.morphs(sentence, stem=True) # 토큰화\n",
    "    stopwords_removed_title = [word for word in tokenized_sentence if not word in stopwords] # 불용어 제거\n",
    "    title.append(stopwords_removed_title)"
   ]
  },
  {
   "cell_type": "code",
   "execution_count": null,
   "id": "a7cd1064",
   "metadata": {
    "ExecuteTime": {
     "end_time": "2022-10-03T11:10:29.062372Z",
     "start_time": "2022-10-03T11:10:29.058870Z"
    },
    "scrolled": true
   },
   "outputs": [],
   "source": [
    "print(len(title))"
   ]
  },
  {
   "cell_type": "code",
   "execution_count": null,
   "id": "bf9a7af2",
   "metadata": {
    "ExecuteTime": {
     "end_time": "2022-10-03T11:10:29.261872Z",
     "start_time": "2022-10-03T11:10:29.258371Z"
    }
   },
   "outputs": [],
   "source": [
    "from collections import Counter"
   ]
  },
  {
   "cell_type": "code",
   "execution_count": null,
   "id": "3afc992c",
   "metadata": {
    "ExecuteTime": {
     "end_time": "2022-10-03T11:10:29.784871Z",
     "start_time": "2022-10-03T11:10:29.778875Z"
    },
    "scrolled": true
   },
   "outputs": [],
   "source": [
    "# 한 날짜? 한 행당 횟수 추출\n",
    "\n",
    "for i in range(136):\n",
    "    vocab = Counter(title[i])\n",
    "    print(vocab)\n"
   ]
  },
  {
   "cell_type": "code",
   "execution_count": null,
   "id": "6ad3cf24",
   "metadata": {
    "ExecuteTime": {
     "end_time": "2022-10-03T11:10:32.887874Z",
     "start_time": "2022-10-03T11:10:32.882383Z"
    },
    "scrolled": false
   },
   "outputs": [],
   "source": [
    "# 전체 중 빈도수 출력\n",
    "\n",
    "all_word_list_title = sum(title, [])\n",
    "vocab = Counter(all_word_list_title)\n",
    "print(vocab)"
   ]
  },
  {
   "cell_type": "code",
   "execution_count": null,
   "id": "644b7874",
   "metadata": {
    "ExecuteTime": {
     "end_time": "2022-10-03T11:10:35.019372Z",
     "start_time": "2022-10-03T11:10:35.010370Z"
    }
   },
   "outputs": [],
   "source": [
    "word_list = list(vocab.keys())\n",
    "word_list"
   ]
  },
  {
   "cell_type": "code",
   "execution_count": null,
   "id": "21bb249c",
   "metadata": {
    "ExecuteTime": {
     "end_time": "2022-10-03T11:10:35.211901Z",
     "start_time": "2022-10-03T11:10:35.202370Z"
    }
   },
   "outputs": [],
   "source": [
    "word_rank = list(vocab.values())\n",
    "word_rank"
   ]
  },
  {
   "cell_type": "code",
   "execution_count": null,
   "id": "926e78c5",
   "metadata": {
    "ExecuteTime": {
     "end_time": "2022-10-03T11:10:36.438378Z",
     "start_time": "2022-10-03T11:10:36.427870Z"
    }
   },
   "outputs": [],
   "source": [
    "data = {'word': word_list, 'count' : word_rank}\n",
    "word_data = pd.DataFrame.from_dict(data)\n",
    "word_data"
   ]
  },
  {
   "cell_type": "code",
   "execution_count": null,
   "id": "87ad75e4",
   "metadata": {
    "ExecuteTime": {
     "end_time": "2022-10-03T11:10:37.919871Z",
     "start_time": "2022-10-03T11:10:37.913869Z"
    }
   },
   "outputs": [],
   "source": [
    "word_data = word_data.sort_values(by=['count'], ascending=False).reset_index().drop(columns=['index'])"
   ]
  },
  {
   "cell_type": "code",
   "execution_count": null,
   "id": "72fd2b9b",
   "metadata": {
    "ExecuteTime": {
     "end_time": "2022-10-03T10:46:16.316370Z",
     "start_time": "2022-10-03T10:46:16.282370Z"
    },
    "scrolled": true
   },
   "outputs": [],
   "source": [
    "for i in range(26):\n",
    "    print(word_data[ i*10 : (i+1)*10 ])"
   ]
  },
  {
   "cell_type": "markdown",
   "id": "cd2295d7",
   "metadata": {
    "ExecuteTime": {
     "end_time": "2022-09-30T06:10:27.838054Z",
     "start_time": "2022-09-30T06:10:27.827404Z"
    }
   },
   "source": [
    "word_data.to_csv('sentimental(38).csv')"
   ]
  },
  {
   "cell_type": "code",
   "execution_count": null,
   "id": "5184c373",
   "metadata": {
    "ExecuteTime": {
     "end_time": "2022-10-03T11:10:40.507870Z",
     "start_time": "2022-10-03T11:10:40.498871Z"
    }
   },
   "outputs": [],
   "source": [
    "word_data"
   ]
  },
  {
   "cell_type": "markdown",
   "id": "1770e820",
   "metadata": {
    "ExecuteTime": {
     "end_time": "2022-09-30T07:46:17.993905Z",
     "start_time": "2022-09-30T07:46:17.983487Z"
    }
   },
   "source": [
    "sentimental = pd.read_csv('sentimental(38).csv').drop(columns=['Unnamed: 0'])\n",
    "sentimental = sentimental.fillna('-')"
   ]
  },
  {
   "cell_type": "markdown",
   "id": "cb1babb5",
   "metadata": {
    "ExecuteTime": {
     "end_time": "2022-09-30T07:46:22.868596Z",
     "start_time": "2022-09-30T07:46:22.855003Z"
    }
   },
   "source": [
    "sentimental"
   ]
  },
  {
   "cell_type": "markdown",
   "id": "f55a1f2b",
   "metadata": {
    "ExecuteTime": {
     "end_time": "2022-09-30T07:46:58.078712Z",
     "start_time": "2022-09-30T07:46:58.070430Z"
    }
   },
   "source": [
    "sentimental.to_csv('sentimental(38).csv')"
   ]
  },
  {
   "cell_type": "code",
   "execution_count": null,
   "id": "120269ce",
   "metadata": {
    "ExecuteTime": {
     "end_time": "2022-10-03T11:10:47.608870Z",
     "start_time": "2022-10-03T11:10:47.594912Z"
    },
    "scrolled": false
   },
   "outputs": [],
   "source": [
    "community_title_label = pd.read_csv('sentimental(38)_label_title.csv').drop(columns=['Unnamed: 0'])\n",
    "community_title_label"
   ]
  },
  {
   "cell_type": "markdown",
   "id": "b50af4d1",
   "metadata": {},
   "source": [
    "### labeling 한 거에서 추가 불용어 처리"
   ]
  },
  {
   "cell_type": "code",
   "execution_count": null,
   "id": "aa3434b8",
   "metadata": {
    "ExecuteTime": {
     "end_time": "2022-10-03T11:12:00.685894Z",
     "start_time": "2022-10-03T11:12:00.674370Z"
    }
   },
   "outputs": [],
   "source": [
    "community_title_label = community_title_label[~community_title_label['label'].str.contains('--')]\n",
    "community_title_label"
   ]
  },
  {
   "cell_type": "code",
   "execution_count": null,
   "id": "42b6713e",
   "metadata": {
    "ExecuteTime": {
     "end_time": "2022-10-03T11:23:32.493525Z",
     "start_time": "2022-10-03T11:23:32.483992Z"
    }
   },
   "outputs": [],
   "source": [
    "community_title_label.to_csv('community_title_label.csv')"
   ]
  },
  {
   "cell_type": "code",
   "execution_count": null,
   "id": "12ade03b",
   "metadata": {},
   "outputs": [],
   "source": [
    "data['label'].value_counts().plot(kind = 'bar')"
   ]
  }
 ],
 "metadata": {
  "kernelspec": {
   "display_name": "Python 3 (ipykernel)",
   "language": "python",
   "name": "python3"
  },
  "language_info": {
   "codemirror_mode": {
    "name": "ipython",
    "version": 3
   },
   "file_extension": ".py",
   "mimetype": "text/x-python",
   "name": "python",
   "nbconvert_exporter": "python",
   "pygments_lexer": "ipython3",
   "version": "3.8.13"
  },
  "toc": {
   "base_numbering": 1,
   "nav_menu": {},
   "number_sections": false,
   "sideBar": true,
   "skip_h1_title": false,
   "title_cell": "Table of Contents",
   "title_sidebar": "Contents",
   "toc_cell": false,
   "toc_position": {},
   "toc_section_display": true,
   "toc_window_display": false
  }
 },
 "nbformat": 4,
 "nbformat_minor": 5
}
