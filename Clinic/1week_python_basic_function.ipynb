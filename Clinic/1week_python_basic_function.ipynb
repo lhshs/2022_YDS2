{
 "cells": [
  {
   "cell_type": "markdown",
   "id": "e6fe9122",
   "metadata": {},
   "source": [
    "## 가변인자"
   ]
  },
  {
   "cell_type": "markdown",
   "id": "25c719b4",
   "metadata": {},
   "source": [
    "### positional arguments"
   ]
  },
  {
   "cell_type": "code",
   "execution_count": 5,
   "id": "08563e93",
   "metadata": {
    "ExecuteTime": {
     "end_time": "2022-07-19T14:19:15.220723Z",
     "start_time": "2022-07-19T14:19:15.215723Z"
    }
   },
   "outputs": [
    {
     "name": "stdout",
     "output_type": "stream",
     "text": [
      "('insutance', 99, 'Male', '아무거나 넣어도 되나?')\n",
      "<class 'tuple'>\n"
     ]
    }
   ],
   "source": [
    "def print_info(*args):   \n",
    "    print(args)\n",
    "    print(type(args))\n",
    "    \n",
    "print_info(\"insutance\", 99, \"Male\", \"아무거나 넣어도 되나?\") "
   ]
  },
  {
   "cell_type": "markdown",
   "id": "c4f8ab5f",
   "metadata": {},
   "source": [
    "### keyword arguments"
   ]
  },
  {
   "cell_type": "code",
   "execution_count": 12,
   "id": "c46fa2b3",
   "metadata": {
    "ExecuteTime": {
     "end_time": "2022-07-19T14:21:09.076638Z",
     "start_time": "2022-07-19T14:21:09.071136Z"
    }
   },
   "outputs": [
    {
     "name": "stdout",
     "output_type": "stream",
     "text": [
      "{'name': 'insutance', 'age': 99, 'gender': 'Male', '여기도아무거나': '넣어도 되나'}\n",
      "<class 'dict'>\n",
      "insutance\n",
      "99\n",
      "Male\n"
     ]
    }
   ],
   "source": [
    "def print_info(**kwargs):\n",
    "    print(kwargs)\n",
    "    print(type(kwargs))\n",
    "    print(kwargs[\"name\"])\n",
    "    print(kwargs[\"age\"])\n",
    "    print(kwargs[\"gender\"])\n",
    "\n",
    "print_info(name=\"insutance\", age=99, gender=\"Male\", 여기도아무거나=\"넣어도 되나\")"
   ]
  },
  {
   "cell_type": "markdown",
   "id": "ebbb2e15",
   "metadata": {},
   "source": [
    "## setdefault"
   ]
  },
  {
   "cell_type": "code",
   "execution_count": 1,
   "id": "1d276e9f",
   "metadata": {
    "ExecuteTime": {
     "end_time": "2022-07-20T00:09:09.492632Z",
     "start_time": "2022-07-20T00:09:09.475665Z"
    }
   },
   "outputs": [],
   "source": [
    "def countLetters(word):\n",
    "    counter = {}\n",
    "    for letter in word:\n",
    "        if letter not in counter:\n",
    "            counter[letter] = 0\n",
    "        counter[letter] += 1\n",
    "    return counter"
   ]
  },
  {
   "cell_type": "code",
   "execution_count": 6,
   "id": "8cc9a33e",
   "metadata": {
    "ExecuteTime": {
     "end_time": "2022-07-20T00:10:11.574427Z",
     "start_time": "2022-07-20T00:10:11.569275Z"
    }
   },
   "outputs": [
    {
     "data": {
      "text/plain": [
       "{'h': 1, 'e': 1, 'l': 3, 'o': 2, ' ': 1, 'w': 1, 'r': 1, 'd': 1}"
      ]
     },
     "execution_count": 6,
     "metadata": {},
     "output_type": "execute_result"
    }
   ],
   "source": [
    "countLetters('hello world')"
   ]
  },
  {
   "cell_type": "markdown",
   "id": "bfbe287d",
   "metadata": {},
   "source": [
    "## collections.defaultdict"
   ]
  },
  {
   "cell_type": "code",
   "execution_count": 7,
   "id": "74b8bb54",
   "metadata": {
    "ExecuteTime": {
     "end_time": "2022-07-20T00:34:53.688862Z",
     "start_time": "2022-07-20T00:34:53.686057Z"
    }
   },
   "outputs": [],
   "source": [
    "from collections import defaultdict"
   ]
  },
  {
   "cell_type": "markdown",
   "id": "2cb71e83",
   "metadata": {},
   "source": [
    "### 주어진 단어에서 알파벳 빈도수 추출"
   ]
  },
  {
   "cell_type": "code",
   "execution_count": 51,
   "id": "212fedd0",
   "metadata": {
    "ExecuteTime": {
     "end_time": "2022-07-20T00:58:24.608048Z",
     "start_time": "2022-07-20T00:58:24.604725Z"
    }
   },
   "outputs": [],
   "source": [
    "def countLetters2(word):\n",
    "    counter = defaultdict(lambda : 0)\n",
    "    for letter in word:\n",
    "        counter[letter] += 1\n",
    "    return counter"
   ]
  },
  {
   "cell_type": "code",
   "execution_count": 55,
   "id": "884579ab",
   "metadata": {
    "ExecuteTime": {
     "end_time": "2022-07-20T00:58:42.091032Z",
     "start_time": "2022-07-20T00:58:42.087713Z"
    }
   },
   "outputs": [],
   "source": [
    "def countLetters(word):\n",
    "    counter = defaultdict(int)\n",
    "    for letter in word:\n",
    "        counter[letter] += 1\n",
    "    return counter"
   ]
  },
  {
   "cell_type": "code",
   "execution_count": 56,
   "id": "cdeddc31",
   "metadata": {
    "ExecuteTime": {
     "end_time": "2022-07-20T00:58:43.599383Z",
     "start_time": "2022-07-20T00:58:43.594328Z"
    }
   },
   "outputs": [
    {
     "data": {
      "text/plain": [
       "defaultdict(int,\n",
       "            {'h': 2,\n",
       "             'e': 3,\n",
       "             'l': 3,\n",
       "             'o': 2,\n",
       "             ' ': 5,\n",
       "             'c': 1,\n",
       "             'm': 3,\n",
       "             'p': 1,\n",
       "             'u': 1,\n",
       "             't': 1,\n",
       "             'r': 1,\n",
       "             'y': 1,\n",
       "             'n': 1,\n",
       "             'a': 1,\n",
       "             'i': 1,\n",
       "             's': 2})"
      ]
     },
     "execution_count": 56,
     "metadata": {},
     "output_type": "execute_result"
    }
   ],
   "source": [
    "countLetters('hello computer my name is hsl')"
   ]
  },
  {
   "cell_type": "markdown",
   "id": "1218feba",
   "metadata": {},
   "source": [
    "### 주어진 단어들을 길이에 따라 분류"
   ]
  },
  {
   "cell_type": "code",
   "execution_count": 33,
   "id": "bb534960",
   "metadata": {
    "ExecuteTime": {
     "end_time": "2022-07-20T00:46:51.703212Z",
     "start_time": "2022-07-20T00:46:51.699326Z"
    }
   },
   "outputs": [],
   "source": [
    "def groupWords(words):\n",
    "    grouper = {}\n",
    "    for word in words:\n",
    "        length = len(word)\n",
    "        if length not in grouper:\n",
    "            grouper[length] = []\n",
    "        grouper[length].append(word)\n",
    "    return grouper"
   ]
  },
  {
   "cell_type": "code",
   "execution_count": 43,
   "id": "b7fd42eb",
   "metadata": {
    "ExecuteTime": {
     "end_time": "2022-07-20T00:51:06.380429Z",
     "start_time": "2022-07-20T00:51:06.371011Z"
    }
   },
   "outputs": [
    {
     "data": {
      "text/plain": [
       "{5: ['hello'], 8: ['computer'], 2: ['my', 'is'], 4: ['name'], 3: ['hsl']}"
      ]
     },
     "execution_count": 43,
     "metadata": {},
     "output_type": "execute_result"
    }
   ],
   "source": [
    "groupWords(['hello', 'computer', 'my', 'name', 'is', 'hsl'])"
   ]
  },
  {
   "cell_type": "code",
   "execution_count": 59,
   "id": "67026be4",
   "metadata": {
    "ExecuteTime": {
     "end_time": "2022-07-20T00:59:00.795908Z",
     "start_time": "2022-07-20T00:59:00.792947Z"
    },
    "scrolled": true
   },
   "outputs": [
    {
     "name": "stdout",
     "output_type": "stream",
     "text": [
      "<class 'int'>\n"
     ]
    }
   ],
   "source": [
    "print(int)"
   ]
  },
  {
   "cell_type": "markdown",
   "id": "c8300194",
   "metadata": {},
   "source": [
    "## list.sort()와 sorted()"
   ]
  },
  {
   "cell_type": "code",
   "execution_count": 63,
   "id": "e6ee0a7e",
   "metadata": {
    "ExecuteTime": {
     "end_time": "2022-07-20T01:39:58.255474Z",
     "start_time": "2022-07-20T01:39:58.252763Z"
    }
   },
   "outputs": [],
   "source": [
    "a = [1, 5, 3, 4, 2]"
   ]
  },
  {
   "cell_type": "code",
   "execution_count": 69,
   "id": "b01f50f0",
   "metadata": {
    "ExecuteTime": {
     "end_time": "2022-07-20T01:40:42.175695Z",
     "start_time": "2022-07-20T01:40:42.171069Z"
    }
   },
   "outputs": [
    {
     "data": {
      "text/plain": [
       "[1, 2, 3, 4, 5]"
      ]
     },
     "execution_count": 69,
     "metadata": {},
     "output_type": "execute_result"
    }
   ],
   "source": [
    "a.sort()\n",
    "# sorted(a)\n",
    "a"
   ]
  },
  {
   "cell_type": "markdown",
   "id": "7a51b397",
   "metadata": {},
   "source": [
    "## iterable , iterator"
   ]
  },
  {
   "cell_type": "code",
   "execution_count": 75,
   "id": "b8c1b85b",
   "metadata": {
    "ExecuteTime": {
     "end_time": "2022-07-20T02:00:11.765965Z",
     "start_time": "2022-07-20T02:00:11.757958Z"
    },
    "scrolled": true
   },
   "outputs": [
    {
     "data": {
      "text/plain": [
       "['__add__',\n",
       " '__class__',\n",
       " '__contains__',\n",
       " '__delattr__',\n",
       " '__dir__',\n",
       " '__doc__',\n",
       " '__eq__',\n",
       " '__format__',\n",
       " '__ge__',\n",
       " '__getattribute__',\n",
       " '__getitem__',\n",
       " '__getnewargs__',\n",
       " '__gt__',\n",
       " '__hash__',\n",
       " '__init__',\n",
       " '__init_subclass__',\n",
       " '__iter__',\n",
       " '__le__',\n",
       " '__len__',\n",
       " '__lt__',\n",
       " '__mod__',\n",
       " '__mul__',\n",
       " '__ne__',\n",
       " '__new__',\n",
       " '__reduce__',\n",
       " '__reduce_ex__',\n",
       " '__repr__',\n",
       " '__rmod__',\n",
       " '__rmul__',\n",
       " '__setattr__',\n",
       " '__sizeof__',\n",
       " '__str__',\n",
       " '__subclasshook__',\n",
       " 'capitalize',\n",
       " 'casefold',\n",
       " 'center',\n",
       " 'count',\n",
       " 'encode',\n",
       " 'endswith',\n",
       " 'expandtabs',\n",
       " 'find',\n",
       " 'format',\n",
       " 'format_map',\n",
       " 'index',\n",
       " 'isalnum',\n",
       " 'isalpha',\n",
       " 'isascii',\n",
       " 'isdecimal',\n",
       " 'isdigit',\n",
       " 'isidentifier',\n",
       " 'islower',\n",
       " 'isnumeric',\n",
       " 'isprintable',\n",
       " 'isspace',\n",
       " 'istitle',\n",
       " 'isupper',\n",
       " 'join',\n",
       " 'ljust',\n",
       " 'lower',\n",
       " 'lstrip',\n",
       " 'maketrans',\n",
       " 'partition',\n",
       " 'replace',\n",
       " 'rfind',\n",
       " 'rindex',\n",
       " 'rjust',\n",
       " 'rpartition',\n",
       " 'rsplit',\n",
       " 'rstrip',\n",
       " 'split',\n",
       " 'splitlines',\n",
       " 'startswith',\n",
       " 'strip',\n",
       " 'swapcase',\n",
       " 'title',\n",
       " 'translate',\n",
       " 'upper',\n",
       " 'zfill']"
      ]
     },
     "execution_count": 75,
     "metadata": {},
     "output_type": "execute_result"
    }
   ],
   "source": [
    "dir('lhs')"
   ]
  },
  {
   "cell_type": "markdown",
   "id": "605a0dfe",
   "metadata": {},
   "source": [
    "## iter(), next()"
   ]
  },
  {
   "cell_type": "code",
   "execution_count": 100,
   "id": "a50e27e4",
   "metadata": {
    "ExecuteTime": {
     "end_time": "2022-07-20T02:13:03.300413Z",
     "start_time": "2022-07-20T02:13:03.296177Z"
    },
    "scrolled": true
   },
   "outputs": [
    {
     "name": "stdout",
     "output_type": "stream",
     "text": [
      "3\n",
      "1\n",
      "3\n",
      "0\n",
      "3\n",
      "5\n",
      "1\n",
      "0\n",
      "5\n",
      "0\n",
      "3\n",
      "3\n",
      "1\n"
     ]
    }
   ],
   "source": [
    "import random\n",
    "\n",
    "for i in iter(lambda : random.randint(0,5), 2): \n",
    "    print(i)"
   ]
  },
  {
   "cell_type": "code",
   "execution_count": 106,
   "id": "311c4145",
   "metadata": {
    "ExecuteTime": {
     "end_time": "2022-07-20T02:19:10.330005Z",
     "start_time": "2022-07-20T02:19:10.324104Z"
    }
   },
   "outputs": [
    {
     "name": "stdout",
     "output_type": "stream",
     "text": [
      "0\n",
      "1\n",
      "2\n",
      "3\n",
      "110\n"
     ]
    }
   ],
   "source": [
    "it = iter(range(4))\n",
    "print(next(it,20)) # 0 출력\n",
    "print(next(it,20)) # 1 출력\n",
    "print(next(it,20)) # 2 출력\n",
    "print(next(it,1110)) # 3 출력\n",
    "print(next(it,110)) # 4 출력"
   ]
  },
  {
   "cell_type": "markdown",
   "id": "46181e4b",
   "metadata": {},
   "source": [
    "## 파이썬 내장함수(builtin function) list 보기"
   ]
  },
  {
   "cell_type": "code",
   "execution_count": 107,
   "id": "0f3d907c",
   "metadata": {
    "ExecuteTime": {
     "end_time": "2022-07-20T02:44:09.901736Z",
     "start_time": "2022-07-20T02:44:09.893456Z"
    },
    "scrolled": true
   },
   "outputs": [
    {
     "data": {
      "text/plain": [
       "['ArithmeticError',\n",
       " 'AssertionError',\n",
       " 'AttributeError',\n",
       " 'BaseException',\n",
       " 'BlockingIOError',\n",
       " 'BrokenPipeError',\n",
       " 'BufferError',\n",
       " 'BytesWarning',\n",
       " 'ChildProcessError',\n",
       " 'ConnectionAbortedError',\n",
       " 'ConnectionError',\n",
       " 'ConnectionRefusedError',\n",
       " 'ConnectionResetError',\n",
       " 'DeprecationWarning',\n",
       " 'EOFError',\n",
       " 'Ellipsis',\n",
       " 'EnvironmentError',\n",
       " 'Exception',\n",
       " 'False',\n",
       " 'FileExistsError',\n",
       " 'FileNotFoundError',\n",
       " 'FloatingPointError',\n",
       " 'FutureWarning',\n",
       " 'GeneratorExit',\n",
       " 'IOError',\n",
       " 'ImportError',\n",
       " 'ImportWarning',\n",
       " 'IndentationError',\n",
       " 'IndexError',\n",
       " 'InterruptedError',\n",
       " 'IsADirectoryError',\n",
       " 'KeyError',\n",
       " 'KeyboardInterrupt',\n",
       " 'LookupError',\n",
       " 'MemoryError',\n",
       " 'ModuleNotFoundError',\n",
       " 'NameError',\n",
       " 'None',\n",
       " 'NotADirectoryError',\n",
       " 'NotImplemented',\n",
       " 'NotImplementedError',\n",
       " 'OSError',\n",
       " 'OverflowError',\n",
       " 'PendingDeprecationWarning',\n",
       " 'PermissionError',\n",
       " 'ProcessLookupError',\n",
       " 'RecursionError',\n",
       " 'ReferenceError',\n",
       " 'ResourceWarning',\n",
       " 'RuntimeError',\n",
       " 'RuntimeWarning',\n",
       " 'StopAsyncIteration',\n",
       " 'StopIteration',\n",
       " 'SyntaxError',\n",
       " 'SyntaxWarning',\n",
       " 'SystemError',\n",
       " 'SystemExit',\n",
       " 'TabError',\n",
       " 'TimeoutError',\n",
       " 'True',\n",
       " 'TypeError',\n",
       " 'UnboundLocalError',\n",
       " 'UnicodeDecodeError',\n",
       " 'UnicodeEncodeError',\n",
       " 'UnicodeError',\n",
       " 'UnicodeTranslateError',\n",
       " 'UnicodeWarning',\n",
       " 'UserWarning',\n",
       " 'ValueError',\n",
       " 'Warning',\n",
       " 'ZeroDivisionError',\n",
       " '__IPYTHON__',\n",
       " '__build_class__',\n",
       " '__debug__',\n",
       " '__doc__',\n",
       " '__import__',\n",
       " '__loader__',\n",
       " '__name__',\n",
       " '__package__',\n",
       " '__spec__',\n",
       " 'abs',\n",
       " 'all',\n",
       " 'any',\n",
       " 'ascii',\n",
       " 'bin',\n",
       " 'bool',\n",
       " 'breakpoint',\n",
       " 'bytearray',\n",
       " 'bytes',\n",
       " 'callable',\n",
       " 'chr',\n",
       " 'classmethod',\n",
       " 'compile',\n",
       " 'complex',\n",
       " 'copyright',\n",
       " 'credits',\n",
       " 'delattr',\n",
       " 'dict',\n",
       " 'dir',\n",
       " 'display',\n",
       " 'divmod',\n",
       " 'enumerate',\n",
       " 'eval',\n",
       " 'exec',\n",
       " 'execfile',\n",
       " 'filter',\n",
       " 'float',\n",
       " 'format',\n",
       " 'frozenset',\n",
       " 'get_ipython',\n",
       " 'getattr',\n",
       " 'globals',\n",
       " 'hasattr',\n",
       " 'hash',\n",
       " 'help',\n",
       " 'hex',\n",
       " 'id',\n",
       " 'input',\n",
       " 'int',\n",
       " 'isinstance',\n",
       " 'issubclass',\n",
       " 'iter',\n",
       " 'len',\n",
       " 'license',\n",
       " 'list',\n",
       " 'locals',\n",
       " 'map',\n",
       " 'max',\n",
       " 'memoryview',\n",
       " 'min',\n",
       " 'next',\n",
       " 'object',\n",
       " 'oct',\n",
       " 'open',\n",
       " 'ord',\n",
       " 'pow',\n",
       " 'print',\n",
       " 'property',\n",
       " 'range',\n",
       " 'repr',\n",
       " 'reversed',\n",
       " 'round',\n",
       " 'runfile',\n",
       " 'set',\n",
       " 'setattr',\n",
       " 'slice',\n",
       " 'sorted',\n",
       " 'staticmethod',\n",
       " 'str',\n",
       " 'sum',\n",
       " 'super',\n",
       " 'tuple',\n",
       " 'type',\n",
       " 'vars',\n",
       " 'zip']"
      ]
     },
     "execution_count": 107,
     "metadata": {},
     "output_type": "execute_result"
    }
   ],
   "source": [
    "dir(__builtins__)"
   ]
  },
  {
   "cell_type": "code",
   "execution_count": 110,
   "id": "5a11dcf4",
   "metadata": {
    "ExecuteTime": {
     "end_time": "2022-07-20T02:44:49.327345Z",
     "start_time": "2022-07-20T02:44:49.322502Z"
    },
    "scrolled": true
   },
   "outputs": [
    {
     "data": {
      "text/plain": [
       "['__add__',\n",
       " '__class__',\n",
       " '__contains__',\n",
       " '__delattr__',\n",
       " '__delitem__',\n",
       " '__dir__',\n",
       " '__doc__',\n",
       " '__eq__',\n",
       " '__format__',\n",
       " '__ge__',\n",
       " '__getattribute__',\n",
       " '__getitem__',\n",
       " '__gt__',\n",
       " '__hash__',\n",
       " '__iadd__',\n",
       " '__imul__',\n",
       " '__init__',\n",
       " '__init_subclass__',\n",
       " '__iter__',\n",
       " '__le__',\n",
       " '__len__',\n",
       " '__lt__',\n",
       " '__mul__',\n",
       " '__ne__',\n",
       " '__new__',\n",
       " '__reduce__',\n",
       " '__reduce_ex__',\n",
       " '__repr__',\n",
       " '__reversed__',\n",
       " '__rmul__',\n",
       " '__setattr__',\n",
       " '__setitem__',\n",
       " '__sizeof__',\n",
       " '__str__',\n",
       " '__subclasshook__',\n",
       " 'append',\n",
       " 'clear',\n",
       " 'copy',\n",
       " 'count',\n",
       " 'extend',\n",
       " 'index',\n",
       " 'insert',\n",
       " 'pop',\n",
       " 'remove',\n",
       " 'reverse',\n",
       " 'sort']"
      ]
     },
     "execution_count": 110,
     "metadata": {},
     "output_type": "execute_result"
    }
   ],
   "source": [
    "dir(list)"
   ]
  },
  {
   "cell_type": "markdown",
   "id": "64a2e842",
   "metadata": {},
   "source": [
    "## Reduce"
   ]
  },
  {
   "cell_type": "code",
   "execution_count": 111,
   "id": "b0f2b0ad",
   "metadata": {
    "ExecuteTime": {
     "end_time": "2022-07-20T03:20:24.945842Z",
     "start_time": "2022-07-20T03:20:24.940762Z"
    }
   },
   "outputs": [
    {
     "name": "stdout",
     "output_type": "stream",
     "text": [
      "210\n"
     ]
    }
   ],
   "source": [
    "def SumFunction(x, y):\n",
    "    return x + y\n",
    "\n",
    "target = list(range(1, 21))\n",
    "result = 0\n",
    "for value in target:\n",
    "    result = SumFunction(result, value)\n",
    "print(result)\n"
   ]
  },
  {
   "cell_type": "code",
   "execution_count": 167,
   "id": "ac43a681",
   "metadata": {
    "ExecuteTime": {
     "end_time": "2022-07-20T05:32:14.798525Z",
     "start_time": "2022-07-20T05:32:14.794361Z"
    }
   },
   "outputs": [
    {
     "name": "stdout",
     "output_type": "stream",
     "text": [
      "ㄴㅏ\n"
     ]
    }
   ],
   "source": [
    "from functools import reduce\n",
    "\n",
    "def SumFunction(x, y):\n",
    "\treturn x + y\n",
    "\n",
    "target = 'ㄴㄴㄴㄴ' # 숫자면 순환가능한 \n",
    "print(reduce(SumFunction, target))"
   ]
  },
  {
   "cell_type": "code",
   "execution_count": 174,
   "id": "7ee41e53",
   "metadata": {
    "ExecuteTime": {
     "end_time": "2022-07-20T05:51:41.694903Z",
     "start_time": "2022-07-20T05:51:41.689547Z"
    }
   },
   "outputs": [],
   "source": [
    "from functools import reduce\n",
    "\n",
    "\n",
    "users = [{'mail': 'gregorythomas@gmail.com', 'name': 'Brett Holland', \n",
    "                    'sex': 'M', 'age': 73},\n",
    "                 {'mail': 'hintoncynthia@hotmail.com', 'name': 'Madison Martinez', \n",
    "                    'sex': 'F', 'age': 29},\n",
    "                 {'mail': 'wwagner@gmail.com', 'name': 'Michael Jenkins', \n",
    "                    'sex': 'M', 'age': 51},\n",
    "                 {'mail': 'daniel79@gmail.com', 'name': 'Karen Rodriguez', \n",
    "                    'sex': 'F', 'age': 32},\n",
    "                 {'mail': 'ujackson@gmail.com', 'name': 'Amber Rhodes', \n",
    "                    'sex': 'F', 'age': 42}]"
   ]
  },
  {
   "cell_type": "code",
   "execution_count": 199,
   "id": "6b9c58ec",
   "metadata": {
    "ExecuteTime": {
     "end_time": "2022-07-20T06:04:08.462190Z",
     "start_time": "2022-07-20T06:04:08.457521Z"
    }
   },
   "outputs": [
    {
     "data": {
      "text/plain": [
       "43"
      ]
     },
     "execution_count": 199,
     "metadata": {},
     "output_type": "execute_result"
    }
   ],
   "source": [
    "reduce(lambda acc, cur: 1 + cur[\"age\"], users, 0)"
   ]
  },
  {
   "cell_type": "code",
   "execution_count": null,
   "id": "ce535270",
   "metadata": {
    "ExecuteTime": {
     "end_time": "2022-07-20T05:51:42.321128Z",
     "start_time": "2022-07-20T05:51:42.316447Z"
    }
   },
   "outputs": [],
   "source": [
    "reduce(lambda acc, cur : acc + cur[\"age\"], users, 0)\n",
    "\n",
    "# list에서 바로 list 속 dict의 age값은 못 뽑는다 ( 이해 안되는 부분의 시작 )\n",
    "# 하지만 reduce 내 순환 가능한 객체로 users를 선언했기에 초기값을 0으로 두고 users의 첫 번째 값부터 순환하기 시작한다\n",
    "# 즉 초기값은 말 그대로 초기 값"
   ]
  },
  {
   "cell_type": "code",
   "execution_count": 181,
   "id": "46b349a3",
   "metadata": {
    "ExecuteTime": {
     "end_time": "2022-07-20T05:54:57.956769Z",
     "start_time": "2022-07-20T05:54:57.952465Z"
    }
   },
   "outputs": [
    {
     "data": {
      "text/plain": [
       "6"
      ]
     },
     "execution_count": 181,
     "metadata": {},
     "output_type": "execute_result"
    }
   ],
   "source": [
    "p = lambda x : x+5\n",
    "p(1)"
   ]
  },
  {
   "cell_type": "code",
   "execution_count": 172,
   "id": "470bb586",
   "metadata": {
    "ExecuteTime": {
     "end_time": "2022-07-20T05:49:08.942046Z",
     "start_time": "2022-07-20T05:49:08.935336Z"
    }
   },
   "outputs": [
    {
     "data": {
      "text/plain": [
       "15"
      ]
     },
     "execution_count": 172,
     "metadata": {},
     "output_type": "execute_result"
    }
   ],
   "source": [
    "users = [1, 2, 3, 4, 5]\n",
    "                    \n",
    "from functools import reduce\n",
    "\n",
    "reduce(lambda acc, cur : acc + cur, users, 0)"
   ]
  },
  {
   "cell_type": "code",
   "execution_count": 152,
   "id": "ad229bf4",
   "metadata": {
    "ExecuteTime": {
     "end_time": "2022-07-20T05:15:04.411557Z",
     "start_time": "2022-07-20T05:15:04.403565Z"
    }
   },
   "outputs": [
    {
     "data": {
      "text/plain": [
       "['gregorythomas@gmail.com',\n",
       " 'hintoncynthia@hotmail.com',\n",
       " 'wwagner@gmail.com',\n",
       " 'daniel79@gmail.com',\n",
       " 'ujackson@gmail.com']"
      ]
     },
     "execution_count": 152,
     "metadata": {},
     "output_type": "execute_result"
    }
   ],
   "source": [
    "reduce(lambda acc, cur : acc + [cur[\"mail\"]], users, [])"
   ]
  }
 ],
 "metadata": {
  "kernelspec": {
   "display_name": "Python 3 (ipykernel)",
   "language": "python",
   "name": "python3"
  },
  "language_info": {
   "codemirror_mode": {
    "name": "ipython",
    "version": 3
   },
   "file_extension": ".py",
   "mimetype": "text/x-python",
   "name": "python",
   "nbconvert_exporter": "python",
   "pygments_lexer": "ipython3",
   "version": "3.8.13"
  },
  "toc": {
   "base_numbering": 1,
   "nav_menu": {},
   "number_sections": false,
   "sideBar": true,
   "skip_h1_title": false,
   "title_cell": "Table of Contents",
   "title_sidebar": "Contents",
   "toc_cell": false,
   "toc_position": {},
   "toc_section_display": true,
   "toc_window_display": false
  }
 },
 "nbformat": 4,
 "nbformat_minor": 5
}
