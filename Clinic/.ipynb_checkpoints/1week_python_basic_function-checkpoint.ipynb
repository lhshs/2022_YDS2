{
 "cells": [
  {
   "cell_type": "markdown",
   "id": "e6fe9122",
   "metadata": {},
   "source": [
    "## 가변인자"
   ]
  },
  {
   "cell_type": "markdown",
   "id": "25c719b4",
   "metadata": {},
   "source": [
    "### positional arguments"
   ]
  },
  {
   "cell_type": "code",
   "execution_count": 5,
   "id": "08563e93",
   "metadata": {
    "ExecuteTime": {
     "end_time": "2022-07-19T14:19:15.220723Z",
     "start_time": "2022-07-19T14:19:15.215723Z"
    }
   },
   "outputs": [
    {
     "name": "stdout",
     "output_type": "stream",
     "text": [
      "('insutance', 99, 'Male', '아무거나 넣어도 되나?')\n",
      "<class 'tuple'>\n"
     ]
    }
   ],
   "source": [
    "def print_info(*args):   \n",
    "    print(args)\n",
    "    print(type(args))\n",
    "    \n",
    "print_info(\"insutance\", 99, \"Male\", \"아무거나 넣어도 되나?\") "
   ]
  },
  {
   "cell_type": "markdown",
   "id": "c4f8ab5f",
   "metadata": {},
   "source": [
    "### keyword arguments"
   ]
  },
  {
   "cell_type": "code",
   "execution_count": 12,
   "id": "c46fa2b3",
   "metadata": {
    "ExecuteTime": {
     "end_time": "2022-07-19T14:21:09.076638Z",
     "start_time": "2022-07-19T14:21:09.071136Z"
    }
   },
   "outputs": [
    {
     "name": "stdout",
     "output_type": "stream",
     "text": [
      "{'name': 'insutance', 'age': 99, 'gender': 'Male', '여기도아무거나': '넣어도 되나'}\n",
      "<class 'dict'>\n",
      "insutance\n",
      "99\n",
      "Male\n"
     ]
    }
   ],
   "source": [
    "def print_info(**kwargs):\n",
    "    print(kwargs)\n",
    "    print(type(kwargs))\n",
    "    print(kwargs[\"name\"])\n",
    "    print(kwargs[\"age\"])\n",
    "    print(kwargs[\"gender\"])\n",
    "\n",
    "print_info(name=\"insutance\", age=99, gender=\"Male\", 여기도아무거나=\"넣어도 되나\")"
   ]
  },
  {
   "cell_type": "code",
   "execution_count": null,
   "id": "0fa72f50",
   "metadata": {},
   "outputs": [],
   "source": []
  }
 ],
 "metadata": {
  "kernelspec": {
   "display_name": "Python 3 (ipykernel)",
   "language": "python",
   "name": "python3"
  },
  "language_info": {
   "codemirror_mode": {
    "name": "ipython",
    "version": 3
   },
   "file_extension": ".py",
   "mimetype": "text/x-python",
   "name": "python",
   "nbconvert_exporter": "python",
   "pygments_lexer": "ipython3",
   "version": "3.9.12"
  },
  "toc": {
   "base_numbering": 1,
   "nav_menu": {},
   "number_sections": false,
   "sideBar": true,
   "skip_h1_title": false,
   "title_cell": "Table of Contents",
   "title_sidebar": "Contents",
   "toc_cell": false,
   "toc_position": {},
   "toc_section_display": true,
   "toc_window_display": true
  }
 },
 "nbformat": 4,
 "nbformat_minor": 5
}
