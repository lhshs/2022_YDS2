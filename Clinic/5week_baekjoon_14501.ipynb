{
 "cells": [
  {
   "cell_type": "markdown",
   "id": "e0d83dc6",
   "metadata": {},
   "source": [
    "14501 퇴사 : https://www.acmicpc.net/problem/14501"
   ]
  },
  {
   "cell_type": "markdown",
   "id": "aa92b38b",
   "metadata": {},
   "source": [
    "# 나의 풀이"
   ]
  },
  {
   "cell_type": "markdown",
   "id": "ecd548c9",
   "metadata": {},
   "source": [
    "dict로 받아와서 처음 입력받은 값에서 key값을 뺀 값과.. 처음 입력받은 값에서 key값을 뺏을 때 양수가 되는 key의 value들을 합하는 문제 같은데.."
   ]
  },
  {
   "cell_type": "code",
   "execution_count": null,
   "id": "5c46bbdd",
   "metadata": {},
   "outputs": [],
   "source": [
    "import sys, io\n",
    "file = open(\"inputs.txt\", 'w')\n",
    "# 다음 데이터에 그대로 여러 데이터를 복사붙여넣기 하면 됨\n",
    "data = \"\"\"7\n",
    "3 10\n",
    "5 20\n",
    "1 10\n",
    "1 20\n",
    "2 15\n",
    "4 40\n",
    "2 200\n",
    "\"\"\"\n",
    "file.write(data)\n",
    "file.close()\n",
    "input_file = open(\"inputs.txt\", \"r\") \n",
    "sys.stdin = io.StringIO(input_file.read())"
   ]
  },
  {
   "cell_type": "code",
   "execution_count": null,
   "id": "da6924a4",
   "metadata": {},
   "outputs": [],
   "source": [
    "import sys\n",
    "input = sys.stdin.readline\n",
    "\n",
    "N = int(input())\n",
    "T, P = map(int, input().split())"
   ]
  },
  {
   "cell_type": "markdown",
   "id": "5625a95d",
   "metadata": {},
   "source": [
    "# 풀이"
   ]
  },
  {
   "cell_type": "code",
   "execution_count": null,
   "id": "5f8b82ba",
   "metadata": {},
   "outputs": [],
   "source": [
    "n = int(input())\n",
    "t = []\n",
    "p = []\n",
    "dp = []\n",
    "for i in range(n):\n",
    "    a, b = map(int, input().split())\n",
    "    t.append(a)\n",
    "    p.append(b)\n",
    "    dp.append(b)\n",
    "dp.append(0)\n",
    "\n",
    "for i in range(n - 1, -1, -1):  # 거꾸로 세기\n",
    "    if t[i] + i > n:\n",
    "        dp[i] = dp[i + 1]\n",
    "    else:\n",
    "        dp[i] = max(dp[i + 1], p[i] + dp[i + t[i]])\n",
    "print(dp[0])"
   ]
  },
  {
   "cell_type": "markdown",
   "id": "feb510cb",
   "metadata": {},
   "source": [
    "dp 동적 계획법"
   ]
  },
  {
   "cell_type": "code",
   "execution_count": 13,
   "id": "1ecca798",
   "metadata": {
    "ExecuteTime": {
     "end_time": "2022-08-22T12:48:58.468771Z",
     "start_time": "2022-08-22T12:48:58.464771Z"
    }
   },
   "outputs": [
    {
     "name": "stdout",
     "output_type": "stream",
     "text": [
      "10\n",
      "9\n",
      "8\n",
      "7\n",
      "6\n",
      "5\n",
      "4\n",
      "3\n",
      "2\n",
      "1\n",
      "0\n"
     ]
    }
   ],
   "source": [
    "for i in range(10, -1, -1):\n",
    "    print(i)"
   ]
  }
 ],
 "metadata": {
  "kernelspec": {
   "display_name": "Python 3 (ipykernel)",
   "language": "python",
   "name": "python3"
  },
  "language_info": {
   "codemirror_mode": {
    "name": "ipython",
    "version": 3
   },
   "file_extension": ".py",
   "mimetype": "text/x-python",
   "name": "python",
   "nbconvert_exporter": "python",
   "pygments_lexer": "ipython3",
   "version": "3.9.12"
  },
  "toc": {
   "base_numbering": 1,
   "nav_menu": {},
   "number_sections": false,
   "sideBar": true,
   "skip_h1_title": false,
   "title_cell": "Table of Contents",
   "title_sidebar": "Contents",
   "toc_cell": false,
   "toc_position": {},
   "toc_section_display": true,
   "toc_window_display": true
  }
 },
 "nbformat": 4,
 "nbformat_minor": 5
}
