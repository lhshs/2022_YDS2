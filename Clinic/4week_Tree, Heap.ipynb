{
 "cells": [
  {
   "cell_type": "markdown",
   "id": "a3c15095",
   "metadata": {},
   "source": [
    "# Heap in Python"
   ]
  },
  {
   "cell_type": "code",
   "execution_count": 25,
   "id": "987b55eb",
   "metadata": {
    "ExecuteTime": {
     "end_time": "2022-08-08T07:41:07.467628Z",
     "start_time": "2022-08-08T07:41:07.464399Z"
    }
   },
   "outputs": [],
   "source": [
    "import heapq\n",
    "\n",
    "_list = [32, 16, 54, 94, 81, 31]   # heapq는 리스트 기반 자료구조이며\n",
    "heapq.heapify(_list)               # 기존에 존재하던 list에 heapify를 사용해 배치"
   ]
  },
  {
   "cell_type": "markdown",
   "id": "b93abad1",
   "metadata": {},
   "source": [
    "### heappush, heappop"
   ]
  },
  {
   "cell_type": "code",
   "execution_count": 26,
   "id": "0b10cb55",
   "metadata": {
    "ExecuteTime": {
     "end_time": "2022-08-08T07:41:08.056300Z",
     "start_time": "2022-08-08T07:41:08.052424Z"
    }
   },
   "outputs": [
    {
     "name": "stdout",
     "output_type": "stream",
     "text": [
      "7\n"
     ]
    }
   ],
   "source": [
    "heapq.heappush(_list, 7)     # heappush : 값을 heapd에 넣음        \n",
    "print(heapq.heappop(_list))  # heappop : heap에 있는 값 중 최솟값을 뺌 "
   ]
  },
  {
   "cell_type": "markdown",
   "id": "aa6e1a00",
   "metadata": {},
   "source": [
    "- 7이 들어가고, 최솟값 7이 빠짐"
   ]
  },
  {
   "cell_type": "code",
   "execution_count": 27,
   "id": "ef22d746",
   "metadata": {
    "ExecuteTime": {
     "end_time": "2022-08-08T07:41:08.520376Z",
     "start_time": "2022-08-08T07:41:08.516008Z"
    }
   },
   "outputs": [
    {
     "data": {
      "text/plain": [
       "[16, 32, 31, 94, 81, 54]"
      ]
     },
     "execution_count": 27,
     "metadata": {},
     "output_type": "execute_result"
    }
   ],
   "source": [
    "_list"
   ]
  },
  {
   "cell_type": "markdown",
   "id": "d5b41211",
   "metadata": {},
   "source": [
    "### heappushpop"
   ]
  },
  {
   "cell_type": "code",
   "execution_count": 28,
   "id": "6dc2df5f",
   "metadata": {
    "ExecuteTime": {
     "end_time": "2022-08-08T07:41:09.341664Z",
     "start_time": "2022-08-08T07:41:09.338461Z"
    }
   },
   "outputs": [
    {
     "name": "stdout",
     "output_type": "stream",
     "text": [
      "16\n"
     ]
    }
   ],
   "source": [
    "print(heapq.heappushpop(_list, 100))   # push하고, pop 하기 "
   ]
  },
  {
   "cell_type": "markdown",
   "id": "b2f89a81",
   "metadata": {},
   "source": [
    "- 100이 들어가고 최솟값 16이 빠짐"
   ]
  },
  {
   "cell_type": "code",
   "execution_count": 29,
   "id": "2d9071a8",
   "metadata": {
    "ExecuteTime": {
     "end_time": "2022-08-08T07:41:10.196388Z",
     "start_time": "2022-08-08T07:41:10.192236Z"
    }
   },
   "outputs": [
    {
     "data": {
      "text/plain": [
       "[31, 32, 54, 94, 81, 100]"
      ]
     },
     "execution_count": 29,
     "metadata": {},
     "output_type": "execute_result"
    }
   ],
   "source": [
    "_list"
   ]
  },
  {
   "cell_type": "markdown",
   "id": "1684efed",
   "metadata": {},
   "source": [
    "### nsmallest, nlargest"
   ]
  },
  {
   "cell_type": "code",
   "execution_count": 30,
   "id": "02ab9a38",
   "metadata": {
    "ExecuteTime": {
     "end_time": "2022-08-08T07:41:13.514887Z",
     "start_time": "2022-08-08T07:41:13.511415Z"
    }
   },
   "outputs": [
    {
     "name": "stdout",
     "output_type": "stream",
     "text": [
      "[31, 32, 54, 81]\n"
     ]
    }
   ],
   "source": [
    "small_elements = heapq.nsmallest(4, _list)  # nsmallest : heap의 원소 중 최솟값 n개를 리턴\n",
    "print(small_elements)"
   ]
  },
  {
   "cell_type": "code",
   "execution_count": 31,
   "id": "f5504b72",
   "metadata": {
    "ExecuteTime": {
     "end_time": "2022-08-08T07:41:18.385903Z",
     "start_time": "2022-08-08T07:41:18.382399Z"
    }
   },
   "outputs": [
    {
     "name": "stdout",
     "output_type": "stream",
     "text": [
      "[100, 94, 81, 54]\n"
     ]
    }
   ],
   "source": [
    "large_elements = heapq.nlargest(4, _list)  # nlargest : heap의 원소 중 최댓값 n개를 리턴\n",
    "print(large_elements)"
   ]
  },
  {
   "cell_type": "code",
   "execution_count": null,
   "id": "60598603",
   "metadata": {},
   "outputs": [],
   "source": []
  }
 ],
 "metadata": {
  "kernelspec": {
   "display_name": "Python 3 (ipykernel)",
   "language": "python",
   "name": "python3"
  },
  "language_info": {
   "codemirror_mode": {
    "name": "ipython",
    "version": 3
   },
   "file_extension": ".py",
   "mimetype": "text/x-python",
   "name": "python",
   "nbconvert_exporter": "python",
   "pygments_lexer": "ipython3",
   "version": "3.8.13"
  },
  "toc": {
   "base_numbering": 1,
   "nav_menu": {},
   "number_sections": false,
   "sideBar": true,
   "skip_h1_title": false,
   "title_cell": "Table of Contents",
   "title_sidebar": "Contents",
   "toc_cell": false,
   "toc_position": {
    "height": "calc(100% - 180px)",
    "left": "10px",
    "top": "150px",
    "width": "199px"
   },
   "toc_section_display": true,
   "toc_window_display": true
  }
 },
 "nbformat": 4,
 "nbformat_minor": 5
}
