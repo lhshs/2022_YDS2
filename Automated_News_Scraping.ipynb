{
 "cells": [
  {
   "cell_type": "code",
   "execution_count": 1,
   "id": "a75c3e83",
   "metadata": {
    "ExecuteTime": {
     "end_time": "2022-07-27T02:47:44.617940Z",
     "start_time": "2022-07-27T02:47:44.407147Z"
    }
   },
   "outputs": [],
   "source": [
    "# 라이브러리 import\n",
    "import os\n",
    "import pandas as pd\n",
    "import numpy as np\n",
    "import math\n",
    "\n",
    "# 셀레늄\n",
    "from selenium.webdriver.common.alert import Alert\n",
    "from selenium import webdriver  # 라이브러리(모듈) 가져오라\n",
    "# pip install chromedriver_autoinstaller\n",
    "from selenium.webdriver.common.keys import Keys\n",
    "from selenium.webdriver import ActionChains as AC\n",
    "\n",
    "from selenium.webdriver.chrome.service import Service as ChromeService\n",
    "from webdriver_manager.chrome import ChromeDriverManager\n",
    "from selenium.webdriver.common.by import By\n",
    "from selenium.webdriver.common.keys import Keys\n",
    "\n",
    "# tqdm : for문 진행상황 체크\n",
    "from tqdm import tqdm, tqdm_notebook\n",
    "from tqdm.notebook import tqdm\n",
    "\n",
    "# 정규표현식(regular expression) : 문자(알파벳,한글), 숫자, 특수기호 정제 및 추출\n",
    "import re\n",
    "from time import sleep\n",
    "import time\n",
    "\n",
    "# 워닝 무시\n",
    "import warnings\n",
    "warnings.filterwarnings('ignore')"
   ]
  },
  {
   "cell_type": "markdown",
   "id": "3780f714",
   "metadata": {},
   "source": [
    "# for문으로 크롤링 "
   ]
  },
  {
   "cell_type": "code",
   "execution_count": 95,
   "id": "c838b67f",
   "metadata": {
    "ExecuteTime": {
     "end_time": "2022-07-27T02:47:59.943176Z",
     "start_time": "2022-07-27T02:47:50.844911Z"
    }
   },
   "outputs": [
    {
     "name": "stdout",
     "output_type": "stream",
     "text": [
      "\n"
     ]
    },
    {
     "name": "stderr",
     "output_type": "stream",
     "text": [
      "[WDM] - ====== WebDriver manager ======\n",
      "[WDM] - Current google-chrome version is 103.0.5060\n",
      "[WDM] - Get LATEST chromedriver version for 103.0.5060 google-chrome\n",
      "[WDM] - Driver [/Users/krc/.wdm/drivers/chromedriver/mac64_m1/103.0.5060.134/chromedriver] found in cache\n"
     ]
    }
   ],
   "source": [
    "# 검색어 입력\n",
    "search = '삼성전자'\n",
    "\n",
    "# 크롬 옵션\n",
    "options = webdriver.ChromeOptions()\n",
    "\n",
    "# 크롬 윈도우 사이즈 조절\n",
    "options.add_argument(\"--window-size=1000,1200\") # window-size -> 기본 : 1920,1080\n",
    "\n",
    "# import chromedriver_autoinstaller\n",
    "\n",
    "# chrome_path = chromedriver_autoinstaller.install()\n",
    "# driver = webdriver.Chrome(chrome_path, options=options)\n",
    "service = ChromeService(executable_path=ChromeDriverManager().install())\n",
    "driver = webdriver.Chrome(service=service)\n",
    "\n",
    "time.sleep(0.01)\n",
    "driver.get(\"https://www.naver.com\") # -> 네이버 크롬 창이 뜬다.\n",
    "\n",
    "# 네이버 검색어 입력 후 검색\n",
    "element = driver.find_element(\"name\", \"query\") \n",
    "element.clear()  # 혹시 검색창에 존재하는 텍스트 제거\n",
    "\n",
    "element.send_keys(search)  # 검색창에 검색어 전달\n",
    "element.submit()  # 검색 클릭\n",
    "time.sleep(0.01)"
   ]
  },
  {
   "cell_type": "code",
   "execution_count": 96,
   "id": "746a5ad1",
   "metadata": {
    "ExecuteTime": {
     "end_time": "2022-07-27T02:48:33.336600Z",
     "start_time": "2022-07-27T02:48:31.987833Z"
    }
   },
   "outputs": [],
   "source": [
    "# 뉴스 클릭\n",
    "driver.find_element(\"link text\", \"뉴스\").click() \n",
    "time.sleep(0.01)"
   ]
  },
  {
   "cell_type": "code",
   "execution_count": 97,
   "id": "62e6071d",
   "metadata": {
    "ExecuteTime": {
     "end_time": "2022-07-27T02:48:34.196381Z",
     "start_time": "2022-07-27T02:48:33.338849Z"
    }
   },
   "outputs": [],
   "source": [
    "# '오래된 순' 클릭\n",
    "driver.find_element(\"link text\", \"오래된순\").click()  \n",
    "time.sleep(0.01)"
   ]
  },
  {
   "cell_type": "code",
   "execution_count": 70,
   "id": "8ea594f8",
   "metadata": {},
   "outputs": [],
   "source": [
    "# 우선 수기로 옵션 누르고 조회 기간을 설정해줌"
   ]
  },
  {
   "cell_type": "code",
   "execution_count": 98,
   "id": "248a9a92",
   "metadata": {
    "ExecuteTime": {
     "end_time": "2022-07-27T04:55:47.369442Z",
     "start_time": "2022-07-27T04:50:21.309244Z"
    },
    "scrolled": true
   },
   "outputs": [
    {
     "ename": "WebDriverException",
     "evalue": "Message: disconnected: Unable to receive message from renderer\n  (Session info: chrome=103.0.5060.134)\nStacktrace:\n0   chromedriver                        0x00000001003d1d60 chromedriver + 3792224\n1   chromedriver                        0x0000000100368874 chromedriver + 3360884\n2   chromedriver                        0x0000000100069184 chromedriver + 217476\n3   chromedriver                        0x000000010005701c chromedriver + 143388\n4   chromedriver                        0x00000001000567f8 chromedriver + 141304\n5   chromedriver                        0x000000010006f768 chromedriver + 243560\n6   chromedriver                        0x00000001000c1e40 chromedriver + 581184\n7   chromedriver                        0x000000010008e3e4 chromedriver + 369636\n8   chromedriver                        0x00000001003a7234 chromedriver + 3617332\n9   chromedriver                        0x00000001003ab6c4 chromedriver + 3634884\n10  chromedriver                        0x00000001003afcb8 chromedriver + 3652792\n11  chromedriver                        0x00000001003ac15c chromedriver + 3637596\n12  chromedriver                        0x000000010038a7f8 chromedriver + 3500024\n13  chromedriver                        0x00000001003c3c3c chromedriver + 3734588\n14  chromedriver                        0x00000001003c3da0 chromedriver + 3734944\n15  chromedriver                        0x00000001003d85a4 chromedriver + 3818916\n16  libsystem_pthread.dylib             0x00000001b0d6226c _pthread_start + 148\n17  libsystem_pthread.dylib             0x00000001b0d5d08c thread_start + 8\n",
     "output_type": "error",
     "traceback": [
      "\u001b[0;31m---------------------------------------------------------------------------\u001b[0m",
      "\u001b[0;31mWebDriverException\u001b[0m                        Traceback (most recent call last)",
      "\u001b[1;32m/Users/krc/Desktop/projects/nlp/Automated_News_Scraping.ipynb 셀 7\u001b[0m in \u001b[0;36m<cell line: 7>\u001b[0;34m()\u001b[0m\n\u001b[1;32m     <a href='vscode-notebook-cell:/Users/krc/Desktop/projects/nlp/Automated_News_Scraping.ipynb#ch0000005?line=66'>67</a>\u001b[0m title_list \u001b[39m=\u001b[39m title_list \u001b[39m+\u001b[39m temp_list \n\u001b[1;32m     <a href='vscode-notebook-cell:/Users/krc/Desktop/projects/nlp/Automated_News_Scraping.ipynb#ch0000005?line=68'>69</a>\u001b[0m \u001b[39m# 다음페이지 클릭\u001b[39;00m\n\u001b[0;32m---> <a href='vscode-notebook-cell:/Users/krc/Desktop/projects/nlp/Automated_News_Scraping.ipynb#ch0000005?line=69'>70</a>\u001b[0m driver\u001b[39m.\u001b[39;49mfind_element(\u001b[39m'\u001b[39;49m\u001b[39mcss selector\u001b[39;49m\u001b[39m'\u001b[39;49m, \u001b[39m'\u001b[39;49m\u001b[39ma.btn_next\u001b[39;49m\u001b[39m'\u001b[39;49m)\u001b[39m.\u001b[39;49mclick()\n\u001b[1;32m     <a href='vscode-notebook-cell:/Users/krc/Desktop/projects/nlp/Automated_News_Scraping.ipynb#ch0000005?line=70'>71</a>\u001b[0m time\u001b[39m.\u001b[39msleep(\u001b[39m0.001\u001b[39m)\n",
      "File \u001b[0;32m/opt/homebrew/Caskroom/miniforge/base/envs/a29/lib/python3.8/site-packages/selenium/webdriver/remote/webelement.py:89\u001b[0m, in \u001b[0;36mWebElement.click\u001b[0;34m(self)\u001b[0m\n\u001b[1;32m     87\u001b[0m \u001b[39mdef\u001b[39;00m \u001b[39mclick\u001b[39m(\u001b[39mself\u001b[39m) \u001b[39m-\u001b[39m\u001b[39m>\u001b[39m \u001b[39mNone\u001b[39;00m:\n\u001b[1;32m     88\u001b[0m     \u001b[39m\"\"\"Clicks the element.\"\"\"\u001b[39;00m\n\u001b[0;32m---> 89\u001b[0m     \u001b[39mself\u001b[39;49m\u001b[39m.\u001b[39;49m_execute(Command\u001b[39m.\u001b[39;49mCLICK_ELEMENT)\n",
      "File \u001b[0;32m/opt/homebrew/Caskroom/miniforge/base/envs/a29/lib/python3.8/site-packages/selenium/webdriver/remote/webelement.py:773\u001b[0m, in \u001b[0;36mWebElement._execute\u001b[0;34m(self, command, params)\u001b[0m\n\u001b[1;32m    771\u001b[0m     params \u001b[39m=\u001b[39m {}\n\u001b[1;32m    772\u001b[0m params[\u001b[39m'\u001b[39m\u001b[39mid\u001b[39m\u001b[39m'\u001b[39m] \u001b[39m=\u001b[39m \u001b[39mself\u001b[39m\u001b[39m.\u001b[39m_id\n\u001b[0;32m--> 773\u001b[0m \u001b[39mreturn\u001b[39;00m \u001b[39mself\u001b[39;49m\u001b[39m.\u001b[39;49m_parent\u001b[39m.\u001b[39;49mexecute(command, params)\n",
      "File \u001b[0;32m/opt/homebrew/Caskroom/miniforge/base/envs/a29/lib/python3.8/site-packages/selenium/webdriver/remote/webdriver.py:430\u001b[0m, in \u001b[0;36mWebDriver.execute\u001b[0;34m(self, driver_command, params)\u001b[0m\n\u001b[1;32m    428\u001b[0m response \u001b[39m=\u001b[39m \u001b[39mself\u001b[39m\u001b[39m.\u001b[39mcommand_executor\u001b[39m.\u001b[39mexecute(driver_command, params)\n\u001b[1;32m    429\u001b[0m \u001b[39mif\u001b[39;00m response:\n\u001b[0;32m--> 430\u001b[0m     \u001b[39mself\u001b[39;49m\u001b[39m.\u001b[39;49merror_handler\u001b[39m.\u001b[39;49mcheck_response(response)\n\u001b[1;32m    431\u001b[0m     response[\u001b[39m'\u001b[39m\u001b[39mvalue\u001b[39m\u001b[39m'\u001b[39m] \u001b[39m=\u001b[39m \u001b[39mself\u001b[39m\u001b[39m.\u001b[39m_unwrap_value(\n\u001b[1;32m    432\u001b[0m         response\u001b[39m.\u001b[39mget(\u001b[39m'\u001b[39m\u001b[39mvalue\u001b[39m\u001b[39m'\u001b[39m, \u001b[39mNone\u001b[39;00m))\n\u001b[1;32m    433\u001b[0m     \u001b[39mreturn\u001b[39;00m response\n",
      "File \u001b[0;32m/opt/homebrew/Caskroom/miniforge/base/envs/a29/lib/python3.8/site-packages/selenium/webdriver/remote/errorhandler.py:247\u001b[0m, in \u001b[0;36mErrorHandler.check_response\u001b[0;34m(self, response)\u001b[0m\n\u001b[1;32m    245\u001b[0m         alert_text \u001b[39m=\u001b[39m value[\u001b[39m'\u001b[39m\u001b[39malert\u001b[39m\u001b[39m'\u001b[39m]\u001b[39m.\u001b[39mget(\u001b[39m'\u001b[39m\u001b[39mtext\u001b[39m\u001b[39m'\u001b[39m)\n\u001b[1;32m    246\u001b[0m     \u001b[39mraise\u001b[39;00m exception_class(message, screen, stacktrace, alert_text)  \u001b[39m# type: ignore[call-arg]  # mypy is not smart enough here\u001b[39;00m\n\u001b[0;32m--> 247\u001b[0m \u001b[39mraise\u001b[39;00m exception_class(message, screen, stacktrace)\n",
      "\u001b[0;31mWebDriverException\u001b[0m: Message: disconnected: Unable to receive message from renderer\n  (Session info: chrome=103.0.5060.134)\nStacktrace:\n0   chromedriver                        0x00000001003d1d60 chromedriver + 3792224\n1   chromedriver                        0x0000000100368874 chromedriver + 3360884\n2   chromedriver                        0x0000000100069184 chromedriver + 217476\n3   chromedriver                        0x000000010005701c chromedriver + 143388\n4   chromedriver                        0x00000001000567f8 chromedriver + 141304\n5   chromedriver                        0x000000010006f768 chromedriver + 243560\n6   chromedriver                        0x00000001000c1e40 chromedriver + 581184\n7   chromedriver                        0x000000010008e3e4 chromedriver + 369636\n8   chromedriver                        0x00000001003a7234 chromedriver + 3617332\n9   chromedriver                        0x00000001003ab6c4 chromedriver + 3634884\n10  chromedriver                        0x00000001003afcb8 chromedriver + 3652792\n11  chromedriver                        0x00000001003ac15c chromedriver + 3637596\n12  chromedriver                        0x000000010038a7f8 chromedriver + 3500024\n13  chromedriver                        0x00000001003c3c3c chromedriver + 3734588\n14  chromedriver                        0x00000001003c3da0 chromedriver + 3734944\n15  chromedriver                        0x00000001003d85a4 chromedriver + 3818916\n16  libsystem_pthread.dylib             0x00000001b0d6226c _pthread_start + 148\n17  libsystem_pthread.dylib             0x00000001b0d5d08c thread_start + 8\n"
     ]
    }
   ],
   "source": [
    "# 뉴스 데이터 수집\n",
    "news_list = []\n",
    "date_list = []\n",
    "title_list = []\n",
    "MAX_ITERATION = 350\n",
    "\n",
    "for _ in range(120):\n",
    "    time.sleep(1)\n",
    "\n",
    "    # 기간 변경해 주기\n",
    "    if len(date_list):\n",
    "        splited_date = date_list[-1].split('.')\n",
    "        year = int(splited_date[0]) - 1990 + 1\n",
    "        month = int(splited_date[1])\n",
    "        day = int(splited_date[2])\n",
    "\n",
    "        # 기간을 클릭 해서 입력창 활성화  \n",
    "        time.sleep(4)   \n",
    "        driver.find_element(by=By.CSS_SELECTOR, value='#snb > div.api_group_option_sort._search_option_detail_wrap > ul > li.bx.term > div > div.option > a.txt.txt_option._calendar_select_trigger').click()\n",
    "        time.sleep(2)\n",
    "\n",
    "        ## 시작 일자 조정 ##\n",
    "        \n",
    "        # 년도 \n",
    "        # 2016년 CSS_SELECTOR : snb > div.api_group_option_sort._search_option_detail_wrap > ul > li.bx.term > div > div.api_select_option.type_calendar._calendar_select_layer > div.select_wrap._root > div:nth-child(1) > div > div > div > ul > li:nth-child(27)\n",
    "        driver.find_element(by=By.CSS_SELECTOR, value=f'#snb > div.api_group_option_sort._search_option_detail_wrap > ul > li.bx.term > div > div.api_select_option.type_calendar._calendar_select_layer > div.select_wrap._root > div:nth-child(1) > div > div > div > ul > li:nth-child({year})').click()\n",
    "        time.sleep(1)\n",
    "        \n",
    "        # 월\n",
    "        # 1월 CSS_SELECTOR : snb > div.api_group_option_sort._search_option_detail_wrap > ul > li.bx.term > div > div.api_select_option.type_calendar._calendar_select_layer > div.select_wrap._root > div:nth-child(2) > div > div > div > ul > li:nth-child(1)\n",
    "        driver.find_element(by=By.CSS_SELECTOR, value=f'#snb > div.api_group_option_sort._search_option_detail_wrap > ul > li.bx.term > div > div.api_select_option.type_calendar._calendar_select_layer > div.select_wrap._root > div:nth-child(2) > div > div > div > ul > li:nth-child({month})').click()\n",
    "        time.sleep(1)\n",
    "        \n",
    "        # 일\n",
    "        # 1일 CSS_SELECTOR : #snb > div.api_group_option_sort._search_option_detail_wrap > ul > li.bx.term > div > div.api_select_option.type_calendar._calendar_select_layer > div.select_wrap._root > div:nth-child(3) > div > div > div > ul > li:nth-child(1)\n",
    "        driver.find_element(by=By.CSS_SELECTOR, value=f'#snb > div.api_group_option_sort._search_option_detail_wrap > ul > li.bx.term > div > div.api_select_option.type_calendar._calendar_select_layer > div.select_wrap._root > div:nth-child(3) > div > div > div > ul > li:nth-child({day})').click()\n",
    "        time.sleep(1)\n",
    "        \n",
    "        # \"적용\" 버튼 클릭\n",
    "        driver.find_element(by=By.CSS_SELECTOR, value='#snb > div.api_group_option_sort._search_option_detail_wrap > ul > li.bx.term > div > div.api_select_option.type_calendar._calendar_select_layer > div.btn_area > button').click()\n",
    "        time.sleep(2)\n",
    "        \n",
    "    for i in range(MAX_ITERATION):\n",
    "\n",
    "        # 언론사\n",
    "        newses = driver.find_elements('css selector', 'a.info.press')\n",
    "        temp_list = []\n",
    "        for news in newses:\n",
    "            temp_list.append(news.text)\n",
    "            temp_list = [x for x in temp_list ]\n",
    "        news_list = news_list + temp_list \n",
    "        \n",
    "        # 날짜\n",
    "        dates = driver.find_elements('css selector', 'span.info')\n",
    "        temp_list = []\n",
    "        for date in dates:\n",
    "            temp_list.append(date.text)\n",
    "            temp_list = [x for x in temp_list ]\n",
    "        date_list = date_list + temp_list \n",
    "        \n",
    "        # 제목\n",
    "        titles = driver.find_elements('css selector', 'a.news_tit')\n",
    "        temp_list = []\n",
    "        for title in titles:\n",
    "            temp_list.append(title.text)\n",
    "            temp_list = [x for x in temp_list ]\n",
    "        title_list = title_list + temp_list \n",
    "        \n",
    "        # 다음페이지 클릭\n",
    "        driver.find_element('css selector', 'a.btn_next').click()\n",
    "        time.sleep(0.001)"
   ]
  },
  {
   "cell_type": "code",
   "execution_count": 99,
   "id": "951c8833",
   "metadata": {},
   "outputs": [
    {
     "name": "stdout",
     "output_type": "stream",
     "text": [
      "200400\n",
      "['스포츠경향', '이데일리']\n",
      "['2017.02.17.', '2017.02.17.']\n",
      "['한정석 판사 “이재용 부회장 구속 사유 인정”…이유는?', \"[맥모닝 뉴스] 한정석 판사 '이재용 구속영장' 발부, 한진해운 파산...직원 절...\"]\n"
     ]
    }
   ],
   "source": [
    "print(len(title_list))\n",
    "print(news_list[-2:])\n",
    "print(date_list[-2:])\n",
    "print(title_list[-2:])"
   ]
  },
  {
   "cell_type": "code",
   "execution_count": null,
   "id": "41363e7a",
   "metadata": {
    "ExecuteTime": {
     "end_time": "2022-07-27T04:57:06.101508Z",
     "start_time": "2022-07-27T04:57:05.976650Z"
    }
   },
   "outputs": [],
   "source": [
    "# df로 만들기\n",
    "df = pd.DataFrame(list(zip(news_list, date_list, title_list)), columns = ['언론사','날짜', '제목'])\n",
    "df"
   ]
  },
  {
   "cell_type": "code",
   "execution_count": null,
   "id": "c3d2d91c",
   "metadata": {},
   "outputs": [],
   "source": [
    "# csv로 뽑기\n",
    "df.to_csv('2017.csv')"
   ]
  },
  {
   "cell_type": "code",
   "execution_count": 100,
   "id": "2120a655",
   "metadata": {},
   "outputs": [],
   "source": [
    "driver.close()"
   ]
  },
  {
   "cell_type": "code",
   "execution_count": null,
   "id": "abfb8952",
   "metadata": {},
   "outputs": [],
   "source": []
  }
 ],
 "metadata": {
  "kernelspec": {
   "display_name": "Python 3 (ipykernel)",
   "language": "python",
   "name": "python3"
  },
  "language_info": {
   "codemirror_mode": {
    "name": "ipython",
    "version": 3
   },
   "file_extension": ".py",
   "mimetype": "text/x-python",
   "name": "python",
   "nbconvert_exporter": "python",
   "pygments_lexer": "ipython3",
   "version": "3.8.13"
  },
  "toc": {
   "base_numbering": 1,
   "nav_menu": {},
   "number_sections": false,
   "sideBar": true,
   "skip_h1_title": false,
   "title_cell": "Table of Contents",
   "title_sidebar": "Contents",
   "toc_cell": false,
   "toc_position": {
    "height": "895px",
    "left": "69px",
    "top": "111.141px",
    "width": "165px"
   },
   "toc_section_display": true,
   "toc_window_display": false
  },
  "vscode": {
   "interpreter": {
    "hash": "e3584e0094cc606059de00670c8f2673321413961648b189247649573872e648"
   }
  }
 },
 "nbformat": 4,
 "nbformat_minor": 5
}
