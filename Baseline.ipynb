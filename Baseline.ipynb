{
 "cells": [
  {
   "cell_type": "code",
   "execution_count": 1,
   "id": "5bbe589b",
   "metadata": {
    "ExecuteTime": {
     "end_time": "2022-06-30T11:22:39.359488Z",
     "start_time": "2022-06-30T11:22:38.312381Z"
    }
   },
   "outputs": [],
   "source": [
    "import numpy as np\n",
    "import pandas as pd\n",
    "import matplotlib.pyplot as plt\n",
    "\n",
    "# from sklearn.model_selection import train_test_split\n",
    "# from xgboost import XGBClassifier\n",
    "# from sklearn.preprocessing import LabelEncoder\n",
    "# from sklearn.metrics import accuracy_score\n",
    "\n",
    "# 모델들, 성능 평가\n",
    "# (저는 일반적으로 정형데이터로 머신러닝 분석할 때는 이 2개 모델은 그냥 돌려봅니다. 특히 RF가 테스트하기 좋습니다.)\n",
    "from sklearn.ensemble import RandomForestRegressor\n",
    "from lightgbm.sklearn import LGBMRegressor\n",
    "\n",
    "# KFold(CV), partial : optuna를 사용하기 위함\n",
    "from sklearn.model_selection import KFold\n",
    "from functools import partial\n",
    "\n",
    "# hyper-parameter tuning을 위한 라이브러리, optuna\n",
    "import optuna"
   ]
  },
  {
   "cell_type": "code",
   "execution_count": 2,
   "id": "e585e456",
   "metadata": {
    "ExecuteTime": {
     "end_time": "2022-06-30T11:22:52.974388Z",
     "start_time": "2022-06-30T11:22:39.360451Z"
    }
   },
   "outputs": [],
   "source": [
    "train_t = pd.read_csv('train_transaction.csv')\n",
    "train_i = pd.read_csv('train_identity.csv')\n",
    "test_t = pd.read_csv('test_transaction.csv')\n",
    "test_i = pd.read_csv('test_identity.csv')\n",
    "\n",
    "submission = pd.read_csv('sample_submission.csv')"
   ]
  },
  {
   "cell_type": "code",
   "execution_count": 3,
   "id": "773e8301",
   "metadata": {
    "ExecuteTime": {
     "end_time": "2022-06-30T11:22:54.485129Z",
     "start_time": "2022-06-30T11:22:52.975311Z"
    }
   },
   "outputs": [],
   "source": [
    "train = pd.merge(train_t, train_i, on='TransactionID', how='outer')\n",
    "test = pd.merge(test_t, test_i, on='TransactionID', how='outer')"
   ]
  },
  {
   "cell_type": "code",
   "execution_count": null,
   "id": "ee4b9281",
   "metadata": {
    "ExecuteTime": {
     "end_time": "2022-06-30T09:16:23.416823Z",
     "start_time": "2022-06-30T09:16:23.414982Z"
    }
   },
   "outputs": [],
   "source": [
    "print(train.shape)\n",
    "print(test.shape)\n",
    "print(submission.shape)"
   ]
  },
  {
   "cell_type": "code",
   "execution_count": null,
   "id": "9236f4f8",
   "metadata": {
    "ExecuteTime": {
     "end_time": "2022-06-30T09:16:23.426180Z",
     "start_time": "2022-06-30T09:16:23.418114Z"
    }
   },
   "outputs": [],
   "source": [
    "test.info()"
   ]
  },
  {
   "cell_type": "code",
   "execution_count": null,
   "id": "1486b821",
   "metadata": {
    "ExecuteTime": {
     "end_time": "2022-06-30T09:16:23.642907Z",
     "start_time": "2022-06-30T09:16:23.427067Z"
    }
   },
   "outputs": [],
   "source": [
    "train"
   ]
  },
  {
   "cell_type": "code",
   "execution_count": null,
   "id": "c3c5729f",
   "metadata": {
    "ExecuteTime": {
     "end_time": "2022-06-30T09:16:23.836464Z",
     "start_time": "2022-06-30T09:16:23.643712Z"
    }
   },
   "outputs": [],
   "source": [
    "test"
   ]
  },
  {
   "cell_type": "code",
   "execution_count": null,
   "id": "7b5f97a6",
   "metadata": {
    "ExecuteTime": {
     "end_time": "2022-06-30T09:16:23.838491Z",
     "start_time": "2022-06-30T09:16:23.837090Z"
    }
   },
   "outputs": [],
   "source": [
    "# train = train.astype('float16', errors='ignore')\n",
    "# train.info()"
   ]
  },
  {
   "cell_type": "code",
   "execution_count": null,
   "id": "60541497",
   "metadata": {
    "ExecuteTime": {
     "end_time": "2022-06-30T09:16:23.840633Z",
     "start_time": "2022-06-30T09:16:23.839184Z"
    }
   },
   "outputs": [],
   "source": [
    "# test = test.astype('int64', errors='ignore')\n",
    "# test.info()"
   ]
  },
  {
   "cell_type": "code",
   "execution_count": 4,
   "id": "5a97fc4c",
   "metadata": {
    "ExecuteTime": {
     "end_time": "2022-06-30T11:22:54.489925Z",
     "start_time": "2022-06-30T11:22:54.485899Z"
    }
   },
   "outputs": [
    {
     "data": {
      "text/plain": [
       "Index(['ProductCD', 'card4', 'card6', 'P_emaildomain', 'R_emaildomain', 'M1',\n",
       "       'M2', 'M3', 'M4', 'M5', 'M6', 'M7', 'M8', 'M9', 'id_12', 'id_15',\n",
       "       'id_16', 'id_23', 'id_27', 'id_28', 'id_29', 'id_30', 'id_31', 'id_33',\n",
       "       'id_34', 'id_35', 'id_36', 'id_37', 'id_38', 'DeviceType',\n",
       "       'DeviceInfo'],\n",
       "      dtype='object')"
      ]
     },
     "execution_count": 4,
     "metadata": {},
     "output_type": "execute_result"
    }
   ],
   "source": [
    "categorical_features = train.select_dtypes('object').columns\n",
    "categorical_features"
   ]
  },
  {
   "cell_type": "code",
   "execution_count": 5,
   "id": "daaba3e5",
   "metadata": {
    "ExecuteTime": {
     "end_time": "2022-06-30T11:22:59.771122Z",
     "start_time": "2022-06-30T11:22:56.246172Z"
    }
   },
   "outputs": [
    {
     "data": {
      "text/plain": [
       "Index(['TransactionAmt', 'card2', 'card3', 'card5', 'addr1', 'addr2', 'dist1',\n",
       "       'dist2', 'C1', 'C2',\n",
       "       ...\n",
       "       'id_21', 'id_22', 'id_24', 'id_25', 'id_26', 'id_32', 'TransactionID',\n",
       "       'isFraud', 'TransactionDT', 'card1'],\n",
       "      dtype='object', length=403)"
      ]
     },
     "execution_count": 5,
     "metadata": {},
     "output_type": "execute_result"
    }
   ],
   "source": [
    "numerical_features = pd.concat([train.select_dtypes('float64'), train.select_dtypes('int64')]).columns\n",
    "numerical_features"
   ]
  },
  {
   "cell_type": "code",
   "execution_count": null,
   "id": "c9152642",
   "metadata": {
    "ExecuteTime": {
     "end_time": "2022-06-30T09:23:05.352350Z",
     "start_time": "2022-06-30T09:23:05.191437Z"
    }
   },
   "outputs": [],
   "source": [
    "train[categorical_features].iloc[:,15:31]"
   ]
  },
  {
   "cell_type": "code",
   "execution_count": 28,
   "id": "0a97fa21",
   "metadata": {
    "ExecuteTime": {
     "end_time": "2022-06-30T11:26:18.851104Z",
     "start_time": "2022-06-30T11:26:18.816821Z"
    },
    "scrolled": true
   },
   "outputs": [
    {
     "data": {
      "text/plain": [
       "chrome 63.0                22000\n",
       "mobile safari 11.0         13423\n",
       "mobile safari generic      11474\n",
       "ie 11.0 for desktop         9030\n",
       "safari generic              8195\n",
       "                           ...  \n",
       "iron                           1\n",
       "LG/K-200                       1\n",
       "cyberfox                       1\n",
       "Nokia/Lumia                    1\n",
       "chrome 67.0 for android        1\n",
       "Name: id_31, Length: 130, dtype: int64"
      ]
     },
     "execution_count": 28,
     "metadata": {},
     "output_type": "execute_result"
    }
   ],
   "source": [
    "train.id_31.value_counts()"
   ]
  },
  {
   "cell_type": "code",
   "execution_count": 34,
   "id": "12da3c8f",
   "metadata": {
    "ExecuteTime": {
     "end_time": "2022-06-30T11:29:02.428913Z",
     "start_time": "2022-06-30T11:29:02.188450Z"
    }
   },
   "outputs": [
    {
     "data": {
      "text/html": [
       "<div>\n",
       "<style scoped>\n",
       "    .dataframe tbody tr th:only-of-type {\n",
       "        vertical-align: middle;\n",
       "    }\n",
       "\n",
       "    .dataframe tbody tr th {\n",
       "        vertical-align: top;\n",
       "    }\n",
       "\n",
       "    .dataframe thead th {\n",
       "        text-align: right;\n",
       "    }\n",
       "</style>\n",
       "<table border=\"1\" class=\"dataframe\">\n",
       "  <thead>\n",
       "    <tr style=\"text-align: right;\">\n",
       "      <th></th>\n",
       "      <th>TransactionID</th>\n",
       "      <th>isFraud</th>\n",
       "      <th>TransactionDT</th>\n",
       "      <th>TransactionAmt</th>\n",
       "      <th>ProductCD</th>\n",
       "      <th>card1</th>\n",
       "      <th>card2</th>\n",
       "      <th>card3</th>\n",
       "      <th>card4</th>\n",
       "      <th>card5</th>\n",
       "      <th>...</th>\n",
       "      <th>id_31</th>\n",
       "      <th>id_32</th>\n",
       "      <th>id_33</th>\n",
       "      <th>id_34</th>\n",
       "      <th>id_35</th>\n",
       "      <th>id_36</th>\n",
       "      <th>id_37</th>\n",
       "      <th>id_38</th>\n",
       "      <th>DeviceType</th>\n",
       "      <th>DeviceInfo</th>\n",
       "    </tr>\n",
       "  </thead>\n",
       "  <tbody>\n",
       "    <tr>\n",
       "      <th>0</th>\n",
       "      <td>2987000</td>\n",
       "      <td>0</td>\n",
       "      <td>86400</td>\n",
       "      <td>68.50</td>\n",
       "      <td>W</td>\n",
       "      <td>13926</td>\n",
       "      <td>NaN</td>\n",
       "      <td>150.0</td>\n",
       "      <td>discover</td>\n",
       "      <td>142.0</td>\n",
       "      <td>...</td>\n",
       "      <td>chrome 63.0</td>\n",
       "      <td>NaN</td>\n",
       "      <td>1920x1080</td>\n",
       "      <td>match_status:2</td>\n",
       "      <td>T</td>\n",
       "      <td>F</td>\n",
       "      <td>T</td>\n",
       "      <td>F</td>\n",
       "      <td>desktop</td>\n",
       "      <td>Windows</td>\n",
       "    </tr>\n",
       "    <tr>\n",
       "      <th>1</th>\n",
       "      <td>2987001</td>\n",
       "      <td>0</td>\n",
       "      <td>86401</td>\n",
       "      <td>29.00</td>\n",
       "      <td>W</td>\n",
       "      <td>2755</td>\n",
       "      <td>404.0</td>\n",
       "      <td>150.0</td>\n",
       "      <td>mastercard</td>\n",
       "      <td>102.0</td>\n",
       "      <td>...</td>\n",
       "      <td>chrome 63.0</td>\n",
       "      <td>NaN</td>\n",
       "      <td>1920x1080</td>\n",
       "      <td>match_status:2</td>\n",
       "      <td>T</td>\n",
       "      <td>F</td>\n",
       "      <td>T</td>\n",
       "      <td>F</td>\n",
       "      <td>desktop</td>\n",
       "      <td>Windows</td>\n",
       "    </tr>\n",
       "    <tr>\n",
       "      <th>2</th>\n",
       "      <td>2987002</td>\n",
       "      <td>0</td>\n",
       "      <td>86469</td>\n",
       "      <td>59.00</td>\n",
       "      <td>W</td>\n",
       "      <td>4663</td>\n",
       "      <td>490.0</td>\n",
       "      <td>150.0</td>\n",
       "      <td>visa</td>\n",
       "      <td>166.0</td>\n",
       "      <td>...</td>\n",
       "      <td>chrome 63.0</td>\n",
       "      <td>NaN</td>\n",
       "      <td>1920x1080</td>\n",
       "      <td>match_status:2</td>\n",
       "      <td>T</td>\n",
       "      <td>F</td>\n",
       "      <td>T</td>\n",
       "      <td>F</td>\n",
       "      <td>desktop</td>\n",
       "      <td>Windows</td>\n",
       "    </tr>\n",
       "    <tr>\n",
       "      <th>3</th>\n",
       "      <td>2987003</td>\n",
       "      <td>0</td>\n",
       "      <td>86499</td>\n",
       "      <td>50.00</td>\n",
       "      <td>W</td>\n",
       "      <td>18132</td>\n",
       "      <td>567.0</td>\n",
       "      <td>150.0</td>\n",
       "      <td>mastercard</td>\n",
       "      <td>117.0</td>\n",
       "      <td>...</td>\n",
       "      <td>chrome 63.0</td>\n",
       "      <td>NaN</td>\n",
       "      <td>1920x1080</td>\n",
       "      <td>match_status:2</td>\n",
       "      <td>T</td>\n",
       "      <td>F</td>\n",
       "      <td>T</td>\n",
       "      <td>F</td>\n",
       "      <td>desktop</td>\n",
       "      <td>Windows</td>\n",
       "    </tr>\n",
       "    <tr>\n",
       "      <th>4</th>\n",
       "      <td>2987004</td>\n",
       "      <td>0</td>\n",
       "      <td>86506</td>\n",
       "      <td>50.00</td>\n",
       "      <td>H</td>\n",
       "      <td>4497</td>\n",
       "      <td>514.0</td>\n",
       "      <td>150.0</td>\n",
       "      <td>mastercard</td>\n",
       "      <td>102.0</td>\n",
       "      <td>...</td>\n",
       "      <td>samsung browser 6.2</td>\n",
       "      <td>32.0</td>\n",
       "      <td>2220x1080</td>\n",
       "      <td>match_status:2</td>\n",
       "      <td>T</td>\n",
       "      <td>F</td>\n",
       "      <td>T</td>\n",
       "      <td>T</td>\n",
       "      <td>mobile</td>\n",
       "      <td>SAMSUNG SM-G892A Build/NRD90M</td>\n",
       "    </tr>\n",
       "    <tr>\n",
       "      <th>...</th>\n",
       "      <td>...</td>\n",
       "      <td>...</td>\n",
       "      <td>...</td>\n",
       "      <td>...</td>\n",
       "      <td>...</td>\n",
       "      <td>...</td>\n",
       "      <td>...</td>\n",
       "      <td>...</td>\n",
       "      <td>...</td>\n",
       "      <td>...</td>\n",
       "      <td>...</td>\n",
       "      <td>...</td>\n",
       "      <td>...</td>\n",
       "      <td>...</td>\n",
       "      <td>...</td>\n",
       "      <td>...</td>\n",
       "      <td>...</td>\n",
       "      <td>...</td>\n",
       "      <td>...</td>\n",
       "      <td>...</td>\n",
       "      <td>...</td>\n",
       "    </tr>\n",
       "    <tr>\n",
       "      <th>590535</th>\n",
       "      <td>3577535</td>\n",
       "      <td>0</td>\n",
       "      <td>15811047</td>\n",
       "      <td>49.00</td>\n",
       "      <td>W</td>\n",
       "      <td>6550</td>\n",
       "      <td>NaN</td>\n",
       "      <td>150.0</td>\n",
       "      <td>visa</td>\n",
       "      <td>226.0</td>\n",
       "      <td>...</td>\n",
       "      <td>chrome 63.0</td>\n",
       "      <td>NaN</td>\n",
       "      <td>1920x1080</td>\n",
       "      <td>match_status:2</td>\n",
       "      <td>T</td>\n",
       "      <td>F</td>\n",
       "      <td>T</td>\n",
       "      <td>F</td>\n",
       "      <td>desktop</td>\n",
       "      <td>Windows</td>\n",
       "    </tr>\n",
       "    <tr>\n",
       "      <th>590536</th>\n",
       "      <td>3577536</td>\n",
       "      <td>0</td>\n",
       "      <td>15811049</td>\n",
       "      <td>39.50</td>\n",
       "      <td>W</td>\n",
       "      <td>10444</td>\n",
       "      <td>225.0</td>\n",
       "      <td>150.0</td>\n",
       "      <td>mastercard</td>\n",
       "      <td>224.0</td>\n",
       "      <td>...</td>\n",
       "      <td>chrome 63.0</td>\n",
       "      <td>NaN</td>\n",
       "      <td>1920x1080</td>\n",
       "      <td>match_status:2</td>\n",
       "      <td>T</td>\n",
       "      <td>F</td>\n",
       "      <td>T</td>\n",
       "      <td>F</td>\n",
       "      <td>desktop</td>\n",
       "      <td>Windows</td>\n",
       "    </tr>\n",
       "    <tr>\n",
       "      <th>590537</th>\n",
       "      <td>3577537</td>\n",
       "      <td>0</td>\n",
       "      <td>15811079</td>\n",
       "      <td>30.95</td>\n",
       "      <td>W</td>\n",
       "      <td>12037</td>\n",
       "      <td>595.0</td>\n",
       "      <td>150.0</td>\n",
       "      <td>mastercard</td>\n",
       "      <td>224.0</td>\n",
       "      <td>...</td>\n",
       "      <td>chrome 63.0</td>\n",
       "      <td>NaN</td>\n",
       "      <td>1920x1080</td>\n",
       "      <td>match_status:2</td>\n",
       "      <td>T</td>\n",
       "      <td>F</td>\n",
       "      <td>T</td>\n",
       "      <td>F</td>\n",
       "      <td>desktop</td>\n",
       "      <td>Windows</td>\n",
       "    </tr>\n",
       "    <tr>\n",
       "      <th>590538</th>\n",
       "      <td>3577538</td>\n",
       "      <td>0</td>\n",
       "      <td>15811088</td>\n",
       "      <td>117.00</td>\n",
       "      <td>W</td>\n",
       "      <td>7826</td>\n",
       "      <td>481.0</td>\n",
       "      <td>150.0</td>\n",
       "      <td>mastercard</td>\n",
       "      <td>224.0</td>\n",
       "      <td>...</td>\n",
       "      <td>chrome 63.0</td>\n",
       "      <td>NaN</td>\n",
       "      <td>1920x1080</td>\n",
       "      <td>match_status:2</td>\n",
       "      <td>T</td>\n",
       "      <td>F</td>\n",
       "      <td>T</td>\n",
       "      <td>F</td>\n",
       "      <td>desktop</td>\n",
       "      <td>Windows</td>\n",
       "    </tr>\n",
       "    <tr>\n",
       "      <th>590539</th>\n",
       "      <td>3577539</td>\n",
       "      <td>0</td>\n",
       "      <td>15811131</td>\n",
       "      <td>279.95</td>\n",
       "      <td>W</td>\n",
       "      <td>15066</td>\n",
       "      <td>170.0</td>\n",
       "      <td>150.0</td>\n",
       "      <td>mastercard</td>\n",
       "      <td>102.0</td>\n",
       "      <td>...</td>\n",
       "      <td>chrome 63.0</td>\n",
       "      <td>NaN</td>\n",
       "      <td>1920x1080</td>\n",
       "      <td>match_status:2</td>\n",
       "      <td>T</td>\n",
       "      <td>F</td>\n",
       "      <td>T</td>\n",
       "      <td>F</td>\n",
       "      <td>desktop</td>\n",
       "      <td>Windows</td>\n",
       "    </tr>\n",
       "  </tbody>\n",
       "</table>\n",
       "<p>590540 rows × 434 columns</p>\n",
       "</div>"
      ],
      "text/plain": [
       "        TransactionID  isFraud  TransactionDT  TransactionAmt ProductCD  \\\n",
       "0             2987000        0          86400           68.50         W   \n",
       "1             2987001        0          86401           29.00         W   \n",
       "2             2987002        0          86469           59.00         W   \n",
       "3             2987003        0          86499           50.00         W   \n",
       "4             2987004        0          86506           50.00         H   \n",
       "...               ...      ...            ...             ...       ...   \n",
       "590535        3577535        0       15811047           49.00         W   \n",
       "590536        3577536        0       15811049           39.50         W   \n",
       "590537        3577537        0       15811079           30.95         W   \n",
       "590538        3577538        0       15811088          117.00         W   \n",
       "590539        3577539        0       15811131          279.95         W   \n",
       "\n",
       "        card1  card2  card3       card4  card5  ...                id_31  \\\n",
       "0       13926    NaN  150.0    discover  142.0  ...          chrome 63.0   \n",
       "1        2755  404.0  150.0  mastercard  102.0  ...          chrome 63.0   \n",
       "2        4663  490.0  150.0        visa  166.0  ...          chrome 63.0   \n",
       "3       18132  567.0  150.0  mastercard  117.0  ...          chrome 63.0   \n",
       "4        4497  514.0  150.0  mastercard  102.0  ...  samsung browser 6.2   \n",
       "...       ...    ...    ...         ...    ...  ...                  ...   \n",
       "590535   6550    NaN  150.0        visa  226.0  ...          chrome 63.0   \n",
       "590536  10444  225.0  150.0  mastercard  224.0  ...          chrome 63.0   \n",
       "590537  12037  595.0  150.0  mastercard  224.0  ...          chrome 63.0   \n",
       "590538   7826  481.0  150.0  mastercard  224.0  ...          chrome 63.0   \n",
       "590539  15066  170.0  150.0  mastercard  102.0  ...          chrome 63.0   \n",
       "\n",
       "        id_32      id_33           id_34  id_35 id_36 id_37  id_38  \\\n",
       "0         NaN  1920x1080  match_status:2      T     F     T      F   \n",
       "1         NaN  1920x1080  match_status:2      T     F     T      F   \n",
       "2         NaN  1920x1080  match_status:2      T     F     T      F   \n",
       "3         NaN  1920x1080  match_status:2      T     F     T      F   \n",
       "4        32.0  2220x1080  match_status:2      T     F     T      T   \n",
       "...       ...        ...             ...    ...   ...   ...    ...   \n",
       "590535    NaN  1920x1080  match_status:2      T     F     T      F   \n",
       "590536    NaN  1920x1080  match_status:2      T     F     T      F   \n",
       "590537    NaN  1920x1080  match_status:2      T     F     T      F   \n",
       "590538    NaN  1920x1080  match_status:2      T     F     T      F   \n",
       "590539    NaN  1920x1080  match_status:2      T     F     T      F   \n",
       "\n",
       "        DeviceType                     DeviceInfo  \n",
       "0          desktop                        Windows  \n",
       "1          desktop                        Windows  \n",
       "2          desktop                        Windows  \n",
       "3          desktop                        Windows  \n",
       "4           mobile  SAMSUNG SM-G892A Build/NRD90M  \n",
       "...            ...                            ...  \n",
       "590535     desktop                        Windows  \n",
       "590536     desktop                        Windows  \n",
       "590537     desktop                        Windows  \n",
       "590538     desktop                        Windows  \n",
       "590539     desktop                        Windows  \n",
       "\n",
       "[590540 rows x 434 columns]"
      ]
     },
     "execution_count": 34,
     "metadata": {},
     "output_type": "execute_result"
    }
   ],
   "source": [
    "train"
   ]
  },
  {
   "cell_type": "code",
   "execution_count": 39,
   "id": "435a0f27",
   "metadata": {
    "ExecuteTime": {
     "end_time": "2022-06-30T11:29:54.804285Z",
     "start_time": "2022-06-30T11:29:54.137139Z"
    }
   },
   "outputs": [],
   "source": [
    "\n",
    "train.card4.fillna('visa', inplace=True)\n",
    "train.card6.fillna('debit', inplace=True)\n",
    "train.P_emaildomain.fillna('gmail.com ', inplace=True)\n",
    "train.R_emaildomain.fillna('gmail.com ', inplace=True)\n",
    "train.M1.fillna('T', inplace=True)\n",
    "train.M2.fillna('T', inplace=True)\n",
    "train.M3.fillna('T', inplace=True)\n",
    "train.M4.fillna('M0', inplace=True)\n",
    "train.M5.fillna('F', inplace=True)\n",
    "train.M6.fillna('F', inplace=True)\n",
    "train.M7.fillna('F', inplace=True)\n",
    "train.M8.fillna('F', inplace=True)\n",
    "train.M9.fillna('T', inplace=True)\n",
    "train.id_12.fillna('NotFound', inplace=True)\n",
    "train.id_15.fillna('Found', inplace=True)\n",
    "train.id_16.fillna('Found ', inplace=True)\n",
    "train.id_23.fillna('IP_PROXY:TRANSPARENT', inplace=True)\n",
    "train.id_27.fillna('Found', inplace=True)\n",
    "train.id_28.fillna('Found', inplace=True)\n",
    "train.id_29.fillna('Found', inplace=True)\n",
    "train.id_30.fillna('Windows', inplace=True)\n",
    "train.id_31.fillna('chrome 63.0', inplace=True)\n",
    "train.id_33.fillna('1920x1080', inplace=True)\n",
    "train.id_34.fillna('match_status:2', inplace=True)\n",
    "train.id_35.fillna('T', inplace=True)\n",
    "train.id_36.fillna('F', inplace=True)\n",
    "train.id_37.fillna('T', inplace=True)\n",
    "train.id_38.fillna('F', inplace=True)\n",
    "train.DeviceType.fillna('desktop', inplace=True)\n",
    "train.DeviceInfo.fillna('Windows', inplace=True)\n",
    "\n",
    "\n",
    "test.card4.fillna('visa', inplace=True)\n",
    "test.card6.fillna('debit', inplace=True)\n",
    "test.P_emaildomain.fillna('gmail.com ', inplace=True)\n",
    "test.R_emaildomain.fillna('gmail.com ', inplace=True)\n",
    "test.M1.fillna('T', inplace=True)\n",
    "test.M2.fillna('T', inplace=True)\n",
    "test.M3.fillna('T', inplace=True)\n",
    "test.M4.fillna('M0', inplace=True)\n",
    "test.M5.fillna('F', inplace=True)\n",
    "test.M6.fillna('F', inplace=True)\n",
    "test.M7.fillna('F', inplace=True)\n",
    "test.M8.fillna('F', inplace=True)\n",
    "test.M9.fillna('T', inplace=True)\n",
    "# test.id-12.fillna('NotFound', inplace=True)\n",
    "# test.id-15.fillna('Found', inplace=True)\n",
    "# test.id_16.fillna('Found ', inplace=True)\n",
    "# test.id_23.fillna('IP_PROXY:TRANSPARENT', inplace=True)\n",
    "# test.id_27.fillna('Found', inplace=True)\n",
    "# test.id_28.fillna('Found', inplace=True)\n",
    "# test.id_29.fillna('Found', inplace=True)\n",
    "# test.id_30.fillna('Windows', inplace=True)\n",
    "# test.id_31.fillna('chrome 63.0', inplace=True)\n",
    "# test.id_33.fillna('1920x1080', inplace=True)\n",
    "# test.id_34.fillna('match_status:2', inplace=True)\n",
    "# test.id_35.fillna('T', inplace=True)\n",
    "# test.id_36.fillna('F', inplace=True)\n",
    "# test.id_37.fillna('T', inplace=True)\n",
    "# test.id_38.fillna('F', inplace=True)\n",
    "test.DeviceType.fillna('desktop', inplace=True)\n",
    "test.DeviceInfo.fillna('Windows', inplace=True)\n"
   ]
  },
  {
   "cell_type": "code",
   "execution_count": 38,
   "id": "8c9bb23b",
   "metadata": {
    "ExecuteTime": {
     "end_time": "2022-06-30T11:29:46.281259Z",
     "start_time": "2022-06-30T11:29:45.518853Z"
    },
    "scrolled": false
   },
   "outputs": [
    {
     "ename": "KeyError",
     "evalue": "\"['id_12', 'id_15', 'id_16', 'id_23', 'id_27', 'id_28', 'id_29', 'id_30', 'id_31', 'id_33', 'id_34', 'id_35', 'id_36', 'id_37', 'id_38'] not in index\"",
     "output_type": "error",
     "traceback": [
      "\u001b[0;31m---------------------------------------------------------------------------\u001b[0m",
      "\u001b[0;31mKeyError\u001b[0m                                  Traceback (most recent call last)",
      "Input \u001b[0;32mIn [38]\u001b[0m, in \u001b[0;36m<cell line: 1>\u001b[0;34m()\u001b[0m\n\u001b[0;32m----> 1\u001b[0m \u001b[43mtest\u001b[49m\u001b[43m[\u001b[49m\u001b[43mcategorical_features\u001b[49m\u001b[43m]\u001b[49m\u001b[38;5;241m.\u001b[39minfo()\n",
      "File \u001b[0;32m~/opt/anaconda3/envs/lhs/lib/python3.8/site-packages/pandas/core/frame.py:3511\u001b[0m, in \u001b[0;36mDataFrame.__getitem__\u001b[0;34m(self, key)\u001b[0m\n\u001b[1;32m   3509\u001b[0m     \u001b[38;5;28;01mif\u001b[39;00m is_iterator(key):\n\u001b[1;32m   3510\u001b[0m         key \u001b[38;5;241m=\u001b[39m \u001b[38;5;28mlist\u001b[39m(key)\n\u001b[0;32m-> 3511\u001b[0m     indexer \u001b[38;5;241m=\u001b[39m \u001b[38;5;28;43mself\u001b[39;49m\u001b[38;5;241;43m.\u001b[39;49m\u001b[43mcolumns\u001b[49m\u001b[38;5;241;43m.\u001b[39;49m\u001b[43m_get_indexer_strict\u001b[49m\u001b[43m(\u001b[49m\u001b[43mkey\u001b[49m\u001b[43m,\u001b[49m\u001b[43m \u001b[49m\u001b[38;5;124;43m\"\u001b[39;49m\u001b[38;5;124;43mcolumns\u001b[39;49m\u001b[38;5;124;43m\"\u001b[39;49m\u001b[43m)\u001b[49m[\u001b[38;5;241m1\u001b[39m]\n\u001b[1;32m   3513\u001b[0m \u001b[38;5;66;03m# take() does not accept boolean indexers\u001b[39;00m\n\u001b[1;32m   3514\u001b[0m \u001b[38;5;28;01mif\u001b[39;00m \u001b[38;5;28mgetattr\u001b[39m(indexer, \u001b[38;5;124m\"\u001b[39m\u001b[38;5;124mdtype\u001b[39m\u001b[38;5;124m\"\u001b[39m, \u001b[38;5;28;01mNone\u001b[39;00m) \u001b[38;5;241m==\u001b[39m \u001b[38;5;28mbool\u001b[39m:\n",
      "File \u001b[0;32m~/opt/anaconda3/envs/lhs/lib/python3.8/site-packages/pandas/core/indexes/base.py:5782\u001b[0m, in \u001b[0;36mIndex._get_indexer_strict\u001b[0;34m(self, key, axis_name)\u001b[0m\n\u001b[1;32m   5779\u001b[0m \u001b[38;5;28;01melse\u001b[39;00m:\n\u001b[1;32m   5780\u001b[0m     keyarr, indexer, new_indexer \u001b[38;5;241m=\u001b[39m \u001b[38;5;28mself\u001b[39m\u001b[38;5;241m.\u001b[39m_reindex_non_unique(keyarr)\n\u001b[0;32m-> 5782\u001b[0m \u001b[38;5;28;43mself\u001b[39;49m\u001b[38;5;241;43m.\u001b[39;49m\u001b[43m_raise_if_missing\u001b[49m\u001b[43m(\u001b[49m\u001b[43mkeyarr\u001b[49m\u001b[43m,\u001b[49m\u001b[43m \u001b[49m\u001b[43mindexer\u001b[49m\u001b[43m,\u001b[49m\u001b[43m \u001b[49m\u001b[43maxis_name\u001b[49m\u001b[43m)\u001b[49m\n\u001b[1;32m   5784\u001b[0m keyarr \u001b[38;5;241m=\u001b[39m \u001b[38;5;28mself\u001b[39m\u001b[38;5;241m.\u001b[39mtake(indexer)\n\u001b[1;32m   5785\u001b[0m \u001b[38;5;28;01mif\u001b[39;00m \u001b[38;5;28misinstance\u001b[39m(key, Index):\n\u001b[1;32m   5786\u001b[0m     \u001b[38;5;66;03m# GH 42790 - Preserve name from an Index\u001b[39;00m\n",
      "File \u001b[0;32m~/opt/anaconda3/envs/lhs/lib/python3.8/site-packages/pandas/core/indexes/base.py:5845\u001b[0m, in \u001b[0;36mIndex._raise_if_missing\u001b[0;34m(self, key, indexer, axis_name)\u001b[0m\n\u001b[1;32m   5842\u001b[0m     \u001b[38;5;28;01mraise\u001b[39;00m \u001b[38;5;167;01mKeyError\u001b[39;00m(\u001b[38;5;124mf\u001b[39m\u001b[38;5;124m\"\u001b[39m\u001b[38;5;124mNone of [\u001b[39m\u001b[38;5;132;01m{\u001b[39;00mkey\u001b[38;5;132;01m}\u001b[39;00m\u001b[38;5;124m] are in the [\u001b[39m\u001b[38;5;132;01m{\u001b[39;00maxis_name\u001b[38;5;132;01m}\u001b[39;00m\u001b[38;5;124m]\u001b[39m\u001b[38;5;124m\"\u001b[39m)\n\u001b[1;32m   5844\u001b[0m not_found \u001b[38;5;241m=\u001b[39m \u001b[38;5;28mlist\u001b[39m(ensure_index(key)[missing_mask\u001b[38;5;241m.\u001b[39mnonzero()[\u001b[38;5;241m0\u001b[39m]]\u001b[38;5;241m.\u001b[39munique())\n\u001b[0;32m-> 5845\u001b[0m \u001b[38;5;28;01mraise\u001b[39;00m \u001b[38;5;167;01mKeyError\u001b[39;00m(\u001b[38;5;124mf\u001b[39m\u001b[38;5;124m\"\u001b[39m\u001b[38;5;132;01m{\u001b[39;00mnot_found\u001b[38;5;132;01m}\u001b[39;00m\u001b[38;5;124m not in index\u001b[39m\u001b[38;5;124m\"\u001b[39m)\n",
      "\u001b[0;31mKeyError\u001b[0m: \"['id_12', 'id_15', 'id_16', 'id_23', 'id_27', 'id_28', 'id_29', 'id_30', 'id_31', 'id_33', 'id_34', 'id_35', 'id_36', 'id_37', 'id_38'] not in index\""
     ]
    }
   ],
   "source": [
    "test[categorical_features].info()"
   ]
  },
  {
   "cell_type": "code",
   "execution_count": null,
   "id": "88fc982f",
   "metadata": {
    "ExecuteTime": {
     "end_time": "2022-06-30T09:16:28.038097Z",
     "start_time": "2022-06-30T09:16:28.036596Z"
    }
   },
   "outputs": [],
   "source": [
    "# missing value 80% 이상 제거\n",
    "# (train.isnull().sum()/len(train)*100)>80"
   ]
  },
  {
   "cell_type": "code",
   "execution_count": null,
   "id": "071e6e86",
   "metadata": {
    "ExecuteTime": {
     "end_time": "2022-06-30T11:08:53.719442Z",
     "start_time": "2022-06-30T11:08:52.455559Z"
    },
    "scrolled": true
   },
   "outputs": [],
   "source": [
    "train[categorical_features].info()"
   ]
  },
  {
   "cell_type": "code",
   "execution_count": null,
   "id": "a598daf3",
   "metadata": {
    "ExecuteTime": {
     "end_time": "2022-06-30T09:16:29.257313Z",
     "start_time": "2022-06-30T09:16:29.254687Z"
    }
   },
   "outputs": [],
   "source": [
    "# missing value 채우기\n",
    "train[numerical_features].fillna(-999, inplace=True)\n",
    "test[numerical_features]fillna(-999, inplace=True)\n",
    "\n",
    "# 촌나 빨리되네.."
   ]
  },
  {
   "cell_type": "code",
   "execution_count": null,
   "id": "cd9a736a",
   "metadata": {
    "ExecuteTime": {
     "end_time": "2022-06-30T11:21:59.859555Z",
     "start_time": "2022-06-30T11:21:59.698582Z"
    }
   },
   "outputs": [],
   "source": [
    "test.select_dtypes('object')"
   ]
  },
  {
   "cell_type": "code",
   "execution_count": 42,
   "id": "6dae0ebb",
   "metadata": {
    "ExecuteTime": {
     "end_time": "2022-06-30T11:31:06.344239Z",
     "start_time": "2022-06-30T11:31:01.792936Z"
    }
   },
   "outputs": [
    {
     "ename": "KeyError",
     "evalue": "'id_12'",
     "output_type": "error",
     "traceback": [
      "\u001b[0;31m---------------------------------------------------------------------------\u001b[0m",
      "\u001b[0;31mKeyError\u001b[0m                                  Traceback (most recent call last)",
      "File \u001b[0;32m~/opt/anaconda3/envs/lhs/lib/python3.8/site-packages/pandas/core/indexes/base.py:3621\u001b[0m, in \u001b[0;36mIndex.get_loc\u001b[0;34m(self, key, method, tolerance)\u001b[0m\n\u001b[1;32m   3620\u001b[0m \u001b[38;5;28;01mtry\u001b[39;00m:\n\u001b[0;32m-> 3621\u001b[0m     \u001b[38;5;28;01mreturn\u001b[39;00m \u001b[38;5;28;43mself\u001b[39;49m\u001b[38;5;241;43m.\u001b[39;49m\u001b[43m_engine\u001b[49m\u001b[38;5;241;43m.\u001b[39;49m\u001b[43mget_loc\u001b[49m\u001b[43m(\u001b[49m\u001b[43mcasted_key\u001b[49m\u001b[43m)\u001b[49m\n\u001b[1;32m   3622\u001b[0m \u001b[38;5;28;01mexcept\u001b[39;00m \u001b[38;5;167;01mKeyError\u001b[39;00m \u001b[38;5;28;01mas\u001b[39;00m err:\n",
      "File \u001b[0;32m~/opt/anaconda3/envs/lhs/lib/python3.8/site-packages/pandas/_libs/index.pyx:136\u001b[0m, in \u001b[0;36mpandas._libs.index.IndexEngine.get_loc\u001b[0;34m()\u001b[0m\n",
      "File \u001b[0;32m~/opt/anaconda3/envs/lhs/lib/python3.8/site-packages/pandas/_libs/index.pyx:163\u001b[0m, in \u001b[0;36mpandas._libs.index.IndexEngine.get_loc\u001b[0;34m()\u001b[0m\n",
      "File \u001b[0;32mpandas/_libs/hashtable_class_helper.pxi:5198\u001b[0m, in \u001b[0;36mpandas._libs.hashtable.PyObjectHashTable.get_item\u001b[0;34m()\u001b[0m\n",
      "File \u001b[0;32mpandas/_libs/hashtable_class_helper.pxi:5206\u001b[0m, in \u001b[0;36mpandas._libs.hashtable.PyObjectHashTable.get_item\u001b[0;34m()\u001b[0m\n",
      "\u001b[0;31mKeyError\u001b[0m: 'id_12'",
      "\nThe above exception was the direct cause of the following exception:\n",
      "\u001b[0;31mKeyError\u001b[0m                                  Traceback (most recent call last)",
      "Input \u001b[0;32mIn [42]\u001b[0m, in \u001b[0;36m<cell line: 17>\u001b[0;34m()\u001b[0m\n\u001b[1;32m     18\u001b[0m     i \u001b[38;5;241m+\u001b[39m\u001b[38;5;241m=\u001b[39m \u001b[38;5;241m1\u001b[39m\n\u001b[1;32m     19\u001b[0m     encoder \u001b[38;5;241m=\u001b[39m LabelEncoder()\n\u001b[0;32m---> 20\u001b[0m     encoder\u001b[38;5;241m.\u001b[39mfit(\u001b[43mtest\u001b[49m\u001b[43m[\u001b[49m\u001b[43mcategorical_features\u001b[49m\u001b[43m[\u001b[49m\u001b[43mi\u001b[49m\u001b[38;5;241;43m-\u001b[39;49m\u001b[38;5;241;43m1\u001b[39;49m\u001b[43m]\u001b[49m\u001b[43m]\u001b[49m)\n\u001b[1;32m     21\u001b[0m     test[categorical_features[i\u001b[38;5;241m-\u001b[39m\u001b[38;5;241m1\u001b[39m]] \u001b[38;5;241m=\u001b[39m encoder\u001b[38;5;241m.\u001b[39mtransform(test[categorical_features[i\u001b[38;5;241m-\u001b[39m\u001b[38;5;241m1\u001b[39m]])\n\u001b[1;32m     23\u001b[0m y \u001b[38;5;241m=\u001b[39m train\u001b[38;5;241m.\u001b[39misFraud\n",
      "File \u001b[0;32m~/opt/anaconda3/envs/lhs/lib/python3.8/site-packages/pandas/core/frame.py:3505\u001b[0m, in \u001b[0;36mDataFrame.__getitem__\u001b[0;34m(self, key)\u001b[0m\n\u001b[1;32m   3503\u001b[0m \u001b[38;5;28;01mif\u001b[39;00m \u001b[38;5;28mself\u001b[39m\u001b[38;5;241m.\u001b[39mcolumns\u001b[38;5;241m.\u001b[39mnlevels \u001b[38;5;241m>\u001b[39m \u001b[38;5;241m1\u001b[39m:\n\u001b[1;32m   3504\u001b[0m     \u001b[38;5;28;01mreturn\u001b[39;00m \u001b[38;5;28mself\u001b[39m\u001b[38;5;241m.\u001b[39m_getitem_multilevel(key)\n\u001b[0;32m-> 3505\u001b[0m indexer \u001b[38;5;241m=\u001b[39m \u001b[38;5;28;43mself\u001b[39;49m\u001b[38;5;241;43m.\u001b[39;49m\u001b[43mcolumns\u001b[49m\u001b[38;5;241;43m.\u001b[39;49m\u001b[43mget_loc\u001b[49m\u001b[43m(\u001b[49m\u001b[43mkey\u001b[49m\u001b[43m)\u001b[49m\n\u001b[1;32m   3506\u001b[0m \u001b[38;5;28;01mif\u001b[39;00m is_integer(indexer):\n\u001b[1;32m   3507\u001b[0m     indexer \u001b[38;5;241m=\u001b[39m [indexer]\n",
      "File \u001b[0;32m~/opt/anaconda3/envs/lhs/lib/python3.8/site-packages/pandas/core/indexes/base.py:3623\u001b[0m, in \u001b[0;36mIndex.get_loc\u001b[0;34m(self, key, method, tolerance)\u001b[0m\n\u001b[1;32m   3621\u001b[0m     \u001b[38;5;28;01mreturn\u001b[39;00m \u001b[38;5;28mself\u001b[39m\u001b[38;5;241m.\u001b[39m_engine\u001b[38;5;241m.\u001b[39mget_loc(casted_key)\n\u001b[1;32m   3622\u001b[0m \u001b[38;5;28;01mexcept\u001b[39;00m \u001b[38;5;167;01mKeyError\u001b[39;00m \u001b[38;5;28;01mas\u001b[39;00m err:\n\u001b[0;32m-> 3623\u001b[0m     \u001b[38;5;28;01mraise\u001b[39;00m \u001b[38;5;167;01mKeyError\u001b[39;00m(key) \u001b[38;5;28;01mfrom\u001b[39;00m \u001b[38;5;21;01merr\u001b[39;00m\n\u001b[1;32m   3624\u001b[0m \u001b[38;5;28;01mexcept\u001b[39;00m \u001b[38;5;167;01mTypeError\u001b[39;00m:\n\u001b[1;32m   3625\u001b[0m     \u001b[38;5;66;03m# If we have a listlike key, _check_indexing_error will raise\u001b[39;00m\n\u001b[1;32m   3626\u001b[0m     \u001b[38;5;66;03m#  InvalidIndexError. Otherwise we fall through and re-raise\u001b[39;00m\n\u001b[1;32m   3627\u001b[0m     \u001b[38;5;66;03m#  the TypeError.\u001b[39;00m\n\u001b[1;32m   3628\u001b[0m     \u001b[38;5;28mself\u001b[39m\u001b[38;5;241m.\u001b[39m_check_indexing_error(key)\n",
      "\u001b[0;31mKeyError\u001b[0m: 'id_12'"
     ]
    }
   ],
   "source": [
    "# feature engineering을 위해 tempX, y 생성\n",
    "## train / test (public LB) validation 느낌   //  private LB (winner)  ((test))\n",
    "from sklearn.preprocessing import LabelEncoder\n",
    "\n",
    "total = pd.concat([train, test])   # feature engineering에 train, test 데이터를 모두 담아서 한번에 하기 위해서 total 생성!\n",
    "split_point = len(train)\n",
    "# categorical data가 뭔지 모르기 때문에 ordinal encoding 쓰나 one-hot encoding 상관없지만\n",
    "# one-hot encoding을 하니 컬럼이 너무 많아져서\n",
    "# total_OHE = pd.get_dummies(data=total, columns=categorical_features)  \n",
    "# Label Encoding 시도\n",
    "for i in range(31):\n",
    "    i += 1\n",
    "    encoder = LabelEncoder()\n",
    "    encoder.fit(train[categorical_features[i-1]])\n",
    "    train[categorical_features[i-1]] = encoder.transform(train[categorical_features[i-1]])\n",
    "    \n",
    "# for i in range(31):\n",
    "#     i += 1\n",
    "#     encoder = LabelEncoder()\n",
    "#     encoder.fit(test[categorical_features[i-1]])\n",
    "#     test[categorical_features[i-1]] = encoder.transform(test[categorical_features[i-1]])\n",
    "\n",
    "y = train.isFraud\n",
    "# tempX = total_OHE.drop(columns=[\"TransactionID\", \"isFraud\"])\n",
    "tempX = total.drop(columns=[\"TransactionID\", \"isFraud\"])\n",
    "# tempX = tempX.drop(columns=card1)\n",
    "trainX = tempX[:split_point]\n",
    "testX = tempX[split_point:]\n",
    "print(trainX.shape, testX.shape, y.shape)\n",
    "\n"
   ]
  },
  {
   "cell_type": "code",
   "execution_count": 43,
   "id": "114b314d",
   "metadata": {
    "ExecuteTime": {
     "end_time": "2022-06-30T11:31:29.032573Z",
     "start_time": "2022-06-30T11:31:29.007573Z"
    }
   },
   "outputs": [],
   "source": [
    "# 1. correlation\n",
    "\n",
    "# 중복정보가 있는 column 제거하기 위해 상관계수를 확인해봅니다.\n",
    "def remove_collinearity(X, threshold):\n",
    "    \"\"\"\n",
    "    X : feature matrix\n",
    "    threshold : 다중공선성을 제거할 column을 고르는 기준 값. [0, 1]\n",
    "    \"\"\"\n",
    "    \n",
    "    corr = X.corr()\n",
    "    candidate_cols = []\n",
    "    \n",
    "    for x in corr.iterrows():\n",
    "        idx, row = x[0], x[1] # decoupling tuple\n",
    "        # 해당 row는 이미 처리가 되어서 볼 필요가 없다.\n",
    "        if idx in candidate_cols:\n",
    "            continue\n",
    "        #print(row[row > 0.7].index[1:])\n",
    "        candidates = row[row > threshold].index[1:]\n",
    "\n",
    "        # 자기 자신을 제외하고 threshold를 넘는 column이 있다면,\n",
    "        if len(candidates) != 0:\n",
    "            for col in candidates:\n",
    "                candidate_cols.append(col)           \n",
    "    \n",
    "    return candidate_cols\n",
    "\n",
    "def find_feature_importance(X, model, show_plot):\n",
    "\n",
    "    feat_names = X.columns.values\n",
    "    importances = model.feature_importances_\n",
    "    std = np.std([tree.feature_importances_ for tree in model.estimators_], axis=0)\n",
    "    indices = np.argsort(importances)[::-1][:20]\n",
    "\n",
    "    plt.figure(figsize=(12,12))\n",
    "    plt.title(\"Feature importances\")\n",
    "    plt.bar(range(len(indices)), importances[indices], color=\"r\", align=\"center\")\n",
    "    plt.xticks(range(len(indices)), feat_names[indices], rotation='vertical')\n",
    "    plt.xlim([-1, len(indices)])\n",
    "    plt.show()\n",
    "    \n",
    "    important_features = X.columns[importances >= 0.005]\n",
    "    \n",
    "    return important_features\n",
    "    \n",
    "def apply_PCA(X, show_plot):\n",
    "    from sklearn.decomposition import PCA\n",
    "    # training data와 test data를 모두 PCA를 이용하여 차원 감소를 수행합니다.\n",
    "    pca = PCA(n_components=0.90) # 원래 데이터의 90%를 보존하는 차원.\n",
    "    pca_090 = pca.fit(X) # 학습 및 변환\n",
    "    reduced_X = pca_090.transform(X)\n",
    "    print(reduced_X.shape)\n",
    "    \n",
    "    if show_plot:\n",
    "        labels = [f\"PC{x}\" for x in range(1, reduced_X.shape[1]+1)]\n",
    "        pca_090_variance = np.round(pca_090.explained_variance_ratio_.cumsum()*100, decimals=1)\n",
    "        plt.figure(figsize=(25,5))\n",
    "        plt.bar(x=range(1, len(pca_090_variance)+1), height=pca_090_variance, tick_label=labels)\n",
    "\n",
    "        plt.xticks(rotation=90, color='indigo', size=15)\n",
    "        plt.yticks(rotation=0, color='indigo', size=15)\n",
    "        plt.title('Scree Plot',color='tab:orange', fontsize=25)\n",
    "        plt.xlabel('Principal Components', {'color': 'tab:orange', 'fontsize':15})\n",
    "        plt.ylabel('Cumulative percentage of explained variance ', {'color': 'tab:orange', 'fontsize':15})\n",
    "        plt.show()\n",
    "        \n",
    "        X_train_pca_df = pd.DataFrame(reduced_X, columns=labels)\n",
    "        display(X_train_pca_df)\n",
    "\n",
    "    return pca_090, X_train_pca_df"
   ]
  },
  {
   "cell_type": "code",
   "execution_count": 50,
   "id": "198c4f32",
   "metadata": {
    "ExecuteTime": {
     "end_time": "2022-06-30T11:38:35.437590Z",
     "start_time": "2022-06-30T11:38:35.432188Z"
    }
   },
   "outputs": [],
   "source": [
    "# flag setting\n",
    "feature_reducing = \"feature_importance\" # \"correlation\" / \"feature_importance\" / \"PCA\""
   ]
  },
  {
   "cell_type": "code",
   "execution_count": 45,
   "id": "6d6bfc67",
   "metadata": {
    "ExecuteTime": {
     "end_time": "2022-06-30T11:31:56.589718Z",
     "start_time": "2022-06-30T11:31:42.747102Z"
    },
    "scrolled": true
   },
   "outputs": [
    {
     "name": "stdout",
     "output_type": "stream",
     "text": [
      "TransactionDT          0\n",
      "TransactionAmt         0\n",
      "ProductCD              0\n",
      "card1                  0\n",
      "card2               8933\n",
      "card3               1565\n",
      "card4                  0\n",
      "card5               4259\n",
      "card6                  0\n",
      "addr1              65706\n",
      "addr2              65706\n",
      "dist1             352271\n",
      "dist2             552913\n",
      "P_emaildomain          0\n",
      "R_emaildomain          0\n",
      "C1                     0\n",
      "C2                     0\n",
      "C3                     0\n",
      "C4                     0\n",
      "C5                     0\n",
      "C6                     0\n",
      "C7                     0\n",
      "C8                     0\n",
      "C9                     0\n",
      "C10                    0\n",
      "C11                    0\n",
      "C12                    0\n",
      "C13                    0\n",
      "C14                    0\n",
      "D1                  1269\n",
      "D2                280797\n",
      "D3                262878\n",
      "D4                168922\n",
      "D5                309841\n",
      "D6                517353\n",
      "D7                551623\n",
      "D8                515614\n",
      "D9                515614\n",
      "D10                76022\n",
      "D11               279287\n",
      "D12               525823\n",
      "D13               528588\n",
      "D14               528353\n",
      "D15                89113\n",
      "M1                     0\n",
      "M2                     0\n",
      "M3                     0\n",
      "M4                     0\n",
      "M5                     0\n",
      "M6                     0\n",
      "dtype: int64\n",
      " \n",
      "M7          0\n",
      "M8          0\n",
      "M9          0\n",
      "V1     279287\n",
      "V2     279287\n",
      "V3     279287\n",
      "V4     279287\n",
      "V5     279287\n",
      "V6     279287\n",
      "V7     279287\n",
      "V8     279287\n",
      "V9     279287\n",
      "V10    279287\n",
      "V11    279287\n",
      "V12     76073\n",
      "V13     76073\n",
      "V14     76073\n",
      "V15     76073\n",
      "V16     76073\n",
      "V17     76073\n",
      "V18     76073\n",
      "V19     76073\n",
      "V20     76073\n",
      "V21     76073\n",
      "V22     76073\n",
      "V23     76073\n",
      "V24     76073\n",
      "V25     76073\n",
      "V26     76073\n",
      "V27     76073\n",
      "V28     76073\n",
      "V29     76073\n",
      "V30     76073\n",
      "V31     76073\n",
      "V32     76073\n",
      "V33     76073\n",
      "V34     76073\n",
      "V35    168969\n",
      "V36    168969\n",
      "V37    168969\n",
      "V38    168969\n",
      "V39    168969\n",
      "V40    168969\n",
      "V41    168969\n",
      "V42    168969\n",
      "V43    168969\n",
      "V44    168969\n",
      "V45    168969\n",
      "V46    168969\n",
      "V47    168969\n",
      "dtype: int64\n",
      " \n",
      "V48    168969\n",
      "V49    168969\n",
      "V50    168969\n",
      "V51    168969\n",
      "V52    168969\n",
      "V53     77096\n",
      "V54     77096\n",
      "V55     77096\n",
      "V56     77096\n",
      "V57     77096\n",
      "V58     77096\n",
      "V59     77096\n",
      "V60     77096\n",
      "V61     77096\n",
      "V62     77096\n",
      "V63     77096\n",
      "V64     77096\n",
      "V65     77096\n",
      "V66     77096\n",
      "V67     77096\n",
      "V68     77096\n",
      "V69     77096\n",
      "V70     77096\n",
      "V71     77096\n",
      "V72     77096\n",
      "V73     77096\n",
      "V74     77096\n",
      "V75     89164\n",
      "V76     89164\n",
      "V77     89164\n",
      "V78     89164\n",
      "V79     89164\n",
      "V80     89164\n",
      "V81     89164\n",
      "V82     89164\n",
      "V83     89164\n",
      "V84     89164\n",
      "V85     89164\n",
      "V86     89164\n",
      "V87     89164\n",
      "V88     89164\n",
      "V89     89164\n",
      "V90     89164\n",
      "V91     89164\n",
      "V92     89164\n",
      "V93     89164\n",
      "V94     89164\n",
      "V95       314\n",
      "V96       314\n",
      "V97       314\n",
      "dtype: int64\n",
      " \n",
      "V98        314\n",
      "V99        314\n",
      "V100       314\n",
      "V101       314\n",
      "V102       314\n",
      "V103       314\n",
      "V104       314\n",
      "V105       314\n",
      "V106       314\n",
      "V107       314\n",
      "V108       314\n",
      "V109       314\n",
      "V110       314\n",
      "V111       314\n",
      "V112       314\n",
      "V113       314\n",
      "V114       314\n",
      "V115       314\n",
      "V116       314\n",
      "V117       314\n",
      "V118       314\n",
      "V119       314\n",
      "V120       314\n",
      "V121       314\n",
      "V122       314\n",
      "V123       314\n",
      "V124       314\n",
      "V125       314\n",
      "V126       314\n",
      "V127       314\n",
      "V128       314\n",
      "V129       314\n",
      "V130       314\n",
      "V131       314\n",
      "V132       314\n",
      "V133       314\n",
      "V134       314\n",
      "V135       314\n",
      "V136       314\n",
      "V137       314\n",
      "V138    508595\n",
      "V139    508595\n",
      "V140    508595\n",
      "V141    508595\n",
      "V142    508595\n",
      "V143    508589\n",
      "V144    508589\n",
      "V145    508589\n",
      "V146    508595\n",
      "V147    508595\n",
      "dtype: int64\n",
      " \n",
      "V148    508595\n",
      "V149    508595\n",
      "V150    508589\n",
      "V151    508589\n",
      "V152    508589\n",
      "V153    508595\n",
      "V154    508595\n",
      "V155    508595\n",
      "V156    508595\n",
      "V157    508595\n",
      "V158    508595\n",
      "V159    508589\n",
      "V160    508589\n",
      "V161    508595\n",
      "V162    508595\n",
      "V163    508595\n",
      "V164    508589\n",
      "V165    508589\n",
      "V166    508589\n",
      "V167    450909\n",
      "V168    450909\n",
      "V169    450721\n",
      "V170    450721\n",
      "V171    450721\n",
      "V172    450909\n",
      "V173    450909\n",
      "V174    450721\n",
      "V175    450721\n",
      "V176    450909\n",
      "V177    450909\n",
      "V178    450909\n",
      "V179    450909\n",
      "V180    450721\n",
      "V181    450909\n",
      "V182    450909\n",
      "V183    450909\n",
      "V184    450721\n",
      "V185    450721\n",
      "V186    450909\n",
      "V187    450909\n",
      "V188    450721\n",
      "V189    450721\n",
      "V190    450909\n",
      "V191    450909\n",
      "V192    450909\n",
      "V193    450909\n",
      "V194    450721\n",
      "V195    450721\n",
      "V196    450909\n",
      "V197    450721\n",
      "dtype: int64\n",
      " \n",
      "V198    450721\n",
      "V199    450909\n",
      "V200    450721\n",
      "V201    450721\n",
      "V202    450909\n",
      "V203    450909\n",
      "V204    450909\n",
      "V205    450909\n",
      "V206    450909\n",
      "V207    450909\n",
      "V208    450721\n",
      "V209    450721\n",
      "V210    450721\n",
      "V211    450909\n",
      "V212    450909\n",
      "V213    450909\n",
      "V214    450909\n",
      "V215    450909\n",
      "V216    450909\n",
      "V217    460110\n",
      "V218    460110\n",
      "V219    460110\n",
      "V220    449124\n",
      "V221    449124\n",
      "V222    449124\n",
      "V223    460110\n",
      "V224    460110\n",
      "V225    460110\n",
      "V226    460110\n",
      "V227    449124\n",
      "V228    460110\n",
      "V229    460110\n",
      "V230    460110\n",
      "V231    460110\n",
      "V232    460110\n",
      "V233    460110\n",
      "V234    449124\n",
      "V235    460110\n",
      "V236    460110\n",
      "V237    460110\n",
      "V238    449124\n",
      "V239    449124\n",
      "V240    460110\n",
      "V241    460110\n",
      "V242    460110\n",
      "V243    460110\n",
      "V244    460110\n",
      "V245    449124\n",
      "V246    460110\n",
      "V247    460110\n",
      "dtype: int64\n",
      " \n",
      "V248    460110\n",
      "V249    460110\n",
      "V250    449124\n",
      "V251    449124\n",
      "V252    460110\n",
      "V253    460110\n",
      "V254    460110\n",
      "V255    449124\n",
      "V256    449124\n",
      "V257    460110\n",
      "V258    460110\n",
      "V259    449124\n",
      "V260    460110\n",
      "V261    460110\n",
      "V262    460110\n",
      "V263    460110\n",
      "V264    460110\n",
      "V265    460110\n",
      "V266    460110\n",
      "V267    460110\n",
      "V268    460110\n",
      "V269    460110\n",
      "V270    449124\n",
      "V271    449124\n",
      "V272    449124\n",
      "V273    460110\n",
      "V274    460110\n",
      "V275    460110\n",
      "V276    460110\n",
      "V277    460110\n",
      "V278    460110\n",
      "V279        12\n",
      "V280        12\n",
      "V281      1269\n",
      "V282      1269\n",
      "V283      1269\n",
      "V284        12\n",
      "V285        12\n",
      "V286        12\n",
      "V287        12\n",
      "V288      1269\n",
      "V289      1269\n",
      "V290        12\n",
      "V291        12\n",
      "V292        12\n",
      "V293        12\n",
      "V294        12\n",
      "V295        12\n",
      "V296      1269\n",
      "V297        12\n",
      "dtype: int64\n",
      " \n",
      "V298         12\n",
      "V299         12\n",
      "V300       1269\n",
      "V301       1269\n",
      "V302         12\n",
      "V303         12\n",
      "V304         12\n",
      "V305         12\n",
      "V306         12\n",
      "V307         12\n",
      "V308         12\n",
      "V309         12\n",
      "V310         12\n",
      "V311         12\n",
      "V312         12\n",
      "V313       1269\n",
      "V314       1269\n",
      "V315       1269\n",
      "V316         12\n",
      "V317         12\n",
      "V318         12\n",
      "V319         12\n",
      "V320         12\n",
      "V321         12\n",
      "V322     508189\n",
      "V323     508189\n",
      "V324     508189\n",
      "V325     508189\n",
      "V326     508189\n",
      "V327     508189\n",
      "V328     508189\n",
      "V329     508189\n",
      "V330     508189\n",
      "V331     508189\n",
      "V332     508189\n",
      "V333     508189\n",
      "V334     508189\n",
      "V335     508189\n",
      "V336     508189\n",
      "V337     508189\n",
      "V338     508189\n",
      "V339     508189\n",
      "id_01    446307\n",
      "id_02    449668\n",
      "id_03    524216\n",
      "id_04    524216\n",
      "id_05    453675\n",
      "id_06    453675\n",
      "id_07    585385\n",
      "id_08    585385\n",
      "dtype: int64\n",
      " \n",
      "id_09         515614\n",
      "id_10         515614\n",
      "id_11         449562\n",
      "id_12              0\n",
      "id_13         463220\n",
      "id_14         510496\n",
      "id_15              0\n",
      "id_16              0\n",
      "id_17         451171\n",
      "id_18         545427\n",
      "id_19         451222\n",
      "id_20         451279\n",
      "id_21         585381\n",
      "id_22         585371\n",
      "id_23              0\n",
      "id_24         585793\n",
      "id_25         585408\n",
      "id_26         585377\n",
      "id_27              0\n",
      "id_28              0\n",
      "id_29              0\n",
      "id_30              0\n",
      "id_31              0\n",
      "id_32         512954\n",
      "id_33              0\n",
      "id_34              0\n",
      "id_35              0\n",
      "id_36              0\n",
      "id_37              0\n",
      "id_38              0\n",
      "DeviceType         0\n",
      "DeviceInfo         0\n",
      "id-01         590540\n",
      "id-02         590540\n",
      "id-03         590540\n",
      "id-04         590540\n",
      "id-05         590540\n",
      "id-06         590540\n",
      "id-07         590540\n",
      "id-08         590540\n",
      "id-09         590540\n",
      "id-10         590540\n",
      "id-11         590540\n",
      "id-12         590540\n",
      "id-13         590540\n",
      "id-14         590540\n",
      "id-15         590540\n",
      "id-16         590540\n",
      "id-17         590540\n",
      "id-18         590540\n",
      "dtype: int64\n",
      " \n",
      "id-19    590540\n",
      "id-20    590540\n",
      "id-21    590540\n",
      "id-22    590540\n",
      "id-23    590540\n",
      "id-24    590540\n",
      "id-25    590540\n",
      "id-26    590540\n",
      "id-27    590540\n",
      "id-28    590540\n",
      "id-29    590540\n",
      "id-30    590540\n",
      "id-31    590540\n",
      "id-32    590540\n",
      "id-33    590540\n",
      "id-34    590540\n",
      "id-35    590540\n",
      "id-36    590540\n",
      "id-37    590540\n",
      "id-38    590540\n",
      "dtype: int64\n",
      " \n"
     ]
    }
   ],
   "source": [
    "for i in range(10):\n",
    "    i += 1\n",
    "    print(trainX.isnull().sum()[(i-1)*50 : i*50])\n",
    "    print(' ')"
   ]
  },
  {
   "cell_type": "code",
   "execution_count": 46,
   "id": "77ac49b0",
   "metadata": {
    "ExecuteTime": {
     "end_time": "2022-06-30T11:32:30.883014Z",
     "start_time": "2022-06-30T11:32:26.819538Z"
    },
    "scrolled": true
   },
   "outputs": [
    {
     "name": "stderr",
     "output_type": "stream",
     "text": [
      "/var/folders/p9/rqr7k68d4zsb31fs5zkgqnwh0000gn/T/ipykernel_3619/3890869156.py:1: SettingWithCopyWarning: \n",
      "A value is trying to be set on a copy of a slice from a DataFrame\n",
      "\n",
      "See the caveats in the documentation: https://pandas.pydata.org/pandas-docs/stable/user_guide/indexing.html#returning-a-view-versus-a-copy\n",
      "  trainX.fillna(-999, inplace=True)\n"
     ]
    }
   ],
   "source": [
    "trainX.fillna(-999, inplace=True)"
   ]
  },
  {
   "cell_type": "code",
   "execution_count": 51,
   "id": "d2b51c4f",
   "metadata": {
    "ExecuteTime": {
     "end_time": "2022-06-30T11:39:55.373971Z",
     "start_time": "2022-06-30T11:38:36.667989Z"
    }
   },
   "outputs": [
    {
     "data": {
      "image/png": "[encoded data removed]",
      "text/plain": [
       "<Figure size 864x864 with 1 Axes>"
      ]
     },
     "metadata": {
      "needs_background": "light"
     },
     "output_type": "display_data"
    },
    {
     "name": "stdout",
     "output_type": "stream",
     "text": [
      "(590540, 48)\n"
     ]
    }
   ],
   "source": [
    "# PCA 적용\n",
    "if feature_reducing == \"correlation\":\n",
    "    threshold = 0.7\n",
    "    correlated_features = remove_collinearity(trainX, threshold)\n",
    "    correlated_features = set(correlated_features) # 중복 제거\n",
    "    print(\"%d Correlation features over %.2f\" % (len(correlated_features), threshold))\n",
    "    \n",
    "    X = trainX.drop(columns=correlated_features)\n",
    "    print(X.shape)\n",
    "    \n",
    "elif feature_reducing == \"feature_importance\":\n",
    "    show_plot = True\n",
    "    model = RandomForestRegressor(max_features=\"sqrt\", n_jobs=-1, random_state=0xC0FFEE)\n",
    "    model.fit(trainX, y)\n",
    "    important_features = find_feature_importance(trainX, model, show_plot)\n",
    "    X = trainX[important_features]\n",
    "    print(X.shape)\n",
    "    \n",
    "elif feature_reducing == \"PCA\":\n",
    "    show_plot = True\n",
    "    pca_model, X = apply_PCA(trainX, show_plot)\n",
    "    print(X.shape)"
   ]
  },
  {
   "cell_type": "code",
   "execution_count": 52,
   "id": "2a6c35c7",
   "metadata": {
    "ExecuteTime": {
     "end_time": "2022-06-30T11:41:11.313211Z",
     "start_time": "2022-06-30T11:41:11.176630Z"
    }
   },
   "outputs": [
    {
     "name": "stdout",
     "output_type": "stream",
     "text": [
      "(531486, 48) (59054, 48) (531486,) (59054,)\n"
     ]
    }
   ],
   "source": [
    "# 첫번째 테스트용으로 사용하고, 실제 학습시에는 K-Fold CV를 사용합니다.\n",
    "from sklearn.model_selection import train_test_split\n",
    "\n",
    "X_train, X_test, y_train, y_test = train_test_split(X, y, test_size=0.1, random_state=0xC0FFEE)\n",
    "print(X_train.shape, X_test.shape, y_train.shape, y_test.shape)"
   ]
  },
  {
   "cell_type": "code",
   "execution_count": 53,
   "id": "3f35f400",
   "metadata": {
    "ExecuteTime": {
     "end_time": "2022-06-30T11:42:59.613694Z",
     "start_time": "2022-06-30T11:42:29.756892Z"
    }
   },
   "outputs": [
    {
     "name": "stdout",
     "output_type": "stream",
     "text": [
      "\n",
      "Fitting Random Forest...\n"
     ]
    },
    {
     "data": {
      "text/plain": [
       "RandomForestRegressor(max_features='sqrt', n_jobs=-1)"
      ]
     },
     "execution_count": 53,
     "metadata": {},
     "output_type": "execute_result"
    }
   ],
   "source": [
    "print(\"\\nFitting Random Forest...\")\n",
    "model = RandomForestRegressor(max_features='sqrt', n_jobs=-1)\n",
    "model.fit(X_train, y_train)"
   ]
  },
  {
   "cell_type": "code",
   "execution_count": 54,
   "id": "f26cb223",
   "metadata": {
    "ExecuteTime": {
     "end_time": "2022-06-30T11:42:59.615944Z",
     "start_time": "2022-06-30T11:42:59.614605Z"
    }
   },
   "outputs": [],
   "source": [
    "from sklearn.metrics import r2_score\n",
    "evaluation_metric = r2_score"
   ]
  },
  {
   "cell_type": "code",
   "execution_count": 55,
   "id": "df1fd767",
   "metadata": {
    "ExecuteTime": {
     "end_time": "2022-06-30T11:43:01.616704Z",
     "start_time": "2022-06-30T11:42:59.616469Z"
    }
   },
   "outputs": [
    {
     "name": "stdout",
     "output_type": "stream",
     "text": [
      "Prediction\n",
      "Train Score : 0.9372\n",
      "Test Score : 0.5461\n"
     ]
    }
   ],
   "source": [
    "print(\"Prediction\")\n",
    "pred_train = model.predict(X_train)\n",
    "pred_test = model.predict(X_test)\n",
    "\n",
    "\n",
    "train_score = evaluation_metric(y_train, pred_train)\n",
    "test_score = evaluation_metric(y_test, pred_test)\n",
    "\n",
    "print(\"Train Score : %.4f\" % train_score)\n",
    "print(\"Test Score : %.4f\" % test_score)"
   ]
  },
  {
   "cell_type": "code",
   "execution_count": 58,
   "id": "0d849adc",
   "metadata": {
    "ExecuteTime": {
     "end_time": "2022-06-30T11:44:13.848456Z",
     "start_time": "2022-06-30T11:44:13.839885Z"
    }
   },
   "outputs": [],
   "source": [
    "# For Regression\n",
    "\n",
    "def optimizer(trial, X, y, K):\n",
    "    # 조절할 hyper-parameter 조합을 적어줍니다.\n",
    "    n_estimators = trial.suggest_int(\"n_estimators\", 50, 200)\n",
    "    max_depth = trial.suggest_int(\"max_depth\", 8, 30)\n",
    "    max_features = trial.suggest_categorical(\"max_features\", ['auto', 'sqrt', 'log2'])\n",
    "    \n",
    "    \n",
    "    # 원하는 모델을 지정합니다, optuna는 시간이 오래걸리기 때문에 저는 보통 RF로 일단 테스트를 해본 뒤에 LGBM을 사용합니다.\n",
    "    model = RandomForestRegressor(n_estimators=n_estimators,\n",
    "                                  max_depth=max_depth,\n",
    "                                  max_features=max_features,\n",
    "                                  n_jobs=-1,\n",
    "                                  random_state=0xC0FFEE)\n",
    "    \n",
    "    \n",
    "    # K-Fold Cross validation을 구현합니다.\n",
    "    folds = KFold(n_splits=K)\n",
    "    scores = []\n",
    "    \n",
    "    for train_idx, val_idx in folds.split(X, y):\n",
    "        X_train = X.iloc[train_idx, :]\n",
    "        y_train = y.iloc[train_idx]\n",
    "        \n",
    "        X_val = X.iloc[val_idx, :]\n",
    "        y_val = y.iloc[val_idx]\n",
    "        \n",
    "        model.fit(X_train, y_train)\n",
    "        preds = model.predict(X_val)\n",
    "        score = evaluation_metric(y_val, preds)\n",
    "        scores.append(score)\n",
    "    \n",
    "    \n",
    "    # K-Fold의 평균 loss값을 돌려줍니다.\n",
    "    return np.mean(scores)"
   ]
  },
  {
   "cell_type": "code",
   "execution_count": 60,
   "id": "c887069e",
   "metadata": {
    "ExecuteTime": {
     "end_time": "2022-06-30T11:56:05.460049Z",
     "start_time": "2022-06-30T11:47:48.417964Z"
    }
   },
   "outputs": [
    {
     "name": "stderr",
     "output_type": "stream",
     "text": [
      "\u001b[32m[I 2022-06-30 20:47:48,420]\u001b[0m A new study created in memory with name: RF\u001b[0m\n",
      "\u001b[32m[I 2022-06-30 20:50:12,664]\u001b[0m Trial 0 finished with value: 0.5141127198685691 and parameters: {'n_estimators': 142, 'max_depth': 25, 'max_features': 'sqrt'}. Best is trial 0 with value: 0.5141127198685691.\u001b[0m\n",
      "\u001b[32m[I 2022-06-30 20:51:18,554]\u001b[0m Trial 1 finished with value: 0.36896970719551686 and parameters: {'n_estimators': 121, 'max_depth': 12, 'max_features': 'sqrt'}. Best is trial 0 with value: 0.5141127198685691.\u001b[0m\n",
      "\u001b[32m[I 2022-06-30 20:52:47,887]\u001b[0m Trial 2 finished with value: 0.35135081847709204 and parameters: {'n_estimators': 182, 'max_depth': 11, 'max_features': 'sqrt'}. Best is trial 0 with value: 0.5141127198685691.\u001b[0m\n",
      "\u001b[32m[I 2022-06-30 20:53:59,666]\u001b[0m Trial 3 finished with value: 0.3693005304952619 and parameters: {'n_estimators': 138, 'max_depth': 12, 'max_features': 'sqrt'}. Best is trial 0 with value: 0.5141127198685691.\u001b[0m\n",
      "\u001b[32m[I 2022-06-30 20:56:05,458]\u001b[0m Trial 4 finished with value: 0.4793689779024944 and parameters: {'n_estimators': 158, 'max_depth': 20, 'max_features': 'sqrt'}. Best is trial 0 with value: 0.5141127198685691.\u001b[0m\n"
     ]
    }
   ],
   "source": [
    "K = 5 # Kfold 수\n",
    "opt_func = partial(optimizer, X=X_train, y=y_train, K=K)\n",
    "\n",
    "rf_study = optuna.create_study(study_name=\"RF\", direction=\"maximize\") # regression task에서 R^2를 최대화!\n",
    "rf_study.optimize(opt_func, n_trials=5)"
   ]
  },
  {
   "cell_type": "code",
   "execution_count": 61,
   "id": "03193911",
   "metadata": {
    "ExecuteTime": {
     "end_time": "2022-06-30T11:56:05.466265Z",
     "start_time": "2022-06-30T11:56:05.460949Z"
    }
   },
   "outputs": [
    {
     "data": {
      "text/html": [
       "<div>\n",
       "<style scoped>\n",
       "    .dataframe tbody tr th:only-of-type {\n",
       "        vertical-align: middle;\n",
       "    }\n",
       "\n",
       "    .dataframe tbody tr th {\n",
       "        vertical-align: top;\n",
       "    }\n",
       "\n",
       "    .dataframe thead th {\n",
       "        text-align: right;\n",
       "    }\n",
       "</style>\n",
       "<table border=\"1\" class=\"dataframe\">\n",
       "  <thead>\n",
       "    <tr style=\"text-align: right;\">\n",
       "      <th></th>\n",
       "      <th>number</th>\n",
       "      <th>value</th>\n",
       "      <th>datetime_start</th>\n",
       "      <th>datetime_complete</th>\n",
       "      <th>duration</th>\n",
       "      <th>params_max_depth</th>\n",
       "      <th>params_max_features</th>\n",
       "      <th>params_n_estimators</th>\n",
       "      <th>state</th>\n",
       "    </tr>\n",
       "  </thead>\n",
       "  <tbody>\n",
       "    <tr>\n",
       "      <th>0</th>\n",
       "      <td>0</td>\n",
       "      <td>0.514113</td>\n",
       "      <td>2022-06-30 20:47:48.422159</td>\n",
       "      <td>2022-06-30 20:50:12.664167</td>\n",
       "      <td>0 days 00:02:24.242008</td>\n",
       "      <td>25</td>\n",
       "      <td>sqrt</td>\n",
       "      <td>142</td>\n",
       "      <td>COMPLETE</td>\n",
       "    </tr>\n",
       "    <tr>\n",
       "      <th>1</th>\n",
       "      <td>1</td>\n",
       "      <td>0.368970</td>\n",
       "      <td>2022-06-30 20:50:12.664742</td>\n",
       "      <td>2022-06-30 20:51:18.554579</td>\n",
       "      <td>0 days 00:01:05.889837</td>\n",
       "      <td>12</td>\n",
       "      <td>sqrt</td>\n",
       "      <td>121</td>\n",
       "      <td>COMPLETE</td>\n",
       "    </tr>\n",
       "    <tr>\n",
       "      <th>2</th>\n",
       "      <td>2</td>\n",
       "      <td>0.351351</td>\n",
       "      <td>2022-06-30 20:51:18.555123</td>\n",
       "      <td>2022-06-30 20:52:47.887199</td>\n",
       "      <td>0 days 00:01:29.332076</td>\n",
       "      <td>11</td>\n",
       "      <td>sqrt</td>\n",
       "      <td>182</td>\n",
       "      <td>COMPLETE</td>\n",
       "    </tr>\n",
       "    <tr>\n",
       "      <th>3</th>\n",
       "      <td>3</td>\n",
       "      <td>0.369301</td>\n",
       "      <td>2022-06-30 20:52:47.887745</td>\n",
       "      <td>2022-06-30 20:53:59.666693</td>\n",
       "      <td>0 days 00:01:11.778948</td>\n",
       "      <td>12</td>\n",
       "      <td>sqrt</td>\n",
       "      <td>138</td>\n",
       "      <td>COMPLETE</td>\n",
       "    </tr>\n",
       "    <tr>\n",
       "      <th>4</th>\n",
       "      <td>4</td>\n",
       "      <td>0.479369</td>\n",
       "      <td>2022-06-30 20:53:59.667199</td>\n",
       "      <td>2022-06-30 20:56:05.458637</td>\n",
       "      <td>0 days 00:02:05.791438</td>\n",
       "      <td>20</td>\n",
       "      <td>sqrt</td>\n",
       "      <td>158</td>\n",
       "      <td>COMPLETE</td>\n",
       "    </tr>\n",
       "  </tbody>\n",
       "</table>\n",
       "</div>"
      ],
      "text/plain": [
       "   number     value             datetime_start          datetime_complete  \\\n",
       "0       0  0.514113 2022-06-30 20:47:48.422159 2022-06-30 20:50:12.664167   \n",
       "1       1  0.368970 2022-06-30 20:50:12.664742 2022-06-30 20:51:18.554579   \n",
       "2       2  0.351351 2022-06-30 20:51:18.555123 2022-06-30 20:52:47.887199   \n",
       "3       3  0.369301 2022-06-30 20:52:47.887745 2022-06-30 20:53:59.666693   \n",
       "4       4  0.479369 2022-06-30 20:53:59.667199 2022-06-30 20:56:05.458637   \n",
       "\n",
       "                duration  params_max_depth params_max_features  \\\n",
       "0 0 days 00:02:24.242008                25                sqrt   \n",
       "1 0 days 00:01:05.889837                12                sqrt   \n",
       "2 0 days 00:01:29.332076                11                sqrt   \n",
       "3 0 days 00:01:11.778948                12                sqrt   \n",
       "4 0 days 00:02:05.791438                20                sqrt   \n",
       "\n",
       "   params_n_estimators     state  \n",
       "0                  142  COMPLETE  \n",
       "1                  121  COMPLETE  \n",
       "2                  182  COMPLETE  \n",
       "3                  138  COMPLETE  \n",
       "4                  158  COMPLETE  "
      ]
     },
     "execution_count": 61,
     "metadata": {},
     "output_type": "execute_result"
    }
   ],
   "source": [
    "# optuna가 시도했던 모든 실험 관련 데이터\n",
    "rf_study.trials_dataframe()"
   ]
  },
  {
   "cell_type": "code",
   "execution_count": 62,
   "id": "71368def",
   "metadata": {
    "ExecuteTime": {
     "end_time": "2022-06-30T11:56:05.468495Z",
     "start_time": "2022-06-30T11:56:05.466873Z"
    }
   },
   "outputs": [
    {
     "name": "stdout",
     "output_type": "stream",
     "text": [
      "Best Score: 0.5141\n",
      "Best params:  {'n_estimators': 142, 'max_depth': 25, 'max_features': 'sqrt'}\n"
     ]
    }
   ],
   "source": [
    "print(\"Best Score: %.4f\" % rf_study.best_value) # best score 출력\n",
    "print(\"Best params: \", rf_study.best_trial.params) # best score일 때의 하이퍼파라미터들"
   ]
  },
  {
   "cell_type": "code",
   "execution_count": 63,
   "id": "3f96374f",
   "metadata": {
    "ExecuteTime": {
     "end_time": "2022-06-30T11:58:27.324748Z",
     "start_time": "2022-06-30T11:56:05.471190Z"
    }
   },
   "outputs": [
    {
     "data": {
      "text/plain": [
       "RandomForestRegressor(max_depth=25, max_features='sqrt', n_estimators=142)"
      ]
     },
     "execution_count": 63,
     "metadata": {},
     "output_type": "execute_result"
    }
   ],
   "source": [
    "final_rf_model = RandomForestRegressor(n_estimators=rf_study.best_trial.params[\"n_estimators\"],\n",
    "                                 max_depth=rf_study.best_trial.params[\"max_depth\"],\n",
    "                                 max_features=rf_study.best_trial.params[\"max_features\"])\n",
    "\n",
    "final_rf_model.fit(X, y) # finalize model"
   ]
  },
  {
   "cell_type": "code",
   "execution_count": 64,
   "id": "48db0fdf",
   "metadata": {
    "ExecuteTime": {
     "end_time": "2022-06-30T11:58:27.382536Z",
     "start_time": "2022-06-30T11:58:27.325403Z"
    }
   },
   "outputs": [
    {
     "name": "stdout",
     "output_type": "stream",
     "text": [
      "(590540, 48)\n"
     ]
    }
   ],
   "source": [
    "# PCA 적용\n",
    "if feature_reducing == \"correlation\":\n",
    "    test = testX.drop(columns=correlated_features)\n",
    "    print(X.shape)\n",
    "    \n",
    "elif feature_reducing == \"feature_importance\":\n",
    "    test = testX[important_features]\n",
    "    print(X.shape)\n",
    "    \n",
    "elif feature_reducing == \"PCA\":\n",
    "    test = pca_model.transform(testX)\n",
    "    print(X.shape)"
   ]
  },
  {
   "cell_type": "code",
   "execution_count": 85,
   "id": "063a80d1",
   "metadata": {
    "ExecuteTime": {
     "end_time": "2022-06-30T12:03:27.366033Z",
     "start_time": "2022-06-30T12:03:21.189949Z"
    }
   },
   "outputs": [
    {
     "data": {
      "text/plain": [
       "array([0.04424275, 0.04575464, 0.06658472, ..., 0.01577107, 0.06362012,\n",
       "       0.05813689])"
      ]
     },
     "execution_count": 85,
     "metadata": {},
     "output_type": "execute_result"
    }
   ],
   "source": [
    "prediction = final_rf_model.predict(test)\n",
    "prediction"
   ]
  },
  {
   "cell_type": "code",
   "execution_count": 71,
   "id": "434b47e8",
   "metadata": {
    "ExecuteTime": {
     "end_time": "2022-06-30T12:00:16.155220Z",
     "start_time": "2022-06-30T12:00:16.141567Z"
    }
   },
   "outputs": [
    {
     "data": {
      "text/html": [
       "<div>\n",
       "<style scoped>\n",
       "    .dataframe tbody tr th:only-of-type {\n",
       "        vertical-align: middle;\n",
       "    }\n",
       "\n",
       "    .dataframe tbody tr th {\n",
       "        vertical-align: top;\n",
       "    }\n",
       "\n",
       "    .dataframe thead th {\n",
       "        text-align: right;\n",
       "    }\n",
       "</style>\n",
       "<table border=\"1\" class=\"dataframe\">\n",
       "  <thead>\n",
       "    <tr style=\"text-align: right;\">\n",
       "      <th></th>\n",
       "      <th>card4</th>\n",
       "      <th>card6</th>\n",
       "      <th>P_emaildomain</th>\n",
       "      <th>DeviceInfo</th>\n",
       "    </tr>\n",
       "  </thead>\n",
       "  <tbody>\n",
       "    <tr>\n",
       "      <th>0</th>\n",
       "      <td>visa</td>\n",
       "      <td>debit</td>\n",
       "      <td>gmail.com</td>\n",
       "      <td>Windows</td>\n",
       "    </tr>\n",
       "    <tr>\n",
       "      <th>1</th>\n",
       "      <td>visa</td>\n",
       "      <td>debit</td>\n",
       "      <td>aol.com</td>\n",
       "      <td>Windows</td>\n",
       "    </tr>\n",
       "    <tr>\n",
       "      <th>2</th>\n",
       "      <td>visa</td>\n",
       "      <td>debit</td>\n",
       "      <td>hotmail.com</td>\n",
       "      <td>Windows</td>\n",
       "    </tr>\n",
       "    <tr>\n",
       "      <th>3</th>\n",
       "      <td>visa</td>\n",
       "      <td>debit</td>\n",
       "      <td>gmail.com</td>\n",
       "      <td>Windows</td>\n",
       "    </tr>\n",
       "    <tr>\n",
       "      <th>4</th>\n",
       "      <td>mastercard</td>\n",
       "      <td>debit</td>\n",
       "      <td>gmail.com</td>\n",
       "      <td>Windows</td>\n",
       "    </tr>\n",
       "    <tr>\n",
       "      <th>...</th>\n",
       "      <td>...</td>\n",
       "      <td>...</td>\n",
       "      <td>...</td>\n",
       "      <td>...</td>\n",
       "    </tr>\n",
       "    <tr>\n",
       "      <th>506686</th>\n",
       "      <td>mastercard</td>\n",
       "      <td>debit</td>\n",
       "      <td>gmail.com</td>\n",
       "      <td>Windows</td>\n",
       "    </tr>\n",
       "    <tr>\n",
       "      <th>506687</th>\n",
       "      <td>mastercard</td>\n",
       "      <td>debit</td>\n",
       "      <td>hotmail.com</td>\n",
       "      <td>ALE-L23 Build/HuaweiALE-L23</td>\n",
       "    </tr>\n",
       "    <tr>\n",
       "      <th>506688</th>\n",
       "      <td>visa</td>\n",
       "      <td>debit</td>\n",
       "      <td>hotmail.com</td>\n",
       "      <td>Windows</td>\n",
       "    </tr>\n",
       "    <tr>\n",
       "      <th>506689</th>\n",
       "      <td>mastercard</td>\n",
       "      <td>debit</td>\n",
       "      <td>hotmail.com</td>\n",
       "      <td>Windows</td>\n",
       "    </tr>\n",
       "    <tr>\n",
       "      <th>506690</th>\n",
       "      <td>visa</td>\n",
       "      <td>credit</td>\n",
       "      <td>hotmail.com</td>\n",
       "      <td>SAMSUNG</td>\n",
       "    </tr>\n",
       "  </tbody>\n",
       "</table>\n",
       "<p>506691 rows × 4 columns</p>\n",
       "</div>"
      ],
      "text/plain": [
       "             card4   card6 P_emaildomain                   DeviceInfo\n",
       "0             visa   debit     gmail.com                      Windows\n",
       "1             visa   debit       aol.com                      Windows\n",
       "2             visa   debit   hotmail.com                      Windows\n",
       "3             visa   debit     gmail.com                      Windows\n",
       "4       mastercard   debit     gmail.com                      Windows\n",
       "...            ...     ...           ...                          ...\n",
       "506686  mastercard   debit     gmail.com                      Windows\n",
       "506687  mastercard   debit   hotmail.com  ALE-L23 Build/HuaweiALE-L23\n",
       "506688        visa   debit   hotmail.com                      Windows\n",
       "506689  mastercard   debit   hotmail.com                      Windows\n",
       "506690        visa  credit   hotmail.com                      SAMSUNG\n",
       "\n",
       "[506691 rows x 4 columns]"
      ]
     },
     "execution_count": 71,
     "metadata": {},
     "output_type": "execute_result"
    }
   ],
   "source": [
    "test.select_dtypes('object')"
   ]
  },
  {
   "cell_type": "code",
   "execution_count": 84,
   "id": "6d238e81",
   "metadata": {
    "ExecuteTime": {
     "end_time": "2022-06-30T12:03:13.733828Z",
     "start_time": "2022-06-30T12:03:13.668735Z"
    }
   },
   "outputs": [],
   "source": [
    "test.select_dtypes('float64').fillna(-999, inplace=True)"
   ]
  },
  {
   "cell_type": "code",
   "execution_count": 76,
   "id": "81df7704",
   "metadata": {
    "ExecuteTime": {
     "end_time": "2022-06-30T12:02:17.429047Z",
     "start_time": "2022-06-30T12:02:17.327633Z"
    }
   },
   "outputs": [
    {
     "name": "stderr",
     "output_type": "stream",
     "text": [
      "/var/folders/p9/rqr7k68d4zsb31fs5zkgqnwh0000gn/T/ipykernel_3619/1469926047.py:3: SettingWithCopyWarning: \n",
      "A value is trying to be set on a copy of a slice from a DataFrame.\n",
      "Try using .loc[row_indexer,col_indexer] = value instead\n",
      "\n",
      "See the caveats in the documentation: https://pandas.pydata.org/pandas-docs/stable/user_guide/indexing.html#returning-a-view-versus-a-copy\n",
      "  test['DeviceInfo'] = encoder.transform(test['DeviceInfo'])\n"
     ]
    }
   ],
   "source": [
    "encoder = LabelEncoder()\n",
    "encoder.fit(test['DeviceInfo'])\n",
    "test['DeviceInfo'] = encoder.transform(test['DeviceInfo'])"
   ]
  },
  {
   "cell_type": "code",
   "execution_count": 96,
   "id": "225a6b05",
   "metadata": {
    "ExecuteTime": {
     "end_time": "2022-06-30T12:07:08.431800Z",
     "start_time": "2022-06-30T12:07:08.418386Z"
    }
   },
   "outputs": [
    {
     "data": {
      "text/html": [
       "<div>\n",
       "<style scoped>\n",
       "    .dataframe tbody tr th:only-of-type {\n",
       "        vertical-align: middle;\n",
       "    }\n",
       "\n",
       "    .dataframe tbody tr th {\n",
       "        vertical-align: top;\n",
       "    }\n",
       "\n",
       "    .dataframe thead th {\n",
       "        text-align: right;\n",
       "    }\n",
       "</style>\n",
       "<table border=\"1\" class=\"dataframe\">\n",
       "  <thead>\n",
       "    <tr style=\"text-align: right;\">\n",
       "      <th></th>\n",
       "      <th>TransactionID</th>\n",
       "      <th>isFraud</th>\n",
       "    </tr>\n",
       "  </thead>\n",
       "  <tbody>\n",
       "    <tr>\n",
       "      <th>0</th>\n",
       "      <td>3663549</td>\n",
       "      <td>0.044243</td>\n",
       "    </tr>\n",
       "    <tr>\n",
       "      <th>1</th>\n",
       "      <td>3663550</td>\n",
       "      <td>0.045755</td>\n",
       "    </tr>\n",
       "    <tr>\n",
       "      <th>2</th>\n",
       "      <td>3663551</td>\n",
       "      <td>0.066585</td>\n",
       "    </tr>\n",
       "    <tr>\n",
       "      <th>3</th>\n",
       "      <td>3663552</td>\n",
       "      <td>0.113267</td>\n",
       "    </tr>\n",
       "    <tr>\n",
       "      <th>4</th>\n",
       "      <td>3663553</td>\n",
       "      <td>0.079256</td>\n",
       "    </tr>\n",
       "    <tr>\n",
       "      <th>...</th>\n",
       "      <td>...</td>\n",
       "      <td>...</td>\n",
       "    </tr>\n",
       "    <tr>\n",
       "      <th>506686</th>\n",
       "      <td>4170235</td>\n",
       "      <td>0.039269</td>\n",
       "    </tr>\n",
       "    <tr>\n",
       "      <th>506687</th>\n",
       "      <td>4170236</td>\n",
       "      <td>0.148591</td>\n",
       "    </tr>\n",
       "    <tr>\n",
       "      <th>506688</th>\n",
       "      <td>4170237</td>\n",
       "      <td>0.015771</td>\n",
       "    </tr>\n",
       "    <tr>\n",
       "      <th>506689</th>\n",
       "      <td>4170238</td>\n",
       "      <td>0.063620</td>\n",
       "    </tr>\n",
       "    <tr>\n",
       "      <th>506690</th>\n",
       "      <td>4170239</td>\n",
       "      <td>0.058137</td>\n",
       "    </tr>\n",
       "  </tbody>\n",
       "</table>\n",
       "<p>506691 rows × 2 columns</p>\n",
       "</div>"
      ],
      "text/plain": [
       "        TransactionID   isFraud\n",
       "0             3663549  0.044243\n",
       "1             3663550  0.045755\n",
       "2             3663551  0.066585\n",
       "3             3663552  0.113267\n",
       "4             3663553  0.079256\n",
       "...               ...       ...\n",
       "506686        4170235  0.039269\n",
       "506687        4170236  0.148591\n",
       "506688        4170237  0.015771\n",
       "506689        4170238  0.063620\n",
       "506690        4170239  0.058137\n",
       "\n",
       "[506691 rows x 2 columns]"
      ]
     },
     "execution_count": 96,
     "metadata": {},
     "output_type": "execute_result"
    }
   ],
   "source": [
    "submission[\"isFraud\"] = prediction\n",
    "submission"
   ]
  },
  {
   "cell_type": "code",
   "execution_count": 98,
   "id": "bbb7acd2",
   "metadata": {
    "ExecuteTime": {
     "end_time": "2022-06-30T12:07:17.734692Z",
     "start_time": "2022-06-30T12:07:17.155574Z"
    }
   },
   "outputs": [],
   "source": [
    "submission.reset_index(drop=True).to_csv(f\"rf_submission_{feature_reducing}.csv\", index=False)"
   ]
  },
  {
   "cell_type": "code",
   "execution_count": null,
   "id": "64fe72f6",
   "metadata": {},
   "outputs": [],
   "source": []
  }
 ],
 "metadata": {
  "kernelspec": {
   "display_name": "Python 3 (ipykernel)",
   "language": "python",
   "name": "python3"
  },
  "language_info": {
   "codemirror_mode": {
    "name": "ipython",
    "version": 3
   },
   "file_extension": ".py",
   "mimetype": "text/x-python",
   "name": "python",
   "nbconvert_exporter": "python",
   "pygments_lexer": "ipython3",
   "version": "3.8.13"
  },
  "toc": {
   "base_numbering": 1,
   "nav_menu": {},
   "number_sections": true,
   "sideBar": true,
   "skip_h1_title": false,
   "title_cell": "Table of Contents",
   "title_sidebar": "Contents",
   "toc_cell": false,
   "toc_position": {},
   "toc_section_display": true,
   "toc_window_display": false
  }
 },
 "nbformat": 4,
 "nbformat_minor": 5
}
