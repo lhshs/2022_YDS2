{
 "cells": [
  {
   "cell_type": "markdown",
   "id": "01a46fac",
   "metadata": {},
   "source": [
    "# Import"
   ]
  },
  {
   "cell_type": "code",
   "execution_count": 1,
   "id": "0a2e8ff9",
   "metadata": {
    "ExecuteTime": {
     "end_time": "2022-07-07T12:10:27.773469Z",
     "start_time": "2022-07-07T12:10:27.292529Z"
    }
   },
   "outputs": [],
   "source": [
    "import random\n",
    "import pandas as pd\n",
    "import numpy as np\n",
    "import os\n",
    "import librosa\n",
    "\n",
    "from tqdm.auto import tqdm\n",
    "\n",
    "from sklearn.neural_network import MLPClassifier\n",
    "from sklearn.preprocessing import OneHotEncoder\n",
    "\n",
    "import warnings\n",
    "warnings.filterwarnings(action='ignore') "
   ]
  },
  {
   "cell_type": "markdown",
   "id": "7c41aa97",
   "metadata": {},
   "source": [
    "# Hyperparameter Setting"
   ]
  },
  {
   "cell_type": "code",
   "execution_count": 2,
   "id": "45b4f7f0",
   "metadata": {
    "ExecuteTime": {
     "end_time": "2022-07-07T12:10:27.776168Z",
     "start_time": "2022-07-07T12:10:27.774416Z"
    }
   },
   "outputs": [],
   "source": [
    "CFG = {\n",
    "    'SR':32000,\n",
    "    'N_MFCC':100, # MFCC 벡터를 추출할 개수\n",
    "    'SEED':42\n",
    "}"
   ]
  },
  {
   "cell_type": "markdown",
   "id": "5c98aabf",
   "metadata": {},
   "source": [
    "# Fixed Random-Seed"
   ]
  },
  {
   "cell_type": "code",
   "execution_count": 3,
   "id": "179a4bb3",
   "metadata": {
    "ExecuteTime": {
     "end_time": "2022-07-07T12:10:27.779733Z",
     "start_time": "2022-07-07T12:10:27.776911Z"
    }
   },
   "outputs": [],
   "source": [
    "def seed_everything(seed):\n",
    "    random.seed(seed)\n",
    "    os.environ['PYTHONHASHSEED'] = str(seed)\n",
    "    np.random.seed(seed)\n",
    "\n",
    "seed_everything(CFG['SEED']) # Seed 고정"
   ]
  },
  {
   "cell_type": "markdown",
   "id": "0cfbf54c",
   "metadata": {},
   "source": [
    "# Data Pre-Processing 1"
   ]
  },
  {
   "cell_type": "code",
   "execution_count": 4,
   "id": "3d309551",
   "metadata": {
    "ExecuteTime": {
     "end_time": "2022-07-07T12:10:27.786408Z",
     "start_time": "2022-07-07T12:10:27.781081Z"
    }
   },
   "outputs": [],
   "source": [
    "train_df = pd.read_csv('./train_data.csv')\n",
    "test_df = pd.read_csv('./test_data.csv')"
   ]
  },
  {
   "cell_type": "code",
   "execution_count": 5,
   "id": "83ad09a7",
   "metadata": {
    "ExecuteTime": {
     "end_time": "2022-07-07T12:10:27.789700Z",
     "start_time": "2022-07-07T12:10:27.787069Z"
    }
   },
   "outputs": [],
   "source": [
    "unlabeled_df = pd.read_csv('./unlabeled_data.csv')"
   ]
  },
  {
   "cell_type": "code",
   "execution_count": 6,
   "id": "30058f5b",
   "metadata": {
    "ExecuteTime": {
     "end_time": "2022-07-07T12:10:27.824693Z",
     "start_time": "2022-07-07T12:10:27.790547Z"
    }
   },
   "outputs": [],
   "source": [
    "def get_mfcc_feature(df, data_type, save_path):\n",
    "    # Data Folder path\n",
    "    root_folder = './wav_dataset'\n",
    "    if os.path.exists(save_path):\n",
    "        print(f'{save_path} is exist.')\n",
    "        return\n",
    "    features = []\n",
    "    for uid in tqdm(df['id']):\n",
    "        root_path = os.path.join(root_folder, data_type)\n",
    "        path = os.path.join(root_path, str(uid).zfill(5)+'.wav')\n",
    "\n",
    "        # librosa패키지를 사용하여 wav 파일 load\n",
    "        y, sr = librosa.load(path, sr=CFG['SR'])\n",
    "        \n",
    "        # librosa패키지를 사용하여 mfcc 추출\n",
    "        mfcc = librosa.feature.mfcc(y=y, sr=sr, n_mfcc=CFG['N_MFCC'])\n",
    "\n",
    "        y_feature = []\n",
    "        # 추출된 MFCC들의 평균을 Feature로 사용\n",
    "        for e in mfcc:\n",
    "            y_feature.append(np.mean(e))\n",
    "        features.append(y_feature)\n",
    "    \n",
    "    # 기존의 자가진단 정보를 담은 데이터프레임에 추출된 오디오 Feature를 추가\n",
    "    mfcc_df = pd.DataFrame(features, columns=['mfcc_'+str(x) for x in range(1,CFG['N_MFCC']+1)])\n",
    "    df = pd.concat([df, mfcc_df], axis=1)\n",
    "    df.to_csv(save_path, index=False)\n",
    "    print('Done.')"
   ]
  },
  {
   "cell_type": "code",
   "execution_count": 7,
   "id": "6ff632a6",
   "metadata": {
    "ExecuteTime": {
     "end_time": "2022-07-07T12:10:27.828477Z",
     "start_time": "2022-07-07T12:10:27.825415Z"
    }
   },
   "outputs": [],
   "source": [
    "def get_mfcc_feature2(df, data_type, save_path):\n",
    "    # Data Folder path\n",
    "    root_folder = './wav_dataset'\n",
    "    if os.path.exists(save_path):\n",
    "        print(f'{save_path} is exist.')\n",
    "        return\n",
    "    features = []\n",
    "    for uid in tqdm(df['id']):\n",
    "        root_path = os.path.join(root_folder, data_type)\n",
    "        path = os.path.join(root_path, str(uid).zfill(5)+'.wav')\n",
    "\n",
    "        # librosa패키지를 사용하여 wav 파일 load\n",
    "        y, sr = librosa.load(path, sr=CFG['SR'])\n",
    "        \n",
    "        # librosa패키지를 사용하여 mfcc 추출\n",
    "        mfcc = librosa.feature.mfcc(y=y, sr=sr, n_mfcc=CFG['N_MFCC'])\n",
    "\n",
    "        y_feature = []\n",
    "        # 추출된 MFCC들의 평균을 Feature로 사용\n",
    "        for e in mfcc:\n",
    "            y_feature.append(np.mean(e))\n",
    "        features.append(y_feature)\n",
    "    \n",
    "    # 기존의 자가진단 정보를 담은 데이터프레임에 추출된 오디오 Feature를 추가\n",
    "    mfcc_df = pd.DataFrame(features, columns=['mfcc_'+str(x) for x in range(1,CFG['N_MFCC']+1)])\n",
    "    df = pd.concat([df, mfcc_df], axis=1)\n",
    "    df.to_csv(save_path, index=False)\n",
    "    print('Done.')"
   ]
  },
  {
   "cell_type": "code",
   "execution_count": 8,
   "id": "b8adc585",
   "metadata": {
    "ExecuteTime": {
     "end_time": "2022-07-07T12:10:27.833263Z",
     "start_time": "2022-07-07T12:10:27.829139Z"
    }
   },
   "outputs": [
    {
     "data": {
      "text/plain": [
       "5732"
      ]
     },
     "execution_count": 8,
     "metadata": {},
     "output_type": "execute_result"
    }
   ],
   "source": [
    "9538 - 3806"
   ]
  },
  {
   "cell_type": "code",
   "execution_count": 9,
   "id": "c6cf5c83",
   "metadata": {
    "ExecuteTime": {
     "end_time": "2022-07-07T12:10:27.836013Z",
     "start_time": "2022-07-07T12:10:27.834105Z"
    }
   },
   "outputs": [
    {
     "name": "stdout",
     "output_type": "stream",
     "text": [
      "./train_mfcc_data.csv is exist.\n",
      "./test_mfcc_data.csv is exist.\n"
     ]
    }
   ],
   "source": [
    "get_mfcc_feature(train_df, 'train', './train_mfcc_data.csv')\n",
    "get_mfcc_feature(test_df, 'test', './test_mfcc_data.csv')"
   ]
  },
  {
   "cell_type": "code",
   "execution_count": 10,
   "id": "273ba4de",
   "metadata": {
    "ExecuteTime": {
     "end_time": "2022-07-07T12:10:27.839302Z",
     "start_time": "2022-07-07T12:10:27.837715Z"
    }
   },
   "outputs": [
    {
     "name": "stdout",
     "output_type": "stream",
     "text": [
      "./unlabeled_mfcc_data.csv is exist.\n"
     ]
    }
   ],
   "source": [
    "get_mfcc_feature2(unlabeled_df, 'unlabeled', './unlabeled_mfcc_data.csv')"
   ]
  },
  {
   "cell_type": "code",
   "execution_count": 11,
   "id": "07ef54c7",
   "metadata": {
    "ExecuteTime": {
     "end_time": "2022-07-07T12:10:27.867109Z",
     "start_time": "2022-07-07T12:10:27.840064Z"
    }
   },
   "outputs": [],
   "source": [
    "train_mfcc_data = pd.read_csv('./train_mfcc_data.csv')\n",
    "test_mfcc_data = pd.read_csv('./test_mfcc_data.csv')"
   ]
  },
  {
   "cell_type": "code",
   "execution_count": 12,
   "id": "ce0a5262",
   "metadata": {
    "ExecuteTime": {
     "end_time": "2022-07-07T12:10:27.877939Z",
     "start_time": "2022-07-07T12:10:27.867792Z"
    }
   },
   "outputs": [
    {
     "data": {
      "text/html": [
       "<div>\n",
       "<style scoped>\n",
       "    .dataframe tbody tr th:only-of-type {\n",
       "        vertical-align: middle;\n",
       "    }\n",
       "\n",
       "    .dataframe tbody tr th {\n",
       "        vertical-align: top;\n",
       "    }\n",
       "\n",
       "    .dataframe thead th {\n",
       "        text-align: right;\n",
       "    }\n",
       "</style>\n",
       "<table border=\"1\" class=\"dataframe\">\n",
       "  <thead>\n",
       "    <tr style=\"text-align: right;\">\n",
       "      <th></th>\n",
       "      <th>id</th>\n",
       "      <th>age</th>\n",
       "      <th>gender</th>\n",
       "      <th>respiratory_condition</th>\n",
       "      <th>fever_or_muscle_pain</th>\n",
       "      <th>covid19</th>\n",
       "      <th>mfcc_1</th>\n",
       "      <th>mfcc_2</th>\n",
       "      <th>mfcc_3</th>\n",
       "      <th>mfcc_4</th>\n",
       "      <th>...</th>\n",
       "      <th>mfcc_23</th>\n",
       "      <th>mfcc_24</th>\n",
       "      <th>mfcc_25</th>\n",
       "      <th>mfcc_26</th>\n",
       "      <th>mfcc_27</th>\n",
       "      <th>mfcc_28</th>\n",
       "      <th>mfcc_29</th>\n",
       "      <th>mfcc_30</th>\n",
       "      <th>mfcc_31</th>\n",
       "      <th>mfcc_32</th>\n",
       "    </tr>\n",
       "  </thead>\n",
       "  <tbody>\n",
       "    <tr>\n",
       "      <th>0</th>\n",
       "      <td>1</td>\n",
       "      <td>24</td>\n",
       "      <td>female</td>\n",
       "      <td>0</td>\n",
       "      <td>1</td>\n",
       "      <td>0</td>\n",
       "      <td>-276.01898</td>\n",
       "      <td>30.519340</td>\n",
       "      <td>-20.314617</td>\n",
       "      <td>-6.689037</td>\n",
       "      <td>...</td>\n",
       "      <td>-2.679408</td>\n",
       "      <td>2.454339</td>\n",
       "      <td>-1.176285</td>\n",
       "      <td>2.314315</td>\n",
       "      <td>-0.339533</td>\n",
       "      <td>2.514413</td>\n",
       "      <td>-4.784703</td>\n",
       "      <td>1.239072</td>\n",
       "      <td>-1.556883</td>\n",
       "      <td>-1.548770</td>\n",
       "    </tr>\n",
       "    <tr>\n",
       "      <th>1</th>\n",
       "      <td>2</td>\n",
       "      <td>51</td>\n",
       "      <td>male</td>\n",
       "      <td>0</td>\n",
       "      <td>0</td>\n",
       "      <td>0</td>\n",
       "      <td>-312.99362</td>\n",
       "      <td>54.141323</td>\n",
       "      <td>-1.748550</td>\n",
       "      <td>-9.437217</td>\n",
       "      <td>...</td>\n",
       "      <td>-7.248304</td>\n",
       "      <td>1.238725</td>\n",
       "      <td>-6.894970</td>\n",
       "      <td>-1.810402</td>\n",
       "      <td>-7.259594</td>\n",
       "      <td>0.715029</td>\n",
       "      <td>-1.372265</td>\n",
       "      <td>-1.760624</td>\n",
       "      <td>-2.735181</td>\n",
       "      <td>1.134190</td>\n",
       "    </tr>\n",
       "    <tr>\n",
       "      <th>2</th>\n",
       "      <td>3</td>\n",
       "      <td>22</td>\n",
       "      <td>male</td>\n",
       "      <td>0</td>\n",
       "      <td>0</td>\n",
       "      <td>0</td>\n",
       "      <td>-438.60306</td>\n",
       "      <td>46.675842</td>\n",
       "      <td>-22.771935</td>\n",
       "      <td>-3.527922</td>\n",
       "      <td>...</td>\n",
       "      <td>-0.136723</td>\n",
       "      <td>-1.707353</td>\n",
       "      <td>2.649277</td>\n",
       "      <td>1.208829</td>\n",
       "      <td>-0.033701</td>\n",
       "      <td>-1.008729</td>\n",
       "      <td>-0.687255</td>\n",
       "      <td>-0.472232</td>\n",
       "      <td>0.850565</td>\n",
       "      <td>0.353839</td>\n",
       "    </tr>\n",
       "    <tr>\n",
       "      <th>3</th>\n",
       "      <td>4</td>\n",
       "      <td>29</td>\n",
       "      <td>female</td>\n",
       "      <td>1</td>\n",
       "      <td>0</td>\n",
       "      <td>0</td>\n",
       "      <td>-369.26100</td>\n",
       "      <td>47.762012</td>\n",
       "      <td>-8.256503</td>\n",
       "      <td>-2.891349</td>\n",
       "      <td>...</td>\n",
       "      <td>-0.389230</td>\n",
       "      <td>4.033148</td>\n",
       "      <td>-2.658165</td>\n",
       "      <td>2.867084</td>\n",
       "      <td>1.679876</td>\n",
       "      <td>2.136411</td>\n",
       "      <td>0.289792</td>\n",
       "      <td>1.709179</td>\n",
       "      <td>-0.592465</td>\n",
       "      <td>1.754549</td>\n",
       "    </tr>\n",
       "    <tr>\n",
       "      <th>4</th>\n",
       "      <td>5</td>\n",
       "      <td>23</td>\n",
       "      <td>male</td>\n",
       "      <td>0</td>\n",
       "      <td>0</td>\n",
       "      <td>0</td>\n",
       "      <td>-535.68915</td>\n",
       "      <td>7.509357</td>\n",
       "      <td>-7.762263</td>\n",
       "      <td>2.567660</td>\n",
       "      <td>...</td>\n",
       "      <td>-0.279360</td>\n",
       "      <td>-0.292286</td>\n",
       "      <td>-1.559678</td>\n",
       "      <td>0.328864</td>\n",
       "      <td>-1.053423</td>\n",
       "      <td>0.844060</td>\n",
       "      <td>-0.788914</td>\n",
       "      <td>1.182740</td>\n",
       "      <td>-0.527028</td>\n",
       "      <td>1.208361</td>\n",
       "    </tr>\n",
       "    <tr>\n",
       "      <th>...</th>\n",
       "      <td>...</td>\n",
       "      <td>...</td>\n",
       "      <td>...</td>\n",
       "      <td>...</td>\n",
       "      <td>...</td>\n",
       "      <td>...</td>\n",
       "      <td>...</td>\n",
       "      <td>...</td>\n",
       "      <td>...</td>\n",
       "      <td>...</td>\n",
       "      <td>...</td>\n",
       "      <td>...</td>\n",
       "      <td>...</td>\n",
       "      <td>...</td>\n",
       "      <td>...</td>\n",
       "      <td>...</td>\n",
       "      <td>...</td>\n",
       "      <td>...</td>\n",
       "      <td>...</td>\n",
       "      <td>...</td>\n",
       "      <td>...</td>\n",
       "    </tr>\n",
       "    <tr>\n",
       "      <th>3800</th>\n",
       "      <td>3801</td>\n",
       "      <td>53</td>\n",
       "      <td>male</td>\n",
       "      <td>0</td>\n",
       "      <td>0</td>\n",
       "      <td>0</td>\n",
       "      <td>-329.53840</td>\n",
       "      <td>69.317080</td>\n",
       "      <td>-41.498420</td>\n",
       "      <td>3.398324</td>\n",
       "      <td>...</td>\n",
       "      <td>-0.447236</td>\n",
       "      <td>1.477676</td>\n",
       "      <td>-5.139314</td>\n",
       "      <td>0.058984</td>\n",
       "      <td>1.145387</td>\n",
       "      <td>3.968560</td>\n",
       "      <td>-4.152923</td>\n",
       "      <td>2.655675</td>\n",
       "      <td>-4.001793</td>\n",
       "      <td>-2.753481</td>\n",
       "    </tr>\n",
       "    <tr>\n",
       "      <th>3801</th>\n",
       "      <td>3802</td>\n",
       "      <td>25</td>\n",
       "      <td>male</td>\n",
       "      <td>0</td>\n",
       "      <td>0</td>\n",
       "      <td>0</td>\n",
       "      <td>-387.18520</td>\n",
       "      <td>74.883385</td>\n",
       "      <td>-13.053332</td>\n",
       "      <td>0.423010</td>\n",
       "      <td>...</td>\n",
       "      <td>-3.050042</td>\n",
       "      <td>4.993294</td>\n",
       "      <td>1.104003</td>\n",
       "      <td>6.089378</td>\n",
       "      <td>2.936215</td>\n",
       "      <td>3.518800</td>\n",
       "      <td>-0.500065</td>\n",
       "      <td>3.678556</td>\n",
       "      <td>2.742439</td>\n",
       "      <td>5.705073</td>\n",
       "    </tr>\n",
       "    <tr>\n",
       "      <th>3802</th>\n",
       "      <td>3803</td>\n",
       "      <td>26</td>\n",
       "      <td>female</td>\n",
       "      <td>0</td>\n",
       "      <td>0</td>\n",
       "      <td>0</td>\n",
       "      <td>-347.74250</td>\n",
       "      <td>58.946648</td>\n",
       "      <td>12.572187</td>\n",
       "      <td>28.366724</td>\n",
       "      <td>...</td>\n",
       "      <td>-2.563241</td>\n",
       "      <td>-2.590208</td>\n",
       "      <td>-2.765020</td>\n",
       "      <td>-1.786291</td>\n",
       "      <td>-3.289306</td>\n",
       "      <td>-1.355590</td>\n",
       "      <td>-0.098087</td>\n",
       "      <td>-1.539166</td>\n",
       "      <td>-1.679146</td>\n",
       "      <td>-1.346460</td>\n",
       "    </tr>\n",
       "    <tr>\n",
       "      <th>3803</th>\n",
       "      <td>3804</td>\n",
       "      <td>27</td>\n",
       "      <td>female</td>\n",
       "      <td>0</td>\n",
       "      <td>0</td>\n",
       "      <td>0</td>\n",
       "      <td>-180.65393</td>\n",
       "      <td>72.516770</td>\n",
       "      <td>-16.372229</td>\n",
       "      <td>-8.363718</td>\n",
       "      <td>...</td>\n",
       "      <td>-8.350143</td>\n",
       "      <td>6.216520</td>\n",
       "      <td>-2.514634</td>\n",
       "      <td>2.063279</td>\n",
       "      <td>-1.506954</td>\n",
       "      <td>0.092602</td>\n",
       "      <td>-4.883226</td>\n",
       "      <td>0.641473</td>\n",
       "      <td>-5.265770</td>\n",
       "      <td>-0.327298</td>\n",
       "    </tr>\n",
       "    <tr>\n",
       "      <th>3804</th>\n",
       "      <td>3805</td>\n",
       "      <td>49</td>\n",
       "      <td>female</td>\n",
       "      <td>1</td>\n",
       "      <td>1</td>\n",
       "      <td>0</td>\n",
       "      <td>-309.09590</td>\n",
       "      <td>85.979750</td>\n",
       "      <td>10.980089</td>\n",
       "      <td>13.028820</td>\n",
       "      <td>...</td>\n",
       "      <td>0.160724</td>\n",
       "      <td>4.126519</td>\n",
       "      <td>-1.335597</td>\n",
       "      <td>-3.686338</td>\n",
       "      <td>1.180410</td>\n",
       "      <td>3.182663</td>\n",
       "      <td>1.468856</td>\n",
       "      <td>1.180359</td>\n",
       "      <td>0.236397</td>\n",
       "      <td>4.148143</td>\n",
       "    </tr>\n",
       "  </tbody>\n",
       "</table>\n",
       "<p>3805 rows × 38 columns</p>\n",
       "</div>"
      ],
      "text/plain": [
       "        id  age  gender  respiratory_condition  fever_or_muscle_pain  covid19  \\\n",
       "0        1   24  female                      0                     1        0   \n",
       "1        2   51    male                      0                     0        0   \n",
       "2        3   22    male                      0                     0        0   \n",
       "3        4   29  female                      1                     0        0   \n",
       "4        5   23    male                      0                     0        0   \n",
       "...    ...  ...     ...                    ...                   ...      ...   \n",
       "3800  3801   53    male                      0                     0        0   \n",
       "3801  3802   25    male                      0                     0        0   \n",
       "3802  3803   26  female                      0                     0        0   \n",
       "3803  3804   27  female                      0                     0        0   \n",
       "3804  3805   49  female                      1                     1        0   \n",
       "\n",
       "         mfcc_1     mfcc_2     mfcc_3     mfcc_4  ...   mfcc_23   mfcc_24  \\\n",
       "0    -276.01898  30.519340 -20.314617  -6.689037  ... -2.679408  2.454339   \n",
       "1    -312.99362  54.141323  -1.748550  -9.437217  ... -7.248304  1.238725   \n",
       "2    -438.60306  46.675842 -22.771935  -3.527922  ... -0.136723 -1.707353   \n",
       "3    -369.26100  47.762012  -8.256503  -2.891349  ... -0.389230  4.033148   \n",
       "4    -535.68915   7.509357  -7.762263   2.567660  ... -0.279360 -0.292286   \n",
       "...         ...        ...        ...        ...  ...       ...       ...   \n",
       "3800 -329.53840  69.317080 -41.498420   3.398324  ... -0.447236  1.477676   \n",
       "3801 -387.18520  74.883385 -13.053332   0.423010  ... -3.050042  4.993294   \n",
       "3802 -347.74250  58.946648  12.572187  28.366724  ... -2.563241 -2.590208   \n",
       "3803 -180.65393  72.516770 -16.372229  -8.363718  ... -8.350143  6.216520   \n",
       "3804 -309.09590  85.979750  10.980089  13.028820  ...  0.160724  4.126519   \n",
       "\n",
       "       mfcc_25   mfcc_26   mfcc_27   mfcc_28   mfcc_29   mfcc_30   mfcc_31  \\\n",
       "0    -1.176285  2.314315 -0.339533  2.514413 -4.784703  1.239072 -1.556883   \n",
       "1    -6.894970 -1.810402 -7.259594  0.715029 -1.372265 -1.760624 -2.735181   \n",
       "2     2.649277  1.208829 -0.033701 -1.008729 -0.687255 -0.472232  0.850565   \n",
       "3    -2.658165  2.867084  1.679876  2.136411  0.289792  1.709179 -0.592465   \n",
       "4    -1.559678  0.328864 -1.053423  0.844060 -0.788914  1.182740 -0.527028   \n",
       "...        ...       ...       ...       ...       ...       ...       ...   \n",
       "3800 -5.139314  0.058984  1.145387  3.968560 -4.152923  2.655675 -4.001793   \n",
       "3801  1.104003  6.089378  2.936215  3.518800 -0.500065  3.678556  2.742439   \n",
       "3802 -2.765020 -1.786291 -3.289306 -1.355590 -0.098087 -1.539166 -1.679146   \n",
       "3803 -2.514634  2.063279 -1.506954  0.092602 -4.883226  0.641473 -5.265770   \n",
       "3804 -1.335597 -3.686338  1.180410  3.182663  1.468856  1.180359  0.236397   \n",
       "\n",
       "       mfcc_32  \n",
       "0    -1.548770  \n",
       "1     1.134190  \n",
       "2     0.353839  \n",
       "3     1.754549  \n",
       "4     1.208361  \n",
       "...        ...  \n",
       "3800 -2.753481  \n",
       "3801  5.705073  \n",
       "3802 -1.346460  \n",
       "3803 -0.327298  \n",
       "3804  4.148143  \n",
       "\n",
       "[3805 rows x 38 columns]"
      ]
     },
     "execution_count": 12,
     "metadata": {},
     "output_type": "execute_result"
    }
   ],
   "source": [
    "train_mfcc_data"
   ]
  },
  {
   "cell_type": "code",
   "execution_count": 13,
   "id": "a0b0077c",
   "metadata": {
    "ExecuteTime": {
     "end_time": "2022-07-07T12:10:27.883744Z",
     "start_time": "2022-07-07T12:10:27.879546Z"
    }
   },
   "outputs": [
    {
     "data": {
      "text/plain": [
       "-1125.973300    1\n",
       "-1124.835700    1\n",
       "-1124.304100    1\n",
       "-1124.237000    1\n",
       "-1119.632200    1\n",
       "               ..\n",
       "-112.061700     1\n",
       "-109.896576     1\n",
       "-100.145630     1\n",
       "-95.639910      1\n",
       "-64.710106      1\n",
       "Name: mfcc_1, Length: 5719, dtype: int64"
      ]
     },
     "execution_count": 13,
     "metadata": {},
     "output_type": "execute_result"
    }
   ],
   "source": [
    "test_mfcc_data.mfcc_1.value_counts().sort_index()"
   ]
  },
  {
   "cell_type": "markdown",
   "id": "2ed6719b",
   "metadata": {},
   "source": [
    "# Train, Test, Unlabel data 합쳐서 train test 로 분류해서 학습해보기"
   ]
  },
  {
   "cell_type": "code",
   "execution_count": 14,
   "id": "26d7707a",
   "metadata": {
    "ExecuteTime": {
     "end_time": "2022-07-07T12:10:35.068641Z",
     "start_time": "2022-07-07T12:10:35.057263Z"
    }
   },
   "outputs": [
    {
     "data": {
      "text/html": [
       "<div>\n",
       "<style scoped>\n",
       "    .dataframe tbody tr th:only-of-type {\n",
       "        vertical-align: middle;\n",
       "    }\n",
       "\n",
       "    .dataframe tbody tr th {\n",
       "        vertical-align: top;\n",
       "    }\n",
       "\n",
       "    .dataframe thead th {\n",
       "        text-align: right;\n",
       "    }\n",
       "</style>\n",
       "<table border=\"1\" class=\"dataframe\">\n",
       "  <thead>\n",
       "    <tr style=\"text-align: right;\">\n",
       "      <th></th>\n",
       "      <th>id</th>\n",
       "      <th>age</th>\n",
       "      <th>gender</th>\n",
       "      <th>respiratory_condition</th>\n",
       "      <th>fever_or_muscle_pain</th>\n",
       "      <th>covid19</th>\n",
       "    </tr>\n",
       "  </thead>\n",
       "  <tbody>\n",
       "    <tr>\n",
       "      <th>0</th>\n",
       "      <td>1</td>\n",
       "      <td>24</td>\n",
       "      <td>female</td>\n",
       "      <td>0</td>\n",
       "      <td>1</td>\n",
       "      <td>0</td>\n",
       "    </tr>\n",
       "    <tr>\n",
       "      <th>1</th>\n",
       "      <td>2</td>\n",
       "      <td>51</td>\n",
       "      <td>male</td>\n",
       "      <td>0</td>\n",
       "      <td>0</td>\n",
       "      <td>0</td>\n",
       "    </tr>\n",
       "    <tr>\n",
       "      <th>2</th>\n",
       "      <td>3</td>\n",
       "      <td>22</td>\n",
       "      <td>male</td>\n",
       "      <td>0</td>\n",
       "      <td>0</td>\n",
       "      <td>0</td>\n",
       "    </tr>\n",
       "    <tr>\n",
       "      <th>3</th>\n",
       "      <td>4</td>\n",
       "      <td>29</td>\n",
       "      <td>female</td>\n",
       "      <td>1</td>\n",
       "      <td>0</td>\n",
       "      <td>0</td>\n",
       "    </tr>\n",
       "    <tr>\n",
       "      <th>4</th>\n",
       "      <td>5</td>\n",
       "      <td>23</td>\n",
       "      <td>male</td>\n",
       "      <td>0</td>\n",
       "      <td>0</td>\n",
       "      <td>0</td>\n",
       "    </tr>\n",
       "    <tr>\n",
       "      <th>...</th>\n",
       "      <td>...</td>\n",
       "      <td>...</td>\n",
       "      <td>...</td>\n",
       "      <td>...</td>\n",
       "      <td>...</td>\n",
       "      <td>...</td>\n",
       "    </tr>\n",
       "    <tr>\n",
       "      <th>3800</th>\n",
       "      <td>3801</td>\n",
       "      <td>53</td>\n",
       "      <td>male</td>\n",
       "      <td>0</td>\n",
       "      <td>0</td>\n",
       "      <td>0</td>\n",
       "    </tr>\n",
       "    <tr>\n",
       "      <th>3801</th>\n",
       "      <td>3802</td>\n",
       "      <td>25</td>\n",
       "      <td>male</td>\n",
       "      <td>0</td>\n",
       "      <td>0</td>\n",
       "      <td>0</td>\n",
       "    </tr>\n",
       "    <tr>\n",
       "      <th>3802</th>\n",
       "      <td>3803</td>\n",
       "      <td>26</td>\n",
       "      <td>female</td>\n",
       "      <td>0</td>\n",
       "      <td>0</td>\n",
       "      <td>0</td>\n",
       "    </tr>\n",
       "    <tr>\n",
       "      <th>3803</th>\n",
       "      <td>3804</td>\n",
       "      <td>27</td>\n",
       "      <td>female</td>\n",
       "      <td>0</td>\n",
       "      <td>0</td>\n",
       "      <td>0</td>\n",
       "    </tr>\n",
       "    <tr>\n",
       "      <th>3804</th>\n",
       "      <td>3805</td>\n",
       "      <td>49</td>\n",
       "      <td>female</td>\n",
       "      <td>1</td>\n",
       "      <td>1</td>\n",
       "      <td>0</td>\n",
       "    </tr>\n",
       "  </tbody>\n",
       "</table>\n",
       "<p>3805 rows × 6 columns</p>\n",
       "</div>"
      ],
      "text/plain": [
       "        id  age  gender  respiratory_condition  fever_or_muscle_pain  covid19\n",
       "0        1   24  female                      0                     1        0\n",
       "1        2   51    male                      0                     0        0\n",
       "2        3   22    male                      0                     0        0\n",
       "3        4   29  female                      1                     0        0\n",
       "4        5   23    male                      0                     0        0\n",
       "...    ...  ...     ...                    ...                   ...      ...\n",
       "3800  3801   53    male                      0                     0        0\n",
       "3801  3802   25    male                      0                     0        0\n",
       "3802  3803   26  female                      0                     0        0\n",
       "3803  3804   27  female                      0                     0        0\n",
       "3804  3805   49  female                      1                     1        0\n",
       "\n",
       "[3805 rows x 6 columns]"
      ]
     },
     "execution_count": 14,
     "metadata": {},
     "output_type": "execute_result"
    }
   ],
   "source": [
    "train_df"
   ]
  },
  {
   "cell_type": "code",
   "execution_count": 15,
   "id": "2f805709",
   "metadata": {
    "ExecuteTime": {
     "end_time": "2022-07-07T12:10:40.481771Z",
     "start_time": "2022-07-07T12:10:40.470812Z"
    }
   },
   "outputs": [
    {
     "data": {
      "text/html": [
       "<div>\n",
       "<style scoped>\n",
       "    .dataframe tbody tr th:only-of-type {\n",
       "        vertical-align: middle;\n",
       "    }\n",
       "\n",
       "    .dataframe tbody tr th {\n",
       "        vertical-align: top;\n",
       "    }\n",
       "\n",
       "    .dataframe thead th {\n",
       "        text-align: right;\n",
       "    }\n",
       "</style>\n",
       "<table border=\"1\" class=\"dataframe\">\n",
       "  <thead>\n",
       "    <tr style=\"text-align: right;\">\n",
       "      <th></th>\n",
       "      <th>id</th>\n",
       "      <th>age</th>\n",
       "      <th>gender</th>\n",
       "      <th>respiratory_condition</th>\n",
       "      <th>fever_or_muscle_pain</th>\n",
       "    </tr>\n",
       "  </thead>\n",
       "  <tbody>\n",
       "    <tr>\n",
       "      <th>0</th>\n",
       "      <td>3806</td>\n",
       "      <td>48</td>\n",
       "      <td>female</td>\n",
       "      <td>1</td>\n",
       "      <td>0</td>\n",
       "    </tr>\n",
       "    <tr>\n",
       "      <th>1</th>\n",
       "      <td>3807</td>\n",
       "      <td>24</td>\n",
       "      <td>female</td>\n",
       "      <td>0</td>\n",
       "      <td>0</td>\n",
       "    </tr>\n",
       "    <tr>\n",
       "      <th>2</th>\n",
       "      <td>3808</td>\n",
       "      <td>29</td>\n",
       "      <td>male</td>\n",
       "      <td>0</td>\n",
       "      <td>0</td>\n",
       "    </tr>\n",
       "    <tr>\n",
       "      <th>3</th>\n",
       "      <td>3809</td>\n",
       "      <td>39</td>\n",
       "      <td>female</td>\n",
       "      <td>0</td>\n",
       "      <td>0</td>\n",
       "    </tr>\n",
       "    <tr>\n",
       "      <th>4</th>\n",
       "      <td>3810</td>\n",
       "      <td>34</td>\n",
       "      <td>male</td>\n",
       "      <td>0</td>\n",
       "      <td>0</td>\n",
       "    </tr>\n",
       "    <tr>\n",
       "      <th>...</th>\n",
       "      <td>...</td>\n",
       "      <td>...</td>\n",
       "      <td>...</td>\n",
       "      <td>...</td>\n",
       "      <td>...</td>\n",
       "    </tr>\n",
       "    <tr>\n",
       "      <th>5727</th>\n",
       "      <td>9533</td>\n",
       "      <td>43</td>\n",
       "      <td>male</td>\n",
       "      <td>0</td>\n",
       "      <td>0</td>\n",
       "    </tr>\n",
       "    <tr>\n",
       "      <th>5728</th>\n",
       "      <td>9534</td>\n",
       "      <td>48</td>\n",
       "      <td>female</td>\n",
       "      <td>0</td>\n",
       "      <td>1</td>\n",
       "    </tr>\n",
       "    <tr>\n",
       "      <th>5729</th>\n",
       "      <td>9535</td>\n",
       "      <td>44</td>\n",
       "      <td>female</td>\n",
       "      <td>0</td>\n",
       "      <td>0</td>\n",
       "    </tr>\n",
       "    <tr>\n",
       "      <th>5730</th>\n",
       "      <td>9536</td>\n",
       "      <td>25</td>\n",
       "      <td>female</td>\n",
       "      <td>0</td>\n",
       "      <td>0</td>\n",
       "    </tr>\n",
       "    <tr>\n",
       "      <th>5731</th>\n",
       "      <td>9537</td>\n",
       "      <td>17</td>\n",
       "      <td>female</td>\n",
       "      <td>1</td>\n",
       "      <td>1</td>\n",
       "    </tr>\n",
       "  </tbody>\n",
       "</table>\n",
       "<p>5732 rows × 5 columns</p>\n",
       "</div>"
      ],
      "text/plain": [
       "        id  age  gender  respiratory_condition  fever_or_muscle_pain\n",
       "0     3806   48  female                      1                     0\n",
       "1     3807   24  female                      0                     0\n",
       "2     3808   29    male                      0                     0\n",
       "3     3809   39  female                      0                     0\n",
       "4     3810   34    male                      0                     0\n",
       "...    ...  ...     ...                    ...                   ...\n",
       "5727  9533   43    male                      0                     0\n",
       "5728  9534   48  female                      0                     1\n",
       "5729  9535   44  female                      0                     0\n",
       "5730  9536   25  female                      0                     0\n",
       "5731  9537   17  female                      1                     1\n",
       "\n",
       "[5732 rows x 5 columns]"
      ]
     },
     "execution_count": 15,
     "metadata": {},
     "output_type": "execute_result"
    }
   ],
   "source": [
    "test_df"
   ]
  },
  {
   "cell_type": "code",
   "execution_count": 17,
   "id": "1756d5d6",
   "metadata": {
    "ExecuteTime": {
     "end_time": "2022-07-07T12:11:00.370762Z",
     "start_time": "2022-07-07T12:11:00.363519Z"
    }
   },
   "outputs": [],
   "source": [
    "data = pd.concat([train_df.drop(columns=['covid19']), test_df]).reset_index()"
   ]
  },
  {
   "cell_type": "code",
   "execution_count": 18,
   "id": "09c93d1b",
   "metadata": {
    "ExecuteTime": {
     "end_time": "2022-07-07T12:11:02.681993Z",
     "start_time": "2022-07-07T12:11:02.668914Z"
    }
   },
   "outputs": [
    {
     "data": {
      "text/html": [
       "<div>\n",
       "<style scoped>\n",
       "    .dataframe tbody tr th:only-of-type {\n",
       "        vertical-align: middle;\n",
       "    }\n",
       "\n",
       "    .dataframe tbody tr th {\n",
       "        vertical-align: top;\n",
       "    }\n",
       "\n",
       "    .dataframe thead th {\n",
       "        text-align: right;\n",
       "    }\n",
       "</style>\n",
       "<table border=\"1\" class=\"dataframe\">\n",
       "  <thead>\n",
       "    <tr style=\"text-align: right;\">\n",
       "      <th></th>\n",
       "      <th>index</th>\n",
       "      <th>id</th>\n",
       "      <th>age</th>\n",
       "      <th>gender</th>\n",
       "      <th>respiratory_condition</th>\n",
       "      <th>fever_or_muscle_pain</th>\n",
       "    </tr>\n",
       "  </thead>\n",
       "  <tbody>\n",
       "    <tr>\n",
       "      <th>0</th>\n",
       "      <td>0</td>\n",
       "      <td>1</td>\n",
       "      <td>24</td>\n",
       "      <td>female</td>\n",
       "      <td>0</td>\n",
       "      <td>1</td>\n",
       "    </tr>\n",
       "    <tr>\n",
       "      <th>1</th>\n",
       "      <td>1</td>\n",
       "      <td>2</td>\n",
       "      <td>51</td>\n",
       "      <td>male</td>\n",
       "      <td>0</td>\n",
       "      <td>0</td>\n",
       "    </tr>\n",
       "    <tr>\n",
       "      <th>2</th>\n",
       "      <td>2</td>\n",
       "      <td>3</td>\n",
       "      <td>22</td>\n",
       "      <td>male</td>\n",
       "      <td>0</td>\n",
       "      <td>0</td>\n",
       "    </tr>\n",
       "    <tr>\n",
       "      <th>3</th>\n",
       "      <td>3</td>\n",
       "      <td>4</td>\n",
       "      <td>29</td>\n",
       "      <td>female</td>\n",
       "      <td>1</td>\n",
       "      <td>0</td>\n",
       "    </tr>\n",
       "    <tr>\n",
       "      <th>4</th>\n",
       "      <td>4</td>\n",
       "      <td>5</td>\n",
       "      <td>23</td>\n",
       "      <td>male</td>\n",
       "      <td>0</td>\n",
       "      <td>0</td>\n",
       "    </tr>\n",
       "    <tr>\n",
       "      <th>...</th>\n",
       "      <td>...</td>\n",
       "      <td>...</td>\n",
       "      <td>...</td>\n",
       "      <td>...</td>\n",
       "      <td>...</td>\n",
       "      <td>...</td>\n",
       "    </tr>\n",
       "    <tr>\n",
       "      <th>9532</th>\n",
       "      <td>5727</td>\n",
       "      <td>9533</td>\n",
       "      <td>43</td>\n",
       "      <td>male</td>\n",
       "      <td>0</td>\n",
       "      <td>0</td>\n",
       "    </tr>\n",
       "    <tr>\n",
       "      <th>9533</th>\n",
       "      <td>5728</td>\n",
       "      <td>9534</td>\n",
       "      <td>48</td>\n",
       "      <td>female</td>\n",
       "      <td>0</td>\n",
       "      <td>1</td>\n",
       "    </tr>\n",
       "    <tr>\n",
       "      <th>9534</th>\n",
       "      <td>5729</td>\n",
       "      <td>9535</td>\n",
       "      <td>44</td>\n",
       "      <td>female</td>\n",
       "      <td>0</td>\n",
       "      <td>0</td>\n",
       "    </tr>\n",
       "    <tr>\n",
       "      <th>9535</th>\n",
       "      <td>5730</td>\n",
       "      <td>9536</td>\n",
       "      <td>25</td>\n",
       "      <td>female</td>\n",
       "      <td>0</td>\n",
       "      <td>0</td>\n",
       "    </tr>\n",
       "    <tr>\n",
       "      <th>9536</th>\n",
       "      <td>5731</td>\n",
       "      <td>9537</td>\n",
       "      <td>17</td>\n",
       "      <td>female</td>\n",
       "      <td>1</td>\n",
       "      <td>1</td>\n",
       "    </tr>\n",
       "  </tbody>\n",
       "</table>\n",
       "<p>9537 rows × 6 columns</p>\n",
       "</div>"
      ],
      "text/plain": [
       "      index    id  age  gender  respiratory_condition  fever_or_muscle_pain\n",
       "0         0     1   24  female                      0                     1\n",
       "1         1     2   51    male                      0                     0\n",
       "2         2     3   22    male                      0                     0\n",
       "3         3     4   29  female                      1                     0\n",
       "4         4     5   23    male                      0                     0\n",
       "...     ...   ...  ...     ...                    ...                   ...\n",
       "9532   5727  9533   43    male                      0                     0\n",
       "9533   5728  9534   48  female                      0                     1\n",
       "9534   5729  9535   44  female                      0                     0\n",
       "9535   5730  9536   25  female                      0                     0\n",
       "9536   5731  9537   17  female                      1                     1\n",
       "\n",
       "[9537 rows x 6 columns]"
      ]
     },
     "execution_count": 18,
     "metadata": {},
     "output_type": "execute_result"
    }
   ],
   "source": [
    "data"
   ]
  },
  {
   "cell_type": "markdown",
   "id": "fb2a0055",
   "metadata": {},
   "source": [
    "# Data Pre-Processing 2"
   ]
  },
  {
   "cell_type": "code",
   "execution_count": null,
   "id": "8af9c362",
   "metadata": {
    "ExecuteTime": {
     "end_time": "2022-07-07T11:56:19.619925Z",
     "start_time": "2022-07-07T11:56:19.606485Z"
    }
   },
   "outputs": [],
   "source": [
    "# wav 파일의 MFCC Feature와 상태정보를 합친 학습데이터를 불러옵니다.\n",
    "train_df = pd.read_csv('./train_mfcc_data.csv')\n",
    "\n",
    "# 학습데이터를 모델의 input으로 들어갈 x와 label로 사용할 y로 분할\n",
    "train_x = train_df.drop(columns=['id', 'covid19'])\n",
    "train_y = train_df['covid19']"
   ]
  },
  {
   "cell_type": "code",
   "execution_count": null,
   "id": "232fb037",
   "metadata": {
    "ExecuteTime": {
     "end_time": "2022-07-07T11:56:19.622730Z",
     "start_time": "2022-07-07T11:56:19.620663Z"
    }
   },
   "outputs": [],
   "source": [
    "def onehot_encoding(ohe, x):\n",
    "    # 학습데이터로 부터 fit된 one-hot encoder (ohe)를 받아 transform 시켜주는 함수\n",
    "    encoded = ohe.transform(x['gender'].values.reshape(-1,1))\n",
    "    encoded_df = pd.DataFrame(encoded, columns=ohe.categories_[0])\n",
    "    x = pd.concat([x.drop(columns=['gender']), encoded_df], axis=1)\n",
    "    return x"
   ]
  },
  {
   "cell_type": "code",
   "execution_count": null,
   "id": "79181893",
   "metadata": {
    "ExecuteTime": {
     "end_time": "2022-07-07T11:56:19.626751Z",
     "start_time": "2022-07-07T11:56:19.623429Z"
    }
   },
   "outputs": [],
   "source": [
    "# 'gender' column의 경우 추가 전처리가 필요 -> OneHotEncoder 적용\n",
    "ohe = OneHotEncoder(sparse=False)\n",
    "ohe.fit(train_x['gender'].values.reshape(-1,1))\n",
    "train_x = onehot_encoding(ohe, train_x)"
   ]
  },
  {
   "cell_type": "code",
   "execution_count": null,
   "id": "89377403",
   "metadata": {
    "ExecuteTime": {
     "end_time": "2022-07-07T11:56:19.637077Z",
     "start_time": "2022-07-07T11:56:19.627564Z"
    }
   },
   "outputs": [],
   "source": [
    "train_x"
   ]
  },
  {
   "cell_type": "code",
   "execution_count": null,
   "id": "5580ea9f",
   "metadata": {
    "ExecuteTime": {
     "end_time": "2022-07-07T11:56:19.640102Z",
     "start_time": "2022-07-07T11:56:19.637827Z"
    }
   },
   "outputs": [],
   "source": [
    "train_y.value_counts()"
   ]
  },
  {
   "cell_type": "markdown",
   "id": "8ac89c1e",
   "metadata": {},
   "source": [
    "# Modeling"
   ]
  },
  {
   "cell_type": "code",
   "execution_count": null,
   "id": "0f83ec84",
   "metadata": {
    "ExecuteTime": {
     "end_time": "2022-07-07T11:56:19.642102Z",
     "start_time": "2022-07-07T11:56:19.640820Z"
    }
   },
   "outputs": [],
   "source": [
    "# import tensorflow as tf"
   ]
  },
  {
   "cell_type": "code",
   "execution_count": null,
   "id": "19fdc08a",
   "metadata": {
    "ExecuteTime": {
     "end_time": "2022-07-07T11:56:19.644132Z",
     "start_time": "2022-07-07T11:56:19.642727Z"
    }
   },
   "outputs": [],
   "source": [
    "# model = tf.keras.models.Sequential([\n",
    "#   tf.keras.layers.Flatten(input_shape=(28, 28)),\n",
    "#   tf.keras.layers.Dense(128, activation='relu'),\n",
    "#   tf.keras.layers.Dropout(0.2),\n",
    "#   tf.keras.layers.Dense(10, activation='softmax')\n",
    "# ])\n",
    "\n",
    "# model.compile(optimizer='adam',\n",
    "#               loss='binary_crossentropy',\n",
    "#               metrics=['accuracy'])"
   ]
  },
  {
   "cell_type": "markdown",
   "id": "574ec00a",
   "metadata": {},
   "source": [
    "# Train"
   ]
  },
  {
   "cell_type": "code",
   "execution_count": null,
   "id": "0f79d46e",
   "metadata": {
    "ExecuteTime": {
     "end_time": "2022-07-07T11:56:20.422866Z",
     "start_time": "2022-07-07T11:56:19.644917Z"
    }
   },
   "outputs": [],
   "source": [
    "mlp = MLPClassifier(random_state=CFG['SEED']) # Sklearn에서 제공하는 Multi-layer Perceptron classifier 사용\n",
    "mlp.fit(train_x, train_y) # Model Train"
   ]
  },
  {
   "cell_type": "markdown",
   "id": "27b6a181",
   "metadata": {},
   "source": [
    "# Inference"
   ]
  },
  {
   "cell_type": "code",
   "execution_count": null,
   "id": "eb8b8b01",
   "metadata": {
    "ExecuteTime": {
     "end_time": "2022-07-07T11:56:20.443056Z",
     "start_time": "2022-07-07T11:56:20.423785Z"
    }
   },
   "outputs": [],
   "source": [
    "# 위의 학습데이터를 전처리한 과정과 동일하게 test data에도 적용\n",
    "test_x = pd.read_csv('./test_mfcc_data.csv')\n",
    "test_x = test_x.drop(columns=['id'])\n",
    "# Data Leakage에 유의하여 train data로만 학습된 ohe를 사용\n",
    "test_x = onehot_encoding(ohe, test_x)"
   ]
  },
  {
   "cell_type": "code",
   "execution_count": null,
   "id": "3c3653a2",
   "metadata": {
    "ExecuteTime": {
     "end_time": "2022-07-07T11:56:20.450512Z",
     "start_time": "2022-07-07T11:56:20.443906Z"
    }
   },
   "outputs": [],
   "source": [
    "\n",
    "# Model 추론\n",
    "preds = mlp.predict(test_x)\n"
   ]
  },
  {
   "cell_type": "code",
   "execution_count": null,
   "id": "cdb9015d",
   "metadata": {
    "ExecuteTime": {
     "end_time": "2022-07-07T11:56:30.656434Z",
     "start_time": "2022-07-07T11:56:30.652537Z"
    }
   },
   "outputs": [],
   "source": [
    "preds"
   ]
  },
  {
   "cell_type": "code",
   "execution_count": null,
   "id": "c18757b5",
   "metadata": {
    "ExecuteTime": {
     "end_time": "2022-07-07T11:56:20.460220Z",
     "start_time": "2022-07-07T11:56:20.451286Z"
    }
   },
   "outputs": [],
   "source": [
    "# 정확도\n",
    "\n",
    "print(\"훈련 세트 정확도 : {:.3f}\".format(mlp.score(train_x, train_y)))\n",
    "print(\"테스트 세트 정확도 : {:.3f}\".format(mlp.score(test_x, preds)))"
   ]
  },
  {
   "cell_type": "markdown",
   "id": "67433c7c",
   "metadata": {},
   "source": [
    "# Submission"
   ]
  },
  {
   "cell_type": "code",
   "execution_count": null,
   "id": "41bf4ffd",
   "metadata": {
    "ExecuteTime": {
     "start_time": "2022-07-07T11:18:54.352Z"
    }
   },
   "outputs": [],
   "source": [
    "submission = pd.read_csv('./sample_submission.csv')\n",
    "submission['covid19'] = preds\n",
    "submission.to_csv('./submit.csv', index=False)"
   ]
  },
  {
   "cell_type": "code",
   "execution_count": null,
   "id": "98061cfa",
   "metadata": {},
   "outputs": [],
   "source": []
  }
 ],
 "metadata": {
  "kernelspec": {
   "display_name": "Python 3 (ipykernel)",
   "language": "python",
   "name": "python3"
  },
  "language_info": {
   "codemirror_mode": {
    "name": "ipython",
    "version": 3
   },
   "file_extension": ".py",
   "mimetype": "text/x-python",
   "name": "python",
   "nbconvert_exporter": "python",
   "pygments_lexer": "ipython3",
   "version": "3.8.13"
  },
  "toc": {
   "base_numbering": 1,
   "nav_menu": {},
   "number_sections": false,
   "sideBar": true,
   "skip_h1_title": false,
   "title_cell": "Table of Contents",
   "title_sidebar": "Contents",
   "toc_cell": false,
   "toc_position": {},
   "toc_section_display": true,
   "toc_window_display": false
  }
 },
 "nbformat": 4,
 "nbformat_minor": 5
}
