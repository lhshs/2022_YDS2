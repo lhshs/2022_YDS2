{
 "cells": [
  {
   "cell_type": "code",
   "execution_count": 59,
   "id": "5bbe589b",
   "metadata": {
    "ExecuteTime": {
     "end_time": "2022-06-13T14:26:33.425369Z",
     "start_time": "2022-06-13T14:26:33.420869Z"
    }
   },
   "outputs": [],
   "source": [
    "import numpy as np\n",
    "import pandas as pd\n",
    "import matplotlib.pyplot as plt\n",
    "\n",
    "from sklearn.model_selection import train_test_split\n",
    "from xgboost import XGBClassifier\n",
    "from sklearn.preprocessing import LabelEncoder\n",
    "from sklearn.metrics import accuracy_score"
   ]
  },
  {
   "cell_type": "code",
   "execution_count": 2,
   "id": "e585e456",
   "metadata": {
    "ExecuteTime": {
     "end_time": "2022-06-13T13:45:34.106986Z",
     "start_time": "2022-06-13T13:45:23.755488Z"
    }
   },
   "outputs": [],
   "source": [
    "train = pd.read_csv('train_imputed_heatmap.csv')\n",
    "test = pd.read_csv('test_02.csv')\n",
    "\n",
    "submission = pd.read_csv('sample_submission.csv')"
   ]
  },
  {
   "cell_type": "code",
   "execution_count": 32,
   "id": "ee4b9281",
   "metadata": {
    "ExecuteTime": {
     "end_time": "2022-06-13T13:57:17.104937Z",
     "start_time": "2022-06-13T13:57:17.099966Z"
    }
   },
   "outputs": [
    {
     "name": "stdout",
     "output_type": "stream",
     "text": [
      "(590540, 79)\n",
      "(506691, 156)\n",
      "(506691, 2)\n"
     ]
    }
   ],
   "source": [
    "print(train.shape)\n",
    "print(test.shape)\n",
    "print(submission.shape)"
   ]
  },
  {
   "cell_type": "code",
   "execution_count": 52,
   "id": "71c84d2e",
   "metadata": {
    "ExecuteTime": {
     "end_time": "2022-06-13T14:19:54.944694Z",
     "start_time": "2022-06-13T14:19:54.772181Z"
    }
   },
   "outputs": [
    {
     "data": {
      "text/html": [
       "<div>\n",
       "<style scoped>\n",
       "    .dataframe tbody tr th:only-of-type {\n",
       "        vertical-align: middle;\n",
       "    }\n",
       "\n",
       "    .dataframe tbody tr th {\n",
       "        vertical-align: top;\n",
       "    }\n",
       "\n",
       "    .dataframe thead th {\n",
       "        text-align: right;\n",
       "    }\n",
       "</style>\n",
       "<table border=\"1\" class=\"dataframe\">\n",
       "  <thead>\n",
       "    <tr style=\"text-align: right;\">\n",
       "      <th></th>\n",
       "      <th>TransactionID</th>\n",
       "      <th>TransactionDT</th>\n",
       "      <th>TransactionAmt</th>\n",
       "      <th>ProductCD</th>\n",
       "      <th>card1</th>\n",
       "      <th>card2</th>\n",
       "      <th>card3</th>\n",
       "      <th>card4</th>\n",
       "      <th>card5</th>\n",
       "      <th>card6</th>\n",
       "      <th>...</th>\n",
       "      <th>V287</th>\n",
       "      <th>V288</th>\n",
       "      <th>V289</th>\n",
       "      <th>V291</th>\n",
       "      <th>V304</th>\n",
       "      <th>V303</th>\n",
       "      <th>V310</th>\n",
       "      <th>V312</th>\n",
       "      <th>V315</th>\n",
       "      <th>V314</th>\n",
       "    </tr>\n",
       "  </thead>\n",
       "  <tbody>\n",
       "    <tr>\n",
       "      <th>0</th>\n",
       "      <td>2987000.0</td>\n",
       "      <td>86400.0</td>\n",
       "      <td>68.500000</td>\n",
       "      <td>4.0</td>\n",
       "      <td>13926.0</td>\n",
       "      <td>441.0</td>\n",
       "      <td>150.0</td>\n",
       "      <td>1.0</td>\n",
       "      <td>142.0</td>\n",
       "      <td>1.0</td>\n",
       "      <td>...</td>\n",
       "      <td>0.0</td>\n",
       "      <td>0.0</td>\n",
       "      <td>0.0</td>\n",
       "      <td>1.0</td>\n",
       "      <td>0.0</td>\n",
       "      <td>0.0</td>\n",
       "      <td>0.0000</td>\n",
       "      <td>0.0</td>\n",
       "      <td>0.0000</td>\n",
       "      <td>0.0000</td>\n",
       "    </tr>\n",
       "    <tr>\n",
       "      <th>1</th>\n",
       "      <td>2987001.0</td>\n",
       "      <td>86401.0</td>\n",
       "      <td>29.000000</td>\n",
       "      <td>4.0</td>\n",
       "      <td>2755.0</td>\n",
       "      <td>404.0</td>\n",
       "      <td>150.0</td>\n",
       "      <td>2.0</td>\n",
       "      <td>102.0</td>\n",
       "      <td>1.0</td>\n",
       "      <td>...</td>\n",
       "      <td>0.0</td>\n",
       "      <td>0.0</td>\n",
       "      <td>0.0</td>\n",
       "      <td>1.0</td>\n",
       "      <td>0.0</td>\n",
       "      <td>0.0</td>\n",
       "      <td>0.0000</td>\n",
       "      <td>0.0</td>\n",
       "      <td>0.0000</td>\n",
       "      <td>0.0000</td>\n",
       "    </tr>\n",
       "    <tr>\n",
       "      <th>2</th>\n",
       "      <td>2987002.0</td>\n",
       "      <td>86469.0</td>\n",
       "      <td>59.000000</td>\n",
       "      <td>4.0</td>\n",
       "      <td>4663.0</td>\n",
       "      <td>490.0</td>\n",
       "      <td>150.0</td>\n",
       "      <td>4.0</td>\n",
       "      <td>166.0</td>\n",
       "      <td>2.0</td>\n",
       "      <td>...</td>\n",
       "      <td>0.0</td>\n",
       "      <td>0.0</td>\n",
       "      <td>0.0</td>\n",
       "      <td>1.0</td>\n",
       "      <td>0.0</td>\n",
       "      <td>0.0</td>\n",
       "      <td>0.0000</td>\n",
       "      <td>0.0</td>\n",
       "      <td>0.0000</td>\n",
       "      <td>0.0000</td>\n",
       "    </tr>\n",
       "    <tr>\n",
       "      <th>3</th>\n",
       "      <td>2987003.0</td>\n",
       "      <td>86499.0</td>\n",
       "      <td>50.000000</td>\n",
       "      <td>4.0</td>\n",
       "      <td>18132.0</td>\n",
       "      <td>567.0</td>\n",
       "      <td>150.0</td>\n",
       "      <td>2.0</td>\n",
       "      <td>117.0</td>\n",
       "      <td>2.0</td>\n",
       "      <td>...</td>\n",
       "      <td>4.0</td>\n",
       "      <td>0.0</td>\n",
       "      <td>0.0</td>\n",
       "      <td>1.0</td>\n",
       "      <td>0.0</td>\n",
       "      <td>0.0</td>\n",
       "      <td>354.0000</td>\n",
       "      <td>135.0</td>\n",
       "      <td>0.0000</td>\n",
       "      <td>0.0000</td>\n",
       "    </tr>\n",
       "    <tr>\n",
       "      <th>4</th>\n",
       "      <td>2987004.0</td>\n",
       "      <td>86506.0</td>\n",
       "      <td>50.000000</td>\n",
       "      <td>1.0</td>\n",
       "      <td>4497.0</td>\n",
       "      <td>514.0</td>\n",
       "      <td>150.0</td>\n",
       "      <td>2.0</td>\n",
       "      <td>102.0</td>\n",
       "      <td>1.0</td>\n",
       "      <td>...</td>\n",
       "      <td>0.0</td>\n",
       "      <td>0.0</td>\n",
       "      <td>0.0</td>\n",
       "      <td>1.0</td>\n",
       "      <td>1.0</td>\n",
       "      <td>1.0</td>\n",
       "      <td>0.0000</td>\n",
       "      <td>0.0</td>\n",
       "      <td>0.0000</td>\n",
       "      <td>0.0000</td>\n",
       "    </tr>\n",
       "    <tr>\n",
       "      <th>...</th>\n",
       "      <td>...</td>\n",
       "      <td>...</td>\n",
       "      <td>...</td>\n",
       "      <td>...</td>\n",
       "      <td>...</td>\n",
       "      <td>...</td>\n",
       "      <td>...</td>\n",
       "      <td>...</td>\n",
       "      <td>...</td>\n",
       "      <td>...</td>\n",
       "      <td>...</td>\n",
       "      <td>...</td>\n",
       "      <td>...</td>\n",
       "      <td>...</td>\n",
       "      <td>...</td>\n",
       "      <td>...</td>\n",
       "      <td>...</td>\n",
       "      <td>...</td>\n",
       "      <td>...</td>\n",
       "      <td>...</td>\n",
       "      <td>...</td>\n",
       "    </tr>\n",
       "    <tr>\n",
       "      <th>590535</th>\n",
       "      <td>3577535.0</td>\n",
       "      <td>15811047.0</td>\n",
       "      <td>49.000000</td>\n",
       "      <td>4.0</td>\n",
       "      <td>6550.0</td>\n",
       "      <td>523.8</td>\n",
       "      <td>150.0</td>\n",
       "      <td>4.0</td>\n",
       "      <td>226.0</td>\n",
       "      <td>2.0</td>\n",
       "      <td>...</td>\n",
       "      <td>0.0</td>\n",
       "      <td>1.0</td>\n",
       "      <td>1.0</td>\n",
       "      <td>1.0</td>\n",
       "      <td>0.0</td>\n",
       "      <td>0.0</td>\n",
       "      <td>47.9375</td>\n",
       "      <td>0.0</td>\n",
       "      <td>47.9375</td>\n",
       "      <td>47.9375</td>\n",
       "    </tr>\n",
       "    <tr>\n",
       "      <th>590536</th>\n",
       "      <td>3577536.0</td>\n",
       "      <td>15811049.0</td>\n",
       "      <td>39.500000</td>\n",
       "      <td>4.0</td>\n",
       "      <td>10444.0</td>\n",
       "      <td>225.0</td>\n",
       "      <td>150.0</td>\n",
       "      <td>2.0</td>\n",
       "      <td>224.0</td>\n",
       "      <td>2.0</td>\n",
       "      <td>...</td>\n",
       "      <td>0.0</td>\n",
       "      <td>0.0</td>\n",
       "      <td>0.0</td>\n",
       "      <td>1.0</td>\n",
       "      <td>0.0</td>\n",
       "      <td>0.0</td>\n",
       "      <td>0.0000</td>\n",
       "      <td>0.0</td>\n",
       "      <td>0.0000</td>\n",
       "      <td>0.0000</td>\n",
       "    </tr>\n",
       "    <tr>\n",
       "      <th>590537</th>\n",
       "      <td>3577537.0</td>\n",
       "      <td>15811079.0</td>\n",
       "      <td>30.953125</td>\n",
       "      <td>4.0</td>\n",
       "      <td>12037.0</td>\n",
       "      <td>595.0</td>\n",
       "      <td>150.0</td>\n",
       "      <td>2.0</td>\n",
       "      <td>224.0</td>\n",
       "      <td>2.0</td>\n",
       "      <td>...</td>\n",
       "      <td>0.0</td>\n",
       "      <td>0.0</td>\n",
       "      <td>0.0</td>\n",
       "      <td>1.0</td>\n",
       "      <td>0.0</td>\n",
       "      <td>0.0</td>\n",
       "      <td>0.0000</td>\n",
       "      <td>0.0</td>\n",
       "      <td>0.0000</td>\n",
       "      <td>0.0000</td>\n",
       "    </tr>\n",
       "    <tr>\n",
       "      <th>590538</th>\n",
       "      <td>3577538.0</td>\n",
       "      <td>15811088.0</td>\n",
       "      <td>117.000000</td>\n",
       "      <td>4.0</td>\n",
       "      <td>7826.0</td>\n",
       "      <td>481.0</td>\n",
       "      <td>150.0</td>\n",
       "      <td>2.0</td>\n",
       "      <td>224.0</td>\n",
       "      <td>2.0</td>\n",
       "      <td>...</td>\n",
       "      <td>1.0</td>\n",
       "      <td>1.0</td>\n",
       "      <td>1.0</td>\n",
       "      <td>2.0</td>\n",
       "      <td>0.0</td>\n",
       "      <td>0.0</td>\n",
       "      <td>669.5000</td>\n",
       "      <td>117.0</td>\n",
       "      <td>317.5000</td>\n",
       "      <td>669.5000</td>\n",
       "    </tr>\n",
       "    <tr>\n",
       "      <th>590539</th>\n",
       "      <td>3577539.0</td>\n",
       "      <td>15811131.0</td>\n",
       "      <td>280.000000</td>\n",
       "      <td>4.0</td>\n",
       "      <td>15066.0</td>\n",
       "      <td>170.0</td>\n",
       "      <td>150.0</td>\n",
       "      <td>2.0</td>\n",
       "      <td>102.0</td>\n",
       "      <td>1.0</td>\n",
       "      <td>...</td>\n",
       "      <td>0.0</td>\n",
       "      <td>0.0</td>\n",
       "      <td>0.0</td>\n",
       "      <td>1.0</td>\n",
       "      <td>0.0</td>\n",
       "      <td>0.0</td>\n",
       "      <td>0.0000</td>\n",
       "      <td>0.0</td>\n",
       "      <td>0.0000</td>\n",
       "      <td>0.0000</td>\n",
       "    </tr>\n",
       "  </tbody>\n",
       "</table>\n",
       "<p>590540 rows × 77 columns</p>\n",
       "</div>"
      ],
      "text/plain": [
       "        TransactionID  TransactionDT  TransactionAmt  ProductCD    card1  \\\n",
       "0           2987000.0        86400.0       68.500000        4.0  13926.0   \n",
       "1           2987001.0        86401.0       29.000000        4.0   2755.0   \n",
       "2           2987002.0        86469.0       59.000000        4.0   4663.0   \n",
       "3           2987003.0        86499.0       50.000000        4.0  18132.0   \n",
       "4           2987004.0        86506.0       50.000000        1.0   4497.0   \n",
       "...               ...            ...             ...        ...      ...   \n",
       "590535      3577535.0     15811047.0       49.000000        4.0   6550.0   \n",
       "590536      3577536.0     15811049.0       39.500000        4.0  10444.0   \n",
       "590537      3577537.0     15811079.0       30.953125        4.0  12037.0   \n",
       "590538      3577538.0     15811088.0      117.000000        4.0   7826.0   \n",
       "590539      3577539.0     15811131.0      280.000000        4.0  15066.0   \n",
       "\n",
       "        card2  card3  card4  card5  card6  ...  V287  V288  V289  V291  V304  \\\n",
       "0       441.0  150.0    1.0  142.0    1.0  ...   0.0   0.0   0.0   1.0   0.0   \n",
       "1       404.0  150.0    2.0  102.0    1.0  ...   0.0   0.0   0.0   1.0   0.0   \n",
       "2       490.0  150.0    4.0  166.0    2.0  ...   0.0   0.0   0.0   1.0   0.0   \n",
       "3       567.0  150.0    2.0  117.0    2.0  ...   4.0   0.0   0.0   1.0   0.0   \n",
       "4       514.0  150.0    2.0  102.0    1.0  ...   0.0   0.0   0.0   1.0   1.0   \n",
       "...       ...    ...    ...    ...    ...  ...   ...   ...   ...   ...   ...   \n",
       "590535  523.8  150.0    4.0  226.0    2.0  ...   0.0   1.0   1.0   1.0   0.0   \n",
       "590536  225.0  150.0    2.0  224.0    2.0  ...   0.0   0.0   0.0   1.0   0.0   \n",
       "590537  595.0  150.0    2.0  224.0    2.0  ...   0.0   0.0   0.0   1.0   0.0   \n",
       "590538  481.0  150.0    2.0  224.0    2.0  ...   1.0   1.0   1.0   2.0   0.0   \n",
       "590539  170.0  150.0    2.0  102.0    1.0  ...   0.0   0.0   0.0   1.0   0.0   \n",
       "\n",
       "        V303      V310   V312      V315      V314  \n",
       "0        0.0    0.0000    0.0    0.0000    0.0000  \n",
       "1        0.0    0.0000    0.0    0.0000    0.0000  \n",
       "2        0.0    0.0000    0.0    0.0000    0.0000  \n",
       "3        0.0  354.0000  135.0    0.0000    0.0000  \n",
       "4        1.0    0.0000    0.0    0.0000    0.0000  \n",
       "...      ...       ...    ...       ...       ...  \n",
       "590535   0.0   47.9375    0.0   47.9375   47.9375  \n",
       "590536   0.0    0.0000    0.0    0.0000    0.0000  \n",
       "590537   0.0    0.0000    0.0    0.0000    0.0000  \n",
       "590538   0.0  669.5000  117.0  317.5000  669.5000  \n",
       "590539   0.0    0.0000    0.0    0.0000    0.0000  \n",
       "\n",
       "[590540 rows x 77 columns]"
      ]
     },
     "execution_count": 52,
     "metadata": {},
     "output_type": "execute_result"
    }
   ],
   "source": [
    "X_features = train.drop(['Unnamed: 0','isFraud'], axis=1)\n",
    "y_label = train.isFraud\n",
    "X_features "
   ]
  },
  {
   "cell_type": "code",
   "execution_count": 40,
   "id": "ea228bbf",
   "metadata": {
    "ExecuteTime": {
     "end_time": "2022-06-13T14:16:01.312637Z",
     "start_time": "2022-06-13T14:16:01.307607Z"
    }
   },
   "outputs": [
    {
     "data": {
      "text/plain": [
       "pandas.core.series.Series"
      ]
     },
     "execution_count": 40,
     "metadata": {},
     "output_type": "execute_result"
    }
   ],
   "source": [
    "type(X_features['ProductCD'])"
   ]
  },
  {
   "cell_type": "code",
   "execution_count": 28,
   "id": "61d9c227",
   "metadata": {
    "ExecuteTime": {
     "end_time": "2022-06-13T13:54:05.569758Z",
     "start_time": "2022-06-13T13:54:05.564259Z"
    }
   },
   "outputs": [
    {
     "data": {
      "text/plain": [
       "Index([], dtype='object')"
      ]
     },
     "execution_count": 28,
     "metadata": {},
     "output_type": "execute_result"
    }
   ],
   "source": [
    "test.select_dtypes('object').columns"
   ]
  },
  {
   "cell_type": "code",
   "execution_count": 5,
   "id": "b9d209a5",
   "metadata": {
    "ExecuteTime": {
     "end_time": "2022-06-13T13:45:39.938637Z",
     "start_time": "2022-06-13T13:45:39.828094Z"
    }
   },
   "outputs": [],
   "source": [
    "le = LabelEncoder()\n",
    "le.fit(test.ProductCD)\n",
    "# le.classes_\n",
    "# le.transform(['C', 'H', 'R', 'S', 'W'])\n",
    "test.ProductCD = le.transform(test.ProductCD)"
   ]
  },
  {
   "cell_type": "code",
   "execution_count": null,
   "id": "8acf7121",
   "metadata": {
    "ExecuteTime": {
     "end_time": "2022-06-13T13:44:28.753541Z",
     "start_time": "2022-06-13T13:44:28.748043Z"
    }
   },
   "outputs": [],
   "source": [
    "# le.classes_"
   ]
  },
  {
   "cell_type": "code",
   "execution_count": 7,
   "id": "1ef160cd",
   "metadata": {
    "ExecuteTime": {
     "end_time": "2022-06-13T13:46:04.038382Z",
     "start_time": "2022-06-13T13:46:03.923733Z"
    }
   },
   "outputs": [],
   "source": [
    "le.fit(test.card4)\n",
    "test.card4 = le.transform(test.card4)"
   ]
  },
  {
   "cell_type": "code",
   "execution_count": 8,
   "id": "f3ed578e",
   "metadata": {
    "ExecuteTime": {
     "end_time": "2022-06-13T13:46:54.317210Z",
     "start_time": "2022-06-13T13:46:53.213113Z"
    }
   },
   "outputs": [],
   "source": [
    "le.fit(test.card6)\n",
    "test.card6 = le.transform(test.card6)\n",
    "\n",
    "le.fit(test.P_emaildomain)\n",
    "test.P_emaildomain = le.transform(test.P_emaildomain)\n",
    "\n",
    "le.fit(test.M1)\n",
    "test.M1 = le.transform(test.M1)\n",
    "\n",
    "le.fit(test.M2)\n",
    "test.M2 = le.transform(test.M2)\n",
    "\n",
    "le.fit(test.M3)\n",
    "test.M3 = le.transform(test.M3)\n",
    "\n",
    "le.fit(test.M4)\n",
    "test.M4 = le.transform(test.M4)\n",
    "\n",
    "le.fit(test.M5)\n",
    "test.M5 = le.transform(test.M5)\n",
    "\n",
    "le.fit(test.M6)\n",
    "test.M6 = le.transform(test.M6)\n",
    "\n",
    "le.fit(test.M7)\n",
    "test.M7 = le.transform(test.M7)\n",
    "\n",
    "le.fit(test.M8)\n",
    "test.M8 = le.transform(test.M8)\n",
    "\n",
    "le.fit(test.M9)\n",
    "test.M9 = le.transform(test.M9)"
   ]
  },
  {
   "cell_type": "code",
   "execution_count": 12,
   "id": "80c5f0a9",
   "metadata": {
    "ExecuteTime": {
     "end_time": "2022-06-13T13:47:23.331154Z",
     "start_time": "2022-06-13T13:47:23.289153Z"
    }
   },
   "outputs": [
    {
     "data": {
      "text/plain": [
       "0.03499000914417313"
      ]
     },
     "execution_count": 12,
     "metadata": {},
     "output_type": "execute_result"
    }
   ],
   "source": [
    "sum(y)/len(y)"
   ]
  },
  {
   "cell_type": "code",
   "execution_count": 57,
   "id": "956c8a90",
   "metadata": {
    "ExecuteTime": {
     "end_time": "2022-06-13T14:22:14.052105Z",
     "start_time": "2022-06-13T14:22:13.523601Z"
    }
   },
   "outputs": [
    {
     "name": "stdout",
     "output_type": "stream",
     "text": [
      "(442905, 77)\n",
      "(147635, 77)\n",
      "(442905,)\n",
      "(147635,)\n"
     ]
    }
   ],
   "source": [
    "X_train, X_test, y_train, y_test = train_test_split(X_features, y_label) # , test_size = 0.25, random_state = 32)\n",
    "\n",
    "print(X_train.shape)\n",
    "print(X_test.shape)\n",
    "print(y_train.shape)\n",
    "print(y_test.shape)"
   ]
  },
  {
   "cell_type": "code",
   "execution_count": 58,
   "id": "144d9b1f",
   "metadata": {
    "ExecuteTime": {
     "end_time": "2022-06-13T14:26:33.418368Z",
     "start_time": "2022-06-13T14:24:06.491302Z"
    }
   },
   "outputs": [
    {
     "data": {
      "text/html": [
       "<style>#sk-container-id-1 {color: black;background-color: white;}#sk-container-id-1 pre{padding: 0;}#sk-container-id-1 div.sk-toggleable {background-color: white;}#sk-container-id-1 label.sk-toggleable__label {cursor: pointer;display: block;width: 100%;margin-bottom: 0;padding: 0.3em;box-sizing: border-box;text-align: center;}#sk-container-id-1 label.sk-toggleable__label-arrow:before {content: \"▸\";float: left;margin-right: 0.25em;color: #696969;}#sk-container-id-1 label.sk-toggleable__label-arrow:hover:before {color: black;}#sk-container-id-1 div.sk-estimator:hover label.sk-toggleable__label-arrow:before {color: black;}#sk-container-id-1 div.sk-toggleable__content {max-height: 0;max-width: 0;overflow: hidden;text-align: left;background-color: #f0f8ff;}#sk-container-id-1 div.sk-toggleable__content pre {margin: 0.2em;color: black;border-radius: 0.25em;background-color: #f0f8ff;}#sk-container-id-1 input.sk-toggleable__control:checked~div.sk-toggleable__content {max-height: 200px;max-width: 100%;overflow: auto;}#sk-container-id-1 input.sk-toggleable__control:checked~label.sk-toggleable__label-arrow:before {content: \"▾\";}#sk-container-id-1 div.sk-estimator input.sk-toggleable__control:checked~label.sk-toggleable__label {background-color: #d4ebff;}#sk-container-id-1 div.sk-label input.sk-toggleable__control:checked~label.sk-toggleable__label {background-color: #d4ebff;}#sk-container-id-1 input.sk-hidden--visually {border: 0;clip: rect(1px 1px 1px 1px);clip: rect(1px, 1px, 1px, 1px);height: 1px;margin: -1px;overflow: hidden;padding: 0;position: absolute;width: 1px;}#sk-container-id-1 div.sk-estimator {font-family: monospace;background-color: #f0f8ff;border: 1px dotted black;border-radius: 0.25em;box-sizing: border-box;margin-bottom: 0.5em;}#sk-container-id-1 div.sk-estimator:hover {background-color: #d4ebff;}#sk-container-id-1 div.sk-parallel-item::after {content: \"\";width: 100%;border-bottom: 1px solid gray;flex-grow: 1;}#sk-container-id-1 div.sk-label:hover label.sk-toggleable__label {background-color: #d4ebff;}#sk-container-id-1 div.sk-serial::before {content: \"\";position: absolute;border-left: 1px solid gray;box-sizing: border-box;top: 0;bottom: 0;left: 50%;z-index: 0;}#sk-container-id-1 div.sk-serial {display: flex;flex-direction: column;align-items: center;background-color: white;padding-right: 0.2em;padding-left: 0.2em;position: relative;}#sk-container-id-1 div.sk-item {position: relative;z-index: 1;}#sk-container-id-1 div.sk-parallel {display: flex;align-items: stretch;justify-content: center;background-color: white;position: relative;}#sk-container-id-1 div.sk-item::before, #sk-container-id-1 div.sk-parallel-item::before {content: \"\";position: absolute;border-left: 1px solid gray;box-sizing: border-box;top: 0;bottom: 0;left: 50%;z-index: -1;}#sk-container-id-1 div.sk-parallel-item {display: flex;flex-direction: column;z-index: 1;position: relative;background-color: white;}#sk-container-id-1 div.sk-parallel-item:first-child::after {align-self: flex-end;width: 50%;}#sk-container-id-1 div.sk-parallel-item:last-child::after {align-self: flex-start;width: 50%;}#sk-container-id-1 div.sk-parallel-item:only-child::after {width: 0;}#sk-container-id-1 div.sk-dashed-wrapped {border: 1px dashed gray;margin: 0 0.4em 0.5em 0.4em;box-sizing: border-box;padding-bottom: 0.4em;background-color: white;}#sk-container-id-1 div.sk-label label {font-family: monospace;font-weight: bold;display: inline-block;line-height: 1.2em;}#sk-container-id-1 div.sk-label-container {text-align: center;}#sk-container-id-1 div.sk-container {/* jupyter's `normalize.less` sets `[hidden] { display: none; }` but bootstrap.min.css set `[hidden] { display: none !important; }` so we also need the `!important` here to be able to override the default hidden behavior on the sphinx rendered scikit-learn.org. See: https://github.com/scikit-learn/scikit-learn/issues/21755 */display: inline-block !important;position: relative;}#sk-container-id-1 div.sk-text-repr-fallback {display: none;}</style><div id=\"sk-container-id-1\" class=\"sk-top-container\"><div class=\"sk-text-repr-fallback\"><pre>XGBClassifier(base_score=0.5, booster=&#x27;gbtree&#x27;, callbacks=None,\n",
       "              colsample_bylevel=1, colsample_bynode=1, colsample_bytree=1,\n",
       "              early_stopping_rounds=None, enable_categorical=False,\n",
       "              eval_metric=None, gamma=0, gpu_id=-1, grow_policy=&#x27;depthwise&#x27;,\n",
       "              importance_type=None, interaction_constraints=&#x27;&#x27;,\n",
       "              learning_rate=0.2, max_bin=256, max_cat_to_onehot=4,\n",
       "              max_delta_step=0, max_depth=4, max_leaves=0, min_child_weight=1,\n",
       "              missing=nan, monotone_constraints=&#x27;()&#x27;, n_estimators=500,\n",
       "              n_jobs=0, num_parallel_tree=1, predictor=&#x27;auto&#x27;, random_state=0,\n",
       "              reg_alpha=0, reg_lambda=1, ...)</pre><b>In a Jupyter environment, please rerun this cell to show the HTML representation or trust the notebook. <br />On GitHub, the HTML representation is unable to render, please try loading this page with nbviewer.org.</b></div><div class=\"sk-container\" hidden><div class=\"sk-item\"><div class=\"sk-estimator sk-toggleable\"><input class=\"sk-toggleable__control sk-hidden--visually\" id=\"sk-estimator-id-1\" type=\"checkbox\" checked><label for=\"sk-estimator-id-1\" class=\"sk-toggleable__label sk-toggleable__label-arrow\">XGBClassifier</label><div class=\"sk-toggleable__content\"><pre>XGBClassifier(base_score=0.5, booster=&#x27;gbtree&#x27;, callbacks=None,\n",
       "              colsample_bylevel=1, colsample_bynode=1, colsample_bytree=1,\n",
       "              early_stopping_rounds=None, enable_categorical=False,\n",
       "              eval_metric=None, gamma=0, gpu_id=-1, grow_policy=&#x27;depthwise&#x27;,\n",
       "              importance_type=None, interaction_constraints=&#x27;&#x27;,\n",
       "              learning_rate=0.2, max_bin=256, max_cat_to_onehot=4,\n",
       "              max_delta_step=0, max_depth=4, max_leaves=0, min_child_weight=1,\n",
       "              missing=nan, monotone_constraints=&#x27;()&#x27;, n_estimators=500,\n",
       "              n_jobs=0, num_parallel_tree=1, predictor=&#x27;auto&#x27;, random_state=0,\n",
       "              reg_alpha=0, reg_lambda=1, ...)</pre></div></div></div></div></div>"
      ],
      "text/plain": [
       "XGBClassifier(base_score=0.5, booster='gbtree', callbacks=None,\n",
       "              colsample_bylevel=1, colsample_bynode=1, colsample_bytree=1,\n",
       "              early_stopping_rounds=None, enable_categorical=False,\n",
       "              eval_metric=None, gamma=0, gpu_id=-1, grow_policy='depthwise',\n",
       "              importance_type=None, interaction_constraints='',\n",
       "              learning_rate=0.2, max_bin=256, max_cat_to_onehot=4,\n",
       "              max_delta_step=0, max_depth=4, max_leaves=0, min_child_weight=1,\n",
       "              missing=nan, monotone_constraints='()', n_estimators=500,\n",
       "              n_jobs=0, num_parallel_tree=1, predictor='auto', random_state=0,\n",
       "              reg_alpha=0, reg_lambda=1, ...)"
      ]
     },
     "execution_count": 58,
     "metadata": {},
     "output_type": "execute_result"
    }
   ],
   "source": [
    "model = XGBClassifier(n_estimators = 500, learning_rate = 0.2, max_depth = 4)\n",
    "model.fit(X_train, y_train)"
   ]
  },
  {
   "cell_type": "code",
   "execution_count": 61,
   "id": "a7006e0e",
   "metadata": {
    "ExecuteTime": {
     "end_time": "2022-06-13T14:26:49.574691Z",
     "start_time": "2022-06-13T14:26:49.131190Z"
    }
   },
   "outputs": [
    {
     "data": {
      "text/plain": [
       "0.9785755410302435"
      ]
     },
     "execution_count": 61,
     "metadata": {},
     "output_type": "execute_result"
    }
   ],
   "source": [
    "y_pred = model.predict(X_test)\n",
    "accuracy_score(y_pred, y_test)"
   ]
  },
  {
   "cell_type": "code",
   "execution_count": null,
   "id": "85e6c5f5",
   "metadata": {},
   "outputs": [],
   "source": [
    "# print(confusion_matrix(y_test, y_preds))\n",
    "# print(classification_report(y_test, y_preds))\n",
    "# print(roc_auc_score(y_test, y_preds))"
   ]
  }
 ],
 "metadata": {
  "kernelspec": {
   "display_name": "Python 3 (ipykernel)",
   "language": "python",
   "name": "python3"
  },
  "language_info": {
   "codemirror_mode": {
    "name": "ipython",
    "version": 3
   },
   "file_extension": ".py",
   "mimetype": "text/x-python",
   "name": "python",
   "nbconvert_exporter": "python",
   "pygments_lexer": "ipython3",
   "version": "3.9.12"
  },
  "toc": {
   "base_numbering": 1,
   "nav_menu": {},
   "number_sections": true,
   "sideBar": true,
   "skip_h1_title": false,
   "title_cell": "Table of Contents",
   "title_sidebar": "Contents",
   "toc_cell": false,
   "toc_position": {},
   "toc_section_display": true,
   "toc_window_display": false
  }
 },
 "nbformat": 4,
 "nbformat_minor": 5
}
