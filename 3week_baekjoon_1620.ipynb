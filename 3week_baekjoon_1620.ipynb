{
 "cells": [
  {
   "cell_type": "markdown",
   "id": "1b958582",
   "metadata": {},
   "source": [
    "## 나의 풀이"
   ]
  },
  {
   "cell_type": "markdown",
   "id": "00deca70",
   "metadata": {},
   "source": [
    "- 앞서 풀어본 '문자열 집합'과 비슷한 문제\n",
    "- 첫째 줄에 도감에 수록 포켓몬 N개 , 맞춰야 하는 포켓몬 M개 \n",
    "- 도감을 set으로? list로?\n",
    "- 문자 입력되면 : 도감에서 해당 문자의 index 값 추출\n",
    "- 숫자 입력되면 : 도감에서 해당 index-1 값 추출"
   ]
  },
  {
   "cell_type": "code",
   "execution_count": 39,
   "id": "87fa9666",
   "metadata": {
    "ExecuteTime": {
     "end_time": "2022-08-19T08:08:17.756583Z",
     "start_time": "2022-08-19T08:08:17.733968Z"
    }
   },
   "outputs": [],
   "source": [
    "import sys, io\n",
    "file = open(\"inputs.txt\", 'w')\n",
    "# 다음 데이터에 그대로 여러 데이터를 복사붙여넣기 하면 됨\n",
    "data = \"\"\"26 5\n",
    "Bulbasaur\n",
    "Ivysaur\n",
    "Venusaur\n",
    "Charmander\n",
    "Charmeleon\n",
    "Charizard\n",
    "Squirtle\n",
    "Wartortle\n",
    "Blastoise\n",
    "Caterpie\n",
    "Metapod\n",
    "Butterfree\n",
    "Weedle\n",
    "Kakuna\n",
    "Beedrill\n",
    "Pidgey\n",
    "Pidgeotto\n",
    "Pidgeot\n",
    "Rattata\n",
    "Raticate\n",
    "Spearow\n",
    "Fearow\n",
    "Ekans\n",
    "Arbok\n",
    "Pikachu\n",
    "Raichu\n",
    "25\n",
    "Raichu\n",
    "3\n",
    "Pidgey\n",
    "Kakuna\n",
    "\"\"\"\n",
    "file.write(data)\n",
    "file.close()\n",
    "input_file = open(\"inputs.txt\", \"r\") \n",
    "sys.stdin = io.StringIO(input_file.read())"
   ]
  },
  {
   "cell_type": "code",
   "execution_count": 36,
   "id": "67f73f32",
   "metadata": {
    "ExecuteTime": {
     "end_time": "2022-08-19T07:53:53.323510Z",
     "start_time": "2022-08-19T07:53:53.292594Z"
    }
   },
   "outputs": [
    {
     "ename": "ValueError",
     "evalue": "'3' is not in list",
     "output_type": "error",
     "traceback": [
      "\u001b[1;31m--------------------------------------------------------------\u001b[0m",
      "\u001b[1;31mValueError\u001b[0m                   Traceback (most recent call last)",
      "Input \u001b[1;32mIn [36]\u001b[0m, in \u001b[0;36m<cell line: 8>\u001b[1;34m()\u001b[0m\n\u001b[0;32m     10\u001b[0m     \u001b[38;5;28mprint\u001b[39m(S[\u001b[38;5;28minput\u001b[39m()\u001b[38;5;241m.\u001b[39mstrip()])\n\u001b[0;32m     11\u001b[0m \u001b[38;5;28;01melif\u001b[39;00m \u001b[38;5;28mtype\u001b[39m(\u001b[38;5;28minput\u001b[39m()\u001b[38;5;241m.\u001b[39mstrip()) \u001b[38;5;241m==\u001b[39m \u001b[38;5;28mstr\u001b[39m: \u001b[38;5;66;03m# 문자면, list에서 같은 값 비교 후 index 추출\u001b[39;00m\n\u001b[1;32m---> 12\u001b[0m     \u001b[38;5;28mprint\u001b[39m(\u001b[43mS\u001b[49m\u001b[38;5;241;43m.\u001b[39;49m\u001b[43mindex\u001b[49m\u001b[43m(\u001b[49m\u001b[38;5;28;43minput\u001b[39;49m\u001b[43m(\u001b[49m\u001b[43m)\u001b[49m\u001b[38;5;241;43m.\u001b[39;49m\u001b[43mstrip\u001b[49m\u001b[43m(\u001b[49m\u001b[43m)\u001b[49m\u001b[43m)\u001b[49m)\n\u001b[0;32m     13\u001b[0m \u001b[38;5;28;01melse\u001b[39;00m:\n\u001b[0;32m     14\u001b[0m     \u001b[38;5;28mprint\u001b[39m(\u001b[38;5;124m'\u001b[39m\u001b[38;5;124m'\u001b[39m)\n",
      "\u001b[1;31mValueError\u001b[0m: '3' is not in list"
     ]
    }
   ],
   "source": [
    "import sys\n",
    "input = sys.stdin.readline\n",
    "\n",
    "N, M = map(int, input().split())\n",
    "S = [input().strip() for _ in range (N)]  # index 값으로 호출하기 위해 list 사용\n",
    "\n",
    "# 숫자냐 아니냐\n",
    "for j in range(M):\n",
    "    if type(input().strip()) == int:  # 숫자면, 그 숫자 값을 index로 하는 값 추출\n",
    "        print(S[input().strip()])\n",
    "    elif type(input().strip()) == str: # 문자면, list에서 같은 값 비교 후 index 추출\n",
    "        print(S.index(input().strip()))\n",
    "    else:\n",
    "        print('')"
   ]
  },
  {
   "cell_type": "markdown",
   "id": "3e2b9465",
   "metadata": {},
   "source": [
    "- 아래의 오류에서 막힘\n",
    "- M의 input 중 숫자를 인덱스로 받아들이지 못하는 것 같다"
   ]
  },
  {
   "attachments": {
    "2.PNG": {
     "image/png": "[encoded data removed]"
    }
   },
   "cell_type": "markdown",
   "id": "303f03a7",
   "metadata": {},
   "source": [
    "![2.PNG](attachment:2.PNG)"
   ]
  },
  {
   "cell_type": "markdown",
   "id": "0bfe12d4",
   "metadata": {},
   "source": [
    "## 풀이"
   ]
  },
  {
   "cell_type": "code",
   "execution_count": 40,
   "id": "448d06d1",
   "metadata": {
    "ExecuteTime": {
     "end_time": "2022-08-19T08:08:19.013561Z",
     "start_time": "2022-08-19T08:08:18.996192Z"
    }
   },
   "outputs": [
    {
     "name": "stdout",
     "output_type": "stream",
     "text": [
      "Pikachu\n",
      "26\n",
      "Venusaur\n",
      "16\n",
      "14\n"
     ]
    }
   ],
   "source": [
    "import sys\n",
    "\n",
    "input = sys.stdin.readline\n",
    "\n",
    "n, m = map(int, input().split())\n",
    "\n",
    "dict = {}\n",
    "\n",
    "for i in range(1, n + 1):\n",
    "    a = input().rstrip()\n",
    "    dict[i] = a\n",
    "    dict[a] = i\n",
    "\n",
    "for i in range(m):\n",
    "    quest = input().rstrip()\n",
    "    if quest.isdigit():\n",
    "        print(dict[int(quest)])\n",
    "    else:\n",
    "        print(dict[quest])"
   ]
  },
  {
   "cell_type": "markdown",
   "id": "18a88d37",
   "metadata": {},
   "source": [
    "### 밀려드는 의문점\n",
    "- dict를 꼭 2개로 만들어야 하는가? list로 한번 만들어서 입력받은 숫자 값을 index로 참조하는 방법은 없는 것인가..!"
   ]
  },
  {
   "cell_type": "code",
   "execution_count": null,
   "id": "a55bba2e",
   "metadata": {},
   "outputs": [],
   "source": []
  }
 ],
 "metadata": {
  "kernelspec": {
   "display_name": "Python 3 (ipykernel)",
   "language": "python",
   "name": "python3"
  },
  "language_info": {
   "codemirror_mode": {
    "name": "ipython",
    "version": 3
   },
   "file_extension": ".py",
   "mimetype": "text/x-python",
   "name": "python",
   "nbconvert_exporter": "python",
   "pygments_lexer": "ipython3",
   "version": "3.8.13"
  }
 },
 "nbformat": 4,
 "nbformat_minor": 5
}
