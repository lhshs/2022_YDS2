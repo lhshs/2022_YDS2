{
 "cells": [
  {
   "cell_type": "code",
   "execution_count": 165,
   "id": "8ea06e83",
   "metadata": {
    "ExecuteTime": {
     "end_time": "2022-06-24T10:04:05.252702Z",
     "start_time": "2022-06-24T10:04:05.249387Z"
    }
   },
   "outputs": [],
   "source": [
    "import numpy as np\n",
    "import pandas as pd\n",
    "import matplotlib.pyplot as plt\n",
    "import seaborn as sns\n",
    "\n",
    "import warnings\n",
    "warnings.filterwarnings(action='ignore')"
   ]
  },
  {
   "cell_type": "code",
   "execution_count": 166,
   "id": "ef92ad6c",
   "metadata": {
    "ExecuteTime": {
     "end_time": "2022-06-24T10:04:21.794137Z",
     "start_time": "2022-06-24T10:04:21.789138Z"
    },
    "scrolled": true
   },
   "outputs": [
    {
     "data": {
      "text/plain": [
       "\"\\n# 한글 오류 해결하기 위한 설치된 폰트 확인\\n\\nimport matplotlib.font_manager as fm \\n\\nfont_list = fm.findSystemFonts(fontpaths = None, fontext = 'ttf')\\nfont_list\\n\\n# 폰트 적용\\n\\nimport matplotlib\\n\\nfm.get_fontconfig_fonts()\\nfont_location = '/Users/krc/Library/Fonts/NanumGothicCoding.ttf'\\nfont_name = fm.FontProperties(fname=font_location).get_name()\\nmatplotlib.rc('font', family=font_name)\\n\""
      ]
     },
     "execution_count": 166,
     "metadata": {},
     "output_type": "execute_result"
    }
   ],
   "source": [
    "'''\n",
    "# 한글 오류 해결하기 위한 설치된 폰트 확인\n",
    "\n",
    "import matplotlib.font_manager as fm \n",
    "\n",
    "font_list = fm.findSystemFonts(fontpaths = None, fontext = 'ttf')\n",
    "font_list\n",
    "\n",
    "# 폰트 적용\n",
    "\n",
    "import matplotlib\n",
    "\n",
    "fm.get_fontconfig_fonts()\n",
    "font_location = '/Users/krc/Library/Fonts/NanumGothicCoding.ttf'\n",
    "font_name = fm.FontProperties(fname=font_location).get_name()\n",
    "matplotlib.rc('font', family=font_name)\n",
    "'''"
   ]
  },
  {
   "cell_type": "code",
   "execution_count": 7,
   "id": "76107e04",
   "metadata": {
    "ExecuteTime": {
     "end_time": "2022-06-24T08:49:01.512656Z",
     "start_time": "2022-06-24T08:49:01.500196Z"
    }
   },
   "outputs": [],
   "source": [
    "train = pd.read_csv('train_data.csv')\n",
    "test = pd.read_csv('test_data.csv')"
   ]
  },
  {
   "cell_type": "code",
   "execution_count": 12,
   "id": "ebb4fc97",
   "metadata": {
    "ExecuteTime": {
     "end_time": "2022-06-24T08:50:48.784839Z",
     "start_time": "2022-06-24T08:50:48.770458Z"
    },
    "scrolled": false
   },
   "outputs": [
    {
     "data": {
      "text/html": [
       "<div>\n",
       "<style scoped>\n",
       "    .dataframe tbody tr th:only-of-type {\n",
       "        vertical-align: middle;\n",
       "    }\n",
       "\n",
       "    .dataframe tbody tr th {\n",
       "        vertical-align: top;\n",
       "    }\n",
       "\n",
       "    .dataframe thead th {\n",
       "        text-align: right;\n",
       "    }\n",
       "</style>\n",
       "<table border=\"1\" class=\"dataframe\">\n",
       "  <thead>\n",
       "    <tr style=\"text-align: right;\">\n",
       "      <th></th>\n",
       "      <th>id</th>\n",
       "      <th>age</th>\n",
       "      <th>gender</th>\n",
       "      <th>respiratory_condition</th>\n",
       "      <th>fever_or_muscle_pain</th>\n",
       "      <th>covid19</th>\n",
       "    </tr>\n",
       "  </thead>\n",
       "  <tbody>\n",
       "    <tr>\n",
       "      <th>0</th>\n",
       "      <td>1</td>\n",
       "      <td>24</td>\n",
       "      <td>female</td>\n",
       "      <td>0</td>\n",
       "      <td>1</td>\n",
       "      <td>0</td>\n",
       "    </tr>\n",
       "    <tr>\n",
       "      <th>1</th>\n",
       "      <td>2</td>\n",
       "      <td>51</td>\n",
       "      <td>male</td>\n",
       "      <td>0</td>\n",
       "      <td>0</td>\n",
       "      <td>0</td>\n",
       "    </tr>\n",
       "    <tr>\n",
       "      <th>2</th>\n",
       "      <td>3</td>\n",
       "      <td>22</td>\n",
       "      <td>male</td>\n",
       "      <td>0</td>\n",
       "      <td>0</td>\n",
       "      <td>0</td>\n",
       "    </tr>\n",
       "    <tr>\n",
       "      <th>3</th>\n",
       "      <td>4</td>\n",
       "      <td>29</td>\n",
       "      <td>female</td>\n",
       "      <td>1</td>\n",
       "      <td>0</td>\n",
       "      <td>0</td>\n",
       "    </tr>\n",
       "    <tr>\n",
       "      <th>4</th>\n",
       "      <td>5</td>\n",
       "      <td>23</td>\n",
       "      <td>male</td>\n",
       "      <td>0</td>\n",
       "      <td>0</td>\n",
       "      <td>0</td>\n",
       "    </tr>\n",
       "    <tr>\n",
       "      <th>...</th>\n",
       "      <td>...</td>\n",
       "      <td>...</td>\n",
       "      <td>...</td>\n",
       "      <td>...</td>\n",
       "      <td>...</td>\n",
       "      <td>...</td>\n",
       "    </tr>\n",
       "    <tr>\n",
       "      <th>3800</th>\n",
       "      <td>3801</td>\n",
       "      <td>53</td>\n",
       "      <td>male</td>\n",
       "      <td>0</td>\n",
       "      <td>0</td>\n",
       "      <td>0</td>\n",
       "    </tr>\n",
       "    <tr>\n",
       "      <th>3801</th>\n",
       "      <td>3802</td>\n",
       "      <td>25</td>\n",
       "      <td>male</td>\n",
       "      <td>0</td>\n",
       "      <td>0</td>\n",
       "      <td>0</td>\n",
       "    </tr>\n",
       "    <tr>\n",
       "      <th>3802</th>\n",
       "      <td>3803</td>\n",
       "      <td>26</td>\n",
       "      <td>female</td>\n",
       "      <td>0</td>\n",
       "      <td>0</td>\n",
       "      <td>0</td>\n",
       "    </tr>\n",
       "    <tr>\n",
       "      <th>3803</th>\n",
       "      <td>3804</td>\n",
       "      <td>27</td>\n",
       "      <td>female</td>\n",
       "      <td>0</td>\n",
       "      <td>0</td>\n",
       "      <td>0</td>\n",
       "    </tr>\n",
       "    <tr>\n",
       "      <th>3804</th>\n",
       "      <td>3805</td>\n",
       "      <td>49</td>\n",
       "      <td>female</td>\n",
       "      <td>1</td>\n",
       "      <td>1</td>\n",
       "      <td>0</td>\n",
       "    </tr>\n",
       "  </tbody>\n",
       "</table>\n",
       "<p>3805 rows × 6 columns</p>\n",
       "</div>"
      ],
      "text/plain": [
       "        id  age  gender  respiratory_condition  fever_or_muscle_pain  covid19\n",
       "0        1   24  female                      0                     1        0\n",
       "1        2   51    male                      0                     0        0\n",
       "2        3   22    male                      0                     0        0\n",
       "3        4   29  female                      1                     0        0\n",
       "4        5   23    male                      0                     0        0\n",
       "...    ...  ...     ...                    ...                   ...      ...\n",
       "3800  3801   53    male                      0                     0        0\n",
       "3801  3802   25    male                      0                     0        0\n",
       "3802  3803   26  female                      0                     0        0\n",
       "3803  3804   27  female                      0                     0        0\n",
       "3804  3805   49  female                      1                     1        0\n",
       "\n",
       "[3805 rows x 6 columns]"
      ]
     },
     "execution_count": 12,
     "metadata": {},
     "output_type": "execute_result"
    }
   ],
   "source": [
    "train"
   ]
  },
  {
   "cell_type": "code",
   "execution_count": 180,
   "id": "d15bfc76",
   "metadata": {
    "ExecuteTime": {
     "end_time": "2022-06-24T10:08:57.313742Z",
     "start_time": "2022-06-24T10:08:57.162674Z"
    }
   },
   "outputs": [
    {
     "data": {
      "image/png": "[encoded data removed]",
      "text/plain": [
       "<Figure size 1080x504 with 2 Axes>"
      ]
     },
     "metadata": {
      "needs_background": "light"
     },
     "output_type": "display_data"
    }
   ],
   "source": [
    "colors = sns.color_palette('pastel')[0:2]\n",
    "# colors = sns.color_palette('pastel')[0:5]\n",
    "\n",
    "fig, ax = plt.subplots(1, 2, figsize=(15,7)) \n",
    "train['covid19'].value_counts().plot.pie(explode=[0,0.1], autopct='%1.1f%%', ax=ax[0], shadow=True, startangle=90, colors=colors)\n",
    "ax[0].set_title('Covid19 Confirmed Cases')\n",
    "ax[0].set_ylabel('')\n",
    "\n",
    "sns.countplot('covid19', data=train, ax=ax[1])\n",
    "# ax[1].set_title('확진자 수')\n",
    "\n",
    "ax = sns.countplot(x = 'covid19', data = train, order = train['covid19'].value_counts().index, palette = 'Set2')\n",
    "\n",
    "for p in ax.patches:\n",
    "    height = p.get_height()\n",
    "    ax.text(p.get_x() + p.get_width() / 2., height - height/2, height, ha = 'center', size = 20)\n",
    "    ax.set_ylim(0, 5000)\n",
    "plt.show()"
   ]
  },
  {
   "cell_type": "code",
   "execution_count": 176,
   "id": "337acaa1",
   "metadata": {
    "ExecuteTime": {
     "end_time": "2022-06-24T10:08:05.668044Z",
     "start_time": "2022-06-24T10:08:05.381173Z"
    }
   },
   "outputs": [
    {
     "name": "stdout",
     "output_type": "stream",
     "text": [
      "age\n",
      "30    132\n",
      "28    122\n",
      "24    120\n",
      "25    115\n",
      "35    111\n",
      "     ... \n",
      "89      1\n",
      "84      1\n",
      "3       1\n",
      "81      1\n",
      "6       1\n",
      "Name: age, Length: 86, dtype: int64\n"
     ]
    },
    {
     "data": {
      "image/png": "[encoded data removed]",
      "text/plain": [
       "<Figure size 1440x360 with 1 Axes>"
      ]
     },
     "metadata": {
      "needs_background": "light"
     },
     "output_type": "display_data"
    },
    {
     "name": "stdout",
     "output_type": "stream",
     "text": [
      "======================================= \n"
     ]
    }
   ],
   "source": [
    "print(train.columns[1])\n",
    "print(train[train.columns[1]].value_counts())\n",
    "plt.figure(figsize=(20,5))\n",
    "sns.countplot(train[train.columns[1]])\n",
    "plt.show()\n",
    "print('======================================= ')"
   ]
  },
  {
   "cell_type": "code",
   "execution_count": 191,
   "id": "444f48ab",
   "metadata": {
    "ExecuteTime": {
     "end_time": "2022-06-24T10:31:13.427424Z",
     "start_time": "2022-06-24T10:31:13.396702Z"
    }
   },
   "outputs": [
    {
     "ename": "AttributeError",
     "evalue": "'Series' object has no attribute 'plt'",
     "output_type": "error",
     "traceback": [
      "\u001b[0;31m---------------------------------------------------------------------------\u001b[0m",
      "\u001b[0;31mAttributeError\u001b[0m                            Traceback (most recent call last)",
      "Input \u001b[0;32mIn [191]\u001b[0m, in \u001b[0;36m<cell line: 1>\u001b[0;34m()\u001b[0m\n\u001b[0;32m----> 1\u001b[0m \u001b[43mtrain\u001b[49m\u001b[38;5;241;43m.\u001b[39;49m\u001b[43mcovid19\u001b[49m\u001b[38;5;241;43m.\u001b[39;49m\u001b[43mvalue_counts\u001b[49m\u001b[43m(\u001b[49m\u001b[43m)\u001b[49m\u001b[38;5;241;43m.\u001b[39;49m\u001b[43mplt\u001b[49m\u001b[38;5;241m.\u001b[39mpie()\n",
      "File \u001b[0;32m~/opt/anaconda3/envs/lhs/lib/python3.8/site-packages/pandas/core/generic.py:5575\u001b[0m, in \u001b[0;36mNDFrame.__getattr__\u001b[0;34m(self, name)\u001b[0m\n\u001b[1;32m   5568\u001b[0m \u001b[38;5;28;01mif\u001b[39;00m (\n\u001b[1;32m   5569\u001b[0m     name \u001b[38;5;129;01mnot\u001b[39;00m \u001b[38;5;129;01min\u001b[39;00m \u001b[38;5;28mself\u001b[39m\u001b[38;5;241m.\u001b[39m_internal_names_set\n\u001b[1;32m   5570\u001b[0m     \u001b[38;5;129;01mand\u001b[39;00m name \u001b[38;5;129;01mnot\u001b[39;00m \u001b[38;5;129;01min\u001b[39;00m \u001b[38;5;28mself\u001b[39m\u001b[38;5;241m.\u001b[39m_metadata\n\u001b[1;32m   5571\u001b[0m     \u001b[38;5;129;01mand\u001b[39;00m name \u001b[38;5;129;01mnot\u001b[39;00m \u001b[38;5;129;01min\u001b[39;00m \u001b[38;5;28mself\u001b[39m\u001b[38;5;241m.\u001b[39m_accessors\n\u001b[1;32m   5572\u001b[0m     \u001b[38;5;129;01mand\u001b[39;00m \u001b[38;5;28mself\u001b[39m\u001b[38;5;241m.\u001b[39m_info_axis\u001b[38;5;241m.\u001b[39m_can_hold_identifiers_and_holds_name(name)\n\u001b[1;32m   5573\u001b[0m ):\n\u001b[1;32m   5574\u001b[0m     \u001b[38;5;28;01mreturn\u001b[39;00m \u001b[38;5;28mself\u001b[39m[name]\n\u001b[0;32m-> 5575\u001b[0m \u001b[38;5;28;01mreturn\u001b[39;00m \u001b[38;5;28;43mobject\u001b[39;49m\u001b[38;5;241;43m.\u001b[39;49m\u001b[38;5;21;43m__getattribute__\u001b[39;49m\u001b[43m(\u001b[49m\u001b[38;5;28;43mself\u001b[39;49m\u001b[43m,\u001b[49m\u001b[43m \u001b[49m\u001b[43mname\u001b[49m\u001b[43m)\u001b[49m\n",
      "\u001b[0;31mAttributeError\u001b[0m: 'Series' object has no attribute 'plt'"
     ]
    }
   ],
   "source": [
    "train.covid19.value_counts().plt.pie()"
   ]
  },
  {
   "cell_type": "code",
   "execution_count": 195,
   "id": "518dc6c3",
   "metadata": {
    "ExecuteTime": {
     "end_time": "2022-06-24T10:32:21.521838Z",
     "start_time": "2022-06-24T10:32:21.275421Z"
    },
    "scrolled": false
   },
   "outputs": [
    {
     "name": "stdout",
     "output_type": "stream",
     "text": [
      "gender\n",
      "male      2606\n",
      "female    1173\n",
      "other       26\n",
      "Name: gender, dtype: int64\n"
     ]
    },
    {
     "data": {
      "image/png": "[encoded data removed]",
      "text/plain": [
       "<Figure size 360x360 with 1 Axes>"
      ]
     },
     "metadata": {
      "needs_background": "light"
     },
     "output_type": "display_data"
    },
    {
     "name": "stdout",
     "output_type": "stream",
     "text": [
      "======================================= \n",
      "respiratory_condition\n",
      "0    3254\n",
      "1     551\n",
      "Name: respiratory_condition, dtype: int64\n"
     ]
    },
    {
     "data": {
      "image/png": "[encoded data removed]",
      "text/plain": [
       "<Figure size 360x360 with 1 Axes>"
      ]
     },
     "metadata": {
      "needs_background": "light"
     },
     "output_type": "display_data"
    },
    {
     "name": "stdout",
     "output_type": "stream",
     "text": [
      "======================================= \n",
      "fever_or_muscle_pain\n",
      "0    3483\n",
      "1     322\n",
      "Name: fever_or_muscle_pain, dtype: int64\n"
     ]
    },
    {
     "data": {
      "image/png": "[encoded data removed]",
      "text/plain": [
       "<Figure size 360x360 with 1 Axes>"
      ]
     },
     "metadata": {
      "needs_background": "light"
     },
     "output_type": "display_data"
    },
    {
     "name": "stdout",
     "output_type": "stream",
     "text": [
      "======================================= \n",
      "covid19\n",
      "0    3499\n",
      "1     306\n",
      "Name: covid19, dtype: int64\n"
     ]
    },
    {
     "data": {
      "image/png": "[encoded data removed]",
      "text/plain": [
       "<Figure size 360x360 with 1 Axes>"
      ]
     },
     "metadata": {
      "needs_background": "light"
     },
     "output_type": "display_data"
    },
    {
     "name": "stdout",
     "output_type": "stream",
     "text": [
      "======================================= \n"
     ]
    }
   ],
   "source": [
    "for i in range(4):\n",
    "    i += 1\n",
    "    print(train.columns[i+1])\n",
    "    print(train[train.columns[i+1]].value_counts())\n",
    "    plt.figure(figsize=(5,5))\n",
    "    sns.countplot(train[train.columns[i+1]], palette='Set2')\n",
    "    plt.show()\n",
    "#     plt.pie(train[train.columns[i+1]].value_counts(), explode=[0,0.1], autopct='%1.1f%%', shadow=True, startangle=90)\n",
    "#     plt.show()\n",
    "    print('======================================= ')"
   ]
  },
  {
   "cell_type": "code",
   "execution_count": 11,
   "id": "39f298f5",
   "metadata": {
    "ExecuteTime": {
     "end_time": "2022-06-24T08:50:41.283789Z",
     "start_time": "2022-06-24T08:50:41.279082Z"
    }
   },
   "outputs": [
    {
     "data": {
      "text/plain": [
       "Index(['id', 'age', 'gender', 'respiratory_condition', 'fever_or_muscle_pain',\n",
       "       'covid19'],\n",
       "      dtype='object')"
      ]
     },
     "execution_count": 11,
     "metadata": {},
     "output_type": "execute_result"
    }
   ],
   "source": [
    "train.columns"
   ]
  },
  {
   "cell_type": "code",
   "execution_count": 59,
   "id": "838ea428",
   "metadata": {
    "ExecuteTime": {
     "end_time": "2022-06-24T09:15:54.637574Z",
     "start_time": "2022-06-24T09:15:54.624514Z"
    }
   },
   "outputs": [
    {
     "data": {
      "text/html": [
       "<div>\n",
       "<style scoped>\n",
       "    .dataframe tbody tr th:only-of-type {\n",
       "        vertical-align: middle;\n",
       "    }\n",
       "\n",
       "    .dataframe tbody tr th {\n",
       "        vertical-align: top;\n",
       "    }\n",
       "\n",
       "    .dataframe thead th {\n",
       "        text-align: right;\n",
       "    }\n",
       "</style>\n",
       "<table border=\"1\" class=\"dataframe\">\n",
       "  <thead>\n",
       "    <tr style=\"text-align: right;\">\n",
       "      <th></th>\n",
       "      <th>id</th>\n",
       "      <th>age</th>\n",
       "      <th>gender</th>\n",
       "      <th>respiratory_condition</th>\n",
       "      <th>fever_or_muscle_pain</th>\n",
       "    </tr>\n",
       "  </thead>\n",
       "  <tbody>\n",
       "    <tr>\n",
       "      <th>0</th>\n",
       "      <td>3806</td>\n",
       "      <td>48</td>\n",
       "      <td>female</td>\n",
       "      <td>1</td>\n",
       "      <td>0</td>\n",
       "    </tr>\n",
       "    <tr>\n",
       "      <th>1</th>\n",
       "      <td>3807</td>\n",
       "      <td>24</td>\n",
       "      <td>female</td>\n",
       "      <td>0</td>\n",
       "      <td>0</td>\n",
       "    </tr>\n",
       "    <tr>\n",
       "      <th>2</th>\n",
       "      <td>3808</td>\n",
       "      <td>29</td>\n",
       "      <td>male</td>\n",
       "      <td>0</td>\n",
       "      <td>0</td>\n",
       "    </tr>\n",
       "    <tr>\n",
       "      <th>3</th>\n",
       "      <td>3809</td>\n",
       "      <td>39</td>\n",
       "      <td>female</td>\n",
       "      <td>0</td>\n",
       "      <td>0</td>\n",
       "    </tr>\n",
       "    <tr>\n",
       "      <th>4</th>\n",
       "      <td>3810</td>\n",
       "      <td>34</td>\n",
       "      <td>male</td>\n",
       "      <td>0</td>\n",
       "      <td>0</td>\n",
       "    </tr>\n",
       "    <tr>\n",
       "      <th>...</th>\n",
       "      <td>...</td>\n",
       "      <td>...</td>\n",
       "      <td>...</td>\n",
       "      <td>...</td>\n",
       "      <td>...</td>\n",
       "    </tr>\n",
       "    <tr>\n",
       "      <th>5727</th>\n",
       "      <td>9533</td>\n",
       "      <td>43</td>\n",
       "      <td>male</td>\n",
       "      <td>0</td>\n",
       "      <td>0</td>\n",
       "    </tr>\n",
       "    <tr>\n",
       "      <th>5728</th>\n",
       "      <td>9534</td>\n",
       "      <td>48</td>\n",
       "      <td>female</td>\n",
       "      <td>0</td>\n",
       "      <td>1</td>\n",
       "    </tr>\n",
       "    <tr>\n",
       "      <th>5729</th>\n",
       "      <td>9535</td>\n",
       "      <td>44</td>\n",
       "      <td>female</td>\n",
       "      <td>0</td>\n",
       "      <td>0</td>\n",
       "    </tr>\n",
       "    <tr>\n",
       "      <th>5730</th>\n",
       "      <td>9536</td>\n",
       "      <td>25</td>\n",
       "      <td>female</td>\n",
       "      <td>0</td>\n",
       "      <td>0</td>\n",
       "    </tr>\n",
       "    <tr>\n",
       "      <th>5731</th>\n",
       "      <td>9537</td>\n",
       "      <td>17</td>\n",
       "      <td>female</td>\n",
       "      <td>1</td>\n",
       "      <td>1</td>\n",
       "    </tr>\n",
       "  </tbody>\n",
       "</table>\n",
       "<p>5732 rows × 5 columns</p>\n",
       "</div>"
      ],
      "text/plain": [
       "        id  age  gender  respiratory_condition  fever_or_muscle_pain\n",
       "0     3806   48  female                      1                     0\n",
       "1     3807   24  female                      0                     0\n",
       "2     3808   29    male                      0                     0\n",
       "3     3809   39  female                      0                     0\n",
       "4     3810   34    male                      0                     0\n",
       "...    ...  ...     ...                    ...                   ...\n",
       "5727  9533   43    male                      0                     0\n",
       "5728  9534   48  female                      0                     1\n",
       "5729  9535   44  female                      0                     0\n",
       "5730  9536   25  female                      0                     0\n",
       "5731  9537   17  female                      1                     1\n",
       "\n",
       "[5732 rows x 5 columns]"
      ]
     },
     "execution_count": 59,
     "metadata": {},
     "output_type": "execute_result"
    }
   ],
   "source": [
    "test"
   ]
  },
  {
   "cell_type": "code",
   "execution_count": 181,
   "id": "894a05f7",
   "metadata": {
    "ExecuteTime": {
     "end_time": "2022-06-24T10:09:52.565783Z",
     "start_time": "2022-06-24T10:09:52.274712Z"
    }
   },
   "outputs": [
    {
     "name": "stdout",
     "output_type": "stream",
     "text": [
      "age\n",
      "30     219\n",
      "28     177\n",
      "35     164\n",
      "27     160\n",
      "23     160\n",
      "      ... \n",
      "96       2\n",
      "86       2\n",
      "84       1\n",
      "90       1\n",
      "102      1\n",
      "Name: age, Length: 89, dtype: int64\n"
     ]
    },
    {
     "data": {
      "image/png": "[encoded data removed]",
      "text/plain": [
       "<Figure size 1440x360 with 1 Axes>"
      ]
     },
     "metadata": {
      "needs_background": "light"
     },
     "output_type": "display_data"
    },
    {
     "name": "stdout",
     "output_type": "stream",
     "text": [
      "======================================= \n"
     ]
    }
   ],
   "source": [
    "print(test.columns[1])\n",
    "print(test[test.columns[1]].value_counts())\n",
    "plt.figure(figsize=(20,5))\n",
    "sns.countplot(test[test.columns[1]])\n",
    "plt.show()\n",
    "print('======================================= ')"
   ]
  },
  {
   "cell_type": "code",
   "execution_count": 183,
   "id": "0445f520",
   "metadata": {
    "ExecuteTime": {
     "end_time": "2022-06-24T10:12:18.743964Z",
     "start_time": "2022-06-24T10:12:18.549879Z"
    }
   },
   "outputs": [
    {
     "name": "stdout",
     "output_type": "stream",
     "text": [
      "gender\n",
      "male      3887\n",
      "female    1811\n",
      "other       34\n",
      "Name: gender, dtype: int64\n"
     ]
    },
    {
     "data": {
      "image/png": "[encoded data removed]",
      "text/plain": [
       "<Figure size 360x360 with 1 Axes>"
      ]
     },
     "metadata": {
      "needs_background": "light"
     },
     "output_type": "display_data"
    },
    {
     "name": "stdout",
     "output_type": "stream",
     "text": [
      "======================================= \n",
      "respiratory_condition\n",
      "0    4841\n",
      "1     891\n",
      "Name: respiratory_condition, dtype: int64\n"
     ]
    },
    {
     "data": {
      "image/png": "[encoded data removed]",
      "text/plain": [
       "<Figure size 360x360 with 1 Axes>"
      ]
     },
     "metadata": {
      "needs_background": "light"
     },
     "output_type": "display_data"
    },
    {
     "name": "stdout",
     "output_type": "stream",
     "text": [
      "======================================= \n",
      "fever_or_muscle_pain\n",
      "0    5150\n",
      "1     582\n",
      "Name: fever_or_muscle_pain, dtype: int64\n"
     ]
    },
    {
     "data": {
      "image/png": "[encoded data removed]",
      "text/plain": [
       "<Figure size 360x360 with 1 Axes>"
      ]
     },
     "metadata": {
      "needs_background": "light"
     },
     "output_type": "display_data"
    },
    {
     "name": "stdout",
     "output_type": "stream",
     "text": [
      "======================================= \n"
     ]
    }
   ],
   "source": [
    "for i in range(3):\n",
    "    i += 1\n",
    "    print(test.columns[i+1])\n",
    "    print(test[train.columns[i+1]].value_counts())\n",
    "    plt.figure(figsize=(5,5))\n",
    "    sns.countplot(test[test.columns[i+1]], palette='Set3')\n",
    "    plt.show()\n",
    "    print('======================================= ')"
   ]
  },
  {
   "cell_type": "code",
   "execution_count": null,
   "id": "f13f8458",
   "metadata": {},
   "outputs": [],
   "source": []
  }
 ],
 "metadata": {
  "kernelspec": {
   "display_name": "Python 3 (ipykernel)",
   "language": "python",
   "name": "python3"
  },
  "language_info": {
   "codemirror_mode": {
    "name": "ipython",
    "version": 3
   },
   "file_extension": ".py",
   "mimetype": "text/x-python",
   "name": "python",
   "nbconvert_exporter": "python",
   "pygments_lexer": "ipython3",
   "version": "3.8.13"
  },
  "toc": {
   "base_numbering": 1,
   "nav_menu": {},
   "number_sections": true,
   "sideBar": true,
   "skip_h1_title": false,
   "title_cell": "Table of Contents",
   "title_sidebar": "Contents",
   "toc_cell": false,
   "toc_position": {},
   "toc_section_display": true,
   "toc_window_display": false
  }
 },
 "nbformat": 4,
 "nbformat_minor": 5
}
