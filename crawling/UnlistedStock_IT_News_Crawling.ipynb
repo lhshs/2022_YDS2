{
 "cells": [
  {
   "cell_type": "markdown",
   "id": "ad057284",
   "metadata": {},
   "source": [
    "# 크롤링 테스트"
   ]
  },
  {
   "cell_type": "code",
   "execution_count": 1,
   "id": "a75c3e83",
   "metadata": {
    "ExecuteTime": {
     "end_time": "2022-09-21T16:52:41.980119Z",
     "start_time": "2022-09-21T16:52:41.241753Z"
    }
   },
   "outputs": [],
   "source": [
    "# 라이브러리 import\n",
    "import os\n",
    "import pandas as pd\n",
    "import numpy as np\n",
    "import math \n",
    "\n",
    "# 셀레늄\n",
    "from selenium.webdriver.common.alert import Alert\n",
    "from selenium import webdriver  # 라이브러리(모듈) 가져오라\n",
    "# pip install chromedriver_autoinstaller\n",
    "from selenium.webdriver.common.keys import Keys\n",
    "from selenium.webdriver import ActionChains as AC\n",
    "\n",
    "# tqdm : for문 진행상황 체크\n",
    "from tqdm import tqdm, tqdm_notebook\n",
    "from tqdm.notebook import tqdm\n",
    "\n",
    "# 정규표현식(regular expression) : 문자(알파벳,한글), 숫자, 특수기호 정제 및 추출\n",
    "import re\n",
    "from time import sleep\n",
    "import time\n",
    "\n",
    "# 워닝 무시\n",
    "import warnings\n",
    "warnings.filterwarnings('ignore')\n",
    "\n",
    "from selenium.webdriver.common.by import By\n",
    "import chromedriver_autoinstaller"
   ]
  },
  {
   "cell_type": "code",
   "execution_count": null,
   "id": "264525a8",
   "metadata": {
    "ExecuteTime": {
     "end_time": "2022-09-21T15:44:18.319457Z",
     "start_time": "2022-09-21T15:44:15.720209Z"
    }
   },
   "outputs": [],
   "source": [
    "# IT : LGCNS(엘지씨엔에스), 아데나소프트웨어, 이브이알스튜디오(메타버스,), 씨유박스(얼굴인식, CUBOX)\n",
    "# 검색어 입력\n",
    "search = 'LGCNS'\n",
    "\n",
    "# 크롬 옵션\n",
    "options = webdriver.ChromeOptions()\n",
    "\n",
    "# 크롬 윈도우 사이즈 조절\n",
    "options.add_argument(\"--window-size=800,1200\") # window-size -> 기본 : 1920,1080\n",
    "\n",
    "import chromedriver_autoinstaller\n",
    "\n",
    "chrome_path = chromedriver_autoinstaller.install()\n",
    "driver = webdriver.Chrome(chrome_path, options=options)\n",
    "time.sleep(0.1)\n",
    "driver.get(\"https://www.naver.com\")\n",
    "# -> 네이버 크롬 창이 뜬다."
   ]
  },
  {
   "cell_type": "code",
   "execution_count": null,
   "id": "22d3695d",
   "metadata": {
    "ExecuteTime": {
     "end_time": "2022-09-21T15:44:20.541290Z",
     "start_time": "2022-09-21T15:44:18.322450Z"
    }
   },
   "outputs": [],
   "source": [
    "# 네이버 검색어 입력 후 검색\n",
    "element = driver.find_element(\"name\", \"query\") \n",
    "element.clear()  # 혹시 검색창에 존재하는 텍스트 제거\n",
    "\n",
    "element.send_keys(search)  # 검색창에 검색어 전달\n",
    "element.submit()  # 검색 클릭\n",
    "time.sleep(1)"
   ]
  },
  {
   "cell_type": "code",
   "execution_count": null,
   "id": "ac752f8e",
   "metadata": {
    "ExecuteTime": {
     "end_time": "2022-09-21T15:44:22.118678Z",
     "start_time": "2022-09-21T15:44:20.555312Z"
    }
   },
   "outputs": [],
   "source": [
    "# 뉴스 클릭\n",
    "driver.find_element(\"link text\", \"뉴스\").click() \n",
    "time.sleep(1)"
   ]
  },
  {
   "cell_type": "code",
   "execution_count": null,
   "id": "4f8e1a47",
   "metadata": {
    "ExecuteTime": {
     "end_time": "2022-09-21T15:44:23.614285Z",
     "start_time": "2022-09-21T15:44:22.120676Z"
    }
   },
   "outputs": [],
   "source": [
    "# 옵션 클릭 후 '1년' 클릭\n",
    "driver.find_element(\"css selector\", \"#snb > div.api_group_option_filter._search_option_simple_wrap > div > div.option_filter > a\").click()  \n",
    "driver.find_element(\"css selector\", \"#snb > div.api_group_option_sort._search_option_detail_wrap > ul > li.bx.term > div > div.option > a:nth-child(8)\").click()  \n",
    "time.sleep(1)"
   ]
  },
  {
   "cell_type": "code",
   "execution_count": null,
   "id": "6cd7027d",
   "metadata": {
    "ExecuteTime": {
     "end_time": "2022-09-21T15:44:23.819735Z",
     "start_time": "2022-09-21T15:44:23.617277Z"
    }
   },
   "outputs": [],
   "source": [
    "# 언론사 클릭\n",
    "# 경향신문, 국민일보, 내일신문, 동아일보, 매일일보, 문화일보, 서울신문, 세계일보, 아시아투데이, 전국매일신문\n",
    "# 조선일보, 중앙일보, 천지일보, 한겨례, 한국일보\n",
    "\n",
    "# 목록 열기\n",
    "driver.find_element(\"css selector\", \"a.txt.txt_option._category_select_trigger\").click() \n",
    "\n",
    "# 일간지 선택\n",
    "driver.find_element('link text', '일간지').click()\n"
   ]
  },
  {
   "cell_type": "code",
   "execution_count": null,
   "id": "8a050636",
   "metadata": {},
   "outputs": [],
   "source": [
    "# 언론사 클릭\n",
    "# 경향신문, 국민일보, 내일신문, 동아일보, 매일일보, 문화일보, 서울신문, 세계일보, 아시아투데이, 전국매일신문\n",
    "# 조선일보, 중앙일보, 천지일보, 한겨례, 한국일보"
   ]
  },
  {
   "cell_type": "code",
   "execution_count": null,
   "id": "f52373ba",
   "metadata": {},
   "outputs": [],
   "source": [
    "# IT : LGCNS(엘지씨엔에스), 아데나소프트웨어, 이브이알스튜디오(메타버스,), 씨유박스(얼굴인식, CUBOX)"
   ]
  },
  {
   "cell_type": "code",
   "execution_count": 2,
   "id": "91597c32",
   "metadata": {
    "ExecuteTime": {
     "end_time": "2022-09-21T16:58:06.557113Z",
     "start_time": "2022-09-21T16:52:45.015465Z"
    },
    "scrolled": false
   },
   "outputs": [
    {
     "name": "stdout",
     "output_type": "stream",
     "text": [
      "['현대차, LG 등 추석 전 협력사 납품대금 앞당겨 지급', 'LG CNS, 세계 1위 클라우드 AWS와 전략적 협력 계약', 'LG CNS, ‘물류로봇’ 구독 서비스 출시', '네이버, LG, SK에 이어 CJ도 꽂힌 ‘이음5G’', '새로 만든 정부 복지정보망 때문에 혼란···‘긴급복지’도 차질', '삼성, 추석 앞 협력사 물품대금 2조1000억원 조기 지급한다', \"'스마트 팩토리' 넘어... 이제는 ‘버추얼 팩토리’\", '노지에서도 AI 가이드 따라 똑똑하게 농사짓는다', '개발자 기근 해소해 줄까…프로그래밍·앱 제작 AI ‘각광’', 'LG, 구글·우리은행·EBS와 초거대 AI 생태계 만든다']\n",
      "['https://www.khan.co.kr/economy/auto/article/202208300959001', 'https://www.khan.co.kr/economy/market-trend/article/202202081333001', 'https://www.khan.co.kr/economy/industry-trade/article/202206211038001', 'https://www.khan.co.kr/economy/industry-trade/article/202206011445001', 'https://www.khan.co.kr/national/health-welfare/article/202209141454021', 'https://www.khan.co.kr/economy/industry-trade/article/202208311437001', 'https://www.khan.co.kr/economy/industry-trade/article/202206091604001', 'https://www.khan.co.kr/economy/business/article/202204190851001', 'https://www.khan.co.kr/it/it-general/article/202204132152015', 'https://www.khan.co.kr/economy/industry-trade/article/202202221325001']\n",
      "['입력 : 2022.08.30 09:59', '입력 : 2022.02.08 13:33', '입력 : 2022.06.21 10:38', '입력 : 2022.06.01 14:45', '입력 : 2022.09.14 14:54', '입력 : 2022.08.31 14:37', '입력 : 2022.06.09 16:04', '입력 : 2022.04.19 08:51', '입력 : 2022.04.13 21:52', '입력 : 2022.02.22 13:25']\n",
      "['서울 양재동 현대자동차그룹 본사 현대차그룹 제공\\n현대자동차와 LG 등 주요 대기업 그룹이 추석 명절을 앞두고 납품대금을 앞당겨 지급하는 등 상생경영에 나섰다. 명절 상여금 등 협력사의 자금 사용이 일시적으로 몰리는 현실을 배려한 조치다.\\n현대자동차그룹이 협력사에 납품대금 1조8524억원을 추석 전에 앞당겨 지급할 계획이라고 30일 밝혔다. 협력사와 상생하겠다는 취지다. 현대차그룹은 내수활성화를 위해 온누리상품권 280억원을 구매하기로 했다고도 밝혔다.\\n납품대금 조기 지급을 하는 현대차그룹 회사는 현대차, 기아, 현대모비스, 현대건설, 현대제철, 현대위아 등이다. 이 회사들에 부품과 원자재, 소모품 등을 납품하는 3000여개 협력사에게 추석 전에 납품대금을 지급한다. 협력사별로 다르지만, 최대 13일 일찍 대금을 지급한다고 현대차그룹은 밝혔다.\\n현대차그룹은 매년 설이나 추석 명절 전에 납품대금을 선지급해왔다. 작년 추석에는 1조2354억원, 올해 설에는 1조4402억원의 납품대금을 앞당겨 집행했다. 현대차그룹 관계자는 “이 자금이 2, 3차 협력사들에도 골고루 돌아갈 수 있도록 해 글로벌 인플레이션 등으로 힘든 상황 속에서 따뜻한 명절을 보낼 수 있게 노력하겠다”고 말했다.\\n현대차그룹은 추석 전에 온누리상품권 280억원어치를 구매해 그룹사 임직원에게 지급하고 복지시설과 소외 이웃에도 전달하기로 했다. 현대차그룹은 작년 추석에 216억원, 올해 설 75억원의 온누리상품권을 구매한 바 있다.\\n앞서 LG그룹은 9500억원 규모의 협력사 납품 대금을 최대 12일 앞당겨 지급키로 했다. LG전자, LG디스플레이, LG이노텍, LG화학, LG에너지솔루션, LG생활건강, LG유플러스, LG CNS 등 8개 주요 계열사가 참여한다.\\n추석 명절을 앞두고 원자재 대금 결제, 상여금 지급 등 자금 수요가 일시적으로 몰리는 중소 협력사들을 지원하기 위한 조치라고 회사는 설명했다. LG그룹은 올해 2월 설 명절 때도 중소 협력사 납품대금 1조3000억원을 예정보다 앞당겨 지급한 바 있다.\\nLG 관계자는 “납품대금 조기지급, 상생결제시스템 확대 등 협력사에 도움이 되는 상생 활동을 계속 펴나가겠다”고 말했다.\\n또 롯데그룹은 백화점, 건설 등 30개 계열사의 약 1만2000개 중소 협력사를 대상으로 총 6315억원의 납품 대금을 평균 9일가량 앞당겨 지급할 계획이다.\\nCJ그룹은 5개 계열사가 3800여 개의 협력업체를 대상으로 정상 지급일보다 평균 1개월 앞당겨 3000억원 규모의 결제 대금을 지급할 계획이다. CJ제일제당이 1700억원, CJ대한통운이 700억원, CJ ENM이 325억원, CJ올리브네트웍스가 165억원, CJ프레시웨이가 100억원을 각각 선지급한다.\\nCJ그룹은 2015년부터 명절 성수기 중소 협력업체의 자금 부담 해소를 돕기 위해 결제 대금을 앞당겨 지급해오고 있다. CJ 관계자는 “코로나19로 오랫동안 이어지는 경기 불황과 최근 금리인상 등으로 어려움을 겪는 중소 협력사들이 자금 부담을 조금이나마 해소하기 바란다”고 말했다.', '김영섭 LG CNS 대표(왼쪽)와 함기호 AWS코리아 대표가 지난 7일 전략적 협력계약을 체결하고 기념촬영을 하고 있다. LG CNS 제공\\nLG CNS가 지난 7일 아마존웹서비스(AWS)와 클라우드 기반의 애플리케이션 현대화 구축·운영 사업을 위한 전략적 협력 계약을 체결했다고 8일 밝혔다.\\n클라우드 인프라는 기업이 운영하는 각종 IT시스템과 애플리케이션 서비스를 클라우드 기반으로 구동하는 것을 뜻한다. 애플리케이션은 기업의 회계시스템, 스마트폰 앱, 쇼핑몰 사이트, 인공지능(AI) 고객센터 등의 시스템을 통칭하는 표현이다.\\nLG CNS는 이번 사업에 힘을 싣고자 사내 전담 조직 ‘클라우드 네이티브 론치 센터’를 신설하고 클라우드 전문가 약 150명을 투입했다. LG CNS는 올해 초 클라우드 담당 조직을 대표이사 직속인 클라우드사업부로 격상한 바 있다.\\nLG CNS는 “이번 협력으로 AWS의 최신 클라우드 기술을 국내로 가장 빠르게 도입해 고객사에 제공할 것”이라며 “AWS의 클라우드 관련 최신 기술을 총동원해 사업 애플리케이션을 컨설팅, 기획, 개발, 운영하겠다”고 설명했다.\\nAWS와 마이크로소프트, 구글 등이 클라우드 서비스를 제공하는 클라우드서비스사업자(CSP)라면 LG CNS는 기업 서버의 클라우드 전환과 전환 후 관리 서비스를 제공하는 클라우드관리서비스(MSP) 업체라고 할 수 있다. LG CNS는 국내에서 세계 1위 CSP인 AWS를 택한 기업들에게 맞춤형 서비스를 제공하기 위해 전략적 공조를 강화하는 모습이다. LG CNS는 지난해 대한항공의 IT시스템을 AWS 클라우드로 전환하는 작업을 맡기도 했다.\\n요즘 LG CNS 외에도 기존에 국내 기업의 서버를 관리하던 시스템통합(SI) 업체들이 클라우드 전환 분위기를 타고 MSP를 강화하는 모습을 볼 수 있다. 삼성SDS도 영업이익률이 낮은 물류 부문보다 시장이 커지고 있는 MSP 사업을 키우기 위해 노력하고 있다. SI 업체들은 국내 기업의 IT시스템에 대한 이해도가 높다는 점을 활용해 MSP 시장에서 입지를 키우려 하고 있다. 올해 국내 MSP 시장 규모는 대략 7조원 정도로 예상된다.\\n하지만 베스핀글로벌·메타넷글로벌·메가존클라우드 등 기존 MSP 업체도 많고, 최근 안랩 등 보안업체들까지 MSP 시장에 새로 뛰어들어 경쟁이 치열해지면서 높은 수익을 낼 수 있을 지가 과제다.', 'LG CNS 직원이 물류로봇 구독 서비스를 소개하고 있다. LG CNS 제공.\\nLG CNS가 물류센터 운영 업체를 대상으로 물류로봇 구독 서비스를 시작한다고 21일 밝혔다.\\n물류센터를 운영하는 전자상거래업체나 유통·제조 기업들이 연 구독료를 내면, 물류 작업에 특화된 로봇들을 필요한만큼 빌려준다. 명절 직전이나 크리스마스 등 온라인 쇼핑 수요가 급증하는 특정 시기에는 로봇 추가 대여도 가능하다.\\nAI로 상품의 특성을 파악해 정확하게 집어 나르는 ‘AI피킹로봇’, 고정된 경로에서 반복적으로 상품을 운반할 때 적합한 ‘무인운송로봇(AGV)’, 센서로 주변을 감지해 스스로 경로를 찾아 상품을 운반, 적재하는 ‘자율주행로봇(AMR)’, 상품 보관·적재·이동 모두 가능한 큐브 형태의 물류 자동화로봇 ‘오토스토어’ 등을 대여해 준다.\\n사용자는 물류센터 크기와 용도 등을 고려해 맞춤형으로 로봇을 구독할 수 있다. 예컨대 근거리 즉시 배송 기능이 가장 필요한 중소형 도심물류센터(MFC)는 공간 효율성이 높은 물류 자동화로봇 오토스토어를 구독하면 효과적이다. 오토스토어는 한정된 공간에 기존보다 4배 이상 많은 물건을 보관할 수 있다.\\n로봇만 구독 가능한 것이 아니다. LG CNS가 개발한 클라우드 기반의 물류센터 제어 시스템도 구독할 수 있다. 사용자가 지정된 IP(Internet Protocol)에서 클라우드에 접속하면 LG CNS가 인공지능(AI), 사물인터넷(IoT) 등 디지털전환(DX)기술로 수집한 상품 이동 동선, 이동 횟수, 상품 처리량 등의 물류 데이터가 제공된다.\\n이준호 LG CNS 스마트물류사업부장은 “클라우드, AI, 데이터 등 DX 기술력과 로봇을 결합해 더 많은 고객들이 물류 지능화를 구현할 수 있도록 할 것”이라고 말했다.', '네이버 제2사옥 ‘1784’에 있는 자율주행서비스로봇 ‘루키’. 루키는 직원들에게 택배, 우편물, 커피 등을 배달한다. 두뇌 역할을 하는 클라우드 기반의 ‘아크(ARC)’와의 통신을 위해 5G 특화망인 ‘이음 5G’를 사용한다. 네이버 제공.\\n지난 4월 경기도 성남에 완공된 네이버 제2사옥 ‘1784’ 안에는 자율주행 서비스로봇 ‘루키’가 돌아다닌다. 루키는 로봇 전용 엘리베이터 ‘로보포트’를 타고 지하 8층부터 지상 28층까지 사옥 전체를 다니며 직원들에게 택배, 우편물, 커피 등을 배달한다. 루키를 만든 네이버랩스는 양팔로봇 ‘앰비덱스’와 그림 그리는 로봇 ‘아르토원’ 등도 개발 중이다. 이들은 모두 두뇌가 없는 ‘브레인리스 로봇’으로, 클라우드 기반의 ‘아크(ARC)’ 시스템이 두뇌 역할을 한다. 2012년 개봉한 영화 <어벤져스>에서 외계 침략자 치타우리의 병사들이 모선이 파괴되자 일시에 쓰러졌듯이 루키 역시 아크와의 연결이 끊기면 작동을 멈춘다.\\n네이버는 루키와 아크를 연결하기 위해 국내 최초로 ‘이음5G’를 사용했다. 이음5G란 통신사가 아닌 사업자가 특정 지역이나 건물 등에서 맞춤형 서비스를 제공하기 위해 과학기술정보통신부로부터 주파수(4.7㎓, 28㎓)를 할당받아 만든 5G 네트워크를 말한다. 네이버 외에도 LG(LG CNS)와 SK(SK네트웍스서비스)가 계열사 빌딩 및 공장을 대상으로 이음5G 네트워크 구축에 들어갔다.\\n네이버랩스가 개발한 양팔로봇 ‘앰비덱스’. 네이버 제공.\\nCJ도 이음5G 사업에 뛰어들기로 했다. CJ올리브네트웍스는 1일 “이달 중 과기정통부에 이음5G 사업자 등록을 위한 주파수 사용 신청과 회선설비 보유 기간통신사업자 등록을 할 계획”이라며 “연내 CJ그룹 계열사 사업장과 대외 사업현장에 이음5G를 구축해 물류·공장 자동화, 빅데이터 분석, 콘텐츠 유통 등 대내외 사업 혁신을 가속화하겠다”고 밝혔다. 카카오엔터프라이즈, 삼성SDS, 한국전력공사 등의 기업들도 이음5G 도입을 검토하고 있다.\\n이음5G는 토지·건물 단위로 주파수를 이용한다는 점에서 와이파이(WiFi)와 유사하지만, 통신품질과 확장성, 보안성 측면에서 우위에 있다. 통신업계 관계자는 “산업 특성에 맞춰 기업이 5G를 맞춤형으로 셋팅할 수 있다는 것이 가장 큰 장점”이라고 말했다. 예컨대 LG CNS는 이음5G를 LG이노텍 구미2공장에 구축해 인공지능(AI) 비전 카메라를 통한 불량품 검사 등에 활용할 계획이다. 카메라를 통해 들어오는 정보량이 굉장히 많은데다 이를 바로 처리해서 지연되는 일 없이 곧바로 명령을 내보내야 한다. 업로드와 다운로드 과정 모두에서 상당한 트래픽이 발생하기 때문에 이를 처리할 맞춤형 통신 서비스가 필요하다.\\n삼성전자의 5G특화망 전용 장비. 삼성전자 제공.\\n이음5G를 도입하려는 기업들이 늘면서 통신장비업체 간의 경쟁도 뜨거워질 전망이다. 삼성전자가 ‘이음5G 1호’인 네이버에 5G특화망 장비를 공급하면서 경쟁사들이 분주하게 움직이고 있다. 2호인 LG CNS는 대만QCT의 장비를, 3호인 SK네트웍스서비스는 에릭슨엘지의 장비를 도입한 것으로 알려졌다.\\n이음5G5G특화망네이버로봇루키SKLG', '‘일부 서비스 지연 안내’\\n정부 포털사이트인 ‘정부24’ 첫 화면에 사회보장정보시스템 작업 때문에 일부 기능이 지연될 수 있다는 공지가 나오고 있다.\\n정부가 최근 개통한 복지 관련 정보망 때문에 사회복지시설들이 보조금 신청 등 전산 업무를 하는 데 차질을 빚는 것으로 알려졌다. 정부는 미리 공지한대로 정보망 기능을 단계적으로 개통하는 과정에서 소통이 안돼 혼란이 일었으며, 급여 지급 등에는 문제가 없다고 설명했다.\\n14일 보건복지부 등에 따르면, 정부가 지난 6일 개통한 사회복지시설용 업무지원 시스템 ‘희망이음’을 사용하면서 보조금 신청, 시설 인력 관련 보고 등 업무를 할 수 없어 불편하다는 민원이 정부포털 등을 통해 접수되고 있다. 보조금을 신청하지 못해 나중에 제때 보조금을 받을 수 없다는 우려도 확산되고 있다.\\n복지부는 소통 과정에서 오해가 생겨 이 같은 사태가 생겼다고 보고 있다. 지난 6일 생계급여 신청 등 기능을 우선 개통하고 13일엔 보조금 교부신청 등, 23일엔 종사자 수당신청 등 기능을 추가 개통한다고 미리 알렸다는 것이다.\\n전병왕 복지부 사회복지정책실장은 이날 기자들에게 상황을 설명하면서 “보고 유형에 따라 단계적으로 개통하는 계획을 공문과 온라인 설명회 등 다양한 방법을 통해 복지시설에 안내했다”며 “보조금 신청 등 보고는 공지한 일정에 맞춰 13일 오후 8시에 그 기능을 개시했다”고 밝혔다. 그러면서 “초기에 다소 어려움이 있더라도 변화의 과정을 받아들여주면 좋겠다”고 했다.\\n관건은 보조금 등 급여가 제때 지급돼 일선 복지 업무가 원활히 돌아갈 수 있느냐는 점이다. 복지부는 “시스템 기능 제한에 따른 복지시설의 불안과 불이익이 생기지 않도록 개통 전에 미리 관련 행정기관과 국민건강보험공단의 협조를 구했다”면서 “시설에서 우려하는 급여 지급에도 문제가 없도록 조치하겠다”고 밝혔다.\\n갑자기 생계·주거 지원이 필요할 때 이용하는 긴급복지 지원도 새 정보망 개통 후 일부 차질을 빚었던 것으로 알려졌다. 복지부는 일단 현장에서 판단해 먼저 급여를 지급하고 나중에 자료를 보완하는 방식으로 대처하라고 안내했다.\\n희망이음은 복지부가 구축한 ‘차세대 사회보장정보시스템’ 중 하나로, 기존 노후 정보망을 대체하면서 공공부문과 사회복지시설 등 민간부문 간 정보 공유를 강화한다는 취지로 도입됐다. 2019~2022년 LG CNS 컨소시엄이 사업을 맡았다. 개발 과정을 잘 아는 한 관계자는 “개발자들의 잦은 이직 때문에 업무 연속성이 떨어지고 개발 일정이 지연되는 문제가 있었다”고 전했다.\\n희망이음행복이음복지로보건복지부전병왕긴급복지', '삼성은 추석을 앞두고 협력회사에 물품 대금 2조1000억원을 조기 지급한다고 31일 밝혔다.\\n삼성은 중소 협력회사들이 명절을 앞두고 자금난을 겪지 않도록 물품 대금을 최대 열흘 앞당겨 추석 연휴 이전에 지급할 계획이다. 올해 추석 조기 지급액은 작년 추석 때 조기 지급한 8000억원보다 1조3000억원 늘어난 것이다.\\n삼성 관계자는 “물품 대금 조기 지급은 ‘같이 나누고 함께 성장하자’는 이재용 삼성전자 부회장의 상생 비전에 따른 것으로, 국내 중소기업들과 상생의 산업 생태계 조성을 위한 노력의 일환”이라고 설명했다.\\n물품 대금 조기 지급에는 삼성전자 1조4000억원을 비롯해 삼성디스플레이, 삼성전기, 삼성SDI, 삼성SDS, 삼성물산 등 11개 관계사가 참여한다. 삼성전자를 비롯한 삼성의 주요 계열사들은 2011년부터 물품 대금 지급 주기를 기존 월 2회에서 3~4회로 늘리는 등 협력회사들의 원활한 자금 흐름을 지원하고 있다.\\n앞서 현대자동차그룹은 협력사에 납품대금 1조8524억원을 추석 전에 앞당겨 지급할 계획이라고 전날 밝혔다. 현대차그룹은 내수활성화를 위해 온누리상품권 280억원을 구매하기로 했다.\\nLG그룹은 9500억원 규모의 협력사 납품 대금을 최대 12일 앞당겨 지급키로 했다. LG전자, LG디스플레이, LG이노텍, LG화학, LG에너지솔루션, LG생활건강, LG유플러스, LG CNS 등 8개 주요 계열사가 참여한다. 2월 설 명절 때도 중소 협력사 납품대금 1조3000억원을 예정보다 앞당겨 지급한 바 있다.\\nCJ그룹은 5개 계열사가 3800여 개의 협력업체를 대상으로 정상 지급일보다 평균 1개월 앞당겨 3000억원 규모의 결제 대금을 지급할 계획이다.\\n한편, 삼성전자와 삼성물산, 삼성생명 등 18개 전 관계사는 임직원 대상 ‘추석 맞이 온라인 장터’도 열어 전국의 농수산품, 자매마을 특산품, 중소기업 스마트공장 생산 상품 등도 판매하고 있다.\\n삼성은 그동안 매해 설과 추석 명절마다 각 사업장에서 오프라인 직거래 장터를 열어 농산품 판매를 지원해 왔으나, 2020년 추석부터는 코로나19 여파로 온라인 장터로 전환해 운영 중이다. 삼성 임직원들은 작년 추석과 올해 설에 온라인 장터에서 각 30억원 상당의 상품을 샀다.\\n올해 추석 온라인 장터는 회사별 사내 게시판 또는 행정안전부, 지역자치단체, 우체국, 농협 등이 관리하는 쇼핑몰을 통해 운영된다. 삼성 계열사들의 자매마을에서 생산되는 농수산물 및 특산품, 삼성전자 스마트공장 지원업체 50여곳이 생산한 제품도 함께 판매한다.', 'LG CNS 조형철 스마트F&C사업부장(전무)이 9일 LG사이언스파크 이노베이션스튜디오에서 가상레버를 조정하며 ‘가상 공장’을 시연하고 있다. LG CNS 제공\\n한국에 있는 엔지니어가 ‘가상 공장(버추얼 팩토리)’을 통해 미국의 공장 설비를 원격 조종한다. 실제 공장과 똑같이 구현한 가상 공장과 가상 설비를 보며 여러 지역의 전문가들이 문제를 논의하고, 가상 설비에서 나오는 수 억 개의 데이터를 분석해 실제 공장의 설비 고장을 예측할 수도 있다. 제품 낙하 실험을 할 때도 가상 공간의 연구소(버추얼 랩)에서 다양한 조건을 대입해 가며 반복 실험이 가능하다.\\nLG CNS가 이같은 내용의 가상 공장과 가상 연구소 사업을 본격 추진한다고 9일 발표했다. LG CNS는 신물질을 개발하는 연구전용 공장을 대상으로 ‘가상 공장 기술’에 대한 기술 검증(PoC)을 최근 마쳤다며 실제로 가상 공장을 구축하는 작업을 진행하고 있다고 밝혔다.\\n가상 공장은 공장과 설비 등을 가상 환경에 구현하고 공장에서 발생하는 모든 데이터를 분석해 최적의 공장 운영방안을 적용하는 원격 제어 기술이다. 가상 환경에서 공장 전체를 실제와 똑같이 운영할 수 있게 된다. 생산 과정 전체를 한 자리에서 모니터링하고 제어하는 ‘스마트 공장’ 기술을 가상 현실 속에서도 구현할 수 있도록 했다. 제품 설계·품질 테스트·낙하 실험 등도 가상 공간 안에서 진행된다. 실제 공장에서는 재료 배합을 변경하거나 온도를 조절하는 과정에서 폭발 등의 사고가 발생할 수 있지만, 가상 연구소에서는 환경 조건을 바꿔가며 안전하게 테스트할 수 있다.\\n가상 공장과 가상 연구소는 관련 데이터를 확보하는 것이 핵심이다. LG CNS는 설비, 로봇, 설계, 시험, 작업자, 공정, 물류, 안전 등 생산의 모든 영역에서 생성되는 데이터를 확보하고 있다고 밝혔다. 특히 현실 속 물리적 사물을 디지털 환경에 시각적으로 똑같이 복제하는 ‘디지털 트윈’ 기술 등이 여기에 활용되고 있다.\\nLG CNS 관계자는 “가상 공장·연구소는 공정 설계부터 설비와 시스템 구축 영역 전부에 인공지능(AI)·빅데이터·로봇 등 디지털 전환(DX) 신기술이 망라된 스마트공장의 최상위 진화 단계”라며 “설비 자동화(1단계), 정보화(2단계), AI·데이터 기반의 지능화(3단계)를 거쳐 디지털 트윈을 통한 가상화(4단계)까지 발전한 것”이라고 말했다.', 'LG CNS, 전남 나주에 ‘지능형 스마트팜’ 조성\\n온실 아닌 축구장 76배 크기 노지로\\n유해조수 쫓는 ‘디지털 허수아비’도\\nLG CNS 직원들이 스마트팜 지능화 플랫폼을 소개하고 있다. LG CNS 제공\\n디지털전환(DX) 전문기업 LG CNS가 최근 농림축산식품부와 전라남도가 추진하는 ‘첨단 무인 자동화 농업생산 시범단지 지능화 플랫폼 구축’ 사업에 착수했다고 19일 밝혔다.\\n이 사업은 내년까지 축구장 면적의 76배인 전남 나주시 54.3㏊(54만3000㎡) 규모 노지에 데이터 중심의 ‘지능형 스마트팜’을 조성하는 것이 핵심이다.\\n지금까지 스마트팜은 유리온실이나 비닐하우스 등 시설 재배를 중심으로 보급됐지만 이번엔 노지형인 것이 특징이다. LG CNS는 자체 스마트시티 플랫폼 ‘시티허브’를 기반으로 농사의 모든 과정을 통합 관리하는 ‘스마트팜 지능화 플랫폼’을 개발한다.\\n이 플랫폼은 작물의 생육 상태, 토양, 기상, 온·습도, 병충해 유행 시기 등 농사에 필요한 각종 데이터를 모아 인공지능(AI)으로 분석하고 최적의 농사 가이드를 제공한다. 감자 농사를 할 경우 토양 데이터와 감자의 생육 데이터를 분석해 적정 비료 공급량과 시기를 알려준다. 토양의 습기 정도와 기상 일정에 따라 최적의 물 공급 일정도 안내한다. 노지 크기에 따라 수천, 수만대의 사물인터넷 센서와 장비가 농작물의 생육 과정과 각종 환경 데이터를 수집한다.\\nLG CNS는 또 유해조수 퇴치 장비인 ‘디지털 허수아비’로 농작물을 지킨다. 움직임을 레이더로 포착해 AI 이미지 센서로 유해조수 유무를 판별한 뒤 레이저를 발사하거나 스피커로 동물이 기피하는 주파수대의 소리를 내보내는 방식이다.\\n스마트팜 지능화 플랫폼은 여기에 무인 트랙터, 무인 드론, 무인 이앙기 등 무인 농기계 관리 서비스도 제공한다. 이를 통해 논, 밭에 직접 가지 않고 원격 시스템으로 농기계를 작동할 수 있다. 연료 잔량과 고장 여부 등 농기계의 상태를 플랫폼에서 한 눈에 파악할 수 있고, 작업 스케쥴도 플랫폼에서 관리한다.\\nLG CNS는 이번 사업을 통해 농업 용수를 통합 관리하고 농업 데이터를 수집하는 방법을 표준화해 디지털 정밀 농업의 기반을 마련한다는 계획도 세우고 있다. LG CNS는 향후 세종 스마트시티에 아파트형 스마트팜, 옥상 스마트팜, 첨단 유리온실 등으로 사업을 확대할 예정이다. 유인상 스마트SOC담당 상무는 “한국형 스마트팜이 글로벌 선도 모델이 될 수 있도록 회사의 전문 역량을 집중하겠다”고 말했다.', '대세로 자리잡은 ‘노코드·로코드’\\n코딩 몰라도 음성·마우스 사용해\\n손쉽게 앱·프로그램 제작 ‘노코드’\\n개발자 코딩 입력 최소화 ‘로코드’\\n구글 ‘앱시트’·MS ‘파워앱스’ 등\\n실리콘밸리선 관련 서비스 봇물\\n국내도 LG CNS 등 시장 진출 분주\\n코딩을 몰라도 애플리케이션(앱)과 프로그램을 만들 수 있는 노코드(no-code)·로코드(low-code) 서비스가 정보기술(IT) 업계에서 각광받고 있다. 개발자 부족 현상을 극복하고 누구나 개발자가 되는 시대를 열 수 있기 때문이다\\n13일 업계에 따르면 노코드는 코딩을 몰라도 음성이나 간단한 마우스 드래그만으로 간단히 앱, 프로그램을 만들 수 있는 서비스다. 로코드는 개발자가 코딩을 입력하는 과정을 최소화해 업무 효율을 높여준다. 대표적인 서비스는 구글의 ‘앱시트’와 마이크로소프트의 ‘파워앱스’다. 앱시트는 구글 스프레드시트에서 이용할 데이터를 선택하고 어떤 모양으로 앱을 구현할 것인지 설정하면 앱을 만들 수 있다. 파워앱스는 지난해 일상 대화로도 코딩할 수 있는 기능을 추가했다.\\n지난 2월엔 ‘알파고’를 만든 회사로 잘 알려진 딥마인드가 인간보다 코딩을 더 잘하는 인공지능(AI) ‘알파코드’를 선보였다. 미국 실리콘밸리에서는 로코드 서비스를 제공하는 스타트업 에어테이블과 아웃시스템스가 단기간에 10조원 이상의 기업 가치를 인정받았다.\\n노코드와 로코드는 AI 기술이 발달하면서 가능해졌다. 코로나19로 디지털 전환과 재택근무가 일상화되면서 ‘코딩을 몰라도 작업은 해야 하는 경우’가 많아졌다. 여기에 개발자 부족 현상까지 겹치면서 노코드·로코드는 이제 거스를 수 없는 대세가 되고 있다.\\n시장조사업체 가트너는 “2024년 출시하는 앱 10개 중 7개는 노코드·로코드로 나올 것”이라고 예상했다. 마켓앤마켓은 노코드·로코드 서비스 시장 규모가 2020년 132억달러(약 16조2000억원)에서 2025년 455억달러(약 55조9000억원)로 성장할 것으로 전망했다. 뉴욕타임스는 최근 “노코드는 AI의 힘을 대중에게 준다”며 “노코드가 시민 개발자의 무기가 돼 세상을 바꿀 것”이라고 보도했다.\\n아직 걸음마 단계인 한국에서도 다수의 IT 업체가 노코드·로코드 서비스에 뛰어들고 있다. LG CNS는 지난해 3월 노코딩 서비스 ‘데브온 NCD’를 무료로 공개했다. 원하는 기능을 마우스로 아이콘을 옮기듯 넣기만 하면 프로그램을 만들 수 있게 해 개발인력이 부족한 중소기업에 도움이 됐다. 네이버와 카카오는 자사 서비스에 노코드·로코드를 활용하면서 고객사에도 서비스를 제공하려 하고 있다.\\n네이버 출신 AI 전문가들이 창업한 스타트업 업스테이지는 올해 하반기 노코드·로코드 서비스 ‘AI팩’ 출시를 준비하고 있다. 업스테이지는 기업이 보유한 데이터로 맞춤형 AI 기술을 구현하고, 학습을 통해 지속 가능한 AI로 활용할 수 있다고 설명했다.', '13개 기업 모인 ‘엑스퍼트 AI 얼라이언스’ 발족\\nLG그룹의 인공지능(AI) 전담 조직인 LG AI연구원이 다양한 업종의 국내·외 기업들과 글로벌 초거대 AI 생태계 조성에 나섰다.\\nLG AI연구원은 22일 국내·외 기업 13개가 모인 ‘엑스퍼트 AI 얼라이언스’(Expert AI Alliance)를 발족시켰다고 밝혔다. 엑스퍼트 AI 얼라이언스는 인공지능 분야에서 정보통신(IT)·금융·교육·의료·제조·통신 등 이종산업 간 협력을 위해 구성된 첫 민간 연합체다. LG AI연구원을 중심으로 구글, 우리은행, 셔터스톡, 엘스비어, EBS, 고려대학교의료원, 한양대학교병원, 브이에이코퍼레이션, LG전자, LG화학, LG유플러스, LG CNS가 창립 멤버로 참여했다.\\n이들은 LG의 초거대 AI 엑사원을 바탕으로 각자 필요한 서비스를 협업을 통해 개발할 계획이다. 초거대 AI는 대용량의 연산이 가능한 컴퓨팅 인프라를 기반으로 대규모 데이터를 스스로 학습해 인간처럼 사고·판단할 수 있다.\\n배경훈 AI연구원장은 이날 유튜브로 진행된 발족 행사에서 LG가 최근 선보인 AI 아티스트 ‘틸다’ 등 엑사원으로 실제 구현한 사례를 공유하고 연합 파트너사들과의 협업 계획을 밝혔다. 배 원장은 인간처럼 자연스럽게 대화한 뒤 전문 상담사 수준으로 내용을 요약하는 고도화된 챗봇 모델, LG화학 및 엘스비어와 연구하고 있는 분야인 심층 문서 이해(DDU· Deep Document Understanding) 기술도 시연했다. 이 기술은 논문, 특허 등 전문 문헌의 텍스트뿐만 아니라 수식, 표 등 시각적 요소까지 분석해 신약과 신소재 등의 데이터를 빠르고 정확하게 분석하고 축적하는 기술이다.\\n22일 유튜브로 진행한 ‘엑스퍼트 AI 얼라이언스’ 발족 행사에 참석한 사람들. 김경훈 구글코리아 대표와 황원철 우리은행 부행장, 김광범 EBS 본부장, 지영석 엘스비어 회장, 김이석 한양대병원 부원장, 김병훈 LG전자 부사장 등이 참석했다. LG그룹 제공\\n우리은행은 엑사원을 활용해 AI 은행원의 전문성을 강화하고 금융에 특화한 언어 모델을 개발하겠다는 계획을 발표했다. EBS는 수학 문제를 AI가 자동으로 해설하는 서비스를 엘스비어는 자사가 보유한 1억건의 의학·과학 분야 문헌에 대한 데이터베이스 구축을 추진한다. 구글은 슈퍼 컴퓨팅 클라우드 서비스를 LG AI연구원에 제공하고, 초거대 AI 개발에 협력하기로 했다.\\n배경훈 원장은 “파트너사들과의 긴밀한 협력으로 모든 산업 영역에서 상위 1% 전문가 AI를 만들어 기존에 보지 못했던 새로운 고객 경험을 제공하겠다”고 밝혔다.']\n",
      "['경향신문', '경향신문', '경향신문', '경향신문', '경향신문', '경향신문', '경향신문', '경향신문', '경향신문', '경향신문']\n"
     ]
    },
    {
     "name": "stdout",
     "output_type": "stream",
     "text": [
      "['현대차, LG 등 추석 전 협력사 납품대금 앞당겨 지급', 'LG CNS, 세계 1위 클라우드 AWS와 전략적 협력 계약', 'LG CNS, ‘물류로봇’ 구독 서비스 출시', '네이버, LG, SK에 이어 CJ도 꽂힌 ‘이음5G’', '새로 만든 정부 복지정보망 때문에 혼란···‘긴급복지’도 차질', '삼성, 추석 앞 협력사 물품대금 2조1000억원 조기 지급한다', \"'스마트 팩토리' 넘어... 이제는 ‘버추얼 팩토리’\", '노지에서도 AI 가이드 따라 똑똑하게 농사짓는다', '개발자 기근 해소해 줄까…프로그래밍·앱 제작 AI ‘각광’', 'LG, 구글·우리은행·EBS와 초거대 AI 생태계 만든다', 'LG, 5대 핵심가치 담은 ‘AI 윤리원칙’ 발표', 'LG “인간-AI 공존 연구 지속” 5대 가치 담은 윤리원칙 발표', 'LG CNS, AWS와 손잡고 미래 클라우드 사업에 나선다', 'LG CNS, 마이데이터 앱 ‘하루조각’ 시범서비스', 'LG CNS, 마이데이터 ‘하루조각’ 시범서비스 개시', 'LG CNS, 구글 프리미어 파트너 어워즈 유일하게 2개 부문 수상', 'LG CNS “양자 기술로 산업 난제 해결”', 'LG CNS, 로그4j 해킹 대비 비상체제 가동', 'LG CNS, 협력사 위해 온라인 채용관 구축', 'LG CNS, 기업맞춤형 메타버스 오피스 출시']\n",
      "['https://www.khan.co.kr/economy/auto/article/202208300959001', 'https://www.khan.co.kr/economy/market-trend/article/202202081333001', 'https://www.khan.co.kr/economy/industry-trade/article/202206211038001', 'https://www.khan.co.kr/economy/industry-trade/article/202206011445001', 'https://www.khan.co.kr/national/health-welfare/article/202209141454021', 'https://www.khan.co.kr/economy/industry-trade/article/202208311437001', 'https://www.khan.co.kr/economy/industry-trade/article/202206091604001', 'https://www.khan.co.kr/economy/business/article/202204190851001', 'https://www.khan.co.kr/it/it-general/article/202204132152015', 'https://www.khan.co.kr/economy/industry-trade/article/202202221325001', 'https://news.kmib.co.kr/article/view.asp?arcid=0017403166&code=61141111&cp=nv', 'https://news.kmib.co.kr/article/view.asp?arcid=0924260644&code=11151400&cp=nv', 'http://news.kmib.co.kr/article/view.asp?arcid=0924230673&code=11151400&cp=nv', 'http://news.kmib.co.kr/article/view.asp?arcid=0924235987&code=11151400&cp=nv', 'http://news.kmib.co.kr/article/view.asp?arcid=0016870052&code=61141111&cp=nv', 'http://news.kmib.co.kr/article/view.asp?arcid=0924224091&code=11151400&cp=nv', 'http://news.kmib.co.kr/article/view.asp?arcid=0924222162&code=11151400&cp=nv', 'http://news.kmib.co.kr/article/view.asp?arcid=0924222810&code=11151400&cp=nv', 'http://news.kmib.co.kr/article/view.asp?arcid=0924224836&code=11151400&cp=nv', 'http://news.kmib.co.kr/article/view.asp?arcid=0924221730&code=11151400&cp=nv']\n"
     ]
    },
    {
     "ename": "NoSuchElementException",
     "evalue": "Message: no such element: Unable to locate element: {\"method\":\"css selector\",\"selector\":\"#sub > div.sub_header > div > div.nwsti > div > div.date > span\"}\n  (Session info: chrome=105.0.5195.127)\nStacktrace:\nBacktrace:\n\tOrdinal0 [0x0048C0A3+2212003]\n\tOrdinal0 [0x00422CC1+1780929]\n\tOrdinal0 [0x0033465D+804445]\n\tOrdinal0 [0x00363475+996469]\n\tOrdinal0 [0x0036363B+996923]\n\tOrdinal0 [0x00391382+1184642]\n\tOrdinal0 [0x0037EC64+1109092]\n\tOrdinal0 [0x0038F5B2+1177010]\n\tOrdinal0 [0x0037EA36+1108534]\n\tOrdinal0 [0x003583C9+951241]\n\tOrdinal0 [0x00359396+955286]\n\tGetHandleVerifier [0x00739CE2+2746722]\n\tGetHandleVerifier [0x0072A234+2682548]\n\tGetHandleVerifier [0x0051B34A+524234]\n\tGetHandleVerifier [0x00519B60+518112]\n\tOrdinal0 [0x00429FBC+1810364]\n\tOrdinal0 [0x0042EA28+1829416]\n\tOrdinal0 [0x0042EB15+1829653]\n\tOrdinal0 [0x00438744+1869636]\n\tBaseThreadInitThunk [0x757BFA29+25]\n\tRtlGetAppContainerNamedObjectPath [0x76FB7B5E+286]\n\tRtlGetAppContainerNamedObjectPath [0x76FB7B2E+238]\n",
     "output_type": "error",
     "traceback": [
      "\u001b[1;31m---------------------------------------------------------------------------\u001b[0m",
      "\u001b[1;31mNoSuchElementException\u001b[0m                    Traceback (most recent call last)",
      "Input \u001b[1;32mIn [2]\u001b[0m, in \u001b[0;36m<cell line: 8>\u001b[1;34m()\u001b[0m\n\u001b[0;32m     72\u001b[0m     content_list\u001b[38;5;241m.\u001b[39mappend(contents)\n\u001b[0;32m     74\u001b[0m \u001b[38;5;28;01mif\u001b[39;00m \u001b[38;5;124m'\u001b[39m\u001b[38;5;124m2\u001b[39m\u001b[38;5;124m'\u001b[39m \u001b[38;5;241m==\u001b[39m content_selector[\u001b[38;5;241m-\u001b[39m\u001b[38;5;241m6\u001b[39m]:\n\u001b[1;32m---> 75\u001b[0m     dates \u001b[38;5;241m=\u001b[39m \u001b[43mdriver\u001b[49m\u001b[38;5;241;43m.\u001b[39;49m\u001b[43mfind_element\u001b[49m\u001b[43m(\u001b[49m\u001b[38;5;124;43m'\u001b[39;49m\u001b[38;5;124;43mcss selector\u001b[39;49m\u001b[38;5;124;43m'\u001b[39;49m\u001b[43m,\u001b[49m\u001b[43m \u001b[49m\u001b[38;5;124;43m'\u001b[39;49m\u001b[38;5;124;43m#sub > div.sub_header > div > div.nwsti > div > div.date > span\u001b[39;49m\u001b[38;5;124;43m'\u001b[39;49m\u001b[43m)\u001b[49m\u001b[38;5;241m.\u001b[39mtext\n\u001b[0;32m     76\u001b[0m     content \u001b[38;5;241m=\u001b[39m driver\u001b[38;5;241m.\u001b[39mfind_element(\u001b[38;5;124m'\u001b[39m\u001b[38;5;124mcss selector\u001b[39m\u001b[38;5;124m'\u001b[39m,\u001b[38;5;124m'\u001b[39m\u001b[38;5;124m#articleBody\u001b[39m\u001b[38;5;124m'\u001b[39m)\u001b[38;5;241m.\u001b[39mtext\n\u001b[0;32m     77\u001b[0m     press_list\u001b[38;5;241m.\u001b[39mappend(\u001b[38;5;124m'\u001b[39m\u001b[38;5;124m국민일보\u001b[39m\u001b[38;5;124m'\u001b[39m)\n",
      "File \u001b[1;32m~\\miniforge3\\envs\\lhs\\lib\\site-packages\\selenium\\webdriver\\remote\\webdriver.py:857\u001b[0m, in \u001b[0;36mWebDriver.find_element\u001b[1;34m(self, by, value)\u001b[0m\n\u001b[0;32m    854\u001b[0m     by \u001b[38;5;241m=\u001b[39m By\u001b[38;5;241m.\u001b[39mCSS_SELECTOR\n\u001b[0;32m    855\u001b[0m     value \u001b[38;5;241m=\u001b[39m \u001b[38;5;124m'\u001b[39m\u001b[38;5;124m[name=\u001b[39m\u001b[38;5;124m\"\u001b[39m\u001b[38;5;132;01m%s\u001b[39;00m\u001b[38;5;124m\"\u001b[39m\u001b[38;5;124m]\u001b[39m\u001b[38;5;124m'\u001b[39m \u001b[38;5;241m%\u001b[39m value\n\u001b[1;32m--> 857\u001b[0m \u001b[38;5;28;01mreturn\u001b[39;00m \u001b[38;5;28;43mself\u001b[39;49m\u001b[38;5;241;43m.\u001b[39;49m\u001b[43mexecute\u001b[49m\u001b[43m(\u001b[49m\u001b[43mCommand\u001b[49m\u001b[38;5;241;43m.\u001b[39;49m\u001b[43mFIND_ELEMENT\u001b[49m\u001b[43m,\u001b[49m\u001b[43m \u001b[49m\u001b[43m{\u001b[49m\n\u001b[0;32m    858\u001b[0m \u001b[43m    \u001b[49m\u001b[38;5;124;43m'\u001b[39;49m\u001b[38;5;124;43musing\u001b[39;49m\u001b[38;5;124;43m'\u001b[39;49m\u001b[43m:\u001b[49m\u001b[43m \u001b[49m\u001b[43mby\u001b[49m\u001b[43m,\u001b[49m\n\u001b[0;32m    859\u001b[0m \u001b[43m    \u001b[49m\u001b[38;5;124;43m'\u001b[39;49m\u001b[38;5;124;43mvalue\u001b[39;49m\u001b[38;5;124;43m'\u001b[39;49m\u001b[43m:\u001b[49m\u001b[43m \u001b[49m\u001b[43mvalue\u001b[49m\u001b[43m}\u001b[49m\u001b[43m)\u001b[49m[\u001b[38;5;124m'\u001b[39m\u001b[38;5;124mvalue\u001b[39m\u001b[38;5;124m'\u001b[39m]\n",
      "File \u001b[1;32m~\\miniforge3\\envs\\lhs\\lib\\site-packages\\selenium\\webdriver\\remote\\webdriver.py:435\u001b[0m, in \u001b[0;36mWebDriver.execute\u001b[1;34m(self, driver_command, params)\u001b[0m\n\u001b[0;32m    433\u001b[0m response \u001b[38;5;241m=\u001b[39m \u001b[38;5;28mself\u001b[39m\u001b[38;5;241m.\u001b[39mcommand_executor\u001b[38;5;241m.\u001b[39mexecute(driver_command, params)\n\u001b[0;32m    434\u001b[0m \u001b[38;5;28;01mif\u001b[39;00m response:\n\u001b[1;32m--> 435\u001b[0m     \u001b[38;5;28;43mself\u001b[39;49m\u001b[38;5;241;43m.\u001b[39;49m\u001b[43merror_handler\u001b[49m\u001b[38;5;241;43m.\u001b[39;49m\u001b[43mcheck_response\u001b[49m\u001b[43m(\u001b[49m\u001b[43mresponse\u001b[49m\u001b[43m)\u001b[49m\n\u001b[0;32m    436\u001b[0m     response[\u001b[38;5;124m'\u001b[39m\u001b[38;5;124mvalue\u001b[39m\u001b[38;5;124m'\u001b[39m] \u001b[38;5;241m=\u001b[39m \u001b[38;5;28mself\u001b[39m\u001b[38;5;241m.\u001b[39m_unwrap_value(\n\u001b[0;32m    437\u001b[0m         response\u001b[38;5;241m.\u001b[39mget(\u001b[38;5;124m'\u001b[39m\u001b[38;5;124mvalue\u001b[39m\u001b[38;5;124m'\u001b[39m, \u001b[38;5;28;01mNone\u001b[39;00m))\n\u001b[0;32m    438\u001b[0m     \u001b[38;5;28;01mreturn\u001b[39;00m response\n",
      "File \u001b[1;32m~\\miniforge3\\envs\\lhs\\lib\\site-packages\\selenium\\webdriver\\remote\\errorhandler.py:247\u001b[0m, in \u001b[0;36mErrorHandler.check_response\u001b[1;34m(self, response)\u001b[0m\n\u001b[0;32m    245\u001b[0m         alert_text \u001b[38;5;241m=\u001b[39m value[\u001b[38;5;124m'\u001b[39m\u001b[38;5;124malert\u001b[39m\u001b[38;5;124m'\u001b[39m]\u001b[38;5;241m.\u001b[39mget(\u001b[38;5;124m'\u001b[39m\u001b[38;5;124mtext\u001b[39m\u001b[38;5;124m'\u001b[39m)\n\u001b[0;32m    246\u001b[0m     \u001b[38;5;28;01mraise\u001b[39;00m exception_class(message, screen, stacktrace, alert_text)  \u001b[38;5;66;03m# type: ignore[call-arg]  # mypy is not smart enough here\u001b[39;00m\n\u001b[1;32m--> 247\u001b[0m \u001b[38;5;28;01mraise\u001b[39;00m exception_class(message, screen, stacktrace)\n",
      "\u001b[1;31mNoSuchElementException\u001b[0m: Message: no such element: Unable to locate element: {\"method\":\"css selector\",\"selector\":\"#sub > div.sub_header > div > div.nwsti > div > div.date > span\"}\n  (Session info: chrome=105.0.5195.127)\nStacktrace:\nBacktrace:\n\tOrdinal0 [0x0048C0A3+2212003]\n\tOrdinal0 [0x00422CC1+1780929]\n\tOrdinal0 [0x0033465D+804445]\n\tOrdinal0 [0x00363475+996469]\n\tOrdinal0 [0x0036363B+996923]\n\tOrdinal0 [0x00391382+1184642]\n\tOrdinal0 [0x0037EC64+1109092]\n\tOrdinal0 [0x0038F5B2+1177010]\n\tOrdinal0 [0x0037EA36+1108534]\n\tOrdinal0 [0x003583C9+951241]\n\tOrdinal0 [0x00359396+955286]\n\tGetHandleVerifier [0x00739CE2+2746722]\n\tGetHandleVerifier [0x0072A234+2682548]\n\tGetHandleVerifier [0x0051B34A+524234]\n\tGetHandleVerifier [0x00519B60+518112]\n\tOrdinal0 [0x00429FBC+1810364]\n\tOrdinal0 [0x0042EA28+1829416]\n\tOrdinal0 [0x0042EB15+1829653]\n\tOrdinal0 [0x00438744+1869636]\n\tBaseThreadInitThunk [0x757BFA29+25]\n\tRtlGetAppContainerNamedObjectPath [0x76FB7B5E+286]\n\tRtlGetAppContainerNamedObjectPath [0x76FB7B2E+238]\n"
     ]
    }
   ],
   "source": [
    "title_list = []\n",
    "link_list = []\n",
    "date_list = []\n",
    "content_list = []\n",
    "press_list = []\n",
    "\n",
    "\n",
    "for i in range(1, 3):\n",
    "\n",
    "    # 검색어 입력\n",
    "    search = 'LGCNS'\n",
    "    # 크롬 옵션\n",
    "    options = webdriver.ChromeOptions()\n",
    "    # 크롬 윈도우 사이즈 조절\n",
    "    options.add_argument(\"--window-size=800,1200\") # window-size -> 기본 : 1920,1080\n",
    "    chrome_path = chromedriver_autoinstaller.install()\n",
    "    driver = webdriver.Chrome(chrome_path, options=options)\n",
    "    time.sleep(0.01)\n",
    "    driver.get(\"https://www.naver.com\")\n",
    "    # -> 네이버 크롬 창이 뜬다.\n",
    "\n",
    "    # 네이버 검색어 입력 후 검색\n",
    "    element = driver.find_element(\"name\", \"query\") \n",
    "    element.clear()  # 혹시 검색창에 존재하는 텍스트 제거\n",
    "    element.send_keys(search)  # 검색창에 검색어 전달\n",
    "    element.submit()  # 검색 클릭\n",
    "    time.sleep(0.01)\n",
    "\n",
    "    # 뉴스 클릭\n",
    "    driver.find_element(\"link text\", \"뉴스\").click() \n",
    "    time.sleep(0.01)\n",
    "\n",
    "    # 옵션 클릭 후 '1년' 클릭\n",
    "    driver.find_element(\"css selector\", \"#snb > div.api_group_option_filter._search_option_simple_wrap > div > div.option_filter > a\").click()  \n",
    "    driver.find_element(\"css selector\", \"#snb > div.api_group_option_sort._search_option_detail_wrap > ul > li.bx.term > div > div.option > a:nth-child(8)\").click()  \n",
    "    time.sleep(0.01)\n",
    "\n",
    "    # 목록 열기\n",
    "    driver.find_element(\"css selector\", \"a.txt.txt_option._category_select_trigger\").click() \n",
    "\n",
    "    # 일간지 선택\n",
    "    driver.find_element('link text', '일간지').click()\n",
    "\n",
    "    content_selector = f'#snb > div.api_group_option_sort._search_option_detail_wrap > ul > li.bx.press > div > div.api_select_option.type_group._category_select_layer > div > div:nth-child(2) > div > div > div > ul > li:nth-child({i}) > a'\n",
    "    driver.find_element('css selector', content_selector).click()\n",
    "    time.sleep(0.01)\n",
    "    \n",
    "    # 제목 & 링크 저장\n",
    "    titles = driver.find_elements('css selector', 'a.news_tit')\n",
    "    for i in titles:\n",
    "        title_list.append(i.text)\n",
    "\n",
    "    for i in titles:\n",
    "        href = i.get_attribute('href')\n",
    "        link_list.append(href)\n",
    "\n",
    "    print(title_list)\n",
    "    print(link_list)\n",
    "    time.sleep(1)\n",
    "    \n",
    "    # 날짜 & 본문 & 언론사 저장\n",
    "\n",
    "    # 링크 들어가기\n",
    "    for i in link_list:\n",
    "        driver.get(i)\n",
    "\n",
    "        if '1' == content_selector[-6]:\n",
    "            dates = driver.find_element('css selector', '#container > div.art_header.borderless > div.function_wrap > div.art_info > div > em:nth-child(1)').text\n",
    "            contents = driver.find_element('css selector','#articleBody').text\n",
    "            press_list.append('경향신문')\n",
    "            date_list.append(dates)\n",
    "            content_list.append(contents)\n",
    "\n",
    "        if '2' == content_selector[-6]:\n",
    "            dates = driver.find_element('css selector', '#sub > div.sub_header > div > div.nwsti > div > div.date > span').text\n",
    "            content = driver.find_element('css selector','#articleBody').text\n",
    "            press_list.append('국민일보')\n",
    "            date_list.append(dates)\n",
    "            content_list.append(contents)\n",
    "    '''  \n",
    "    if '3' == content_selector[-6]:\n",
    "        content = driver.find_element('css selector','#contents > p').text\n",
    "\n",
    "    if '4' == content_selector[-6]:\n",
    "        content= driver.find_element('css selector','#article_txt').text\n",
    "\n",
    "    if '5' == content_selector[-6]:\n",
    "        content = driver.find_element('css selector','#article-view-content-div').text\n",
    "\n",
    "    if '6' == content_selector[-6]:\n",
    "        content = driver.find_element('css selector','#NewsAdContent').text\n",
    "\n",
    "    if '7' == content_selector[-6]:\n",
    "        content = driver.find_element('css selector','#atic_txt1').text\n",
    "\n",
    "    if '8' == content_selector[-6]:\n",
    "        content = driver.find_element('css selector','#contMain2').text\n",
    "\n",
    "    if '9' == content_selector[-6]:\n",
    "        content = driver.find_element('css selector','#font').text\n",
    "\n",
    "    if '10' == content_selector[-6]:\n",
    "        content = driver.find_element('css selector','#article-view-content-div').text\n",
    "\n",
    "    if '11' == content_selector[-6]:\n",
    "        content = driver.find_element('css selector','#fusion-app > div.article.\\| > div:nth-child(2) > div > section > article > section').text\n",
    "\n",
    "    if '12' == content_selector[-6]:\n",
    "        content = driver.find_element('css selector','#article_body').text\n",
    "\n",
    "    if '13' == content_selector[-6]:\n",
    "        content = driver.find_element('css selector','#wrapper > div > div.container_wrap.article_cont_wrap > div.article_area > div.left_wrap > div').text\n",
    "\n",
    "    if '14' == content_selector[-6]:\n",
    "        content = driver.find_element('css selector','#a-left-scroll-in > div.article-text > div > div.text').text\n",
    "\n",
    "    if '15' == content_selector[-6]:\n",
    "        content = driver.find_element('css selector','body > div.wrap > div.container.end.end-uni > div.end-body > div > div.col-main.read').text\n",
    "\n",
    "    else:\n",
    "        print('xxxxxxxxxxxxxxxxxxxxxxxxxxxxxxxxx')\n",
    "    '''\n",
    "    # 꺼주고\n",
    "    driver.quit()\n",
    "\n",
    "    print(date_list)\n",
    "    print(content_list)\n",
    "    print(press_list)\n"
   ]
  },
  {
   "cell_type": "code",
   "execution_count": 3,
   "id": "20a33f87",
   "metadata": {
    "ExecuteTime": {
     "end_time": "2022-09-21T17:03:09.680854Z",
     "start_time": "2022-09-21T17:03:09.656917Z"
    }
   },
   "outputs": [
    {
     "data": {
      "text/plain": [
       "['https://www.khan.co.kr/economy/auto/article/202208300959001',\n",
       " 'https://www.khan.co.kr/economy/market-trend/article/202202081333001',\n",
       " 'https://www.khan.co.kr/economy/industry-trade/article/202206211038001',\n",
       " 'https://www.khan.co.kr/economy/industry-trade/article/202206011445001',\n",
       " 'https://www.khan.co.kr/national/health-welfare/article/202209141454021',\n",
       " 'https://www.khan.co.kr/economy/industry-trade/article/202208311437001',\n",
       " 'https://www.khan.co.kr/economy/industry-trade/article/202206091604001',\n",
       " 'https://www.khan.co.kr/economy/business/article/202204190851001',\n",
       " 'https://www.khan.co.kr/it/it-general/article/202204132152015',\n",
       " 'https://www.khan.co.kr/economy/industry-trade/article/202202221325001',\n",
       " 'https://news.kmib.co.kr/article/view.asp?arcid=0017403166&code=61141111&cp=nv',\n",
       " 'https://news.kmib.co.kr/article/view.asp?arcid=0924260644&code=11151400&cp=nv',\n",
       " 'http://news.kmib.co.kr/article/view.asp?arcid=0924230673&code=11151400&cp=nv',\n",
       " 'http://news.kmib.co.kr/article/view.asp?arcid=0924235987&code=11151400&cp=nv',\n",
       " 'http://news.kmib.co.kr/article/view.asp?arcid=0016870052&code=61141111&cp=nv',\n",
       " 'http://news.kmib.co.kr/article/view.asp?arcid=0924224091&code=11151400&cp=nv',\n",
       " 'http://news.kmib.co.kr/article/view.asp?arcid=0924222162&code=11151400&cp=nv',\n",
       " 'http://news.kmib.co.kr/article/view.asp?arcid=0924222810&code=11151400&cp=nv',\n",
       " 'http://news.kmib.co.kr/article/view.asp?arcid=0924224836&code=11151400&cp=nv',\n",
       " 'http://news.kmib.co.kr/article/view.asp?arcid=0924221730&code=11151400&cp=nv']"
      ]
     },
     "execution_count": 3,
     "metadata": {},
     "output_type": "execute_result"
    }
   ],
   "source": [
    "# 2209222 문제점 : link_list가 업데이트 되는데 첫번째 index만 받아오니 오류가 나고 있는 상황\n",
    "link_list"
   ]
  },
  {
   "cell_type": "code",
   "execution_count": null,
   "id": "0fb617b9",
   "metadata": {
    "ExecuteTime": {
     "end_time": "2022-09-21T14:20:52.072423Z",
     "start_time": "2022-09-21T14:20:52.044948Z"
    }
   },
   "outputs": [],
   "source": [
    "df = pd.DataFrame(list(zip(press_list, date_list, title_list, content_list)), columns = ['press', 'date', 'title', 'content'])\n",
    "\n",
    "df"
   ]
  },
  {
   "cell_type": "code",
   "execution_count": null,
   "id": "145ab451",
   "metadata": {
    "ExecuteTime": {
     "end_time": "2022-09-21T13:56:50.113795Z",
     "start_time": "2022-09-21T13:56:50.108318Z"
    }
   },
   "outputs": [],
   "source": [
    "content_selector"
   ]
  },
  {
   "cell_type": "code",
   "execution_count": null,
   "id": "058c86fc",
   "metadata": {
    "ExecuteTime": {
     "end_time": "2022-09-20T14:03:57.796222Z",
     "start_time": "2022-09-20T14:03:57.512722Z"
    }
   },
   "outputs": [],
   "source": [
    "# 다음 페이지 클릭\n",
    "driver.find_element(\"css selector\", 'a.btn_next').click()"
   ]
  },
  {
   "cell_type": "code",
   "execution_count": null,
   "id": "69676876",
   "metadata": {
    "ExecuteTime": {
     "end_time": "2022-09-20T13:50:55.226721Z",
     "start_time": "2022-09-20T13:50:55.213728Z"
    }
   },
   "outputs": [],
   "source": [
    "'''\n",
    "# news list\n",
    "news_list = []\n",
    "\n",
    "newses = driver.find_elements('css selector', 'a.info.press')\n",
    "\n",
    "#sp_nws1 > div > div > div.news_info > div.info_group\n",
    "#sp_nws20 > div.news_wrap.api_ani_send > div > div.news_info > div.info_group > span:nth-child(3)\n",
    "temp_list = []\n",
    "for news in newses:\n",
    "    temp_list.append(news.text)\n",
    "    temp_list = [x for x in temp_list ]\n",
    "news_list = news_list + temp_list \n",
    "news_list\n",
    "'''"
   ]
  },
  {
   "cell_type": "code",
   "execution_count": null,
   "id": "978646af",
   "metadata": {
    "ExecuteTime": {
     "end_time": "2022-09-20T14:16:41.022220Z",
     "start_time": "2022-09-20T14:16:40.871722Z"
    }
   },
   "outputs": [],
   "source": [
    "# date list\n",
    "date_list = []\n",
    "\n",
    "dates = driver.find_elements('css selector', 'span.info')\n",
    "# dates = driver.find_elements('css selector', 'sp_nws1 > div > div > div.news_info > div.info_group > span:nth-child(2)')\n",
    "# dates = driver.find_elements('css selector', 'sp_nws1 > div > div > div.news_info > div.info_group > span:nth-child(3)')\n",
    "# sp_nws1 > div > div > div.news_info > div.info_group > span:nth-child(2)\n",
    "# sp_nws1 > div > div > div.news_info > div.info_group > span:nth-child(3)\n",
    "temp_list = []\n",
    "for date in dates:\n",
    "    temp_list.append(date.text)\n",
    "    temp_list = [x for x in temp_list ]\n",
    "date_list = date_list + temp_list \n",
    "date_list"
   ]
  },
  {
   "cell_type": "code",
   "execution_count": null,
   "id": "cb3accd3",
   "metadata": {
    "ExecuteTime": {
     "end_time": "2022-09-20T14:16:42.775722Z",
     "start_time": "2022-09-20T14:16:42.640221Z"
    }
   },
   "outputs": [],
   "source": [
    "# title list\n",
    "title_list = []\n",
    "\n",
    "titles = driver.find_elements('css selector', 'a.news_tit')\n",
    "temp_list = []\n",
    "for title in titles:\n",
    "    temp_list.append(title.text)\n",
    "    temp_list = [x for x in temp_list]\n",
    "title_list = title_list + temp_list\n",
    "title_list\n"
   ]
  },
  {
   "cell_type": "code",
   "execution_count": null,
   "id": "2eaba607",
   "metadata": {
    "ExecuteTime": {
     "end_time": "2022-09-20T14:16:44.230721Z",
     "start_time": "2022-09-20T14:16:44.111722Z"
    }
   },
   "outputs": [],
   "source": [
    "# link list\n",
    "\n",
    "link_list = []\n",
    "\n",
    "temp_list = []\n",
    "for i in titles:\n",
    "    href = i.get_attribute('href')\n",
    "    link_list.append(href)\n",
    "    temp_list = [x for x in temp_list]\n",
    "    \n",
    "link_list"
   ]
  },
  {
   "cell_type": "code",
   "execution_count": null,
   "id": "99ed3e53",
   "metadata": {
    "ExecuteTime": {
     "end_time": "2022-09-20T13:50:55.605723Z",
     "start_time": "2022-09-20T13:50:55.600722Z"
    }
   },
   "outputs": [],
   "source": [
    "link_list[0]"
   ]
  },
  {
   "cell_type": "code",
   "execution_count": null,
   "id": "1c2e66be",
   "metadata": {
    "ExecuteTime": {
     "end_time": "2022-09-20T13:50:55.613722Z",
     "start_time": "2022-09-20T13:50:55.608722Z"
    }
   },
   "outputs": [],
   "source": [
    "# body_wrap > div.content\n",
    "# article_main\n",
    "# 언론사 별로 다른 기사 내용은 어떻게 짜야 하는가.."
   ]
  },
  {
   "cell_type": "code",
   "execution_count": null,
   "id": "cb646b4c",
   "metadata": {
    "ExecuteTime": {
     "end_time": "2022-09-20T13:50:55.623725Z",
     "start_time": "2022-09-20T13:50:55.617223Z"
    },
    "scrolled": false
   },
   "outputs": [],
   "source": [
    "# driver.get(link_list[0])"
   ]
  },
  {
   "cell_type": "code",
   "execution_count": null,
   "id": "f3bf9c0e",
   "metadata": {
    "ExecuteTime": {
     "end_time": "2022-09-20T13:50:55.634221Z",
     "start_time": "2022-09-20T13:50:55.628226Z"
    }
   },
   "outputs": [],
   "source": [
    "# for _ in link_list:\n",
    "#     print(_)"
   ]
  },
  {
   "cell_type": "code",
   "execution_count": null,
   "id": "376b3951",
   "metadata": {},
   "outputs": [],
   "source": [
    "# 일간지 본문 selector\n",
    "\n",
    "if \n",
    "\n",
    "#articleBody \n",
    "#articleBody\n",
    "#contents > p\n",
    "#article_txt\n",
    "#article-view-content-div\n",
    "#NewsAdContent\n",
    "#atic_txt1\n",
    "#contMain2\n",
    "#font\n",
    "#article-view-content-div\n",
    "#fusion-app > div.article.\\| > div:nth-child(2) > div > section > article > section\n",
    "#article_body\n",
    "#wrapper > div > div.container_wrap.article_cont_wrap > div.article_area > div.left_wrap > div\n",
    "#a-left-scroll-in > div.article-text > div > div.text\n",
    "## body > div.wrap > div.container.end.end-uni > div.end-body > div > div.col-main.read"
   ]
  },
  {
   "cell_type": "code",
   "execution_count": null,
   "id": "73580d39",
   "metadata": {
    "ExecuteTime": {
     "end_time": "2022-09-21T04:08:54.810222Z",
     "start_time": "2022-09-21T04:08:54.537277Z"
    },
    "scrolled": false
   },
   "outputs": [],
   "source": [
    "\n",
    "content_list = []\n",
    "# temp_list = []\n",
    "\n",
    "# for i in link_list:\n",
    "driver.get(link_list[1])\n",
    "time.sleep(0.01)\n",
    "content = driver.find_element('css selector','#article-view-content-div').text # 0, 2\n",
    "content = driver.find_element('css selector','#articleBody').text # 1, 14\n",
    "content = driver.find_element('css selector','#content > div.articleView > div.view > div.viewer > article').text # 3\n",
    "content = driver.find_element('css selector','#article').text # 4\n",
    "content = driver.find_element('css selector','#content_area').text # 5\n",
    "content = driver.find_element('css selector','#container > div.content > div.cont_main > div.cont_article').text # 6\n",
    "content = driver.find_element('css selector','#body_wrap > div.content').text # 7\n",
    "content = driver.find_element('css selector','#articleWrap > div.content01.scroll-article-zone01 > div > div > article').text # 8\n",
    "content = driver.find_element('css selector','#article_main').text # 9\n",
    "content = driver.find_element('css selector','#article_content').text # 10\n",
    "content = driver.find_element('css selector','#user-container > div.float-center.max-width-1080 > div.user-content > section > div').text # 11\n",
    "\n",
    "#wrapper > div.theme-white > section > section.news-article-wrap > div.news-article-wrapper > div.news-content > div  # 12\n",
    "#sub_con > div.contents_con.cf > div.left_con.layout_left_con > div > div > div.news_view_div > div.text_article_con > span > div  # 13\n",
    "#content  # 15\n",
    "#snsAnchor > div  # 16\n",
    "#rn_wrap > div > article > div > section:nth-child(5)  # 17\n",
    "#article-view > div.wrapper > section  # 18\n",
    "#v-left-scroll-in > div.article_con > div.con_left > div.article_view  # 19\n",
    "\n",
    "#articleBody\n",
    "#article_body\n",
    "#article_body\n",
    "#articleBody\n",
    "\n",
    "content_list.append(content)\n",
    "#     content_list = content_list + temp_list\n",
    "\n",
    "content_list\n",
    "    "
   ]
  },
  {
   "cell_type": "code",
   "execution_count": null,
   "id": "29c75234",
   "metadata": {
    "ExecuteTime": {
     "end_time": "2022-09-20T13:47:21.302722Z",
     "start_time": "2022-09-20T13:47:21.297722Z"
    }
   },
   "outputs": [],
   "source": [
    "content_list"
   ]
  },
  {
   "cell_type": "code",
   "execution_count": null,
   "id": "cf3b40f4",
   "metadata": {
    "ExecuteTime": {
     "end_time": "2022-09-20T10:29:03.673436Z",
     "start_time": "2022-09-20T10:29:01.241950Z"
    }
   },
   "outputs": [],
   "source": [
    "print(content_list.text)"
   ]
  },
  {
   "cell_type": "code",
   "execution_count": null,
   "id": "a62a6a1e",
   "metadata": {
    "ExecuteTime": {
     "end_time": "2022-09-19T17:36:57.874059Z",
     "start_time": "2022-09-19T17:36:57.836159Z"
    }
   },
   "outputs": [],
   "source": [
    "for _ in content_list:\n",
    "    print(_.text)"
   ]
  },
  {
   "cell_type": "code",
   "execution_count": null,
   "id": "deaa2577",
   "metadata": {
    "ExecuteTime": {
     "end_time": "2022-09-19T11:18:08.648804Z",
     "start_time": "2022-09-19T11:18:08.627800Z"
    }
   },
   "outputs": [],
   "source": [
    "'''\n",
    "# content\n",
    "content_list = []\n",
    "\n",
    "contents = driver.find_elements(\"css selector\", \"sp_nws1 > div > div > div.news_dsc > div > a\")\n",
    "temp_list = []\n",
    "for content in contents:\n",
    "    temp_list.append(context.text)\n",
    "    temp_list = [x for x in temp_list]\n",
    "content_list = content_list + temp_list\n",
    "content_list\n",
    "'''"
   ]
  },
  {
   "cell_type": "code",
   "execution_count": null,
   "id": "e70d9875",
   "metadata": {
    "ExecuteTime": {
     "end_time": "2022-09-21T15:43:57.716614Z",
     "start_time": "2022-09-21T15:43:57.716614Z"
    }
   },
   "outputs": [],
   "source": [
    "# 웹 종료해주기!\n",
    "\n",
    "driver.quit()"
   ]
  },
  {
   "cell_type": "markdown",
   "id": "3780f714",
   "metadata": {},
   "source": [
    "# for문으로 크롤링 "
   ]
  },
  {
   "cell_type": "code",
   "execution_count": null,
   "id": "c838b67f",
   "metadata": {
    "ExecuteTime": {
     "end_time": "2022-07-27T02:48:09.155305Z",
     "start_time": "2022-07-27T02:47:59.903613Z"
    }
   },
   "outputs": [],
   "source": [
    "# 검색어 입력\n",
    "search = '삼성전자'\n",
    "\n",
    "# 크롬 옵션\n",
    "options = webdriver.ChromeOptions()\n",
    "\n",
    "# 크롬 윈도우 사이즈 조절\n",
    "options.add_argument(\"--window-size=1000,1200\") # window-size -> 기본 : 1920,1080\n",
    "\n",
    "import chromedriver_autoinstaller\n",
    "\n",
    "chrome_path = chromedriver_autoinstaller.install()\n",
    "driver = webdriver.Chrome(chrome_path, options=options)\n",
    "time.sleep(0.01)\n",
    "driver.get(\"https://www.naver.com\") # -> 네이버 크롬 창이 뜬다.\n",
    "\n",
    "# 네이버 검색어 입력 후 검색\n",
    "element = driver.find_element(\"name\", \"query\") \n",
    "element.clear()  # 혹시 검색창에 존재하는 텍스트 제거\n",
    "\n",
    "element.send_keys(search)  # 검색창에 검색어 전달\n",
    "element.submit()  # 검색 클릭\n",
    "time.sleep(0.01)"
   ]
  },
  {
   "cell_type": "code",
   "execution_count": null,
   "id": "746a5ad1",
   "metadata": {
    "ExecuteTime": {
     "end_time": "2022-07-27T02:48:36.438495Z",
     "start_time": "2022-07-27T02:48:35.284961Z"
    }
   },
   "outputs": [],
   "source": [
    "# 뉴스 클릭\n",
    "driver.find_element(\"link text\", \"뉴스\").click() \n",
    "time.sleep(0.01)"
   ]
  },
  {
   "cell_type": "code",
   "execution_count": null,
   "id": "62e6071d",
   "metadata": {
    "ExecuteTime": {
     "end_time": "2022-07-27T02:48:37.608396Z",
     "start_time": "2022-07-27T02:48:36.440169Z"
    }
   },
   "outputs": [],
   "source": [
    "# '오래된 순' 클릭\n",
    "driver.find_element(\"link text\", \"오래된순\").click()  \n",
    "time.sleep(0.01)"
   ]
  },
  {
   "cell_type": "code",
   "execution_count": null,
   "id": "248a9a92",
   "metadata": {
    "ExecuteTime": {
     "start_time": "2022-07-27T05:58:39.905Z"
    },
    "scrolled": true
   },
   "outputs": [],
   "source": [
    "# 뉴스 데이터 수집\n",
    "# news_list = []\n",
    "# date_list = []\n",
    "# title_list = []\n",
    "\n",
    "for i in range(200):    \n",
    "\n",
    "    # 언론사\n",
    "    newses = driver.find_elements('css selector', 'a.info.press')\n",
    "    temp_list = []\n",
    "    for news in newses:\n",
    "        temp_list.append(news.text)\n",
    "        temp_list = [x for x in temp_list ]\n",
    "    news_list = news_list + temp_list \n",
    "    \n",
    "    # 날짜\n",
    "    dates = driver.find_elements('css selector', 'span.info')\n",
    "    temp_list = []\n",
    "    for date in dates:\n",
    "        temp_list.append(date.text)\n",
    "        temp_list = [x for x in temp_list ]\n",
    "    date_list = date_list + temp_list \n",
    "    \n",
    "    # 제목\n",
    "    titles = driver.find_elements('css selector', 'a.news_tit')\n",
    "    temp_list = []\n",
    "    for title in titles:\n",
    "        temp_list.append(title.text)\n",
    "        temp_list = [x for x in temp_list ]\n",
    "    title_list = title_list + temp_list \n",
    "    \n",
    "    # 필모 다음페이지 클릭\n",
    "    driver.find_element('css selector', 'a.btn_next').click()\n",
    "    time.sleep(0.001)\n",
    "\n",
    "print(len(title_list))\n",
    "print(news_list)\n",
    "print(date_list)\n",
    "print(title_list)"
   ]
  },
  {
   "cell_type": "code",
   "execution_count": null,
   "id": "15c35e07",
   "metadata": {
    "ExecuteTime": {
     "end_time": "2022-07-27T05:53:49.978763Z",
     "start_time": "2022-07-27T05:53:49.971582Z"
    }
   },
   "outputs": [],
   "source": [
    "len(date_list)"
   ]
  },
  {
   "cell_type": "code",
   "execution_count": null,
   "id": "f5a1769f",
   "metadata": {
    "ExecuteTime": {
     "end_time": "2022-09-19T11:26:45.176550Z",
     "start_time": "2022-09-19T11:26:45.170551Z"
    }
   },
   "outputs": [],
   "source": [
    "date_list"
   ]
  },
  {
   "cell_type": "code",
   "execution_count": null,
   "id": "41363e7a",
   "metadata": {
    "ExecuteTime": {
     "end_time": "2022-09-19T11:27:34.014344Z",
     "start_time": "2022-09-19T11:27:33.987844Z"
    }
   },
   "outputs": [],
   "source": [
    "# df로 만들기\n",
    "\n",
    "df = pd.DataFrame(list(zip(date_list, link_list, title_list)), columns = ['date','link', 'title'])\n",
    "\n",
    "df\n",
    "# df.to_csv('2004.csv')"
   ]
  },
  {
   "cell_type": "code",
   "execution_count": null,
   "id": "2625a020",
   "metadata": {
    "ExecuteTime": {
     "end_time": "2022-09-19T11:28:57.826351Z",
     "start_time": "2022-09-19T11:28:57.821350Z"
    }
   },
   "outputs": [],
   "source": [
    "df.link[1]"
   ]
  },
  {
   "cell_type": "code",
   "execution_count": null,
   "id": "5e321342",
   "metadata": {
    "ExecuteTime": {
     "end_time": "2022-07-27T03:06:07.676602Z",
     "start_time": "2022-07-27T03:06:07.660910Z"
    },
    "scrolled": false
   },
   "outputs": [],
   "source": [
    "df[-150:-100]"
   ]
  },
  {
   "cell_type": "code",
   "execution_count": null,
   "id": "6c6b2837",
   "metadata": {},
   "outputs": [],
   "source": []
  }
 ],
 "metadata": {
  "kernelspec": {
   "display_name": "Python 3 (ipykernel)",
   "language": "python",
   "name": "python3"
  },
  "language_info": {
   "codemirror_mode": {
    "name": "ipython",
    "version": 3
   },
   "file_extension": ".py",
   "mimetype": "text/x-python",
   "name": "python",
   "nbconvert_exporter": "python",
   "pygments_lexer": "ipython3",
   "version": "3.8.13"
  },
  "toc": {
   "base_numbering": 1,
   "nav_menu": {},
   "number_sections": false,
   "sideBar": true,
   "skip_h1_title": false,
   "title_cell": "Table of Contents",
   "title_sidebar": "Contents",
   "toc_cell": false,
   "toc_position": {
    "height": "895px",
    "left": "69px",
    "top": "111.141px",
    "width": "165px"
   },
   "toc_section_display": true,
   "toc_window_display": false
  }
 },
 "nbformat": 4,
 "nbformat_minor": 5
}
