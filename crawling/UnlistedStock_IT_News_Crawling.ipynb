{
 "cells": [
  {
   "cell_type": "markdown",
   "id": "ad057284",
   "metadata": {},
   "source": [
    "# 크롤링 테스트"
   ]
  },
  {
   "cell_type": "code",
   "execution_count": 1,
   "id": "a75c3e83",
   "metadata": {
    "ExecuteTime": {
     "end_time": "2022-09-19T10:27:00.230722Z",
     "start_time": "2022-09-19T10:26:59.175711Z"
    }
   },
   "outputs": [],
   "source": [
    "# 라이브러리 import\n",
    "import os\n",
    "import pandas as pd\n",
    "import numpy as np\n",
    "import math \n",
    "\n",
    "# 셀레늄\n",
    "from selenium.webdriver.common.alert import Alert\n",
    "from selenium import webdriver  # 라이브러리(모듈) 가져오라\n",
    "# pip install chromedriver_autoinstaller\n",
    "from selenium.webdriver.common.keys import Keys\n",
    "from selenium.webdriver import ActionChains as AC\n",
    "\n",
    "# tqdm : for문 진행상황 체크\n",
    "from tqdm import tqdm, tqdm_notebook\n",
    "from tqdm.notebook import tqdm\n",
    "\n",
    "# 정규표현식(regular expression) : 문자(알파벳,한글), 숫자, 특수기호 정제 및 추출\n",
    "import re\n",
    "from time import sleep\n",
    "import time\n",
    "\n",
    "# 워닝 무시\n",
    "import warnings\n",
    "warnings.filterwarnings('ignore')"
   ]
  },
  {
   "cell_type": "code",
   "execution_count": 2,
   "id": "264525a8",
   "metadata": {
    "ExecuteTime": {
     "end_time": "2022-09-19T10:27:08.507711Z",
     "start_time": "2022-09-19T10:27:05.122713Z"
    }
   },
   "outputs": [],
   "source": [
    "# IT : LGCNS(엘지씨엔에스), 아데나소프트웨어, 이브이알스튜디오(메타버스,), 씨유박스(얼굴인식, CUBOX)\n",
    "# 검색어 입력\n",
    "search = 'LGCNS'\n",
    "\n",
    "# 크롬 옵션\n",
    "options = webdriver.ChromeOptions()\n",
    "\n",
    "# 크롬 윈도우 사이즈 조절\n",
    "options.add_argument(\"--window-size=800,1200\") # window-size -> 기본 : 1920,1080\n",
    "\n",
    "import chromedriver_autoinstaller\n",
    "\n",
    "chrome_path = chromedriver_autoinstaller.install()\n",
    "driver = webdriver.Chrome(chrome_path, options=options)\n",
    "time.sleep(0.1)\n",
    "driver.get(\"https://www.naver.com\")\n",
    "# -> 네이버 크롬 창이 뜬다."
   ]
  },
  {
   "cell_type": "code",
   "execution_count": 54,
   "id": "22d3695d",
   "metadata": {
    "ExecuteTime": {
     "end_time": "2022-09-19T10:57:43.570430Z",
     "start_time": "2022-09-19T10:57:42.019260Z"
    }
   },
   "outputs": [],
   "source": [
    "# 네이버 검색어 입력 후 검색\n",
    "element = driver.find_element(\"name\", \"query\") \n",
    "element.clear()  # 혹시 검색창에 존재하는 텍스트 제거\n",
    "\n",
    "element.send_keys(search)  # 검색창에 검색어 전달\n",
    "element.submit()  # 검색 클릭\n",
    "time.sleep(1)"
   ]
  },
  {
   "cell_type": "code",
   "execution_count": 55,
   "id": "ac752f8e",
   "metadata": {
    "ExecuteTime": {
     "end_time": "2022-09-19T10:57:48.404980Z",
     "start_time": "2022-09-19T10:57:47.003029Z"
    }
   },
   "outputs": [],
   "source": [
    "# 뉴스 클릭\n",
    "driver.find_element(\"link text\", \"뉴스\").click() \n",
    "time.sleep(1)"
   ]
  },
  {
   "cell_type": "code",
   "execution_count": 56,
   "id": "4f8e1a47",
   "metadata": {
    "ExecuteTime": {
     "end_time": "2022-09-19T10:57:50.989486Z",
     "start_time": "2022-09-19T10:57:50.906512Z"
    }
   },
   "outputs": [
    {
     "ename": "ElementNotInteractableException",
     "evalue": "Message: element not interactable\n  (Session info: chrome=105.0.5195.125)\nStacktrace:\nBacktrace:\n\tOrdinal0 [0x00B6C0A3+2212003]\n\tOrdinal0 [0x00B02CC1+1780929]\n\tOrdinal0 [0x00A14520+804128]\n\tOrdinal0 [0x00A44406+1000454]\n\tOrdinal0 [0x00A39FB6+958390]\n\tOrdinal0 [0x00A5EC1C+1109020]\n\tOrdinal0 [0x00A398F4+956660]\n\tOrdinal0 [0x00A5EE34+1109556]\n\tOrdinal0 [0x00A6F5B2+1177010]\n\tOrdinal0 [0x00A5EA36+1108534]\n\tOrdinal0 [0x00A383C9+951241]\n\tOrdinal0 [0x00A39396+955286]\n\tGetHandleVerifier [0x00E19CE2+2746722]\n\tGetHandleVerifier [0x00E0A234+2682548]\n\tGetHandleVerifier [0x00BFB34A+524234]\n\tGetHandleVerifier [0x00BF9B60+518112]\n\tOrdinal0 [0x00B09FBC+1810364]\n\tOrdinal0 [0x00B0EA28+1829416]\n\tOrdinal0 [0x00B0EB15+1829653]\n\tOrdinal0 [0x00B18744+1869636]\n\tBaseThreadInitThunk [0x75D4FA29+25]\n\tRtlGetAppContainerNamedObjectPath [0x778A7B5E+286]\n\tRtlGetAppContainerNamedObjectPath [0x778A7B2E+238]\n",
     "output_type": "error",
     "traceback": [
      "\u001b[1;31m---------------------------------------------------------------------------\u001b[0m",
      "\u001b[1;31mElementNotInteractableException\u001b[0m           Traceback (most recent call last)",
      "Input \u001b[1;32mIn [56]\u001b[0m, in \u001b[0;36m<cell line: 2>\u001b[1;34m()\u001b[0m\n\u001b[0;32m      1\u001b[0m \u001b[38;5;66;03m# 옵션 클릭 후 '1년' 클릭\u001b[39;00m\n\u001b[1;32m----> 2\u001b[0m \u001b[43mdriver\u001b[49m\u001b[38;5;241;43m.\u001b[39;49m\u001b[43mfind_element\u001b[49m\u001b[43m(\u001b[49m\u001b[38;5;124;43m\"\u001b[39;49m\u001b[38;5;124;43mcss selector\u001b[39;49m\u001b[38;5;124;43m\"\u001b[39;49m\u001b[43m,\u001b[49m\u001b[43m \u001b[49m\u001b[38;5;124;43m\"\u001b[39;49m\u001b[38;5;124;43m#snb > div.api_group_option_filter._search_option_simple_wrap > div > div.option_filter > a\u001b[39;49m\u001b[38;5;124;43m\"\u001b[39;49m\u001b[43m)\u001b[49m\u001b[38;5;241;43m.\u001b[39;49m\u001b[43mclick\u001b[49m\u001b[43m(\u001b[49m\u001b[43m)\u001b[49m  \n\u001b[0;32m      3\u001b[0m driver\u001b[38;5;241m.\u001b[39mfind_element(\u001b[38;5;124m\"\u001b[39m\u001b[38;5;124mcss selector\u001b[39m\u001b[38;5;124m\"\u001b[39m, \u001b[38;5;124m\"\u001b[39m\u001b[38;5;124m#snb > div.api_group_option_sort._search_option_detail_wrap > ul > li.bx.term > div > div.option > a:nth-child(8)\u001b[39m\u001b[38;5;124m\"\u001b[39m)\u001b[38;5;241m.\u001b[39mclick()  \n\u001b[0;32m      4\u001b[0m time\u001b[38;5;241m.\u001b[39msleep(\u001b[38;5;241m1\u001b[39m)\n",
      "File \u001b[1;32m~\\miniforge3\\envs\\lhs\\lib\\site-packages\\selenium\\webdriver\\remote\\webelement.py:88\u001b[0m, in \u001b[0;36mWebElement.click\u001b[1;34m(self)\u001b[0m\n\u001b[0;32m     86\u001b[0m \u001b[38;5;28;01mdef\u001b[39;00m \u001b[38;5;21mclick\u001b[39m(\u001b[38;5;28mself\u001b[39m) \u001b[38;5;241m-\u001b[39m\u001b[38;5;241m>\u001b[39m \u001b[38;5;28;01mNone\u001b[39;00m:\n\u001b[0;32m     87\u001b[0m     \u001b[38;5;124;03m\"\"\"Clicks the element.\"\"\"\u001b[39;00m\n\u001b[1;32m---> 88\u001b[0m     \u001b[38;5;28;43mself\u001b[39;49m\u001b[38;5;241;43m.\u001b[39;49m\u001b[43m_execute\u001b[49m\u001b[43m(\u001b[49m\u001b[43mCommand\u001b[49m\u001b[38;5;241;43m.\u001b[39;49m\u001b[43mCLICK_ELEMENT\u001b[49m\u001b[43m)\u001b[49m\n",
      "File \u001b[1;32m~\\miniforge3\\envs\\lhs\\lib\\site-packages\\selenium\\webdriver\\remote\\webelement.py:396\u001b[0m, in \u001b[0;36mWebElement._execute\u001b[1;34m(self, command, params)\u001b[0m\n\u001b[0;32m    394\u001b[0m     params \u001b[38;5;241m=\u001b[39m {}\n\u001b[0;32m    395\u001b[0m params[\u001b[38;5;124m'\u001b[39m\u001b[38;5;124mid\u001b[39m\u001b[38;5;124m'\u001b[39m] \u001b[38;5;241m=\u001b[39m \u001b[38;5;28mself\u001b[39m\u001b[38;5;241m.\u001b[39m_id\n\u001b[1;32m--> 396\u001b[0m \u001b[38;5;28;01mreturn\u001b[39;00m \u001b[38;5;28;43mself\u001b[39;49m\u001b[38;5;241;43m.\u001b[39;49m\u001b[43m_parent\u001b[49m\u001b[38;5;241;43m.\u001b[39;49m\u001b[43mexecute\u001b[49m\u001b[43m(\u001b[49m\u001b[43mcommand\u001b[49m\u001b[43m,\u001b[49m\u001b[43m \u001b[49m\u001b[43mparams\u001b[49m\u001b[43m)\u001b[49m\n",
      "File \u001b[1;32m~\\miniforge3\\envs\\lhs\\lib\\site-packages\\selenium\\webdriver\\remote\\webdriver.py:435\u001b[0m, in \u001b[0;36mWebDriver.execute\u001b[1;34m(self, driver_command, params)\u001b[0m\n\u001b[0;32m    433\u001b[0m response \u001b[38;5;241m=\u001b[39m \u001b[38;5;28mself\u001b[39m\u001b[38;5;241m.\u001b[39mcommand_executor\u001b[38;5;241m.\u001b[39mexecute(driver_command, params)\n\u001b[0;32m    434\u001b[0m \u001b[38;5;28;01mif\u001b[39;00m response:\n\u001b[1;32m--> 435\u001b[0m     \u001b[38;5;28;43mself\u001b[39;49m\u001b[38;5;241;43m.\u001b[39;49m\u001b[43merror_handler\u001b[49m\u001b[38;5;241;43m.\u001b[39;49m\u001b[43mcheck_response\u001b[49m\u001b[43m(\u001b[49m\u001b[43mresponse\u001b[49m\u001b[43m)\u001b[49m\n\u001b[0;32m    436\u001b[0m     response[\u001b[38;5;124m'\u001b[39m\u001b[38;5;124mvalue\u001b[39m\u001b[38;5;124m'\u001b[39m] \u001b[38;5;241m=\u001b[39m \u001b[38;5;28mself\u001b[39m\u001b[38;5;241m.\u001b[39m_unwrap_value(\n\u001b[0;32m    437\u001b[0m         response\u001b[38;5;241m.\u001b[39mget(\u001b[38;5;124m'\u001b[39m\u001b[38;5;124mvalue\u001b[39m\u001b[38;5;124m'\u001b[39m, \u001b[38;5;28;01mNone\u001b[39;00m))\n\u001b[0;32m    438\u001b[0m     \u001b[38;5;28;01mreturn\u001b[39;00m response\n",
      "File \u001b[1;32m~\\miniforge3\\envs\\lhs\\lib\\site-packages\\selenium\\webdriver\\remote\\errorhandler.py:247\u001b[0m, in \u001b[0;36mErrorHandler.check_response\u001b[1;34m(self, response)\u001b[0m\n\u001b[0;32m    245\u001b[0m         alert_text \u001b[38;5;241m=\u001b[39m value[\u001b[38;5;124m'\u001b[39m\u001b[38;5;124malert\u001b[39m\u001b[38;5;124m'\u001b[39m]\u001b[38;5;241m.\u001b[39mget(\u001b[38;5;124m'\u001b[39m\u001b[38;5;124mtext\u001b[39m\u001b[38;5;124m'\u001b[39m)\n\u001b[0;32m    246\u001b[0m     \u001b[38;5;28;01mraise\u001b[39;00m exception_class(message, screen, stacktrace, alert_text)  \u001b[38;5;66;03m# type: ignore[call-arg]  # mypy is not smart enough here\u001b[39;00m\n\u001b[1;32m--> 247\u001b[0m \u001b[38;5;28;01mraise\u001b[39;00m exception_class(message, screen, stacktrace)\n",
      "\u001b[1;31mElementNotInteractableException\u001b[0m: Message: element not interactable\n  (Session info: chrome=105.0.5195.125)\nStacktrace:\nBacktrace:\n\tOrdinal0 [0x00B6C0A3+2212003]\n\tOrdinal0 [0x00B02CC1+1780929]\n\tOrdinal0 [0x00A14520+804128]\n\tOrdinal0 [0x00A44406+1000454]\n\tOrdinal0 [0x00A39FB6+958390]\n\tOrdinal0 [0x00A5EC1C+1109020]\n\tOrdinal0 [0x00A398F4+956660]\n\tOrdinal0 [0x00A5EE34+1109556]\n\tOrdinal0 [0x00A6F5B2+1177010]\n\tOrdinal0 [0x00A5EA36+1108534]\n\tOrdinal0 [0x00A383C9+951241]\n\tOrdinal0 [0x00A39396+955286]\n\tGetHandleVerifier [0x00E19CE2+2746722]\n\tGetHandleVerifier [0x00E0A234+2682548]\n\tGetHandleVerifier [0x00BFB34A+524234]\n\tGetHandleVerifier [0x00BF9B60+518112]\n\tOrdinal0 [0x00B09FBC+1810364]\n\tOrdinal0 [0x00B0EA28+1829416]\n\tOrdinal0 [0x00B0EB15+1829653]\n\tOrdinal0 [0x00B18744+1869636]\n\tBaseThreadInitThunk [0x75D4FA29+25]\n\tRtlGetAppContainerNamedObjectPath [0x778A7B5E+286]\n\tRtlGetAppContainerNamedObjectPath [0x778A7B2E+238]\n"
     ]
    }
   ],
   "source": [
    "# 옵션 클릭 후 '1년' 클릭\n",
    "driver.find_element(\"css selector\", \"#snb > div.api_group_option_filter._search_option_simple_wrap > div > div.option_filter > a\").click()  \n",
    "driver.find_element(\"css selector\", \"#snb > div.api_group_option_sort._search_option_detail_wrap > ul > li.bx.term > div > div.option > a:nth-child(8)\").click()  \n",
    "time.sleep(1)"
   ]
  },
  {
   "cell_type": "code",
   "execution_count": 51,
   "id": "69676876",
   "metadata": {
    "ExecuteTime": {
     "end_time": "2022-09-19T10:48:06.896645Z",
     "start_time": "2022-09-19T10:48:06.731167Z"
    }
   },
   "outputs": [
    {
     "data": {
      "text/plain": [
       "['전자신문',\n",
       " '민주신문',\n",
       " '뉴시스',\n",
       " '더팩트언론사 선정',\n",
       " '아시아경제',\n",
       " '약업신문',\n",
       " '블로터언론사 선정',\n",
       " '더벨',\n",
       " '연합뉴스',\n",
       " '파이낸셜뉴스']"
      ]
     },
     "execution_count": 51,
     "metadata": {},
     "output_type": "execute_result"
    }
   ],
   "source": [
    "'''\n",
    "# news list\n",
    "news_list = []\n",
    "\n",
    "newses = driver.find_elements('css selector', 'a.info.press')\n",
    "\n",
    "#sp_nws1 > div > div > div.news_info > div.info_group\n",
    "#sp_nws20 > div.news_wrap.api_ani_send > div > div.news_info > div.info_group > span:nth-child(3)\n",
    "temp_list = []\n",
    "for news in newses:\n",
    "    temp_list.append(news.text)\n",
    "    temp_list = [x for x in temp_list ]\n",
    "news_list = news_list + temp_list \n",
    "news_list\n",
    "'''"
   ]
  },
  {
   "cell_type": "code",
   "execution_count": 57,
   "id": "978646af",
   "metadata": {
    "ExecuteTime": {
     "end_time": "2022-09-19T10:57:55.524273Z",
     "start_time": "2022-09-19T10:57:55.362744Z"
    }
   },
   "outputs": [
    {
     "data": {
      "text/plain": [
       "['35면 TOP',\n",
       " '3시간 전',\n",
       " '8시간 전',\n",
       " '2022.09.08.',\n",
       " '6일 전',\n",
       " '2022.09.07.',\n",
       " '20시간 전',\n",
       " '2022.08.31.',\n",
       " '2022.09.08.',\n",
       " '2022.08.25.',\n",
       " '15면 1단',\n",
       " '2022.08.29.']"
      ]
     },
     "execution_count": 57,
     "metadata": {},
     "output_type": "execute_result"
    }
   ],
   "source": [
    "# date list\n",
    "date_list = []\n",
    "\n",
    "dates = driver.find_elements('css selector', 'span.info')\n",
    "# dates = driver.find_elements('css selector', 'sp_nws1 > div > div > div.news_info > div.info_group > span:nth-child(2)')\n",
    "# dates = driver.find_elements('css selector', 'sp_nws1 > div > div > div.news_info > div.info_group > span:nth-child(3)')\n",
    "# sp_nws1 > div > div > div.news_info > div.info_group > span:nth-child(2)\n",
    "# sp_nws1 > div > div > div.news_info > div.info_group > span:nth-child(3)\n",
    "temp_list = []\n",
    "for date in dates:\n",
    "    temp_list.append(date.text)\n",
    "    temp_list = [x for x in temp_list ]\n",
    "date_list = date_list + temp_list \n",
    "date_list"
   ]
  },
  {
   "cell_type": "code",
   "execution_count": 71,
   "id": "cb3accd3",
   "metadata": {
    "ExecuteTime": {
     "end_time": "2022-09-19T11:08:55.524838Z",
     "start_time": "2022-09-19T11:08:55.370839Z"
    }
   },
   "outputs": [
    {
     "data": {
      "text/plain": [
       "['[테크코리아 우리가 이끈다]LG CNS',\n",
       " \"LG CNS, 26일까지 '하반기 신입사원' 모집\",\n",
       " 'LG CNS 하반기 신입사원 공채',\n",
       " '취업문 열렸다…삼성·SK·현대차·LG 등 대기업 하반기 채용 돌입',\n",
       " \"'국방IT 사업 참여' LG CNS, KCTC 지체상금訴 일부 승소\",\n",
       " '‘당신의 영양제’, LG화학 출신 고재경 CTO 선임',\n",
       " '2분기 최대 실적 냈지만 현금 안 들어오는 LG CNS…왜?',\n",
       " '[더벨]LG CNS, 발빠른 클라우드 전환 이어 AM도 선두주자',\n",
       " \"경남교육청-LG CNS, 인공지능 영어 교육 서비스 '맞손'\",\n",
       " 'LG CNS 디지털전환 해결사 ‘CAO 조직’']"
      ]
     },
     "execution_count": 71,
     "metadata": {},
     "output_type": "execute_result"
    }
   ],
   "source": [
    "# title list\n",
    "title_list = []\n",
    "\n",
    "titles = driver.find_elements('css selector', 'a.news_tit')\n",
    "temp_list = []\n",
    "for title in titles:\n",
    "    temp_list.append(title.text)\n",
    "    temp_list = [x for x in temp_list]\n",
    "title_list = title_list + temp_list\n",
    "title_list\n"
   ]
  },
  {
   "cell_type": "code",
   "execution_count": 73,
   "id": "2eaba607",
   "metadata": {
    "ExecuteTime": {
     "end_time": "2022-09-19T11:10:56.022370Z",
     "start_time": "2022-09-19T11:10:55.882841Z"
    }
   },
   "outputs": [
    {
     "data": {
      "text/plain": [
       "['https://www.etnews.com/20220914000224',\n",
       " 'http://www.iminju.net/news/articleView.html?idxno=80663',\n",
       " 'http://www.newsis.com/view/?id=NISX20220908_0002007482&cID=10406&pID=13100',\n",
       " 'http://news.tf.co.kr/read/economy/1964668.htm',\n",
       " 'https://view.asiae.co.kr/article/2022090710312369241',\n",
       " 'http://www.yakup.com/news/index.html?mode=view&cat=12&nid=273417',\n",
       " 'http://www.bloter.net/newsView/blt202208310026',\n",
       " 'http://www.thebell.co.kr/front/free/contents/news/article_view.asp?key=202209052345021120102918',\n",
       " 'https://www.yna.co.kr/view/AKR20220825088600052?input=1195m',\n",
       " 'http://www.fnnews.com/news/202208291804426409']"
      ]
     },
     "execution_count": 73,
     "metadata": {},
     "output_type": "execute_result"
    }
   ],
   "source": [
    "# link list\n",
    "\n",
    "link_list = []\n",
    "\n",
    "temp_list = []\n",
    "for i in titles:\n",
    "    href = i.get_attribute('href')\n",
    "    link_list.append(href)\n",
    "    temp_list = [x for x in temp_list]\n",
    "    \n",
    "link_list"
   ]
  },
  {
   "cell_type": "code",
   "execution_count": null,
   "id": "1c2e66be",
   "metadata": {},
   "outputs": [],
   "source": [
    "# body_wrap > div.content\n",
    "# article_main\n",
    "# 언론사 별로 다른 기사 내용은 어떻게 짜야 하는가.."
   ]
  },
  {
   "cell_type": "code",
   "execution_count": 81,
   "id": "deaa2577",
   "metadata": {
    "ExecuteTime": {
     "end_time": "2022-09-19T11:18:08.648804Z",
     "start_time": "2022-09-19T11:18:08.627800Z"
    }
   },
   "outputs": [
    {
     "data": {
      "text/plain": [
       "[]"
      ]
     },
     "execution_count": 81,
     "metadata": {},
     "output_type": "execute_result"
    }
   ],
   "source": [
    "'''\n",
    "# content\n",
    "content_list = []\n",
    "\n",
    "contents = driver.find_elements(\"css selector\", \"sp_nws1 > div > div > div.news_dsc > div > a\")\n",
    "temp_list = []\n",
    "for content in contents:\n",
    "    temp_list.append(context.text)\n",
    "    temp_list = [x for x in temp_list]\n",
    "content_list = content_list + temp_list\n",
    "content_list\n",
    "'''"
   ]
  },
  {
   "cell_type": "markdown",
   "id": "3780f714",
   "metadata": {},
   "source": [
    "# for문으로 크롤링 "
   ]
  },
  {
   "cell_type": "code",
   "execution_count": 2,
   "id": "c838b67f",
   "metadata": {
    "ExecuteTime": {
     "end_time": "2022-07-27T02:48:09.155305Z",
     "start_time": "2022-07-27T02:47:59.903613Z"
    }
   },
   "outputs": [],
   "source": [
    "# 검색어 입력\n",
    "search = '삼성전자'\n",
    "\n",
    "# 크롬 옵션\n",
    "options = webdriver.ChromeOptions()\n",
    "\n",
    "# 크롬 윈도우 사이즈 조절\n",
    "options.add_argument(\"--window-size=1000,1200\") # window-size -> 기본 : 1920,1080\n",
    "\n",
    "import chromedriver_autoinstaller\n",
    "\n",
    "chrome_path = chromedriver_autoinstaller.install()\n",
    "driver = webdriver.Chrome(chrome_path, options=options)\n",
    "time.sleep(0.01)\n",
    "driver.get(\"https://www.naver.com\") # -> 네이버 크롬 창이 뜬다.\n",
    "\n",
    "# 네이버 검색어 입력 후 검색\n",
    "element = driver.find_element(\"name\", \"query\") \n",
    "element.clear()  # 혹시 검색창에 존재하는 텍스트 제거\n",
    "\n",
    "element.send_keys(search)  # 검색창에 검색어 전달\n",
    "element.submit()  # 검색 클릭\n",
    "time.sleep(0.01)"
   ]
  },
  {
   "cell_type": "code",
   "execution_count": 3,
   "id": "746a5ad1",
   "metadata": {
    "ExecuteTime": {
     "end_time": "2022-07-27T02:48:36.438495Z",
     "start_time": "2022-07-27T02:48:35.284961Z"
    }
   },
   "outputs": [],
   "source": [
    "# 뉴스 클릭\n",
    "driver.find_element(\"link text\", \"뉴스\").click() \n",
    "time.sleep(0.01)"
   ]
  },
  {
   "cell_type": "code",
   "execution_count": 4,
   "id": "62e6071d",
   "metadata": {
    "ExecuteTime": {
     "end_time": "2022-07-27T02:48:37.608396Z",
     "start_time": "2022-07-27T02:48:36.440169Z"
    }
   },
   "outputs": [],
   "source": [
    "# '오래된 순' 클릭\n",
    "driver.find_element(\"link text\", \"오래된순\").click()  \n",
    "time.sleep(0.01)"
   ]
  },
  {
   "cell_type": "code",
   "execution_count": null,
   "id": "248a9a92",
   "metadata": {
    "ExecuteTime": {
     "start_time": "2022-07-27T05:58:39.905Z"
    },
    "scrolled": true
   },
   "outputs": [],
   "source": [
    "# 뉴스 데이터 수집\n",
    "# news_list = []\n",
    "# date_list = []\n",
    "# title_list = []\n",
    "\n",
    "for i in range(200):    \n",
    "\n",
    "    # 언론사\n",
    "    newses = driver.find_elements('css selector', 'a.info.press')\n",
    "    temp_list = []\n",
    "    for news in newses:\n",
    "        temp_list.append(news.text)\n",
    "        temp_list = [x for x in temp_list ]\n",
    "    news_list = news_list + temp_list \n",
    "    \n",
    "    # 날짜\n",
    "    dates = driver.find_elements('css selector', 'span.info')\n",
    "    temp_list = []\n",
    "    for date in dates:\n",
    "        temp_list.append(date.text)\n",
    "        temp_list = [x for x in temp_list ]\n",
    "    date_list = date_list + temp_list \n",
    "    \n",
    "    # 제목\n",
    "    titles = driver.find_elements('css selector', 'a.news_tit')\n",
    "    temp_list = []\n",
    "    for title in titles:\n",
    "        temp_list.append(title.text)\n",
    "        temp_list = [x for x in temp_list ]\n",
    "    title_list = title_list + temp_list \n",
    "    \n",
    "    # 필모 다음페이지 클릭\n",
    "    driver.find_element('css selector', 'a.btn_next').click()\n",
    "    time.sleep(0.001)\n",
    "\n",
    "print(len(title_list))\n",
    "print(news_list)\n",
    "print(date_list)\n",
    "print(title_list)"
   ]
  },
  {
   "cell_type": "code",
   "execution_count": 36,
   "id": "15c35e07",
   "metadata": {
    "ExecuteTime": {
     "end_time": "2022-07-27T05:53:49.978763Z",
     "start_time": "2022-07-27T05:53:49.971582Z"
    }
   },
   "outputs": [
    {
     "data": {
      "text/plain": [
       "60000"
      ]
     },
     "execution_count": 36,
     "metadata": {},
     "output_type": "execute_result"
    }
   ],
   "source": [
    "len(date_list)"
   ]
  },
  {
   "cell_type": "code",
   "execution_count": 85,
   "id": "f5a1769f",
   "metadata": {
    "ExecuteTime": {
     "end_time": "2022-09-19T11:26:45.176550Z",
     "start_time": "2022-09-19T11:26:45.170551Z"
    }
   },
   "outputs": [
    {
     "data": {
      "text/plain": [
       "['35면 TOP',\n",
       " '3시간 전',\n",
       " '8시간 전',\n",
       " '2022.09.08.',\n",
       " '6일 전',\n",
       " '2022.09.07.',\n",
       " '20시간 전',\n",
       " '2022.08.31.',\n",
       " '2022.09.08.',\n",
       " '2022.08.25.',\n",
       " '15면 1단',\n",
       " '2022.08.29.']"
      ]
     },
     "execution_count": 85,
     "metadata": {},
     "output_type": "execute_result"
    }
   ],
   "source": [
    "date_list"
   ]
  },
  {
   "cell_type": "code",
   "execution_count": 86,
   "id": "41363e7a",
   "metadata": {
    "ExecuteTime": {
     "end_time": "2022-09-19T11:27:34.014344Z",
     "start_time": "2022-09-19T11:27:33.987844Z"
    }
   },
   "outputs": [
    {
     "data": {
      "text/html": [
       "<div>\n",
       "<style scoped>\n",
       "    .dataframe tbody tr th:only-of-type {\n",
       "        vertical-align: middle;\n",
       "    }\n",
       "\n",
       "    .dataframe tbody tr th {\n",
       "        vertical-align: top;\n",
       "    }\n",
       "\n",
       "    .dataframe thead th {\n",
       "        text-align: right;\n",
       "    }\n",
       "</style>\n",
       "<table border=\"1\" class=\"dataframe\">\n",
       "  <thead>\n",
       "    <tr style=\"text-align: right;\">\n",
       "      <th></th>\n",
       "      <th>date</th>\n",
       "      <th>link</th>\n",
       "      <th>title</th>\n",
       "    </tr>\n",
       "  </thead>\n",
       "  <tbody>\n",
       "    <tr>\n",
       "      <th>0</th>\n",
       "      <td>35면 TOP</td>\n",
       "      <td>https://www.etnews.com/20220914000224</td>\n",
       "      <td>[테크코리아 우리가 이끈다]LG CNS</td>\n",
       "    </tr>\n",
       "    <tr>\n",
       "      <th>1</th>\n",
       "      <td>3시간 전</td>\n",
       "      <td>http://www.iminju.net/news/articleView.html?id...</td>\n",
       "      <td>LG CNS, 26일까지 '하반기 신입사원' 모집</td>\n",
       "    </tr>\n",
       "    <tr>\n",
       "      <th>2</th>\n",
       "      <td>8시간 전</td>\n",
       "      <td>http://www.newsis.com/view/?id=NISX20220908_00...</td>\n",
       "      <td>LG CNS 하반기 신입사원 공채</td>\n",
       "    </tr>\n",
       "    <tr>\n",
       "      <th>3</th>\n",
       "      <td>2022.09.08.</td>\n",
       "      <td>http://news.tf.co.kr/read/economy/1964668.htm</td>\n",
       "      <td>취업문 열렸다…삼성·SK·현대차·LG 등 대기업 하반기 채용 돌입</td>\n",
       "    </tr>\n",
       "    <tr>\n",
       "      <th>4</th>\n",
       "      <td>6일 전</td>\n",
       "      <td>https://view.asiae.co.kr/article/2022090710312...</td>\n",
       "      <td>'국방IT 사업 참여' LG CNS, KCTC 지체상금訴 일부 승소</td>\n",
       "    </tr>\n",
       "    <tr>\n",
       "      <th>5</th>\n",
       "      <td>2022.09.07.</td>\n",
       "      <td>http://www.yakup.com/news/index.html?mode=view...</td>\n",
       "      <td>‘당신의 영양제’, LG화학 출신 고재경 CTO 선임</td>\n",
       "    </tr>\n",
       "    <tr>\n",
       "      <th>6</th>\n",
       "      <td>20시간 전</td>\n",
       "      <td>http://www.bloter.net/newsView/blt202208310026</td>\n",
       "      <td>2분기 최대 실적 냈지만 현금 안 들어오는 LG CNS…왜?</td>\n",
       "    </tr>\n",
       "    <tr>\n",
       "      <th>7</th>\n",
       "      <td>2022.08.31.</td>\n",
       "      <td>http://www.thebell.co.kr/front/free/contents/n...</td>\n",
       "      <td>[더벨]LG CNS, 발빠른 클라우드 전환 이어 AM도 선두주자</td>\n",
       "    </tr>\n",
       "    <tr>\n",
       "      <th>8</th>\n",
       "      <td>2022.09.08.</td>\n",
       "      <td>https://www.yna.co.kr/view/AKR2022082508860005...</td>\n",
       "      <td>경남교육청-LG CNS, 인공지능 영어 교육 서비스 '맞손'</td>\n",
       "    </tr>\n",
       "    <tr>\n",
       "      <th>9</th>\n",
       "      <td>2022.08.25.</td>\n",
       "      <td>http://www.fnnews.com/news/202208291804426409</td>\n",
       "      <td>LG CNS 디지털전환 해결사 ‘CAO 조직’</td>\n",
       "    </tr>\n",
       "  </tbody>\n",
       "</table>\n",
       "</div>"
      ],
      "text/plain": [
       "          date                                               link  \\\n",
       "0      35면 TOP              https://www.etnews.com/20220914000224   \n",
       "1        3시간 전  http://www.iminju.net/news/articleView.html?id...   \n",
       "2        8시간 전  http://www.newsis.com/view/?id=NISX20220908_00...   \n",
       "3  2022.09.08.      http://news.tf.co.kr/read/economy/1964668.htm   \n",
       "4         6일 전  https://view.asiae.co.kr/article/2022090710312...   \n",
       "5  2022.09.07.  http://www.yakup.com/news/index.html?mode=view...   \n",
       "6       20시간 전     http://www.bloter.net/newsView/blt202208310026   \n",
       "7  2022.08.31.  http://www.thebell.co.kr/front/free/contents/n...   \n",
       "8  2022.09.08.  https://www.yna.co.kr/view/AKR2022082508860005...   \n",
       "9  2022.08.25.      http://www.fnnews.com/news/202208291804426409   \n",
       "\n",
       "                                   title  \n",
       "0                  [테크코리아 우리가 이끈다]LG CNS  \n",
       "1            LG CNS, 26일까지 '하반기 신입사원' 모집  \n",
       "2                     LG CNS 하반기 신입사원 공채  \n",
       "3   취업문 열렸다…삼성·SK·현대차·LG 등 대기업 하반기 채용 돌입  \n",
       "4  '국방IT 사업 참여' LG CNS, KCTC 지체상금訴 일부 승소  \n",
       "5          ‘당신의 영양제’, LG화학 출신 고재경 CTO 선임  \n",
       "6      2분기 최대 실적 냈지만 현금 안 들어오는 LG CNS…왜?  \n",
       "7    [더벨]LG CNS, 발빠른 클라우드 전환 이어 AM도 선두주자  \n",
       "8      경남교육청-LG CNS, 인공지능 영어 교육 서비스 '맞손'  \n",
       "9              LG CNS 디지털전환 해결사 ‘CAO 조직’  "
      ]
     },
     "execution_count": 86,
     "metadata": {},
     "output_type": "execute_result"
    }
   ],
   "source": [
    "# df로 만들기\n",
    "\n",
    "df = pd.DataFrame(list(zip(date_list, link_list, title_list)), columns = ['date','link', 'title'])\n",
    "\n",
    "df\n",
    "# df.to_csv('2004.csv')"
   ]
  },
  {
   "cell_type": "code",
   "execution_count": 88,
   "id": "2625a020",
   "metadata": {
    "ExecuteTime": {
     "end_time": "2022-09-19T11:28:57.826351Z",
     "start_time": "2022-09-19T11:28:57.821350Z"
    }
   },
   "outputs": [
    {
     "data": {
      "text/plain": [
       "'http://www.iminju.net/news/articleView.html?idxno=80663'"
      ]
     },
     "execution_count": 88,
     "metadata": {},
     "output_type": "execute_result"
    }
   ],
   "source": [
    "df.link[1]"
   ]
  },
  {
   "cell_type": "code",
   "execution_count": 14,
   "id": "5e321342",
   "metadata": {
    "ExecuteTime": {
     "end_time": "2022-07-27T03:06:07.676602Z",
     "start_time": "2022-07-27T03:06:07.660910Z"
    },
    "scrolled": false
   },
   "outputs": [
    {
     "data": {
      "text/html": [
       "<div>\n",
       "<style scoped>\n",
       "    .dataframe tbody tr th:only-of-type {\n",
       "        vertical-align: middle;\n",
       "    }\n",
       "\n",
       "    .dataframe tbody tr th {\n",
       "        vertical-align: top;\n",
       "    }\n",
       "\n",
       "    .dataframe thead th {\n",
       "        text-align: right;\n",
       "    }\n",
       "</style>\n",
       "<table border=\"1\" class=\"dataframe\">\n",
       "  <thead>\n",
       "    <tr style=\"text-align: right;\">\n",
       "      <th></th>\n",
       "      <th>언론사</th>\n",
       "      <th>날짜</th>\n",
       "      <th>제목</th>\n",
       "    </tr>\n",
       "  </thead>\n",
       "  <tbody>\n",
       "    <tr>\n",
       "      <th>7850</th>\n",
       "      <td>연합뉴스</td>\n",
       "      <td>2004.02.27.</td>\n",
       "      <td>삼성전자 주총 시민단체 항의</td>\n",
       "    </tr>\n",
       "    <tr>\n",
       "      <th>7851</th>\n",
       "      <td>매경이코노미</td>\n",
       "      <td>2004.02.27.</td>\n",
       "      <td>[비즈니스] MP3 원조 엠피맨닷컴 인수전 치열</td>\n",
       "    </tr>\n",
       "    <tr>\n",
       "      <th>7852</th>\n",
       "      <td>매경이코노미</td>\n",
       "      <td>2004.02.27.</td>\n",
       "      <td>[Cover Story] 현대자동차 세계 빅5?</td>\n",
       "    </tr>\n",
       "    <tr>\n",
       "      <th>7853</th>\n",
       "      <td>매경이코노미</td>\n",
       "      <td>2004.02.27.</td>\n",
       "      <td>[Special Report] 사례연구 (5) 삼성그룹</td>\n",
       "    </tr>\n",
       "    <tr>\n",
       "      <th>7854</th>\n",
       "      <td>매경이코노미</td>\n",
       "      <td>2004.02.27.</td>\n",
       "      <td>[비즈니스] 그룹내 계열사끼리 경쟁</td>\n",
       "    </tr>\n",
       "    <tr>\n",
       "      <th>7855</th>\n",
       "      <td>매경이코노미</td>\n",
       "      <td>2004.02.27.</td>\n",
       "      <td>[Special Report] 사례연구 (1) 실패 피한 기업들</td>\n",
       "    </tr>\n",
       "    <tr>\n",
       "      <th>7856</th>\n",
       "      <td>머니투데이</td>\n",
       "      <td>2004.02.27.</td>\n",
       "      <td>[주총]참여연대 \"이건희회장 등 징계용의 있나?\"(9보)</td>\n",
       "    </tr>\n",
       "    <tr>\n",
       "      <th>7857</th>\n",
       "      <td>연합인포맥스</td>\n",
       "      <td>2004.02.27.</td>\n",
       "      <td>[거래소] 외국인 매도속 870선 저항 극복 부담..주도주 부재 장세</td>\n",
       "    </tr>\n",
       "    <tr>\n",
       "      <th>7858</th>\n",
       "      <td>연합뉴스</td>\n",
       "      <td>2004.02.27.</td>\n",
       "      <td>&lt;거래소&gt;주가 강보합..866.84(오전10시)</td>\n",
       "    </tr>\n",
       "    <tr>\n",
       "      <th>7859</th>\n",
       "      <td>연합뉴스</td>\n",
       "      <td>2004.02.27.</td>\n",
       "      <td>삼성전자 주총 시민단체 항의</td>\n",
       "    </tr>\n",
       "    <tr>\n",
       "      <th>7860</th>\n",
       "      <td>연합뉴스</td>\n",
       "      <td>2004.02.27.</td>\n",
       "      <td>삼성전자 주총 삼성전자 윤리강령</td>\n",
       "    </tr>\n",
       "    <tr>\n",
       "      <th>7861</th>\n",
       "      <td>머니투데이</td>\n",
       "      <td>2004.02.27.</td>\n",
       "      <td>[주총]삼성전자 \"지난해 1046억원 기부\"(10보)</td>\n",
       "    </tr>\n",
       "    <tr>\n",
       "      <th>7862</th>\n",
       "      <td>이데일리</td>\n",
       "      <td>2004.02.27.</td>\n",
       "      <td>삼성전자 \"작년 정치자금 2억지출\"(8보)</td>\n",
       "    </tr>\n",
       "    <tr>\n",
       "      <th>7863</th>\n",
       "      <td>머니투데이</td>\n",
       "      <td>2004.02.27.</td>\n",
       "      <td>[주총]참여연대 \"삼성카드 유상증자 문제제기\"(11보)</td>\n",
       "    </tr>\n",
       "    <tr>\n",
       "      <th>7864</th>\n",
       "      <td>아이뉴스24</td>\n",
       "      <td>2004.02.27.</td>\n",
       "      <td>[삼성전자 주총] 참여연대, 대선자금 징계 요구</td>\n",
       "    </tr>\n",
       "    <tr>\n",
       "      <th>7865</th>\n",
       "      <td>연합인포맥스</td>\n",
       "      <td>2004.02.27.</td>\n",
       "      <td>[외인 어떤 종목 사들였나..SKㆍLG전자 집중 매수]</td>\n",
       "    </tr>\n",
       "    <tr>\n",
       "      <th>7866</th>\n",
       "      <td>연합뉴스</td>\n",
       "      <td>2004.02.27.</td>\n",
       "      <td>삼성전자 주총 시민단체 낙담</td>\n",
       "    </tr>\n",
       "    <tr>\n",
       "      <th>7867</th>\n",
       "      <td>이데일리</td>\n",
       "      <td>2004.02.27.</td>\n",
       "      <td>삼성전자, \"카드 지배주주로 절세액 200억\"(9보)</td>\n",
       "    </tr>\n",
       "    <tr>\n",
       "      <th>7868</th>\n",
       "      <td>머니투데이</td>\n",
       "      <td>2004.02.27.</td>\n",
       "      <td>PR 매수 지수 상승 견인..시총 상위 견조한 강세</td>\n",
       "    </tr>\n",
       "    <tr>\n",
       "      <th>7869</th>\n",
       "      <td>연합뉴스</td>\n",
       "      <td>2004.02.27.</td>\n",
       "      <td>삼성전자 주총 시민단체 항의</td>\n",
       "    </tr>\n",
       "    <tr>\n",
       "      <th>7870</th>\n",
       "      <td>이데일리</td>\n",
       "      <td>2004.02.27.</td>\n",
       "      <td>외국계證, 삼성전자 카드 지원부담 미묘한 시각차</td>\n",
       "    </tr>\n",
       "    <tr>\n",
       "      <th>7871</th>\n",
       "      <td>연합뉴스</td>\n",
       "      <td>2004.02.27.</td>\n",
       "      <td>삼성전자 주총 시민단체 항의</td>\n",
       "    </tr>\n",
       "    <tr>\n",
       "      <th>7872</th>\n",
       "      <td>머니투데이</td>\n",
       "      <td>2004.02.27.</td>\n",
       "      <td>[주총]참여연대 \"삼성카드 부실 달라진것 없다\"(12보)</td>\n",
       "    </tr>\n",
       "    <tr>\n",
       "      <th>7873</th>\n",
       "      <td>이데일리</td>\n",
       "      <td>2004.02.27.</td>\n",
       "      <td>참여연대 \"삼성전자, 카드 유증참여 실패\"(10보)</td>\n",
       "    </tr>\n",
       "    <tr>\n",
       "      <th>7874</th>\n",
       "      <td>연합뉴스</td>\n",
       "      <td>2004.02.27.</td>\n",
       "      <td>삼성전자-참여연대 주총장 격돌(종합)</td>\n",
       "    </tr>\n",
       "    <tr>\n",
       "      <th>7875</th>\n",
       "      <td>이데일리</td>\n",
       "      <td>2004.02.27.</td>\n",
       "      <td>삼성전자, 상승폭 확대..53만원선 회복</td>\n",
       "    </tr>\n",
       "    <tr>\n",
       "      <th>7876</th>\n",
       "      <td>이데일리</td>\n",
       "      <td>2004.02.27.</td>\n",
       "      <td>윤종용 부회장 \"마이크 빼앗겠다\" 참여연대 위협(11보)</td>\n",
       "    </tr>\n",
       "    <tr>\n",
       "      <th>7877</th>\n",
       "      <td>머니투데이</td>\n",
       "      <td>2004.02.27.</td>\n",
       "      <td>\"1분기 실적호전株 선취매를\"-우리</td>\n",
       "    </tr>\n",
       "    <tr>\n",
       "      <th>7878</th>\n",
       "      <td>연합뉴스</td>\n",
       "      <td>2004.02.27.</td>\n",
       "      <td>&lt;삼성전자 주주총회 이모저모&gt;-1</td>\n",
       "    </tr>\n",
       "    <tr>\n",
       "      <th>7879</th>\n",
       "      <td>아이뉴스24</td>\n",
       "      <td>2004.02.27.</td>\n",
       "      <td>[삼성전자 주총] 삼성카드 문제로 본회의 진통</td>\n",
       "    </tr>\n",
       "    <tr>\n",
       "      <th>7880</th>\n",
       "      <td>아이뉴스24</td>\n",
       "      <td>2004.02.27.</td>\n",
       "      <td>[삼성전자 주총]\"지난해 정치자금 2억원뿐\"</td>\n",
       "    </tr>\n",
       "    <tr>\n",
       "      <th>7881</th>\n",
       "      <td>머니투데이</td>\n",
       "      <td>2004.02.27.</td>\n",
       "      <td>[주총]삼성전자, 제 1호의안 표결처리(13보)</td>\n",
       "    </tr>\n",
       "    <tr>\n",
       "      <th>7882</th>\n",
       "      <td>연합뉴스</td>\n",
       "      <td>2004.02.27.</td>\n",
       "      <td>한국광고단체연합회장에 남상조씨</td>\n",
       "    </tr>\n",
       "    <tr>\n",
       "      <th>7883</th>\n",
       "      <td>연합뉴스</td>\n",
       "      <td>2004.02.27.</td>\n",
       "      <td>3월 증시 `전약후강' 전망</td>\n",
       "    </tr>\n",
       "    <tr>\n",
       "      <th>7884</th>\n",
       "      <td>이데일리</td>\n",
       "      <td>2004.02.27.</td>\n",
       "      <td>삼성전자, 이익금처분계산서등 표결(12보)</td>\n",
       "    </tr>\n",
       "    <tr>\n",
       "      <th>7885</th>\n",
       "      <td>연합뉴스</td>\n",
       "      <td>2004.02.27.</td>\n",
       "      <td>삼성전자 주총 재무제표 승인안 표결처리(1보)</td>\n",
       "    </tr>\n",
       "    <tr>\n",
       "      <th>7886</th>\n",
       "      <td>디지털타임스</td>\n",
       "      <td>2004.02.27.</td>\n",
       "      <td>핸디소프트, 작년 흑자전환</td>\n",
       "    </tr>\n",
       "    <tr>\n",
       "      <th>7887</th>\n",
       "      <td>MBN</td>\n",
       "      <td>2004.02.27.</td>\n",
       "      <td>\"증자부담 불구 삼성전자 매수\"</td>\n",
       "    </tr>\n",
       "    <tr>\n",
       "      <th>7888</th>\n",
       "      <td>머니투데이</td>\n",
       "      <td>2004.02.27.</td>\n",
       "      <td>개미가 증시에 들어오지 않는 5가지 이유</td>\n",
       "    </tr>\n",
       "    <tr>\n",
       "      <th>7889</th>\n",
       "      <td>연합뉴스</td>\n",
       "      <td>2004.02.27.</td>\n",
       "      <td>삼성계열사 비롯 38개 상장사 27일 무더기 주총</td>\n",
       "    </tr>\n",
       "    <tr>\n",
       "      <th>7890</th>\n",
       "      <td>아이뉴스24</td>\n",
       "      <td>2004.02.27.</td>\n",
       "      <td>[삼성전자 주총]참여연대와 마찰끝 표결 돌입</td>\n",
       "    </tr>\n",
       "    <tr>\n",
       "      <th>7891</th>\n",
       "      <td>이데일리</td>\n",
       "      <td>2004.02.27.</td>\n",
       "      <td>(스톡이슈)가격 메리트 혹은 섣부른(?) 기대</td>\n",
       "    </tr>\n",
       "    <tr>\n",
       "      <th>7892</th>\n",
       "      <td>머니투데이</td>\n",
       "      <td>2004.02.27.</td>\n",
       "      <td>[주총]삼성전자, 1호의안 99.38% 표결 통과(14보)</td>\n",
       "    </tr>\n",
       "    <tr>\n",
       "      <th>7893</th>\n",
       "      <td>이데일리</td>\n",
       "      <td>2004.02.27.</td>\n",
       "      <td>D램업계 피소·거액벌금 위기</td>\n",
       "    </tr>\n",
       "    <tr>\n",
       "      <th>7894</th>\n",
       "      <td>이데일리</td>\n",
       "      <td>2004.02.27.</td>\n",
       "      <td>삼성전자 1호의안 통과..99% 찬성(13보)</td>\n",
       "    </tr>\n",
       "    <tr>\n",
       "      <th>7895</th>\n",
       "      <td>연합뉴스</td>\n",
       "      <td>2004.02.27.</td>\n",
       "      <td>삼성전자 재무제표 승인안 표결 통과(2보)</td>\n",
       "    </tr>\n",
       "    <tr>\n",
       "      <th>7896</th>\n",
       "      <td>연합뉴스</td>\n",
       "      <td>2004.02.27.</td>\n",
       "      <td>삼성전자 정기주총</td>\n",
       "    </tr>\n",
       "    <tr>\n",
       "      <th>7897</th>\n",
       "      <td>이데일리</td>\n",
       "      <td>2004.02.27.</td>\n",
       "      <td>삼성전자, \"자제 당부\"..참여연대 \"무효소송\" 경고(14보)</td>\n",
       "    </tr>\n",
       "    <tr>\n",
       "      <th>7898</th>\n",
       "      <td>연합뉴스</td>\n",
       "      <td>2004.02.27.</td>\n",
       "      <td>삼성전자 정기주총</td>\n",
       "    </tr>\n",
       "    <tr>\n",
       "      <th>7899</th>\n",
       "      <td>이데일리</td>\n",
       "      <td>2004.02.27.</td>\n",
       "      <td>만기 겨냥한 차익매수, 내주부터 본격 유입될 듯</td>\n",
       "    </tr>\n",
       "  </tbody>\n",
       "</table>\n",
       "</div>"
      ],
      "text/plain": [
       "         언론사           날짜                                      제목\n",
       "7850    연합뉴스  2004.02.27.                         삼성전자 주총 시민단체 항의\n",
       "7851  매경이코노미  2004.02.27.              [비즈니스] MP3 원조 엠피맨닷컴 인수전 치열\n",
       "7852  매경이코노미  2004.02.27.              [Cover Story] 현대자동차 세계 빅5?\n",
       "7853  매경이코노미  2004.02.27.          [Special Report] 사례연구 (5) 삼성그룹\n",
       "7854  매경이코노미  2004.02.27.                     [비즈니스] 그룹내 계열사끼리 경쟁\n",
       "7855  매경이코노미  2004.02.27.     [Special Report] 사례연구 (1) 실패 피한 기업들\n",
       "7856   머니투데이  2004.02.27.         [주총]참여연대 \"이건희회장 등 징계용의 있나?\"(9보)\n",
       "7857  연합인포맥스  2004.02.27.  [거래소] 외국인 매도속 870선 저항 극복 부담..주도주 부재 장세\n",
       "7858    연합뉴스  2004.02.27.              <거래소>주가 강보합..866.84(오전10시)\n",
       "7859    연합뉴스  2004.02.27.                         삼성전자 주총 시민단체 항의\n",
       "7860    연합뉴스  2004.02.27.                       삼성전자 주총 삼성전자 윤리강령\n",
       "7861   머니투데이  2004.02.27.           [주총]삼성전자 \"지난해 1046억원 기부\"(10보)\n",
       "7862    이데일리  2004.02.27.                 삼성전자 \"작년 정치자금 2억지출\"(8보)\n",
       "7863   머니투데이  2004.02.27.          [주총]참여연대 \"삼성카드 유상증자 문제제기\"(11보)\n",
       "7864  아이뉴스24  2004.02.27.              [삼성전자 주총] 참여연대, 대선자금 징계 요구\n",
       "7865  연합인포맥스  2004.02.27.          [외인 어떤 종목 사들였나..SKㆍLG전자 집중 매수]\n",
       "7866    연합뉴스  2004.02.27.                         삼성전자 주총 시민단체 낙담\n",
       "7867    이데일리  2004.02.27.           삼성전자, \"카드 지배주주로 절세액 200억\"(9보)\n",
       "7868   머니투데이  2004.02.27.            PR 매수 지수 상승 견인..시총 상위 견조한 강세\n",
       "7869    연합뉴스  2004.02.27.                         삼성전자 주총 시민단체 항의\n",
       "7870    이데일리  2004.02.27.              외국계證, 삼성전자 카드 지원부담 미묘한 시각차\n",
       "7871    연합뉴스  2004.02.27.                         삼성전자 주총 시민단체 항의\n",
       "7872   머니투데이  2004.02.27.         [주총]참여연대 \"삼성카드 부실 달라진것 없다\"(12보)\n",
       "7873    이데일리  2004.02.27.            참여연대 \"삼성전자, 카드 유증참여 실패\"(10보)\n",
       "7874    연합뉴스  2004.02.27.                    삼성전자-참여연대 주총장 격돌(종합)\n",
       "7875    이데일리  2004.02.27.                  삼성전자, 상승폭 확대..53만원선 회복\n",
       "7876    이데일리  2004.02.27.         윤종용 부회장 \"마이크 빼앗겠다\" 참여연대 위협(11보)\n",
       "7877   머니투데이  2004.02.27.                     \"1분기 실적호전株 선취매를\"-우리\n",
       "7878    연합뉴스  2004.02.27.                      <삼성전자 주주총회 이모저모>-1\n",
       "7879  아이뉴스24  2004.02.27.               [삼성전자 주총] 삼성카드 문제로 본회의 진통\n",
       "7880  아이뉴스24  2004.02.27.                [삼성전자 주총]\"지난해 정치자금 2억원뿐\"\n",
       "7881   머니투데이  2004.02.27.              [주총]삼성전자, 제 1호의안 표결처리(13보)\n",
       "7882    연합뉴스  2004.02.27.                        한국광고단체연합회장에 남상조씨\n",
       "7883    연합뉴스  2004.02.27.                         3월 증시 `전약후강' 전망\n",
       "7884    이데일리  2004.02.27.                 삼성전자, 이익금처분계산서등 표결(12보)\n",
       "7885    연합뉴스  2004.02.27.               삼성전자 주총 재무제표 승인안 표결처리(1보)\n",
       "7886  디지털타임스  2004.02.27.                          핸디소프트, 작년 흑자전환\n",
       "7887     MBN  2004.02.27.                       \"증자부담 불구 삼성전자 매수\"\n",
       "7888   머니투데이  2004.02.27.                  개미가 증시에 들어오지 않는 5가지 이유\n",
       "7889    연합뉴스  2004.02.27.             삼성계열사 비롯 38개 상장사 27일 무더기 주총\n",
       "7890  아이뉴스24  2004.02.27.                [삼성전자 주총]참여연대와 마찰끝 표결 돌입\n",
       "7891    이데일리  2004.02.27.               (스톡이슈)가격 메리트 혹은 섣부른(?) 기대\n",
       "7892   머니투데이  2004.02.27.        [주총]삼성전자, 1호의안 99.38% 표결 통과(14보)\n",
       "7893    이데일리  2004.02.27.                         D램업계 피소·거액벌금 위기\n",
       "7894    이데일리  2004.02.27.               삼성전자 1호의안 통과..99% 찬성(13보)\n",
       "7895    연합뉴스  2004.02.27.                 삼성전자 재무제표 승인안 표결 통과(2보)\n",
       "7896    연합뉴스  2004.02.27.                               삼성전자 정기주총\n",
       "7897    이데일리  2004.02.27.      삼성전자, \"자제 당부\"..참여연대 \"무효소송\" 경고(14보)\n",
       "7898    연합뉴스  2004.02.27.                               삼성전자 정기주총\n",
       "7899    이데일리  2004.02.27.              만기 겨냥한 차익매수, 내주부터 본격 유입될 듯"
      ]
     },
     "execution_count": 14,
     "metadata": {},
     "output_type": "execute_result"
    }
   ],
   "source": [
    "df[-150:-100]"
   ]
  },
  {
   "cell_type": "code",
   "execution_count": null,
   "id": "6c6b2837",
   "metadata": {},
   "outputs": [],
   "source": []
  }
 ],
 "metadata": {
  "kernelspec": {
   "display_name": "Python 3 (ipykernel)",
   "language": "python",
   "name": "python3"
  },
  "language_info": {
   "codemirror_mode": {
    "name": "ipython",
    "version": 3
   },
   "file_extension": ".py",
   "mimetype": "text/x-python",
   "name": "python",
   "nbconvert_exporter": "python",
   "pygments_lexer": "ipython3",
   "version": "3.9.12"
  },
  "toc": {
   "base_numbering": 1,
   "nav_menu": {},
   "number_sections": false,
   "sideBar": true,
   "skip_h1_title": false,
   "title_cell": "Table of Contents",
   "title_sidebar": "Contents",
   "toc_cell": false,
   "toc_position": {
    "height": "895px",
    "left": "69px",
    "top": "111.141px",
    "width": "165px"
   },
   "toc_section_display": true,
   "toc_window_display": false
  }
 },
 "nbformat": 4,
 "nbformat_minor": 5
}
