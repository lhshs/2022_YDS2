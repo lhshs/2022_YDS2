{
 "cells": [
  {
   "cell_type": "markdown",
   "id": "ad057284",
   "metadata": {},
   "source": [
    "# 크롤링 테스트"
   ]
  },
  {
   "cell_type": "code",
   "execution_count": 1,
   "id": "a75c3e83",
   "metadata": {
    "ExecuteTime": {
     "end_time": "2022-09-23T04:58:20.954213Z",
     "start_time": "2022-09-23T04:58:20.743083Z"
    }
   },
   "outputs": [],
   "source": [
    "# 라이브러리 import\n",
    "import os\n",
    "import pandas as pd\n",
    "import numpy as np\n",
    "import math \n",
    "\n",
    "# 셀레늄\n",
    "from selenium.webdriver.common.alert import Alert\n",
    "from selenium import webdriver  # 라이브러리(모듈) 가져오라\n",
    "# pip install chromedriver_autoinstaller\n",
    "from selenium.webdriver.common.keys import Keys\n",
    "from selenium.webdriver import ActionChains as AC\n",
    "\n",
    "# tqdm : for문 진행상황 체크\n",
    "from tqdm import tqdm, tqdm_notebook\n",
    "from tqdm.notebook import tqdm\n",
    "\n",
    "# 정규표현식(regular expression) : 문자(알파벳,한글), 숫자, 특수기호 정제 및 추출\n",
    "import re\n",
    "from time import sleep\n",
    "import time\n",
    "\n",
    "# 워닝 무시\n",
    "import warnings\n",
    "warnings.filterwarnings('ignore')\n",
    "\n",
    "from selenium.webdriver.common.by import By\n",
    "import chromedriver_autoinstaller"
   ]
  },
  {
   "cell_type": "code",
   "execution_count": null,
   "id": "8a050636",
   "metadata": {},
   "outputs": [],
   "source": [
    "# 언론사 클릭\n",
    "# 경향신문, 국민일보, 내일신문, 동아일보, 매일일보, 문화일보, 서울신문, 세계일보, 아시아투데이, 전국매일신문\n",
    "# 조선일보, 중앙일보, 천지일보, 한겨례, 한국일보"
   ]
  },
  {
   "cell_type": "code",
   "execution_count": null,
   "id": "f52373ba",
   "metadata": {},
   "outputs": [],
   "source": [
    "# IT : LGCNS(엘지씨엔에스), 아데나소프트웨어, 이브이알스튜디오(메타버스,), 씨유박스(얼굴인식, CUBOX)"
   ]
  },
  {
   "cell_type": "code",
   "execution_count": 24,
   "id": "486cae87",
   "metadata": {
    "ExecuteTime": {
     "end_time": "2022-09-23T06:20:58.702206Z",
     "start_time": "2022-09-23T06:20:58.236397Z"
    }
   },
   "outputs": [],
   "source": [
    "driver.quit()\n",
    "title_list = []\n",
    "link_list = []\n",
    "date_list = []\n",
    "content_list = []\n",
    "press_list = []"
   ]
  },
  {
   "cell_type": "code",
   "execution_count": 16,
   "id": "cdc0736f",
   "metadata": {
    "ExecuteTime": {
     "end_time": "2022-09-23T06:06:35.312657Z",
     "start_time": "2022-09-23T06:06:19.393930Z"
    }
   },
   "outputs": [],
   "source": [
    "# for i in range(1, 3):\n",
    "\n",
    "# 검색어 입력\n",
    "search = 'LGCNS'\n",
    "# 크롬 옵션\n",
    "options = webdriver.ChromeOptions()\n",
    "# 크롬 윈도우 사이즈 조절\n",
    "options.add_argument(\"--window-size=800,1200\") # window-size -> 기본 : 1920,1080\n",
    "chrome_path = chromedriver_autoinstaller.install()\n",
    "driver = webdriver.Chrome(chrome_path, options=options)\n",
    "time.sleep(0.01)\n",
    "driver.get(\"https://www.naver.com\")\n",
    "# -> 네이버 크롬 창이 뜬다.\n",
    "\n",
    "# 네이버 검색어 입력 후 검색\n",
    "element = driver.find_element(\"name\", \"query\") \n",
    "element.clear()  # 혹시 검색창에 존재하는 텍스트 제거\n",
    "element.send_keys(search)  # 검색창에 검색어 전달\n",
    "element.submit()  # 검색 클릭\n",
    "time.sleep(0.01)\n",
    "\n",
    "# 뉴스 클릭\n",
    "driver.find_element(\"link text\", \"뉴스\").click() \n",
    "# time.sleep(0.01)"
   ]
  },
  {
   "cell_type": "code",
   "execution_count": 17,
   "id": "f59c31b5",
   "metadata": {
    "ExecuteTime": {
     "end_time": "2022-09-23T06:06:36.977169Z",
     "start_time": "2022-09-23T06:06:35.314205Z"
    }
   },
   "outputs": [],
   "source": [
    "# 옵션 클릭 후 '1년' 클릭\n",
    "driver.find_element(\"css selector\", \"#snb > div.api_group_option_filter._search_option_simple_wrap > div > div.option_filter > a\").click()  \n",
    "driver.find_element(\"css selector\", \"#snb > div.api_group_option_sort._search_option_detail_wrap > ul > li.bx.term > div > div.option > a:nth-child(8)\").click()  \n",
    "# time.sleep(0.01)"
   ]
  },
  {
   "cell_type": "code",
   "execution_count": 19,
   "id": "80e0ee1b",
   "metadata": {
    "ExecuteTime": {
     "end_time": "2022-09-23T06:07:17.734200Z",
     "start_time": "2022-09-23T06:07:17.080277Z"
    },
    "scrolled": true
   },
   "outputs": [],
   "source": [
    "# 목록 열기\n",
    "driver.find_element(\"css selector\", \"a.txt.txt_option._category_select_trigger\").click() \n",
    "\n",
    "# 일간지 선택\n",
    "driver.find_element('link text', '일간지').click()\n",
    "\n",
    "content_selector = f'#snb > div.api_group_option_sort._search_option_detail_wrap > ul > li.bx.press > div > div.api_select_option.type_group._category_select_layer > div > div:nth-child(2) > div > div > div > ul > li:nth-child(1) > a'\n",
    "driver.find_element('css selector', content_selector).click()\n",
    "time.sleep(0.01)"
   ]
  },
  {
   "cell_type": "code",
   "execution_count": 20,
   "id": "058c86fc",
   "metadata": {
    "ExecuteTime": {
     "end_time": "2022-09-23T06:07:23.136689Z",
     "start_time": "2022-09-23T06:07:22.664416Z"
    }
   },
   "outputs": [],
   "source": [
    "# 다음 페이지 클릭\n",
    "driver.find_element(\"css selector\", 'a.btn_next').click()"
   ]
  },
  {
   "cell_type": "code",
   "execution_count": 21,
   "id": "91597c32",
   "metadata": {
    "ExecuteTime": {
     "end_time": "2022-09-23T06:15:57.127070Z",
     "start_time": "2022-09-23T06:07:31.338982Z"
    },
    "scrolled": true
   },
   "outputs": [
    {
     "name": "stdout",
     "output_type": "stream",
     "text": [
      "['LG, 구글·우리은행·EBS와 초거대 AI 생태계 만든다', '삼성전자 노사협의회, 평균 9% 임금인상 합의…유급휴가 3일 신설', '전자·IT 10%대 연봉 인상 속출…커지는 삼성전자의 고민', '오늘의 부고 - 2022년 4월 29일', \"KT, 국내 최초 '블록체인 기반' 공인전자문서센터 운영키로\", '은행은 왜 가상자산업 진출을 원하나', '두산도 NFT마켓 연다…치열해지는 국내 NFT 거래소 경쟁', '오늘의 부고 - 2022년 1월 25일', '국내 클라우드 업체는 ‘공공’의 날개로 난다', '국내 클라우드 ‘공공’ 타고 뜬다']\n",
      "['https://www.khan.co.kr/economy/industry-trade/article/202202221325001', 'https://www.khan.co.kr/economy/business/article/202204291539001', 'https://www.khan.co.kr/economy/economy-general/article/202204181634001', 'https://www.khan.co.kr/people/obituary/article/202204282312035', 'https://www.khan.co.kr/it/it-general/article/202204181206001', 'https://www.khan.co.kr/economy/finance/article/202204031359001', 'https://www.khan.co.kr/it/it-general/article/202202161707001', 'https://www.khan.co.kr/people/obituary/article/202201242150045', 'https://www.khan.co.kr/economy/market-trend/article/202112121653001', 'https://www.khan.co.kr/economy/economy-general/article/202112122122005']\n",
      "['입력 : 2022.02.22 13:25', '입력 : 2022.04.29 15:39', '입력 : 2022.04.18 16:34', '입력 : 2022.04.28 23:12', '입력 : 2022.04.18 12:06', '입력 : 2022.04.03 13:59', '입력 : 2022.02.16 17:07', '입력 : 2022.01.24 21:50', '입력 : 2021.12.12 16:53', '입력 : 2021.12.12 21:22']\n",
      "['13개 기업 모인 ‘엑스퍼트 AI 얼라이언스’ 발족\\nLG그룹의 인공지능(AI) 전담 조직인 LG AI연구원이 다양한 업종의 국내·외 기업들과 글로벌 초거대 AI 생태계 조성에 나섰다.\\nLG AI연구원은 22일 국내·외 기업 13개가 모인 ‘엑스퍼트 AI 얼라이언스’(Expert AI Alliance)를 발족시켰다고 밝혔다. 엑스퍼트 AI 얼라이언스는 인공지능 분야에서 정보통신(IT)·금융·교육·의료·제조·통신 등 이종산업 간 협력을 위해 구성된 첫 민간 연합체다. LG AI연구원을 중심으로 구글, 우리은행, 셔터스톡, 엘스비어, EBS, 고려대학교의료원, 한양대학교병원, 브이에이코퍼레이션, LG전자, LG화학, LG유플러스, LG CNS가 창립 멤버로 참여했다.\\n이들은 LG의 초거대 AI 엑사원을 바탕으로 각자 필요한 서비스를 협업을 통해 개발할 계획이다. 초거대 AI는 대용량의 연산이 가능한 컴퓨팅 인프라를 기반으로 대규모 데이터를 스스로 학습해 인간처럼 사고·판단할 수 있다.\\n배경훈 AI연구원장은 이날 유튜브로 진행된 발족 행사에서 LG가 최근 선보인 AI 아티스트 ‘틸다’ 등 엑사원으로 실제 구현한 사례를 공유하고 연합 파트너사들과의 협업 계획을 밝혔다. 배 원장은 인간처럼 자연스럽게 대화한 뒤 전문 상담사 수준으로 내용을 요약하는 고도화된 챗봇 모델, LG화학 및 엘스비어와 연구하고 있는 분야인 심층 문서 이해(DDU· Deep Document Understanding) 기술도 시연했다. 이 기술은 논문, 특허 등 전문 문헌의 텍스트뿐만 아니라 수식, 표 등 시각적 요소까지 분석해 신약과 신소재 등의 데이터를 빠르고 정확하게 분석하고 축적하는 기술이다.\\n22일 유튜브로 진행한 ‘엑스퍼트 AI 얼라이언스’ 발족 행사에 참석한 사람들. 김경훈 구글코리아 대표와 황원철 우리은행 부행장, 김광범 EBS 본부장, 지영석 엘스비어 회장, 김이석 한양대병원 부원장, 김병훈 LG전자 부사장 등이 참석했다. LG그룹 제공\\n우리은행은 엑사원을 활용해 AI 은행원의 전문성을 강화하고 금융에 특화한 언어 모델을 개발하겠다는 계획을 발표했다. EBS는 수학 문제를 AI가 자동으로 해설하는 서비스를 엘스비어는 자사가 보유한 1억건의 의학·과학 분야 문헌에 대한 데이터베이스 구축을 추진한다. 구글은 슈퍼 컴퓨팅 클라우드 서비스를 LG AI연구원에 제공하고, 초거대 AI 개발에 협력하기로 했다.\\n배경훈 원장은 “파트너사들과의 긴밀한 협력으로 모든 산업 영역에서 상위 1% 전문가 AI를 만들어 기존에 보지 못했던 새로운 고객 경험을 제공하겠다”고 밝혔다.', '작년 대비 상승폭 1.5%포인트 커져\\n노조와의 임금협상은 아직 불투명\\n삼성전자 노사협의회가 올해 평균 임금을 9% 인상하기로 합의했다.\\n노사협의회는 29일 이 같은 합의 내용을 공지했다. 9%는 최근 10년 내 최고 인상률이었던 지난해 7.5%보다 1.5%포인트 높은 수준이다.\\n노사협의회는 지난 2월부터 총 11차례 임금 협의를 진행한 끝에 합의를 도출했다. 양측은 통상 3월 안에 합의를 하는데, 이번엔 사측이 4%, 노측이 15% 인상을 주장하는 등 의견 차가 컸던 것으로 알려졌다. 카카오(15%)와 네이버, LG CNS(이상 10%) 등 전자·IT 업계에서 10%대 인상이 줄을 잇자 노측은 인력 유출을 막으려면 두 자릿수 인상을 해야 한다고 주장한 것으로 전해졌다. 결국 4월 말에 두 자릿수에 가까우면서 LG전자(8.2%)보다 높은 수준에서 합의가 이뤄졌다.\\n전체 직원에게 지급하는 총연봉 재원을 9% 늘린다는 뜻으로 개인별 임금 인상 수준은 고과에 따라 다를 수 있다. 고과가 높으면 임금이 최대 16.5% 오른다. 대졸 신입사원의 첫해 연봉도 5150만원 수준으로 높아지는 것으로 알려졌다. 삼성전자 노사협의회가 임금 인상률에 합의함에 따라 삼성디스플레이와 삼성SDI 등 전자 부문 계열사들도 이를 기준으로 임금 합의를 할 것으로 예상된다.\\n노사협의회는 또 임직원의 워라밸(일과 삶의 균형)을 위해 유급휴가를 3일 신설하고, 배우자 출산 휴가를 기존 10일에서 15일로 확대하는 방안에도 합의했다.\\n삼성전자는 지난해부터 노사협의회 합의와는 별도로 사내 4개 노동조합의 공동교섭단과도 임금 협상을 진행하고 있다. 그러나 노조와는 지난해 임금 협상에서도 아직 합의를 도출하지 못하고 있다.\\n노조는 사측에 성과급 기준을 투명하게 영업이익으로 바꾸고, 정액 인상과 임금피크제 폐지로 공정한 급여체계를 만들며, 유급휴일 5일, 회사창립일·노조창립일 각 1일 등 최소한의 휴식을 보장하라고 요구하고 있다. 노조는 또 사측이 노사협의회의 합의를 방패 삼아 노조의 단체교섭권을 무력화하고 있다고 주장한다. 노조는 지난 13일부터 이재용 부회장의 결단을 촉구하며 매일 이 부회장 자택 앞에서 시위를 벌였고, 지난 25일부터는 천막 농성에 돌입했다.', '올해들어 주요 전자·IT(정보기술) 회사들이 연달아 임금을 10% 이상 인상하고 있다. 인력 유출을 막기 위해 많은 회사들이 직원들의 인상 요구를 수용한 것으로 분석된다.\\n아직 임금협상을 마무리하지 못한 삼성전자는 경쟁사들의 움직임을 예의주시하고 있다. 삼성전자 노사협의회에서 진행 중인 임금협상은 사상 처음으로 4월을 넘기게 됐다.\\n올해 가장 높은 임금 인상 폭을 내건 회사는 카카오다. 전체 임직원 임금 총액을 15% 늘리기로 결정했다. 전체 직원에게 연봉을 500만원 일괄 인상해준 뒤 나머지를 성과에 따라 분배하는 방식이다. 그 밖에 네이버와 LG CNS, LG 이노텍도 올해 임금을 10% 올렸다. LG전자는 지난해 9%에 이어 올해도 8.2% 올리기로 해, 평년에 비해 2배 이상 높은 인상률을 유지했다.\\n잇따른 연봉 인상은 코로나19 수혜로 전자·IT 쪽 수익이 크게 개선됐고, 개발자와 엔지니어 등 인력이 부족하기 때문이다. 연봉 인상을 통해 현 인력의 이직을 막고, 추가로 고급 인력을 유치하려는 것이다. 연봉 따라 회사를 옮기는 데 익숙한 젊은층의 특성도 반영됐다. 한 전자업체 관계자는 18일 “예전엔 지금 연봉이 적어도 회사를 키워서 보상을 받는다거나, 승진으로 보상받는다는 생각이 있었는데, 요즘 직원들은 미래의 불확실한 보상보다 당장 연봉으로 보상받길 원한다”고 말했다.\\n삼성전자 노사협의회의 올해 임금협상은 교착 상태에 빠졌다. 통상 2월에 논의를 시작해 3월에 합의를 하고 3월 월급부터 인상분이 반영됐지만, 지난 14일 열린 8차 회의까지 합의를 이루지 못했다. 8차 회의에서 사측은 기본급 4% 인상을 제안하고, 근로자 위원들은 두 자릿수 인상을 주장하며 맞선 것으로 전해졌다. 이로 인해 사상 처음으로 4월까지 월급에 인상분이 반영되지 못하고 5월로 넘어가게 됐다.\\n삼성전자 내부에선 젊은 사원들을 중심으로 회사가 위상에 맞게 업계 최고 대우를 해줘야 한다는 주장이 많다. 하지만 사측은 반도체, 가전 등 광범위한 부문에 국내에만 11만3000명의 직원이 있어 다른 회사처럼 큰 폭의 일괄 인상을 하기 어렵다는 입장이다. 삼성전자의 임금 협상이 길어지면서 삼성전자를 따라 임금 인상 폭을 결정하던 삼성SDI, 삼성디스플레이 등 전자 계열사들도 임금 인상 논의가 중단된 상황이다.\\n통상 5월 초에 임금협상을 시작하는 SK하이닉스는 메모리 반도체 경쟁사인 삼성전자 협상 과정을 예의주시하고 있다. SK하이닉스는 지난해 임금을 예년의 2배 수준인 평균 8% 인상하고, 신입사원 초임을 기존 4000만원대에서 5040만원으로 올린 바 있다.', '■김성수씨 별세, 재환 국민의힘 부장 부친상=28일 대구보훈병원. 발인 30일 오전 10시 (053)625-4466\\n■김무임씨 별세, 유정수 상도동 서울열린의원 원장·명희 법무법인 삼양 국제부문 대표(전 산업통상자원부 통상교섭본부장)·수경 뱅뒤솔레유 대표·연주씨 모친상, 정태옥 경북대 데이터사이언스 대학원장(제20대 국회의원)·안요섭 LG CNS D&A사업부 책임·신민규 삼성물산 건설부문 프로 장모상, 허정윤씨 시모상=27일 오전 2시21분 한양대병원. 발인 30일 오전 7시30분 (02)2290-9452\\n■오원태 전 충북대 자연대학장 별세, 세현 메달고 대표·주영 서울 봉림중학교 교사 부친상, 김인국 JHBio코리아 대표 장인상, 서동빈씨 시부상=28일 충북대병원. 발인 30일 오전 7시 (043)269-6969\\n부고/정리중', 'KT제공\\nKT는 국내 최초로 블록체인 기술을 활용한 ‘공인전자문서센터’ 지정인가를 획득했다고 18일 밝혔다.\\n공인전자문서센터는 다른 기업·기관의 전자문서를 대신 보관하는 서비스로, 과학기술정통부(과기정통부) 장관의 지정을 받아야 한다. 과기정통부는 전자문서 보관을 활성화하고 불필요한 종이문서 보관을 줄이기 위해 2020년 12월 종이문서를 전자문서로 변환(스캔 등)한 뒤 공인전자문서센터에 보관할 경우 원본 종이문서를 폐기할 수 있도록 전자문서법을 개정했다. KT는 LG CNS, 더존비즈온, 하나금융TI, 한국무역정보통신에 이어 5번째로 공인전자문서센터 인가를 받았다.\\nKT는 국내 최초로 전자문서 보관에 블록체인 기술을 적용해 보안성과 신뢰성을 강화했다고 설명했다. KT 공인전자문서센터는 모든 문서를 암호화한 상태로 저장·보관하고, 해당 문서의 열람 및 제출 이력도 블록체인으로 관리한다. KT는 또 B2B(기업 간 거래) 방식과 다른 솔루션 업체에 API(응용프로그램 인터페이스)를 제공하는 방식으로 공인전자문서센터 서비스를 운영할 계획이다. KT는 금융업, 유통업 등 서류 보관을 많이 하고 전자문서 솔루션 인프라를 구축하기 어려운 중소기업 등을 대상으로 서비스를 펼칠 계획이다.\\nKT DX플랫폼사업본부장 김영식 상무는 “KT는 그동안 지역화폐, 전자문서, NFT 등 다양한 분야에서 블록체인 사업을 추진해왔다”며 “공인전자문서센터를 통해 기업들의 전자문서 기반 디지털 전환과 ESG(환경·사회·지배구조) 경영, 탄소중립 등에 기여하겠다”고 말했다.', '로이터연합뉴스\\n은행연합회가 윤석열 대통령 당선인 대통령직 인수위원회에 ‘은행의 가상자산 서비스 진출을 허용해달라’고 요청하면서 그 배경에 관심이 쏠리고 있다. 은행도 비트코인이나 이더리움을 팔겠다는 것인데, 새 정부가 실제로 은행의 가상자산업 진출을 허용할 지 주목된다.\\n3일 금융권에 따르면 은행연합회는 인수위 제출용으로 작성한 ‘은행업계 제언’ 보고서에서 은행들의 애로사항을 열거하면서 ‘가상자산 서비스 진출 허용’을 언급했다. 연합회는 “공신력 있는 은행이 가상자산 관련 사업에 진출할 수 있도록 은행법상 은행의 겸영 업무에 가상자산업을 추가해달라”고 제안했다. 코인거래소, 가상자산 보관 전자지갑 서비스, 가상자산 수탁 서비스 등을 비롯해, 향후 도입될 가상자산업법에서 가상자산업으로 정의하는 사업을 은행도 할 수 있게 허용해달라는 뜻이다.\\n은행권이 이런 제안을 꺼낸 것은 사업 포트폴리오를 다각화해야 할 필요성 때문이다. KB국민·신한·하나·우리은행 등 4대 시중은행의 지난해 실적을 보면 총영업이익 중 이자 이익이 86.1~92.6%를 차지할 정도로 비이자 이익의 비중이 작다. 한 시중은행 관계자는 “은행이 성장하려면 예대마진에서 나오는 이자 이익을 벌어들이는 것 외에 다른 사업이 필요하다”며 “가상자산업은 워낙 이슈가 많고 시의성이 있어 은행들이 관심을 갖고 있다”고 말했다.\\n네이버·카카오 등 빅테크 기업들이 금융업에 뛰어든 반면, 은행이 할 수 있는 비금융 서비스엔 제약이 있다는 것도 은행들의 불만이다. 은행과 빅테크 간에 존재하는 이른바 ‘기울어진 운동장’ 문제를 해결해야 한다는 것이다. 또 다른 시중은행 관계자는 “사업 간의 경계가 융화되는 세상인데 은행만 전통적인 사업 영역에 묶여 있을 수는 없지 않느냐”며 “가상자산업 진출을 희망하는 것도 그런 차원의 문제”라고 말했다.\\n은행이 직접 가상자산업을 하려면 ‘겸영 업무의 범위’를 정하고 있는 은행법 시행령이 개정돼야 한다. 은행들은 일단 현행 법의 테두리 안에서 가능한 방식으로 가상자산 사업에 뛰어들고 있다. 주로 디지털 자산 수탁 회사에 지분 투자를 하거나 합작 법인을 설립하는 식이다.\\n관련 사업에 가장 적극적인 곳은 신한은행이다. 신한은행은 지난해 1월 디지털 자산 커스터디(보관·관리) 시장 진출을 위해 커스터디 전문기업인 한국디지털자산수탁(KDAC)에 전략적 지분투자를 추진했다. 신한은행은 또 한국은행의 중앙은행 디지털화폐(CBDC) 발행에 대비해 LG CNS와 디지털화폐 플랫폼의 시범 구축을 완료했고, 지난해 11월엔 국내 금융권 최초로 스테이블 코인 기반의 해외 송금 기술을 개발했다. 스테이블 코인은 민간기업이 발행하는 디지털 자산으로, 가격 변동성을 최소화해 미국 달러, 원화 등과 같은 법정화폐에 1대 1로 가치가 고정돼 있다.\\nKB국민은행, NH농협은행도 각각 한국디지털에셋(KODA), 카르도 등 커스터디 기업에 대한 전략적 투자를 통해 가상자산 사업에 첫발을 내디뎠다. 커스터디란 가상자산을 보관·관리해주는 회사를 말한다. 우리은행은 지난해 블록체인 전문기업 코인플러그와 함께 합작법인 ‘디커스터디’를 설립했고, 지난 1월 블록체인 플랫폼 구축을 완료했다. 블록체인 플랫폼은 스테이블 코인과 대체불가능토큰(NFT) 발행, 가상자산으로 송금·결제할 수 있는 멀티자산지갑 등 서비스에 활용될 수 있다.\\n은행 가상자산', '두산이 대체불가토큰(NFT) 거래소 운영을 시작했다. 최근 국내외 유명 기업들이 연달아 NFT 시장에 진출하고 있는 가운데, 두산처럼 NFT 거래소(플랫폼)를 직접 운영하는 기업들도 늘고 있다. 세계 최대 NFT 거래소 ‘오픈씨’의 지난 한 달 거래액이 35억달러(약 4조1565억원)를 넘어서는 등 NFT시장이 급격하게 커지면서 국내에서도 NFT 시장을 선점하려는 거래소간 경쟁이 치열해지고 있다.\\n16일 두산그룹 IT서비스를 총괄하는 계열사인 두산 디지털이노베이션은 자체 NFT 플랫폼인 ‘두버스’에 NFT 상품을 거래할 수 있는 마켓플레이스의 문을 15일 열었다고 밝혔다. NFT는 블록체인 기술을 이용해 디지털 파일이나 자산에 복제·위조가 불가능한 암호값을 매겨 ‘진본’임을 증명하는 가상토큰이다.\\n두산 디지털이노베이션은 지난해 11월 두버스에서 프로야구 두산베어스 선수들의 사진과 경기영상을 활용한 NFT 상품을 출시했다. 두버스 내 마켓플레이스에서는 이를 사용자끼리 자유롭게 사고팔 수 있다. 두버스 내 거래는 가상통화인 플로우코인으로만 가능하다. 업비트, 코인원, 코빗, 문페이 등 국내 가상통화 거래소에서 플로우코인을 충전할 수 있다. 현재 두버스에서는 두산베어스 관련 NFT 상품만 거래되고 있지만 향후 상품군은 확대될 것으로 보인다.\\nNFT는 메타버스(3차원 가상세계)를 활성화할 경제 수단으로 주목받고 있다. NFT를 발행해도 거래할 곳이 마땅치 않았던 과거와 달리 현재 해외는 물론 국내에도 거래소가 속속 생겨나고 있다. 해외에서는 ‘오픈씨’가 NFT 시장 점유율 60%를 차지하고 있다. 2020년 오픈씨의 1년 거래액은 1억달러 수준에 머물렀지만, 지난 1월 한 달 거래액만 35억달러를 넘어서며 폭발적 성장을 보였다. 지난해 세계 NFT 시장 규모는 400억달러(47조9640억원)로, 세계 미술품 거래 시장 규모(501억달러)를 따라잡고 있다.\\n국내에서도 거래소 경쟁이 뜨거워지고 있다. 가장 먼저 가상통화 거래소들이 NFT플랫폼 운영에 뛰어들었다. 지난해 5월 코빗은 국내 가상통화 거래소 중 가장 먼저 NFT 마켓 서비스를 시작했다. 업비트를 운영하는 두나무도 지난해 말 NFT 거래소인 ‘업비트NFT’를 선보였다. 빗썸도 현재 LG CNS와 협력해 NFT 거래소를 개발 중이다.\\n국내 정보기술(IT)·게임 업체들도 NFT 플랫폼 구축에 적극적이다. 카카오는 블록체인 계열사 그라운드X를 통해 지난해 12월 디지털 작품을 사고팔 수 있는 NFT 거래소 ‘클립 드롭스’의 정식 버전을 내놓았다. 라인도 올해 가상통화뿐만 아니라 일본 엔화를 통한 거래를 지원하는 거래소 ‘라인 NFT’를 선보일 계획이다. 네이버 라인 산하의 라인프렌즈도 올해 말 NFT 게임과 메타버스 서비스로 확장할 수 있는 플랫폼 ‘프렌즈’(FRENZ)를 선보인다. 게임사 위메이드는 게임 콘텐츠와 연동된 NFT 거래소를 이미 운영중이다. 카카오게임즈, 크래프톤, 컴투스홀딩스 등 게임사들도 ‘P2E(돈을 벌 수 있는 게임)’시장을 겨냥해 NFT 거래소 구축에 나섰다.\\n다만 ‘오픈씨’ 등 해외 거래소에서는 누구나 자신의 디지털자산을 NFT로 발행할 수 있지만 국내 거래소에서 NFT를 발행하기 위해서는 창작자로서 자격을 부여받는 등의 인증이 필요하다. 김재학 다인인베스트 연구소 애널리스트는 “유튜브처럼 NFT도 디지털 세계에서 한 사람의 정체성과 창의성을 보여주는 수단이 될 수 있다”면서 “다만 우후죽순 생겨나는 NFT 거래소에 비해 관련 규제와 정책이 정비되지 않은 만큼 투자 위험성도 크다”고 말했다. 또 “NFT를 투자수단으로만 볼 것이 아니라 디지털 작품을 인증하고 가치를 매기는 수단으로 바라봐야 한다”고 말했다.', '■박기자씨 별세, 조수홍 NH투자증권 기업분석부장·명아 서울삼전초교 교사 모친상, 박상엽 LG CNS 클라우드사업부 빌드센터장 장모상, 봉선영 EY한영회계법인 금융사업본부 부문장 시모상=24일 서울성모병원. 발인 26일 오전 8시 (02)2258-5940\\n■류일하씨 별세, 김우호 인사혁신처장 장인상=23일 서안동농협 장례식장. 발인 25일 오전 8시30분 (054)854-9980\\n■김태혁씨 별세, 용식 인천대 도시건축학부 교수 부친상=23일 서울 한일병원. 발인 25일 오전 7시 (02)998-9123\\n부고/정리중', '2025년까지 공공 시스템 전면 클라우드 전환 등 성장 기회\\n클라우드 운영·관리하는 MSP도 국내 업체 성장 기대\\nKT는 한국 클라우드 산업 활성화를 내걸고 여러 기관과 중소기업들이 함께 하는 ‘클라우드 원팀’을 강조하고 있다. KT 제공\\n국내 클라우드 시장이 빠르게 성장하고 있다. 지난해부터 코로나19로 비대면 활동이 일상화되면서 클라우드 전환이 더 빨라졌다. 민간에선 아마존(AWS·아마존웹서비스)과 마이크로소프트(MS 애저), 구글(구글 클라우드) 등 미국 3사의 선점 효과가 크지만, 외국 회사들이 규제로 인해 진입하지 못하는 공공·금융·의료 영역을 국내 업체들이 ‘맞춤형 서비스’로 집중 공략하고 있다. 기존 회사의 IT(정보통신) 시스템을 클라우드로 전환하고 이후 운영·관리를 대신 하는 국내 업체(MSP)들도 점점 자신의 영역을 키워가고 있다.\\n클라우드는 각 회사·기관에 전산실과 서버를 두고 운영하던 예전 시스템에서 벗어나 여러 회사·기관이 외부의 거대한 서버에 접속해 함께 이용하는 ‘공유경제’ 서비스다. 기업 입장에선 자체 설비와 인력을 둘 필요가 없고, 갑작스런 접속 폭주에도 빠르게 대응할 수 있다. 업계에선 넷플릭스처럼 엄청난 데이터를 저장해야 하는 온라인동영상서비스(OTT)도 클라우드가 뒷받침됐기에 가능하다고 본다. 클라우드 인프라를 제공하는 서비스(IaaS·이아스)에선 아마존 32%, MS 19%, 구글 7%로 미국 3사가 세계 점유율 58%를 차지한다.\\n12일 시장조사업체 가트너에 따르면 국내 클라우드 시장 규모는 매년 15% 이상 성장해 내년엔 3조7000억원을 넘을 것으로 전망된다. 특히 코로나19를 거치면서 보편화된 재택근무, 온라인 쇼핑·교육이 클라우드 전환을 촉진했다.\\n국내에서도 민간 영역에선 미국 3사의 선호도가 높다. 자체 서버를 클라우드로 전환하는 생소한 시도에서 이미 안정적인 서비스로 검증된 업체를 선택하는 것이다.\\n국내 클라우드 업체들의 성장 발판이 돼 줄 곳은 공공·금융·의료기관 등 공공 영역이다. 민감한 국민 데이터가 많다보니 데이터를 국내에 보관해야 하는 등 규제가 많아 외국 업체엔 진입장벽이 높기 때문이다. 이들 업종의 특성을 이해하고, 개별 기업의 요구를 반영하는 면에서도 국내 업체들이 유리하다. 마침 공공 영역에선 대대적인 클라우드 전환이 추진 중이다. 코로나19 이후 백신 접종 예약 폭주와 학교 수업의 온라인 대체 등을 겪으며 전환 필요성을 절감했다. 행정안전부는 지난 7월 2025년까지 전국 행정기관과 공공기관이 운영중인 모든 정보시스템 1만9개를 클라우드로 전면 전환·통합하겠다고 밝혔다. 내년 예산만 약 2400억원으로, 정부가 클라우드 전환에 드는 비용과 초기 1년 이용료를 지원한다. 전체의 46%가 민간 클라우드를 이용하는데, KT, 네이버, NHN, 카카오 등의 경쟁이 치열하다.\\n최근 들어 서버 공간을 빌려주는 서비스(이아스)보다 소프트웨어(MS오피스, 구글미트 등)를 클라우드 상에서 제공하는 서비스형 소프트웨어(SaaS·사스) 시장이 전체 클라우드 시장의 절반 이상으로 커진 점, 기업·기관들이 하나의 클라우드 회사에 의존하지 않고, 다양한 업체에 맡기는 ‘멀티 클라우드’가 일반화되는 흐름도 국내 업체들에겐 반갑다. 업종별, 기업규모별 특화를 통해 ‘틈새시장’을 공략할 수 있기 때문이다.\\nKT는 네트워크 서비스를 함께 제공하는 통신사로서의 장점과 ‘클라우드 원팀’이란 이름으로 중소기업·스타트업 소프트웨어를 자사 클라우드에서 서비스하는 ‘상생’을 강점으로 내세운다. 네이버는 코로나19 이후 정부의 초·중·고등 온라인 교육과 코로나19 백신 예약 시스템을 안정적으로 운영한 경험을 강조한다. NHN은 광주 인공지능 데이터센터 등 지역 거점별로 전략적 협약을 추진해 지방자치단체의 지지를 받고 있다.\\n한국의 대표적인 클라우드 운영·관리업체(MSP)인 LG CNS가 대한항공 클라우드 커맨드센터에서 아마존(AWS)으로의 시스템 전환 완료를 알리고 있는 모습. LG CNS 제공\\n클라우드 시장이 커질 수록 기업과 클라우드 업체를 연결하는 MSP의 역할도 중요해지고 있다. 지난 9월 대한항공 IT 시스템을 클라우드로 성공적으로 이관한 LG CNS를 비롯해 SK C&C, 메가존클라우드, GS네오텍, 베스핀글로벌 등 다수의 국내 업체들이 MSP로 활동하고 있다. 한 MSP 업체 관계자는 “복잡해지는 클라우드를 제대로 활용하기 위해선 경험 많고 실력있는 MSP를 선택하는 것이 중요하다”며 “앞으로 MSP 시장도 점점 커질 것으로 예상된다”고 말했다.\\n클라우드공공업체', '사진 크게보기\\n민간서는 아마존·MS·구글 선호\\n공공·금융·의료, 외국업체 ‘규제’\\n백신 예약 폭주 등 전환 공감 늘며\\n정부 2025년 통합 목표…시장 확대\\nKT·네이버·NHN 등 ‘맞춤형’ 경쟁\\n국내 클라우드 시장이 코로나19로 비대면 활동이 일상화되면서 빠르게 성장하고 있다. 민간 영역은 아마존(AWS·아마존웹서비스)과 마이크로소프트(MS 애저), 구글(구글 클라우드) 등 미국 메이저들이 선점하고 있지만, 공공·금융·의료 영역은 국내 업체들이 ‘맞춤형 서비스’로 공략하고 있다.\\n클라우드는 각각의 업체나 기관에 전산실과 서버를 두고 운영하던 시스템에서 벗어나 여러 회사나 기관이 외부의 거대한 서버에 접속해 함께 이용하는 서비스를 말한다. 기업 입장에선 자체 설비와 인력을 둘 필요가 없고, 갑작스러운 접속 폭주에도 빠르게 대응할 수 있다. 업계에선 넷플릭스처럼 엄청난 데이터를 저장해야 하는 온라인동영상서비스(OTT)도 클라우드가 뒷받침됐기에 가능했다고 보고 있다. 클라우드 인프라를 제공하는 서비스(IaaS·이아스)의 경우 아마존(32%), MS(19%), 구글(7%) 등 미국 3사가 세계 시장 점유율의 58%를 차지하고 있다.\\n12일 시장조사업체 가트너에 따르면 국내 클라우드 시장 규모는 매년 15% 이상 성장, 내년에는 3조7000억원을 넘을 것으로 전망된다. 특히 코로나19를 거치면서 보편화된 재택근무, 온라인 쇼핑·교육이 클라우드 전환을 촉진했다.\\n국내에서도 민간 영역에선 미국 3사의 선호도가 높은 편이다. 자체 서버를 클라우드로 전환하는 과정에서 이미 검증된 업체를 선택한 것이다. 반면 국내 클라우드 업체들은 공공·금융·의료기관 등에서 성장 발판을 마련하고 있다. 공공 영역은 데이터를 국내에 보관해야 하는 등 규제가 많아 외국 업체로서는 진입장벽이 높기 때문이다.\\n공공 부문 업종의 특성을 이해하고, 개별 기업의 요구를 반영하는 면에서도 국내 업체들이 유리하다. 공공 영역의 대대적인 클라우드 전환이 추진 중인 것도 사업 확장에 도움이 되고 있다. 코로나19 백신 접종 예약 폭주 사태와 학교 수업 온라인 대체 등을 겪으면서 클라우드 전환의 필요성을 절감한 것이다. 행정안전부는 지난 7월 전국 행정기관과 공공기관이 운영 중인 모든 정보시스템 1만9개를 2025년까지 클라우드로 전면 전환·통합하겠다고 밝힌 바 있다. 이 사업은 전체의 46%가 민간 클라우드를 이용하며 KT, 네이버, NHN, 카카오 등이 경쟁을 벌이고 있다. 서버 공간을 빌려주는 서비스(이아스)보다 소프트웨어(MS오피스, 구글미트 등)를 클라우드상에서 제공하는 서비스형 소프트웨어(SaaS·사스) 시장이 클라우드 시장의 절반 이상으로 커진 점, 기업·기관들이 하나의 클라우드 회사에 의존치 않고 다양한 업체에 맡기는 ‘멀티 클라우드’ 일반화도 국내 업체들에는 도움이 된다. 업종별, 기업규모별 특화를 통해 ‘틈새시장’을 공략할 수 있기 때문이다.\\nKT는 네트워크 서비스를 함께 제공하는 통신사로서의 장점과 중소기업·스타트업 소프트웨어를 자사 클라우드에서 서비스하는 ‘상생’을 강점으로 내세운다. 네이버는 코로나19 이후 정부의 초·중·고교 온라인 교육과 코로나19 백신 예약 시스템을 안정적으로 운영한 경험을 강조하고 있다. NHN은 광주 인공지능 데이터센터 등 지역 거점별로 전략적 협약을 추진, 지방자치단체의 지지를 받고 있다.\\n클라우드 시장이 커질수록 서버 등을 클라우드로 전환하고 운영·관리를 대행해주는 국내 업체(MSP)들도 영역을 키워가고 있다. 지난 9월 대한항공 IT 시스템을 클라우드로 성공적으로 이관한 LG CNS를 비롯해 SK C&C, 메가존클라우드, GS네오텍, 베스핀글로벌 등 다수의 국내 업체들이 MSP로 활동 중이다.']\n",
      "['경향신문', '경향신문', '경향신문', '경향신문', '경향신문', '경향신문', '경향신문', '경향신문', '경향신문', '경향신문']\n"
     ]
    }
   ],
   "source": [
    "# 제목 & 링크 저장\n",
    "titles = driver.find_elements('css selector', 'a.news_tit')\n",
    "for i in titles:\n",
    "    title_list.append(i.text)\n",
    "\n",
    "for i in titles:\n",
    "    href = i.get_attribute('href')\n",
    "    link_list.append(href)\n",
    "\n",
    "print(title_list)\n",
    "print(link_list)\n",
    "time.sleep(1)\n",
    "\n",
    "# 날짜 & 본문 & 언론사 저장\n",
    "\n",
    "# 링크 들어가기\n",
    "for i in link_list:\n",
    "    driver.get(i)\n",
    "\n",
    "    if '1' == content_selector[-6]:\n",
    "        dates = driver.find_element('css selector', '#container > div.art_header.borderless > div.function_wrap > div.art_info > div > em:nth-child(1)').text\n",
    "        contents = driver.find_element('css selector','#articleBody').text\n",
    "        press_list.append('경향신문')\n",
    "        date_list.append(dates)\n",
    "        content_list.append(contents)\n",
    "\n",
    "    if '2' == content_selector[-6]:\n",
    "        dates = driver.find_element('css selector', '#sub > div.sub_header > div > div.nwsti > div > div.date > span').text\n",
    "        content = driver.find_element('css selector','#articleBody').text\n",
    "        press_list.append('국민일보')\n",
    "        date_list.append(dates)\n",
    "        content_list.append(contents)\n",
    "'''  \n",
    "if '3' == content_selector[-6]:\n",
    "    content = driver.find_element('css selector','#contents > p').text\n",
    "\n",
    "if '4' == content_selector[-6]:\n",
    "    content= driver.find_element('css selector','#article_txt').text\n",
    "\n",
    "if '5' == content_selector[-6]:\n",
    "    content = driver.find_element('css selector','#article-view-content-div').text\n",
    "\n",
    "if '6' == content_selector[-6]:\n",
    "    content = driver.find_element('css selector','#NewsAdContent').text\n",
    "\n",
    "if '7' == content_selector[-6]:\n",
    "    content = driver.find_element('css selector','#atic_txt1').text\n",
    "\n",
    "if '8' == content_selector[-6]:\n",
    "    content = driver.find_element('css selector','#contMain2').text\n",
    "\n",
    "if '9' == content_selector[-6]:\n",
    "    content = driver.find_element('css selector','#font').text\n",
    "\n",
    "if '10' == content_selector[-6]:\n",
    "    content = driver.find_element('css selector','#article-view-content-div').text\n",
    "\n",
    "if '11' == content_selector[-6]:\n",
    "    content = driver.find_element('css selector','#fusion-app > div.article.\\| > div:nth-child(2) > div > section > article > section').text\n",
    "\n",
    "if '12' == content_selector[-6]:\n",
    "    content = driver.find_element('css selector','#article_body').text\n",
    "\n",
    "if '13' == content_selector[-6]:\n",
    "    content = driver.find_element('css selector','#wrapper > div > div.container_wrap.article_cont_wrap > div.article_area > div.left_wrap > div').text\n",
    "\n",
    "if '14' == content_selector[-6]:\n",
    "    content = driver.find_element('css selector','#a-left-scroll-in > div.article-text > div > div.text').text\n",
    "\n",
    "if '15' == content_selector[-6]:\n",
    "    content = driver.find_element('css selector','body > div.wrap > div.container.end.end-uni > div.end-body > div > div.col-main.read').text\n",
    "\n",
    "else:\n",
    "    print('xxxxxxxxxxxxxxxxxxxxxxxxxxxxxxxxx')\n",
    "'''\n",
    "# 꺼주고\n",
    "# driver.quit()\n",
    "\n",
    "print(date_list)\n",
    "print(content_list)\n",
    "print(press_list)"
   ]
  },
  {
   "cell_type": "code",
   "execution_count": null,
   "id": "20a33f87",
   "metadata": {
    "ExecuteTime": {
     "end_time": "2022-09-21T17:03:09.680854Z",
     "start_time": "2022-09-21T17:03:09.656917Z"
    }
   },
   "outputs": [],
   "source": [
    "# 220922 문제점 : link_list가 업데이트 되는데 첫번째 index만 받아오니 오류가 나고 있는 상황\n",
    "# 1. csv로 빼 내고 다시 하는 방법\n",
    "link_list"
   ]
  },
  {
   "cell_type": "code",
   "execution_count": 22,
   "id": "0fb617b9",
   "metadata": {
    "ExecuteTime": {
     "end_time": "2022-09-23T06:20:06.288713Z",
     "start_time": "2022-09-23T06:20:06.276619Z"
    }
   },
   "outputs": [
    {
     "data": {
      "text/html": [
       "<div>\n",
       "<style scoped>\n",
       "    .dataframe tbody tr th:only-of-type {\n",
       "        vertical-align: middle;\n",
       "    }\n",
       "\n",
       "    .dataframe tbody tr th {\n",
       "        vertical-align: top;\n",
       "    }\n",
       "\n",
       "    .dataframe thead th {\n",
       "        text-align: right;\n",
       "    }\n",
       "</style>\n",
       "<table border=\"1\" class=\"dataframe\">\n",
       "  <thead>\n",
       "    <tr style=\"text-align: right;\">\n",
       "      <th></th>\n",
       "      <th>press</th>\n",
       "      <th>date</th>\n",
       "      <th>title</th>\n",
       "      <th>content</th>\n",
       "    </tr>\n",
       "  </thead>\n",
       "  <tbody>\n",
       "    <tr>\n",
       "      <th>0</th>\n",
       "      <td>경향신문</td>\n",
       "      <td>입력 : 2022.02.22 13:25</td>\n",
       "      <td>LG, 구글·우리은행·EBS와 초거대 AI 생태계 만든다</td>\n",
       "      <td>13개 기업 모인 ‘엑스퍼트 AI 얼라이언스’ 발족\\nLG그룹의 인공지능(AI) 전...</td>\n",
       "    </tr>\n",
       "    <tr>\n",
       "      <th>1</th>\n",
       "      <td>경향신문</td>\n",
       "      <td>입력 : 2022.04.29 15:39</td>\n",
       "      <td>삼성전자 노사협의회, 평균 9% 임금인상 합의…유급휴가 3일 신설</td>\n",
       "      <td>작년 대비 상승폭 1.5%포인트 커져\\n노조와의 임금협상은 아직 불투명\\n삼성전자 ...</td>\n",
       "    </tr>\n",
       "    <tr>\n",
       "      <th>2</th>\n",
       "      <td>경향신문</td>\n",
       "      <td>입력 : 2022.04.18 16:34</td>\n",
       "      <td>전자·IT 10%대 연봉 인상 속출…커지는 삼성전자의 고민</td>\n",
       "      <td>올해들어 주요 전자·IT(정보기술) 회사들이 연달아 임금을 10% 이상 인상하고 있...</td>\n",
       "    </tr>\n",
       "    <tr>\n",
       "      <th>3</th>\n",
       "      <td>경향신문</td>\n",
       "      <td>입력 : 2022.04.28 23:12</td>\n",
       "      <td>오늘의 부고 - 2022년 4월 29일</td>\n",
       "      <td>■김성수씨 별세, 재환 국민의힘 부장 부친상=28일 대구보훈병원. 발인 30일 오전...</td>\n",
       "    </tr>\n",
       "    <tr>\n",
       "      <th>4</th>\n",
       "      <td>경향신문</td>\n",
       "      <td>입력 : 2022.04.18 12:06</td>\n",
       "      <td>KT, 국내 최초 '블록체인 기반' 공인전자문서센터 운영키로</td>\n",
       "      <td>KT제공\\nKT는 국내 최초로 블록체인 기술을 활용한 ‘공인전자문서센터’ 지정인가를...</td>\n",
       "    </tr>\n",
       "    <tr>\n",
       "      <th>5</th>\n",
       "      <td>경향신문</td>\n",
       "      <td>입력 : 2022.04.03 13:59</td>\n",
       "      <td>은행은 왜 가상자산업 진출을 원하나</td>\n",
       "      <td>로이터연합뉴스\\n은행연합회가 윤석열 대통령 당선인 대통령직 인수위원회에 ‘은행의 가...</td>\n",
       "    </tr>\n",
       "    <tr>\n",
       "      <th>6</th>\n",
       "      <td>경향신문</td>\n",
       "      <td>입력 : 2022.02.16 17:07</td>\n",
       "      <td>두산도 NFT마켓 연다…치열해지는 국내 NFT 거래소 경쟁</td>\n",
       "      <td>두산이 대체불가토큰(NFT) 거래소 운영을 시작했다. 최근 국내외 유명 기업들이 연...</td>\n",
       "    </tr>\n",
       "    <tr>\n",
       "      <th>7</th>\n",
       "      <td>경향신문</td>\n",
       "      <td>입력 : 2022.01.24 21:50</td>\n",
       "      <td>오늘의 부고 - 2022년 1월 25일</td>\n",
       "      <td>■박기자씨 별세, 조수홍 NH투자증권 기업분석부장·명아 서울삼전초교 교사 모친상, ...</td>\n",
       "    </tr>\n",
       "    <tr>\n",
       "      <th>8</th>\n",
       "      <td>경향신문</td>\n",
       "      <td>입력 : 2021.12.12 16:53</td>\n",
       "      <td>국내 클라우드 업체는 ‘공공’의 날개로 난다</td>\n",
       "      <td>2025년까지 공공 시스템 전면 클라우드 전환 등 성장 기회\\n클라우드 운영·관리하...</td>\n",
       "    </tr>\n",
       "    <tr>\n",
       "      <th>9</th>\n",
       "      <td>경향신문</td>\n",
       "      <td>입력 : 2021.12.12 21:22</td>\n",
       "      <td>국내 클라우드 ‘공공’ 타고 뜬다</td>\n",
       "      <td>사진 크게보기\\n민간서는 아마존·MS·구글 선호\\n공공·금융·의료, 외국업체 ‘규제...</td>\n",
       "    </tr>\n",
       "  </tbody>\n",
       "</table>\n",
       "</div>"
      ],
      "text/plain": [
       "  press                   date                                 title  \\\n",
       "0  경향신문  입력 : 2022.02.22 13:25       LG, 구글·우리은행·EBS와 초거대 AI 생태계 만든다   \n",
       "1  경향신문  입력 : 2022.04.29 15:39  삼성전자 노사협의회, 평균 9% 임금인상 합의…유급휴가 3일 신설   \n",
       "2  경향신문  입력 : 2022.04.18 16:34      전자·IT 10%대 연봉 인상 속출…커지는 삼성전자의 고민   \n",
       "3  경향신문  입력 : 2022.04.28 23:12                 오늘의 부고 - 2022년 4월 29일   \n",
       "4  경향신문  입력 : 2022.04.18 12:06     KT, 국내 최초 '블록체인 기반' 공인전자문서센터 운영키로   \n",
       "5  경향신문  입력 : 2022.04.03 13:59                   은행은 왜 가상자산업 진출을 원하나   \n",
       "6  경향신문  입력 : 2022.02.16 17:07      두산도 NFT마켓 연다…치열해지는 국내 NFT 거래소 경쟁   \n",
       "7  경향신문  입력 : 2022.01.24 21:50                 오늘의 부고 - 2022년 1월 25일   \n",
       "8  경향신문  입력 : 2021.12.12 16:53              국내 클라우드 업체는 ‘공공’의 날개로 난다   \n",
       "9  경향신문  입력 : 2021.12.12 21:22                    국내 클라우드 ‘공공’ 타고 뜬다   \n",
       "\n",
       "                                             content  \n",
       "0  13개 기업 모인 ‘엑스퍼트 AI 얼라이언스’ 발족\\nLG그룹의 인공지능(AI) 전...  \n",
       "1  작년 대비 상승폭 1.5%포인트 커져\\n노조와의 임금협상은 아직 불투명\\n삼성전자 ...  \n",
       "2  올해들어 주요 전자·IT(정보기술) 회사들이 연달아 임금을 10% 이상 인상하고 있...  \n",
       "3  ■김성수씨 별세, 재환 국민의힘 부장 부친상=28일 대구보훈병원. 발인 30일 오전...  \n",
       "4  KT제공\\nKT는 국내 최초로 블록체인 기술을 활용한 ‘공인전자문서센터’ 지정인가를...  \n",
       "5  로이터연합뉴스\\n은행연합회가 윤석열 대통령 당선인 대통령직 인수위원회에 ‘은행의 가...  \n",
       "6  두산이 대체불가토큰(NFT) 거래소 운영을 시작했다. 최근 국내외 유명 기업들이 연...  \n",
       "7  ■박기자씨 별세, 조수홍 NH투자증권 기업분석부장·명아 서울삼전초교 교사 모친상, ...  \n",
       "8  2025년까지 공공 시스템 전면 클라우드 전환 등 성장 기회\\n클라우드 운영·관리하...  \n",
       "9  사진 크게보기\\n민간서는 아마존·MS·구글 선호\\n공공·금융·의료, 외국업체 ‘규제...  "
      ]
     },
     "execution_count": 22,
     "metadata": {},
     "output_type": "execute_result"
    }
   ],
   "source": [
    "df = pd.DataFrame(list(zip(press_list, date_list, title_list, content_list)), columns = ['press', 'date', 'title', 'content'])\n",
    "\n",
    "df"
   ]
  },
  {
   "cell_type": "code",
   "execution_count": 23,
   "id": "82aa58ab",
   "metadata": {
    "ExecuteTime": {
     "end_time": "2022-09-23T06:20:12.385969Z",
     "start_time": "2022-09-23T06:20:12.379697Z"
    }
   },
   "outputs": [],
   "source": [
    "df.to_csv('khan2.csv')"
   ]
  },
  {
   "cell_type": "code",
   "execution_count": null,
   "id": "376b3951",
   "metadata": {},
   "outputs": [],
   "source": [
    "# 일간지 본문 selector\n",
    "\n",
    "if \n",
    "\n",
    "#articleBody \n",
    "#articleBody\n",
    "#contents > p\n",
    "#article_txt\n",
    "#article-view-content-div\n",
    "#NewsAdContent\n",
    "#atic_txt1\n",
    "#contMain2\n",
    "#font\n",
    "#article-view-content-div\n",
    "#fusion-app > div.article.\\| > div:nth-child(2) > div > section > article > section\n",
    "#article_body\n",
    "#wrapper > div > div.container_wrap.article_cont_wrap > div.article_area > div.left_wrap > div\n",
    "#a-left-scroll-in > div.article-text > div > div.text\n",
    "## body > div.wrap > div.container.end.end-uni > div.end-body > div > div.col-main.read"
   ]
  },
  {
   "cell_type": "code",
   "execution_count": null,
   "id": "73580d39",
   "metadata": {
    "ExecuteTime": {
     "end_time": "2022-09-21T04:08:54.810222Z",
     "start_time": "2022-09-21T04:08:54.537277Z"
    },
    "scrolled": false
   },
   "outputs": [],
   "source": [
    "\n",
    "content_list = []\n",
    "# temp_list = []\n",
    "\n",
    "# for i in link_list:\n",
    "driver.get(link_list[1])\n",
    "time.sleep(0.01)\n",
    "content = driver.find_element('css selector','#article-view-content-div').text # 0, 2\n",
    "content = driver.find_element('css selector','#articleBody').text # 1, 14\n",
    "content = driver.find_element('css selector','#content > div.articleView > div.view > div.viewer > article').text # 3\n",
    "content = driver.find_element('css selector','#article').text # 4\n",
    "content = driver.find_element('css selector','#content_area').text # 5\n",
    "content = driver.find_element('css selector','#container > div.content > div.cont_main > div.cont_article').text # 6\n",
    "content = driver.find_element('css selector','#body_wrap > div.content').text # 7\n",
    "content = driver.find_element('css selector','#articleWrap > div.content01.scroll-article-zone01 > div > div > article').text # 8\n",
    "content = driver.find_element('css selector','#article_main').text # 9\n",
    "content = driver.find_element('css selector','#article_content').text # 10\n",
    "content = driver.find_element('css selector','#user-container > div.float-center.max-width-1080 > div.user-content > section > div').text # 11\n",
    "\n",
    "#wrapper > div.theme-white > section > section.news-article-wrap > div.news-article-wrapper > div.news-content > div  # 12\n",
    "#sub_con > div.contents_con.cf > div.left_con.layout_left_con > div > div > div.news_view_div > div.text_article_con > span > div  # 13\n",
    "#content  # 15\n",
    "#snsAnchor > div  # 16\n",
    "#rn_wrap > div > article > div > section:nth-child(5)  # 17\n",
    "#article-view > div.wrapper > section  # 18\n",
    "#v-left-scroll-in > div.article_con > div.con_left > div.article_view  # 19\n",
    "\n",
    "#articleBody\n",
    "#article_body\n",
    "#article_body\n",
    "#articleBody\n",
    "\n",
    "content_list.append(content)\n",
    "#     content_list = content_list + temp_list\n",
    "\n",
    "content_list\n",
    "    "
   ]
  },
  {
   "cell_type": "code",
   "execution_count": null,
   "id": "29c75234",
   "metadata": {
    "ExecuteTime": {
     "end_time": "2022-09-20T13:47:21.302722Z",
     "start_time": "2022-09-20T13:47:21.297722Z"
    }
   },
   "outputs": [],
   "source": [
    "content_list"
   ]
  },
  {
   "cell_type": "code",
   "execution_count": null,
   "id": "cf3b40f4",
   "metadata": {
    "ExecuteTime": {
     "end_time": "2022-09-20T10:29:03.673436Z",
     "start_time": "2022-09-20T10:29:01.241950Z"
    }
   },
   "outputs": [],
   "source": [
    "print(content_list.text)"
   ]
  },
  {
   "cell_type": "code",
   "execution_count": null,
   "id": "a62a6a1e",
   "metadata": {
    "ExecuteTime": {
     "end_time": "2022-09-19T17:36:57.874059Z",
     "start_time": "2022-09-19T17:36:57.836159Z"
    }
   },
   "outputs": [],
   "source": [
    "for _ in content_list:\n",
    "    print(_.text)"
   ]
  },
  {
   "cell_type": "code",
   "execution_count": null,
   "id": "deaa2577",
   "metadata": {
    "ExecuteTime": {
     "end_time": "2022-09-19T11:18:08.648804Z",
     "start_time": "2022-09-19T11:18:08.627800Z"
    }
   },
   "outputs": [],
   "source": [
    "'''\n",
    "# content\n",
    "content_list = []\n",
    "\n",
    "contents = driver.find_elements(\"css selector\", \"sp_nws1 > div > div > div.news_dsc > div > a\")\n",
    "temp_list = []\n",
    "for content in contents:\n",
    "    temp_list.append(context.text)\n",
    "    temp_list = [x for x in temp_list]\n",
    "content_list = content_list + temp_list\n",
    "content_list\n",
    "'''"
   ]
  },
  {
   "cell_type": "code",
   "execution_count": null,
   "id": "6c6b2837",
   "metadata": {},
   "outputs": [],
   "source": []
  }
 ],
 "metadata": {
  "kernelspec": {
   "display_name": "Python 3 (ipykernel)",
   "language": "python",
   "name": "python3"
  },
  "language_info": {
   "codemirror_mode": {
    "name": "ipython",
    "version": 3
   },
   "file_extension": ".py",
   "mimetype": "text/x-python",
   "name": "python",
   "nbconvert_exporter": "python",
   "pygments_lexer": "ipython3",
   "version": "3.8.13"
  },
  "toc": {
   "base_numbering": 1,
   "nav_menu": {},
   "number_sections": false,
   "sideBar": true,
   "skip_h1_title": false,
   "title_cell": "Table of Contents",
   "title_sidebar": "Contents",
   "toc_cell": false,
   "toc_position": {
    "height": "895px",
    "left": "69px",
    "top": "111.141px",
    "width": "165px"
   },
   "toc_section_display": true,
   "toc_window_display": false
  }
 },
 "nbformat": 4,
 "nbformat_minor": 5
}
