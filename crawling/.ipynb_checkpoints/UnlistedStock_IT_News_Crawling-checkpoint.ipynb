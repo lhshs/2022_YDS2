{
 "cells": [
  {
   "cell_type": "markdown",
   "id": "ad057284",
   "metadata": {},
   "source": [
    "# 크롤링 테스트"
   ]
  },
  {
   "cell_type": "code",
   "execution_count": 1,
   "id": "a75c3e83",
   "metadata": {
    "ExecuteTime": {
     "end_time": "2022-09-20T14:16:28.710721Z",
     "start_time": "2022-09-20T14:16:27.786222Z"
    }
   },
   "outputs": [],
   "source": [
    "# 라이브러리 import\n",
    "import os\n",
    "import pandas as pd\n",
    "import numpy as np\n",
    "import math \n",
    "\n",
    "# 셀레늄\n",
    "from selenium.webdriver.common.alert import Alert\n",
    "from selenium import webdriver  # 라이브러리(모듈) 가져오라\n",
    "# pip install chromedriver_autoinstaller\n",
    "from selenium.webdriver.common.keys import Keys\n",
    "from selenium.webdriver import ActionChains as AC\n",
    "\n",
    "# tqdm : for문 진행상황 체크\n",
    "from tqdm import tqdm, tqdm_notebook\n",
    "from tqdm.notebook import tqdm\n",
    "\n",
    "# 정규표현식(regular expression) : 문자(알파벳,한글), 숫자, 특수기호 정제 및 추출\n",
    "import re\n",
    "from time import sleep\n",
    "import time\n",
    "\n",
    "# 워닝 무시\n",
    "import warnings\n",
    "warnings.filterwarnings('ignore')\n",
    "\n",
    "from selenium.webdriver.common.by import By"
   ]
  },
  {
   "cell_type": "code",
   "execution_count": 2,
   "id": "264525a8",
   "metadata": {
    "ExecuteTime": {
     "end_time": "2022-09-20T14:16:31.337722Z",
     "start_time": "2022-09-20T14:16:28.715222Z"
    }
   },
   "outputs": [],
   "source": [
    "# IT : LGCNS(엘지씨엔에스), 아데나소프트웨어, 이브이알스튜디오(메타버스,), 씨유박스(얼굴인식, CUBOX)\n",
    "# 검색어 입력\n",
    "search = 'LGCNS'\n",
    "\n",
    "# 크롬 옵션\n",
    "options = webdriver.ChromeOptions()\n",
    "\n",
    "# 크롬 윈도우 사이즈 조절\n",
    "options.add_argument(\"--window-size=800,1200\") # window-size -> 기본 : 1920,1080\n",
    "\n",
    "import chromedriver_autoinstaller\n",
    "\n",
    "chrome_path = chromedriver_autoinstaller.install()\n",
    "driver = webdriver.Chrome(chrome_path, options=options)\n",
    "time.sleep(0.1)\n",
    "driver.get(\"https://www.naver.com\")\n",
    "# -> 네이버 크롬 창이 뜬다."
   ]
  },
  {
   "cell_type": "code",
   "execution_count": 3,
   "id": "22d3695d",
   "metadata": {
    "ExecuteTime": {
     "end_time": "2022-09-20T14:16:33.585220Z",
     "start_time": "2022-09-20T14:16:31.340222Z"
    }
   },
   "outputs": [],
   "source": [
    "# 네이버 검색어 입력 후 검색\n",
    "element = driver.find_element(\"name\", \"query\") \n",
    "element.clear()  # 혹시 검색창에 존재하는 텍스트 제거\n",
    "\n",
    "element.send_keys(search)  # 검색창에 검색어 전달\n",
    "element.submit()  # 검색 클릭\n",
    "time.sleep(1)"
   ]
  },
  {
   "cell_type": "code",
   "execution_count": 4,
   "id": "ac752f8e",
   "metadata": {
    "ExecuteTime": {
     "end_time": "2022-09-20T14:16:35.041727Z",
     "start_time": "2022-09-20T14:16:33.588222Z"
    }
   },
   "outputs": [],
   "source": [
    "# 뉴스 클릭\n",
    "driver.find_element(\"link text\", \"뉴스\").click() \n",
    "time.sleep(1)"
   ]
  },
  {
   "cell_type": "code",
   "execution_count": 5,
   "id": "4f8e1a47",
   "metadata": {
    "ExecuteTime": {
     "end_time": "2022-09-20T14:16:36.384223Z",
     "start_time": "2022-09-20T14:16:35.043721Z"
    }
   },
   "outputs": [],
   "source": [
    "# 옵션 클릭 후 '1년' 클릭\n",
    "driver.find_element(\"css selector\", \"#snb > div.api_group_option_filter._search_option_simple_wrap > div > div.option_filter > a\").click()  \n",
    "driver.find_element(\"css selector\", \"#snb > div.api_group_option_sort._search_option_detail_wrap > ul > li.bx.term > div > div.option > a:nth-child(8)\").click()  \n",
    "time.sleep(1)"
   ]
  },
  {
   "cell_type": "code",
   "execution_count": null,
   "id": "058c86fc",
   "metadata": {
    "ExecuteTime": {
     "end_time": "2022-09-20T14:03:57.796222Z",
     "start_time": "2022-09-20T14:03:57.512722Z"
    }
   },
   "outputs": [],
   "source": [
    "# 다음 페이지 클릭\n",
    "driver.find_element(\"css selector\", 'a.btn_next').click()"
   ]
  },
  {
   "cell_type": "code",
   "execution_count": null,
   "id": "69676876",
   "metadata": {
    "ExecuteTime": {
     "end_time": "2022-09-20T13:50:55.226721Z",
     "start_time": "2022-09-20T13:50:55.213728Z"
    }
   },
   "outputs": [],
   "source": [
    "'''\n",
    "# news list\n",
    "news_list = []\n",
    "\n",
    "newses = driver.find_elements('css selector', 'a.info.press')\n",
    "\n",
    "#sp_nws1 > div > div > div.news_info > div.info_group\n",
    "#sp_nws20 > div.news_wrap.api_ani_send > div > div.news_info > div.info_group > span:nth-child(3)\n",
    "temp_list = []\n",
    "for news in newses:\n",
    "    temp_list.append(news.text)\n",
    "    temp_list = [x for x in temp_list ]\n",
    "news_list = news_list + temp_list \n",
    "news_list\n",
    "'''"
   ]
  },
  {
   "cell_type": "code",
   "execution_count": 6,
   "id": "978646af",
   "metadata": {
    "ExecuteTime": {
     "end_time": "2022-09-20T14:16:41.022220Z",
     "start_time": "2022-09-20T14:16:40.871722Z"
    }
   },
   "outputs": [
    {
     "data": {
      "text/plain": [
       "['11시간 전',\n",
       " '35면 TOP',\n",
       " '1일 전',\n",
       " '1일 전',\n",
       " '2022.09.08.',\n",
       " '16시간 전',\n",
       " '7일 전',\n",
       " '2022.09.07.',\n",
       " '2022.08.31.',\n",
       " '2022.08.25.',\n",
       " '2022.09.08.']"
      ]
     },
     "execution_count": 6,
     "metadata": {},
     "output_type": "execute_result"
    }
   ],
   "source": [
    "# date list\n",
    "date_list = []\n",
    "\n",
    "dates = driver.find_elements('css selector', 'span.info')\n",
    "# dates = driver.find_elements('css selector', 'sp_nws1 > div > div > div.news_info > div.info_group > span:nth-child(2)')\n",
    "# dates = driver.find_elements('css selector', 'sp_nws1 > div > div > div.news_info > div.info_group > span:nth-child(3)')\n",
    "# sp_nws1 > div > div > div.news_info > div.info_group > span:nth-child(2)\n",
    "# sp_nws1 > div > div > div.news_info > div.info_group > span:nth-child(3)\n",
    "temp_list = []\n",
    "for date in dates:\n",
    "    temp_list.append(date.text)\n",
    "    temp_list = [x for x in temp_list ]\n",
    "date_list = date_list + temp_list \n",
    "date_list"
   ]
  },
  {
   "cell_type": "code",
   "execution_count": 7,
   "id": "cb3accd3",
   "metadata": {
    "ExecuteTime": {
     "end_time": "2022-09-20T14:16:42.775722Z",
     "start_time": "2022-09-20T14:16:42.640221Z"
    }
   },
   "outputs": [
    {
     "data": {
      "text/plain": [
       "['\"LG, 배당 · LG CNS 실적 기대\"...SK증권',\n",
       " '[테크코리아 우리가 이끈다]LG CNS',\n",
       " \"LG CNS, 26일까지 '하반기 신입사원' 모집\",\n",
       " 'LG CNS 하반기 신입사원 공채',\n",
       " \"[Invest]LG그룹 일감서 소외감 더 커진 NH證...'LG證 인연 끝났나'\",\n",
       " '취업문 열렸다…삼성·SK·현대차·LG 등 대기업 하반기 채용 돌입',\n",
       " \"'국방IT 사업 참여' LG CNS, KCTC 지체상금訴 일부 승소\",\n",
       " '2분기 최대 실적 냈지만 현금 안 들어오는 LG CNS…왜?',\n",
       " \"경남교육청-LG CNS, 인공지능 영어 교육 서비스 '맞손'\",\n",
       " '[더벨]LG CNS, 발빠른 클라우드 전환 이어 AM도 선두주자']"
      ]
     },
     "execution_count": 7,
     "metadata": {},
     "output_type": "execute_result"
    }
   ],
   "source": [
    "# title list\n",
    "title_list = []\n",
    "\n",
    "titles = driver.find_elements('css selector', 'a.news_tit')\n",
    "temp_list = []\n",
    "for title in titles:\n",
    "    temp_list.append(title.text)\n",
    "    temp_list = [x for x in temp_list]\n",
    "title_list = title_list + temp_list\n",
    "title_list\n"
   ]
  },
  {
   "cell_type": "code",
   "execution_count": 8,
   "id": "2eaba607",
   "metadata": {
    "ExecuteTime": {
     "end_time": "2022-09-20T14:16:44.230721Z",
     "start_time": "2022-09-20T14:16:44.111722Z"
    }
   },
   "outputs": [
    {
     "data": {
      "text/plain": [
       "['http://www.choicenews.co.kr/news/articleView.html?idxno=105283',\n",
       " 'https://www.etnews.com/20220914000224',\n",
       " 'http://www.iminju.net/news/articleView.html?idxno=80663',\n",
       " 'http://www.newsis.com/view/?id=NISX20220908_0002007482&cID=10406&pID=13100',\n",
       " 'http://www.investchosun.com/site/data/html_dir/2022/09/19/2022091981206.html',\n",
       " 'http://news.tf.co.kr/read/economy/1964668.htm',\n",
       " 'https://view.asiae.co.kr/article/2022090710312369241',\n",
       " 'http://www.bloter.net/newsView/blt202208310026',\n",
       " 'https://www.yna.co.kr/view/AKR20220825088600052?input=1195m',\n",
       " 'http://www.thebell.co.kr/front/free/contents/news/article_view.asp?key=202209052345021120102918']"
      ]
     },
     "execution_count": 8,
     "metadata": {},
     "output_type": "execute_result"
    }
   ],
   "source": [
    "# link list\n",
    "\n",
    "link_list = []\n",
    "\n",
    "temp_list = []\n",
    "for i in titles:\n",
    "    href = i.get_attribute('href')\n",
    "    link_list.append(href)\n",
    "    temp_list = [x for x in temp_list]\n",
    "    \n",
    "link_list"
   ]
  },
  {
   "cell_type": "code",
   "execution_count": null,
   "id": "99ed3e53",
   "metadata": {
    "ExecuteTime": {
     "end_time": "2022-09-20T13:50:55.605723Z",
     "start_time": "2022-09-20T13:50:55.600722Z"
    }
   },
   "outputs": [],
   "source": [
    "link_list[0]"
   ]
  },
  {
   "cell_type": "code",
   "execution_count": null,
   "id": "1c2e66be",
   "metadata": {
    "ExecuteTime": {
     "end_time": "2022-09-20T13:50:55.613722Z",
     "start_time": "2022-09-20T13:50:55.608722Z"
    }
   },
   "outputs": [],
   "source": [
    "# body_wrap > div.content\n",
    "# article_main\n",
    "# 언론사 별로 다른 기사 내용은 어떻게 짜야 하는가.."
   ]
  },
  {
   "cell_type": "code",
   "execution_count": null,
   "id": "cb646b4c",
   "metadata": {
    "ExecuteTime": {
     "end_time": "2022-09-20T13:50:55.623725Z",
     "start_time": "2022-09-20T13:50:55.617223Z"
    },
    "scrolled": false
   },
   "outputs": [],
   "source": [
    "# driver.get(link_list[0])"
   ]
  },
  {
   "cell_type": "code",
   "execution_count": null,
   "id": "f3bf9c0e",
   "metadata": {
    "ExecuteTime": {
     "end_time": "2022-09-20T13:50:55.634221Z",
     "start_time": "2022-09-20T13:50:55.628226Z"
    }
   },
   "outputs": [],
   "source": [
    "# for _ in link_list:\n",
    "#     print(_)"
   ]
  },
  {
   "cell_type": "code",
   "execution_count": 10,
   "id": "73580d39",
   "metadata": {
    "ExecuteTime": {
     "end_time": "2022-09-20T14:17:17.454723Z",
     "start_time": "2022-09-20T14:17:15.247723Z"
    },
    "scrolled": false
   },
   "outputs": [
    {
     "data": {
      "text/plain": [
       "[\"<LG CNS 직원과 모델들이 글로벌 SaaS 통합 플랫폼 SINGLEX(싱글렉스)를 소개하는 모습>\\nLG CNS는 국내 최고의 클라우드 관리서비스 제공사(MSP)로 평가받고 있다.\\n\\nLG CNS는 2019년부터 '퍼블릭 클라우드 퍼스트' 전략을 펼치며 아마존웹서비스(AWS), 마이크로소프트(MS), 구글 클라우드 등 글로벌 톱 클라우드 서비스 제공사(CSP)와 파트너십을 맺고 국내 클라우드 혁신을 주도하고 있다. 클라우드는 LG CNS의 핵심 사업영역 중 하나다.\\n\\n최근 LG CNS는 8개 LS계열사 시스템을 MS의 퍼블릭 클라우드 애저(Azure)로 전환하는 사업을 맡았다. 한화생명, NC소프트 등 외부 금융·게임사와 LG 계열사의 다양한 프로젝트를 수행하며 대형 클라우드 사업역량과 기술력을 입증했다.\\n\\nLG CNS의 MSP 경쟁력은 글로벌 CSP 기업에도 인정는다. LG CNS는 6월 'AWS 프리미어 티어 파트너' 자격을 획득했다. 이 자격은 AWS가 국가별 풍부한 클라우드 사업 경험을 보유한 파트너에게 제공하는 것이다. 구글 클라우드로부터는 지난해 국내 최초로 '머신러닝 전문기업(Machine Learning Specialization)' 인증을 획득했다.\\n\\n클라우드 대중화시대를 맞아 LG CNS는 클라우드 시장 경쟁력 강화에 더욱 박차를 가하고 있다. 이를 위해 LG CNS는 서비스형 소프트웨어(SaaS), 애플리케이션 현대화(AM) 등 차별화된 클라우드 서비스와 기술을 선보이며 고객의 DX 경험을 혁신 중이다.\\n\\nLG CNS는 클라우드 기반의 구독형 소프트웨어 사업을 본격 전개해 나가고 있다. 2월 영업, 제조, 구매, 인사 등 모든 비즈니스 영역의 글로벌 SaaS 서비스를 통합 제공하는 플랫폼 'SINGLEX(싱글렉스)'를 출시했다.\\n\\nAM 시장을 개척하는 첨병 역할도 톡톡히 해내고 있다. 약 300명의 AM 전문가로 구성된 LG CNS의 '클라우드네이티브론치(Launch)센터', '클라우드애플리케이션빌드센터' 조직은 금융, 제조, 이커머스 등 다양한 산업 분야에서 AM 신사업을 발굴하며 고객의 클라우드 경험 향상을 집중 지원하고 있다. 시장조사업체 IDC에 따르면 LG CNS는 지난해 국내에서 가장 많은 AM 프로젝트를 수행했다.\\n\\n안호천기자 hcan@etnews.com\\n[창간40주년 특집] 테크코리아 우리가 이끈다 <2>통신⋅ICT\"]"
      ]
     },
     "execution_count": 10,
     "metadata": {},
     "output_type": "execute_result"
    }
   ],
   "source": [
    "\n",
    "content_list = []\n",
    "# temp_list = []\n",
    "\n",
    "# for i in link_list:\n",
    "driver.get(link_list[1])\n",
    "time.sleep(0.01)\n",
    "# content = driver.find_element('css selector','#article-view-content-div').text # 0, 2\n",
    "content = driver.find_element('css selector','#articleBody').text # 1, 14\n",
    "# content = driver.find_element('css selector','#content > div.articleView > div.view > div.viewer > article').text # 3\n",
    "# content = driver.find_element('css selector','#article').text # 4\n",
    "# content = driver.find_element('css selector','#content_area').text # 5\n",
    "# content = driver.find_element('css selector','#container > div.content > div.cont_main > div.cont_article').text # 6\n",
    "# content = driver.find_element('css selector','#body_wrap > div.content').text # 7\n",
    "# content = driver.find_element('css selector','#articleWrap > div.content01.scroll-article-zone01 > div > div > article').text # 8\n",
    "# content = driver.find_element('css selector','#article_main').text # 9\n",
    "# content = driver.find_element('css selector','#article_content').text # 10\n",
    "# content = driver.find_element('css selector','#user-container > div.float-center.max-width-1080 > div.user-content > section > div').text # 11\n",
    "\n",
    "#wrapper > div.theme-white > section > section.news-article-wrap > div.news-article-wrapper > div.news-content > div  # 12\n",
    "#sub_con > div.contents_con.cf > div.left_con.layout_left_con > div > div > div.news_view_div > div.text_article_con > span > div  # 13\n",
    "#content  # 15\n",
    "#snsAnchor > div  # 16\n",
    "#rn_wrap > div > article > div > section:nth-child(5)  # 17\n",
    "#article-view > div.wrapper > section  # 18\n",
    "#v-left-scroll-in > div.article_con > div.con_left > div.article_view  # 19\n",
    "\n",
    "#articleBody\n",
    "#article_body\n",
    "#article_body\n",
    "#articleBody\n",
    "\n",
    "content_list.append(content)\n",
    "#     content_list = content_list + temp_list\n",
    "\n",
    "content_list\n",
    "    "
   ]
  },
  {
   "cell_type": "code",
   "execution_count": null,
   "id": "29c75234",
   "metadata": {
    "ExecuteTime": {
     "end_time": "2022-09-20T13:47:21.302722Z",
     "start_time": "2022-09-20T13:47:21.297722Z"
    }
   },
   "outputs": [],
   "source": [
    "content_list"
   ]
  },
  {
   "cell_type": "code",
   "execution_count": null,
   "id": "cf3b40f4",
   "metadata": {
    "ExecuteTime": {
     "end_time": "2022-09-20T10:29:03.673436Z",
     "start_time": "2022-09-20T10:29:01.241950Z"
    }
   },
   "outputs": [],
   "source": [
    "print(content_list.text)"
   ]
  },
  {
   "cell_type": "code",
   "execution_count": null,
   "id": "a62a6a1e",
   "metadata": {
    "ExecuteTime": {
     "end_time": "2022-09-19T17:36:57.874059Z",
     "start_time": "2022-09-19T17:36:57.836159Z"
    }
   },
   "outputs": [],
   "source": [
    "for _ in content_list:\n",
    "    print(_.text)"
   ]
  },
  {
   "cell_type": "code",
   "execution_count": null,
   "id": "deaa2577",
   "metadata": {
    "ExecuteTime": {
     "end_time": "2022-09-19T11:18:08.648804Z",
     "start_time": "2022-09-19T11:18:08.627800Z"
    }
   },
   "outputs": [],
   "source": [
    "'''\n",
    "# content\n",
    "content_list = []\n",
    "\n",
    "contents = driver.find_elements(\"css selector\", \"sp_nws1 > div > div > div.news_dsc > div > a\")\n",
    "temp_list = []\n",
    "for content in contents:\n",
    "    temp_list.append(context.text)\n",
    "    temp_list = [x for x in temp_list]\n",
    "content_list = content_list + temp_list\n",
    "content_list\n",
    "'''"
   ]
  },
  {
   "cell_type": "code",
   "execution_count": null,
   "id": "e70d9875",
   "metadata": {
    "ExecuteTime": {
     "start_time": "2022-09-20T14:16:13.406Z"
    }
   },
   "outputs": [],
   "source": [
    "# 웹 종료해주기!\n",
    "\n",
    "driver.quit()"
   ]
  },
  {
   "cell_type": "markdown",
   "id": "3780f714",
   "metadata": {},
   "source": [
    "# for문으로 크롤링 "
   ]
  },
  {
   "cell_type": "code",
   "execution_count": null,
   "id": "c838b67f",
   "metadata": {
    "ExecuteTime": {
     "end_time": "2022-07-27T02:48:09.155305Z",
     "start_time": "2022-07-27T02:47:59.903613Z"
    }
   },
   "outputs": [],
   "source": [
    "# 검색어 입력\n",
    "search = '삼성전자'\n",
    "\n",
    "# 크롬 옵션\n",
    "options = webdriver.ChromeOptions()\n",
    "\n",
    "# 크롬 윈도우 사이즈 조절\n",
    "options.add_argument(\"--window-size=1000,1200\") # window-size -> 기본 : 1920,1080\n",
    "\n",
    "import chromedriver_autoinstaller\n",
    "\n",
    "chrome_path = chromedriver_autoinstaller.install()\n",
    "driver = webdriver.Chrome(chrome_path, options=options)\n",
    "time.sleep(0.01)\n",
    "driver.get(\"https://www.naver.com\") # -> 네이버 크롬 창이 뜬다.\n",
    "\n",
    "# 네이버 검색어 입력 후 검색\n",
    "element = driver.find_element(\"name\", \"query\") \n",
    "element.clear()  # 혹시 검색창에 존재하는 텍스트 제거\n",
    "\n",
    "element.send_keys(search)  # 검색창에 검색어 전달\n",
    "element.submit()  # 검색 클릭\n",
    "time.sleep(0.01)"
   ]
  },
  {
   "cell_type": "code",
   "execution_count": null,
   "id": "746a5ad1",
   "metadata": {
    "ExecuteTime": {
     "end_time": "2022-07-27T02:48:36.438495Z",
     "start_time": "2022-07-27T02:48:35.284961Z"
    }
   },
   "outputs": [],
   "source": [
    "# 뉴스 클릭\n",
    "driver.find_element(\"link text\", \"뉴스\").click() \n",
    "time.sleep(0.01)"
   ]
  },
  {
   "cell_type": "code",
   "execution_count": null,
   "id": "62e6071d",
   "metadata": {
    "ExecuteTime": {
     "end_time": "2022-07-27T02:48:37.608396Z",
     "start_time": "2022-07-27T02:48:36.440169Z"
    }
   },
   "outputs": [],
   "source": [
    "# '오래된 순' 클릭\n",
    "driver.find_element(\"link text\", \"오래된순\").click()  \n",
    "time.sleep(0.01)"
   ]
  },
  {
   "cell_type": "code",
   "execution_count": null,
   "id": "248a9a92",
   "metadata": {
    "ExecuteTime": {
     "start_time": "2022-07-27T05:58:39.905Z"
    },
    "scrolled": true
   },
   "outputs": [],
   "source": [
    "# 뉴스 데이터 수집\n",
    "# news_list = []\n",
    "# date_list = []\n",
    "# title_list = []\n",
    "\n",
    "for i in range(200):    \n",
    "\n",
    "    # 언론사\n",
    "    newses = driver.find_elements('css selector', 'a.info.press')\n",
    "    temp_list = []\n",
    "    for news in newses:\n",
    "        temp_list.append(news.text)\n",
    "        temp_list = [x for x in temp_list ]\n",
    "    news_list = news_list + temp_list \n",
    "    \n",
    "    # 날짜\n",
    "    dates = driver.find_elements('css selector', 'span.info')\n",
    "    temp_list = []\n",
    "    for date in dates:\n",
    "        temp_list.append(date.text)\n",
    "        temp_list = [x for x in temp_list ]\n",
    "    date_list = date_list + temp_list \n",
    "    \n",
    "    # 제목\n",
    "    titles = driver.find_elements('css selector', 'a.news_tit')\n",
    "    temp_list = []\n",
    "    for title in titles:\n",
    "        temp_list.append(title.text)\n",
    "        temp_list = [x for x in temp_list ]\n",
    "    title_list = title_list + temp_list \n",
    "    \n",
    "    # 필모 다음페이지 클릭\n",
    "    driver.find_element('css selector', 'a.btn_next').click()\n",
    "    time.sleep(0.001)\n",
    "\n",
    "print(len(title_list))\n",
    "print(news_list)\n",
    "print(date_list)\n",
    "print(title_list)"
   ]
  },
  {
   "cell_type": "code",
   "execution_count": null,
   "id": "15c35e07",
   "metadata": {
    "ExecuteTime": {
     "end_time": "2022-07-27T05:53:49.978763Z",
     "start_time": "2022-07-27T05:53:49.971582Z"
    }
   },
   "outputs": [],
   "source": [
    "len(date_list)"
   ]
  },
  {
   "cell_type": "code",
   "execution_count": null,
   "id": "f5a1769f",
   "metadata": {
    "ExecuteTime": {
     "end_time": "2022-09-19T11:26:45.176550Z",
     "start_time": "2022-09-19T11:26:45.170551Z"
    }
   },
   "outputs": [],
   "source": [
    "date_list"
   ]
  },
  {
   "cell_type": "code",
   "execution_count": null,
   "id": "41363e7a",
   "metadata": {
    "ExecuteTime": {
     "end_time": "2022-09-19T11:27:34.014344Z",
     "start_time": "2022-09-19T11:27:33.987844Z"
    }
   },
   "outputs": [],
   "source": [
    "# df로 만들기\n",
    "\n",
    "df = pd.DataFrame(list(zip(date_list, link_list, title_list)), columns = ['date','link', 'title'])\n",
    "\n",
    "df\n",
    "# df.to_csv('2004.csv')"
   ]
  },
  {
   "cell_type": "code",
   "execution_count": null,
   "id": "2625a020",
   "metadata": {
    "ExecuteTime": {
     "end_time": "2022-09-19T11:28:57.826351Z",
     "start_time": "2022-09-19T11:28:57.821350Z"
    }
   },
   "outputs": [],
   "source": [
    "df.link[1]"
   ]
  },
  {
   "cell_type": "code",
   "execution_count": null,
   "id": "5e321342",
   "metadata": {
    "ExecuteTime": {
     "end_time": "2022-07-27T03:06:07.676602Z",
     "start_time": "2022-07-27T03:06:07.660910Z"
    },
    "scrolled": false
   },
   "outputs": [],
   "source": [
    "df[-150:-100]"
   ]
  },
  {
   "cell_type": "code",
   "execution_count": null,
   "id": "6c6b2837",
   "metadata": {},
   "outputs": [],
   "source": []
  }
 ],
 "metadata": {
  "kernelspec": {
   "display_name": "Python 3 (ipykernel)",
   "language": "python",
   "name": "python3"
  },
  "language_info": {
   "codemirror_mode": {
    "name": "ipython",
    "version": 3
   },
   "file_extension": ".py",
   "mimetype": "text/x-python",
   "name": "python",
   "nbconvert_exporter": "python",
   "pygments_lexer": "ipython3",
   "version": "3.9.12"
  },
  "toc": {
   "base_numbering": 1,
   "nav_menu": {},
   "number_sections": false,
   "sideBar": true,
   "skip_h1_title": false,
   "title_cell": "Table of Contents",
   "title_sidebar": "Contents",
   "toc_cell": false,
   "toc_position": {
    "height": "895px",
    "left": "69px",
    "top": "111.141px",
    "width": "165px"
   },
   "toc_section_display": true,
   "toc_window_display": false
  }
 },
 "nbformat": 4,
 "nbformat_minor": 5
}
