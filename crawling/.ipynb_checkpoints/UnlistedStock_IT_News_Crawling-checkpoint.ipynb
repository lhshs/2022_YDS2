{
 "cells": [
  {
   "cell_type": "markdown",
   "id": "ad057284",
   "metadata": {},
   "source": [
    "# 크롤링 테스트"
   ]
  },
  {
   "cell_type": "code",
   "execution_count": 14,
   "id": "a75c3e83",
   "metadata": {
    "ExecuteTime": {
     "end_time": "2022-09-19T18:00:19.035175Z",
     "start_time": "2022-09-19T18:00:19.013234Z"
    }
   },
   "outputs": [],
   "source": [
    "# 라이브러리 import\n",
    "import os\n",
    "import pandas as pd\n",
    "import numpy as np\n",
    "import math \n",
    "\n",
    "# 셀레늄\n",
    "from selenium.webdriver.common.alert import Alert\n",
    "from selenium import webdriver  # 라이브러리(모듈) 가져오라\n",
    "# pip install chromedriver_autoinstaller\n",
    "from selenium.webdriver.common.keys import Keys\n",
    "from selenium.webdriver import ActionChains as AC\n",
    "\n",
    "# tqdm : for문 진행상황 체크\n",
    "from tqdm import tqdm, tqdm_notebook\n",
    "from tqdm.notebook import tqdm\n",
    "\n",
    "# 정규표현식(regular expression) : 문자(알파벳,한글), 숫자, 특수기호 정제 및 추출\n",
    "import re\n",
    "from time import sleep\n",
    "import time\n",
    "\n",
    "# 워닝 무시\n",
    "import warnings\n",
    "warnings.filterwarnings('ignore')\n",
    "\n",
    "from selenium.webdriver.common.by import By"
   ]
  },
  {
   "cell_type": "code",
   "execution_count": 15,
   "id": "264525a8",
   "metadata": {
    "ExecuteTime": {
     "end_time": "2022-09-19T18:00:22.859660Z",
     "start_time": "2022-09-19T18:00:19.041164Z"
    }
   },
   "outputs": [],
   "source": [
    "# IT : LGCNS(엘지씨엔에스), 아데나소프트웨어, 이브이알스튜디오(메타버스,), 씨유박스(얼굴인식, CUBOX)\n",
    "# 검색어 입력\n",
    "search = 'LGCNS'\n",
    "\n",
    "# 크롬 옵션\n",
    "options = webdriver.ChromeOptions()\n",
    "\n",
    "# 크롬 윈도우 사이즈 조절\n",
    "options.add_argument(\"--window-size=800,1200\") # window-size -> 기본 : 1920,1080\n",
    "\n",
    "import chromedriver_autoinstaller\n",
    "\n",
    "chrome_path = chromedriver_autoinstaller.install()\n",
    "driver = webdriver.Chrome(chrome_path, options=options)\n",
    "time.sleep(0.1)\n",
    "driver.get(\"https://www.naver.com\")\n",
    "# -> 네이버 크롬 창이 뜬다."
   ]
  },
  {
   "cell_type": "code",
   "execution_count": 16,
   "id": "22d3695d",
   "metadata": {
    "ExecuteTime": {
     "end_time": "2022-09-19T18:00:25.611227Z",
     "start_time": "2022-09-19T18:00:22.863649Z"
    }
   },
   "outputs": [],
   "source": [
    "# 네이버 검색어 입력 후 검색\n",
    "element = driver.find_element(\"name\", \"query\") \n",
    "element.clear()  # 혹시 검색창에 존재하는 텍스트 제거\n",
    "\n",
    "element.send_keys(search)  # 검색창에 검색어 전달\n",
    "element.submit()  # 검색 클릭\n",
    "time.sleep(1)"
   ]
  },
  {
   "cell_type": "code",
   "execution_count": 17,
   "id": "ac752f8e",
   "metadata": {
    "ExecuteTime": {
     "end_time": "2022-09-19T18:00:27.201464Z",
     "start_time": "2022-09-19T18:00:25.614164Z"
    }
   },
   "outputs": [],
   "source": [
    "# 뉴스 클릭\n",
    "driver.find_element(\"link text\", \"뉴스\").click() \n",
    "time.sleep(1)"
   ]
  },
  {
   "cell_type": "code",
   "execution_count": 18,
   "id": "4f8e1a47",
   "metadata": {
    "ExecuteTime": {
     "end_time": "2022-09-19T18:00:28.801056Z",
     "start_time": "2022-09-19T18:00:27.204457Z"
    }
   },
   "outputs": [],
   "source": [
    "# 옵션 클릭 후 '1년' 클릭\n",
    "driver.find_element(\"css selector\", \"#snb > div.api_group_option_filter._search_option_simple_wrap > div > div.option_filter > a\").click()  \n",
    "driver.find_element(\"css selector\", \"#snb > div.api_group_option_sort._search_option_detail_wrap > ul > li.bx.term > div > div.option > a:nth-child(8)\").click()  \n",
    "time.sleep(1)"
   ]
  },
  {
   "cell_type": "code",
   "execution_count": 19,
   "id": "69676876",
   "metadata": {
    "ExecuteTime": {
     "end_time": "2022-09-19T18:00:28.816017Z",
     "start_time": "2022-09-19T18:00:28.805053Z"
    }
   },
   "outputs": [
    {
     "data": {
      "text/plain": [
       "\"\\n# news list\\nnews_list = []\\n\\nnewses = driver.find_elements('css selector', 'a.info.press')\\n\\n#sp_nws1 > div > div > div.news_info > div.info_group\\n#sp_nws20 > div.news_wrap.api_ani_send > div > div.news_info > div.info_group > span:nth-child(3)\\ntemp_list = []\\nfor news in newses:\\n    temp_list.append(news.text)\\n    temp_list = [x for x in temp_list ]\\nnews_list = news_list + temp_list \\nnews_list\\n\""
      ]
     },
     "execution_count": 19,
     "metadata": {},
     "output_type": "execute_result"
    }
   ],
   "source": [
    "'''\n",
    "# news list\n",
    "news_list = []\n",
    "\n",
    "newses = driver.find_elements('css selector', 'a.info.press')\n",
    "\n",
    "#sp_nws1 > div > div > div.news_info > div.info_group\n",
    "#sp_nws20 > div.news_wrap.api_ani_send > div > div.news_info > div.info_group > span:nth-child(3)\n",
    "temp_list = []\n",
    "for news in newses:\n",
    "    temp_list.append(news.text)\n",
    "    temp_list = [x for x in temp_list ]\n",
    "news_list = news_list + temp_list \n",
    "news_list\n",
    "'''"
   ]
  },
  {
   "cell_type": "code",
   "execution_count": 20,
   "id": "978646af",
   "metadata": {
    "ExecuteTime": {
     "end_time": "2022-09-19T18:00:29.035275Z",
     "start_time": "2022-09-19T18:00:28.822002Z"
    }
   },
   "outputs": [
    {
     "data": {
      "text/plain": [
       "['35면 TOP',\n",
       " '10시간 전',\n",
       " '15시간 전',\n",
       " '2022.09.08.',\n",
       " '6일 전',\n",
       " '2022.09.07.',\n",
       " '2022.08.31.',\n",
       " '2022.08.25.',\n",
       " '2022.09.08.',\n",
       " '15면 1단',\n",
       " '2022.08.29.',\n",
       " '2022.08.31.']"
      ]
     },
     "execution_count": 20,
     "metadata": {},
     "output_type": "execute_result"
    }
   ],
   "source": [
    "# date list\n",
    "date_list = []\n",
    "\n",
    "dates = driver.find_elements('css selector', 'span.info')\n",
    "# dates = driver.find_elements('css selector', 'sp_nws1 > div > div > div.news_info > div.info_group > span:nth-child(2)')\n",
    "# dates = driver.find_elements('css selector', 'sp_nws1 > div > div > div.news_info > div.info_group > span:nth-child(3)')\n",
    "# sp_nws1 > div > div > div.news_info > div.info_group > span:nth-child(2)\n",
    "# sp_nws1 > div > div > div.news_info > div.info_group > span:nth-child(3)\n",
    "temp_list = []\n",
    "for date in dates:\n",
    "    temp_list.append(date.text)\n",
    "    temp_list = [x for x in temp_list ]\n",
    "date_list = date_list + temp_list \n",
    "date_list"
   ]
  },
  {
   "cell_type": "code",
   "execution_count": 21,
   "id": "cb3accd3",
   "metadata": {
    "ExecuteTime": {
     "end_time": "2022-09-19T18:00:29.191643Z",
     "start_time": "2022-09-19T18:00:29.039265Z"
    }
   },
   "outputs": [
    {
     "data": {
      "text/plain": [
       "['[테크코리아 우리가 이끈다]LG CNS',\n",
       " \"LG CNS, 26일까지 '하반기 신입사원' 모집\",\n",
       " 'LG CNS 하반기 신입사원 공채',\n",
       " '취업문 열렸다…삼성·SK·현대차·LG 등 대기업 하반기 채용 돌입',\n",
       " \"'국방IT 사업 참여' LG CNS, KCTC 지체상금訴 일부 승소\",\n",
       " '2분기 최대 실적 냈지만 현금 안 들어오는 LG CNS…왜?',\n",
       " \"경남교육청-LG CNS, 인공지능 영어 교육 서비스 '맞손'\",\n",
       " '[더벨]LG CNS, 발빠른 클라우드 전환 이어 AM도 선두주자',\n",
       " 'LG CNS 디지털전환 해결사 ‘CAO 조직’',\n",
       " '키넥시스, LG CNS와 클라우드 기반 SCM 솔루션 공급 맞손']"
      ]
     },
     "execution_count": 21,
     "metadata": {},
     "output_type": "execute_result"
    }
   ],
   "source": [
    "# title list\n",
    "title_list = []\n",
    "\n",
    "titles = driver.find_elements('css selector', 'a.news_tit')\n",
    "temp_list = []\n",
    "for title in titles:\n",
    "    temp_list.append(title.text)\n",
    "    temp_list = [x for x in temp_list]\n",
    "title_list = title_list + temp_list\n",
    "title_list\n"
   ]
  },
  {
   "cell_type": "code",
   "execution_count": 22,
   "id": "2eaba607",
   "metadata": {
    "ExecuteTime": {
     "end_time": "2022-09-19T18:00:31.420863Z",
     "start_time": "2022-09-19T18:00:29.193609Z"
    }
   },
   "outputs": [
    {
     "data": {
      "text/plain": [
       "['https://www.etnews.com/20220914000224',\n",
       " 'http://www.iminju.net/news/articleView.html?idxno=80663',\n",
       " 'http://www.newsis.com/view/?id=NISX20220908_0002007482&cID=10406&pID=13100',\n",
       " 'http://news.tf.co.kr/read/economy/1964668.htm',\n",
       " 'https://view.asiae.co.kr/article/2022090710312369241',\n",
       " 'http://www.bloter.net/newsView/blt202208310026',\n",
       " 'https://www.yna.co.kr/view/AKR20220825088600052?input=1195m',\n",
       " 'http://www.thebell.co.kr/front/free/contents/news/article_view.asp?key=202209052345021120102918',\n",
       " 'http://www.fnnews.com/news/202208291804426409',\n",
       " 'http://www.datanet.co.kr/news/articleView.html?idxno=175984']"
      ]
     },
     "execution_count": 22,
     "metadata": {},
     "output_type": "execute_result"
    }
   ],
   "source": [
    "# link list\n",
    "\n",
    "link_list = []\n",
    "\n",
    "temp_list = []\n",
    "for i in titles:\n",
    "    href = i.get_attribute('href')\n",
    "    link_list.append(href)\n",
    "    temp_list = [x for x in temp_list]\n",
    "    \n",
    "link_list"
   ]
  },
  {
   "cell_type": "code",
   "execution_count": 23,
   "id": "99ed3e53",
   "metadata": {
    "ExecuteTime": {
     "end_time": "2022-09-19T18:00:31.435824Z",
     "start_time": "2022-09-19T18:00:31.424854Z"
    }
   },
   "outputs": [
    {
     "data": {
      "text/plain": [
       "'https://www.etnews.com/20220914000224'"
      ]
     },
     "execution_count": 23,
     "metadata": {},
     "output_type": "execute_result"
    }
   ],
   "source": [
    "link_list[0]"
   ]
  },
  {
   "cell_type": "code",
   "execution_count": 24,
   "id": "1c2e66be",
   "metadata": {
    "ExecuteTime": {
     "end_time": "2022-09-19T18:00:31.467739Z",
     "start_time": "2022-09-19T18:00:31.449786Z"
    }
   },
   "outputs": [],
   "source": [
    "# body_wrap > div.content\n",
    "# article_main\n",
    "# 언론사 별로 다른 기사 내용은 어떻게 짜야 하는가.."
   ]
  },
  {
   "cell_type": "code",
   "execution_count": 25,
   "id": "cb646b4c",
   "metadata": {
    "ExecuteTime": {
     "end_time": "2022-09-19T18:00:52.982781Z",
     "start_time": "2022-09-19T18:00:31.472725Z"
    },
    "scrolled": false
   },
   "outputs": [],
   "source": [
    "# driver.get(link_list[0])"
   ]
  },
  {
   "cell_type": "code",
   "execution_count": 26,
   "id": "f3bf9c0e",
   "metadata": {
    "ExecuteTime": {
     "end_time": "2022-09-19T18:00:52.997739Z",
     "start_time": "2022-09-19T18:00:52.985772Z"
    }
   },
   "outputs": [
    {
     "name": "stdout",
     "output_type": "stream",
     "text": [
      "https://www.etnews.com/20220914000224\n",
      "http://www.iminju.net/news/articleView.html?idxno=80663\n",
      "http://www.newsis.com/view/?id=NISX20220908_0002007482&cID=10406&pID=13100\n",
      "http://news.tf.co.kr/read/economy/1964668.htm\n",
      "https://view.asiae.co.kr/article/2022090710312369241\n",
      "http://www.bloter.net/newsView/blt202208310026\n",
      "https://www.yna.co.kr/view/AKR20220825088600052?input=1195m\n",
      "http://www.thebell.co.kr/front/free/contents/news/article_view.asp?key=202209052345021120102918\n",
      "http://www.fnnews.com/news/202208291804426409\n",
      "http://www.datanet.co.kr/news/articleView.html?idxno=175984\n"
     ]
    }
   ],
   "source": [
    "# for _ in link_list:\n",
    "#     print(_)"
   ]
  },
  {
   "cell_type": "code",
   "execution_count": null,
   "id": "73580d39",
   "metadata": {
    "ExecuteTime": {
     "start_time": "2022-09-19T18:00:45.464Z"
    },
    "scrolled": true
   },
   "outputs": [],
   "source": [
    "\n",
    "content_list = []\n",
    "# temp_list = []\n",
    "\n",
    "for i in link_list:\n",
    "    driver.get(i)\n",
    "    time.sleep(0.01)\n",
    "    content = driver.find_elements(By.XPATH,'//*[@id=\"articleBody\"]/p')\n",
    "    #articleBody > p\n",
    "#     /html/body/section/section/article/div[3]/div/p\n",
    "#     //*[@id=\"articleBody\"]/p\n",
    "    content_list.append(content)\n",
    "#     content_list = content_list + temp_list\n",
    "\n",
    "content_list\n",
    "    "
   ]
  },
  {
   "cell_type": "code",
   "execution_count": null,
   "id": "29c75234",
   "metadata": {
    "ExecuteTime": {
     "start_time": "2022-09-19T17:59:33.360Z"
    }
   },
   "outputs": [],
   "source": [
    "content_list"
   ]
  },
  {
   "cell_type": "code",
   "execution_count": null,
   "id": "cf3b40f4",
   "metadata": {
    "ExecuteTime": {
     "end_time": "2022-09-19T17:44:34.761763Z",
     "start_time": "2022-09-19T17:44:34.750793Z"
    }
   },
   "outputs": [],
   "source": [
    "print(content_list)"
   ]
  },
  {
   "cell_type": "code",
   "execution_count": null,
   "id": "a62a6a1e",
   "metadata": {
    "ExecuteTime": {
     "end_time": "2022-09-19T17:36:57.874059Z",
     "start_time": "2022-09-19T17:36:57.836159Z"
    }
   },
   "outputs": [],
   "source": [
    "for _ in content_list:\n",
    "    print(_.text)"
   ]
  },
  {
   "cell_type": "code",
   "execution_count": null,
   "id": "deaa2577",
   "metadata": {
    "ExecuteTime": {
     "end_time": "2022-09-19T11:18:08.648804Z",
     "start_time": "2022-09-19T11:18:08.627800Z"
    }
   },
   "outputs": [],
   "source": [
    "'''\n",
    "# content\n",
    "content_list = []\n",
    "\n",
    "contents = driver.find_elements(\"css selector\", \"sp_nws1 > div > div > div.news_dsc > div > a\")\n",
    "temp_list = []\n",
    "for content in contents:\n",
    "    temp_list.append(context.text)\n",
    "    temp_list = [x for x in temp_list]\n",
    "content_list = content_list + temp_list\n",
    "content_list\n",
    "'''"
   ]
  },
  {
   "cell_type": "code",
   "execution_count": null,
   "id": "e70d9875",
   "metadata": {
    "ExecuteTime": {
     "end_time": "2022-09-19T17:00:42.669958Z",
     "start_time": "2022-09-19T17:00:40.372116Z"
    }
   },
   "outputs": [],
   "source": [
    "# 웹 종료해주기!\n",
    "\n",
    "driver.quit()"
   ]
  },
  {
   "cell_type": "markdown",
   "id": "3780f714",
   "metadata": {},
   "source": [
    "# for문으로 크롤링 "
   ]
  },
  {
   "cell_type": "code",
   "execution_count": null,
   "id": "c838b67f",
   "metadata": {
    "ExecuteTime": {
     "end_time": "2022-07-27T02:48:09.155305Z",
     "start_time": "2022-07-27T02:47:59.903613Z"
    }
   },
   "outputs": [],
   "source": [
    "# 검색어 입력\n",
    "search = '삼성전자'\n",
    "\n",
    "# 크롬 옵션\n",
    "options = webdriver.ChromeOptions()\n",
    "\n",
    "# 크롬 윈도우 사이즈 조절\n",
    "options.add_argument(\"--window-size=1000,1200\") # window-size -> 기본 : 1920,1080\n",
    "\n",
    "import chromedriver_autoinstaller\n",
    "\n",
    "chrome_path = chromedriver_autoinstaller.install()\n",
    "driver = webdriver.Chrome(chrome_path, options=options)\n",
    "time.sleep(0.01)\n",
    "driver.get(\"https://www.naver.com\") # -> 네이버 크롬 창이 뜬다.\n",
    "\n",
    "# 네이버 검색어 입력 후 검색\n",
    "element = driver.find_element(\"name\", \"query\") \n",
    "element.clear()  # 혹시 검색창에 존재하는 텍스트 제거\n",
    "\n",
    "element.send_keys(search)  # 검색창에 검색어 전달\n",
    "element.submit()  # 검색 클릭\n",
    "time.sleep(0.01)"
   ]
  },
  {
   "cell_type": "code",
   "execution_count": null,
   "id": "746a5ad1",
   "metadata": {
    "ExecuteTime": {
     "end_time": "2022-07-27T02:48:36.438495Z",
     "start_time": "2022-07-27T02:48:35.284961Z"
    }
   },
   "outputs": [],
   "source": [
    "# 뉴스 클릭\n",
    "driver.find_element(\"link text\", \"뉴스\").click() \n",
    "time.sleep(0.01)"
   ]
  },
  {
   "cell_type": "code",
   "execution_count": null,
   "id": "62e6071d",
   "metadata": {
    "ExecuteTime": {
     "end_time": "2022-07-27T02:48:37.608396Z",
     "start_time": "2022-07-27T02:48:36.440169Z"
    }
   },
   "outputs": [],
   "source": [
    "# '오래된 순' 클릭\n",
    "driver.find_element(\"link text\", \"오래된순\").click()  \n",
    "time.sleep(0.01)"
   ]
  },
  {
   "cell_type": "code",
   "execution_count": null,
   "id": "248a9a92",
   "metadata": {
    "ExecuteTime": {
     "start_time": "2022-07-27T05:58:39.905Z"
    },
    "scrolled": true
   },
   "outputs": [],
   "source": [
    "# 뉴스 데이터 수집\n",
    "# news_list = []\n",
    "# date_list = []\n",
    "# title_list = []\n",
    "\n",
    "for i in range(200):    \n",
    "\n",
    "    # 언론사\n",
    "    newses = driver.find_elements('css selector', 'a.info.press')\n",
    "    temp_list = []\n",
    "    for news in newses:\n",
    "        temp_list.append(news.text)\n",
    "        temp_list = [x for x in temp_list ]\n",
    "    news_list = news_list + temp_list \n",
    "    \n",
    "    # 날짜\n",
    "    dates = driver.find_elements('css selector', 'span.info')\n",
    "    temp_list = []\n",
    "    for date in dates:\n",
    "        temp_list.append(date.text)\n",
    "        temp_list = [x for x in temp_list ]\n",
    "    date_list = date_list + temp_list \n",
    "    \n",
    "    # 제목\n",
    "    titles = driver.find_elements('css selector', 'a.news_tit')\n",
    "    temp_list = []\n",
    "    for title in titles:\n",
    "        temp_list.append(title.text)\n",
    "        temp_list = [x for x in temp_list ]\n",
    "    title_list = title_list + temp_list \n",
    "    \n",
    "    # 필모 다음페이지 클릭\n",
    "    driver.find_element('css selector', 'a.btn_next').click()\n",
    "    time.sleep(0.001)\n",
    "\n",
    "print(len(title_list))\n",
    "print(news_list)\n",
    "print(date_list)\n",
    "print(title_list)"
   ]
  },
  {
   "cell_type": "code",
   "execution_count": null,
   "id": "15c35e07",
   "metadata": {
    "ExecuteTime": {
     "end_time": "2022-07-27T05:53:49.978763Z",
     "start_time": "2022-07-27T05:53:49.971582Z"
    }
   },
   "outputs": [],
   "source": [
    "len(date_list)"
   ]
  },
  {
   "cell_type": "code",
   "execution_count": null,
   "id": "f5a1769f",
   "metadata": {
    "ExecuteTime": {
     "end_time": "2022-09-19T11:26:45.176550Z",
     "start_time": "2022-09-19T11:26:45.170551Z"
    }
   },
   "outputs": [],
   "source": [
    "date_list"
   ]
  },
  {
   "cell_type": "code",
   "execution_count": null,
   "id": "41363e7a",
   "metadata": {
    "ExecuteTime": {
     "end_time": "2022-09-19T11:27:34.014344Z",
     "start_time": "2022-09-19T11:27:33.987844Z"
    }
   },
   "outputs": [],
   "source": [
    "# df로 만들기\n",
    "\n",
    "df = pd.DataFrame(list(zip(date_list, link_list, title_list)), columns = ['date','link', 'title'])\n",
    "\n",
    "df\n",
    "# df.to_csv('2004.csv')"
   ]
  },
  {
   "cell_type": "code",
   "execution_count": null,
   "id": "2625a020",
   "metadata": {
    "ExecuteTime": {
     "end_time": "2022-09-19T11:28:57.826351Z",
     "start_time": "2022-09-19T11:28:57.821350Z"
    }
   },
   "outputs": [],
   "source": [
    "df.link[1]"
   ]
  },
  {
   "cell_type": "code",
   "execution_count": null,
   "id": "5e321342",
   "metadata": {
    "ExecuteTime": {
     "end_time": "2022-07-27T03:06:07.676602Z",
     "start_time": "2022-07-27T03:06:07.660910Z"
    },
    "scrolled": false
   },
   "outputs": [],
   "source": [
    "df[-150:-100]"
   ]
  },
  {
   "cell_type": "code",
   "execution_count": null,
   "id": "6c6b2837",
   "metadata": {},
   "outputs": [],
   "source": []
  }
 ],
 "metadata": {
  "kernelspec": {
   "display_name": "Python 3 (ipykernel)",
   "language": "python",
   "name": "python3"
  },
  "language_info": {
   "codemirror_mode": {
    "name": "ipython",
    "version": 3
   },
   "file_extension": ".py",
   "mimetype": "text/x-python",
   "name": "python",
   "nbconvert_exporter": "python",
   "pygments_lexer": "ipython3",
   "version": "3.8.13"
  },
  "toc": {
   "base_numbering": 1,
   "nav_menu": {},
   "number_sections": false,
   "sideBar": true,
   "skip_h1_title": false,
   "title_cell": "Table of Contents",
   "title_sidebar": "Contents",
   "toc_cell": false,
   "toc_position": {
    "height": "895px",
    "left": "69px",
    "top": "111.141px",
    "width": "165px"
   },
   "toc_section_display": true,
   "toc_window_display": false
  }
 },
 "nbformat": 4,
 "nbformat_minor": 5
}
