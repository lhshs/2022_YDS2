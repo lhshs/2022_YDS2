{
 "cells": [
  {
   "cell_type": "markdown",
   "id": "ad057284",
   "metadata": {},
   "source": [
    "# 크롤링 테스트"
   ]
  },
  {
   "cell_type": "code",
   "execution_count": 1,
   "id": "a75c3e83",
   "metadata": {
    "ExecuteTime": {
     "end_time": "2022-09-21T05:52:30.498200Z",
     "start_time": "2022-09-21T05:52:30.177612Z"
    }
   },
   "outputs": [],
   "source": [
    "# 라이브러리 import\n",
    "import os\n",
    "import pandas as pd\n",
    "import numpy as np\n",
    "import math \n",
    "\n",
    "# 셀레늄\n",
    "from selenium.webdriver.common.alert import Alert\n",
    "from selenium import webdriver  # 라이브러리(모듈) 가져오라\n",
    "# pip install chromedriver_autoinstaller\n",
    "from selenium.webdriver.common.keys import Keys\n",
    "from selenium.webdriver import ActionChains as AC\n",
    "\n",
    "# tqdm : for문 진행상황 체크\n",
    "from tqdm import tqdm, tqdm_notebook\n",
    "from tqdm.notebook import tqdm\n",
    "\n",
    "# 정규표현식(regular expression) : 문자(알파벳,한글), 숫자, 특수기호 정제 및 추출\n",
    "import re\n",
    "from time import sleep\n",
    "import time\n",
    "\n",
    "# 워닝 무시\n",
    "import warnings\n",
    "warnings.filterwarnings('ignore')\n",
    "\n",
    "from selenium.webdriver.common.by import By"
   ]
  },
  {
   "cell_type": "code",
   "execution_count": 2,
   "id": "264525a8",
   "metadata": {
    "ExecuteTime": {
     "end_time": "2022-09-21T05:52:41.212514Z",
     "start_time": "2022-09-21T05:52:34.665012Z"
    }
   },
   "outputs": [],
   "source": [
    "# IT : LGCNS(엘지씨엔에스), 아데나소프트웨어, 이브이알스튜디오(메타버스,), 씨유박스(얼굴인식, CUBOX)\n",
    "# 검색어 입력\n",
    "search = 'LGCNS'\n",
    "\n",
    "# 크롬 옵션\n",
    "options = webdriver.ChromeOptions()\n",
    "\n",
    "# 크롬 윈도우 사이즈 조절\n",
    "options.add_argument(\"--window-size=800,1200\") # window-size -> 기본 : 1920,1080\n",
    "\n",
    "import chromedriver_autoinstaller\n",
    "\n",
    "chrome_path = chromedriver_autoinstaller.install()\n",
    "driver = webdriver.Chrome(chrome_path, options=options)\n",
    "time.sleep(0.1)\n",
    "driver.get(\"https://www.naver.com\")\n",
    "# -> 네이버 크롬 창이 뜬다."
   ]
  },
  {
   "cell_type": "code",
   "execution_count": 3,
   "id": "22d3695d",
   "metadata": {
    "ExecuteTime": {
     "end_time": "2022-09-21T05:52:59.105874Z",
     "start_time": "2022-09-21T05:52:56.079998Z"
    }
   },
   "outputs": [],
   "source": [
    "# 네이버 검색어 입력 후 검색\n",
    "element = driver.find_element(\"name\", \"query\") \n",
    "element.clear()  # 혹시 검색창에 존재하는 텍스트 제거\n",
    "\n",
    "element.send_keys(search)  # 검색창에 검색어 전달\n",
    "element.submit()  # 검색 클릭\n",
    "time.sleep(1)"
   ]
  },
  {
   "cell_type": "code",
   "execution_count": 4,
   "id": "ac752f8e",
   "metadata": {
    "ExecuteTime": {
     "end_time": "2022-09-21T05:53:04.877771Z",
     "start_time": "2022-09-21T05:52:59.291956Z"
    }
   },
   "outputs": [],
   "source": [
    "# 뉴스 클릭\n",
    "driver.find_element(\"link text\", \"뉴스\").click() \n",
    "time.sleep(1)"
   ]
  },
  {
   "cell_type": "code",
   "execution_count": 5,
   "id": "4f8e1a47",
   "metadata": {
    "ExecuteTime": {
     "end_time": "2022-09-21T05:53:07.013030Z",
     "start_time": "2022-09-21T05:53:04.882284Z"
    }
   },
   "outputs": [],
   "source": [
    "# 옵션 클릭 후 '1년' 클릭\n",
    "driver.find_element(\"css selector\", \"#snb > div.api_group_option_filter._search_option_simple_wrap > div > div.option_filter > a\").click()  \n",
    "driver.find_element(\"css selector\", \"#snb > div.api_group_option_sort._search_option_detail_wrap > ul > li.bx.term > div > div.option > a:nth-child(8)\").click()  \n",
    "time.sleep(1)"
   ]
  },
  {
   "cell_type": "code",
   "execution_count": 6,
   "id": "6cd7027d",
   "metadata": {
    "ExecuteTime": {
     "end_time": "2022-09-21T05:53:07.886280Z",
     "start_time": "2022-09-21T05:53:07.017685Z"
    }
   },
   "outputs": [],
   "source": [
    "# 언론사 클릭\n",
    "# 경향신문, 국민일보, 내일신문, 동아일보, 매일일보, 문화일보, 서울신문, 세계일보, 아시아투데이, 전국매일신문\n",
    "# 조선일보, 중앙일보, 천지일보, 한겨례, 한국일보\n",
    "\n",
    "# 목록 열기\n",
    "driver.find_element(\"css selector\", \"a.txt.txt_option._category_select_trigger\").click() \n",
    "\n",
    "# 일간지 선택\n",
    "driver.find_element('link text', '일간지').click()\n",
    "\n"
   ]
  },
  {
   "cell_type": "code",
   "execution_count": 10,
   "id": "91597c32",
   "metadata": {
    "ExecuteTime": {
     "end_time": "2022-09-21T05:54:55.480673Z",
     "start_time": "2022-09-21T05:54:55.433236Z"
    },
    "scrolled": true
   },
   "outputs": [
    {
     "name": "stdout",
     "output_type": "stream",
     "text": [
      "1\n"
     ]
    },
    {
     "ename": "AttributeError",
     "evalue": "'NoneType' object has no attribute 'append'",
     "output_type": "error",
     "traceback": [
      "\u001b[0;31m---------------------------------------------------------------------------\u001b[0m",
      "\u001b[0;31mAttributeError\u001b[0m                            Traceback (most recent call last)",
      "Input \u001b[0;32mIn [10]\u001b[0m, in \u001b[0;36m<cell line: 8>\u001b[0;34m()\u001b[0m\n\u001b[1;32m     11\u001b[0m dates \u001b[38;5;241m=\u001b[39m driver\u001b[38;5;241m.\u001b[39mfind_elements(\u001b[38;5;124m'\u001b[39m\u001b[38;5;124mcss selector\u001b[39m\u001b[38;5;124m'\u001b[39m, \u001b[38;5;124m'\u001b[39m\u001b[38;5;124m#container > div.art_header.borderless > div.function_wrap > div.art_info > div > em:nth-child(1)\u001b[39m\u001b[38;5;124m'\u001b[39m)\n\u001b[1;32m     12\u001b[0m contents \u001b[38;5;241m=\u001b[39m driver\u001b[38;5;241m.\u001b[39mfind_elements(\u001b[38;5;124m'\u001b[39m\u001b[38;5;124mcss selector\u001b[39m\u001b[38;5;124m'\u001b[39m,\u001b[38;5;124m'\u001b[39m\u001b[38;5;124m#articleBody\u001b[39m\u001b[38;5;124m'\u001b[39m)\n\u001b[0;32m---> 14\u001b[0m date_list \u001b[38;5;241m=\u001b[39m \u001b[43mdate_list\u001b[49m\u001b[38;5;241;43m.\u001b[39;49m\u001b[43mappend\u001b[49m(dates)\n\u001b[1;32m     15\u001b[0m content_list \u001b[38;5;241m=\u001b[39m content_list\u001b[38;5;241m.\u001b[39mappend(contents)\n\u001b[1;32m     17\u001b[0m \u001b[38;5;28mprint\u001b[39m(\u001b[38;5;124m'\u001b[39m\u001b[38;5;124m1\u001b[39m\u001b[38;5;124m'\u001b[39m)\n",
      "\u001b[0;31mAttributeError\u001b[0m: 'NoneType' object has no attribute 'append'"
     ]
    }
   ],
   "source": [
    "# 첫 번째 선택 (1 - 15)\n",
    "\n",
    "title_list = []\n",
    "date_list = []\n",
    "content_list = []\n",
    "# url_list = []\n",
    "\n",
    "for i in range(1, 16):\n",
    "    # 기사 선택하는 부분이 빠짐\n",
    "    \n",
    "    # 기사 선택\n",
    "    content_selector = f'#snb > div.api_group_option_sort._search_option_detail_wrap > ul > li.bx.press > div > div.api_select_option.type_group._category_select_layer > div > div:nth-child(2) > div > div > div > ul > li:nth-child({i}) > a'\n",
    "    if '1' == content_selector[-6]:\n",
    "        dates = driver.find_elements('css selector', '#container > div.art_header.borderless > div.function_wrap > div.art_info > div > em:nth-child(1)')\n",
    "        contents = driver.find_elements('css selector','#articleBody')\n",
    "        \n",
    "        date_list = date_list.append(dates)\n",
    "        content_list = content_list.append(contents)\n",
    "        \n",
    "        print('1')\n",
    "        '''\n",
    "    if '2' == content_selector[-6]:\n",
    "        content = driver.find_element('css selector','#articleBody').text\n",
    "        print('2')\n",
    "    if '3' == content_selector[-6]:\n",
    "        content = driver.find_element('css selector','#contents > p').text\n",
    "        print('3')\n",
    "    if '4' == content_selector[-6]:\n",
    "        content= driver.find_element('css selector','#article_txt').text\n",
    "        print('4')\n",
    "    if '5' == content_selector[-6]:\n",
    "        content = driver.find_element('css selector','#article-view-content-div').text\n",
    "        print('5')\n",
    "    if '6' == content_selector[-6]:\n",
    "        content = driver.find_element('css selector','#NewsAdContent').text\n",
    "        print('6')\n",
    "    if '7' == content_selector[-6]:\n",
    "        content = driver.find_element('css selector','#atic_txt1').text\n",
    "        print('7')\n",
    "    if '8' == content_selector[-6]:\n",
    "        content = driver.find_element('css selector','#contMain2').text\n",
    "        print('8')\n",
    "    if '9' == content_selector[-6]:\n",
    "        content = driver.find_element('css selector','#font').text\n",
    "        print('9')\n",
    "    if '10' == content_selector[-6]:\n",
    "        content = driver.find_element('css selector','#article-view-content-div').text\n",
    "        print('10')\n",
    "    if '11' == content_selector[-6]:\n",
    "        content = driver.find_element('css selector','#fusion-app > div.article.\\| > div:nth-child(2) > div > section > article > section').text\n",
    "        print('11')\n",
    "    if '12' == content_selector[-6]:\n",
    "        content = driver.find_element('css selector','#article_body').text\n",
    "        print('12')\n",
    "    if '13' == content_selector[-6]:\n",
    "        content = driver.find_element('css selector','#wrapper > div > div.container_wrap.article_cont_wrap > div.article_area > div.left_wrap > div').text\n",
    "        print('13')\n",
    "    if '14' == content_selector[-6]:\n",
    "        content = driver.find_element('css selector','#a-left-scroll-in > div.article-text > div > div.text').text\n",
    "        print('14')\n",
    "    if '15' == content_selector[-6]:\n",
    "        content = driver.find_element('css selector','body > div.wrap > div.container.end.end-uni > div.end-body > div > div.col-main.read').text\n",
    "        print('15')\n",
    "    else:\n",
    "        print('x')\n",
    "        \n",
    "    content_list = content_list.append(content)\n",
    "    content_list\n",
    "'''"
   ]
  },
  {
   "cell_type": "code",
   "execution_count": null,
   "id": "058c86fc",
   "metadata": {
    "ExecuteTime": {
     "end_time": "2022-09-20T14:03:57.796222Z",
     "start_time": "2022-09-20T14:03:57.512722Z"
    }
   },
   "outputs": [],
   "source": [
    "# 다음 페이지 클릭\n",
    "driver.find_element(\"css selector\", 'a.btn_next').click()"
   ]
  },
  {
   "cell_type": "code",
   "execution_count": null,
   "id": "69676876",
   "metadata": {
    "ExecuteTime": {
     "end_time": "2022-09-20T13:50:55.226721Z",
     "start_time": "2022-09-20T13:50:55.213728Z"
    }
   },
   "outputs": [],
   "source": [
    "'''\n",
    "# news list\n",
    "news_list = []\n",
    "\n",
    "newses = driver.find_elements('css selector', 'a.info.press')\n",
    "\n",
    "#sp_nws1 > div > div > div.news_info > div.info_group\n",
    "#sp_nws20 > div.news_wrap.api_ani_send > div > div.news_info > div.info_group > span:nth-child(3)\n",
    "temp_list = []\n",
    "for news in newses:\n",
    "    temp_list.append(news.text)\n",
    "    temp_list = [x for x in temp_list ]\n",
    "news_list = news_list + temp_list \n",
    "news_list\n",
    "'''"
   ]
  },
  {
   "cell_type": "code",
   "execution_count": null,
   "id": "978646af",
   "metadata": {
    "ExecuteTime": {
     "end_time": "2022-09-20T14:16:41.022220Z",
     "start_time": "2022-09-20T14:16:40.871722Z"
    }
   },
   "outputs": [],
   "source": [
    "# date list\n",
    "date_list = []\n",
    "\n",
    "dates = driver.find_elements('css selector', 'span.info')\n",
    "# dates = driver.find_elements('css selector', 'sp_nws1 > div > div > div.news_info > div.info_group > span:nth-child(2)')\n",
    "# dates = driver.find_elements('css selector', 'sp_nws1 > div > div > div.news_info > div.info_group > span:nth-child(3)')\n",
    "# sp_nws1 > div > div > div.news_info > div.info_group > span:nth-child(2)\n",
    "# sp_nws1 > div > div > div.news_info > div.info_group > span:nth-child(3)\n",
    "temp_list = []\n",
    "for date in dates:\n",
    "    temp_list.append(date.text)\n",
    "    temp_list = [x for x in temp_list ]\n",
    "date_list = date_list + temp_list \n",
    "date_list"
   ]
  },
  {
   "cell_type": "code",
   "execution_count": null,
   "id": "cb3accd3",
   "metadata": {
    "ExecuteTime": {
     "end_time": "2022-09-20T14:16:42.775722Z",
     "start_time": "2022-09-20T14:16:42.640221Z"
    }
   },
   "outputs": [],
   "source": [
    "# title list\n",
    "title_list = []\n",
    "\n",
    "titles = driver.find_elements('css selector', 'a.news_tit')\n",
    "temp_list = []\n",
    "for title in titles:\n",
    "    temp_list.append(title.text)\n",
    "    temp_list = [x for x in temp_list]\n",
    "title_list = title_list + temp_list\n",
    "title_list\n"
   ]
  },
  {
   "cell_type": "code",
   "execution_count": null,
   "id": "2eaba607",
   "metadata": {
    "ExecuteTime": {
     "end_time": "2022-09-20T14:16:44.230721Z",
     "start_time": "2022-09-20T14:16:44.111722Z"
    }
   },
   "outputs": [],
   "source": [
    "# link list\n",
    "\n",
    "link_list = []\n",
    "\n",
    "temp_list = []\n",
    "for i in titles:\n",
    "    href = i.get_attribute('href')\n",
    "    link_list.append(href)\n",
    "    temp_list = [x for x in temp_list]\n",
    "    \n",
    "link_list"
   ]
  },
  {
   "cell_type": "code",
   "execution_count": null,
   "id": "99ed3e53",
   "metadata": {
    "ExecuteTime": {
     "end_time": "2022-09-20T13:50:55.605723Z",
     "start_time": "2022-09-20T13:50:55.600722Z"
    }
   },
   "outputs": [],
   "source": [
    "link_list[0]"
   ]
  },
  {
   "cell_type": "code",
   "execution_count": null,
   "id": "1c2e66be",
   "metadata": {
    "ExecuteTime": {
     "end_time": "2022-09-20T13:50:55.613722Z",
     "start_time": "2022-09-20T13:50:55.608722Z"
    }
   },
   "outputs": [],
   "source": [
    "# body_wrap > div.content\n",
    "# article_main\n",
    "# 언론사 별로 다른 기사 내용은 어떻게 짜야 하는가.."
   ]
  },
  {
   "cell_type": "code",
   "execution_count": null,
   "id": "cb646b4c",
   "metadata": {
    "ExecuteTime": {
     "end_time": "2022-09-20T13:50:55.623725Z",
     "start_time": "2022-09-20T13:50:55.617223Z"
    },
    "scrolled": false
   },
   "outputs": [],
   "source": [
    "# driver.get(link_list[0])"
   ]
  },
  {
   "cell_type": "code",
   "execution_count": null,
   "id": "f3bf9c0e",
   "metadata": {
    "ExecuteTime": {
     "end_time": "2022-09-20T13:50:55.634221Z",
     "start_time": "2022-09-20T13:50:55.628226Z"
    }
   },
   "outputs": [],
   "source": [
    "# for _ in link_list:\n",
    "#     print(_)"
   ]
  },
  {
   "cell_type": "code",
   "execution_count": null,
   "id": "376b3951",
   "metadata": {},
   "outputs": [],
   "source": [
    "# 일간지 본문 selector\n",
    "\n",
    "if \n",
    "\n",
    "#articleBody \n",
    "#articleBody\n",
    "#contents > p\n",
    "#article_txt\n",
    "#article-view-content-div\n",
    "#NewsAdContent\n",
    "#atic_txt1\n",
    "#contMain2\n",
    "#font\n",
    "#article-view-content-div\n",
    "#fusion-app > div.article.\\| > div:nth-child(2) > div > section > article > section\n",
    "#article_body\n",
    "#wrapper > div > div.container_wrap.article_cont_wrap > div.article_area > div.left_wrap > div\n",
    "#a-left-scroll-in > div.article-text > div > div.text\n",
    "## body > div.wrap > div.container.end.end-uni > div.end-body > div > div.col-main.read"
   ]
  },
  {
   "cell_type": "code",
   "execution_count": null,
   "id": "73580d39",
   "metadata": {
    "ExecuteTime": {
     "end_time": "2022-09-21T04:08:54.810222Z",
     "start_time": "2022-09-21T04:08:54.537277Z"
    },
    "scrolled": false
   },
   "outputs": [],
   "source": [
    "\n",
    "content_list = []\n",
    "# temp_list = []\n",
    "\n",
    "# for i in link_list:\n",
    "driver.get(link_list[1])\n",
    "time.sleep(0.01)\n",
    "content = driver.find_element('css selector','#article-view-content-div').text # 0, 2\n",
    "content = driver.find_element('css selector','#articleBody').text # 1, 14\n",
    "content = driver.find_element('css selector','#content > div.articleView > div.view > div.viewer > article').text # 3\n",
    "content = driver.find_element('css selector','#article').text # 4\n",
    "content = driver.find_element('css selector','#content_area').text # 5\n",
    "content = driver.find_element('css selector','#container > div.content > div.cont_main > div.cont_article').text # 6\n",
    "content = driver.find_element('css selector','#body_wrap > div.content').text # 7\n",
    "content = driver.find_element('css selector','#articleWrap > div.content01.scroll-article-zone01 > div > div > article').text # 8\n",
    "content = driver.find_element('css selector','#article_main').text # 9\n",
    "content = driver.find_element('css selector','#article_content').text # 10\n",
    "content = driver.find_element('css selector','#user-container > div.float-center.max-width-1080 > div.user-content > section > div').text # 11\n",
    "\n",
    "#wrapper > div.theme-white > section > section.news-article-wrap > div.news-article-wrapper > div.news-content > div  # 12\n",
    "#sub_con > div.contents_con.cf > div.left_con.layout_left_con > div > div > div.news_view_div > div.text_article_con > span > div  # 13\n",
    "#content  # 15\n",
    "#snsAnchor > div  # 16\n",
    "#rn_wrap > div > article > div > section:nth-child(5)  # 17\n",
    "#article-view > div.wrapper > section  # 18\n",
    "#v-left-scroll-in > div.article_con > div.con_left > div.article_view  # 19\n",
    "\n",
    "#articleBody\n",
    "#article_body\n",
    "#article_body\n",
    "#articleBody\n",
    "\n",
    "content_list.append(content)\n",
    "#     content_list = content_list + temp_list\n",
    "\n",
    "content_list\n",
    "    "
   ]
  },
  {
   "cell_type": "code",
   "execution_count": null,
   "id": "29c75234",
   "metadata": {
    "ExecuteTime": {
     "end_time": "2022-09-20T13:47:21.302722Z",
     "start_time": "2022-09-20T13:47:21.297722Z"
    }
   },
   "outputs": [],
   "source": [
    "content_list"
   ]
  },
  {
   "cell_type": "code",
   "execution_count": null,
   "id": "cf3b40f4",
   "metadata": {
    "ExecuteTime": {
     "end_time": "2022-09-20T10:29:03.673436Z",
     "start_time": "2022-09-20T10:29:01.241950Z"
    }
   },
   "outputs": [],
   "source": [
    "print(content_list.text)"
   ]
  },
  {
   "cell_type": "code",
   "execution_count": null,
   "id": "a62a6a1e",
   "metadata": {
    "ExecuteTime": {
     "end_time": "2022-09-19T17:36:57.874059Z",
     "start_time": "2022-09-19T17:36:57.836159Z"
    }
   },
   "outputs": [],
   "source": [
    "for _ in content_list:\n",
    "    print(_.text)"
   ]
  },
  {
   "cell_type": "code",
   "execution_count": null,
   "id": "deaa2577",
   "metadata": {
    "ExecuteTime": {
     "end_time": "2022-09-19T11:18:08.648804Z",
     "start_time": "2022-09-19T11:18:08.627800Z"
    }
   },
   "outputs": [],
   "source": [
    "'''\n",
    "# content\n",
    "content_list = []\n",
    "\n",
    "contents = driver.find_elements(\"css selector\", \"sp_nws1 > div > div > div.news_dsc > div > a\")\n",
    "temp_list = []\n",
    "for content in contents:\n",
    "    temp_list.append(context.text)\n",
    "    temp_list = [x for x in temp_list]\n",
    "content_list = content_list + temp_list\n",
    "content_list\n",
    "'''"
   ]
  },
  {
   "cell_type": "code",
   "execution_count": null,
   "id": "e70d9875",
   "metadata": {
    "ExecuteTime": {
     "end_time": "2022-09-21T05:52:20.075821Z",
     "start_time": "2022-09-21T05:52:19.742822Z"
    }
   },
   "outputs": [],
   "source": [
    "# 웹 종료해주기!\n",
    "\n",
    "driver.quit()"
   ]
  },
  {
   "cell_type": "markdown",
   "id": "3780f714",
   "metadata": {},
   "source": [
    "# for문으로 크롤링 "
   ]
  },
  {
   "cell_type": "code",
   "execution_count": null,
   "id": "c838b67f",
   "metadata": {
    "ExecuteTime": {
     "end_time": "2022-07-27T02:48:09.155305Z",
     "start_time": "2022-07-27T02:47:59.903613Z"
    }
   },
   "outputs": [],
   "source": [
    "# 검색어 입력\n",
    "search = '삼성전자'\n",
    "\n",
    "# 크롬 옵션\n",
    "options = webdriver.ChromeOptions()\n",
    "\n",
    "# 크롬 윈도우 사이즈 조절\n",
    "options.add_argument(\"--window-size=1000,1200\") # window-size -> 기본 : 1920,1080\n",
    "\n",
    "import chromedriver_autoinstaller\n",
    "\n",
    "chrome_path = chromedriver_autoinstaller.install()\n",
    "driver = webdriver.Chrome(chrome_path, options=options)\n",
    "time.sleep(0.01)\n",
    "driver.get(\"https://www.naver.com\") # -> 네이버 크롬 창이 뜬다.\n",
    "\n",
    "# 네이버 검색어 입력 후 검색\n",
    "element = driver.find_element(\"name\", \"query\") \n",
    "element.clear()  # 혹시 검색창에 존재하는 텍스트 제거\n",
    "\n",
    "element.send_keys(search)  # 검색창에 검색어 전달\n",
    "element.submit()  # 검색 클릭\n",
    "time.sleep(0.01)"
   ]
  },
  {
   "cell_type": "code",
   "execution_count": null,
   "id": "746a5ad1",
   "metadata": {
    "ExecuteTime": {
     "end_time": "2022-07-27T02:48:36.438495Z",
     "start_time": "2022-07-27T02:48:35.284961Z"
    }
   },
   "outputs": [],
   "source": [
    "# 뉴스 클릭\n",
    "driver.find_element(\"link text\", \"뉴스\").click() \n",
    "time.sleep(0.01)"
   ]
  },
  {
   "cell_type": "code",
   "execution_count": null,
   "id": "62e6071d",
   "metadata": {
    "ExecuteTime": {
     "end_time": "2022-07-27T02:48:37.608396Z",
     "start_time": "2022-07-27T02:48:36.440169Z"
    }
   },
   "outputs": [],
   "source": [
    "# '오래된 순' 클릭\n",
    "driver.find_element(\"link text\", \"오래된순\").click()  \n",
    "time.sleep(0.01)"
   ]
  },
  {
   "cell_type": "code",
   "execution_count": null,
   "id": "248a9a92",
   "metadata": {
    "ExecuteTime": {
     "start_time": "2022-07-27T05:58:39.905Z"
    },
    "scrolled": true
   },
   "outputs": [],
   "source": [
    "# 뉴스 데이터 수집\n",
    "# news_list = []\n",
    "# date_list = []\n",
    "# title_list = []\n",
    "\n",
    "for i in range(200):    \n",
    "\n",
    "    # 언론사\n",
    "    newses = driver.find_elements('css selector', 'a.info.press')\n",
    "    temp_list = []\n",
    "    for news in newses:\n",
    "        temp_list.append(news.text)\n",
    "        temp_list = [x for x in temp_list ]\n",
    "    news_list = news_list + temp_list \n",
    "    \n",
    "    # 날짜\n",
    "    dates = driver.find_elements('css selector', 'span.info')\n",
    "    temp_list = []\n",
    "    for date in dates:\n",
    "        temp_list.append(date.text)\n",
    "        temp_list = [x for x in temp_list ]\n",
    "    date_list = date_list + temp_list \n",
    "    \n",
    "    # 제목\n",
    "    titles = driver.find_elements('css selector', 'a.news_tit')\n",
    "    temp_list = []\n",
    "    for title in titles:\n",
    "        temp_list.append(title.text)\n",
    "        temp_list = [x for x in temp_list ]\n",
    "    title_list = title_list + temp_list \n",
    "    \n",
    "    # 필모 다음페이지 클릭\n",
    "    driver.find_element('css selector', 'a.btn_next').click()\n",
    "    time.sleep(0.001)\n",
    "\n",
    "print(len(title_list))\n",
    "print(news_list)\n",
    "print(date_list)\n",
    "print(title_list)"
   ]
  },
  {
   "cell_type": "code",
   "execution_count": null,
   "id": "15c35e07",
   "metadata": {
    "ExecuteTime": {
     "end_time": "2022-07-27T05:53:49.978763Z",
     "start_time": "2022-07-27T05:53:49.971582Z"
    }
   },
   "outputs": [],
   "source": [
    "len(date_list)"
   ]
  },
  {
   "cell_type": "code",
   "execution_count": null,
   "id": "f5a1769f",
   "metadata": {
    "ExecuteTime": {
     "end_time": "2022-09-19T11:26:45.176550Z",
     "start_time": "2022-09-19T11:26:45.170551Z"
    }
   },
   "outputs": [],
   "source": [
    "date_list"
   ]
  },
  {
   "cell_type": "code",
   "execution_count": null,
   "id": "41363e7a",
   "metadata": {
    "ExecuteTime": {
     "end_time": "2022-09-19T11:27:34.014344Z",
     "start_time": "2022-09-19T11:27:33.987844Z"
    }
   },
   "outputs": [],
   "source": [
    "# df로 만들기\n",
    "\n",
    "df = pd.DataFrame(list(zip(date_list, link_list, title_list)), columns = ['date','link', 'title'])\n",
    "\n",
    "df\n",
    "# df.to_csv('2004.csv')"
   ]
  },
  {
   "cell_type": "code",
   "execution_count": null,
   "id": "2625a020",
   "metadata": {
    "ExecuteTime": {
     "end_time": "2022-09-19T11:28:57.826351Z",
     "start_time": "2022-09-19T11:28:57.821350Z"
    }
   },
   "outputs": [],
   "source": [
    "df.link[1]"
   ]
  },
  {
   "cell_type": "code",
   "execution_count": null,
   "id": "5e321342",
   "metadata": {
    "ExecuteTime": {
     "end_time": "2022-07-27T03:06:07.676602Z",
     "start_time": "2022-07-27T03:06:07.660910Z"
    },
    "scrolled": false
   },
   "outputs": [],
   "source": [
    "df[-150:-100]"
   ]
  },
  {
   "cell_type": "code",
   "execution_count": null,
   "id": "6c6b2837",
   "metadata": {},
   "outputs": [],
   "source": []
  }
 ],
 "metadata": {
  "kernelspec": {
   "display_name": "Python 3 (ipykernel)",
   "language": "python",
   "name": "python3"
  },
  "language_info": {
   "codemirror_mode": {
    "name": "ipython",
    "version": 3
   },
   "file_extension": ".py",
   "mimetype": "text/x-python",
   "name": "python",
   "nbconvert_exporter": "python",
   "pygments_lexer": "ipython3",
   "version": "3.8.13"
  },
  "toc": {
   "base_numbering": 1,
   "nav_menu": {},
   "number_sections": false,
   "sideBar": true,
   "skip_h1_title": false,
   "title_cell": "Table of Contents",
   "title_sidebar": "Contents",
   "toc_cell": false,
   "toc_position": {
    "height": "895px",
    "left": "69px",
    "top": "111.141px",
    "width": "165px"
   },
   "toc_section_display": true,
   "toc_window_display": false
  }
 },
 "nbformat": 4,
 "nbformat_minor": 5
}
