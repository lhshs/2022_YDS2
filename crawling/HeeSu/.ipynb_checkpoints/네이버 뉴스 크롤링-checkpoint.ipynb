{
 "cells": [
  {
   "cell_type": "code",
   "execution_count": 1,
   "metadata": {},
   "outputs": [],
   "source": [
    "# basic library\n",
    "import os\n",
    "import pandas as pd\n",
    "import numpy as np\n",
    "import math \n",
    "import requests\n",
    "import re\n",
    "import time\n",
    "from time import sleep\n",
    "import datetime\n",
    "from dateutil.relativedelta import relativedelta\n",
    "\n",
    "#크롤링시 필요한 라이브러리 불러오기\n",
    "from bs4 import BeautifulSoup\n",
    "from selenium import webdriver\n",
    "from selenium.webdriver.common.by import By\n",
    "from selenium.webdriver.common.keys import Keys\n",
    "from selenium.webdriver import ActionChains as AC\n",
    "from selenium.webdriver.common.alert import Alert\n",
    "from webdriver_manager.chrome import ChromeDriverManager\n",
    "\n",
    "# 워닝 무시\n",
    "import warnings\n",
    "warnings.filterwarnings('ignore')\n",
    "\n",
    "# tqdm : for문 진행상황 체크\n",
    "from tqdm import tqdm, tqdm_notebook\n",
    "from tqdm.notebook import tqdm\n",
    "\n",
    "\n",
    "#웹드라이버 설정\n",
    "options = webdriver.ChromeOptions()\n",
    "options.add_experimental_option(\"excludeSwitches\", [\"enable-automation\"])\n",
    "options.add_experimental_option(\"useAutomationExtension\", False)"
   ]
  },
  {
   "cell_type": "code",
   "execution_count": 2,
   "metadata": {},
   "outputs": [],
   "source": [
    "# 페이지 url 형식에 맞게 바꾸어 주는 함수 만들기\n",
    "  #입력된 수를 1, 11, 21, 31 ...만들어 주는 함수\n",
    "def makePgNum(num):\n",
    "    if num == 1:\n",
    "        return num\n",
    "    elif num == 0:\n",
    "        return num+1\n",
    "    else:\n",
    "        return num+9*(num-1)\n",
    "\n",
    "\n",
    "# 크롤링할 url 생성하는 함수 만들기(검색어, 크롤링 시작 페이지, 크롤링 종료 페이지)\n",
    "def makeUrl(search,start_pg,end_pg):\n",
    "    if start_pg == end_pg:\n",
    "        start_page = makePgNum(start_pg)\n",
    "        url = \"https://search.naver.com/search.naver?where=news&sm=tab_pge&query=\" + search + \"&start=\" + str(start_page)\n",
    "        print(\"생성url: \",url)\n",
    "        return url\n",
    "    else:\n",
    "        urls= []\n",
    "        for i in range(start_pg,end_pg+1):\n",
    "            page = makePgNum(i)\n",
    "            url = \"https://search.naver.com/search.naver?where=news&sm=tab_pge&query=\" + search + \"&start=\" + str(page)\n",
    "            urls.append(url)\n",
    "        print(\"생성url: \",urls)\n",
    "        return urls"
   ]
  },
  {
   "cell_type": "code",
   "execution_count": 3,
   "metadata": {},
   "outputs": [
    {
     "name": "stdout",
     "output_type": "stream",
     "text": [
      "\n",
      "크롤링할 시작 페이지:  1 페이지\n",
      "\n",
      "크롤링할 종료 페이지:  30 페이지\n",
      "생성url:  ['https://search.naver.com/search.naver?where=news&sm=tab_pge&query=바이오노트&start=1', 'https://search.naver.com/search.naver?where=news&sm=tab_pge&query=바이오노트&start=11', 'https://search.naver.com/search.naver?where=news&sm=tab_pge&query=바이오노트&start=21', 'https://search.naver.com/search.naver?where=news&sm=tab_pge&query=바이오노트&start=31', 'https://search.naver.com/search.naver?where=news&sm=tab_pge&query=바이오노트&start=41', 'https://search.naver.com/search.naver?where=news&sm=tab_pge&query=바이오노트&start=51', 'https://search.naver.com/search.naver?where=news&sm=tab_pge&query=바이오노트&start=61', 'https://search.naver.com/search.naver?where=news&sm=tab_pge&query=바이오노트&start=71', 'https://search.naver.com/search.naver?where=news&sm=tab_pge&query=바이오노트&start=81', 'https://search.naver.com/search.naver?where=news&sm=tab_pge&query=바이오노트&start=91', 'https://search.naver.com/search.naver?where=news&sm=tab_pge&query=바이오노트&start=101', 'https://search.naver.com/search.naver?where=news&sm=tab_pge&query=바이오노트&start=111', 'https://search.naver.com/search.naver?where=news&sm=tab_pge&query=바이오노트&start=121', 'https://search.naver.com/search.naver?where=news&sm=tab_pge&query=바이오노트&start=131', 'https://search.naver.com/search.naver?where=news&sm=tab_pge&query=바이오노트&start=141', 'https://search.naver.com/search.naver?where=news&sm=tab_pge&query=바이오노트&start=151', 'https://search.naver.com/search.naver?where=news&sm=tab_pge&query=바이오노트&start=161', 'https://search.naver.com/search.naver?where=news&sm=tab_pge&query=바이오노트&start=171', 'https://search.naver.com/search.naver?where=news&sm=tab_pge&query=바이오노트&start=181', 'https://search.naver.com/search.naver?where=news&sm=tab_pge&query=바이오노트&start=191', 'https://search.naver.com/search.naver?where=news&sm=tab_pge&query=바이오노트&start=201', 'https://search.naver.com/search.naver?where=news&sm=tab_pge&query=바이오노트&start=211', 'https://search.naver.com/search.naver?where=news&sm=tab_pge&query=바이오노트&start=221', 'https://search.naver.com/search.naver?where=news&sm=tab_pge&query=바이오노트&start=231', 'https://search.naver.com/search.naver?where=news&sm=tab_pge&query=바이오노트&start=241', 'https://search.naver.com/search.naver?where=news&sm=tab_pge&query=바이오노트&start=251', 'https://search.naver.com/search.naver?where=news&sm=tab_pge&query=바이오노트&start=261', 'https://search.naver.com/search.naver?where=news&sm=tab_pge&query=바이오노트&start=271', 'https://search.naver.com/search.naver?where=news&sm=tab_pge&query=바이오노트&start=281', 'https://search.naver.com/search.naver?where=news&sm=tab_pge&query=바이오노트&start=291']\n"
     ]
    }
   ],
   "source": [
    "##########뉴스크롤링 시작###################\n",
    "\n",
    "#검색어 입력\n",
    "# search = input(\"검색할 키워드를 입력해주세요:\")\n",
    "search = '바이오노트'\n",
    "\n",
    "#검색 시작할 페이지 입력\n",
    "page = int(input(\"\\n크롤링할 시작 페이지를 입력해주세요. ex)1(숫자만입력):\")) # ex)1 =1페이지,2=2페이지...\n",
    "print(\"\\n크롤링할 시작 페이지: \",page,\"페이지\")   \n",
    "#검색 종료할 페이지 입력\n",
    "page2 = int(input(\"\\n크롤링할 종료 페이지를 입력해주세요. ex)1(숫자만입력):\")) # ex)1 =1페이지,2=2페이지...\n",
    "print(\"\\n크롤링할 종료 페이지: \",page2,\"페이지\")   \n",
    "\n",
    "# naver url 생성\n",
    "search_urls = makeUrl(search,page,page2)"
   ]
  },
  {
   "cell_type": "code",
   "execution_count": 5,
   "metadata": {},
   "outputs": [
    {
     "name": "stdout",
     "output_type": "stream",
     "text": [
      "['https://n.news.naver.com/mnews/article/003/0011416927?sid=102', 'https://n.news.naver.com/mnews/article/366/0000840287?sid=105', 'https://n.news.naver.com/mnews/article/024/0000076786?sid=101', 'https://n.news.naver.com/mnews/article/417/0000844566?sid=101', 'https://n.news.naver.com/mnews/article/417/0000843819?sid=101', 'https://n.news.naver.com/mnews/article/018/0005264991?sid=101', 'https://n.news.naver.com/mnews/article/421/0006196381?sid=101', 'https://n.news.naver.com/mnews/article/008/0004761789?sid=101', 'https://n.news.naver.com/mnews/article/015/0004712414?sid=101', 'https://n.news.naver.com/mnews/article/011/0004089108?sid=101', 'https://n.news.naver.com/mnews/article/417/0000843676?sid=101', 'https://n.news.naver.com/mnews/article/018/0005197239?sid=101', 'https://n.news.naver.com/mnews/article/015/0004730476?sid=101', 'https://n.news.naver.com/mnews/article/417/0000834607?sid=101', 'https://n.news.naver.com/mnews/article/018/0005276272?sid=101', 'https://n.news.naver.com/mnews/article/243/0000028517?sid=101', 'https://n.news.naver.com/mnews/article/008/0004729044?sid=101', 'https://n.news.naver.com/mnews/article/008/0004762394?sid=101', 'https://n.news.naver.com/mnews/article/018/0005144182?sid=101', 'https://n.news.naver.com/mnews/article/008/0004704860?sid=101', 'https://n.news.naver.com/mnews/article/016/0002003657?sid=101', 'https://n.news.naver.com/mnews/article/417/0000822439?sid=101', 'https://n.news.naver.com/mnews/article/008/0004690017?sid=101', 'https://n.news.naver.com/mnews/article/018/0005317699?sid=101', 'https://n.news.naver.com/mnews/article/366/0000808861?sid=105', 'https://n.news.naver.com/mnews/article/366/0000808861?sid=105', 'https://n.news.naver.com/mnews/article/021/0002511880?sid=102', 'https://n.news.naver.com/mnews/article/023/0003688543?sid=102', 'https://n.news.naver.com/mnews/article/003/0011109647?sid=102', 'https://n.news.naver.com/mnews/article/018/0005188782?sid=101', 'https://n.news.naver.com/mnews/article/243/0000017092?sid=101', 'https://n.news.naver.com/mnews/article/015/0004614918?sid=105', 'https://n.news.naver.com/mnews/article/011/0004036154?sid=101', 'https://n.news.naver.com/mnews/article/015/0004623987?sid=105', 'https://n.news.naver.com/mnews/article/003/0011109647?sid=102', 'https://n.news.naver.com/mnews/article/018/0005188782?sid=101', 'https://n.news.naver.com/mnews/article/243/0000017092?sid=101', 'https://n.news.naver.com/mnews/article/015/0004614918?sid=105', 'https://n.news.naver.com/mnews/article/011/0004036154?sid=101', 'https://n.news.naver.com/mnews/article/029/0002727400?sid=105', 'https://n.news.naver.com/mnews/article/029/0002727400?sid=105', 'https://n.news.naver.com/mnews/article/018/0005175080?sid=101', 'https://n.news.naver.com/mnews/article/018/0005175080?sid=101', 'https://n.news.naver.com/mnews/article/018/0005171535?sid=105', 'https://n.news.naver.com/mnews/article/119/0002587443?sid=101', 'https://n.news.naver.com/mnews/article/018/0005171535?sid=105', 'https://n.news.naver.com/mnews/article/016/0001965703?sid=101', 'https://n.news.naver.com/mnews/article/008/0004711101?sid=101', 'https://n.news.naver.com/mnews/article/417/0000795478?sid=101', 'https://n.news.naver.com/mnews/article/008/0004711101?sid=101', 'https://n.news.naver.com/mnews/article/366/0000798289?sid=105', 'https://n.news.naver.com/mnews/article/366/0000798289?sid=105', 'https://n.news.naver.com/mnews/article/018/0004995080?sid=101', 'https://n.news.naver.com/mnews/article/014/0004897150?sid=101', 'https://n.news.naver.com/mnews/article/654/0000000506?sid=101', 'https://n.news.naver.com/mnews/article/654/0000000467?sid=101', 'https://n.news.naver.com/mnews/article/018/0005141098?sid=101', 'https://n.news.naver.com/mnews/article/001/0012538527?sid=101', 'https://n.news.naver.com/mnews/article/008/0004700347?sid=101', 'https://n.news.naver.com/mnews/article/001/0012538527?sid=101', 'https://n.news.naver.com/mnews/article/008/0004700347?sid=101', 'https://n.news.naver.com/mnews/article/008/0004700347?sid=101', 'https://n.news.naver.com/mnews/article/018/0004927889?sid=101', 'https://n.news.naver.com/mnews/article/018/0005116477?sid=101', 'https://n.news.naver.com/mnews/article/087/0000873000?sid=101', 'https://n.news.naver.com/mnews/article/018/0005081089?sid=101', 'https://n.news.naver.com/mnews/article/015/0004628710?sid=105', 'https://n.news.naver.com/mnews/article/277/0005142065?sid=101', 'https://n.news.naver.com/mnews/article/417/0000599670?sid=101', 'https://n.news.naver.com/mnews/article/015/0004595951?sid=105', 'https://n.news.naver.com/mnews/article/417/0000599670?sid=101', 'https://n.news.naver.com/mnews/article/015/0004595951?sid=105', 'https://n.news.naver.com/mnews/article/018/0005020821?sid=101', 'https://n.news.naver.com/mnews/article/031/0000695111?sid=101', 'https://n.news.naver.com/mnews/article/008/0004630820?sid=101']\n"
     ]
    }
   ],
   "source": [
    "## selenium으로 navernews만 뽑아오기##\n",
    "# 버전에 상관 없이 os에 설치된 크롬 브라우저 사용\n",
    "driver = webdriver.Chrome(ChromeDriverManager().install())\n",
    "driver.implicitly_wait(3)\n",
    "\n",
    "# selenium으로 검색 페이지 불러오기 #\n",
    "\n",
    "naver_urls=[]\n",
    "\n",
    "for i in search_urls:\n",
    "    driver.get(i)\n",
    "    time.sleep(1) #대기시간 변경 가능\n",
    "\n",
    "    # 네이버 기사 눌러서 제목 및 본문 가져오기#\n",
    "    # 네이버 기사가 있는 기사 css selector 모아오기 (list 형태)\n",
    "    a = driver.find_elements(By.CSS_SELECTOR,'a.info')\n",
    "\n",
    "    # 위에서 생성한 css selector list 하나씩 클릭하여 본문 url얻기\n",
    "    for i in a:\n",
    "        i.click()\n",
    "\n",
    "        # 현재탭에 접근\n",
    "        driver.switch_to.window(driver.window_handles[1])\n",
    "        time.sleep(2) #대기시간 변경 가능\n",
    "\n",
    "        # 네이버 뉴스 url만 가져오기\n",
    "\n",
    "        url = driver.current_url\n",
    "        # print(url)\n",
    "\n",
    "        if \"news.naver.com\" in url:\n",
    "            naver_urls.append(url)\n",
    "  \n",
    "        else:\n",
    "            pass\n",
    "        \n",
    "        # 현재 탭 닫기\n",
    "        time.sleep(1)\n",
    "        driver.close()\n",
    "\n",
    "        # 다시처음 탭으로 돌아가기(매우 중요!!!)\n",
    "        driver.switch_to.window(driver.window_handles[0])\n",
    "\n",
    "print(naver_urls)"
   ]
  },
  {
   "cell_type": "code",
   "execution_count": 21,
   "metadata": {},
   "outputs": [
    {
     "name": "stdout",
     "output_type": "stream",
     "text": [
      "2022-09-14\n",
      "2022-09-14\n",
      "2022-08-21\n",
      "2022-08-20\n",
      "2022-08-18\n",
      "2022-07-12\n"
     ]
    }
   ],
   "source": [
    "for i in naver_urls:\n",
    "    driver.get(i)\n",
    "    date = driver.find_element(\"css selector\", \"._ARTICLE_DATE_TIME\").text\n",
    "    date = datetime.date(int(date[:4]),int(date[5:7]),int(date[8:10]))\n",
    "    time.sleep(1)\n",
    "    print(date)"
   ]
  },
  {
   "cell_type": "code",
   "execution_count": 6,
   "metadata": {},
   "outputs": [],
   "source": [
    "###naver 기사 본문 및 제목 가져오기###\n",
    "\n",
    "# ConnectionError방지\n",
    "headers = { \"User-Agent\": \"Mozilla/5.0 (Windows NT 10.0; Win64; x64) Chrome/98.0.4758.102\" }\n",
    "\n",
    "titles = []\n",
    "dates = []\n",
    "contents = []\n",
    "for i in naver_urls:\n",
    "    # 페이지 불러오기\n",
    "    driver.get(i)\n",
    "    time.sleep(1)\n",
    "\n",
    "    # 기사 제목 크롤링\n",
    "    title = driver.find_element(\"css selector\", \".media_end_head_headline\").text\n",
    "    titles.append(title)\n",
    "\n",
    "    # 기사 날짜 크롤링\n",
    "    date = driver.find_element(\"css selector\", \"._ARTICLE_DATE_TIME\").text\n",
    "    date = datetime.date(int(date[:4]),int(date[5:7]),int(date[8:10]))\n",
    "    dates.append(date)\n",
    "\n",
    "    # 기사 내용 크롤링\n",
    "    content = driver.find_element(\"css selector\", \"._article_content\").text\n",
    "    content = content.replace('\\n\\n\\n',' ')\n",
    "    content = content.replace('\\n\\n',' ')\n",
    "    content = content.replace('\\n',' ')\n",
    "    contents.append(content)\n",
    "    \n",
    "\n",
    "#데이터프레임으로 정리(titles,url,contents)\n",
    "import pandas as pd\n",
    "\n",
    "news_df = pd.DataFrame({'title':titles,'link':naver_urls, 'date':dates,'content':contents})\n",
    "\n",
    "news_df.to_csv('NaverNews_%s.csv'%search,index=False,encoding='utf-8-sig')"
   ]
  }
 ],
 "metadata": {
  "kernelspec": {
   "display_name": "Python 3 (ipykernel)",
   "language": "python",
   "name": "python3"
  },
  "language_info": {
   "codemirror_mode": {
    "name": "ipython",
    "version": 3
   },
   "file_extension": ".py",
   "mimetype": "text/x-python",
   "name": "python",
   "nbconvert_exporter": "python",
   "pygments_lexer": "ipython3",
   "version": "3.9.12"
  },
  "toc": {
   "base_numbering": 1,
   "nav_menu": {},
   "number_sections": true,
   "sideBar": true,
   "skip_h1_title": false,
   "title_cell": "Table of Contents",
   "title_sidebar": "Contents",
   "toc_cell": false,
   "toc_position": {},
   "toc_section_display": true,
   "toc_window_display": false
  },
  "vscode": {
   "interpreter": {
    "hash": "6d92439ee85d143f796604b380221378794b42173bebec2d5fbcc3e2c920ace3"
   }
  }
 },
 "nbformat": 4,
 "nbformat_minor": 2
}
