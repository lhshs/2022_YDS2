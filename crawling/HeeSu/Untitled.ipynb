{
 "cells": [
  {
   "cell_type": "code",
   "execution_count": 15,
   "id": "07d7a315",
   "metadata": {
    "ExecuteTime": {
     "end_time": "2022-09-19T10:52:00.911325Z",
     "start_time": "2022-09-19T10:52:00.906825Z"
    }
   },
   "outputs": [],
   "source": [
    "import pandas as pd"
   ]
  },
  {
   "cell_type": "code",
   "execution_count": 16,
   "id": "4eca024e",
   "metadata": {
    "ExecuteTime": {
     "end_time": "2022-09-19T10:52:01.186532Z",
     "start_time": "2022-09-19T10:52:01.163465Z"
    }
   },
   "outputs": [],
   "source": [
    "df = pd.read_csv('./NaverNews_바이오노트.csv')"
   ]
  },
  {
   "cell_type": "code",
   "execution_count": 14,
   "id": "88bc4d66",
   "metadata": {
    "ExecuteTime": {
     "end_time": "2022-09-19T10:07:38.297279Z",
     "start_time": "2022-09-19T10:07:38.289276Z"
    }
   },
   "outputs": [
    {
     "data": {
      "text/html": [
       "<div>\n",
       "<style scoped>\n",
       "    .dataframe tbody tr th:only-of-type {\n",
       "        vertical-align: middle;\n",
       "    }\n",
       "\n",
       "    .dataframe tbody tr th {\n",
       "        vertical-align: top;\n",
       "    }\n",
       "\n",
       "    .dataframe thead th {\n",
       "        text-align: right;\n",
       "    }\n",
       "</style>\n",
       "<table border=\"1\" class=\"dataframe\">\n",
       "  <thead>\n",
       "    <tr style=\"text-align: right;\">\n",
       "      <th></th>\n",
       "      <th>title</th>\n",
       "      <th>link</th>\n",
       "      <th>date</th>\n",
       "      <th>content</th>\n",
       "    </tr>\n",
       "  </thead>\n",
       "  <tbody>\n",
       "  </tbody>\n",
       "</table>\n",
       "</div>"
      ],
      "text/plain": [
       "Empty DataFrame\n",
       "Columns: [title, link, date, content]\n",
       "Index: []"
      ]
     },
     "execution_count": 14,
     "metadata": {},
     "output_type": "execute_result"
    }
   ],
   "source": [
    "# df[df['title'].str.contains('지아이이노베이션')]"
   ]
  },
  {
   "cell_type": "code",
   "execution_count": 20,
   "id": "f5a1515a",
   "metadata": {
    "ExecuteTime": {
     "end_time": "2022-09-19T10:53:45.960546Z",
     "start_time": "2022-09-19T10:53:45.954075Z"
    }
   },
   "outputs": [
    {
     "data": {
      "text/plain": [
       "title               “이번 달 성적이 하반기 가른다”…9월 IPO 주목하는 제약·바이오 업계\n",
       "link       https://n.news.naver.com/mnews/article/366/000...\n",
       "date                                              2022-09-14\n",
       "content    상반기 제약·바이오 IPO 4곳인데 9월 한 달에만 4개 업체 상장 예정 “하반기 ...\n",
       "Name: 1, dtype: object"
      ]
     },
     "execution_count": 20,
     "metadata": {},
     "output_type": "execute_result"
    }
   ],
   "source": [
    "df.loc[1]"
   ]
  },
  {
   "cell_type": "code",
   "execution_count": null,
   "id": "d5c6acd4",
   "metadata": {},
   "outputs": [],
   "source": []
  }
 ],
 "metadata": {
  "kernelspec": {
   "display_name": "Python 3 (ipykernel)",
   "language": "python",
   "name": "python3"
  },
  "language_info": {
   "codemirror_mode": {
    "name": "ipython",
    "version": 3
   },
   "file_extension": ".py",
   "mimetype": "text/x-python",
   "name": "python",
   "nbconvert_exporter": "python",
   "pygments_lexer": "ipython3",
   "version": "3.9.12"
  },
  "toc": {
   "base_numbering": 1,
   "nav_menu": {},
   "number_sections": true,
   "sideBar": true,
   "skip_h1_title": false,
   "title_cell": "Table of Contents",
   "title_sidebar": "Contents",
   "toc_cell": false,
   "toc_position": {},
   "toc_section_display": true,
   "toc_window_display": false
  }
 },
 "nbformat": 4,
 "nbformat_minor": 5
}
