{
 "cells": [
  {
   "cell_type": "markdown",
   "metadata": {
    "pycharm": {
     "name": "#%% md\n"
    }
   },
   "source": [
    "<div class=\"alert alert-block\" style=\"border: 1px solid #455A64;background-color:#ECEFF1;padding:5px;font-size:0.9em;\">\n",
    "본 자료와 관련 영상 컨텐츠는 저작권법 제25조 2항에 의해 보호를 받습니다. <br>본 컨텐츠 및 컨텐츠 일부 문구 등을 외부에 공개하거나, 요약해서 게시하지 말아주세요.<br>\n",
    "    <a href='https://www.fun-coding.org'>잔재미코딩(www.fun-coding.org) Dave Lee</a>\n",
    "</div>"
   ]
  },
  {
   "cell_type": "markdown",
   "metadata": {},
   "source": [
    "### 0. 알고리즘 연습 방법\n",
    "* 알고리즘을 잘 작성하기 위해서는 잘 작성된 알고리즘을 이해하고, 스스로 만들어봐야 함\n",
    "  - 모사! 그림을 잘 그리기 위해서는 잘 그린 그림을 모방하는 것부터 시작\n",
    "\n",
    "> 이번 챕터부터 알고리즘 시작입니다.!"
   ]
  },
  {
   "cell_type": "markdown",
   "metadata": {},
   "source": [
    "<div class=\"alert alert-block\" style=\"border: 1px solid #FFB300;background-color:#F9FBE7;font-size:1em;line-height:1.4em\">\n",
    "<font size=\"5em\" style=\"font-weight:bold;color:#3f8dbf;\">알고리즘 연습 방법</font><br><br>\n",
    "1. 연습장과 펜을 준비합니다. <br><br>\n",
    "2. 알고리즘 문제를 읽고 분석한 후에, <br><br>\n",
    "3. 간단하게 테스트용으로 매우 간단한 경우부터 복잡한 경우 순서대로 생각해보면서, 연습장과 펜을 이용하여 알고리즘을 생각해봅니다. <br><br>\n",
    "4. 가능한 알고리즘이 보인다면, 구현할 알고리즘을 세부 항목으로 나누고, 문장으로 세부 항목을 나누어서 적어봅니다. <br><br>\n",
    "5. 코드화하기 위해, 데이터 구조 또는 사용할 변수를 정리하고, <br><br>\n",
    "6. 각 문장을 코드 레벨로 적습니다. <br><br>\n",
    "7. 변수가 코드에 따라 어떻게 변하는지를 손으로 적으면서, 임의 데이터로 코드가 정상 동작하는지를 연습장과 펜으로 검증합니다. <br>\n",
    "    \n",
    "</div>"
   ]
  },
  {
   "cell_type": "markdown",
   "metadata": {},
   "source": [
    "<div class=\"alert alert-block\" style=\"border: 1px solid #FFB300;background-color:#F9FBE7;font-size:1em;line-height:1.4em\">\n",
    "<font size=\"4em\" style=\"font-weight:bold;color:#3f8dbf;\">연습해보기: </font><br><br>\n",
    "- 정수 4를 1, 2, 3의 조합으로 나타내는 방법은 다음과 같이 총 7가지가 있음\n",
    "- 정수 n이 입력으로 주어졌을 때, n을 1, 2, 3의 합으로 나타낼 수 있는 방법의 수를 구하시오\n",
    "<pre>\n",
    "1+1+1+1\n",
    "1+1+2\n",
    "1+2+1\n",
    "2+1+1\n",
    "2+2\n",
    "1+3\n",
    "3+1\n",
    "</pre>    \n",
    "\n",
    "힌트: 정수 n을 만들 수 있는 경우의 수를 리턴하는 함수를 f(n) 이라고 하면,<br>\n",
    "f(n)은 f(n-1) + f(n-2) + f(n-3) 과 동일하다는 패턴 찾기<br>\n",
    "출처: https://www.acmicpc.net/problem/9095\n",
    "</div>"
   ]
  },
  {
   "cell_type": "markdown",
   "metadata": {},
   "source": [
    "### 문제 분석을 연습장에 작성해 본 예\n",
    "<img src=\"https://www.fun-coding.org/00_Images/algopractice.jpg\" />"
   ]
  },
  {
   "cell_type": "markdown",
   "metadata": {},
   "source": [
    "### 재귀 함수 이용 풀이"
   ]
  },
  {
   "cell_type": "code",
   "execution_count": 1,
   "metadata": {},
   "outputs": [],
   "source": [
    "def func(data):\n",
    "    if data == 1:\n",
    "        return 1\n",
    "    elif data == 2:\n",
    "        return 2\n",
    "    elif data == 3:\n",
    "        return 4\n",
    "    \n",
    "    return func(data -1) + func(data - 2) + func(data - 3)"
   ]
  },
  {
   "cell_type": "code",
   "execution_count": 2,
   "metadata": {},
   "outputs": [
    {
     "data": {
      "text/plain": [
       "13"
      ]
     },
     "execution_count": 2,
     "metadata": {},
     "output_type": "execute_result"
    }
   ],
   "source": [
    "func(5)"
   ]
  },
  {
   "cell_type": "markdown",
   "metadata": {},
   "source": [
    "### 동적 계획법 이용 풀이"
   ]
  },
  {
   "cell_type": "code",
   "execution_count": 41,
   "metadata": {},
   "outputs": [],
   "source": [
    "import sys, io\n",
    "file = open(\"inputs.txt\", 'w')\n",
    "# 다음 데이터에 그대로 여러 데이터를 복사붙여넣기 하면 됨\n",
    "data = \"\"\"3\n",
    "4\n",
    "7\n",
    "10\n",
    "\"\"\"\n",
    "file.write(data)\n",
    "file.close()\n",
    "input_file = open(\"inputs.txt\", \"r\") \n",
    "sys.stdin = io.StringIO(input_file.read())"
   ]
  },
  {
   "cell_type": "code",
   "execution_count": 42,
   "metadata": {},
   "outputs": [
    {
     "name": "stdout",
     "output_type": "stream",
     "text": [
      "7\n",
      "44\n",
      "274\n"
     ]
    }
   ],
   "source": [
    "import sys\n",
    "input = sys.stdin.readline\n",
    "\n",
    "T = int(input())\n",
    "\n",
    "for i in range(T) :\n",
    "    n = int(input())\n",
    "    dp = [0]*(n+1)\n",
    "    if n == 1 :\n",
    "        print(1)\n",
    "    elif n == 2 :\n",
    "        print(2)\n",
    "    elif n == 3 :\n",
    "        print(4)\n",
    "    else :\n",
    "        dp[1] = 1\n",
    "        dp[2] = 2\n",
    "        dp[3] = 4\n",
    "        for j in range(4,n+1) :\n",
    "            dp[j] = dp[j-1] + dp[j-2] + dp[j-3]\n",
    "        print(dp[n])"
   ]
  },
  {
   "cell_type": "markdown",
   "metadata": {
    "pycharm": {
     "name": "#%% md\n"
    }
   },
   "source": [
    "### 실전 코딩 테스트 - 구현/시뮬레이션"
   ]
  },
  {
   "cell_type": "markdown",
   "metadata": {},
   "source": [
    "<div class=\"alert alert-block\" style=\"border: 2px solid #E65100;background-color:#FFF3E0;padding:10px\">\n",
    "<font size=\"4em\" style=\"color:#BF360C;\">알고리즘 유형 중, 가장 일반적이고, 특별한 코딩 패턴이 없는 기본 유형</font><br>\n",
    "    <font size=\"4em\" style=\"color:#BF360C;\">자료구조, 알고리즘 이해 없이도, 풀 수 있으며, 이를 통해, 코딩 테스트 자체에 익숙해지기로 함</font>\n",
    "</div>"
   ]
  },
  {
   "cell_type": "markdown",
   "metadata": {},
   "source": [
    "### 1. 연습문제:  윤년 https://www.acmicpc.net/problem/2753"
   ]
  },
  {
   "cell_type": "markdown",
   "metadata": {},
   "source": [
    "<div class=\"alert alert-block\" style=\"border: 2px solid #E65100;background-color:#FFF3E0;padding:10px\">\n",
    "<font size=\"4em\" style=\"font-weight:bold;color:#BF360C;\">jupyter notebook 과 코딩 테스트 팁</font><br><br>\n",
    "<font size=\"3em\" style=\"color:#BF360C;\">input() 함수로 일일이 여러 데이터를 입력하기는 무리가 있음</font><br>\n",
    "<font size=\"3em\" style=\"color:#BF360C;\">input() 함수에 여러 데이터를 넣는 방법으로 파일 입력을 sys.stdin (입력 스트림) 에 넣어서 input() 에 순차적으로 넣어줄 수 있음</font><br>\n",
    "<font size=\"3em\" style=\"color:#BF360C;\">jupyter notebook 에서는 sys.stdin (입력 스트림) 이 별도 구현되어 있어서, 위의 동작이 안됨</font><br>\n",
    "<font size=\"3em\" style=\"color:#BF360C;\">다음과 같이 특별한 코드를 사용해서, 바로바로 여러 데이터를 가지고 테스트할 수 있음</font><br>\n",
    "<font size=\"3em\" style=\"color:#BF360C;\">이를 통해, jupyter notebook 이 가지는 코드 작성의 장점을 활용하여, 코딩 테스트를 빠르게 익힐 수 있음</font><br>\n",
    "    \n",
    "<div class=\"alert alert-block\" style=\"border: 2px solid #E65100;background-color:#FFF3E0;padding:10px\">\n",
    "import sys, io <br>\n",
    "file = open(\"inputs.txt\", 'w') <br>\n",
    "# 다음 데이터에 그대로 여러 데이터를 복사붙여넣기 하면 됨 <br>\n",
    "data = \"\"\"2000 <br>\n",
    "\"\"\" <br>\n",
    "file.write(data) <br>\n",
    "file.close() <br>\n",
    "input_file = open(\"inputs.txt\", \"r\")  <br>\n",
    "sys.stdin = io.StringIO(input_file.read()) <br>    \n",
    "</div>\n",
    "<font size=\"3em\" style=\"color:#BF360C;\">제출할 코드는 별도 셀로 만들어서, 한번에 복사 붙여넣기로 제출하면 편함</font><br>\n",
    "<font size=\"3em\" style=\"color:#BF360C;\">코딩테스트시 입력도 성능을 높이기 위해 다음 코드를 제출할 코드 상단에 붙여넣고 제출</font><br>    \n",
    "<div class=\"alert alert-block\" style=\"border: 2px solid #E65100;background-color:#FFF3E0;padding:10px\">\n",
    "import sys <br>\n",
    "input = sys.stdin.readline <br>\n",
    "</div>\n",
    "</div>"
   ]
  },
  {
   "cell_type": "markdown",
   "metadata": {},
   "source": [
    "<div class=\"alert alert-block\" style=\"border: 2px solid #E65100;background-color:#FFF3E0;padding:10px\">\n",
    "<font size=\"4em\" style=\"font-weight:bold;color:#BF360C;\">데이터 입력 팁</font><br><br>\n",
    "    <font size=\"3em\" style=\"color:#BF360C;\">다음 코드를 백준 제출시에</font><br>\n",
    "<div class=\"alert alert-block\" style=\"border: 2px solid #E65100;background-color:#FFF3E0;padding:10px\">\n",
    "N = int(input()) # 하나의 데이터를 입력받을 때 <br>    \n",
    "N, K = map(int, input().split()) # N K 와 같이 여러 데이터를 입력받을 때 <br> \n",
    "coins = [int(input()) for _ in range(N)] # 1 2 3 4 의 지정된 갯수를 리스트로 입력받을 때 <br>\n",
    "\n",
    "</div>\n",
    "</div>"
   ]
  },
  {
   "cell_type": "markdown",
   "metadata": {},
   "source": [
    "<div class=\"alert alert-block\" style=\"border: 2px solid #E65100;background-color:#FFF3E0;padding:10px\">\n",
    "<font size=\"4em\" style=\"font-weight:bold;color:#BF360C;\">코드 제출 팁</font><br><br>\n",
    "    <font size=\"3em\" style=\"color:#BF360C;\">제출시 언어를 'Python 3' 가 아닌 'PyPy3' 로 선택하면, 속도가 일반적으로 더 빠름</font><br>\n",
    "</div>"
   ]
  },
  {
   "cell_type": "code",
   "execution_count": 10,
   "metadata": {},
   "outputs": [],
   "source": [
    "import sys, io\n",
    "file = open(\"inputs.txt\", 'w')\n",
    "# 다음 데이터에 그대로 여러 데이터를 복사붙여넣기 하면 됨\n",
    "data = \"\"\"2000\n",
    "\"\"\"\n",
    "file.write(data)\n",
    "file.close()\n",
    "input_file = open(\"inputs.txt\", \"r\") \n",
    "sys.stdin = io.StringIO(input_file.read())"
   ]
  },
  {
   "cell_type": "code",
   "execution_count": 11,
   "metadata": {},
   "outputs": [
    {
     "name": "stdout",
     "output_type": "stream",
     "text": [
      "1\n"
     ]
    }
   ],
   "source": [
    "import sys\n",
    "input = sys.stdin.readline\n",
    "\n",
    "N = int(input())\n",
    "\n",
    "if (N % 4 == 0 and N % 100 != 0) or (N % 400 == 0):\n",
    "    print(1)\n",
    "else:\n",
    "    print(0)"
   ]
  },
  {
   "cell_type": "markdown",
   "metadata": {},
   "source": [
    "### 2. 연습문제: 알람 시계 https://www.acmicpc.net/problem/2884"
   ]
  },
  {
   "cell_type": "markdown",
   "metadata": {},
   "source": [
    "<div class=\"alert alert-block\" style=\"border: 2px solid #E65100;background-color:#FFF3E0;padding:10px\">\n",
    "<font size=\"4em\" style=\"font-weight:bold;color:#BF360C;\">코딩 테스트 이해</font><br><br>\n",
    "<font size=\"3em\" style=\"color:#BF360C;\">코딩 테스트는 문제가 길고, 아이큐 테스트 느낌으로 힌트를 찾아야 하는 문제도 많음</font><br>\n",
    "<font size=\"3em\" style=\"color:#BF360C;\">이러한 문제들은 특정 코딩 테스트 유형/코딩 패턴이 있는 문제도 마찬가지임</font><br>\n",
    "<font size=\"3em\" style=\"color:#BF360C;\">이러한 문제들은 많이 풀어보는 방법밖에 없음</font><br>\n",
    "</div>"
   ]
  },
  {
   "cell_type": "code",
   "execution_count": 28,
   "metadata": {},
   "outputs": [],
   "source": [
    "import sys, io\n",
    "file = open(\"inputs.txt\", 'w')\n",
    "# 다음 데이터에 그대로 여러 데이터를 복사붙여넣기 하면 됨\n",
    "data = \"\"\"10 10\n",
    "\"\"\"\n",
    "file.write(data)\n",
    "file.close()\n",
    "input_file = open(\"inputs.txt\", \"r\") \n",
    "sys.stdin = io.StringIO(input_file.read())"
   ]
  },
  {
   "cell_type": "code",
   "execution_count": 29,
   "metadata": {},
   "outputs": [
    {
     "name": "stdout",
     "output_type": "stream",
     "text": [
      "9 25\n"
     ]
    }
   ],
   "source": [
    "import sys\n",
    "input = sys.stdin.readline\n",
    "\n",
    "H, M = map(int,input().split())\n",
    "\n",
    "if M >= 45:\n",
    "    print(H, M - 45)\n",
    "elif H > 0 and M < 45:\n",
    "    print(H - 1, M + 15)\n",
    "else:\n",
    "    print(23, M + 15)"
   ]
  },
  {
   "cell_type": "markdown",
   "metadata": {},
   "source": [
    "### 3. 연습문제:  최소, 최대 2 https://www.acmicpc.net/problem/20053\n",
    "\n",
    "<div class=\"alert alert-block\" style=\"border: 2px solid #E65100;background-color:#FFF3E0;padding:10px\">\n",
    "<font size=\"4em\" style=\"font-weight:bold;color:#BF360C;\">코딩 테스트 팁</font><br><br>\n",
    "<font size=\"3em\" style=\"color:#BF360C;\">드물지만, 코딩 테스트시 알아두면 좋을 문법과 용어가 가끔 있음 (특별히 많지는 않음)</font><br>\n",
    "<font size=\"3em\" style=\"color:#BF360C;\">숫자에서는 min(), max() 는 손쉽게 사용할 수 있도록 익숙해질 필요가 있음</font><br>\n",
    "</div>"
   ]
  },
  {
   "cell_type": "code",
   "execution_count": 1,
   "metadata": {},
   "outputs": [],
   "source": [
    "import sys, io\n",
    "file = open(\"inputs.txt\", 'w')\n",
    "# 다음 데이터에 그대로 여러 데이터를 복사붙여넣기 하면 됨\n",
    "data = \"\"\"3\n",
    "5\n",
    "20 28 22 25 21\n",
    "5\n",
    "30 21 17 25 29\n",
    "5\n",
    "20 10 35 30 7\n",
    "\"\"\"\n",
    "file.write(data)\n",
    "file.close()\n",
    "input_file = open(\"inputs.txt\", \"r\") \n",
    "sys.stdin = io.StringIO(input_file.read())"
   ]
  },
  {
   "cell_type": "code",
   "execution_count": 2,
   "metadata": {},
   "outputs": [
    {
     "name": "stdout",
     "output_type": "stream",
     "text": [
      "20 28\n",
      "17 30\n",
      "7 35\n"
     ]
    }
   ],
   "source": [
    "import sys\n",
    "input = sys.stdin.readline\n",
    "\n",
    "T = int(input()) #테스트케이스\n",
    "\n",
    "for i in range(T):\n",
    "    N = int(input())\n",
    "    digits = list(map(int, input().split()))\n",
    "    print( min(digits), max(digits) )"
   ]
  },
  {
   "cell_type": "markdown",
   "metadata": {},
   "source": [
    "### 4. 연습문제: 약수 구하기 https://www.acmicpc.net/problem/2501\n",
    "<div class=\"alert alert-block\" style=\"border: 2px solid #E65100;background-color:#FFF3E0;padding:10px\">\n",
    "<font size=\"4em\" style=\"font-weight:bold;color:#BF360C;\">구현/시뮬레이션 코딩 테스트 팁</font><br><br>\n",
    "<font size=\"3em\" style=\"color:#BF360C;\">문제를 꼼꼼하게 읽고, 문제에서 제시한 바를 그대로 구현하면 됨</font><br>\n",
    "</div>"
   ]
  },
  {
   "cell_type": "code",
   "execution_count": 19,
   "metadata": {},
   "outputs": [],
   "source": [
    "import sys, io\n",
    "file = open(\"inputs.txt\", 'w')\n",
    "# 다음 데이터에 그대로 여러 데이터를 복사붙여넣기 하면 됨\n",
    "data = \"\"\"2735 1\n",
    "\"\"\"\n",
    "file.write(data)\n",
    "file.close()\n",
    "input_file = open(\"inputs.txt\", \"r\") \n",
    "sys.stdin = io.StringIO(input_file.read())"
   ]
  },
  {
   "cell_type": "code",
   "execution_count": 20,
   "metadata": {},
   "outputs": [
    {
     "name": "stdout",
     "output_type": "stream",
     "text": [
      "1\n"
     ]
    }
   ],
   "source": [
    "import sys\n",
    "input = sys.stdin.readline\n",
    "\n",
    "N, K = map(int, input().split())\n",
    "for index in range(1, N + 1):\n",
    "    if N % index == 0:\n",
    "        K -= 1\n",
    "        if K == 0:\n",
    "            result = index\n",
    "            break\n",
    "if K > 0:\n",
    "    print (0)\n",
    "else:\n",
    "    print (result)"
   ]
  },
  {
   "cell_type": "markdown",
   "metadata": {},
   "source": [
    "### 5. 연습문제: 더하기 사이클 https://www.acmicpc.net/problem/1110\n",
    "\n",
    "<div class=\"alert alert-block\" style=\"border: 2px solid #E65100;background-color:#FFF3E0;padding:10px\">\n",
    "<font size=\"4em\" style=\"font-weight:bold;color:#BF360C;\">구현/시뮬레이션 코딩 테스트 팁</font><br><br>\n",
    "<font size=\"3em\" style=\"color:#BF360C;\">문제를 꼼꼼하게 읽고, 문제에서 제시한 바를 그대로 구현하면 됨</font><br>\n",
    "</div>"
   ]
  },
  {
   "cell_type": "markdown",
   "metadata": {},
   "source": [
    "### 힌트"
   ]
  },
  {
   "cell_type": "code",
   "execution_count": 39,
   "metadata": {},
   "outputs": [
    {
     "name": "stdout",
     "output_type": "stream",
     "text": [
      "2 5\n"
     ]
    }
   ],
   "source": [
    "# 1의 자리수\n",
    "data = 25\n",
    "print (data // 10, data % 10)"
   ]
  },
  {
   "cell_type": "markdown",
   "metadata": {},
   "source": [
    "### 문제풀이"
   ]
  },
  {
   "cell_type": "code",
   "execution_count": 36,
   "metadata": {},
   "outputs": [],
   "source": [
    "import sys, io\n",
    "file = open(\"inputs.txt\", 'w')\n",
    "# 다음 데이터에 그대로 여러 데이터를 복사붙여넣기 하면 됨\n",
    "data = \"\"\"26\n",
    "\"\"\"\n",
    "file.write(data)\n",
    "file.close()\n",
    "input_file = open(\"inputs.txt\", \"r\") \n",
    "sys.stdin = io.StringIO(input_file.read())"
   ]
  },
  {
   "cell_type": "code",
   "execution_count": 37,
   "metadata": {},
   "outputs": [
    {
     "name": "stdout",
     "output_type": "stream",
     "text": [
      "4\n"
     ]
    }
   ],
   "source": [
    "import sys\n",
    "input = sys.stdin.readline\n",
    "\n",
    "N = int(input())\n",
    "update_num = N\n",
    "count = 0\n",
    " \n",
    "while True:\n",
    "    a = update_num // 10     # 10의 자리수\n",
    "    b = update_num % 10    # 1의 자리수\n",
    "    c = (a + b) % 10 # 두 자리 수를 더한 값의 1의 자리수\n",
    "    update_num = (b * 10) + c # 본래의 1의 자리수 X 10 + 두 자리 수를 더한 값의 1의 자리수\n",
    "    count += 1\n",
    "    if(update_num == N):\n",
    "        break\n",
    "\n",
    "print(count)"
   ]
  },
  {
   "cell_type": "markdown",
   "metadata": {},
   "source": [
    "### 6. 연습문제: 회문 https://www.acmicpc.net/problem/17609"
   ]
  },
  {
   "cell_type": "markdown",
   "metadata": {},
   "source": [
    "<div class=\"alert alert-block\" style=\"border: 2px solid #E65100;background-color:#FFF3E0;padding:10px\">\n",
    "<font size=\"4em\" style=\"font-weight:bold;color:#BF360C;\">문자열 문제 코딩 테스트 팁</font><br><br>\n",
    "<font size=\"3em\" style=\"color:#BF360C;\">드물지만, 코딩 테스트시 알아두면 좋을 문법과 용어가 가끔 있음 (특별히 많지는 않음)</font><br>\n",
    "<font size=\"3em\" style=\"color:#BF360C;\">문자열에서는 회문과 다음 문법을 알아둘 필요가 있음</font><br>\n",
    "</div>"
   ]
  },
  {
   "cell_type": "markdown",
   "metadata": {},
   "source": [
    "### [:] 문법 이해 \n",
    "- 리스트 복사\n",
    "- 기존 복사한 리스트와 다른 공간에 저장되므로, 새로운 공간에 값을 바꾸었을 때, 기존 복사한 리스트의 원본 값이 바뀌지 않음"
   ]
  },
  {
   "cell_type": "code",
   "execution_count": 15,
   "metadata": {},
   "outputs": [
    {
     "name": "stdout",
     "output_type": "stream",
     "text": [
      "[0, 1, 2, 3, 4, 5, 6, 7, 8, 9] [10, 1, 2, 3, 4, 5, 6, 7, 8, 9]\n"
     ]
    }
   ],
   "source": [
    "data1 = list(range(10))\n",
    "data2 = data1[:]\n",
    "data2[0] = 10\n",
    "print (data1, data2)"
   ]
  },
  {
   "cell_type": "markdown",
   "metadata": {},
   "source": [
    "### [A:B:C] 문법 이해\n",
    "- A 에서 B 까지 C 간격으로 새로운 리스트 만들기\n",
    "- 역시 기존 복사한 리스트와 다른 공간에 저장되므로, 새로운 공간에 값을 바꾸었을 때, 기존 복사한 리스트의 원본 값이 바뀌지 않음\n",
    "- 문자열을 역순으로 만들 때 [::-1] 로 사용함"
   ]
  },
  {
   "cell_type": "code",
   "execution_count": 22,
   "metadata": {},
   "outputs": [
    {
     "name": "stdout",
     "output_type": "stream",
     "text": [
      "[3, 2, 1]\n",
      "[0, 1, 2, 3, 4, 5, 6, 7, 8, 9] [10, 2, 1]\n"
     ]
    }
   ],
   "source": [
    "data1 = list(range(10))\n",
    "data2 = data1[3:0:-1]\n",
    "print (data2)\n",
    "data2[0] = 10\n",
    "print (data1, data2)"
   ]
  },
  {
   "cell_type": "code",
   "execution_count": 24,
   "metadata": {},
   "outputs": [
    {
     "name": "stdout",
     "output_type": "stream",
     "text": [
      "funcoding gnidocnuf\n"
     ]
    }
   ],
   "source": [
    "word = 'funcoding'\n",
    "print (word[:], word[::-1])"
   ]
  },
  {
   "cell_type": "markdown",
   "metadata": {},
   "source": [
    "### 문제 풀이"
   ]
  },
  {
   "cell_type": "code",
   "execution_count": 25,
   "metadata": {},
   "outputs": [],
   "source": [
    "import sys, io\n",
    "file = open(\"inputs.txt\", 'w')\n",
    "# 다음 데이터에 그대로 여러 데이터를 복사붙여넣기 하면 됨\n",
    "data = \"\"\"7\n",
    "abba\n",
    "summuus\n",
    "xabba\n",
    "xabbay\n",
    "comcom\n",
    "comwwmoc\n",
    "comwwtmoc\n",
    "\"\"\"\n",
    "file.write(data)\n",
    "file.close()\n",
    "input_file = open(\"inputs.txt\", \"r\") \n",
    "sys.stdin = io.StringIO(input_file.read())"
   ]
  },
  {
   "cell_type": "code",
   "execution_count": 26,
   "metadata": {},
   "outputs": [
    {
     "name": "stdout",
     "output_type": "stream",
     "text": [
      "0\n",
      "1\n",
      "1\n",
      "2\n",
      "2\n",
      "0\n",
      "1\n"
     ]
    }
   ],
   "source": [
    "import sys\n",
    "input = sys.stdin.readline\n",
    "\n",
    "def is_palindrome(word):\n",
    "    left = 0\n",
    "    right = len(word) - 1\n",
    "    while left < right:\n",
    "        # 양끝이 동일하면 하나씩 앞으로 당김\n",
    "        if word[left] == word[right]:\n",
    "            left += 1\n",
    "            right -= 1\n",
    "        else:\n",
    "            # 양끝이 다르면, 왼쪽, 또는 오른쪽 문자열 제거 후 회문이 되는지 확인\n",
    "            if left < right - 1:\n",
    "                pseudo_word = word[:right] + word[right + 1:] # right 에 해당되는 문자만 제거\n",
    "                if pseudo_word[:] == pseudo_word[::-1]:\n",
    "                    return 1\n",
    "            if left + 1 < right:\n",
    "                pseudo_word = word[:left] + word[left + 1:] # left 에 해당되는 문자만 제거\n",
    "                if pseudo_word[:] == pseudo_word[::-1]:\n",
    "                    return 1\n",
    "            # 회문, 유사회문 둘다 안된 케이스\n",
    "            return 2\n",
    "    return 0\n",
    "\n",
    "T = int(input()) #테스트케이스\n",
    "\n",
    "for i in range(T):\n",
    "    N = input().strip()\n",
    "    print(is_palindrome(N))"
   ]
  },
  {
   "cell_type": "markdown",
   "metadata": {},
   "source": [
    "<div class=\"alert alert-block\" style=\"border: 1px solid #455A64;background-color:#ECEFF1;padding:5px;font-size:0.9em;\">\n",
    "본 자료와 관련 영상 컨텐츠는 저작권법 제25조 2항에 의해 보호를 받습니다. <br>본 컨텐츠 및 컨텐츠 일부 문구 등을 외부에 공개하거나, 요약해서 게시하지 말아주세요.<br>\n",
    "    <a href='https://www.fun-coding.org'>잔재미코딩(www.fun-coding.org) Dave Lee</a>\n",
    "</div>"
   ]
  }
 ],
 "metadata": {
  "kernelspec": {
   "display_name": "Python 3 (ipykernel)",
   "language": "python",
   "name": "python3"
  },
  "language_info": {
   "codemirror_mode": {
    "name": "ipython",
    "version": 3
   },
   "file_extension": ".py",
   "mimetype": "text/x-python",
   "name": "python",
   "nbconvert_exporter": "python",
   "pygments_lexer": "ipython3",
   "version": "3.9.12"
  }
 },
 "nbformat": 4,
 "nbformat_minor": 4
}
