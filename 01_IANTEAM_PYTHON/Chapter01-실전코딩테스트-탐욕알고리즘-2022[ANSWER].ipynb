{
 "cells": [
  {
   "cell_type": "markdown",
   "metadata": {},
   "source": [
    "<div class=\"alert alert-block\" style=\"border: 1px solid #455A64;background-color:#ECEFF1;padding:5px;font-size:0.9em;\">\n",
    "본 자료와 관련 영상 컨텐츠는 저작권법 제25조 2항에 의해 보호를 받습니다. <br>본 컨텐츠 및 컨텐츠 일부 문구 등을 외부에 공개하거나, 요약해서 게시하지 말아주세요.<br>\n",
    "    <a href='https://www.fun-coding.org'>잔재미코딩(www.fun-coding.org) Dave Lee</a>\n",
    "</div>"
   ]
  },
  {
   "cell_type": "markdown",
   "metadata": {
    "pycharm": {
     "name": "#%% md\n"
    }
   },
   "source": [
    "### 실전 코딩 테스트 - 탐욕 알고리즘 (Greedy, 그리디)"
   ]
  },
  {
   "cell_type": "markdown",
   "metadata": {},
   "source": [
    "### 1. 연습문제:  동전 https://www.acmicpc.net/problem/11047\n",
    "\n",
    "<div class=\"alert alert-block\" style=\"border: 2px solid #E65100;background-color:#FFF3E0;padding:10px\">\n",
    "<font size=\"4em\" style=\"color:#BF360C;\">대표적인 문제로 탐욕 알고리즘을 익히면, 처음 익히는 예제</font><br>\n",
    "    <font size=\"4em\" style=\"color:#BF360C;\">익숙한 문제로 탐욕 알고리즘을 이해하고, 몸과 마음 풀기</font>\n",
    "</div>"
   ]
  },
  {
   "cell_type": "markdown",
   "metadata": {},
   "source": [
    "<div class=\"alert alert-block\" style=\"border: 2px solid #E65100;background-color:#FFF3E0;padding:10px\">\n",
    "<font size=\"4em\" style=\"font-weight:bold;color:#BF360C;\">jupyter notebook 과 코딩 테스트 팁</font><br><br>\n",
    "<font size=\"3em\" style=\"color:#BF360C;\">input() 함수로 일일이 여러 데이터를 입력하기는 무리가 있음</font><br>\n",
    "<font size=\"3em\" style=\"color:#BF360C;\">input() 함수에 여러 데이터를 넣는 방법으로 파일 입력을 sys.stdin (입력 스트림) 에 넣어서 input() 에 순차적으로 넣어줄 수 있음</font><br>\n",
    "<font size=\"3em\" style=\"color:#BF360C;\">jupyter notebook 에서는 sys.stdin (입력 스트림) 이 별도 구현되어 있어서, 위의 동작이 안됨</font><br>\n",
    "<font size=\"3em\" style=\"color:#BF360C;\">다음과 같이 특별한 코드를 사용해서, 바로바로 여러 데이터를 가지고 테스트할 수 있음</font><br>\n",
    "<font size=\"3em\" style=\"color:#BF360C;\">이를 통해, jupyter notebook 이 가지는 코드 작성의 장점을 활용하여, 코딩 테스트를 빠르게 익힐 수 있음</font><br>\n",
    "</div>"
   ]
  },
  {
   "cell_type": "markdown",
   "metadata": {},
   "source": [
    "<div class=\"alert alert-block\" style=\"border: 2px solid #E65100;background-color:#FFF3E0;padding:10px\">\n",
    "<font size=\"4em\" style=\"font-weight:bold;color:#BF360C;\">데이터 입력 팁</font><br><br>\n",
    "    <font size=\"3em\" style=\"color:#BF360C;\">다음 코드를 백준 제출시에</font><br>\n",
    "<div class=\"alert alert-block\" style=\"border: 2px solid #E65100;background-color:#FFF3E0;padding:10px\">\n",
    "N, K = map(int, input().split()) # N K 와 같이 여러 데이터를 입력받을 때 <br> \n",
    "coins = [int(input()) for _ in range(N)] # 1 2 3 4 의 지정된 갯수를 리스트로 입력받을 때\n",
    "\n",
    "</div>\n",
    "</div>"
   ]
  },
  {
   "cell_type": "markdown",
   "metadata": {},
   "source": [
    "<div class=\"alert alert-block\" style=\"border: 2px solid #E65100;background-color:#FFF3E0;padding:10px\">\n",
    "<font size=\"4em\" style=\"font-weight:bold;color:#BF360C;\">코드 제출 팁</font><br><br>\n",
    "    <font size=\"3em\" style=\"color:#BF360C;\">제출시 언어를 'Python 3' 가 아닌 'PyPy3' 로 선택하면, 속도가 일반적으로 더 빠름</font><br>\n",
    "</div>"
   ]
  },
  {
   "cell_type": "code",
   "execution_count": 23,
   "metadata": {},
   "outputs": [],
   "source": [
    "import sys, io\n",
    "file = open(\"inputs.txt\", 'w')\n",
    "# 다음 데이터에 그대로 여러 데이터를 복사붙여넣기 하면 됨\n",
    "data = \"\"\"10 4200\n",
    "1\n",
    "5\n",
    "10\n",
    "50\n",
    "100\n",
    "500\n",
    "1000\n",
    "5000\n",
    "10000\n",
    "50000\n",
    "\"\"\"\n",
    "file.write(data)\n",
    "file.close()\n",
    "input_file = open(\"inputs.txt\", \"r\") \n",
    "sys.stdin = io.StringIO(input_file.read())"
   ]
  },
  {
   "cell_type": "code",
   "execution_count": 24,
   "metadata": {},
   "outputs": [
    {
     "name": "stdout",
     "output_type": "stream",
     "text": [
      "6\n"
     ]
    }
   ],
   "source": [
    "import sys\n",
    "input = sys.stdin.readline\n",
    "\n",
    "N, K = map(int, input().split()) # N : 화폐 종류수, K : 거슬러 줄 돈\n",
    "coins = [int(input()) for _ in range(N)]\n",
    "coins.sort(reverse=True)\n",
    "# coins = [50000, 10000, 5000, 1000, 500, 100, 50, 10, 5, 1]\n",
    "\n",
    "# 3. 만약 '계산대 안에 있는 화폐'보다 '거슬러 줄 돈'이 크다면\n",
    "# 돈을 거슬러 줍니다.\n",
    "count = 0\n",
    "for coin in coins:\n",
    "    if K >= coin:\n",
    "        count += K // coin # 몫만큼 더하기\n",
    "        K %= coin # 나머지 할당\n",
    "        if K <= 0: # 만약 K가 0이면 반복문을 탈출합니다.\n",
    "            break\n",
    "print(count) # 거슬러 준 동전 + 화폐의 수"
   ]
  },
  {
   "cell_type": "markdown",
   "metadata": {
    "pycharm": {
     "name": "#%% md\n"
    }
   },
   "source": [
    "### 2. 연습문제:  ATM https://www.acmicpc.net/problem/11399\n",
    "\n",
    "<div class=\"alert alert-block\" style=\"border: 2px solid #E65100;background-color:#FFF3E0;padding:10px\">\n",
    "<font size=\"4em\" style=\"color:#BF360C;\">코드 패턴을 생각해보세요</font>\n",
    "</div>"
   ]
  },
  {
   "cell_type": "code",
   "execution_count": 5,
   "metadata": {},
   "outputs": [],
   "source": [
    "import sys, io\n",
    "file = open(\"inputs.txt\", 'w')\n",
    "# 다음 데이터에 그대로 여러 데이터를 복사붙여넣기 하면 됨\n",
    "data = \"\"\"5\n",
    "3 1 4 3 2\n",
    "\"\"\"\n",
    "file.write(data)\n",
    "file.close()\n",
    "input_file = open(\"inputs.txt\", \"r\") \n",
    "sys.stdin = io.StringIO(input_file.read())"
   ]
  },
  {
   "cell_type": "code",
   "execution_count": 2,
   "metadata": {
    "pycharm": {
     "name": "#%%\n"
    }
   },
   "outputs": [
    {
     "name": "stdout",
     "output_type": "stream",
     "text": [
      "32\n"
     ]
    }
   ],
   "source": [
    "import sys\n",
    "input = sys.stdin.readline\n",
    "\n",
    "N = int(input())\n",
    "seconds = list(map(int, input().split()))\n",
    "minimum = 0\n",
    "seconds.sort()\n",
    "\n",
    "for i in range(N):\n",
    "    for j in range(i + 1):\n",
    "        minimum += seconds[j]\n",
    "print(minimum)"
   ]
  },
  {
   "cell_type": "markdown",
   "metadata": {},
   "source": [
    "### 다른 풀이\n",
    "- sum(리스트) 는 코딩 테스트에서 유용하게 사용되므로 익혀두기로 함"
   ]
  },
  {
   "cell_type": "code",
   "execution_count": null,
   "metadata": {},
   "outputs": [],
   "source": [
    "import sys, io\n",
    "file = open(\"inputs.txt\", 'w')\n",
    "# 다음 데이터에 그대로 여러 데이터를 복사붙여넣기 하면 됨\n",
    "data = \"\"\"5\n",
    "3 1 4 3 2\n",
    "\"\"\"\n",
    "file.write(data)\n",
    "file.close()\n",
    "input_file = open(\"inputs.txt\", \"r\") \n",
    "sys.stdin = io.StringIO(input_file.read())"
   ]
  },
  {
   "cell_type": "code",
   "execution_count": 6,
   "metadata": {},
   "outputs": [
    {
     "name": "stdout",
     "output_type": "stream",
     "text": [
      "32\n"
     ]
    }
   ],
   "source": [
    "import sys\n",
    "input = sys.stdin.readline\n",
    "\n",
    "N = int(input())\n",
    "seconds = list(map(int, input().split()))\n",
    "minimum = 0\n",
    "seconds.sort()\n",
    "\n",
    "for i in range(N):\n",
    "    minimum += sum(seconds[0:i + 1])\n",
    "print(minimum)"
   ]
  },
  {
   "cell_type": "markdown",
   "metadata": {
    "pycharm": {
     "name": "#%% md\n"
    }
   },
   "source": [
    "### 3. 연습문제:  https://www.acmicpc.net/problem/2012\n",
    "\n",
    "<div class=\"alert alert-block\" style=\"border: 2px solid #E65100;background-color:#FFF3E0;padding:10px\">\n",
    "<font size=\"4em\" style=\"color:#BF360C;\">이제 코드 패턴을 머릿속에 넣어보고, 적용해보세요</font>\n",
    "</div>"
   ]
  },
  {
   "cell_type": "markdown",
   "metadata": {},
   "source": [
    "- 참고: abs(data) --> data 의 절대값을 리턴함"
   ]
  },
  {
   "cell_type": "code",
   "execution_count": 32,
   "metadata": {},
   "outputs": [],
   "source": [
    "import sys, io\n",
    "file = open(\"inputs.txt\", 'w')\n",
    "# 다음 데이터에 그대로 여러 데이터를 복사붙여넣기 하면 됨\n",
    "data = \"\"\"5\n",
    "1\n",
    "5\n",
    "3\n",
    "1\n",
    "2\n",
    "\"\"\"\n",
    "file.write(data)\n",
    "file.close()\n",
    "input_file = open(\"inputs.txt\", \"r\") \n",
    "sys.stdin = io.StringIO(input_file.read())"
   ]
  },
  {
   "cell_type": "code",
   "execution_count": 28,
   "metadata": {
    "pycharm": {
     "name": "#%%\n"
    }
   },
   "outputs": [
    {
     "name": "stdout",
     "output_type": "stream",
     "text": [
      "3\n"
     ]
    }
   ],
   "source": [
    "import sys\n",
    "input = sys.stdin.readline\n",
    "\n",
    "N = int(input())\n",
    "rankings = [int(input()) for _ in range(N)]\n",
    "min_ranking = 0\n",
    "\n",
    "rankings.sort()\n",
    "\n",
    "for i in range(N):\n",
    "    min_ranking += abs( rankings[i] - ( i + 1 ) )\n",
    "\n",
    "print(min_ranking)"
   ]
  },
  {
   "cell_type": "markdown",
   "metadata": {},
   "source": [
    "### 4. 연습문제: 주유소 https://www.acmicpc.net/problem/13305\n",
    "<div class=\"alert alert-block\" style=\"border: 2px solid #E65100;background-color:#FFF3E0;padding:10px\">\n",
    "<font size=\"4em\" style=\"color:#BF360C;\">탐욕 코딩 패턴 이외에 탐욕 컨셉만 가지고 푸는 문제들도 있음</font>\n",
    "</div>"
   ]
  },
  {
   "cell_type": "code",
   "execution_count": 15,
   "metadata": {},
   "outputs": [],
   "source": [
    "import sys, io\n",
    "file = open(\"inputs.txt\", 'w')\n",
    "# 다음 데이터에 그대로 여러 데이터를 복사붙여넣기 하면 됨\n",
    "data = \"\"\"4\n",
    "3 3 4\n",
    "1 1 1 1\n",
    "\"\"\"\n",
    "file.write(data)\n",
    "file.close()\n",
    "input_file = open(\"inputs.txt\", \"r\") \n",
    "sys.stdin = io.StringIO(input_file.read())"
   ]
  },
  {
   "cell_type": "code",
   "execution_count": 16,
   "metadata": {},
   "outputs": [
    {
     "name": "stdout",
     "output_type": "stream",
     "text": [
      "10\n"
     ]
    }
   ],
   "source": [
    "import sys\n",
    "input = sys.stdin.readline\n",
    "\n",
    "N = int(input())\n",
    "dists = list(map(int, input().split())) # 거리\n",
    "prices = list(map(int, input().split())) # 가격\n",
    "\n",
    "min_cost = dists[0] * prices[0] # 최초 거리까지는 바로 구매 필요\n",
    "min_price = prices[0] # 최소 가격 저장\n",
    "\n",
    "for index in range(1, N - 1):\n",
    "    if min_price > prices[index]: # 최소 가격인지 확인\n",
    "        min_price = prices[index]\n",
    "    min_cost += min_price * dists[index] # 현재 거리만큼만 최소 가격으로 구매\n",
    "\n",
    "print(min_cost)"
   ]
  },
  {
   "cell_type": "markdown",
   "metadata": {},
   "source": [
    "### 5. 연습문제: 잃어버린 기호 https://www.acmicpc.net/problem/1541\n",
    "<div class=\"alert alert-block\" style=\"border: 2px solid #E65100;background-color:#FFF3E0;padding:10px\">\n",
    "<font size=\"4em\" style=\"color:#BF360C;\">탐욕 코딩 패턴 이외에 탐욕 컨셉만 가지고 푸는 문제들도 있음</font>\n",
    "</div>"
   ]
  },
  {
   "cell_type": "code",
   "execution_count": 23,
   "metadata": {},
   "outputs": [],
   "source": [
    "import sys, io\n",
    "file = open(\"inputs.txt\", 'w')\n",
    "# 다음 데이터에 그대로 여러 데이터를 복사붙여넣기 하면 됨\n",
    "data = \"\"\"00009-00009\n",
    "\"\"\"\n",
    "file.write(data)\n",
    "file.close()\n",
    "input_file = open(\"inputs.txt\", \"r\") \n",
    "sys.stdin = io.StringIO(input_file.read())"
   ]
  },
  {
   "cell_type": "code",
   "execution_count": 24,
   "metadata": {},
   "outputs": [
    {
     "name": "stdout",
     "output_type": "stream",
     "text": [
      "0\n"
     ]
    }
   ],
   "source": [
    "import sys\n",
    "input = sys.stdin.readline\n",
    "\n",
    "expr = input().split(\"-\")\n",
    "result = sum(map(int, expr[0].split(\"+\")))\n",
    "\n",
    "for index in range(1, len(expr)):\n",
    "    submax_minus = sum(map(int, expr[index].split(\"+\")))\n",
    "    result -= submax_minus\n",
    "\n",
    "print(result)"
   ]
  },
  {
   "cell_type": "markdown",
   "metadata": {},
   "source": [
    "### 6. 연습문제: 뒤집기 https://www.acmicpc.net/problem/1439\n",
    "\n",
    "<div class=\"alert alert-block\" style=\"border: 2px solid #E65100;background-color:#FFF3E0;padding:10px\">\n",
    "<font size=\"4em\" style=\"color:#BF360C;\">기출 문제</font><br>\n",
    "<font size=\"4em\" style=\"color:#BF360C;\">패턴을 찾아 최적의 해를 찾는 공식을 찾으면 풀리는 문제로, 전형적인 탐욕알고리즘의 변형으로 볼 수 있음</font>\n",
    "</div>"
   ]
  },
  {
   "cell_type": "code",
   "execution_count": 13,
   "metadata": {},
   "outputs": [],
   "source": [
    "import sys, io\n",
    "file = open(\"inputs.txt\", 'w')\n",
    "# 다음 데이터에 그대로 여러 데이터를 복사붙여넣기 하면 됨\n",
    "data = \"\"\"11101101\n",
    "\"\"\"\n",
    "file.write(data)\n",
    "file.close()\n",
    "input_file = open(\"inputs.txt\", \"r\") \n",
    "sys.stdin = io.StringIO(input_file.read())"
   ]
  },
  {
   "cell_type": "code",
   "execution_count": 14,
   "metadata": {},
   "outputs": [
    {
     "name": "stdout",
     "output_type": "stream",
     "text": [
      "2\n"
     ]
    }
   ],
   "source": [
    "import sys\n",
    "input = sys.stdin.readline\n",
    "\n",
    "S = list(map(int, input().strip()))\n",
    "count = 0\n",
    "# 반복문을 통해 문자열을 확인\n",
    "for index in range(len(S) - 1):\n",
    "    # 현재 문자와 다음 문자가 다르면 카운트\n",
    "    if S[index] != S[index + 1]:\n",
    "        count += 1\n",
    "# cnt + 1을 2로 나눈 나머지를 출력\n",
    "print((count + 1) // 2)"
   ]
  },
  {
   "cell_type": "markdown",
   "metadata": {},
   "source": [
    "### 7. 연습문제: 시험감독 https://www.acmicpc.net/problem/13458\n",
    "\n",
    "<div class=\"alert alert-block\" style=\"border: 2px solid #E65100;background-color:#FFF3E0;padding:10px\">\n",
    "<font size=\"4em\" style=\"color:#BF360C;\">S전자 코딩테스트 기출 문제</font>\n",
    "</div>"
   ]
  },
  {
   "cell_type": "markdown",
   "metadata": {},
   "source": [
    "<div class=\"alert alert-block\" style=\"border: 2px solid #E65100;background-color:#FFF3E0;padding:10px\">\n",
    "<font size=\"4em\" style=\"font-weight:bold;color:#BF360C;\">코딩 테스트 팁</font><br><br>\n",
    "<font size=\"3em\" style=\"color:#BF360C;\">어떤 유형인지를 파악하려고 노력해보세요!</font><br>\n",
    "<font size=\"3em\" style=\"color:#BF360C;\">특정 유형으로 판단되면, 해당 유형의 코딩 패턴으로 작성해보세요</font><br>\n",
    "<font size=\"3em\" style=\"color:#BF360C;\">그러면, 멘탈 관리가 가능하고, 자신감 있게 진행할 수 있습니다</font><br>    \n",
    "</div>"
   ]
  },
  {
   "cell_type": "code",
   "execution_count": 33,
   "metadata": {},
   "outputs": [],
   "source": [
    "import sys, io\n",
    "file = open(\"inputs.txt\", 'w')\n",
    "# 다음 데이터에 그대로 여러 데이터를 복사붙여넣기 하면 됨\n",
    "data = \"\"\"1\n",
    "1\n",
    "1 1\n",
    "\"\"\"\n",
    "file.write(data)\n",
    "file.close()\n",
    "input_file = open(\"inputs.txt\", \"r\") \n",
    "sys.stdin = io.StringIO(input_file.read())"
   ]
  },
  {
   "cell_type": "code",
   "execution_count": 30,
   "metadata": {},
   "outputs": [
    {
     "name": "stdout",
     "output_type": "stream",
     "text": [
      "1\n"
     ]
    }
   ],
   "source": [
    "import sys\n",
    "input = sys.stdin.readline\n",
    "\n",
    "N = int(input())\n",
    "A = list(map(int, input().split()))\n",
    "B, C = map(int, input().split())\n",
    "count = 0\n",
    "\n",
    "for index in range(len(A)): # 강의장수: len(A)\n",
    "    if A[index] >= B:            # 각 강의장의 응시자수: A[index] 가 총감독관이 감시할 수 있는 인원수 이상\n",
    "        A[index] -= B\n",
    "        count += 1                 # 총감독관 적용\n",
    "\n",
    "        if A[index] % C == 0:\n",
    "            count += (A[index] // C)\n",
    "        else:\n",
    "            count += (A[index] // C) + 1\n",
    "    else:\n",
    "        count += 1                 # 총감독관 적용\n",
    "\n",
    "print(count)"
   ]
  },
  {
   "cell_type": "markdown",
   "metadata": {},
   "source": [
    "<div class=\"alert alert-block\" style=\"border: 1px solid #455A64;background-color:#ECEFF1;padding:5px;font-size:0.9em;\">\n",
    "본 자료와 관련 영상 컨텐츠는 저작권법 제25조 2항에 의해 보호를 받습니다. <br>본 컨텐츠 및 컨텐츠 일부 문구 등을 외부에 공개하거나, 요약해서 게시하지 말아주세요.<br>\n",
    "    <a href='https://www.fun-coding.org'>잔재미코딩(www.fun-coding.org) Dave Lee</a>\n",
    "</div>"
   ]
  }
 ],
 "metadata": {
  "kernelspec": {
   "display_name": "Python 3 (ipykernel)",
   "language": "python",
   "name": "python3"
  },
  "language_info": {
   "codemirror_mode": {
    "name": "ipython",
    "version": 3
   },
   "file_extension": ".py",
   "mimetype": "text/x-python",
   "name": "python",
   "nbconvert_exporter": "python",
   "pygments_lexer": "ipython3",
   "version": "3.9.12"
  }
 },
 "nbformat": 4,
 "nbformat_minor": 4
}
