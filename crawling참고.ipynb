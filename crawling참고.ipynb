{
 "cells": [
  {
   "cell_type": "raw",
   "metadata": {},
   "source": [
    "Q. 영화 흥행 예측 프로젝트를 하려고 하는데요, 다음의 데이터 크롤링이 필요한 상황입니다.\n",
    "   1. 배우 이정재가 수상한 수상횟수\n",
    "   2. 주연을 맡았던 영화들의 관객수 \n",
    "\n",
    "어떻게 이 데이터를 수집할 수 있을까요?"
   ]
  },
  {
   "cell_type": "code",
   "execution_count": null,
   "metadata": {
    "scrolled": true
   },
   "outputs": [],
   "source": [
    "pwd"
   ]
  },
  {
   "cell_type": "code",
   "execution_count": 1,
   "metadata": {
    "ExecuteTime": {
     "end_time": "2022-07-26T06:54:23.722186Z",
     "start_time": "2022-07-26T06:54:23.510123Z"
    }
   },
   "outputs": [],
   "source": [
    "# 라이브러리 import\n",
    "import os\n",
    "import pandas as pd\n",
    "import numpy as np\n",
    "import math \n",
    "\n",
    "# 셀레늄\n",
    "from selenium.webdriver.common.alert import Alert\n",
    "from selenium import webdriver  # 라이브러리(모듈) 가져오라\n",
    "# pip install chromedriver_autoinstaller\n",
    "from selenium.webdriver.common.keys import Keys\n",
    "from selenium.webdriver import ActionChains as AC\n",
    "\n",
    "# tqdm : for문 진행상황 체크\n",
    "from tqdm import tqdm, tqdm_notebook\n",
    "from tqdm.notebook import tqdm\n",
    "\n",
    "# 정규표현식(regular expression) : 문자(알파벳,한글), 숫자, 특수기호 정제 및 추출\n",
    "import re\n",
    "from time import sleep\n",
    "import time\n",
    "\n",
    "# 워닝 무시\n",
    "import warnings\n",
    "warnings.filterwarnings('ignore')"
   ]
  },
  {
   "cell_type": "code",
   "execution_count": 2,
   "metadata": {
    "ExecuteTime": {
     "end_time": "2022-07-26T06:54:49.176172Z",
     "start_time": "2022-07-26T06:54:24.825831Z"
    }
   },
   "outputs": [],
   "source": [
    "# 영화배우 이름 검색\n",
    "name = '배우 이정재'\n",
    "\n",
    "# 크롬 옵션\n",
    "options = webdriver.ChromeOptions()\n",
    "\n",
    "# 크롬 윈도우 사이즈 조절\n",
    "options.add_argument(\"--window-size=800,1200\") # window-size -> 기본 : 1920,1080\n",
    "\n",
    "import chromedriver_autoinstaller\n",
    "chrome_path = chromedriver_autoinstaller.install()\n",
    "driver = webdriver.Chrome(chrome_path, options=options)\n",
    "time.sleep(3)\n",
    "driver.get(\"https://www.naver.com\")\n",
    "# -> 네이버 크롬 창이 뜬다."
   ]
  },
  {
   "cell_type": "code",
   "execution_count": 3,
   "metadata": {
    "ExecuteTime": {
     "end_time": "2022-07-26T06:54:58.880865Z",
     "start_time": "2022-07-26T06:54:49.177715Z"
    }
   },
   "outputs": [],
   "source": [
    "# 네이버 검색어 입력 후 검색\n",
    "element = driver.find_element(\"name\", \"query\") # by_name\n",
    "element.clear()  # 혹시 검색창에 존재하는 텍스트 제거\n",
    "\n",
    "element.send_keys(name)  # 검색창에 검색어 전달\n",
    "element.submit()  # 검색 클릭\n",
    "time.sleep(1)\n",
    "\n",
    "# 프로필 클릭\n",
    "driver.find_element(\"link text\", \"프로필\").click()  # by_link_text\n",
    "time.sleep(1)"
   ]
  },
  {
   "cell_type": "markdown",
   "metadata": {},
   "source": [
    "# 1. 배우 수상내역 수집하기"
   ]
  },
  {
   "cell_type": "code",
   "execution_count": 4,
   "metadata": {
    "ExecuteTime": {
     "end_time": "2022-07-26T06:59:50.651937Z",
     "start_time": "2022-07-26T06:59:49.217852Z"
    }
   },
   "outputs": [],
   "source": [
    "# 수상내역 더보기 클릭\n",
    "try:\n",
    "    driver.find_element(\"css selector\", \".area_button_arrow\").click()  # by_css_selector\n",
    "    time.sleep(1)\n",
    "except:\n",
    "    pass"
   ]
  },
  {
   "cell_type": "code",
   "execution_count": 5,
   "metadata": {
    "ExecuteTime": {
     "end_time": "2022-07-26T06:59:51.718973Z",
     "start_time": "2022-07-26T06:59:51.714350Z"
    }
   },
   "outputs": [],
   "source": [
    "# 수상내역 크롤링\n",
    "prize_list = []"
   ]
  },
  {
   "cell_type": "code",
   "execution_count": null,
   "metadata": {},
   "outputs": [],
   "source": [
    "prize = driver.find_element(\"css selector\", \".cm_content_area._cm_content_area_prize\").text\n",
    " # by_css_selector\n",
    "prize"
   ]
  },
  {
   "cell_type": "code",
   "execution_count": null,
   "metadata": {},
   "outputs": [],
   "source": [
    "# 년도만 세기\n",
    "import re\n",
    "p = re.compile('[0-9]{4,4}')  # 정규표현식 - 숫자 4자리만 추출하라\n",
    "m = p.findall(prize)\n",
    "m"
   ]
  },
  {
   "cell_type": "code",
   "execution_count": null,
   "metadata": {},
   "outputs": [],
   "source": [
    "prize_list = prize_list + m\n",
    "prize_list"
   ]
  },
  {
   "cell_type": "code",
   "execution_count": null,
   "metadata": {
    "scrolled": false
   },
   "outputs": [],
   "source": [
    "# 수상내역 다음페이지 클릭\n",
    "if driver.find_element(\"css selector\", \".pg_next.on\"):   # by_css_selector\n",
    "    next = driver.find_element(\"css selector\", \".pg_next.on\").click() # by_css_selector\n",
    "    time.sleep(2)"
   ]
  },
  {
   "cell_type": "code",
   "execution_count": null,
   "metadata": {},
   "outputs": [],
   "source": []
  },
  {
   "cell_type": "markdown",
   "metadata": {},
   "source": [
    "## 배우 수상내역 페이지 for문으로 묶기"
   ]
  },
  {
   "cell_type": "code",
   "execution_count": null,
   "metadata": {},
   "outputs": [],
   "source": [
    "# 영화배우 이름 검색\n",
    "name = '배우 이정재'\n",
    "\n",
    "# 크롬 옵션\n",
    "options = webdriver.ChromeOptions()  \n",
    "\n",
    "# 크롬 윈도우 사이즈 조절\n",
    "options.add_argument(\"--window-size=800, 1200\") # window-size -> 기본 : 1920,1080\n",
    "\n",
    "import chromedriver_autoinstaller\n",
    "chrome_path = chromedriver_autoinstaller.install()\n",
    "driver = webdriver.Chrome(chrome_path, options=options)\n",
    "time.sleep(3)\n",
    "driver.get(\"https://www.naver.com\")\n",
    "\n",
    "# 네이버 검색어 입력 후 검색\n",
    "element = driver.find_element(\"name\", \"query\")\n",
    "element.clear()  # 혹시 검색창에 존재하는 텍스트 제거\n",
    "\n",
    "element.send_keys(name)  # 검색창에 검색어 전달\n",
    "element.submit()  # 검색 클릭\n",
    "time.sleep(1)\n",
    "\n",
    "# 프로필 클릭\n",
    "driver.find_element(\"link text\", \"프로필\").click()\n",
    "time.sleep(1)\n",
    "\n",
    "# 수상내역 더보기 클릭\n",
    "try:\n",
    "    driver.find_element(\"css selector\", \".cm_content_area._cm_content_area_prize .area_button_arrow\").click()\n",
    "    time.sleep(1)\n",
    "except:\n",
    "    pass\n",
    "\n",
    "# 수상내역 갯수 세기\n",
    "prize_list = []\n",
    "\n",
    "for i in range(0, 100):  # 수상내역 페이지 최대 100페이지까지 수집할 수 있게 설정\n",
    "    try:\n",
    "        # 수상내역 크롤링\n",
    "        prize = driver.find_element(\"css selector\", \".cm_content_area._cm_content_area_prize\").text\n",
    "        # 년도만 세기\n",
    "        p = re.compile('[0-9]{4,4}')   # 정규표현식으로 \"0-9숫자 4자리\" 수집\n",
    "        m = p.findall(prize)           # prize 중에서 모두 찾아라(findall 함수)\n",
    "        prize_list = prize_list + m    # 페이지 별 수상내역 리스트 전부 합치기\n",
    "\n",
    "        # 수상내역 다음페이지 클릭\n",
    "        if driver.find_element(\"css selector\", '.pg_next.on'):\n",
    "            next = driver.find_element(\"css selector\", '.pg_next.on').click()\n",
    "            time.sleep(2)\n",
    "    except:  \n",
    "        break\n",
    "    \n",
    "print('수상 수: ', len(prize_list))\n",
    "prize_list"
   ]
  },
  {
   "cell_type": "markdown",
   "metadata": {},
   "source": [
    "# 2. 배우 필모그래피 수집하기"
   ]
  },
  {
   "cell_type": "code",
   "execution_count": 13,
   "metadata": {
    "ExecuteTime": {
     "end_time": "2022-07-26T07:55:20.726564Z",
     "start_time": "2022-07-26T07:55:19.495462Z"
    }
   },
   "outputs": [],
   "source": [
    "# 필모그래피 클릭\n",
    "driver.find_element(\"link text\", \"필모그래피\").click() # by_link_text\n",
    "time.sleep(1)"
   ]
  },
  {
   "cell_type": "code",
   "execution_count": 14,
   "metadata": {
    "ExecuteTime": {
     "end_time": "2022-07-26T07:55:21.883026Z",
     "start_time": "2022-07-26T07:55:20.738476Z"
    }
   },
   "outputs": [],
   "source": [
    "# 인기순 클릭\n",
    "driver.find_element(\"link text\", \"인기순\").click()  # by_link_text\n",
    "time.sleep(1)"
   ]
  },
  {
   "cell_type": "code",
   "execution_count": 15,
   "metadata": {
    "ExecuteTime": {
     "end_time": "2022-07-26T07:55:21.908108Z",
     "start_time": "2022-07-26T07:55:21.884349Z"
    }
   },
   "outputs": [
    {
     "data": {
      "text/plain": [
       "'36'"
      ]
     },
     "execution_count": 15,
     "metadata": {},
     "output_type": "execute_result"
    }
   ],
   "source": [
    "driver.find_element('css selector', '.this_text_number').text  # by_css_selector"
   ]
  },
  {
   "cell_type": "code",
   "execution_count": 16,
   "metadata": {
    "ExecuteTime": {
     "end_time": "2022-07-26T07:55:21.928651Z",
     "start_time": "2022-07-26T07:55:21.909638Z"
    }
   },
   "outputs": [
    {
     "name": "stdout",
     "output_type": "stream",
     "text": [
      "필모 수:  36\n"
     ]
    }
   ],
   "source": [
    "film_num = int(driver.find_element('css selector', '.this_text_number').text) # by_css_selector\n",
    "print('필모 수: ', film_num)"
   ]
  },
  {
   "cell_type": "code",
   "execution_count": 17,
   "metadata": {
    "ExecuteTime": {
     "end_time": "2022-07-26T07:55:21.932349Z",
     "start_time": "2022-07-26T07:55:21.929582Z"
    }
   },
   "outputs": [
    {
     "name": "stdout",
     "output_type": "stream",
     "text": [
      "페이지 클릭 횟수:  8\n"
     ]
    }
   ],
   "source": [
    "# 페이지 클릭횟수 계산\n",
    "page_click = math.ceil(film_num/4) - 1\n",
    "print('페이지 클릭 횟수: ', page_click)"
   ]
  },
  {
   "cell_type": "code",
   "execution_count": 18,
   "metadata": {
    "ExecuteTime": {
     "end_time": "2022-07-26T07:55:21.935206Z",
     "start_time": "2022-07-26T07:55:21.933281Z"
    }
   },
   "outputs": [],
   "source": [
    "# 영화 데이터 수집\n",
    "\n",
    "score_list = []\n",
    "cast_list = []\n",
    "audiance_list = []\n",
    "main_sub_list = []"
   ]
  },
  {
   "cell_type": "code",
   "execution_count": 19,
   "metadata": {
    "ExecuteTime": {
     "end_time": "2022-07-26T07:55:22.032909Z",
     "start_time": "2022-07-26T07:55:21.936304Z"
    }
   },
   "outputs": [
    {
     "data": {
      "text/plain": [
       "['신과함께-죄와 벌', '도둑들', '암살', '신과함께-인과 연']"
      ]
     },
     "execution_count": 19,
     "metadata": {},
     "output_type": "execute_result"
    }
   ],
   "source": [
    "title_list = []\n",
    "\n",
    "# 제목\n",
    "titles = driver.find_elements('css selector', '.this_text') # by_css_selector\n",
    "temp_list = []\n",
    "for title in titles:\n",
    "    temp_list.append(title.text)\n",
    "    # ['도둑들', '상영중', '암살', '상영중', '']\n",
    "    # 리스트 컴프리헨션 : for문 + 리스트\n",
    "    temp_list = [x for x in temp_list if x !='' and x != '상영중']\n",
    "#     print(temp_list)    \n",
    "title_list = title_list + temp_list \n",
    "title_list"
   ]
  },
  {
   "cell_type": "code",
   "execution_count": 20,
   "metadata": {
    "ExecuteTime": {
     "end_time": "2022-07-26T07:55:22.037776Z",
     "start_time": "2022-07-26T07:55:22.034006Z"
    }
   },
   "outputs": [
    {
     "data": {
      "text/plain": [
       "[]"
      ]
     },
     "execution_count": 20,
     "metadata": {},
     "output_type": "execute_result"
    }
   ],
   "source": [
    "# 배역\n",
    "cast_list = []\n",
    "cast_temp = []\n",
    "for t in range(1, 5):\n",
    "    try:\n",
    "        cast = driver.find_element('css selector''#mflick > div:nth-child({}) > div > div > div:nth-child({}) > div.data_area > div > span'.format(i+1, t)).text[:2]\n",
    "        cast_temp.append(cast)\n",
    "    except:\n",
    "        break\n",
    "cast_list = cast_list + cast_temp        \n",
    "cast_list\n",
    "#     print(cast_temp)\n"
   ]
  },
  {
   "cell_type": "code",
   "execution_count": 21,
   "metadata": {
    "ExecuteTime": {
     "end_time": "2022-07-26T07:55:22.060377Z",
     "start_time": "2022-07-26T07:55:22.040179Z"
    }
   },
   "outputs": [
    {
     "name": "stdout",
     "output_type": "stream",
     "text": [
      "신과함께-죄와 벌\n"
     ]
    }
   ],
   "source": [
    "i = 0\n",
    "\n",
    "# 제목 수집 해보기\n",
    "\n",
    "# 제목 전체 리스트\n",
    "title_list = []\n",
    "\n",
    "# 제목 페이지별 리스트\n",
    "temp_list = []\n",
    "\n",
    "titles = driver.find_elements('css selector', '.this_text')\n",
    "title = titles[0]\n",
    "print(title.text)"
   ]
  },
  {
   "cell_type": "markdown",
   "metadata": {},
   "source": [
    "## 배우 필모그래피 for문으로 수집하기"
   ]
  },
  {
   "cell_type": "code",
   "execution_count": null,
   "metadata": {},
   "outputs": [],
   "source": [
    "# 배우 리스트에서 이름 불러와서 name 변수에 저장하고 필모그래피 크롤링하기\n",
    "# pd.read_csv(\"actor_list.csv\")"
   ]
  },
  {
   "cell_type": "code",
   "execution_count": 22,
   "metadata": {
    "ExecuteTime": {
     "end_time": "2022-07-26T07:55:50.163889Z",
     "start_time": "2022-07-26T07:55:35.932349Z"
    }
   },
   "outputs": [],
   "source": [
    "# 영화배우 이름 검색\n",
    "name = '배우 송강호'\n",
    "\n",
    "# 크롬 옵션\n",
    "options = webdriver.ChromeOptions()\n",
    "\n",
    "# 크롬 윈도우 사이즈 조절\n",
    "options.add_argument(\"--window-size=800,1200\") # window-size -> 기본 : 1920,1080\n",
    "\n",
    "import chromedriver_autoinstaller\n",
    "chrome_path = chromedriver_autoinstaller.install()\n",
    "driver = webdriver.Chrome(chrome_path, options=options)\n",
    "time.sleep(3)\n",
    "driver.get(\"https://www.naver.com\")\n",
    "\n",
    "# 네이버 검색어 입력 후 검색\n",
    "element = driver.find_element(\"name\", \"query\")\n",
    "element.clear()  # 혹시 검색창에 존재하는 텍스트 제거\n",
    "\n",
    "element.send_keys(name)  # 검색창에 검색어 전달\n",
    "element.submit()  # 검색 클릭\n",
    "time.sleep(1)\n",
    "\n",
    "# ctrl shift -  : 셀 나누기\n",
    "# shift m :  셀 합치기"
   ]
  },
  {
   "cell_type": "code",
   "execution_count": 23,
   "metadata": {
    "ExecuteTime": {
     "end_time": "2022-07-26T07:55:58.889608Z",
     "start_time": "2022-07-26T07:55:50.165618Z"
    }
   },
   "outputs": [
    {
     "name": "stdout",
     "output_type": "stream",
     "text": [
      "필모 수:  38\n",
      "페이지 클릭 횟수:  9\n"
     ]
    }
   ],
   "source": [
    "# 필모그래피 클릭\n",
    "driver.find_element(\"link text\", \"필모그래피\").click()\n",
    "time.sleep(1)\n",
    "\n",
    "# 인기순 클릭\n",
    "driver.find_element(\"link text\", \"인기순\").click()\n",
    "time.sleep(1)\n",
    "\n",
    "film_num = int(driver.find_element('css selector', '.this_text_number').text)\n",
    "print('필모 수: ', film_num)\n",
    "\n",
    "# 페이지 클릭횟수 계산\n",
    "page_click = math.ceil(film_num/4) - 1\n",
    "print('페이지 클릭 횟수: ', page_click)"
   ]
  },
  {
   "cell_type": "code",
   "execution_count": 24,
   "metadata": {
    "ExecuteTime": {
     "end_time": "2022-07-26T07:56:10.643209Z",
     "start_time": "2022-07-26T07:55:58.890681Z"
    }
   },
   "outputs": [
    {
     "name": "stdout",
     "output_type": "stream",
     "text": [
      "\n",
      " 23\n",
      "['택시운전사', '변호인', '괴물', '기생충', '설국열차', '관상', '밀정', '좋은 놈, 나쁜 놈, 이상한 놈', '사도', '의형제', '친절한 금자씨', '박쥐', '마약왕', '하울링', '밀양', '마다가스카', '브로커', '우아한 세계', '나랏말싸미', '남극일기', '푸른소금', '효자동 이발사', '작은 연못']\n",
      "['주연', '주연', '주연', '주연', '주연', '주연', '주연', '주연', '주연', '주연', '우정', '주연', '주연', '주연', '주연', '성우', '주연', '주연', '주연', '주연', '주연', '주연', '단역']\n",
      "[12180000, 11370000, 10910000, 10310000, 9350000, 9130000, 7500000, 6680000, 6240000, 5410000, 3120000, 2210000, 1860000, 1610000, 1600000, 1390000, 1260000, 960000, 950000, 870000, 770000, 740000, 46000]\n"
     ]
    }
   ],
   "source": [
    "# 영화 데이터 수집\n",
    "title_list = []\n",
    "score_list = []\n",
    "cast_list = []\n",
    "audiance_list = []\n",
    "main_sub_list = []\n",
    "\n",
    "for i in range(page_click):    \n",
    "\n",
    "    # 제목\n",
    "    titles = driver.find_elements('css selector', '.this_text')\n",
    "    temp_list = []\n",
    "    for title in titles:\n",
    "        temp_list.append(title.text)\n",
    "        temp_list = [x for x in temp_list if x !='' and x != '상영중']\n",
    "#     print(temp_list)    \n",
    "    title_list = title_list + temp_list    \n",
    "    \n",
    "    # 배역\n",
    "    cast_temp = []\n",
    "    for t in range(1, 5):\n",
    "        try:\n",
    "            cast = driver.find_element('css selector', '#mflick > div:nth-child({}) > div > div > div:nth-child({}) > div.data_area > div > span'.format(i+1, t)).text[:2]\n",
    "            cast_temp.append(cast)\n",
    "        except:\n",
    "            break\n",
    "    cast_list = cast_list + cast_temp        \n",
    "#     print(cast_temp)\n",
    "    \n",
    "    # 관객수\n",
    "    score_temp = []\n",
    "    for j in range(1, 5):\n",
    "        try:\n",
    "            score = driver.find_element('css selector', '#mflick > div:nth-child({}) > div > div > div:nth-child({}) > div.data_area > div > div.info > dl:nth-child(2)'.format(i+1, j)).text.split('\\n')[1]\n",
    "            score = score.replace('만','0000').replace(',','')\n",
    "            if '.' in score:\n",
    "                score = int(score.replace('.', ''))\n",
    "                score = round(score*0.1)\n",
    "            else:\n",
    "                score = round(int(score))\n",
    "            \n",
    "            score_temp.append(score)\n",
    "        except:\n",
    "            break\n",
    "    score_list = score_list + score_temp\n",
    "#     print(score_temp, '\\n')\n",
    "    if len(score_temp) < 4:\n",
    "        break\n",
    "        \n",
    "    # 필모 다음페이지 클릭\n",
    "    driver.find_element('css selector', '.pg_next.on').click()\n",
    "    time.sleep(2)\n",
    "\n",
    "title_list = title_list[:len(score_list)]\n",
    "cast_list = cast_list[:len(score_list)]\n",
    "\n",
    "print('\\n', len(title_list))\n",
    "print(title_list)\n",
    "print(cast_list)\n",
    "print(score_list)"
   ]
  },
  {
   "cell_type": "code",
   "execution_count": 25,
   "metadata": {
    "ExecuteTime": {
     "end_time": "2022-07-26T07:56:10.651053Z",
     "start_time": "2022-07-26T07:56:10.644602Z"
    }
   },
   "outputs": [
    {
     "name": "stdout",
     "output_type": "stream",
     "text": [
      "관객수 데이터가 있는 영화들만: \n",
      "                   제목  배역     score\n",
      "0               택시운전사  주연  12180000\n",
      "1                 변호인  주연  11370000\n",
      "2                  괴물  주연  10910000\n",
      "3                 기생충  주연  10310000\n",
      "4                설국열차  주연   9350000\n",
      "5                  관상  주연   9130000\n",
      "6                  밀정  주연   7500000\n",
      "7   좋은 놈, 나쁜 놈, 이상한 놈  주연   6680000\n",
      "8                  사도  주연   6240000\n",
      "9                 의형제  주연   5410000\n",
      "10            친절한 금자씨  우정   3120000\n",
      "11                 박쥐  주연   2210000\n",
      "12                마약왕  주연   1860000\n",
      "13                하울링  주연   1610000\n",
      "14                 밀양  주연   1600000\n",
      "15              마다가스카  성우   1390000\n",
      "16                브로커  주연   1260000\n",
      "17             우아한 세계  주연    960000\n",
      "18              나랏말싸미  주연    950000\n",
      "19               남극일기  주연    870000\n",
      "20               푸른소금  주연    770000\n",
      "21            효자동 이발사  주연    740000\n",
      "22              작은 연못  단역     46000\n"
     ]
    }
   ],
   "source": [
    "# \n",
    "df = pd.DataFrame(list(zip(title_list, cast_list, score_list)), columns = ['제목','배역', 'score'])\n",
    "print('관객수 데이터가 있는 영화들만: ')\n",
    "print(df)"
   ]
  },
  {
   "cell_type": "code",
   "execution_count": 26,
   "metadata": {
    "ExecuteTime": {
     "end_time": "2022-07-26T07:56:10.657251Z",
     "start_time": "2022-07-26T07:56:10.652366Z"
    }
   },
   "outputs": [
    {
     "name": "stdout",
     "output_type": "stream",
     "text": [
      "배우 송강호 배우 흥행지수:  2235243\n"
     ]
    }
   ],
   "source": [
    "# 주연 스코어 합\n",
    "cast_main = df[(df['배역']=='주연')]\n",
    "main_score = cast_main['score'].sum()\n",
    "\n",
    "# 조연 스코어 합\n",
    "cast_sub = df[(df['배역']=='조연')]\n",
    "sub_score = cast_sub['score'].sum()\n",
    "\n",
    "# 단역 스코어 합\n",
    "cast_other = df[(df['배역']!='주연') & (df['배역']!='조연')]\n",
    "cast_score = cast_other['score'].sum()\n",
    "\n",
    "# 배우 흥행지수\n",
    "actor_score_index = round((main_score*0.5 + sub_score*0.4 + cast_score*0.1) / len(df))\n",
    "print('{} 배우 흥행지수: '.format(name), actor_score_index)"
   ]
  },
  {
   "cell_type": "raw",
   "metadata": {},
   "source": [
    "<배우 흥행지수>\n",
    "\n",
    "이정재 1961953\n",
    "황정민 1484814\n",
    "김혜수 1355667\n",
    "유해진 1355268\n",
    "김인권 856353\n",
    "박정민 646406\n",
    "류승범 623295\n",
    "정해인 402957\n",
    "구교환 374000\n",
    "김고은 373216\n",
    "\n",
    "박서준 961000\n",
    "최민식 1427062\n",
    "하정우 1528936\n",
    "이병헌 1463600\n",
    "송강호 2235243"
   ]
  },
  {
   "cell_type": "raw",
   "metadata": {},
   "source": [
    "배우 흥행지수 : (주연관객수*0.5 + 조연관객수*0.4 + 단역관객수*0.1) / 영화수\n",
    "\n",
    "추가로 고려할 사항들 : 수상수, 필모수"
   ]
  },
  {
   "cell_type": "code",
   "execution_count": 27,
   "metadata": {
    "ExecuteTime": {
     "end_time": "2022-07-26T07:56:10.663596Z",
     "start_time": "2022-07-26T07:56:10.658492Z"
    }
   },
   "outputs": [
    {
     "data": {
      "text/html": [
       "<div>\n",
       "<style scoped>\n",
       "    .dataframe tbody tr th:only-of-type {\n",
       "        vertical-align: middle;\n",
       "    }\n",
       "\n",
       "    .dataframe tbody tr th {\n",
       "        vertical-align: top;\n",
       "    }\n",
       "\n",
       "    .dataframe thead th {\n",
       "        text-align: right;\n",
       "    }\n",
       "</style>\n",
       "<table border=\"1\" class=\"dataframe\">\n",
       "  <thead>\n",
       "    <tr style=\"text-align: right;\">\n",
       "      <th></th>\n",
       "      <th>제목</th>\n",
       "      <th>배역</th>\n",
       "      <th>score</th>\n",
       "    </tr>\n",
       "  </thead>\n",
       "  <tbody>\n",
       "    <tr>\n",
       "      <th>0</th>\n",
       "      <td>택시운전사</td>\n",
       "      <td>주연</td>\n",
       "      <td>12180000</td>\n",
       "    </tr>\n",
       "    <tr>\n",
       "      <th>1</th>\n",
       "      <td>변호인</td>\n",
       "      <td>주연</td>\n",
       "      <td>11370000</td>\n",
       "    </tr>\n",
       "    <tr>\n",
       "      <th>2</th>\n",
       "      <td>괴물</td>\n",
       "      <td>주연</td>\n",
       "      <td>10910000</td>\n",
       "    </tr>\n",
       "    <tr>\n",
       "      <th>3</th>\n",
       "      <td>기생충</td>\n",
       "      <td>주연</td>\n",
       "      <td>10310000</td>\n",
       "    </tr>\n",
       "    <tr>\n",
       "      <th>4</th>\n",
       "      <td>설국열차</td>\n",
       "      <td>주연</td>\n",
       "      <td>9350000</td>\n",
       "    </tr>\n",
       "    <tr>\n",
       "      <th>5</th>\n",
       "      <td>관상</td>\n",
       "      <td>주연</td>\n",
       "      <td>9130000</td>\n",
       "    </tr>\n",
       "    <tr>\n",
       "      <th>6</th>\n",
       "      <td>밀정</td>\n",
       "      <td>주연</td>\n",
       "      <td>7500000</td>\n",
       "    </tr>\n",
       "    <tr>\n",
       "      <th>7</th>\n",
       "      <td>좋은 놈, 나쁜 놈, 이상한 놈</td>\n",
       "      <td>주연</td>\n",
       "      <td>6680000</td>\n",
       "    </tr>\n",
       "    <tr>\n",
       "      <th>8</th>\n",
       "      <td>사도</td>\n",
       "      <td>주연</td>\n",
       "      <td>6240000</td>\n",
       "    </tr>\n",
       "    <tr>\n",
       "      <th>9</th>\n",
       "      <td>의형제</td>\n",
       "      <td>주연</td>\n",
       "      <td>5410000</td>\n",
       "    </tr>\n",
       "    <tr>\n",
       "      <th>11</th>\n",
       "      <td>박쥐</td>\n",
       "      <td>주연</td>\n",
       "      <td>2210000</td>\n",
       "    </tr>\n",
       "    <tr>\n",
       "      <th>12</th>\n",
       "      <td>마약왕</td>\n",
       "      <td>주연</td>\n",
       "      <td>1860000</td>\n",
       "    </tr>\n",
       "    <tr>\n",
       "      <th>13</th>\n",
       "      <td>하울링</td>\n",
       "      <td>주연</td>\n",
       "      <td>1610000</td>\n",
       "    </tr>\n",
       "    <tr>\n",
       "      <th>14</th>\n",
       "      <td>밀양</td>\n",
       "      <td>주연</td>\n",
       "      <td>1600000</td>\n",
       "    </tr>\n",
       "    <tr>\n",
       "      <th>16</th>\n",
       "      <td>브로커</td>\n",
       "      <td>주연</td>\n",
       "      <td>1260000</td>\n",
       "    </tr>\n",
       "    <tr>\n",
       "      <th>17</th>\n",
       "      <td>우아한 세계</td>\n",
       "      <td>주연</td>\n",
       "      <td>960000</td>\n",
       "    </tr>\n",
       "    <tr>\n",
       "      <th>18</th>\n",
       "      <td>나랏말싸미</td>\n",
       "      <td>주연</td>\n",
       "      <td>950000</td>\n",
       "    </tr>\n",
       "    <tr>\n",
       "      <th>19</th>\n",
       "      <td>남극일기</td>\n",
       "      <td>주연</td>\n",
       "      <td>870000</td>\n",
       "    </tr>\n",
       "    <tr>\n",
       "      <th>20</th>\n",
       "      <td>푸른소금</td>\n",
       "      <td>주연</td>\n",
       "      <td>770000</td>\n",
       "    </tr>\n",
       "    <tr>\n",
       "      <th>21</th>\n",
       "      <td>효자동 이발사</td>\n",
       "      <td>주연</td>\n",
       "      <td>740000</td>\n",
       "    </tr>\n",
       "  </tbody>\n",
       "</table>\n",
       "</div>"
      ],
      "text/plain": [
       "                   제목  배역     score\n",
       "0               택시운전사  주연  12180000\n",
       "1                 변호인  주연  11370000\n",
       "2                  괴물  주연  10910000\n",
       "3                 기생충  주연  10310000\n",
       "4                설국열차  주연   9350000\n",
       "5                  관상  주연   9130000\n",
       "6                  밀정  주연   7500000\n",
       "7   좋은 놈, 나쁜 놈, 이상한 놈  주연   6680000\n",
       "8                  사도  주연   6240000\n",
       "9                 의형제  주연   5410000\n",
       "11                 박쥐  주연   2210000\n",
       "12                마약왕  주연   1860000\n",
       "13                하울링  주연   1610000\n",
       "14                 밀양  주연   1600000\n",
       "16                브로커  주연   1260000\n",
       "17             우아한 세계  주연    960000\n",
       "18              나랏말싸미  주연    950000\n",
       "19               남극일기  주연    870000\n",
       "20               푸른소금  주연    770000\n",
       "21            효자동 이발사  주연    740000"
      ]
     },
     "execution_count": 27,
     "metadata": {},
     "output_type": "execute_result"
    }
   ],
   "source": [
    "cast_main = df[(df['배역']=='주연')]\n",
    "cast_main"
   ]
  }
 ],
 "metadata": {
  "kernelspec": {
   "display_name": "Python 3 (ipykernel)",
   "language": "python",
   "name": "python3"
  },
  "language_info": {
   "codemirror_mode": {
    "name": "ipython",
    "version": 3
   },
   "file_extension": ".py",
   "mimetype": "text/x-python",
   "name": "python",
   "nbconvert_exporter": "python",
   "pygments_lexer": "ipython3",
   "version": "3.8.13"
  },
  "toc": {
   "base_numbering": 1,
   "nav_menu": {},
   "number_sections": false,
   "sideBar": true,
   "skip_h1_title": false,
   "title_cell": "Table of Contents",
   "title_sidebar": "Contents",
   "toc_cell": false,
   "toc_position": {
    "height": "calc(100% - 180px)",
    "left": "10px",
    "top": "150px",
    "width": "244.188px"
   },
   "toc_section_display": true,
   "toc_window_display": true
  },
  "varInspector": {
   "cols": {
    "lenName": 16,
    "lenType": 16,
    "lenVar": 40
   },
   "kernels_config": {
    "python": {
     "delete_cmd_postfix": "",
     "delete_cmd_prefix": "del ",
     "library": "var_list.py",
     "varRefreshCmd": "print(var_dic_list())"
    },
    "r": {
     "delete_cmd_postfix": ") ",
     "delete_cmd_prefix": "rm(",
     "library": "var_list.r",
     "varRefreshCmd": "cat(var_dic_list()) "
    }
   },
   "types_to_exclude": [
    "module",
    "function",
    "builtin_function_or_method",
    "instance",
    "_Feature"
   ],
   "window_display": false
  }
 },
 "nbformat": 4,
 "nbformat_minor": 4
}
