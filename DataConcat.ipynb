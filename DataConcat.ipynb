{
 "cells": [
  {
   "cell_type": "markdown",
   "id": "f332a7e7",
   "metadata": {},
   "source": [
    "# 크롤링한거 들고오기"
   ]
  },
  {
   "cell_type": "code",
   "execution_count": 1,
   "id": "964659b9",
   "metadata": {
    "ExecuteTime": {
     "end_time": "2022-08-03T05:48:07.365547Z",
     "start_time": "2022-08-03T05:48:07.148014Z"
    }
   },
   "outputs": [],
   "source": [
    "import pandas as pd\n",
    "\n",
    "# 워닝 무시\n",
    "import warnings\n",
    "warnings.filterwarnings('ignore')"
   ]
  },
  {
   "cell_type": "markdown",
   "id": "5efe2d8a",
   "metadata": {},
   "source": [
    "# 1998 ~ 2010"
   ]
  },
  {
   "cell_type": "code",
   "execution_count": 10,
   "id": "b3f64b5b",
   "metadata": {
    "ExecuteTime": {
     "end_time": "2022-07-29T04:31:35.873197Z",
     "start_time": "2022-07-29T04:31:34.621212Z"
    }
   },
   "outputs": [],
   "source": [
    "# data 불러오기, 'Unnamed: 0' 빼고 불러오기\n",
    "\n",
    "# 1990 ~ 2010\n",
    "df_1 = pd.read_csv('data/2001_10_23.csv', index_col = 0)\n",
    "df_2 = pd.read_csv('data/2002.csv', index_col = 0)\n",
    "df_3 = pd.read_csv('data/2003.csv', index_col = 0)\n",
    "df_4 = pd.read_csv('data/2004.csv', index_col = 0)\n",
    "df_5 = pd.read_csv('data/2005.csv', index_col = 0)\n",
    "df_6 = pd.read_csv('data/2006.csv', index_col = 0)\n",
    "df_7 = pd.read_csv('data/2007.csv', index_col = 0)\n",
    "df_8 = pd.read_csv('data/2008.csv', index_col = 0)\n",
    "df_9 = pd.read_csv('data/2009.csv', index_col = 0)\n",
    "df_10 = pd.read_csv('data/2010.csv', index_col = 0)\n"
   ]
  },
  {
   "cell_type": "code",
   "execution_count": 67,
   "id": "b4a4f6c2",
   "metadata": {
    "ExecuteTime": {
     "end_time": "2022-07-29T05:05:17.556947Z",
     "start_time": "2022-07-29T05:05:17.513721Z"
    }
   },
   "outputs": [
    {
     "data": {
      "text/html": [
       "<div>\n",
       "<style scoped>\n",
       "    .dataframe tbody tr th:only-of-type {\n",
       "        vertical-align: middle;\n",
       "    }\n",
       "\n",
       "    .dataframe tbody tr th {\n",
       "        vertical-align: top;\n",
       "    }\n",
       "\n",
       "    .dataframe thead th {\n",
       "        text-align: right;\n",
       "    }\n",
       "</style>\n",
       "<table border=\"1\" class=\"dataframe\">\n",
       "  <thead>\n",
       "    <tr style=\"text-align: right;\">\n",
       "      <th></th>\n",
       "      <th>언론사</th>\n",
       "      <th>날짜</th>\n",
       "      <th>제목</th>\n",
       "    </tr>\n",
       "  </thead>\n",
       "  <tbody>\n",
       "    <tr>\n",
       "      <th>0</th>\n",
       "      <td>연합뉴스</td>\n",
       "      <td>1990.01.17.</td>\n",
       "      <td>朴守敎-林正明 코트서 벤치 대결로</td>\n",
       "    </tr>\n",
       "    <tr>\n",
       "      <th>1</th>\n",
       "      <td>연합뉴스</td>\n",
       "      <td>1990.01.17.</td>\n",
       "      <td>EC, 한국산 CDP 반덤핑 확정관세 결정</td>\n",
       "    </tr>\n",
       "    <tr>\n",
       "      <th>2</th>\n",
       "      <td>연합뉴스</td>\n",
       "      <td>1990.01.17.</td>\n",
       "      <td>범용 CAD 개발</td>\n",
       "    </tr>\n",
       "    <tr>\n",
       "      <th>3</th>\n",
       "      <td>연합뉴스</td>\n",
       "      <td>1990.01.19.</td>\n",
       "      <td>광고업계,제조업 불황속 호황 누려</td>\n",
       "    </tr>\n",
       "    <tr>\n",
       "      <th>4</th>\n",
       "      <td>연합뉴스</td>\n",
       "      <td>1990.01.21.</td>\n",
       "      <td>-농구대잔치-</td>\n",
       "    </tr>\n",
       "    <tr>\n",
       "      <th>...</th>\n",
       "      <td>...</td>\n",
       "      <td>...</td>\n",
       "      <td>...</td>\n",
       "    </tr>\n",
       "    <tr>\n",
       "      <th>144258</th>\n",
       "      <td>미디어오늘</td>\n",
       "      <td>4면 TOP</td>\n",
       "      <td>“2011년 1000만원이 1억 될 종목” 묻지마 쩜상이 기대된다!</td>\n",
       "    </tr>\n",
       "    <tr>\n",
       "      <th>144259</th>\n",
       "      <td>뉴스핌</td>\n",
       "      <td>2011.01.01.</td>\n",
       "      <td>&lt;스페셜인터뷰&gt; 천정훈 MIT 석좌교수</td>\n",
       "    </tr>\n",
       "    <tr>\n",
       "      <th>144260</th>\n",
       "      <td>아시아경제</td>\n",
       "      <td>12면 3단</td>\n",
       "      <td>[전자·반도체 전망] 공급 넘치던 반도체업계 좋아질듯</td>\n",
       "    </tr>\n",
       "    <tr>\n",
       "      <th>144261</th>\n",
       "      <td>뉴스토마토</td>\n",
       "      <td>2011.01.01.</td>\n",
       "      <td>조선·동아, 방송 얻고나니 이젠 특혜 달라?</td>\n",
       "    </tr>\n",
       "    <tr>\n",
       "      <th>144262</th>\n",
       "      <td>뉴스엔</td>\n",
       "      <td>2011.01.01.</td>\n",
       "      <td>절호의 매수급소! 2011년 억대계좌는 이 종목에서 터진다!</td>\n",
       "    </tr>\n",
       "  </tbody>\n",
       "</table>\n",
       "<p>727739 rows × 3 columns</p>\n",
       "</div>"
      ],
      "text/plain": [
       "          언론사           날짜                                     제목\n",
       "0        연합뉴스  1990.01.17.                     朴守敎-林正明 코트서 벤치 대결로\n",
       "1        연합뉴스  1990.01.17.                EC, 한국산 CDP 반덤핑 확정관세 결정\n",
       "2        연합뉴스  1990.01.17.                              범용 CAD 개발\n",
       "3        연합뉴스  1990.01.19.                     광고업계,제조업 불황속 호황 누려\n",
       "4        연합뉴스  1990.01.21.                                -농구대잔치-\n",
       "...       ...          ...                                    ...\n",
       "144258  미디어오늘       4면 TOP  “2011년 1000만원이 1억 될 종목” 묻지마 쩜상이 기대된다!\n",
       "144259    뉴스핌  2011.01.01.                  <스페셜인터뷰> 천정훈 MIT 석좌교수\n",
       "144260  아시아경제       12면 3단          [전자·반도체 전망] 공급 넘치던 반도체업계 좋아질듯\n",
       "144261  뉴스토마토  2011.01.01.               조선·동아, 방송 얻고나니 이젠 특혜 달라?\n",
       "144262    뉴스엔  2011.01.01.      절호의 매수급소! 2011년 억대계좌는 이 종목에서 터진다!\n",
       "\n",
       "[727739 rows x 3 columns]"
      ]
     },
     "execution_count": 67,
     "metadata": {},
     "output_type": "execute_result"
    }
   ],
   "source": [
    "df_1990_2010 = pd.concat([df_1, df_2, df_3, df_4, df_5, df_6, df_7, df_8, df_9, df_10])\n",
    "df_1990_2010"
   ]
  },
  {
   "cell_type": "code",
   "execution_count": 68,
   "id": "b5a18ae6",
   "metadata": {
    "ExecuteTime": {
     "end_time": "2022-07-29T05:05:20.113829Z",
     "start_time": "2022-07-29T05:05:19.881851Z"
    }
   },
   "outputs": [
    {
     "name": "stdout",
     "output_type": "stream",
     "text": [
      "(674856, 3)\n"
     ]
    }
   ],
   "source": [
    "# 중복값 제거\n",
    "\n",
    "df_1990_2010 = df_1990_2010.drop_duplicates()\n",
    "print(df_1990_2010.shape)"
   ]
  },
  {
   "cell_type": "code",
   "execution_count": 69,
   "id": "92442f83",
   "metadata": {
    "ExecuteTime": {
     "end_time": "2022-07-29T05:05:22.568806Z",
     "start_time": "2022-07-29T05:05:22.564238Z"
    }
   },
   "outputs": [
    {
     "data": {
      "text/html": [
       "<div>\n",
       "<style scoped>\n",
       "    .dataframe tbody tr th:only-of-type {\n",
       "        vertical-align: middle;\n",
       "    }\n",
       "\n",
       "    .dataframe tbody tr th {\n",
       "        vertical-align: top;\n",
       "    }\n",
       "\n",
       "    .dataframe thead th {\n",
       "        text-align: right;\n",
       "    }\n",
       "</style>\n",
       "<table border=\"1\" class=\"dataframe\">\n",
       "  <thead>\n",
       "    <tr style=\"text-align: right;\">\n",
       "      <th></th>\n",
       "      <th>언론사</th>\n",
       "      <th>날짜</th>\n",
       "      <th>제목</th>\n",
       "    </tr>\n",
       "  </thead>\n",
       "  <tbody>\n",
       "    <tr>\n",
       "      <th>0</th>\n",
       "      <td>연합뉴스</td>\n",
       "      <td>1990.01.17.</td>\n",
       "      <td>朴守敎-林正明 코트서 벤치 대결로</td>\n",
       "    </tr>\n",
       "    <tr>\n",
       "      <th>1</th>\n",
       "      <td>연합뉴스</td>\n",
       "      <td>1990.01.17.</td>\n",
       "      <td>EC, 한국산 CDP 반덤핑 확정관세 결정</td>\n",
       "    </tr>\n",
       "    <tr>\n",
       "      <th>2</th>\n",
       "      <td>연합뉴스</td>\n",
       "      <td>1990.01.17.</td>\n",
       "      <td>범용 CAD 개발</td>\n",
       "    </tr>\n",
       "    <tr>\n",
       "      <th>3</th>\n",
       "      <td>연합뉴스</td>\n",
       "      <td>1990.01.19.</td>\n",
       "      <td>광고업계,제조업 불황속 호황 누려</td>\n",
       "    </tr>\n",
       "    <tr>\n",
       "      <th>4</th>\n",
       "      <td>연합뉴스</td>\n",
       "      <td>1990.01.21.</td>\n",
       "      <td>-농구대잔치-</td>\n",
       "    </tr>\n",
       "    <tr>\n",
       "      <th>...</th>\n",
       "      <td>...</td>\n",
       "      <td>...</td>\n",
       "      <td>...</td>\n",
       "    </tr>\n",
       "    <tr>\n",
       "      <th>144239</th>\n",
       "      <td>파이낸셜뉴스</td>\n",
       "      <td>A18면 2단</td>\n",
       "      <td>[CES2011]세계 최대 가전쇼 열리는 라스베이거스는?</td>\n",
       "    </tr>\n",
       "    <tr>\n",
       "      <th>144249</th>\n",
       "      <td>매일경제</td>\n",
       "      <td>9면 TOP</td>\n",
       "      <td>갤럭시 플레이어 미리 만나볼까, 본격출시전 체험단 모집</td>\n",
       "    </tr>\n",
       "    <tr>\n",
       "      <th>144251</th>\n",
       "      <td>뉴스핌</td>\n",
       "      <td>9면 3단</td>\n",
       "      <td>&lt;스페셜인터뷰&gt; 천정훈 MIT 석좌교수</td>\n",
       "    </tr>\n",
       "    <tr>\n",
       "      <th>144256</th>\n",
       "      <td>헤럴드POP</td>\n",
       "      <td>12면 3단</td>\n",
       "      <td>갤럭시S 닮은꼴 'N스크린' 공개</td>\n",
       "    </tr>\n",
       "    <tr>\n",
       "      <th>144258</th>\n",
       "      <td>미디어오늘</td>\n",
       "      <td>4면 TOP</td>\n",
       "      <td>“2011년 1000만원이 1억 될 종목” 묻지마 쩜상이 기대된다!</td>\n",
       "    </tr>\n",
       "  </tbody>\n",
       "</table>\n",
       "<p>674856 rows × 3 columns</p>\n",
       "</div>"
      ],
      "text/plain": [
       "           언론사           날짜                                     제목\n",
       "0         연합뉴스  1990.01.17.                     朴守敎-林正明 코트서 벤치 대결로\n",
       "1         연합뉴스  1990.01.17.                EC, 한국산 CDP 반덤핑 확정관세 결정\n",
       "2         연합뉴스  1990.01.17.                              범용 CAD 개발\n",
       "3         연합뉴스  1990.01.19.                     광고업계,제조업 불황속 호황 누려\n",
       "4         연합뉴스  1990.01.21.                                -농구대잔치-\n",
       "...        ...          ...                                    ...\n",
       "144239  파이낸셜뉴스      A18면 2단        [CES2011]세계 최대 가전쇼 열리는 라스베이거스는?\n",
       "144249    매일경제       9면 TOP         갤럭시 플레이어 미리 만나볼까, 본격출시전 체험단 모집\n",
       "144251     뉴스핌        9면 3단                  <스페셜인터뷰> 천정훈 MIT 석좌교수\n",
       "144256  헤럴드POP       12면 3단                     갤럭시S 닮은꼴 'N스크린' 공개\n",
       "144258   미디어오늘       4면 TOP  “2011년 1000만원이 1억 될 종목” 묻지마 쩜상이 기대된다!\n",
       "\n",
       "[674856 rows x 3 columns]"
      ]
     },
     "execution_count": 69,
     "metadata": {},
     "output_type": "execute_result"
    }
   ],
   "source": [
    "df_1990_2010"
   ]
  },
  {
   "cell_type": "code",
   "execution_count": 83,
   "id": "acf2dbd9",
   "metadata": {
    "ExecuteTime": {
     "end_time": "2022-07-29T05:06:26.352840Z",
     "start_time": "2022-07-29T05:06:26.349334Z"
    }
   },
   "outputs": [],
   "source": [
    "df1998_2010 = df_1990_2010[7794:]"
   ]
  },
  {
   "cell_type": "code",
   "execution_count": 87,
   "id": "56131ce0",
   "metadata": {
    "ExecuteTime": {
     "end_time": "2022-07-29T05:07:26.428868Z",
     "start_time": "2022-07-29T05:07:26.416711Z"
    }
   },
   "outputs": [
    {
     "data": {
      "text/html": [
       "<div>\n",
       "<style scoped>\n",
       "    .dataframe tbody tr th:only-of-type {\n",
       "        vertical-align: middle;\n",
       "    }\n",
       "\n",
       "    .dataframe tbody tr th {\n",
       "        vertical-align: top;\n",
       "    }\n",
       "\n",
       "    .dataframe thead th {\n",
       "        text-align: right;\n",
       "    }\n",
       "</style>\n",
       "<table border=\"1\" class=\"dataframe\">\n",
       "  <thead>\n",
       "    <tr style=\"text-align: right;\">\n",
       "      <th></th>\n",
       "      <th>언론사</th>\n",
       "      <th>날짜</th>\n",
       "      <th>제목</th>\n",
       "    </tr>\n",
       "  </thead>\n",
       "  <tbody>\n",
       "    <tr>\n",
       "      <th>7820</th>\n",
       "      <td>연합뉴스</td>\n",
       "      <td>1998.05.20.</td>\n",
       "      <td>주가 사흘째 상승세</td>\n",
       "    </tr>\n",
       "    <tr>\n",
       "      <th>7821</th>\n",
       "      <td>연합뉴스</td>\n",
       "      <td>1998.05.20.</td>\n",
       "      <td>아남텔레콤, PDA 데이터 전송서비스 개시</td>\n",
       "    </tr>\n",
       "    <tr>\n",
       "      <th>7822</th>\n",
       "      <td>연합뉴스</td>\n",
       "      <td>1998.05.20.</td>\n",
       "      <td>&lt;회전목마&gt; 삼성전자, 사이버 사외보 제작</td>\n",
       "    </tr>\n",
       "    <tr>\n",
       "      <th>7823</th>\n",
       "      <td>연합뉴스</td>\n",
       "      <td>1998.05.20.</td>\n",
       "      <td>&lt;주식시황&gt; 사흘째 상승, 3백70선 다가서</td>\n",
       "    </tr>\n",
       "    <tr>\n",
       "      <th>7824</th>\n",
       "      <td>연합뉴스</td>\n",
       "      <td>1998.05.20.</td>\n",
       "      <td>-춘계승마- 신창무,싼졸쥬마장마술 우승</td>\n",
       "    </tr>\n",
       "    <tr>\n",
       "      <th>...</th>\n",
       "      <td>...</td>\n",
       "      <td>...</td>\n",
       "      <td>...</td>\n",
       "    </tr>\n",
       "    <tr>\n",
       "      <th>144239</th>\n",
       "      <td>파이낸셜뉴스</td>\n",
       "      <td>A18면 2단</td>\n",
       "      <td>[CES2011]세계 최대 가전쇼 열리는 라스베이거스는?</td>\n",
       "    </tr>\n",
       "    <tr>\n",
       "      <th>144249</th>\n",
       "      <td>매일경제</td>\n",
       "      <td>9면 TOP</td>\n",
       "      <td>갤럭시 플레이어 미리 만나볼까, 본격출시전 체험단 모집</td>\n",
       "    </tr>\n",
       "    <tr>\n",
       "      <th>144251</th>\n",
       "      <td>뉴스핌</td>\n",
       "      <td>9면 3단</td>\n",
       "      <td>&lt;스페셜인터뷰&gt; 천정훈 MIT 석좌교수</td>\n",
       "    </tr>\n",
       "    <tr>\n",
       "      <th>144256</th>\n",
       "      <td>헤럴드POP</td>\n",
       "      <td>12면 3단</td>\n",
       "      <td>갤럭시S 닮은꼴 'N스크린' 공개</td>\n",
       "    </tr>\n",
       "    <tr>\n",
       "      <th>144258</th>\n",
       "      <td>미디어오늘</td>\n",
       "      <td>4면 TOP</td>\n",
       "      <td>“2011년 1000만원이 1억 될 종목” 묻지마 쩜상이 기대된다!</td>\n",
       "    </tr>\n",
       "  </tbody>\n",
       "</table>\n",
       "<p>667062 rows × 3 columns</p>\n",
       "</div>"
      ],
      "text/plain": [
       "           언론사           날짜                                     제목\n",
       "7820      연합뉴스  1998.05.20.                             주가 사흘째 상승세\n",
       "7821      연합뉴스  1998.05.20.                아남텔레콤, PDA 데이터 전송서비스 개시\n",
       "7822      연합뉴스  1998.05.20.                <회전목마> 삼성전자, 사이버 사외보 제작\n",
       "7823      연합뉴스  1998.05.20.               <주식시황> 사흘째 상승, 3백70선 다가서\n",
       "7824      연합뉴스  1998.05.20.                  -춘계승마- 신창무,싼졸쥬마장마술 우승\n",
       "...        ...          ...                                    ...\n",
       "144239  파이낸셜뉴스      A18면 2단        [CES2011]세계 최대 가전쇼 열리는 라스베이거스는?\n",
       "144249    매일경제       9면 TOP         갤럭시 플레이어 미리 만나볼까, 본격출시전 체험단 모집\n",
       "144251     뉴스핌        9면 3단                  <스페셜인터뷰> 천정훈 MIT 석좌교수\n",
       "144256  헤럴드POP       12면 3단                     갤럭시S 닮은꼴 'N스크린' 공개\n",
       "144258   미디어오늘       4면 TOP  “2011년 1000만원이 1억 될 종목” 묻지마 쩜상이 기대된다!\n",
       "\n",
       "[667062 rows x 3 columns]"
      ]
     },
     "execution_count": 87,
     "metadata": {},
     "output_type": "execute_result"
    }
   ],
   "source": [
    "df1998_2010"
   ]
  },
  {
   "cell_type": "code",
   "execution_count": 88,
   "id": "a78af905",
   "metadata": {
    "ExecuteTime": {
     "end_time": "2022-07-29T05:07:32.425889Z",
     "start_time": "2022-07-29T05:07:31.336919Z"
    }
   },
   "outputs": [],
   "source": [
    "df1998_2010.to_csv('1998_2010.csv')"
   ]
  },
  {
   "cell_type": "code",
   "execution_count": null,
   "id": "99ddb5bf",
   "metadata": {
    "ExecuteTime": {
     "end_time": "2022-07-29T02:43:44.254626Z",
     "start_time": "2022-07-29T02:43:44.239860Z"
    }
   },
   "outputs": [],
   "source": [
    "df_2021 = pd.concat([df_11, df_11_2])"
   ]
  },
  {
   "cell_type": "code",
   "execution_count": null,
   "id": "ecbc7167",
   "metadata": {
    "ExecuteTime": {
     "end_time": "2022-07-29T02:43:46.222793Z",
     "start_time": "2022-07-29T02:43:44.960839Z"
    }
   },
   "outputs": [],
   "source": [
    "# df_2021 = df_2021.drop(columns=['index'])\n",
    "# df_2021"
   ]
  },
  {
   "cell_type": "code",
   "execution_count": null,
   "id": "83d741ef",
   "metadata": {
    "ExecuteTime": {
     "end_time": "2022-07-29T02:43:55.839898Z",
     "start_time": "2022-07-29T02:43:55.658380Z"
    }
   },
   "outputs": [],
   "source": [
    "# 중복값 제거\n",
    "\n",
    "df_2021 = df_2021.drop_duplicates()\n",
    "print(df_2021.shape)\n",
    "\n",
    "# df_11 = df_11.drop_duplicates()\n",
    "# df_12 = df_12.drop_duplicates()"
   ]
  },
  {
   "cell_type": "code",
   "execution_count": null,
   "id": "a2d3d563",
   "metadata": {
    "ExecuteTime": {
     "end_time": "2022-07-29T02:43:57.227321Z",
     "start_time": "2022-07-29T02:43:57.217607Z"
    }
   },
   "outputs": [],
   "source": [
    "df_2021"
   ]
  },
  {
   "cell_type": "code",
   "execution_count": null,
   "id": "3e4008ec",
   "metadata": {
    "ExecuteTime": {
     "end_time": "2022-07-29T02:44:04.711148Z",
     "start_time": "2022-07-29T02:44:04.104310Z"
    }
   },
   "outputs": [],
   "source": [
    "df_2021 = df_2021.to_csv('2021.csv')"
   ]
  },
  {
   "cell_type": "code",
   "execution_count": null,
   "id": "5b05f433",
   "metadata": {
    "ExecuteTime": {
     "end_time": "2022-07-29T02:05:39.549985Z",
     "start_time": "2022-07-29T02:05:39.534616Z"
    }
   },
   "outputs": [],
   "source": [
    "df_2021"
   ]
  },
  {
   "cell_type": "code",
   "execution_count": null,
   "id": "73febc2d",
   "metadata": {
    "ExecuteTime": {
     "end_time": "2022-07-28T07:00:57.620452Z",
     "start_time": "2022-07-28T07:00:57.453266Z"
    }
   },
   "outputs": [],
   "source": [
    "# 날짜 데이터 숫자값으로 수정\n",
    "\n",
    "df['날짜'] = df['날짜'].str.replace(\".\",\"\")\n",
    "\n",
    "# df_11['날짜'] = df_11['날짜'].str.replace(\".\",\"\").astype(int)\n",
    "# df_12['날짜'] = df_12['날짜'].str.replace(\".\",\"\").astype(int)"
   ]
  },
  {
   "cell_type": "code",
   "execution_count": null,
   "id": "76a501d6",
   "metadata": {
    "ExecuteTime": {
     "end_time": "2022-07-28T07:01:01.532537Z",
     "start_time": "2022-07-28T07:01:00.392583Z"
    },
    "scrolled": true
   },
   "outputs": [],
   "source": [
    "df['날짜'].astype(int)\n",
    "\n",
    "# df_11['날짜'].astype(int)\n",
    "# df_12['날짜'].astype(int)"
   ]
  },
  {
   "cell_type": "code",
   "execution_count": null,
   "id": "582074c2",
   "metadata": {
    "ExecuteTime": {
     "end_time": "2022-07-28T07:01:03.129122Z",
     "start_time": "2022-07-28T07:01:03.049940Z"
    }
   },
   "outputs": [],
   "source": [
    "df[df['날짜']=='재정경제부']"
   ]
  },
  {
   "cell_type": "code",
   "execution_count": null,
   "id": "010b4e87",
   "metadata": {
    "ExecuteTime": {
     "end_time": "2022-07-28T07:02:13.436796Z",
     "start_time": "2022-07-28T07:02:13.418013Z"
    },
    "scrolled": true
   },
   "outputs": [],
   "source": [
    "df[-50:]"
   ]
  },
  {
   "cell_type": "code",
   "execution_count": null,
   "id": "e32e103c",
   "metadata": {
    "ExecuteTime": {
     "end_time": "2022-07-28T07:01:12.975545Z",
     "start_time": "2022-07-28T07:01:12.205453Z"
    }
   },
   "outputs": [],
   "source": [
    "df.value_counts().sort_values()"
   ]
  },
  {
   "cell_type": "code",
   "execution_count": null,
   "id": "16186115",
   "metadata": {
    "ExecuteTime": {
     "end_time": "2022-07-28T07:04:00.038077Z",
     "start_time": "2022-07-28T07:03:58.972074Z"
    }
   },
   "outputs": [],
   "source": [
    "df.to_csv('1990-2010.csv')"
   ]
  },
  {
   "cell_type": "markdown",
   "id": "3724dec2",
   "metadata": {},
   "source": [
    "# 1990, 2000년대 데이터 나누기"
   ]
  },
  {
   "cell_type": "code",
   "execution_count": null,
   "id": "d2a50401",
   "metadata": {
    "ExecuteTime": {
     "end_time": "2022-07-28T08:25:36.098513Z",
     "start_time": "2022-07-28T08:25:35.364679Z"
    },
    "scrolled": true
   },
   "outputs": [],
   "source": [
    "df = pd.read_csv('1990-2010.csv', index_col=0)"
   ]
  },
  {
   "cell_type": "code",
   "execution_count": null,
   "id": "90625f18",
   "metadata": {
    "ExecuteTime": {
     "end_time": "2022-07-28T08:25:53.848620Z",
     "start_time": "2022-07-28T08:25:53.779001Z"
    }
   },
   "outputs": [],
   "source": [
    "df.sort_index()"
   ]
  },
  {
   "cell_type": "code",
   "execution_count": null,
   "id": "02bcfe3e",
   "metadata": {
    "ExecuteTime": {
     "end_time": "2022-07-28T08:26:35.327230Z",
     "start_time": "2022-07-28T08:26:34.724038Z"
    }
   },
   "outputs": [],
   "source": [
    "df_1990 = pd.read_csv('1990.csv', index_col=0)\n",
    "df_2000 = pd.read_csv('2000.csv', index_col=0)"
   ]
  },
  {
   "cell_type": "code",
   "execution_count": null,
   "id": "beac6644",
   "metadata": {
    "ExecuteTime": {
     "end_time": "2022-07-28T08:26:40.052043Z",
     "start_time": "2022-07-28T08:26:40.040372Z"
    }
   },
   "outputs": [],
   "source": [
    "df_2000"
   ]
  },
  {
   "cell_type": "code",
   "execution_count": null,
   "id": "885f46b5",
   "metadata": {
    "ExecuteTime": {
     "end_time": "2022-07-28T08:11:00.843156Z",
     "start_time": "2022-07-28T08:11:00.774593Z"
    }
   },
   "outputs": [],
   "source": [
    "df = df.reset_index().drop(columns='index')\n",
    "df"
   ]
  },
  {
   "cell_type": "code",
   "execution_count": null,
   "id": "73207122",
   "metadata": {
    "ExecuteTime": {
     "end_time": "2022-07-28T08:20:12.208651Z",
     "start_time": "2022-07-28T08:20:10.006965Z"
    },
    "scrolled": true
   },
   "outputs": [],
   "source": [
    "for i in range(3000):\n",
    "    i += 1\n",
    "    print(df[-50*i:-50*(i-1)])\n",
    "    print('')"
   ]
  },
  {
   "cell_type": "code",
   "execution_count": null,
   "id": "6758d405",
   "metadata": {
    "ExecuteTime": {
     "end_time": "2022-07-28T08:23:25.566640Z",
     "start_time": "2022-07-28T08:23:25.552691Z"
    }
   },
   "outputs": [],
   "source": [
    "df_1990 = df[:10516]\n",
    "df_1990"
   ]
  },
  {
   "cell_type": "code",
   "execution_count": null,
   "id": "703a6728",
   "metadata": {
    "ExecuteTime": {
     "end_time": "2022-07-28T08:24:01.663842Z",
     "start_time": "2022-07-28T08:24:01.607767Z"
    }
   },
   "outputs": [],
   "source": [
    "df_1990.to_csv('1990.csv')"
   ]
  },
  {
   "cell_type": "code",
   "execution_count": null,
   "id": "25b4ae4f",
   "metadata": {
    "ExecuteTime": {
     "end_time": "2022-07-28T08:24:14.411732Z",
     "start_time": "2022-07-28T08:24:14.397287Z"
    }
   },
   "outputs": [],
   "source": [
    "df_2000 = df[10516:541020]\n",
    "df_2000"
   ]
  },
  {
   "cell_type": "code",
   "execution_count": null,
   "id": "58cd1af6",
   "metadata": {
    "ExecuteTime": {
     "end_time": "2022-07-28T08:24:58.497675Z",
     "start_time": "2022-07-28T08:24:58.461701Z"
    }
   },
   "outputs": [],
   "source": [
    "df_2000 = df_2000.reset_index().drop(columns='index')"
   ]
  },
  {
   "cell_type": "code",
   "execution_count": null,
   "id": "34fa468d",
   "metadata": {
    "ExecuteTime": {
     "end_time": "2022-07-28T08:25:19.325452Z",
     "start_time": "2022-07-28T08:25:18.460818Z"
    }
   },
   "outputs": [],
   "source": [
    "df_2000.to_csv('2000.csv')"
   ]
  },
  {
   "cell_type": "markdown",
   "id": "a8638512",
   "metadata": {},
   "source": [
    "# 2017 ~ 2022"
   ]
  },
  {
   "cell_type": "code",
   "execution_count": 39,
   "id": "cf009d39",
   "metadata": {
    "ExecuteTime": {
     "end_time": "2022-07-29T04:55:01.570172Z",
     "start_time": "2022-07-29T04:54:59.305870Z"
    }
   },
   "outputs": [],
   "source": [
    "df2018_2019 = pd.read_csv('/Users/lhs2/Desktop/GitHub/NLP_pjt/data(concat)/2018_2019.csv', index_col = 0)\n",
    "df2017 = pd.read_csv('/Users/lhs2/Desktop/GitHub/NLP_pjt/data(annual)/2017.csv', index_col = 0)\n",
    "df2020 = pd.read_csv('/Users/lhs2/Desktop/GitHub/NLP_pjt/data(annual)/2020.csv', index_col = 0)\n",
    "df2021 = pd.read_csv('/Users/lhs2/Desktop/GitHub/NLP_pjt/data(annual)/2021.csv', index_col = 0)\n",
    "df2022 = pd.read_csv('/Users/lhs2/Desktop/GitHub/NLP_pjt/data(annual)/2022.csv', index_col = 0)"
   ]
  },
  {
   "cell_type": "code",
   "execution_count": 59,
   "id": "55944fca",
   "metadata": {
    "ExecuteTime": {
     "end_time": "2022-07-29T04:57:20.530193Z",
     "start_time": "2022-07-29T04:57:20.517121Z"
    }
   },
   "outputs": [
    {
     "data": {
      "text/html": [
       "<div>\n",
       "<style scoped>\n",
       "    .dataframe tbody tr th:only-of-type {\n",
       "        vertical-align: middle;\n",
       "    }\n",
       "\n",
       "    .dataframe tbody tr th {\n",
       "        vertical-align: top;\n",
       "    }\n",
       "\n",
       "    .dataframe thead th {\n",
       "        text-align: right;\n",
       "    }\n",
       "</style>\n",
       "<table border=\"1\" class=\"dataframe\">\n",
       "  <thead>\n",
       "    <tr style=\"text-align: right;\">\n",
       "      <th></th>\n",
       "      <th>언론사</th>\n",
       "      <th>날짜</th>\n",
       "      <th>제목</th>\n",
       "    </tr>\n",
       "  </thead>\n",
       "  <tbody>\n",
       "    <tr>\n",
       "      <th>0</th>\n",
       "      <td>데일리안</td>\n",
       "      <td>2022.01.01.</td>\n",
       "      <td>[신년사] 안철수 \"대한민국 호랑이, 세계 무대로 포효해야\"</td>\n",
       "    </tr>\n",
       "    <tr>\n",
       "      <th>1</th>\n",
       "      <td>서울경제언론사 선정</td>\n",
       "      <td>2면 TOP</td>\n",
       "      <td>[신년 사설] 과학기술 초격차로 ‘부강한 스마트 국가’로 가자</td>\n",
       "    </tr>\n",
       "    <tr>\n",
       "      <th>2</th>\n",
       "      <td>더팩트언론사 선정</td>\n",
       "      <td>2022.01.01.</td>\n",
       "      <td>'첫 테이프' 끊은 삼전, '추격'하는 중국…'접는폰 전성시대' 열리나</td>\n",
       "    </tr>\n",
       "    <tr>\n",
       "      <th>3</th>\n",
       "      <td>뉴스웍스</td>\n",
       "      <td>2022.01.01.</td>\n",
       "      <td>[신년사설] 새 대통령, 소통·포용 리더십으로 '신탕평' 나서야</td>\n",
       "    </tr>\n",
       "    <tr>\n",
       "      <th>4</th>\n",
       "      <td>중앙SUNDAY</td>\n",
       "      <td>2022.01.01.</td>\n",
       "      <td>광고 모델 넘어 앵커·쇼호스트·은행원까지…가상 인간 실제 세상에 스며들다</td>\n",
       "    </tr>\n",
       "    <tr>\n",
       "      <th>...</th>\n",
       "      <td>...</td>\n",
       "      <td>...</td>\n",
       "      <td>...</td>\n",
       "    </tr>\n",
       "    <tr>\n",
       "      <th>169969</th>\n",
       "      <td>한국경제</td>\n",
       "      <td>2022.07.21.</td>\n",
       "      <td>디지털이미지뱅크, 한투등 3개사서 20억원 투자 유치</td>\n",
       "    </tr>\n",
       "    <tr>\n",
       "      <th>169970</th>\n",
       "      <td>한국경제</td>\n",
       "      <td>2022.07.21.</td>\n",
       "      <td>[코스닥공시] 세보기계</td>\n",
       "    </tr>\n",
       "    <tr>\n",
       "      <th>169971</th>\n",
       "      <td>한국경제</td>\n",
       "      <td>2022.07.21.</td>\n",
       "      <td>전자.통신업체 신용등급도 급상승세</td>\n",
       "    </tr>\n",
       "    <tr>\n",
       "      <th>169972</th>\n",
       "      <td>한국경제</td>\n",
       "      <td>2022.07.21.</td>\n",
       "      <td>종합주가 폭락세, 916.01(-37.21) 전장마감</td>\n",
       "    </tr>\n",
       "    <tr>\n",
       "      <th>169973</th>\n",
       "      <td>한국경제</td>\n",
       "      <td>2022.07.21.</td>\n",
       "      <td>산자부, 수치제어장치 산.학.연 공동연구 개발에 성공</td>\n",
       "    </tr>\n",
       "  </tbody>\n",
       "</table>\n",
       "<p>169974 rows × 3 columns</p>\n",
       "</div>"
      ],
      "text/plain": [
       "               언론사           날짜                                        제목\n",
       "0             데일리안  2022.01.01.         [신년사] 안철수 \"대한민국 호랑이, 세계 무대로 포효해야\"\n",
       "1       서울경제언론사 선정       2면 TOP        [신년 사설] 과학기술 초격차로 ‘부강한 스마트 국가’로 가자\n",
       "2        더팩트언론사 선정  2022.01.01.   '첫 테이프' 끊은 삼전, '추격'하는 중국…'접는폰 전성시대' 열리나\n",
       "3             뉴스웍스  2022.01.01.       [신년사설] 새 대통령, 소통·포용 리더십으로 '신탕평' 나서야\n",
       "4         중앙SUNDAY  2022.01.01.  광고 모델 넘어 앵커·쇼호스트·은행원까지…가상 인간 실제 세상에 스며들다\n",
       "...            ...          ...                                       ...\n",
       "169969        한국경제  2022.07.21.             디지털이미지뱅크, 한투등 3개사서 20억원 투자 유치\n",
       "169970        한국경제  2022.07.21.                              [코스닥공시] 세보기계\n",
       "169971        한국경제  2022.07.21.                        전자.통신업체 신용등급도 급상승세\n",
       "169972        한국경제  2022.07.21.             종합주가 폭락세, 916.01(-37.21) 전장마감\n",
       "169973        한국경제  2022.07.21.             산자부, 수치제어장치 산.학.연 공동연구 개발에 성공\n",
       "\n",
       "[169974 rows x 3 columns]"
      ]
     },
     "execution_count": 59,
     "metadata": {},
     "output_type": "execute_result"
    }
   ],
   "source": [
    "df2022 = df2022[:169974]\n",
    "df2022"
   ]
  },
  {
   "cell_type": "code",
   "execution_count": 63,
   "id": "1a294ded",
   "metadata": {
    "ExecuteTime": {
     "end_time": "2022-07-29T04:58:10.395602Z",
     "start_time": "2022-07-29T04:58:10.312273Z"
    }
   },
   "outputs": [],
   "source": [
    "df2017_2022 = pd.concat([df2017, df2018_2019, df2020, df2021, df2022]).drop(columns='level_0')"
   ]
  },
  {
   "cell_type": "code",
   "execution_count": 64,
   "id": "c80051dd",
   "metadata": {
    "ExecuteTime": {
     "end_time": "2022-07-29T04:58:10.936328Z",
     "start_time": "2022-07-29T04:58:10.930636Z"
    }
   },
   "outputs": [
    {
     "data": {
      "text/html": [
       "<div>\n",
       "<style scoped>\n",
       "    .dataframe tbody tr th:only-of-type {\n",
       "        vertical-align: middle;\n",
       "    }\n",
       "\n",
       "    .dataframe tbody tr th {\n",
       "        vertical-align: top;\n",
       "    }\n",
       "\n",
       "    .dataframe thead th {\n",
       "        text-align: right;\n",
       "    }\n",
       "</style>\n",
       "<table border=\"1\" class=\"dataframe\">\n",
       "  <thead>\n",
       "    <tr style=\"text-align: right;\">\n",
       "      <th></th>\n",
       "      <th>언론사</th>\n",
       "      <th>날짜</th>\n",
       "      <th>제목</th>\n",
       "    </tr>\n",
       "  </thead>\n",
       "  <tbody>\n",
       "    <tr>\n",
       "      <th>0</th>\n",
       "      <td>아주경제</td>\n",
       "      <td>2017.01.01.</td>\n",
       "      <td>특검,문형표 구속에 새해 첫날 안종범 재소환..삼성 합병에 박근혜 역할 집중...</td>\n",
       "    </tr>\n",
       "    <tr>\n",
       "      <th>1</th>\n",
       "      <td>중앙SUNDAY</td>\n",
       "      <td>2017.01.01.</td>\n",
       "      <td>1308조원</td>\n",
       "    </tr>\n",
       "    <tr>\n",
       "      <th>2</th>\n",
       "      <td>IT조선</td>\n",
       "      <td>2017.01.01.</td>\n",
       "      <td>[2017 스마트폰 트렌드] ①스마트폰 시장 ‘흐림’ 전망...탈출구 있나</td>\n",
       "    </tr>\n",
       "    <tr>\n",
       "      <th>3</th>\n",
       "      <td>전자신문</td>\n",
       "      <td>33면 1단</td>\n",
       "      <td>[신년기획]인공지능, 올해 경쟁력 확보 원년</td>\n",
       "    </tr>\n",
       "    <tr>\n",
       "      <th>4</th>\n",
       "      <td>EBN</td>\n",
       "      <td>2017.01.01.</td>\n",
       "      <td>[주간증시전망] CES發 IT섹터 관심 다양화·삼성전자 실적 발표 등 대장주 상...</td>\n",
       "    </tr>\n",
       "    <tr>\n",
       "      <th>...</th>\n",
       "      <td>...</td>\n",
       "      <td>...</td>\n",
       "      <td>...</td>\n",
       "    </tr>\n",
       "    <tr>\n",
       "      <th>169969</th>\n",
       "      <td>한국경제</td>\n",
       "      <td>2022.07.21.</td>\n",
       "      <td>디지털이미지뱅크, 한투등 3개사서 20억원 투자 유치</td>\n",
       "    </tr>\n",
       "    <tr>\n",
       "      <th>169970</th>\n",
       "      <td>한국경제</td>\n",
       "      <td>2022.07.21.</td>\n",
       "      <td>[코스닥공시] 세보기계</td>\n",
       "    </tr>\n",
       "    <tr>\n",
       "      <th>169971</th>\n",
       "      <td>한국경제</td>\n",
       "      <td>2022.07.21.</td>\n",
       "      <td>전자.통신업체 신용등급도 급상승세</td>\n",
       "    </tr>\n",
       "    <tr>\n",
       "      <th>169972</th>\n",
       "      <td>한국경제</td>\n",
       "      <td>2022.07.21.</td>\n",
       "      <td>종합주가 폭락세, 916.01(-37.21) 전장마감</td>\n",
       "    </tr>\n",
       "    <tr>\n",
       "      <th>169973</th>\n",
       "      <td>한국경제</td>\n",
       "      <td>2022.07.21.</td>\n",
       "      <td>산자부, 수치제어장치 산.학.연 공동연구 개발에 성공</td>\n",
       "    </tr>\n",
       "  </tbody>\n",
       "</table>\n",
       "<p>1713562 rows × 3 columns</p>\n",
       "</div>"
      ],
      "text/plain": [
       "             언론사           날짜                                               제목\n",
       "0           아주경제  2017.01.01.    특검,문형표 구속에 새해 첫날 안종범 재소환..삼성 합병에 박근혜 역할 집중...\n",
       "1       중앙SUNDAY  2017.01.01.                                           1308조원\n",
       "2           IT조선  2017.01.01.        [2017 스마트폰 트렌드] ①스마트폰 시장 ‘흐림’ 전망...탈출구 있나\n",
       "3           전자신문       33면 1단                         [신년기획]인공지능, 올해 경쟁력 확보 원년\n",
       "4            EBN  2017.01.01.  [주간증시전망] CES發 IT섹터 관심 다양화·삼성전자 실적 발표 등 대장주 상...\n",
       "...          ...          ...                                              ...\n",
       "169969      한국경제  2022.07.21.                    디지털이미지뱅크, 한투등 3개사서 20억원 투자 유치\n",
       "169970      한국경제  2022.07.21.                                     [코스닥공시] 세보기계\n",
       "169971      한국경제  2022.07.21.                               전자.통신업체 신용등급도 급상승세\n",
       "169972      한국경제  2022.07.21.                    종합주가 폭락세, 916.01(-37.21) 전장마감\n",
       "169973      한국경제  2022.07.21.                    산자부, 수치제어장치 산.학.연 공동연구 개발에 성공\n",
       "\n",
       "[1713562 rows x 3 columns]"
      ]
     },
     "execution_count": 64,
     "metadata": {},
     "output_type": "execute_result"
    }
   ],
   "source": [
    "df2017_2022"
   ]
  },
  {
   "cell_type": "code",
   "execution_count": 65,
   "id": "cb042c62",
   "metadata": {
    "ExecuteTime": {
     "end_time": "2022-07-29T04:58:50.953065Z",
     "start_time": "2022-07-29T04:58:47.839398Z"
    }
   },
   "outputs": [],
   "source": [
    "df2017_2022.to_csv('2017_2022.csv')"
   ]
  },
  {
   "cell_type": "markdown",
   "id": "83f6a976",
   "metadata": {},
   "source": [
    "# 2011 ~ 2016"
   ]
  },
  {
   "cell_type": "code",
   "execution_count": 3,
   "id": "5d4b08d6",
   "metadata": {
    "ExecuteTime": {
     "end_time": "2022-08-03T05:48:32.537385Z",
     "start_time": "2022-08-03T05:48:30.840923Z"
    }
   },
   "outputs": [],
   "source": [
    "df2011 = pd.read_csv('/Users/lhs/Desktop/GitHub/NLP_pjt/data/2011.csv', index_col = 0)\n",
    "df2012 = pd.read_csv('/Users/lhs/Desktop/GitHub/NLP_pjt/data/2012.csv', index_col = 0)\n",
    "df2013 = pd.read_csv('/Users/lhs/Desktop/GitHub/NLP_pjt/data/2013.csv', index_col = 0)\n",
    "df2014 = pd.read_csv('/Users/lhs/Desktop/GitHub/NLP_pjt/data/2014.csv', index_col = 0)\n",
    "df2015 = pd.read_csv('/Users/lhs/Desktop/GitHub/NLP_pjt/data/2015.csv', index_col = 0)\n",
    "df2016_1 = pd.read_csv('/Users/lhs/Desktop/GitHub/NLP_pjt/data/2016_1.csv', index_col = 0)\n",
    "df2016_2 = pd.read_csv('/Users/lhs/Desktop/GitHub/NLP_pjt/data/2016_2(12.07).csv', index_col = 0)\n",
    "df2016_3 = pd.read_csv('/Users/lhs/Desktop/GitHub/NLP_pjt/data/2016_3(12.07-).csv', index_col = 0)"
   ]
  },
  {
   "cell_type": "code",
   "execution_count": 4,
   "id": "ab5d93c7",
   "metadata": {
    "ExecuteTime": {
     "end_time": "2022-08-03T05:48:34.273645Z",
     "start_time": "2022-08-03T05:48:34.249489Z"
    }
   },
   "outputs": [
    {
     "data": {
      "text/html": [
       "<div>\n",
       "<style scoped>\n",
       "    .dataframe tbody tr th:only-of-type {\n",
       "        vertical-align: middle;\n",
       "    }\n",
       "\n",
       "    .dataframe tbody tr th {\n",
       "        vertical-align: top;\n",
       "    }\n",
       "\n",
       "    .dataframe thead th {\n",
       "        text-align: right;\n",
       "    }\n",
       "</style>\n",
       "<table border=\"1\" class=\"dataframe\">\n",
       "  <thead>\n",
       "    <tr style=\"text-align: right;\">\n",
       "      <th></th>\n",
       "      <th>언론사</th>\n",
       "      <th>날짜</th>\n",
       "      <th>제목</th>\n",
       "    </tr>\n",
       "  </thead>\n",
       "  <tbody>\n",
       "    <tr>\n",
       "      <th>0</th>\n",
       "      <td>에너지경제</td>\n",
       "      <td>2011.01.01.</td>\n",
       "      <td>신년특집/ 지열, 솟아라 2011</td>\n",
       "    </tr>\n",
       "    <tr>\n",
       "      <th>1</th>\n",
       "      <td>서울신문</td>\n",
       "      <td>2011.01.01.</td>\n",
       "      <td>[서울신문 신년특집] 새해 경제 기상도 - 산업계 이렇게 바뀐다</td>\n",
       "    </tr>\n",
       "    <tr>\n",
       "      <th>2</th>\n",
       "      <td>동아일보</td>\n",
       "      <td>B4면 TOP</td>\n",
       "      <td>[경제계 신년사]“미래 성장동력 발굴해 경제성장 이어가자”</td>\n",
       "    </tr>\n",
       "    <tr>\n",
       "      <th>3</th>\n",
       "      <td>동아일보</td>\n",
       "      <td>2011.01.01.</td>\n",
       "      <td>[인문사회]‘제2의 개항’ FTA 시작과 끝… 막전막후 협상비화 상세 소개</td>\n",
       "    </tr>\n",
       "    <tr>\n",
       "      <th>4</th>\n",
       "      <td>헤럴드경제</td>\n",
       "      <td>A18면 2단</td>\n",
       "      <td>실적·성장... 양 날개로... ‘퀀텀점프’</td>\n",
       "    </tr>\n",
       "    <tr>\n",
       "      <th>...</th>\n",
       "      <td>...</td>\n",
       "      <td>...</td>\n",
       "      <td>...</td>\n",
       "    </tr>\n",
       "    <tr>\n",
       "      <th>15625</th>\n",
       "      <td>매일경제</td>\n",
       "      <td>15면 TOP</td>\n",
       "      <td>코스피, 1850선 후퇴…`깜짝실적` 삼성電 약세</td>\n",
       "    </tr>\n",
       "    <tr>\n",
       "      <th>15626</th>\n",
       "      <td>연합뉴스</td>\n",
       "      <td>2012.01.03.</td>\n",
       "      <td>삼성 '갤럭시 노트' 국내 탄소성적표지 인증</td>\n",
       "    </tr>\n",
       "    <tr>\n",
       "      <th>15627</th>\n",
       "      <td>서울경제</td>\n",
       "      <td>2012.01.03.</td>\n",
       "      <td>삼성전자, 졸업∙입학 맞이 ‘삼성전자 아카데미’ 행사</td>\n",
       "    </tr>\n",
       "    <tr>\n",
       "      <th>15628</th>\n",
       "      <td>넥스트데일리</td>\n",
       "      <td>1면 1단</td>\n",
       "      <td>잘 나가는 블루투스 헤드셋, 인기 비결은</td>\n",
       "    </tr>\n",
       "    <tr>\n",
       "      <th>15629</th>\n",
       "      <td>한국경제</td>\n",
       "      <td>2012.01.03.</td>\n",
       "      <td>[특징주]삼성전자 선전에도 IT株 '약세'…하이닉스는 '상승'</td>\n",
       "    </tr>\n",
       "  </tbody>\n",
       "</table>\n",
       "<p>184747 rows × 3 columns</p>\n",
       "</div>"
      ],
      "text/plain": [
       "          언론사           날짜                                         제목\n",
       "0       에너지경제  2011.01.01.                         신년특집/ 지열, 솟아라 2011\n",
       "1        서울신문  2011.01.01.        [서울신문 신년특집] 새해 경제 기상도 - 산업계 이렇게 바뀐다\n",
       "2        동아일보      B4면 TOP           [경제계 신년사]“미래 성장동력 발굴해 경제성장 이어가자”\n",
       "3        동아일보  2011.01.01.  [인문사회]‘제2의 개항’ FTA 시작과 끝… 막전막후 협상비화 상세 소개\n",
       "4       헤럴드경제      A18면 2단                   실적·성장... 양 날개로... ‘퀀텀점프’\n",
       "...       ...          ...                                        ...\n",
       "15625    매일경제      15면 TOP                코스피, 1850선 후퇴…`깜짝실적` 삼성電 약세\n",
       "15626    연합뉴스  2012.01.03.                   삼성 '갤럭시 노트' 국내 탄소성적표지 인증\n",
       "15627    서울경제  2012.01.03.              삼성전자, 졸업∙입학 맞이 ‘삼성전자 아카데미’ 행사\n",
       "15628  넥스트데일리        1면 1단                     잘 나가는 블루투스 헤드셋, 인기 비결은\n",
       "15629    한국경제  2012.01.03.         [특징주]삼성전자 선전에도 IT株 '약세'…하이닉스는 '상승'\n",
       "\n",
       "[184747 rows x 3 columns]"
      ]
     },
     "execution_count": 4,
     "metadata": {},
     "output_type": "execute_result"
    }
   ],
   "source": [
    "df2011"
   ]
  },
  {
   "cell_type": "code",
   "execution_count": 5,
   "id": "97af882d",
   "metadata": {
    "ExecuteTime": {
     "end_time": "2022-08-03T05:48:35.966450Z",
     "start_time": "2022-08-03T05:48:35.953537Z"
    }
   },
   "outputs": [
    {
     "data": {
      "text/html": [
       "<div>\n",
       "<style scoped>\n",
       "    .dataframe tbody tr th:only-of-type {\n",
       "        vertical-align: middle;\n",
       "    }\n",
       "\n",
       "    .dataframe tbody tr th {\n",
       "        vertical-align: top;\n",
       "    }\n",
       "\n",
       "    .dataframe thead th {\n",
       "        text-align: right;\n",
       "    }\n",
       "</style>\n",
       "<table border=\"1\" class=\"dataframe\">\n",
       "  <thead>\n",
       "    <tr style=\"text-align: right;\">\n",
       "      <th></th>\n",
       "      <th>언론사</th>\n",
       "      <th>날짜</th>\n",
       "      <th>제목</th>\n",
       "    </tr>\n",
       "  </thead>\n",
       "  <tbody>\n",
       "    <tr>\n",
       "      <th>0</th>\n",
       "      <td>아주경제</td>\n",
       "      <td>2012.01.01.</td>\n",
       "      <td>&lt;2012 증시전망&gt; 신한금융투자 심재엽 투자전략팀장 \"도광양회(韜光養晦)’의...</td>\n",
       "    </tr>\n",
       "    <tr>\n",
       "      <th>1</th>\n",
       "      <td>EBN</td>\n",
       "      <td>2012.01.01.</td>\n",
       "      <td>유통업계 용띠 CEO 3인방 “올해는 나의 해”</td>\n",
       "    </tr>\n",
       "    <tr>\n",
       "      <th>2</th>\n",
       "      <td>헤럴드POP</td>\n",
       "      <td>2012.01.01.</td>\n",
       "      <td>&lt;생생코스닥&gt;유원컴텍, 삼성전자 中 법인으로부터 원가절감 금상 수상!</td>\n",
       "    </tr>\n",
       "    <tr>\n",
       "      <th>3</th>\n",
       "      <td>매일경제</td>\n",
       "      <td>2012.01.01.</td>\n",
       "      <td>[오늘의 MBN] 다큐로 보는 이건희 회장</td>\n",
       "    </tr>\n",
       "    <tr>\n",
       "      <th>4</th>\n",
       "      <td>매일경제</td>\n",
       "      <td>A12면 TOP</td>\n",
       "      <td>유럽 K팝 열풍에 삼성 휴대폰·LG TV `내가 제일 잘나가`</td>\n",
       "    </tr>\n",
       "    <tr>\n",
       "      <th>...</th>\n",
       "      <td>...</td>\n",
       "      <td>...</td>\n",
       "      <td>...</td>\n",
       "    </tr>\n",
       "    <tr>\n",
       "      <th>21645</th>\n",
       "      <td>뉴스1</td>\n",
       "      <td>2013.01.03.</td>\n",
       "      <td>(특징주)삼성전자, 4분기 실적 예상치 충족..소폭 약세</td>\n",
       "    </tr>\n",
       "    <tr>\n",
       "      <th>21646</th>\n",
       "      <td>헤럴드POP</td>\n",
       "      <td>2013.01.03.</td>\n",
       "      <td>코스피, 나흘째 조정..삼성전자 호실적에도 ▼(09:05)</td>\n",
       "    </tr>\n",
       "    <tr>\n",
       "      <th>21647</th>\n",
       "      <td>연합뉴스</td>\n",
       "      <td>2013.01.03.</td>\n",
       "      <td>2013년 글로벌 TV대전 불붙는다</td>\n",
       "    </tr>\n",
       "    <tr>\n",
       "      <th>21648</th>\n",
       "      <td>아주경제</td>\n",
       "      <td>2013.01.03.</td>\n",
       "      <td>삼성전자 장중 150만원 붕괴(1보)</td>\n",
       "    </tr>\n",
       "    <tr>\n",
       "      <th>21649</th>\n",
       "      <td>SBS Biz</td>\n",
       "      <td>2013.01.03.</td>\n",
       "      <td>[어닝시즌 개막]상장사 4분기 실적, IT 빼면 ‘우울’</td>\n",
       "    </tr>\n",
       "  </tbody>\n",
       "</table>\n",
       "<p>210999 rows × 3 columns</p>\n",
       "</div>"
      ],
      "text/plain": [
       "           언론사           날짜                                              제목\n",
       "0         아주경제  2012.01.01.  <2012 증시전망> 신한금융투자 심재엽 투자전략팀장 \"도광양회(韜光養晦)’의...\n",
       "1          EBN  2012.01.01.                      유통업계 용띠 CEO 3인방 “올해는 나의 해”\n",
       "2       헤럴드POP  2012.01.01.          <생생코스닥>유원컴텍, 삼성전자 中 법인으로부터 원가절감 금상 수상!\n",
       "3         매일경제  2012.01.01.                         [오늘의 MBN] 다큐로 보는 이건희 회장\n",
       "4         매일경제     A12면 TOP              유럽 K팝 열풍에 삼성 휴대폰·LG TV `내가 제일 잘나가`\n",
       "...        ...          ...                                             ...\n",
       "21645      뉴스1  2013.01.03.                 (특징주)삼성전자, 4분기 실적 예상치 충족..소폭 약세\n",
       "21646   헤럴드POP  2013.01.03.                코스피, 나흘째 조정..삼성전자 호실적에도 ▼(09:05)\n",
       "21647     연합뉴스  2013.01.03.                             2013년 글로벌 TV대전 불붙는다\n",
       "21648     아주경제  2013.01.03.                            삼성전자 장중 150만원 붕괴(1보)\n",
       "21649  SBS Biz  2013.01.03.                 [어닝시즌 개막]상장사 4분기 실적, IT 빼면 ‘우울’\n",
       "\n",
       "[210999 rows x 3 columns]"
      ]
     },
     "execution_count": 5,
     "metadata": {},
     "output_type": "execute_result"
    }
   ],
   "source": [
    "df2012"
   ]
  },
  {
   "cell_type": "code",
   "execution_count": 6,
   "id": "901e39d5",
   "metadata": {
    "ExecuteTime": {
     "end_time": "2022-08-03T05:48:38.188697Z",
     "start_time": "2022-08-03T05:48:38.145548Z"
    }
   },
   "outputs": [
    {
     "data": {
      "text/html": [
       "<div>\n",
       "<style scoped>\n",
       "    .dataframe tbody tr th:only-of-type {\n",
       "        vertical-align: middle;\n",
       "    }\n",
       "\n",
       "    .dataframe tbody tr th {\n",
       "        vertical-align: top;\n",
       "    }\n",
       "\n",
       "    .dataframe thead th {\n",
       "        text-align: right;\n",
       "    }\n",
       "</style>\n",
       "<table border=\"1\" class=\"dataframe\">\n",
       "  <thead>\n",
       "    <tr style=\"text-align: right;\">\n",
       "      <th></th>\n",
       "      <th>언론사</th>\n",
       "      <th>날짜</th>\n",
       "      <th>제목</th>\n",
       "    </tr>\n",
       "  </thead>\n",
       "  <tbody>\n",
       "    <tr>\n",
       "      <th>0</th>\n",
       "      <td>에너지경제</td>\n",
       "      <td>2011.01.01.</td>\n",
       "      <td>신년특집/ 지열, 솟아라 2011</td>\n",
       "    </tr>\n",
       "    <tr>\n",
       "      <th>1</th>\n",
       "      <td>서울신문</td>\n",
       "      <td>2011.01.01.</td>\n",
       "      <td>[서울신문 신년특집] 새해 경제 기상도 - 산업계 이렇게 바뀐다</td>\n",
       "    </tr>\n",
       "    <tr>\n",
       "      <th>2</th>\n",
       "      <td>동아일보</td>\n",
       "      <td>B4면 TOP</td>\n",
       "      <td>[경제계 신년사]“미래 성장동력 발굴해 경제성장 이어가자”</td>\n",
       "    </tr>\n",
       "    <tr>\n",
       "      <th>3</th>\n",
       "      <td>동아일보</td>\n",
       "      <td>2011.01.01.</td>\n",
       "      <td>[인문사회]‘제2의 개항’ FTA 시작과 끝… 막전막후 협상비화 상세 소개</td>\n",
       "    </tr>\n",
       "    <tr>\n",
       "      <th>4</th>\n",
       "      <td>헤럴드경제</td>\n",
       "      <td>A18면 2단</td>\n",
       "      <td>실적·성장... 양 날개로... ‘퀀텀점프’</td>\n",
       "    </tr>\n",
       "    <tr>\n",
       "      <th>...</th>\n",
       "      <td>...</td>\n",
       "      <td>...</td>\n",
       "      <td>...</td>\n",
       "    </tr>\n",
       "    <tr>\n",
       "      <th>17469</th>\n",
       "      <td>아시아투데이</td>\n",
       "      <td>2017.01.01.</td>\n",
       "      <td>한국 경제리더 새해 화두는 '위기 극복과 혁신'</td>\n",
       "    </tr>\n",
       "    <tr>\n",
       "      <th>17470</th>\n",
       "      <td>전자신문</td>\n",
       "      <td>A12면 1단</td>\n",
       "      <td>특검, 이번 주 삼성 수뇌부 줄소환…최순실 특혜지원 관련, 대상자는?</td>\n",
       "    </tr>\n",
       "    <tr>\n",
       "      <th>17471</th>\n",
       "      <td>매일경제</td>\n",
       "      <td>2017.01.01.</td>\n",
       "      <td>[한경매물마당] 광진구 역세권 수익형 근린생활시설 빌딩 등 15건</td>\n",
       "    </tr>\n",
       "    <tr>\n",
       "      <th>17472</th>\n",
       "      <td>위클리오늘</td>\n",
       "      <td>A4면 TOP</td>\n",
       "      <td>[이코노 브리핑] 삼성, 분리세탁가능 ‘플렉스워시’ 공개 외</td>\n",
       "    </tr>\n",
       "    <tr>\n",
       "      <th>17473</th>\n",
       "      <td>신아일보</td>\n",
       "      <td>2017.01.01.</td>\n",
       "      <td>\"트럼프 공약처럼…한국, 법인세율 내려야 경제 성장\"</td>\n",
       "    </tr>\n",
       "  </tbody>\n",
       "</table>\n",
       "<p>1471346 rows × 3 columns</p>\n",
       "</div>"
      ],
      "text/plain": [
       "          언론사           날짜                                         제목\n",
       "0       에너지경제  2011.01.01.                         신년특집/ 지열, 솟아라 2011\n",
       "1        서울신문  2011.01.01.        [서울신문 신년특집] 새해 경제 기상도 - 산업계 이렇게 바뀐다\n",
       "2        동아일보      B4면 TOP           [경제계 신년사]“미래 성장동력 발굴해 경제성장 이어가자”\n",
       "3        동아일보  2011.01.01.  [인문사회]‘제2의 개항’ FTA 시작과 끝… 막전막후 협상비화 상세 소개\n",
       "4       헤럴드경제      A18면 2단                   실적·성장... 양 날개로... ‘퀀텀점프’\n",
       "...       ...          ...                                        ...\n",
       "17469  아시아투데이  2017.01.01.                 한국 경제리더 새해 화두는 '위기 극복과 혁신'\n",
       "17470    전자신문      A12면 1단     특검, 이번 주 삼성 수뇌부 줄소환…최순실 특혜지원 관련, 대상자는?\n",
       "17471    매일경제  2017.01.01.       [한경매물마당] 광진구 역세권 수익형 근린생활시설 빌딩 등 15건\n",
       "17472   위클리오늘      A4면 TOP          [이코노 브리핑] 삼성, 분리세탁가능 ‘플렉스워시’ 공개 외\n",
       "17473    신아일보  2017.01.01.              \"트럼프 공약처럼…한국, 법인세율 내려야 경제 성장\"\n",
       "\n",
       "[1471346 rows x 3 columns]"
      ]
     },
     "execution_count": 6,
     "metadata": {},
     "output_type": "execute_result"
    }
   ],
   "source": [
    "df2011_2016 = pd.concat([df2011, df2012, df2013, df2014, df2015, df2016_1, df2016_2, df2016_3])\n",
    "df2011_2016"
   ]
  },
  {
   "cell_type": "code",
   "execution_count": 8,
   "id": "652290f0",
   "metadata": {
    "ExecuteTime": {
     "end_time": "2022-08-03T05:49:59.094544Z",
     "start_time": "2022-08-03T05:49:56.699701Z"
    }
   },
   "outputs": [],
   "source": [
    "df2011_2016.to_csv('2011_2016.csv')"
   ]
  },
  {
   "cell_type": "markdown",
   "id": "e5cf837c",
   "metadata": {},
   "source": [
    "# 전체 합하기"
   ]
  },
  {
   "cell_type": "code",
   "execution_count": 7,
   "id": "6920814f",
   "metadata": {
    "ExecuteTime": {
     "end_time": "2022-08-03T05:48:43.852705Z",
     "start_time": "2022-08-03T05:48:43.827286Z"
    }
   },
   "outputs": [
    {
     "ename": "NameError",
     "evalue": "name 'df1998_2010' is not defined",
     "output_type": "error",
     "traceback": [
      "\u001b[0;31m---------------------------------------------------------------------------\u001b[0m",
      "\u001b[0;31mNameError\u001b[0m                                 Traceback (most recent call last)",
      "Input \u001b[0;32mIn [7]\u001b[0m, in \u001b[0;36m<cell line: 1>\u001b[0;34m()\u001b[0m\n\u001b[0;32m----> 1\u001b[0m df \u001b[38;5;241m=\u001b[39m pd\u001b[38;5;241m.\u001b[39mconcat([\u001b[43mdf1998_2010\u001b[49m, df2011_2016, df2017_2022])\n\u001b[1;32m      2\u001b[0m df\n",
      "\u001b[0;31mNameError\u001b[0m: name 'df1998_2010' is not defined"
     ]
    }
   ],
   "source": [
    "df = pd.concat([df1998_2010, df2011_2016, df2017_2022])\n",
    "df"
   ]
  },
  {
   "cell_type": "code",
   "execution_count": 109,
   "id": "5c037c56",
   "metadata": {
    "ExecuteTime": {
     "end_time": "2022-07-29T08:24:51.039742Z",
     "start_time": "2022-07-29T08:24:49.000790Z"
    }
   },
   "outputs": [],
   "source": [
    "df = df.reset_index().drop_duplicates().drop(columns=['index'])"
   ]
  },
  {
   "cell_type": "code",
   "execution_count": 110,
   "id": "92b373e3",
   "metadata": {
    "ExecuteTime": {
     "end_time": "2022-07-29T08:25:16.740581Z",
     "start_time": "2022-07-29T08:25:10.340056Z"
    }
   },
   "outputs": [],
   "source": [
    "df.to_csv('df_final.csv')"
   ]
  },
  {
   "cell_type": "code",
   "execution_count": 111,
   "id": "91029f12",
   "metadata": {
    "ExecuteTime": {
     "end_time": "2022-07-29T08:25:42.482317Z",
     "start_time": "2022-07-29T08:25:38.156038Z"
    }
   },
   "outputs": [],
   "source": [
    "aa = pd.read_csv('df_final.csv')"
   ]
  },
  {
   "cell_type": "code",
   "execution_count": 112,
   "id": "b831a728",
   "metadata": {
    "ExecuteTime": {
     "end_time": "2022-07-29T08:25:43.797187Z",
     "start_time": "2022-07-29T08:25:43.784713Z"
    }
   },
   "outputs": [
    {
     "data": {
      "text/html": [
       "<div>\n",
       "<style scoped>\n",
       "    .dataframe tbody tr th:only-of-type {\n",
       "        vertical-align: middle;\n",
       "    }\n",
       "\n",
       "    .dataframe tbody tr th {\n",
       "        vertical-align: top;\n",
       "    }\n",
       "\n",
       "    .dataframe thead th {\n",
       "        text-align: right;\n",
       "    }\n",
       "</style>\n",
       "<table border=\"1\" class=\"dataframe\">\n",
       "  <thead>\n",
       "    <tr style=\"text-align: right;\">\n",
       "      <th></th>\n",
       "      <th>Unnamed: 0</th>\n",
       "      <th>언론사</th>\n",
       "      <th>날짜</th>\n",
       "      <th>제목</th>\n",
       "    </tr>\n",
       "  </thead>\n",
       "  <tbody>\n",
       "    <tr>\n",
       "      <th>0</th>\n",
       "      <td>0</td>\n",
       "      <td>연합뉴스</td>\n",
       "      <td>1998.05.20.</td>\n",
       "      <td>주가 사흘째 상승세</td>\n",
       "    </tr>\n",
       "    <tr>\n",
       "      <th>1</th>\n",
       "      <td>1</td>\n",
       "      <td>연합뉴스</td>\n",
       "      <td>1998.05.20.</td>\n",
       "      <td>아남텔레콤, PDA 데이터 전송서비스 개시</td>\n",
       "    </tr>\n",
       "    <tr>\n",
       "      <th>2</th>\n",
       "      <td>2</td>\n",
       "      <td>연합뉴스</td>\n",
       "      <td>1998.05.20.</td>\n",
       "      <td>&lt;회전목마&gt; 삼성전자, 사이버 사외보 제작</td>\n",
       "    </tr>\n",
       "    <tr>\n",
       "      <th>3</th>\n",
       "      <td>3</td>\n",
       "      <td>연합뉴스</td>\n",
       "      <td>1998.05.20.</td>\n",
       "      <td>&lt;주식시황&gt; 사흘째 상승, 3백70선 다가서</td>\n",
       "    </tr>\n",
       "    <tr>\n",
       "      <th>4</th>\n",
       "      <td>4</td>\n",
       "      <td>연합뉴스</td>\n",
       "      <td>1998.05.20.</td>\n",
       "      <td>-춘계승마- 신창무,싼졸쥬마장마술 우승</td>\n",
       "    </tr>\n",
       "    <tr>\n",
       "      <th>...</th>\n",
       "      <td>...</td>\n",
       "      <td>...</td>\n",
       "      <td>...</td>\n",
       "      <td>...</td>\n",
       "    </tr>\n",
       "    <tr>\n",
       "      <th>3851965</th>\n",
       "      <td>3851965</td>\n",
       "      <td>한국경제</td>\n",
       "      <td>2022.07.21.</td>\n",
       "      <td>디지털이미지뱅크, 한투등 3개사서 20억원 투자 유치</td>\n",
       "    </tr>\n",
       "    <tr>\n",
       "      <th>3851966</th>\n",
       "      <td>3851966</td>\n",
       "      <td>한국경제</td>\n",
       "      <td>2022.07.21.</td>\n",
       "      <td>[코스닥공시] 세보기계</td>\n",
       "    </tr>\n",
       "    <tr>\n",
       "      <th>3851967</th>\n",
       "      <td>3851967</td>\n",
       "      <td>한국경제</td>\n",
       "      <td>2022.07.21.</td>\n",
       "      <td>전자.통신업체 신용등급도 급상승세</td>\n",
       "    </tr>\n",
       "    <tr>\n",
       "      <th>3851968</th>\n",
       "      <td>3851968</td>\n",
       "      <td>한국경제</td>\n",
       "      <td>2022.07.21.</td>\n",
       "      <td>종합주가 폭락세, 916.01(-37.21) 전장마감</td>\n",
       "    </tr>\n",
       "    <tr>\n",
       "      <th>3851969</th>\n",
       "      <td>3851969</td>\n",
       "      <td>한국경제</td>\n",
       "      <td>2022.07.21.</td>\n",
       "      <td>산자부, 수치제어장치 산.학.연 공동연구 개발에 성공</td>\n",
       "    </tr>\n",
       "  </tbody>\n",
       "</table>\n",
       "<p>3851970 rows × 4 columns</p>\n",
       "</div>"
      ],
      "text/plain": [
       "         Unnamed: 0   언론사           날짜                             제목\n",
       "0                 0  연합뉴스  1998.05.20.                     주가 사흘째 상승세\n",
       "1                 1  연합뉴스  1998.05.20.        아남텔레콤, PDA 데이터 전송서비스 개시\n",
       "2                 2  연합뉴스  1998.05.20.        <회전목마> 삼성전자, 사이버 사외보 제작\n",
       "3                 3  연합뉴스  1998.05.20.       <주식시황> 사흘째 상승, 3백70선 다가서\n",
       "4                 4  연합뉴스  1998.05.20.          -춘계승마- 신창무,싼졸쥬마장마술 우승\n",
       "...             ...   ...          ...                            ...\n",
       "3851965     3851965  한국경제  2022.07.21.  디지털이미지뱅크, 한투등 3개사서 20억원 투자 유치\n",
       "3851966     3851966  한국경제  2022.07.21.                   [코스닥공시] 세보기계\n",
       "3851967     3851967  한국경제  2022.07.21.             전자.통신업체 신용등급도 급상승세\n",
       "3851968     3851968  한국경제  2022.07.21.  종합주가 폭락세, 916.01(-37.21) 전장마감\n",
       "3851969     3851969  한국경제  2022.07.21.  산자부, 수치제어장치 산.학.연 공동연구 개발에 성공\n",
       "\n",
       "[3851970 rows x 4 columns]"
      ]
     },
     "execution_count": 112,
     "metadata": {},
     "output_type": "execute_result"
    }
   ],
   "source": [
    "aa"
   ]
  },
  {
   "cell_type": "code",
   "execution_count": 113,
   "id": "86836488",
   "metadata": {
    "ExecuteTime": {
     "end_time": "2022-07-29T08:26:02.682113Z",
     "start_time": "2022-07-29T08:26:00.015427Z"
    }
   },
   "outputs": [
    {
     "data": {
      "text/html": [
       "<div>\n",
       "<style scoped>\n",
       "    .dataframe tbody tr th:only-of-type {\n",
       "        vertical-align: middle;\n",
       "    }\n",
       "\n",
       "    .dataframe tbody tr th {\n",
       "        vertical-align: top;\n",
       "    }\n",
       "\n",
       "    .dataframe thead th {\n",
       "        text-align: right;\n",
       "    }\n",
       "</style>\n",
       "<table border=\"1\" class=\"dataframe\">\n",
       "  <thead>\n",
       "    <tr style=\"text-align: right;\">\n",
       "      <th></th>\n",
       "      <th>Unnamed: 0</th>\n",
       "      <th>언론사</th>\n",
       "      <th>날짜</th>\n",
       "      <th>제목</th>\n",
       "    </tr>\n",
       "  </thead>\n",
       "  <tbody>\n",
       "    <tr>\n",
       "      <th>0</th>\n",
       "      <td>0</td>\n",
       "      <td>연합뉴스</td>\n",
       "      <td>1998.05.20.</td>\n",
       "      <td>주가 사흘째 상승세</td>\n",
       "    </tr>\n",
       "    <tr>\n",
       "      <th>1</th>\n",
       "      <td>1</td>\n",
       "      <td>연합뉴스</td>\n",
       "      <td>1998.05.20.</td>\n",
       "      <td>아남텔레콤, PDA 데이터 전송서비스 개시</td>\n",
       "    </tr>\n",
       "    <tr>\n",
       "      <th>2</th>\n",
       "      <td>2</td>\n",
       "      <td>연합뉴스</td>\n",
       "      <td>1998.05.20.</td>\n",
       "      <td>&lt;회전목마&gt; 삼성전자, 사이버 사외보 제작</td>\n",
       "    </tr>\n",
       "    <tr>\n",
       "      <th>3</th>\n",
       "      <td>3</td>\n",
       "      <td>연합뉴스</td>\n",
       "      <td>1998.05.20.</td>\n",
       "      <td>&lt;주식시황&gt; 사흘째 상승, 3백70선 다가서</td>\n",
       "    </tr>\n",
       "    <tr>\n",
       "      <th>4</th>\n",
       "      <td>4</td>\n",
       "      <td>연합뉴스</td>\n",
       "      <td>1998.05.20.</td>\n",
       "      <td>-춘계승마- 신창무,싼졸쥬마장마술 우승</td>\n",
       "    </tr>\n",
       "    <tr>\n",
       "      <th>...</th>\n",
       "      <td>...</td>\n",
       "      <td>...</td>\n",
       "      <td>...</td>\n",
       "      <td>...</td>\n",
       "    </tr>\n",
       "    <tr>\n",
       "      <th>3851965</th>\n",
       "      <td>3851965</td>\n",
       "      <td>한국경제</td>\n",
       "      <td>2022.07.21.</td>\n",
       "      <td>디지털이미지뱅크, 한투등 3개사서 20억원 투자 유치</td>\n",
       "    </tr>\n",
       "    <tr>\n",
       "      <th>3851966</th>\n",
       "      <td>3851966</td>\n",
       "      <td>한국경제</td>\n",
       "      <td>2022.07.21.</td>\n",
       "      <td>[코스닥공시] 세보기계</td>\n",
       "    </tr>\n",
       "    <tr>\n",
       "      <th>3851967</th>\n",
       "      <td>3851967</td>\n",
       "      <td>한국경제</td>\n",
       "      <td>2022.07.21.</td>\n",
       "      <td>전자.통신업체 신용등급도 급상승세</td>\n",
       "    </tr>\n",
       "    <tr>\n",
       "      <th>3851968</th>\n",
       "      <td>3851968</td>\n",
       "      <td>한국경제</td>\n",
       "      <td>2022.07.21.</td>\n",
       "      <td>종합주가 폭락세, 916.01(-37.21) 전장마감</td>\n",
       "    </tr>\n",
       "    <tr>\n",
       "      <th>3851969</th>\n",
       "      <td>3851969</td>\n",
       "      <td>한국경제</td>\n",
       "      <td>2022.07.21.</td>\n",
       "      <td>산자부, 수치제어장치 산.학.연 공동연구 개발에 성공</td>\n",
       "    </tr>\n",
       "  </tbody>\n",
       "</table>\n",
       "<p>3851970 rows × 4 columns</p>\n",
       "</div>"
      ],
      "text/plain": [
       "         Unnamed: 0   언론사           날짜                             제목\n",
       "0                 0  연합뉴스  1998.05.20.                     주가 사흘째 상승세\n",
       "1                 1  연합뉴스  1998.05.20.        아남텔레콤, PDA 데이터 전송서비스 개시\n",
       "2                 2  연합뉴스  1998.05.20.        <회전목마> 삼성전자, 사이버 사외보 제작\n",
       "3                 3  연합뉴스  1998.05.20.       <주식시황> 사흘째 상승, 3백70선 다가서\n",
       "4                 4  연합뉴스  1998.05.20.          -춘계승마- 신창무,싼졸쥬마장마술 우승\n",
       "...             ...   ...          ...                            ...\n",
       "3851965     3851965  한국경제  2022.07.21.  디지털이미지뱅크, 한투등 3개사서 20억원 투자 유치\n",
       "3851966     3851966  한국경제  2022.07.21.                   [코스닥공시] 세보기계\n",
       "3851967     3851967  한국경제  2022.07.21.             전자.통신업체 신용등급도 급상승세\n",
       "3851968     3851968  한국경제  2022.07.21.  종합주가 폭락세, 916.01(-37.21) 전장마감\n",
       "3851969     3851969  한국경제  2022.07.21.  산자부, 수치제어장치 산.학.연 공동연구 개발에 성공\n",
       "\n",
       "[3851970 rows x 4 columns]"
      ]
     },
     "execution_count": 113,
     "metadata": {},
     "output_type": "execute_result"
    }
   ],
   "source": [
    "aa.drop_duplicates()"
   ]
  },
  {
   "cell_type": "code",
   "execution_count": null,
   "id": "1b7fd6fb",
   "metadata": {},
   "outputs": [],
   "source": []
  }
 ],
 "metadata": {
  "kernelspec": {
   "display_name": "Python 3 (ipykernel)",
   "language": "python",
   "name": "python3"
  },
  "language_info": {
   "codemirror_mode": {
    "name": "ipython",
    "version": 3
   },
   "file_extension": ".py",
   "mimetype": "text/x-python",
   "name": "python",
   "nbconvert_exporter": "python",
   "pygments_lexer": "ipython3",
   "version": "3.8.13"
  },
  "toc": {
   "base_numbering": 1,
   "nav_menu": {},
   "number_sections": false,
   "sideBar": true,
   "skip_h1_title": false,
   "title_cell": "Table of Contents",
   "title_sidebar": "Contents",
   "toc_cell": false,
   "toc_position": {
    "height": "893px",
    "left": "65px",
    "top": "111.141px",
    "width": "224px"
   },
   "toc_section_display": true,
   "toc_window_display": true
  }
 },
 "nbformat": 4,
 "nbformat_minor": 5
}
