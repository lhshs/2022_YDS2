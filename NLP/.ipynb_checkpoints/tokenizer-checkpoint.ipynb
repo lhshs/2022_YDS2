{
 "cells": [
  {
   "cell_type": "code",
   "execution_count": 1,
   "id": "2b654e88",
   "metadata": {
    "ExecuteTime": {
     "end_time": "2022-09-29T09:18:00.653174Z",
     "start_time": "2022-09-29T09:17:59.045409Z"
    }
   },
   "outputs": [],
   "source": [
    "import pandas as pd\n",
    "import numpy as np\n",
    "import matplotlib.pyplot as plt\n",
    "import re\n",
    "import urllib.request\n",
    "from konlpy.tag import Okt\n",
    "from tqdm import tqdm\n",
    "from tensorflow.keras.preprocessing.text import Tokenizer\n",
    "from tensorflow.keras.preprocessing.sequence import pad_sequences\n",
    "\n",
    "import sklearn"
   ]
  },
  {
   "cell_type": "markdown",
   "id": "e9e14bcd",
   "metadata": {},
   "source": [
    "## 데이터 로드 및 train test로 분할"
   ]
  },
  {
   "cell_type": "code",
   "execution_count": 2,
   "id": "91aefa3c",
   "metadata": {
    "ExecuteTime": {
     "end_time": "2022-09-29T09:18:00.658458Z",
     "start_time": "2022-09-29T09:18:00.654441Z"
    }
   },
   "outputs": [],
   "source": [
    "df = pd.read_csv('38_Oasis.csv').drop(columns = ['Unnamed: 0']).reset_index().drop(columns=['index','link','target'])"
   ]
  },
  {
   "cell_type": "code",
   "execution_count": 3,
   "id": "abdc8451",
   "metadata": {
    "ExecuteTime": {
     "end_time": "2022-09-29T09:18:00.665483Z",
     "start_time": "2022-09-29T09:18:00.659229Z"
    },
    "scrolled": false
   },
   "outputs": [
    {
     "data": {
      "text/html": [
       "<div>\n",
       "<style scoped>\n",
       "    .dataframe tbody tr th:only-of-type {\n",
       "        vertical-align: middle;\n",
       "    }\n",
       "\n",
       "    .dataframe tbody tr th {\n",
       "        vertical-align: top;\n",
       "    }\n",
       "\n",
       "    .dataframe thead th {\n",
       "        text-align: right;\n",
       "    }\n",
       "</style>\n",
       "<table border=\"1\" class=\"dataframe\">\n",
       "  <thead>\n",
       "    <tr style=\"text-align: right;\">\n",
       "      <th></th>\n",
       "      <th>title</th>\n",
       "      <th>date</th>\n",
       "      <th>content</th>\n",
       "    </tr>\n",
       "  </thead>\n",
       "  <tbody>\n",
       "    <tr>\n",
       "      <th>0</th>\n",
       "      <td>[제목 : [오아시스]\\n 팬데믹시대에 내마음의 표준을 바꾸는 유통 ]</td>\n",
       "      <td>2020-09-04</td>\n",
       "      <td>이번 코로나가 유통시장의 판도를 5년이상 앞당겨진 변화를 가져 왔다?매장에서 인테넷...</td>\n",
       "    </tr>\n",
       "    <tr>\n",
       "      <th>1</th>\n",
       "      <td>[제목 : [오아시스] 오아시스 매수 했습니다. ]</td>\n",
       "      <td>2021-04-17</td>\n",
       "      <td>오아이스 주식 중  pe가 보유한 물량이 시장에서 움직이는 듯 하네요.어제, 아시는...</td>\n",
       "    </tr>\n",
       "    <tr>\n",
       "      <th>2</th>\n",
       "      <td>[제목 : [오아시스] 오아시스 매수 했습니다. ]</td>\n",
       "      <td>2021-04-17</td>\n",
       "      <td>얼마에 사셨어요? 저도 관심이 있는데요.</td>\n",
       "    </tr>\n",
       "    <tr>\n",
       "      <th>3</th>\n",
       "      <td>[제목 : [오아시스]\\n 오아시스 주식이요 ]</td>\n",
       "      <td>2021-04-17</td>\n",
       "      <td>오아시스 주식을 사고싶어게시판에 올려봅니다파실분 계시면**** 팔육일팔 삼육사일로연...</td>\n",
       "    </tr>\n",
       "    <tr>\n",
       "      <th>4</th>\n",
       "      <td>[제목 : [오아시스] 70만원이면 비싼건가요 ]</td>\n",
       "      <td>2021-04-19</td>\n",
       "      <td>30주 70만원에 살려고하는데, 비싼건가요</td>\n",
       "    </tr>\n",
       "  </tbody>\n",
       "</table>\n",
       "</div>"
      ],
      "text/plain": [
       "                                     title        date  \\\n",
       "0  [제목 : [오아시스]\\n 팬데믹시대에 내마음의 표준을 바꾸는 유통 ]  2020-09-04   \n",
       "1             [제목 : [오아시스] 오아시스 매수 했습니다. ]  2021-04-17   \n",
       "2             [제목 : [오아시스] 오아시스 매수 했습니다. ]  2021-04-17   \n",
       "3               [제목 : [오아시스]\\n 오아시스 주식이요 ]  2021-04-17   \n",
       "4              [제목 : [오아시스] 70만원이면 비싼건가요 ]  2021-04-19   \n",
       "\n",
       "                                             content  \n",
       "0  이번 코로나가 유통시장의 판도를 5년이상 앞당겨진 변화를 가져 왔다?매장에서 인테넷...  \n",
       "1  오아이스 주식 중  pe가 보유한 물량이 시장에서 움직이는 듯 하네요.어제, 아시는...  \n",
       "2                             얼마에 사셨어요? 저도 관심이 있는데요.  \n",
       "3  오아시스 주식을 사고싶어게시판에 올려봅니다파실분 계시면**** 팔육일팔 삼육사일로연...  \n",
       "4                            30주 70만원에 살려고하는데, 비싼건가요  "
      ]
     },
     "execution_count": 3,
     "metadata": {},
     "output_type": "execute_result"
    }
   ],
   "source": [
    "df.head()"
   ]
  },
  {
   "cell_type": "markdown",
   "id": "47ad15d0",
   "metadata": {},
   "source": [
    "## null 값 확인"
   ]
  },
  {
   "cell_type": "code",
   "execution_count": 4,
   "id": "b4623d5d",
   "metadata": {
    "ExecuteTime": {
     "end_time": "2022-09-29T09:18:00.672541Z",
     "start_time": "2022-09-29T09:18:00.668134Z"
    }
   },
   "outputs": [
    {
     "name": "stdout",
     "output_type": "stream",
     "text": [
      "<class 'pandas.core.frame.DataFrame'>\n",
      "RangeIndex: 136 entries, 0 to 135\n",
      "Data columns (total 3 columns):\n",
      " #   Column   Non-Null Count  Dtype \n",
      "---  ------   --------------  ----- \n",
      " 0   title    136 non-null    object\n",
      " 1   date     136 non-null    object\n",
      " 2   content  133 non-null    object\n",
      "dtypes: object(3)\n",
      "memory usage: 3.3+ KB\n"
     ]
    }
   ],
   "source": [
    "df.info()"
   ]
  },
  {
   "cell_type": "code",
   "execution_count": 5,
   "id": "1ec0bed2",
   "metadata": {
    "ExecuteTime": {
     "end_time": "2022-09-29T09:18:00.676971Z",
     "start_time": "2022-09-29T09:18:00.673525Z"
    }
   },
   "outputs": [
    {
     "data": {
      "text/html": [
       "<div>\n",
       "<style scoped>\n",
       "    .dataframe tbody tr th:only-of-type {\n",
       "        vertical-align: middle;\n",
       "    }\n",
       "\n",
       "    .dataframe tbody tr th {\n",
       "        vertical-align: top;\n",
       "    }\n",
       "\n",
       "    .dataframe thead th {\n",
       "        text-align: right;\n",
       "    }\n",
       "</style>\n",
       "<table border=\"1\" class=\"dataframe\">\n",
       "  <thead>\n",
       "    <tr style=\"text-align: right;\">\n",
       "      <th></th>\n",
       "      <th>title</th>\n",
       "      <th>date</th>\n",
       "      <th>content</th>\n",
       "    </tr>\n",
       "  </thead>\n",
       "  <tbody>\n",
       "    <tr>\n",
       "      <th>31</th>\n",
       "      <td>[제목 : [오아시스] 상장노력은 하는거죠? ]</td>\n",
       "      <td>2021-07-09</td>\n",
       "      <td>NaN</td>\n",
       "    </tr>\n",
       "    <tr>\n",
       "      <th>40</th>\n",
       "      <td>[제목 : [오아시스] 조용히 갑시다~~ ]</td>\n",
       "      <td>2021-07-16</td>\n",
       "      <td>NaN</td>\n",
       "    </tr>\n",
       "    <tr>\n",
       "      <th>43</th>\n",
       "      <td>[제목 : [오아시스] 지금 잘가고 있긴 한데 스피드 좀 올려~~ ]</td>\n",
       "      <td>2021-07-29</td>\n",
       "      <td>NaN</td>\n",
       "    </tr>\n",
       "  </tbody>\n",
       "</table>\n",
       "</div>"
      ],
      "text/plain": [
       "                                     title        date content\n",
       "31              [제목 : [오아시스] 상장노력은 하는거죠? ]  2021-07-09     NaN\n",
       "40                [제목 : [오아시스] 조용히 갑시다~~ ]  2021-07-16     NaN\n",
       "43  [제목 : [오아시스] 지금 잘가고 있긴 한데 스피드 좀 올려~~ ]  2021-07-29     NaN"
      ]
     },
     "execution_count": 5,
     "metadata": {},
     "output_type": "execute_result"
    }
   ],
   "source": [
    "# NULL 값 있는 행 확인\n",
    "df[df['content'].isnull()]"
   ]
  },
  {
   "cell_type": "code",
   "execution_count": 6,
   "id": "1f73fcc5",
   "metadata": {
    "ExecuteTime": {
     "end_time": "2022-09-29T09:18:00.679472Z",
     "start_time": "2022-09-29T09:18:00.677777Z"
    }
   },
   "outputs": [],
   "source": [
    "# 공백으로 NULL 값 채우기\n",
    "df = df.fillna('')"
   ]
  },
  {
   "cell_type": "code",
   "execution_count": 7,
   "id": "bc10afa7",
   "metadata": {
    "ExecuteTime": {
     "end_time": "2022-09-29T09:18:00.684432Z",
     "start_time": "2022-09-29T09:18:00.680323Z"
    }
   },
   "outputs": [
    {
     "name": "stdout",
     "output_type": "stream",
     "text": [
      "<class 'pandas.core.frame.DataFrame'>\n",
      "RangeIndex: 136 entries, 0 to 135\n",
      "Data columns (total 3 columns):\n",
      " #   Column   Non-Null Count  Dtype \n",
      "---  ------   --------------  ----- \n",
      " 0   title    136 non-null    object\n",
      " 1   date     136 non-null    object\n",
      " 2   content  136 non-null    object\n",
      "dtypes: object(3)\n",
      "memory usage: 3.3+ KB\n"
     ]
    }
   ],
   "source": [
    "df.info()"
   ]
  },
  {
   "cell_type": "markdown",
   "id": "ad82a263",
   "metadata": {},
   "source": [
    "내용에 빈 값이 있지만 title에서 추출할 것이 있지 않을까 해서 공백으로 채워줌"
   ]
  },
  {
   "cell_type": "markdown",
   "id": "78977088",
   "metadata": {},
   "source": [
    "## index 날짜로 바꿔주기"
   ]
  },
  {
   "cell_type": "code",
   "execution_count": 8,
   "id": "43191bd9",
   "metadata": {
    "ExecuteTime": {
     "end_time": "2022-09-29T09:18:00.691035Z",
     "start_time": "2022-09-29T09:18:00.686081Z"
    }
   },
   "outputs": [
    {
     "data": {
      "text/html": [
       "<div>\n",
       "<style scoped>\n",
       "    .dataframe tbody tr th:only-of-type {\n",
       "        vertical-align: middle;\n",
       "    }\n",
       "\n",
       "    .dataframe tbody tr th {\n",
       "        vertical-align: top;\n",
       "    }\n",
       "\n",
       "    .dataframe thead th {\n",
       "        text-align: right;\n",
       "    }\n",
       "</style>\n",
       "<table border=\"1\" class=\"dataframe\">\n",
       "  <thead>\n",
       "    <tr style=\"text-align: right;\">\n",
       "      <th></th>\n",
       "      <th>title</th>\n",
       "      <th>content</th>\n",
       "    </tr>\n",
       "    <tr>\n",
       "      <th>date</th>\n",
       "      <th></th>\n",
       "      <th></th>\n",
       "    </tr>\n",
       "  </thead>\n",
       "  <tbody>\n",
       "    <tr>\n",
       "      <th>2020-09-04</th>\n",
       "      <td>[제목 : [오아시스]\\n 팬데믹시대에 내마음의 표준을 바꾸는 유통 ]</td>\n",
       "      <td>이번 코로나가 유통시장의 판도를 5년이상 앞당겨진 변화를 가져 왔다?매장에서 인테넷...</td>\n",
       "    </tr>\n",
       "    <tr>\n",
       "      <th>2021-04-17</th>\n",
       "      <td>[제목 : [오아시스] 오아시스 매수 했습니다. ]</td>\n",
       "      <td>오아이스 주식 중  pe가 보유한 물량이 시장에서 움직이는 듯 하네요.어제, 아시는...</td>\n",
       "    </tr>\n",
       "    <tr>\n",
       "      <th>2021-04-17</th>\n",
       "      <td>[제목 : [오아시스] 오아시스 매수 했습니다. ]</td>\n",
       "      <td>얼마에 사셨어요? 저도 관심이 있는데요.</td>\n",
       "    </tr>\n",
       "    <tr>\n",
       "      <th>2021-04-17</th>\n",
       "      <td>[제목 : [오아시스]\\n 오아시스 주식이요 ]</td>\n",
       "      <td>오아시스 주식을 사고싶어게시판에 올려봅니다파실분 계시면**** 팔육일팔 삼육사일로연...</td>\n",
       "    </tr>\n",
       "    <tr>\n",
       "      <th>2021-04-19</th>\n",
       "      <td>[제목 : [오아시스] 70만원이면 비싼건가요 ]</td>\n",
       "      <td>30주 70만원에 살려고하는데, 비싼건가요</td>\n",
       "    </tr>\n",
       "    <tr>\n",
       "      <th>...</th>\n",
       "      <td>...</td>\n",
       "      <td>...</td>\n",
       "    </tr>\n",
       "    <tr>\n",
       "      <th>2022-08-31</th>\n",
       "      <td>[제목 : [오아시스] 우크라이나와 러시아 ]</td>\n",
       "      <td>덩치 큰 러시아가 누구다 다 이길거라고 했지만 결과는? 길고 짧은건 대봐야 안다고우...</td>\n",
       "    </tr>\n",
       "    <tr>\n",
       "      <th>2022-08-31</th>\n",
       "      <td>[제목 : [오아시스] 오늘 날짜(2022.08.31) 더벨 기사,  오아시스 기업...</td>\n",
       "      <td>코스닥 상장을 추진 중인 신선식품 새벽배송 기업 오아시스가 기업가치 목표를 최대 2...</td>\n",
       "    </tr>\n",
       "    <tr>\n",
       "      <th>2022-09-02</th>\n",
       "      <td>[제목 : [오아시스] 이 시기에 오히려 주목해야 할 기업 ]</td>\n",
       "      <td>연일 금리가 급등하고 있다. 매출만을 키우기 위해 무한확장을 거듭했던 스타트업과 유...</td>\n",
       "    </tr>\n",
       "    <tr>\n",
       "      <th>2022-09-05</th>\n",
       "      <td>[제목 : [오아시스] 계획된 적자 ]</td>\n",
       "      <td>한때 VC와 스타트업들이 힘을 합쳐 매출액을 늘려 시장 주도권을 가져가기위한 전략으...</td>\n",
       "    </tr>\n",
       "    <tr>\n",
       "      <th>2022-09-08</th>\n",
       "      <td>[제목 : [오아시스] 위기에 재조명받는 ‘오아시스·미트박스’…흑자비결은? ]</td>\n",
       "      <td>오아시스마켓은 올해 상반기 전년 대비 21% 증가한 2024억원 매출액과 171% ...</td>\n",
       "    </tr>\n",
       "  </tbody>\n",
       "</table>\n",
       "<p>136 rows × 2 columns</p>\n",
       "</div>"
      ],
      "text/plain": [
       "                                                        title  \\\n",
       "date                                                            \n",
       "2020-09-04            [제목 : [오아시스]\\n 팬데믹시대에 내마음의 표준을 바꾸는 유통 ]   \n",
       "2021-04-17                       [제목 : [오아시스] 오아시스 매수 했습니다. ]   \n",
       "2021-04-17                       [제목 : [오아시스] 오아시스 매수 했습니다. ]   \n",
       "2021-04-17                         [제목 : [오아시스]\\n 오아시스 주식이요 ]   \n",
       "2021-04-19                        [제목 : [오아시스] 70만원이면 비싼건가요 ]   \n",
       "...                                                       ...   \n",
       "2022-08-31                          [제목 : [오아시스] 우크라이나와 러시아 ]   \n",
       "2022-08-31  [제목 : [오아시스] 오늘 날짜(2022.08.31) 더벨 기사,  오아시스 기업...   \n",
       "2022-09-02                 [제목 : [오아시스] 이 시기에 오히려 주목해야 할 기업 ]   \n",
       "2022-09-05                              [제목 : [오아시스] 계획된 적자 ]   \n",
       "2022-09-08        [제목 : [오아시스] 위기에 재조명받는 ‘오아시스·미트박스’…흑자비결은? ]   \n",
       "\n",
       "                                                      content  \n",
       "date                                                           \n",
       "2020-09-04  이번 코로나가 유통시장의 판도를 5년이상 앞당겨진 변화를 가져 왔다?매장에서 인테넷...  \n",
       "2021-04-17  오아이스 주식 중  pe가 보유한 물량이 시장에서 움직이는 듯 하네요.어제, 아시는...  \n",
       "2021-04-17                             얼마에 사셨어요? 저도 관심이 있는데요.  \n",
       "2021-04-17  오아시스 주식을 사고싶어게시판에 올려봅니다파실분 계시면**** 팔육일팔 삼육사일로연...  \n",
       "2021-04-19                            30주 70만원에 살려고하는데, 비싼건가요  \n",
       "...                                                       ...  \n",
       "2022-08-31  덩치 큰 러시아가 누구다 다 이길거라고 했지만 결과는? 길고 짧은건 대봐야 안다고우...  \n",
       "2022-08-31  코스닥 상장을 추진 중인 신선식품 새벽배송 기업 오아시스가 기업가치 목표를 최대 2...  \n",
       "2022-09-02  연일 금리가 급등하고 있다. 매출만을 키우기 위해 무한확장을 거듭했던 스타트업과 유...  \n",
       "2022-09-05  한때 VC와 스타트업들이 힘을 합쳐 매출액을 늘려 시장 주도권을 가져가기위한 전략으...  \n",
       "2022-09-08  오아시스마켓은 올해 상반기 전년 대비 21% 증가한 2024억원 매출액과 171% ...  \n",
       "\n",
       "[136 rows x 2 columns]"
      ]
     },
     "execution_count": 8,
     "metadata": {},
     "output_type": "execute_result"
    }
   ],
   "source": [
    "# date를 오름차순 정렬\n",
    "df.date = df.date.sort_index(ascending=True)\n",
    "# index로 설정\n",
    "df = df.set_index('date')\n",
    "df"
   ]
  },
  {
   "cell_type": "markdown",
   "id": "fe451321",
   "metadata": {},
   "source": [
    "## 특수문자 제거 정규표현식"
   ]
  },
  {
   "cell_type": "code",
   "execution_count": 9,
   "id": "d39a0708",
   "metadata": {
    "ExecuteTime": {
     "end_time": "2022-09-29T09:18:00.695704Z",
     "start_time": "2022-09-29T09:18:00.691853Z"
    }
   },
   "outputs": [
    {
     "name": "stderr",
     "output_type": "stream",
     "text": [
      "/var/folders/62/p7jd9w0n1n3d19j8s3z7k3lw0000gp/T/ipykernel_2089/1046961940.py:1: FutureWarning: The default value of regex will change from True to False in a future version.\n",
      "  df['title'] = df['title'].str.replace(r\"[^\\uAC00-\\uD7A30-9a-zA-Z\\s]\",'')\n",
      "/var/folders/62/p7jd9w0n1n3d19j8s3z7k3lw0000gp/T/ipykernel_2089/1046961940.py:2: FutureWarning: The default value of regex will change from True to False in a future version.\n",
      "  df['content'] = df['content'].str.replace(r\"[^\\uAC00-\\uD7A30-9a-zA-Z\\s]\",'')\n"
     ]
    }
   ],
   "source": [
    "df['title'] = df['title'].str.replace(r\"[^\\uAC00-\\uD7A30-9a-zA-Z\\s]\",'')\n",
    "df['content'] = df['content'].str.replace(r\"[^\\uAC00-\\uD7A30-9a-zA-Z\\s]\",'')"
   ]
  },
  {
   "cell_type": "code",
   "execution_count": 10,
   "id": "6dae1f7b",
   "metadata": {
    "ExecuteTime": {
     "end_time": "2022-09-29T09:18:00.702018Z",
     "start_time": "2022-09-29T09:18:00.697760Z"
    }
   },
   "outputs": [
    {
     "data": {
      "text/html": [
       "<div>\n",
       "<style scoped>\n",
       "    .dataframe tbody tr th:only-of-type {\n",
       "        vertical-align: middle;\n",
       "    }\n",
       "\n",
       "    .dataframe tbody tr th {\n",
       "        vertical-align: top;\n",
       "    }\n",
       "\n",
       "    .dataframe thead th {\n",
       "        text-align: right;\n",
       "    }\n",
       "</style>\n",
       "<table border=\"1\" class=\"dataframe\">\n",
       "  <thead>\n",
       "    <tr style=\"text-align: right;\">\n",
       "      <th></th>\n",
       "      <th>title</th>\n",
       "      <th>content</th>\n",
       "    </tr>\n",
       "    <tr>\n",
       "      <th>date</th>\n",
       "      <th></th>\n",
       "      <th></th>\n",
       "    </tr>\n",
       "  </thead>\n",
       "  <tbody>\n",
       "    <tr>\n",
       "      <th>2020-09-04</th>\n",
       "      <td>제목  오아시스\\n 팬데믹시대에 내마음의 표준을 바꾸는 유통</td>\n",
       "      <td>이번 코로나가 유통시장의 판도를 5년이상 앞당겨진 변화를 가져 왔다매장에서 인테넷의...</td>\n",
       "    </tr>\n",
       "    <tr>\n",
       "      <th>2021-04-17</th>\n",
       "      <td>제목  오아시스 오아시스 매수 했습니다</td>\n",
       "      <td>오아이스 주식 중  pe가 보유한 물량이 시장에서 움직이는 듯 하네요어제 아시는 분...</td>\n",
       "    </tr>\n",
       "    <tr>\n",
       "      <th>2021-04-17</th>\n",
       "      <td>제목  오아시스 오아시스 매수 했습니다</td>\n",
       "      <td>얼마에 사셨어요 저도 관심이 있는데요</td>\n",
       "    </tr>\n",
       "    <tr>\n",
       "      <th>2021-04-17</th>\n",
       "      <td>제목  오아시스\\n 오아시스 주식이요</td>\n",
       "      <td>오아시스 주식을 사고싶어게시판에 올려봅니다파실분 계시면 팔육일팔 삼육사일로연락주세요</td>\n",
       "    </tr>\n",
       "    <tr>\n",
       "      <th>2021-04-19</th>\n",
       "      <td>제목  오아시스 70만원이면 비싼건가요</td>\n",
       "      <td>30주 70만원에 살려고하는데 비싼건가요</td>\n",
       "    </tr>\n",
       "    <tr>\n",
       "      <th>...</th>\n",
       "      <td>...</td>\n",
       "      <td>...</td>\n",
       "    </tr>\n",
       "    <tr>\n",
       "      <th>2022-08-31</th>\n",
       "      <td>제목  오아시스 우크라이나와 러시아</td>\n",
       "      <td>덩치 큰 러시아가 누구다 다 이길거라고 했지만 결과는 길고 짧은건 대봐야 안다고우크...</td>\n",
       "    </tr>\n",
       "    <tr>\n",
       "      <th>2022-08-31</th>\n",
       "      <td>제목  오아시스 오늘 날짜20220831 더벨 기사  오아시스 기업가치 최대 2조 제시</td>\n",
       "      <td>코스닥 상장을 추진 중인 신선식품 새벽배송 기업 오아시스가 기업가치 목표를 최대 2...</td>\n",
       "    </tr>\n",
       "    <tr>\n",
       "      <th>2022-09-02</th>\n",
       "      <td>제목  오아시스 이 시기에 오히려 주목해야 할 기업</td>\n",
       "      <td>연일 금리가 급등하고 있다 매출만을 키우기 위해 무한확장을 거듭했던 스타트업과 유니...</td>\n",
       "    </tr>\n",
       "    <tr>\n",
       "      <th>2022-09-05</th>\n",
       "      <td>제목  오아시스 계획된 적자</td>\n",
       "      <td>한때 VC와 스타트업들이 힘을 합쳐 매출액을 늘려 시장 주도권을 가져가기위한 전략으...</td>\n",
       "    </tr>\n",
       "    <tr>\n",
       "      <th>2022-09-08</th>\n",
       "      <td>제목  오아시스 위기에 재조명받는 오아시스미트박스흑자비결은</td>\n",
       "      <td>오아시스마켓은 올해 상반기 전년 대비 21 증가한 2024억원 매출액과 171 증가...</td>\n",
       "    </tr>\n",
       "  </tbody>\n",
       "</table>\n",
       "<p>136 rows × 2 columns</p>\n",
       "</div>"
      ],
      "text/plain": [
       "                                                        title  \\\n",
       "date                                                            \n",
       "2020-09-04                 제목  오아시스\\n 팬데믹시대에 내마음의 표준을 바꾸는 유통    \n",
       "2021-04-17                             제목  오아시스 오아시스 매수 했습니다    \n",
       "2021-04-17                             제목  오아시스 오아시스 매수 했습니다    \n",
       "2021-04-17                              제목  오아시스\\n 오아시스 주식이요    \n",
       "2021-04-19                             제목  오아시스 70만원이면 비싼건가요    \n",
       "...                                                       ...   \n",
       "2022-08-31                               제목  오아시스 우크라이나와 러시아    \n",
       "2022-08-31  제목  오아시스 오늘 날짜20220831 더벨 기사  오아시스 기업가치 최대 2조 제시    \n",
       "2022-09-02                      제목  오아시스 이 시기에 오히려 주목해야 할 기업    \n",
       "2022-09-05                                   제목  오아시스 계획된 적자    \n",
       "2022-09-08                  제목  오아시스 위기에 재조명받는 오아시스미트박스흑자비결은    \n",
       "\n",
       "                                                      content  \n",
       "date                                                           \n",
       "2020-09-04  이번 코로나가 유통시장의 판도를 5년이상 앞당겨진 변화를 가져 왔다매장에서 인테넷의...  \n",
       "2021-04-17  오아이스 주식 중  pe가 보유한 물량이 시장에서 움직이는 듯 하네요어제 아시는 분...  \n",
       "2021-04-17                               얼마에 사셨어요 저도 관심이 있는데요  \n",
       "2021-04-17     오아시스 주식을 사고싶어게시판에 올려봅니다파실분 계시면 팔육일팔 삼육사일로연락주세요  \n",
       "2021-04-19                             30주 70만원에 살려고하는데 비싼건가요  \n",
       "...                                                       ...  \n",
       "2022-08-31  덩치 큰 러시아가 누구다 다 이길거라고 했지만 결과는 길고 짧은건 대봐야 안다고우크...  \n",
       "2022-08-31  코스닥 상장을 추진 중인 신선식품 새벽배송 기업 오아시스가 기업가치 목표를 최대 2...  \n",
       "2022-09-02  연일 금리가 급등하고 있다 매출만을 키우기 위해 무한확장을 거듭했던 스타트업과 유니...  \n",
       "2022-09-05  한때 VC와 스타트업들이 힘을 합쳐 매출액을 늘려 시장 주도권을 가져가기위한 전략으...  \n",
       "2022-09-08  오아시스마켓은 올해 상반기 전년 대비 21 증가한 2024억원 매출액과 171 증가...  \n",
       "\n",
       "[136 rows x 2 columns]"
      ]
     },
     "execution_count": 10,
     "metadata": {},
     "output_type": "execute_result"
    }
   ],
   "source": [
    "df"
   ]
  },
  {
   "cell_type": "markdown",
   "id": "b7309413",
   "metadata": {},
   "source": [
    "## 토큰화"
   ]
  },
  {
   "cell_type": "code",
   "execution_count": 11,
   "id": "f36bf57a",
   "metadata": {
    "ExecuteTime": {
     "end_time": "2022-09-29T09:18:03.715961Z",
     "start_time": "2022-09-29T09:18:03.336956Z"
    }
   },
   "outputs": [
    {
     "name": "stdout",
     "output_type": "stream",
     "text": [
      "[0.003s][warning][os,thread] Attempt to protect stack guard pages failed (0x000000016ce90000-0x000000016ce9c000).\n",
      "[0.003s][warning][os,thread] Attempt to deallocate stack guard pages failed.\n"
     ]
    }
   ],
   "source": [
    "okt = Okt()"
   ]
  },
  {
   "cell_type": "code",
   "execution_count": 27,
   "id": "ae9480b0",
   "metadata": {
    "ExecuteTime": {
     "end_time": "2022-09-29T09:22:29.374380Z",
     "start_time": "2022-09-29T09:22:29.370533Z"
    }
   },
   "outputs": [],
   "source": [
    "\n",
    "stopwords = ['의','가','이','은','들','는','좀','잘','걍','과','도','를','으로','자','에','와','한','하다','\\n','\\n ']\n",
    "\n"
   ]
  },
  {
   "cell_type": "code",
   "execution_count": 28,
   "id": "223a6798",
   "metadata": {
    "ExecuteTime": {
     "end_time": "2022-09-29T09:22:30.292140Z",
     "start_time": "2022-09-29T09:22:30.146433Z"
    }
   },
   "outputs": [
    {
     "name": "stderr",
     "output_type": "stream",
     "text": [
      "100%|████████████████████████████████████████| 136/136 [00:00<00:00, 973.38it/s]\n"
     ]
    }
   ],
   "source": [
    "token = []\n",
    "for sentence in tqdm(df['title']):\n",
    "    tokenized_sentence = okt.morphs(sentence, stem=True) # 토큰화\n",
    "    stopwords_removed_sentence = [word for word in tokenized_sentence if not word in stopwords] # 불용어 제거\n",
    "    token.append(stopwords_removed_sentence)\n",
    "    "
   ]
  },
  {
   "cell_type": "code",
   "execution_count": 29,
   "id": "a7cd1064",
   "metadata": {
    "ExecuteTime": {
     "end_time": "2022-09-29T09:22:31.511928Z",
     "start_time": "2022-09-29T09:22:31.506807Z"
    }
   },
   "outputs": [
    {
     "data": {
      "text/plain": [
       "[['제목', '오아시스', '팬데믹', '시대', '내', '마음', '표준', '을', '바꾸다', '유통'],\n",
       " ['제목', '오아시스', '오아시스', '매수'],\n",
       " ['제목', '오아시스', '오아시스', '매수']]"
      ]
     },
     "execution_count": 29,
     "metadata": {},
     "output_type": "execute_result"
    }
   ],
   "source": [
    "token[:3]"
   ]
  },
  {
   "cell_type": "markdown",
   "id": "da5c6b13",
   "metadata": {},
   "source": [
    "## 정수 인코딩"
   ]
  },
  {
   "cell_type": "code",
   "execution_count": 30,
   "id": "2895b5fe",
   "metadata": {
    "ExecuteTime": {
     "end_time": "2022-09-29T09:22:33.233613Z",
     "start_time": "2022-09-29T09:22:33.226732Z"
    }
   },
   "outputs": [],
   "source": [
    "tokenizer = Tokenizer()\n",
    "tokenizer.fit_on_texts(token)"
   ]
  },
  {
   "cell_type": "code",
   "execution_count": 31,
   "id": "a62c14b1",
   "metadata": {
    "ExecuteTime": {
     "end_time": "2022-09-29T09:22:33.395345Z",
     "start_time": "2022-09-29T09:22:33.391912Z"
    },
    "scrolled": false
   },
   "outputs": [
    {
     "name": "stdout",
     "output_type": "stream",
     "text": [
      "{'오아시스': 1, '제목': 2, '코멘트': 3, '상장': 4, '주': 5, '일': 6, '되다': 7, '기': 8, '1조': 9, '청구': 10, '비싸다': 11, '액면': 12, '분할': 13, '오다': 14, '총': 15, '액': 16, '가다': 17, '사다': 18, '없다': 19, '가치': 20, '평': 21, '분': 22, '을': 23, '요': 24, '지금': 25, '거래': 26, '실적': 27, '보다': 28, '주식': 29, '기업': 30, '2조': 31, '매수': 32, '너무': 33, '하나요': 34, '가격': 35, '있다': 36, '지다': 37, '3': 38, '가요': 39, '언제': 40, '옆': 41, '집': 42, '수수': 43, '수지': 44, '그렇게': 45, '올리다': 46, '유상증자': 47, '공시': 48, '네': 49, '나오다': 50, '로': 51, '에서': 52, '투자': 53, '반기': 54, '후': 55, '신': 56, '신청': 57, '드리다': 58, '지': 59, '죠': 60, '컬리': 61, '내용': 62, '날짜': 63, '기준': 64, '및': 65, '70만원': 66, '이면': 67, '뭐': 68, '못': 69, '글': 70, '싸다': 71, '겁니다': 72, '그': 73, '놈': 74, '무상증자': 75, '알다': 76, '1': 77, '백만원': 78, '오늘': 79, '예상': 80, '년': 81, '안': 82, '임': 83, '이미': 84, '다르다': 85, '나': 86, '제대로': 87, '희망': 88, '무증': 89, 'ipo': 90, '3조': 91, '4': 92, '대': 93, '괜찮다': 94, '시': 95, '어디서': 96, '확인': 97, '빠르다': 98, '고객': 99, '센터': 100, '악의': 101, '적': 102, '매물': 103, '신고': 104, '나다': 105, '수가': 106, '적다': 107, '그렇다': 108, '하': 109, '않다': 110, '바로': 111, '다': 112, '돈': 113, '내년': 114, '하반기': 115, '들어오다': 116, '아시': 117, '안티': 118, '부터': 119, '50': 120, '배': 121, '라니': 122, '날아가다': 123, '편지': 124, '써다': 125, '문제': 126, '관련': 127, '교부': 128, '52일': 129, '언급': 130, '에나': 131, '적자': 132, '팬데믹': 133, '시대': 134, '내': 135, '마음': 136, '표준': 137, '바꾸다': 138, '유통': 139, '식이': 140, 'pe': 141, '에요': 142, '망설이다': 143, '위': 144, '바이럴': 145, '막히다': 146, '아직': 147, '모르다': 148, '때': 149, '빨리': 150, '그래도': 151, '제일': 152, '뜸': 153, '함': 154, '사보다': 155, '매다': 156, '중소기업': 157, '여부': 158, '말고': 159, '올해': 160, '2400억': 161, '정도인': 162, '71': 163, '크다': 164, '판돈': 165, '일부': 166, '자다': 167, '갈다': 168, '매출': 169, '3천억': 170, '영': 171, '억': 172, '이익': 173, '100억': 174, '남짓': 175, '항상': 176, '가장': 177, '저렴하다': 178, '노력': 179, '무조건': 180, '회': 181, '물량많': 182, '금액': 183, '실': 184, '137만': 185, '성공하다': 186, '조용하다': 187, '언제나': 188, '먹다': 189, 'k': 190, '삼촌': 191, '한데': 192, '스피드': 193, '일단': 194, '200': 195, '찍다': 196, '난후': 197, '얘기': 198, '14677': 199, '평가': 200, '쏘다': 201, '아시아': 202, '경제': 203, '이다': 204, 'ib': 205, '5천': 206, '입니다': 207, '팔': 208, '라고': 209, '계속': 210, '연락': 211, '글로벌': 212, '사모': 213, '1천억': 214, '들어온답니다': 215, '우선주': 216, '더': 217, '물량': 218, '부담': 219, '줄다': 220, '앞': 221, '좋아지다': 222, '같다': 223, '상': 224, '장하다': 225, '최소': 226, '어떻다': 227, '왜': 228, '전': 229, '자공시': 230, '쓱': 231, '3000000': 232, '주다': 233, '넘기다': 234, '분과': 235, '식수': 236, '따위': 237, '답변': 238, '주네': 239, '수': 240, '차례': 241, '안내': 242, '요나': 243, '찬성': 244, '근데': 245, '현실': 246, '성은': 247, '5천원': 248, '5': 249, '백원': 250, '몇': 251, '만에': 252, '무슨': 253, '일이': 254, '미치다': 255, '우상': 256, '향': 257, '매매': 258, '업자': 259, '밖에': 260, '만': 261, '걸리다': 262, '심보': 263, '왜케': 264, '떨어지다': 265, '뭔': 266, '건가': 267, '100억원': 268, '규모': 269, '벨': 270, '류': 271, '모이다': 272, '차라리': 273, '아마존': 274, '사라': 275, '3월': 276, '정기': 277, '주주총회': 278, '기대': 279, '수익': 280, '된거': 281, '22년': 282, '축하': 283, '상반기': 284, '기업가': 285, '치다': 286, '5조': 287, '이상': 288, '누구': 289, '개': 290, '이름': 291, '인가': 292, 'pre': 293, '기관': 294, '밸류에': 295, '시작': 296, '작': 297, '공': 298, '모': 299, '가가': 300, '금년': 301, '비상': 302, '장': 303, '권유': 304, '달라': 305, '사람': 306, '극': 307, '주의': 308, '필요': 309, '사기꾼': 310, '40': 311, '층': 312, '시간': 313, '두다': 314, '기다리다': 315, '보시': 316, '동감': 317, '공모': 318, '따블': 319, '장외': 320, '2': 321, 'si': 322, '50분': 323, '분하다': 324, '29일': 325, '까지': 326, '4월': 327, '예정': 328, '참석': 329, '후기': 330, '감사하다': 331, '저': 332, '감사': 333, '백도': 334, '혹시': 335, '사면': 336, '호구': 337, '인가요': 338, '까진': 339, '조': 340, '끄다': 341, '라': 342, '쓰다': 343, '가려지다': 344, '욕': 345, '아니다': 346, '작년': 347, '가능': 348, '어디': 349, '어나': 350, '오는': 351, '즈': 352, '아': 353, '완료': 354, '회로': 355, '성': 356, '장주': 357, '박살': 358, '쿠팡': 359, '반토막': 360, '그나마': 361, '순': 362, '익': 363, '중': 364, '인데': 365, '업황': 366, '안좋다': 367, '구르다': 368, '그냥': 369, '직접': 370, '우크라이나': 371, '러시아': 372, '20220831': 373, '더벨': 374, '기사': 375, '최대': 376, '제시': 377, '시기': 378, '오히려': 379, '주목': 380, '계획': 381, '위기': 382, '재': 383, '조명': 384, '받다': 385, '미트': 386, '박스': 387, '흑자': 388, '비결': 389}\n"
     ]
    }
   ],
   "source": [
    "print(tokenizer.word_index)"
   ]
  },
  {
   "cell_type": "code",
   "execution_count": null,
   "id": "22ca5446",
   "metadata": {},
   "outputs": [],
   "source": []
  }
 ],
 "metadata": {
  "kernelspec": {
   "display_name": "Python 3 (ipykernel)",
   "language": "python",
   "name": "python3"
  },
  "language_info": {
   "codemirror_mode": {
    "name": "ipython",
    "version": 3
   },
   "file_extension": ".py",
   "mimetype": "text/x-python",
   "name": "python",
   "nbconvert_exporter": "python",
   "pygments_lexer": "ipython3",
   "version": "3.8.13"
  },
  "toc": {
   "base_numbering": 1,
   "nav_menu": {},
   "number_sections": false,
   "sideBar": true,
   "skip_h1_title": false,
   "title_cell": "Table of Contents",
   "title_sidebar": "Contents",
   "toc_cell": false,
   "toc_position": {},
   "toc_section_display": true,
   "toc_window_display": false
  }
 },
 "nbformat": 4,
 "nbformat_minor": 5
}
