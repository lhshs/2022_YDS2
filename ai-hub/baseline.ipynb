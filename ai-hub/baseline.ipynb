{
 "cells": [
  {
   "cell_type": "code",
   "execution_count": null,
   "id": "0fa502e4",
   "metadata": {},
   "outputs": [],
   "source": []
  },
  {
   "cell_type": "code",
   "execution_count": 1,
   "id": "c34e2ed8",
   "metadata": {},
   "outputs": [],
   "source": [
    "import pandas as pd\n",
    "import numpy as np\n",
    "import matplotlib.pyplot as plt\n",
    "import re\n",
    "import urllib.request\n",
    "from konlpy.tag import Okt\n",
    "from tqdm import tqdm\n",
    "from tensorflow.keras.preprocessing.text import Tokenizer\n",
    "from tensorflow.keras.preprocessing.sequence import pad_sequences\n",
    "\n",
    "import json\n",
    "import os"
   ]
  },
  {
   "cell_type": "markdown",
   "id": "ccdf9af2",
   "metadata": {},
   "source": [
    "## 데이터 로드하기 1\n",
    "train_label\n",
    " - TL_span_extraction\n",
    " - TL_span_inference\n",
    " - TL_text_entailment\n",
    " - TL_unanswerable\n",
    " \n",
    "train_raw\n",
    " - TS_span_extraction\n",
    " - TS_span_inference\n",
    " - TS_text_entailment\n",
    " - TS_unanswerable"
   ]
  },
  {
   "cell_type": "markdown",
   "id": "c9b58aee",
   "metadata": {},
   "source": [
    "### train"
   ]
  },
  {
   "cell_type": "code",
   "execution_count": 2,
   "id": "9ccc638d",
   "metadata": {
    "scrolled": true
   },
   "outputs": [
    {
     "data": {
      "text/html": [
       "<div>\n",
       "<style scoped>\n",
       "    .dataframe tbody tr th:only-of-type {\n",
       "        vertical-align: middle;\n",
       "    }\n",
       "\n",
       "    .dataframe tbody tr th {\n",
       "        vertical-align: top;\n",
       "    }\n",
       "\n",
       "    .dataframe thead th {\n",
       "        text-align: right;\n",
       "    }\n",
       "</style>\n",
       "<table border=\"1\" class=\"dataframe\">\n",
       "  <thead>\n",
       "    <tr style=\"text-align: right;\">\n",
       "      <th></th>\n",
       "      <th>Dataset</th>\n",
       "      <th>data</th>\n",
       "    </tr>\n",
       "  </thead>\n",
       "  <tbody>\n",
       "    <tr>\n",
       "      <th>0</th>\n",
       "      <td>{'Identifier': 'TEXT_QnA_News_01', 'name': '뉴스...</td>\n",
       "      <td>[{'doc_id': '01601101.20210325201932006', 'doc...</td>\n",
       "    </tr>\n",
       "  </tbody>\n",
       "</table>\n",
       "</div>"
      ],
      "text/plain": [
       "                                             Dataset  \\\n",
       "0  {'Identifier': 'TEXT_QnA_News_01', 'name': '뉴스...   \n",
       "\n",
       "                                                data  \n",
       "0  [{'doc_id': '01601101.20210325201932006', 'doc...  "
      ]
     },
     "execution_count": 2,
     "metadata": {},
     "output_type": "execute_result"
    }
   ],
   "source": [
    "with open('/Users/lhs/Desktop/GitHub/NLP_pjt/data/train/label/TL_span_extraction_.json', 'r', encoding='utf-8') as tl_jsonfile1:\n",
    "    data = json.load(tl_jsonfile1, strict=False)\n",
    "df_tl1 = pd.DataFrame([data])\n",
    "df_tl1.head()"
   ]
  },
  {
   "cell_type": "code",
   "execution_count": 3,
   "id": "0bf95e2b",
   "metadata": {
    "scrolled": true
   },
   "outputs": [
    {
     "data": {
      "text/html": [
       "<div>\n",
       "<style scoped>\n",
       "    .dataframe tbody tr th:only-of-type {\n",
       "        vertical-align: middle;\n",
       "    }\n",
       "\n",
       "    .dataframe tbody tr th {\n",
       "        vertical-align: top;\n",
       "    }\n",
       "\n",
       "    .dataframe thead th {\n",
       "        text-align: right;\n",
       "    }\n",
       "</style>\n",
       "<table border=\"1\" class=\"dataframe\">\n",
       "  <thead>\n",
       "    <tr style=\"text-align: right;\">\n",
       "      <th></th>\n",
       "      <th>Dataset</th>\n",
       "      <th>data</th>\n",
       "    </tr>\n",
       "  </thead>\n",
       "  <tbody>\n",
       "    <tr>\n",
       "      <th>0</th>\n",
       "      <td>{'Identifier': 'TEXT_QnA_News_01', 'name': '뉴스...</td>\n",
       "      <td>[{'doc_id': '01400601.20210325223148001', 'doc...</td>\n",
       "    </tr>\n",
       "  </tbody>\n",
       "</table>\n",
       "</div>"
      ],
      "text/plain": [
       "                                             Dataset  \\\n",
       "0  {'Identifier': 'TEXT_QnA_News_01', 'name': '뉴스...   \n",
       "\n",
       "                                                data  \n",
       "0  [{'doc_id': '01400601.20210325223148001', 'doc...  "
      ]
     },
     "execution_count": 3,
     "metadata": {},
     "output_type": "execute_result"
    }
   ],
   "source": [
    "with open('/Users/lhs/Desktop/GitHub/NLP_pjt/data/train/label/TL_span_inference_.json', 'r', encoding='utf-8') as tl_jsonfile2:\n",
    "    data = json.load(tl_jsonfile2, strict=False)\n",
    "df_tl2 = pd.DataFrame([data])\n",
    "df_tl2.head()"
   ]
  },
  {
   "cell_type": "code",
   "execution_count": 4,
   "id": "4f4bff7c",
   "metadata": {},
   "outputs": [
    {
     "data": {
      "text/html": [
       "<div>\n",
       "<style scoped>\n",
       "    .dataframe tbody tr th:only-of-type {\n",
       "        vertical-align: middle;\n",
       "    }\n",
       "\n",
       "    .dataframe tbody tr th {\n",
       "        vertical-align: top;\n",
       "    }\n",
       "\n",
       "    .dataframe thead th {\n",
       "        text-align: right;\n",
       "    }\n",
       "</style>\n",
       "<table border=\"1\" class=\"dataframe\">\n",
       "  <thead>\n",
       "    <tr style=\"text-align: right;\">\n",
       "      <th></th>\n",
       "      <th>Dataset</th>\n",
       "      <th>data</th>\n",
       "    </tr>\n",
       "  </thead>\n",
       "  <tbody>\n",
       "    <tr>\n",
       "      <th>0</th>\n",
       "      <td>{'Identifier': 'TEXT_QnA_News_01', 'name': '뉴스...</td>\n",
       "      <td>[{'doc_id': '01100201.20210502175653001', 'doc...</td>\n",
       "    </tr>\n",
       "  </tbody>\n",
       "</table>\n",
       "</div>"
      ],
      "text/plain": [
       "                                             Dataset  \\\n",
       "0  {'Identifier': 'TEXT_QnA_News_01', 'name': '뉴스...   \n",
       "\n",
       "                                                data  \n",
       "0  [{'doc_id': '01100201.20210502175653001', 'doc...  "
      ]
     },
     "execution_count": 4,
     "metadata": {},
     "output_type": "execute_result"
    }
   ],
   "source": [
    "with open('/Users/lhs/Desktop/GitHub/NLP_pjt/data/train/label/TL_text_entailment.json', 'r', encoding='utf-8') as tl_jsonfile3:\n",
    "    data = json.load(tl_jsonfile3)\n",
    "df_tl3 = pd.DataFrame([data])\n",
    "df_tl3.head()"
   ]
  },
  {
   "cell_type": "code",
   "execution_count": 5,
   "id": "dc58c7ba",
   "metadata": {},
   "outputs": [
    {
     "data": {
      "text/html": [
       "<div>\n",
       "<style scoped>\n",
       "    .dataframe tbody tr th:only-of-type {\n",
       "        vertical-align: middle;\n",
       "    }\n",
       "\n",
       "    .dataframe tbody tr th {\n",
       "        vertical-align: top;\n",
       "    }\n",
       "\n",
       "    .dataframe thead th {\n",
       "        text-align: right;\n",
       "    }\n",
       "</style>\n",
       "<table border=\"1\" class=\"dataframe\">\n",
       "  <thead>\n",
       "    <tr style=\"text-align: right;\">\n",
       "      <th></th>\n",
       "      <th>Dataset</th>\n",
       "      <th>data</th>\n",
       "    </tr>\n",
       "  </thead>\n",
       "  <tbody>\n",
       "    <tr>\n",
       "      <th>0</th>\n",
       "      <td>{'Identifier': 'TEXT_QnA_News_01', 'name': '뉴스...</td>\n",
       "      <td>[{'doc_id': '01100201.20210225173715002', 'doc...</td>\n",
       "    </tr>\n",
       "  </tbody>\n",
       "</table>\n",
       "</div>"
      ],
      "text/plain": [
       "                                             Dataset  \\\n",
       "0  {'Identifier': 'TEXT_QnA_News_01', 'name': '뉴스...   \n",
       "\n",
       "                                                data  \n",
       "0  [{'doc_id': '01100201.20210225173715002', 'doc...  "
      ]
     },
     "execution_count": 5,
     "metadata": {},
     "output_type": "execute_result"
    }
   ],
   "source": [
    "with open('/Users/lhs/Desktop/GitHub/NLP_pjt/data/train/label/TL_unanswerable.json', 'r', encoding='utf-8') as tl_jsonfile4:\n",
    "    data = json.load(tl_jsonfile4)\n",
    "df_tl4 = pd.DataFrame([data])\n",
    "df_tl4.head()"
   ]
  },
  {
   "cell_type": "markdown",
   "id": "9517a619",
   "metadata": {},
   "source": [
    "### raw"
   ]
  },
  {
   "cell_type": "code",
   "execution_count": 6,
   "id": "ecf8e023",
   "metadata": {},
   "outputs": [
    {
     "data": {
      "text/html": [
       "<div>\n",
       "<style scoped>\n",
       "    .dataframe tbody tr th:only-of-type {\n",
       "        vertical-align: middle;\n",
       "    }\n",
       "\n",
       "    .dataframe tbody tr th {\n",
       "        vertical-align: top;\n",
       "    }\n",
       "\n",
       "    .dataframe thead th {\n",
       "        text-align: right;\n",
       "    }\n",
       "</style>\n",
       "<table border=\"1\" class=\"dataframe\">\n",
       "  <thead>\n",
       "    <tr style=\"text-align: right;\">\n",
       "      <th></th>\n",
       "      <th>Dataset</th>\n",
       "      <th>data</th>\n",
       "    </tr>\n",
       "  </thead>\n",
       "  <tbody>\n",
       "    <tr>\n",
       "      <th>0</th>\n",
       "      <td>{'Identifier': 'TEXT_QnA_News_01', 'name': '뉴스...</td>\n",
       "      <td>[{'doc_id': '01100201.20210225173715002', 'doc...</td>\n",
       "    </tr>\n",
       "  </tbody>\n",
       "</table>\n",
       "</div>"
      ],
      "text/plain": [
       "                                             Dataset  \\\n",
       "0  {'Identifier': 'TEXT_QnA_News_01', 'name': '뉴스...   \n",
       "\n",
       "                                                data  \n",
       "0  [{'doc_id': '01100201.20210225173715002', 'doc...  "
      ]
     },
     "execution_count": 6,
     "metadata": {},
     "output_type": "execute_result"
    }
   ],
   "source": [
    "with open('/Users/lhs/Desktop/GitHub/NLP_pjt/data/train/label/TL_unanswerable.json', 'r', encoding='utf-8') as ts_jsonfile1:\n",
    "    data = json.load(ts_jsonfile1)\n",
    "df_ts1 = pd.DataFrame([data])\n",
    "df_ts1.head()"
   ]
  },
  {
   "cell_type": "code",
   "execution_count": 7,
   "id": "628a97a3",
   "metadata": {},
   "outputs": [
    {
     "data": {
      "text/html": [
       "<div>\n",
       "<style scoped>\n",
       "    .dataframe tbody tr th:only-of-type {\n",
       "        vertical-align: middle;\n",
       "    }\n",
       "\n",
       "    .dataframe tbody tr th {\n",
       "        vertical-align: top;\n",
       "    }\n",
       "\n",
       "    .dataframe thead th {\n",
       "        text-align: right;\n",
       "    }\n",
       "</style>\n",
       "<table border=\"1\" class=\"dataframe\">\n",
       "  <thead>\n",
       "    <tr style=\"text-align: right;\">\n",
       "      <th></th>\n",
       "      <th>Dataset</th>\n",
       "      <th>data</th>\n",
       "    </tr>\n",
       "  </thead>\n",
       "  <tbody>\n",
       "    <tr>\n",
       "      <th>0</th>\n",
       "      <td>{'Identifier': 'TEXT_QnA_News_01', 'name': '뉴스...</td>\n",
       "      <td>[{'doc_id': '01100201.20210225173715002', 'doc...</td>\n",
       "    </tr>\n",
       "  </tbody>\n",
       "</table>\n",
       "</div>"
      ],
      "text/plain": [
       "                                             Dataset  \\\n",
       "0  {'Identifier': 'TEXT_QnA_News_01', 'name': '뉴스...   \n",
       "\n",
       "                                                data  \n",
       "0  [{'doc_id': '01100201.20210225173715002', 'doc...  "
      ]
     },
     "execution_count": 7,
     "metadata": {},
     "output_type": "execute_result"
    }
   ],
   "source": [
    "with open('/Users/lhs/Desktop/GitHub/NLP_pjt/data/train/label/TL_unanswerable.json', 'r', encoding='utf-8') as ts_jsonfile2:\n",
    "    data = json.load(ts_jsonfile2)\n",
    "df_ts2 = pd.DataFrame([data])\n",
    "df_ts2.head()"
   ]
  },
  {
   "cell_type": "code",
   "execution_count": 8,
   "id": "bc4aba9d",
   "metadata": {},
   "outputs": [
    {
     "data": {
      "text/html": [
       "<div>\n",
       "<style scoped>\n",
       "    .dataframe tbody tr th:only-of-type {\n",
       "        vertical-align: middle;\n",
       "    }\n",
       "\n",
       "    .dataframe tbody tr th {\n",
       "        vertical-align: top;\n",
       "    }\n",
       "\n",
       "    .dataframe thead th {\n",
       "        text-align: right;\n",
       "    }\n",
       "</style>\n",
       "<table border=\"1\" class=\"dataframe\">\n",
       "  <thead>\n",
       "    <tr style=\"text-align: right;\">\n",
       "      <th></th>\n",
       "      <th>Dataset</th>\n",
       "      <th>data</th>\n",
       "    </tr>\n",
       "  </thead>\n",
       "  <tbody>\n",
       "    <tr>\n",
       "      <th>0</th>\n",
       "      <td>{'Identifier': 'TEXT_QnA_News_01', 'name': '뉴스...</td>\n",
       "      <td>[{'doc_id': '01100201.20210225173715002', 'doc...</td>\n",
       "    </tr>\n",
       "  </tbody>\n",
       "</table>\n",
       "</div>"
      ],
      "text/plain": [
       "                                             Dataset  \\\n",
       "0  {'Identifier': 'TEXT_QnA_News_01', 'name': '뉴스...   \n",
       "\n",
       "                                                data  \n",
       "0  [{'doc_id': '01100201.20210225173715002', 'doc...  "
      ]
     },
     "execution_count": 8,
     "metadata": {},
     "output_type": "execute_result"
    }
   ],
   "source": [
    "with open('/Users/lhs/Desktop/GitHub/NLP_pjt/data/train/label/TL_unanswerable.json', 'r', encoding='utf-8') as ts_jsonfile3:\n",
    "    data = json.load(ts_jsonfile3)\n",
    "df_ts3 = pd.DataFrame([data])\n",
    "df_ts3.head()"
   ]
  },
  {
   "cell_type": "code",
   "execution_count": 9,
   "id": "12b1edd0",
   "metadata": {},
   "outputs": [
    {
     "data": {
      "text/html": [
       "<div>\n",
       "<style scoped>\n",
       "    .dataframe tbody tr th:only-of-type {\n",
       "        vertical-align: middle;\n",
       "    }\n",
       "\n",
       "    .dataframe tbody tr th {\n",
       "        vertical-align: top;\n",
       "    }\n",
       "\n",
       "    .dataframe thead th {\n",
       "        text-align: right;\n",
       "    }\n",
       "</style>\n",
       "<table border=\"1\" class=\"dataframe\">\n",
       "  <thead>\n",
       "    <tr style=\"text-align: right;\">\n",
       "      <th></th>\n",
       "      <th>Dataset</th>\n",
       "      <th>data</th>\n",
       "    </tr>\n",
       "  </thead>\n",
       "  <tbody>\n",
       "    <tr>\n",
       "      <th>0</th>\n",
       "      <td>{'Identifier': 'TEXT_QnA_News_01', 'name': '뉴스...</td>\n",
       "      <td>[{'doc_id': '01100201.20210225173715002', 'doc...</td>\n",
       "    </tr>\n",
       "  </tbody>\n",
       "</table>\n",
       "</div>"
      ],
      "text/plain": [
       "                                             Dataset  \\\n",
       "0  {'Identifier': 'TEXT_QnA_News_01', 'name': '뉴스...   \n",
       "\n",
       "                                                data  \n",
       "0  [{'doc_id': '01100201.20210225173715002', 'doc...  "
      ]
     },
     "execution_count": 9,
     "metadata": {},
     "output_type": "execute_result"
    }
   ],
   "source": [
    "with open('/Users/lhs/Desktop/GitHub/NLP_pjt/data/train/label/TL_unanswerable.json', 'r', encoding='utf-8') as ts_jsonfile4:\n",
    "    data = json.load(ts_jsonfile4)\n",
    "df_ts4 = pd.DataFrame([data])\n",
    "df_ts4.head()"
   ]
  },
  {
   "cell_type": "markdown",
   "id": "a413bc31",
   "metadata": {},
   "source": [
    "## 데이터 로드하기 2\n",
    "val_label\n",
    " - VL_span_extraction\n",
    " - VL_span_inference\n",
    " - VL_text_entailment\n",
    " - VL_unanswerable\n",
    " \n",
    "val_raw\n",
    " - VS_span_extraction\n",
    " - VS_span_inference\n",
    " - VS_text_entailment\n",
    " - VS_unanswerable"
   ]
  },
  {
   "cell_type": "markdown",
   "id": "8967645a",
   "metadata": {},
   "source": [
    "### label"
   ]
  },
  {
   "cell_type": "code",
   "execution_count": 10,
   "id": "7240efd5",
   "metadata": {},
   "outputs": [
    {
     "data": {
      "text/html": [
       "<div>\n",
       "<style scoped>\n",
       "    .dataframe tbody tr th:only-of-type {\n",
       "        vertical-align: middle;\n",
       "    }\n",
       "\n",
       "    .dataframe tbody tr th {\n",
       "        vertical-align: top;\n",
       "    }\n",
       "\n",
       "    .dataframe thead th {\n",
       "        text-align: right;\n",
       "    }\n",
       "</style>\n",
       "<table border=\"1\" class=\"dataframe\">\n",
       "  <thead>\n",
       "    <tr style=\"text-align: right;\">\n",
       "      <th></th>\n",
       "      <th>Dataset</th>\n",
       "      <th>data</th>\n",
       "    </tr>\n",
       "  </thead>\n",
       "  <tbody>\n",
       "    <tr>\n",
       "      <th>0</th>\n",
       "      <td>{'Identifier': 'TEXT_QnA_News_01', 'name': '뉴스...</td>\n",
       "      <td>[{'doc_id': '01100201.20210225173715002', 'doc...</td>\n",
       "    </tr>\n",
       "  </tbody>\n",
       "</table>\n",
       "</div>"
      ],
      "text/plain": [
       "                                             Dataset  \\\n",
       "0  {'Identifier': 'TEXT_QnA_News_01', 'name': '뉴스...   \n",
       "\n",
       "                                                data  \n",
       "0  [{'doc_id': '01100201.20210225173715002', 'doc...  "
      ]
     },
     "execution_count": 10,
     "metadata": {},
     "output_type": "execute_result"
    }
   ],
   "source": [
    "with open('/Users/lhs/Desktop/GitHub/NLP_pjt/data/train/label/TL_unanswerable.json', 'r', encoding='utf-8') as vl_jsonfile1:\n",
    "    data = json.load(vl_jsonfile1)\n",
    "df_vl1 = pd.DataFrame([data])\n",
    "df_vl1.head()"
   ]
  },
  {
   "cell_type": "code",
   "execution_count": 11,
   "id": "cd5b46f7",
   "metadata": {},
   "outputs": [
    {
     "data": {
      "text/html": [
       "<div>\n",
       "<style scoped>\n",
       "    .dataframe tbody tr th:only-of-type {\n",
       "        vertical-align: middle;\n",
       "    }\n",
       "\n",
       "    .dataframe tbody tr th {\n",
       "        vertical-align: top;\n",
       "    }\n",
       "\n",
       "    .dataframe thead th {\n",
       "        text-align: right;\n",
       "    }\n",
       "</style>\n",
       "<table border=\"1\" class=\"dataframe\">\n",
       "  <thead>\n",
       "    <tr style=\"text-align: right;\">\n",
       "      <th></th>\n",
       "      <th>Dataset</th>\n",
       "      <th>data</th>\n",
       "    </tr>\n",
       "  </thead>\n",
       "  <tbody>\n",
       "    <tr>\n",
       "      <th>0</th>\n",
       "      <td>{'Identifier': 'TEXT_QnA_News_01', 'name': '뉴스...</td>\n",
       "      <td>[{'doc_id': '01100201.20210225173715002', 'doc...</td>\n",
       "    </tr>\n",
       "  </tbody>\n",
       "</table>\n",
       "</div>"
      ],
      "text/plain": [
       "                                             Dataset  \\\n",
       "0  {'Identifier': 'TEXT_QnA_News_01', 'name': '뉴스...   \n",
       "\n",
       "                                                data  \n",
       "0  [{'doc_id': '01100201.20210225173715002', 'doc...  "
      ]
     },
     "execution_count": 11,
     "metadata": {},
     "output_type": "execute_result"
    }
   ],
   "source": [
    "with open('/Users/lhs/Desktop/GitHub/NLP_pjt/data/train/label/TL_unanswerable.json', 'r', encoding='utf-8') as vl_jsonfile2:\n",
    "    data = json.load(vl_jsonfile2)\n",
    "df_vl2 = pd.DataFrame([data])\n",
    "df_vl2.head()"
   ]
  },
  {
   "cell_type": "code",
   "execution_count": 12,
   "id": "b4ec8639",
   "metadata": {},
   "outputs": [
    {
     "data": {
      "text/html": [
       "<div>\n",
       "<style scoped>\n",
       "    .dataframe tbody tr th:only-of-type {\n",
       "        vertical-align: middle;\n",
       "    }\n",
       "\n",
       "    .dataframe tbody tr th {\n",
       "        vertical-align: top;\n",
       "    }\n",
       "\n",
       "    .dataframe thead th {\n",
       "        text-align: right;\n",
       "    }\n",
       "</style>\n",
       "<table border=\"1\" class=\"dataframe\">\n",
       "  <thead>\n",
       "    <tr style=\"text-align: right;\">\n",
       "      <th></th>\n",
       "      <th>Dataset</th>\n",
       "      <th>data</th>\n",
       "    </tr>\n",
       "  </thead>\n",
       "  <tbody>\n",
       "    <tr>\n",
       "      <th>0</th>\n",
       "      <td>{'Identifier': 'TEXT_QnA_News_01', 'name': '뉴스...</td>\n",
       "      <td>[{'doc_id': '01100201.20210225173715002', 'doc...</td>\n",
       "    </tr>\n",
       "  </tbody>\n",
       "</table>\n",
       "</div>"
      ],
      "text/plain": [
       "                                             Dataset  \\\n",
       "0  {'Identifier': 'TEXT_QnA_News_01', 'name': '뉴스...   \n",
       "\n",
       "                                                data  \n",
       "0  [{'doc_id': '01100201.20210225173715002', 'doc...  "
      ]
     },
     "execution_count": 12,
     "metadata": {},
     "output_type": "execute_result"
    }
   ],
   "source": [
    "with open('/Users/lhs/Desktop/GitHub/NLP_pjt/data/train/label/TL_unanswerable.json', 'r', encoding='utf-8') as vl_jsonfile3:\n",
    "    data = json.load(vl_jsonfile3)\n",
    "df_vl3 = pd.DataFrame([data])\n",
    "df_vl3.head()"
   ]
  },
  {
   "cell_type": "code",
   "execution_count": 13,
   "id": "b8ee0f7a",
   "metadata": {},
   "outputs": [
    {
     "data": {
      "text/html": [
       "<div>\n",
       "<style scoped>\n",
       "    .dataframe tbody tr th:only-of-type {\n",
       "        vertical-align: middle;\n",
       "    }\n",
       "\n",
       "    .dataframe tbody tr th {\n",
       "        vertical-align: top;\n",
       "    }\n",
       "\n",
       "    .dataframe thead th {\n",
       "        text-align: right;\n",
       "    }\n",
       "</style>\n",
       "<table border=\"1\" class=\"dataframe\">\n",
       "  <thead>\n",
       "    <tr style=\"text-align: right;\">\n",
       "      <th></th>\n",
       "      <th>Dataset</th>\n",
       "      <th>data</th>\n",
       "    </tr>\n",
       "  </thead>\n",
       "  <tbody>\n",
       "    <tr>\n",
       "      <th>0</th>\n",
       "      <td>{'Identifier': 'TEXT_QnA_News_01', 'name': '뉴스...</td>\n",
       "      <td>[{'doc_id': '01100201.20210225173715002', 'doc...</td>\n",
       "    </tr>\n",
       "  </tbody>\n",
       "</table>\n",
       "</div>"
      ],
      "text/plain": [
       "                                             Dataset  \\\n",
       "0  {'Identifier': 'TEXT_QnA_News_01', 'name': '뉴스...   \n",
       "\n",
       "                                                data  \n",
       "0  [{'doc_id': '01100201.20210225173715002', 'doc...  "
      ]
     },
     "execution_count": 13,
     "metadata": {},
     "output_type": "execute_result"
    }
   ],
   "source": [
    "with open('/Users/lhs/Desktop/GitHub/NLP_pjt/data/train/label/TL_unanswerable.json', 'r', encoding='utf-8') as vl_jsonfile4:\n",
    "    data = json.load(vl_jsonfile4)\n",
    "df_vl4 = pd.DataFrame([data])\n",
    "df_vl4.head()"
   ]
  },
  {
   "cell_type": "markdown",
   "id": "de94c5af",
   "metadata": {},
   "source": [
    "### raw"
   ]
  },
  {
   "cell_type": "code",
   "execution_count": 14,
   "id": "85764bb0",
   "metadata": {},
   "outputs": [
    {
     "data": {
      "text/html": [
       "<div>\n",
       "<style scoped>\n",
       "    .dataframe tbody tr th:only-of-type {\n",
       "        vertical-align: middle;\n",
       "    }\n",
       "\n",
       "    .dataframe tbody tr th {\n",
       "        vertical-align: top;\n",
       "    }\n",
       "\n",
       "    .dataframe thead th {\n",
       "        text-align: right;\n",
       "    }\n",
       "</style>\n",
       "<table border=\"1\" class=\"dataframe\">\n",
       "  <thead>\n",
       "    <tr style=\"text-align: right;\">\n",
       "      <th></th>\n",
       "      <th>Dataset</th>\n",
       "      <th>data</th>\n",
       "    </tr>\n",
       "  </thead>\n",
       "  <tbody>\n",
       "    <tr>\n",
       "      <th>0</th>\n",
       "      <td>{'Identifier': 'TEXT_QnA_News_01', 'name': '뉴스...</td>\n",
       "      <td>[{'doc_id': '01100201.20210225173715002', 'doc...</td>\n",
       "    </tr>\n",
       "  </tbody>\n",
       "</table>\n",
       "</div>"
      ],
      "text/plain": [
       "                                             Dataset  \\\n",
       "0  {'Identifier': 'TEXT_QnA_News_01', 'name': '뉴스...   \n",
       "\n",
       "                                                data  \n",
       "0  [{'doc_id': '01100201.20210225173715002', 'doc...  "
      ]
     },
     "execution_count": 14,
     "metadata": {},
     "output_type": "execute_result"
    }
   ],
   "source": [
    "with open('/Users/lhs/Desktop/GitHub/NLP_pjt/data/train/label/TL_unanswerable.json', 'r', encoding='utf-8') as vs_jsonfile1:\n",
    "    data = json.load(vs_jsonfile1)\n",
    "df_vs1 = pd.DataFrame([data])\n",
    "df_vs1.head()"
   ]
  },
  {
   "cell_type": "code",
   "execution_count": 15,
   "id": "b904e8e5",
   "metadata": {},
   "outputs": [
    {
     "data": {
      "text/html": [
       "<div>\n",
       "<style scoped>\n",
       "    .dataframe tbody tr th:only-of-type {\n",
       "        vertical-align: middle;\n",
       "    }\n",
       "\n",
       "    .dataframe tbody tr th {\n",
       "        vertical-align: top;\n",
       "    }\n",
       "\n",
       "    .dataframe thead th {\n",
       "        text-align: right;\n",
       "    }\n",
       "</style>\n",
       "<table border=\"1\" class=\"dataframe\">\n",
       "  <thead>\n",
       "    <tr style=\"text-align: right;\">\n",
       "      <th></th>\n",
       "      <th>Dataset</th>\n",
       "      <th>data</th>\n",
       "    </tr>\n",
       "  </thead>\n",
       "  <tbody>\n",
       "    <tr>\n",
       "      <th>0</th>\n",
       "      <td>{'Identifier': 'TEXT_QnA_News_01', 'name': '뉴스...</td>\n",
       "      <td>[{'doc_id': '01100201.20210225173715002', 'doc...</td>\n",
       "    </tr>\n",
       "  </tbody>\n",
       "</table>\n",
       "</div>"
      ],
      "text/plain": [
       "                                             Dataset  \\\n",
       "0  {'Identifier': 'TEXT_QnA_News_01', 'name': '뉴스...   \n",
       "\n",
       "                                                data  \n",
       "0  [{'doc_id': '01100201.20210225173715002', 'doc...  "
      ]
     },
     "execution_count": 15,
     "metadata": {},
     "output_type": "execute_result"
    }
   ],
   "source": [
    "with open('/Users/lhs/Desktop/GitHub/NLP_pjt/data/train/label/TL_unanswerable.json', 'r', encoding='utf-8') as vs_jsonfile2:\n",
    "    data = json.load(vs_jsonfile2)\n",
    "df_vs2 = pd.DataFrame([data])\n",
    "df_vs2.head()"
   ]
  },
  {
   "cell_type": "code",
   "execution_count": 16,
   "id": "7a608543",
   "metadata": {},
   "outputs": [
    {
     "data": {
      "text/html": [
       "<div>\n",
       "<style scoped>\n",
       "    .dataframe tbody tr th:only-of-type {\n",
       "        vertical-align: middle;\n",
       "    }\n",
       "\n",
       "    .dataframe tbody tr th {\n",
       "        vertical-align: top;\n",
       "    }\n",
       "\n",
       "    .dataframe thead th {\n",
       "        text-align: right;\n",
       "    }\n",
       "</style>\n",
       "<table border=\"1\" class=\"dataframe\">\n",
       "  <thead>\n",
       "    <tr style=\"text-align: right;\">\n",
       "      <th></th>\n",
       "      <th>Dataset</th>\n",
       "      <th>data</th>\n",
       "    </tr>\n",
       "  </thead>\n",
       "  <tbody>\n",
       "    <tr>\n",
       "      <th>0</th>\n",
       "      <td>{'Identifier': 'TEXT_QnA_News_01', 'name': '뉴스...</td>\n",
       "      <td>[{'doc_id': '01100201.20210225173715002', 'doc...</td>\n",
       "    </tr>\n",
       "  </tbody>\n",
       "</table>\n",
       "</div>"
      ],
      "text/plain": [
       "                                             Dataset  \\\n",
       "0  {'Identifier': 'TEXT_QnA_News_01', 'name': '뉴스...   \n",
       "\n",
       "                                                data  \n",
       "0  [{'doc_id': '01100201.20210225173715002', 'doc...  "
      ]
     },
     "execution_count": 16,
     "metadata": {},
     "output_type": "execute_result"
    }
   ],
   "source": [
    "with open('/Users/lhs/Desktop/GitHub/NLP_pjt/data/train/label/TL_unanswerable.json', 'r', encoding='utf-8') as vs_jsonfile3:\n",
    "    data = json.load(vs_jsonfile3)\n",
    "df_vs3 = pd.DataFrame([data])\n",
    "df_vs3.head()"
   ]
  },
  {
   "cell_type": "code",
   "execution_count": 17,
   "id": "f242beb6",
   "metadata": {},
   "outputs": [
    {
     "data": {
      "text/html": [
       "<div>\n",
       "<style scoped>\n",
       "    .dataframe tbody tr th:only-of-type {\n",
       "        vertical-align: middle;\n",
       "    }\n",
       "\n",
       "    .dataframe tbody tr th {\n",
       "        vertical-align: top;\n",
       "    }\n",
       "\n",
       "    .dataframe thead th {\n",
       "        text-align: right;\n",
       "    }\n",
       "</style>\n",
       "<table border=\"1\" class=\"dataframe\">\n",
       "  <thead>\n",
       "    <tr style=\"text-align: right;\">\n",
       "      <th></th>\n",
       "      <th>Dataset</th>\n",
       "      <th>data</th>\n",
       "    </tr>\n",
       "  </thead>\n",
       "  <tbody>\n",
       "    <tr>\n",
       "      <th>0</th>\n",
       "      <td>{'Identifier': 'TEXT_QnA_News_01', 'name': '뉴스...</td>\n",
       "      <td>[{'doc_id': '01100201.20210225173715002', 'doc...</td>\n",
       "    </tr>\n",
       "  </tbody>\n",
       "</table>\n",
       "</div>"
      ],
      "text/plain": [
       "                                             Dataset  \\\n",
       "0  {'Identifier': 'TEXT_QnA_News_01', 'name': '뉴스...   \n",
       "\n",
       "                                                data  \n",
       "0  [{'doc_id': '01100201.20210225173715002', 'doc...  "
      ]
     },
     "execution_count": 17,
     "metadata": {},
     "output_type": "execute_result"
    }
   ],
   "source": [
    "with open('/Users/lhs/Desktop/GitHub/NLP_pjt/data/train/label/TL_unanswerable.json', 'r', encoding='utf-8') as vs_jsonfile4:\n",
    "    data = json.load(vs_jsonfile4)\n",
    "df_vs4 = pd.DataFrame([data])\n",
    "df_vs4.head()"
   ]
  },
  {
   "cell_type": "markdown",
   "id": "8ed925a7",
   "metadata": {},
   "source": [
    "## train label data 2개의 오류는 json 파일에서 직접 수정해 주었다"
   ]
  },
  {
   "cell_type": "code",
   "execution_count": 18,
   "id": "31814b11",
   "metadata": {
    "scrolled": true
   },
   "outputs": [
    {
     "data": {
      "text/html": [
       "<div>\n",
       "<style scoped>\n",
       "    .dataframe tbody tr th:only-of-type {\n",
       "        vertical-align: middle;\n",
       "    }\n",
       "\n",
       "    .dataframe tbody tr th {\n",
       "        vertical-align: top;\n",
       "    }\n",
       "\n",
       "    .dataframe thead th {\n",
       "        text-align: right;\n",
       "    }\n",
       "</style>\n",
       "<table border=\"1\" class=\"dataframe\">\n",
       "  <thead>\n",
       "    <tr style=\"text-align: right;\">\n",
       "      <th></th>\n",
       "      <th>Identifier</th>\n",
       "      <th>name</th>\n",
       "      <th>src_path</th>\n",
       "      <th>label_path</th>\n",
       "      <th>category</th>\n",
       "      <th>type</th>\n",
       "    </tr>\n",
       "  </thead>\n",
       "  <tbody>\n",
       "    <tr>\n",
       "      <th>0</th>\n",
       "      <td>TEXT_QnA_News_01</td>\n",
       "      <td>뉴스기사 대상 기계독해 데이터</td>\n",
       "      <td>/dataSet/text/</td>\n",
       "      <td>/dataSet/text/</td>\n",
       "      <td>2</td>\n",
       "      <td>0</td>\n",
       "    </tr>\n",
       "  </tbody>\n",
       "</table>\n",
       "</div>"
      ],
      "text/plain": [
       "         Identifier              name        src_path      label_path  \\\n",
       "0  TEXT_QnA_News_01  뉴스기사 대상 기계독해 데이터  /dataSet/text/  /dataSet/text/   \n",
       "\n",
       "   category  type  \n",
       "0         2     0  "
      ]
     },
     "execution_count": 18,
     "metadata": {},
     "output_type": "execute_result"
    }
   ],
   "source": [
    "from pandas import json_normalize\n",
    "\n",
    "json_normalize(df_tl1['Dataset'])"
   ]
  },
  {
   "cell_type": "code",
   "execution_count": 25,
   "id": "46a61929",
   "metadata": {},
   "outputs": [
    {
     "data": {
      "text/plain": [
       "1"
      ]
     },
     "execution_count": 25,
     "metadata": {},
     "output_type": "execute_result"
    }
   ],
   "source": []
  },
  {
   "cell_type": "code",
   "execution_count": 27,
   "id": "cf9883e6",
   "metadata": {},
   "outputs": [],
   "source": [
    "test = json_normalize(df_tl1['data'][0])"
   ]
  },
  {
   "cell_type": "code",
   "execution_count": 33,
   "id": "6a58ba29",
   "metadata": {},
   "outputs": [
    {
     "data": {
      "text/plain": [
       "[{'context': '새만금개발청(청장 양충모)이 오는 5월 24일까지 새만금 권역에서 생산한 재생에너지를 기반으로 새만금형 RE100 사업을 실현할 첨단 제조기업을 공모한다. \\n\\n새만금형 RE100 사업은 새만금 국가산단 내에 입주할 제조기업이 새만금 권역에서 직접 생산된 재생에너지를 이용하는 것으로, 물리적으로 인접한 한 곳에서 재생에너지가 생산되고 소비되는 산업생태계가 국내 최초로 새만금에 구축된다. \\n\\n이번 공모는 지난해 7월 발표된 한국판 뉴딜 종합계획에 발맞춰 미래지향적으로 탄소 중립을 실현하고, 새만금 스마트 그린 산단 정책을 선도적으로 이끄는 첨단 제조기업을 유치하기 위해 마련됐다. \\n\\n참여를 희망하는 사업자는 첨단업종의 제조기업으로서 RE100을 이행해야 하며, 3000억 원 이상을 투자하고 300명 이상을 상시 고용해야 한다. \\n\\n새만금개발청은 이번 사업을 통해 대규모의 첨단 제조기업을 유치하여 지역경제를 활성화하고, RE100 캠페인 참여 기업들을 육성함으로써 새만금 국가산단이 스마트 그린 산단으로 자리매김할 수 있을 것으로 기대하고 있다. \\n\\n은 “이번 사업이 새만금 국가산단을 미래지향적 탄소 중립 중심지로서 입지를 다질 수 있는 마중물이 될 것으로 기대한다”면서 “새만금 국가산단에 입주한 기업들이 RE100을 실현하는 기업의 성공 모델이 될 수 있도록 제도개선과 지원을 아끼지 않겠다”고 밝혔다.',\n",
       "  'qas': [{'qa_type': 1,\n",
       "    'question_id': 4559314,\n",
       "    'question': '새만금형 사업에 참여하는 기업이 투자하는 금액은 얼마야',\n",
       "    'is_impossible': False,\n",
       "    'answers': {'text': '3000억 원 이상',\n",
       "     'answer_start': 372,\n",
       "     'clue_start': None,\n",
       "     'clue_text': None,\n",
       "     'options': None}},\n",
       "   {'qa_type': 1,\n",
       "    'question_id': 4690384,\n",
       "    'question': '어느 정도의 비용을 회사들이 새만금형 사업에 참가하게 되면서 들이려고 해',\n",
       "    'is_impossible': False,\n",
       "    'answers': {'text': '3000억 원 이상',\n",
       "     'answer_start': 372,\n",
       "     'clue_start': None,\n",
       "     'clue_text': None,\n",
       "     'options': None}}],\n",
       "  'context_id': 464147}]"
      ]
     },
     "execution_count": 33,
     "metadata": {},
     "output_type": "execute_result"
    }
   ],
   "source": [
    "test.loc[16].paragraphs"
   ]
  },
  {
   "cell_type": "code",
   "execution_count": 20,
   "id": "3dad6bf0",
   "metadata": {},
   "outputs": [
    {
     "ename": "NameError",
     "evalue": "name 'df' is not defined",
     "output_type": "error",
     "traceback": [
      "\u001b[0;31m---------------------------------------------------------------------------\u001b[0m",
      "\u001b[0;31mNameError\u001b[0m                                 Traceback (most recent call last)",
      "Input \u001b[0;32mIn [20]\u001b[0m, in \u001b[0;36m<cell line: 1>\u001b[0;34m()\u001b[0m\n\u001b[0;32m----> 1\u001b[0m json_normalize(\u001b[43mdf\u001b[49m[\u001b[38;5;124m'\u001b[39m\u001b[38;5;124mDataset\u001b[39m\u001b[38;5;124m'\u001b[39m])\n",
      "\u001b[0;31mNameError\u001b[0m: name 'df' is not defined"
     ]
    }
   ],
   "source": [
    "json_normalize(df['Dataset'])"
   ]
  },
  {
   "cell_type": "code",
   "execution_count": null,
   "id": "096e99f1",
   "metadata": {},
   "outputs": [],
   "source": [
    "json_normalize(df_s.data[0])"
   ]
  },
  {
   "cell_type": "code",
   "execution_count": null,
   "id": "330202bc",
   "metadata": {},
   "outputs": [],
   "source": [
    "json_normalize(df.data[0])"
   ]
  },
  {
   "cell_type": "code",
   "execution_count": null,
   "id": "fb0f3fa1",
   "metadata": {},
   "outputs": [],
   "source": []
  }
 ],
 "metadata": {
  "kernelspec": {
   "display_name": "Python 3 (ipykernel)",
   "language": "python",
   "name": "python3"
  },
  "language_info": {
   "codemirror_mode": {
    "name": "ipython",
    "version": 3
   },
   "file_extension": ".py",
   "mimetype": "text/x-python",
   "name": "python",
   "nbconvert_exporter": "python",
   "pygments_lexer": "ipython3",
   "version": "3.8.13"
  },
  "vscode": {
   "interpreter": {
    "hash": "31f2aee4e71d21fbe5cf8b01ff0e069b9275f58929596ceb00d14d90e3e16cd6"
   }
  }
 },
 "nbformat": 4,
 "nbformat_minor": 5
}
