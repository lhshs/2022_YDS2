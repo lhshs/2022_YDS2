{
 "cells": [
  {
   "cell_type": "code",
   "execution_count": 1,
   "id": "26b4cfdc",
   "metadata": {
    "ExecuteTime": {
     "end_time": "2022-08-01T06:25:56.234396Z",
     "start_time": "2022-08-01T06:25:56.027697Z"
    }
   },
   "outputs": [],
   "source": [
    "import pandas as pd\n",
    "import numpy as np\n",
    "\n",
    "from tqdm import tqdm\n",
    "import time"
   ]
  },
  {
   "cell_type": "code",
   "execution_count": 2,
   "id": "f1a31af8",
   "metadata": {
    "ExecuteTime": {
     "end_time": "2022-08-01T06:26:00.658401Z",
     "start_time": "2022-08-01T06:25:56.235437Z"
    }
   },
   "outputs": [],
   "source": [
    "df = pd.read_csv('df_final.csv', index_col = 0).reset_index().drop(columns='index')"
   ]
  },
  {
   "cell_type": "code",
   "execution_count": 3,
   "id": "8f921382",
   "metadata": {
    "ExecuteTime": {
     "end_time": "2022-08-01T06:26:00.667753Z",
     "start_time": "2022-08-01T06:26:00.659393Z"
    }
   },
   "outputs": [
    {
     "data": {
      "text/html": [
       "<div>\n",
       "<style scoped>\n",
       "    .dataframe tbody tr th:only-of-type {\n",
       "        vertical-align: middle;\n",
       "    }\n",
       "\n",
       "    .dataframe tbody tr th {\n",
       "        vertical-align: top;\n",
       "    }\n",
       "\n",
       "    .dataframe thead th {\n",
       "        text-align: right;\n",
       "    }\n",
       "</style>\n",
       "<table border=\"1\" class=\"dataframe\">\n",
       "  <thead>\n",
       "    <tr style=\"text-align: right;\">\n",
       "      <th></th>\n",
       "      <th>언론사</th>\n",
       "      <th>날짜</th>\n",
       "      <th>제목</th>\n",
       "    </tr>\n",
       "  </thead>\n",
       "  <tbody>\n",
       "    <tr>\n",
       "      <th>0</th>\n",
       "      <td>연합뉴스</td>\n",
       "      <td>1998.05.20.</td>\n",
       "      <td>주가 사흘째 상승세</td>\n",
       "    </tr>\n",
       "    <tr>\n",
       "      <th>1</th>\n",
       "      <td>연합뉴스</td>\n",
       "      <td>1998.05.20.</td>\n",
       "      <td>아남텔레콤, PDA 데이터 전송서비스 개시</td>\n",
       "    </tr>\n",
       "    <tr>\n",
       "      <th>2</th>\n",
       "      <td>연합뉴스</td>\n",
       "      <td>1998.05.20.</td>\n",
       "      <td>&lt;회전목마&gt; 삼성전자, 사이버 사외보 제작</td>\n",
       "    </tr>\n",
       "    <tr>\n",
       "      <th>3</th>\n",
       "      <td>연합뉴스</td>\n",
       "      <td>1998.05.20.</td>\n",
       "      <td>&lt;주식시황&gt; 사흘째 상승, 3백70선 다가서</td>\n",
       "    </tr>\n",
       "    <tr>\n",
       "      <th>4</th>\n",
       "      <td>연합뉴스</td>\n",
       "      <td>1998.05.20.</td>\n",
       "      <td>-춘계승마- 신창무,싼졸쥬마장마술 우승</td>\n",
       "    </tr>\n",
       "    <tr>\n",
       "      <th>...</th>\n",
       "      <td>...</td>\n",
       "      <td>...</td>\n",
       "      <td>...</td>\n",
       "    </tr>\n",
       "    <tr>\n",
       "      <th>3851965</th>\n",
       "      <td>한국경제</td>\n",
       "      <td>2022.07.21.</td>\n",
       "      <td>디지털이미지뱅크, 한투등 3개사서 20억원 투자 유치</td>\n",
       "    </tr>\n",
       "    <tr>\n",
       "      <th>3851966</th>\n",
       "      <td>한국경제</td>\n",
       "      <td>2022.07.21.</td>\n",
       "      <td>[코스닥공시] 세보기계</td>\n",
       "    </tr>\n",
       "    <tr>\n",
       "      <th>3851967</th>\n",
       "      <td>한국경제</td>\n",
       "      <td>2022.07.21.</td>\n",
       "      <td>전자.통신업체 신용등급도 급상승세</td>\n",
       "    </tr>\n",
       "    <tr>\n",
       "      <th>3851968</th>\n",
       "      <td>한국경제</td>\n",
       "      <td>2022.07.21.</td>\n",
       "      <td>종합주가 폭락세, 916.01(-37.21) 전장마감</td>\n",
       "    </tr>\n",
       "    <tr>\n",
       "      <th>3851969</th>\n",
       "      <td>한국경제</td>\n",
       "      <td>2022.07.21.</td>\n",
       "      <td>산자부, 수치제어장치 산.학.연 공동연구 개발에 성공</td>\n",
       "    </tr>\n",
       "  </tbody>\n",
       "</table>\n",
       "<p>3851970 rows × 3 columns</p>\n",
       "</div>"
      ],
      "text/plain": [
       "          언론사           날짜                             제목\n",
       "0        연합뉴스  1998.05.20.                     주가 사흘째 상승세\n",
       "1        연합뉴스  1998.05.20.        아남텔레콤, PDA 데이터 전송서비스 개시\n",
       "2        연합뉴스  1998.05.20.        <회전목마> 삼성전자, 사이버 사외보 제작\n",
       "3        연합뉴스  1998.05.20.       <주식시황> 사흘째 상승, 3백70선 다가서\n",
       "4        연합뉴스  1998.05.20.          -춘계승마- 신창무,싼졸쥬마장마술 우승\n",
       "...       ...          ...                            ...\n",
       "3851965  한국경제  2022.07.21.  디지털이미지뱅크, 한투등 3개사서 20억원 투자 유치\n",
       "3851966  한국경제  2022.07.21.                   [코스닥공시] 세보기계\n",
       "3851967  한국경제  2022.07.21.             전자.통신업체 신용등급도 급상승세\n",
       "3851968  한국경제  2022.07.21.  종합주가 폭락세, 916.01(-37.21) 전장마감\n",
       "3851969  한국경제  2022.07.21.  산자부, 수치제어장치 산.학.연 공동연구 개발에 성공\n",
       "\n",
       "[3851970 rows x 3 columns]"
      ]
     },
     "execution_count": 3,
     "metadata": {},
     "output_type": "execute_result"
    }
   ],
   "source": [
    "df"
   ]
  },
  {
   "cell_type": "code",
   "execution_count": 4,
   "id": "dd747634",
   "metadata": {
    "ExecuteTime": {
     "end_time": "2022-08-01T06:26:00.671891Z",
     "start_time": "2022-08-01T06:26:00.669453Z"
    }
   },
   "outputs": [],
   "source": [
    "# df = df.set_index(['날짜'])"
   ]
  },
  {
   "cell_type": "code",
   "execution_count": 5,
   "id": "aeafc5ef",
   "metadata": {
    "ExecuteTime": {
     "end_time": "2022-08-01T06:26:00.675447Z",
     "start_time": "2022-08-01T06:26:00.673913Z"
    },
    "scrolled": true
   },
   "outputs": [],
   "source": [
    "# df = df.groupby('날짜').apply(print)"
   ]
  },
  {
   "cell_type": "code",
   "execution_count": 6,
   "id": "7cb5b500",
   "metadata": {
    "ExecuteTime": {
     "end_time": "2022-08-01T06:26:00.677609Z",
     "start_time": "2022-08-01T06:26:00.676287Z"
    }
   },
   "outputs": [],
   "source": [
    "# df"
   ]
  },
  {
   "cell_type": "markdown",
   "id": "d0358a79",
   "metadata": {},
   "source": [
    "## 날짜 변환"
   ]
  },
  {
   "cell_type": "code",
   "execution_count": 7,
   "id": "d041e87a",
   "metadata": {
    "ExecuteTime": {
     "end_time": "2022-08-01T06:26:01.639592Z",
     "start_time": "2022-08-01T06:26:00.678281Z"
    }
   },
   "outputs": [
    {
     "data": {
      "text/html": [
       "<div>\n",
       "<style scoped>\n",
       "    .dataframe tbody tr th:only-of-type {\n",
       "        vertical-align: middle;\n",
       "    }\n",
       "\n",
       "    .dataframe tbody tr th {\n",
       "        vertical-align: top;\n",
       "    }\n",
       "\n",
       "    .dataframe thead th {\n",
       "        text-align: right;\n",
       "    }\n",
       "</style>\n",
       "<table border=\"1\" class=\"dataframe\">\n",
       "  <thead>\n",
       "    <tr style=\"text-align: right;\">\n",
       "      <th></th>\n",
       "      <th>언론사</th>\n",
       "      <th>날짜</th>\n",
       "      <th>제목</th>\n",
       "    </tr>\n",
       "  </thead>\n",
       "  <tbody>\n",
       "    <tr>\n",
       "      <th>0</th>\n",
       "      <td>연합뉴스</td>\n",
       "      <td>1998.05.20.</td>\n",
       "      <td>주가 사흘째 상승세</td>\n",
       "    </tr>\n",
       "    <tr>\n",
       "      <th>1</th>\n",
       "      <td>연합뉴스</td>\n",
       "      <td>1998.05.20.</td>\n",
       "      <td>아남텔레콤, PDA 데이터 전송서비스 개시</td>\n",
       "    </tr>\n",
       "    <tr>\n",
       "      <th>2</th>\n",
       "      <td>연합뉴스</td>\n",
       "      <td>1998.05.20.</td>\n",
       "      <td>&lt;회전목마&gt; 삼성전자, 사이버 사외보 제작</td>\n",
       "    </tr>\n",
       "    <tr>\n",
       "      <th>3</th>\n",
       "      <td>연합뉴스</td>\n",
       "      <td>1998.05.20.</td>\n",
       "      <td>&lt;주식시황&gt; 사흘째 상승, 3백70선 다가서</td>\n",
       "    </tr>\n",
       "    <tr>\n",
       "      <th>4</th>\n",
       "      <td>연합뉴스</td>\n",
       "      <td>1998.05.20.</td>\n",
       "      <td>-춘계승마- 신창무,싼졸쥬마장마술 우승</td>\n",
       "    </tr>\n",
       "    <tr>\n",
       "      <th>...</th>\n",
       "      <td>...</td>\n",
       "      <td>...</td>\n",
       "      <td>...</td>\n",
       "    </tr>\n",
       "    <tr>\n",
       "      <th>3851965</th>\n",
       "      <td>한국경제</td>\n",
       "      <td>2022.07.21.</td>\n",
       "      <td>디지털이미지뱅크, 한투등 3개사서 20억원 투자 유치</td>\n",
       "    </tr>\n",
       "    <tr>\n",
       "      <th>3851966</th>\n",
       "      <td>한국경제</td>\n",
       "      <td>2022.07.21.</td>\n",
       "      <td>[코스닥공시] 세보기계</td>\n",
       "    </tr>\n",
       "    <tr>\n",
       "      <th>3851967</th>\n",
       "      <td>한국경제</td>\n",
       "      <td>2022.07.21.</td>\n",
       "      <td>전자.통신업체 신용등급도 급상승세</td>\n",
       "    </tr>\n",
       "    <tr>\n",
       "      <th>3851968</th>\n",
       "      <td>한국경제</td>\n",
       "      <td>2022.07.21.</td>\n",
       "      <td>종합주가 폭락세, 916.01(-37.21) 전장마감</td>\n",
       "    </tr>\n",
       "    <tr>\n",
       "      <th>3851969</th>\n",
       "      <td>한국경제</td>\n",
       "      <td>2022.07.21.</td>\n",
       "      <td>산자부, 수치제어장치 산.학.연 공동연구 개발에 성공</td>\n",
       "    </tr>\n",
       "  </tbody>\n",
       "</table>\n",
       "<p>3851970 rows × 3 columns</p>\n",
       "</div>"
      ],
      "text/plain": [
       "          언론사           날짜                             제목\n",
       "0        연합뉴스  1998.05.20.                     주가 사흘째 상승세\n",
       "1        연합뉴스  1998.05.20.        아남텔레콤, PDA 데이터 전송서비스 개시\n",
       "2        연합뉴스  1998.05.20.        <회전목마> 삼성전자, 사이버 사외보 제작\n",
       "3        연합뉴스  1998.05.20.       <주식시황> 사흘째 상승, 3백70선 다가서\n",
       "4        연합뉴스  1998.05.20.          -춘계승마- 신창무,싼졸쥬마장마술 우승\n",
       "...       ...          ...                            ...\n",
       "3851965  한국경제  2022.07.21.  디지털이미지뱅크, 한투등 3개사서 20억원 투자 유치\n",
       "3851966  한국경제  2022.07.21.                   [코스닥공시] 세보기계\n",
       "3851967  한국경제  2022.07.21.             전자.통신업체 신용등급도 급상승세\n",
       "3851968  한국경제  2022.07.21.  종합주가 폭락세, 916.01(-37.21) 전장마감\n",
       "3851969  한국경제  2022.07.21.  산자부, 수치제어장치 산.학.연 공동연구 개발에 성공\n",
       "\n",
       "[3851970 rows x 3 columns]"
      ]
     },
     "execution_count": 7,
     "metadata": {},
     "output_type": "execute_result"
    }
   ],
   "source": [
    "# 199, 200, 201, 202 를 포함하지 않는 날짜값들 NaN 처리\n",
    "\n",
    "df.loc[df[\"날짜\"].str.contains('199|200|201|202')==False, '날짜'] = np.nan\n",
    "df"
   ]
  },
  {
   "cell_type": "code",
   "execution_count": 8,
   "id": "d5758f14",
   "metadata": {
    "ExecuteTime": {
     "end_time": "2022-08-01T06:26:02.389938Z",
     "start_time": "2022-08-01T06:26:01.640361Z"
    }
   },
   "outputs": [
    {
     "name": "stderr",
     "output_type": "stream",
     "text": [
      "/var/folders/1d/lfkpl6ps02xgh0rdprtbmgvw0000gn/T/ipykernel_2442/1982639406.py:1: FutureWarning: null_counts is deprecated. Use show_counts instead\n",
      "  df.info(null_counts=True)\n"
     ]
    },
    {
     "name": "stdout",
     "output_type": "stream",
     "text": [
      "<class 'pandas.core.frame.DataFrame'>\n",
      "RangeIndex: 3851970 entries, 0 to 3851969\n",
      "Data columns (total 3 columns):\n",
      " #   Column  Non-Null Count    Dtype \n",
      "---  ------  --------------    ----- \n",
      " 0   언론사     3851970 non-null  object\n",
      " 1   날짜      3560705 non-null  object\n",
      " 2   제목      3851970 non-null  object\n",
      "dtypes: object(3)\n",
      "memory usage: 88.2+ MB\n"
     ]
    }
   ],
   "source": [
    "df.info(null_counts=True)"
   ]
  },
  {
   "cell_type": "code",
   "execution_count": 9,
   "id": "8ff562c9",
   "metadata": {
    "ExecuteTime": {
     "end_time": "2022-08-01T06:26:03.183110Z",
     "start_time": "2022-08-01T06:26:02.390886Z"
    }
   },
   "outputs": [
    {
     "data": {
      "text/html": [
       "<div>\n",
       "<style scoped>\n",
       "    .dataframe tbody tr th:only-of-type {\n",
       "        vertical-align: middle;\n",
       "    }\n",
       "\n",
       "    .dataframe tbody tr th {\n",
       "        vertical-align: top;\n",
       "    }\n",
       "\n",
       "    .dataframe thead th {\n",
       "        text-align: right;\n",
       "    }\n",
       "</style>\n",
       "<table border=\"1\" class=\"dataframe\">\n",
       "  <thead>\n",
       "    <tr style=\"text-align: right;\">\n",
       "      <th></th>\n",
       "      <th>언론사</th>\n",
       "      <th>날짜</th>\n",
       "      <th>제목</th>\n",
       "    </tr>\n",
       "  </thead>\n",
       "  <tbody>\n",
       "    <tr>\n",
       "      <th>0</th>\n",
       "      <td>연합뉴스</td>\n",
       "      <td>1998.05.20.</td>\n",
       "      <td>주가 사흘째 상승세</td>\n",
       "    </tr>\n",
       "    <tr>\n",
       "      <th>1</th>\n",
       "      <td>연합뉴스</td>\n",
       "      <td>1998.05.20.</td>\n",
       "      <td>아남텔레콤, PDA 데이터 전송서비스 개시</td>\n",
       "    </tr>\n",
       "    <tr>\n",
       "      <th>2</th>\n",
       "      <td>연합뉴스</td>\n",
       "      <td>1998.05.20.</td>\n",
       "      <td>&lt;회전목마&gt; 삼성전자, 사이버 사외보 제작</td>\n",
       "    </tr>\n",
       "    <tr>\n",
       "      <th>3</th>\n",
       "      <td>연합뉴스</td>\n",
       "      <td>1998.05.20.</td>\n",
       "      <td>&lt;주식시황&gt; 사흘째 상승, 3백70선 다가서</td>\n",
       "    </tr>\n",
       "    <tr>\n",
       "      <th>4</th>\n",
       "      <td>연합뉴스</td>\n",
       "      <td>1998.05.20.</td>\n",
       "      <td>-춘계승마- 신창무,싼졸쥬마장마술 우승</td>\n",
       "    </tr>\n",
       "    <tr>\n",
       "      <th>...</th>\n",
       "      <td>...</td>\n",
       "      <td>...</td>\n",
       "      <td>...</td>\n",
       "    </tr>\n",
       "    <tr>\n",
       "      <th>3851965</th>\n",
       "      <td>한국경제</td>\n",
       "      <td>2022.07.21.</td>\n",
       "      <td>디지털이미지뱅크, 한투등 3개사서 20억원 투자 유치</td>\n",
       "    </tr>\n",
       "    <tr>\n",
       "      <th>3851966</th>\n",
       "      <td>한국경제</td>\n",
       "      <td>2022.07.21.</td>\n",
       "      <td>[코스닥공시] 세보기계</td>\n",
       "    </tr>\n",
       "    <tr>\n",
       "      <th>3851967</th>\n",
       "      <td>한국경제</td>\n",
       "      <td>2022.07.21.</td>\n",
       "      <td>전자.통신업체 신용등급도 급상승세</td>\n",
       "    </tr>\n",
       "    <tr>\n",
       "      <th>3851968</th>\n",
       "      <td>한국경제</td>\n",
       "      <td>2022.07.21.</td>\n",
       "      <td>종합주가 폭락세, 916.01(-37.21) 전장마감</td>\n",
       "    </tr>\n",
       "    <tr>\n",
       "      <th>3851969</th>\n",
       "      <td>한국경제</td>\n",
       "      <td>2022.07.21.</td>\n",
       "      <td>산자부, 수치제어장치 산.학.연 공동연구 개발에 성공</td>\n",
       "    </tr>\n",
       "  </tbody>\n",
       "</table>\n",
       "<p>3851970 rows × 3 columns</p>\n",
       "</div>"
      ],
      "text/plain": [
       "          언론사           날짜                             제목\n",
       "0        연합뉴스  1998.05.20.                     주가 사흘째 상승세\n",
       "1        연합뉴스  1998.05.20.        아남텔레콤, PDA 데이터 전송서비스 개시\n",
       "2        연합뉴스  1998.05.20.        <회전목마> 삼성전자, 사이버 사외보 제작\n",
       "3        연합뉴스  1998.05.20.       <주식시황> 사흘째 상승, 3백70선 다가서\n",
       "4        연합뉴스  1998.05.20.          -춘계승마- 신창무,싼졸쥬마장마술 우승\n",
       "...       ...          ...                            ...\n",
       "3851965  한국경제  2022.07.21.  디지털이미지뱅크, 한투등 3개사서 20억원 투자 유치\n",
       "3851966  한국경제  2022.07.21.                   [코스닥공시] 세보기계\n",
       "3851967  한국경제  2022.07.21.             전자.통신업체 신용등급도 급상승세\n",
       "3851968  한국경제  2022.07.21.  종합주가 폭락세, 916.01(-37.21) 전장마감\n",
       "3851969  한국경제  2022.07.21.  산자부, 수치제어장치 산.학.연 공동연구 개발에 성공\n",
       "\n",
       "[3851970 rows x 3 columns]"
      ]
     },
     "execution_count": 9,
     "metadata": {},
     "output_type": "execute_result"
    }
   ],
   "source": [
    "# NaN값 앞 데이터로 채우기\n",
    "df.fillna(method='ffill', inplace=True)\n",
    "df"
   ]
  },
  {
   "cell_type": "code",
   "execution_count": 10,
   "id": "719e90ca",
   "metadata": {
    "ExecuteTime": {
     "end_time": "2022-08-01T06:26:03.941373Z",
     "start_time": "2022-08-01T06:26:03.183915Z"
    }
   },
   "outputs": [
    {
     "name": "stderr",
     "output_type": "stream",
     "text": [
      "/var/folders/1d/lfkpl6ps02xgh0rdprtbmgvw0000gn/T/ipykernel_2442/1982639406.py:1: FutureWarning: null_counts is deprecated. Use show_counts instead\n",
      "  df.info(null_counts=True)\n"
     ]
    },
    {
     "name": "stdout",
     "output_type": "stream",
     "text": [
      "<class 'pandas.core.frame.DataFrame'>\n",
      "RangeIndex: 3851970 entries, 0 to 3851969\n",
      "Data columns (total 3 columns):\n",
      " #   Column  Non-Null Count    Dtype \n",
      "---  ------  --------------    ----- \n",
      " 0   언론사     3851970 non-null  object\n",
      " 1   날짜      3851970 non-null  object\n",
      " 2   제목      3851970 non-null  object\n",
      "dtypes: object(3)\n",
      "memory usage: 88.2+ MB\n"
     ]
    }
   ],
   "source": [
    "df.info(null_counts=True)"
   ]
  },
  {
   "cell_type": "code",
   "execution_count": 11,
   "id": "5428edec",
   "metadata": {
    "ExecuteTime": {
     "end_time": "2022-08-01T06:26:06.440984Z",
     "start_time": "2022-08-01T06:26:05.794551Z"
    }
   },
   "outputs": [
    {
     "name": "stderr",
     "output_type": "stream",
     "text": [
      "/var/folders/1d/lfkpl6ps02xgh0rdprtbmgvw0000gn/T/ipykernel_2442/851316727.py:3: FutureWarning: The default value of regex will change from True to False in a future version. In addition, single character regular expressions will *not* be treated as literal strings when regex=True.\n",
      "  df[\"날짜\"] = df[\"날짜\"].str.replace(\".\", \"-\")\n"
     ]
    }
   ],
   "source": [
    "# 혹시 모를 날짜 형식이 아닌 숫자값 확인\n",
    "\n",
    "df[\"날짜\"] = df[\"날짜\"].str.replace(\".\", \"-\") \n",
    "# df.날짜.astype(int).sort_values()"
   ]
  },
  {
   "cell_type": "code",
   "execution_count": 12,
   "id": "711481ab",
   "metadata": {
    "ExecuteTime": {
     "end_time": "2022-08-01T06:29:51.348091Z",
     "start_time": "2022-08-01T06:26:14.841471Z"
    }
   },
   "outputs": [
    {
     "name": "stderr",
     "output_type": "stream",
     "text": [
      "100%|██████████████████████████████| 3851970/3851970 [03:36<00:00, 17794.39it/s]\n"
     ]
    }
   ],
   "source": [
    "for i in tqdm(range(3851970)):\n",
    "    df.날짜[i] = df.날짜[i].rstrip('-')"
   ]
  },
  {
   "cell_type": "code",
   "execution_count": 34,
   "id": "6fdc4950",
   "metadata": {
    "ExecuteTime": {
     "end_time": "2022-08-01T06:46:19.755224Z",
     "start_time": "2022-08-01T06:46:15.213417Z"
    }
   },
   "outputs": [
    {
     "data": {
      "text/html": [
       "<div>\n",
       "<style scoped>\n",
       "    .dataframe tbody tr th:only-of-type {\n",
       "        vertical-align: middle;\n",
       "    }\n",
       "\n",
       "    .dataframe tbody tr th {\n",
       "        vertical-align: top;\n",
       "    }\n",
       "\n",
       "    .dataframe thead th {\n",
       "        text-align: right;\n",
       "    }\n",
       "</style>\n",
       "<table border=\"1\" class=\"dataframe\">\n",
       "  <thead>\n",
       "    <tr style=\"text-align: right;\">\n",
       "      <th></th>\n",
       "      <th>언론사</th>\n",
       "      <th>날짜</th>\n",
       "      <th>제목</th>\n",
       "    </tr>\n",
       "  </thead>\n",
       "  <tbody>\n",
       "    <tr>\n",
       "      <th>0</th>\n",
       "      <td>연합뉴스</td>\n",
       "      <td>1998-05-20</td>\n",
       "      <td>주가 사흘째 상승세</td>\n",
       "    </tr>\n",
       "    <tr>\n",
       "      <th>1</th>\n",
       "      <td>연합뉴스</td>\n",
       "      <td>1998-05-20</td>\n",
       "      <td>아남텔레콤, PDA 데이터 전송서비스 개시</td>\n",
       "    </tr>\n",
       "    <tr>\n",
       "      <th>2</th>\n",
       "      <td>연합뉴스</td>\n",
       "      <td>1998-05-20</td>\n",
       "      <td>&lt;회전목마&gt; 삼성전자, 사이버 사외보 제작</td>\n",
       "    </tr>\n",
       "    <tr>\n",
       "      <th>3</th>\n",
       "      <td>연합뉴스</td>\n",
       "      <td>1998-05-20</td>\n",
       "      <td>&lt;주식시황&gt; 사흘째 상승, 3백70선 다가서</td>\n",
       "    </tr>\n",
       "    <tr>\n",
       "      <th>4</th>\n",
       "      <td>연합뉴스</td>\n",
       "      <td>1998-05-20</td>\n",
       "      <td>-춘계승마- 신창무,싼졸쥬마장마술 우승</td>\n",
       "    </tr>\n",
       "    <tr>\n",
       "      <th>...</th>\n",
       "      <td>...</td>\n",
       "      <td>...</td>\n",
       "      <td>...</td>\n",
       "    </tr>\n",
       "    <tr>\n",
       "      <th>3851965</th>\n",
       "      <td>한국경제</td>\n",
       "      <td>2022-07-21</td>\n",
       "      <td>디지털이미지뱅크, 한투등 3개사서 20억원 투자 유치</td>\n",
       "    </tr>\n",
       "    <tr>\n",
       "      <th>3851966</th>\n",
       "      <td>한국경제</td>\n",
       "      <td>2022-07-21</td>\n",
       "      <td>[코스닥공시] 세보기계</td>\n",
       "    </tr>\n",
       "    <tr>\n",
       "      <th>3851967</th>\n",
       "      <td>한국경제</td>\n",
       "      <td>2022-07-21</td>\n",
       "      <td>전자.통신업체 신용등급도 급상승세</td>\n",
       "    </tr>\n",
       "    <tr>\n",
       "      <th>3851968</th>\n",
       "      <td>한국경제</td>\n",
       "      <td>2022-07-21</td>\n",
       "      <td>종합주가 폭락세, 916.01(-37.21) 전장마감</td>\n",
       "    </tr>\n",
       "    <tr>\n",
       "      <th>3851969</th>\n",
       "      <td>한국경제</td>\n",
       "      <td>2022-07-21</td>\n",
       "      <td>산자부, 수치제어장치 산.학.연 공동연구 개발에 성공</td>\n",
       "    </tr>\n",
       "  </tbody>\n",
       "</table>\n",
       "<p>3851970 rows × 3 columns</p>\n",
       "</div>"
      ],
      "text/plain": [
       "          언론사          날짜                             제목\n",
       "0        연합뉴스  1998-05-20                     주가 사흘째 상승세\n",
       "1        연합뉴스  1998-05-20        아남텔레콤, PDA 데이터 전송서비스 개시\n",
       "2        연합뉴스  1998-05-20        <회전목마> 삼성전자, 사이버 사외보 제작\n",
       "3        연합뉴스  1998-05-20       <주식시황> 사흘째 상승, 3백70선 다가서\n",
       "4        연합뉴스  1998-05-20          -춘계승마- 신창무,싼졸쥬마장마술 우승\n",
       "...       ...         ...                            ...\n",
       "3851965  한국경제  2022-07-21  디지털이미지뱅크, 한투등 3개사서 20억원 투자 유치\n",
       "3851966  한국경제  2022-07-21                   [코스닥공시] 세보기계\n",
       "3851967  한국경제  2022-07-21             전자.통신업체 신용등급도 급상승세\n",
       "3851968  한국경제  2022-07-21  종합주가 폭락세, 916.01(-37.21) 전장마감\n",
       "3851969  한국경제  2022-07-21  산자부, 수치제어장치 산.학.연 공동연구 개발에 성공\n",
       "\n",
       "[3851970 rows x 3 columns]"
      ]
     },
     "execution_count": 34,
     "metadata": {},
     "output_type": "execute_result"
    }
   ],
   "source": [
    "df_ = pd.read_csv('df_final_Date_refine.csv', index_col = 0).reset_index().drop(columns='index')\n",
    "df_"
   ]
  },
  {
   "cell_type": "code",
   "execution_count": 43,
   "id": "2c40635b",
   "metadata": {
    "ExecuteTime": {
     "end_time": "2022-08-01T06:54:14.329901Z",
     "start_time": "2022-08-01T06:50:20.085401Z"
    }
   },
   "outputs": [
    {
     "name": "stderr",
     "output_type": "stream",
     "text": [
      "100%|██████████████████████████████| 3851970/3851970 [03:54<00:00, 16444.65it/s]\n"
     ]
    }
   ],
   "source": [
    "# 기사 합했을 때 앞과 뒤 텍스트 붙는 것 방지 (공백 1칸 추가)\n",
    "\n",
    "for i in tqdm(range(3851970)):\n",
    "    df_.제목[i] = df_.제목[i].ljust(len(df_.제목[i])+1)"
   ]
  },
  {
   "cell_type": "code",
   "execution_count": 50,
   "id": "784d3d9e",
   "metadata": {
    "ExecuteTime": {
     "end_time": "2022-08-01T06:56:58.764892Z",
     "start_time": "2022-08-01T06:56:58.747385Z"
    }
   },
   "outputs": [
    {
     "data": {
      "text/html": [
       "<div>\n",
       "<style scoped>\n",
       "    .dataframe tbody tr th:only-of-type {\n",
       "        vertical-align: middle;\n",
       "    }\n",
       "\n",
       "    .dataframe tbody tr th {\n",
       "        vertical-align: top;\n",
       "    }\n",
       "\n",
       "    .dataframe thead th {\n",
       "        text-align: right;\n",
       "    }\n",
       "</style>\n",
       "<table border=\"1\" class=\"dataframe\">\n",
       "  <thead>\n",
       "    <tr style=\"text-align: right;\">\n",
       "      <th></th>\n",
       "      <th>언론사</th>\n",
       "      <th>날짜</th>\n",
       "      <th>제목</th>\n",
       "    </tr>\n",
       "  </thead>\n",
       "  <tbody>\n",
       "    <tr>\n",
       "      <th>0</th>\n",
       "      <td>연합뉴스</td>\n",
       "      <td>1998-05-20</td>\n",
       "      <td>주가 사흘째 상승세</td>\n",
       "    </tr>\n",
       "    <tr>\n",
       "      <th>1</th>\n",
       "      <td>연합뉴스</td>\n",
       "      <td>1998-05-20</td>\n",
       "      <td>아남텔레콤, PDA 데이터 전송서비스 개시</td>\n",
       "    </tr>\n",
       "    <tr>\n",
       "      <th>2</th>\n",
       "      <td>연합뉴스</td>\n",
       "      <td>1998-05-20</td>\n",
       "      <td>&lt;회전목마&gt; 삼성전자, 사이버 사외보 제작</td>\n",
       "    </tr>\n",
       "    <tr>\n",
       "      <th>3</th>\n",
       "      <td>연합뉴스</td>\n",
       "      <td>1998-05-20</td>\n",
       "      <td>&lt;주식시황&gt; 사흘째 상승, 3백70선 다가서</td>\n",
       "    </tr>\n",
       "    <tr>\n",
       "      <th>4</th>\n",
       "      <td>연합뉴스</td>\n",
       "      <td>1998-05-20</td>\n",
       "      <td>-춘계승마- 신창무,싼졸쥬마장마술 우승</td>\n",
       "    </tr>\n",
       "    <tr>\n",
       "      <th>...</th>\n",
       "      <td>...</td>\n",
       "      <td>...</td>\n",
       "      <td>...</td>\n",
       "    </tr>\n",
       "    <tr>\n",
       "      <th>3851965</th>\n",
       "      <td>한국경제</td>\n",
       "      <td>2022-07-21</td>\n",
       "      <td>디지털이미지뱅크, 한투등 3개사서 20억원 투자 유치</td>\n",
       "    </tr>\n",
       "    <tr>\n",
       "      <th>3851966</th>\n",
       "      <td>한국경제</td>\n",
       "      <td>2022-07-21</td>\n",
       "      <td>[코스닥공시] 세보기계</td>\n",
       "    </tr>\n",
       "    <tr>\n",
       "      <th>3851967</th>\n",
       "      <td>한국경제</td>\n",
       "      <td>2022-07-21</td>\n",
       "      <td>전자.통신업체 신용등급도 급상승세</td>\n",
       "    </tr>\n",
       "    <tr>\n",
       "      <th>3851968</th>\n",
       "      <td>한국경제</td>\n",
       "      <td>2022-07-21</td>\n",
       "      <td>종합주가 폭락세, 916.01(-37.21) 전장마감</td>\n",
       "    </tr>\n",
       "    <tr>\n",
       "      <th>3851969</th>\n",
       "      <td>한국경제</td>\n",
       "      <td>2022-07-21</td>\n",
       "      <td>산자부, 수치제어장치 산.학.연 공동연구 개발에 성공</td>\n",
       "    </tr>\n",
       "  </tbody>\n",
       "</table>\n",
       "<p>3851970 rows × 3 columns</p>\n",
       "</div>"
      ],
      "text/plain": [
       "          언론사          날짜                              제목\n",
       "0        연합뉴스  1998-05-20                     주가 사흘째 상승세 \n",
       "1        연합뉴스  1998-05-20        아남텔레콤, PDA 데이터 전송서비스 개시 \n",
       "2        연합뉴스  1998-05-20        <회전목마> 삼성전자, 사이버 사외보 제작 \n",
       "3        연합뉴스  1998-05-20       <주식시황> 사흘째 상승, 3백70선 다가서 \n",
       "4        연합뉴스  1998-05-20          -춘계승마- 신창무,싼졸쥬마장마술 우승 \n",
       "...       ...         ...                             ...\n",
       "3851965  한국경제  2022-07-21  디지털이미지뱅크, 한투등 3개사서 20억원 투자 유치 \n",
       "3851966  한국경제  2022-07-21                   [코스닥공시] 세보기계 \n",
       "3851967  한국경제  2022-07-21             전자.통신업체 신용등급도 급상승세 \n",
       "3851968  한국경제  2022-07-21  종합주가 폭락세, 916.01(-37.21) 전장마감 \n",
       "3851969  한국경제  2022-07-21  산자부, 수치제어장치 산.학.연 공동연구 개발에 성공 \n",
       "\n",
       "[3851970 rows x 3 columns]"
      ]
     },
     "execution_count": 50,
     "metadata": {},
     "output_type": "execute_result"
    }
   ],
   "source": [
    "df_"
   ]
  },
  {
   "cell_type": "code",
   "execution_count": 53,
   "id": "476dda07",
   "metadata": {
    "ExecuteTime": {
     "end_time": "2022-08-01T06:58:06.501404Z",
     "start_time": "2022-08-01T06:57:59.703060Z"
    }
   },
   "outputs": [],
   "source": [
    "df_.to_csv('df_final_Date_refine_add_blank.csv')"
   ]
  },
  {
   "cell_type": "code",
   "execution_count": 35,
   "id": "ce8d4192",
   "metadata": {
    "ExecuteTime": {
     "end_time": "2022-08-01T06:46:31.683645Z",
     "start_time": "2022-08-01T06:46:31.678102Z"
    }
   },
   "outputs": [
    {
     "data": {
      "text/plain": [
       "'주가 사흘째 상승세 '"
      ]
     },
     "execution_count": 35,
     "metadata": {},
     "output_type": "execute_result"
    }
   ],
   "source": [
    "# df_.제목[0].ljust(len(df_.제목[0])+1)"
   ]
  },
  {
   "cell_type": "code",
   "execution_count": 52,
   "id": "3972fccd",
   "metadata": {
    "ExecuteTime": {
     "end_time": "2022-08-01T06:57:25.407403Z",
     "start_time": "2022-08-01T06:57:25.402485Z"
    }
   },
   "outputs": [
    {
     "data": {
      "text/plain": [
       "'주가 대폭락, 증시공황 우려감 팽배 '"
      ]
     },
     "execution_count": 52,
     "metadata": {},
     "output_type": "execute_result"
    }
   ],
   "source": [
    "df_.제목[30]"
   ]
  },
  {
   "cell_type": "code",
   "execution_count": null,
   "id": "8957c56c",
   "metadata": {},
   "outputs": [],
   "source": []
  }
 ],
 "metadata": {
  "kernelspec": {
   "display_name": "Python 3 (ipykernel)",
   "language": "python",
   "name": "python3"
  },
  "language_info": {
   "codemirror_mode": {
    "name": "ipython",
    "version": 3
   },
   "file_extension": ".py",
   "mimetype": "text/x-python",
   "name": "python",
   "nbconvert_exporter": "python",
   "pygments_lexer": "ipython3",
   "version": "3.8.13"
  },
  "toc": {
   "base_numbering": 1,
   "nav_menu": {},
   "number_sections": false,
   "sideBar": true,
   "skip_h1_title": false,
   "title_cell": "Table of Contents",
   "title_sidebar": "Contents",
   "toc_cell": false,
   "toc_position": {},
   "toc_section_display": true,
   "toc_window_display": false
  }
 },
 "nbformat": 4,
 "nbformat_minor": 5
}
