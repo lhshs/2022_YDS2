{
 "cells": [
  {
   "cell_type": "code",
   "execution_count": 1,
   "id": "e0416c58",
   "metadata": {
    "ExecuteTime": {
     "end_time": "2022-07-29T08:43:15.167323Z",
     "start_time": "2022-07-29T08:43:14.936838Z"
    }
   },
   "outputs": [],
   "source": [
    "import pandas as pd\n",
    "import numpy as np"
   ]
  },
  {
   "cell_type": "code",
   "execution_count": 2,
   "id": "9d5d83fc",
   "metadata": {
    "ExecuteTime": {
     "end_time": "2022-07-29T08:43:17.265033Z",
     "start_time": "2022-07-29T08:43:15.203500Z"
    }
   },
   "outputs": [],
   "source": [
    "ex = pd.read_csv('/Users/lhs2/Desktop/GitHub/NLP_pjt/data(concat)/2017_2022.csv', index_col=0).reset_index().drop(columns='index')\n"
   ]
  },
  {
   "cell_type": "code",
   "execution_count": 3,
   "id": "812f7dd8",
   "metadata": {
    "ExecuteTime": {
     "end_time": "2022-07-29T08:43:17.273674Z",
     "start_time": "2022-07-29T08:43:17.266152Z"
    }
   },
   "outputs": [
    {
     "data": {
      "text/html": [
       "<div>\n",
       "<style scoped>\n",
       "    .dataframe tbody tr th:only-of-type {\n",
       "        vertical-align: middle;\n",
       "    }\n",
       "\n",
       "    .dataframe tbody tr th {\n",
       "        vertical-align: top;\n",
       "    }\n",
       "\n",
       "    .dataframe thead th {\n",
       "        text-align: right;\n",
       "    }\n",
       "</style>\n",
       "<table border=\"1\" class=\"dataframe\">\n",
       "  <thead>\n",
       "    <tr style=\"text-align: right;\">\n",
       "      <th></th>\n",
       "      <th>언론사</th>\n",
       "      <th>날짜</th>\n",
       "      <th>제목</th>\n",
       "    </tr>\n",
       "  </thead>\n",
       "  <tbody>\n",
       "    <tr>\n",
       "      <th>0</th>\n",
       "      <td>아주경제</td>\n",
       "      <td>2017.01.01.</td>\n",
       "      <td>특검,문형표 구속에 새해 첫날 안종범 재소환..삼성 합병에 박근혜 역할 집중...</td>\n",
       "    </tr>\n",
       "    <tr>\n",
       "      <th>1</th>\n",
       "      <td>중앙SUNDAY</td>\n",
       "      <td>2017.01.01.</td>\n",
       "      <td>1308조원</td>\n",
       "    </tr>\n",
       "    <tr>\n",
       "      <th>2</th>\n",
       "      <td>IT조선</td>\n",
       "      <td>2017.01.01.</td>\n",
       "      <td>[2017 스마트폰 트렌드] ①스마트폰 시장 ‘흐림’ 전망...탈출구 있나</td>\n",
       "    </tr>\n",
       "    <tr>\n",
       "      <th>3</th>\n",
       "      <td>전자신문</td>\n",
       "      <td>33면 1단</td>\n",
       "      <td>[신년기획]인공지능, 올해 경쟁력 확보 원년</td>\n",
       "    </tr>\n",
       "    <tr>\n",
       "      <th>4</th>\n",
       "      <td>EBN</td>\n",
       "      <td>2017.01.01.</td>\n",
       "      <td>[주간증시전망] CES發 IT섹터 관심 다양화·삼성전자 실적 발표 등 대장주 상...</td>\n",
       "    </tr>\n",
       "    <tr>\n",
       "      <th>...</th>\n",
       "      <td>...</td>\n",
       "      <td>...</td>\n",
       "      <td>...</td>\n",
       "    </tr>\n",
       "    <tr>\n",
       "      <th>1713557</th>\n",
       "      <td>한국경제</td>\n",
       "      <td>2022.07.21.</td>\n",
       "      <td>디지털이미지뱅크, 한투등 3개사서 20억원 투자 유치</td>\n",
       "    </tr>\n",
       "    <tr>\n",
       "      <th>1713558</th>\n",
       "      <td>한국경제</td>\n",
       "      <td>2022.07.21.</td>\n",
       "      <td>[코스닥공시] 세보기계</td>\n",
       "    </tr>\n",
       "    <tr>\n",
       "      <th>1713559</th>\n",
       "      <td>한국경제</td>\n",
       "      <td>2022.07.21.</td>\n",
       "      <td>전자.통신업체 신용등급도 급상승세</td>\n",
       "    </tr>\n",
       "    <tr>\n",
       "      <th>1713560</th>\n",
       "      <td>한국경제</td>\n",
       "      <td>2022.07.21.</td>\n",
       "      <td>종합주가 폭락세, 916.01(-37.21) 전장마감</td>\n",
       "    </tr>\n",
       "    <tr>\n",
       "      <th>1713561</th>\n",
       "      <td>한국경제</td>\n",
       "      <td>2022.07.21.</td>\n",
       "      <td>산자부, 수치제어장치 산.학.연 공동연구 개발에 성공</td>\n",
       "    </tr>\n",
       "  </tbody>\n",
       "</table>\n",
       "<p>1713562 rows × 3 columns</p>\n",
       "</div>"
      ],
      "text/plain": [
       "              언론사           날짜  \\\n",
       "0            아주경제  2017.01.01.   \n",
       "1        중앙SUNDAY  2017.01.01.   \n",
       "2            IT조선  2017.01.01.   \n",
       "3            전자신문       33면 1단   \n",
       "4             EBN  2017.01.01.   \n",
       "...           ...          ...   \n",
       "1713557      한국경제  2022.07.21.   \n",
       "1713558      한국경제  2022.07.21.   \n",
       "1713559      한국경제  2022.07.21.   \n",
       "1713560      한국경제  2022.07.21.   \n",
       "1713561      한국경제  2022.07.21.   \n",
       "\n",
       "                                                      제목  \n",
       "0          특검,문형표 구속에 새해 첫날 안종범 재소환..삼성 합병에 박근혜 역할 집중...  \n",
       "1                                                 1308조원  \n",
       "2              [2017 스마트폰 트렌드] ①스마트폰 시장 ‘흐림’ 전망...탈출구 있나  \n",
       "3                               [신년기획]인공지능, 올해 경쟁력 확보 원년  \n",
       "4        [주간증시전망] CES發 IT섹터 관심 다양화·삼성전자 실적 발표 등 대장주 상...  \n",
       "...                                                  ...  \n",
       "1713557                    디지털이미지뱅크, 한투등 3개사서 20억원 투자 유치  \n",
       "1713558                                     [코스닥공시] 세보기계  \n",
       "1713559                               전자.통신업체 신용등급도 급상승세  \n",
       "1713560                    종합주가 폭락세, 916.01(-37.21) 전장마감  \n",
       "1713561                    산자부, 수치제어장치 산.학.연 공동연구 개발에 성공  \n",
       "\n",
       "[1713562 rows x 3 columns]"
      ]
     },
     "execution_count": 3,
     "metadata": {},
     "output_type": "execute_result"
    }
   ],
   "source": [
    "ex"
   ]
  },
  {
   "cell_type": "code",
   "execution_count": 4,
   "id": "14b5cd5d",
   "metadata": {
    "ExecuteTime": {
     "end_time": "2022-07-29T08:43:34.142301Z",
     "start_time": "2022-07-29T08:43:33.668943Z"
    }
   },
   "outputs": [
    {
     "data": {
      "text/html": [
       "<div>\n",
       "<style scoped>\n",
       "    .dataframe tbody tr th:only-of-type {\n",
       "        vertical-align: middle;\n",
       "    }\n",
       "\n",
       "    .dataframe tbody tr th {\n",
       "        vertical-align: top;\n",
       "    }\n",
       "\n",
       "    .dataframe thead th {\n",
       "        text-align: right;\n",
       "    }\n",
       "</style>\n",
       "<table border=\"1\" class=\"dataframe\">\n",
       "  <thead>\n",
       "    <tr style=\"text-align: right;\">\n",
       "      <th></th>\n",
       "      <th>언론사</th>\n",
       "      <th>날짜</th>\n",
       "      <th>제목</th>\n",
       "    </tr>\n",
       "  </thead>\n",
       "  <tbody>\n",
       "    <tr>\n",
       "      <th>0</th>\n",
       "      <td>아주경제</td>\n",
       "      <td>2017.01.01.</td>\n",
       "      <td>특검,문형표 구속에 새해 첫날 안종범 재소환..삼성 합병에 박근혜 역할 집중...</td>\n",
       "    </tr>\n",
       "    <tr>\n",
       "      <th>1</th>\n",
       "      <td>중앙SUNDAY</td>\n",
       "      <td>2017.01.01.</td>\n",
       "      <td>1308조원</td>\n",
       "    </tr>\n",
       "    <tr>\n",
       "      <th>2</th>\n",
       "      <td>IT조선</td>\n",
       "      <td>2017.01.01.</td>\n",
       "      <td>[2017 스마트폰 트렌드] ①스마트폰 시장 ‘흐림’ 전망...탈출구 있나</td>\n",
       "    </tr>\n",
       "    <tr>\n",
       "      <th>3</th>\n",
       "      <td>전자신문</td>\n",
       "      <td>NaN</td>\n",
       "      <td>[신년기획]인공지능, 올해 경쟁력 확보 원년</td>\n",
       "    </tr>\n",
       "    <tr>\n",
       "      <th>4</th>\n",
       "      <td>EBN</td>\n",
       "      <td>2017.01.01.</td>\n",
       "      <td>[주간증시전망] CES發 IT섹터 관심 다양화·삼성전자 실적 발표 등 대장주 상...</td>\n",
       "    </tr>\n",
       "    <tr>\n",
       "      <th>...</th>\n",
       "      <td>...</td>\n",
       "      <td>...</td>\n",
       "      <td>...</td>\n",
       "    </tr>\n",
       "    <tr>\n",
       "      <th>1713557</th>\n",
       "      <td>한국경제</td>\n",
       "      <td>2022.07.21.</td>\n",
       "      <td>디지털이미지뱅크, 한투등 3개사서 20억원 투자 유치</td>\n",
       "    </tr>\n",
       "    <tr>\n",
       "      <th>1713558</th>\n",
       "      <td>한국경제</td>\n",
       "      <td>2022.07.21.</td>\n",
       "      <td>[코스닥공시] 세보기계</td>\n",
       "    </tr>\n",
       "    <tr>\n",
       "      <th>1713559</th>\n",
       "      <td>한국경제</td>\n",
       "      <td>2022.07.21.</td>\n",
       "      <td>전자.통신업체 신용등급도 급상승세</td>\n",
       "    </tr>\n",
       "    <tr>\n",
       "      <th>1713560</th>\n",
       "      <td>한국경제</td>\n",
       "      <td>2022.07.21.</td>\n",
       "      <td>종합주가 폭락세, 916.01(-37.21) 전장마감</td>\n",
       "    </tr>\n",
       "    <tr>\n",
       "      <th>1713561</th>\n",
       "      <td>한국경제</td>\n",
       "      <td>2022.07.21.</td>\n",
       "      <td>산자부, 수치제어장치 산.학.연 공동연구 개발에 성공</td>\n",
       "    </tr>\n",
       "  </tbody>\n",
       "</table>\n",
       "<p>1713562 rows × 3 columns</p>\n",
       "</div>"
      ],
      "text/plain": [
       "              언론사           날짜  \\\n",
       "0            아주경제  2017.01.01.   \n",
       "1        중앙SUNDAY  2017.01.01.   \n",
       "2            IT조선  2017.01.01.   \n",
       "3            전자신문          NaN   \n",
       "4             EBN  2017.01.01.   \n",
       "...           ...          ...   \n",
       "1713557      한국경제  2022.07.21.   \n",
       "1713558      한국경제  2022.07.21.   \n",
       "1713559      한국경제  2022.07.21.   \n",
       "1713560      한국경제  2022.07.21.   \n",
       "1713561      한국경제  2022.07.21.   \n",
       "\n",
       "                                                      제목  \n",
       "0          특검,문형표 구속에 새해 첫날 안종범 재소환..삼성 합병에 박근혜 역할 집중...  \n",
       "1                                                 1308조원  \n",
       "2              [2017 스마트폰 트렌드] ①스마트폰 시장 ‘흐림’ 전망...탈출구 있나  \n",
       "3                               [신년기획]인공지능, 올해 경쟁력 확보 원년  \n",
       "4        [주간증시전망] CES發 IT섹터 관심 다양화·삼성전자 실적 발표 등 대장주 상...  \n",
       "...                                                  ...  \n",
       "1713557                    디지털이미지뱅크, 한투등 3개사서 20억원 투자 유치  \n",
       "1713558                                     [코스닥공시] 세보기계  \n",
       "1713559                               전자.통신업체 신용등급도 급상승세  \n",
       "1713560                    종합주가 폭락세, 916.01(-37.21) 전장마감  \n",
       "1713561                    산자부, 수치제어장치 산.학.연 공동연구 개발에 성공  \n",
       "\n",
       "[1713562 rows x 3 columns]"
      ]
     },
     "execution_count": 4,
     "metadata": {},
     "output_type": "execute_result"
    }
   ],
   "source": [
    "# 날짜 데이터에 들어있는 데이터 중에 년도 관련을(199 or 200 or 201 or 202) 포함하지 않는 데이터 추출\n",
    "\n",
    "ex.loc[ex[\"날짜\"].str.contains('199|200|201|202')==False, '날짜'] = np.nan\n",
    "ex\n",
    "#ex  #[:50]"
   ]
  },
  {
   "cell_type": "code",
   "execution_count": 5,
   "id": "59b28074",
   "metadata": {
    "ExecuteTime": {
     "end_time": "2022-07-29T08:43:36.434864Z",
     "start_time": "2022-07-29T08:43:36.035908Z"
    }
   },
   "outputs": [
    {
     "data": {
      "text/html": [
       "<div>\n",
       "<style scoped>\n",
       "    .dataframe tbody tr th:only-of-type {\n",
       "        vertical-align: middle;\n",
       "    }\n",
       "\n",
       "    .dataframe tbody tr th {\n",
       "        vertical-align: top;\n",
       "    }\n",
       "\n",
       "    .dataframe thead th {\n",
       "        text-align: right;\n",
       "    }\n",
       "</style>\n",
       "<table border=\"1\" class=\"dataframe\">\n",
       "  <thead>\n",
       "    <tr style=\"text-align: right;\">\n",
       "      <th></th>\n",
       "      <th>언론사</th>\n",
       "      <th>날짜</th>\n",
       "      <th>제목</th>\n",
       "    </tr>\n",
       "  </thead>\n",
       "  <tbody>\n",
       "    <tr>\n",
       "      <th>0</th>\n",
       "      <td>아주경제</td>\n",
       "      <td>2017.01.01.</td>\n",
       "      <td>특검,문형표 구속에 새해 첫날 안종범 재소환..삼성 합병에 박근혜 역할 집중...</td>\n",
       "    </tr>\n",
       "    <tr>\n",
       "      <th>1</th>\n",
       "      <td>중앙SUNDAY</td>\n",
       "      <td>2017.01.01.</td>\n",
       "      <td>1308조원</td>\n",
       "    </tr>\n",
       "    <tr>\n",
       "      <th>2</th>\n",
       "      <td>IT조선</td>\n",
       "      <td>2017.01.01.</td>\n",
       "      <td>[2017 스마트폰 트렌드] ①스마트폰 시장 ‘흐림’ 전망...탈출구 있나</td>\n",
       "    </tr>\n",
       "    <tr>\n",
       "      <th>3</th>\n",
       "      <td>전자신문</td>\n",
       "      <td>2017.01.01.</td>\n",
       "      <td>[신년기획]인공지능, 올해 경쟁력 확보 원년</td>\n",
       "    </tr>\n",
       "    <tr>\n",
       "      <th>4</th>\n",
       "      <td>EBN</td>\n",
       "      <td>2017.01.01.</td>\n",
       "      <td>[주간증시전망] CES發 IT섹터 관심 다양화·삼성전자 실적 발표 등 대장주 상...</td>\n",
       "    </tr>\n",
       "    <tr>\n",
       "      <th>...</th>\n",
       "      <td>...</td>\n",
       "      <td>...</td>\n",
       "      <td>...</td>\n",
       "    </tr>\n",
       "    <tr>\n",
       "      <th>1713557</th>\n",
       "      <td>한국경제</td>\n",
       "      <td>2022.07.21.</td>\n",
       "      <td>디지털이미지뱅크, 한투등 3개사서 20억원 투자 유치</td>\n",
       "    </tr>\n",
       "    <tr>\n",
       "      <th>1713558</th>\n",
       "      <td>한국경제</td>\n",
       "      <td>2022.07.21.</td>\n",
       "      <td>[코스닥공시] 세보기계</td>\n",
       "    </tr>\n",
       "    <tr>\n",
       "      <th>1713559</th>\n",
       "      <td>한국경제</td>\n",
       "      <td>2022.07.21.</td>\n",
       "      <td>전자.통신업체 신용등급도 급상승세</td>\n",
       "    </tr>\n",
       "    <tr>\n",
       "      <th>1713560</th>\n",
       "      <td>한국경제</td>\n",
       "      <td>2022.07.21.</td>\n",
       "      <td>종합주가 폭락세, 916.01(-37.21) 전장마감</td>\n",
       "    </tr>\n",
       "    <tr>\n",
       "      <th>1713561</th>\n",
       "      <td>한국경제</td>\n",
       "      <td>2022.07.21.</td>\n",
       "      <td>산자부, 수치제어장치 산.학.연 공동연구 개발에 성공</td>\n",
       "    </tr>\n",
       "  </tbody>\n",
       "</table>\n",
       "<p>1713562 rows × 3 columns</p>\n",
       "</div>"
      ],
      "text/plain": [
       "              언론사           날짜  \\\n",
       "0            아주경제  2017.01.01.   \n",
       "1        중앙SUNDAY  2017.01.01.   \n",
       "2            IT조선  2017.01.01.   \n",
       "3            전자신문  2017.01.01.   \n",
       "4             EBN  2017.01.01.   \n",
       "...           ...          ...   \n",
       "1713557      한국경제  2022.07.21.   \n",
       "1713558      한국경제  2022.07.21.   \n",
       "1713559      한국경제  2022.07.21.   \n",
       "1713560      한국경제  2022.07.21.   \n",
       "1713561      한국경제  2022.07.21.   \n",
       "\n",
       "                                                      제목  \n",
       "0          특검,문형표 구속에 새해 첫날 안종범 재소환..삼성 합병에 박근혜 역할 집중...  \n",
       "1                                                 1308조원  \n",
       "2              [2017 스마트폰 트렌드] ①스마트폰 시장 ‘흐림’ 전망...탈출구 있나  \n",
       "3                               [신년기획]인공지능, 올해 경쟁력 확보 원년  \n",
       "4        [주간증시전망] CES發 IT섹터 관심 다양화·삼성전자 실적 발표 등 대장주 상...  \n",
       "...                                                  ...  \n",
       "1713557                    디지털이미지뱅크, 한투등 3개사서 20억원 투자 유치  \n",
       "1713558                                     [코스닥공시] 세보기계  \n",
       "1713559                               전자.통신업체 신용등급도 급상승세  \n",
       "1713560                    종합주가 폭락세, 916.01(-37.21) 전장마감  \n",
       "1713561                    산자부, 수치제어장치 산.학.연 공동연구 개발에 성공  \n",
       "\n",
       "[1713562 rows x 3 columns]"
      ]
     },
     "execution_count": 5,
     "metadata": {},
     "output_type": "execute_result"
    }
   ],
   "source": [
    "ex.fillna(method='ffill', inplace=True)\n",
    "ex"
   ]
  },
  {
   "cell_type": "code",
   "execution_count": 6,
   "id": "2f177055",
   "metadata": {
    "ExecuteTime": {
     "end_time": "2022-07-29T08:43:40.539577Z",
     "start_time": "2022-07-29T08:43:40.202854Z"
    },
    "scrolled": true
   },
   "outputs": [
    {
     "name": "stderr",
     "output_type": "stream",
     "text": [
      "/var/folders/62/p7jd9w0n1n3d19j8s3z7k3lw0000gp/T/ipykernel_5420/2954090963.py:1: FutureWarning: The default value of regex will change from True to False in a future version. In addition, single character regular expressions will *not* be treated as literal strings when regex=True.\n",
      "  ex[\"날짜\"] = ex[\"날짜\"].str.replace(\".\", \"\")\n"
     ]
    }
   ],
   "source": [
    "ex[\"날짜\"] = ex[\"날짜\"].str.replace(\".\", \"\") "
   ]
  },
  {
   "cell_type": "code",
   "execution_count": 13,
   "id": "90c11c25",
   "metadata": {
    "ExecuteTime": {
     "end_time": "2022-07-29T08:50:19.385056Z",
     "start_time": "2022-07-29T08:50:19.213748Z"
    }
   },
   "outputs": [
    {
     "data": {
      "text/plain": [
       "0          20170101\n",
       "293        20170101\n",
       "292        20170101\n",
       "291        20170101\n",
       "290        20170101\n",
       "             ...   \n",
       "1713114    20220721\n",
       "1713115    20220721\n",
       "1713116    20220721\n",
       "1713108    20220721\n",
       "1713561    20220721\n",
       "Name: 날짜, Length: 1713562, dtype: int64"
      ]
     },
     "execution_count": 13,
     "metadata": {},
     "output_type": "execute_result"
    }
   ],
   "source": [
    "ex.날짜.astype(int).sort_values()"
   ]
  },
  {
   "cell_type": "code",
   "execution_count": null,
   "id": "ebd84c7f",
   "metadata": {
    "ExecuteTime": {
     "end_time": "2022-07-29T08:39:16.086259Z",
     "start_time": "2022-07-29T08:39:16.083291Z"
    }
   },
   "outputs": [],
   "source": [
    "str_ex = \"ssdl-\""
   ]
  },
  {
   "cell_type": "code",
   "execution_count": null,
   "id": "4b56d5f3",
   "metadata": {
    "ExecuteTime": {
     "end_time": "2022-07-29T08:41:27.954715Z",
     "start_time": "2022-07-29T08:41:27.951561Z"
    }
   },
   "outputs": [],
   "source": [
    "str_ex = list(str_ex)"
   ]
  },
  {
   "cell_type": "code",
   "execution_count": null,
   "id": "8580041a",
   "metadata": {
    "ExecuteTime": {
     "end_time": "2022-07-29T08:41:43.144861Z",
     "start_time": "2022-07-29T08:41:43.139940Z"
    }
   },
   "outputs": [],
   "source": [
    "str_ex.pop()"
   ]
  },
  {
   "cell_type": "code",
   "execution_count": null,
   "id": "3d149e20",
   "metadata": {
    "ExecuteTime": {
     "end_time": "2022-07-29T08:41:59.385331Z",
     "start_time": "2022-07-29T08:41:59.380766Z"
    }
   },
   "outputs": [],
   "source": [
    "str_ex.\n",
    "str_ex"
   ]
  },
  {
   "cell_type": "code",
   "execution_count": null,
   "id": "909682d4",
   "metadata": {
    "ExecuteTime": {
     "end_time": "2022-07-29T08:33:41.942862Z",
     "start_time": "2022-07-29T08:33:39.875886Z"
    }
   },
   "outputs": [],
   "source": [
    "# 날짜 데이터에서 들어있는 텍스트값 NAN값 처리\n",
    "\n",
    "ex[\"날짜\"] = ex[\"날짜\"].str.replace(\"(\\w+|\\W+)(\\s+)(\\w+|\\W+)\", \"\") \n",
    "ex[\"날짜\"].replace(\"\", np.nan, inplace=True)"
   ]
  },
  {
   "cell_type": "code",
   "execution_count": null,
   "id": "5c9aa421",
   "metadata": {
    "ExecuteTime": {
     "end_time": "2022-07-29T08:34:14.723550Z",
     "start_time": "2022-07-29T08:34:14.343157Z"
    }
   },
   "outputs": [],
   "source": [
    "ex.info(null_counts=True)"
   ]
  },
  {
   "cell_type": "code",
   "execution_count": null,
   "id": "92c1bf23",
   "metadata": {
    "ExecuteTime": {
     "end_time": "2022-07-29T08:08:48.196733Z",
     "start_time": "2022-07-29T08:08:47.822017Z"
    }
   },
   "outputs": [],
   "source": [
    "ex.info(null_counts=True)"
   ]
  },
  {
   "cell_type": "code",
   "execution_count": null,
   "id": "a1237552",
   "metadata": {
    "ExecuteTime": {
     "end_time": "2022-07-29T08:08:50.372519Z",
     "start_time": "2022-07-29T08:08:49.827350Z"
    }
   },
   "outputs": [],
   "source": [
    "ex[ex[\"날짜\"].str.contains('199|200|201|202')==False][:100]"
   ]
  },
  {
   "cell_type": "code",
   "execution_count": null,
   "id": "c08f0775",
   "metadata": {
    "ExecuteTime": {
     "end_time": "2022-07-29T08:08:53.826770Z",
     "start_time": "2022-07-29T08:08:53.356663Z"
    }
   },
   "outputs": [],
   "source": [
    "# 다 처리됐는지 확인\n",
    "\n",
    "ex[\"날짜\"] = ex[\"날짜\"].astype(str).str.replace(\"/^[가-힣]+$/\", \"\") # 한글\n",
    "# ex[\"날짜\"] = ex[\"날짜\"].astype(str).str.replace(\"(\\w+)\", \"\") # 문자 또는 숫자\n",
    "# ex[\"날짜\"] = ex[\"날짜\"].astype(str).str.replace(\"\\D+\", \"\")  # 숫자를 제외한 모든 문자 \n",
    "\n",
    "ex[\"날짜\"].replace(\"\", np.nan, inplace=True)"
   ]
  },
  {
   "cell_type": "code",
   "execution_count": null,
   "id": "d3f25931",
   "metadata": {
    "ExecuteTime": {
     "end_time": "2022-07-29T08:08:55.860966Z",
     "start_time": "2022-07-29T08:08:55.511170Z"
    }
   },
   "outputs": [],
   "source": [
    "ex.isnull().sum()"
   ]
  },
  {
   "cell_type": "code",
   "execution_count": null,
   "id": "c6fffd5a",
   "metadata": {
    "ExecuteTime": {
     "end_time": "2022-07-29T08:08:57.289648Z",
     "start_time": "2022-07-29T08:08:56.938892Z"
    }
   },
   "outputs": [],
   "source": [
    "ex.info(null_counts=True)"
   ]
  },
  {
   "cell_type": "code",
   "execution_count": null,
   "id": "51b80309",
   "metadata": {
    "ExecuteTime": {
     "end_time": "2022-07-29T08:08:59.672158Z",
     "start_time": "2022-07-29T08:08:59.172447Z"
    }
   },
   "outputs": [],
   "source": [
    "ex[ex[\"날짜\"].str.contains('199|200|201|202')==False]"
   ]
  },
  {
   "cell_type": "code",
   "execution_count": null,
   "id": "d707d90f",
   "metadata": {
    "ExecuteTime": {
     "end_time": "2022-07-29T07:29:12.012222Z",
     "start_time": "2022-07-29T07:29:12.003186Z"
    }
   },
   "outputs": [],
   "source": [
    "ex[-500:]"
   ]
  },
  {
   "cell_type": "code",
   "execution_count": null,
   "id": "11fb96a6",
   "metadata": {
    "ExecuteTime": {
     "end_time": "2022-07-29T08:09:05.567122Z",
     "start_time": "2022-07-29T08:09:05.190185Z"
    }
   },
   "outputs": [],
   "source": [
    "# 앞 데이터로 NAN값 채우기 fill foward\n",
    "\n",
    "ex.fillna(method='ffill', inplace=True)\n",
    "ex"
   ]
  },
  {
   "cell_type": "code",
   "execution_count": null,
   "id": "deba38be",
   "metadata": {},
   "outputs": [],
   "source": [
    "# FinanceData 모듈과 같은 형식으로 만들기 위해 . -> - 로 바꾸기, finance의 -를 없앨지? 추후 논의\n"
   ]
  },
  {
   "cell_type": "code",
   "execution_count": null,
   "id": "1fe7812b",
   "metadata": {
    "ExecuteTime": {
     "end_time": "2022-07-29T08:35:15.435159Z",
     "start_time": "2022-07-29T08:35:15.311594Z"
    },
    "scrolled": false
   },
   "outputs": [],
   "source": [
    "for i in range(100):\n",
    "    i += 1\n",
    "    print(ex[50*(i-1):50*i])\n",
    "    print('')"
   ]
  },
  {
   "cell_type": "code",
   "execution_count": null,
   "id": "52512c8b",
   "metadata": {},
   "outputs": [],
   "source": []
  }
 ],
 "metadata": {
  "kernelspec": {
   "display_name": "Python 3 (ipykernel)",
   "language": "python",
   "name": "python3"
  },
  "language_info": {
   "codemirror_mode": {
    "name": "ipython",
    "version": 3
   },
   "file_extension": ".py",
   "mimetype": "text/x-python",
   "name": "python",
   "nbconvert_exporter": "python",
   "pygments_lexer": "ipython3",
   "version": "3.8.13"
  },
  "toc": {
   "base_numbering": 1,
   "nav_menu": {},
   "number_sections": false,
   "sideBar": true,
   "skip_h1_title": false,
   "title_cell": "Table of Contents",
   "title_sidebar": "Contents",
   "toc_cell": false,
   "toc_position": {},
   "toc_section_display": true,
   "toc_window_display": false
  }
 },
 "nbformat": 4,
 "nbformat_minor": 5
}
