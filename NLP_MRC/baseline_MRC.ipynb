{
  "cells": [
    {
      "cell_type": "markdown",
      "metadata": {
        "id": "74d0cf9f-03f5-4446-be51-a96049fa0121"
      },
      "source": [
        "# 문서 검색 효율화를 위한 기계독해\n",
        "- 1차 모의경진대회(22.11.14 ~ 22.11.25)\n",
        "- 자연어 기계독해(Machine Reading Comprehension) 과제"
      ],
      "id": "74d0cf9f-03f5-4446-be51-a96049fa0121"
    },
    {
      "cell_type": "markdown",
      "metadata": {
        "id": "NWNHSk-pSskv"
      },
      "source": [
        "## 데이터 구조\n",
        "\n",
        "```\n",
        "$ MRC/\n",
        "├── DATA/\n",
        "│   ├── train.json\n",
        "│   ├── test.json\n",
        "│   └── sample_submission.csv\n",
        "├── prediction.csv (코드 실행 후 생성)\n",
        "├── results/ (코드 실행 후 생성)\n",
        "```"
      ],
      "id": "NWNHSk-pSskv"
    },
    {
      "cell_type": "markdown",
      "metadata": {
        "id": "xidLcL3yK3wm"
      },
      "source": [
        "#0. 사전 준비"
      ],
      "id": "xidLcL3yK3wm"
    },
    {
      "cell_type": "markdown",
      "metadata": {
        "id": "qPmVS-p6K992"
      },
      "source": [
        "##0.1 구글 드라이브 마운트"
      ],
      "id": "qPmVS-p6K992"
    },
    {
      "cell_type": "code",
      "execution_count": 1,
      "metadata": {
        "id": "VHgjTjglFXf8",
        "colab": {
          "base_uri": "https://localhost:8080/"
        },
        "outputId": "f1d93a04-a014-4f09-c18b-c95567061187"
      },
      "outputs": [
        {
          "output_type": "stream",
          "name": "stdout",
          "text": [
            "Mounted at /content/drive\n"
          ]
        }
      ],
      "source": [
        "# 구글 Colaboratory 를 사용하기 위해 구글 계정으로 로그인합니다. \n",
        "from google.colab import drive\n",
        "drive.mount('/content/drive')"
      ],
      "id": "VHgjTjglFXf8"
    },
    {
      "cell_type": "markdown",
      "metadata": {
        "id": "bYuiNxj7LQgH"
      },
      "source": [
        "##0.2 라이브러리 설치"
      ],
      "id": "bYuiNxj7LQgH"
    },
    {
      "cell_type": "code",
      "execution_count": 2,
      "metadata": {
        "id": "OchkeVlBLK_8",
        "colab": {
          "base_uri": "https://localhost:8080/"
        },
        "outputId": "778abeea-7df3-400d-da85-82cc310a6c14"
      },
      "outputs": [
        {
          "output_type": "stream",
          "name": "stdout",
          "text": [
            "Looking in indexes: https://pypi.org/simple, https://us-python.pkg.dev/colab-wheels/public/simple/\n",
            "Collecting transformers\n",
            "  Downloading transformers-4.24.0-py3-none-any.whl (5.5 MB)\n",
            "\u001b[K     |████████████████████████████████| 5.5 MB 25.6 MB/s \n",
            "\u001b[?25hRequirement already satisfied: filelock in /usr/local/lib/python3.7/dist-packages (from transformers) (3.8.0)\n",
            "Requirement already satisfied: requests in /usr/local/lib/python3.7/dist-packages (from transformers) (2.23.0)\n",
            "Collecting tokenizers!=0.11.3,<0.14,>=0.11.1\n",
            "  Downloading tokenizers-0.13.2-cp37-cp37m-manylinux_2_17_x86_64.manylinux2014_x86_64.whl (7.6 MB)\n",
            "\u001b[K     |████████████████████████████████| 7.6 MB 60.4 MB/s \n",
            "\u001b[?25hRequirement already satisfied: regex!=2019.12.17 in /usr/local/lib/python3.7/dist-packages (from transformers) (2022.6.2)\n",
            "Requirement already satisfied: tqdm>=4.27 in /usr/local/lib/python3.7/dist-packages (from transformers) (4.64.1)\n",
            "Requirement already satisfied: pyyaml>=5.1 in /usr/local/lib/python3.7/dist-packages (from transformers) (6.0)\n",
            "Requirement already satisfied: importlib-metadata in /usr/local/lib/python3.7/dist-packages (from transformers) (4.13.0)\n",
            "Collecting huggingface-hub<1.0,>=0.10.0\n",
            "  Downloading huggingface_hub-0.10.1-py3-none-any.whl (163 kB)\n",
            "\u001b[K     |████████████████████████████████| 163 kB 72.9 MB/s \n",
            "\u001b[?25hRequirement already satisfied: packaging>=20.0 in /usr/local/lib/python3.7/dist-packages (from transformers) (21.3)\n",
            "Requirement already satisfied: numpy>=1.17 in /usr/local/lib/python3.7/dist-packages (from transformers) (1.21.6)\n",
            "Requirement already satisfied: typing-extensions>=3.7.4.3 in /usr/local/lib/python3.7/dist-packages (from huggingface-hub<1.0,>=0.10.0->transformers) (4.1.1)\n",
            "Requirement already satisfied: pyparsing!=3.0.5,>=2.0.2 in /usr/local/lib/python3.7/dist-packages (from packaging>=20.0->transformers) (3.0.9)\n",
            "Requirement already satisfied: zipp>=0.5 in /usr/local/lib/python3.7/dist-packages (from importlib-metadata->transformers) (3.10.0)\n",
            "Requirement already satisfied: certifi>=2017.4.17 in /usr/local/lib/python3.7/dist-packages (from requests->transformers) (2022.9.24)\n",
            "Requirement already satisfied: urllib3!=1.25.0,!=1.25.1,<1.26,>=1.21.1 in /usr/local/lib/python3.7/dist-packages (from requests->transformers) (1.24.3)\n",
            "Requirement already satisfied: chardet<4,>=3.0.2 in /usr/local/lib/python3.7/dist-packages (from requests->transformers) (3.0.4)\n",
            "Requirement already satisfied: idna<3,>=2.5 in /usr/local/lib/python3.7/dist-packages (from requests->transformers) (2.10)\n",
            "Installing collected packages: tokenizers, huggingface-hub, transformers\n",
            "Successfully installed huggingface-hub-0.10.1 tokenizers-0.13.2 transformers-4.24.0\n"
          ]
        }
      ],
      "source": [
        "!pip install transformers"
      ],
      "id": "OchkeVlBLK_8"
    },
    {
      "cell_type": "markdown",
      "metadata": {
        "id": "420e527f-ff52-4bb3-a260-565fe2f91e2d"
      },
      "source": [
        "##1. 라이브러리 불러오기"
      ],
      "id": "420e527f-ff52-4bb3-a260-565fe2f91e2d"
    },
    {
      "cell_type": "code",
      "execution_count": 3,
      "metadata": {
        "id": "5b80416a-1082-4ae9-8057-18eb163dfc15"
      },
      "outputs": [],
      "source": [
        "import os\n",
        "import sys\n",
        "import csv\n",
        "import copy\n",
        "import json\n",
        "import random\n",
        "import shutil\n",
        "import numpy as np\n",
        "import pandas as pd\n",
        "from time import time\n",
        "from tqdm import tqdm\n",
        "from sklearn.metrics import accuracy_score\n",
        "from datetime import datetime, timezone, timedelta\n",
        "\n",
        "from transformers import ElectraTokenizerFast\n",
        "from transformers import ElectraForQuestionAnswering\n",
        "\n",
        "import torch\n",
        "import torch.nn as nn\n",
        "import torch.optim as optim\n",
        "from torch.nn import functional as F\n",
        "from torch.utils.data import Dataset\n",
        "from torch.utils.data import DataLoader"
      ],
      "id": "5b80416a-1082-4ae9-8057-18eb163dfc15"
    },
    {
      "cell_type": "markdown",
      "metadata": {
        "id": "e031838b-d5ad-4887-ae60-07ff98a71a0a"
      },
      "source": [
        "##2. 하이퍼파라미터 및 기타 인자 설정"
      ],
      "id": "e031838b-d5ad-4887-ae60-07ff98a71a0a"
    },
    {
      "cell_type": "markdown",
      "metadata": {
        "id": "9e7be91e-9928-453e-8aeb-a6af032b7dcb"
      },
      "source": [
        "###2.1 데이터 경로"
      ],
      "id": "9e7be91e-9928-453e-8aeb-a6af032b7dcb"
    },
    {
      "cell_type": "code",
      "execution_count": 4,
      "metadata": {
        "id": "2bee580a-4c2a-42b4-9f1d-78b8d5e63981"
      },
      "outputs": [],
      "source": [
        "PROJECT_DIR = '/content/drive/MyDrive/YDS/AIConnet_YDS_1/NLP_MRC' # 프로젝트 디렉토리 설정\n",
        "DATA_DIR= '/content/drive/MyDrive/YDS/AIConnet_YDS_1/NLP_MRC/DATA' # 데이터 디렉토리 설정"
      ],
      "id": "2bee580a-4c2a-42b4-9f1d-78b8d5e63981"
    },
    {
      "cell_type": "markdown",
      "metadata": {
        "id": "f923389a-631d-4a17-8542-382fa0d6e68b"
      },
      "source": [
        "###2.2 시드 설정"
      ],
      "id": "f923389a-631d-4a17-8542-382fa0d6e68b"
    },
    {
      "cell_type": "code",
      "execution_count": 5,
      "metadata": {
        "id": "97cb0fc4-cce7-45b7-876d-84d00a32f68c"
      },
      "outputs": [],
      "source": [
        "# 난수 생성기가 항상 일정한 값을 출력하게 하기 위해 seed 고정\n",
        "RANDOM_SEED = 42\n",
        "\n",
        "torch.manual_seed(RANDOM_SEED)\n",
        "torch.backends.cudnn.deterministic = True\n",
        "torch.backends.cudnn.benchmark = False\n",
        "np.random.seed(RANDOM_SEED)\n",
        "random.seed(RANDOM_SEED)"
      ],
      "id": "97cb0fc4-cce7-45b7-876d-84d00a32f68c"
    },
    {
      "cell_type": "markdown",
      "metadata": {
        "id": "88051bcc-8a4e-4552-af85-4fb62d9e2658"
      },
      "source": [
        "###2.3 하이퍼파라미터 설정"
      ],
      "id": "88051bcc-8a4e-4552-af85-4fb62d9e2658"
    },
    {
      "cell_type": "code",
      "execution_count": 6,
      "metadata": {
        "id": "42d42463-8bf9-4ea7-a42a-72f763adb515"
      },
      "outputs": [],
      "source": [
        "LEARNING_RATE = 5.0e-4     # 학습률(learning rate)은 경사하강법(gradient descent)을 통해 내리막길을 내려갈 때의 보폭\n",
        "BATCH_SIZE = 16     # 배치(batch)는 모델의 가중치(weights)를 업데이트하는 학습 데이터의 단위. 여기서는 16개를 학습할 때마다 모델의 가중치(weights)를 업데이트한다는 것\n",
        "PIN_MEMORY = True\n",
        "NUM_WORKERS = 0\n",
        "EPOCHS = 2     # 에폭은 전체 학습 데이터를 학습에 사용하는 횟수. 주어진 학습 데이터를 여러번 학습할 수 있음\n",
        "DROP_LAST = False\n",
        "EARLY_STOPPING_MODE = min\n",
        "EARLY_STOPPING_PATIENCE = 10\n",
        "EARLY_STOPPING_TARGET = 'val_loss'     # validation set의 loss를 기준으로 early_stopping 여부를 결정할 것\n",
        "LOGGING_INTERVAL = 200"
      ],
      "id": "42d42463-8bf9-4ea7-a42a-72f763adb515"
    },
    {
      "cell_type": "markdown",
      "metadata": {
        "id": "01a3191b-b482-4f9f-85e0-be96c5f09824"
      },
      "source": [
        "###2.4 디바이스 설정"
      ],
      "id": "01a3191b-b482-4f9f-85e0-be96c5f09824"
    },
    {
      "cell_type": "code",
      "execution_count": 7,
      "metadata": {
        "id": "626e7afa-2a56-4094-9e75-cfb3bec09606"
      },
      "outputs": [],
      "source": [
        "os.environ['CUDA_VISIBLE_DEVICES'] = \"0\"\n",
        "device = torch.device('cuda' if torch.cuda.is_available() else 'cpu')"
      ],
      "id": "626e7afa-2a56-4094-9e75-cfb3bec09606"
    },
    {
      "cell_type": "code",
      "source": [
        "# !nvidia-smi\n",
        "print('Device:', device)\n",
        "print('Current cuda device:', torch.cuda.current_device())\n",
        "print('Count of using GPUs:', torch.cuda.device_count())"
      ],
      "metadata": {
        "colab": {
          "base_uri": "https://localhost:8080/"
        },
        "id": "qQUlqJJbI0Xi",
        "outputId": "1f1b1fe0-f7c8-4af7-c8e8-a10bcf01c2c1"
      },
      "id": "qQUlqJJbI0Xi",
      "execution_count": 8,
      "outputs": [
        {
          "output_type": "stream",
          "name": "stdout",
          "text": [
            "Device: cuda\n",
            "Current cuda device: 0\n",
            "Count of using GPUs: 1\n"
          ]
        }
      ]
    },
    {
      "cell_type": "code",
      "source": [
        "!nvidia-smi"
      ],
      "metadata": {
        "colab": {
          "base_uri": "https://localhost:8080/"
        },
        "id": "Dnmi8biFJpKm",
        "outputId": "1aec54b1-cbb8-4994-ebdc-be57e49781b7"
      },
      "id": "Dnmi8biFJpKm",
      "execution_count": 10,
      "outputs": [
        {
          "output_type": "stream",
          "name": "stdout",
          "text": [
            "Wed Nov 16 11:15:30 2022       \n",
            "+-----------------------------------------------------------------------------+\n",
            "| NVIDIA-SMI 460.32.03    Driver Version: 460.32.03    CUDA Version: 11.2     |\n",
            "|-------------------------------+----------------------+----------------------+\n",
            "| GPU  Name        Persistence-M| Bus-Id        Disp.A | Volatile Uncorr. ECC |\n",
            "| Fan  Temp  Perf  Pwr:Usage/Cap|         Memory-Usage | GPU-Util  Compute M. |\n",
            "|                               |                      |               MIG M. |\n",
            "|===============================+======================+======================|\n",
            "|   0  Tesla T4            Off  | 00000000:00:04.0 Off |                    0 |\n",
            "| N/A   40C    P8     9W /  70W |      3MiB / 15109MiB |      0%      Default |\n",
            "|                               |                      |                  N/A |\n",
            "+-------------------------------+----------------------+----------------------+\n",
            "                                                                               \n",
            "+-----------------------------------------------------------------------------+\n",
            "| Processes:                                                                  |\n",
            "|  GPU   GI   CI        PID   Type   Process name                  GPU Memory |\n",
            "|        ID   ID                                                   Usage      |\n",
            "|=============================================================================|\n",
            "|  No running processes found                                                 |\n",
            "+-----------------------------------------------------------------------------+\n"
          ]
        }
      ]
    },
    {
      "cell_type": "markdown",
      "metadata": {
        "id": "863de192-3f18-421f-a06f-a5964bdbeb87"
      },
      "source": [
        "##3. Dataset 정의"
      ],
      "id": "863de192-3f18-421f-a06f-a5964bdbeb87"
    },
    {
      "cell_type": "code",
      "execution_count": 11,
      "metadata": {
        "id": "2c5fa64b-a355-43d2-95dc-94bb8605cc15"
      },
      "outputs": [],
      "source": [
        "class QADataset(Dataset):     # 데이터를 input으로 변환해주는 Dataset 클래스를 상속하여, QA(Question Answering) 과제에 맞게 커스터마이징한다\n",
        "    \n",
        "    def __init__ (self, data_dir: str, tokenizer, max_seq_len: int, mode = 'train'):     # Dataset 클래스는 기본적으로 __init__, __len__, __getitem__를 정의해 주어야 한다\n",
        "        self.mode = mode\n",
        "        self.data = json.load(open(data_dir, 'r', encoding='utf8'))\n",
        "        \n",
        "        self.tokenizer = tokenizer\n",
        "        self.max_seq_len = max_seq_len\n",
        "        \n",
        "        if mode == 'test':\n",
        "            self.encodings, self.question_ids = self.preprocess()\n",
        "        else:\n",
        "            self.encodings, self.answers = self.preprocess()\n",
        "        \n",
        "    def __len__(self):     # index를 통해 input을 순차적으로 읽어오기 위해서는 데이터의 길이가 먼저 확인되어야 한다. __len__ 함수는 input의 길이를 반환해주는 함수\n",
        "        return len(self.encodings.input_ids)\n",
        "\n",
        "    def __getitem__(self, index: int):     # input의 길이가 확인되면 index를 통해 데이터를 불러올 수 있다. __getitem__ 함수는 index에 해당하는 input 데이터를 반환해주는 함수\n",
        "        return {key: torch.tensor(val[index]) for key, val in self.encodings.items()}\n",
        "\n",
        "    \n",
        "    def preprocess(self):\n",
        "        contexts, questions, answers, question_ids = self.read_squad()     # SQuAD(Stanford Question Answering Dataset) 형식의 데이터에서 contexts, questions, answers, question_ids를 읽어오는 함수\n",
        "        if self.mode == 'test':\n",
        "            encodings = self.tokenizer(contexts, questions, truncation=True, max_length = self.max_seq_len, padding=True)\n",
        "            return encodings, question_ids\n",
        "        else: # train or val\n",
        "            self.add_end_idx(answers, contexts)     # train.json에는 질문에 대한 답이 context 내에서 시작되는 index인 'answer_srart'만 있기 때문에, 추가로 'answer_end'를 찾아주는 함수\n",
        "            encodings = self.tokenizer(contexts, questions, truncation=True, max_length = self.max_seq_len, padding=True)\n",
        "            self.add_token_positions(encodings, answers)\n",
        "        \n",
        "            return encodings, answers\n",
        "        \n",
        "    \n",
        "    def read_squad(self):     # SQuAD(Stanford Question Answering Dataset) 형식의 데이터에서 contexts, questions, answers, question_ids를 읽어오는 함수\n",
        "        contexts = []\n",
        "        questions = []\n",
        "        question_ids = []\n",
        "        answers = []\n",
        "        \n",
        "        # train - val split\n",
        "        if self.mode == 'train':\n",
        "            self.data['data'] = self.data['data'][:-1*int(len(self.data['data'])*0.1)]\n",
        "        elif self.mode == 'val':\n",
        "            self.data['data'] = self.data['data'][-1*int(len(self.data['data'])*0.1):]\n",
        "        \n",
        "        \n",
        "        till = len(self.data['data'])\n",
        "        \n",
        "\n",
        "        for group in self.data['data'][:till]:\n",
        "            for passage in group['paragraphs']:\n",
        "                context = passage['context']\n",
        "                for qa in passage['qas']:\n",
        "                    question = qa['question']\n",
        "                    if self.mode == 'test':\n",
        "                        contexts.append(context)\n",
        "                        questions.append(question)\n",
        "                        question_ids.append(qa['question_id'])\n",
        "                    else: # train or val\n",
        "                        for ans in qa['answers']:\n",
        "                            contexts.append(context)\n",
        "                            questions.append(question)\n",
        "\n",
        "                            if qa['is_impossible']:\n",
        "                                answers.append({'text':'','answer_start':-1})\n",
        "                            else:\n",
        "                                answers.append(ans)\n",
        "                \n",
        "        # return formatted data lists\n",
        "        return contexts, questions, answers, question_ids\n",
        "    \n",
        "    \n",
        "    def add_end_idx(self, answers, contexts):     # train.json에는 질문에 대한 답이 context 내에서 시작되는 index인 'answer_srart'만 있기 때문에, 추가로 'answer_end'를 찾아주는 함수\n",
        "        for answer, context in zip(answers, contexts):\n",
        "            gold_text = answer['text']\n",
        "            start_idx = answer['answer_start']\n",
        "            end_idx = start_idx + len(gold_text)\n",
        "\n",
        "            # in case the indices are off 1-2 idxs\n",
        "            if context[start_idx:end_idx] == gold_text:\n",
        "                answer['answer_end'] = end_idx\n",
        "            else:\n",
        "                for n in [1, 2]:\n",
        "                    if context[start_idx-n:end_idx-n] == gold_text:\n",
        "                        answer['answer_start'] = start_idx - n\n",
        "                        answer['answer_end'] = end_idx - n\n",
        "                    elif context[start_idx+n:end_idx+n] == gold_text:\n",
        "                        answer['answer_start'] = start_idx + n\n",
        "                        answer['answer_end'] = end_idx + n\n",
        "                        \n",
        "\n",
        "    def add_token_positions(self, encodings, answers):\n",
        "        # should use Fast tokenizer\n",
        "        start_positions = []\n",
        "        end_positions = []\n",
        "        for i in range(len(answers)):\n",
        "            if answers[i]['answer_start'] == -1:\n",
        "                # set [CLS] token as answer if is_impossible\n",
        "                start_positions.append(0)\n",
        "                end_positions.append(1)\n",
        "            else:\n",
        "                start_positions.append(encodings.char_to_token(i, answers[i]['answer_start']))\n",
        "\n",
        "                assert 'answer_end' in answers[i].keys(), f'no answer_end at {i}'\n",
        "                end_positions.append(encodings.char_to_token(i, answers[i]['answer_end']))\n",
        "\n",
        "            # answer passage truncated\n",
        "            if start_positions[-1] is None:\n",
        "                start_positions[-1] = tokenizer.model_max_length                \n",
        "            # end position cannot be found, shift until found\n",
        "            shift = 1\n",
        "            while end_positions[-1] is None:\n",
        "                end_positions[-1] = encodings.char_to_token(i, answers[i]['answer_end'] - shift)\n",
        "                shift += 1\n",
        "                \n",
        "        # char-based -> token based\n",
        "        encodings.update({'start_positions': start_positions, 'end_positions': end_positions})"
      ],
      "id": "2c5fa64b-a355-43d2-95dc-94bb8605cc15"
    },
    {
      "cell_type": "markdown",
      "metadata": {
        "id": "c5842a98-c4d9-477c-bfbb-db93a1bdca32"
      },
      "source": [
        "##4. 모델 정의"
      ],
      "id": "c5842a98-c4d9-477c-bfbb-db93a1bdca32"
    },
    {
      "cell_type": "code",
      "execution_count": 12,
      "metadata": {
        "id": "69904ef0-ec62-4eb2-8540-9f44a112fc1c"
      },
      "outputs": [],
      "source": [
        "class electra(nn.Module):     # pytorch의 모든 neural network 모델들은 torch.nn.Module 클래스를 상속해야 한다. 기본적으로 __init__()과 forward 함수가 override(재정의)되어야 하며, forward 함수는 모델의 계산을 실행하는 것을 뜻한다.\n",
        "\n",
        "    def __init__(self, pretrained, **kwargs):\n",
        "        super(electra, self).__init__()\n",
        "\n",
        "        self.model = ElectraForQuestionAnswering.from_pretrained(pretrained)     # Hugging Face에서 pretrain된 모델을 가져와서 model 변수에 저장한다.\n",
        "        \n",
        "\n",
        "    def forward(self, input_ids, attention_mask, start_positions=None, end_positions=None):\n",
        "        \n",
        "        outputs = self.model(input_ids = input_ids, \n",
        "                             attention_mask = attention_mask,\n",
        "                             start_positions = start_positions,\n",
        "                             end_positions = end_positions)\n",
        "        \n",
        "        return outputs"
      ],
      "id": "69904ef0-ec62-4eb2-8540-9f44a112fc1c"
    },
    {
      "cell_type": "markdown",
      "metadata": {
        "id": "9615d17d-1f80-45e9-8583-e4b3f3a84f44"
      },
      "source": [
        "##5. Utils 정의\n",
        "###5.1 EarlyStopper"
      ],
      "id": "9615d17d-1f80-45e9-8583-e4b3f3a84f44"
    },
    {
      "cell_type": "code",
      "execution_count": 13,
      "metadata": {
        "id": "e9ea7473-7a39-48d9-a0c7-5ef197c99547"
      },
      "outputs": [],
      "source": [
        "class EarlyStopper():     # 일정 기간 모델 성능에 개선이 없으면, 학습을 중단하는 기능\n",
        "\n",
        "    def __init__(self, patience: int, mode:str)-> None:\n",
        "        self.patience = patience\n",
        "        self.mode = mode\n",
        "\n",
        "        # Initiate\n",
        "        self.patience_counter = 0\n",
        "        self.stop = False\n",
        "        self.best_loss = np.inf\n",
        "\n",
        "        print(f\"Initiated early stopper, mode: {self.mode}, best score: {self.best_loss}, patience: {self.patience}\")\n",
        "\n",
        "        \n",
        "    def check_early_stopping(self, loss: float)-> None:\n",
        "        loss = -loss if self.mode == 'max' else loss  # get max value if mode set to max\n",
        "\n",
        "        if loss > self.best_loss:\n",
        "            # got worse score\n",
        "            self.patience_counter += 1\n",
        "\n",
        "            print(f\"Early stopper, counter {self.patience_counter}/{self.patience}, best:{abs(self.best_loss)} -> now:{abs(loss)}\")\n",
        "            \n",
        "            if self.patience_counter == self.patience:\n",
        "                print(f\"Early stopper, stop\")\n",
        "                self.stop = True  # end\n",
        "\n",
        "        elif loss <= self.best_loss:\n",
        "            # got better score\n",
        "            self.patience_counter = 0\n",
        "            \n",
        "            print(f\"Early stopper, counter {self.patience_counter}/{self.patience}, best:{abs(self.best_loss)} -> now:{abs(loss)}\")\n",
        "            print(f\"Set counter as {self.patience_counter}\")\n",
        "            print(f\"Update best score as {abs(loss)}\")\n",
        "            \n",
        "            self.best_loss = loss\n",
        "            \n",
        "        else:\n",
        "            print('debug')"
      ],
      "id": "e9ea7473-7a39-48d9-a0c7-5ef197c99547"
    },
    {
      "cell_type": "markdown",
      "metadata": {
        "id": "c53b4cda-5607-4a52-ad4b-a0ae33940004"
      },
      "source": [
        "###5.2 Trainer"
      ],
      "id": "c53b4cda-5607-4a52-ad4b-a0ae33940004"
    },
    {
      "cell_type": "code",
      "execution_count": 14,
      "metadata": {
        "id": "636e914f-d8cb-47b4-8fa0-3f6918653ae0"
      },
      "outputs": [],
      "source": [
        "class Trainer():     # 학습을 위한 Trainer 클래스 정의\n",
        "\n",
        "    def __init__(self,\n",
        "                 model,\n",
        "                 optimizer,\n",
        "                 loss,\n",
        "                 metrics,\n",
        "                 device,\n",
        "                 tokenizer,\n",
        "                 interval=100):\n",
        "        \n",
        "        self.model = model\n",
        "        self.optimizer = optimizer\n",
        "        self.loss = loss\n",
        "        self.metrics = metrics\n",
        "        self.device = device\n",
        "        self.interval = interval\n",
        "        self.tokenizer = tokenizer\n",
        "\n",
        "        # History\n",
        "        self.loss_sum = 0  # Epoch loss sum\n",
        "        self.loss_mean = 0 # Epoch loss mean\n",
        "        self.y = list()\n",
        "        self.y_preds = list()\n",
        "        self.score_dict = dict()  # metric score\n",
        "        self.elapsed_time = 0\n",
        "        \n",
        "\n",
        "    def train(self, mode, dataloader, tokenizer, epoch_index=0):\n",
        "        \n",
        "        start_timestamp = time()\n",
        "        self.model.train() if mode == 'train' else self.model.eval()     # 모델을 train(eval) mode로 전환.  train(eval) mode에서는 dropout, batchnorm이 적용된다(적용되지 않는다)\n",
        " \n",
        "        for batch_index, batch in enumerate(tqdm(dataloader, leave=True)):\n",
        "            \n",
        "            self.optimizer.zero_grad()     # 파라미터 업데이트는 batch 단위로 이루어지고, 매 batch마다 이전 스텝에서 계산된 gradient를 초기화해주어야 함\n",
        "            # pull all the tensor batches required for training\n",
        "            input_ids = batch['input_ids'].to(self.device)\n",
        "            attention_mask = batch['attention_mask'].to(self.device)\n",
        "            start_positions = batch['start_positions'].to(self.device)\n",
        "            end_positions = batch['end_positions'].to(self.device)\n",
        "            \n",
        "            # train model on batch and return outputs (incl. loss)\n",
        "            # Inference\n",
        "            outputs = self.model(input_ids, attention_mask=attention_mask,\n",
        "                            start_positions=start_positions,\n",
        "                            end_positions=end_positions)\n",
        "            \n",
        "            loss = outputs.loss\n",
        "            start_score = outputs.start_logits\n",
        "            end_score = outputs.end_logits\n",
        "            \n",
        "            \n",
        "            start_idx = torch.argmax(start_score, dim=1).cpu().tolist()\n",
        "            end_idx = torch.argmax(end_score, dim=1).cpu().tolist()\n",
        "            \n",
        "            # Update\n",
        "            if mode == 'train':\n",
        "                loss.backward()     # backpropagation\n",
        "                self.optimizer.step()     # 파라미터 업데이트\n",
        "                \n",
        "            elif mode in ['val', 'test']:\n",
        "                pass\n",
        "            \n",
        "            # History\n",
        "            self.loss_sum += loss.item()\n",
        "            \n",
        "            # create answer; list of strings\n",
        "            for i in range(len(input_ids)):\n",
        "                if start_idx[i] > end_idx[i]:\n",
        "                    output = ''\n",
        "                \n",
        "                self.y_preds.append(self.tokenizer.decode(input_ids[i][start_idx[i]:end_idx[i]]))\n",
        "                self.y.append(self.tokenizer.decode(input_ids[i][start_positions[i]:end_positions[i]]))\n",
        "\n",
        "\n",
        "            # Logging\n",
        "            if batch_index % self.interval == 0:\n",
        "                print(f\"batch: {batch_index}/{len(dataloader)} loss: {loss.item()}\")\n",
        "                \n",
        "        # Epoch history\n",
        "        self.loss_mean = self.loss_sum / len(dataloader)  # Epoch loss mean\n",
        "\n",
        "        # Metric\n",
        "        score = self.metrics(self.y, self.y_preds)\n",
        "        self.score_dict['metric_name'] = score\n",
        "\n",
        "        # Elapsed time\n",
        "        end_timestamp = time()\n",
        "        self.elapsed_time = end_timestamp - start_timestamp\n",
        "\n",
        "    def clear_history(self):\n",
        "        self.loss_sum = 0\n",
        "        self.loss_mean = 0\n",
        "        self.y_preds = list()\n",
        "        self.y = list()\n",
        "        self.score_dict = dict()\n",
        "        self.elapsed_time = 0"
      ],
      "id": "636e914f-d8cb-47b4-8fa0-3f6918653ae0"
    },
    {
      "cell_type": "markdown",
      "metadata": {
        "id": "1f530fc6-25e7-4b9c-9431-7a5ea267c348"
      },
      "source": [
        "###5.3 Recorder"
      ],
      "id": "1f530fc6-25e7-4b9c-9431-7a5ea267c348"
    },
    {
      "cell_type": "code",
      "execution_count": 15,
      "metadata": {
        "id": "89b61d3c-858b-4213-a1c1-8f32bed3698a"
      },
      "outputs": [],
      "source": [
        "class Recorder():\n",
        "\n",
        "    def __init__(self,\n",
        "                 record_dir: str,\n",
        "                 model: object,\n",
        "                 optimizer: object):\n",
        "        \n",
        "        self.record_dir = record_dir\n",
        "        self.record_filepath = os.path.join(self.record_dir, 'record.csv')\n",
        "        self.weight_path = os.path.join(record_dir, 'model.pt')\n",
        "\n",
        "        self.model = model\n",
        "        self.optimizer = optimizer\n",
        "\n",
        "        \n",
        "    def set_model(self, model: 'model'):\n",
        "        self.model = model\n",
        "\n",
        "\n",
        "    def add_row(self, row_dict: dict):\n",
        "\n",
        "        fieldnames = list(row_dict.keys())\n",
        "\n",
        "        with open(self.record_filepath, newline='', mode='a') as f:\n",
        "            writer = csv.DictWriter(f, fieldnames=fieldnames)\n",
        "\n",
        "            if f.tell() == 0:\n",
        "                writer.writeheader()\n",
        "\n",
        "            writer.writerow(row_dict)\n",
        "            print(f\"Write row {row_dict['epoch_index']}\")\n",
        "\n",
        "            \n",
        "    def save_weight(self, epoch: int)-> None:\n",
        "        check_point = {\n",
        "            'epoch': epoch + 1,\n",
        "            'model': self.model.state_dict(),\n",
        "            'optimizer': self.optimizer.state_dict(),\n",
        "        }\n",
        "        \n",
        "        torch.save(check_point, self.weight_path)\n",
        "        print(f\"Recorder, epoch {epoch} Model saved: {self.weight_path}\")"
      ],
      "id": "89b61d3c-858b-4213-a1c1-8f32bed3698a"
    },
    {
      "cell_type": "markdown",
      "metadata": {
        "id": "66c1c276-2264-43b9-aa62-44cfd81ee395"
      },
      "source": [
        "##6. 모델 학습"
      ],
      "id": "66c1c276-2264-43b9-aa62-44cfd81ee395"
    },
    {
      "cell_type": "markdown",
      "metadata": {
        "id": "aa925da6-d006-4fb9-a763-021ffe9bc8e4"
      },
      "source": [
        "###6.1 모델과 기타 utils 설정"
      ],
      "id": "aa925da6-d006-4fb9-a763-021ffe9bc8e4"
    },
    {
      "cell_type": "code",
      "execution_count": 16,
      "metadata": {
        "id": "714f8a41-c14f-4fc5-84ae-b04f0452a952",
        "colab": {
          "base_uri": "https://localhost:8080/",
          "height": 272,
          "referenced_widgets": [
            "f8ea657a29954d47b30b037b29203b0d",
            "9b8df6ee8af04071adfde8cbc22746ef",
            "0089d3659cb04f2b965bbbeac03184f2",
            "0e817762c7dd4f8ebb61c72067823629",
            "dde0ba5f1aee4f85a54dddc91db49f7e",
            "870583c0f2034abe806788a103b26b65",
            "3ca12881ff904cdd8a3f7450cd350d71",
            "cf4db1cf1d5440e293d5bca53883dd5b",
            "3044c81e4b8f4d10afa588f184f07fb9",
            "e5eea9514dfe4fd39769b38e2b13998e",
            "93a42d055d904a2c900e350e960b36ed",
            "6bf9d78391c6499f81c84a563c2f4b7b",
            "5ef71ae7e3c541bd82178bef55969495",
            "e0964b0bbc5340c7b3bb6066c882146f",
            "1deb1b6224a74437863a4b3caef14320",
            "3a2a373954cc48539f2a8911a564fbc7",
            "f7e5b8fbed5a40ce8135abadaf751c7d",
            "083cd8e4ce0b4300a6578646d1e7d256",
            "e7f07e31716d486dbdf32b31dcaa1655",
            "2c4338f256da49ec982876b523155dab",
            "04f10cbd66784a42b01e30152e7bf2ab",
            "ed40bfddfe8444bb83247dc1afef9859",
            "1a3ca250761c4381a92774364eb74834",
            "2fca5362d7ab4697a235e82d8ba6826b",
            "495d2cc25ef949c6bd0437fe82bb5ecf",
            "669f8ff6d28d492da6aae6914cbac710",
            "22fe58be7ca34384a2a379814a680678",
            "ca1b72f8080a4db29658fed1fa271655",
            "5bc3f44a942142ae91830097e7153d72",
            "a6a39486d1f041f5ad0a5ef7d30d73d8",
            "a8b8c48248214233ac1d059f775cae3b",
            "e4dbea64273247f5b5f0401a4ca68d55",
            "999d2a91f83d4fc7869b93b88d90c1ba",
            "977da1c2c0a042acb880d7331581c7f7",
            "1c87fdcb632b4daba816a783d86065fa",
            "b0e01a713701448788fd787785c555e5",
            "bc725e0417a94fa8b404b94b15573c66",
            "42a8195cfa6b477f96b1081b586bf33e",
            "165b3412aab34240b5e5127402a9628d",
            "85ada02474ba4e11bac88b7e0c8db002",
            "a841b5d747414f498a06b6bfc6d7ba71",
            "86b650856d234918a5efe6103b566132",
            "a509d0f8d05549eab3894731f3c288f9",
            "6ff1cf32e1b145979920f2952d1a27c7"
          ]
        },
        "outputId": "cd1cc763-497c-45d0-ef51-e401f518306b"
      },
      "outputs": [
        {
          "output_type": "display_data",
          "data": {
            "text/plain": [
              "Downloading:   0%|          | 0.00/458 [00:00<?, ?B/s]"
            ],
            "application/vnd.jupyter.widget-view+json": {
              "version_major": 2,
              "version_minor": 0,
              "model_id": "f8ea657a29954d47b30b037b29203b0d"
            }
          },
          "metadata": {}
        },
        {
          "output_type": "display_data",
          "data": {
            "text/plain": [
              "Downloading:   0%|          | 0.00/56.6M [00:00<?, ?B/s]"
            ],
            "application/vnd.jupyter.widget-view+json": {
              "version_major": 2,
              "version_minor": 0,
              "model_id": "6bf9d78391c6499f81c84a563c2f4b7b"
            }
          },
          "metadata": {}
        },
        {
          "output_type": "stream",
          "name": "stderr",
          "text": [
            "Some weights of the model checkpoint at monologg/koelectra-small-v3-discriminator were not used when initializing ElectraForQuestionAnswering: ['discriminator_predictions.dense_prediction.weight', 'discriminator_predictions.dense.bias', 'discriminator_predictions.dense.weight', 'discriminator_predictions.dense_prediction.bias']\n",
            "- This IS expected if you are initializing ElectraForQuestionAnswering from the checkpoint of a model trained on another task or with another architecture (e.g. initializing a BertForSequenceClassification model from a BertForPreTraining model).\n",
            "- This IS NOT expected if you are initializing ElectraForQuestionAnswering from the checkpoint of a model that you expect to be exactly identical (initializing a BertForSequenceClassification model from a BertForSequenceClassification model).\n",
            "Some weights of ElectraForQuestionAnswering were not initialized from the model checkpoint at monologg/koelectra-small-v3-discriminator and are newly initialized: ['qa_outputs.weight', 'qa_outputs.bias']\n",
            "You should probably TRAIN this model on a down-stream task to be able to use it for predictions and inference.\n"
          ]
        },
        {
          "output_type": "display_data",
          "data": {
            "text/plain": [
              "Downloading:   0%|          | 0.00/61.0 [00:00<?, ?B/s]"
            ],
            "application/vnd.jupyter.widget-view+json": {
              "version_major": 2,
              "version_minor": 0,
              "model_id": "1a3ca250761c4381a92774364eb74834"
            }
          },
          "metadata": {}
        },
        {
          "output_type": "display_data",
          "data": {
            "text/plain": [
              "Downloading:   0%|          | 0.00/263k [00:00<?, ?B/s]"
            ],
            "application/vnd.jupyter.widget-view+json": {
              "version_major": 2,
              "version_minor": 0,
              "model_id": "977da1c2c0a042acb880d7331581c7f7"
            }
          },
          "metadata": {}
        },
        {
          "output_type": "stream",
          "name": "stdout",
          "text": [
            "Initiated early stopper, mode: <built-in function min>, best score: inf, patience: 10\n"
          ]
        }
      ],
      "source": [
        "# Load model\n",
        "model = electra(pretrained='monologg/koelectra-small-v3-discriminator').to(device)\n",
        "\n",
        "# Set optimizer, loss function, metric function\n",
        "optimizer = optim.Adam(params=model.parameters(), lr=LEARNING_RATE)\n",
        "loss = F.cross_entropy\n",
        "metrics = accuracy_score\n",
        "\n",
        "# Set tokenizer\n",
        "tokenizer = ElectraTokenizerFast.from_pretrained('monologg/koelectra-small-v3-discriminator')\n",
        "\n",
        "# Set Trainer\n",
        "trainer = Trainer(model=model,\n",
        "                  optimizer=optimizer,\n",
        "                  loss=loss,\n",
        "                  metrics=metrics,\n",
        "                  device=device,\n",
        "                  tokenizer=tokenizer,\n",
        "                  interval=LOGGING_INTERVAL)\n",
        "\n",
        "# Set earlystopper\n",
        "early_stopper = EarlyStopper(patience=EARLY_STOPPING_PATIENCE,\n",
        "                            mode=min)\n",
        "\n",
        "# Set train serial\n",
        "kst = timezone(timedelta(hours=9))\n",
        "train_serial = datetime.now(tz=kst).strftime(\"%Y%m%d_%H%M%S\")\n",
        "\n",
        "\n",
        "# Set recorder \n",
        "RECORDER_DIR = os.path.join(PROJECT_DIR, 'results', 'train', train_serial)\n",
        "os.makedirs(RECORDER_DIR, exist_ok=True)\n",
        "\n",
        "recorder = Recorder(record_dir=RECORDER_DIR,\n",
        "                    model=model,\n",
        "                    optimizer=optimizer)"
      ],
      "id": "714f8a41-c14f-4fc5-84ae-b04f0452a952"
    },
    {
      "cell_type": "markdown",
      "metadata": {
        "id": "c715ceb0-4555-431a-ab9d-8f6f99dd783f"
      },
      "source": [
        "###6.2 Dataset & Dataloader 설정"
      ],
      "id": "c715ceb0-4555-431a-ab9d-8f6f99dd783f"
    },
    {
      "cell_type": "code",
      "execution_count": 17,
      "metadata": {
        "id": "d504be1e-67c8-4de5-b8d0-225ac0b8fd65",
        "colab": {
          "base_uri": "https://localhost:8080/"
        },
        "outputId": "0d2ede67-4257-478a-fb25-31a917b74fd6"
      },
      "outputs": [
        {
          "output_type": "stream",
          "name": "stdout",
          "text": [
            "Load data, train:25262 val:2762\n"
          ]
        }
      ],
      "source": [
        "# torch.utils.data.Dataset : 데이터를 input으로 변환\n",
        "train_dataset = QADataset(data_dir=os.path.join(DATA_DIR, 'train.json'), tokenizer = tokenizer, max_seq_len = 512, mode = 'train')\n",
        "val_dataset = QADataset(data_dir=os.path.join(DATA_DIR, 'train.json'), tokenizer = tokenizer, max_seq_len = 512, mode = 'val')\n",
        "\n",
        "# torch.utils.data.DataLoader : input을 배치 단위로 리턴해주는 기능\n",
        "train_dataloader = DataLoader(dataset=train_dataset,\n",
        "                              batch_size=BATCH_SIZE,\n",
        "                              num_workers=NUM_WORKERS, \n",
        "                              shuffle=True,\n",
        "                              pin_memory=PIN_MEMORY,\n",
        "                              drop_last=DROP_LAST)\n",
        "\n",
        "val_dataloader = DataLoader(dataset=val_dataset,\n",
        "                            batch_size=BATCH_SIZE,\n",
        "                            num_workers=NUM_WORKERS, \n",
        "                            shuffle=False,\n",
        "                            pin_memory=PIN_MEMORY,\n",
        "                            drop_last=DROP_LAST)\n",
        "\n",
        "print(f\"Load data, train:{len(train_dataset)} val:{len(val_dataset)}\")"
      ],
      "id": "d504be1e-67c8-4de5-b8d0-225ac0b8fd65"
    },
    {
      "cell_type": "markdown",
      "metadata": {
        "id": "3e685537-7c8b-439c-8258-00c658bb360a"
      },
      "source": [
        "###6.3 Epoch 단위 학습 진행"
      ],
      "id": "3e685537-7c8b-439c-8258-00c658bb360a"
    },
    {
      "cell_type": "code",
      "execution_count": 18,
      "metadata": {
        "id": "661bf57c-20d2-4e14-bffb-e7db7eb85f78",
        "colab": {
          "base_uri": "https://localhost:8080/"
        },
        "outputId": "b7544c8c-9134-443e-d9ca-e5f0e65e1cec"
      },
      "outputs": [
        {
          "output_type": "stream",
          "name": "stdout",
          "text": [
            "Train 0/2\n",
            "--Train 0/2\n"
          ]
        },
        {
          "output_type": "stream",
          "name": "stderr",
          "text": [
            "  0%|          | 1/1579 [00:02<1:11:43,  2.73s/it]"
          ]
        },
        {
          "output_type": "stream",
          "name": "stdout",
          "text": [
            "batch: 0/1579 loss: 6.147305488586426\n"
          ]
        },
        {
          "output_type": "stream",
          "name": "stderr",
          "text": [
            " 13%|█▎        | 201/1579 [00:48<05:20,  4.29it/s]"
          ]
        },
        {
          "output_type": "stream",
          "name": "stdout",
          "text": [
            "batch: 200/1579 loss: 2.148324489593506\n"
          ]
        },
        {
          "output_type": "stream",
          "name": "stderr",
          "text": [
            " 25%|██▌       | 401/1579 [01:36<04:39,  4.21it/s]"
          ]
        },
        {
          "output_type": "stream",
          "name": "stdout",
          "text": [
            "batch: 400/1579 loss: 2.117828369140625\n"
          ]
        },
        {
          "output_type": "stream",
          "name": "stderr",
          "text": [
            " 38%|███▊      | 601/1579 [02:24<03:56,  4.14it/s]"
          ]
        },
        {
          "output_type": "stream",
          "name": "stdout",
          "text": [
            "batch: 600/1579 loss: 1.3651881217956543\n"
          ]
        },
        {
          "output_type": "stream",
          "name": "stderr",
          "text": [
            " 51%|█████     | 801/1579 [03:13<03:10,  4.09it/s]"
          ]
        },
        {
          "output_type": "stream",
          "name": "stdout",
          "text": [
            "batch: 800/1579 loss: 1.1254441738128662\n"
          ]
        },
        {
          "output_type": "stream",
          "name": "stderr",
          "text": [
            " 63%|██████▎   | 1001/1579 [04:02<02:22,  4.07it/s]"
          ]
        },
        {
          "output_type": "stream",
          "name": "stdout",
          "text": [
            "batch: 1000/1579 loss: 1.4257372617721558\n"
          ]
        },
        {
          "output_type": "stream",
          "name": "stderr",
          "text": [
            " 76%|███████▌  | 1201/1579 [04:52<01:32,  4.07it/s]"
          ]
        },
        {
          "output_type": "stream",
          "name": "stdout",
          "text": [
            "batch: 1200/1579 loss: 1.789764404296875\n"
          ]
        },
        {
          "output_type": "stream",
          "name": "stderr",
          "text": [
            " 89%|████████▊ | 1401/1579 [05:41<00:43,  4.05it/s]"
          ]
        },
        {
          "output_type": "stream",
          "name": "stdout",
          "text": [
            "batch: 1400/1579 loss: 1.6211717128753662\n"
          ]
        },
        {
          "output_type": "stream",
          "name": "stderr",
          "text": [
            "100%|██████████| 1579/1579 [06:25<00:00,  4.10it/s]\n"
          ]
        },
        {
          "output_type": "stream",
          "name": "stdout",
          "text": [
            "Val 0/2\n",
            "--Val 0/2\n"
          ]
        },
        {
          "output_type": "stream",
          "name": "stderr",
          "text": [
            "  1%|          | 2/173 [00:00<00:15, 11.08it/s]"
          ]
        },
        {
          "output_type": "stream",
          "name": "stdout",
          "text": [
            "batch: 0/173 loss: 1.3329252004623413\n"
          ]
        },
        {
          "output_type": "stream",
          "name": "stderr",
          "text": [
            "100%|██████████| 173/173 [00:15<00:00, 10.92it/s]\n"
          ]
        },
        {
          "output_type": "stream",
          "name": "stdout",
          "text": [
            "Write row 0\n",
            "Early stopper, counter 0/10, best:inf -> now:1.0272790309838478\n",
            "Set counter as 0\n",
            "Update best score as 1.0272790309838478\n",
            "Recorder, epoch 0 Model saved: /content/drive/MyDrive/YDS/AIConnet_YDS_1/NLP_MRC/results/train/20221116_201624/model.pt\n",
            "Train 1/2\n",
            "--Train 1/2\n"
          ]
        },
        {
          "output_type": "stream",
          "name": "stderr",
          "text": [
            "  0%|          | 1/1579 [00:00<06:34,  4.00it/s]"
          ]
        },
        {
          "output_type": "stream",
          "name": "stdout",
          "text": [
            "batch: 0/1579 loss: 0.9652231931686401\n"
          ]
        },
        {
          "output_type": "stream",
          "name": "stderr",
          "text": [
            " 13%|█▎        | 201/1579 [00:50<05:47,  3.97it/s]"
          ]
        },
        {
          "output_type": "stream",
          "name": "stdout",
          "text": [
            "batch: 200/1579 loss: 1.2981393337249756\n"
          ]
        },
        {
          "output_type": "stream",
          "name": "stderr",
          "text": [
            " 25%|██▌       | 401/1579 [01:41<04:56,  3.97it/s]"
          ]
        },
        {
          "output_type": "stream",
          "name": "stdout",
          "text": [
            "batch: 400/1579 loss: 1.6329820156097412\n"
          ]
        },
        {
          "output_type": "stream",
          "name": "stderr",
          "text": [
            " 38%|███▊      | 601/1579 [02:31<04:07,  3.96it/s]"
          ]
        },
        {
          "output_type": "stream",
          "name": "stdout",
          "text": [
            "batch: 600/1579 loss: 0.8650487661361694\n"
          ]
        },
        {
          "output_type": "stream",
          "name": "stderr",
          "text": [
            " 51%|█████     | 801/1579 [03:22<03:17,  3.95it/s]"
          ]
        },
        {
          "output_type": "stream",
          "name": "stdout",
          "text": [
            "batch: 800/1579 loss: 0.9309203624725342\n"
          ]
        },
        {
          "output_type": "stream",
          "name": "stderr",
          "text": [
            " 63%|██████▎   | 1001/1579 [04:12<02:25,  3.96it/s]"
          ]
        },
        {
          "output_type": "stream",
          "name": "stdout",
          "text": [
            "batch: 1000/1579 loss: 1.7181010246276855\n"
          ]
        },
        {
          "output_type": "stream",
          "name": "stderr",
          "text": [
            " 76%|███████▌  | 1201/1579 [05:03<01:35,  3.97it/s]"
          ]
        },
        {
          "output_type": "stream",
          "name": "stdout",
          "text": [
            "batch: 1200/1579 loss: 1.577284336090088\n"
          ]
        },
        {
          "output_type": "stream",
          "name": "stderr",
          "text": [
            " 89%|████████▊ | 1401/1579 [05:53<00:44,  3.98it/s]"
          ]
        },
        {
          "output_type": "stream",
          "name": "stdout",
          "text": [
            "batch: 1400/1579 loss: 1.5084857940673828\n"
          ]
        },
        {
          "output_type": "stream",
          "name": "stderr",
          "text": [
            "100%|██████████| 1579/1579 [06:38<00:00,  3.96it/s]\n"
          ]
        },
        {
          "output_type": "stream",
          "name": "stdout",
          "text": [
            "Val 1/2\n",
            "--Val 1/2\n"
          ]
        },
        {
          "output_type": "stream",
          "name": "stderr",
          "text": [
            "  1%|          | 2/173 [00:00<00:15, 10.89it/s]"
          ]
        },
        {
          "output_type": "stream",
          "name": "stdout",
          "text": [
            "batch: 0/173 loss: 1.1982717514038086\n"
          ]
        },
        {
          "output_type": "stream",
          "name": "stderr",
          "text": [
            "100%|██████████| 173/173 [00:16<00:00, 10.81it/s]\n"
          ]
        },
        {
          "output_type": "stream",
          "name": "stdout",
          "text": [
            "Write row 1\n",
            "Early stopper, counter 0/10, best:1.0272790309838478 -> now:0.9786407118071021\n",
            "Set counter as 0\n",
            "Update best score as 0.9786407118071021\n",
            "Recorder, epoch 1 Model saved: /content/drive/MyDrive/YDS/AIConnet_YDS_1/NLP_MRC/results/train/20221116_201624/model.pt\n"
          ]
        }
      ],
      "source": [
        "# Train\n",
        "for epoch_index in range(EPOCHS):\n",
        "\n",
        "    # Set Recorder row\n",
        "    row_dict = dict()\n",
        "    row_dict['epoch_index'] = epoch_index\n",
        "    row_dict['train_serial'] = train_serial\n",
        "\n",
        "    \"\"\"\n",
        "    Train\n",
        "    \"\"\"\n",
        "    print(f\"Train {epoch_index}/{EPOCHS}\")\n",
        "    print(f\"--Train {epoch_index}/{EPOCHS}\")\n",
        "    trainer.train(dataloader=train_dataloader, epoch_index=epoch_index, tokenizer=tokenizer, mode='train')\n",
        "\n",
        "    row_dict['train_loss'] = trainer.loss_mean\n",
        "    row_dict['train_elapsed_time'] = trainer.elapsed_time \n",
        "\n",
        "    for metric_str, score in trainer.score_dict.items():\n",
        "        row_dict[f\"train_{metric_str}\"] = score\n",
        "    trainer.clear_history()\n",
        "\n",
        "    \"\"\"\n",
        "    Validation\n",
        "    \"\"\"\n",
        "    print(f\"Val {epoch_index}/{EPOCHS}\")\n",
        "    print(f\"--Val {epoch_index}/{EPOCHS}\")\n",
        "    trainer.train(dataloader=val_dataloader, epoch_index=epoch_index, tokenizer=tokenizer, mode='val')\n",
        "\n",
        "    row_dict['val_loss'] = trainer.loss_mean\n",
        "    row_dict['val_elapsed_time'] = trainer.elapsed_time \n",
        "\n",
        "    for metric_str, score in trainer.score_dict.items():\n",
        "        row_dict[f\"val_{metric_str}\"] = score\n",
        "    trainer.clear_history()\n",
        "\n",
        "    \"\"\"\n",
        "    Record\n",
        "    \"\"\"\n",
        "    recorder.add_row(row_dict)\n",
        "\n",
        "    \"\"\"\n",
        "    Early stopper\n",
        "    \"\"\"\n",
        "    early_stopping_target = EARLY_STOPPING_TARGET\n",
        "    early_stopper.check_early_stopping(loss=row_dict[early_stopping_target])\n",
        "\n",
        "    if early_stopper.patience_counter == 0:\n",
        "        recorder.save_weight(epoch=epoch_index)\n",
        "        best_row_dict = copy.deepcopy(row_dict)\n",
        "\n",
        "    if early_stopper.stop == True:\n",
        "        print(f\"Early stopped, counter {early_stopper.patience_counter}/{EARLY_STOPPING_PATIENCE}\")\n",
        "\n",
        "        break"
      ],
      "id": "661bf57c-20d2-4e14-bffb-e7db7eb85f78"
    },
    {
      "cell_type": "markdown",
      "metadata": {
        "id": "ed9d2987-378c-45df-84bf-ee4589ac61d4"
      },
      "source": [
        "##7. 추론"
      ],
      "id": "ed9d2987-378c-45df-84bf-ee4589ac61d4"
    },
    {
      "cell_type": "markdown",
      "metadata": {
        "id": "0dee7dae-24d0-4cf3-b641-c3938ceda233"
      },
      "source": [
        "###7.1 테스트 Dataset & Dataloader 설정"
      ],
      "id": "0dee7dae-24d0-4cf3-b641-c3938ceda233"
    },
    {
      "cell_type": "code",
      "execution_count": 19,
      "metadata": {
        "id": "a67fcd63-de84-41fe-a620-8771d799722b"
      },
      "outputs": [],
      "source": [
        "# Load data\n",
        "test_dataset = QADataset(data_dir=os.path.join(DATA_DIR, 'test.json'), tokenizer = tokenizer, max_seq_len = 512, mode = 'test')\n",
        "\n",
        "question_ids = test_dataset.question_ids\n",
        "\n",
        "test_dataloader = DataLoader(dataset=test_dataset,\n",
        "                            batch_size=BATCH_SIZE,\n",
        "                            num_workers=NUM_WORKERS, \n",
        "                            shuffle=False,\n",
        "                            pin_memory=PIN_MEMORY,\n",
        "                            drop_last=DROP_LAST)"
      ],
      "id": "a67fcd63-de84-41fe-a620-8771d799722b"
    },
    {
      "cell_type": "markdown",
      "metadata": {
        "id": "733f8fc5-d1e8-4027-b8c7-ed87ec409246"
      },
      "source": [
        "###7.2 모델 로드"
      ],
      "id": "733f8fc5-d1e8-4027-b8c7-ed87ec409246"
    },
    {
      "cell_type": "code",
      "execution_count": 20,
      "metadata": {
        "id": "86cc6eeb-6f7c-4765-9478-83cb9ce62954",
        "colab": {
          "base_uri": "https://localhost:8080/"
        },
        "outputId": "9ea24f1e-f7c7-4a83-a686-01568330bd40"
      },
      "outputs": [
        {
          "output_type": "stream",
          "name": "stderr",
          "text": [
            "Some weights of the model checkpoint at monologg/koelectra-small-v3-discriminator were not used when initializing ElectraForQuestionAnswering: ['discriminator_predictions.dense_prediction.weight', 'discriminator_predictions.dense.bias', 'discriminator_predictions.dense.weight', 'discriminator_predictions.dense_prediction.bias']\n",
            "- This IS expected if you are initializing ElectraForQuestionAnswering from the checkpoint of a model trained on another task or with another architecture (e.g. initializing a BertForSequenceClassification model from a BertForPreTraining model).\n",
            "- This IS NOT expected if you are initializing ElectraForQuestionAnswering from the checkpoint of a model that you expect to be exactly identical (initializing a BertForSequenceClassification model from a BertForSequenceClassification model).\n",
            "Some weights of ElectraForQuestionAnswering were not initialized from the model checkpoint at monologg/koelectra-small-v3-discriminator and are newly initialized: ['qa_outputs.weight', 'qa_outputs.bias']\n",
            "You should probably TRAIN this model on a down-stream task to be able to use it for predictions and inference.\n"
          ]
        },
        {
          "output_type": "execute_result",
          "data": {
            "text/plain": [
              "<All keys matched successfully>"
            ]
          },
          "metadata": {},
          "execution_count": 20
        }
      ],
      "source": [
        "# Load model\n",
        "\n",
        "model = electra(pretrained='monologg/koelectra-small-v3-discriminator').to(device)\n",
        "\n",
        "checkpoint = torch.load(os.path.join(RECORDER_DIR, 'model.pt'))\n",
        "\n",
        "model.load_state_dict(checkpoint['model'])"
      ],
      "id": "86cc6eeb-6f7c-4765-9478-83cb9ce62954"
    },
    {
      "cell_type": "markdown",
      "metadata": {
        "id": "ea6e2ce2-c11a-42b0-baaa-107251e077a3"
      },
      "source": [
        "###7.3 추론 진행"
      ],
      "id": "ea6e2ce2-c11a-42b0-baaa-107251e077a3"
    },
    {
      "cell_type": "code",
      "execution_count": 21,
      "metadata": {
        "id": "6876e75d-f3ba-4007-a548-062d4b1ce681",
        "colab": {
          "base_uri": "https://localhost:8080/"
        },
        "outputId": "41c092a3-34b1-4c33-f6b8-f310aac0ad0d"
      },
      "outputs": [
        {
          "output_type": "stream",
          "name": "stderr",
          "text": [
            "100%|██████████| 102/102 [00:08<00:00, 12.39it/s]\n"
          ]
        }
      ],
      "source": [
        "model.eval()     # 모델을 eval mode로 전환. train mode와 달리 eval mode에서는 dropout, batchnorm이 적용되지 않는다\n",
        "\n",
        "pred_df = pd.read_csv(os.path.join(DATA_DIR, 'sample_submission.csv'))\n",
        "\n",
        "for batch_index, batch in enumerate(tqdm(test_dataloader, leave=True)):\n",
        "    input_ids = batch['input_ids'].to(device)\n",
        "    attention_mask = batch['attention_mask'].to(device)\n",
        "\n",
        "    # Inference\n",
        "    outputs = model(input_ids, attention_mask=attention_mask)\n",
        "\n",
        "    start_score = outputs.start_logits\n",
        "    end_score = outputs.end_logits\n",
        "\n",
        "    start_idx = torch.argmax(start_score, dim=1).cpu().tolist()\n",
        "    end_idx = torch.argmax(end_score, dim=1).cpu().tolist()\n",
        "\n",
        "    y_pred = []\n",
        "    for i in range(len(input_ids)):\n",
        "        if start_idx[i] > end_idx[i]:\n",
        "            output = ''\n",
        "\n",
        "        ans_txt = tokenizer.decode(input_ids[i][start_idx[i]:end_idx[i]]).replace('#','')\n",
        "\n",
        "        if ans_txt == '[CLS]':\n",
        "            ans_txt == ''\n",
        "\n",
        "        y_pred.append(ans_txt)\n",
        "\n",
        "\n",
        "    q_end_idx = BATCH_SIZE*batch_index + len(y_pred)\n",
        "    for q_id, pred in zip(question_ids[BATCH_SIZE*batch_index:q_end_idx], y_pred):\n",
        "        pred_df.loc[pred_df['question_id'] == q_id,'answer_text'] = pred"
      ],
      "id": "6876e75d-f3ba-4007-a548-062d4b1ce681"
    },
    {
      "cell_type": "markdown",
      "metadata": {
        "id": "2860d018-7dda-434f-97ef-cd59a0572c92"
      },
      "source": [
        "###7.4 결과 저장"
      ],
      "id": "2860d018-7dda-434f-97ef-cd59a0572c92"
    },
    {
      "cell_type": "code",
      "execution_count": 22,
      "metadata": {
        "id": "8f98cd03-5a99-4911-a72e-bc81e49c18be"
      },
      "outputs": [],
      "source": [
        "# Set predict serial\n",
        "kst = timezone(timedelta(hours=9))\n",
        "predict_timestamp = datetime.now(tz=kst).strftime(\"%Y%m%d_%H%M%S\")\n",
        "predict_serial = predict_timestamp\n",
        "predict_serial\n",
        "\n",
        "PREDICT_DIR = os.path.join(PROJECT_DIR, 'results', 'predict', predict_serial)\n",
        "os.makedirs(PREDICT_DIR, exist_ok=True)\n",
        "\n",
        "pred_df.to_csv(os.path.join(PREDICT_DIR, 'prediction.csv'), index=False)"
      ],
      "id": "8f98cd03-5a99-4911-a72e-bc81e49c18be"
    },
    {
      "cell_type": "code",
      "execution_count": null,
      "metadata": {
        "id": "SX6apf0nRz1Y"
      },
      "outputs": [],
      "source": [],
      "id": "SX6apf0nRz1Y"
    }
  ],
  "metadata": {
    "colab": {
      "provenance": [],
      "toc_visible": true
    },
    "kernelspec": {
      "display_name": "Python 3 (ipykernel)",
      "language": "python",
      "name": "python3"
    },
    "language_info": {
      "codemirror_mode": {
        "name": "ipython",
        "version": 3
      },
      "file_extension": ".py",
      "mimetype": "text/x-python",
      "name": "python",
      "nbconvert_exporter": "python",
      "pygments_lexer": "ipython3",
      "version": "3.9.13"
    },
    "accelerator": "GPU",
    "gpuClass": "standard",
    "widgets": {
      "application/vnd.jupyter.widget-state+json": {
        "f8ea657a29954d47b30b037b29203b0d": {
          "model_module": "@jupyter-widgets/controls",
          "model_name": "HBoxModel",
          "model_module_version": "1.5.0",
          "state": {
            "_dom_classes": [],
            "_model_module": "@jupyter-widgets/controls",
            "_model_module_version": "1.5.0",
            "_model_name": "HBoxModel",
            "_view_count": null,
            "_view_module": "@jupyter-widgets/controls",
            "_view_module_version": "1.5.0",
            "_view_name": "HBoxView",
            "box_style": "",
            "children": [
              "IPY_MODEL_9b8df6ee8af04071adfde8cbc22746ef",
              "IPY_MODEL_0089d3659cb04f2b965bbbeac03184f2",
              "IPY_MODEL_0e817762c7dd4f8ebb61c72067823629"
            ],
            "layout": "IPY_MODEL_dde0ba5f1aee4f85a54dddc91db49f7e"
          }
        },
        "9b8df6ee8af04071adfde8cbc22746ef": {
          "model_module": "@jupyter-widgets/controls",
          "model_name": "HTMLModel",
          "model_module_version": "1.5.0",
          "state": {
            "_dom_classes": [],
            "_model_module": "@jupyter-widgets/controls",
            "_model_module_version": "1.5.0",
            "_model_name": "HTMLModel",
            "_view_count": null,
            "_view_module": "@jupyter-widgets/controls",
            "_view_module_version": "1.5.0",
            "_view_name": "HTMLView",
            "description": "",
            "description_tooltip": null,
            "layout": "IPY_MODEL_870583c0f2034abe806788a103b26b65",
            "placeholder": "​",
            "style": "IPY_MODEL_3ca12881ff904cdd8a3f7450cd350d71",
            "value": "Downloading: 100%"
          }
        },
        "0089d3659cb04f2b965bbbeac03184f2": {
          "model_module": "@jupyter-widgets/controls",
          "model_name": "FloatProgressModel",
          "model_module_version": "1.5.0",
          "state": {
            "_dom_classes": [],
            "_model_module": "@jupyter-widgets/controls",
            "_model_module_version": "1.5.0",
            "_model_name": "FloatProgressModel",
            "_view_count": null,
            "_view_module": "@jupyter-widgets/controls",
            "_view_module_version": "1.5.0",
            "_view_name": "ProgressView",
            "bar_style": "success",
            "description": "",
            "description_tooltip": null,
            "layout": "IPY_MODEL_cf4db1cf1d5440e293d5bca53883dd5b",
            "max": 458,
            "min": 0,
            "orientation": "horizontal",
            "style": "IPY_MODEL_3044c81e4b8f4d10afa588f184f07fb9",
            "value": 458
          }
        },
        "0e817762c7dd4f8ebb61c72067823629": {
          "model_module": "@jupyter-widgets/controls",
          "model_name": "HTMLModel",
          "model_module_version": "1.5.0",
          "state": {
            "_dom_classes": [],
            "_model_module": "@jupyter-widgets/controls",
            "_model_module_version": "1.5.0",
            "_model_name": "HTMLModel",
            "_view_count": null,
            "_view_module": "@jupyter-widgets/controls",
            "_view_module_version": "1.5.0",
            "_view_name": "HTMLView",
            "description": "",
            "description_tooltip": null,
            "layout": "IPY_MODEL_e5eea9514dfe4fd39769b38e2b13998e",
            "placeholder": "​",
            "style": "IPY_MODEL_93a42d055d904a2c900e350e960b36ed",
            "value": " 458/458 [00:00&lt;00:00, 5.65kB/s]"
          }
        },
        "dde0ba5f1aee4f85a54dddc91db49f7e": {
          "model_module": "@jupyter-widgets/base",
          "model_name": "LayoutModel",
          "model_module_version": "1.2.0",
          "state": {
            "_model_module": "@jupyter-widgets/base",
            "_model_module_version": "1.2.0",
            "_model_name": "LayoutModel",
            "_view_count": null,
            "_view_module": "@jupyter-widgets/base",
            "_view_module_version": "1.2.0",
            "_view_name": "LayoutView",
            "align_content": null,
            "align_items": null,
            "align_self": null,
            "border": null,
            "bottom": null,
            "display": null,
            "flex": null,
            "flex_flow": null,
            "grid_area": null,
            "grid_auto_columns": null,
            "grid_auto_flow": null,
            "grid_auto_rows": null,
            "grid_column": null,
            "grid_gap": null,
            "grid_row": null,
            "grid_template_areas": null,
            "grid_template_columns": null,
            "grid_template_rows": null,
            "height": null,
            "justify_content": null,
            "justify_items": null,
            "left": null,
            "margin": null,
            "max_height": null,
            "max_width": null,
            "min_height": null,
            "min_width": null,
            "object_fit": null,
            "object_position": null,
            "order": null,
            "overflow": null,
            "overflow_x": null,
            "overflow_y": null,
            "padding": null,
            "right": null,
            "top": null,
            "visibility": null,
            "width": null
          }
        },
        "870583c0f2034abe806788a103b26b65": {
          "model_module": "@jupyter-widgets/base",
          "model_name": "LayoutModel",
          "model_module_version": "1.2.0",
          "state": {
            "_model_module": "@jupyter-widgets/base",
            "_model_module_version": "1.2.0",
            "_model_name": "LayoutModel",
            "_view_count": null,
            "_view_module": "@jupyter-widgets/base",
            "_view_module_version": "1.2.0",
            "_view_name": "LayoutView",
            "align_content": null,
            "align_items": null,
            "align_self": null,
            "border": null,
            "bottom": null,
            "display": null,
            "flex": null,
            "flex_flow": null,
            "grid_area": null,
            "grid_auto_columns": null,
            "grid_auto_flow": null,
            "grid_auto_rows": null,
            "grid_column": null,
            "grid_gap": null,
            "grid_row": null,
            "grid_template_areas": null,
            "grid_template_columns": null,
            "grid_template_rows": null,
            "height": null,
            "justify_content": null,
            "justify_items": null,
            "left": null,
            "margin": null,
            "max_height": null,
            "max_width": null,
            "min_height": null,
            "min_width": null,
            "object_fit": null,
            "object_position": null,
            "order": null,
            "overflow": null,
            "overflow_x": null,
            "overflow_y": null,
            "padding": null,
            "right": null,
            "top": null,
            "visibility": null,
            "width": null
          }
        },
        "3ca12881ff904cdd8a3f7450cd350d71": {
          "model_module": "@jupyter-widgets/controls",
          "model_name": "DescriptionStyleModel",
          "model_module_version": "1.5.0",
          "state": {
            "_model_module": "@jupyter-widgets/controls",
            "_model_module_version": "1.5.0",
            "_model_name": "DescriptionStyleModel",
            "_view_count": null,
            "_view_module": "@jupyter-widgets/base",
            "_view_module_version": "1.2.0",
            "_view_name": "StyleView",
            "description_width": ""
          }
        },
        "cf4db1cf1d5440e293d5bca53883dd5b": {
          "model_module": "@jupyter-widgets/base",
          "model_name": "LayoutModel",
          "model_module_version": "1.2.0",
          "state": {
            "_model_module": "@jupyter-widgets/base",
            "_model_module_version": "1.2.0",
            "_model_name": "LayoutModel",
            "_view_count": null,
            "_view_module": "@jupyter-widgets/base",
            "_view_module_version": "1.2.0",
            "_view_name": "LayoutView",
            "align_content": null,
            "align_items": null,
            "align_self": null,
            "border": null,
            "bottom": null,
            "display": null,
            "flex": null,
            "flex_flow": null,
            "grid_area": null,
            "grid_auto_columns": null,
            "grid_auto_flow": null,
            "grid_auto_rows": null,
            "grid_column": null,
            "grid_gap": null,
            "grid_row": null,
            "grid_template_areas": null,
            "grid_template_columns": null,
            "grid_template_rows": null,
            "height": null,
            "justify_content": null,
            "justify_items": null,
            "left": null,
            "margin": null,
            "max_height": null,
            "max_width": null,
            "min_height": null,
            "min_width": null,
            "object_fit": null,
            "object_position": null,
            "order": null,
            "overflow": null,
            "overflow_x": null,
            "overflow_y": null,
            "padding": null,
            "right": null,
            "top": null,
            "visibility": null,
            "width": null
          }
        },
        "3044c81e4b8f4d10afa588f184f07fb9": {
          "model_module": "@jupyter-widgets/controls",
          "model_name": "ProgressStyleModel",
          "model_module_version": "1.5.0",
          "state": {
            "_model_module": "@jupyter-widgets/controls",
            "_model_module_version": "1.5.0",
            "_model_name": "ProgressStyleModel",
            "_view_count": null,
            "_view_module": "@jupyter-widgets/base",
            "_view_module_version": "1.2.0",
            "_view_name": "StyleView",
            "bar_color": null,
            "description_width": ""
          }
        },
        "e5eea9514dfe4fd39769b38e2b13998e": {
          "model_module": "@jupyter-widgets/base",
          "model_name": "LayoutModel",
          "model_module_version": "1.2.0",
          "state": {
            "_model_module": "@jupyter-widgets/base",
            "_model_module_version": "1.2.0",
            "_model_name": "LayoutModel",
            "_view_count": null,
            "_view_module": "@jupyter-widgets/base",
            "_view_module_version": "1.2.0",
            "_view_name": "LayoutView",
            "align_content": null,
            "align_items": null,
            "align_self": null,
            "border": null,
            "bottom": null,
            "display": null,
            "flex": null,
            "flex_flow": null,
            "grid_area": null,
            "grid_auto_columns": null,
            "grid_auto_flow": null,
            "grid_auto_rows": null,
            "grid_column": null,
            "grid_gap": null,
            "grid_row": null,
            "grid_template_areas": null,
            "grid_template_columns": null,
            "grid_template_rows": null,
            "height": null,
            "justify_content": null,
            "justify_items": null,
            "left": null,
            "margin": null,
            "max_height": null,
            "max_width": null,
            "min_height": null,
            "min_width": null,
            "object_fit": null,
            "object_position": null,
            "order": null,
            "overflow": null,
            "overflow_x": null,
            "overflow_y": null,
            "padding": null,
            "right": null,
            "top": null,
            "visibility": null,
            "width": null
          }
        },
        "93a42d055d904a2c900e350e960b36ed": {
          "model_module": "@jupyter-widgets/controls",
          "model_name": "DescriptionStyleModel",
          "model_module_version": "1.5.0",
          "state": {
            "_model_module": "@jupyter-widgets/controls",
            "_model_module_version": "1.5.0",
            "_model_name": "DescriptionStyleModel",
            "_view_count": null,
            "_view_module": "@jupyter-widgets/base",
            "_view_module_version": "1.2.0",
            "_view_name": "StyleView",
            "description_width": ""
          }
        },
        "6bf9d78391c6499f81c84a563c2f4b7b": {
          "model_module": "@jupyter-widgets/controls",
          "model_name": "HBoxModel",
          "model_module_version": "1.5.0",
          "state": {
            "_dom_classes": [],
            "_model_module": "@jupyter-widgets/controls",
            "_model_module_version": "1.5.0",
            "_model_name": "HBoxModel",
            "_view_count": null,
            "_view_module": "@jupyter-widgets/controls",
            "_view_module_version": "1.5.0",
            "_view_name": "HBoxView",
            "box_style": "",
            "children": [
              "IPY_MODEL_5ef71ae7e3c541bd82178bef55969495",
              "IPY_MODEL_e0964b0bbc5340c7b3bb6066c882146f",
              "IPY_MODEL_1deb1b6224a74437863a4b3caef14320"
            ],
            "layout": "IPY_MODEL_3a2a373954cc48539f2a8911a564fbc7"
          }
        },
        "5ef71ae7e3c541bd82178bef55969495": {
          "model_module": "@jupyter-widgets/controls",
          "model_name": "HTMLModel",
          "model_module_version": "1.5.0",
          "state": {
            "_dom_classes": [],
            "_model_module": "@jupyter-widgets/controls",
            "_model_module_version": "1.5.0",
            "_model_name": "HTMLModel",
            "_view_count": null,
            "_view_module": "@jupyter-widgets/controls",
            "_view_module_version": "1.5.0",
            "_view_name": "HTMLView",
            "description": "",
            "description_tooltip": null,
            "layout": "IPY_MODEL_f7e5b8fbed5a40ce8135abadaf751c7d",
            "placeholder": "​",
            "style": "IPY_MODEL_083cd8e4ce0b4300a6578646d1e7d256",
            "value": "Downloading: 100%"
          }
        },
        "e0964b0bbc5340c7b3bb6066c882146f": {
          "model_module": "@jupyter-widgets/controls",
          "model_name": "FloatProgressModel",
          "model_module_version": "1.5.0",
          "state": {
            "_dom_classes": [],
            "_model_module": "@jupyter-widgets/controls",
            "_model_module_version": "1.5.0",
            "_model_name": "FloatProgressModel",
            "_view_count": null,
            "_view_module": "@jupyter-widgets/controls",
            "_view_module_version": "1.5.0",
            "_view_name": "ProgressView",
            "bar_style": "success",
            "description": "",
            "description_tooltip": null,
            "layout": "IPY_MODEL_e7f07e31716d486dbdf32b31dcaa1655",
            "max": 56577499,
            "min": 0,
            "orientation": "horizontal",
            "style": "IPY_MODEL_2c4338f256da49ec982876b523155dab",
            "value": 56577499
          }
        },
        "1deb1b6224a74437863a4b3caef14320": {
          "model_module": "@jupyter-widgets/controls",
          "model_name": "HTMLModel",
          "model_module_version": "1.5.0",
          "state": {
            "_dom_classes": [],
            "_model_module": "@jupyter-widgets/controls",
            "_model_module_version": "1.5.0",
            "_model_name": "HTMLModel",
            "_view_count": null,
            "_view_module": "@jupyter-widgets/controls",
            "_view_module_version": "1.5.0",
            "_view_name": "HTMLView",
            "description": "",
            "description_tooltip": null,
            "layout": "IPY_MODEL_04f10cbd66784a42b01e30152e7bf2ab",
            "placeholder": "​",
            "style": "IPY_MODEL_ed40bfddfe8444bb83247dc1afef9859",
            "value": " 56.6M/56.6M [00:02&lt;00:00, 30.3MB/s]"
          }
        },
        "3a2a373954cc48539f2a8911a564fbc7": {
          "model_module": "@jupyter-widgets/base",
          "model_name": "LayoutModel",
          "model_module_version": "1.2.0",
          "state": {
            "_model_module": "@jupyter-widgets/base",
            "_model_module_version": "1.2.0",
            "_model_name": "LayoutModel",
            "_view_count": null,
            "_view_module": "@jupyter-widgets/base",
            "_view_module_version": "1.2.0",
            "_view_name": "LayoutView",
            "align_content": null,
            "align_items": null,
            "align_self": null,
            "border": null,
            "bottom": null,
            "display": null,
            "flex": null,
            "flex_flow": null,
            "grid_area": null,
            "grid_auto_columns": null,
            "grid_auto_flow": null,
            "grid_auto_rows": null,
            "grid_column": null,
            "grid_gap": null,
            "grid_row": null,
            "grid_template_areas": null,
            "grid_template_columns": null,
            "grid_template_rows": null,
            "height": null,
            "justify_content": null,
            "justify_items": null,
            "left": null,
            "margin": null,
            "max_height": null,
            "max_width": null,
            "min_height": null,
            "min_width": null,
            "object_fit": null,
            "object_position": null,
            "order": null,
            "overflow": null,
            "overflow_x": null,
            "overflow_y": null,
            "padding": null,
            "right": null,
            "top": null,
            "visibility": null,
            "width": null
          }
        },
        "f7e5b8fbed5a40ce8135abadaf751c7d": {
          "model_module": "@jupyter-widgets/base",
          "model_name": "LayoutModel",
          "model_module_version": "1.2.0",
          "state": {
            "_model_module": "@jupyter-widgets/base",
            "_model_module_version": "1.2.0",
            "_model_name": "LayoutModel",
            "_view_count": null,
            "_view_module": "@jupyter-widgets/base",
            "_view_module_version": "1.2.0",
            "_view_name": "LayoutView",
            "align_content": null,
            "align_items": null,
            "align_self": null,
            "border": null,
            "bottom": null,
            "display": null,
            "flex": null,
            "flex_flow": null,
            "grid_area": null,
            "grid_auto_columns": null,
            "grid_auto_flow": null,
            "grid_auto_rows": null,
            "grid_column": null,
            "grid_gap": null,
            "grid_row": null,
            "grid_template_areas": null,
            "grid_template_columns": null,
            "grid_template_rows": null,
            "height": null,
            "justify_content": null,
            "justify_items": null,
            "left": null,
            "margin": null,
            "max_height": null,
            "max_width": null,
            "min_height": null,
            "min_width": null,
            "object_fit": null,
            "object_position": null,
            "order": null,
            "overflow": null,
            "overflow_x": null,
            "overflow_y": null,
            "padding": null,
            "right": null,
            "top": null,
            "visibility": null,
            "width": null
          }
        },
        "083cd8e4ce0b4300a6578646d1e7d256": {
          "model_module": "@jupyter-widgets/controls",
          "model_name": "DescriptionStyleModel",
          "model_module_version": "1.5.0",
          "state": {
            "_model_module": "@jupyter-widgets/controls",
            "_model_module_version": "1.5.0",
            "_model_name": "DescriptionStyleModel",
            "_view_count": null,
            "_view_module": "@jupyter-widgets/base",
            "_view_module_version": "1.2.0",
            "_view_name": "StyleView",
            "description_width": ""
          }
        },
        "e7f07e31716d486dbdf32b31dcaa1655": {
          "model_module": "@jupyter-widgets/base",
          "model_name": "LayoutModel",
          "model_module_version": "1.2.0",
          "state": {
            "_model_module": "@jupyter-widgets/base",
            "_model_module_version": "1.2.0",
            "_model_name": "LayoutModel",
            "_view_count": null,
            "_view_module": "@jupyter-widgets/base",
            "_view_module_version": "1.2.0",
            "_view_name": "LayoutView",
            "align_content": null,
            "align_items": null,
            "align_self": null,
            "border": null,
            "bottom": null,
            "display": null,
            "flex": null,
            "flex_flow": null,
            "grid_area": null,
            "grid_auto_columns": null,
            "grid_auto_flow": null,
            "grid_auto_rows": null,
            "grid_column": null,
            "grid_gap": null,
            "grid_row": null,
            "grid_template_areas": null,
            "grid_template_columns": null,
            "grid_template_rows": null,
            "height": null,
            "justify_content": null,
            "justify_items": null,
            "left": null,
            "margin": null,
            "max_height": null,
            "max_width": null,
            "min_height": null,
            "min_width": null,
            "object_fit": null,
            "object_position": null,
            "order": null,
            "overflow": null,
            "overflow_x": null,
            "overflow_y": null,
            "padding": null,
            "right": null,
            "top": null,
            "visibility": null,
            "width": null
          }
        },
        "2c4338f256da49ec982876b523155dab": {
          "model_module": "@jupyter-widgets/controls",
          "model_name": "ProgressStyleModel",
          "model_module_version": "1.5.0",
          "state": {
            "_model_module": "@jupyter-widgets/controls",
            "_model_module_version": "1.5.0",
            "_model_name": "ProgressStyleModel",
            "_view_count": null,
            "_view_module": "@jupyter-widgets/base",
            "_view_module_version": "1.2.0",
            "_view_name": "StyleView",
            "bar_color": null,
            "description_width": ""
          }
        },
        "04f10cbd66784a42b01e30152e7bf2ab": {
          "model_module": "@jupyter-widgets/base",
          "model_name": "LayoutModel",
          "model_module_version": "1.2.0",
          "state": {
            "_model_module": "@jupyter-widgets/base",
            "_model_module_version": "1.2.0",
            "_model_name": "LayoutModel",
            "_view_count": null,
            "_view_module": "@jupyter-widgets/base",
            "_view_module_version": "1.2.0",
            "_view_name": "LayoutView",
            "align_content": null,
            "align_items": null,
            "align_self": null,
            "border": null,
            "bottom": null,
            "display": null,
            "flex": null,
            "flex_flow": null,
            "grid_area": null,
            "grid_auto_columns": null,
            "grid_auto_flow": null,
            "grid_auto_rows": null,
            "grid_column": null,
            "grid_gap": null,
            "grid_row": null,
            "grid_template_areas": null,
            "grid_template_columns": null,
            "grid_template_rows": null,
            "height": null,
            "justify_content": null,
            "justify_items": null,
            "left": null,
            "margin": null,
            "max_height": null,
            "max_width": null,
            "min_height": null,
            "min_width": null,
            "object_fit": null,
            "object_position": null,
            "order": null,
            "overflow": null,
            "overflow_x": null,
            "overflow_y": null,
            "padding": null,
            "right": null,
            "top": null,
            "visibility": null,
            "width": null
          }
        },
        "ed40bfddfe8444bb83247dc1afef9859": {
          "model_module": "@jupyter-widgets/controls",
          "model_name": "DescriptionStyleModel",
          "model_module_version": "1.5.0",
          "state": {
            "_model_module": "@jupyter-widgets/controls",
            "_model_module_version": "1.5.0",
            "_model_name": "DescriptionStyleModel",
            "_view_count": null,
            "_view_module": "@jupyter-widgets/base",
            "_view_module_version": "1.2.0",
            "_view_name": "StyleView",
            "description_width": ""
          }
        },
        "1a3ca250761c4381a92774364eb74834": {
          "model_module": "@jupyter-widgets/controls",
          "model_name": "HBoxModel",
          "model_module_version": "1.5.0",
          "state": {
            "_dom_classes": [],
            "_model_module": "@jupyter-widgets/controls",
            "_model_module_version": "1.5.0",
            "_model_name": "HBoxModel",
            "_view_count": null,
            "_view_module": "@jupyter-widgets/controls",
            "_view_module_version": "1.5.0",
            "_view_name": "HBoxView",
            "box_style": "",
            "children": [
              "IPY_MODEL_2fca5362d7ab4697a235e82d8ba6826b",
              "IPY_MODEL_495d2cc25ef949c6bd0437fe82bb5ecf",
              "IPY_MODEL_669f8ff6d28d492da6aae6914cbac710"
            ],
            "layout": "IPY_MODEL_22fe58be7ca34384a2a379814a680678"
          }
        },
        "2fca5362d7ab4697a235e82d8ba6826b": {
          "model_module": "@jupyter-widgets/controls",
          "model_name": "HTMLModel",
          "model_module_version": "1.5.0",
          "state": {
            "_dom_classes": [],
            "_model_module": "@jupyter-widgets/controls",
            "_model_module_version": "1.5.0",
            "_model_name": "HTMLModel",
            "_view_count": null,
            "_view_module": "@jupyter-widgets/controls",
            "_view_module_version": "1.5.0",
            "_view_name": "HTMLView",
            "description": "",
            "description_tooltip": null,
            "layout": "IPY_MODEL_ca1b72f8080a4db29658fed1fa271655",
            "placeholder": "​",
            "style": "IPY_MODEL_5bc3f44a942142ae91830097e7153d72",
            "value": "Downloading: 100%"
          }
        },
        "495d2cc25ef949c6bd0437fe82bb5ecf": {
          "model_module": "@jupyter-widgets/controls",
          "model_name": "FloatProgressModel",
          "model_module_version": "1.5.0",
          "state": {
            "_dom_classes": [],
            "_model_module": "@jupyter-widgets/controls",
            "_model_module_version": "1.5.0",
            "_model_name": "FloatProgressModel",
            "_view_count": null,
            "_view_module": "@jupyter-widgets/controls",
            "_view_module_version": "1.5.0",
            "_view_name": "ProgressView",
            "bar_style": "success",
            "description": "",
            "description_tooltip": null,
            "layout": "IPY_MODEL_a6a39486d1f041f5ad0a5ef7d30d73d8",
            "max": 61,
            "min": 0,
            "orientation": "horizontal",
            "style": "IPY_MODEL_a8b8c48248214233ac1d059f775cae3b",
            "value": 61
          }
        },
        "669f8ff6d28d492da6aae6914cbac710": {
          "model_module": "@jupyter-widgets/controls",
          "model_name": "HTMLModel",
          "model_module_version": "1.5.0",
          "state": {
            "_dom_classes": [],
            "_model_module": "@jupyter-widgets/controls",
            "_model_module_version": "1.5.0",
            "_model_name": "HTMLModel",
            "_view_count": null,
            "_view_module": "@jupyter-widgets/controls",
            "_view_module_version": "1.5.0",
            "_view_name": "HTMLView",
            "description": "",
            "description_tooltip": null,
            "layout": "IPY_MODEL_e4dbea64273247f5b5f0401a4ca68d55",
            "placeholder": "​",
            "style": "IPY_MODEL_999d2a91f83d4fc7869b93b88d90c1ba",
            "value": " 61.0/61.0 [00:00&lt;00:00, 2.06kB/s]"
          }
        },
        "22fe58be7ca34384a2a379814a680678": {
          "model_module": "@jupyter-widgets/base",
          "model_name": "LayoutModel",
          "model_module_version": "1.2.0",
          "state": {
            "_model_module": "@jupyter-widgets/base",
            "_model_module_version": "1.2.0",
            "_model_name": "LayoutModel",
            "_view_count": null,
            "_view_module": "@jupyter-widgets/base",
            "_view_module_version": "1.2.0",
            "_view_name": "LayoutView",
            "align_content": null,
            "align_items": null,
            "align_self": null,
            "border": null,
            "bottom": null,
            "display": null,
            "flex": null,
            "flex_flow": null,
            "grid_area": null,
            "grid_auto_columns": null,
            "grid_auto_flow": null,
            "grid_auto_rows": null,
            "grid_column": null,
            "grid_gap": null,
            "grid_row": null,
            "grid_template_areas": null,
            "grid_template_columns": null,
            "grid_template_rows": null,
            "height": null,
            "justify_content": null,
            "justify_items": null,
            "left": null,
            "margin": null,
            "max_height": null,
            "max_width": null,
            "min_height": null,
            "min_width": null,
            "object_fit": null,
            "object_position": null,
            "order": null,
            "overflow": null,
            "overflow_x": null,
            "overflow_y": null,
            "padding": null,
            "right": null,
            "top": null,
            "visibility": null,
            "width": null
          }
        },
        "ca1b72f8080a4db29658fed1fa271655": {
          "model_module": "@jupyter-widgets/base",
          "model_name": "LayoutModel",
          "model_module_version": "1.2.0",
          "state": {
            "_model_module": "@jupyter-widgets/base",
            "_model_module_version": "1.2.0",
            "_model_name": "LayoutModel",
            "_view_count": null,
            "_view_module": "@jupyter-widgets/base",
            "_view_module_version": "1.2.0",
            "_view_name": "LayoutView",
            "align_content": null,
            "align_items": null,
            "align_self": null,
            "border": null,
            "bottom": null,
            "display": null,
            "flex": null,
            "flex_flow": null,
            "grid_area": null,
            "grid_auto_columns": null,
            "grid_auto_flow": null,
            "grid_auto_rows": null,
            "grid_column": null,
            "grid_gap": null,
            "grid_row": null,
            "grid_template_areas": null,
            "grid_template_columns": null,
            "grid_template_rows": null,
            "height": null,
            "justify_content": null,
            "justify_items": null,
            "left": null,
            "margin": null,
            "max_height": null,
            "max_width": null,
            "min_height": null,
            "min_width": null,
            "object_fit": null,
            "object_position": null,
            "order": null,
            "overflow": null,
            "overflow_x": null,
            "overflow_y": null,
            "padding": null,
            "right": null,
            "top": null,
            "visibility": null,
            "width": null
          }
        },
        "5bc3f44a942142ae91830097e7153d72": {
          "model_module": "@jupyter-widgets/controls",
          "model_name": "DescriptionStyleModel",
          "model_module_version": "1.5.0",
          "state": {
            "_model_module": "@jupyter-widgets/controls",
            "_model_module_version": "1.5.0",
            "_model_name": "DescriptionStyleModel",
            "_view_count": null,
            "_view_module": "@jupyter-widgets/base",
            "_view_module_version": "1.2.0",
            "_view_name": "StyleView",
            "description_width": ""
          }
        },
        "a6a39486d1f041f5ad0a5ef7d30d73d8": {
          "model_module": "@jupyter-widgets/base",
          "model_name": "LayoutModel",
          "model_module_version": "1.2.0",
          "state": {
            "_model_module": "@jupyter-widgets/base",
            "_model_module_version": "1.2.0",
            "_model_name": "LayoutModel",
            "_view_count": null,
            "_view_module": "@jupyter-widgets/base",
            "_view_module_version": "1.2.0",
            "_view_name": "LayoutView",
            "align_content": null,
            "align_items": null,
            "align_self": null,
            "border": null,
            "bottom": null,
            "display": null,
            "flex": null,
            "flex_flow": null,
            "grid_area": null,
            "grid_auto_columns": null,
            "grid_auto_flow": null,
            "grid_auto_rows": null,
            "grid_column": null,
            "grid_gap": null,
            "grid_row": null,
            "grid_template_areas": null,
            "grid_template_columns": null,
            "grid_template_rows": null,
            "height": null,
            "justify_content": null,
            "justify_items": null,
            "left": null,
            "margin": null,
            "max_height": null,
            "max_width": null,
            "min_height": null,
            "min_width": null,
            "object_fit": null,
            "object_position": null,
            "order": null,
            "overflow": null,
            "overflow_x": null,
            "overflow_y": null,
            "padding": null,
            "right": null,
            "top": null,
            "visibility": null,
            "width": null
          }
        },
        "a8b8c48248214233ac1d059f775cae3b": {
          "model_module": "@jupyter-widgets/controls",
          "model_name": "ProgressStyleModel",
          "model_module_version": "1.5.0",
          "state": {
            "_model_module": "@jupyter-widgets/controls",
            "_model_module_version": "1.5.0",
            "_model_name": "ProgressStyleModel",
            "_view_count": null,
            "_view_module": "@jupyter-widgets/base",
            "_view_module_version": "1.2.0",
            "_view_name": "StyleView",
            "bar_color": null,
            "description_width": ""
          }
        },
        "e4dbea64273247f5b5f0401a4ca68d55": {
          "model_module": "@jupyter-widgets/base",
          "model_name": "LayoutModel",
          "model_module_version": "1.2.0",
          "state": {
            "_model_module": "@jupyter-widgets/base",
            "_model_module_version": "1.2.0",
            "_model_name": "LayoutModel",
            "_view_count": null,
            "_view_module": "@jupyter-widgets/base",
            "_view_module_version": "1.2.0",
            "_view_name": "LayoutView",
            "align_content": null,
            "align_items": null,
            "align_self": null,
            "border": null,
            "bottom": null,
            "display": null,
            "flex": null,
            "flex_flow": null,
            "grid_area": null,
            "grid_auto_columns": null,
            "grid_auto_flow": null,
            "grid_auto_rows": null,
            "grid_column": null,
            "grid_gap": null,
            "grid_row": null,
            "grid_template_areas": null,
            "grid_template_columns": null,
            "grid_template_rows": null,
            "height": null,
            "justify_content": null,
            "justify_items": null,
            "left": null,
            "margin": null,
            "max_height": null,
            "max_width": null,
            "min_height": null,
            "min_width": null,
            "object_fit": null,
            "object_position": null,
            "order": null,
            "overflow": null,
            "overflow_x": null,
            "overflow_y": null,
            "padding": null,
            "right": null,
            "top": null,
            "visibility": null,
            "width": null
          }
        },
        "999d2a91f83d4fc7869b93b88d90c1ba": {
          "model_module": "@jupyter-widgets/controls",
          "model_name": "DescriptionStyleModel",
          "model_module_version": "1.5.0",
          "state": {
            "_model_module": "@jupyter-widgets/controls",
            "_model_module_version": "1.5.0",
            "_model_name": "DescriptionStyleModel",
            "_view_count": null,
            "_view_module": "@jupyter-widgets/base",
            "_view_module_version": "1.2.0",
            "_view_name": "StyleView",
            "description_width": ""
          }
        },
        "977da1c2c0a042acb880d7331581c7f7": {
          "model_module": "@jupyter-widgets/controls",
          "model_name": "HBoxModel",
          "model_module_version": "1.5.0",
          "state": {
            "_dom_classes": [],
            "_model_module": "@jupyter-widgets/controls",
            "_model_module_version": "1.5.0",
            "_model_name": "HBoxModel",
            "_view_count": null,
            "_view_module": "@jupyter-widgets/controls",
            "_view_module_version": "1.5.0",
            "_view_name": "HBoxView",
            "box_style": "",
            "children": [
              "IPY_MODEL_1c87fdcb632b4daba816a783d86065fa",
              "IPY_MODEL_b0e01a713701448788fd787785c555e5",
              "IPY_MODEL_bc725e0417a94fa8b404b94b15573c66"
            ],
            "layout": "IPY_MODEL_42a8195cfa6b477f96b1081b586bf33e"
          }
        },
        "1c87fdcb632b4daba816a783d86065fa": {
          "model_module": "@jupyter-widgets/controls",
          "model_name": "HTMLModel",
          "model_module_version": "1.5.0",
          "state": {
            "_dom_classes": [],
            "_model_module": "@jupyter-widgets/controls",
            "_model_module_version": "1.5.0",
            "_model_name": "HTMLModel",
            "_view_count": null,
            "_view_module": "@jupyter-widgets/controls",
            "_view_module_version": "1.5.0",
            "_view_name": "HTMLView",
            "description": "",
            "description_tooltip": null,
            "layout": "IPY_MODEL_165b3412aab34240b5e5127402a9628d",
            "placeholder": "​",
            "style": "IPY_MODEL_85ada02474ba4e11bac88b7e0c8db002",
            "value": "Downloading: 100%"
          }
        },
        "b0e01a713701448788fd787785c555e5": {
          "model_module": "@jupyter-widgets/controls",
          "model_name": "FloatProgressModel",
          "model_module_version": "1.5.0",
          "state": {
            "_dom_classes": [],
            "_model_module": "@jupyter-widgets/controls",
            "_model_module_version": "1.5.0",
            "_model_name": "FloatProgressModel",
            "_view_count": null,
            "_view_module": "@jupyter-widgets/controls",
            "_view_module_version": "1.5.0",
            "_view_name": "ProgressView",
            "bar_style": "success",
            "description": "",
            "description_tooltip": null,
            "layout": "IPY_MODEL_a841b5d747414f498a06b6bfc6d7ba71",
            "max": 263326,
            "min": 0,
            "orientation": "horizontal",
            "style": "IPY_MODEL_86b650856d234918a5efe6103b566132",
            "value": 263326
          }
        },
        "bc725e0417a94fa8b404b94b15573c66": {
          "model_module": "@jupyter-widgets/controls",
          "model_name": "HTMLModel",
          "model_module_version": "1.5.0",
          "state": {
            "_dom_classes": [],
            "_model_module": "@jupyter-widgets/controls",
            "_model_module_version": "1.5.0",
            "_model_name": "HTMLModel",
            "_view_count": null,
            "_view_module": "@jupyter-widgets/controls",
            "_view_module_version": "1.5.0",
            "_view_name": "HTMLView",
            "description": "",
            "description_tooltip": null,
            "layout": "IPY_MODEL_a509d0f8d05549eab3894731f3c288f9",
            "placeholder": "​",
            "style": "IPY_MODEL_6ff1cf32e1b145979920f2952d1a27c7",
            "value": " 263k/263k [00:00&lt;00:00, 273kB/s]"
          }
        },
        "42a8195cfa6b477f96b1081b586bf33e": {
          "model_module": "@jupyter-widgets/base",
          "model_name": "LayoutModel",
          "model_module_version": "1.2.0",
          "state": {
            "_model_module": "@jupyter-widgets/base",
            "_model_module_version": "1.2.0",
            "_model_name": "LayoutModel",
            "_view_count": null,
            "_view_module": "@jupyter-widgets/base",
            "_view_module_version": "1.2.0",
            "_view_name": "LayoutView",
            "align_content": null,
            "align_items": null,
            "align_self": null,
            "border": null,
            "bottom": null,
            "display": null,
            "flex": null,
            "flex_flow": null,
            "grid_area": null,
            "grid_auto_columns": null,
            "grid_auto_flow": null,
            "grid_auto_rows": null,
            "grid_column": null,
            "grid_gap": null,
            "grid_row": null,
            "grid_template_areas": null,
            "grid_template_columns": null,
            "grid_template_rows": null,
            "height": null,
            "justify_content": null,
            "justify_items": null,
            "left": null,
            "margin": null,
            "max_height": null,
            "max_width": null,
            "min_height": null,
            "min_width": null,
            "object_fit": null,
            "object_position": null,
            "order": null,
            "overflow": null,
            "overflow_x": null,
            "overflow_y": null,
            "padding": null,
            "right": null,
            "top": null,
            "visibility": null,
            "width": null
          }
        },
        "165b3412aab34240b5e5127402a9628d": {
          "model_module": "@jupyter-widgets/base",
          "model_name": "LayoutModel",
          "model_module_version": "1.2.0",
          "state": {
            "_model_module": "@jupyter-widgets/base",
            "_model_module_version": "1.2.0",
            "_model_name": "LayoutModel",
            "_view_count": null,
            "_view_module": "@jupyter-widgets/base",
            "_view_module_version": "1.2.0",
            "_view_name": "LayoutView",
            "align_content": null,
            "align_items": null,
            "align_self": null,
            "border": null,
            "bottom": null,
            "display": null,
            "flex": null,
            "flex_flow": null,
            "grid_area": null,
            "grid_auto_columns": null,
            "grid_auto_flow": null,
            "grid_auto_rows": null,
            "grid_column": null,
            "grid_gap": null,
            "grid_row": null,
            "grid_template_areas": null,
            "grid_template_columns": null,
            "grid_template_rows": null,
            "height": null,
            "justify_content": null,
            "justify_items": null,
            "left": null,
            "margin": null,
            "max_height": null,
            "max_width": null,
            "min_height": null,
            "min_width": null,
            "object_fit": null,
            "object_position": null,
            "order": null,
            "overflow": null,
            "overflow_x": null,
            "overflow_y": null,
            "padding": null,
            "right": null,
            "top": null,
            "visibility": null,
            "width": null
          }
        },
        "85ada02474ba4e11bac88b7e0c8db002": {
          "model_module": "@jupyter-widgets/controls",
          "model_name": "DescriptionStyleModel",
          "model_module_version": "1.5.0",
          "state": {
            "_model_module": "@jupyter-widgets/controls",
            "_model_module_version": "1.5.0",
            "_model_name": "DescriptionStyleModel",
            "_view_count": null,
            "_view_module": "@jupyter-widgets/base",
            "_view_module_version": "1.2.0",
            "_view_name": "StyleView",
            "description_width": ""
          }
        },
        "a841b5d747414f498a06b6bfc6d7ba71": {
          "model_module": "@jupyter-widgets/base",
          "model_name": "LayoutModel",
          "model_module_version": "1.2.0",
          "state": {
            "_model_module": "@jupyter-widgets/base",
            "_model_module_version": "1.2.0",
            "_model_name": "LayoutModel",
            "_view_count": null,
            "_view_module": "@jupyter-widgets/base",
            "_view_module_version": "1.2.0",
            "_view_name": "LayoutView",
            "align_content": null,
            "align_items": null,
            "align_self": null,
            "border": null,
            "bottom": null,
            "display": null,
            "flex": null,
            "flex_flow": null,
            "grid_area": null,
            "grid_auto_columns": null,
            "grid_auto_flow": null,
            "grid_auto_rows": null,
            "grid_column": null,
            "grid_gap": null,
            "grid_row": null,
            "grid_template_areas": null,
            "grid_template_columns": null,
            "grid_template_rows": null,
            "height": null,
            "justify_content": null,
            "justify_items": null,
            "left": null,
            "margin": null,
            "max_height": null,
            "max_width": null,
            "min_height": null,
            "min_width": null,
            "object_fit": null,
            "object_position": null,
            "order": null,
            "overflow": null,
            "overflow_x": null,
            "overflow_y": null,
            "padding": null,
            "right": null,
            "top": null,
            "visibility": null,
            "width": null
          }
        },
        "86b650856d234918a5efe6103b566132": {
          "model_module": "@jupyter-widgets/controls",
          "model_name": "ProgressStyleModel",
          "model_module_version": "1.5.0",
          "state": {
            "_model_module": "@jupyter-widgets/controls",
            "_model_module_version": "1.5.0",
            "_model_name": "ProgressStyleModel",
            "_view_count": null,
            "_view_module": "@jupyter-widgets/base",
            "_view_module_version": "1.2.0",
            "_view_name": "StyleView",
            "bar_color": null,
            "description_width": ""
          }
        },
        "a509d0f8d05549eab3894731f3c288f9": {
          "model_module": "@jupyter-widgets/base",
          "model_name": "LayoutModel",
          "model_module_version": "1.2.0",
          "state": {
            "_model_module": "@jupyter-widgets/base",
            "_model_module_version": "1.2.0",
            "_model_name": "LayoutModel",
            "_view_count": null,
            "_view_module": "@jupyter-widgets/base",
            "_view_module_version": "1.2.0",
            "_view_name": "LayoutView",
            "align_content": null,
            "align_items": null,
            "align_self": null,
            "border": null,
            "bottom": null,
            "display": null,
            "flex": null,
            "flex_flow": null,
            "grid_area": null,
            "grid_auto_columns": null,
            "grid_auto_flow": null,
            "grid_auto_rows": null,
            "grid_column": null,
            "grid_gap": null,
            "grid_row": null,
            "grid_template_areas": null,
            "grid_template_columns": null,
            "grid_template_rows": null,
            "height": null,
            "justify_content": null,
            "justify_items": null,
            "left": null,
            "margin": null,
            "max_height": null,
            "max_width": null,
            "min_height": null,
            "min_width": null,
            "object_fit": null,
            "object_position": null,
            "order": null,
            "overflow": null,
            "overflow_x": null,
            "overflow_y": null,
            "padding": null,
            "right": null,
            "top": null,
            "visibility": null,
            "width": null
          }
        },
        "6ff1cf32e1b145979920f2952d1a27c7": {
          "model_module": "@jupyter-widgets/controls",
          "model_name": "DescriptionStyleModel",
          "model_module_version": "1.5.0",
          "state": {
            "_model_module": "@jupyter-widgets/controls",
            "_model_module_version": "1.5.0",
            "_model_name": "DescriptionStyleModel",
            "_view_count": null,
            "_view_module": "@jupyter-widgets/base",
            "_view_module_version": "1.2.0",
            "_view_name": "StyleView",
            "description_width": ""
          }
        }
      }
    }
  },
  "nbformat": 4,
  "nbformat_minor": 5
}