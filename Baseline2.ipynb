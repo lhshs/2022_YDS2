{
 "cells": [
  {
   "cell_type": "markdown",
   "id": "01a46fac",
   "metadata": {
    "id": "01a46fac"
   },
   "source": [
    "# Import"
   ]
  },
  {
   "cell_type": "code",
   "execution_count": 1,
   "id": "0a2e8ff9",
   "metadata": {
    "ExecuteTime": {
     "end_time": "2022-07-08T07:57:27.647041Z",
     "start_time": "2022-07-08T07:57:27.032322Z"
    },
    "executionInfo": {
     "elapsed": 4775,
     "status": "ok",
     "timestamp": 1657253346973,
     "user": {
      "displayName": "hs L",
      "userId": "04521576200392151172"
     },
     "user_tz": -540
    },
    "id": "0a2e8ff9"
   },
   "outputs": [],
   "source": [
    "import random\n",
    "import pandas as pd\n",
    "import numpy as np\n",
    "import os\n",
    "import librosa\n",
    "\n",
    "from tqdm.auto import tqdm\n",
    "\n",
    "from sklearn.neural_network import MLPClassifier\n",
    "from sklearn.preprocessing import OneHotEncoder\n",
    "\n",
    "import warnings\n",
    "warnings.filterwarnings(action='ignore') "
   ]
  },
  {
   "cell_type": "markdown",
   "id": "7c41aa97",
   "metadata": {
    "id": "7c41aa97"
   },
   "source": [
    "# Hyperparameter Setting"
   ]
  },
  {
   "cell_type": "code",
   "execution_count": 2,
   "id": "45b4f7f0",
   "metadata": {
    "ExecuteTime": {
     "end_time": "2022-07-08T07:57:27.813004Z",
     "start_time": "2022-07-08T07:57:27.810200Z"
    },
    "id": "45b4f7f0"
   },
   "outputs": [],
   "source": [
    "CFG = {\n",
    "    'SR':16000,\n",
    "    'N_MFCC':32, # MFCC 벡터를 추출할 개수\n",
    "    'SEED':42\n",
    "}"
   ]
  },
  {
   "cell_type": "markdown",
   "id": "5c98aabf",
   "metadata": {
    "id": "5c98aabf"
   },
   "source": [
    "# Fixed Random-Seed"
   ]
  },
  {
   "cell_type": "code",
   "execution_count": 3,
   "id": "179a4bb3",
   "metadata": {
    "ExecuteTime": {
     "end_time": "2022-07-08T07:57:28.488026Z",
     "start_time": "2022-07-08T07:57:28.483904Z"
    },
    "id": "179a4bb3"
   },
   "outputs": [],
   "source": [
    "def seed_everything(seed):\n",
    "    random.seed(seed)\n",
    "    os.environ['PYTHONHASHSEED'] = str(seed)\n",
    "    np.random.seed(seed)\n",
    "\n",
    "seed_everything(CFG['SEED']) # Seed 고정"
   ]
  },
  {
   "cell_type": "markdown",
   "id": "0cfbf54c",
   "metadata": {
    "id": "0cfbf54c"
   },
   "source": [
    "# Data Pre-Processing 1"
   ]
  },
  {
   "cell_type": "code",
   "execution_count": 4,
   "id": "3d309551",
   "metadata": {
    "ExecuteTime": {
     "end_time": "2022-07-08T07:57:29.879674Z",
     "start_time": "2022-07-08T07:57:29.860847Z"
    },
    "executionInfo": {
     "elapsed": 1056,
     "status": "ok",
     "timestamp": 1657253440158,
     "user": {
      "displayName": "hs L",
      "userId": "04521576200392151172"
     },
     "user_tz": -540
    },
    "id": "3d309551"
   },
   "outputs": [],
   "source": [
    "train_df = pd.read_csv('./train_data.csv')\n",
    "test_df = pd.read_csv('./test_data.csv')\n",
    "unlabeled_df = pd.read_csv('./unlabeled_data.csv')"
   ]
  },
  {
   "cell_type": "code",
   "execution_count": null,
   "id": "7c9e2215",
   "metadata": {
    "ExecuteTime": {
     "end_time": "2022-07-08T07:55:40.145763Z",
     "start_time": "2022-07-08T07:55:40.138254Z"
    }
   },
   "outputs": [],
   "source": [
    "test_label = pd.read_csv('./test_label.csv')"
   ]
  },
  {
   "cell_type": "code",
   "execution_count": null,
   "id": "152dab9c",
   "metadata": {
    "ExecuteTime": {
     "end_time": "2022-07-08T07:27:45.416152Z",
     "start_time": "2022-07-08T07:27:45.402677Z"
    }
   },
   "outputs": [],
   "source": [
    "test_tt = pd.merge(test_df, test_label, how='inner')\n",
    "test_df = test_tt"
   ]
  },
  {
   "cell_type": "code",
   "execution_count": null,
   "id": "b589e80e",
   "metadata": {
    "ExecuteTime": {
     "end_time": "2022-07-08T07:35:20.613175Z",
     "start_time": "2022-07-08T07:35:20.540213Z"
    }
   },
   "outputs": [],
   "source": [
    "new_train = pd.concat([train_df, unlabeled_df]).reset_index()\n",
    "new_train = new_train.drop(columns=['index'])\n",
    "new_train"
   ]
  },
  {
   "cell_type": "code",
   "execution_count": null,
   "id": "f0bbc0d5",
   "metadata": {
    "ExecuteTime": {
     "end_time": "2022-07-08T07:39:49.188702Z",
     "start_time": "2022-07-08T07:39:49.184149Z"
    }
   },
   "outputs": [],
   "source": [
    "new_train = new_train.fillna(1)"
   ]
  },
  {
   "cell_type": "code",
   "execution_count": null,
   "id": "2765f577",
   "metadata": {
    "ExecuteTime": {
     "end_time": "2022-07-08T07:40:47.909542Z",
     "start_time": "2022-07-08T07:40:47.043932Z"
    },
    "scrolled": true
   },
   "outputs": [],
   "source": [
    "new_train = new_train.astype({'covid19' : 'int'})\n",
    "new_train = new_train.reset_index().drop(columns=['index','level_0'])"
   ]
  },
  {
   "cell_type": "code",
   "execution_count": null,
   "id": "275c1373",
   "metadata": {
    "ExecuteTime": {
     "end_time": "2022-07-08T07:41:02.900355Z",
     "start_time": "2022-07-08T07:41:02.884873Z"
    }
   },
   "outputs": [],
   "source": [
    "new_train"
   ]
  },
  {
   "cell_type": "code",
   "execution_count": null,
   "id": "a0380e9e",
   "metadata": {
    "ExecuteTime": {
     "end_time": "2022-07-08T07:09:55.372664Z",
     "start_time": "2022-07-08T07:09:55.337491Z"
    }
   },
   "outputs": [],
   "source": [
    "# new_train.to_csv('./new_train.csv')"
   ]
  },
  {
   "cell_type": "code",
   "execution_count": null,
   "id": "30058f5b",
   "metadata": {
    "ExecuteTime": {
     "end_time": "2022-07-08T07:41:19.295147Z",
     "start_time": "2022-07-08T07:41:19.286850Z"
    },
    "colab": {
     "base_uri": "https://localhost:8080/",
     "height": 105
    },
    "executionInfo": {
     "elapsed": 61,
     "status": "ok",
     "timestamp": 1657214290374,
     "user": {
      "displayName": "hs L",
      "userId": "04521576200392151172"
     },
     "user_tz": -540
    },
    "id": "30058f5b",
    "outputId": "60c1f068-9f49-43a7-a36d-0a65b9056312"
   },
   "outputs": [],
   "source": [
    "def get_mfcc_feature(df, data_type, save_path):\n",
    "    # Data Folder path\n",
    "    root_folder = './wav_dataset'\n",
    "    if os.path.exists(save_path):\n",
    "        print(f'{save_path} is exist.')\n",
    "        return\n",
    "    features = []\n",
    "    for uid in tqdm(df['id']):\n",
    "        root_path = os.path.join(root_folder, data_type)\n",
    "        path = os.path.join(root_path, str(uid).zfill(5)+'.wav')\n",
    "\n",
    "        # librosa패키지를 사용하여 wav 파일 load\n",
    "        y, sr = librosa.load(path, sr=CFG['SR'])\n",
    "        \n",
    "        # librosa패키지를 사용하여 mfcc 추출\n",
    "        mfcc = librosa.feature.mfcc(y=y, sr=sr, n_mfcc=CFG['N_MFCC'])\n",
    "\n",
    "        y_feature = []\n",
    "        # 추출된 MFCC들의 평균을 Feature로 사용\n",
    "        for e in mfcc:\n",
    "            y_feature.append(np.mean(e))\n",
    "        features.append(y_feature)\n",
    "    \n",
    "    # 기존의 자가진단 정보를 담은 데이터프레임에 추출된 오디오 Feature를 추가\n",
    "    mfcc_df = pd.DataFrame(features, columns=['mfcc_'+str(x) for x in range(1,CFG['N_MFCC']+1)])\n",
    "    df = pd.concat([df, mfcc_df], axis=1)\n",
    "    df.to_csv(save_path, index=False)\n",
    "    print('Done.')"
   ]
  },
  {
   "cell_type": "code",
   "execution_count": null,
   "id": "09bb91a2",
   "metadata": {
    "ExecuteTime": {
     "end_time": "2022-07-08T07:45:00.880388Z",
     "start_time": "2022-07-08T07:41:28.599808Z"
    }
   },
   "outputs": [],
   "source": [
    "# get_mfcc_feature(unlabeled_df, 'unlabeled', './unlabeled_mfcc_data.csv')\n",
    "# get_mfcc_feature(new_train, 'new_train', './new_train_mfcc_data2.csv')"
   ]
  },
  {
   "cell_type": "code",
   "execution_count": null,
   "id": "c6cf5c83",
   "metadata": {
    "ExecuteTime": {
     "end_time": "2022-07-08T07:22:25.148604Z",
     "start_time": "2022-07-08T07:13:39.851840Z"
    },
    "colab": {
     "base_uri": "https://localhost:8080/",
     "height": 36
    },
    "executionInfo": {
     "elapsed": 58,
     "status": "ok",
     "timestamp": 1657214290376,
     "user": {
      "displayName": "hs L",
      "userId": "04521576200392151172"
     },
     "user_tz": -540
    },
    "id": "c6cf5c83",
    "outputId": "14358f18-66ee-42ba-edc1-4273bbd2fa40"
   },
   "outputs": [],
   "source": [
    "'''\n",
    "get_mfcc_feature(train_df, 'train', './train_mfcc_data.csv')\n",
    "get_mfcc_feature(test_df, 'test', './test_mfcc_data.csv')\n",
    "get_mfcc_feature('unlabeled', './unlabeled_mfcc_data.csv')\n",
    "'''"
   ]
  },
  {
   "cell_type": "code",
   "execution_count": 6,
   "id": "07ef54c7",
   "metadata": {
    "ExecuteTime": {
     "end_time": "2022-07-08T07:57:37.474283Z",
     "start_time": "2022-07-08T07:57:37.414091Z"
    },
    "id": "07ef54c7"
   },
   "outputs": [],
   "source": [
    "# train_mfcc_data = pd.read_csv('./train_mfcc_data.csv')\n",
    "# test_mfcc_data = pd.read_csv('./test_mfcc_data.csv')\n",
    "new_train_mfcc_data = pd.read_csv('./new_train_mfcc_data.csv')\n",
    "test_mfcc_data = pd.read_csv('./test_mfcc_data.csv')\n",
    "unlabeled_mfcc_data = pd.read_csv('./unlabeled_mfcc_data.csv')"
   ]
  },
  {
   "cell_type": "code",
   "execution_count": 8,
   "id": "814377bd",
   "metadata": {
    "ExecuteTime": {
     "end_time": "2022-07-08T07:57:44.714811Z",
     "start_time": "2022-07-08T07:57:44.660894Z"
    }
   },
   "outputs": [
    {
     "data": {
      "text/html": [
       "<div>\n",
       "<style scoped>\n",
       "    .dataframe tbody tr th:only-of-type {\n",
       "        vertical-align: middle;\n",
       "    }\n",
       "\n",
       "    .dataframe tbody tr th {\n",
       "        vertical-align: top;\n",
       "    }\n",
       "\n",
       "    .dataframe thead th {\n",
       "        text-align: right;\n",
       "    }\n",
       "</style>\n",
       "<table border=\"1\" class=\"dataframe\">\n",
       "  <thead>\n",
       "    <tr style=\"text-align: right;\">\n",
       "      <th></th>\n",
       "      <th>id</th>\n",
       "      <th>age</th>\n",
       "      <th>gender</th>\n",
       "      <th>respiratory_condition</th>\n",
       "      <th>fever_or_muscle_pain</th>\n",
       "      <th>covid19</th>\n",
       "      <th>mfcc_1</th>\n",
       "      <th>mfcc_2</th>\n",
       "      <th>mfcc_3</th>\n",
       "      <th>mfcc_4</th>\n",
       "      <th>...</th>\n",
       "      <th>mfcc_23</th>\n",
       "      <th>mfcc_24</th>\n",
       "      <th>mfcc_25</th>\n",
       "      <th>mfcc_26</th>\n",
       "      <th>mfcc_27</th>\n",
       "      <th>mfcc_28</th>\n",
       "      <th>mfcc_29</th>\n",
       "      <th>mfcc_30</th>\n",
       "      <th>mfcc_31</th>\n",
       "      <th>mfcc_32</th>\n",
       "    </tr>\n",
       "  </thead>\n",
       "  <tbody>\n",
       "    <tr>\n",
       "      <th>0</th>\n",
       "      <td>1</td>\n",
       "      <td>24</td>\n",
       "      <td>female</td>\n",
       "      <td>0</td>\n",
       "      <td>1</td>\n",
       "      <td>0</td>\n",
       "      <td>-276.01898</td>\n",
       "      <td>30.519340</td>\n",
       "      <td>-20.314617</td>\n",
       "      <td>-6.689037</td>\n",
       "      <td>...</td>\n",
       "      <td>-2.679408</td>\n",
       "      <td>2.454339</td>\n",
       "      <td>-1.176285</td>\n",
       "      <td>2.314315</td>\n",
       "      <td>-0.339533</td>\n",
       "      <td>2.514413</td>\n",
       "      <td>-4.784703</td>\n",
       "      <td>1.239072</td>\n",
       "      <td>-1.556883</td>\n",
       "      <td>-1.548770</td>\n",
       "    </tr>\n",
       "    <tr>\n",
       "      <th>1</th>\n",
       "      <td>2</td>\n",
       "      <td>51</td>\n",
       "      <td>male</td>\n",
       "      <td>0</td>\n",
       "      <td>0</td>\n",
       "      <td>0</td>\n",
       "      <td>-312.99362</td>\n",
       "      <td>54.141323</td>\n",
       "      <td>-1.748550</td>\n",
       "      <td>-9.437217</td>\n",
       "      <td>...</td>\n",
       "      <td>-7.248304</td>\n",
       "      <td>1.238725</td>\n",
       "      <td>-6.894970</td>\n",
       "      <td>-1.810402</td>\n",
       "      <td>-7.259594</td>\n",
       "      <td>0.715029</td>\n",
       "      <td>-1.372265</td>\n",
       "      <td>-1.760624</td>\n",
       "      <td>-2.735181</td>\n",
       "      <td>1.134190</td>\n",
       "    </tr>\n",
       "    <tr>\n",
       "      <th>2</th>\n",
       "      <td>3</td>\n",
       "      <td>22</td>\n",
       "      <td>male</td>\n",
       "      <td>0</td>\n",
       "      <td>0</td>\n",
       "      <td>0</td>\n",
       "      <td>-438.60306</td>\n",
       "      <td>46.675842</td>\n",
       "      <td>-22.771935</td>\n",
       "      <td>-3.527922</td>\n",
       "      <td>...</td>\n",
       "      <td>-0.136723</td>\n",
       "      <td>-1.707353</td>\n",
       "      <td>2.649277</td>\n",
       "      <td>1.208829</td>\n",
       "      <td>-0.033701</td>\n",
       "      <td>-1.008729</td>\n",
       "      <td>-0.687255</td>\n",
       "      <td>-0.472232</td>\n",
       "      <td>0.850565</td>\n",
       "      <td>0.353839</td>\n",
       "    </tr>\n",
       "    <tr>\n",
       "      <th>3</th>\n",
       "      <td>4</td>\n",
       "      <td>29</td>\n",
       "      <td>female</td>\n",
       "      <td>1</td>\n",
       "      <td>0</td>\n",
       "      <td>0</td>\n",
       "      <td>-369.26100</td>\n",
       "      <td>47.762012</td>\n",
       "      <td>-8.256503</td>\n",
       "      <td>-2.891349</td>\n",
       "      <td>...</td>\n",
       "      <td>-0.389230</td>\n",
       "      <td>4.033148</td>\n",
       "      <td>-2.658165</td>\n",
       "      <td>2.867084</td>\n",
       "      <td>1.679876</td>\n",
       "      <td>2.136411</td>\n",
       "      <td>0.289792</td>\n",
       "      <td>1.709179</td>\n",
       "      <td>-0.592465</td>\n",
       "      <td>1.754549</td>\n",
       "    </tr>\n",
       "    <tr>\n",
       "      <th>4</th>\n",
       "      <td>5</td>\n",
       "      <td>23</td>\n",
       "      <td>male</td>\n",
       "      <td>0</td>\n",
       "      <td>0</td>\n",
       "      <td>0</td>\n",
       "      <td>-535.68915</td>\n",
       "      <td>7.509357</td>\n",
       "      <td>-7.762263</td>\n",
       "      <td>2.567660</td>\n",
       "      <td>...</td>\n",
       "      <td>-0.279360</td>\n",
       "      <td>-0.292286</td>\n",
       "      <td>-1.559678</td>\n",
       "      <td>0.328864</td>\n",
       "      <td>-1.053423</td>\n",
       "      <td>0.844060</td>\n",
       "      <td>-0.788914</td>\n",
       "      <td>1.182740</td>\n",
       "      <td>-0.527028</td>\n",
       "      <td>1.208361</td>\n",
       "    </tr>\n",
       "    <tr>\n",
       "      <th>...</th>\n",
       "      <td>...</td>\n",
       "      <td>...</td>\n",
       "      <td>...</td>\n",
       "      <td>...</td>\n",
       "      <td>...</td>\n",
       "      <td>...</td>\n",
       "      <td>...</td>\n",
       "      <td>...</td>\n",
       "      <td>...</td>\n",
       "      <td>...</td>\n",
       "      <td>...</td>\n",
       "      <td>...</td>\n",
       "      <td>...</td>\n",
       "      <td>...</td>\n",
       "      <td>...</td>\n",
       "      <td>...</td>\n",
       "      <td>...</td>\n",
       "      <td>...</td>\n",
       "      <td>...</td>\n",
       "      <td>...</td>\n",
       "      <td>...</td>\n",
       "    </tr>\n",
       "    <tr>\n",
       "      <th>13266</th>\n",
       "      <td>11400</td>\n",
       "      <td>8</td>\n",
       "      <td>female</td>\n",
       "      <td>0</td>\n",
       "      <td>0</td>\n",
       "      <td>-999</td>\n",
       "      <td>-461.32520</td>\n",
       "      <td>22.623890</td>\n",
       "      <td>-6.396159</td>\n",
       "      <td>7.355534</td>\n",
       "      <td>...</td>\n",
       "      <td>-1.262772</td>\n",
       "      <td>0.351229</td>\n",
       "      <td>-0.073305</td>\n",
       "      <td>-0.782535</td>\n",
       "      <td>-0.052364</td>\n",
       "      <td>1.048027</td>\n",
       "      <td>-1.696817</td>\n",
       "      <td>-0.173869</td>\n",
       "      <td>-0.438885</td>\n",
       "      <td>0.898622</td>\n",
       "    </tr>\n",
       "    <tr>\n",
       "      <th>13267</th>\n",
       "      <td>11401</td>\n",
       "      <td>29</td>\n",
       "      <td>male</td>\n",
       "      <td>0</td>\n",
       "      <td>1</td>\n",
       "      <td>-999</td>\n",
       "      <td>-333.90408</td>\n",
       "      <td>37.195827</td>\n",
       "      <td>3.925677</td>\n",
       "      <td>9.610576</td>\n",
       "      <td>...</td>\n",
       "      <td>-7.815808</td>\n",
       "      <td>-0.335320</td>\n",
       "      <td>-8.180732</td>\n",
       "      <td>-4.139085</td>\n",
       "      <td>-6.545818</td>\n",
       "      <td>-2.195700</td>\n",
       "      <td>-1.213498</td>\n",
       "      <td>-0.847897</td>\n",
       "      <td>0.001108</td>\n",
       "      <td>2.640274</td>\n",
       "    </tr>\n",
       "    <tr>\n",
       "      <th>13268</th>\n",
       "      <td>11402</td>\n",
       "      <td>17</td>\n",
       "      <td>male</td>\n",
       "      <td>0</td>\n",
       "      <td>0</td>\n",
       "      <td>-999</td>\n",
       "      <td>-430.32492</td>\n",
       "      <td>26.273499</td>\n",
       "      <td>-0.465416</td>\n",
       "      <td>1.431988</td>\n",
       "      <td>...</td>\n",
       "      <td>3.291479</td>\n",
       "      <td>1.793235</td>\n",
       "      <td>-1.445930</td>\n",
       "      <td>-2.996969</td>\n",
       "      <td>-2.641327</td>\n",
       "      <td>1.613704</td>\n",
       "      <td>2.414957</td>\n",
       "      <td>3.153693</td>\n",
       "      <td>0.158814</td>\n",
       "      <td>0.487620</td>\n",
       "    </tr>\n",
       "    <tr>\n",
       "      <th>13269</th>\n",
       "      <td>11403</td>\n",
       "      <td>22</td>\n",
       "      <td>male</td>\n",
       "      <td>0</td>\n",
       "      <td>0</td>\n",
       "      <td>-999</td>\n",
       "      <td>-648.42773</td>\n",
       "      <td>27.682764</td>\n",
       "      <td>6.621850</td>\n",
       "      <td>16.785809</td>\n",
       "      <td>...</td>\n",
       "      <td>-2.176159</td>\n",
       "      <td>-0.372978</td>\n",
       "      <td>-1.241015</td>\n",
       "      <td>0.524427</td>\n",
       "      <td>-0.349503</td>\n",
       "      <td>-0.422278</td>\n",
       "      <td>-1.628088</td>\n",
       "      <td>0.241716</td>\n",
       "      <td>-1.117643</td>\n",
       "      <td>-1.026300</td>\n",
       "    </tr>\n",
       "    <tr>\n",
       "      <th>13270</th>\n",
       "      <td>11404</td>\n",
       "      <td>21</td>\n",
       "      <td>female</td>\n",
       "      <td>0</td>\n",
       "      <td>0</td>\n",
       "      <td>-999</td>\n",
       "      <td>-410.67154</td>\n",
       "      <td>21.646444</td>\n",
       "      <td>-12.740927</td>\n",
       "      <td>-2.703811</td>\n",
       "      <td>...</td>\n",
       "      <td>-1.123306</td>\n",
       "      <td>0.908361</td>\n",
       "      <td>-2.245705</td>\n",
       "      <td>0.045894</td>\n",
       "      <td>-1.785995</td>\n",
       "      <td>0.524354</td>\n",
       "      <td>-1.119506</td>\n",
       "      <td>1.941428</td>\n",
       "      <td>-0.517552</td>\n",
       "      <td>-0.017616</td>\n",
       "    </tr>\n",
       "  </tbody>\n",
       "</table>\n",
       "<p>13271 rows × 38 columns</p>\n",
       "</div>"
      ],
      "text/plain": [
       "          id  age  gender  respiratory_condition  fever_or_muscle_pain  \\\n",
       "0          1   24  female                      0                     1   \n",
       "1          2   51    male                      0                     0   \n",
       "2          3   22    male                      0                     0   \n",
       "3          4   29  female                      1                     0   \n",
       "4          5   23    male                      0                     0   \n",
       "...      ...  ...     ...                    ...                   ...   \n",
       "13266  11400    8  female                      0                     0   \n",
       "13267  11401   29    male                      0                     1   \n",
       "13268  11402   17    male                      0                     0   \n",
       "13269  11403   22    male                      0                     0   \n",
       "13270  11404   21  female                      0                     0   \n",
       "\n",
       "       covid19     mfcc_1     mfcc_2     mfcc_3     mfcc_4  ...   mfcc_23  \\\n",
       "0            0 -276.01898  30.519340 -20.314617  -6.689037  ... -2.679408   \n",
       "1            0 -312.99362  54.141323  -1.748550  -9.437217  ... -7.248304   \n",
       "2            0 -438.60306  46.675842 -22.771935  -3.527922  ... -0.136723   \n",
       "3            0 -369.26100  47.762012  -8.256503  -2.891349  ... -0.389230   \n",
       "4            0 -535.68915   7.509357  -7.762263   2.567660  ... -0.279360   \n",
       "...        ...        ...        ...        ...        ...  ...       ...   \n",
       "13266     -999 -461.32520  22.623890  -6.396159   7.355534  ... -1.262772   \n",
       "13267     -999 -333.90408  37.195827   3.925677   9.610576  ... -7.815808   \n",
       "13268     -999 -430.32492  26.273499  -0.465416   1.431988  ...  3.291479   \n",
       "13269     -999 -648.42773  27.682764   6.621850  16.785809  ... -2.176159   \n",
       "13270     -999 -410.67154  21.646444 -12.740927  -2.703811  ... -1.123306   \n",
       "\n",
       "        mfcc_24   mfcc_25   mfcc_26   mfcc_27   mfcc_28   mfcc_29   mfcc_30  \\\n",
       "0      2.454339 -1.176285  2.314315 -0.339533  2.514413 -4.784703  1.239072   \n",
       "1      1.238725 -6.894970 -1.810402 -7.259594  0.715029 -1.372265 -1.760624   \n",
       "2     -1.707353  2.649277  1.208829 -0.033701 -1.008729 -0.687255 -0.472232   \n",
       "3      4.033148 -2.658165  2.867084  1.679876  2.136411  0.289792  1.709179   \n",
       "4     -0.292286 -1.559678  0.328864 -1.053423  0.844060 -0.788914  1.182740   \n",
       "...         ...       ...       ...       ...       ...       ...       ...   \n",
       "13266  0.351229 -0.073305 -0.782535 -0.052364  1.048027 -1.696817 -0.173869   \n",
       "13267 -0.335320 -8.180732 -4.139085 -6.545818 -2.195700 -1.213498 -0.847897   \n",
       "13268  1.793235 -1.445930 -2.996969 -2.641327  1.613704  2.414957  3.153693   \n",
       "13269 -0.372978 -1.241015  0.524427 -0.349503 -0.422278 -1.628088  0.241716   \n",
       "13270  0.908361 -2.245705  0.045894 -1.785995  0.524354 -1.119506  1.941428   \n",
       "\n",
       "        mfcc_31   mfcc_32  \n",
       "0     -1.556883 -1.548770  \n",
       "1     -2.735181  1.134190  \n",
       "2      0.850565  0.353839  \n",
       "3     -0.592465  1.754549  \n",
       "4     -0.527028  1.208361  \n",
       "...         ...       ...  \n",
       "13266 -0.438885  0.898622  \n",
       "13267  0.001108  2.640274  \n",
       "13268  0.158814  0.487620  \n",
       "13269 -1.117643 -1.026300  \n",
       "13270 -0.517552 -0.017616  \n",
       "\n",
       "[13271 rows x 38 columns]"
      ]
     },
     "execution_count": 8,
     "metadata": {},
     "output_type": "execute_result"
    }
   ],
   "source": [
    "new_train_mfcc_data = pd.concat([new_train_mfcc_data, unlabeled_mfcc_data])\n",
    "new_train_mfcc_data = new_train_mfcc_data.fillna(-999)\n",
    "new_train_mfcc_data = new_train_mfcc_data.astype({'covid19' : 'int'})\n",
    "new_train_mfcc_data = new_train_mfcc_data.reset_index()\n",
    "new_train_mfcc_data = new_train_mfcc_data.drop(columns=['index'])\n",
    "# new_train_mfcc_data = new_train_mfcc_data.drop(columns=['level_0'])\n",
    "new_train_mfcc_data"
   ]
  },
  {
   "cell_type": "markdown",
   "id": "fb2a0055",
   "metadata": {
    "id": "fb2a0055"
   },
   "source": [
    "# Data Pre-Processing 2"
   ]
  },
  {
   "cell_type": "code",
   "execution_count": 9,
   "id": "8af9c362",
   "metadata": {
    "ExecuteTime": {
     "end_time": "2022-07-08T07:57:47.859301Z",
     "start_time": "2022-07-08T07:57:47.852400Z"
    },
    "id": "8af9c362"
   },
   "outputs": [],
   "source": [
    "# wav 파일의 MFCC Feature와 상태정보를 합친 학습데이터를 불러옵니다.\n",
    "# train_df = pd.read_csv('./train_mfcc_data.csv')\n",
    "\n",
    "# 학습데이터를 모델의 input으로 들어갈 x와 label로 사용할 y로 분할\n",
    "train_x = new_train_mfcc_data.drop(columns=['id', 'covid19'])\n",
    "train_y = new_train_mfcc_data['covid19']"
   ]
  },
  {
   "cell_type": "code",
   "execution_count": 10,
   "id": "232fb037",
   "metadata": {
    "ExecuteTime": {
     "end_time": "2022-07-08T07:57:48.168218Z",
     "start_time": "2022-07-08T07:57:48.161914Z"
    },
    "id": "232fb037"
   },
   "outputs": [],
   "source": [
    "def onehot_encoding(ohe, x):\n",
    "    # 학습데이터로 부터 fit된 one-hot encoder (ohe)를 받아 transform 시켜주는 함수\n",
    "    encoded = ohe.transform(x['gender'].values.reshape(-1,1))\n",
    "    encoded_df = pd.DataFrame(encoded, columns=ohe.categories_[0])\n",
    "    x = pd.concat([x.drop(columns=['gender']), encoded_df], axis=1)\n",
    "    return x"
   ]
  },
  {
   "cell_type": "code",
   "execution_count": 11,
   "id": "79181893",
   "metadata": {
    "ExecuteTime": {
     "end_time": "2022-07-08T07:57:48.409611Z",
     "start_time": "2022-07-08T07:57:48.391912Z"
    },
    "id": "79181893"
   },
   "outputs": [],
   "source": [
    "# 'gender' column의 경우 추가 전처리가 필요 -> OneHotEncoder 적용\n",
    "ohe = OneHotEncoder(sparse=False)\n",
    "ohe.fit(new_train_mfcc_data['gender'].values.reshape(-1,1))\n",
    "train_x = onehot_encoding(ohe, train_x)"
   ]
  },
  {
   "cell_type": "code",
   "execution_count": 12,
   "id": "77f4445b",
   "metadata": {
    "ExecuteTime": {
     "end_time": "2022-07-08T07:57:48.649816Z",
     "start_time": "2022-07-08T07:57:48.616711Z"
    }
   },
   "outputs": [
    {
     "data": {
      "text/html": [
       "<div>\n",
       "<style scoped>\n",
       "    .dataframe tbody tr th:only-of-type {\n",
       "        vertical-align: middle;\n",
       "    }\n",
       "\n",
       "    .dataframe tbody tr th {\n",
       "        vertical-align: top;\n",
       "    }\n",
       "\n",
       "    .dataframe thead th {\n",
       "        text-align: right;\n",
       "    }\n",
       "</style>\n",
       "<table border=\"1\" class=\"dataframe\">\n",
       "  <thead>\n",
       "    <tr style=\"text-align: right;\">\n",
       "      <th></th>\n",
       "      <th>age</th>\n",
       "      <th>respiratory_condition</th>\n",
       "      <th>fever_or_muscle_pain</th>\n",
       "      <th>mfcc_1</th>\n",
       "      <th>mfcc_2</th>\n",
       "      <th>mfcc_3</th>\n",
       "      <th>mfcc_4</th>\n",
       "      <th>mfcc_5</th>\n",
       "      <th>mfcc_6</th>\n",
       "      <th>mfcc_7</th>\n",
       "      <th>...</th>\n",
       "      <th>mfcc_26</th>\n",
       "      <th>mfcc_27</th>\n",
       "      <th>mfcc_28</th>\n",
       "      <th>mfcc_29</th>\n",
       "      <th>mfcc_30</th>\n",
       "      <th>mfcc_31</th>\n",
       "      <th>mfcc_32</th>\n",
       "      <th>female</th>\n",
       "      <th>male</th>\n",
       "      <th>other</th>\n",
       "    </tr>\n",
       "  </thead>\n",
       "  <tbody>\n",
       "    <tr>\n",
       "      <th>0</th>\n",
       "      <td>24</td>\n",
       "      <td>0</td>\n",
       "      <td>1</td>\n",
       "      <td>-276.01898</td>\n",
       "      <td>30.519340</td>\n",
       "      <td>-20.314617</td>\n",
       "      <td>-6.689037</td>\n",
       "      <td>-10.224930</td>\n",
       "      <td>-7.443150</td>\n",
       "      <td>-33.740433</td>\n",
       "      <td>...</td>\n",
       "      <td>2.314315</td>\n",
       "      <td>-0.339533</td>\n",
       "      <td>2.514413</td>\n",
       "      <td>-4.784703</td>\n",
       "      <td>1.239072</td>\n",
       "      <td>-1.556883</td>\n",
       "      <td>-1.548770</td>\n",
       "      <td>1.0</td>\n",
       "      <td>0.0</td>\n",
       "      <td>0.0</td>\n",
       "    </tr>\n",
       "    <tr>\n",
       "      <th>1</th>\n",
       "      <td>51</td>\n",
       "      <td>0</td>\n",
       "      <td>0</td>\n",
       "      <td>-312.99362</td>\n",
       "      <td>54.141323</td>\n",
       "      <td>-1.748550</td>\n",
       "      <td>-9.437217</td>\n",
       "      <td>4.317682</td>\n",
       "      <td>-0.148136</td>\n",
       "      <td>-17.331125</td>\n",
       "      <td>...</td>\n",
       "      <td>-1.810402</td>\n",
       "      <td>-7.259594</td>\n",
       "      <td>0.715029</td>\n",
       "      <td>-1.372265</td>\n",
       "      <td>-1.760624</td>\n",
       "      <td>-2.735181</td>\n",
       "      <td>1.134190</td>\n",
       "      <td>0.0</td>\n",
       "      <td>1.0</td>\n",
       "      <td>0.0</td>\n",
       "    </tr>\n",
       "    <tr>\n",
       "      <th>2</th>\n",
       "      <td>22</td>\n",
       "      <td>0</td>\n",
       "      <td>0</td>\n",
       "      <td>-438.60306</td>\n",
       "      <td>46.675842</td>\n",
       "      <td>-22.771935</td>\n",
       "      <td>-3.527922</td>\n",
       "      <td>-13.949551</td>\n",
       "      <td>0.344213</td>\n",
       "      <td>-9.082897</td>\n",
       "      <td>...</td>\n",
       "      <td>1.208829</td>\n",
       "      <td>-0.033701</td>\n",
       "      <td>-1.008729</td>\n",
       "      <td>-0.687255</td>\n",
       "      <td>-0.472232</td>\n",
       "      <td>0.850565</td>\n",
       "      <td>0.353839</td>\n",
       "      <td>0.0</td>\n",
       "      <td>1.0</td>\n",
       "      <td>0.0</td>\n",
       "    </tr>\n",
       "    <tr>\n",
       "      <th>3</th>\n",
       "      <td>29</td>\n",
       "      <td>1</td>\n",
       "      <td>0</td>\n",
       "      <td>-369.26100</td>\n",
       "      <td>47.762012</td>\n",
       "      <td>-8.256503</td>\n",
       "      <td>-2.891349</td>\n",
       "      <td>-21.302510</td>\n",
       "      <td>-8.495335</td>\n",
       "      <td>-11.653670</td>\n",
       "      <td>...</td>\n",
       "      <td>2.867084</td>\n",
       "      <td>1.679876</td>\n",
       "      <td>2.136411</td>\n",
       "      <td>0.289792</td>\n",
       "      <td>1.709179</td>\n",
       "      <td>-0.592465</td>\n",
       "      <td>1.754549</td>\n",
       "      <td>1.0</td>\n",
       "      <td>0.0</td>\n",
       "      <td>0.0</td>\n",
       "    </tr>\n",
       "    <tr>\n",
       "      <th>4</th>\n",
       "      <td>23</td>\n",
       "      <td>0</td>\n",
       "      <td>0</td>\n",
       "      <td>-535.68915</td>\n",
       "      <td>7.509357</td>\n",
       "      <td>-7.762263</td>\n",
       "      <td>2.567660</td>\n",
       "      <td>-5.632455</td>\n",
       "      <td>-0.318077</td>\n",
       "      <td>-6.422602</td>\n",
       "      <td>...</td>\n",
       "      <td>0.328864</td>\n",
       "      <td>-1.053423</td>\n",
       "      <td>0.844060</td>\n",
       "      <td>-0.788914</td>\n",
       "      <td>1.182740</td>\n",
       "      <td>-0.527028</td>\n",
       "      <td>1.208361</td>\n",
       "      <td>0.0</td>\n",
       "      <td>1.0</td>\n",
       "      <td>0.0</td>\n",
       "    </tr>\n",
       "    <tr>\n",
       "      <th>...</th>\n",
       "      <td>...</td>\n",
       "      <td>...</td>\n",
       "      <td>...</td>\n",
       "      <td>...</td>\n",
       "      <td>...</td>\n",
       "      <td>...</td>\n",
       "      <td>...</td>\n",
       "      <td>...</td>\n",
       "      <td>...</td>\n",
       "      <td>...</td>\n",
       "      <td>...</td>\n",
       "      <td>...</td>\n",
       "      <td>...</td>\n",
       "      <td>...</td>\n",
       "      <td>...</td>\n",
       "      <td>...</td>\n",
       "      <td>...</td>\n",
       "      <td>...</td>\n",
       "      <td>...</td>\n",
       "      <td>...</td>\n",
       "      <td>...</td>\n",
       "    </tr>\n",
       "    <tr>\n",
       "      <th>13266</th>\n",
       "      <td>8</td>\n",
       "      <td>0</td>\n",
       "      <td>0</td>\n",
       "      <td>-461.32520</td>\n",
       "      <td>22.623890</td>\n",
       "      <td>-6.396159</td>\n",
       "      <td>7.355534</td>\n",
       "      <td>-5.021908</td>\n",
       "      <td>-4.876315</td>\n",
       "      <td>-17.696940</td>\n",
       "      <td>...</td>\n",
       "      <td>-0.782535</td>\n",
       "      <td>-0.052364</td>\n",
       "      <td>1.048027</td>\n",
       "      <td>-1.696817</td>\n",
       "      <td>-0.173869</td>\n",
       "      <td>-0.438885</td>\n",
       "      <td>0.898622</td>\n",
       "      <td>1.0</td>\n",
       "      <td>0.0</td>\n",
       "      <td>0.0</td>\n",
       "    </tr>\n",
       "    <tr>\n",
       "      <th>13267</th>\n",
       "      <td>29</td>\n",
       "      <td>0</td>\n",
       "      <td>1</td>\n",
       "      <td>-333.90408</td>\n",
       "      <td>37.195827</td>\n",
       "      <td>3.925677</td>\n",
       "      <td>9.610576</td>\n",
       "      <td>-13.433489</td>\n",
       "      <td>7.472061</td>\n",
       "      <td>-2.294662</td>\n",
       "      <td>...</td>\n",
       "      <td>-4.139085</td>\n",
       "      <td>-6.545818</td>\n",
       "      <td>-2.195700</td>\n",
       "      <td>-1.213498</td>\n",
       "      <td>-0.847897</td>\n",
       "      <td>0.001108</td>\n",
       "      <td>2.640274</td>\n",
       "      <td>0.0</td>\n",
       "      <td>1.0</td>\n",
       "      <td>0.0</td>\n",
       "    </tr>\n",
       "    <tr>\n",
       "      <th>13268</th>\n",
       "      <td>17</td>\n",
       "      <td>0</td>\n",
       "      <td>0</td>\n",
       "      <td>-430.32492</td>\n",
       "      <td>26.273499</td>\n",
       "      <td>-0.465416</td>\n",
       "      <td>1.431988</td>\n",
       "      <td>-4.389915</td>\n",
       "      <td>2.145267</td>\n",
       "      <td>-7.819598</td>\n",
       "      <td>...</td>\n",
       "      <td>-2.996969</td>\n",
       "      <td>-2.641327</td>\n",
       "      <td>1.613704</td>\n",
       "      <td>2.414957</td>\n",
       "      <td>3.153693</td>\n",
       "      <td>0.158814</td>\n",
       "      <td>0.487620</td>\n",
       "      <td>0.0</td>\n",
       "      <td>1.0</td>\n",
       "      <td>0.0</td>\n",
       "    </tr>\n",
       "    <tr>\n",
       "      <th>13269</th>\n",
       "      <td>22</td>\n",
       "      <td>0</td>\n",
       "      <td>0</td>\n",
       "      <td>-648.42773</td>\n",
       "      <td>27.682764</td>\n",
       "      <td>6.621850</td>\n",
       "      <td>16.785809</td>\n",
       "      <td>4.029088</td>\n",
       "      <td>2.122290</td>\n",
       "      <td>5.483944</td>\n",
       "      <td>...</td>\n",
       "      <td>0.524427</td>\n",
       "      <td>-0.349503</td>\n",
       "      <td>-0.422278</td>\n",
       "      <td>-1.628088</td>\n",
       "      <td>0.241716</td>\n",
       "      <td>-1.117643</td>\n",
       "      <td>-1.026300</td>\n",
       "      <td>0.0</td>\n",
       "      <td>1.0</td>\n",
       "      <td>0.0</td>\n",
       "    </tr>\n",
       "    <tr>\n",
       "      <th>13270</th>\n",
       "      <td>21</td>\n",
       "      <td>0</td>\n",
       "      <td>0</td>\n",
       "      <td>-410.67154</td>\n",
       "      <td>21.646444</td>\n",
       "      <td>-12.740927</td>\n",
       "      <td>-2.703811</td>\n",
       "      <td>-13.642502</td>\n",
       "      <td>-3.811929</td>\n",
       "      <td>-8.792378</td>\n",
       "      <td>...</td>\n",
       "      <td>0.045894</td>\n",
       "      <td>-1.785995</td>\n",
       "      <td>0.524354</td>\n",
       "      <td>-1.119506</td>\n",
       "      <td>1.941428</td>\n",
       "      <td>-0.517552</td>\n",
       "      <td>-0.017616</td>\n",
       "      <td>1.0</td>\n",
       "      <td>0.0</td>\n",
       "      <td>0.0</td>\n",
       "    </tr>\n",
       "  </tbody>\n",
       "</table>\n",
       "<p>13271 rows × 38 columns</p>\n",
       "</div>"
      ],
      "text/plain": [
       "       age  respiratory_condition  fever_or_muscle_pain     mfcc_1     mfcc_2  \\\n",
       "0       24                      0                     1 -276.01898  30.519340   \n",
       "1       51                      0                     0 -312.99362  54.141323   \n",
       "2       22                      0                     0 -438.60306  46.675842   \n",
       "3       29                      1                     0 -369.26100  47.762012   \n",
       "4       23                      0                     0 -535.68915   7.509357   \n",
       "...    ...                    ...                   ...        ...        ...   \n",
       "13266    8                      0                     0 -461.32520  22.623890   \n",
       "13267   29                      0                     1 -333.90408  37.195827   \n",
       "13268   17                      0                     0 -430.32492  26.273499   \n",
       "13269   22                      0                     0 -648.42773  27.682764   \n",
       "13270   21                      0                     0 -410.67154  21.646444   \n",
       "\n",
       "          mfcc_3     mfcc_4     mfcc_5    mfcc_6     mfcc_7  ...   mfcc_26  \\\n",
       "0     -20.314617  -6.689037 -10.224930 -7.443150 -33.740433  ...  2.314315   \n",
       "1      -1.748550  -9.437217   4.317682 -0.148136 -17.331125  ... -1.810402   \n",
       "2     -22.771935  -3.527922 -13.949551  0.344213  -9.082897  ...  1.208829   \n",
       "3      -8.256503  -2.891349 -21.302510 -8.495335 -11.653670  ...  2.867084   \n",
       "4      -7.762263   2.567660  -5.632455 -0.318077  -6.422602  ...  0.328864   \n",
       "...          ...        ...        ...       ...        ...  ...       ...   \n",
       "13266  -6.396159   7.355534  -5.021908 -4.876315 -17.696940  ... -0.782535   \n",
       "13267   3.925677   9.610576 -13.433489  7.472061  -2.294662  ... -4.139085   \n",
       "13268  -0.465416   1.431988  -4.389915  2.145267  -7.819598  ... -2.996969   \n",
       "13269   6.621850  16.785809   4.029088  2.122290   5.483944  ...  0.524427   \n",
       "13270 -12.740927  -2.703811 -13.642502 -3.811929  -8.792378  ...  0.045894   \n",
       "\n",
       "        mfcc_27   mfcc_28   mfcc_29   mfcc_30   mfcc_31   mfcc_32  female  \\\n",
       "0     -0.339533  2.514413 -4.784703  1.239072 -1.556883 -1.548770     1.0   \n",
       "1     -7.259594  0.715029 -1.372265 -1.760624 -2.735181  1.134190     0.0   \n",
       "2     -0.033701 -1.008729 -0.687255 -0.472232  0.850565  0.353839     0.0   \n",
       "3      1.679876  2.136411  0.289792  1.709179 -0.592465  1.754549     1.0   \n",
       "4     -1.053423  0.844060 -0.788914  1.182740 -0.527028  1.208361     0.0   \n",
       "...         ...       ...       ...       ...       ...       ...     ...   \n",
       "13266 -0.052364  1.048027 -1.696817 -0.173869 -0.438885  0.898622     1.0   \n",
       "13267 -6.545818 -2.195700 -1.213498 -0.847897  0.001108  2.640274     0.0   \n",
       "13268 -2.641327  1.613704  2.414957  3.153693  0.158814  0.487620     0.0   \n",
       "13269 -0.349503 -0.422278 -1.628088  0.241716 -1.117643 -1.026300     0.0   \n",
       "13270 -1.785995  0.524354 -1.119506  1.941428 -0.517552 -0.017616     1.0   \n",
       "\n",
       "       male  other  \n",
       "0       0.0    0.0  \n",
       "1       1.0    0.0  \n",
       "2       1.0    0.0  \n",
       "3       0.0    0.0  \n",
       "4       1.0    0.0  \n",
       "...     ...    ...  \n",
       "13266   0.0    0.0  \n",
       "13267   1.0    0.0  \n",
       "13268   1.0    0.0  \n",
       "13269   1.0    0.0  \n",
       "13270   0.0    0.0  \n",
       "\n",
       "[13271 rows x 38 columns]"
      ]
     },
     "execution_count": 12,
     "metadata": {},
     "output_type": "execute_result"
    }
   ],
   "source": [
    "train_x"
   ]
  },
  {
   "cell_type": "markdown",
   "id": "574ec00a",
   "metadata": {
    "id": "574ec00a"
   },
   "source": [
    "# Train"
   ]
  },
  {
   "cell_type": "code",
   "execution_count": 13,
   "id": "0f79d46e",
   "metadata": {
    "ExecuteTime": {
     "end_time": "2022-07-08T07:57:52.124533Z",
     "start_time": "2022-07-08T07:57:50.702225Z"
    },
    "id": "0f79d46e"
   },
   "outputs": [
    {
     "data": {
      "text/plain": [
       "MLPClassifier(random_state=42)"
      ]
     },
     "execution_count": 13,
     "metadata": {},
     "output_type": "execute_result"
    }
   ],
   "source": [
    "model = MLPClassifier(random_state=CFG['SEED']) # Sklearn에서 제공하는 Multi-layer Perceptron classifier 사용\n",
    "model.fit(train_x, train_y) # Model Train"
   ]
  },
  {
   "cell_type": "markdown",
   "id": "27b6a181",
   "metadata": {
    "id": "27b6a181"
   },
   "source": [
    "# Inference"
   ]
  },
  {
   "cell_type": "code",
   "execution_count": 14,
   "id": "eb8b8b01",
   "metadata": {
    "ExecuteTime": {
     "end_time": "2022-07-08T07:57:52.129559Z",
     "start_time": "2022-07-08T07:57:52.125798Z"
    },
    "id": "eb8b8b01"
   },
   "outputs": [],
   "source": [
    "# 위의 학습데이터를 전처리한 과정과 동일하게 test data에도 적용\n",
    "# test_x = pd.read_csv('/content/drive/MyDrive/YDS/DACON/COVID19/test_mfcc_data.csv')\n",
    "\n",
    "test_x = test_mfcc_data.drop(columns=['id'])\n",
    "# Data Leakage에 유의하여 train data로만 학습된 ohe를 사용\n",
    "test_x = onehot_encoding(ohe, test_x)"
   ]
  },
  {
   "cell_type": "code",
   "execution_count": 15,
   "id": "3c3653a2",
   "metadata": {
    "ExecuteTime": {
     "end_time": "2022-07-08T07:57:52.140228Z",
     "start_time": "2022-07-08T07:57:52.130256Z"
    },
    "id": "3c3653a2"
   },
   "outputs": [],
   "source": [
    "# Model 추론\n",
    "preds = model.predict(test_x)"
   ]
  },
  {
   "cell_type": "code",
   "execution_count": 16,
   "id": "c18757b5",
   "metadata": {
    "ExecuteTime": {
     "end_time": "2022-07-08T07:57:52.164773Z",
     "start_time": "2022-07-08T07:57:52.142557Z"
    },
    "id": "c18757b5",
    "scrolled": true
   },
   "outputs": [
    {
     "name": "stdout",
     "output_type": "stream",
     "text": [
      "훈련 세트 정확도 : 0.710\n",
      "테스트 세트 정확도 : 1.000\n"
     ]
    }
   ],
   "source": [
    "# # 정확도\n",
    "\n",
    "print(\"훈련 세트 정확도 : {:.3f}\".format(model.score(train_x, train_y)))\n",
    "print(\"테스트 세트 정확도 : {:.3f}\".format(model.score(test_x, preds)))"
   ]
  },
  {
   "cell_type": "markdown",
   "id": "67433c7c",
   "metadata": {
    "id": "67433c7c"
   },
   "source": [
    "# Submission"
   ]
  },
  {
   "cell_type": "code",
   "execution_count": 17,
   "id": "41bf4ffd",
   "metadata": {
    "ExecuteTime": {
     "end_time": "2022-07-08T07:57:53.504653Z",
     "start_time": "2022-07-08T07:57:53.486460Z"
    },
    "id": "41bf4ffd"
   },
   "outputs": [],
   "source": [
    "submission = pd.read_csv('./sample_submission.csv')\n",
    "submission['covid19'] = preds\n",
    "submission.to_csv('./submit_new.csv', index=False)"
   ]
  },
  {
   "cell_type": "code",
   "execution_count": null,
   "id": "31ed73b3",
   "metadata": {
    "ExecuteTime": {
     "end_time": "2022-07-08T07:32:26.364705Z",
     "start_time": "2022-07-08T07:32:26.356259Z"
    }
   },
   "outputs": [],
   "source": [
    "submission"
   ]
  },
  {
   "cell_type": "code",
   "execution_count": null,
   "id": "98061cfa",
   "metadata": {
    "id": "98061cfa"
   },
   "outputs": [],
   "source": []
  }
 ],
 "metadata": {
  "colab": {
   "collapsed_sections": [],
   "name": "Baseline.ipynb",
   "provenance": []
  },
  "kernelspec": {
   "display_name": "Python 3 (ipykernel)",
   "language": "python",
   "name": "python3"
  },
  "language_info": {
   "codemirror_mode": {
    "name": "ipython",
    "version": 3
   },
   "file_extension": ".py",
   "mimetype": "text/x-python",
   "name": "python",
   "nbconvert_exporter": "python",
   "pygments_lexer": "ipython3",
   "version": "3.8.13"
  },
  "toc": {
   "base_numbering": 1,
   "nav_menu": {},
   "number_sections": false,
   "sideBar": true,
   "skip_h1_title": false,
   "title_cell": "Table of Contents",
   "title_sidebar": "Contents",
   "toc_cell": false,
   "toc_position": {},
   "toc_section_display": true,
   "toc_window_display": false
  }
 },
 "nbformat": 4,
 "nbformat_minor": 5
}
