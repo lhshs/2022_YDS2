{
 "cells": [
  {
   "cell_type": "code",
   "execution_count": 1,
   "id": "8ea06e83",
   "metadata": {
    "ExecuteTime": {
     "end_time": "2022-07-05T05:57:09.782172Z",
     "start_time": "2022-07-05T05:57:09.082434Z"
    }
   },
   "outputs": [],
   "source": [
    "import numpy as np\n",
    "import pandas as pd\n",
    "import matplotlib.pyplot as plt\n",
    "import seaborn as sns\n",
    "\n",
    "import warnings\n",
    "warnings.filterwarnings(action='ignore')"
   ]
  },
  {
   "cell_type": "code",
   "execution_count": null,
   "id": "ef92ad6c",
   "metadata": {
    "ExecuteTime": {
     "end_time": "2022-06-24T10:04:21.794137Z",
     "start_time": "2022-06-24T10:04:21.789138Z"
    },
    "scrolled": true
   },
   "outputs": [],
   "source": [
    "'''\n",
    "# 한글 오류 해결하기 위한 설치된 폰트 확인\n",
    "\n",
    "import matplotlib.font_manager as fm \n",
    "\n",
    "font_list = fm.findSystemFonts(fontpaths = None, fontext = 'ttf')\n",
    "font_list\n",
    "\n",
    "# 폰트 적용\n",
    "\n",
    "import matplotlib\n",
    "\n",
    "fm.get_fontconfig_fonts()\n",
    "font_location = '/Users/krc/Library/Fonts/NanumGothicCoding.ttf'\n",
    "font_name = fm.FontProperties(fname=font_location).get_name()\n",
    "matplotlib.rc('font', family=font_name)\n",
    "'''"
   ]
  },
  {
   "cell_type": "code",
   "execution_count": 2,
   "id": "76107e04",
   "metadata": {
    "ExecuteTime": {
     "end_time": "2022-07-05T05:57:11.345524Z",
     "start_time": "2022-07-05T05:57:11.331853Z"
    }
   },
   "outputs": [],
   "source": [
    "train = pd.read_csv('train_data.csv')\n",
    "test = pd.read_csv('test_data.csv')"
   ]
  },
  {
   "cell_type": "code",
   "execution_count": null,
   "id": "d15bfc76",
   "metadata": {
    "ExecuteTime": {
     "end_time": "2022-06-24T10:08:57.313742Z",
     "start_time": "2022-06-24T10:08:57.162674Z"
    }
   },
   "outputs": [],
   "source": [
    "colors = sns.color_palette('pastel')[0:2]\n",
    "# colors = sns.color_palette('pastel')[0:5]\n",
    "\n",
    "fig, ax = plt.subplots(1, 2, figsize=(15,7)) \n",
    "train['covid19'].value_counts().plot.pie(explode=[0,0.1], autopct='%1.1f%%', ax=ax[0], shadow=True, startangle=90, colors=colors)\n",
    "ax[0].set_title('Covid19 Confirmed Cases')\n",
    "ax[0].set_ylabel('')\n",
    "\n",
    "sns.countplot('covid19', data=train, ax=ax[1])\n",
    "# ax[1].set_title('확진자 수')\n",
    "\n",
    "ax = sns.countplot(x = 'covid19', data = train, order = train['covid19'].value_counts().index, palette = 'Set2')\n",
    "\n",
    "for p in ax.patches:\n",
    "    height = p.get_height()\n",
    "    ax.text(p.get_x() + p.get_width() / 2., height - height/2, height, ha = 'center', size = 20)\n",
    "    ax.set_ylim(0, 5000)\n",
    "plt.show()"
   ]
  },
  {
   "cell_type": "code",
   "execution_count": null,
   "id": "337acaa1",
   "metadata": {
    "ExecuteTime": {
     "end_time": "2022-06-24T10:08:05.668044Z",
     "start_time": "2022-06-24T10:08:05.381173Z"
    }
   },
   "outputs": [],
   "source": [
    "print(train.columns[1])\n",
    "print(train[train.columns[1]].value_counts())\n",
    "plt.figure(figsize=(20,5))\n",
    "sns.countplot(train[train.columns[1]])\n",
    "plt.show()\n",
    "print('======================================= ')"
   ]
  },
  {
   "cell_type": "code",
   "execution_count": null,
   "id": "444f48ab",
   "metadata": {
    "ExecuteTime": {
     "end_time": "2022-06-24T10:31:13.427424Z",
     "start_time": "2022-06-24T10:31:13.396702Z"
    }
   },
   "outputs": [],
   "source": [
    "train.covid19.value_counts().plt.pie()"
   ]
  },
  {
   "cell_type": "code",
   "execution_count": null,
   "id": "518dc6c3",
   "metadata": {
    "ExecuteTime": {
     "end_time": "2022-06-24T10:32:21.521838Z",
     "start_time": "2022-06-24T10:32:21.275421Z"
    },
    "scrolled": false
   },
   "outputs": [],
   "source": [
    "for i in range(4):\n",
    "    i += 1\n",
    "    print(train.columns[i+1])\n",
    "    print(train[train.columns[i+1]].value_counts())\n",
    "    plt.figure(figsize=(5,5))\n",
    "    sns.countplot(train[train.columns[i+1]], palette='Set2')\n",
    "    plt.show()\n",
    "#     plt.pie(train[train.columns[i+1]].value_counts(), explode=[0,0.1], autopct='%1.1f%%', shadow=True, startangle=90)\n",
    "#     plt.show()\n",
    "    print('======================================= ')"
   ]
  },
  {
   "cell_type": "code",
   "execution_count": null,
   "id": "39f298f5",
   "metadata": {
    "ExecuteTime": {
     "end_time": "2022-06-24T08:50:41.283789Z",
     "start_time": "2022-06-24T08:50:41.279082Z"
    }
   },
   "outputs": [],
   "source": [
    "train.columns"
   ]
  },
  {
   "cell_type": "code",
   "execution_count": null,
   "id": "838ea428",
   "metadata": {
    "ExecuteTime": {
     "end_time": "2022-06-24T09:15:54.637574Z",
     "start_time": "2022-06-24T09:15:54.624514Z"
    }
   },
   "outputs": [],
   "source": [
    "test"
   ]
  },
  {
   "cell_type": "code",
   "execution_count": null,
   "id": "894a05f7",
   "metadata": {
    "ExecuteTime": {
     "end_time": "2022-06-24T10:09:52.565783Z",
     "start_time": "2022-06-24T10:09:52.274712Z"
    }
   },
   "outputs": [],
   "source": [
    "print(test.columns[1])\n",
    "print(test[test.columns[1]].value_counts())\n",
    "plt.figure(figsize=(20,5))\n",
    "sns.countplot(test[test.columns[1]])\n",
    "plt.show()\n",
    "print('======================================= ')"
   ]
  },
  {
   "cell_type": "code",
   "execution_count": null,
   "id": "0445f520",
   "metadata": {
    "ExecuteTime": {
     "end_time": "2022-06-24T10:12:18.743964Z",
     "start_time": "2022-06-24T10:12:18.549879Z"
    }
   },
   "outputs": [],
   "source": [
    "for i in range(3):\n",
    "    i += 1\n",
    "    print(test.columns[i+1])\n",
    "    print(test[train.columns[i+1]].value_counts())\n",
    "    plt.figure(figsize=(5,5))\n",
    "    sns.countplot(test[test.columns[i+1]], palette='Set3')\n",
    "    plt.show()\n",
    "    print('======================================= ')"
   ]
  },
  {
   "cell_type": "code",
   "execution_count": null,
   "id": "f13f8458",
   "metadata": {},
   "outputs": [],
   "source": []
  }
 ],
 "metadata": {
  "kernelspec": {
   "display_name": "Python 3 (ipykernel)",
   "language": "python",
   "name": "python3"
  },
  "language_info": {
   "codemirror_mode": {
    "name": "ipython",
    "version": 3
   },
   "file_extension": ".py",
   "mimetype": "text/x-python",
   "name": "python",
   "nbconvert_exporter": "python",
   "pygments_lexer": "ipython3",
   "version": "3.8.13"
  },
  "toc": {
   "base_numbering": 1,
   "nav_menu": {},
   "number_sections": true,
   "sideBar": true,
   "skip_h1_title": false,
   "title_cell": "Table of Contents",
   "title_sidebar": "Contents",
   "toc_cell": false,
   "toc_position": {},
   "toc_section_display": true,
   "toc_window_display": false
  }
 },
 "nbformat": 4,
 "nbformat_minor": 5
}
