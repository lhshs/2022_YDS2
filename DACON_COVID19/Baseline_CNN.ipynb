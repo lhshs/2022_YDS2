{
 "cells": [
  {
   "cell_type": "markdown",
   "id": "01a46fac",
   "metadata": {
    "id": "01a46fac"
   },
   "source": [
    "# Import"
   ]
  },
  {
   "cell_type": "code",
   "execution_count": 1,
   "id": "0a2e8ff9",
   "metadata": {
    "ExecuteTime": {
     "end_time": "2022-07-08T05:12:58.396339Z",
     "start_time": "2022-07-08T05:12:57.679069Z"
    },
    "executionInfo": {
     "elapsed": 4775,
     "status": "ok",
     "timestamp": 1657253346973,
     "user": {
      "displayName": "hs L",
      "userId": "04521576200392151172"
     },
     "user_tz": -540
    },
    "id": "0a2e8ff9"
   },
   "outputs": [],
   "source": [
    "import random\n",
    "import pandas as pd\n",
    "import numpy as np\n",
    "import os\n",
    "import librosa\n",
    "import librosa.display as dsp\n",
    "from IPython.display import Audio\n",
    "\n",
    "from tqdm.auto import tqdm\n",
    "\n",
    "from sklearn.neural_network import MLPClassifier\n",
    "from sklearn.preprocessing import OneHotEncoder\n",
    "\n",
    "import warnings\n",
    "warnings.filterwarnings(action='ignore') "
   ]
  },
  {
   "cell_type": "code",
   "execution_count": 2,
   "id": "Hs8KEdOsmX90",
   "metadata": {
    "ExecuteTime": {
     "end_time": "2022-07-08T05:12:58.568401Z",
     "start_time": "2022-07-08T05:12:58.397291Z"
    },
    "executionInfo": {
     "elapsed": 4280,
     "status": "ok",
     "timestamp": 1657253351248,
     "user": {
      "displayName": "hs L",
      "userId": "04521576200392151172"
     },
     "user_tz": -540
    },
    "id": "Hs8KEdOsmX90"
   },
   "outputs": [],
   "source": [
    "import torch\n",
    "# import torchaudio\n",
    "\n",
    "device = torch.device('cuda') if torch.cuda.is_available() else torch.device('cpu') #GPU 할당"
   ]
  },
  {
   "cell_type": "markdown",
   "id": "7c41aa97",
   "metadata": {
    "id": "7c41aa97"
   },
   "source": [
    "# Hyperparameter Setting"
   ]
  },
  {
   "cell_type": "code",
   "execution_count": 3,
   "id": "45b4f7f0",
   "metadata": {
    "ExecuteTime": {
     "end_time": "2022-07-08T05:12:58.570796Z",
     "start_time": "2022-07-08T05:12:58.569165Z"
    },
    "id": "45b4f7f0"
   },
   "outputs": [],
   "source": [
    "# CFG = {\n",
    "#     'SR':16000,\n",
    "#     'N_MFCC':32, # MFCC 벡터를 추출할 개수\n",
    "#     'SEED':42\n",
    "# }"
   ]
  },
  {
   "cell_type": "markdown",
   "id": "5c98aabf",
   "metadata": {
    "id": "5c98aabf"
   },
   "source": [
    "# Fixed Random-Seed"
   ]
  },
  {
   "cell_type": "code",
   "execution_count": 4,
   "id": "a9f1fc16",
   "metadata": {
    "ExecuteTime": {
     "end_time": "2022-07-08T05:12:58.574719Z",
     "start_time": "2022-07-08T05:12:58.572044Z"
    }
   },
   "outputs": [],
   "source": [
    "def seed_everything(seed):\n",
    "    random.seed(seed)\n",
    "    os.environ['PYTHONHASHSEED'] = str(seed)\n",
    "    np.random.seed(seed)\n",
    "    torch.manual_seed(seed)\n",
    "    torch.cuda.manual_seed(seed)\n",
    "    torch.backends.cudnn.deterministic = True\n",
    "    torch.backends.cudnn.benchmark = True\n",
    "\n",
    "seed_everything(929)"
   ]
  },
  {
   "cell_type": "code",
   "execution_count": 5,
   "id": "179a4bb3",
   "metadata": {
    "ExecuteTime": {
     "end_time": "2022-07-08T05:12:58.576494Z",
     "start_time": "2022-07-08T05:12:58.575276Z"
    },
    "id": "179a4bb3"
   },
   "outputs": [],
   "source": [
    "# def seed_everything(seed):\n",
    "#     random.seed(seed)\n",
    "#     os.environ['PYTHONHASHSEED'] = str(seed)\n",
    "#     np.random.seed(seed)\n",
    "\n",
    "# seed_everything(CFG['SEED']) # Seed 고정"
   ]
  },
  {
   "cell_type": "markdown",
   "id": "0cfbf54c",
   "metadata": {
    "id": "0cfbf54c"
   },
   "source": [
    "# Data Pre-Processing 1"
   ]
  },
  {
   "cell_type": "code",
   "execution_count": 6,
   "id": "3d309551",
   "metadata": {
    "ExecuteTime": {
     "end_time": "2022-07-08T05:12:58.582162Z",
     "start_time": "2022-07-08T05:12:58.577161Z"
    },
    "executionInfo": {
     "elapsed": 1056,
     "status": "ok",
     "timestamp": 1657253440158,
     "user": {
      "displayName": "hs L",
      "userId": "04521576200392151172"
     },
     "user_tz": -540
    },
    "id": "3d309551"
   },
   "outputs": [],
   "source": [
    "train = pd.read_csv('./train_data.csv')\n",
    "test = pd.read_csv('./test_data.csv')\n",
    "# unlabeled_df = pd.read_csv('./unlabeled_data.csv')"
   ]
  },
  {
   "cell_type": "code",
   "execution_count": 7,
   "id": "d86f90c7",
   "metadata": {
    "ExecuteTime": {
     "end_time": "2022-07-08T05:12:58.585042Z",
     "start_time": "2022-07-08T05:12:58.582956Z"
    }
   },
   "outputs": [
    {
     "name": "stdout",
     "output_type": "stream",
     "text": [
      "(3805, 6) (5732, 5)\n"
     ]
    }
   ],
   "source": [
    "print(train.shape, test.shape)"
   ]
  },
  {
   "cell_type": "code",
   "execution_count": 8,
   "id": "e0b758f8",
   "metadata": {
    "ExecuteTime": {
     "end_time": "2022-07-08T05:12:58.978865Z",
     "start_time": "2022-07-08T05:12:58.585923Z"
    }
   },
   "outputs": [
    {
     "name": "stdout",
     "output_type": "stream",
     "text": [
      "sample_rate: 16000 , audio shape: (78720,)\n",
      "length: 4.92 secs\n"
     ]
    },
    {
     "name": "stderr",
     "output_type": "stream",
     "text": [
      "OMP: Info #276: omp_set_nested routine deprecated, please use omp_set_max_active_levels instead.\n"
     ]
    }
   ],
   "source": [
    "data, sample_rate = librosa.load('./wav_dataset/train/00001.wav', sr = 16000)\n",
    "print('sample_rate:', sample_rate, ', audio shape:', data.shape)\n",
    "print('length:', data.shape[0]/float(sample_rate), 'secs')"
   ]
  },
  {
   "cell_type": "code",
   "execution_count": 9,
   "id": "30058f5b",
   "metadata": {
    "ExecuteTime": {
     "end_time": "2022-07-08T05:12:58.984465Z",
     "start_time": "2022-07-08T05:12:58.980619Z"
    },
    "colab": {
     "base_uri": "https://localhost:8080/",
     "height": 105
    },
    "executionInfo": {
     "elapsed": 61,
     "status": "ok",
     "timestamp": 1657214290374,
     "user": {
      "displayName": "hs L",
      "userId": "04521576200392151172"
     },
     "user_tz": -540
    },
    "id": "30058f5b",
    "outputId": "60c1f068-9f49-43a7-a36d-0a65b9056312"
   },
   "outputs": [],
   "source": [
    "def get_mfcc_feature(df, data_type, save_path):\n",
    "    # Data Folder path\n",
    "    root_folder = './wav_dataset'\n",
    "    if os.path.exists(save_path):\n",
    "        print(f'{save_path} is exist.')\n",
    "        return\n",
    "    features = []\n",
    "    for uid in tqdm(df['id']):\n",
    "        root_path = os.path.join(root_folder, data_type)\n",
    "        path = os.path.join(root_path, str(uid).zfill(5)+'.wav')\n",
    "\n",
    "        # librosa패키지를 사용하여 wav 파일 load\n",
    "        y, sr = librosa.load(path, sr=CFG['SR'])\n",
    "        \n",
    "        # librosa패키지를 사용하여 mfcc 추출\n",
    "        mfcc = librosa.feature.mfcc(y=y, sr=sr, n_mfcc=CFG['N_MFCC'])\n",
    "\n",
    "        y_feature = []\n",
    "        # 추출된 MFCC들의 평균을 Feature로 사용\n",
    "        for e in mfcc:\n",
    "            y_feature.append(np.mean(e))\n",
    "        features.append(y_feature)\n",
    "    \n",
    "    # 기존의 자가진단 정보를 담은 데이터프레임에 추출된 오디오 Feature를 추가\n",
    "    mfcc_df = pd.DataFrame(features, columns=['mfcc_'+str(x) for x in range(1,CFG['N_MFCC']+1)])\n",
    "    df = pd.concat([df, mfcc_df], axis=1)\n",
    "    df.to_csv(save_path, index=False)\n",
    "    print('Done.')"
   ]
  },
  {
   "cell_type": "code",
   "execution_count": 10,
   "id": "c6cf5c83",
   "metadata": {
    "ExecuteTime": {
     "end_time": "2022-07-08T05:12:58.990060Z",
     "start_time": "2022-07-08T05:12:58.987411Z"
    },
    "colab": {
     "base_uri": "https://localhost:8080/",
     "height": 36
    },
    "executionInfo": {
     "elapsed": 58,
     "status": "ok",
     "timestamp": 1657214290376,
     "user": {
      "displayName": "hs L",
      "userId": "04521576200392151172"
     },
     "user_tz": -540
    },
    "id": "c6cf5c83",
    "outputId": "14358f18-66ee-42ba-edc1-4273bbd2fa40"
   },
   "outputs": [
    {
     "name": "stdout",
     "output_type": "stream",
     "text": [
      "./train_mfcc_data.csv is exist.\n",
      "./test_mfcc_data.csv is exist.\n"
     ]
    }
   ],
   "source": [
    "get_mfcc_feature(train, 'train', './train_mfcc_data.csv')\n",
    "get_mfcc_feature(test, 'test', './test_mfcc_data.csv')"
   ]
  },
  {
   "cell_type": "code",
   "execution_count": 11,
   "id": "273ba4de",
   "metadata": {
    "ExecuteTime": {
     "end_time": "2022-07-08T05:12:58.992560Z",
     "start_time": "2022-07-08T05:12:58.991110Z"
    },
    "id": "273ba4de"
   },
   "outputs": [],
   "source": [
    "# get_mfcc_feature2('unlabeled', './unlabeled_mfcc_data.csv')"
   ]
  },
  {
   "cell_type": "code",
   "execution_count": 12,
   "id": "07ef54c7",
   "metadata": {
    "ExecuteTime": {
     "end_time": "2022-07-08T05:12:59.032524Z",
     "start_time": "2022-07-08T05:12:58.993709Z"
    },
    "id": "07ef54c7"
   },
   "outputs": [
    {
     "data": {
      "text/html": [
       "<div>\n",
       "<style scoped>\n",
       "    .dataframe tbody tr th:only-of-type {\n",
       "        vertical-align: middle;\n",
       "    }\n",
       "\n",
       "    .dataframe tbody tr th {\n",
       "        vertical-align: top;\n",
       "    }\n",
       "\n",
       "    .dataframe thead th {\n",
       "        text-align: right;\n",
       "    }\n",
       "</style>\n",
       "<table border=\"1\" class=\"dataframe\">\n",
       "  <thead>\n",
       "    <tr style=\"text-align: right;\">\n",
       "      <th></th>\n",
       "      <th>id</th>\n",
       "      <th>age</th>\n",
       "      <th>gender</th>\n",
       "      <th>respiratory_condition</th>\n",
       "      <th>fever_or_muscle_pain</th>\n",
       "      <th>covid19</th>\n",
       "      <th>mfcc_1</th>\n",
       "      <th>mfcc_2</th>\n",
       "      <th>mfcc_3</th>\n",
       "      <th>mfcc_4</th>\n",
       "      <th>...</th>\n",
       "      <th>mfcc_23</th>\n",
       "      <th>mfcc_24</th>\n",
       "      <th>mfcc_25</th>\n",
       "      <th>mfcc_26</th>\n",
       "      <th>mfcc_27</th>\n",
       "      <th>mfcc_28</th>\n",
       "      <th>mfcc_29</th>\n",
       "      <th>mfcc_30</th>\n",
       "      <th>mfcc_31</th>\n",
       "      <th>mfcc_32</th>\n",
       "    </tr>\n",
       "  </thead>\n",
       "  <tbody>\n",
       "    <tr>\n",
       "      <th>0</th>\n",
       "      <td>1</td>\n",
       "      <td>24</td>\n",
       "      <td>female</td>\n",
       "      <td>0</td>\n",
       "      <td>1</td>\n",
       "      <td>0</td>\n",
       "      <td>-276.01898</td>\n",
       "      <td>30.519340</td>\n",
       "      <td>-20.314617</td>\n",
       "      <td>-6.689037</td>\n",
       "      <td>...</td>\n",
       "      <td>-2.679408</td>\n",
       "      <td>2.454339</td>\n",
       "      <td>-1.176285</td>\n",
       "      <td>2.314315</td>\n",
       "      <td>-0.339533</td>\n",
       "      <td>2.514413</td>\n",
       "      <td>-4.784703</td>\n",
       "      <td>1.239072</td>\n",
       "      <td>-1.556883</td>\n",
       "      <td>-1.548770</td>\n",
       "    </tr>\n",
       "    <tr>\n",
       "      <th>1</th>\n",
       "      <td>2</td>\n",
       "      <td>51</td>\n",
       "      <td>male</td>\n",
       "      <td>0</td>\n",
       "      <td>0</td>\n",
       "      <td>0</td>\n",
       "      <td>-312.99362</td>\n",
       "      <td>54.141323</td>\n",
       "      <td>-1.748550</td>\n",
       "      <td>-9.437217</td>\n",
       "      <td>...</td>\n",
       "      <td>-7.248304</td>\n",
       "      <td>1.238725</td>\n",
       "      <td>-6.894970</td>\n",
       "      <td>-1.810402</td>\n",
       "      <td>-7.259594</td>\n",
       "      <td>0.715029</td>\n",
       "      <td>-1.372265</td>\n",
       "      <td>-1.760624</td>\n",
       "      <td>-2.735181</td>\n",
       "      <td>1.134190</td>\n",
       "    </tr>\n",
       "    <tr>\n",
       "      <th>2</th>\n",
       "      <td>3</td>\n",
       "      <td>22</td>\n",
       "      <td>male</td>\n",
       "      <td>0</td>\n",
       "      <td>0</td>\n",
       "      <td>0</td>\n",
       "      <td>-438.60306</td>\n",
       "      <td>46.675842</td>\n",
       "      <td>-22.771935</td>\n",
       "      <td>-3.527922</td>\n",
       "      <td>...</td>\n",
       "      <td>-0.136723</td>\n",
       "      <td>-1.707353</td>\n",
       "      <td>2.649277</td>\n",
       "      <td>1.208829</td>\n",
       "      <td>-0.033701</td>\n",
       "      <td>-1.008729</td>\n",
       "      <td>-0.687255</td>\n",
       "      <td>-0.472232</td>\n",
       "      <td>0.850565</td>\n",
       "      <td>0.353839</td>\n",
       "    </tr>\n",
       "    <tr>\n",
       "      <th>3</th>\n",
       "      <td>4</td>\n",
       "      <td>29</td>\n",
       "      <td>female</td>\n",
       "      <td>1</td>\n",
       "      <td>0</td>\n",
       "      <td>0</td>\n",
       "      <td>-369.26100</td>\n",
       "      <td>47.762012</td>\n",
       "      <td>-8.256503</td>\n",
       "      <td>-2.891349</td>\n",
       "      <td>...</td>\n",
       "      <td>-0.389230</td>\n",
       "      <td>4.033148</td>\n",
       "      <td>-2.658165</td>\n",
       "      <td>2.867084</td>\n",
       "      <td>1.679876</td>\n",
       "      <td>2.136411</td>\n",
       "      <td>0.289792</td>\n",
       "      <td>1.709179</td>\n",
       "      <td>-0.592465</td>\n",
       "      <td>1.754549</td>\n",
       "    </tr>\n",
       "    <tr>\n",
       "      <th>4</th>\n",
       "      <td>5</td>\n",
       "      <td>23</td>\n",
       "      <td>male</td>\n",
       "      <td>0</td>\n",
       "      <td>0</td>\n",
       "      <td>0</td>\n",
       "      <td>-535.68915</td>\n",
       "      <td>7.509357</td>\n",
       "      <td>-7.762263</td>\n",
       "      <td>2.567660</td>\n",
       "      <td>...</td>\n",
       "      <td>-0.279360</td>\n",
       "      <td>-0.292286</td>\n",
       "      <td>-1.559678</td>\n",
       "      <td>0.328864</td>\n",
       "      <td>-1.053423</td>\n",
       "      <td>0.844060</td>\n",
       "      <td>-0.788914</td>\n",
       "      <td>1.182740</td>\n",
       "      <td>-0.527028</td>\n",
       "      <td>1.208361</td>\n",
       "    </tr>\n",
       "    <tr>\n",
       "      <th>...</th>\n",
       "      <td>...</td>\n",
       "      <td>...</td>\n",
       "      <td>...</td>\n",
       "      <td>...</td>\n",
       "      <td>...</td>\n",
       "      <td>...</td>\n",
       "      <td>...</td>\n",
       "      <td>...</td>\n",
       "      <td>...</td>\n",
       "      <td>...</td>\n",
       "      <td>...</td>\n",
       "      <td>...</td>\n",
       "      <td>...</td>\n",
       "      <td>...</td>\n",
       "      <td>...</td>\n",
       "      <td>...</td>\n",
       "      <td>...</td>\n",
       "      <td>...</td>\n",
       "      <td>...</td>\n",
       "      <td>...</td>\n",
       "      <td>...</td>\n",
       "    </tr>\n",
       "    <tr>\n",
       "      <th>3800</th>\n",
       "      <td>3801</td>\n",
       "      <td>53</td>\n",
       "      <td>male</td>\n",
       "      <td>0</td>\n",
       "      <td>0</td>\n",
       "      <td>0</td>\n",
       "      <td>-329.53840</td>\n",
       "      <td>69.317080</td>\n",
       "      <td>-41.498420</td>\n",
       "      <td>3.398324</td>\n",
       "      <td>...</td>\n",
       "      <td>-0.447236</td>\n",
       "      <td>1.477676</td>\n",
       "      <td>-5.139314</td>\n",
       "      <td>0.058984</td>\n",
       "      <td>1.145387</td>\n",
       "      <td>3.968560</td>\n",
       "      <td>-4.152923</td>\n",
       "      <td>2.655675</td>\n",
       "      <td>-4.001793</td>\n",
       "      <td>-2.753481</td>\n",
       "    </tr>\n",
       "    <tr>\n",
       "      <th>3801</th>\n",
       "      <td>3802</td>\n",
       "      <td>25</td>\n",
       "      <td>male</td>\n",
       "      <td>0</td>\n",
       "      <td>0</td>\n",
       "      <td>0</td>\n",
       "      <td>-387.18520</td>\n",
       "      <td>74.883385</td>\n",
       "      <td>-13.053332</td>\n",
       "      <td>0.423010</td>\n",
       "      <td>...</td>\n",
       "      <td>-3.050042</td>\n",
       "      <td>4.993294</td>\n",
       "      <td>1.104003</td>\n",
       "      <td>6.089378</td>\n",
       "      <td>2.936215</td>\n",
       "      <td>3.518800</td>\n",
       "      <td>-0.500065</td>\n",
       "      <td>3.678556</td>\n",
       "      <td>2.742439</td>\n",
       "      <td>5.705073</td>\n",
       "    </tr>\n",
       "    <tr>\n",
       "      <th>3802</th>\n",
       "      <td>3803</td>\n",
       "      <td>26</td>\n",
       "      <td>female</td>\n",
       "      <td>0</td>\n",
       "      <td>0</td>\n",
       "      <td>0</td>\n",
       "      <td>-347.74250</td>\n",
       "      <td>58.946648</td>\n",
       "      <td>12.572187</td>\n",
       "      <td>28.366724</td>\n",
       "      <td>...</td>\n",
       "      <td>-2.563241</td>\n",
       "      <td>-2.590208</td>\n",
       "      <td>-2.765020</td>\n",
       "      <td>-1.786291</td>\n",
       "      <td>-3.289306</td>\n",
       "      <td>-1.355590</td>\n",
       "      <td>-0.098087</td>\n",
       "      <td>-1.539166</td>\n",
       "      <td>-1.679146</td>\n",
       "      <td>-1.346460</td>\n",
       "    </tr>\n",
       "    <tr>\n",
       "      <th>3803</th>\n",
       "      <td>3804</td>\n",
       "      <td>27</td>\n",
       "      <td>female</td>\n",
       "      <td>0</td>\n",
       "      <td>0</td>\n",
       "      <td>0</td>\n",
       "      <td>-180.65393</td>\n",
       "      <td>72.516770</td>\n",
       "      <td>-16.372229</td>\n",
       "      <td>-8.363718</td>\n",
       "      <td>...</td>\n",
       "      <td>-8.350143</td>\n",
       "      <td>6.216520</td>\n",
       "      <td>-2.514634</td>\n",
       "      <td>2.063279</td>\n",
       "      <td>-1.506954</td>\n",
       "      <td>0.092602</td>\n",
       "      <td>-4.883226</td>\n",
       "      <td>0.641473</td>\n",
       "      <td>-5.265770</td>\n",
       "      <td>-0.327298</td>\n",
       "    </tr>\n",
       "    <tr>\n",
       "      <th>3804</th>\n",
       "      <td>3805</td>\n",
       "      <td>49</td>\n",
       "      <td>female</td>\n",
       "      <td>1</td>\n",
       "      <td>1</td>\n",
       "      <td>0</td>\n",
       "      <td>-309.09590</td>\n",
       "      <td>85.979750</td>\n",
       "      <td>10.980089</td>\n",
       "      <td>13.028820</td>\n",
       "      <td>...</td>\n",
       "      <td>0.160724</td>\n",
       "      <td>4.126519</td>\n",
       "      <td>-1.335597</td>\n",
       "      <td>-3.686338</td>\n",
       "      <td>1.180410</td>\n",
       "      <td>3.182663</td>\n",
       "      <td>1.468856</td>\n",
       "      <td>1.180359</td>\n",
       "      <td>0.236397</td>\n",
       "      <td>4.148143</td>\n",
       "    </tr>\n",
       "  </tbody>\n",
       "</table>\n",
       "<p>3805 rows × 38 columns</p>\n",
       "</div>"
      ],
      "text/plain": [
       "        id  age  gender  respiratory_condition  fever_or_muscle_pain  covid19  \\\n",
       "0        1   24  female                      0                     1        0   \n",
       "1        2   51    male                      0                     0        0   \n",
       "2        3   22    male                      0                     0        0   \n",
       "3        4   29  female                      1                     0        0   \n",
       "4        5   23    male                      0                     0        0   \n",
       "...    ...  ...     ...                    ...                   ...      ...   \n",
       "3800  3801   53    male                      0                     0        0   \n",
       "3801  3802   25    male                      0                     0        0   \n",
       "3802  3803   26  female                      0                     0        0   \n",
       "3803  3804   27  female                      0                     0        0   \n",
       "3804  3805   49  female                      1                     1        0   \n",
       "\n",
       "         mfcc_1     mfcc_2     mfcc_3     mfcc_4  ...   mfcc_23   mfcc_24  \\\n",
       "0    -276.01898  30.519340 -20.314617  -6.689037  ... -2.679408  2.454339   \n",
       "1    -312.99362  54.141323  -1.748550  -9.437217  ... -7.248304  1.238725   \n",
       "2    -438.60306  46.675842 -22.771935  -3.527922  ... -0.136723 -1.707353   \n",
       "3    -369.26100  47.762012  -8.256503  -2.891349  ... -0.389230  4.033148   \n",
       "4    -535.68915   7.509357  -7.762263   2.567660  ... -0.279360 -0.292286   \n",
       "...         ...        ...        ...        ...  ...       ...       ...   \n",
       "3800 -329.53840  69.317080 -41.498420   3.398324  ... -0.447236  1.477676   \n",
       "3801 -387.18520  74.883385 -13.053332   0.423010  ... -3.050042  4.993294   \n",
       "3802 -347.74250  58.946648  12.572187  28.366724  ... -2.563241 -2.590208   \n",
       "3803 -180.65393  72.516770 -16.372229  -8.363718  ... -8.350143  6.216520   \n",
       "3804 -309.09590  85.979750  10.980089  13.028820  ...  0.160724  4.126519   \n",
       "\n",
       "       mfcc_25   mfcc_26   mfcc_27   mfcc_28   mfcc_29   mfcc_30   mfcc_31  \\\n",
       "0    -1.176285  2.314315 -0.339533  2.514413 -4.784703  1.239072 -1.556883   \n",
       "1    -6.894970 -1.810402 -7.259594  0.715029 -1.372265 -1.760624 -2.735181   \n",
       "2     2.649277  1.208829 -0.033701 -1.008729 -0.687255 -0.472232  0.850565   \n",
       "3    -2.658165  2.867084  1.679876  2.136411  0.289792  1.709179 -0.592465   \n",
       "4    -1.559678  0.328864 -1.053423  0.844060 -0.788914  1.182740 -0.527028   \n",
       "...        ...       ...       ...       ...       ...       ...       ...   \n",
       "3800 -5.139314  0.058984  1.145387  3.968560 -4.152923  2.655675 -4.001793   \n",
       "3801  1.104003  6.089378  2.936215  3.518800 -0.500065  3.678556  2.742439   \n",
       "3802 -2.765020 -1.786291 -3.289306 -1.355590 -0.098087 -1.539166 -1.679146   \n",
       "3803 -2.514634  2.063279 -1.506954  0.092602 -4.883226  0.641473 -5.265770   \n",
       "3804 -1.335597 -3.686338  1.180410  3.182663  1.468856  1.180359  0.236397   \n",
       "\n",
       "       mfcc_32  \n",
       "0    -1.548770  \n",
       "1     1.134190  \n",
       "2     0.353839  \n",
       "3     1.754549  \n",
       "4     1.208361  \n",
       "...        ...  \n",
       "3800 -2.753481  \n",
       "3801  5.705073  \n",
       "3802 -1.346460  \n",
       "3803 -0.327298  \n",
       "3804  4.148143  \n",
       "\n",
       "[3805 rows x 38 columns]"
      ]
     },
     "execution_count": 12,
     "metadata": {},
     "output_type": "execute_result"
    }
   ],
   "source": [
    "train_mfcc_data = pd.read_csv('./train_mfcc_data.csv')\n",
    "test_mfcc_data = pd.read_csv('./test_mfcc_data.csv')\n",
    "\n",
    "train_mfcc_data"
   ]
  },
  {
   "cell_type": "code",
   "execution_count": 13,
   "id": "8af9c362",
   "metadata": {
    "ExecuteTime": {
     "end_time": "2022-07-08T05:12:59.046803Z",
     "start_time": "2022-07-08T05:12:59.033608Z"
    },
    "id": "8af9c362"
   },
   "outputs": [],
   "source": [
    "# wav 파일의 MFCC Feature와 상태정보를 합친 학습데이터를 불러옵니다.\n",
    "train_df = pd.read_csv('./train_mfcc_data.csv')\n",
    "\n",
    "# 학습데이터를 모델의 input으로 들어갈 x와 label로 사용할 y로 분할\n",
    "train_x = train_mfcc_data.drop(columns=['id', 'covid19'])\n",
    "train_y = train_mfcc_data['covid19']"
   ]
  },
  {
   "cell_type": "code",
   "execution_count": 14,
   "id": "83f1c6b3",
   "metadata": {
    "ExecuteTime": {
     "end_time": "2022-07-08T05:12:59.050470Z",
     "start_time": "2022-07-08T05:12:59.047989Z"
    }
   },
   "outputs": [
    {
     "data": {
      "text/plain": [
       "0    3499\n",
       "1     306\n",
       "Name: covid19, dtype: int64"
      ]
     },
     "execution_count": 14,
     "metadata": {},
     "output_type": "execute_result"
    }
   ],
   "source": [
    "train_y.value_counts()"
   ]
  },
  {
   "cell_type": "code",
   "execution_count": 15,
   "id": "232fb037",
   "metadata": {
    "ExecuteTime": {
     "end_time": "2022-07-08T05:12:59.053548Z",
     "start_time": "2022-07-08T05:12:59.051321Z"
    },
    "id": "232fb037"
   },
   "outputs": [],
   "source": [
    "def onehot_encoding(ohe, x):\n",
    "    # 학습데이터로 부터 fit된 one-hot encoder (ohe)를 받아 transform 시켜주는 함수\n",
    "    encoded = ohe.transform(x['gender'].values.reshape(-1,1))\n",
    "    encoded_df = pd.DataFrame(encoded, columns=ohe.categories_[0])\n",
    "    x = pd.concat([x.drop(columns=['gender']), encoded_df], axis=1)\n",
    "    return x"
   ]
  },
  {
   "cell_type": "code",
   "execution_count": 16,
   "id": "79181893",
   "metadata": {
    "ExecuteTime": {
     "end_time": "2022-07-08T05:12:59.068071Z",
     "start_time": "2022-07-08T05:12:59.055126Z"
    },
    "id": "79181893"
   },
   "outputs": [
    {
     "data": {
      "text/html": [
       "<div>\n",
       "<style scoped>\n",
       "    .dataframe tbody tr th:only-of-type {\n",
       "        vertical-align: middle;\n",
       "    }\n",
       "\n",
       "    .dataframe tbody tr th {\n",
       "        vertical-align: top;\n",
       "    }\n",
       "\n",
       "    .dataframe thead th {\n",
       "        text-align: right;\n",
       "    }\n",
       "</style>\n",
       "<table border=\"1\" class=\"dataframe\">\n",
       "  <thead>\n",
       "    <tr style=\"text-align: right;\">\n",
       "      <th></th>\n",
       "      <th>age</th>\n",
       "      <th>respiratory_condition</th>\n",
       "      <th>fever_or_muscle_pain</th>\n",
       "      <th>mfcc_1</th>\n",
       "      <th>mfcc_2</th>\n",
       "      <th>mfcc_3</th>\n",
       "      <th>mfcc_4</th>\n",
       "      <th>mfcc_5</th>\n",
       "      <th>mfcc_6</th>\n",
       "      <th>mfcc_7</th>\n",
       "      <th>...</th>\n",
       "      <th>mfcc_26</th>\n",
       "      <th>mfcc_27</th>\n",
       "      <th>mfcc_28</th>\n",
       "      <th>mfcc_29</th>\n",
       "      <th>mfcc_30</th>\n",
       "      <th>mfcc_31</th>\n",
       "      <th>mfcc_32</th>\n",
       "      <th>female</th>\n",
       "      <th>male</th>\n",
       "      <th>other</th>\n",
       "    </tr>\n",
       "  </thead>\n",
       "  <tbody>\n",
       "    <tr>\n",
       "      <th>0</th>\n",
       "      <td>24</td>\n",
       "      <td>0</td>\n",
       "      <td>1</td>\n",
       "      <td>-276.01898</td>\n",
       "      <td>30.519340</td>\n",
       "      <td>-20.314617</td>\n",
       "      <td>-6.689037</td>\n",
       "      <td>-10.224930</td>\n",
       "      <td>-7.443150</td>\n",
       "      <td>-33.740433</td>\n",
       "      <td>...</td>\n",
       "      <td>2.314315</td>\n",
       "      <td>-0.339533</td>\n",
       "      <td>2.514413</td>\n",
       "      <td>-4.784703</td>\n",
       "      <td>1.239072</td>\n",
       "      <td>-1.556883</td>\n",
       "      <td>-1.548770</td>\n",
       "      <td>1.0</td>\n",
       "      <td>0.0</td>\n",
       "      <td>0.0</td>\n",
       "    </tr>\n",
       "    <tr>\n",
       "      <th>1</th>\n",
       "      <td>51</td>\n",
       "      <td>0</td>\n",
       "      <td>0</td>\n",
       "      <td>-312.99362</td>\n",
       "      <td>54.141323</td>\n",
       "      <td>-1.748550</td>\n",
       "      <td>-9.437217</td>\n",
       "      <td>4.317682</td>\n",
       "      <td>-0.148136</td>\n",
       "      <td>-17.331125</td>\n",
       "      <td>...</td>\n",
       "      <td>-1.810402</td>\n",
       "      <td>-7.259594</td>\n",
       "      <td>0.715029</td>\n",
       "      <td>-1.372265</td>\n",
       "      <td>-1.760624</td>\n",
       "      <td>-2.735181</td>\n",
       "      <td>1.134190</td>\n",
       "      <td>0.0</td>\n",
       "      <td>1.0</td>\n",
       "      <td>0.0</td>\n",
       "    </tr>\n",
       "    <tr>\n",
       "      <th>2</th>\n",
       "      <td>22</td>\n",
       "      <td>0</td>\n",
       "      <td>0</td>\n",
       "      <td>-438.60306</td>\n",
       "      <td>46.675842</td>\n",
       "      <td>-22.771935</td>\n",
       "      <td>-3.527922</td>\n",
       "      <td>-13.949551</td>\n",
       "      <td>0.344213</td>\n",
       "      <td>-9.082897</td>\n",
       "      <td>...</td>\n",
       "      <td>1.208829</td>\n",
       "      <td>-0.033701</td>\n",
       "      <td>-1.008729</td>\n",
       "      <td>-0.687255</td>\n",
       "      <td>-0.472232</td>\n",
       "      <td>0.850565</td>\n",
       "      <td>0.353839</td>\n",
       "      <td>0.0</td>\n",
       "      <td>1.0</td>\n",
       "      <td>0.0</td>\n",
       "    </tr>\n",
       "    <tr>\n",
       "      <th>3</th>\n",
       "      <td>29</td>\n",
       "      <td>1</td>\n",
       "      <td>0</td>\n",
       "      <td>-369.26100</td>\n",
       "      <td>47.762012</td>\n",
       "      <td>-8.256503</td>\n",
       "      <td>-2.891349</td>\n",
       "      <td>-21.302510</td>\n",
       "      <td>-8.495335</td>\n",
       "      <td>-11.653670</td>\n",
       "      <td>...</td>\n",
       "      <td>2.867084</td>\n",
       "      <td>1.679876</td>\n",
       "      <td>2.136411</td>\n",
       "      <td>0.289792</td>\n",
       "      <td>1.709179</td>\n",
       "      <td>-0.592465</td>\n",
       "      <td>1.754549</td>\n",
       "      <td>1.0</td>\n",
       "      <td>0.0</td>\n",
       "      <td>0.0</td>\n",
       "    </tr>\n",
       "    <tr>\n",
       "      <th>4</th>\n",
       "      <td>23</td>\n",
       "      <td>0</td>\n",
       "      <td>0</td>\n",
       "      <td>-535.68915</td>\n",
       "      <td>7.509357</td>\n",
       "      <td>-7.762263</td>\n",
       "      <td>2.567660</td>\n",
       "      <td>-5.632455</td>\n",
       "      <td>-0.318077</td>\n",
       "      <td>-6.422602</td>\n",
       "      <td>...</td>\n",
       "      <td>0.328864</td>\n",
       "      <td>-1.053423</td>\n",
       "      <td>0.844060</td>\n",
       "      <td>-0.788914</td>\n",
       "      <td>1.182740</td>\n",
       "      <td>-0.527028</td>\n",
       "      <td>1.208361</td>\n",
       "      <td>0.0</td>\n",
       "      <td>1.0</td>\n",
       "      <td>0.0</td>\n",
       "    </tr>\n",
       "    <tr>\n",
       "      <th>...</th>\n",
       "      <td>...</td>\n",
       "      <td>...</td>\n",
       "      <td>...</td>\n",
       "      <td>...</td>\n",
       "      <td>...</td>\n",
       "      <td>...</td>\n",
       "      <td>...</td>\n",
       "      <td>...</td>\n",
       "      <td>...</td>\n",
       "      <td>...</td>\n",
       "      <td>...</td>\n",
       "      <td>...</td>\n",
       "      <td>...</td>\n",
       "      <td>...</td>\n",
       "      <td>...</td>\n",
       "      <td>...</td>\n",
       "      <td>...</td>\n",
       "      <td>...</td>\n",
       "      <td>...</td>\n",
       "      <td>...</td>\n",
       "      <td>...</td>\n",
       "    </tr>\n",
       "    <tr>\n",
       "      <th>3800</th>\n",
       "      <td>53</td>\n",
       "      <td>0</td>\n",
       "      <td>0</td>\n",
       "      <td>-329.53840</td>\n",
       "      <td>69.317080</td>\n",
       "      <td>-41.498420</td>\n",
       "      <td>3.398324</td>\n",
       "      <td>-0.727913</td>\n",
       "      <td>-29.284441</td>\n",
       "      <td>-8.326742</td>\n",
       "      <td>...</td>\n",
       "      <td>0.058984</td>\n",
       "      <td>1.145387</td>\n",
       "      <td>3.968560</td>\n",
       "      <td>-4.152923</td>\n",
       "      <td>2.655675</td>\n",
       "      <td>-4.001793</td>\n",
       "      <td>-2.753481</td>\n",
       "      <td>0.0</td>\n",
       "      <td>1.0</td>\n",
       "      <td>0.0</td>\n",
       "    </tr>\n",
       "    <tr>\n",
       "      <th>3801</th>\n",
       "      <td>25</td>\n",
       "      <td>0</td>\n",
       "      <td>0</td>\n",
       "      <td>-387.18520</td>\n",
       "      <td>74.883385</td>\n",
       "      <td>-13.053332</td>\n",
       "      <td>0.423010</td>\n",
       "      <td>-17.047607</td>\n",
       "      <td>-14.365114</td>\n",
       "      <td>-20.488728</td>\n",
       "      <td>...</td>\n",
       "      <td>6.089378</td>\n",
       "      <td>2.936215</td>\n",
       "      <td>3.518800</td>\n",
       "      <td>-0.500065</td>\n",
       "      <td>3.678556</td>\n",
       "      <td>2.742439</td>\n",
       "      <td>5.705073</td>\n",
       "      <td>0.0</td>\n",
       "      <td>1.0</td>\n",
       "      <td>0.0</td>\n",
       "    </tr>\n",
       "    <tr>\n",
       "      <th>3802</th>\n",
       "      <td>26</td>\n",
       "      <td>0</td>\n",
       "      <td>0</td>\n",
       "      <td>-347.74250</td>\n",
       "      <td>58.946648</td>\n",
       "      <td>12.572187</td>\n",
       "      <td>28.366724</td>\n",
       "      <td>20.244375</td>\n",
       "      <td>10.567720</td>\n",
       "      <td>6.461148</td>\n",
       "      <td>...</td>\n",
       "      <td>-1.786291</td>\n",
       "      <td>-3.289306</td>\n",
       "      <td>-1.355590</td>\n",
       "      <td>-0.098087</td>\n",
       "      <td>-1.539166</td>\n",
       "      <td>-1.679146</td>\n",
       "      <td>-1.346460</td>\n",
       "      <td>1.0</td>\n",
       "      <td>0.0</td>\n",
       "      <td>0.0</td>\n",
       "    </tr>\n",
       "    <tr>\n",
       "      <th>3803</th>\n",
       "      <td>27</td>\n",
       "      <td>0</td>\n",
       "      <td>0</td>\n",
       "      <td>-180.65393</td>\n",
       "      <td>72.516770</td>\n",
       "      <td>-16.372229</td>\n",
       "      <td>-8.363718</td>\n",
       "      <td>-27.403595</td>\n",
       "      <td>3.756918</td>\n",
       "      <td>-12.728548</td>\n",
       "      <td>...</td>\n",
       "      <td>2.063279</td>\n",
       "      <td>-1.506954</td>\n",
       "      <td>0.092602</td>\n",
       "      <td>-4.883226</td>\n",
       "      <td>0.641473</td>\n",
       "      <td>-5.265770</td>\n",
       "      <td>-0.327298</td>\n",
       "      <td>1.0</td>\n",
       "      <td>0.0</td>\n",
       "      <td>0.0</td>\n",
       "    </tr>\n",
       "    <tr>\n",
       "      <th>3804</th>\n",
       "      <td>49</td>\n",
       "      <td>1</td>\n",
       "      <td>1</td>\n",
       "      <td>-309.09590</td>\n",
       "      <td>85.979750</td>\n",
       "      <td>10.980089</td>\n",
       "      <td>13.028820</td>\n",
       "      <td>-20.977642</td>\n",
       "      <td>-24.173624</td>\n",
       "      <td>-32.748080</td>\n",
       "      <td>...</td>\n",
       "      <td>-3.686338</td>\n",
       "      <td>1.180410</td>\n",
       "      <td>3.182663</td>\n",
       "      <td>1.468856</td>\n",
       "      <td>1.180359</td>\n",
       "      <td>0.236397</td>\n",
       "      <td>4.148143</td>\n",
       "      <td>1.0</td>\n",
       "      <td>0.0</td>\n",
       "      <td>0.0</td>\n",
       "    </tr>\n",
       "  </tbody>\n",
       "</table>\n",
       "<p>3805 rows × 38 columns</p>\n",
       "</div>"
      ],
      "text/plain": [
       "      age  respiratory_condition  fever_or_muscle_pain     mfcc_1     mfcc_2  \\\n",
       "0      24                      0                     1 -276.01898  30.519340   \n",
       "1      51                      0                     0 -312.99362  54.141323   \n",
       "2      22                      0                     0 -438.60306  46.675842   \n",
       "3      29                      1                     0 -369.26100  47.762012   \n",
       "4      23                      0                     0 -535.68915   7.509357   \n",
       "...   ...                    ...                   ...        ...        ...   \n",
       "3800   53                      0                     0 -329.53840  69.317080   \n",
       "3801   25                      0                     0 -387.18520  74.883385   \n",
       "3802   26                      0                     0 -347.74250  58.946648   \n",
       "3803   27                      0                     0 -180.65393  72.516770   \n",
       "3804   49                      1                     1 -309.09590  85.979750   \n",
       "\n",
       "         mfcc_3     mfcc_4     mfcc_5     mfcc_6     mfcc_7  ...   mfcc_26  \\\n",
       "0    -20.314617  -6.689037 -10.224930  -7.443150 -33.740433  ...  2.314315   \n",
       "1     -1.748550  -9.437217   4.317682  -0.148136 -17.331125  ... -1.810402   \n",
       "2    -22.771935  -3.527922 -13.949551   0.344213  -9.082897  ...  1.208829   \n",
       "3     -8.256503  -2.891349 -21.302510  -8.495335 -11.653670  ...  2.867084   \n",
       "4     -7.762263   2.567660  -5.632455  -0.318077  -6.422602  ...  0.328864   \n",
       "...         ...        ...        ...        ...        ...  ...       ...   \n",
       "3800 -41.498420   3.398324  -0.727913 -29.284441  -8.326742  ...  0.058984   \n",
       "3801 -13.053332   0.423010 -17.047607 -14.365114 -20.488728  ...  6.089378   \n",
       "3802  12.572187  28.366724  20.244375  10.567720   6.461148  ... -1.786291   \n",
       "3803 -16.372229  -8.363718 -27.403595   3.756918 -12.728548  ...  2.063279   \n",
       "3804  10.980089  13.028820 -20.977642 -24.173624 -32.748080  ... -3.686338   \n",
       "\n",
       "       mfcc_27   mfcc_28   mfcc_29   mfcc_30   mfcc_31   mfcc_32  female  \\\n",
       "0    -0.339533  2.514413 -4.784703  1.239072 -1.556883 -1.548770     1.0   \n",
       "1    -7.259594  0.715029 -1.372265 -1.760624 -2.735181  1.134190     0.0   \n",
       "2    -0.033701 -1.008729 -0.687255 -0.472232  0.850565  0.353839     0.0   \n",
       "3     1.679876  2.136411  0.289792  1.709179 -0.592465  1.754549     1.0   \n",
       "4    -1.053423  0.844060 -0.788914  1.182740 -0.527028  1.208361     0.0   \n",
       "...        ...       ...       ...       ...       ...       ...     ...   \n",
       "3800  1.145387  3.968560 -4.152923  2.655675 -4.001793 -2.753481     0.0   \n",
       "3801  2.936215  3.518800 -0.500065  3.678556  2.742439  5.705073     0.0   \n",
       "3802 -3.289306 -1.355590 -0.098087 -1.539166 -1.679146 -1.346460     1.0   \n",
       "3803 -1.506954  0.092602 -4.883226  0.641473 -5.265770 -0.327298     1.0   \n",
       "3804  1.180410  3.182663  1.468856  1.180359  0.236397  4.148143     1.0   \n",
       "\n",
       "      male  other  \n",
       "0      0.0    0.0  \n",
       "1      1.0    0.0  \n",
       "2      1.0    0.0  \n",
       "3      0.0    0.0  \n",
       "4      1.0    0.0  \n",
       "...    ...    ...  \n",
       "3800   1.0    0.0  \n",
       "3801   1.0    0.0  \n",
       "3802   0.0    0.0  \n",
       "3803   0.0    0.0  \n",
       "3804   0.0    0.0  \n",
       "\n",
       "[3805 rows x 38 columns]"
      ]
     },
     "execution_count": 16,
     "metadata": {},
     "output_type": "execute_result"
    }
   ],
   "source": [
    "# 'gender' column의 경우 추가 전처리가 필요 -> OneHotEncoder 적용\n",
    "ohe = OneHotEncoder(sparse=False)\n",
    "ohe.fit(train_x['gender'].values.reshape(-1,1))\n",
    "train_x = onehot_encoding(ohe, train_x)\n",
    "train_x"
   ]
  },
  {
   "cell_type": "code",
   "execution_count": 17,
   "id": "eb8b8b01",
   "metadata": {
    "ExecuteTime": {
     "end_time": "2022-07-08T05:12:59.099200Z",
     "start_time": "2022-07-08T05:12:59.069075Z"
    },
    "id": "eb8b8b01"
   },
   "outputs": [
    {
     "data": {
      "text/html": [
       "<div>\n",
       "<style scoped>\n",
       "    .dataframe tbody tr th:only-of-type {\n",
       "        vertical-align: middle;\n",
       "    }\n",
       "\n",
       "    .dataframe tbody tr th {\n",
       "        vertical-align: top;\n",
       "    }\n",
       "\n",
       "    .dataframe thead th {\n",
       "        text-align: right;\n",
       "    }\n",
       "</style>\n",
       "<table border=\"1\" class=\"dataframe\">\n",
       "  <thead>\n",
       "    <tr style=\"text-align: right;\">\n",
       "      <th></th>\n",
       "      <th>age</th>\n",
       "      <th>respiratory_condition</th>\n",
       "      <th>fever_or_muscle_pain</th>\n",
       "      <th>mfcc_1</th>\n",
       "      <th>mfcc_2</th>\n",
       "      <th>mfcc_3</th>\n",
       "      <th>mfcc_4</th>\n",
       "      <th>mfcc_5</th>\n",
       "      <th>mfcc_6</th>\n",
       "      <th>mfcc_7</th>\n",
       "      <th>...</th>\n",
       "      <th>mfcc_26</th>\n",
       "      <th>mfcc_27</th>\n",
       "      <th>mfcc_28</th>\n",
       "      <th>mfcc_29</th>\n",
       "      <th>mfcc_30</th>\n",
       "      <th>mfcc_31</th>\n",
       "      <th>mfcc_32</th>\n",
       "      <th>female</th>\n",
       "      <th>male</th>\n",
       "      <th>other</th>\n",
       "    </tr>\n",
       "  </thead>\n",
       "  <tbody>\n",
       "    <tr>\n",
       "      <th>0</th>\n",
       "      <td>48</td>\n",
       "      <td>1</td>\n",
       "      <td>0</td>\n",
       "      <td>-620.30580</td>\n",
       "      <td>9.424123</td>\n",
       "      <td>0.727018</td>\n",
       "      <td>2.465860</td>\n",
       "      <td>-0.261858</td>\n",
       "      <td>-1.100758</td>\n",
       "      <td>-3.199885</td>\n",
       "      <td>...</td>\n",
       "      <td>0.039260</td>\n",
       "      <td>-0.395975</td>\n",
       "      <td>-0.261139</td>\n",
       "      <td>-0.092119</td>\n",
       "      <td>-0.004060</td>\n",
       "      <td>-0.128369</td>\n",
       "      <td>-0.162123</td>\n",
       "      <td>1.0</td>\n",
       "      <td>0.0</td>\n",
       "      <td>0.0</td>\n",
       "    </tr>\n",
       "    <tr>\n",
       "      <th>1</th>\n",
       "      <td>24</td>\n",
       "      <td>0</td>\n",
       "      <td>0</td>\n",
       "      <td>-494.12106</td>\n",
       "      <td>8.865809</td>\n",
       "      <td>-3.128296</td>\n",
       "      <td>-2.435534</td>\n",
       "      <td>-3.131949</td>\n",
       "      <td>2.349788</td>\n",
       "      <td>-5.630660</td>\n",
       "      <td>...</td>\n",
       "      <td>-0.009176</td>\n",
       "      <td>-1.300374</td>\n",
       "      <td>0.349196</td>\n",
       "      <td>-0.747507</td>\n",
       "      <td>0.488091</td>\n",
       "      <td>-0.995132</td>\n",
       "      <td>0.394098</td>\n",
       "      <td>1.0</td>\n",
       "      <td>0.0</td>\n",
       "      <td>0.0</td>\n",
       "    </tr>\n",
       "    <tr>\n",
       "      <th>2</th>\n",
       "      <td>29</td>\n",
       "      <td>0</td>\n",
       "      <td>0</td>\n",
       "      <td>-1059.75440</td>\n",
       "      <td>-1.519202</td>\n",
       "      <td>-8.192215</td>\n",
       "      <td>0.108348</td>\n",
       "      <td>-6.175036</td>\n",
       "      <td>2.347849</td>\n",
       "      <td>-8.913836</td>\n",
       "      <td>...</td>\n",
       "      <td>0.130874</td>\n",
       "      <td>0.261509</td>\n",
       "      <td>1.180880</td>\n",
       "      <td>-2.915745</td>\n",
       "      <td>-3.374779</td>\n",
       "      <td>-0.757438</td>\n",
       "      <td>-3.469919</td>\n",
       "      <td>0.0</td>\n",
       "      <td>1.0</td>\n",
       "      <td>0.0</td>\n",
       "    </tr>\n",
       "    <tr>\n",
       "      <th>3</th>\n",
       "      <td>39</td>\n",
       "      <td>0</td>\n",
       "      <td>0</td>\n",
       "      <td>-362.80643</td>\n",
       "      <td>27.674362</td>\n",
       "      <td>-9.778632</td>\n",
       "      <td>10.285870</td>\n",
       "      <td>-1.541319</td>\n",
       "      <td>-3.504866</td>\n",
       "      <td>-14.483954</td>\n",
       "      <td>...</td>\n",
       "      <td>0.397847</td>\n",
       "      <td>-2.791587</td>\n",
       "      <td>0.033708</td>\n",
       "      <td>0.615491</td>\n",
       "      <td>2.018101</td>\n",
       "      <td>1.088379</td>\n",
       "      <td>0.863595</td>\n",
       "      <td>1.0</td>\n",
       "      <td>0.0</td>\n",
       "      <td>0.0</td>\n",
       "    </tr>\n",
       "    <tr>\n",
       "      <th>4</th>\n",
       "      <td>34</td>\n",
       "      <td>0</td>\n",
       "      <td>0</td>\n",
       "      <td>-388.05432</td>\n",
       "      <td>45.460460</td>\n",
       "      <td>-14.742424</td>\n",
       "      <td>-2.684571</td>\n",
       "      <td>-10.204907</td>\n",
       "      <td>10.337976</td>\n",
       "      <td>-1.117903</td>\n",
       "      <td>...</td>\n",
       "      <td>-5.373309</td>\n",
       "      <td>1.705544</td>\n",
       "      <td>3.001329</td>\n",
       "      <td>-5.252439</td>\n",
       "      <td>-0.027374</td>\n",
       "      <td>2.200471</td>\n",
       "      <td>-2.151908</td>\n",
       "      <td>0.0</td>\n",
       "      <td>1.0</td>\n",
       "      <td>0.0</td>\n",
       "    </tr>\n",
       "    <tr>\n",
       "      <th>...</th>\n",
       "      <td>...</td>\n",
       "      <td>...</td>\n",
       "      <td>...</td>\n",
       "      <td>...</td>\n",
       "      <td>...</td>\n",
       "      <td>...</td>\n",
       "      <td>...</td>\n",
       "      <td>...</td>\n",
       "      <td>...</td>\n",
       "      <td>...</td>\n",
       "      <td>...</td>\n",
       "      <td>...</td>\n",
       "      <td>...</td>\n",
       "      <td>...</td>\n",
       "      <td>...</td>\n",
       "      <td>...</td>\n",
       "      <td>...</td>\n",
       "      <td>...</td>\n",
       "      <td>...</td>\n",
       "      <td>...</td>\n",
       "      <td>...</td>\n",
       "    </tr>\n",
       "    <tr>\n",
       "      <th>5727</th>\n",
       "      <td>43</td>\n",
       "      <td>0</td>\n",
       "      <td>0</td>\n",
       "      <td>-363.87415</td>\n",
       "      <td>48.446053</td>\n",
       "      <td>6.146007</td>\n",
       "      <td>12.088921</td>\n",
       "      <td>-8.301061</td>\n",
       "      <td>-1.040586</td>\n",
       "      <td>-11.340342</td>\n",
       "      <td>...</td>\n",
       "      <td>-0.560810</td>\n",
       "      <td>1.022309</td>\n",
       "      <td>-1.620644</td>\n",
       "      <td>-5.837281</td>\n",
       "      <td>-1.337036</td>\n",
       "      <td>-1.708651</td>\n",
       "      <td>-0.605050</td>\n",
       "      <td>0.0</td>\n",
       "      <td>1.0</td>\n",
       "      <td>0.0</td>\n",
       "    </tr>\n",
       "    <tr>\n",
       "      <th>5728</th>\n",
       "      <td>48</td>\n",
       "      <td>0</td>\n",
       "      <td>1</td>\n",
       "      <td>-650.64930</td>\n",
       "      <td>3.089389</td>\n",
       "      <td>1.821568</td>\n",
       "      <td>5.398409</td>\n",
       "      <td>-4.807905</td>\n",
       "      <td>-3.338209</td>\n",
       "      <td>-7.359063</td>\n",
       "      <td>...</td>\n",
       "      <td>0.428167</td>\n",
       "      <td>-0.812079</td>\n",
       "      <td>1.184415</td>\n",
       "      <td>-1.119913</td>\n",
       "      <td>0.296456</td>\n",
       "      <td>0.125727</td>\n",
       "      <td>-0.273791</td>\n",
       "      <td>1.0</td>\n",
       "      <td>0.0</td>\n",
       "      <td>0.0</td>\n",
       "    </tr>\n",
       "    <tr>\n",
       "      <th>5729</th>\n",
       "      <td>44</td>\n",
       "      <td>0</td>\n",
       "      <td>0</td>\n",
       "      <td>-335.87747</td>\n",
       "      <td>54.853344</td>\n",
       "      <td>-16.275513</td>\n",
       "      <td>14.433867</td>\n",
       "      <td>-9.924277</td>\n",
       "      <td>-5.135542</td>\n",
       "      <td>-28.151585</td>\n",
       "      <td>...</td>\n",
       "      <td>-1.240127</td>\n",
       "      <td>-2.499818</td>\n",
       "      <td>-1.289216</td>\n",
       "      <td>-4.292271</td>\n",
       "      <td>-0.031026</td>\n",
       "      <td>-1.064259</td>\n",
       "      <td>0.318412</td>\n",
       "      <td>1.0</td>\n",
       "      <td>0.0</td>\n",
       "      <td>0.0</td>\n",
       "    </tr>\n",
       "    <tr>\n",
       "      <th>5730</th>\n",
       "      <td>25</td>\n",
       "      <td>0</td>\n",
       "      <td>0</td>\n",
       "      <td>-535.33655</td>\n",
       "      <td>17.660162</td>\n",
       "      <td>-9.821951</td>\n",
       "      <td>5.716812</td>\n",
       "      <td>-8.438224</td>\n",
       "      <td>0.311916</td>\n",
       "      <td>-11.437690</td>\n",
       "      <td>...</td>\n",
       "      <td>-1.572410</td>\n",
       "      <td>-1.555100</td>\n",
       "      <td>-1.462370</td>\n",
       "      <td>-1.572655</td>\n",
       "      <td>-0.863414</td>\n",
       "      <td>-0.713437</td>\n",
       "      <td>0.072218</td>\n",
       "      <td>1.0</td>\n",
       "      <td>0.0</td>\n",
       "      <td>0.0</td>\n",
       "    </tr>\n",
       "    <tr>\n",
       "      <th>5731</th>\n",
       "      <td>17</td>\n",
       "      <td>1</td>\n",
       "      <td>1</td>\n",
       "      <td>-299.52518</td>\n",
       "      <td>84.688490</td>\n",
       "      <td>3.478433</td>\n",
       "      <td>9.379205</td>\n",
       "      <td>-6.023780</td>\n",
       "      <td>10.148813</td>\n",
       "      <td>-8.633966</td>\n",
       "      <td>...</td>\n",
       "      <td>0.856953</td>\n",
       "      <td>-5.463819</td>\n",
       "      <td>-0.023724</td>\n",
       "      <td>-3.553342</td>\n",
       "      <td>-2.621157</td>\n",
       "      <td>-0.103982</td>\n",
       "      <td>-0.322999</td>\n",
       "      <td>1.0</td>\n",
       "      <td>0.0</td>\n",
       "      <td>0.0</td>\n",
       "    </tr>\n",
       "  </tbody>\n",
       "</table>\n",
       "<p>5732 rows × 38 columns</p>\n",
       "</div>"
      ],
      "text/plain": [
       "      age  respiratory_condition  fever_or_muscle_pain      mfcc_1     mfcc_2  \\\n",
       "0      48                      1                     0  -620.30580   9.424123   \n",
       "1      24                      0                     0  -494.12106   8.865809   \n",
       "2      29                      0                     0 -1059.75440  -1.519202   \n",
       "3      39                      0                     0  -362.80643  27.674362   \n",
       "4      34                      0                     0  -388.05432  45.460460   \n",
       "...   ...                    ...                   ...         ...        ...   \n",
       "5727   43                      0                     0  -363.87415  48.446053   \n",
       "5728   48                      0                     1  -650.64930   3.089389   \n",
       "5729   44                      0                     0  -335.87747  54.853344   \n",
       "5730   25                      0                     0  -535.33655  17.660162   \n",
       "5731   17                      1                     1  -299.52518  84.688490   \n",
       "\n",
       "         mfcc_3     mfcc_4     mfcc_5     mfcc_6     mfcc_7  ...   mfcc_26  \\\n",
       "0      0.727018   2.465860  -0.261858  -1.100758  -3.199885  ...  0.039260   \n",
       "1     -3.128296  -2.435534  -3.131949   2.349788  -5.630660  ... -0.009176   \n",
       "2     -8.192215   0.108348  -6.175036   2.347849  -8.913836  ...  0.130874   \n",
       "3     -9.778632  10.285870  -1.541319  -3.504866 -14.483954  ...  0.397847   \n",
       "4    -14.742424  -2.684571 -10.204907  10.337976  -1.117903  ... -5.373309   \n",
       "...         ...        ...        ...        ...        ...  ...       ...   \n",
       "5727   6.146007  12.088921  -8.301061  -1.040586 -11.340342  ... -0.560810   \n",
       "5728   1.821568   5.398409  -4.807905  -3.338209  -7.359063  ...  0.428167   \n",
       "5729 -16.275513  14.433867  -9.924277  -5.135542 -28.151585  ... -1.240127   \n",
       "5730  -9.821951   5.716812  -8.438224   0.311916 -11.437690  ... -1.572410   \n",
       "5731   3.478433   9.379205  -6.023780  10.148813  -8.633966  ...  0.856953   \n",
       "\n",
       "       mfcc_27   mfcc_28   mfcc_29   mfcc_30   mfcc_31   mfcc_32  female  \\\n",
       "0    -0.395975 -0.261139 -0.092119 -0.004060 -0.128369 -0.162123     1.0   \n",
       "1    -1.300374  0.349196 -0.747507  0.488091 -0.995132  0.394098     1.0   \n",
       "2     0.261509  1.180880 -2.915745 -3.374779 -0.757438 -3.469919     0.0   \n",
       "3    -2.791587  0.033708  0.615491  2.018101  1.088379  0.863595     1.0   \n",
       "4     1.705544  3.001329 -5.252439 -0.027374  2.200471 -2.151908     0.0   \n",
       "...        ...       ...       ...       ...       ...       ...     ...   \n",
       "5727  1.022309 -1.620644 -5.837281 -1.337036 -1.708651 -0.605050     0.0   \n",
       "5728 -0.812079  1.184415 -1.119913  0.296456  0.125727 -0.273791     1.0   \n",
       "5729 -2.499818 -1.289216 -4.292271 -0.031026 -1.064259  0.318412     1.0   \n",
       "5730 -1.555100 -1.462370 -1.572655 -0.863414 -0.713437  0.072218     1.0   \n",
       "5731 -5.463819 -0.023724 -3.553342 -2.621157 -0.103982 -0.322999     1.0   \n",
       "\n",
       "      male  other  \n",
       "0      0.0    0.0  \n",
       "1      0.0    0.0  \n",
       "2      1.0    0.0  \n",
       "3      0.0    0.0  \n",
       "4      1.0    0.0  \n",
       "...    ...    ...  \n",
       "5727   1.0    0.0  \n",
       "5728   0.0    0.0  \n",
       "5729   0.0    0.0  \n",
       "5730   0.0    0.0  \n",
       "5731   0.0    0.0  \n",
       "\n",
       "[5732 rows x 38 columns]"
      ]
     },
     "execution_count": 17,
     "metadata": {},
     "output_type": "execute_result"
    }
   ],
   "source": [
    "# 위의 학습데이터를 전처리한 과정과 동일하게 test data에도 적용\n",
    "test_x = pd.read_csv('./test_mfcc_data.csv')\n",
    "test_x = test_x.drop(columns=['id'])\n",
    "# Data Leakage에 유의하여 train data로만 학습된 ohe를 사용\n",
    "test_x = onehot_encoding(ohe, test_x)\n",
    "test_x"
   ]
  },
  {
   "cell_type": "code",
   "execution_count": 18,
   "id": "ce42b590",
   "metadata": {
    "ExecuteTime": {
     "end_time": "2022-07-08T05:13:04.083044Z",
     "start_time": "2022-07-08T05:13:04.079026Z"
    }
   },
   "outputs": [
    {
     "name": "stdout",
     "output_type": "stream",
     "text": [
      "(3805, 38) (3805,) (5732, 38)\n"
     ]
    }
   ],
   "source": [
    "print(train_x.shape, train_y.shape, test_x.shape)"
   ]
  },
  {
   "cell_type": "code",
   "execution_count": 19,
   "id": "98079db9",
   "metadata": {
    "ExecuteTime": {
     "end_time": "2022-07-08T05:13:05.650654Z",
     "start_time": "2022-07-08T05:13:05.642078Z"
    }
   },
   "outputs": [],
   "source": [
    "train_x = np.array(train_x)\n",
    "test_x = np.array(test_x)"
   ]
  },
  {
   "cell_type": "code",
   "execution_count": 23,
   "id": "02a739bc",
   "metadata": {
    "ExecuteTime": {
     "end_time": "2022-07-08T05:14:05.677912Z",
     "start_time": "2022-07-08T05:14:05.673327Z"
    }
   },
   "outputs": [
    {
     "data": {
      "text/plain": [
       "array([[24.,  0.,  1., ...,  1.,  0.,  0.],\n",
       "       [51.,  0.,  0., ...,  0.,  1.,  0.],\n",
       "       [22.,  0.,  0., ...,  0.,  1.,  0.],\n",
       "       ...,\n",
       "       [26.,  0.,  0., ...,  1.,  0.,  0.],\n",
       "       [27.,  0.,  0., ...,  1.,  0.,  0.],\n",
       "       [49.,  1.,  1., ...,  1.,  0.,  0.]])"
      ]
     },
     "execution_count": 23,
     "metadata": {},
     "output_type": "execute_result"
    }
   ],
   "source": [
    "train_x"
   ]
  },
  {
   "cell_type": "code",
   "execution_count": 24,
   "id": "cf2bbe41",
   "metadata": {
    "ExecuteTime": {
     "end_time": "2022-07-08T05:14:08.349402Z",
     "start_time": "2022-07-08T05:14:08.342912Z"
    }
   },
   "outputs": [],
   "source": [
    "# 음성의 길이 중 가장 작은 길이를 구합니다.\n",
    "\n",
    "def get_mini(data):\n",
    "\n",
    "    mini = 9999999\n",
    "    for i in data:\n",
    "        if len(i) < mini:\n",
    "            mini = len(i)\n",
    "\n",
    "    return mini\n",
    "\n",
    "train_mini = get_mini(train_x)\n",
    "test_mini = get_mini(test_x)\n",
    "\n",
    "#음성들의 길이를 맞춰줍니다.\n",
    "\n",
    "mini = np.min([train_mini, test_mini])"
   ]
  },
  {
   "cell_type": "code",
   "execution_count": 25,
   "id": "f7e80e1d",
   "metadata": {
    "ExecuteTime": {
     "end_time": "2022-07-08T05:14:08.843034Z",
     "start_time": "2022-07-08T05:14:08.839236Z"
    }
   },
   "outputs": [
    {
     "name": "stdout",
     "output_type": "stream",
     "text": [
      "가장 작은 길이 : 38\n"
     ]
    }
   ],
   "source": [
    "print('가장 작은 길이 :', mini)"
   ]
  },
  {
   "cell_type": "code",
   "execution_count": 26,
   "id": "f5b5be1a",
   "metadata": {
    "ExecuteTime": {
     "end_time": "2022-07-08T05:14:11.025646Z",
     "start_time": "2022-07-08T05:14:11.005978Z"
    }
   },
   "outputs": [],
   "source": [
    "def set_length(data, d_mini):\n",
    "\n",
    "    result = []\n",
    "    for i in data:\n",
    "        result.append(i[:d_mini])\n",
    "    result = np.array(result)\n",
    "\n",
    "    return result\n",
    "\n",
    "train_x = set_length(train_x, mini)\n",
    "test_x = set_length(test_x, mini)"
   ]
  },
  {
   "cell_type": "code",
   "execution_count": 27,
   "id": "b7b889de",
   "metadata": {
    "ExecuteTime": {
     "end_time": "2022-07-08T05:14:11.153809Z",
     "start_time": "2022-07-08T05:14:11.148455Z"
    }
   },
   "outputs": [
    {
     "name": "stdout",
     "output_type": "stream",
     "text": [
      "train : (3805, 38)\n",
      "test : (5732, 38)\n"
     ]
    }
   ],
   "source": [
    "print('train :', train_x.shape)\n",
    "print('test :', test_x.shape)"
   ]
  },
  {
   "cell_type": "markdown",
   "id": "fb2a0055",
   "metadata": {
    "id": "fb2a0055"
   },
   "source": [
    "# Data Pre-Processing 2"
   ]
  },
  {
   "cell_type": "code",
   "execution_count": 28,
   "id": "5580ea9f",
   "metadata": {
    "ExecuteTime": {
     "end_time": "2022-07-08T05:14:58.562767Z",
     "start_time": "2022-07-08T05:14:58.548723Z"
    },
    "colab": {
     "base_uri": "https://localhost:8080/",
     "height": 166
    },
    "executionInfo": {
     "elapsed": 348,
     "status": "error",
     "timestamp": 1657214324062,
     "user": {
      "displayName": "hs L",
      "userId": "04521576200392151172"
     },
     "user_tz": -540
    },
    "id": "5580ea9f",
    "outputId": "32875e53-8e5e-4704-c189-f4398171598a"
   },
   "outputs": [
    {
     "data": {
      "text/plain": [
       "(40, 1)"
      ]
     },
     "execution_count": 28,
     "metadata": {},
     "output_type": "execute_result"
    }
   ],
   "source": [
    "extracted_features = librosa.feature.mfcc(y=train_x[0], sr=16000, n_mfcc=40)\n",
    "extracted_features.shape"
   ]
  },
  {
   "cell_type": "code",
   "execution_count": 33,
   "id": "3a79e478",
   "metadata": {
    "ExecuteTime": {
     "end_time": "2022-07-08T05:16:00.934189Z",
     "start_time": "2022-07-08T05:16:00.929437Z"
    },
    "scrolled": true
   },
   "outputs": [
    {
     "data": {
      "text/plain": [
       "array([[ 4.47631288e+02],\n",
       "       [-1.31035432e+00],\n",
       "       [ 9.05853981e+00],\n",
       "       [ 5.41942175e+00],\n",
       "       [ 1.09960780e+00],\n",
       "       [-6.29049996e+00],\n",
       "       [ 4.02097359e+00],\n",
       "       [ 3.43274397e+00],\n",
       "       [-7.38362587e-01],\n",
       "       [-2.16334821e+00],\n",
       "       [ 1.94315294e-01],\n",
       "       [ 6.50638485e-01],\n",
       "       [ 2.10119048e+00],\n",
       "       [-2.30962041e+00],\n",
       "       [ 9.72118145e-01],\n",
       "       [-5.78225534e-01],\n",
       "       [ 1.95791915e-01],\n",
       "       [ 7.47172675e-01],\n",
       "       [-7.98419565e-01],\n",
       "       [-7.97831217e-03],\n",
       "       [ 3.19757063e-01],\n",
       "       [-2.08582702e-01],\n",
       "       [ 5.12937712e-01],\n",
       "       [-8.30460121e-01],\n",
       "       [ 5.65980340e-01],\n",
       "       [-6.66905805e-02],\n",
       "       [-6.93358031e-02],\n",
       "       [-1.06610303e-01],\n",
       "       [ 3.24338471e-01],\n",
       "       [-4.56710285e-01],\n",
       "       [ 4.65941971e-01],\n",
       "       [-3.19231084e-01],\n",
       "       [ 1.70306970e-01],\n",
       "       [-1.40852413e-01],\n",
       "       [ 1.75763497e-01],\n",
       "       [-1.89269690e-01],\n",
       "       [ 2.21098630e-01],\n",
       "       [-2.63266678e-01],\n",
       "       [ 2.95863534e-01],\n",
       "       [-3.26593261e-01]])"
      ]
     },
     "execution_count": 33,
     "metadata": {},
     "output_type": "execute_result"
    }
   ],
   "source": [
    "extracted_features"
   ]
  },
  {
   "cell_type": "code",
   "execution_count": 29,
   "id": "6c4ac8bb",
   "metadata": {
    "ExecuteTime": {
     "end_time": "2022-07-08T05:15:16.641386Z",
     "start_time": "2022-07-08T05:15:16.637484Z"
    }
   },
   "outputs": [],
   "source": [
    "def preprocess_dataset(data):\n",
    "    mfccs = []\n",
    "    for i in data:\n",
    "        extracted_features = librosa.feature.mfcc(y=i,\n",
    "                                              sr=16000,\n",
    "                                              n_mfcc=40)\n",
    "        mfccs.append(extracted_features)\n",
    "            \n",
    "    return mfccs"
   ]
  },
  {
   "cell_type": "code",
   "execution_count": 31,
   "id": "95ad8a6e",
   "metadata": {
    "ExecuteTime": {
     "end_time": "2022-07-08T05:15:45.394303Z",
     "start_time": "2022-07-08T05:15:39.753981Z"
    }
   },
   "outputs": [],
   "source": [
    "train_mfccs = preprocess_dataset(train_x)\n",
    "train_mfccs = np.array(train_mfccs)\n",
    "train_mfccs = train_mfccs.reshape(-1, train_mfccs.shape[1], train_mfccs.shape[2], 1)\n",
    "#test_x = test_x.reshape(-1, test_x.shape[1], test_x.shape[2], 1)"
   ]
  },
  {
   "cell_type": "code",
   "execution_count": 32,
   "id": "132f1832",
   "metadata": {
    "ExecuteTime": {
     "end_time": "2022-07-08T05:15:45.397333Z",
     "start_time": "2022-07-08T05:15:45.395327Z"
    }
   },
   "outputs": [
    {
     "data": {
      "text/plain": [
       "(3805, 40, 1, 1)"
      ]
     },
     "execution_count": 32,
     "metadata": {},
     "output_type": "execute_result"
    }
   ],
   "source": [
    "np.array(train_mfccs).shape"
   ]
  },
  {
   "cell_type": "code",
   "execution_count": 34,
   "id": "X_u-esvBoNSK",
   "metadata": {
    "ExecuteTime": {
     "end_time": "2022-07-08T05:17:16.912917Z",
     "start_time": "2022-07-08T05:17:16.880040Z"
    },
    "id": "X_u-esvBoNSK"
   },
   "outputs": [
    {
     "ename": "ModuleNotFoundError",
     "evalue": "No module named 'torchvision'",
     "output_type": "error",
     "traceback": [
      "\u001b[0;31m---------------------------------------------------------------------------\u001b[0m",
      "\u001b[0;31mModuleNotFoundError\u001b[0m                       Traceback (most recent call last)",
      "Input \u001b[0;32mIn [34]\u001b[0m, in \u001b[0;36m<cell line: 1>\u001b[0;34m()\u001b[0m\n\u001b[0;32m----> 1\u001b[0m \u001b[38;5;28;01mimport\u001b[39;00m \u001b[38;5;21;01mtorchvision\u001b[39;00m\u001b[38;5;21;01m.\u001b[39;00m\u001b[38;5;21;01mdatasets\u001b[39;00m \u001b[38;5;28;01mas\u001b[39;00m \u001b[38;5;21;01mdatasets\u001b[39;00m \u001b[38;5;66;03m# 데이터셋 집합체\u001b[39;00m\n\u001b[1;32m      2\u001b[0m \u001b[38;5;28;01mimport\u001b[39;00m \u001b[38;5;21;01mtorchvision\u001b[39;00m\u001b[38;5;21;01m.\u001b[39;00m\u001b[38;5;21;01mtransforms\u001b[39;00m \u001b[38;5;28;01mas\u001b[39;00m \u001b[38;5;21;01mtransforms\u001b[39;00m \u001b[38;5;66;03m# 변환 툴\u001b[39;00m\n\u001b[1;32m      4\u001b[0m \u001b[38;5;28;01mfrom\u001b[39;00m \u001b[38;5;21;01mtorch\u001b[39;00m\u001b[38;5;21;01m.\u001b[39;00m\u001b[38;5;21;01mutils\u001b[39;00m\u001b[38;5;21;01m.\u001b[39;00m\u001b[38;5;21;01mdata\u001b[39;00m \u001b[38;5;28;01mimport\u001b[39;00m DataLoader \u001b[38;5;66;03m# 학습 및 배치로 모델에 넣어주기 위한 툴\u001b[39;00m\n",
      "\u001b[0;31mModuleNotFoundError\u001b[0m: No module named 'torchvision'"
     ]
    }
   ],
   "source": [
    "import torchvision.datasets as datasets # 데이터셋 집합체\n",
    "import torchvision.transforms as transforms # 변환 툴\n",
    "\n",
    "from torch.utils.data import DataLoader # 학습 및 배치로 모델에 넣어주기 위한 툴\n",
    "from torch.utils.data import DataLoader, Dataset\n",
    "\n",
    "class CustomDataset(Dataset):\n",
    "    def __init__(self, X, y, train_mode=True, transforms=None): #필요한 변수들을 선언\n",
    "        self.X = X\n",
    "        self.y = y\n",
    "        self.train_mode = train_mode\n",
    "        self.transforms = transforms\n",
    "\n",
    "    def __getitem__(self, index): #index번째 data를 return\n",
    "        X = self.X[index]\n",
    "        \n",
    "        if self.transforms is not None:\n",
    "            X = self.transforms(X)\n",
    "\n",
    "        if self.train_mode:\n",
    "            y = self.y[index]\n",
    "            return X, y\n",
    "        else:\n",
    "            return X\n",
    "    \n",
    "    def __len__(self): #길이 return\n",
    "        return len(self.X)"
   ]
  },
  {
   "cell_type": "code",
   "execution_count": null,
   "id": "fv0o3NRkoxGN",
   "metadata": {
    "id": "fv0o3NRkoxGN"
   },
   "outputs": [],
   "source": [
    "def spec_to_image(spec, eps=1e-6):\n",
    "  mean = spec.mean()\n",
    "  std = spec.std()\n",
    "  spec_norm = (spec - mean) / (std + eps)\n",
    "  spec_min, spec_max = spec_norm.min(), spec_norm.max()\n",
    "  spec_scaled = (spec_norm - spec_min) / (spec_max - spec_min)\n",
    "  return spec_scaled"
   ]
  },
  {
   "cell_type": "code",
   "execution_count": null,
   "id": "2QXzLx_bo4QD",
   "metadata": {
    "id": "2QXzLx_bo4QD"
   },
   "outputs": [],
   "source": [
    "audio_mfcc_train = []\n",
    "audio_mfcc_test = []\n",
    "audio_mels_train = []\n",
    "audio_mels_test = []\n",
    "\n",
    "for data in train_x:\n",
    "  extracted_features = librosa.feature.mfcc(y=data, sr=16000, n_mfcc=32)\n",
    "  audio_mfcc_train.append(spec_to_image(extracted_features))\n",
    "\n",
    "  extracted_features2 = librosa.feature.melspectrogram(y=data, sr=16000, n_mels=32)\n",
    "  extracted_features2 = librosa.power_to_db(extracted_features2, ref=np.max)\n",
    "  audio_mels_train.append(spec_to_image(extracted_features2))\n",
    "\n",
    "# for data in test_x:\n",
    "#   extracted_features = librosa.feature.mfcc(y=data, sr=16000, n_mfcc=32)\n",
    "#   audio_mfcc_test.append(spec_to_image(extracted_features))\n",
    "\n",
    "#   extracted_features2 = librosa.feature.melspectrogram(y=data, sr=16000, n_mels=32)\n",
    "#   extracted_features2 = librosa.power_to_db(extracted_features2, ref=np.max)\n",
    "#   audio_mels_test.append(spec_to_image(extracted_features2))"
   ]
  },
  {
   "cell_type": "code",
   "execution_count": null,
   "id": "S9YBMbtarPU6",
   "metadata": {
    "colab": {
     "base_uri": "https://localhost:8080/"
    },
    "executionInfo": {
     "elapsed": 2712,
     "status": "ok",
     "timestamp": 1657214405779,
     "user": {
      "displayName": "hs L",
      "userId": "04521576200392151172"
     },
     "user_tz": -540
    },
    "id": "S9YBMbtarPU6",
    "outputId": "5456caee-bc9e-41b7-804d-12c234d6fd07"
   },
   "outputs": [],
   "source": [
    "audio_mels_train"
   ]
  },
  {
   "cell_type": "markdown",
   "id": "8ac89c1e",
   "metadata": {
    "id": "8ac89c1e"
   },
   "source": [
    "# Modeling"
   ]
  },
  {
   "cell_type": "code",
   "execution_count": null,
   "id": "0f83ec84",
   "metadata": {
    "ExecuteTime": {
     "end_time": "2022-07-07T11:18:55.661178Z",
     "start_time": "2022-07-07T11:18:54.937390Z"
    },
    "id": "0f83ec84"
   },
   "outputs": [],
   "source": [
    "# import tensorflow as tf"
   ]
  },
  {
   "cell_type": "code",
   "execution_count": null,
   "id": "19fdc08a",
   "metadata": {
    "ExecuteTime": {
     "end_time": "2022-07-07T11:18:55.679452Z",
     "start_time": "2022-07-07T11:18:55.661926Z"
    },
    "id": "19fdc08a"
   },
   "outputs": [],
   "source": [
    "# model = tf.keras.models.Sequential([\n",
    "#   tf.keras.layers.Flatten(input_shape=(28, 28)),\n",
    "#   tf.keras.layers.Dense(128, activation='relu'),\n",
    "#   tf.keras.layers.Dropout(0.2),\n",
    "#   tf.keras.layers.Dense(10, activation='softmax')\n",
    "# ])\n",
    "\n",
    "# model.compile(optimizer='adam',\n",
    "#               loss='binary_crossentropy',\n",
    "#               metrics=['accuracy'])"
   ]
  },
  {
   "cell_type": "code",
   "execution_count": null,
   "id": "83MBWdrRn3_R",
   "metadata": {
    "id": "83MBWdrRn3_R"
   },
   "outputs": [],
   "source": [
    "import torch.nn as nn\n",
    "\n",
    "class CNNclassification(torch.nn.Module):\n",
    "    def __init__(self):\n",
    "        super(CNNclassification, self).__init__()\n",
    "        self.layer1 = torch.nn.Sequential(\n",
    "            nn.Conv2d(1, 64, kernel_size=(3, 3), padding=1), #cnn layer\n",
    "            nn.ReLU(), #activation function\n",
    "            nn.MaxPool2d(kernel_size=2, stride=2)) #pooling layer\n",
    "        \n",
    "        self.layer2 = torch.nn.Sequential(\n",
    "            nn.Conv2d(64, 128, kernel_size=(3, 3), padding=1), #cnn layer\n",
    "            nn.ReLU(), #activation function\n",
    "            nn.MaxPool2d(kernel_size=2, stride=2)) #pooling layer\n",
    "        \n",
    "        self.layer3 = torch.nn.Sequential(\n",
    "            nn.Conv2d(128, 256, kernel_size=(3, 3), padding=1), #cnn layer\n",
    "            nn.ReLU(), #activation function\n",
    "            nn.MaxPool2d(kernel_size=2, stride=2)) #pooling layer\n",
    "        \n",
    "        self.layer4 = torch.nn.Sequential(\n",
    "            nn.Conv2d(256, 512, kernel_size=(3, 3), padding=1), #cnn layer\n",
    "            nn.ReLU(), #activation function\n",
    "            nn.MaxPool2d(kernel_size=2, stride=2)) #pooling layer\n",
    "        \n",
    "        self.fc_layer = nn.Sequential( \n",
    "            nn.Linear(2048, 10) #fully connected layer(ouput layer)\n",
    "        )    \n",
    "        \n",
    "    def forward(self, x):\n",
    "        \n",
    "        x = self.layer1(x) #1층\n",
    "        \n",
    "        x = self.layer2(x) #2층\n",
    "         \n",
    "        x = self.layer3(x) #3층\n",
    "        \n",
    "        x = self.layer4(x) #4층\n",
    "        \n",
    "        x = torch.flatten(x, 1) # N차원 배열 -> 1차원 배열\n",
    "        \n",
    "        x = self.fc_layer(x)\n",
    "        return x\n",
    "\n",
    "model = CNNclassification()"
   ]
  },
  {
   "cell_type": "code",
   "execution_count": null,
   "id": "er0vXKAjoBPP",
   "metadata": {
    "id": "er0vXKAjoBPP"
   },
   "outputs": [],
   "source": [
    "pip install torchinfo"
   ]
  },
  {
   "cell_type": "code",
   "execution_count": null,
   "id": "KLD6oR_on9La",
   "metadata": {
    "id": "KLD6oR_on9La"
   },
   "outputs": [],
   "source": [
    "from torchinfo import summary\n",
    "\n",
    "print(summary(model, input_size = (1,1,32,32)))"
   ]
  },
  {
   "cell_type": "markdown",
   "id": "574ec00a",
   "metadata": {
    "id": "574ec00a"
   },
   "source": [
    "# Train"
   ]
  },
  {
   "cell_type": "code",
   "execution_count": null,
   "id": "0f79d46e",
   "metadata": {
    "ExecuteTime": {
     "end_time": "2022-07-07T11:18:55.682661Z",
     "start_time": "2022-07-07T11:18:55.680181Z"
    },
    "id": "0f79d46e"
   },
   "outputs": [],
   "source": [
    "'''\n",
    "mlp = MLPClassifier(random_state=CFG['SEED']) # Sklearn에서 제공하는 Multi-layer Perceptron classifier 사용\n",
    "mlp.fit(train_x, train_y) # Model Train\n",
    "'''"
   ]
  },
  {
   "cell_type": "code",
   "execution_count": null,
   "id": "cJB4RKX5oKOo",
   "metadata": {
    "id": "cJB4RKX5oKOo"
   },
   "outputs": [],
   "source": [
    "from tqdm.auto import tqdm\n",
    "\n",
    "def train(model, optimizer, train_loader, scheduler, device): \n",
    "    model.to(device)\n",
    "    n = len(train_loader)\n",
    "    best_acc = 0\n",
    "    \n",
    "    for epoch in range(1,num_epochs): #에포크 설정\n",
    "        model.train() #모델 학습\n",
    "        running_loss = 0.0\n",
    "        \n",
    "        for wav, label in tqdm(iter(train_loader), disable=True):\n",
    "            \n",
    "            wav, label = wav.type(torch.FloatTensor), label.type(torch.long)\n",
    "\n",
    "            wav, label = wav.to(device), label.to(device) #배치 데이터\n",
    "            optimizer.zero_grad() #배치마다 optimizer 초기화\n",
    "        \n",
    "            # Data -> Model -> Output\n",
    "            logit = model(wav) #예측값 산출\n",
    "            loss = criterion(logit, label) #손실함수 계산\n",
    "            \n",
    "            # 역전파\n",
    "            loss.backward() #손실함수 기준 역전파 \n",
    "            optimizer.step() #가중치 최적화\n",
    "            running_loss += loss.item()\n",
    "        \n",
    "        if scheduler is not None:\n",
    "            scheduler.step()\n",
    "            \n",
    "            \n",
    "        #Validation set 평가\n",
    "        model.eval() #evaluation 과정에서 사용하지 않아야 하는 layer들을 알아서 off 시키도록 하는 함수\n",
    "        vali_loss = 0.0\n",
    "        correct = 0\n",
    "       \n",
    "        with torch.no_grad(): #파라미터 업데이트 안하기 때문에 no_grad 사용\n",
    "            for wav, label in tqdm(iter(vali_loader), disable=True):\n",
    "\n",
    "                wav, label = wav.type(torch.FloatTensor), label.type(torch.long)\n",
    "                \n",
    "                wav, label = wav.to(device), label.to(device)\n",
    "                logit = model(wav)\n",
    "                vali_loss += criterion(logit, label)\n",
    "                pred = logit.argmax(dim=1, keepdim=True)  #10개의 class중 가장 값이 높은 것을 예측 label로 추출\n",
    "                correct += pred.eq(label.view_as(pred)).sum().item() #예측값과 실제값이 맞으면 1 아니면 0으로 합산\n",
    "        vali_acc = 100 * correct / len(vali_loader.dataset)\n",
    "        #print('Vail set: Loss: {:.4f}, Accuracy: {}/{} ( {:.0f}%)\\n'.format(vali_loss / len(vali_loader), correct, len(vali_loader.dataset), 100 * correct / len(vali_loader.dataset)))\n",
    "        \n",
    "        #베스트 모델 저장\n",
    "        if best_acc < vali_acc:\n",
    "            best_acc = vali_acc\n",
    "            torch.save(model.state_dict(), 'best_model.pth') #이 디렉토리에 best_model.pth을 저장\n",
    "\n",
    "def predict_valid(model, vali_loader, device):\n",
    "    model.eval()\n",
    "    vali_loss = 0.0\n",
    "    correct = 0\n",
    "    with torch.no_grad(): #파라미터 업데이트 안하기 때문에 no_grad 사용\n",
    "        for wav, label in tqdm(iter(vali_loader), disable=True):\n",
    "            \n",
    "            wav, label = wav.type(torch.FloatTensor), label.type(torch.long)\n",
    "\n",
    "            wav, label = wav.to(device), label.to(device) #배치 데이터\n",
    "\n",
    "            logit = model(wav)\n",
    "            vali_loss += criterion(logit, label)\n",
    "\n",
    "            pred = logit.argmax(dim=1, keepdim=True)  #10개의 class중 가장 값이 높은 것을 예측 label로 추출\n",
    "            correct += pred.eq(label.view_as(pred)).sum().item() #예측값과 실제값이 맞으면 1 아니면 0으로 합산\n",
    "    vali_acc = 100 * correct / len(vali_loader.dataset)\n",
    "    return vali_acc    \n",
    "\n",
    "def predict(model, test_loader, device):\n",
    "    model.eval()\n",
    "    model_pred = []\n",
    "    with torch.no_grad():\n",
    "        for wav in tqdm(iter(test_loader), disable=True):\n",
    "            wav = wav.type(torch.FloatTensor)\n",
    "\n",
    "            wav = wav.to(device)\n",
    "            \n",
    "            pred_logit = model(wav)\n",
    "\n",
    "            model_pred.extend(pred_logit.tolist())\n",
    "    return model_pred"
   ]
  },
  {
   "cell_type": "code",
   "execution_count": null,
   "id": "4Fu4D8DBohyF",
   "metadata": {
    "id": "4Fu4D8DBohyF"
   },
   "outputs": [],
   "source": [
    "from sklearn.model_selection import StratifiedKFold\n",
    "from sklearn.preprocessing import LabelEncoder\n",
    "from sklearn.metrics import accuracy_score\n",
    "\n",
    "label_encoder = LabelEncoder()\n",
    "\n",
    "num_epochs = 70\n",
    "batch_size = 32\n",
    "\n",
    "skf = StratifiedKFold(n_splits = 10, random_state = 42, shuffle = True) #총 5번의 fold 진행\n",
    "\n",
    "n = 0\n",
    "\n",
    "pred_list = []\n",
    "\n",
    "for train_index, valid_index in skf.split(audio_mfcc_train, label_encoder.fit_transform(train_y)):\n",
    "  n += 1\n",
    "\n",
    "  print(\"===== %d fold =====\" %(n))\n",
    "\n",
    " \n",
    "  ## mfcc\n",
    "  X_train, X_valid = audio_mfcc_train[train_index], audio_mfcc_train[valid_index]\n",
    "  y_train, y_valid = train_y[train_index], train_y[valid_index]\n",
    "  '''\n",
    "  train_dataset = CustomDataset(X=X_train, y=y_train)\n",
    "  train_loader = DataLoader(train_dataset, batch_size = batch_size, shuffle=True)\n",
    "\n",
    "  vali_dataset = CustomDataset(X=X_valid, y=y_valid)\n",
    "  vali_loader = DataLoader(vali_dataset, batch_size = batch_size, shuffle=False)\n",
    "\n",
    "  model = CNNclassification2().to(device)\n",
    "  criterion = torch.nn.CrossEntropyLoss().to(device)\n",
    "  optimizer = torch.optim.Adam(params = model.parameters(), lr = 0.001)\n",
    "  scheduler = None\n",
    "\n",
    "  train(model, optimizer, train_loader, scheduler, device)\n",
    "\n",
    "  test_dataset = CustomDataset(X=audio_mfcc_test, y= None, train_mode=False)\n",
    "  test_loader = DataLoader(test_dataset, batch_size = batch_size, shuffle=False)\n",
    "\n",
    "  # Validation Accuracy가 가장 뛰어난 모델을 불러옵니다.\n",
    "  checkpoint = torch.load('best_model.pth')\n",
    "  model = CNNclassification2().to(device)\n",
    "  model.load_state_dict(checkpoint)\n",
    "\n",
    "  print(\"%d fold mfcc score : %d%%\" %(n, predict_valid(model, vali_loader, device)))\n",
    "\n",
    "  mfcc_preds = predict(model, test_loader, device)\n",
    "  '''\n",
    "\n",
    "  ## melspectogram\n",
    "  X_train, X_valid = audio_mels_train[train_index], audio_mels_train[valid_index]\n",
    "\n",
    "  train_dataset = CustomDataset(X=X_train, y=y_train)\n",
    "  train_loader = DataLoader(train_dataset, batch_size = batch_size, shuffle=True)\n",
    "\n",
    "  vali_dataset = CustomDataset(X=X_valid, y=y_valid)\n",
    "  vali_loader = DataLoader(vali_dataset, batch_size = batch_size, shuffle=False)\n",
    "\n",
    "  model = CNNclassification().to(device)\n",
    "  criterion = torch.nn.CrossEntropyLoss().to(device)\n",
    "  optimizer = torch.optim.Adam(params = model.parameters(), lr = 0.001)\n",
    "  scheduler = None\n",
    "\n",
    "  train(model, optimizer, train_loader, scheduler, device)\n",
    "\n",
    "  test_dataset = CustomDataset(X=audio_mels_test, y= None, train_mode=False)\n",
    "  test_loader = DataLoader(test_dataset, batch_size = batch_size, shuffle=False)\n",
    "\n",
    "  # Validation Accuracy가 가장 뛰어난 모델을 불러옵니다.\n",
    "  checkpoint = torch.load('best_model.pth')\n",
    "  model = CNNclassification().to(device)\n",
    "  model.load_state_dict(checkpoint)\n",
    "\n",
    "  print(\"%d fold mels score : %d%%\" %(n, predict_valid(model, vali_loader, device)))\n",
    "\n",
    "  mels_preds = predict(model, test_loader, device)\n",
    "\n",
    "  #pred_list.append(np.array(mfcc_preds) + np.array(mels_preds))\n",
    "  pred_list.append(np.array(mels_preds))"
   ]
  },
  {
   "cell_type": "markdown",
   "id": "27b6a181",
   "metadata": {
    "id": "27b6a181"
   },
   "source": [
    "# Inference"
   ]
  },
  {
   "cell_type": "code",
   "execution_count": null,
   "id": "3c3653a2",
   "metadata": {
    "ExecuteTime": {
     "end_time": "2022-07-07T11:18:55.705872Z",
     "start_time": "2022-07-07T11:18:55.703378Z"
    },
    "id": "3c3653a2"
   },
   "outputs": [],
   "source": [
    "'''\n",
    "# Model 추론\n",
    "preds = model.predict(test_x)\n",
    "'''"
   ]
  },
  {
   "cell_type": "code",
   "execution_count": null,
   "id": "0366e27d",
   "metadata": {
    "ExecuteTime": {
     "start_time": "2022-07-07T11:18:54.350Z"
    },
    "id": "0366e27d"
   },
   "outputs": [],
   "source": [
    "model.evaluate(test_x, batch_size=28)"
   ]
  },
  {
   "cell_type": "code",
   "execution_count": null,
   "id": "c18757b5",
   "metadata": {
    "ExecuteTime": {
     "start_time": "2022-07-07T11:18:54.351Z"
    },
    "id": "c18757b5"
   },
   "outputs": [],
   "source": [
    "# 정확도\n",
    "\n",
    "print(\"훈련 세트 정확도 : {:.3f}\".format(mlp.score(train_x, train_y)))\n",
    "print(\"테스트 세트 정확도 : {:.3f}\".format(mlp.score(test_x, preds)))"
   ]
  },
  {
   "cell_type": "markdown",
   "id": "67433c7c",
   "metadata": {
    "id": "67433c7c"
   },
   "source": [
    "# Submission"
   ]
  },
  {
   "cell_type": "code",
   "execution_count": null,
   "id": "41bf4ffd",
   "metadata": {
    "ExecuteTime": {
     "start_time": "2022-07-07T11:18:54.352Z"
    },
    "id": "41bf4ffd"
   },
   "outputs": [],
   "source": [
    "submission = pd.read_csv('./sample_submission.csv')\n",
    "submission['covid19'] = preds\n",
    "submission.to_csv('./submit.csv', index=False)"
   ]
  },
  {
   "cell_type": "code",
   "execution_count": null,
   "id": "98061cfa",
   "metadata": {
    "id": "98061cfa"
   },
   "outputs": [],
   "source": []
  }
 ],
 "metadata": {
  "colab": {
   "collapsed_sections": [],
   "name": "Baseline.ipynb",
   "provenance": []
  },
  "kernelspec": {
   "display_name": "Python 3 (ipykernel)",
   "language": "python",
   "name": "python3"
  },
  "language_info": {
   "codemirror_mode": {
    "name": "ipython",
    "version": 3
   },
   "file_extension": ".py",
   "mimetype": "text/x-python",
   "name": "python",
   "nbconvert_exporter": "python",
   "pygments_lexer": "ipython3",
   "version": "3.8.13"
  },
  "toc": {
   "base_numbering": 1,
   "nav_menu": {},
   "number_sections": false,
   "sideBar": true,
   "skip_h1_title": false,
   "title_cell": "Table of Contents",
   "title_sidebar": "Contents",
   "toc_cell": false,
   "toc_position": {},
   "toc_section_display": true,
   "toc_window_display": false
  }
 },
 "nbformat": 4,
 "nbformat_minor": 5
}
