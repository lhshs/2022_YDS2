{
 "cells": [
  {
   "cell_type": "code",
   "execution_count": 11,
   "id": "bcab2ff7",
   "metadata": {
    "ExecuteTime": {
     "end_time": "2022-07-24T09:56:32.171237Z",
     "start_time": "2022-07-24T09:56:32.165735Z"
    }
   },
   "outputs": [
    {
     "data": {
      "text/plain": [
       "[1, 3, 4, 5]"
      ]
     },
     "execution_count": 11,
     "metadata": {},
     "output_type": "execute_result"
    }
   ],
   "source": [
    "list = [1, 2, 3, 4, 5]\n",
    "list.pop(1)\n",
    "list"
   ]
  },
  {
   "cell_type": "code",
   "execution_count": 24,
   "id": "41c23689",
   "metadata": {
    "ExecuteTime": {
     "end_time": "2022-07-24T10:56:38.189306Z",
     "start_time": "2022-07-24T10:56:38.182807Z"
    }
   },
   "outputs": [
    {
     "data": {
      "text/plain": [
       "deque([5, 1, 2, 3, 4])"
      ]
     },
     "execution_count": 24,
     "metadata": {},
     "output_type": "execute_result"
    }
   ],
   "source": [
    "from collections import deque\n",
    "\n",
    "dq = deque()\n",
    "dq = deque([1, 2, 3, 4, 5])\n",
    "dq.rotate(1)\n",
    "dq"
   ]
  },
  {
   "cell_type": "markdown",
   "id": "cab1be4a",
   "metadata": {},
   "source": [
    "## 5430 AC"
   ]
  },
  {
   "cell_type": "code",
   "execution_count": null,
   "id": "db65147f",
   "metadata": {},
   "outputs": [],
   "source": []
  }
 ],
 "metadata": {
  "kernelspec": {
   "display_name": "Python 3 (ipykernel)",
   "language": "python",
   "name": "python3"
  },
  "language_info": {
   "codemirror_mode": {
    "name": "ipython",
    "version": 3
   },
   "file_extension": ".py",
   "mimetype": "text/x-python",
   "name": "python",
   "nbconvert_exporter": "python",
   "pygments_lexer": "ipython3",
   "version": "3.9.12"
  },
  "toc": {
   "base_numbering": 1,
   "nav_menu": {},
   "number_sections": false,
   "sideBar": true,
   "skip_h1_title": false,
   "title_cell": "Table of Contents",
   "title_sidebar": "Contents",
   "toc_cell": false,
   "toc_position": {},
   "toc_section_display": true,
   "toc_window_display": true
  }
 },
 "nbformat": 4,
 "nbformat_minor": 5
}
