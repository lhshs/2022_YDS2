{
 "cells": [
  {
   "cell_type": "code",
   "execution_count": 1,
   "id": "c5c21e6d",
   "metadata": {
    "ExecuteTime": {
     "end_time": "2022-07-05T02:16:17.082529Z",
     "start_time": "2022-07-05T02:16:10.669351Z"
    }
   },
   "outputs": [],
   "source": [
    "import numpy as np\n",
    "import pandas as pd\n",
    "import matplotlib.pyplot as plt\n",
    "import seaborn as sns\n",
    "\n",
    "import warnings\n",
    "warnings.filterwarnings(action='ignore')"
   ]
  },
  {
   "cell_type": "code",
   "execution_count": 4,
   "id": "4add861f",
   "metadata": {
    "ExecuteTime": {
     "end_time": "2022-07-05T02:18:55.983438Z",
     "start_time": "2022-07-05T02:18:55.922824Z"
    }
   },
   "outputs": [],
   "source": [
    "train_celltrion = pd.read_csv('data/train/celltrion.csv')\n",
    "train_kakao = pd.read_csv('data/train/kakao.csv')\n",
    "train_kospi = pd.read_csv('data/train/kospi.csv')\n",
    "train_naver = pd.read_csv('data/train/naver.csv')\n",
    "train_samsung = pd.read_csv('data/train/samsung.csv')\n",
    "train_skhynix = pd.read_csv('data/train/skhynix.csv')\n",
    "\n",
    "test_celltrion = pd.read_csv('data/test/celltrion.csv')\n",
    "test_kakao = pd.read_csv('data/test/kakao.csv')\n",
    "test_kospi = pd.read_csv('data/test/kospi.csv')\n",
    "test_naver = pd.read_csv('data/test/naver.csv')\n",
    "test_samsung = pd.read_csv('data/test/samsung.csv')\n",
    "test_skhynix = pd.read_csv('data/test/skhynix.csv')"
   ]
  },
  {
   "cell_type": "code",
   "execution_count": 7,
   "id": "1f7e39e3",
   "metadata": {
    "ExecuteTime": {
     "end_time": "2022-07-05T02:20:24.185868Z",
     "start_time": "2022-07-05T02:20:24.179368Z"
    }
   },
   "outputs": [
    {
     "name": "stdout",
     "output_type": "stream",
     "text": [
      "(2548, 6) (2548, 6) (2548, 6) (2548, 6) (2547, 6) (2547, 6)\n"
     ]
    }
   ],
   "source": [
    "print(train_celltrion.shape, train_kakao.shape, train_kospi.shape, \n",
    "      train_naver.shape, train_samsung.shape, train_skhynix.shape)"
   ]
  },
  {
   "cell_type": "code",
   "execution_count": 10,
   "id": "e182b4ce",
   "metadata": {
    "ExecuteTime": {
     "end_time": "2022-07-05T02:22:05.055593Z",
     "start_time": "2022-07-05T02:22:05.051091Z"
    }
   },
   "outputs": [
    {
     "name": "stdout",
     "output_type": "stream",
     "text": [
      "(11, 6) (11, 6) (11, 6) (11, 6) (11, 6) (11, 6)\n"
     ]
    }
   ],
   "source": [
    "print(test_celltrion.shape, test_kakao.shape, test_kospi.shape, \n",
    "      test_naver.shape, test_samsung.shape, test_skhynix.shape)"
   ]
  },
  {
   "cell_type": "code",
   "execution_count": 9,
   "id": "4acdd9a1",
   "metadata": {
    "ExecuteTime": {
     "end_time": "2022-07-05T02:21:36.116740Z",
     "start_time": "2022-07-05T02:21:36.098710Z"
    }
   },
   "outputs": [
    {
     "name": "stdout",
     "output_type": "stream",
     "text": [
      "<class 'pandas.core.frame.DataFrame'>\n",
      "RangeIndex: 2547 entries, 0 to 2546\n",
      "Data columns (total 6 columns):\n",
      " #   Column  Non-Null Count  Dtype \n",
      "---  ------  --------------  ----- \n",
      " 0   Date    2547 non-null   object\n",
      " 1   Open    2547 non-null   int64 \n",
      " 2   High    2547 non-null   int64 \n",
      " 3   Low     2547 non-null   int64 \n",
      " 4   Close   2547 non-null   int64 \n",
      " 5   Volume  2547 non-null   int64 \n",
      "dtypes: int64(5), object(1)\n",
      "memory usage: 119.5+ KB\n"
     ]
    }
   ],
   "source": [
    "train_samsung.info()"
   ]
  },
  {
   "cell_type": "code",
   "execution_count": 12,
   "id": "a177f4c7",
   "metadata": {
    "ExecuteTime": {
     "end_time": "2022-07-05T02:22:21.156929Z",
     "start_time": "2022-07-05T02:22:21.147428Z"
    }
   },
   "outputs": [
    {
     "data": {
      "text/html": [
       "<div>\n",
       "<style scoped>\n",
       "    .dataframe tbody tr th:only-of-type {\n",
       "        vertical-align: middle;\n",
       "    }\n",
       "\n",
       "    .dataframe tbody tr th {\n",
       "        vertical-align: top;\n",
       "    }\n",
       "\n",
       "    .dataframe thead th {\n",
       "        text-align: right;\n",
       "    }\n",
       "</style>\n",
       "<table border=\"1\" class=\"dataframe\">\n",
       "  <thead>\n",
       "    <tr style=\"text-align: right;\">\n",
       "      <th></th>\n",
       "      <th>Date</th>\n",
       "      <th>Open</th>\n",
       "      <th>High</th>\n",
       "      <th>Low</th>\n",
       "      <th>Close</th>\n",
       "      <th>Volume</th>\n",
       "    </tr>\n",
       "  </thead>\n",
       "  <tbody>\n",
       "    <tr>\n",
       "      <th>0</th>\n",
       "      <td>2020-05-04</td>\n",
       "      <td>48900</td>\n",
       "      <td>49100</td>\n",
       "      <td>48500</td>\n",
       "      <td>48500</td>\n",
       "      <td>26083749</td>\n",
       "    </tr>\n",
       "    <tr>\n",
       "      <th>1</th>\n",
       "      <td>2020-05-06</td>\n",
       "      <td>49000</td>\n",
       "      <td>49200</td>\n",
       "      <td>48500</td>\n",
       "      <td>49200</td>\n",
       "      <td>18070225</td>\n",
       "    </tr>\n",
       "    <tr>\n",
       "      <th>2</th>\n",
       "      <td>2020-05-07</td>\n",
       "      <td>49200</td>\n",
       "      <td>49300</td>\n",
       "      <td>48700</td>\n",
       "      <td>48800</td>\n",
       "      <td>13884411</td>\n",
       "    </tr>\n",
       "    <tr>\n",
       "      <th>3</th>\n",
       "      <td>2020-05-08</td>\n",
       "      <td>49100</td>\n",
       "      <td>49350</td>\n",
       "      <td>48800</td>\n",
       "      <td>48800</td>\n",
       "      <td>15319700</td>\n",
       "    </tr>\n",
       "    <tr>\n",
       "      <th>4</th>\n",
       "      <td>2020-05-11</td>\n",
       "      <td>48900</td>\n",
       "      <td>49250</td>\n",
       "      <td>48300</td>\n",
       "      <td>48400</td>\n",
       "      <td>16357743</td>\n",
       "    </tr>\n",
       "    <tr>\n",
       "      <th>5</th>\n",
       "      <td>2020-05-12</td>\n",
       "      <td>48400</td>\n",
       "      <td>48500</td>\n",
       "      <td>47550</td>\n",
       "      <td>47900</td>\n",
       "      <td>23433590</td>\n",
       "    </tr>\n",
       "    <tr>\n",
       "      <th>6</th>\n",
       "      <td>2020-05-13</td>\n",
       "      <td>47250</td>\n",
       "      <td>48550</td>\n",
       "      <td>47200</td>\n",
       "      <td>48550</td>\n",
       "      <td>20223277</td>\n",
       "    </tr>\n",
       "    <tr>\n",
       "      <th>7</th>\n",
       "      <td>2020-05-14</td>\n",
       "      <td>47750</td>\n",
       "      <td>48100</td>\n",
       "      <td>47650</td>\n",
       "      <td>48000</td>\n",
       "      <td>19305974</td>\n",
       "    </tr>\n",
       "    <tr>\n",
       "      <th>8</th>\n",
       "      <td>2020-05-15</td>\n",
       "      <td>48400</td>\n",
       "      <td>48450</td>\n",
       "      <td>47700</td>\n",
       "      <td>47850</td>\n",
       "      <td>18463118</td>\n",
       "    </tr>\n",
       "    <tr>\n",
       "      <th>9</th>\n",
       "      <td>2020-05-18</td>\n",
       "      <td>47950</td>\n",
       "      <td>49100</td>\n",
       "      <td>47600</td>\n",
       "      <td>48800</td>\n",
       "      <td>20481981</td>\n",
       "    </tr>\n",
       "    <tr>\n",
       "      <th>10</th>\n",
       "      <td>2020-05-19</td>\n",
       "      <td>50100</td>\n",
       "      <td>50500</td>\n",
       "      <td>49700</td>\n",
       "      <td>50300</td>\n",
       "      <td>24812000</td>\n",
       "    </tr>\n",
       "  </tbody>\n",
       "</table>\n",
       "</div>"
      ],
      "text/plain": [
       "          Date   Open   High    Low  Close    Volume\n",
       "0   2020-05-04  48900  49100  48500  48500  26083749\n",
       "1   2020-05-06  49000  49200  48500  49200  18070225\n",
       "2   2020-05-07  49200  49300  48700  48800  13884411\n",
       "3   2020-05-08  49100  49350  48800  48800  15319700\n",
       "4   2020-05-11  48900  49250  48300  48400  16357743\n",
       "5   2020-05-12  48400  48500  47550  47900  23433590\n",
       "6   2020-05-13  47250  48550  47200  48550  20223277\n",
       "7   2020-05-14  47750  48100  47650  48000  19305974\n",
       "8   2020-05-15  48400  48450  47700  47850  18463118\n",
       "9   2020-05-18  47950  49100  47600  48800  20481981\n",
       "10  2020-05-19  50100  50500  49700  50300  24812000"
      ]
     },
     "execution_count": 12,
     "metadata": {},
     "output_type": "execute_result"
    }
   ],
   "source": [
    "test_samsung"
   ]
  },
  {
   "cell_type": "code",
   "execution_count": null,
   "id": "07a069bc",
   "metadata": {},
   "outputs": [],
   "source": []
  }
 ],
 "metadata": {
  "kernelspec": {
   "display_name": "Python 3 (ipykernel)",
   "language": "python",
   "name": "python3"
  },
  "language_info": {
   "codemirror_mode": {
    "name": "ipython",
    "version": 3
   },
   "file_extension": ".py",
   "mimetype": "text/x-python",
   "name": "python",
   "nbconvert_exporter": "python",
   "pygments_lexer": "ipython3",
   "version": "3.9.12"
  },
  "toc": {
   "base_numbering": 1,
   "nav_menu": {},
   "number_sections": true,
   "sideBar": true,
   "skip_h1_title": false,
   "title_cell": "Table of Contents",
   "title_sidebar": "Contents",
   "toc_cell": false,
   "toc_position": {},
   "toc_section_display": true,
   "toc_window_display": false
  }
 },
 "nbformat": 4,
 "nbformat_minor": 5
}
