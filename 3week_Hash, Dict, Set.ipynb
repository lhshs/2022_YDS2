{
 "cells": [
  {
   "cell_type": "markdown",
   "id": "28e2a6d0",
   "metadata": {},
   "source": [
    "## Hash"
   ]
  },
  {
   "cell_type": "code",
   "execution_count": 1,
   "id": "82f5f7ed",
   "metadata": {
    "ExecuteTime": {
     "end_time": "2022-07-31T14:38:30.375919Z",
     "start_time": "2022-07-31T14:37:23.317890Z"
    }
   },
   "outputs": [
    {
     "name": "stdout",
     "output_type": "stream",
     "text": [
      "63124\n",
      "66.96102380752563\n"
     ]
    }
   ],
   "source": [
    "import random\n",
    "import time\n",
    "count = 0\n",
    "_list = [random.randrange(1, 100000) for i in range(100000)]\n",
    "start = time.time()\n",
    "for i in range(100000):\n",
    "    if i in _list:\n",
    "        count += 1\n",
    "print(count)\n",
    "print(time.time() - start)"
   ]
  },
  {
   "cell_type": "code",
   "execution_count": 2,
   "id": "972aba3a",
   "metadata": {
    "ExecuteTime": {
     "end_time": "2022-07-31T14:38:30.495889Z",
     "start_time": "2022-07-31T14:38:30.379889Z"
    }
   },
   "outputs": [
    {
     "name": "stdout",
     "output_type": "stream",
     "text": [
      "63139\n",
      "0.0149688720703125\n"
     ]
    }
   ],
   "source": [
    "import random\n",
    "import time\n",
    "count = 0\n",
    "_set = {random.randrange(1, 100000) for i in range(100000)}\n",
    "start = time.time()\n",
    "for i in range(100000):\n",
    "    if i in _set:\n",
    "        count += 1\n",
    "print(count)\n",
    "print(time.time() - start)"
   ]
  },
  {
   "cell_type": "markdown",
   "id": "b218ca25",
   "metadata": {},
   "source": [
    "## Dict"
   ]
  },
  {
   "cell_type": "markdown",
   "id": "63b342dc",
   "metadata": {},
   "source": [
    "### Zip"
   ]
  },
  {
   "cell_type": "code",
   "execution_count": null,
   "id": "a69db37d",
   "metadata": {},
   "outputs": [],
   "source": []
  },
  {
   "cell_type": "markdown",
   "id": "e935bfe3",
   "metadata": {},
   "source": [
    "### Defaultdict"
   ]
  },
  {
   "cell_type": "code",
   "execution_count": 3,
   "id": "33be981e",
   "metadata": {
    "ExecuteTime": {
     "end_time": "2022-07-31T14:38:30.510988Z",
     "start_time": "2022-07-31T14:38:30.498889Z"
    }
   },
   "outputs": [
    {
     "name": "stdout",
     "output_type": "stream",
     "text": [
      "defaultdict(<class 'int'>, {'asd': 1})\n"
     ]
    }
   ],
   "source": [
    "from collections import defaultdict\n",
    "\n",
    "int_dict = defaultdict(int)\n",
    "int_dict['asd'] += 1\n",
    "\n",
    "print(int_dict)"
   ]
  },
  {
   "cell_type": "code",
   "execution_count": null,
   "id": "8478659f",
   "metadata": {},
   "outputs": [],
   "source": []
  },
  {
   "cell_type": "code",
   "execution_count": null,
   "id": "1f6ee84f",
   "metadata": {},
   "outputs": [],
   "source": []
  }
 ],
 "metadata": {
  "kernelspec": {
   "display_name": "Python 3 (ipykernel)",
   "language": "python",
   "name": "python3"
  },
  "language_info": {
   "codemirror_mode": {
    "name": "ipython",
    "version": 3
   },
   "file_extension": ".py",
   "mimetype": "text/x-python",
   "name": "python",
   "nbconvert_exporter": "python",
   "pygments_lexer": "ipython3",
   "version": "3.9.12"
  },
  "toc": {
   "base_numbering": 1,
   "nav_menu": {},
   "number_sections": false,
   "sideBar": true,
   "skip_h1_title": false,
   "title_cell": "Table of Contents",
   "title_sidebar": "Contents",
   "toc_cell": false,
   "toc_position": {
    "height": "calc(100% - 180px)",
    "left": "10px",
    "top": "150px",
    "width": "199px"
   },
   "toc_section_display": true,
   "toc_window_display": true
  }
 },
 "nbformat": 4,
 "nbformat_minor": 5
}
