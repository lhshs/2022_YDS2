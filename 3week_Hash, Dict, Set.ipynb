{
 "cells": [
  {
   "cell_type": "markdown",
   "id": "a3c15095",
   "metadata": {},
   "source": [
    "## Hash"
   ]
  },
  {
   "cell_type": "code",
   "execution_count": 1,
   "id": "5fd53607",
   "metadata": {
    "ExecuteTime": {
     "end_time": "2022-07-31T14:38:30.375919Z",
     "start_time": "2022-07-31T14:37:23.317890Z"
    }
   },
   "outputs": [
    {
     "name": "stdout",
     "output_type": "stream",
     "text": [
      "63124\n",
      "66.96102380752563\n"
     ]
    }
   ],
   "source": [
    "import random\n",
    "import time\n",
    "count = 0\n",
    "_list = [random.randrange(1, 100000) for i in range(100000)]\n",
    "start = time.time()\n",
    "for i in range(100000):\n",
    "    if i in _list:\n",
    "        count += 1\n",
    "print(count)\n",
    "print(time.time() - start)"
   ]
  },
  {
   "cell_type": "code",
   "execution_count": 2,
   "id": "e991dcf3",
   "metadata": {
    "ExecuteTime": {
     "end_time": "2022-07-31T14:38:30.495889Z",
     "start_time": "2022-07-31T14:38:30.379889Z"
    }
   },
   "outputs": [
    {
     "name": "stdout",
     "output_type": "stream",
     "text": [
      "63139\n",
      "0.0149688720703125\n"
     ]
    }
   ],
   "source": [
    "import random\n",
    "import time\n",
    "count = 0\n",
    "_set = {random.randrange(1, 100000) for i in range(100000)}\n",
    "start = time.time()\n",
    "for i in range(100000):\n",
    "    if i in _set:\n",
    "        count += 1\n",
    "print(count)\n",
    "print(time.time() - start)"
   ]
  },
  {
   "cell_type": "markdown",
   "id": "4153157b",
   "metadata": {},
   "source": [
    "## Dict"
   ]
  },
  {
   "cell_type": "code",
   "execution_count": 23,
   "id": "a3787659",
   "metadata": {
    "ExecuteTime": {
     "end_time": "2022-07-31T15:01:43.332493Z",
     "start_time": "2022-07-31T15:01:43.323494Z"
    }
   },
   "outputs": [
    {
     "name": "stdout",
     "output_type": "stream",
     "text": [
      "Test\n"
     ]
    },
    {
     "data": {
      "text/plain": [
       "{'one': 1, 'two': 2, 'three': 3, 6: 'Test'}"
      ]
     },
     "execution_count": 23,
     "metadata": {},
     "output_type": "execute_result"
    }
   ],
   "source": [
    "_dict = {'one':1, 'two':2, 'three':3}\n",
    "\n",
    "if 'four' in _dict:               # _dict에 four 값이 있다면 four를 출력하고, 없다면 6 : Test 를 추가해라\n",
    "    print(_dict['four'])\n",
    "else:\n",
    "    _dict[6] = \"Test\"\n",
    "    print(\"Test\")\n",
    "    "
   ]
  },
  {
   "cell_type": "markdown",
   "id": "47c99e69",
   "metadata": {},
   "source": [
    "### Zip"
   ]
  },
  {
   "cell_type": "code",
   "execution_count": 5,
   "id": "092b13f3",
   "metadata": {
    "ExecuteTime": {
     "end_time": "2022-07-31T14:52:07.620409Z",
     "start_time": "2022-07-31T14:52:07.611441Z"
    }
   },
   "outputs": [
    {
     "name": "stdout",
     "output_type": "stream",
     "text": [
      "('one', 1)\n",
      "('two', 2)\n",
      "('three', 3)\n",
      "('four', 4)\n"
     ]
    }
   ],
   "source": [
    "_number = ['one', 'two', 'three', 'four']\n",
    "_num = [1, 2, 3, 4]\n",
    "_zip = (zip(_number, _num))\n",
    "for i in _zip:\n",
    "    print(i)"
   ]
  },
  {
   "cell_type": "markdown",
   "id": "632ddefc",
   "metadata": {},
   "source": [
    "### Defaultdict"
   ]
  },
  {
   "cell_type": "code",
   "execution_count": 3,
   "id": "f617387e",
   "metadata": {
    "ExecuteTime": {
     "end_time": "2022-07-31T14:38:30.510988Z",
     "start_time": "2022-07-31T14:38:30.498889Z"
    }
   },
   "outputs": [
    {
     "name": "stdout",
     "output_type": "stream",
     "text": [
      "defaultdict(<class 'int'>, {'asd': 1})\n"
     ]
    }
   ],
   "source": [
    "from collections import defaultdict\n",
    "\n",
    "int_dict = defaultdict(int)\n",
    "int_dict['asd'] += 1\n",
    "\n",
    "print(int_dict)"
   ]
  },
  {
   "cell_type": "markdown",
   "id": "3c3cd172",
   "metadata": {},
   "source": [
    "Sorted"
   ]
  },
  {
   "cell_type": "code",
   "execution_count": 27,
   "id": "67812738",
   "metadata": {
    "ExecuteTime": {
     "end_time": "2022-07-31T15:07:06.755545Z",
     "start_time": "2022-07-31T15:07:06.739544Z"
    }
   },
   "outputs": [
    {
     "data": {
      "text/plain": [
       "['three', 'two', 'zour', 'zz']"
      ]
     },
     "execution_count": 27,
     "metadata": {},
     "output_type": "execute_result"
    }
   ],
   "source": [
    "_number = ['zz', 'two', 'three', 'zour']\n",
    "_num = [1, 2, 3, 4]\n",
    "_dict = dict(zip(_number, _num))\n",
    "sorted(_dict)"
   ]
  },
  {
   "cell_type": "code",
   "execution_count": null,
   "id": "2b022f34",
   "metadata": {},
   "outputs": [],
   "source": []
  }
 ],
 "metadata": {
  "kernelspec": {
   "display_name": "Python 3 (ipykernel)",
   "language": "python",
   "name": "python3"
  },
  "language_info": {
   "codemirror_mode": {
    "name": "ipython",
    "version": 3
   },
   "file_extension": ".py",
   "mimetype": "text/x-python",
   "name": "python",
   "nbconvert_exporter": "python",
   "pygments_lexer": "ipython3",
   "version": "3.9.12"
  },
  "toc": {
   "base_numbering": 1,
   "nav_menu": {},
   "number_sections": false,
   "sideBar": true,
   "skip_h1_title": false,
   "title_cell": "Table of Contents",
   "title_sidebar": "Contents",
   "toc_cell": false,
   "toc_position": {
    "height": "calc(100% - 180px)",
    "left": "10px",
    "top": "150px",
    "width": "199px"
   },
   "toc_section_display": true,
   "toc_window_display": true
  }
 },
 "nbformat": 4,
 "nbformat_minor": 5
}
