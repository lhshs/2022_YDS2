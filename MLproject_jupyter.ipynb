{
 "cells": [
  {
   "cell_type": "code",
   "execution_count": 1,
   "id": "a85bd0f8",
   "metadata": {
    "ExecuteTime": {
     "end_time": "2022-06-12T06:06:06.636648Z",
     "start_time": "2022-06-12T06:06:04.320033Z"
    }
   },
   "outputs": [],
   "source": [
    "import numpy as np\n",
    "import pandas as pd\n",
    "import matplotlib.pyplot as plt\n",
    "import seaborn as sns\n",
    "\n",
    "from sklearn.preprocessing import LabelEncoder\n",
    "from sklearn.impute import KNNImputer"
   ]
  },
  {
   "cell_type": "code",
   "execution_count": null,
   "id": "aad07062",
   "metadata": {
    "ExecuteTime": {
     "end_time": "2022-06-12T05:57:40.711881Z",
     "start_time": "2022-06-12T05:57:37.461676Z"
    }
   },
   "outputs": [],
   "source": [
    "# !pip install tqdm\n",
    "\n",
    "# from tqdm import trange, notebook     "
   ]
  },
  {
   "cell_type": "code",
   "execution_count": null,
   "id": "0b2ea3bb",
   "metadata": {},
   "outputs": [],
   "source": [
    "# pd.options.display.max_rows = 999999\n",
    "# pd.options.display.max_columns = 500\n",
    "\n",
    "# pd.set_option('display.max_rows', None)\n",
    "# pd.set_option('display.max_columns', None)"
   ]
  },
  {
   "cell_type": "code",
   "execution_count": 2,
   "id": "85841873",
   "metadata": {
    "ExecuteTime": {
     "end_time": "2022-06-12T06:06:22.977287Z",
     "start_time": "2022-06-12T06:06:08.236782Z"
    }
   },
   "outputs": [],
   "source": [
    "# train_t = pd.read_csv('train_transaction.csv')\n",
    "# train_i = pd.read_csv('train_identity.csv')\n",
    "# test_t = pd.read_csv('test_transaction.csv')\n",
    "# test_i = pd.read_csv('test_identity.csv')\n",
    "\n",
    "train = pd.read_csv('train_02.csv')\n",
    "test = pd.read_csv('test_02.csv')\n",
    "\n",
    "submission = pd.read_csv('sample_submission.csv')"
   ]
  },
  {
   "cell_type": "code",
   "execution_count": null,
   "id": "2c4ff15d",
   "metadata": {
    "scrolled": true
   },
   "outputs": [],
   "source": [
    "'''\n",
    "def reduce_mem_usage1(props):\n",
    "    start_mem_usg = props.memory_usage().sum() / 1024**2 \n",
    "    print(\"Memory usage of properties dataframe is :\",start_mem_usg,\" MB\")\n",
    "    NAlist = [] # Keeps track of columns that have missing values filled in. \n",
    "    for col in props.columns:\n",
    "        if props[col].dtype != object:  # Exclude strings\n",
    "            \n",
    "            # Print current column type\n",
    "            print(\"******************************\")\n",
    "            print(\"Column: \",col)\n",
    "            print(\"dtype before: \",props[col].dtype)\n",
    "            \n",
    "            # make variables for Int, max and min\n",
    "            IsInt = False\n",
    "            mx = props[col].max()\n",
    "            mn = props[col].min()\n",
    "            \n",
    "            # Integer does not support NA, therefore, NA needs to be filled\n",
    "            if not np.isfinite(props[col]).all(): \n",
    "                NAlist.append(col)\n",
    "                props[col].fillna(mn-1,inplace=True)  \n",
    "                   \n",
    "            # test if column can be converted to an integer\n",
    "            asint = props[col].fillna(0).astype(np.int64)\n",
    "            result = (props[col] - asint)\n",
    "            result = result.sum()\n",
    "            if result > -0.01 and result < 0.01:\n",
    "                IsInt = True\n",
    "\n",
    "            \n",
    "            # Make Integer/unsigned Integer datatypes\n",
    "            if IsInt:\n",
    "                if mn >= 0:\n",
    "                    if mx < 255:\n",
    "                        props[col] = props[col].astype(np.uint8)\n",
    "                    elif mx < 65535:\n",
    "                        props[col] = props[col].astype(np.uint16)\n",
    "                    elif mx < 4294967295:\n",
    "                        props[col] = props[col].astype(np.uint32)\n",
    "                    else:\n",
    "                        props[col] = props[col].astype(np.uint64)\n",
    "                else:\n",
    "                    if mn > np.iinfo(np.int8).min and mx < np.iinfo(np.int8).max:\n",
    "                        props[col] = props[col].astype(np.int8)\n",
    "                    elif mn > np.iinfo(np.int16).min and mx < np.iinfo(np.int16).max:\n",
    "                        props[col] = props[col].astype(np.int16)\n",
    "                    elif mn > np.iinfo(np.int32).min and mx < np.iinfo(np.int32).max:\n",
    "                        props[col] = props[col].astype(np.int32)\n",
    "                    elif mn > np.iinfo(np.int64).min and mx < np.iinfo(np.int64).max:\n",
    "                        props[col] = props[col].astype(np.int64)    \n",
    "            \n",
    "            # Make float datatypes 32 bit\n",
    "            else:\n",
    "                props[col] = props[col].astype(np.float32)\n",
    "            \n",
    "            # Print new column type\n",
    "            print(\"dtype after: \",props[col].dtype)\n",
    "            print(\"******************************\")\n",
    "    \n",
    "    # Print final result\n",
    "    print(\"___MEMORY USAGE AFTER COMPLETION:___\")\n",
    "    mem_usg = props.memory_usage().sum() / 1024**2 \n",
    "    print(\"Memory usage is: \",mem_usg,\" MB\")\n",
    "    print(\"This is \",100*mem_usg/start_mem_usg,\"% of the initial size\")\n",
    "    return props, NAlist\n",
    "\n",
    "%time\n",
    "# From kernel https://www.kaggle.com/gemartin/load-data-reduce-memory-usage\n",
    "# WARNING! THIS CAN DAMAGE THE DATA \n",
    "def reduce_mem_usage2(df):\n",
    "    \"\"\" iterate through all the columns of a dataframe and modify the data type\n",
    "        to reduce memory usage.        \n",
    "    \"\"\"\n",
    "    start_mem = df.memory_usage().sum() / 1024**2\n",
    "    print('Memory usage of dataframe is {:.2f} MB'.format(start_mem))\n",
    "    \n",
    "    for col in df.columns:\n",
    "        col_type = df[col].dtype\n",
    "        \n",
    "        if col_type != object:\n",
    "            c_min = df[col].min()\n",
    "            c_max = df[col].max()\n",
    "            if str(col_type)[:3] == 'int':\n",
    "                if c_min > np.iinfo(np.int8).min and c_max < np.iinfo(np.int8).max:\n",
    "                    df[col] = df[col].astype(np.int8)\n",
    "                elif c_min > np.iinfo(np.int16).min and c_max < np.iinfo(np.int16).max:\n",
    "                    df[col] = df[col].astype(np.int16)\n",
    "                elif c_min > np.iinfo(np.int32).min and c_max < np.iinfo(np.int32).max:\n",
    "                    df[col] = df[col].astype(np.int32)\n",
    "                elif c_min > np.iinfo(np.int64).min and c_max < np.iinfo(np.int64).max:\n",
    "                    df[col] = df[col].astype(np.int64)  \n",
    "            else:\n",
    "                if c_min > np.finfo(np.float16).min and c_max < np.finfo(np.float16).max:\n",
    "                    df[col] = df[col].astype(np.float16)\n",
    "                elif c_min > np.finfo(np.float32).min and c_max < np.finfo(np.float32).max:\n",
    "                    df[col] = df[col].astype(np.float32)\n",
    "                else:\n",
    "                    df[col] = df[col].astype(np.float64)\n",
    "        else:\n",
    "            df[col] = df[col].astype('category')\n",
    "\n",
    "    end_mem = df.memory_usage().sum() / 1024**2\n",
    "    print('Memory usage after optimization is: {:.2f} MB'.format(end_mem))\n",
    "    print('Decreased by {:.1f}%'.format(100 * (start_mem - end_mem) / start_mem))\n",
    "    \n",
    "    return df\n",
    "'''"
   ]
  },
  {
   "cell_type": "code",
   "execution_count": null,
   "id": "56290bbe",
   "metadata": {
    "scrolled": true
   },
   "outputs": [],
   "source": [
    "'''\n",
    "train = reduce_mem_usage2(train)\n",
    "test = reduce_mem_usage2(test)\n",
    "'''"
   ]
  },
  {
   "cell_type": "code",
   "execution_count": 3,
   "id": "2e4b70ee",
   "metadata": {
    "ExecuteTime": {
     "end_time": "2022-06-12T06:06:36.676994Z",
     "start_time": "2022-06-12T06:06:36.644994Z"
    },
    "scrolled": false
   },
   "outputs": [
    {
     "data": {
      "text/html": [
       "<div>\n",
       "<style scoped>\n",
       "    .dataframe tbody tr th:only-of-type {\n",
       "        vertical-align: middle;\n",
       "    }\n",
       "\n",
       "    .dataframe tbody tr th {\n",
       "        vertical-align: top;\n",
       "    }\n",
       "\n",
       "    .dataframe thead th {\n",
       "        text-align: right;\n",
       "    }\n",
       "</style>\n",
       "<table border=\"1\" class=\"dataframe\">\n",
       "  <thead>\n",
       "    <tr style=\"text-align: right;\">\n",
       "      <th></th>\n",
       "      <th>Unnamed: 0</th>\n",
       "      <th>TransactionID</th>\n",
       "      <th>isFraud</th>\n",
       "      <th>TransactionDT</th>\n",
       "      <th>TransactionAmt</th>\n",
       "      <th>ProductCD</th>\n",
       "      <th>card1</th>\n",
       "      <th>card2</th>\n",
       "      <th>card3</th>\n",
       "      <th>card4</th>\n",
       "      <th>...</th>\n",
       "      <th>V304</th>\n",
       "      <th>V306</th>\n",
       "      <th>V307</th>\n",
       "      <th>V308</th>\n",
       "      <th>V310</th>\n",
       "      <th>V312</th>\n",
       "      <th>V313</th>\n",
       "      <th>V314</th>\n",
       "      <th>V315</th>\n",
       "      <th>V317</th>\n",
       "    </tr>\n",
       "  </thead>\n",
       "  <tbody>\n",
       "    <tr>\n",
       "      <th>0</th>\n",
       "      <td>0</td>\n",
       "      <td>2987000</td>\n",
       "      <td>0</td>\n",
       "      <td>86400</td>\n",
       "      <td>68.5</td>\n",
       "      <td>W</td>\n",
       "      <td>13926</td>\n",
       "      <td>NaN</td>\n",
       "      <td>150.0</td>\n",
       "      <td>discover</td>\n",
       "      <td>...</td>\n",
       "      <td>0.0</td>\n",
       "      <td>0.0</td>\n",
       "      <td>117.0</td>\n",
       "      <td>0.0</td>\n",
       "      <td>0.0</td>\n",
       "      <td>0.0</td>\n",
       "      <td>0.0</td>\n",
       "      <td>0.0</td>\n",
       "      <td>0.0</td>\n",
       "      <td>117.0</td>\n",
       "    </tr>\n",
       "    <tr>\n",
       "      <th>1</th>\n",
       "      <td>1</td>\n",
       "      <td>2987001</td>\n",
       "      <td>0</td>\n",
       "      <td>86401</td>\n",
       "      <td>29.0</td>\n",
       "      <td>W</td>\n",
       "      <td>2755</td>\n",
       "      <td>404.0</td>\n",
       "      <td>150.0</td>\n",
       "      <td>mastercard</td>\n",
       "      <td>...</td>\n",
       "      <td>0.0</td>\n",
       "      <td>0.0</td>\n",
       "      <td>0.0</td>\n",
       "      <td>0.0</td>\n",
       "      <td>0.0</td>\n",
       "      <td>0.0</td>\n",
       "      <td>0.0</td>\n",
       "      <td>0.0</td>\n",
       "      <td>0.0</td>\n",
       "      <td>0.0</td>\n",
       "    </tr>\n",
       "    <tr>\n",
       "      <th>2</th>\n",
       "      <td>2</td>\n",
       "      <td>2987002</td>\n",
       "      <td>0</td>\n",
       "      <td>86469</td>\n",
       "      <td>59.0</td>\n",
       "      <td>W</td>\n",
       "      <td>4663</td>\n",
       "      <td>490.0</td>\n",
       "      <td>150.0</td>\n",
       "      <td>visa</td>\n",
       "      <td>...</td>\n",
       "      <td>0.0</td>\n",
       "      <td>0.0</td>\n",
       "      <td>0.0</td>\n",
       "      <td>0.0</td>\n",
       "      <td>0.0</td>\n",
       "      <td>0.0</td>\n",
       "      <td>0.0</td>\n",
       "      <td>0.0</td>\n",
       "      <td>0.0</td>\n",
       "      <td>0.0</td>\n",
       "    </tr>\n",
       "    <tr>\n",
       "      <th>3</th>\n",
       "      <td>3</td>\n",
       "      <td>2987003</td>\n",
       "      <td>0</td>\n",
       "      <td>86499</td>\n",
       "      <td>50.0</td>\n",
       "      <td>W</td>\n",
       "      <td>18132</td>\n",
       "      <td>567.0</td>\n",
       "      <td>150.0</td>\n",
       "      <td>mastercard</td>\n",
       "      <td>...</td>\n",
       "      <td>0.0</td>\n",
       "      <td>50.0</td>\n",
       "      <td>1758.0</td>\n",
       "      <td>925.0</td>\n",
       "      <td>354.0</td>\n",
       "      <td>135.0</td>\n",
       "      <td>0.0</td>\n",
       "      <td>0.0</td>\n",
       "      <td>0.0</td>\n",
       "      <td>1404.0</td>\n",
       "    </tr>\n",
       "    <tr>\n",
       "      <th>4</th>\n",
       "      <td>4</td>\n",
       "      <td>2987004</td>\n",
       "      <td>0</td>\n",
       "      <td>86506</td>\n",
       "      <td>50.0</td>\n",
       "      <td>H</td>\n",
       "      <td>4497</td>\n",
       "      <td>514.0</td>\n",
       "      <td>150.0</td>\n",
       "      <td>mastercard</td>\n",
       "      <td>...</td>\n",
       "      <td>1.0</td>\n",
       "      <td>0.0</td>\n",
       "      <td>0.0</td>\n",
       "      <td>0.0</td>\n",
       "      <td>0.0</td>\n",
       "      <td>0.0</td>\n",
       "      <td>0.0</td>\n",
       "      <td>0.0</td>\n",
       "      <td>0.0</td>\n",
       "      <td>0.0</td>\n",
       "    </tr>\n",
       "  </tbody>\n",
       "</table>\n",
       "<p>5 rows × 157 columns</p>\n",
       "</div>"
      ],
      "text/plain": [
       "   Unnamed: 0  TransactionID  isFraud  TransactionDT  TransactionAmt  \\\n",
       "0           0        2987000        0          86400            68.5   \n",
       "1           1        2987001        0          86401            29.0   \n",
       "2           2        2987002        0          86469            59.0   \n",
       "3           3        2987003        0          86499            50.0   \n",
       "4           4        2987004        0          86506            50.0   \n",
       "\n",
       "  ProductCD  card1  card2  card3       card4  ...  V304  V306    V307   V308  \\\n",
       "0         W  13926    NaN  150.0    discover  ...   0.0   0.0   117.0    0.0   \n",
       "1         W   2755  404.0  150.0  mastercard  ...   0.0   0.0     0.0    0.0   \n",
       "2         W   4663  490.0  150.0        visa  ...   0.0   0.0     0.0    0.0   \n",
       "3         W  18132  567.0  150.0  mastercard  ...   0.0  50.0  1758.0  925.0   \n",
       "4         H   4497  514.0  150.0  mastercard  ...   1.0   0.0     0.0    0.0   \n",
       "\n",
       "    V310   V312  V313  V314  V315    V317  \n",
       "0    0.0    0.0   0.0   0.0   0.0   117.0  \n",
       "1    0.0    0.0   0.0   0.0   0.0     0.0  \n",
       "2    0.0    0.0   0.0   0.0   0.0     0.0  \n",
       "3  354.0  135.0   0.0   0.0   0.0  1404.0  \n",
       "4    0.0    0.0   0.0   0.0   0.0     0.0  \n",
       "\n",
       "[5 rows x 157 columns]"
      ]
     },
     "execution_count": 3,
     "metadata": {},
     "output_type": "execute_result"
    }
   ],
   "source": [
    "# train = pd.merge(train_t, train_i, on='TransactionID', how='outer')\n",
    "# train\n",
    "train.head()"
   ]
  },
  {
   "cell_type": "code",
   "execution_count": null,
   "id": "1826a36a",
   "metadata": {
    "scrolled": true
   },
   "outputs": [],
   "source": [
    "# test = pd.merge(test_t, test_i, on='TransactionID', how='outer')\n",
    "# test\n",
    "\n",
    "test.head()"
   ]
  },
  {
   "cell_type": "code",
   "execution_count": null,
   "id": "e303fec1",
   "metadata": {
    "scrolled": true
   },
   "outputs": [],
   "source": [
    "# Label encoding할 column 추출\n",
    "\n",
    "train.iloc[:, :100].info()\n",
    "train.iloc[:, 100:200].info()\n",
    "train.iloc[:, 200:300].info()\n",
    "train.iloc[:, 300:400].info()\n",
    "train.iloc[:, 300:400].info()"
   ]
  },
  {
   "cell_type": "markdown",
   "id": "be72efc8",
   "metadata": {},
   "source": [
    "   ## float 타입 컬럼 Nan 값, KNNImputer 로 채워보기"
   ]
  },
  {
   "cell_type": "code",
   "execution_count": 4,
   "id": "44957581",
   "metadata": {
    "ExecuteTime": {
     "end_time": "2022-06-12T06:06:42.314864Z",
     "start_time": "2022-06-12T06:06:42.237334Z"
    },
    "scrolled": true
   },
   "outputs": [
    {
     "data": {
      "text/html": [
       "<div>\n",
       "<style scoped>\n",
       "    .dataframe tbody tr th:only-of-type {\n",
       "        vertical-align: middle;\n",
       "    }\n",
       "\n",
       "    .dataframe tbody tr th {\n",
       "        vertical-align: top;\n",
       "    }\n",
       "\n",
       "    .dataframe thead th {\n",
       "        text-align: right;\n",
       "    }\n",
       "</style>\n",
       "<table border=\"1\" class=\"dataframe\">\n",
       "  <thead>\n",
       "    <tr style=\"text-align: right;\">\n",
       "      <th></th>\n",
       "      <th>TransactionAmt</th>\n",
       "      <th>card2</th>\n",
       "      <th>card3</th>\n",
       "      <th>card5</th>\n",
       "      <th>addr1</th>\n",
       "      <th>addr2</th>\n",
       "      <th>dist1</th>\n",
       "      <th>C1</th>\n",
       "      <th>C2</th>\n",
       "      <th>C4</th>\n",
       "      <th>...</th>\n",
       "      <th>V304</th>\n",
       "      <th>V306</th>\n",
       "      <th>V307</th>\n",
       "      <th>V308</th>\n",
       "      <th>V310</th>\n",
       "      <th>V312</th>\n",
       "      <th>V313</th>\n",
       "      <th>V314</th>\n",
       "      <th>V315</th>\n",
       "      <th>V317</th>\n",
       "    </tr>\n",
       "  </thead>\n",
       "  <tbody>\n",
       "    <tr>\n",
       "      <th>0</th>\n",
       "      <td>68.50</td>\n",
       "      <td>NaN</td>\n",
       "      <td>150.0</td>\n",
       "      <td>142.0</td>\n",
       "      <td>315.0</td>\n",
       "      <td>87.0</td>\n",
       "      <td>19.0</td>\n",
       "      <td>1.0</td>\n",
       "      <td>1.0</td>\n",
       "      <td>0.0</td>\n",
       "      <td>...</td>\n",
       "      <td>0.0</td>\n",
       "      <td>0.000000</td>\n",
       "      <td>117.000000</td>\n",
       "      <td>0.000000</td>\n",
       "      <td>0.000000</td>\n",
       "      <td>0.0</td>\n",
       "      <td>0.000000</td>\n",
       "      <td>0.000000</td>\n",
       "      <td>0.000000</td>\n",
       "      <td>117.0</td>\n",
       "    </tr>\n",
       "    <tr>\n",
       "      <th>1</th>\n",
       "      <td>29.00</td>\n",
       "      <td>404.0</td>\n",
       "      <td>150.0</td>\n",
       "      <td>102.0</td>\n",
       "      <td>325.0</td>\n",
       "      <td>87.0</td>\n",
       "      <td>NaN</td>\n",
       "      <td>1.0</td>\n",
       "      <td>1.0</td>\n",
       "      <td>0.0</td>\n",
       "      <td>...</td>\n",
       "      <td>0.0</td>\n",
       "      <td>0.000000</td>\n",
       "      <td>0.000000</td>\n",
       "      <td>0.000000</td>\n",
       "      <td>0.000000</td>\n",
       "      <td>0.0</td>\n",
       "      <td>0.000000</td>\n",
       "      <td>0.000000</td>\n",
       "      <td>0.000000</td>\n",
       "      <td>0.0</td>\n",
       "    </tr>\n",
       "    <tr>\n",
       "      <th>2</th>\n",
       "      <td>59.00</td>\n",
       "      <td>490.0</td>\n",
       "      <td>150.0</td>\n",
       "      <td>166.0</td>\n",
       "      <td>330.0</td>\n",
       "      <td>87.0</td>\n",
       "      <td>287.0</td>\n",
       "      <td>1.0</td>\n",
       "      <td>1.0</td>\n",
       "      <td>0.0</td>\n",
       "      <td>...</td>\n",
       "      <td>0.0</td>\n",
       "      <td>0.000000</td>\n",
       "      <td>0.000000</td>\n",
       "      <td>0.000000</td>\n",
       "      <td>0.000000</td>\n",
       "      <td>0.0</td>\n",
       "      <td>0.000000</td>\n",
       "      <td>0.000000</td>\n",
       "      <td>0.000000</td>\n",
       "      <td>0.0</td>\n",
       "    </tr>\n",
       "    <tr>\n",
       "      <th>3</th>\n",
       "      <td>50.00</td>\n",
       "      <td>567.0</td>\n",
       "      <td>150.0</td>\n",
       "      <td>117.0</td>\n",
       "      <td>476.0</td>\n",
       "      <td>87.0</td>\n",
       "      <td>NaN</td>\n",
       "      <td>2.0</td>\n",
       "      <td>5.0</td>\n",
       "      <td>0.0</td>\n",
       "      <td>...</td>\n",
       "      <td>0.0</td>\n",
       "      <td>50.000000</td>\n",
       "      <td>1758.000000</td>\n",
       "      <td>925.000000</td>\n",
       "      <td>354.000000</td>\n",
       "      <td>135.0</td>\n",
       "      <td>0.000000</td>\n",
       "      <td>0.000000</td>\n",
       "      <td>0.000000</td>\n",
       "      <td>1404.0</td>\n",
       "    </tr>\n",
       "    <tr>\n",
       "      <th>4</th>\n",
       "      <td>50.00</td>\n",
       "      <td>514.0</td>\n",
       "      <td>150.0</td>\n",
       "      <td>102.0</td>\n",
       "      <td>420.0</td>\n",
       "      <td>87.0</td>\n",
       "      <td>NaN</td>\n",
       "      <td>1.0</td>\n",
       "      <td>1.0</td>\n",
       "      <td>0.0</td>\n",
       "      <td>...</td>\n",
       "      <td>1.0</td>\n",
       "      <td>0.000000</td>\n",
       "      <td>0.000000</td>\n",
       "      <td>0.000000</td>\n",
       "      <td>0.000000</td>\n",
       "      <td>0.0</td>\n",
       "      <td>0.000000</td>\n",
       "      <td>0.000000</td>\n",
       "      <td>0.000000</td>\n",
       "      <td>0.0</td>\n",
       "    </tr>\n",
       "    <tr>\n",
       "      <th>...</th>\n",
       "      <td>...</td>\n",
       "      <td>...</td>\n",
       "      <td>...</td>\n",
       "      <td>...</td>\n",
       "      <td>...</td>\n",
       "      <td>...</td>\n",
       "      <td>...</td>\n",
       "      <td>...</td>\n",
       "      <td>...</td>\n",
       "      <td>...</td>\n",
       "      <td>...</td>\n",
       "      <td>...</td>\n",
       "      <td>...</td>\n",
       "      <td>...</td>\n",
       "      <td>...</td>\n",
       "      <td>...</td>\n",
       "      <td>...</td>\n",
       "      <td>...</td>\n",
       "      <td>...</td>\n",
       "      <td>...</td>\n",
       "      <td>...</td>\n",
       "    </tr>\n",
       "    <tr>\n",
       "      <th>590535</th>\n",
       "      <td>49.00</td>\n",
       "      <td>NaN</td>\n",
       "      <td>150.0</td>\n",
       "      <td>226.0</td>\n",
       "      <td>272.0</td>\n",
       "      <td>87.0</td>\n",
       "      <td>48.0</td>\n",
       "      <td>2.0</td>\n",
       "      <td>1.0</td>\n",
       "      <td>0.0</td>\n",
       "      <td>...</td>\n",
       "      <td>0.0</td>\n",
       "      <td>0.000000</td>\n",
       "      <td>47.950001</td>\n",
       "      <td>0.000000</td>\n",
       "      <td>47.950001</td>\n",
       "      <td>0.0</td>\n",
       "      <td>47.950001</td>\n",
       "      <td>47.950001</td>\n",
       "      <td>47.950001</td>\n",
       "      <td>0.0</td>\n",
       "    </tr>\n",
       "    <tr>\n",
       "      <th>590536</th>\n",
       "      <td>39.50</td>\n",
       "      <td>225.0</td>\n",
       "      <td>150.0</td>\n",
       "      <td>224.0</td>\n",
       "      <td>204.0</td>\n",
       "      <td>87.0</td>\n",
       "      <td>NaN</td>\n",
       "      <td>1.0</td>\n",
       "      <td>1.0</td>\n",
       "      <td>0.0</td>\n",
       "      <td>...</td>\n",
       "      <td>0.0</td>\n",
       "      <td>0.000000</td>\n",
       "      <td>0.000000</td>\n",
       "      <td>0.000000</td>\n",
       "      <td>0.000000</td>\n",
       "      <td>0.0</td>\n",
       "      <td>0.000000</td>\n",
       "      <td>0.000000</td>\n",
       "      <td>0.000000</td>\n",
       "      <td>0.0</td>\n",
       "    </tr>\n",
       "    <tr>\n",
       "      <th>590537</th>\n",
       "      <td>30.95</td>\n",
       "      <td>595.0</td>\n",
       "      <td>150.0</td>\n",
       "      <td>224.0</td>\n",
       "      <td>231.0</td>\n",
       "      <td>87.0</td>\n",
       "      <td>NaN</td>\n",
       "      <td>1.0</td>\n",
       "      <td>1.0</td>\n",
       "      <td>0.0</td>\n",
       "      <td>...</td>\n",
       "      <td>0.0</td>\n",
       "      <td>0.000000</td>\n",
       "      <td>0.000000</td>\n",
       "      <td>0.000000</td>\n",
       "      <td>0.000000</td>\n",
       "      <td>0.0</td>\n",
       "      <td>0.000000</td>\n",
       "      <td>0.000000</td>\n",
       "      <td>0.000000</td>\n",
       "      <td>0.0</td>\n",
       "    </tr>\n",
       "    <tr>\n",
       "      <th>590538</th>\n",
       "      <td>117.00</td>\n",
       "      <td>481.0</td>\n",
       "      <td>150.0</td>\n",
       "      <td>224.0</td>\n",
       "      <td>387.0</td>\n",
       "      <td>87.0</td>\n",
       "      <td>3.0</td>\n",
       "      <td>1.0</td>\n",
       "      <td>1.0</td>\n",
       "      <td>0.0</td>\n",
       "      <td>...</td>\n",
       "      <td>0.0</td>\n",
       "      <td>117.000000</td>\n",
       "      <td>2903.500000</td>\n",
       "      <td>117.000000</td>\n",
       "      <td>669.500000</td>\n",
       "      <td>117.0</td>\n",
       "      <td>317.500000</td>\n",
       "      <td>669.500000</td>\n",
       "      <td>317.500000</td>\n",
       "      <td>2234.0</td>\n",
       "    </tr>\n",
       "    <tr>\n",
       "      <th>590539</th>\n",
       "      <td>279.95</td>\n",
       "      <td>170.0</td>\n",
       "      <td>150.0</td>\n",
       "      <td>102.0</td>\n",
       "      <td>299.0</td>\n",
       "      <td>87.0</td>\n",
       "      <td>NaN</td>\n",
       "      <td>2.0</td>\n",
       "      <td>1.0</td>\n",
       "      <td>0.0</td>\n",
       "      <td>...</td>\n",
       "      <td>0.0</td>\n",
       "      <td>279.950012</td>\n",
       "      <td>279.950012</td>\n",
       "      <td>279.950012</td>\n",
       "      <td>0.000000</td>\n",
       "      <td>0.0</td>\n",
       "      <td>0.000000</td>\n",
       "      <td>0.000000</td>\n",
       "      <td>0.000000</td>\n",
       "      <td>0.0</td>\n",
       "    </tr>\n",
       "  </tbody>\n",
       "</table>\n",
       "<p>590540 rows × 139 columns</p>\n",
       "</div>"
      ],
      "text/plain": [
       "        TransactionAmt  card2  card3  card5  addr1  addr2  dist1   C1   C2  \\\n",
       "0                68.50    NaN  150.0  142.0  315.0   87.0   19.0  1.0  1.0   \n",
       "1                29.00  404.0  150.0  102.0  325.0   87.0    NaN  1.0  1.0   \n",
       "2                59.00  490.0  150.0  166.0  330.0   87.0  287.0  1.0  1.0   \n",
       "3                50.00  567.0  150.0  117.0  476.0   87.0    NaN  2.0  5.0   \n",
       "4                50.00  514.0  150.0  102.0  420.0   87.0    NaN  1.0  1.0   \n",
       "...                ...    ...    ...    ...    ...    ...    ...  ...  ...   \n",
       "590535           49.00    NaN  150.0  226.0  272.0   87.0   48.0  2.0  1.0   \n",
       "590536           39.50  225.0  150.0  224.0  204.0   87.0    NaN  1.0  1.0   \n",
       "590537           30.95  595.0  150.0  224.0  231.0   87.0    NaN  1.0  1.0   \n",
       "590538          117.00  481.0  150.0  224.0  387.0   87.0    3.0  1.0  1.0   \n",
       "590539          279.95  170.0  150.0  102.0  299.0   87.0    NaN  2.0  1.0   \n",
       "\n",
       "         C4  ...  V304        V306         V307        V308        V310  \\\n",
       "0       0.0  ...   0.0    0.000000   117.000000    0.000000    0.000000   \n",
       "1       0.0  ...   0.0    0.000000     0.000000    0.000000    0.000000   \n",
       "2       0.0  ...   0.0    0.000000     0.000000    0.000000    0.000000   \n",
       "3       0.0  ...   0.0   50.000000  1758.000000  925.000000  354.000000   \n",
       "4       0.0  ...   1.0    0.000000     0.000000    0.000000    0.000000   \n",
       "...     ...  ...   ...         ...          ...         ...         ...   \n",
       "590535  0.0  ...   0.0    0.000000    47.950001    0.000000   47.950001   \n",
       "590536  0.0  ...   0.0    0.000000     0.000000    0.000000    0.000000   \n",
       "590537  0.0  ...   0.0    0.000000     0.000000    0.000000    0.000000   \n",
       "590538  0.0  ...   0.0  117.000000  2903.500000  117.000000  669.500000   \n",
       "590539  0.0  ...   0.0  279.950012   279.950012  279.950012    0.000000   \n",
       "\n",
       "         V312        V313        V314        V315    V317  \n",
       "0         0.0    0.000000    0.000000    0.000000   117.0  \n",
       "1         0.0    0.000000    0.000000    0.000000     0.0  \n",
       "2         0.0    0.000000    0.000000    0.000000     0.0  \n",
       "3       135.0    0.000000    0.000000    0.000000  1404.0  \n",
       "4         0.0    0.000000    0.000000    0.000000     0.0  \n",
       "...       ...         ...         ...         ...     ...  \n",
       "590535    0.0   47.950001   47.950001   47.950001     0.0  \n",
       "590536    0.0    0.000000    0.000000    0.000000     0.0  \n",
       "590537    0.0    0.000000    0.000000    0.000000     0.0  \n",
       "590538  117.0  317.500000  669.500000  317.500000  2234.0  \n",
       "590539    0.0    0.000000    0.000000    0.000000     0.0  \n",
       "\n",
       "[590540 rows x 139 columns]"
      ]
     },
     "execution_count": 4,
     "metadata": {},
     "output_type": "execute_result"
    }
   ],
   "source": [
    "train_float = train.select_dtypes('float64')\n",
    "train_float"
   ]
  },
  {
   "cell_type": "code",
   "execution_count": null,
   "id": "9993a041",
   "metadata": {
    "ExecuteTime": {
     "start_time": "2022-06-12T06:07:11.051Z"
    }
   },
   "outputs": [],
   "source": [
    "imputer = KNNImputer(n_neighbors=3)\n",
    "imputed = imputer.fit_transform(train_float)        # (np.reshape(train['card6'],(-1,1))\n"
   ]
  },
  {
   "cell_type": "code",
   "execution_count": null,
   "id": "5739ec7c",
   "metadata": {},
   "outputs": [],
   "source": [
    "train_float_imputed = pd.DataFrame(imputed, columns = train_float.columns)\n",
    "train_float_imputed"
   ]
  },
  {
   "cell_type": "code",
   "execution_count": null,
   "id": "34f79070",
   "metadata": {
    "scrolled": false
   },
   "outputs": [],
   "source": [
    "train.corr()"
   ]
  },
  {
   "cell_type": "code",
   "execution_count": null,
   "id": "058d15d7",
   "metadata": {},
   "outputs": [],
   "source": [
    "# nan = np.nan\n",
    "# X = [[1, 2, nan], [3, 4, 3], [nan, 6, 5], [8, 8, 7]]\n",
    "# imputer = KNNImputer(n_neighbors=4, weights=\"uniform\")\n",
    "# imputer.fit_transform(X)"
   ]
  },
  {
   "cell_type": "code",
   "execution_count": null,
   "id": "14124481",
   "metadata": {
    "scrolled": true
   },
   "outputs": [],
   "source": [
    "print(train.isnull().sum()[:50])\n",
    "print(train.isnull().sum()[50:100])\n",
    "print(train.isnull().sum()[100:])"
   ]
  },
  {
   "cell_type": "markdown",
   "id": "6e93ec42",
   "metadata": {},
   "source": [
    "## Object 컬럼 Nan값 채우기"
   ]
  },
  {
   "cell_type": "code",
   "execution_count": null,
   "id": "fc03912b",
   "metadata": {},
   "outputs": [],
   "source": [
    "train.select_dtypes(\"object\").columns"
   ]
  },
  {
   "cell_type": "code",
   "execution_count": null,
   "id": "e56fcc90",
   "metadata": {},
   "outputs": [],
   "source": [
    "train_object = train.select_dtypes(\"object\")\n",
    "train_object"
   ]
  },
  {
   "cell_type": "code",
   "execution_count": null,
   "id": "ab03af00",
   "metadata": {},
   "outputs": [],
   "source": [
    "# le = LabelEncoder()\n",
    "# train['card6'] = le.fit_transform(train['card6'])\n",
    "# train.card6"
   ]
  },
  {
   "cell_type": "code",
   "execution_count": null,
   "id": "7fa923fb",
   "metadata": {},
   "outputs": [],
   "source": [
    "train_object.columns"
   ]
  },
  {
   "cell_type": "code",
   "execution_count": null,
   "id": "3eaab8b2",
   "metadata": {},
   "outputs": [],
   "source": [
    "imputer = KNNImputer(n_neighbors=3)\n",
    "imputed = imputer.fit_transform(train_object)        # (np.reshape(train['card6'],(-1,1))\n",
    "train_object_imputed = pd.DataFrame(imputed, columns = train_object.columns)\n",
    "train_object_imputed"
   ]
  },
  {
   "cell_type": "code",
   "execution_count": null,
   "id": "8eb10fbd",
   "metadata": {},
   "outputs": [],
   "source": [
    "train.card4"
   ]
  },
  {
   "cell_type": "code",
   "execution_count": null,
   "id": "d76a98f8",
   "metadata": {},
   "outputs": [],
   "source": [
    "\n",
    "\n",
    "X = np.array(train.card4)\n",
    "imputer = KNNImputer(n_neighbors=4, weights=\"uniform\")\n",
    "imputer.fit_transform(X)"
   ]
  },
  {
   "cell_type": "code",
   "execution_count": null,
   "id": "de4072f6",
   "metadata": {},
   "outputs": [],
   "source": [
    "train_object.card4.value_counts()"
   ]
  },
  {
   "cell_type": "code",
   "execution_count": null,
   "id": "c51e5316",
   "metadata": {},
   "outputs": [],
   "source": [
    "(train_object['card4'] == 'visa').sum()"
   ]
  },
  {
   "cell_type": "code",
   "execution_count": null,
   "id": "4de3767b",
   "metadata": {},
   "outputs": [],
   "source": []
  },
  {
   "cell_type": "code",
   "execution_count": null,
   "id": "93189bcd",
   "metadata": {},
   "outputs": [],
   "source": [
    "def train_percent(a, b):\n",
    "    return a / b"
   ]
  },
  {
   "cell_type": "code",
   "execution_count": null,
   "id": "94b74d4c",
   "metadata": {},
   "outputs": [],
   "source": [
    "train_percent(train_object.card4.visa / train_object.card4.count())"
   ]
  },
  {
   "cell_type": "code",
   "execution_count": null,
   "id": "48676caa",
   "metadata": {},
   "outputs": [],
   "source": [
    "train_object.card4.value_counts()\n",
    "sns.histplot(data=train_object.card4)"
   ]
  },
  {
   "cell_type": "code",
   "execution_count": null,
   "id": "b884ec05",
   "metadata": {},
   "outputs": [],
   "source": [
    "train_object.DeviceInfo.unique()"
   ]
  },
  {
   "cell_type": "code",
   "execution_count": null,
   "id": "b933f9a7",
   "metadata": {},
   "outputs": [],
   "source": [
    "train.card4 = le.transform"
   ]
  },
  {
   "cell_type": "code",
   "execution_count": null,
   "id": "8e3fb057",
   "metadata": {},
   "outputs": [],
   "source": [
    "train.ProductCD.unique()"
   ]
  },
  {
   "cell_type": "code",
   "execution_count": null,
   "id": "4607763a",
   "metadata": {},
   "outputs": [],
   "source": [
    "le.classes_"
   ]
  },
  {
   "cell_type": "code",
   "execution_count": null,
   "id": "2040c15d",
   "metadata": {},
   "outputs": [],
   "source": [
    "le.transform(['C', 'H', 'R', 'S', 'W'])"
   ]
  },
  {
   "cell_type": "code",
   "execution_count": null,
   "id": "cb9b635d",
   "metadata": {},
   "outputs": [],
   "source": [
    "train['ProductCD'] = le.transform([train.ProductCD])\n",
    "train['ProductCD']"
   ]
  },
  {
   "cell_type": "code",
   "execution_count": null,
   "id": "999ec6a0",
   "metadata": {},
   "outputs": [],
   "source": [
    "submission.shape"
   ]
  },
  {
   "cell_type": "code",
   "execution_count": null,
   "id": "1bcf80c5",
   "metadata": {
    "scrolled": true
   },
   "outputs": [],
   "source": [
    "test.ProductCD.value_counts()"
   ]
  },
  {
   "cell_type": "code",
   "execution_count": null,
   "id": "64f0921d",
   "metadata": {
    "scrolled": true
   },
   "outputs": [],
   "source": [
    "print(test.columns[ : 100])\n",
    "print(test.columns[100 : 200])\n",
    "print(test.columns[200 : 300])\n",
    "print(test.columns[300 : 400])\n",
    "print(test.columns[400 : 450])"
   ]
  },
  {
   "cell_type": "code",
   "execution_count": null,
   "id": "72b921d5",
   "metadata": {
    "scrolled": true
   },
   "outputs": [],
   "source": [
    "# 결측치 보기\n",
    "\n",
    "test.iloc[:, :100].info()\n",
    "test.iloc[:, 100:200].info()\n",
    "test.iloc[:, 200:300].info()\n",
    "test.iloc[:, 300:400].info()\n",
    "test.iloc[:, 300:400].info()"
   ]
  },
  {
   "cell_type": "code",
   "execution_count": null,
   "id": "b3c5e4ef",
   "metadata": {
    "scrolled": false
   },
   "outputs": [],
   "source": [
    "plt.figure(figsize=(10,5))\n",
    "sns.histplot(data=train, x='ProductCD', palette='Set2')\n",
    "train[['ProductCD']].value_counts() #.sort_index()\n",
    "# train[['TransactionAmt']].describe()"
   ]
  },
  {
   "cell_type": "code",
   "execution_count": null,
   "id": "30c65205",
   "metadata": {
    "scrolled": false
   },
   "outputs": [],
   "source": [
    "plt.figure(figsize=(10,5))\n",
    "sns.histplot(data=test, x='card5', palette='Paired')\n",
    "test[['card5']].value_counts().sort_index()\n",
    "# test[['ProductCD']].describe()"
   ]
  },
  {
   "cell_type": "code",
   "execution_count": null,
   "id": "a058abd8",
   "metadata": {
    "scrolled": true
   },
   "outputs": [],
   "source": [
    "train.ProductCD[.value_counts()"
   ]
  },
  {
   "cell_type": "code",
   "execution_count": null,
   "id": "5ae76842",
   "metadata": {},
   "outputs": [],
   "source": [
    "train"
   ]
  },
  {
   "cell_type": "code",
   "execution_count": null,
   "id": "f74ecec3",
   "metadata": {},
   "outputs": [],
   "source": [
    "(train['isFraud']==1).value_counts()"
   ]
  },
  {
   "cell_type": "code",
   "execution_count": null,
   "id": "8733c594",
   "metadata": {},
   "outputs": [],
   "source": [
    "test.dist2.value_counts().sort_index()"
   ]
  },
  {
   "cell_type": "raw",
   "id": "38c2f299",
   "metadata": {},
   "source": []
  },
  {
   "cell_type": "code",
   "execution_count": null,
   "id": "b8abb45e",
   "metadata": {},
   "outputs": [],
   "source": [
    "train_C = train.filter(like='C')\n",
    "train_C"
   ]
  },
  {
   "cell_type": "code",
   "execution_count": null,
   "id": "3d3f8e22",
   "metadata": {
    "scrolled": false
   },
   "outputs": [],
   "source": [
    "plt.figure(figsize=(5,5))\n",
    "sns.catplot(data=train_C)"
   ]
  },
  {
   "cell_type": "code",
   "execution_count": null,
   "id": "45d488d5",
   "metadata": {},
   "outputs": [],
   "source": [
    "scatscatterr"
   ]
  },
  {
   "cell_type": "code",
   "execution_count": null,
   "id": "e48e3588",
   "metadata": {
    "scrolled": true
   },
   "outputs": [],
   "source": [
    "train_i['DeviceInfo'].str.contains('SAMSUNG').sum()\n",
    "# LL = train_i[train_i['DeviceInfo'].str.contains('SAMSUNG', na=True)]\n",
    "# LL"
   ]
  },
  {
   "cell_type": "code",
   "execution_count": null,
   "id": "984b2f81",
   "metadata": {},
   "outputs": [],
   "source": [
    "train.filter(like='V')"
   ]
  },
  {
   "cell_type": "code",
   "execution_count": null,
   "id": "fe5d9758",
   "metadata": {
    "scrolled": false
   },
   "outputs": [],
   "source": [
    "# train.V1.value_counts()\n",
    "plt.figure(figsize=(10,10))\n",
    "sns.histplot(data=train_V)\n",
    "plt.show()"
   ]
  },
  {
   "cell_type": "code",
   "execution_count": null,
   "id": "56144038",
   "metadata": {},
   "outputs": [],
   "source": [
    "train_i['id']"
   ]
  },
  {
   "cell_type": "code",
   "execution_count": null,
   "id": "5b8950b4",
   "metadata": {
    "scrolled": false
   },
   "outputs": [],
   "source": [
    "train[['P_emaildomain']]\n",
    "# sns.histplot(data=train_t, x='P_emaildomain')"
   ]
  },
  {
   "cell_type": "code",
   "execution_count": null,
   "id": "231825fb",
   "metadata": {},
   "outputs": [],
   "source": []
  },
  {
   "cell_type": "code",
   "execution_count": null,
   "id": "b347da9d",
   "metadata": {},
   "outputs": [],
   "source": [
    "a = set(train_t['P_emaildomain'])\n",
    "b = set(train_t['R_emaildomain'])"
   ]
  },
  {
   "cell_type": "code",
   "execution_count": null,
   "id": "c06731d3",
   "metadata": {},
   "outputs": [],
   "source": [
    "b-a"
   ]
  },
  {
   "cell_type": "code",
   "execution_count": null,
   "id": "670006d9",
   "metadata": {},
   "outputs": [],
   "source": [
    "print(set1.difference(set2))"
   ]
  },
  {
   "cell_type": "code",
   "execution_count": null,
   "id": "5966a942",
   "metadata": {},
   "outputs": [],
   "source": [
    "plt.scatter"
   ]
  },
  {
   "cell_type": "code",
   "execution_count": null,
   "id": "d40656be",
   "metadata": {},
   "outputs": [],
   "source": [
    "train_t.filter(regex='card2')"
   ]
  },
  {
   "cell_type": "code",
   "execution_count": null,
   "id": "6bdef37f",
   "metadata": {
    "scrolled": false
   },
   "outputs": [],
   "source": [
    "train_t = train_t.filter(regex='addr')\n",
    "train_t[:50]\n",
    "# filter_.iloc[100000:100500, :]"
   ]
  },
  {
   "cell_type": "code",
   "execution_count": null,
   "id": "0cae5c70",
   "metadata": {},
   "outputs": [],
   "source": [
    "train_t.card1.unique()"
   ]
  },
  {
   "cell_type": "code",
   "execution_count": null,
   "id": "f3489f59",
   "metadata": {
    "scrolled": true
   },
   "outputs": [],
   "source": [
    "train_i.columns"
   ]
  },
  {
   "cell_type": "code",
   "execution_count": null,
   "id": "94810606",
   "metadata": {
    "scrolled": true
   },
   "outputs": [],
   "source": [
    "test_t[ : 50]\n",
    "# print(test_t.columns[100 : 200])\n",
    "# print(test_t.columns[200 : 300])\n",
    "# print(test_t.columns[300 : 400])"
   ]
  },
  {
   "cell_type": "code",
   "execution_count": null,
   "id": "9b024e40",
   "metadata": {
    "scrolled": false
   },
   "outputs": [],
   "source": [
    "test_i.columns"
   ]
  },
  {
   "cell_type": "code",
   "execution_count": null,
   "id": "38b180f5",
   "metadata": {},
   "outputs": [],
   "source": [
    "sns.boxplot(data=train_t)"
   ]
  },
  {
   "cell_type": "code",
   "execution_count": null,
   "id": "4d844065",
   "metadata": {},
   "outputs": [],
   "source": [
    "sns.catplot(data=train_t)"
   ]
  },
  {
   "cell_type": "code",
   "execution_count": null,
   "id": "1de21dc3",
   "metadata": {},
   "outputs": [],
   "source": [
    "plt.figure=figsize(10,10)\n",
    "filter_.drop(columns=['ProductCD']).plot()"
   ]
  },
  {
   "cell_type": "code",
   "execution_count": null,
   "id": "db947a73",
   "metadata": {
    "scrolled": false
   },
   "outputs": [],
   "source": [
    "train_t"
   ]
  },
  {
   "cell_type": "code",
   "execution_count": null,
   "id": "20e27312",
   "metadata": {},
   "outputs": [],
   "source": [
    "train_t[:50].info()"
   ]
  },
  {
   "cell_type": "code",
   "execution_count": null,
   "id": "f764e571",
   "metadata": {},
   "outputs": [],
   "source": [
    "# 구매자 도메인\n",
    "train_t.P_emaildomain.value_counts().count()"
   ]
  },
  {
   "cell_type": "code",
   "execution_count": null,
   "id": "76067404",
   "metadata": {},
   "outputs": [],
   "source": [
    "# 수령자 도메인\n",
    "train_t.R_emaildomain.value_counts().count()"
   ]
  },
  {
   "cell_type": "code",
   "execution_count": null,
   "id": "ca927a0f",
   "metadata": {
    "scrolled": false
   },
   "outputs": [],
   "source": [
    "train_i"
   ]
  },
  {
   "cell_type": "code",
   "execution_count": null,
   "id": "c05b57a8",
   "metadata": {},
   "outputs": [],
   "source": [
    "# train_merge = pd.merge(train_t, train_i, on='TransactionID', how='outer')\n",
    "# train_merge"
   ]
  },
  {
   "cell_type": "code",
   "execution_count": null,
   "id": "24c3f2ff",
   "metadata": {},
   "outputs": [],
   "source": [
    "train_merge.DeviceInfo.value_counts()"
   ]
  },
  {
   "cell_type": "code",
   "execution_count": null,
   "id": "45be483f",
   "metadata": {},
   "outputs": [],
   "source": [
    "test_i"
   ]
  },
  {
   "cell_type": "code",
   "execution_count": null,
   "id": "390e1e87",
   "metadata": {},
   "outputs": [],
   "source": [
    "test_t"
   ]
  },
  {
   "cell_type": "code",
   "execution_count": null,
   "id": "271cf9ef",
   "metadata": {},
   "outputs": [],
   "source": [
    "submission"
   ]
  },
  {
   "cell_type": "code",
   "execution_count": null,
   "id": "ef07587a",
   "metadata": {},
   "outputs": [],
   "source": [
    "train_t[train_t['isFraud'] == 1]"
   ]
  },
  {
   "cell_type": "code",
   "execution_count": null,
   "id": "e82ca04e",
   "metadata": {},
   "outputs": [],
   "source": [
    "# train_t.info()"
   ]
  }
 ],
 "metadata": {
  "kernelspec": {
   "display_name": "Python 3 (ipykernel)",
   "language": "python",
   "name": "python3"
  },
  "language_info": {
   "codemirror_mode": {
    "name": "ipython",
    "version": 3
   },
   "file_extension": ".py",
   "mimetype": "text/x-python",
   "name": "python",
   "nbconvert_exporter": "python",
   "pygments_lexer": "ipython3",
   "version": "3.9.12"
  },
  "toc": {
   "base_numbering": 1,
   "nav_menu": {},
   "number_sections": false,
   "sideBar": true,
   "skip_h1_title": false,
   "title_cell": "Table of Contents",
   "title_sidebar": "Contents",
   "toc_cell": false,
   "toc_position": {},
   "toc_section_display": true,
   "toc_window_display": true
  }
 },
 "nbformat": 4,
 "nbformat_minor": 5
}
