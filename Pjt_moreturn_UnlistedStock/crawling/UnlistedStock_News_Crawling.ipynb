{
 "cells": [
  {
   "cell_type": "markdown",
   "id": "ad057284",
   "metadata": {},
   "source": [
    "# 크롤링 테스트"
   ]
  },
  {
   "cell_type": "code",
   "execution_count": 1,
   "id": "9d7baeb3",
   "metadata": {
    "ExecuteTime": {
     "end_time": "2022-09-27T08:47:44.251712Z",
     "start_time": "2022-09-27T08:47:43.906095Z"
    }
   },
   "outputs": [],
   "source": [
    "# 라이브러리 import\n",
    "import os\n",
    "import pandas as pd\n",
    "import numpy as np\n",
    "import math \n",
    "\n",
    "# 셀레늄\n",
    "from selenium.webdriver.common.alert import Alert\n",
    "from selenium import webdriver  # 라이브러리(모듈) 가져오라\n",
    "# pip install chromedriver_autoinstaller\n",
    "from selenium.webdriver.common.keys import Keys\n",
    "from selenium.webdriver import ActionChains as AC\n",
    "\n",
    "# tqdm : for문 진행상황 체크\n",
    "from tqdm import tqdm, tqdm_notebook\n",
    "from tqdm.notebook import tqdm\n",
    "\n",
    "# 정규표현식(regular expression) : 문자(알파벳,한글), 숫자, 특수기호 정제 및 추출\n",
    "import re\n",
    "from time import sleep\n",
    "import time\n",
    "\n",
    "# 워닝 무시\n",
    "import warnings\n",
    "warnings.filterwarnings('ignore')\n",
    "\n",
    "from selenium.webdriver.common.by import By\n",
    "import chromedriver_autoinstaller"
   ]
  },
  {
   "cell_type": "code",
   "execution_count": null,
   "id": "8a050636",
   "metadata": {},
   "outputs": [],
   "source": [
    "# 언론사 클릭\n",
    "# 경향신문, 국민일보, 내일신문, 동아일보, 매일일보, 문화일보, 서울신문, 세계일보, 아시아투데이, 전국매일신문\n",
    "# 조선일보, 중앙일보, 천지일보, 한겨례, 한국일보"
   ]
  },
  {
   "cell_type": "code",
   "execution_count": null,
   "id": "f52373ba",
   "metadata": {},
   "outputs": [],
   "source": [
    "# IT : LGCNS(엘지씨엔에스), 아데나소프트웨어, 이브이알스튜디오(메타버스,), 씨유박스(얼굴인식, CUBOX)"
   ]
  },
  {
   "cell_type": "code",
   "execution_count": 2,
   "id": "486cae87",
   "metadata": {
    "ExecuteTime": {
     "end_time": "2022-09-27T08:47:46.735880Z",
     "start_time": "2022-09-27T08:47:46.732006Z"
    }
   },
   "outputs": [],
   "source": [
    "title_list = []\n",
    "link_list = []\n",
    "date_list = []\n",
    "content_list = []\n",
    "press_list = []"
   ]
  },
  {
   "cell_type": "code",
   "execution_count": null,
   "id": "eb8cd783",
   "metadata": {
    "ExecuteTime": {
     "end_time": "2022-09-27T08:35:09.570549Z",
     "start_time": "2022-09-27T08:35:09.143183Z"
    }
   },
   "outputs": [],
   "source": [
    "driver.quit()"
   ]
  },
  {
   "cell_type": "code",
   "execution_count": 3,
   "id": "bb240c33",
   "metadata": {
    "ExecuteTime": {
     "end_time": "2022-09-27T08:47:56.773209Z",
     "start_time": "2022-09-27T08:47:49.065280Z"
    }
   },
   "outputs": [],
   "source": [
    "# for i in range(1, 3):\n",
    "\n",
    "# 검색어 입력\n",
    "search = '케이뱅크'\n",
    "# 크롬 옵션\n",
    "options = webdriver.ChromeOptions()\n",
    "# 크롬 윈도우 사이즈 조절\n",
    "options.add_argument(\"--window-size=800,1200\") # window-size -> 기본 : 1920,1080\n",
    "chrome_path = chromedriver_autoinstaller.install()\n",
    "driver = webdriver.Chrome(chrome_path, options=options)\n",
    "time.sleep(0.01)\n",
    "driver.get(\"https://www.naver.com\")\n",
    "# -> 네이버 크롬 창이 뜬다.\n",
    "\n",
    "# 네이버 검색어 입력 후 검색\n",
    "element = driver.find_element(\"name\", \"query\") \n",
    "element.clear()  # 혹시 검색창에 존재하는 텍스트 제거\n",
    "element.send_keys(search)  # 검색창에 검색어 전달\n",
    "element.submit()  # 검색 클릭\n",
    "time.sleep(0.01)\n",
    "\n",
    "# 뉴스 클릭\n",
    "driver.find_element(\"link text\", \"뉴스\").click() \n",
    "# time.sleep(0.01)"
   ]
  },
  {
   "cell_type": "code",
   "execution_count": 4,
   "id": "3698e3e4",
   "metadata": {
    "ExecuteTime": {
     "end_time": "2022-09-27T08:47:56.776978Z",
     "start_time": "2022-09-27T08:47:56.774857Z"
    }
   },
   "outputs": [],
   "source": [
    "options.add_experimental_option('extensionLoadTimeout', 60000)"
   ]
  },
  {
   "cell_type": "code",
   "execution_count": 5,
   "id": "f59c31b5",
   "metadata": {
    "ExecuteTime": {
     "end_time": "2022-09-27T08:48:02.280000Z",
     "start_time": "2022-09-27T08:47:56.778151Z"
    }
   },
   "outputs": [],
   "source": [
    "# 옵션 클릭 후 '1년' 클릭\n",
    "driver.find_element(\"css selector\", \"#snb > div.api_group_option_filter._search_option_simple_wrap > div > div.option_filter > a\").click()  \n",
    "driver.find_element(\"css selector\", \"#snb > div.api_group_option_sort._search_option_detail_wrap > ul > li.bx.term > div > div.option > a:nth-child(8)\").click()  \n",
    "# time.sleep(0.01)"
   ]
  },
  {
   "cell_type": "code",
   "execution_count": 6,
   "id": "6bb3febf",
   "metadata": {
    "ExecuteTime": {
     "end_time": "2022-09-27T08:48:08.214309Z",
     "start_time": "2022-09-27T08:48:06.780358Z"
    }
   },
   "outputs": [],
   "source": [
    "# 목록 열기\n",
    "driver.find_element(\"css selector\", \"a.txt.txt_option._category_select_trigger\").click() \n",
    "\n",
    "# 일간지 선택\n",
    "driver.find_element('link text', '일간지').click()\n",
    "\n",
    "content_selector = '#snb > div.api_group_option_sort._search_option_detail_wrap > ul > li.bx.press > div > div.api_select_option.type_group._category_select_layer > div > div:nth-child(2) > div > div > div > ul > li:nth-child(7)> a'\n",
    "driver.find_element('css selector', content_selector).click()\n",
    "time.sleep(0.01)"
   ]
  },
  {
   "cell_type": "code",
   "execution_count": 7,
   "id": "23e98d98",
   "metadata": {
    "ExecuteTime": {
     "end_time": "2022-09-27T08:48:08.221627Z",
     "start_time": "2022-09-27T08:48:08.216305Z"
    }
   },
   "outputs": [
    {
     "data": {
      "text/plain": [
       "'(7)'"
      ]
     },
     "execution_count": 7,
     "metadata": {},
     "output_type": "execute_result"
    }
   ],
   "source": [
    "content_selector[-6:-3]"
   ]
  },
  {
   "cell_type": "markdown",
   "id": "2245d628",
   "metadata": {},
   "source": [
    "## 제목, 링크만 뽑은 다음 한 번에 본문 크롤링으로 전략 변경"
   ]
  },
  {
   "cell_type": "code",
   "execution_count": null,
   "id": "180903d4",
   "metadata": {
    "ExecuteTime": {
     "end_time": "2022-09-27T08:38:01.075288Z",
     "start_time": "2022-09-27T08:37:56.930754Z"
    },
    "scrolled": true
   },
   "outputs": [],
   "source": [
    "# 제목 & 링크 저장\n",
    "title_list = []\n",
    "link_list = []\n",
    "\n",
    "#main_pack > div.api_sc_page_wrap > div > div\n",
    "#main_pack > div.api_sc_page_wrap > div\n",
    "#main_pack > div.api_sc_page_wrap > div > div\n",
    "\n",
    "for i in range(7): # 페이지 수\n",
    "    titles = driver.find_elements('css selector', 'a.news_tit')\n",
    "\n",
    "    temp_list = []\n",
    "    for title in titles:\n",
    "        href = title.get_attribute('href')\n",
    "        temp_list.append(title.text)\n",
    "        temp_list = [x for x in temp_list]\n",
    "    \n",
    "        link_list.append(href)\n",
    "    title_list = title_list + temp_list\n",
    "    \n",
    "    # 다음 페이지 클릭\n",
    "    driver.find_element(\"css selector\", 'a.btn_next').click()\n",
    "    \n",
    "print(title_list)\n",
    "print(link_list)"
   ]
  },
  {
   "cell_type": "code",
   "execution_count": null,
   "id": "058c86fc",
   "metadata": {
    "ExecuteTime": {
     "end_time": "2022-09-27T08:38:01.078966Z",
     "start_time": "2022-09-27T08:38:01.076476Z"
    },
    "scrolled": true
   },
   "outputs": [],
   "source": [
    "title_list"
   ]
  },
  {
   "cell_type": "code",
   "execution_count": null,
   "id": "59a52f12",
   "metadata": {
    "ExecuteTime": {
     "end_time": "2022-09-27T08:38:01.082319Z",
     "start_time": "2022-09-27T08:38:01.079889Z"
    },
    "scrolled": true
   },
   "outputs": [],
   "source": [
    "link_list"
   ]
  },
  {
   "cell_type": "markdown",
   "id": "3da1097d",
   "metadata": {},
   "source": [
    "## ==============="
   ]
  },
  {
   "cell_type": "code",
   "execution_count": null,
   "id": "91597c32",
   "metadata": {
    "ExecuteTime": {
     "start_time": "2022-09-27T08:38:21.465Z"
    },
    "scrolled": false
   },
   "outputs": [],
   "source": [
    "\n",
    "# 본문 가져오기\n",
    "for i in tqdm(link_list):\n",
    "    time.sleep(0.1)\n",
    "    driver.get(i)\n",
    "    time.sleep(0.1)\n",
    "\n",
    "    if '(1)' == content_selector[-6:-3]:\n",
    "        date = driver.find_element('css selector', '#container > div.art_header.borderless > div.function_wrap > div.art_info > div > em:nth-child(1)').text\n",
    "        content = driver.find_element('css selector','#articleBody').text\n",
    "        press_list.append('경향신문')\n",
    "        date_list.append(date)\n",
    "        content_list.append(content)\n",
    "\n",
    "    if '(2)' == content_selector[-6:-3]:\n",
    "        date = driver.find_element('css selector', '#sub > div.sub_header > div > div.nwsti > div > div.date > span').text\n",
    "        content = driver.find_element('css selector','#articleBody').text\n",
    "        press_list.append('국민일보')\n",
    "        date_list.append(date)\n",
    "        content_list.append(content)\n",
    "\n",
    "    if '(3)' == content_selector[-6:-3]:\n",
    "        date = driver.find_element('css selector', '#contentArea > div.caL2 > div > div.articleArea > div.date').text\n",
    "        content = driver.find_element('css selector','#contents').text\n",
    "        press_list.append('내일신문')\n",
    "        date_list.append(date)\n",
    "        content_list.append(content)\n",
    "        \n",
    "    if '(4)' == content_selector[-6:-3]:\n",
    "        date = driver.find_element('css selector', '#container > div.article_title > div.title_foot > span:nth-child(1)').text\n",
    "        #article_txt\n",
    "        content= driver.find_element('css selector','#article_txt').text\n",
    "        #container > div.article_title > div.title_foot > span:nth-child(1)\n",
    "        press_list.append('동아일보')\n",
    "        date_list.append(date)\n",
    "        content_list.append(content)\n",
    "\n",
    "    if '(5)' == content_selector[-6:-3]:\n",
    "        date = driver.find_element('css selector', '#user-container > div.custom-pc.float-center.max-width-1130 > header > section > div > ul > li:nth-child(2)').text\n",
    "        content = driver.find_element('css selector','#article-view-content-div').text\n",
    "        press_list.append('매일일보')\n",
    "        date_list.append(date)\n",
    "        content_list.append(content)\n",
    "\n",
    "    if '(6)' == content_selector[-6:-3]:\n",
    "        date = driver.find_element('css selector', 'body > div:nth-child(1) > table:nth-child(19) > tbody > tr > td:nth-child(1) > table:nth-child(7) > tbody > tr > td > table:nth-child(1) > tbody > tr > td:nth-child(2)').text\n",
    "        content = driver.find_element('css selector','#NewsAdContent').text\n",
    "        press_list.append('문화일보')\n",
    "        date_list.append(date)\n",
    "        content_list.append(content)\n",
    "\n",
    "    if '(7)' == content_selector[-6:-3]:\n",
    "        if str.__contains__(i, '20211101012004'):\n",
    "            date = driver.find_element('css selector', '#container > div.content > div.atic_tgroup > div > span:nth-child(1)').text\n",
    "            content = driver.find_element('css selector','#article_content > p:nth-child(3)').text\n",
    "            press_list.append('서울신문')\n",
    "            date_list.append(date)\n",
    "            content_list.append(content)\n",
    "        elif str.__contains__(i, '20211004026020'):\n",
    "            date = driver.find_element('css selector', '#en_content > div.encon_left > div.Vtit_box > p > span:nth-child(1)').text\n",
    "            content = driver.find_element('css selector','#CmAdContent').text\n",
    "            press_list.append('서울신문')\n",
    "            date_list.append(date)\n",
    "            content_list.append(content)\n",
    "        else:\n",
    "            date = driver.find_element('css selector', '#viewWrapDiv > div.S20_title > div.S20_article_tit > div > div.option > span.w_date > span').text\n",
    "            content = driver.find_element('css selector','#atic_txt1').text\n",
    "            press_list.append('서울신문')\n",
    "            date_list.append(date)\n",
    "            content_list.append(content)\n",
    "\n",
    "    if '(8)' == content_selector[-6:-3]:\n",
    "        date = driver.find_element('css selector', '#contTitle > p.viewInfo').text\n",
    "        content = driver.find_element('css selector','#contMain2').text\n",
    "        press_list.append('세계일보')\n",
    "        date_list.append(date)\n",
    "        content_list.append(content)\n",
    "\n",
    "    if '(9)' == content_selector[-6:-3]:\n",
    "        date = driver.find_element('css selector', '#section_top > div > dl > dd > span').text\n",
    "        content = driver.find_element('css selector','#font').text\n",
    "        press_list.append('아시아투데이')\n",
    "        date_list.append(date)\n",
    "        content_list.append(content)\n",
    "\n",
    "    if '10' == content_selector[-6:-4]:\n",
    "        if str.__contains__(i, '903600'):\n",
    "            print('x')\n",
    "            continue\n",
    "        elif str.__contains__(i, '903521'): \n",
    "            print('x')\n",
    "            continue\n",
    "        elif str.__contains__(i, '900373'): \n",
    "            print('x')\n",
    "            continue\n",
    "        elif str.__contains__(i, '884334'):  \n",
    "            print('x')\n",
    "            continue\n",
    "        else:\n",
    "            date = driver.find_element('css selector', '#user-container > div.float-center.max-width-1100 > header > section > div > ul > li:nth-child(2)').text\n",
    "            content = driver.find_element('css selector','#article-view-content-div').text\n",
    "            #article-view-content-div > p\n",
    "            #article-view-content-div\n",
    "            #article-view-content-div\n",
    "            press_list.append('전국매일신문')\n",
    "            date_list.append(date)\n",
    "            content_list.append(content)\n",
    "\n",
    "    if '11' == content_selector[-6:-4]:\n",
    "        if str.__contains__(i, 'misaeng.chosun'):\n",
    "            date = driver.find_element('css selector', '#date_text').text\n",
    "            content = driver.find_element('css selector','#news_body_id').text\n",
    "            press_list.append('조선일보')\n",
    "            date_list.append(date)\n",
    "            content_list.append(content)\n",
    "        else:\n",
    "            date = driver.find_element('css selector', '#fusion-app > div.article.\\| > div:nth-child(2) > div > section > article > div.article-dateline.\\|.flex.flex--justify-space-between.flex--align-items-center.box--border.box--border-grey-40.box--border-horizontal.box--border-horizontal-bottom.box--pad-bottom-sm > span').text\n",
    "            content = driver.find_element('css selector','#fusion-app > div.article.\\| > div:nth-child(2) > div > section > article > section').text\n",
    "            press_list.append('조선일보')\n",
    "            date_list.append(date)\n",
    "            content_list.append(content)\n",
    "\n",
    "    if '12' == content_selector[-6:-4]:\n",
    "        date = driver.find_element('css selector', '#container > section > article > header > div.datetime > div > p').text\n",
    "        content = driver.find_element('css selector','#article_body').text\n",
    "        press_list.append('중앙일보')\n",
    "        date_list.append(date)\n",
    "        content_list.append(content)\n",
    "\n",
    "    if '13' == content_selector[-6:-4]:\n",
    "        date = driver.find_element('css selector', '#wrapper > div > div.container_wrap.article_cont_wrap > div.article_area > div.article_tit_wrap > div.article_date > p:nth-child(2)').text\n",
    "        content = driver.find_element('css selector','#wrapper > div > div.container_wrap.article_cont_wrap > div.article_area > div.left_wrap > div').text\n",
    "        press_list.append('천지일보')\n",
    "        date_list.append(date)\n",
    "        content_list.append(content)\n",
    "\n",
    "    if '14' == content_selector[-6:-4]:\n",
    "        if str.__contains__(i, 'seouland'):\n",
    "            date = driver.find_element('css selector', '#article_contents > header > div').text\n",
    "            content = driver.find_element('css selector','#article_contents > div > div > div.column_tc.column0 > article > div.article_body > div:nth-child(4)').text\n",
    "            press_list.append('한겨례')\n",
    "            date_list.append(date)\n",
    "            content_list.append(content)\n",
    "        else:\n",
    "            date = driver.find_element('css selector', '#article_view_headline > p.date-time > span:nth-child(1)').text\n",
    "            content = driver.find_element('css selector','#a-left-scroll-in > div.article-text > div > div.text').text\n",
    "            press_list.append('한겨례')\n",
    "            date_list.append(date)\n",
    "            content_list.append(content)\n",
    "        \n",
    "\n",
    "    if '15' == content_selector[-6:-4]:\n",
    "        date = driver.find_element('css selector', 'body > div.wrap > div.container.end.end-uni > div.end-top > div > div.col-main > div.info > dl > dd').text\n",
    "        content = driver.find_element('css selector','body > div.wrap > div.container.end.end-uni > div.end-body > div > div.col-main.read').text\n",
    "        press_list.append('한국일보')\n",
    "        date_list.append(date)\n",
    "        content_list.append(content)\n",
    "\n",
    "    # 꺼주고\n",
    "    # driver.quit()\n",
    "\n",
    "print(date_list)\n",
    "print(content_list)\n",
    "print(press_list)"
   ]
  },
  {
   "cell_type": "code",
   "execution_count": null,
   "id": "0fb617b9",
   "metadata": {
    "ExecuteTime": {
     "end_time": "2022-09-27T08:17:52.676319Z",
     "start_time": "2022-09-27T08:17:52.654386Z"
    },
    "scrolled": true
   },
   "outputs": [],
   "source": [
    "df = pd.DataFrame(list(zip(press_list, date_list, title_list, content_list)), columns = ['press', 'date', 'title', 'content'])\n",
    "\n",
    "df"
   ]
  },
  {
   "cell_type": "code",
   "execution_count": null,
   "id": "82aa58ab",
   "metadata": {
    "ExecuteTime": {
     "end_time": "2022-09-27T08:18:05.644474Z",
     "start_time": "2022-09-27T08:18:05.631231Z"
    }
   },
   "outputs": [],
   "source": [
    "df.to_csv('./kbank_donga.csv')"
   ]
  },
  {
   "cell_type": "code",
   "execution_count": null,
   "id": "39aaf3e7",
   "metadata": {},
   "outputs": [],
   "source": []
  }
 ],
 "metadata": {
  "kernelspec": {
   "display_name": "Python 3 (ipykernel)",
   "language": "python",
   "name": "python3"
  },
  "language_info": {
   "codemirror_mode": {
    "name": "ipython",
    "version": 3
   },
   "file_extension": ".py",
   "mimetype": "text/x-python",
   "name": "python",
   "nbconvert_exporter": "python",
   "pygments_lexer": "ipython3",
   "version": "3.8.13"
  },
  "toc": {
   "base_numbering": 1,
   "nav_menu": {},
   "number_sections": false,
   "sideBar": true,
   "skip_h1_title": false,
   "title_cell": "Table of Contents",
   "title_sidebar": "Contents",
   "toc_cell": false,
   "toc_position": {
    "height": "895px",
    "left": "69px",
    "top": "111.141px",
    "width": "165px"
   },
   "toc_section_display": true,
   "toc_window_display": false
  }
 },
 "nbformat": 4,
 "nbformat_minor": 5
}
